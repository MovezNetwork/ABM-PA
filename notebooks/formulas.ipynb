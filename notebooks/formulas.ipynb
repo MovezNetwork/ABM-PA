{
 "cells": [
  {
   "cell_type": "code",
   "execution_count": 1,
   "outputs": [],
   "source": [],
   "metadata": {
    "collapsed": false,
    "pycharm": {
     "name": "#%%\n"
    }
   }
  },
  {
   "cell_type": "markdown",
   "source": [
    "Edges in nominated network:\n",
    "\n",
    "$$w_{j,i} = \\frac{\\sum_{n=1}^k (q_n  nomination_{i,j})}{\\sum_{n=1}^k q_n} $$\n",
    "\n",
    "$$w(i,j) = \\frac{\\sum_{n=1}^q (nomination(j,i)_{n})}{q} $$\n",
    "\n",
    "\n",
    "$$q$$ = question (with weight 0 or 1)\n",
    "\n",
    "Edges in communication network:\n",
    "\n",
    "varation of messages between and within class c\n",
    "\n",
    "$$w_{j,i} = \\frac{\\sum_{n=1}^k (m_{n} nomination_{i,j})}{max( m_{n,c})} $$\n",
    "\n",
    "$$w(i,j)_c = \\frac{\\sum_{n=1}^m (nomination(j,i)_{n})}{max(m_c)} $$\n",
    "\n",
    "\n",
    "\n",
    "$$m$$ = messages received from i"
   ],
   "metadata": {
    "collapsed": false
   }
  },
  {
   "cell_type": "code",
   "execution_count": null,
   "outputs": [],
   "source": [],
   "metadata": {
    "collapsed": false,
    "pycharm": {
     "name": "#%%\n"
    }
   }
  }
 ],
 "metadata": {
  "kernelspec": {
   "display_name": "Python 3",
   "language": "python",
   "name": "python3"
  },
  "language_info": {
   "codemirror_mode": {
    "name": "ipython",
    "version": 2
   },
   "file_extension": ".py",
   "mimetype": "text/x-python",
   "name": "python",
   "nbconvert_exporter": "python",
   "pygments_lexer": "ipython2",
   "version": "2.7.6"
  }
 },
 "nbformat": 4,
 "nbformat_minor": 0
}