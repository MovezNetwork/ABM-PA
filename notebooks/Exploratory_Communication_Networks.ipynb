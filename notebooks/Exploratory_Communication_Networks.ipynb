{
 "cells": [
  {
   "cell_type": "code",
   "execution_count": 1,
   "id": "871c3db8-0e65-410e-a594-1bf550133060",
   "metadata": {},
   "outputs": [],
   "source": [
    "import pandas as pd\n",
    "import numpy as np\n",
    "import json\n",
    "import networkx as nx"
   ]
  },
  {
   "cell_type": "code",
   "execution_count": 2,
   "id": "c6d18811-7c84-4576-a3d2-a1f3cc61a699",
   "metadata": {},
   "outputs": [],
   "source": [
    "try:\n",
    "    input_args = json.loads(open('../input/simulation.json').read())\n",
    "except Exception as ex:\n",
    "    print('simulation.json does not exist!')\n",
    "    print(ex)"
   ]
  },
  {
   "cell_type": "code",
   "execution_count": 14,
   "id": "c532660a-86d6-4ebe-929a-44761064e429",
   "metadata": {},
   "outputs": [],
   "source": [
    "# change the path for other waves of data - also adapt the bins of the histograms (the maximum values and ranges)\n",
    "primary_school = '../data/Buzz_W5_primary-schools.csv'\n",
    "secondary_school = '../data/Buzz_W5_secondary-schools.csv'"
   ]
  },
  {
   "cell_type": "code",
   "execution_count": 15,
   "id": "fe004aef-43dd-4926-af32-beee06286d9e",
   "metadata": {},
   "outputs": [
    {
     "name": "stderr",
     "output_type": "stream",
     "text": [
      "/Users/bojansimoski/anaconda3/envs/ABM-PA/lib/python3.9/site-packages/IPython/core/interactiveshell.py:3165: DtypeWarning: Columns (22) have mixed types.Specify dtype option on import or set low_memory=False.\n",
      "  has_raised = await self.run_ast_nodes(code_ast.body, cell_name,\n"
     ]
    },
    {
     "data": {
      "text/plain": [
       "(174524, 30)"
      ]
     },
     "execution_count": 15,
     "metadata": {},
     "output_type": "execute_result"
    }
   ],
   "source": [
    "df_comm = pd.read_csv(primary_school, sep=';', header=0)\n",
    "df_comm = df_comm.append(pd.read_csv(secondary_school, sep=';', header=0))\n",
    "df_comm.shape"
   ]
  },
  {
   "cell_type": "code",
   "execution_count": 16,
   "id": "78be7d80-bcab-4a45-ba1b-4d7a4f2be9d6",
   "metadata": {},
   "outputs": [],
   "source": [
    "#surpress the scientific notation format that's shown by default\n",
    "pd.set_option('display.float_format', lambda x: '%.2f' % x)"
   ]
  },
  {
   "cell_type": "code",
   "execution_count": 17,
   "id": "eb4f01d4-6d15-4329-84bc-9071d9a67c6e",
   "metadata": {},
   "outputs": [
    {
     "data": {
      "text/plain": [
       "(array([103.,  nan, 250., 251., 296., 297.,  82., 308., 135., 131., 133.,\n",
       "        134., 100., 300., 301., 124., 298., 299., 303., 141., 125., 290.,\n",
       "        291.,  73.,  74.,  81., 272., 273.,  78., 292.,  86., 261., 262.,\n",
       "        263., 302., 279., 277., 256., 258., 259., 310., 304., 305., 306.,\n",
       "        307.,  66.]),\n",
       " 45)"
      ]
     },
     "execution_count": 17,
     "metadata": {},
     "output_type": "execute_result"
    }
   ],
   "source": [
    "df_comm.Class.unique(),df_comm.Class.nunique()"
   ]
  },
  {
   "cell_type": "markdown",
   "id": "f4e6eccf-94a3-4579-8215-d1af93e090eb",
   "metadata": {},
   "source": [
    "###### comment out if you want to see only data from selected classes"
   ]
  },
  {
   "cell_type": "code",
   "execution_count": 18,
   "id": "c7da5a33-021e-4b77-ac64-089797b9f626",
   "metadata": {},
   "outputs": [],
   "source": [
    "df_comm = df_comm[df_comm.Class.isin(input_args[\"classes\"])]\n",
    "df_comm = df_comm[df_comm.Child.isin(input_args[\"participants\"])]"
   ]
  },
  {
   "cell_type": "code",
   "execution_count": 19,
   "id": "c4d129c9-5483-450f-9e58-cfb027493f79",
   "metadata": {},
   "outputs": [
    {
     "data": {
      "text/plain": [
       "(408, 460)"
      ]
     },
     "execution_count": 19,
     "metadata": {},
     "output_type": "execute_result"
    }
   ],
   "source": [
    "df_comm['Child'].nunique(),df_comm['RecipientChild'].nunique()"
   ]
  },
  {
   "cell_type": "code",
   "execution_count": 20,
   "id": "e0c9e851-2547-4521-83a7-0de8458322cf",
   "metadata": {},
   "outputs": [
    {
     "data": {
      "text/plain": [
       "Index(['Participant', 'School', 'Class', 'Child', 'Gender', 'Age', 'PI',\n",
       "       'Date', 'Time', 'UMID', 'Format_text', 'Format_Media', 'Type',\n",
       "       'RecipientChild', 'ClassReceive', 'Content', 'Media', 'ReactionInto',\n",
       "       'Flagged', 'PostedWhileBanned', 'ShareSource', 'SharedVia',\n",
       "       'Number_likes', 'Unnamed: 23', 'Unnamed: 24', 'Unnamed: 25',\n",
       "       'Unnamed: 26', 'Unnamed: 27', 'Unnamed: 28', 'Unnamed: 29'],\n",
       "      dtype='object')"
      ]
     },
     "execution_count": 20,
     "metadata": {},
     "output_type": "execute_result"
    }
   ],
   "source": [
    "df_comm.columns"
   ]
  },
  {
   "cell_type": "code",
   "execution_count": 21,
   "id": "3999cf0a-f3cd-4bbb-8554-76a5783446c9",
   "metadata": {},
   "outputs": [
    {
     "data": {
      "text/plain": [
       "Type\n",
       "group      29731\n",
       "my         26051\n",
       "mymovez     1397\n",
       "Name: Type, dtype: int64"
      ]
     },
     "execution_count": 21,
     "metadata": {},
     "output_type": "execute_result"
    }
   ],
   "source": [
    "df_comm.groupby([\"Type\"])['Type'].count()"
   ]
  },
  {
   "cell_type": "code",
   "execution_count": 22,
   "id": "afb8ecb2-89d5-489f-88d6-8d2398119c8e",
   "metadata": {},
   "outputs": [
    {
     "data": {
      "text/plain": [
       "(29731, 30)"
      ]
     },
     "execution_count": 22,
     "metadata": {},
     "output_type": "execute_result"
    }
   ],
   "source": [
    "df_comm_group = df_comm[df_comm.Type==\"group\"]\n",
    "df_comm_group.shape"
   ]
  },
  {
   "cell_type": "code",
   "execution_count": 23,
   "id": "682e1af1-0391-45fc-b7e1-ed874f17fd4e",
   "metadata": {},
   "outputs": [
    {
     "data": {
      "text/plain": [
       "(26051, 30)"
      ]
     },
     "execution_count": 23,
     "metadata": {},
     "output_type": "execute_result"
    }
   ],
   "source": [
    "df_comm_ind = df_comm[df_comm.Type==\"my\"]\n",
    "df_comm_ind.shape"
   ]
  },
  {
   "cell_type": "code",
   "execution_count": 24,
   "id": "275c181f-c7b9-4ea4-8995-066a1395f72a",
   "metadata": {},
   "outputs": [
    {
     "data": {
      "text/plain": [
       "(408, 408, 460)"
      ]
     },
     "execution_count": 24,
     "metadata": {},
     "output_type": "execute_result"
    }
   ],
   "source": [
    "df_comm.Participant.nunique(),df_comm.Child.nunique(),df_comm.RecipientChild.nunique()"
   ]
  },
  {
   "cell_type": "code",
   "execution_count": 25,
   "id": "55b056eb-7b04-426a-865e-f09c04336c42",
   "metadata": {},
   "outputs": [
    {
     "data": {
      "text/plain": [
       "408"
      ]
     },
     "execution_count": 25,
     "metadata": {},
     "output_type": "execute_result"
    }
   ],
   "source": [
    "df_comm = df_comm.astype({'Child': 'int32'})\n",
    "df_comm = df_comm.astype({'Class': 'int32'})\n",
    "df_comm = df_comm.astype({'Participant': 'float64'})\n",
    "\n",
    "\n",
    "\n",
    "df_participants = df_comm.groupby(['Class','Participant','Child'])['UMID'].count().reset_index()\n",
    "df_participants = df_participants[['Class','Participant','Child']]\n",
    "df_participants['Participant'].nunique()"
   ]
  },
  {
   "cell_type": "code",
   "execution_count": 26,
   "id": "e87d9202-e78c-4e3b-97a0-c626e7ca37d6",
   "metadata": {},
   "outputs": [
    {
     "data": {
      "text/plain": [
       "(dtype('float64'), dtype('float64'))"
      ]
     },
     "execution_count": 26,
     "metadata": {},
     "output_type": "execute_result"
    }
   ],
   "source": [
    "df_comm.Participant.dtype,df_comm.RecipientChild.dtype,"
   ]
  },
  {
   "cell_type": "code",
   "execution_count": 27,
   "id": "4ea402f8-41e7-46d0-8d1a-4dd6ba614cc6",
   "metadata": {},
   "outputs": [
    {
     "data": {
      "text/plain": [
       "9502            <NA>\n",
       "9503            <NA>\n",
       "9504            <NA>\n",
       "9505    5629600000.0\n",
       "9506    5629600000.0\n",
       "            ...     \n",
       "7879    5425805075.0\n",
       "7880    5425805075.0\n",
       "7881    5425805075.0\n",
       "7882    5425805075.0\n",
       "7883    5425805075.0\n",
       "Name: RecipientChild, Length: 57179, dtype: string"
      ]
     },
     "execution_count": 27,
     "metadata": {},
     "output_type": "execute_result"
    }
   ],
   "source": [
    "df_comm = df_comm.astype({'RecipientChild': 'string'})\n",
    "\n",
    "\n",
    "df_comm['RecipientChild']"
   ]
  },
  {
   "cell_type": "code",
   "execution_count": 28,
   "id": "188806b5-0ef2-4099-8e25-05abd1f258d7",
   "metadata": {},
   "outputs": [
    {
     "data": {
      "text/html": [
       "<div>\n",
       "<style scoped>\n",
       "    .dataframe tbody tr th:only-of-type {\n",
       "        vertical-align: middle;\n",
       "    }\n",
       "\n",
       "    .dataframe tbody tr th {\n",
       "        vertical-align: top;\n",
       "    }\n",
       "\n",
       "    .dataframe thead th {\n",
       "        text-align: right;\n",
       "    }\n",
       "</style>\n",
       "<table border=\"1\" class=\"dataframe\">\n",
       "  <thead>\n",
       "    <tr style=\"text-align: right;\">\n",
       "      <th></th>\n",
       "      <th>Class</th>\n",
       "      <th>Participant</th>\n",
       "      <th>Child</th>\n",
       "    </tr>\n",
       "  </thead>\n",
       "  <tbody>\n",
       "    <tr>\n",
       "      <th>0</th>\n",
       "      <td>78</td>\n",
       "      <td>2807801633.00</td>\n",
       "      <td>1633</td>\n",
       "    </tr>\n",
       "    <tr>\n",
       "      <th>1</th>\n",
       "      <td>78</td>\n",
       "      <td>2807801636.00</td>\n",
       "      <td>1636</td>\n",
       "    </tr>\n",
       "    <tr>\n",
       "      <th>2</th>\n",
       "      <td>78</td>\n",
       "      <td>2807801637.00</td>\n",
       "      <td>1637</td>\n",
       "    </tr>\n",
       "    <tr>\n",
       "      <th>3</th>\n",
       "      <td>78</td>\n",
       "      <td>2807801639.00</td>\n",
       "      <td>1639</td>\n",
       "    </tr>\n",
       "    <tr>\n",
       "      <th>4</th>\n",
       "      <td>78</td>\n",
       "      <td>2807801640.00</td>\n",
       "      <td>1640</td>\n",
       "    </tr>\n",
       "    <tr>\n",
       "      <th>...</th>\n",
       "      <td>...</td>\n",
       "      <td>...</td>\n",
       "      <td>...</td>\n",
       "    </tr>\n",
       "    <tr>\n",
       "      <th>403</th>\n",
       "      <td>303</td>\n",
       "      <td>5830306085.00</td>\n",
       "      <td>6085</td>\n",
       "    </tr>\n",
       "    <tr>\n",
       "      <th>404</th>\n",
       "      <td>303</td>\n",
       "      <td>5830306086.00</td>\n",
       "      <td>6086</td>\n",
       "    </tr>\n",
       "    <tr>\n",
       "      <th>405</th>\n",
       "      <td>303</td>\n",
       "      <td>5830306088.00</td>\n",
       "      <td>6088</td>\n",
       "    </tr>\n",
       "    <tr>\n",
       "      <th>406</th>\n",
       "      <td>303</td>\n",
       "      <td>5830306089.00</td>\n",
       "      <td>6089</td>\n",
       "    </tr>\n",
       "    <tr>\n",
       "      <th>407</th>\n",
       "      <td>303</td>\n",
       "      <td>5830306090.00</td>\n",
       "      <td>6090</td>\n",
       "    </tr>\n",
       "  </tbody>\n",
       "</table>\n",
       "<p>408 rows × 3 columns</p>\n",
       "</div>"
      ],
      "text/plain": [
       "     Class   Participant  Child\n",
       "0       78 2807801633.00   1633\n",
       "1       78 2807801636.00   1636\n",
       "2       78 2807801637.00   1637\n",
       "3       78 2807801639.00   1639\n",
       "4       78 2807801640.00   1640\n",
       "..     ...           ...    ...\n",
       "403    303 5830306085.00   6085\n",
       "404    303 5830306086.00   6086\n",
       "405    303 5830306088.00   6088\n",
       "406    303 5830306089.00   6089\n",
       "407    303 5830306090.00   6090\n",
       "\n",
       "[408 rows x 3 columns]"
      ]
     },
     "execution_count": 28,
     "metadata": {},
     "output_type": "execute_result"
    }
   ],
   "source": [
    "df_participants"
   ]
  },
  {
   "cell_type": "code",
   "execution_count": 29,
   "id": "8a92ad46-0ed7-4fd0-a611-bfd324addad0",
   "metadata": {},
   "outputs": [
    {
     "data": {
      "text/plain": [
       "Class            int64\n",
       "Participant    float64\n",
       "Child            int64\n",
       "dtype: object"
      ]
     },
     "execution_count": 29,
     "metadata": {},
     "output_type": "execute_result"
    }
   ],
   "source": [
    "df_participants.dtypes"
   ]
  },
  {
   "cell_type": "code",
   "execution_count": 31,
   "id": "c9b91e68-52ca-4f89-b945-b4ad1f20d55e",
   "metadata": {},
   "outputs": [
    {
     "data": {
      "text/plain": [
       "(dtype('float64'), StringDtype)"
      ]
     },
     "execution_count": 31,
     "metadata": {},
     "output_type": "execute_result"
    }
   ],
   "source": [
    "df_participants['Participant'].dtype,df_comm['RecipientChild'].dtype"
   ]
  },
  {
   "cell_type": "markdown",
   "id": "a46a148c-f7d4-41ce-8586-db388528a7f0",
   "metadata": {},
   "source": [
    "### Messages exchanged between individuals"
   ]
  },
  {
   "cell_type": "code",
   "execution_count": 96,
   "id": "d575e530-2e2f-4618-b25a-c8da436743f0",
   "metadata": {},
   "outputs": [
    {
     "data": {
      "text/html": [
       "<div>\n",
       "<style scoped>\n",
       "    .dataframe tbody tr th:only-of-type {\n",
       "        vertical-align: middle;\n",
       "    }\n",
       "\n",
       "    .dataframe tbody tr th {\n",
       "        vertical-align: top;\n",
       "    }\n",
       "\n",
       "    .dataframe thead th {\n",
       "        text-align: right;\n",
       "    }\n",
       "</style>\n",
       "<table border=\"1\" class=\"dataframe\">\n",
       "  <thead>\n",
       "    <tr style=\"text-align: right;\">\n",
       "      <th></th>\n",
       "      <th>Class</th>\n",
       "      <th>UMID</th>\n",
       "    </tr>\n",
       "  </thead>\n",
       "  <tbody>\n",
       "    <tr>\n",
       "      <th>0</th>\n",
       "      <td>78.00</td>\n",
       "      <td>241</td>\n",
       "    </tr>\n",
       "    <tr>\n",
       "      <th>1</th>\n",
       "      <td>81.00</td>\n",
       "      <td>159</td>\n",
       "    </tr>\n",
       "    <tr>\n",
       "      <th>2</th>\n",
       "      <td>100.00</td>\n",
       "      <td>581</td>\n",
       "    </tr>\n",
       "    <tr>\n",
       "      <th>3</th>\n",
       "      <td>124.00</td>\n",
       "      <td>363</td>\n",
       "    </tr>\n",
       "    <tr>\n",
       "      <th>4</th>\n",
       "      <td>125.00</td>\n",
       "      <td>565</td>\n",
       "    </tr>\n",
       "    <tr>\n",
       "      <th>5</th>\n",
       "      <td>256.00</td>\n",
       "      <td>281</td>\n",
       "    </tr>\n",
       "    <tr>\n",
       "      <th>6</th>\n",
       "      <td>258.00</td>\n",
       "      <td>188</td>\n",
       "    </tr>\n",
       "    <tr>\n",
       "      <th>7</th>\n",
       "      <td>261.00</td>\n",
       "      <td>448</td>\n",
       "    </tr>\n",
       "    <tr>\n",
       "      <th>8</th>\n",
       "      <td>262.00</td>\n",
       "      <td>263</td>\n",
       "    </tr>\n",
       "    <tr>\n",
       "      <th>9</th>\n",
       "      <td>263.00</td>\n",
       "      <td>1013</td>\n",
       "    </tr>\n",
       "    <tr>\n",
       "      <th>10</th>\n",
       "      <td>272.00</td>\n",
       "      <td>2448</td>\n",
       "    </tr>\n",
       "    <tr>\n",
       "      <th>11</th>\n",
       "      <td>273.00</td>\n",
       "      <td>1155</td>\n",
       "    </tr>\n",
       "    <tr>\n",
       "      <th>12</th>\n",
       "      <td>292.00</td>\n",
       "      <td>2168</td>\n",
       "    </tr>\n",
       "    <tr>\n",
       "      <th>13</th>\n",
       "      <td>296.00</td>\n",
       "      <td>1117</td>\n",
       "    </tr>\n",
       "    <tr>\n",
       "      <th>14</th>\n",
       "      <td>297.00</td>\n",
       "      <td>392</td>\n",
       "    </tr>\n",
       "    <tr>\n",
       "      <th>15</th>\n",
       "      <td>298.00</td>\n",
       "      <td>5301</td>\n",
       "    </tr>\n",
       "    <tr>\n",
       "      <th>16</th>\n",
       "      <td>299.00</td>\n",
       "      <td>2363</td>\n",
       "    </tr>\n",
       "    <tr>\n",
       "      <th>17</th>\n",
       "      <td>300.00</td>\n",
       "      <td>612</td>\n",
       "    </tr>\n",
       "    <tr>\n",
       "      <th>18</th>\n",
       "      <td>301.00</td>\n",
       "      <td>2525</td>\n",
       "    </tr>\n",
       "    <tr>\n",
       "      <th>19</th>\n",
       "      <td>302.00</td>\n",
       "      <td>731</td>\n",
       "    </tr>\n",
       "    <tr>\n",
       "      <th>20</th>\n",
       "      <td>303.00</td>\n",
       "      <td>3137</td>\n",
       "    </tr>\n",
       "  </tbody>\n",
       "</table>\n",
       "</div>"
      ],
      "text/plain": [
       "    Class  UMID\n",
       "0   78.00   241\n",
       "1   81.00   159\n",
       "2  100.00   581\n",
       "3  124.00   363\n",
       "4  125.00   565\n",
       "5  256.00   281\n",
       "6  258.00   188\n",
       "7  261.00   448\n",
       "8  262.00   263\n",
       "9  263.00  1013\n",
       "10 272.00  2448\n",
       "11 273.00  1155\n",
       "12 292.00  2168\n",
       "13 296.00  1117\n",
       "14 297.00   392\n",
       "15 298.00  5301\n",
       "16 299.00  2363\n",
       "17 300.00   612\n",
       "18 301.00  2525\n",
       "19 302.00   731\n",
       "20 303.00  3137"
      ]
     },
     "execution_count": 96,
     "metadata": {},
     "output_type": "execute_result"
    }
   ],
   "source": [
    "text_per_class = df_comm_ind.groupby('Class')['UMID'].count().reset_index()\n",
    "text_per_class"
   ]
  },
  {
   "cell_type": "code",
   "execution_count": 95,
   "id": "24e7b8a4-08f7-4428-9b9d-bdc22efcc664",
   "metadata": {},
   "outputs": [
    {
     "data": {
      "text/html": [
       "<div>\n",
       "<style scoped>\n",
       "    .dataframe tbody tr th:only-of-type {\n",
       "        vertical-align: middle;\n",
       "    }\n",
       "\n",
       "    .dataframe tbody tr th {\n",
       "        vertical-align: top;\n",
       "    }\n",
       "\n",
       "    .dataframe thead th {\n",
       "        text-align: right;\n",
       "    }\n",
       "</style>\n",
       "<table border=\"1\" class=\"dataframe\">\n",
       "  <thead>\n",
       "    <tr style=\"text-align: right;\">\n",
       "      <th></th>\n",
       "      <th>Class</th>\n",
       "      <th>UMID</th>\n",
       "    </tr>\n",
       "  </thead>\n",
       "  <tbody>\n",
       "    <tr>\n",
       "      <th>count</th>\n",
       "      <td>21.00</td>\n",
       "      <td>21.00</td>\n",
       "    </tr>\n",
       "    <tr>\n",
       "      <th>mean</th>\n",
       "      <td>240.05</td>\n",
       "      <td>1240.52</td>\n",
       "    </tr>\n",
       "    <tr>\n",
       "      <th>std</th>\n",
       "      <td>81.55</td>\n",
       "      <td>1307.73</td>\n",
       "    </tr>\n",
       "    <tr>\n",
       "      <th>min</th>\n",
       "      <td>78.00</td>\n",
       "      <td>159.00</td>\n",
       "    </tr>\n",
       "    <tr>\n",
       "      <th>25%</th>\n",
       "      <td>256.00</td>\n",
       "      <td>363.00</td>\n",
       "    </tr>\n",
       "    <tr>\n",
       "      <th>50%</th>\n",
       "      <td>272.00</td>\n",
       "      <td>612.00</td>\n",
       "    </tr>\n",
       "    <tr>\n",
       "      <th>75%</th>\n",
       "      <td>298.00</td>\n",
       "      <td>2168.00</td>\n",
       "    </tr>\n",
       "    <tr>\n",
       "      <th>max</th>\n",
       "      <td>303.00</td>\n",
       "      <td>5301.00</td>\n",
       "    </tr>\n",
       "  </tbody>\n",
       "</table>\n",
       "</div>"
      ],
      "text/plain": [
       "       Class    UMID\n",
       "count  21.00   21.00\n",
       "mean  240.05 1240.52\n",
       "std    81.55 1307.73\n",
       "min    78.00  159.00\n",
       "25%   256.00  363.00\n",
       "50%   272.00  612.00\n",
       "75%   298.00 2168.00\n",
       "max   303.00 5301.00"
      ]
     },
     "execution_count": 95,
     "metadata": {},
     "output_type": "execute_result"
    }
   ],
   "source": [
    "text_per_class.describe()"
   ]
  },
  {
   "cell_type": "code",
   "execution_count": 55,
   "id": "28cdfa20-ff10-4660-afcf-6bb87f49b490",
   "metadata": {},
   "outputs": [
    {
     "data": {
      "text/plain": [
       "(21, 408, 439)"
      ]
     },
     "execution_count": 55,
     "metadata": {},
     "output_type": "execute_result"
    }
   ],
   "source": [
    "df_comm_ind['Class'].nunique(),df_comm_ind['Child'].nunique(),df_comm_ind['RecipientChild'].nunique()"
   ]
  },
  {
   "cell_type": "code",
   "execution_count": 56,
   "id": "ba4f713b-1924-4522-b44f-1898ba615d6e",
   "metadata": {},
   "outputs": [
    {
     "data": {
      "text/plain": [
       "Class\n",
       "78.00     18\n",
       "81.00     19\n",
       "100.00    19\n",
       "124.00    17\n",
       "125.00    16\n",
       "256.00    22\n",
       "258.00    16\n",
       "261.00    17\n",
       "262.00    15\n",
       "263.00    20\n",
       "272.00    24\n",
       "273.00    24\n",
       "292.00    21\n",
       "296.00    17\n",
       "297.00    16\n",
       "298.00    21\n",
       "299.00    19\n",
       "300.00    19\n",
       "301.00    24\n",
       "302.00    19\n",
       "303.00    25\n",
       "Name: Child, dtype: int64"
      ]
     },
     "execution_count": 56,
     "metadata": {},
     "output_type": "execute_result"
    }
   ],
   "source": [
    "df_comm_ind.groupby([\"Class\"])[\"Child\"].nunique()"
   ]
  },
  {
   "cell_type": "code",
   "execution_count": 57,
   "id": "5adebab4-b455-4b3f-8779-40ade632094a",
   "metadata": {},
   "outputs": [
    {
     "data": {
      "text/html": [
       "<div>\n",
       "<style scoped>\n",
       "    .dataframe tbody tr th:only-of-type {\n",
       "        vertical-align: middle;\n",
       "    }\n",
       "\n",
       "    .dataframe tbody tr th {\n",
       "        vertical-align: top;\n",
       "    }\n",
       "\n",
       "    .dataframe thead th {\n",
       "        text-align: right;\n",
       "    }\n",
       "</style>\n",
       "<table border=\"1\" class=\"dataframe\">\n",
       "  <thead>\n",
       "    <tr style=\"text-align: right;\">\n",
       "      <th></th>\n",
       "      <th>Child</th>\n",
       "      <th>UMID</th>\n",
       "    </tr>\n",
       "  </thead>\n",
       "  <tbody>\n",
       "    <tr>\n",
       "      <th>0</th>\n",
       "      <td>1605.00</td>\n",
       "      <td>5</td>\n",
       "    </tr>\n",
       "    <tr>\n",
       "      <th>1</th>\n",
       "      <td>1606.00</td>\n",
       "      <td>2</td>\n",
       "    </tr>\n",
       "    <tr>\n",
       "      <th>2</th>\n",
       "      <td>1607.00</td>\n",
       "      <td>10</td>\n",
       "    </tr>\n",
       "    <tr>\n",
       "      <th>3</th>\n",
       "      <td>1608.00</td>\n",
       "      <td>16</td>\n",
       "    </tr>\n",
       "    <tr>\n",
       "      <th>4</th>\n",
       "      <td>1609.00</td>\n",
       "      <td>1</td>\n",
       "    </tr>\n",
       "    <tr>\n",
       "      <th>...</th>\n",
       "      <td>...</td>\n",
       "      <td>...</td>\n",
       "    </tr>\n",
       "    <tr>\n",
       "      <th>403</th>\n",
       "      <td>6085.00</td>\n",
       "      <td>14</td>\n",
       "    </tr>\n",
       "    <tr>\n",
       "      <th>404</th>\n",
       "      <td>6086.00</td>\n",
       "      <td>13</td>\n",
       "    </tr>\n",
       "    <tr>\n",
       "      <th>405</th>\n",
       "      <td>6088.00</td>\n",
       "      <td>105</td>\n",
       "    </tr>\n",
       "    <tr>\n",
       "      <th>406</th>\n",
       "      <td>6089.00</td>\n",
       "      <td>24</td>\n",
       "    </tr>\n",
       "    <tr>\n",
       "      <th>407</th>\n",
       "      <td>6090.00</td>\n",
       "      <td>9</td>\n",
       "    </tr>\n",
       "  </tbody>\n",
       "</table>\n",
       "<p>408 rows × 2 columns</p>\n",
       "</div>"
      ],
      "text/plain": [
       "      Child  UMID\n",
       "0   1605.00     5\n",
       "1   1606.00     2\n",
       "2   1607.00    10\n",
       "3   1608.00    16\n",
       "4   1609.00     1\n",
       "..      ...   ...\n",
       "403 6085.00    14\n",
       "404 6086.00    13\n",
       "405 6088.00   105\n",
       "406 6089.00    24\n",
       "407 6090.00     9\n",
       "\n",
       "[408 rows x 2 columns]"
      ]
     },
     "execution_count": 57,
     "metadata": {},
     "output_type": "execute_result"
    }
   ],
   "source": [
    "df_messages_per_child = df_comm_ind.groupby(\"Child\")[\"UMID\"].count().reset_index()\n",
    "df_messages_per_child"
   ]
  },
  {
   "cell_type": "code",
   "execution_count": 58,
   "id": "ccd3393a-b394-4107-928e-5e10f9bf9278",
   "metadata": {},
   "outputs": [
    {
     "data": {
      "text/plain": [
       "count   408.00\n",
       "mean     63.85\n",
       "std     103.97\n",
       "min       1.00\n",
       "25%       9.00\n",
       "50%      23.50\n",
       "75%      69.50\n",
       "max     789.00\n",
       "Name: UMID, dtype: float64"
      ]
     },
     "execution_count": 58,
     "metadata": {},
     "output_type": "execute_result"
    }
   ],
   "source": [
    "df_messages_per_child['UMID'].describe()"
   ]
  },
  {
   "cell_type": "code",
   "execution_count": 60,
   "id": "0c06575a-992e-4fa9-b463-27869f7bc3cb",
   "metadata": {},
   "outputs": [
    {
     "data": {
      "image/png": "[encoded data removed]",
      "text/plain": [
       "<Figure size 1584x720 with 1 Axes>"
      ]
     },
     "metadata": {
      "needs_background": "light"
     },
     "output_type": "display_data"
    }
   ],
   "source": [
    "from matplotlib.pyplot import figure\n",
    "import matplotlib.pyplot as plt\n",
    "\n",
    "fig, ax = plt.subplots(1, 1)\n",
    "fig.set_size_inches(22, 10)\n",
    "bins = range(0,790,20)\n",
    "plt.xticks(bins)\n",
    "df_comm_ind.groupby(\"Child\")[\"UMID\"].count().plot.hist(bins=bins)\n",
    "ax.set_xlabel('Number of Sent Messages')\n",
    "ax.set_ylabel('Number of Participants')\n",
    "plt.show()"
   ]
  },
  {
   "cell_type": "code",
   "execution_count": 61,
   "id": "f427557c-4689-4843-bea4-0cd24d1f085f",
   "metadata": {},
   "outputs": [
    {
     "data": {
      "text/html": [
       "<div>\n",
       "<style scoped>\n",
       "    .dataframe tbody tr th:only-of-type {\n",
       "        vertical-align: middle;\n",
       "    }\n",
       "\n",
       "    .dataframe tbody tr th {\n",
       "        vertical-align: top;\n",
       "    }\n",
       "\n",
       "    .dataframe thead th {\n",
       "        text-align: right;\n",
       "    }\n",
       "</style>\n",
       "<table border=\"1\" class=\"dataframe\">\n",
       "  <thead>\n",
       "    <tr style=\"text-align: right;\">\n",
       "      <th></th>\n",
       "      <th>Participant</th>\n",
       "      <th>RecipientChild</th>\n",
       "      <th>NumberMessages</th>\n",
       "    </tr>\n",
       "  </thead>\n",
       "  <tbody>\n",
       "    <tr>\n",
       "      <th>0</th>\n",
       "      <td>2807801633</td>\n",
       "      <td>2807801641.00</td>\n",
       "      <td>1</td>\n",
       "    </tr>\n",
       "    <tr>\n",
       "      <th>1</th>\n",
       "      <td>2807801633</td>\n",
       "      <td>2807801644.00</td>\n",
       "      <td>2</td>\n",
       "    </tr>\n",
       "    <tr>\n",
       "      <th>2</th>\n",
       "      <td>2807801633</td>\n",
       "      <td>2807801645.00</td>\n",
       "      <td>3</td>\n",
       "    </tr>\n",
       "    <tr>\n",
       "      <th>3</th>\n",
       "      <td>2807801633</td>\n",
       "      <td>2807801649.00</td>\n",
       "      <td>1</td>\n",
       "    </tr>\n",
       "    <tr>\n",
       "      <th>4</th>\n",
       "      <td>2807801633</td>\n",
       "      <td>2807801655.00</td>\n",
       "      <td>3</td>\n",
       "    </tr>\n",
       "    <tr>\n",
       "      <th>...</th>\n",
       "      <td>...</td>\n",
       "      <td>...</td>\n",
       "      <td>...</td>\n",
       "    </tr>\n",
       "    <tr>\n",
       "      <th>3230</th>\n",
       "      <td>5830306089</td>\n",
       "      <td>5830306088.00</td>\n",
       "      <td>11</td>\n",
       "    </tr>\n",
       "    <tr>\n",
       "      <th>3231</th>\n",
       "      <td>5830306090</td>\n",
       "      <td>5830306063.00</td>\n",
       "      <td>3</td>\n",
       "    </tr>\n",
       "    <tr>\n",
       "      <th>3232</th>\n",
       "      <td>5830306090</td>\n",
       "      <td>5830306068.00</td>\n",
       "      <td>2</td>\n",
       "    </tr>\n",
       "    <tr>\n",
       "      <th>3233</th>\n",
       "      <td>5830306090</td>\n",
       "      <td>5830306077.00</td>\n",
       "      <td>3</td>\n",
       "    </tr>\n",
       "    <tr>\n",
       "      <th>3234</th>\n",
       "      <td>5830306090</td>\n",
       "      <td>5830306081.00</td>\n",
       "      <td>1</td>\n",
       "    </tr>\n",
       "  </tbody>\n",
       "</table>\n",
       "<p>3235 rows × 3 columns</p>\n",
       "</div>"
      ],
      "text/plain": [
       "     Participant  RecipientChild  NumberMessages\n",
       "0     2807801633   2807801641.00               1\n",
       "1     2807801633   2807801644.00               2\n",
       "2     2807801633   2807801645.00               3\n",
       "3     2807801633   2807801649.00               1\n",
       "4     2807801633   2807801655.00               3\n",
       "...          ...             ...             ...\n",
       "3230  5830306089   5830306088.00              11\n",
       "3231  5830306090   5830306063.00               3\n",
       "3232  5830306090   5830306068.00               2\n",
       "3233  5830306090   5830306077.00               3\n",
       "3234  5830306090   5830306081.00               1\n",
       "\n",
       "[3235 rows x 3 columns]"
      ]
     },
     "execution_count": 61,
     "metadata": {},
     "output_type": "execute_result"
    }
   ],
   "source": [
    "pairs_freq = df_comm_ind.groupby([\"Participant\",\"RecipientChild\"])[\"UMID\"].count().reset_index(name='NumberMessages')\n",
    "pairs_freq"
   ]
  },
  {
   "cell_type": "code",
   "execution_count": 62,
   "id": "75e7f58a-3b36-4d8f-b481-4aa3db149d2f",
   "metadata": {},
   "outputs": [],
   "source": [
    "pairs_freq = pairs_freq.astype({'Participant': 'float64'})"
   ]
  },
  {
   "cell_type": "code",
   "execution_count": 63,
   "id": "065c8f45-708b-4cee-b461-cf50d1cfa5ad",
   "metadata": {
    "tags": []
   },
   "outputs": [
    {
     "data": {
      "text/html": [
       "<div>\n",
       "<style scoped>\n",
       "    .dataframe tbody tr th:only-of-type {\n",
       "        vertical-align: middle;\n",
       "    }\n",
       "\n",
       "    .dataframe tbody tr th {\n",
       "        vertical-align: top;\n",
       "    }\n",
       "\n",
       "    .dataframe thead th {\n",
       "        text-align: right;\n",
       "    }\n",
       "</style>\n",
       "<table border=\"1\" class=\"dataframe\">\n",
       "  <thead>\n",
       "    <tr style=\"text-align: right;\">\n",
       "      <th></th>\n",
       "      <th>P1</th>\n",
       "      <th>P2</th>\n",
       "      <th>NumMes</th>\n",
       "    </tr>\n",
       "  </thead>\n",
       "  <tbody>\n",
       "    <tr>\n",
       "      <th>0</th>\n",
       "      <td>2807801633.00</td>\n",
       "      <td>2807801641.00</td>\n",
       "      <td>1.00</td>\n",
       "    </tr>\n",
       "    <tr>\n",
       "      <th>1</th>\n",
       "      <td>2807801633.00</td>\n",
       "      <td>2807801644.00</td>\n",
       "      <td>2.00</td>\n",
       "    </tr>\n",
       "    <tr>\n",
       "      <th>2</th>\n",
       "      <td>2807801633.00</td>\n",
       "      <td>2807801645.00</td>\n",
       "      <td>7.00</td>\n",
       "    </tr>\n",
       "    <tr>\n",
       "      <th>3</th>\n",
       "      <td>2807801633.00</td>\n",
       "      <td>2807801649.00</td>\n",
       "      <td>1.00</td>\n",
       "    </tr>\n",
       "    <tr>\n",
       "      <th>4</th>\n",
       "      <td>2807801633.00</td>\n",
       "      <td>2807801655.00</td>\n",
       "      <td>3.00</td>\n",
       "    </tr>\n",
       "    <tr>\n",
       "      <th>...</th>\n",
       "      <td>...</td>\n",
       "      <td>...</td>\n",
       "      <td>...</td>\n",
       "    </tr>\n",
       "    <tr>\n",
       "      <th>1968</th>\n",
       "      <td>5830306086.00</td>\n",
       "      <td>5830306062.00</td>\n",
       "      <td>4.00</td>\n",
       "    </tr>\n",
       "    <tr>\n",
       "      <th>1969</th>\n",
       "      <td>5830306086.00</td>\n",
       "      <td>5830306079.00</td>\n",
       "      <td>1.00</td>\n",
       "    </tr>\n",
       "    <tr>\n",
       "      <th>1970</th>\n",
       "      <td>5830306088.00</td>\n",
       "      <td>5830306060.00</td>\n",
       "      <td>2.00</td>\n",
       "    </tr>\n",
       "    <tr>\n",
       "      <th>1971</th>\n",
       "      <td>5830306088.00</td>\n",
       "      <td>5830306089.00</td>\n",
       "      <td>23.00</td>\n",
       "    </tr>\n",
       "    <tr>\n",
       "      <th>1972</th>\n",
       "      <td>5830306089.00</td>\n",
       "      <td>5830306070.00</td>\n",
       "      <td>1.00</td>\n",
       "    </tr>\n",
       "  </tbody>\n",
       "</table>\n",
       "<p>1973 rows × 3 columns</p>\n",
       "</div>"
      ],
      "text/plain": [
       "                P1            P2  NumMes\n",
       "0    2807801633.00 2807801641.00    1.00\n",
       "1    2807801633.00 2807801644.00    2.00\n",
       "2    2807801633.00 2807801645.00    7.00\n",
       "3    2807801633.00 2807801649.00    1.00\n",
       "4    2807801633.00 2807801655.00    3.00\n",
       "...            ...           ...     ...\n",
       "1968 5830306086.00 5830306062.00    4.00\n",
       "1969 5830306086.00 5830306079.00    1.00\n",
       "1970 5830306088.00 5830306060.00    2.00\n",
       "1971 5830306088.00 5830306089.00   23.00\n",
       "1972 5830306089.00 5830306070.00    1.00\n",
       "\n",
       "[1973 rows x 3 columns]"
      ]
     },
     "execution_count": 63,
     "metadata": {},
     "output_type": "execute_result"
    }
   ],
   "source": [
    "pairs = []\n",
    "values = []\n",
    "exchanged_messages = []\n",
    "for line in pairs_freq[[\"Participant\",\"RecipientChild\", \"NumberMessages\"]].iterrows():\n",
    "    (p1, p2, var) = line[1]\n",
    "    if(p1, p2) not in pairs and (p2, p1) not in pairs:\n",
    "        pairs.append((p1,p2))\n",
    "        values.append((var))\n",
    "\n",
    "    elif (p2, p1) in pairs:\n",
    "        # get the index of this pair and update in the values of the same index\n",
    "        ind = pairs.index((p2,p1))\n",
    "        values[ind] = (values[ind] + var)\n",
    "\n",
    "# print('found pairs',pairs)\n",
    "# print('found values',values)\n",
    "\n",
    "\n",
    "count = 0\n",
    "for line in pairs:\n",
    "    (pp1, pp2) = line\n",
    "    exchanged_messages.append((pp1,pp2,values[count]))\n",
    "    count = count + 1\n",
    "\n",
    "exchanged_messages = pd.DataFrame(exchanged_messages, columns = [\"P1\", \"P2\", \"NumMes\"])\n",
    "exchanged_messages"
   ]
  },
  {
   "cell_type": "code",
   "execution_count": 67,
   "id": "ac5d209e-af09-42f3-b2c3-7c2a3eecfeed",
   "metadata": {},
   "outputs": [
    {
     "data": {
      "text/plain": [
       "count   1973.00\n",
       "mean      13.20\n",
       "std       38.21\n",
       "min        1.00\n",
       "25%        2.00\n",
       "50%        4.00\n",
       "75%       10.00\n",
       "max      637.00\n",
       "Name: NumMes, dtype: float64"
      ]
     },
     "execution_count": 67,
     "metadata": {},
     "output_type": "execute_result"
    }
   ],
   "source": [
    "exchanged_messages['NumMes'].describe()"
   ]
  },
  {
   "cell_type": "code",
   "execution_count": 105,
   "id": "ed40796e-2d7b-4af0-b0c4-225d9ed5e927",
   "metadata": {},
   "outputs": [
    {
     "data": {
      "text/html": [
       "<div>\n",
       "<style scoped>\n",
       "    .dataframe tbody tr th:only-of-type {\n",
       "        vertical-align: middle;\n",
       "    }\n",
       "\n",
       "    .dataframe tbody tr th {\n",
       "        vertical-align: top;\n",
       "    }\n",
       "\n",
       "    .dataframe thead th {\n",
       "        text-align: right;\n",
       "    }\n",
       "</style>\n",
       "<table border=\"1\" class=\"dataframe\">\n",
       "  <thead>\n",
       "    <tr style=\"text-align: right;\">\n",
       "      <th></th>\n",
       "      <th>P1</th>\n",
       "      <th>P2</th>\n",
       "      <th>NumMes</th>\n",
       "    </tr>\n",
       "  </thead>\n",
       "  <tbody>\n",
       "    <tr>\n",
       "      <th>1133</th>\n",
       "      <td>3829805962.00</td>\n",
       "      <td>3829805967.00</td>\n",
       "      <td>637.00</td>\n",
       "    </tr>\n",
       "    <tr>\n",
       "      <th>1920</th>\n",
       "      <td>5830306074.00</td>\n",
       "      <td>5830306076.00</td>\n",
       "      <td>466.00</td>\n",
       "    </tr>\n",
       "    <tr>\n",
       "      <th>1029</th>\n",
       "      <td>3829805951.00</td>\n",
       "      <td>3829805954.00</td>\n",
       "      <td>454.00</td>\n",
       "    </tr>\n",
       "    <tr>\n",
       "      <th>981</th>\n",
       "      <td>3829805945.00</td>\n",
       "      <td>3829805962.00</td>\n",
       "      <td>440.00</td>\n",
       "    </tr>\n",
       "    <tr>\n",
       "      <th>1925</th>\n",
       "      <td>5830306074.00</td>\n",
       "      <td>5830306081.00</td>\n",
       "      <td>425.00</td>\n",
       "    </tr>\n",
       "    <tr>\n",
       "      <th>1836</th>\n",
       "      <td>5830306063.00</td>\n",
       "      <td>5830306068.00</td>\n",
       "      <td>424.00</td>\n",
       "    </tr>\n",
       "    <tr>\n",
       "      <th>1022</th>\n",
       "      <td>3829805950.00</td>\n",
       "      <td>3829805959.00</td>\n",
       "      <td>346.00</td>\n",
       "    </tr>\n",
       "    <tr>\n",
       "      <th>1291</th>\n",
       "      <td>3829905941.00</td>\n",
       "      <td>3829905943.00</td>\n",
       "      <td>345.00</td>\n",
       "    </tr>\n",
       "    <tr>\n",
       "      <th>1643</th>\n",
       "      <td>5629605868.00</td>\n",
       "      <td>5629605874.00</td>\n",
       "      <td>299.00</td>\n",
       "    </tr>\n",
       "    <tr>\n",
       "      <th>96</th>\n",
       "      <td>2829205840.00</td>\n",
       "      <td>2829205842.00</td>\n",
       "      <td>295.00</td>\n",
       "    </tr>\n",
       "  </tbody>\n",
       "</table>\n",
       "</div>"
      ],
      "text/plain": [
       "                P1            P2  NumMes\n",
       "1133 3829805962.00 3829805967.00  637.00\n",
       "1920 5830306074.00 5830306076.00  466.00\n",
       "1029 3829805951.00 3829805954.00  454.00\n",
       "981  3829805945.00 3829805962.00  440.00\n",
       "1925 5830306074.00 5830306081.00  425.00\n",
       "1836 5830306063.00 5830306068.00  424.00\n",
       "1022 3829805950.00 3829805959.00  346.00\n",
       "1291 3829905941.00 3829905943.00  345.00\n",
       "1643 5629605868.00 5629605874.00  299.00\n",
       "96   2829205840.00 2829205842.00  295.00"
      ]
     },
     "execution_count": 105,
     "metadata": {},
     "output_type": "execute_result"
    }
   ],
   "source": [
    "exchanged_messages.sort_values(by='NumMes',ascending=False).head(10)"
   ]
  },
  {
   "cell_type": "code",
   "execution_count": 89,
   "id": "7470f44b-9864-4b2a-8393-0343dbee781e",
   "metadata": {},
   "outputs": [
    {
     "data": {
      "application/vnd.plotly.v1+json": {
       "config": {
        "plotlyServerURL": "https://plot.ly"
       },
       "data": [
        {
         "alignmentgroup": "True",
         "bingroup": "x",
         "hovertemplate": "NumMes=%{x}<br>count=%{y}<extra></extra>",
         "legendgroup": "",
         "marker": {
          "color": "#636efa",
          "pattern": {
           "shape": ""
          }
         },
         "name": "",
         "nbinsx": 32,
         "offsetgroup": "",
         "orientation": "v",
         "showlegend": false,
         "type": "histogram",
         "x": [
          1,
          2,
          7,
          1,
          3,
          2,
          2,
          2,
          3,
          2,
          7,
          3,
          11,
          2,
          12,
          1,
          1,
          1,
          4,
          12,
          2,
          1,
          2,
          1,
          1,
          2,
          12,
          45,
          1,
          48,
          3,
          6,
          9,
          12,
          12,
          5,
          3,
          4,
          4,
          14,
          140,
          2,
          13,
          18,
          53,
          1,
          11,
          68,
          3,
          6,
          3,
          3,
          1,
          11,
          1,
          6,
          1,
          3,
          1,
          1,
          4,
          158,
          1,
          1,
          10,
          2,
          2,
          2,
          13,
          18,
          20,
          5,
          2,
          5,
          11,
          1,
          1,
          12,
          1,
          2,
          11,
          5,
          4,
          2,
          26,
          55,
          1,
          1,
          3,
          1,
          31,
          2,
          60,
          1,
          1,
          3,
          295,
          5,
          22,
          4,
          1,
          2,
          2,
          2,
          1,
          102,
          28,
          19,
          1,
          42,
          1,
          3,
          7,
          4,
          47,
          1,
          1,
          7,
          47,
          80,
          27,
          54,
          53,
          7,
          4,
          1,
          7,
          30,
          10,
          3,
          7,
          7,
          5,
          10,
          3,
          1,
          3,
          2,
          3,
          10,
          7,
          2,
          1,
          3,
          174,
          2,
          2,
          1,
          2,
          1,
          1,
          118,
          1,
          1,
          3,
          1,
          25,
          1,
          1,
          1,
          2,
          4,
          5,
          14,
          5,
          1,
          1,
          1,
          1,
          2,
          2,
          1,
          2,
          1,
          1,
          1,
          1,
          2,
          3,
          3,
          2,
          1,
          2,
          1,
          7,
          2,
          9,
          2,
          10,
          13,
          1,
          1,
          1,
          1,
          1,
          1,
          1,
          1,
          1,
          1,
          1,
          1,
          1,
          2,
          1,
          1,
          1,
          1,
          1,
          2,
          1,
          1,
          1,
          10,
          2,
          1,
          4,
          3,
          2,
          6,
          2,
          1,
          1,
          2,
          2,
          2,
          16,
          1,
          4,
          9,
          2,
          14,
          3,
          2,
          92,
          11,
          33,
          8,
          3,
          6,
          5,
          13,
          2,
          8,
          29,
          29,
          1,
          3,
          105,
          5,
          24,
          3,
          8,
          1,
          7,
          3,
          12,
          2,
          27,
          10,
          11,
          26,
          3,
          4,
          4,
          6,
          22,
          5,
          40,
          4,
          9,
          12,
          2,
          8,
          1,
          11,
          1,
          6,
          10,
          2,
          8,
          7,
          6,
          65,
          166,
          9,
          4,
          12,
          7,
          115,
          11,
          8,
          3,
          137,
          2,
          5,
          5,
          3,
          23,
          27,
          3,
          6,
          7,
          12,
          1,
          4,
          7,
          9,
          4,
          8,
          14,
          2,
          11,
          4,
          5,
          3,
          3,
          7,
          5,
          39,
          18,
          17,
          22,
          4,
          13,
          11,
          26,
          14,
          50,
          19,
          1,
          6,
          3,
          9,
          1,
          3,
          2,
          2,
          19,
          8,
          3,
          17,
          209,
          12,
          15,
          4,
          13,
          4,
          3,
          2,
          2,
          2,
          2,
          75,
          3,
          15,
          2,
          35,
          3,
          10,
          3,
          3,
          2,
          2,
          2,
          2,
          2,
          5,
          3,
          3,
          3,
          3,
          6,
          4,
          4,
          3,
          1,
          6,
          3,
          15,
          9,
          51,
          3,
          9,
          124,
          4,
          2,
          1,
          1,
          1,
          11,
          4,
          1,
          1,
          1,
          5,
          4,
          30,
          37,
          3,
          3,
          12,
          3,
          3,
          2,
          5,
          11,
          9,
          7,
          5,
          4,
          5,
          2,
          2,
          6,
          13,
          6,
          5,
          2,
          2,
          1,
          2,
          7,
          30,
          92,
          1,
          11,
          1,
          1,
          1,
          1,
          1,
          5,
          7,
          2,
          2,
          2,
          3,
          13,
          2,
          1,
          2,
          2,
          1,
          1,
          1,
          4,
          63,
          63,
          14,
          2,
          2,
          3,
          2,
          10,
          29,
          3,
          2,
          2,
          2,
          2,
          2,
          2,
          2,
          87,
          78,
          2,
          4,
          7,
          5,
          2,
          3,
          2,
          2,
          2,
          4,
          3,
          1,
          1,
          17,
          1,
          6,
          17,
          24,
          17,
          4,
          2,
          5,
          1,
          49,
          7,
          4,
          4,
          5,
          5,
          3,
          7,
          2,
          13,
          2,
          8,
          1,
          4,
          5,
          2,
          3,
          6,
          1,
          1,
          1,
          1,
          1,
          1,
          1,
          2,
          10,
          1,
          1,
          1,
          2,
          2,
          1,
          2,
          1,
          1,
          1,
          1,
          1,
          1,
          1,
          1,
          24,
          1,
          1,
          3,
          1,
          2,
          2,
          1,
          1,
          1,
          1,
          1,
          1,
          1,
          22,
          2,
          3,
          2,
          5,
          2,
          4,
          2,
          1,
          7,
          2,
          3,
          1,
          1,
          1,
          1,
          2,
          1,
          4,
          37,
          140,
          6,
          22,
          8,
          47,
          5,
          2,
          5,
          1,
          31,
          1,
          2,
          13,
          11,
          10,
          12,
          3,
          35,
          4,
          2,
          3,
          5,
          15,
          7,
          1,
          3,
          5,
          30,
          1,
          9,
          2,
          2,
          8,
          1,
          1,
          11,
          5,
          2,
          2,
          2,
          2,
          10,
          1,
          3,
          2,
          2,
          8,
          3,
          25,
          1,
          1,
          1,
          1,
          1,
          1,
          1,
          2,
          5,
          2,
          1,
          1,
          1,
          2,
          1,
          5,
          1,
          6,
          3,
          3,
          3,
          1,
          7,
          14,
          2,
          4,
          3,
          9,
          7,
          5,
          11,
          3,
          1,
          2,
          29,
          37,
          23,
          4,
          1,
          8,
          2,
          16,
          6,
          1,
          2,
          14,
          12,
          2,
          3,
          15,
          21,
          5,
          3,
          15,
          5,
          1,
          5,
          15,
          5,
          11,
          4,
          52,
          6,
          3,
          3,
          5,
          15,
          3,
          2,
          1,
          3,
          2,
          2,
          12,
          3,
          2,
          2,
          2,
          1,
          1,
          1,
          2,
          2,
          1,
          1,
          1,
          2,
          3,
          92,
          1,
          1,
          1,
          1,
          10,
          1,
          4,
          3,
          2,
          1,
          10,
          2,
          2,
          7,
          10,
          4,
          3,
          2,
          8,
          6,
          8,
          8,
          9,
          4,
          2,
          6,
          5,
          9,
          9,
          3,
          1,
          3,
          4,
          12,
          2,
          85,
          6,
          55,
          2,
          17,
          3,
          1,
          1,
          6,
          122,
          1,
          9,
          13,
          7,
          46,
          25,
          35,
          11,
          1,
          7,
          10,
          29,
          3,
          1,
          2,
          3,
          6,
          3,
          3,
          8,
          14,
          9,
          1,
          1,
          1,
          1,
          6,
          2,
          14,
          14,
          20,
          10,
          2,
          12,
          5,
          119,
          20,
          1,
          211,
          13,
          18,
          33,
          86,
          6,
          12,
          1,
          8,
          14,
          12,
          3,
          37,
          13,
          2,
          4,
          9,
          1,
          2,
          3,
          12,
          7,
          19,
          29,
          5,
          1,
          7,
          1,
          1,
          2,
          25,
          9,
          4,
          5,
          6,
          8,
          6,
          6,
          8,
          6,
          8,
          9,
          12,
          16,
          15,
          14,
          6,
          9,
          12,
          1,
          1,
          1,
          3,
          5,
          14,
          3,
          1,
          18,
          8,
          6,
          3,
          116,
          7,
          1,
          1,
          1,
          3,
          102,
          2,
          9,
          8,
          3,
          3,
          3,
          7,
          8,
          2,
          6,
          16,
          16,
          8,
          31,
          12,
          14,
          6,
          6,
          6,
          6,
          7,
          15,
          16,
          7,
          10,
          22,
          1,
          1,
          2,
          1,
          1,
          1,
          1,
          1,
          2,
          1,
          171,
          5,
          1,
          1,
          2,
          3,
          1,
          5,
          39,
          1,
          2,
          1,
          1,
          1,
          1,
          3,
          1,
          1,
          12,
          1,
          5,
          10,
          1,
          2,
          2,
          1,
          3,
          6,
          10,
          2,
          35,
          30,
          2,
          137,
          2,
          4,
          2,
          1,
          7,
          7,
          3,
          1,
          5,
          16,
          2,
          3,
          2,
          4,
          12,
          2,
          2,
          2,
          7,
          5,
          1,
          1,
          2,
          2,
          12,
          1,
          1,
          1,
          1,
          1,
          2,
          1,
          1,
          7,
          2,
          2,
          13,
          1,
          1,
          2,
          5,
          6,
          2,
          1,
          1,
          3,
          27,
          4,
          8,
          20,
          9,
          3,
          40,
          14,
          16,
          3,
          252,
          440,
          47,
          24,
          160,
          14,
          11,
          13,
          1,
          2,
          2,
          3,
          4,
          2,
          5,
          1,
          4,
          2,
          2,
          3,
          22,
          13,
          4,
          5,
          2,
          1,
          3,
          12,
          2,
          8,
          79,
          2,
          3,
          9,
          6,
          8,
          1,
          223,
          20,
          11,
          13,
          3,
          346,
          29,
          8,
          17,
          4,
          52,
          7,
          454,
          1,
          7,
          15,
          14,
          84,
          2,
          2,
          3,
          4,
          11,
          3,
          5,
          5,
          85,
          1,
          1,
          5,
          5,
          9,
          16,
          4,
          4,
          4,
          7,
          24,
          7,
          49,
          55,
          6,
          1,
          1,
          6,
          25,
          13,
          69,
          5,
          14,
          7,
          7,
          30,
          44,
          3,
          10,
          15,
          24,
          5,
          1,
          9,
          3,
          8,
          2,
          5,
          10,
          55,
          6,
          29,
          4,
          6,
          29,
          14,
          61,
          69,
          4,
          19,
          42,
          7,
          17,
          4,
          27,
          24,
          5,
          55,
          25,
          3,
          26,
          6,
          9,
          167,
          15,
          17,
          1,
          2,
          4,
          10,
          9,
          2,
          68,
          3,
          4,
          7,
          4,
          14,
          5,
          53,
          72,
          32,
          9,
          85,
          6,
          27,
          1,
          42,
          2,
          637,
          8,
          2,
          5,
          31,
          15,
          2,
          3,
          2,
          3,
          42,
          1,
          1,
          40,
          3,
          36,
          2,
          12,
          4,
          1,
          2,
          4,
          9,
          8,
          2,
          4,
          1,
          8,
          2,
          9,
          85,
          12,
          24,
          28,
          9,
          1,
          3,
          1,
          3,
          1,
          8,
          22,
          37,
          15,
          1,
          20,
          3,
          5,
          3,
          2,
          6,
          8,
          137,
          6,
          1,
          4,
          2,
          82,
          58,
          190,
          20,
          5,
          1,
          213,
          4,
          6,
          1,
          20,
          11,
          3,
          17,
          1,
          69,
          1,
          3,
          5,
          2,
          11,
          6,
          8,
          7,
          17,
          20,
          18,
          11,
          4,
          4,
          11,
          9,
          3,
          5,
          5,
          24,
          2,
          3,
          14,
          25,
          2,
          43,
          3,
          1,
          1,
          2,
          3,
          9,
          2,
          2,
          1,
          25,
          1,
          1,
          1,
          5,
          10,
          5,
          11,
          5,
          3,
          5,
          41,
          5,
          2,
          2,
          3,
          9,
          4,
          1,
          1,
          1,
          1,
          2,
          1,
          2,
          54,
          16,
          44,
          1,
          1,
          5,
          1,
          1,
          5,
          68,
          1,
          1,
          9,
          4,
          3,
          10,
          1,
          17,
          2,
          2,
          2,
          3,
          2,
          2,
          8,
          345,
          13,
          91,
          3,
          8,
          4,
          26,
          3,
          1,
          2,
          77,
          3,
          187,
          20,
          4,
          4,
          6,
          7,
          56,
          1,
          3,
          3,
          2,
          1,
          4,
          13,
          2,
          2,
          35,
          2,
          2,
          2,
          2,
          2,
          2,
          2,
          2,
          11,
          4,
          1,
          1,
          7,
          7,
          1,
          2,
          4,
          28,
          2,
          1,
          1,
          1,
          1,
          1,
          1,
          1,
          2,
          8,
          3,
          19,
          16,
          1,
          21,
          1,
          1,
          9,
          2,
          2,
          2,
          3,
          2,
          5,
          27,
          17,
          9,
          11,
          10,
          2,
          2,
          9,
          4,
          5,
          8,
          1,
          11,
          1,
          2,
          10,
          2,
          2,
          2,
          1,
          20,
          2,
          7,
          4,
          8,
          1,
          5,
          1,
          3,
          48,
          4,
          14,
          19,
          2,
          8,
          2,
          4,
          22,
          4,
          3,
          1,
          2,
          5,
          2,
          22,
          1,
          9,
          5,
          4,
          2,
          1,
          1,
          8,
          6,
          5,
          8,
          3,
          2,
          2,
          2,
          4,
          1,
          16,
          5,
          1,
          2,
          8,
          9,
          3,
          4,
          1,
          2,
          3,
          2,
          7,
          2,
          24,
          4,
          6,
          8,
          11,
          4,
          3,
          58,
          7,
          5,
          5,
          3,
          8,
          5,
          68,
          22,
          2,
          9,
          12,
          3,
          61,
          2,
          1,
          1,
          2,
          1,
          1,
          2,
          1,
          2,
          1,
          3,
          10,
          4,
          7,
          17,
          6,
          2,
          15,
          1,
          1,
          3,
          22,
          10,
          3,
          6,
          1,
          6,
          1,
          9,
          1,
          1,
          1,
          1,
          22,
          3,
          2,
          1,
          6,
          1,
          1,
          12,
          11,
          2,
          1,
          5,
          1,
          38,
          22,
          1,
          3,
          68,
          1,
          4,
          6,
          19,
          4,
          1,
          142,
          2,
          1,
          6,
          17,
          3,
          2,
          2,
          5,
          11,
          4,
          3,
          64,
          2,
          1,
          3,
          1,
          1,
          2,
          7,
          1,
          3,
          8,
          51,
          2,
          38,
          1,
          3,
          17,
          1,
          9,
          8,
          2,
          1,
          6,
          2,
          8,
          7,
          1,
          3,
          20,
          12,
          7,
          44,
          5,
          91,
          3,
          4,
          2,
          30,
          14,
          20,
          2,
          1,
          1,
          1,
          2,
          1,
          1,
          16,
          2,
          1,
          2,
          2,
          1,
          8,
          2,
          2,
          2,
          8,
          1,
          1,
          5,
          2,
          4,
          13,
          5,
          9,
          3,
          2,
          21,
          4,
          7,
          3,
          1,
          1,
          1,
          1,
          1,
          1,
          6,
          3,
          29,
          28,
          6,
          4,
          6,
          6,
          3,
          4,
          55,
          8,
          2,
          5,
          4,
          1,
          3,
          25,
          3,
          3,
          8,
          15,
          2,
          2,
          279,
          25,
          3,
          33,
          11,
          14,
          3,
          35,
          4,
          2,
          9,
          2,
          1,
          299,
          3,
          2,
          7,
          1,
          1,
          13,
          2,
          2,
          2,
          3,
          2,
          18,
          5,
          1,
          20,
          5,
          2,
          6,
          7,
          15,
          12,
          1,
          8,
          26,
          2,
          1,
          1,
          8,
          9,
          3,
          4,
          2,
          1,
          1,
          14,
          3,
          3,
          5,
          1,
          6,
          2,
          1,
          1,
          1,
          1,
          1,
          4,
          32,
          3,
          4,
          22,
          2,
          2,
          7,
          4,
          70,
          26,
          1,
          3,
          2,
          3,
          26,
          6,
          5,
          5,
          2,
          1,
          3,
          2,
          8,
          37,
          14,
          1,
          1,
          6,
          8,
          6,
          25,
          1,
          2,
          10,
          10,
          1,
          1,
          14,
          1,
          8,
          38,
          11,
          10,
          9,
          10,
          7,
          11,
          9,
          26,
          6,
          7,
          24,
          6,
          7,
          6,
          6,
          6,
          20,
          2,
          7,
          2,
          2,
          1,
          4,
          18,
          26,
          2,
          2,
          2,
          1,
          1,
          4,
          1,
          1,
          3,
          1,
          2,
          16,
          24,
          8,
          2,
          22,
          2,
          2,
          8,
          7,
          6,
          8,
          5,
          8,
          3,
          2,
          3,
          3,
          3,
          47,
          19,
          2,
          6,
          4,
          2,
          1,
          37,
          8,
          6,
          17,
          5,
          4,
          11,
          5,
          6,
          3,
          13,
          4,
          6,
          1,
          1,
          3,
          1,
          1,
          1,
          4,
          1,
          1,
          4,
          5,
          35,
          9,
          1,
          1,
          1,
          2,
          3,
          9,
          1,
          2,
          3,
          2,
          11,
          11,
          2,
          1,
          1,
          4,
          92,
          424,
          24,
          167,
          3,
          47,
          6,
          6,
          2,
          45,
          2,
          2,
          3,
          32,
          5,
          7,
          4,
          1,
          3,
          5,
          5,
          11,
          3,
          2,
          5,
          7,
          9,
          2,
          9,
          6,
          23,
          7,
          111,
          8,
          11,
          1,
          4,
          26,
          2,
          7,
          1,
          6,
          1,
          9,
          22,
          265,
          40,
          1,
          15,
          22,
          1,
          7,
          7,
          4,
          1,
          1,
          23,
          5,
          1,
          4,
          8,
          2,
          7,
          8,
          12,
          3,
          2,
          2,
          2,
          6,
          26,
          1,
          12,
          17,
          7,
          1,
          8,
          19,
          2,
          11,
          1,
          1,
          1,
          1,
          1,
          466,
          1,
          4,
          1,
          4,
          425,
          7,
          1,
          1,
          1,
          1,
          67,
          3,
          1,
          1,
          1,
          161,
          1,
          19,
          6,
          2,
          6,
          4,
          1,
          1,
          6,
          6,
          5,
          6,
          3,
          3,
          2,
          4,
          2,
          43,
          2,
          6,
          2,
          2,
          7,
          10,
          4,
          2,
          2,
          2,
          1,
          32,
          2,
          4,
          1,
          2,
          23,
          1
         ],
         "xaxis": "x",
         "yaxis": "y"
        }
       ],
       "layout": {
        "barmode": "relative",
        "height": 600,
        "legend": {
         "tracegroupgap": 0
        },
        "margin": {
         "t": 60
        },
        "template": {
         "data": {
          "bar": [
           {
            "error_x": {
             "color": "#2a3f5f"
            },
            "error_y": {
             "color": "#2a3f5f"
            },
            "marker": {
             "line": {
              "color": "#E5ECF6",
              "width": 0.5
             },
             "pattern": {
              "fillmode": "overlay",
              "size": 10,
              "solidity": 0.2
             }
            },
            "type": "bar"
           }
          ],
          "barpolar": [
           {
            "marker": {
             "line": {
              "color": "#E5ECF6",
              "width": 0.5
             },
             "pattern": {
              "fillmode": "overlay",
              "size": 10,
              "solidity": 0.2
             }
            },
            "type": "barpolar"
           }
          ],
          "carpet": [
           {
            "aaxis": {
             "endlinecolor": "#2a3f5f",
             "gridcolor": "white",
             "linecolor": "white",
             "minorgridcolor": "white",
             "startlinecolor": "#2a3f5f"
            },
            "baxis": {
             "endlinecolor": "#2a3f5f",
             "gridcolor": "white",
             "linecolor": "white",
             "minorgridcolor": "white",
             "startlinecolor": "#2a3f5f"
            },
            "type": "carpet"
           }
          ],
          "choropleth": [
           {
            "colorbar": {
             "outlinewidth": 0,
             "ticks": ""
            },
            "type": "choropleth"
           }
          ],
          "contour": [
           {
            "colorbar": {
             "outlinewidth": 0,
             "ticks": ""
            },
            "colorscale": [
             [
              0,
              "#0d0887"
             ],
             [
              0.1111111111111111,
              "#46039f"
             ],
             [
              0.2222222222222222,
              "#7201a8"
             ],
             [
              0.3333333333333333,
              "#9c179e"
             ],
             [
              0.4444444444444444,
              "#bd3786"
             ],
             [
              0.5555555555555556,
              "#d8576b"
             ],
             [
              0.6666666666666666,
              "#ed7953"
             ],
             [
              0.7777777777777778,
              "#fb9f3a"
             ],
             [
              0.8888888888888888,
              "#fdca26"
             ],
             [
              1,
              "#f0f921"
             ]
            ],
            "type": "contour"
           }
          ],
          "contourcarpet": [
           {
            "colorbar": {
             "outlinewidth": 0,
             "ticks": ""
            },
            "type": "contourcarpet"
           }
          ],
          "heatmap": [
           {
            "colorbar": {
             "outlinewidth": 0,
             "ticks": ""
            },
            "colorscale": [
             [
              0,
              "#0d0887"
             ],
             [
              0.1111111111111111,
              "#46039f"
             ],
             [
              0.2222222222222222,
              "#7201a8"
             ],
             [
              0.3333333333333333,
              "#9c179e"
             ],
             [
              0.4444444444444444,
              "#bd3786"
             ],
             [
              0.5555555555555556,
              "#d8576b"
             ],
             [
              0.6666666666666666,
              "#ed7953"
             ],
             [
              0.7777777777777778,
              "#fb9f3a"
             ],
             [
              0.8888888888888888,
              "#fdca26"
             ],
             [
              1,
              "#f0f921"
             ]
            ],
            "type": "heatmap"
           }
          ],
          "heatmapgl": [
           {
            "colorbar": {
             "outlinewidth": 0,
             "ticks": ""
            },
            "colorscale": [
             [
              0,
              "#0d0887"
             ],
             [
              0.1111111111111111,
              "#46039f"
             ],
             [
              0.2222222222222222,
              "#7201a8"
             ],
             [
              0.3333333333333333,
              "#9c179e"
             ],
             [
              0.4444444444444444,
              "#bd3786"
             ],
             [
              0.5555555555555556,
              "#d8576b"
             ],
             [
              0.6666666666666666,
              "#ed7953"
             ],
             [
              0.7777777777777778,
              "#fb9f3a"
             ],
             [
              0.8888888888888888,
              "#fdca26"
             ],
             [
              1,
              "#f0f921"
             ]
            ],
            "type": "heatmapgl"
           }
          ],
          "histogram": [
           {
            "marker": {
             "pattern": {
              "fillmode": "overlay",
              "size": 10,
              "solidity": 0.2
             }
            },
            "type": "histogram"
           }
          ],
          "histogram2d": [
           {
            "colorbar": {
             "outlinewidth": 0,
             "ticks": ""
            },
            "colorscale": [
             [
              0,
              "#0d0887"
             ],
             [
              0.1111111111111111,
              "#46039f"
             ],
             [
              0.2222222222222222,
              "#7201a8"
             ],
             [
              0.3333333333333333,
              "#9c179e"
             ],
             [
              0.4444444444444444,
              "#bd3786"
             ],
             [
              0.5555555555555556,
              "#d8576b"
             ],
             [
              0.6666666666666666,
              "#ed7953"
             ],
             [
              0.7777777777777778,
              "#fb9f3a"
             ],
             [
              0.8888888888888888,
              "#fdca26"
             ],
             [
              1,
              "#f0f921"
             ]
            ],
            "type": "histogram2d"
           }
          ],
          "histogram2dcontour": [
           {
            "colorbar": {
             "outlinewidth": 0,
             "ticks": ""
            },
            "colorscale": [
             [
              0,
              "#0d0887"
             ],
             [
              0.1111111111111111,
              "#46039f"
             ],
             [
              0.2222222222222222,
              "#7201a8"
             ],
             [
              0.3333333333333333,
              "#9c179e"
             ],
             [
              0.4444444444444444,
              "#bd3786"
             ],
             [
              0.5555555555555556,
              "#d8576b"
             ],
             [
              0.6666666666666666,
              "#ed7953"
             ],
             [
              0.7777777777777778,
              "#fb9f3a"
             ],
             [
              0.8888888888888888,
              "#fdca26"
             ],
             [
              1,
              "#f0f921"
             ]
            ],
            "type": "histogram2dcontour"
           }
          ],
          "mesh3d": [
           {
            "colorbar": {
             "outlinewidth": 0,
             "ticks": ""
            },
            "type": "mesh3d"
           }
          ],
          "parcoords": [
           {
            "line": {
             "colorbar": {
              "outlinewidth": 0,
              "ticks": ""
             }
            },
            "type": "parcoords"
           }
          ],
          "pie": [
           {
            "automargin": true,
            "type": "pie"
           }
          ],
          "scatter": [
           {
            "marker": {
             "colorbar": {
              "outlinewidth": 0,
              "ticks": ""
             }
            },
            "type": "scatter"
           }
          ],
          "scatter3d": [
           {
            "line": {
             "colorbar": {
              "outlinewidth": 0,
              "ticks": ""
             }
            },
            "marker": {
             "colorbar": {
              "outlinewidth": 0,
              "ticks": ""
             }
            },
            "type": "scatter3d"
           }
          ],
          "scattercarpet": [
           {
            "marker": {
             "colorbar": {
              "outlinewidth": 0,
              "ticks": ""
             }
            },
            "type": "scattercarpet"
           }
          ],
          "scattergeo": [
           {
            "marker": {
             "colorbar": {
              "outlinewidth": 0,
              "ticks": ""
             }
            },
            "type": "scattergeo"
           }
          ],
          "scattergl": [
           {
            "marker": {
             "colorbar": {
              "outlinewidth": 0,
              "ticks": ""
             }
            },
            "type": "scattergl"
           }
          ],
          "scattermapbox": [
           {
            "marker": {
             "colorbar": {
              "outlinewidth": 0,
              "ticks": ""
             }
            },
            "type": "scattermapbox"
           }
          ],
          "scatterpolar": [
           {
            "marker": {
             "colorbar": {
              "outlinewidth": 0,
              "ticks": ""
             }
            },
            "type": "scatterpolar"
           }
          ],
          "scatterpolargl": [
           {
            "marker": {
             "colorbar": {
              "outlinewidth": 0,
              "ticks": ""
             }
            },
            "type": "scatterpolargl"
           }
          ],
          "scatterternary": [
           {
            "marker": {
             "colorbar": {
              "outlinewidth": 0,
              "ticks": ""
             }
            },
            "type": "scatterternary"
           }
          ],
          "surface": [
           {
            "colorbar": {
             "outlinewidth": 0,
             "ticks": ""
            },
            "colorscale": [
             [
              0,
              "#0d0887"
             ],
             [
              0.1111111111111111,
              "#46039f"
             ],
             [
              0.2222222222222222,
              "#7201a8"
             ],
             [
              0.3333333333333333,
              "#9c179e"
             ],
             [
              0.4444444444444444,
              "#bd3786"
             ],
             [
              0.5555555555555556,
              "#d8576b"
             ],
             [
              0.6666666666666666,
              "#ed7953"
             ],
             [
              0.7777777777777778,
              "#fb9f3a"
             ],
             [
              0.8888888888888888,
              "#fdca26"
             ],
             [
              1,
              "#f0f921"
             ]
            ],
            "type": "surface"
           }
          ],
          "table": [
           {
            "cells": {
             "fill": {
              "color": "#EBF0F8"
             },
             "line": {
              "color": "white"
             }
            },
            "header": {
             "fill": {
              "color": "#C8D4E3"
             },
             "line": {
              "color": "white"
             }
            },
            "type": "table"
           }
          ]
         },
         "layout": {
          "annotationdefaults": {
           "arrowcolor": "#2a3f5f",
           "arrowhead": 0,
           "arrowwidth": 1
          },
          "autotypenumbers": "strict",
          "coloraxis": {
           "colorbar": {
            "outlinewidth": 0,
            "ticks": ""
           }
          },
          "colorscale": {
           "diverging": [
            [
             0,
             "#8e0152"
            ],
            [
             0.1,
             "#c51b7d"
            ],
            [
             0.2,
             "#de77ae"
            ],
            [
             0.3,
             "#f1b6da"
            ],
            [
             0.4,
             "#fde0ef"
            ],
            [
             0.5,
             "#f7f7f7"
            ],
            [
             0.6,
             "#e6f5d0"
            ],
            [
             0.7,
             "#b8e186"
            ],
            [
             0.8,
             "#7fbc41"
            ],
            [
             0.9,
             "#4d9221"
            ],
            [
             1,
             "#276419"
            ]
           ],
           "sequential": [
            [
             0,
             "#0d0887"
            ],
            [
             0.1111111111111111,
             "#46039f"
            ],
            [
             0.2222222222222222,
             "#7201a8"
            ],
            [
             0.3333333333333333,
             "#9c179e"
            ],
            [
             0.4444444444444444,
             "#bd3786"
            ],
            [
             0.5555555555555556,
             "#d8576b"
            ],
            [
             0.6666666666666666,
             "#ed7953"
            ],
            [
             0.7777777777777778,
             "#fb9f3a"
            ],
            [
             0.8888888888888888,
             "#fdca26"
            ],
            [
             1,
             "#f0f921"
            ]
           ],
           "sequentialminus": [
            [
             0,
             "#0d0887"
            ],
            [
             0.1111111111111111,
             "#46039f"
            ],
            [
             0.2222222222222222,
             "#7201a8"
            ],
            [
             0.3333333333333333,
             "#9c179e"
            ],
            [
             0.4444444444444444,
             "#bd3786"
            ],
            [
             0.5555555555555556,
             "#d8576b"
            ],
            [
             0.6666666666666666,
             "#ed7953"
            ],
            [
             0.7777777777777778,
             "#fb9f3a"
            ],
            [
             0.8888888888888888,
             "#fdca26"
            ],
            [
             1,
             "#f0f921"
            ]
           ]
          },
          "colorway": [
           "#636efa",
           "#EF553B",
           "#00cc96",
           "#ab63fa",
           "#FFA15A",
           "#19d3f3",
           "#FF6692",
           "#B6E880",
           "#FF97FF",
           "#FECB52"
          ],
          "font": {
           "color": "#2a3f5f"
          },
          "geo": {
           "bgcolor": "white",
           "lakecolor": "white",
           "landcolor": "#E5ECF6",
           "showlakes": true,
           "showland": true,
           "subunitcolor": "white"
          },
          "hoverlabel": {
           "align": "left"
          },
          "hovermode": "closest",
          "mapbox": {
           "style": "light"
          },
          "paper_bgcolor": "white",
          "plot_bgcolor": "#E5ECF6",
          "polar": {
           "angularaxis": {
            "gridcolor": "white",
            "linecolor": "white",
            "ticks": ""
           },
           "bgcolor": "#E5ECF6",
           "radialaxis": {
            "gridcolor": "white",
            "linecolor": "white",
            "ticks": ""
           }
          },
          "scene": {
           "xaxis": {
            "backgroundcolor": "#E5ECF6",
            "gridcolor": "white",
            "gridwidth": 2,
            "linecolor": "white",
            "showbackground": true,
            "ticks": "",
            "zerolinecolor": "white"
           },
           "yaxis": {
            "backgroundcolor": "#E5ECF6",
            "gridcolor": "white",
            "gridwidth": 2,
            "linecolor": "white",
            "showbackground": true,
            "ticks": "",
            "zerolinecolor": "white"
           },
           "zaxis": {
            "backgroundcolor": "#E5ECF6",
            "gridcolor": "white",
            "gridwidth": 2,
            "linecolor": "white",
            "showbackground": true,
            "ticks": "",
            "zerolinecolor": "white"
           }
          },
          "shapedefaults": {
           "line": {
            "color": "#2a3f5f"
           }
          },
          "ternary": {
           "aaxis": {
            "gridcolor": "white",
            "linecolor": "white",
            "ticks": ""
           },
           "baxis": {
            "gridcolor": "white",
            "linecolor": "white",
            "ticks": ""
           },
           "bgcolor": "#E5ECF6",
           "caxis": {
            "gridcolor": "white",
            "linecolor": "white",
            "ticks": ""
           }
          },
          "title": {
           "x": 0.05
          },
          "xaxis": {
           "automargin": true,
           "gridcolor": "white",
           "linecolor": "white",
           "ticks": "",
           "title": {
            "standoff": 15
           },
           "zerolinecolor": "white",
           "zerolinewidth": 2
          },
          "yaxis": {
           "automargin": true,
           "gridcolor": "white",
           "linecolor": "white",
           "ticks": "",
           "title": {
            "standoff": 15
           },
           "zerolinecolor": "white",
           "zerolinewidth": 2
          }
         }
        },
        "width": 1000,
        "xaxis": {
         "anchor": "y",
         "autorange": true,
         "domain": [
          0,
          1
         ],
         "range": [
          -0.5,
          639.5
         ],
         "title": {
          "text": "Number of Exchanged Messages"
         },
         "type": "linear"
        },
        "yaxis": {
         "anchor": "x",
         "autorange": true,
         "domain": [
          0,
          1
         ],
         "range": [
          0,
          1801.0526315789473
         ],
         "title": {
          "text": "Number of pairs"
         }
        }
       }
      },
      "image/png": "[encoded data removed]",
      "text/html": [
       "<div>                            <div id=\"b765332e-4bd4-48eb-856e-9a8e4fc04caf\" class=\"plotly-graph-div\" style=\"height:600px; width:1000px;\"></div>            <script type=\"text/javascript\">                require([\"plotly\"], function(Plotly) {                    window.PLOTLYENV=window.PLOTLYENV || {};                                    if (document.getElementById(\"b765332e-4bd4-48eb-856e-9a8e4fc04caf\")) {                    Plotly.newPlot(                        \"b765332e-4bd4-48eb-856e-9a8e4fc04caf\",                        [{\"alignmentgroup\":\"True\",\"bingroup\":\"x\",\"hovertemplate\":\"NumMes=%{x}<br>count=%{y}<extra></extra>\",\"legendgroup\":\"\",\"marker\":{\"color\":\"#636efa\",\"pattern\":{\"shape\":\"\"}},\"name\":\"\",\"nbinsx\":32,\"offsetgroup\":\"\",\"orientation\":\"v\",\"showlegend\":false,\"type\":\"histogram\",\"x\":[1.0,2.0,7.0,1.0,3.0,2.0,2.0,2.0,3.0,2.0,7.0,3.0,11.0,2.0,12.0,1.0,1.0,1.0,4.0,12.0,2.0,1.0,2.0,1.0,1.0,2.0,12.0,45.0,1.0,48.0,3.0,6.0,9.0,12.0,12.0,5.0,3.0,4.0,4.0,14.0,140.0,2.0,13.0,18.0,53.0,1.0,11.0,68.0,3.0,6.0,3.0,3.0,1.0,11.0,1.0,6.0,1.0,3.0,1.0,1.0,4.0,158.0,1.0,1.0,10.0,2.0,2.0,2.0,13.0,18.0,20.0,5.0,2.0,5.0,11.0,1.0,1.0,12.0,1.0,2.0,11.0,5.0,4.0,2.0,26.0,55.0,1.0,1.0,3.0,1.0,31.0,2.0,60.0,1.0,1.0,3.0,295.0,5.0,22.0,4.0,1.0,2.0,2.0,2.0,1.0,102.0,28.0,19.0,1.0,42.0,1.0,3.0,7.0,4.0,47.0,1.0,1.0,7.0,47.0,80.0,27.0,54.0,53.0,7.0,4.0,1.0,7.0,30.0,10.0,3.0,7.0,7.0,5.0,10.0,3.0,1.0,3.0,2.0,3.0,10.0,7.0,2.0,1.0,3.0,174.0,2.0,2.0,1.0,2.0,1.0,1.0,118.0,1.0,1.0,3.0,1.0,25.0,1.0,1.0,1.0,2.0,4.0,5.0,14.0,5.0,1.0,1.0,1.0,1.0,2.0,2.0,1.0,2.0,1.0,1.0,1.0,1.0,2.0,3.0,3.0,2.0,1.0,2.0,1.0,7.0,2.0,9.0,2.0,10.0,13.0,1.0,1.0,1.0,1.0,1.0,1.0,1.0,1.0,1.0,1.0,1.0,1.0,1.0,2.0,1.0,1.0,1.0,1.0,1.0,2.0,1.0,1.0,1.0,10.0,2.0,1.0,4.0,3.0,2.0,6.0,2.0,1.0,1.0,2.0,2.0,2.0,16.0,1.0,4.0,9.0,2.0,14.0,3.0,2.0,92.0,11.0,33.0,8.0,3.0,6.0,5.0,13.0,2.0,8.0,29.0,29.0,1.0,3.0,105.0,5.0,24.0,3.0,8.0,1.0,7.0,3.0,12.0,2.0,27.0,10.0,11.0,26.0,3.0,4.0,4.0,6.0,22.0,5.0,40.0,4.0,9.0,12.0,2.0,8.0,1.0,11.0,1.0,6.0,10.0,2.0,8.0,7.0,6.0,65.0,166.0,9.0,4.0,12.0,7.0,115.0,11.0,8.0,3.0,137.0,2.0,5.0,5.0,3.0,23.0,27.0,3.0,6.0,7.0,12.0,1.0,4.0,7.0,9.0,4.0,8.0,14.0,2.0,11.0,4.0,5.0,3.0,3.0,7.0,5.0,39.0,18.0,17.0,22.0,4.0,13.0,11.0,26.0,14.0,50.0,19.0,1.0,6.0,3.0,9.0,1.0,3.0,2.0,2.0,19.0,8.0,3.0,17.0,209.0,12.0,15.0,4.0,13.0,4.0,3.0,2.0,2.0,2.0,2.0,75.0,3.0,15.0,2.0,35.0,3.0,10.0,3.0,3.0,2.0,2.0,2.0,2.0,2.0,5.0,3.0,3.0,3.0,3.0,6.0,4.0,4.0,3.0,1.0,6.0,3.0,15.0,9.0,51.0,3.0,9.0,124.0,4.0,2.0,1.0,1.0,1.0,11.0,4.0,1.0,1.0,1.0,5.0,4.0,30.0,37.0,3.0,3.0,12.0,3.0,3.0,2.0,5.0,11.0,9.0,7.0,5.0,4.0,5.0,2.0,2.0,6.0,13.0,6.0,5.0,2.0,2.0,1.0,2.0,7.0,30.0,92.0,1.0,11.0,1.0,1.0,1.0,1.0,1.0,5.0,7.0,2.0,2.0,2.0,3.0,13.0,2.0,1.0,2.0,2.0,1.0,1.0,1.0,4.0,63.0,63.0,14.0,2.0,2.0,3.0,2.0,10.0,29.0,3.0,2.0,2.0,2.0,2.0,2.0,2.0,2.0,87.0,78.0,2.0,4.0,7.0,5.0,2.0,3.0,2.0,2.0,2.0,4.0,3.0,1.0,1.0,17.0,1.0,6.0,17.0,24.0,17.0,4.0,2.0,5.0,1.0,49.0,7.0,4.0,4.0,5.0,5.0,3.0,7.0,2.0,13.0,2.0,8.0,1.0,4.0,5.0,2.0,3.0,6.0,1.0,1.0,1.0,1.0,1.0,1.0,1.0,2.0,10.0,1.0,1.0,1.0,2.0,2.0,1.0,2.0,1.0,1.0,1.0,1.0,1.0,1.0,1.0,1.0,24.0,1.0,1.0,3.0,1.0,2.0,2.0,1.0,1.0,1.0,1.0,1.0,1.0,1.0,22.0,2.0,3.0,2.0,5.0,2.0,4.0,2.0,1.0,7.0,2.0,3.0,1.0,1.0,1.0,1.0,2.0,1.0,4.0,37.0,140.0,6.0,22.0,8.0,47.0,5.0,2.0,5.0,1.0,31.0,1.0,2.0,13.0,11.0,10.0,12.0,3.0,35.0,4.0,2.0,3.0,5.0,15.0,7.0,1.0,3.0,5.0,30.0,1.0,9.0,2.0,2.0,8.0,1.0,1.0,11.0,5.0,2.0,2.0,2.0,2.0,10.0,1.0,3.0,2.0,2.0,8.0,3.0,25.0,1.0,1.0,1.0,1.0,1.0,1.0,1.0,2.0,5.0,2.0,1.0,1.0,1.0,2.0,1.0,5.0,1.0,6.0,3.0,3.0,3.0,1.0,7.0,14.0,2.0,4.0,3.0,9.0,7.0,5.0,11.0,3.0,1.0,2.0,29.0,37.0,23.0,4.0,1.0,8.0,2.0,16.0,6.0,1.0,2.0,14.0,12.0,2.0,3.0,15.0,21.0,5.0,3.0,15.0,5.0,1.0,5.0,15.0,5.0,11.0,4.0,52.0,6.0,3.0,3.0,5.0,15.0,3.0,2.0,1.0,3.0,2.0,2.0,12.0,3.0,2.0,2.0,2.0,1.0,1.0,1.0,2.0,2.0,1.0,1.0,1.0,2.0,3.0,92.0,1.0,1.0,1.0,1.0,10.0,1.0,4.0,3.0,2.0,1.0,10.0,2.0,2.0,7.0,10.0,4.0,3.0,2.0,8.0,6.0,8.0,8.0,9.0,4.0,2.0,6.0,5.0,9.0,9.0,3.0,1.0,3.0,4.0,12.0,2.0,85.0,6.0,55.0,2.0,17.0,3.0,1.0,1.0,6.0,122.0,1.0,9.0,13.0,7.0,46.0,25.0,35.0,11.0,1.0,7.0,10.0,29.0,3.0,1.0,2.0,3.0,6.0,3.0,3.0,8.0,14.0,9.0,1.0,1.0,1.0,1.0,6.0,2.0,14.0,14.0,20.0,10.0,2.0,12.0,5.0,119.0,20.0,1.0,211.0,13.0,18.0,33.0,86.0,6.0,12.0,1.0,8.0,14.0,12.0,3.0,37.0,13.0,2.0,4.0,9.0,1.0,2.0,3.0,12.0,7.0,19.0,29.0,5.0,1.0,7.0,1.0,1.0,2.0,25.0,9.0,4.0,5.0,6.0,8.0,6.0,6.0,8.0,6.0,8.0,9.0,12.0,16.0,15.0,14.0,6.0,9.0,12.0,1.0,1.0,1.0,3.0,5.0,14.0,3.0,1.0,18.0,8.0,6.0,3.0,116.0,7.0,1.0,1.0,1.0,3.0,102.0,2.0,9.0,8.0,3.0,3.0,3.0,7.0,8.0,2.0,6.0,16.0,16.0,8.0,31.0,12.0,14.0,6.0,6.0,6.0,6.0,7.0,15.0,16.0,7.0,10.0,22.0,1.0,1.0,2.0,1.0,1.0,1.0,1.0,1.0,2.0,1.0,171.0,5.0,1.0,1.0,2.0,3.0,1.0,5.0,39.0,1.0,2.0,1.0,1.0,1.0,1.0,3.0,1.0,1.0,12.0,1.0,5.0,10.0,1.0,2.0,2.0,1.0,3.0,6.0,10.0,2.0,35.0,30.0,2.0,137.0,2.0,4.0,2.0,1.0,7.0,7.0,3.0,1.0,5.0,16.0,2.0,3.0,2.0,4.0,12.0,2.0,2.0,2.0,7.0,5.0,1.0,1.0,2.0,2.0,12.0,1.0,1.0,1.0,1.0,1.0,2.0,1.0,1.0,7.0,2.0,2.0,13.0,1.0,1.0,2.0,5.0,6.0,2.0,1.0,1.0,3.0,27.0,4.0,8.0,20.0,9.0,3.0,40.0,14.0,16.0,3.0,252.0,440.0,47.0,24.0,160.0,14.0,11.0,13.0,1.0,2.0,2.0,3.0,4.0,2.0,5.0,1.0,4.0,2.0,2.0,3.0,22.0,13.0,4.0,5.0,2.0,1.0,3.0,12.0,2.0,8.0,79.0,2.0,3.0,9.0,6.0,8.0,1.0,223.0,20.0,11.0,13.0,3.0,346.0,29.0,8.0,17.0,4.0,52.0,7.0,454.0,1.0,7.0,15.0,14.0,84.0,2.0,2.0,3.0,4.0,11.0,3.0,5.0,5.0,85.0,1.0,1.0,5.0,5.0,9.0,16.0,4.0,4.0,4.0,7.0,24.0,7.0,49.0,55.0,6.0,1.0,1.0,6.0,25.0,13.0,69.0,5.0,14.0,7.0,7.0,30.0,44.0,3.0,10.0,15.0,24.0,5.0,1.0,9.0,3.0,8.0,2.0,5.0,10.0,55.0,6.0,29.0,4.0,6.0,29.0,14.0,61.0,69.0,4.0,19.0,42.0,7.0,17.0,4.0,27.0,24.0,5.0,55.0,25.0,3.0,26.0,6.0,9.0,167.0,15.0,17.0,1.0,2.0,4.0,10.0,9.0,2.0,68.0,3.0,4.0,7.0,4.0,14.0,5.0,53.0,72.0,32.0,9.0,85.0,6.0,27.0,1.0,42.0,2.0,637.0,8.0,2.0,5.0,31.0,15.0,2.0,3.0,2.0,3.0,42.0,1.0,1.0,40.0,3.0,36.0,2.0,12.0,4.0,1.0,2.0,4.0,9.0,8.0,2.0,4.0,1.0,8.0,2.0,9.0,85.0,12.0,24.0,28.0,9.0,1.0,3.0,1.0,3.0,1.0,8.0,22.0,37.0,15.0,1.0,20.0,3.0,5.0,3.0,2.0,6.0,8.0,137.0,6.0,1.0,4.0,2.0,82.0,58.0,190.0,20.0,5.0,1.0,213.0,4.0,6.0,1.0,20.0,11.0,3.0,17.0,1.0,69.0,1.0,3.0,5.0,2.0,11.0,6.0,8.0,7.0,17.0,20.0,18.0,11.0,4.0,4.0,11.0,9.0,3.0,5.0,5.0,24.0,2.0,3.0,14.0,25.0,2.0,43.0,3.0,1.0,1.0,2.0,3.0,9.0,2.0,2.0,1.0,25.0,1.0,1.0,1.0,5.0,10.0,5.0,11.0,5.0,3.0,5.0,41.0,5.0,2.0,2.0,3.0,9.0,4.0,1.0,1.0,1.0,1.0,2.0,1.0,2.0,54.0,16.0,44.0,1.0,1.0,5.0,1.0,1.0,5.0,68.0,1.0,1.0,9.0,4.0,3.0,10.0,1.0,17.0,2.0,2.0,2.0,3.0,2.0,2.0,8.0,345.0,13.0,91.0,3.0,8.0,4.0,26.0,3.0,1.0,2.0,77.0,3.0,187.0,20.0,4.0,4.0,6.0,7.0,56.0,1.0,3.0,3.0,2.0,1.0,4.0,13.0,2.0,2.0,35.0,2.0,2.0,2.0,2.0,2.0,2.0,2.0,2.0,11.0,4.0,1.0,1.0,7.0,7.0,1.0,2.0,4.0,28.0,2.0,1.0,1.0,1.0,1.0,1.0,1.0,1.0,2.0,8.0,3.0,19.0,16.0,1.0,21.0,1.0,1.0,9.0,2.0,2.0,2.0,3.0,2.0,5.0,27.0,17.0,9.0,11.0,10.0,2.0,2.0,9.0,4.0,5.0,8.0,1.0,11.0,1.0,2.0,10.0,2.0,2.0,2.0,1.0,20.0,2.0,7.0,4.0,8.0,1.0,5.0,1.0,3.0,48.0,4.0,14.0,19.0,2.0,8.0,2.0,4.0,22.0,4.0,3.0,1.0,2.0,5.0,2.0,22.0,1.0,9.0,5.0,4.0,2.0,1.0,1.0,8.0,6.0,5.0,8.0,3.0,2.0,2.0,2.0,4.0,1.0,16.0,5.0,1.0,2.0,8.0,9.0,3.0,4.0,1.0,2.0,3.0,2.0,7.0,2.0,24.0,4.0,6.0,8.0,11.0,4.0,3.0,58.0,7.0,5.0,5.0,3.0,8.0,5.0,68.0,22.0,2.0,9.0,12.0,3.0,61.0,2.0,1.0,1.0,2.0,1.0,1.0,2.0,1.0,2.0,1.0,3.0,10.0,4.0,7.0,17.0,6.0,2.0,15.0,1.0,1.0,3.0,22.0,10.0,3.0,6.0,1.0,6.0,1.0,9.0,1.0,1.0,1.0,1.0,22.0,3.0,2.0,1.0,6.0,1.0,1.0,12.0,11.0,2.0,1.0,5.0,1.0,38.0,22.0,1.0,3.0,68.0,1.0,4.0,6.0,19.0,4.0,1.0,142.0,2.0,1.0,6.0,17.0,3.0,2.0,2.0,5.0,11.0,4.0,3.0,64.0,2.0,1.0,3.0,1.0,1.0,2.0,7.0,1.0,3.0,8.0,51.0,2.0,38.0,1.0,3.0,17.0,1.0,9.0,8.0,2.0,1.0,6.0,2.0,8.0,7.0,1.0,3.0,20.0,12.0,7.0,44.0,5.0,91.0,3.0,4.0,2.0,30.0,14.0,20.0,2.0,1.0,1.0,1.0,2.0,1.0,1.0,16.0,2.0,1.0,2.0,2.0,1.0,8.0,2.0,2.0,2.0,8.0,1.0,1.0,5.0,2.0,4.0,13.0,5.0,9.0,3.0,2.0,21.0,4.0,7.0,3.0,1.0,1.0,1.0,1.0,1.0,1.0,6.0,3.0,29.0,28.0,6.0,4.0,6.0,6.0,3.0,4.0,55.0,8.0,2.0,5.0,4.0,1.0,3.0,25.0,3.0,3.0,8.0,15.0,2.0,2.0,279.0,25.0,3.0,33.0,11.0,14.0,3.0,35.0,4.0,2.0,9.0,2.0,1.0,299.0,3.0,2.0,7.0,1.0,1.0,13.0,2.0,2.0,2.0,3.0,2.0,18.0,5.0,1.0,20.0,5.0,2.0,6.0,7.0,15.0,12.0,1.0,8.0,26.0,2.0,1.0,1.0,8.0,9.0,3.0,4.0,2.0,1.0,1.0,14.0,3.0,3.0,5.0,1.0,6.0,2.0,1.0,1.0,1.0,1.0,1.0,4.0,32.0,3.0,4.0,22.0,2.0,2.0,7.0,4.0,70.0,26.0,1.0,3.0,2.0,3.0,26.0,6.0,5.0,5.0,2.0,1.0,3.0,2.0,8.0,37.0,14.0,1.0,1.0,6.0,8.0,6.0,25.0,1.0,2.0,10.0,10.0,1.0,1.0,14.0,1.0,8.0,38.0,11.0,10.0,9.0,10.0,7.0,11.0,9.0,26.0,6.0,7.0,24.0,6.0,7.0,6.0,6.0,6.0,20.0,2.0,7.0,2.0,2.0,1.0,4.0,18.0,26.0,2.0,2.0,2.0,1.0,1.0,4.0,1.0,1.0,3.0,1.0,2.0,16.0,24.0,8.0,2.0,22.0,2.0,2.0,8.0,7.0,6.0,8.0,5.0,8.0,3.0,2.0,3.0,3.0,3.0,47.0,19.0,2.0,6.0,4.0,2.0,1.0,37.0,8.0,6.0,17.0,5.0,4.0,11.0,5.0,6.0,3.0,13.0,4.0,6.0,1.0,1.0,3.0,1.0,1.0,1.0,4.0,1.0,1.0,4.0,5.0,35.0,9.0,1.0,1.0,1.0,2.0,3.0,9.0,1.0,2.0,3.0,2.0,11.0,11.0,2.0,1.0,1.0,4.0,92.0,424.0,24.0,167.0,3.0,47.0,6.0,6.0,2.0,45.0,2.0,2.0,3.0,32.0,5.0,7.0,4.0,1.0,3.0,5.0,5.0,11.0,3.0,2.0,5.0,7.0,9.0,2.0,9.0,6.0,23.0,7.0,111.0,8.0,11.0,1.0,4.0,26.0,2.0,7.0,1.0,6.0,1.0,9.0,22.0,265.0,40.0,1.0,15.0,22.0,1.0,7.0,7.0,4.0,1.0,1.0,23.0,5.0,1.0,4.0,8.0,2.0,7.0,8.0,12.0,3.0,2.0,2.0,2.0,6.0,26.0,1.0,12.0,17.0,7.0,1.0,8.0,19.0,2.0,11.0,1.0,1.0,1.0,1.0,1.0,466.0,1.0,4.0,1.0,4.0,425.0,7.0,1.0,1.0,1.0,1.0,67.0,3.0,1.0,1.0,1.0,161.0,1.0,19.0,6.0,2.0,6.0,4.0,1.0,1.0,6.0,6.0,5.0,6.0,3.0,3.0,2.0,4.0,2.0,43.0,2.0,6.0,2.0,2.0,7.0,10.0,4.0,2.0,2.0,2.0,1.0,32.0,2.0,4.0,1.0,2.0,23.0,1.0],\"xaxis\":\"x\",\"yaxis\":\"y\"}],                        {\"barmode\":\"relative\",\"height\":600,\"legend\":{\"tracegroupgap\":0},\"margin\":{\"t\":60},\"template\":{\"data\":{\"bar\":[{\"error_x\":{\"color\":\"#2a3f5f\"},\"error_y\":{\"color\":\"#2a3f5f\"},\"marker\":{\"line\":{\"color\":\"#E5ECF6\",\"width\":0.5},\"pattern\":{\"fillmode\":\"overlay\",\"size\":10,\"solidity\":0.2}},\"type\":\"bar\"}],\"barpolar\":[{\"marker\":{\"line\":{\"color\":\"#E5ECF6\",\"width\":0.5},\"pattern\":{\"fillmode\":\"overlay\",\"size\":10,\"solidity\":0.2}},\"type\":\"barpolar\"}],\"carpet\":[{\"aaxis\":{\"endlinecolor\":\"#2a3f5f\",\"gridcolor\":\"white\",\"linecolor\":\"white\",\"minorgridcolor\":\"white\",\"startlinecolor\":\"#2a3f5f\"},\"baxis\":{\"endlinecolor\":\"#2a3f5f\",\"gridcolor\":\"white\",\"linecolor\":\"white\",\"minorgridcolor\":\"white\",\"startlinecolor\":\"#2a3f5f\"},\"type\":\"carpet\"}],\"choropleth\":[{\"colorbar\":{\"outlinewidth\":0,\"ticks\":\"\"},\"type\":\"choropleth\"}],\"contour\":[{\"colorbar\":{\"outlinewidth\":0,\"ticks\":\"\"},\"colorscale\":[[0.0,\"#0d0887\"],[0.1111111111111111,\"#46039f\"],[0.2222222222222222,\"#7201a8\"],[0.3333333333333333,\"#9c179e\"],[0.4444444444444444,\"#bd3786\"],[0.5555555555555556,\"#d8576b\"],[0.6666666666666666,\"#ed7953\"],[0.7777777777777778,\"#fb9f3a\"],[0.8888888888888888,\"#fdca26\"],[1.0,\"#f0f921\"]],\"type\":\"contour\"}],\"contourcarpet\":[{\"colorbar\":{\"outlinewidth\":0,\"ticks\":\"\"},\"type\":\"contourcarpet\"}],\"heatmap\":[{\"colorbar\":{\"outlinewidth\":0,\"ticks\":\"\"},\"colorscale\":[[0.0,\"#0d0887\"],[0.1111111111111111,\"#46039f\"],[0.2222222222222222,\"#7201a8\"],[0.3333333333333333,\"#9c179e\"],[0.4444444444444444,\"#bd3786\"],[0.5555555555555556,\"#d8576b\"],[0.6666666666666666,\"#ed7953\"],[0.7777777777777778,\"#fb9f3a\"],[0.8888888888888888,\"#fdca26\"],[1.0,\"#f0f921\"]],\"type\":\"heatmap\"}],\"heatmapgl\":[{\"colorbar\":{\"outlinewidth\":0,\"ticks\":\"\"},\"colorscale\":[[0.0,\"#0d0887\"],[0.1111111111111111,\"#46039f\"],[0.2222222222222222,\"#7201a8\"],[0.3333333333333333,\"#9c179e\"],[0.4444444444444444,\"#bd3786\"],[0.5555555555555556,\"#d8576b\"],[0.6666666666666666,\"#ed7953\"],[0.7777777777777778,\"#fb9f3a\"],[0.8888888888888888,\"#fdca26\"],[1.0,\"#f0f921\"]],\"type\":\"heatmapgl\"}],\"histogram\":[{\"marker\":{\"pattern\":{\"fillmode\":\"overlay\",\"size\":10,\"solidity\":0.2}},\"type\":\"histogram\"}],\"histogram2d\":[{\"colorbar\":{\"outlinewidth\":0,\"ticks\":\"\"},\"colorscale\":[[0.0,\"#0d0887\"],[0.1111111111111111,\"#46039f\"],[0.2222222222222222,\"#7201a8\"],[0.3333333333333333,\"#9c179e\"],[0.4444444444444444,\"#bd3786\"],[0.5555555555555556,\"#d8576b\"],[0.6666666666666666,\"#ed7953\"],[0.7777777777777778,\"#fb9f3a\"],[0.8888888888888888,\"#fdca26\"],[1.0,\"#f0f921\"]],\"type\":\"histogram2d\"}],\"histogram2dcontour\":[{\"colorbar\":{\"outlinewidth\":0,\"ticks\":\"\"},\"colorscale\":[[0.0,\"#0d0887\"],[0.1111111111111111,\"#46039f\"],[0.2222222222222222,\"#7201a8\"],[0.3333333333333333,\"#9c179e\"],[0.4444444444444444,\"#bd3786\"],[0.5555555555555556,\"#d8576b\"],[0.6666666666666666,\"#ed7953\"],[0.7777777777777778,\"#fb9f3a\"],[0.8888888888888888,\"#fdca26\"],[1.0,\"#f0f921\"]],\"type\":\"histogram2dcontour\"}],\"mesh3d\":[{\"colorbar\":{\"outlinewidth\":0,\"ticks\":\"\"},\"type\":\"mesh3d\"}],\"parcoords\":[{\"line\":{\"colorbar\":{\"outlinewidth\":0,\"ticks\":\"\"}},\"type\":\"parcoords\"}],\"pie\":[{\"automargin\":true,\"type\":\"pie\"}],\"scatter\":[{\"marker\":{\"colorbar\":{\"outlinewidth\":0,\"ticks\":\"\"}},\"type\":\"scatter\"}],\"scatter3d\":[{\"line\":{\"colorbar\":{\"outlinewidth\":0,\"ticks\":\"\"}},\"marker\":{\"colorbar\":{\"outlinewidth\":0,\"ticks\":\"\"}},\"type\":\"scatter3d\"}],\"scattercarpet\":[{\"marker\":{\"colorbar\":{\"outlinewidth\":0,\"ticks\":\"\"}},\"type\":\"scattercarpet\"}],\"scattergeo\":[{\"marker\":{\"colorbar\":{\"outlinewidth\":0,\"ticks\":\"\"}},\"type\":\"scattergeo\"}],\"scattergl\":[{\"marker\":{\"colorbar\":{\"outlinewidth\":0,\"ticks\":\"\"}},\"type\":\"scattergl\"}],\"scattermapbox\":[{\"marker\":{\"colorbar\":{\"outlinewidth\":0,\"ticks\":\"\"}},\"type\":\"scattermapbox\"}],\"scatterpolar\":[{\"marker\":{\"colorbar\":{\"outlinewidth\":0,\"ticks\":\"\"}},\"type\":\"scatterpolar\"}],\"scatterpolargl\":[{\"marker\":{\"colorbar\":{\"outlinewidth\":0,\"ticks\":\"\"}},\"type\":\"scatterpolargl\"}],\"scatterternary\":[{\"marker\":{\"colorbar\":{\"outlinewidth\":0,\"ticks\":\"\"}},\"type\":\"scatterternary\"}],\"surface\":[{\"colorbar\":{\"outlinewidth\":0,\"ticks\":\"\"},\"colorscale\":[[0.0,\"#0d0887\"],[0.1111111111111111,\"#46039f\"],[0.2222222222222222,\"#7201a8\"],[0.3333333333333333,\"#9c179e\"],[0.4444444444444444,\"#bd3786\"],[0.5555555555555556,\"#d8576b\"],[0.6666666666666666,\"#ed7953\"],[0.7777777777777778,\"#fb9f3a\"],[0.8888888888888888,\"#fdca26\"],[1.0,\"#f0f921\"]],\"type\":\"surface\"}],\"table\":[{\"cells\":{\"fill\":{\"color\":\"#EBF0F8\"},\"line\":{\"color\":\"white\"}},\"header\":{\"fill\":{\"color\":\"#C8D4E3\"},\"line\":{\"color\":\"white\"}},\"type\":\"table\"}]},\"layout\":{\"annotationdefaults\":{\"arrowcolor\":\"#2a3f5f\",\"arrowhead\":0,\"arrowwidth\":1},\"autotypenumbers\":\"strict\",\"coloraxis\":{\"colorbar\":{\"outlinewidth\":0,\"ticks\":\"\"}},\"colorscale\":{\"diverging\":[[0,\"#8e0152\"],[0.1,\"#c51b7d\"],[0.2,\"#de77ae\"],[0.3,\"#f1b6da\"],[0.4,\"#fde0ef\"],[0.5,\"#f7f7f7\"],[0.6,\"#e6f5d0\"],[0.7,\"#b8e186\"],[0.8,\"#7fbc41\"],[0.9,\"#4d9221\"],[1,\"#276419\"]],\"sequential\":[[0.0,\"#0d0887\"],[0.1111111111111111,\"#46039f\"],[0.2222222222222222,\"#7201a8\"],[0.3333333333333333,\"#9c179e\"],[0.4444444444444444,\"#bd3786\"],[0.5555555555555556,\"#d8576b\"],[0.6666666666666666,\"#ed7953\"],[0.7777777777777778,\"#fb9f3a\"],[0.8888888888888888,\"#fdca26\"],[1.0,\"#f0f921\"]],\"sequentialminus\":[[0.0,\"#0d0887\"],[0.1111111111111111,\"#46039f\"],[0.2222222222222222,\"#7201a8\"],[0.3333333333333333,\"#9c179e\"],[0.4444444444444444,\"#bd3786\"],[0.5555555555555556,\"#d8576b\"],[0.6666666666666666,\"#ed7953\"],[0.7777777777777778,\"#fb9f3a\"],[0.8888888888888888,\"#fdca26\"],[1.0,\"#f0f921\"]]},\"colorway\":[\"#636efa\",\"#EF553B\",\"#00cc96\",\"#ab63fa\",\"#FFA15A\",\"#19d3f3\",\"#FF6692\",\"#B6E880\",\"#FF97FF\",\"#FECB52\"],\"font\":{\"color\":\"#2a3f5f\"},\"geo\":{\"bgcolor\":\"white\",\"lakecolor\":\"white\",\"landcolor\":\"#E5ECF6\",\"showlakes\":true,\"showland\":true,\"subunitcolor\":\"white\"},\"hoverlabel\":{\"align\":\"left\"},\"hovermode\":\"closest\",\"mapbox\":{\"style\":\"light\"},\"paper_bgcolor\":\"white\",\"plot_bgcolor\":\"#E5ECF6\",\"polar\":{\"angularaxis\":{\"gridcolor\":\"white\",\"linecolor\":\"white\",\"ticks\":\"\"},\"bgcolor\":\"#E5ECF6\",\"radialaxis\":{\"gridcolor\":\"white\",\"linecolor\":\"white\",\"ticks\":\"\"}},\"scene\":{\"xaxis\":{\"backgroundcolor\":\"#E5ECF6\",\"gridcolor\":\"white\",\"gridwidth\":2,\"linecolor\":\"white\",\"showbackground\":true,\"ticks\":\"\",\"zerolinecolor\":\"white\"},\"yaxis\":{\"backgroundcolor\":\"#E5ECF6\",\"gridcolor\":\"white\",\"gridwidth\":2,\"linecolor\":\"white\",\"showbackground\":true,\"ticks\":\"\",\"zerolinecolor\":\"white\"},\"zaxis\":{\"backgroundcolor\":\"#E5ECF6\",\"gridcolor\":\"white\",\"gridwidth\":2,\"linecolor\":\"white\",\"showbackground\":true,\"ticks\":\"\",\"zerolinecolor\":\"white\"}},\"shapedefaults\":{\"line\":{\"color\":\"#2a3f5f\"}},\"ternary\":{\"aaxis\":{\"gridcolor\":\"white\",\"linecolor\":\"white\",\"ticks\":\"\"},\"baxis\":{\"gridcolor\":\"white\",\"linecolor\":\"white\",\"ticks\":\"\"},\"bgcolor\":\"#E5ECF6\",\"caxis\":{\"gridcolor\":\"white\",\"linecolor\":\"white\",\"ticks\":\"\"}},\"title\":{\"x\":0.05},\"xaxis\":{\"automargin\":true,\"gridcolor\":\"white\",\"linecolor\":\"white\",\"ticks\":\"\",\"title\":{\"standoff\":15},\"zerolinecolor\":\"white\",\"zerolinewidth\":2},\"yaxis\":{\"automargin\":true,\"gridcolor\":\"white\",\"linecolor\":\"white\",\"ticks\":\"\",\"title\":{\"standoff\":15},\"zerolinecolor\":\"white\",\"zerolinewidth\":2}}},\"width\":1000,\"xaxis\":{\"anchor\":\"y\",\"domain\":[0.0,1.0],\"title\":{\"text\":\"Number of Exchanged Messages\"}},\"yaxis\":{\"anchor\":\"x\",\"domain\":[0.0,1.0],\"title\":{\"text\":\"Number of pairs\"}}},                        {\"responsive\": true}                    ).then(function(){\n",
       "                            \n",
       "var gd = document.getElementById('b765332e-4bd4-48eb-856e-9a8e4fc04caf');\n",
       "var x = new MutationObserver(function (mutations, observer) {{\n",
       "        var display = window.getComputedStyle(gd).display;\n",
       "        if (!display || display === 'none') {{\n",
       "            console.log([gd, 'removed!']);\n",
       "            Plotly.purge(gd);\n",
       "            observer.disconnect();\n",
       "        }}\n",
       "}});\n",
       "\n",
       "// Listen for the removal of the full notebook cells\n",
       "var notebookContainer = gd.closest('#notebook-container');\n",
       "if (notebookContainer) {{\n",
       "    x.observe(notebookContainer, {childList: true});\n",
       "}}\n",
       "\n",
       "// Listen for the clearing of the current output cell\n",
       "var outputEl = gd.closest('.output');\n",
       "if (outputEl) {{\n",
       "    x.observe(outputEl, {childList: true});\n",
       "}}\n",
       "\n",
       "                        })                };                });            </script>        </div>"
      ]
     },
     "metadata": {},
     "output_type": "display_data"
    }
   ],
   "source": [
    "import plotly.express as px\n",
    "df = exchanged_messages\n",
    "fig = px.histogram(df, x=\"NumMes\", nbins=32)\n",
    "fig.update_layout(\n",
    "    width=1000,\n",
    "    height = 600,\n",
    "    xaxis_title=\"Number of Exchanged Messages\", yaxis_title=\"Number of pairs\"\n",
    ")\n",
    "fig.show()"
   ]
  },
  {
   "cell_type": "code",
   "execution_count": 76,
   "id": "16f15861-7176-4a40-a429-13251bf6b241",
   "metadata": {},
   "outputs": [
    {
     "data": {
      "text/plain": [
       "range(0, 640, 20)"
      ]
     },
     "execution_count": 76,
     "metadata": {},
     "output_type": "execute_result"
    }
   ],
   "source": [
    "bins = range(0,640,20)\n",
    "bins"
   ]
  },
  {
   "cell_type": "code",
   "execution_count": 65,
   "id": "bab21ffe-2817-4379-b9fc-ffac18f399ed",
   "metadata": {},
   "outputs": [
    {
     "data": {
      "image/png": "[encoded data removed]",
      "text/plain": [
       "<Figure size 1584x720 with 1 Axes>"
      ]
     },
     "metadata": {
      "needs_background": "light"
     },
     "output_type": "display_data"
    }
   ],
   "source": [
    "fig, ax = plt.subplots(1, 1)\n",
    "fig.set_size_inches(22, 10)\n",
    "bins = range(0,640,20)\n",
    "plt.xticks(bins)\n",
    "exchanged_messages[\"NumMes\"].plot.hist(bins=bins)\n",
    "ax.set_xlabel('Number of Sent Messages')\n",
    "ax.set_ylabel('Number of Pairs (Sender-Receiver)')\n",
    "plt.show()"
   ]
  },
  {
   "cell_type": "code",
   "execution_count": 53,
   "id": "bd406818-ae04-4504-9dc5-9c10398e2314",
   "metadata": {},
   "outputs": [
    {
     "data": {
      "text/html": [
       "<div>\n",
       "<style scoped>\n",
       "    .dataframe tbody tr th:only-of-type {\n",
       "        vertical-align: middle;\n",
       "    }\n",
       "\n",
       "    .dataframe tbody tr th {\n",
       "        vertical-align: top;\n",
       "    }\n",
       "\n",
       "    .dataframe thead th {\n",
       "        text-align: right;\n",
       "    }\n",
       "</style>\n",
       "<table border=\"1\" class=\"dataframe\">\n",
       "  <thead>\n",
       "    <tr style=\"text-align: right;\">\n",
       "      <th></th>\n",
       "      <th>Participant</th>\n",
       "      <th>Format_Media</th>\n",
       "      <th>NumberImages</th>\n",
       "    </tr>\n",
       "  </thead>\n",
       "  <tbody>\n",
       "    <tr>\n",
       "      <th>0</th>\n",
       "      <td>2807801633</td>\n",
       "      <td>image</td>\n",
       "      <td>1</td>\n",
       "    </tr>\n",
       "    <tr>\n",
       "      <th>1</th>\n",
       "      <td>2807801633</td>\n",
       "      <td>video</td>\n",
       "      <td>5</td>\n",
       "    </tr>\n",
       "    <tr>\n",
       "      <th>2</th>\n",
       "      <td>2807801636</td>\n",
       "      <td>video</td>\n",
       "      <td>1</td>\n",
       "    </tr>\n",
       "    <tr>\n",
       "      <th>3</th>\n",
       "      <td>2807801637</td>\n",
       "      <td>image</td>\n",
       "      <td>2</td>\n",
       "    </tr>\n",
       "    <tr>\n",
       "      <th>4</th>\n",
       "      <td>2807801637</td>\n",
       "      <td>video</td>\n",
       "      <td>1</td>\n",
       "    </tr>\n",
       "  </tbody>\n",
       "</table>\n",
       "</div>"
      ],
      "text/plain": [
       "  Participant Format_Media  NumberImages\n",
       "0  2807801633        image             1\n",
       "1  2807801633        video             5\n",
       "2  2807801636        video             1\n",
       "3  2807801637        image             2\n",
       "4  2807801637        video             1"
      ]
     },
     "execution_count": 53,
     "metadata": {},
     "output_type": "execute_result"
    }
   ],
   "source": [
    "df_ind_images = df_comm_ind.groupby([\"Participant\",\"Format_Media\"])[\"UMID\"].count().reset_index(name = \"NumberImages\")\n",
    "df_ind_images.head()"
   ]
  },
  {
   "cell_type": "code",
   "execution_count": 54,
   "id": "633728cc-735f-4999-af5c-cff6a0a43358",
   "metadata": {},
   "outputs": [
    {
     "data": {
      "text/plain": [
       "count   426.00\n",
       "mean      5.84\n",
       "std      10.07\n",
       "min       1.00\n",
       "25%       1.00\n",
       "50%       2.00\n",
       "75%       6.00\n",
       "max     120.00\n",
       "Name: NumberImages, dtype: float64"
      ]
     },
     "execution_count": 54,
     "metadata": {},
     "output_type": "execute_result"
    }
   ],
   "source": [
    "df_ind_images['NumberImages'].describe()"
   ]
  },
  {
   "cell_type": "code",
   "execution_count": 55,
   "id": "1111c449-ea5b-4e7d-ade0-cc0879992dee",
   "metadata": {},
   "outputs": [
    {
     "data": {
      "image/png": "[encoded data removed]",
      "text/plain": [
       "<Figure size 1584x720 with 1 Axes>"
      ]
     },
     "metadata": {
      "needs_background": "light"
     },
     "output_type": "display_data"
    }
   ],
   "source": [
    "fig, ax = plt.subplots(1, 1)\n",
    "fig.set_size_inches(22, 10)\n",
    "bins = range(1,120,5)\n",
    "plt.xticks(bins)\n",
    "df_ind_images['NumberImages'].hist(bins=bins)\n",
    "ax.set_xlabel('Number of Shared Images')\n",
    "ax.set_ylabel('Number of Participants')\n",
    "plt.show()"
   ]
  },
  {
   "cell_type": "code",
   "execution_count": 56,
   "id": "b0711f30-e58d-4646-ba7c-93175fdce414",
   "metadata": {},
   "outputs": [
    {
     "data": {
      "text/plain": [
       "array(['27-2-2018', '28-2-2018', '1-3-2018', '2-3-2018', '4-3-2018',\n",
       "       '3-3-2018', '5-3-2018', '7-3-2018', '8-3-2018', '9-3-2018',\n",
       "       '11-3-2018', '13-3-2018', '10-3-2018', '12-3-2018', '6-3-2018',\n",
       "       '14-3-2018', '15-3-2018', '16-3-2018', '17-3-2018', '18-3-2018',\n",
       "       '20-3-2018', '19-3-2018', '15-2-2018', '16-2-2018', '17-2-2018',\n",
       "       '18-2-2018', '20-2-2018', '19-2-2018', '21-2-2018'], dtype=object)"
      ]
     },
     "execution_count": 56,
     "metadata": {},
     "output_type": "execute_result"
    }
   ],
   "source": [
    "df_comm_ind['Date'].unique()"
   ]
  },
  {
   "cell_type": "code",
   "execution_count": 57,
   "id": "b78a5bf8-bbc5-48bb-ba10-c6ecc366738c",
   "metadata": {},
   "outputs": [
    {
     "data": {
      "text/html": [
       "<div>\n",
       "<style scoped>\n",
       "    .dataframe tbody tr th:only-of-type {\n",
       "        vertical-align: middle;\n",
       "    }\n",
       "\n",
       "    .dataframe tbody tr th {\n",
       "        vertical-align: top;\n",
       "    }\n",
       "\n",
       "    .dataframe thead th {\n",
       "        text-align: right;\n",
       "    }\n",
       "</style>\n",
       "<table border=\"1\" class=\"dataframe\">\n",
       "  <thead>\n",
       "    <tr style=\"text-align: right;\">\n",
       "      <th></th>\n",
       "      <th>Date</th>\n",
       "      <th>UMID</th>\n",
       "    </tr>\n",
       "  </thead>\n",
       "  <tbody>\n",
       "    <tr>\n",
       "      <th>0</th>\n",
       "      <td>1-3-2018</td>\n",
       "      <td>1552</td>\n",
       "    </tr>\n",
       "    <tr>\n",
       "      <th>1</th>\n",
       "      <td>10-3-2018</td>\n",
       "      <td>565</td>\n",
       "    </tr>\n",
       "    <tr>\n",
       "      <th>2</th>\n",
       "      <td>11-3-2018</td>\n",
       "      <td>281</td>\n",
       "    </tr>\n",
       "    <tr>\n",
       "      <th>3</th>\n",
       "      <td>12-3-2018</td>\n",
       "      <td>251</td>\n",
       "    </tr>\n",
       "    <tr>\n",
       "      <th>4</th>\n",
       "      <td>13-3-2018</td>\n",
       "      <td>719</td>\n",
       "    </tr>\n",
       "    <tr>\n",
       "      <th>5</th>\n",
       "      <td>14-3-2018</td>\n",
       "      <td>559</td>\n",
       "    </tr>\n",
       "    <tr>\n",
       "      <th>6</th>\n",
       "      <td>15-2-2018</td>\n",
       "      <td>1241</td>\n",
       "    </tr>\n",
       "    <tr>\n",
       "      <th>7</th>\n",
       "      <td>15-3-2018</td>\n",
       "      <td>549</td>\n",
       "    </tr>\n",
       "    <tr>\n",
       "      <th>8</th>\n",
       "      <td>16-2-2018</td>\n",
       "      <td>1185</td>\n",
       "    </tr>\n",
       "    <tr>\n",
       "      <th>9</th>\n",
       "      <td>16-3-2018</td>\n",
       "      <td>618</td>\n",
       "    </tr>\n",
       "    <tr>\n",
       "      <th>10</th>\n",
       "      <td>17-2-2018</td>\n",
       "      <td>727</td>\n",
       "    </tr>\n",
       "    <tr>\n",
       "      <th>11</th>\n",
       "      <td>17-3-2018</td>\n",
       "      <td>363</td>\n",
       "    </tr>\n",
       "    <tr>\n",
       "      <th>12</th>\n",
       "      <td>18-2-2018</td>\n",
       "      <td>330</td>\n",
       "    </tr>\n",
       "    <tr>\n",
       "      <th>13</th>\n",
       "      <td>18-3-2018</td>\n",
       "      <td>155</td>\n",
       "    </tr>\n",
       "    <tr>\n",
       "      <th>14</th>\n",
       "      <td>19-2-2018</td>\n",
       "      <td>343</td>\n",
       "    </tr>\n",
       "    <tr>\n",
       "      <th>15</th>\n",
       "      <td>19-3-2018</td>\n",
       "      <td>198</td>\n",
       "    </tr>\n",
       "    <tr>\n",
       "      <th>16</th>\n",
       "      <td>2-3-2018</td>\n",
       "      <td>1793</td>\n",
       "    </tr>\n",
       "    <tr>\n",
       "      <th>17</th>\n",
       "      <td>20-2-2018</td>\n",
       "      <td>277</td>\n",
       "    </tr>\n",
       "    <tr>\n",
       "      <th>18</th>\n",
       "      <td>20-3-2018</td>\n",
       "      <td>14</td>\n",
       "    </tr>\n",
       "    <tr>\n",
       "      <th>19</th>\n",
       "      <td>21-2-2018</td>\n",
       "      <td>30</td>\n",
       "    </tr>\n",
       "    <tr>\n",
       "      <th>20</th>\n",
       "      <td>27-2-2018</td>\n",
       "      <td>522</td>\n",
       "    </tr>\n",
       "    <tr>\n",
       "      <th>21</th>\n",
       "      <td>28-2-2018</td>\n",
       "      <td>588</td>\n",
       "    </tr>\n",
       "    <tr>\n",
       "      <th>22</th>\n",
       "      <td>3-3-2018</td>\n",
       "      <td>2705</td>\n",
       "    </tr>\n",
       "    <tr>\n",
       "      <th>23</th>\n",
       "      <td>4-3-2018</td>\n",
       "      <td>1339</td>\n",
       "    </tr>\n",
       "    <tr>\n",
       "      <th>24</th>\n",
       "      <td>5-3-2018</td>\n",
       "      <td>596</td>\n",
       "    </tr>\n",
       "    <tr>\n",
       "      <th>25</th>\n",
       "      <td>6-3-2018</td>\n",
       "      <td>1987</td>\n",
       "    </tr>\n",
       "    <tr>\n",
       "      <th>26</th>\n",
       "      <td>7-3-2018</td>\n",
       "      <td>2229</td>\n",
       "    </tr>\n",
       "    <tr>\n",
       "      <th>27</th>\n",
       "      <td>8-3-2018</td>\n",
       "      <td>2714</td>\n",
       "    </tr>\n",
       "    <tr>\n",
       "      <th>28</th>\n",
       "      <td>9-3-2018</td>\n",
       "      <td>1621</td>\n",
       "    </tr>\n",
       "  </tbody>\n",
       "</table>\n",
       "</div>"
      ],
      "text/plain": [
       "         Date  UMID\n",
       "0    1-3-2018  1552\n",
       "1   10-3-2018   565\n",
       "2   11-3-2018   281\n",
       "3   12-3-2018   251\n",
       "4   13-3-2018   719\n",
       "5   14-3-2018   559\n",
       "6   15-2-2018  1241\n",
       "7   15-3-2018   549\n",
       "8   16-2-2018  1185\n",
       "9   16-3-2018   618\n",
       "10  17-2-2018   727\n",
       "11  17-3-2018   363\n",
       "12  18-2-2018   330\n",
       "13  18-3-2018   155\n",
       "14  19-2-2018   343\n",
       "15  19-3-2018   198\n",
       "16   2-3-2018  1793\n",
       "17  20-2-2018   277\n",
       "18  20-3-2018    14\n",
       "19  21-2-2018    30\n",
       "20  27-2-2018   522\n",
       "21  28-2-2018   588\n",
       "22   3-3-2018  2705\n",
       "23   4-3-2018  1339\n",
       "24   5-3-2018   596\n",
       "25   6-3-2018  1987\n",
       "26   7-3-2018  2229\n",
       "27   8-3-2018  2714\n",
       "28   9-3-2018  1621"
      ]
     },
     "execution_count": 57,
     "metadata": {},
     "output_type": "execute_result"
    }
   ],
   "source": [
    "df_comm_ind.groupby(['Date'])['UMID'].count().reset_index()"
   ]
  },
  {
   "cell_type": "markdown",
   "id": "b875ca0e-eb28-483b-8078-b0763c139552",
   "metadata": {},
   "source": [
    "### Group messages"
   ]
  },
  {
   "cell_type": "code",
   "execution_count": 58,
   "id": "c68da3c3-8cb8-4c2f-a6f0-bdd4792a5381",
   "metadata": {},
   "outputs": [
    {
     "data": {
      "text/plain": [
       "Class\n",
       "78.00     18\n",
       "81.00     19\n",
       "100.00    19\n",
       "124.00    17\n",
       "125.00    16\n",
       "256.00    22\n",
       "258.00    16\n",
       "261.00    17\n",
       "262.00    15\n",
       "263.00    20\n",
       "272.00    24\n",
       "273.00    24\n",
       "292.00    21\n",
       "296.00    17\n",
       "297.00    16\n",
       "298.00    21\n",
       "299.00    19\n",
       "300.00    19\n",
       "301.00    24\n",
       "302.00    19\n",
       "303.00    25\n",
       "Name: Participant, dtype: int64"
      ]
     },
     "execution_count": 58,
     "metadata": {},
     "output_type": "execute_result"
    }
   ],
   "source": [
    "df_comm_ind.groupby([\"Class\"])[\"Participant\"].nunique()"
   ]
  },
  {
   "cell_type": "code",
   "execution_count": 59,
   "id": "5a348a08-613e-4ba0-9505-e06c2dfc89a9",
   "metadata": {},
   "outputs": [
    {
     "data": {
      "text/html": [
       "<div>\n",
       "<style scoped>\n",
       "    .dataframe tbody tr th:only-of-type {\n",
       "        vertical-align: middle;\n",
       "    }\n",
       "\n",
       "    .dataframe tbody tr th {\n",
       "        vertical-align: top;\n",
       "    }\n",
       "\n",
       "    .dataframe thead th {\n",
       "        text-align: right;\n",
       "    }\n",
       "</style>\n",
       "<table border=\"1\" class=\"dataframe\">\n",
       "  <thead>\n",
       "    <tr style=\"text-align: right;\">\n",
       "      <th></th>\n",
       "      <th>Child</th>\n",
       "      <th>UMID</th>\n",
       "    </tr>\n",
       "  </thead>\n",
       "  <tbody>\n",
       "    <tr>\n",
       "      <th>0</th>\n",
       "      <td>1605.00</td>\n",
       "      <td>14</td>\n",
       "    </tr>\n",
       "    <tr>\n",
       "      <th>1</th>\n",
       "      <td>1606.00</td>\n",
       "      <td>3</td>\n",
       "    </tr>\n",
       "    <tr>\n",
       "      <th>2</th>\n",
       "      <td>1607.00</td>\n",
       "      <td>27</td>\n",
       "    </tr>\n",
       "    <tr>\n",
       "      <th>3</th>\n",
       "      <td>1608.00</td>\n",
       "      <td>2</td>\n",
       "    </tr>\n",
       "    <tr>\n",
       "      <th>4</th>\n",
       "      <td>1609.00</td>\n",
       "      <td>3</td>\n",
       "    </tr>\n",
       "  </tbody>\n",
       "</table>\n",
       "</div>"
      ],
      "text/plain": [
       "    Child  UMID\n",
       "0 1605.00    14\n",
       "1 1606.00     3\n",
       "2 1607.00    27\n",
       "3 1608.00     2\n",
       "4 1609.00     3"
      ]
     },
     "execution_count": 59,
     "metadata": {},
     "output_type": "execute_result"
    }
   ],
   "source": [
    "df_group_messages_per_child = df_comm_group.groupby(\"Child\")[\"UMID\"].count().reset_index()\n",
    "df_group_messages_per_child.head()"
   ]
  },
  {
   "cell_type": "code",
   "execution_count": 60,
   "id": "4e367bb9-a647-4e88-ad51-f3338a3882d2",
   "metadata": {},
   "outputs": [
    {
     "data": {
      "text/plain": [
       "count   401.00\n",
       "mean     74.14\n",
       "std      90.68\n",
       "min       1.00\n",
       "25%      12.00\n",
       "50%      36.00\n",
       "75%     110.00\n",
       "max     539.00\n",
       "Name: UMID, dtype: float64"
      ]
     },
     "execution_count": 60,
     "metadata": {},
     "output_type": "execute_result"
    }
   ],
   "source": [
    "df_group_messages_per_child['UMID'].describe()"
   ]
  },
  {
   "cell_type": "code",
   "execution_count": 61,
   "id": "0f48bc01-2544-495b-9018-714ef91d68bb",
   "metadata": {},
   "outputs": [
    {
     "data": {
      "image/png": "[encoded data removed]",
      "text/plain": [
       "<Figure size 1584x720 with 1 Axes>"
      ]
     },
     "metadata": {
      "needs_background": "light"
     },
     "output_type": "display_data"
    }
   ],
   "source": [
    "fig, ax = plt.subplots(1, 1)\n",
    "fig.set_size_inches(22, 10)\n",
    "bins = range(0,540,10)\n",
    "plt.xticks(bins)\n",
    "df_group_messages_per_child['UMID'].plot.hist(bins=bins)\n",
    "ax.set_xlabel('Number of Sent Messages')\n",
    "ax.set_ylabel('Number of Participants')\n",
    "plt.show()"
   ]
  },
  {
   "cell_type": "code",
   "execution_count": 62,
   "id": "1b9c7f1d-063b-4836-a090-4c8d9b25f965",
   "metadata": {},
   "outputs": [],
   "source": [
    "df_comm_group = df_comm_group.astype({'Number_likes': 'int32'})"
   ]
  },
  {
   "cell_type": "code",
   "execution_count": 63,
   "id": "9d3b74b6-5f59-4e0a-95d8-81eedea84514",
   "metadata": {},
   "outputs": [],
   "source": [
    "df_child_like = df_comm_group.groupby(['Child'])['Number_likes'].sum().reset_index()"
   ]
  },
  {
   "cell_type": "code",
   "execution_count": 64,
   "id": "cc99a28f-ceb5-4431-816f-bea25ca52943",
   "metadata": {},
   "outputs": [
    {
     "data": {
      "text/plain": [
       "count   401.00\n",
       "mean     12.44\n",
       "std      16.19\n",
       "min       0.00\n",
       "25%       2.00\n",
       "50%       8.00\n",
       "75%      17.00\n",
       "max     156.00\n",
       "Name: Number_likes, dtype: float64"
      ]
     },
     "execution_count": 64,
     "metadata": {},
     "output_type": "execute_result"
    }
   ],
   "source": [
    "df_child_like['Number_likes'].describe()"
   ]
  },
  {
   "cell_type": "code",
   "execution_count": 65,
   "id": "f4661c39-4b96-4e69-8847-63ed9510cfe0",
   "metadata": {},
   "outputs": [
    {
     "data": {
      "image/png": "[encoded data removed]",
      "text/plain": [
       "<Figure size 1584x720 with 1 Axes>"
      ]
     },
     "metadata": {
      "needs_background": "light"
     },
     "output_type": "display_data"
    }
   ],
   "source": [
    "fig, ax = plt.subplots(1, 1)\n",
    "fig.set_size_inches(22, 10)\n",
    "bins = range(0,200,5)\n",
    "plt.xticks(bins)\n",
    "df_child_like['Number_likes'].plot.hist(bins=bins)\n",
    "ax.set_xlabel('Number of Likes')\n",
    "ax.set_ylabel('Number of Participants')\n",
    "plt.show()"
   ]
  },
  {
   "cell_type": "code",
   "execution_count": 66,
   "id": "c49a64ff-e3a7-4781-a293-c6ced03b2a9c",
   "metadata": {},
   "outputs": [
    {
     "data": {
      "text/plain": [
       "(3501, 2487)"
      ]
     },
     "execution_count": 66,
     "metadata": {},
     "output_type": "execute_result"
    }
   ],
   "source": [
    "# images exhanged in group vs peer-to-peer communication\n",
    "df_comm_group['Format_Media'].count(),df_comm_ind['Format_Media'].count()"
   ]
  },
  {
   "cell_type": "code",
   "execution_count": 67,
   "id": "f1a398dd-2d67-4440-bbdd-454124d80e4a",
   "metadata": {},
   "outputs": [
    {
     "data": {
      "text/html": [
       "<div>\n",
       "<style scoped>\n",
       "    .dataframe tbody tr th:only-of-type {\n",
       "        vertical-align: middle;\n",
       "    }\n",
       "\n",
       "    .dataframe tbody tr th {\n",
       "        vertical-align: top;\n",
       "    }\n",
       "\n",
       "    .dataframe thead th {\n",
       "        text-align: right;\n",
       "    }\n",
       "</style>\n",
       "<table border=\"1\" class=\"dataframe\">\n",
       "  <thead>\n",
       "    <tr style=\"text-align: right;\">\n",
       "      <th></th>\n",
       "      <th>Participant</th>\n",
       "      <th>Format_Media</th>\n",
       "      <th>NumberImages</th>\n",
       "    </tr>\n",
       "  </thead>\n",
       "  <tbody>\n",
       "    <tr>\n",
       "      <th>0</th>\n",
       "      <td>2807801633</td>\n",
       "      <td>image</td>\n",
       "      <td>2</td>\n",
       "    </tr>\n",
       "    <tr>\n",
       "      <th>1</th>\n",
       "      <td>2807801636</td>\n",
       "      <td>image</td>\n",
       "      <td>1</td>\n",
       "    </tr>\n",
       "    <tr>\n",
       "      <th>2</th>\n",
       "      <td>2807801636</td>\n",
       "      <td>video</td>\n",
       "      <td>1</td>\n",
       "    </tr>\n",
       "    <tr>\n",
       "      <th>3</th>\n",
       "      <td>2807801637</td>\n",
       "      <td>image</td>\n",
       "      <td>1</td>\n",
       "    </tr>\n",
       "    <tr>\n",
       "      <th>4</th>\n",
       "      <td>2807801639</td>\n",
       "      <td>image</td>\n",
       "      <td>1</td>\n",
       "    </tr>\n",
       "  </tbody>\n",
       "</table>\n",
       "</div>"
      ],
      "text/plain": [
       "  Participant Format_Media  NumberImages\n",
       "0  2807801633        image             2\n",
       "1  2807801636        image             1\n",
       "2  2807801636        video             1\n",
       "3  2807801637        image             1\n",
       "4  2807801639        image             1"
      ]
     },
     "execution_count": 67,
     "metadata": {},
     "output_type": "execute_result"
    }
   ],
   "source": [
    "df_group_images = df_comm_group.groupby([\"Participant\",\"Format_Media\"])[\"UMID\"].count().reset_index(name = \"NumberImages\")\n",
    "df_group_images.head()"
   ]
  },
  {
   "cell_type": "code",
   "execution_count": 68,
   "id": "c9fe5450-0aa2-4898-b1a8-3d7fa9b661b8",
   "metadata": {},
   "outputs": [
    {
     "data": {
      "text/plain": [
       "count   556.00\n",
       "mean      6.30\n",
       "std       8.99\n",
       "min       1.00\n",
       "25%       2.00\n",
       "50%       4.00\n",
       "75%       7.00\n",
       "max     126.00\n",
       "Name: NumberImages, dtype: float64"
      ]
     },
     "execution_count": 68,
     "metadata": {},
     "output_type": "execute_result"
    }
   ],
   "source": [
    "df_group_images['NumberImages'].describe()"
   ]
  },
  {
   "cell_type": "code",
   "execution_count": 69,
   "id": "d175434e-877c-432a-ac29-0ce3444aeebf",
   "metadata": {},
   "outputs": [
    {
     "data": {
      "image/png": "[encoded data removed]",
      "text/plain": [
       "<Figure size 1584x720 with 1 Axes>"
      ]
     },
     "metadata": {
      "needs_background": "light"
     },
     "output_type": "display_data"
    }
   ],
   "source": [
    "\n",
    "fig, ax = plt.subplots(1, 1)\n",
    "fig.set_size_inches(22, 10)\n",
    "bins = range(1,130,5)\n",
    "plt.xticks(bins)\n",
    "df_group_images['NumberImages'].plot.hist(bins=bins)\n",
    "ax.set_xlabel('Number of Images')\n",
    "ax.set_ylabel('Number of Participants')\n",
    "plt.show()"
   ]
  }
 ],
 "metadata": {
  "kernelspec": {
   "display_name": "ABM-PA",
   "language": "python",
   "name": "abm-pa"
  },
  "language_info": {
   "codemirror_mode": {
    "name": "ipython",
    "version": 3
   },
   "file_extension": ".py",
   "mimetype": "text/x-python",
   "name": "python",
   "nbconvert_exporter": "python",
   "pygments_lexer": "ipython3",
   "version": "3.9.5"
  }
 },
 "nbformat": 4,
 "nbformat_minor": 5
}
