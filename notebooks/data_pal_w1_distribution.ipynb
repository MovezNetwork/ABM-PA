{
 "cells": [
  {
   "cell_type": "code",
   "execution_count": 35,
   "outputs": [],
   "source": [
    "import pandas as pd\n",
    "import matplotlib.pyplot as plt\n",
    "from statsmodels.distributions.empirical_distribution import ECDF\n",
    "import numpy as np"
   ],
   "metadata": {
    "collapsed": false,
    "pycharm": {
     "name": "#%%\n"
    }
   }
  },
  {
   "cell_type": "markdown",
   "source": [
    "# Distribution of physical activity level (PAL) in Wave 1\n",
    "\n",
    "## PAL per child"
   ],
   "metadata": {
    "collapsed": false,
    "pycharm": {
     "name": "#%% md\n"
    }
   }
  },
  {
   "cell_type": "code",
   "execution_count": 29,
   "outputs": [],
   "source": [
    "# Read data\n",
    "fitbit_new = pd.read_csv('../data/Fitbit_Imputation_FINAL.csv', sep=';', header=0)\n",
    "main_w2 = pd.read_csv(\"../data/W2_Main_Questions.csv\", sep=';', header=0, encoding='latin-1')"
   ],
   "metadata": {
    "collapsed": false,
    "pycharm": {
     "name": "#%%\n"
    }
   }
  },
  {
   "cell_type": "code",
   "execution_count": 21,
   "outputs": [
    {
     "data": {
      "text/plain": "             Child   Wave       Steps\ncount   926.000000  926.0  926.000000\nmean   2206.058315    1.0    0.916652\nstd     801.865782    0.0    0.343573\nmin     902.000000    1.0    0.123467\n25%    1455.500000    1.0    0.673142\n50%    2269.500000    1.0    0.887773\n75%    2940.750000    1.0    1.105740\nmax    4890.000000    1.0    2.246200",
      "text/html": "<div>\n<style scoped>\n    .dataframe tbody tr th:only-of-type {\n        vertical-align: middle;\n    }\n\n    .dataframe tbody tr th {\n        vertical-align: top;\n    }\n\n    .dataframe thead th {\n        text-align: right;\n    }\n</style>\n<table border=\"1\" class=\"dataframe\">\n  <thead>\n    <tr style=\"text-align: right;\">\n      <th></th>\n      <th>Child</th>\n      <th>Wave</th>\n      <th>Steps</th>\n    </tr>\n  </thead>\n  <tbody>\n    <tr>\n      <th>count</th>\n      <td>926.000000</td>\n      <td>926.0</td>\n      <td>926.000000</td>\n    </tr>\n    <tr>\n      <th>mean</th>\n      <td>2206.058315</td>\n      <td>1.0</td>\n      <td>0.916652</td>\n    </tr>\n    <tr>\n      <th>std</th>\n      <td>801.865782</td>\n      <td>0.0</td>\n      <td>0.343573</td>\n    </tr>\n    <tr>\n      <th>min</th>\n      <td>902.000000</td>\n      <td>1.0</td>\n      <td>0.123467</td>\n    </tr>\n    <tr>\n      <th>25%</th>\n      <td>1455.500000</td>\n      <td>1.0</td>\n      <td>0.673142</td>\n    </tr>\n    <tr>\n      <th>50%</th>\n      <td>2269.500000</td>\n      <td>1.0</td>\n      <td>0.887773</td>\n    </tr>\n    <tr>\n      <th>75%</th>\n      <td>2940.750000</td>\n      <td>1.0</td>\n      <td>1.105740</td>\n    </tr>\n    <tr>\n      <th>max</th>\n      <td>4890.000000</td>\n      <td>1.0</td>\n      <td>2.246200</td>\n    </tr>\n  </tbody>\n</table>\n</div>"
     },
     "execution_count": 21,
     "metadata": {},
     "output_type": "execute_result"
    }
   ],
   "source": [
    "# wave 1\n",
    "steps_by_wave = fitbit_new.groupby(['Child', 'Wave']).mean()['Steps'].reset_index()\n",
    "steps_by_wave.Steps = steps_by_wave.Steps * 0.0001\n",
    "PAL_wave1 = steps_by_wave[steps_by_wave[\"Wave\"] ==1]\n",
    "PAL_wave1 = PAL_wave1.dropna()\n",
    "PAL_wave1.describe()"
   ],
   "metadata": {
    "collapsed": false,
    "pycharm": {
     "name": "#%%\n"
    }
   }
  },
  {
   "cell_type": "code",
   "execution_count": 22,
   "outputs": [
    {
     "data": {
      "text/plain": "             Child         Sex   Wave       Steps\ncount   926.000000  926.000000  926.0  926.000000\nmean   2206.058315    0.542117    1.0    0.916652\nstd     801.865782    0.498492    0.0    0.343573\nmin     902.000000    0.000000    1.0    0.123467\n25%    1455.500000    0.000000    1.0    0.673142\n50%    2269.500000    1.000000    1.0    0.887773\n75%    2940.750000    1.000000    1.0    1.105740\nmax    4890.000000    1.000000    1.0    2.246200",
      "text/html": "<div>\n<style scoped>\n    .dataframe tbody tr th:only-of-type {\n        vertical-align: middle;\n    }\n\n    .dataframe tbody tr th {\n        vertical-align: top;\n    }\n\n    .dataframe thead th {\n        text-align: right;\n    }\n</style>\n<table border=\"1\" class=\"dataframe\">\n  <thead>\n    <tr style=\"text-align: right;\">\n      <th></th>\n      <th>Child</th>\n      <th>Sex</th>\n      <th>Wave</th>\n      <th>Steps</th>\n    </tr>\n  </thead>\n  <tbody>\n    <tr>\n      <th>count</th>\n      <td>926.000000</td>\n      <td>926.000000</td>\n      <td>926.0</td>\n      <td>926.000000</td>\n    </tr>\n    <tr>\n      <th>mean</th>\n      <td>2206.058315</td>\n      <td>0.542117</td>\n      <td>1.0</td>\n      <td>0.916652</td>\n    </tr>\n    <tr>\n      <th>std</th>\n      <td>801.865782</td>\n      <td>0.498492</td>\n      <td>0.0</td>\n      <td>0.343573</td>\n    </tr>\n    <tr>\n      <th>min</th>\n      <td>902.000000</td>\n      <td>0.000000</td>\n      <td>1.0</td>\n      <td>0.123467</td>\n    </tr>\n    <tr>\n      <th>25%</th>\n      <td>1455.500000</td>\n      <td>0.000000</td>\n      <td>1.0</td>\n      <td>0.673142</td>\n    </tr>\n    <tr>\n      <th>50%</th>\n      <td>2269.500000</td>\n      <td>1.000000</td>\n      <td>1.0</td>\n      <td>0.887773</td>\n    </tr>\n    <tr>\n      <th>75%</th>\n      <td>2940.750000</td>\n      <td>1.000000</td>\n      <td>1.0</td>\n      <td>1.105740</td>\n    </tr>\n    <tr>\n      <th>max</th>\n      <td>4890.000000</td>\n      <td>1.000000</td>\n      <td>1.0</td>\n      <td>2.246200</td>\n    </tr>\n  </tbody>\n</table>\n</div>"
     },
     "execution_count": 22,
     "metadata": {},
     "output_type": "execute_result"
    }
   ],
   "source": [
    "# wave 1 by sex\n",
    "steps_by_sex_wave = fitbit_new.groupby(['Child', 'Sex', 'Wave']).mean()['Steps'].reset_index()\n",
    "steps_by_sex_wave.Steps = steps_by_sex_wave.Steps * 0.0001\n",
    "PAL_wave1_by_sex = steps_by_sex_wave[steps_by_sex_wave[\"Wave\"] ==1]\n",
    "PAL_wave1_by_sex = PAL_wave1_by_sex.dropna()\n",
    "PAL_wave1_by_sex.describe()"
   ],
   "metadata": {
    "collapsed": false,
    "pycharm": {
     "name": "#%%\n"
    }
   }
  },
  {
   "cell_type": "markdown",
   "source": [
    "## FAS"
   ],
   "metadata": {
    "collapsed": false,
    "pycharm": {
     "name": "#%% md\n"
    }
   }
  },
  {
   "cell_type": "code",
   "execution_count": 41,
   "outputs": [
    {
     "name": "stdout",
     "output_type": "stream",
     "text": [
      "Number of participants with missing FAS score: 139\n",
      "Mean FAS_scaled: 0.5002117746717493\n",
      "Mean FAS_score: 8.998729351969505\n"
     ]
    },
    {
     "name": "stderr",
     "output_type": "stream",
     "text": [
      "/Users/davidblok/.pyenv/versions/3.7.0/lib/python3.7/site-packages/ipykernel_launcher.py:4: SettingWithCopyWarning: \n",
      "A value is trying to be set on a copy of a slice from a DataFrame.\n",
      "Try using .loc[row_indexer,col_indexer] = value instead\n",
      "\n",
      "See the caveats in the documentation: https://pandas.pydata.org/pandas-docs/stable/user_guide/indexing.html#returning-a-view-versus-a-copy\n",
      "  after removing the cwd from sys.path.\n",
      "/Users/davidblok/.pyenv/versions/3.7.0/lib/python3.7/site-packages/ipykernel_launcher.py:7: SettingWithCopyWarning: \n",
      "A value is trying to be set on a copy of a slice from a DataFrame.\n",
      "Try using .loc[row_indexer,col_indexer] = value instead\n",
      "\n",
      "See the caveats in the documentation: https://pandas.pydata.org/pandas-docs/stable/user_guide/indexing.html#returning-a-view-versus-a-copy\n",
      "  import sys\n"
     ]
    },
    {
     "data": {
      "text/plain": "     Child  FAS_scaled  FAS_score\n0      902    0.500212   8.998729\n1      904    0.500212   8.998729\n2      907    0.500212   8.998729\n3      908    0.500212   8.998729\n4      909    0.500212   8.998729\n..     ...         ...        ...\n947   4886    0.500212   8.998729\n948   4887    0.500212   8.998729\n949   4888    0.500212   8.998729\n950   4889    0.500212   8.998729\n951   4890    0.500212   8.998729\n\n[926 rows x 3 columns]",
      "text/html": "<div>\n<style scoped>\n    .dataframe tbody tr th:only-of-type {\n        vertical-align: middle;\n    }\n\n    .dataframe tbody tr th {\n        vertical-align: top;\n    }\n\n    .dataframe thead th {\n        text-align: right;\n    }\n</style>\n<table border=\"1\" class=\"dataframe\">\n  <thead>\n    <tr style=\"text-align: right;\">\n      <th></th>\n      <th>Child</th>\n      <th>FAS_scaled</th>\n      <th>FAS_score</th>\n    </tr>\n  </thead>\n  <tbody>\n    <tr>\n      <th>0</th>\n      <td>902</td>\n      <td>0.500212</td>\n      <td>8.998729</td>\n    </tr>\n    <tr>\n      <th>1</th>\n      <td>904</td>\n      <td>0.500212</td>\n      <td>8.998729</td>\n    </tr>\n    <tr>\n      <th>2</th>\n      <td>907</td>\n      <td>0.500212</td>\n      <td>8.998729</td>\n    </tr>\n    <tr>\n      <th>3</th>\n      <td>908</td>\n      <td>0.500212</td>\n      <td>8.998729</td>\n    </tr>\n    <tr>\n      <th>4</th>\n      <td>909</td>\n      <td>0.500212</td>\n      <td>8.998729</td>\n    </tr>\n    <tr>\n      <th>...</th>\n      <td>...</td>\n      <td>...</td>\n      <td>...</td>\n    </tr>\n    <tr>\n      <th>947</th>\n      <td>4886</td>\n      <td>0.500212</td>\n      <td>8.998729</td>\n    </tr>\n    <tr>\n      <th>948</th>\n      <td>4887</td>\n      <td>0.500212</td>\n      <td>8.998729</td>\n    </tr>\n    <tr>\n      <th>949</th>\n      <td>4888</td>\n      <td>0.500212</td>\n      <td>8.998729</td>\n    </tr>\n    <tr>\n      <th>950</th>\n      <td>4889</td>\n      <td>0.500212</td>\n      <td>8.998729</td>\n    </tr>\n    <tr>\n      <th>951</th>\n      <td>4890</td>\n      <td>0.500212</td>\n      <td>8.998729</td>\n    </tr>\n  </tbody>\n</table>\n<p>926 rows × 3 columns</p>\n</div>"
     },
     "execution_count": 41,
     "metadata": {},
     "output_type": "execute_result"
    }
   ],
   "source": [
    "# select FAS questions\n",
    "df_env = main_w2[['Child','GEN_FAS_GEN_FAS_computer_1' ,'GEN_FAS_GEN_FAS_car_1', 'GEN_FAS_GEN_FAS_vacation_1', 'GEN_FAS_GEN_FAS_ownroom_1']]\n",
    "# calculate FAS score\n",
    "df_env['FAS_score'] = df_env['GEN_FAS_GEN_FAS_computer_1'] + df_env['GEN_FAS_GEN_FAS_vacation_1'] + df_env['GEN_FAS_GEN_FAS_car_1']*1.5 + df_env['GEN_FAS_GEN_FAS_ownroom_1']*3\n",
    "\n",
    "# to keep the values between 0 and 2.\n",
    "df_env['FAS_scaled'] = abs((df_env.FAS_score/6) - 2)\n",
    "\n",
    "\n",
    "# select participants\n",
    "df_env2 = df_env[df_env.Child.isin(PAL_wave1_by_sex.Child)]\n",
    "\n",
    "print(\"Number of participants with missing FAS score:\", np.isnan(df_env2['FAS_scaled']).sum())\n",
    "\n",
    "# missing will be replaced by overall average value\n",
    "mean_FAS_scaled = df_env2['FAS_scaled'].mean()\n",
    "print(\"Mean FAS_scaled:\",mean_FAS_scaled) # different than original because 518 participants instead of 408\n",
    "mean_FAS_score = df_env2['FAS_score'].mean()\n",
    "print(\"Mean FAS_score:\",mean_FAS_score) # different than original because 518 participants instead of 408\n",
    "for i in df_env2.index:\n",
    "    if np.isnan(df_env2.at[i,'FAS_scaled']):\n",
    "        df_env2.at[i,'FAS_scaled'] = mean_FAS_scaled\n",
    "    if np.isnan(df_env2.at[i,'FAS_score']):\n",
    "        df_env2.at[i,'FAS_score'] = mean_FAS_score\n",
    "\n",
    "df_env3 = df_env2[['Child', 'FAS_scaled', 'FAS_score']]\n",
    "\n",
    "df_env3"
   ],
   "metadata": {
    "collapsed": false,
    "pycharm": {
     "name": "#%%\n"
    }
   }
  },
  {
   "cell_type": "code",
   "execution_count": 43,
   "outputs": [
    {
     "data": {
      "text/plain": "             Child       Steps         Sex  FAS_scaled\ncount   926.000000  926.000000  926.000000  926.000000\nmean   2206.058315    0.916652    0.542117    0.500212\nstd     801.865782    0.343573    0.498492    0.300500\nmin     902.000000    0.123467    0.000000    0.000000\n25%    1455.500000    0.673142    0.000000    0.333333\n50%    2269.500000    0.887773    1.000000    0.500212\n75%    2940.750000    1.105740    1.000000    0.666667\nmax    4890.000000    2.246200    1.000000    1.833333",
      "text/html": "<div>\n<style scoped>\n    .dataframe tbody tr th:only-of-type {\n        vertical-align: middle;\n    }\n\n    .dataframe tbody tr th {\n        vertical-align: top;\n    }\n\n    .dataframe thead th {\n        text-align: right;\n    }\n</style>\n<table border=\"1\" class=\"dataframe\">\n  <thead>\n    <tr style=\"text-align: right;\">\n      <th></th>\n      <th>Child</th>\n      <th>Steps</th>\n      <th>Sex</th>\n      <th>FAS_scaled</th>\n    </tr>\n  </thead>\n  <tbody>\n    <tr>\n      <th>count</th>\n      <td>926.000000</td>\n      <td>926.000000</td>\n      <td>926.000000</td>\n      <td>926.000000</td>\n    </tr>\n    <tr>\n      <th>mean</th>\n      <td>2206.058315</td>\n      <td>0.916652</td>\n      <td>0.542117</td>\n      <td>0.500212</td>\n    </tr>\n    <tr>\n      <th>std</th>\n      <td>801.865782</td>\n      <td>0.343573</td>\n      <td>0.498492</td>\n      <td>0.300500</td>\n    </tr>\n    <tr>\n      <th>min</th>\n      <td>902.000000</td>\n      <td>0.123467</td>\n      <td>0.000000</td>\n      <td>0.000000</td>\n    </tr>\n    <tr>\n      <th>25%</th>\n      <td>1455.500000</td>\n      <td>0.673142</td>\n      <td>0.000000</td>\n      <td>0.333333</td>\n    </tr>\n    <tr>\n      <th>50%</th>\n      <td>2269.500000</td>\n      <td>0.887773</td>\n      <td>1.000000</td>\n      <td>0.500212</td>\n    </tr>\n    <tr>\n      <th>75%</th>\n      <td>2940.750000</td>\n      <td>1.105740</td>\n      <td>1.000000</td>\n      <td>0.666667</td>\n    </tr>\n    <tr>\n      <th>max</th>\n      <td>4890.000000</td>\n      <td>2.246200</td>\n      <td>1.000000</td>\n      <td>1.833333</td>\n    </tr>\n  </tbody>\n</table>\n</div>"
     },
     "execution_count": 43,
     "metadata": {},
     "output_type": "execute_result"
    }
   ],
   "source": [
    "# combine PAL1 with FAS\n",
    "\n",
    "PAL_wave1_by_sex_fas = pd.merge(PAL_wave1_by_sex, df_env3, on=\"Child\")\n",
    "PAL_wave1_by_sex_fas = PAL_wave1_by_sex_fas [['Child', 'Steps', 'Sex', 'FAS_scaled']]\n",
    "PAL_wave1_by_sex_fas.describe()"
   ],
   "metadata": {
    "collapsed": false,
    "pycharm": {
     "name": "#%%\n"
    }
   }
  },
  {
   "cell_type": "markdown",
   "source": [
    "## Frequency distribution"
   ],
   "metadata": {
    "collapsed": false,
    "pycharm": {
     "name": "#%% md\n"
    }
   }
  },
  {
   "cell_type": "code",
   "execution_count": 83,
   "outputs": [],
   "source": [
    "PAL_male_low = PAL_wave1_by_sex_fas[(PAL_wave1_by_sex_fas['Sex']==0) & (PAL_wave1_by_sex_fas['FAS_scaled'] >=1)]\n",
    "PAL_female_low = PAL_wave1_by_sex_fas[(PAL_wave1_by_sex_fas['Sex']==1) & (PAL_wave1_by_sex_fas['FAS_scaled'] >=1)]\n",
    "PAL_male_high = PAL_wave1_by_sex_fas[(PAL_wave1_by_sex_fas['Sex']==0) & (PAL_wave1_by_sex_fas['FAS_scaled'] <1)]\n",
    "PAL_female_high = PAL_wave1_by_sex_fas[(PAL_wave1_by_sex_fas['Sex']==1) & (PAL_wave1_by_sex_fas['FAS_scaled'] <1)]\n",
    "\n",
    "# since no difference between high and low SES only split into sex\n",
    "PAL_male = PAL_wave1_by_sex_fas[(PAL_wave1_by_sex_fas['Sex']==0) ]\n",
    "PAL_female = PAL_wave1_by_sex_fas[(PAL_wave1_by_sex_fas['Sex']==1) ]\n"
   ],
   "metadata": {
    "collapsed": false,
    "pycharm": {
     "name": "#%%\n"
    }
   }
  },
  {
   "cell_type": "code",
   "execution_count": 70,
   "outputs": [
    {
     "data": {
      "text/plain": "(array([ 4.,  2.,  2.,  5.,  9., 15., 14., 15., 17., 25., 34., 40., 54.,\n        53., 38., 47., 38., 51., 64., 38., 40., 40., 44., 21., 26., 28.,\n        27., 19., 20., 14., 20.,  5., 10.,  5.,  6.,  8.,  4.,  3.,  5.,\n         1.,  2.,  2.,  2.,  1.,  3.,  0.,  2.,  1.,  0.,  2.]),\n array([0.12346667, 0.16592133, 0.208376  , 0.25083067, 0.29328533,\n        0.33574   , 0.37819467, 0.42064933, 0.463104  , 0.50555867,\n        0.54801333, 0.590468  , 0.63292267, 0.67537733, 0.717832  ,\n        0.76028667, 0.80274133, 0.845196  , 0.88765067, 0.93010533,\n        0.97256   , 1.01501467, 1.05746933, 1.099924  , 1.14237867,\n        1.18483333, 1.227288  , 1.26974267, 1.31219733, 1.354652  ,\n        1.39710667, 1.43956133, 1.482016  , 1.52447067, 1.56692533,\n        1.60938   , 1.65183467, 1.69428933, 1.736744  , 1.77919867,\n        1.82165333, 1.864108  , 1.90656267, 1.94901733, 1.991472  ,\n        2.03392667, 2.07638133, 2.118836  , 2.16129067, 2.20374533,\n        2.2462    ]),\n <BarContainer object of 50 artists>)"
     },
     "execution_count": 70,
     "metadata": {},
     "output_type": "execute_result"
    },
    {
     "data": {
      "text/plain": "<Figure size 432x288 with 1 Axes>",
      "image/png": "[encoded data removed]"
     },
     "metadata": {
      "needs_background": "light"
     },
     "output_type": "display_data"
    }
   ],
   "source": [
    "plt.hist(PAL_wave1.Steps, bins=50)"
   ],
   "metadata": {
    "collapsed": false,
    "pycharm": {
     "name": "#%%\n"
    }
   }
  },
  {
   "cell_type": "code",
   "execution_count": 93,
   "outputs": [
    {
     "data": {
      "text/plain": "(array([ 3.,  2.,  1.,  1.,  5.,  6., 11., 10., 15., 11., 21., 20., 26.,\n        30., 26., 20., 31., 23., 29., 35., 18., 11., 17., 18., 14., 11.,\n         9., 13.,  7., 13.,  6.,  4., 10.,  1.,  8.,  1.,  1.,  1.,  1.,\n         2.,  3.,  1.,  0.,  0.,  2.,  2.,  0.,  0.,  0.,  2.]),\n array([0.12346667, 0.16346933, 0.203472  , 0.24347467, 0.28347733,\n        0.32348   , 0.36348267, 0.40348533, 0.443488  , 0.48349067,\n        0.52349333, 0.563496  , 0.60349867, 0.64350133, 0.683504  ,\n        0.72350667, 0.76350933, 0.803512  , 0.84351467, 0.88351733,\n        0.92352   , 0.96352267, 1.00352533, 1.043528  , 1.08353067,\n        1.12353333, 1.163536  , 1.20353867, 1.24354133, 1.283544  ,\n        1.32354667, 1.36354933, 1.403552  , 1.44355467, 1.48355733,\n        1.52356   , 1.56356267, 1.60356533, 1.643568  , 1.68357067,\n        1.72357333, 1.763576  , 1.80357867, 1.84358133, 1.883584  ,\n        1.92358667, 1.96358933, 2.003592  , 2.04359467, 2.08359733,\n        2.1236    ]),\n <BarContainer object of 50 artists>)"
     },
     "execution_count": 93,
     "metadata": {},
     "output_type": "execute_result"
    },
    {
     "data": {
      "text/plain": "<Figure size 432x288 with 1 Axes>",
      "image/png": "[encoded data removed]"
     },
     "metadata": {
      "needs_background": "light"
     },
     "output_type": "display_data"
    }
   ],
   "source": [
    "plt.hist(PAL_male.Steps, bins=50)\n",
    "plt.hist(PAL_female.Steps, bins=50)"
   ],
   "metadata": {
    "collapsed": false,
    "pycharm": {
     "name": "#%%\n"
    }
   }
  },
  {
   "cell_type": "code",
   "execution_count": 94,
   "outputs": [
    {
     "data": {
      "text/plain": "(array([ 1.,  0.,  1.,  5.,  2.,  7.,  3.,  2.,  4.,  7., 13., 15., 20.,\n        25., 17., 14., 15., 24., 22., 23., 26., 21., 21., 15., 14., 16.,\n        16.,  9., 11.,  8., 12.,  2.,  2.,  4.,  5.,  7.,  2.,  1.,  3.,\n         0.,  2.,  1.,  0.,  0.,  3.,  0.,  1.,  0.,  0.,  2.]),\n array([0.12823333, 0.17059267, 0.212952  , 0.25531133, 0.29767067,\n        0.34003   , 0.38238933, 0.42474867, 0.467108  , 0.50946733,\n        0.55182667, 0.594186  , 0.63654533, 0.67890467, 0.721264  ,\n        0.76362333, 0.80598267, 0.848342  , 0.89070133, 0.93306067,\n        0.97542   , 1.01777933, 1.06013867, 1.102498  , 1.14485733,\n        1.18721667, 1.229576  , 1.27193533, 1.31429467, 1.356654  ,\n        1.39901333, 1.44137267, 1.483732  , 1.52609133, 1.56845067,\n        1.61081   , 1.65316933, 1.69552867, 1.737888  , 1.78024733,\n        1.82260667, 1.864966  , 1.90732533, 1.94968467, 1.992044  ,\n        2.03440333, 2.07676267, 2.119122  , 2.16148133, 2.20384067,\n        2.2462    ]),\n <BarContainer object of 50 artists>)"
     },
     "execution_count": 94,
     "metadata": {},
     "output_type": "execute_result"
    },
    {
     "data": {
      "text/plain": "<Figure size 432x288 with 1 Axes>",
      "image/png": "[encoded data removed]"
     },
     "metadata": {
      "needs_background": "light"
     },
     "output_type": "display_data"
    }
   ],
   "source": [
    "plt.hist(PAL_female.Steps, bins=50)\n",
    "plt.hist(PAL_male.Steps, bins=50)"
   ],
   "metadata": {
    "collapsed": false,
    "pycharm": {
     "name": "#%%\n"
    }
   }
  },
  {
   "cell_type": "markdown",
   "source": [
    "## Cumulative distribution"
   ],
   "metadata": {
    "collapsed": false,
    "pycharm": {
     "name": "#%% md\n"
    }
   }
  },
  {
   "cell_type": "code",
   "execution_count": 86,
   "outputs": [
    {
     "data": {
      "text/plain": "[<matplotlib.lines.Line2D at 0x12cc52cf8>]"
     },
     "execution_count": 86,
     "metadata": {},
     "output_type": "execute_result"
    },
    {
     "data": {
      "text/plain": "<Figure size 432x288 with 1 Axes>",
      "image/png": "[encoded data removed]"
     },
     "metadata": {
      "needs_background": "light"
     },
     "output_type": "display_data"
    }
   ],
   "source": [
    "ecdf = ECDF(PAL_wave1.Steps)\n",
    "ecdf_male_low = ECDF(PAL_male_low.Steps)\n",
    "ecdf_female_low = ECDF(PAL_female_low.Steps)\n",
    "ecdf_male_high = ECDF(PAL_male_high.Steps)\n",
    "ecdf_female_high = ECDF(PAL_female_high.Steps)\n",
    "ecdf_male   = ECDF(PAL_male.Steps)\n",
    "ecdf_female = ECDF(PAL_female.Steps)\n",
    "\n",
    "\n",
    "plt.plot(ecdf.x, ecdf.y)"
   ],
   "metadata": {
    "collapsed": false,
    "pycharm": {
     "name": "#%%\n"
    }
   }
  },
  {
   "cell_type": "markdown",
   "source": [
    "## Save plots"
   ],
   "metadata": {
    "collapsed": false,
    "pycharm": {
     "name": "#%% md\n"
    }
   }
  },
  {
   "cell_type": "code",
   "execution_count": 9,
   "outputs": [
    {
     "data": {
      "text/plain": "<Figure size 720x360 with 2 Axes>",
      "image/png": "[encoded data removed]"
     },
     "metadata": {
      "needs_background": "light"
     },
     "output_type": "display_data"
    }
   ],
   "source": [
    "\n",
    "fig, (ax1, ax2) = plt.subplots(1, 2, figsize=(10,5))\n",
    "\n",
    "ax1.set_title('Frequency distribution')\n",
    "ax1.set_ylabel('Frequency')\n",
    "ax1.set_xlabel('Physical activity level (Steps/10,000)')\n",
    "ax1.set_ylim([0, 70])\n",
    "ax1.hist(PAL_wave1, bins=50)\n",
    "\n",
    "ax2.set_title('Cumulative distribution function')\n",
    "ax2.set_ylabel('Probability')\n",
    "ax2.set_xlabel('Physical activity level (Steps/10,000)')\n",
    "ax2.set_ylim([0, 1])\n",
    "ax2.plot(ecdf.x, ecdf.y)\n",
    "\n",
    "\n",
    "fig.savefig('../output/plots/pal_w1_dist.eps', bbox_inches='tight', format='eps', dpi=1000)\n"
   ],
   "metadata": {
    "collapsed": false,
    "pycharm": {
     "name": "#%%\n"
    }
   }
  },
  {
   "cell_type": "code",
   "execution_count": 92,
   "outputs": [
    {
     "data": {
      "text/plain": "<Figure size 720x576 with 4 Axes>",
      "image/png": "[encoded data removed]"
     },
     "metadata": {
      "needs_background": "light"
     },
     "output_type": "display_data"
    }
   ],
   "source": [
    "fig, ((ax1, ax2), (ax3, ax4)) = plt.subplots(2, 2, figsize=(10,8))\n",
    "\n",
    "ax1.set_title('Frequency distribution (Male)')\n",
    "ax1.set_ylabel('Frequency')\n",
    "#ax1.set_xlabel('Physical activity level (Steps/10,000)')\n",
    "ax1.set_ylim([0, 40])\n",
    "ax1.set_xlim([0, 2.5])\n",
    "ax1.hist(PAL_male.Steps, bins=50)\n",
    "\n",
    "ax2.set_title('Cumulative distribution function (Male)')\n",
    "ax2.set_ylabel('Probability')\n",
    "#ax2.set_xlabel('Physical activity level (Steps/10,000)')\n",
    "ax2.set_ylim([0, 1])\n",
    "ax2.set_xlim([0, 2.5])\n",
    "ax2.plot(ecdf_male.x, ecdf_male.y)\n",
    "\n",
    "ax3.set_title('Frequency distribution (Female)')\n",
    "ax3.set_ylabel('Frequency')\n",
    "ax3.set_xlabel('Physical activity level (Steps/10,000)')\n",
    "ax3.set_ylim([0, 40])\n",
    "ax3.set_xlim([0, 2.5])\n",
    "ax3.hist(PAL_female.Steps, bins=50)\n",
    "\n",
    "ax4.set_title('Cumulative distribution function (Female)')\n",
    "ax4.set_ylabel('Probability')\n",
    "ax4.set_xlabel('Physical activity level (Steps/10,000)')\n",
    "ax4.set_ylim([0, 1])\n",
    "ax4.set_xlim([0, 2.5])\n",
    "ax4.plot(ecdf_female.x, ecdf_female.y)\n",
    "\n",
    "\n",
    "\n",
    "fig.savefig('../output/plots/pal_w1_sex_dist.eps', bbox_inches='tight', format='eps', dpi=1000)"
   ],
   "metadata": {
    "collapsed": false,
    "pycharm": {
     "name": "#%%\n"
    }
   }
  },
  {
   "cell_type": "code",
   "execution_count": 6,
   "outputs": [
    {
     "ename": "NameError",
     "evalue": "name 'PAL_male' is not defined",
     "output_type": "error",
     "traceback": [
      "\u001B[0;31m---------------------------------------------------------------------------\u001B[0m",
      "\u001B[0;31mNameError\u001B[0m                                 Traceback (most recent call last)",
      "\u001B[0;32m/var/folders/z2/s9qy78ps1kl1_9g5fgzy5tgw0000gn/T/ipykernel_77391/1322303739.py\u001B[0m in \u001B[0;36m<module>\u001B[0;34m\u001B[0m\n\u001B[1;32m      3\u001B[0m \u001B[0;32mfor\u001B[0m \u001B[0mi\u001B[0m \u001B[0;32min\u001B[0m \u001B[0mrange\u001B[0m\u001B[0;34m(\u001B[0m\u001B[0;36m1\u001B[0m\u001B[0;34m,\u001B[0m\u001B[0;36m100\u001B[0m\u001B[0;34m)\u001B[0m\u001B[0;34m:\u001B[0m\u001B[0;34m\u001B[0m\u001B[0m\n\u001B[1;32m      4\u001B[0m     \u001B[0mr\u001B[0m \u001B[0;34m=\u001B[0m \u001B[0mnp\u001B[0m\u001B[0;34m.\u001B[0m\u001B[0mrandom\u001B[0m\u001B[0;34m.\u001B[0m\u001B[0mrandom_sample\u001B[0m\u001B[0;34m(\u001B[0m\u001B[0;36m1\u001B[0m\u001B[0;34m)\u001B[0m\u001B[0;34m\u001B[0m\u001B[0m\n\u001B[0;32m----> 5\u001B[0;31m     \u001B[0mpal\u001B[0m \u001B[0;34m=\u001B[0m \u001B[0mnp\u001B[0m\u001B[0;34m.\u001B[0m\u001B[0mquantile\u001B[0m\u001B[0;34m(\u001B[0m\u001B[0mPAL_male\u001B[0m\u001B[0;34m,\u001B[0m \u001B[0mq\u001B[0m\u001B[0;34m=\u001B[0m\u001B[0mr\u001B[0m\u001B[0;34m)\u001B[0m\u001B[0;34m\u001B[0m\u001B[0m\n\u001B[0m\u001B[1;32m      6\u001B[0m     \u001B[0mprint\u001B[0m\u001B[0;34m(\u001B[0m\u001B[0mpal\u001B[0m\u001B[0;34m)\u001B[0m\u001B[0;34m\u001B[0m\u001B[0m\n",
      "\u001B[0;31mNameError\u001B[0m: name 'PAL_male' is not defined"
     ]
    }
   ],
   "source": [
    "import numpy as np\n",
    "np.random.seed(1)\n",
    "for i in range(1,100):\n",
    "    r = np.random.random_sample(1)\n",
    "    pal = np.quantile(PAL_male, q=r)\n",
    "    print(pal)"
   ],
   "metadata": {
    "collapsed": false,
    "pycharm": {
     "name": "#%%\n"
    }
   }
  },
  {
   "cell_type": "code",
   "execution_count": null,
   "outputs": [],
   "source": [],
   "metadata": {
    "collapsed": false,
    "pycharm": {
     "name": "#%%\n"
    }
   }
  }
 ],
 "metadata": {
  "kernelspec": {
   "name": "pycharm-23bb138",
   "language": "python",
   "display_name": "PyCharm (ABM-PA)"
  },
  "language_info": {
   "codemirror_mode": {
    "name": "ipython",
    "version": 2
   },
   "file_extension": ".py",
   "mimetype": "text/x-python",
   "name": "python",
   "nbconvert_exporter": "python",
   "pygments_lexer": "ipython2",
   "version": "2.7.6"
  }
 },
 "nbformat": 4,
 "nbformat_minor": 0
}