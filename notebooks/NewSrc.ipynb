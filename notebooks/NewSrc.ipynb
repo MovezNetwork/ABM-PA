{
 "cells": [
  {
   "cell_type": "code",
   "execution_count": 146,
   "id": "81d1d256-1591-4a10-bff0-236e93948001",
   "metadata": {},
   "outputs": [
    {
     "name": "stdout",
     "output_type": "stream",
     "text": [
      "The autoreload extension is already loaded. To reload it, use:\n",
      "  %reload_ext autoreload\n"
     ]
    }
   ],
   "source": [
    "# import libraries \n",
    "import json\n",
    "import networkx as nx\n",
    "import numpy as np\n",
    "import os\n",
    "import pandas as pd\n",
    "import re\n",
    "import random\n",
    "import matplotlib.pyplot as plt\n",
    "from networkx.algorithms import approximation as app\n",
    "from scipy.stats import pearsonr\n",
    "import seaborn as sns\n",
    "import pylab\n",
    "from scipy.stats import mannwhitneyu\n",
    "import datetime\n",
    "from sklearn.metrics import mean_absolute_error\n",
    "from math import sqrt\n",
    "import statsmodels.api as sm\n",
    "from itertools import chain\n",
    "import sys\n",
    "import inspect\n",
    "\n",
    "# access parent directory from notebooks directory\n",
    "currentdir = os.path.dirname(os.path.abspath(inspect.getfile(inspect.currentframe())))\n",
    "parentdir = os.path.dirname(currentdir)\n",
    "sys.path.insert(0, parentdir) \n",
    "\n",
    "import newsrc.population as p\n",
    "import newsrc.model as m\n",
    "import newsrc.simulation as s\n",
    "\n",
    "\n",
    "%load_ext autoreload\n",
    "%autoreload 2\n",
    "%matplotlib inline\n",
    "%reload_ext autoreload"
   ]
  },
  {
   "cell_type": "code",
   "execution_count": 141,
   "id": "7681512a-1a8f-462d-9452-e7b8891b27d6",
   "metadata": {},
   "outputs": [],
   "source": [
    "try:\n",
    "    input_args = json.loads(open('../input/simulation.json').read())\n",
    "except Exception as ex:\n",
    "    print('simulation.json does not exist!')\n",
    "    print(ex)"
   ]
  },
  {
   "cell_type": "code",
   "execution_count": 132,
   "id": "dc4ea4a5-2975-49e9-9694-0665e47661e0",
   "metadata": {},
   "outputs": [
    {
     "name": "stdout",
     "output_type": "stream",
     "text": [
      "Nodes removed for not being in the selected classes: # 454\n"
     ]
    }
   ],
   "source": [
    "population =  p.Population('MyMovez school classes',input_args)"
   ]
  },
  {
   "cell_type": "code",
   "execution_count": 120,
   "id": "d8f32c12-d9f4-4fe7-b1da-3e4bfae209c2",
   "metadata": {},
   "outputs": [
    {
     "data": {
      "text/plain": [
       "451"
      ]
     },
     "execution_count": 120,
     "metadata": {},
     "output_type": "execute_result"
    }
   ],
   "source": [
    "population.graph.number_of_nodes()"
   ]
  },
  {
   "cell_type": "code",
   "execution_count": 121,
   "id": "f0166eda-61ca-4771-9997-7b13015b9cc9",
   "metadata": {},
   "outputs": [
    {
     "data": {
      "text/plain": [
       "26"
      ]
     },
     "execution_count": 121,
     "metadata": {},
     "output_type": "execute_result"
    }
   ],
   "source": [
    "len(population.get_subgraphs_centrality(population.graph)[1])"
   ]
  },
  {
   "cell_type": "code",
   "execution_count": 123,
   "id": "1b48280b-004f-40bb-b387-64ce59c0543c",
   "metadata": {},
   "outputs": [],
   "source": [
    "sub_g = population.get_class_graphs(population.graph)"
   ]
  },
  {
   "cell_type": "code",
   "execution_count": 124,
   "id": "d2d3e95c-0232-4133-9d82-909e5fd537da",
   "metadata": {},
   "outputs": [
    {
     "data": {
      "text/plain": [
       "18"
      ]
     },
     "execution_count": 124,
     "metadata": {},
     "output_type": "execute_result"
    }
   ],
   "source": [
    "sub_g[0].number_of_nodes()"
   ]
  },
  {
   "cell_type": "code",
   "execution_count": 125,
   "id": "bf3841d9-5584-4bea-b773-bc9ebd052287",
   "metadata": {},
   "outputs": [
    {
     "data": {
      "text/plain": [
       "<networkx.classes.digraph.DiGraph at 0x7fb3fdce1130>"
      ]
     },
     "execution_count": 125,
     "metadata": {},
     "output_type": "execute_result"
    }
   ],
   "source": [
    "population.get_intervention_nodes(sub_g[0], 0.1, 'random', False)"
   ]
  },
  {
   "cell_type": "code",
   "execution_count": 126,
   "id": "a5a1b439-46c8-471a-ba11-1fcbebafdf46",
   "metadata": {},
   "outputs": [
    {
     "data": {
      "text/plain": [
       "<networkx.classes.digraph.DiGraph at 0x7fb3fdce1130>"
      ]
     },
     "execution_count": 126,
     "metadata": {},
     "output_type": "execute_result"
    }
   ],
   "source": [
    "sub_g[0]"
   ]
  },
  {
   "cell_type": "code",
   "execution_count": 142,
   "id": "7f19ca70-473a-427e-9082-d3c546ecd7a3",
   "metadata": {},
   "outputs": [],
   "source": [
    "dif_model = m.DiffusionModel('Gabrianelli Diffusion Model',input_args)"
   ]
  },
  {
   "cell_type": "code",
   "execution_count": 143,
   "id": "9421c039-83c7-4e7f-a4fc-ef911977b6a6",
   "metadata": {},
   "outputs": [],
   "source": [
    "for t in range(round(365)):\n",
    "    dif_model.execute(sub_g[0],t)"
   ]
  },
  {
   "cell_type": "code",
   "execution_count": 152,
   "id": "746c8ea1-a609-41fe-97b4-6827cfa32fef",
   "metadata": {},
   "outputs": [
    {
     "name": "stdout",
     "output_type": "stream",
     "text": [
      "Nodes removed for not being in the selected classes: # 454\n"
     ]
    }
   ],
   "source": [
    "simulation =  s.Simulation()"
   ]
  },
  {
   "cell_type": "code",
   "execution_count": 155,
   "id": "dabc5038-5a8f-49b0-a8d2-47c797fd9f62",
   "metadata": {},
   "outputs": [
    {
     "data": {
      "text/plain": [
       "<networkx.classes.digraph.DiGraph at 0x7fb3fadf2160>"
      ]
     },
     "execution_count": 155,
     "metadata": {},
     "output_type": "execute_result"
    }
   ],
   "source": [
    "simulation.population.graph"
   ]
  },
  {
   "cell_type": "code",
   "execution_count": 158,
   "id": "fc69a05d-82a4-4873-9a29-e7a03d2ef798",
   "metadata": {},
   "outputs": [],
   "source": [
    "sub_graphs = simulation.population.get_class_graphs(simulation.population.graph)"
   ]
  },
  {
   "cell_type": "code",
   "execution_count": 160,
   "id": "81ace6dc-8187-427a-bff5-425db7612df2",
   "metadata": {},
   "outputs": [],
   "source": [
    "for t in range(round(365)):\n",
    "    simulation.model.execute(sub_graphs[0],t)"
   ]
  },
  {
   "cell_type": "code",
   "execution_count": null,
   "id": "ae3f935b-e7b4-4f8e-aca3-4c6c4e2ef841",
   "metadata": {},
   "outputs": [],
   "source": []
  }
 ],
 "metadata": {
  "kernelspec": {
   "display_name": "Python 3",
   "language": "python",
   "name": "python3"
  },
  "language_info": {
   "codemirror_mode": {
    "name": "ipython",
    "version": 3
   },
   "file_extension": ".py",
   "mimetype": "text/x-python",
   "name": "python",
   "nbconvert_exporter": "python",
   "pygments_lexer": "ipython3",
   "version": "3.9.5"
  }
 },
 "nbformat": 4,
 "nbformat_minor": 5
}
