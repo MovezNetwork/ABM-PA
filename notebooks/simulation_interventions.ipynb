{
 "cells": [
  {
   "cell_type": "code",
   "execution_count": 380,
   "metadata": {
    "collapsed": false,
    "jupyter": {
     "outputs_hidden": false
    },
    "pycharm": {
     "name": "#%%\n"
    }
   },
   "outputs": [
    {
     "name": "stdout",
     "output_type": "stream",
     "text": [
      "The autoreload extension is already loaded. To reload it, use:\n",
      "  %reload_ext autoreload\n"
     ]
    }
   ],
   "source": [
    "# import libraries\n",
    "import numpy as np\n",
    "import os\n",
    "import pandas as pd\n",
    "import matplotlib.pyplot as plt\n",
    "import sys\n",
    "import inspect\n",
    "import time\n",
    "\n",
    "# access parent directory from notebooks directory\n",
    "currentdir = os.path.dirname(os.path.abspath(inspect.getfile(inspect.currentframe())))\n",
    "parentdir = os.path.dirname(currentdir)\n",
    "sys.path.insert(0, parentdir)\n",
    "\n",
    "import src.simulation as s\n",
    "import src.utils as utils\n",
    "\n",
    "%load_ext autoreload\n",
    "%autoreload 2\n",
    "%matplotlib inline\n",
    "%reload_ext autoreload"
   ]
  },
  {
   "cell_type": "code",
   "execution_count": 381,
   "metadata": {
    "collapsed": false,
    "jupyter": {
     "outputs_hidden": false
    },
    "pycharm": {
     "name": "#%%\n"
    }
   },
   "outputs": [],
   "source": [
    "# Read input variables\n",
    "input_args = utils.load_input_args('../input/simulation.json')"
   ]
  },
  {
   "cell_type": "code",
   "execution_count": 382,
   "metadata": {
    "collapsed": false,
    "jupyter": {
     "outputs_hidden": false
    },
    "pycharm": {
     "name": "#%%\n"
    }
   },
   "outputs": [
    {
     "name": "stderr",
     "output_type": "stream",
     "text": [
      "/Users/davidblok/Work EUR/GitHub/ABM-PA/src/simulation.py:23: DtypeWarning: Columns (319,321,323,377,434,436,439,441,444,446,449,451,454,456,459,461,464,466,469,471,474,476,479,481,484,486,489,491) have mixed types.Specify dtype option on import or set low_memory=False.\n",
      "  self.PeerNominatedDataPopulation = p.PeerNominatedDataPopulation('Peer-Nominated data population', self.input_args)\n",
      "/Users/davidblok/.pyenv/versions/3.7.0/lib/python3.7/site-packages/ipykernel_launcher.py:3: DtypeWarning: Columns (22) have mixed types.Specify dtype option on import or set low_memory=False.\n",
      "  This is separate from the ipykernel package so we can avoid doing imports until\n",
      "/Users/davidblok/Work EUR/GitHub/ABM-PA/src/simulation.py:24: DtypeWarning: Columns (319,321,323,377,434,436,439,441,444,446,449,451,454,456,459,461,464,466,469,471,474,476,479,481,484,486,489,491) have mixed types.Specify dtype option on import or set low_memory=False.\n",
      "  self.CommunicationDataPopulation = p.CommunicationDataPopulation('Communication data population', self.input_args)\n"
     ]
    }
   ],
   "source": [
    "# instantiate simulation class\n",
    "\n",
    "simulation =  s.Simulation()"
   ]
  },
  {
   "cell_type": "markdown",
   "metadata": {
    "pycharm": {
     "name": "#%% md\n"
    }
   },
   "source": [
    "# Simulation Interventions\n",
    "\n",
    "## 1. Nomination network"
   ]
  },
  {
   "cell_type": "code",
   "execution_count": 384,
   "metadata": {
    "collapsed": false,
    "jupyter": {
     "outputs_hidden": false
    },
    "pycharm": {
     "name": "#%%\n"
    }
   },
   "outputs": [
    {
     "data": {
      "text/plain": "    threshold    ipa     error\n0       0.025  0.007  0.462071\n1       0.025  0.004  0.471020\n2       0.025  0.005  0.471045\n3       0.025  0.006  0.471688\n4       0.025  0.009  0.472211\n..        ...    ...       ...\n95      0.950  0.005  0.682455\n96      1.000  0.045  0.682522\n97      1.000  0.038  0.682627\n98      1.000  0.042  0.682804\n99      0.975  0.021  0.683438\n\n[100 rows x 3 columns]",
      "text/html": "<div>\n<style scoped>\n    .dataframe tbody tr th:only-of-type {\n        vertical-align: middle;\n    }\n\n    .dataframe tbody tr th {\n        vertical-align: top;\n    }\n\n    .dataframe thead th {\n        text-align: right;\n    }\n</style>\n<table border=\"1\" class=\"dataframe\">\n  <thead>\n    <tr style=\"text-align: right;\">\n      <th></th>\n      <th>threshold</th>\n      <th>ipa</th>\n      <th>error</th>\n    </tr>\n  </thead>\n  <tbody>\n    <tr>\n      <th>0</th>\n      <td>0.025</td>\n      <td>0.007</td>\n      <td>0.462071</td>\n    </tr>\n    <tr>\n      <th>1</th>\n      <td>0.025</td>\n      <td>0.004</td>\n      <td>0.471020</td>\n    </tr>\n    <tr>\n      <th>2</th>\n      <td>0.025</td>\n      <td>0.005</td>\n      <td>0.471045</td>\n    </tr>\n    <tr>\n      <th>3</th>\n      <td>0.025</td>\n      <td>0.006</td>\n      <td>0.471688</td>\n    </tr>\n    <tr>\n      <th>4</th>\n      <td>0.025</td>\n      <td>0.009</td>\n      <td>0.472211</td>\n    </tr>\n    <tr>\n      <th>...</th>\n      <td>...</td>\n      <td>...</td>\n      <td>...</td>\n    </tr>\n    <tr>\n      <th>95</th>\n      <td>0.950</td>\n      <td>0.005</td>\n      <td>0.682455</td>\n    </tr>\n    <tr>\n      <th>96</th>\n      <td>1.000</td>\n      <td>0.045</td>\n      <td>0.682522</td>\n    </tr>\n    <tr>\n      <th>97</th>\n      <td>1.000</td>\n      <td>0.038</td>\n      <td>0.682627</td>\n    </tr>\n    <tr>\n      <th>98</th>\n      <td>1.000</td>\n      <td>0.042</td>\n      <td>0.682804</td>\n    </tr>\n    <tr>\n      <th>99</th>\n      <td>0.975</td>\n      <td>0.021</td>\n      <td>0.683438</td>\n    </tr>\n  </tbody>\n</table>\n<p>100 rows × 3 columns</p>\n</div>"
     },
     "execution_count": 384,
     "metadata": {},
     "output_type": "execute_result"
    }
   ],
   "source": [
    "# Read tuned parameter combinations (See tuning_nom_network.ipynb)\n",
    "pars_nomination = pd.read_csv('../output/opt_pars_nomination.csv', sep=',', header=0)\n",
    "pars_nomination"
   ]
  },
  {
   "cell_type": "code",
   "execution_count": 385,
   "metadata": {
    "collapsed": false,
    "jupyter": {
     "outputs_hidden": false
    },
    "pycharm": {
     "name": "#%%\n"
    }
   },
   "outputs": [
    {
     "name": "stdout",
     "output_type": "stream",
     "text": [
      "0 0.025 0.006999999999999999 Time elapsed: 78.00728702545166  seconds\n",
      "1 0.025 0.004 Time elapsed: 155.013897895813  seconds\n",
      "2 0.025 0.005 Time elapsed: 231.71023678779602  seconds\n",
      "3 0.025 0.006 Time elapsed: 308.09709191322327  seconds\n",
      "4 0.025 0.009000000000000001 Time elapsed: 384.03240275382996  seconds\n",
      "5 0.025 0.003 Time elapsed: 459.48035979270935  seconds\n",
      "6 0.025 0.008 Time elapsed: 535.1754479408264  seconds\n",
      "7 0.025 0.012 Time elapsed: 610.7234079837799  seconds\n",
      "8 0.025 0.010000000000000002 Time elapsed: 686.7367868423462  seconds\n",
      "9 0.025 0.011000000000000001 Time elapsed: 762.4967558383942  seconds\n",
      "10 0.025 0.002 Time elapsed: 840.5293197631836  seconds\n",
      "11 0.025 0.013 Time elapsed: 916.1774508953094  seconds\n",
      "12 0.025 0.014000000000000002 Time elapsed: 991.956433057785  seconds\n",
      "13 0.025 0.015 Time elapsed: 1067.1162428855896  seconds\n",
      "14 0.05 0.001 Time elapsed: 1142.7747378349304  seconds\n",
      "15 0.025 0.001 Time elapsed: 1217.5086870193481  seconds\n",
      "16 0.07500000000000001 0.001 Time elapsed: 1291.4573140144348  seconds\n",
      "17 1.0 0.001 Time elapsed: 1366.5116851329803  seconds\n",
      "18 0.975 0.001 Time elapsed: 1441.8950300216675  seconds\n",
      "19 0.95 0.001 Time elapsed: 1517.0729341506958  seconds\n",
      "20 0.1 0.001 Time elapsed: 1592.5784077644348  seconds\n",
      "21 0.925 0.001 Time elapsed: 1667.8838031291962  seconds\n",
      "22 1.0 0.002 Time elapsed: 1743.4225599765778  seconds\n",
      "23 1.0 0.005 Time elapsed: 1818.8077747821808  seconds\n",
      "24 1.0 0.003 Time elapsed: 1894.998066186905  seconds\n",
      "25 1.0 0.004 Time elapsed: 1970.2273199558258  seconds\n",
      "26 1.0 0.006 Time elapsed: 2045.196839094162  seconds\n",
      "27 1.0 0.009000000000000001 Time elapsed: 2119.82768702507  seconds\n",
      "28 1.0 0.010000000000000002 Time elapsed: 2194.8858919143677  seconds\n",
      "29 0.9 0.001 Time elapsed: 2269.7997059822083  seconds\n",
      "30 1.0 0.008 Time elapsed: 2344.4967658519745  seconds\n",
      "31 1.0 0.006999999999999999 Time elapsed: 2420.628541946411  seconds\n",
      "32 1.0 0.014000000000000002 Time elapsed: 2495.847499847412  seconds\n",
      "33 1.0 0.011000000000000001 Time elapsed: 2571.198630094528  seconds\n",
      "34 1.0 0.013 Time elapsed: 2644.2917568683624  seconds\n",
      "35 1.0 0.015 Time elapsed: 2718.7855520248413  seconds\n",
      "36 1.0 0.012 Time elapsed: 2793.2643418312073  seconds\n",
      "37 1.0 0.016 Time elapsed: 2868.392597913742  seconds\n",
      "38 1.0 0.017 Time elapsed: 2943.4656958580017  seconds\n",
      "39 1.0 0.02 Time elapsed: 3018.082321166992  seconds\n",
      "40 1.0 0.03 Time elapsed: 3093.1545231342316  seconds\n",
      "41 1.0 0.018000000000000002 Time elapsed: 3168.245419025421  seconds\n",
      "42 0.975 0.002 Time elapsed: 3243.704171895981  seconds\n",
      "43 1.0 0.021 Time elapsed: 3319.126282930374  seconds\n",
      "44 0.975 0.003 Time elapsed: 3394.5467717647552  seconds\n",
      "45 0.975 0.004 Time elapsed: 3469.3280050754547  seconds\n",
      "46 0.975 0.005 Time elapsed: 3545.1450910568237  seconds\n",
      "47 1.0 0.019000000000000003 Time elapsed: 3620.858934879303  seconds\n",
      "48 1.0 0.022 Time elapsed: 3696.129622936249  seconds\n",
      "49 0.8750000000000001 0.001 Time elapsed: 3772.0877900123596  seconds\n",
      "50 0.975 0.006999999999999999 Time elapsed: 3847.1400570869446  seconds\n",
      "51 0.975 0.006 Time elapsed: 3922.0409808158875  seconds\n",
      "52 1.0 0.032 Time elapsed: 4003.053307056427  seconds\n",
      "53 0.975 0.008 Time elapsed: 4079.815864086151  seconds\n",
      "54 1.0 0.023 Time elapsed: 4156.372468948364  seconds\n",
      "55 0.975 0.010000000000000002 Time elapsed: 4232.768807172775  seconds\n",
      "56 1.0 0.027000000000000003 Time elapsed: 4309.324568986893  seconds\n",
      "57 0.975 0.012 Time elapsed: 4385.849462985992  seconds\n",
      "58 1.0 0.026 Time elapsed: 4459.889434099197  seconds\n",
      "59 0.975 0.011000000000000001 Time elapsed: 4535.415953159332  seconds\n",
      "60 1.0 0.024 Time elapsed: 4611.08535194397  seconds\n",
      "61 0.05 0.004 Time elapsed: 4684.555958032608  seconds\n",
      "62 0.975 0.018000000000000002 Time elapsed: 4759.708615064621  seconds\n",
      "63 1.0 0.025 Time elapsed: 4835.354733943939  seconds\n",
      "64 0.975 0.009000000000000001 Time elapsed: 4910.812543869019  seconds\n",
      "65 0.05 0.003 Time elapsed: 4986.275328874588  seconds\n",
      "66 0.975 0.016 Time elapsed: 5061.952260017395  seconds\n",
      "67 1.0 0.028999999999999998 Time elapsed: 5137.006329059601  seconds\n",
      "68 1.0 0.04 Time elapsed: 5211.059695005417  seconds\n",
      "69 1.0 0.033 Time elapsed: 5285.498573064804  seconds\n",
      "70 0.975 0.013 Time elapsed: 5360.516466856003  seconds\n",
      "71 1.0 0.046 Time elapsed: 5435.508301973343  seconds\n",
      "72 1.0 0.040999999999999995 Time elapsed: 5509.972718000412  seconds\n",
      "73 0.975 0.015 Time elapsed: 5585.143426895142  seconds\n",
      "74 0.975 0.014000000000000002 Time elapsed: 5660.360173940659  seconds\n",
      "75 0.975 0.017 Time elapsed: 5735.371690988541  seconds\n",
      "76 0.125 0.001 Time elapsed: 5810.638152837753  seconds\n",
      "77 0.975 0.02 Time elapsed: 5886.072012901306  seconds\n",
      "78 0.975 0.022 Time elapsed: 5962.16822385788  seconds\n",
      "79 1.0 0.027999999999999997 Time elapsed: 6037.803857803345  seconds\n",
      "80 1.0 0.036000000000000004 Time elapsed: 6113.817501783371  seconds\n",
      "81 1.0 0.043 Time elapsed: 6189.4037528038025  seconds\n",
      "82 0.05 0.005 Time elapsed: 6265.037115097046  seconds\n",
      "83 1.0 0.031 Time elapsed: 6338.94199180603  seconds\n",
      "84 0.95 0.003 Time elapsed: 6414.632156133652  seconds\n",
      "85 1.0 0.037000000000000005 Time elapsed: 6490.424920082092  seconds\n",
      "86 0.95 0.002 Time elapsed: 6565.592657089233  seconds\n",
      "87 0.95 0.004 Time elapsed: 6646.454151153564  seconds\n",
      "88 0.975 0.023 Time elapsed: 6723.882780075073  seconds\n",
      "89 0.975 0.024 Time elapsed: 6800.864203929901  seconds\n",
      "90 0.8500000000000001 0.001 Time elapsed: 6879.280330896378  seconds\n",
      "91 0.05 0.006 Time elapsed: 6957.340199947357  seconds\n",
      "92 1.0 0.035 Time elapsed: 7032.089967012405  seconds\n",
      "93 0.975 0.019000000000000003 Time elapsed: 7107.51372885704  seconds\n",
      "94 0.95 0.006 Time elapsed: 7183.02787899971  seconds\n",
      "95 0.95 0.005 Time elapsed: 7258.730232000351  seconds\n",
      "96 1.0 0.045 Time elapsed: 7334.999293804169  seconds\n",
      "97 1.0 0.038 Time elapsed: 7410.290395021439  seconds\n",
      "98 1.0 0.042 Time elapsed: 7486.363246917725  seconds\n",
      "99 0.975 0.021 Time elapsed: 7562.4884169101715  seconds\n"
     ]
    }
   ],
   "source": [
    "# Run simulations for each parameter combination\n",
    "list_pre_results_nom = []\n",
    "list_pre_results_avg_nom = []\n",
    "list_results_nom = []\n",
    "list_results_avg_nom = []\n",
    "list_agents_per_intervention_nom = []\n",
    "start_whole = time.time()\n",
    "count = 0\n",
    "for index, row in pars_nomination.iterrows():\n",
    "    # run pre-intervention\n",
    "    pre_results_nom, pre_results_avg_nom, snapshot_pa = simulation.simulate_preinterventions(700, 'nomination', row['threshold'], row['ipa'])\n",
    "    # run intervention\n",
    "    results_nom, results_avg_nom, agents_per_intervention_nom = simulation.simulate_interventions(1400, 'nomination', snapshot_pa, row['threshold'], row['ipa'])\n",
    "\n",
    "    list_pre_results_nom.append(pre_results_nom)\n",
    "    list_pre_results_avg_nom.append(pre_results_avg_nom)\n",
    "    list_results_nom.append(results_nom)\n",
    "    list_results_avg_nom.append(results_avg_nom)\n",
    "    list_agents_per_intervention_nom.append(agents_per_intervention_nom)\n",
    "    end = time.time()\n",
    "    print(count, row['threshold'], row['ipa'], \"Time elapsed:\", end - start_whole, ' seconds')\n",
    "    count = count + 1"
   ]
  },
  {
   "cell_type": "markdown",
   "metadata": {
    "pycharm": {
     "name": "#%% md\n"
    }
   },
   "source": [
    "## 2. Communication network\n"
   ]
  },
  {
   "cell_type": "code",
   "execution_count": 386,
   "metadata": {
    "collapsed": false,
    "jupyter": {
     "outputs_hidden": false
    },
    "pycharm": {
     "name": "#%%\n"
    }
   },
   "outputs": [
    {
     "data": {
      "text/plain": "    threshold    ipa     error\n0       1.000  0.001  0.681127\n1       0.975  0.001  0.688750\n2       0.950  0.001  0.696958\n3       0.925  0.001  0.705704\n4       0.900  0.001  0.714352\n..        ...    ...       ...\n95      0.950  0.013  0.749242\n96      0.950  0.018  0.749855\n97      0.975  0.032  0.749858\n98      1.000  0.048  0.750278\n99      0.975  0.033  0.750487\n\n[100 rows x 3 columns]",
      "text/html": "<div>\n<style scoped>\n    .dataframe tbody tr th:only-of-type {\n        vertical-align: middle;\n    }\n\n    .dataframe tbody tr th {\n        vertical-align: top;\n    }\n\n    .dataframe thead th {\n        text-align: right;\n    }\n</style>\n<table border=\"1\" class=\"dataframe\">\n  <thead>\n    <tr style=\"text-align: right;\">\n      <th></th>\n      <th>threshold</th>\n      <th>ipa</th>\n      <th>error</th>\n    </tr>\n  </thead>\n  <tbody>\n    <tr>\n      <th>0</th>\n      <td>1.000</td>\n      <td>0.001</td>\n      <td>0.681127</td>\n    </tr>\n    <tr>\n      <th>1</th>\n      <td>0.975</td>\n      <td>0.001</td>\n      <td>0.688750</td>\n    </tr>\n    <tr>\n      <th>2</th>\n      <td>0.950</td>\n      <td>0.001</td>\n      <td>0.696958</td>\n    </tr>\n    <tr>\n      <th>3</th>\n      <td>0.925</td>\n      <td>0.001</td>\n      <td>0.705704</td>\n    </tr>\n    <tr>\n      <th>4</th>\n      <td>0.900</td>\n      <td>0.001</td>\n      <td>0.714352</td>\n    </tr>\n    <tr>\n      <th>...</th>\n      <td>...</td>\n      <td>...</td>\n      <td>...</td>\n    </tr>\n    <tr>\n      <th>95</th>\n      <td>0.950</td>\n      <td>0.013</td>\n      <td>0.749242</td>\n    </tr>\n    <tr>\n      <th>96</th>\n      <td>0.950</td>\n      <td>0.018</td>\n      <td>0.749855</td>\n    </tr>\n    <tr>\n      <th>97</th>\n      <td>0.975</td>\n      <td>0.032</td>\n      <td>0.749858</td>\n    </tr>\n    <tr>\n      <th>98</th>\n      <td>1.000</td>\n      <td>0.048</td>\n      <td>0.750278</td>\n    </tr>\n    <tr>\n      <th>99</th>\n      <td>0.975</td>\n      <td>0.033</td>\n      <td>0.750487</td>\n    </tr>\n  </tbody>\n</table>\n<p>100 rows × 3 columns</p>\n</div>"
     },
     "execution_count": 386,
     "metadata": {},
     "output_type": "execute_result"
    }
   ],
   "source": [
    "# Read tuned parameter combinations (See tuning_com_network.ipynb)\n",
    "pars_communication = pd.read_csv('../output/opt_pars_communication.csv', sep=',', header=0, encoding='latin-1')\n",
    "pars_communication"
   ]
  },
  {
   "cell_type": "code",
   "execution_count": 433,
   "metadata": {
    "collapsed": false,
    "jupyter": {
     "outputs_hidden": false
    },
    "pycharm": {
     "name": "#%%\n"
    }
   },
   "outputs": [
    {
     "name": "stdout",
     "output_type": "stream",
     "text": [
      "0 1.0 0.001 Time elapsed: 67.74899888038635  seconds\n",
      "1 0.975 0.001 Time elapsed: 133.9593379497528  seconds\n",
      "2 0.95 0.001 Time elapsed: 198.38765406608582  seconds\n",
      "3 0.925 0.001 Time elapsed: 259.68824195861816  seconds\n",
      "4 0.9 0.001 Time elapsed: 321.8604850769043  seconds\n",
      "5 1.0 0.002 Time elapsed: 382.568834066391  seconds\n",
      "6 1.0 0.003 Time elapsed: 444.2329430580139  seconds\n",
      "7 1.0 0.004 Time elapsed: 508.0634481906891  seconds\n",
      "8 0.8750000000000001 0.001 Time elapsed: 571.0520141124725  seconds\n",
      "9 1.0 0.006 Time elapsed: 634.4518101215363  seconds\n",
      "10 1.0 0.005 Time elapsed: 698.4962191581726  seconds\n",
      "11 1.0 0.011000000000000001 Time elapsed: 762.1251661777496  seconds\n",
      "12 1.0 0.010000000000000002 Time elapsed: 825.3437759876251  seconds\n",
      "13 1.0 0.008 Time elapsed: 888.1909110546112  seconds\n",
      "14 1.0 0.009000000000000001 Time elapsed: 950.8161568641663  seconds\n",
      "15 1.0 0.006999999999999999 Time elapsed: 1013.4801399707794  seconds\n",
      "16 1.0 0.013 Time elapsed: 1076.4182260036469  seconds\n",
      "17 1.0 0.015 Time elapsed: 1140.368238210678  seconds\n",
      "18 1.0 0.012 Time elapsed: 1203.704579114914  seconds\n",
      "19 1.0 0.017 Time elapsed: 1266.5302741527557  seconds\n",
      "20 1.0 0.014000000000000002 Time elapsed: 1329.5462939739227  seconds\n",
      "21 1.0 0.019000000000000003 Time elapsed: 1391.7744140625  seconds\n",
      "22 1.0 0.018000000000000002 Time elapsed: 1454.7355570793152  seconds\n",
      "23 1.0 0.016 Time elapsed: 1517.595360994339  seconds\n",
      "24 0.975 0.004 Time elapsed: 1580.7109129428864  seconds\n",
      "25 0.975 0.002 Time elapsed: 1644.1757628917694  seconds\n",
      "26 1.0 0.021 Time elapsed: 1706.7526960372925  seconds\n",
      "27 0.975 0.003 Time elapsed: 1769.3301901817322  seconds\n",
      "28 1.0 0.02 Time elapsed: 1832.6124861240387  seconds\n",
      "29 1.0 0.023 Time elapsed: 1895.758535861969  seconds\n",
      "30 1.0 0.027000000000000003 Time elapsed: 1958.7321531772614  seconds\n",
      "31 0.975 0.005 Time elapsed: 2022.0688078403473  seconds\n",
      "32 0.975 0.008 Time elapsed: 2084.3343181610107  seconds\n",
      "33 0.8500000000000001 0.001 Time elapsed: 2147.5280089378357  seconds\n",
      "34 0.975 0.006999999999999999 Time elapsed: 2208.53204202652  seconds\n",
      "35 0.975 0.006 Time elapsed: 2270.9596478939056  seconds\n",
      "36 1.0 0.026 Time elapsed: 2334.3900780677795  seconds\n",
      "37 1.0 0.022 Time elapsed: 2397.7127480506897  seconds\n",
      "38 0.975 0.009000000000000001 Time elapsed: 2460.771264076233  seconds\n",
      "39 1.0 0.03 Time elapsed: 2523.3155660629272  seconds\n",
      "40 1.0 0.024 Time elapsed: 2585.698233127594  seconds\n",
      "41 0.975 0.010000000000000002 Time elapsed: 2647.300099134445  seconds\n",
      "42 0.975 0.011000000000000001 Time elapsed: 2710.0685770511627  seconds\n",
      "43 1.0 0.027999999999999997 Time elapsed: 2773.025105237961  seconds\n",
      "44 1.0 0.035 Time elapsed: 2835.86753988266  seconds\n",
      "45 1.0 0.028999999999999998 Time elapsed: 2898.8268101215363  seconds\n",
      "46 1.0 0.032 Time elapsed: 2963.3298649787903  seconds\n",
      "47 0.975 0.013 Time elapsed: 3026.6600530147552  seconds\n",
      "48 0.975 0.012 Time elapsed: 3089.668706178665  seconds\n",
      "49 1.0 0.025 Time elapsed: 3152.9876658916473  seconds\n",
      "50 1.0 0.031 Time elapsed: 3215.7698419094086  seconds\n",
      "51 0.975 0.015 Time elapsed: 3279.7291519641876  seconds\n",
      "52 0.975 0.016 Time elapsed: 3342.632476091385  seconds\n",
      "53 0.975 0.018000000000000002 Time elapsed: 3405.9784939289093  seconds\n",
      "54 0.975 0.014000000000000002 Time elapsed: 3468.1866822242737  seconds\n",
      "55 0.975 0.023 Time elapsed: 3533.0451531410217  seconds\n",
      "56 0.95 0.002 Time elapsed: 3595.1001789569855  seconds\n",
      "57 0.975 0.025 Time elapsed: 3653.6382122039795  seconds\n",
      "58 0.95 0.003 Time elapsed: 3712.5865919589996  seconds\n",
      "59 0.975 0.017 Time elapsed: 3774.122941970825  seconds\n",
      "60 0.975 0.02 Time elapsed: 3835.8950860500336  seconds\n",
      "61 1.0 0.033 Time elapsed: 3894.811316013336  seconds\n",
      "62 1.0 0.036000000000000004 Time elapsed: 3955.6531190872192  seconds\n",
      "63 0.95 0.004 Time elapsed: 4016.502986907959  seconds\n",
      "64 0.975 0.024 Time elapsed: 4082.786890029907  seconds\n",
      "65 0.95 0.005 Time elapsed: 4146.033468961716  seconds\n",
      "66 1.0 0.034 Time elapsed: 4209.250540971756  seconds\n",
      "67 0.95 0.006999999999999999 Time elapsed: 4273.965856075287  seconds\n",
      "68 1.0 0.037000000000000005 Time elapsed: 4336.325879096985  seconds\n",
      "69 0.95 0.006 Time elapsed: 4408.3084371089935  seconds\n",
      "70 0.975 0.021 Time elapsed: 4479.109979152679  seconds\n",
      "71 0.975 0.019000000000000003 Time elapsed: 4543.92258310318  seconds\n",
      "72 0.8250000000000001 0.001 Time elapsed: 4608.456799983978  seconds\n",
      "73 0.975 0.028999999999999998 Time elapsed: 4676.183413982391  seconds\n",
      "74 0.95 0.008 Time elapsed: 4745.015285015106  seconds\n",
      "75 0.95 0.012 Time elapsed: 4812.524238109589  seconds\n",
      "76 0.975 0.022 Time elapsed: 4881.2984890937805  seconds\n",
      "77 0.975 0.031 Time elapsed: 4947.889537096024  seconds\n",
      "78 0.975 0.03 Time elapsed: 5010.73073720932  seconds\n",
      "79 0.975 0.026 Time elapsed: 5076.607217073441  seconds\n",
      "80 0.95 0.009000000000000001 Time elapsed: 5143.3283450603485  seconds\n",
      "81 0.95 0.011000000000000001 Time elapsed: 5204.966550111771  seconds\n",
      "82 1.0 0.040999999999999995 Time elapsed: 5268.679213047028  seconds\n",
      "83 1.0 0.042 Time elapsed: 5333.0167100429535  seconds\n",
      "84 0.95 0.010000000000000002 Time elapsed: 5398.74523806572  seconds\n",
      "85 0.95 0.014000000000000002 Time elapsed: 5463.801573038101  seconds\n",
      "86 1.0 0.047 Time elapsed: 5532.328212976456  seconds\n",
      "87 0.975 0.027000000000000003 Time elapsed: 5595.089722156525  seconds\n",
      "88 1.0 0.043 Time elapsed: 5659.903217077255  seconds\n",
      "89 1.0 0.04 Time elapsed: 5725.343355894089  seconds\n",
      "90 0.975 0.027999999999999997 Time elapsed: 5790.018680095673  seconds\n",
      "91 1.0 0.039 Time elapsed: 5858.496542930603  seconds\n",
      "92 1.0 0.038 Time elapsed: 5921.73011302948  seconds\n",
      "93 1.0 0.044 Time elapsed: 5984.216553926468  seconds\n",
      "94 0.975 0.036000000000000004 Time elapsed: 6047.788991928101  seconds\n",
      "95 0.95 0.013 Time elapsed: 6113.544412136078  seconds\n",
      "96 0.95 0.018000000000000002 Time elapsed: 6177.926229953766  seconds\n",
      "97 0.975 0.032 Time elapsed: 6239.5962018966675  seconds\n",
      "98 1.0 0.048 Time elapsed: 6301.719429016113  seconds\n",
      "99 0.975 0.033 Time elapsed: 6363.651134967804  seconds\n"
     ]
    }
   ],
   "source": [
    "# Run simulations for each parameter combination\n",
    "list_pre_results_com = []\n",
    "list_pre_results_avg_com = []\n",
    "list_results_com = []\n",
    "list_results_avg_com = []\n",
    "list_agents_per_intervention_com = []\n",
    "start_whole = time.time()\n",
    "count = 0\n",
    "for index, row in pars_communication.iterrows():\n",
    "    # run pre-intervention\n",
    "    pre_results_com, pre_results_avg_com, snapshot_pa = simulation.simulate_preinterventions(700,'communication',row['threshold'],row['ipa'])\n",
    "    # run intervention\n",
    "    results_com, results_avg_com, agents_per_intervention_com = simulation.simulate_interventions(1400,'communication',snapshot_pa,row['threshold'],row['ipa'])\n",
    "\n",
    "    list_pre_results_com.append(pre_results_com)\n",
    "    list_pre_results_avg_com.append(pre_results_avg_com)\n",
    "    list_results_com.append(results_com)\n",
    "    list_results_avg_com.append(results_avg_com)\n",
    "    list_agents_per_intervention_com.append(agents_per_intervention_com)\n",
    "    end = time.time()\n",
    "    print(count, row['threshold'], row['ipa'], \"Time elapsed:\", end - start_whole, ' seconds')\n",
    "    count = count + 1\n"
   ]
  },
  {
   "cell_type": "markdown",
   "metadata": {
    "pycharm": {
     "name": "#%% md\n"
    }
   },
   "source": [
    "# Postprocessing output"
   ]
  },
  {
   "cell_type": "code",
   "execution_count": 434,
   "metadata": {
    "collapsed": false,
    "jupyter": {
     "outputs_hidden": false
    },
    "pycharm": {
     "name": "#%%\n"
    }
   },
   "outputs": [],
   "source": [
    "# Step 1: reorganizing the data\n",
    "\n",
    "#####################\n",
    "## Peer nomination ##\n",
    "#####################\n",
    "\n",
    "# pre-intervention\n",
    "out_preint_nom = []\n",
    "for run in range(len(list_pre_results_avg_nom)):\n",
    "    temp_res = []\n",
    "    for class_id,res in list_pre_results_avg_nom[run].items():\n",
    "        temp_res.append(pd.DataFrame(list_pre_results_avg_nom[run][class_id]))\n",
    "    temp = pd.concat(temp_res, axis=1)\n",
    "    temp.columns = [\"1\", \"2\", \"3\", \"4\", \"5\", \"6\", \"7\", \"8\", \"9\", \"10\", \"11\", \"12\", \"13\", \"14\", \"15\", \"16\", \"17\", \"18\", \"19\", \"20\", \"21\"]\n",
    "    out_preint_nom.append(temp)\n",
    "\n",
    "# intervention\n",
    "by_intervention_nom = {}\n",
    "for i in input_args['intervention_strategy']:\n",
    "    by_run = []\n",
    "    for run in range(len(list_results_avg_nom)):\n",
    "        temp_res = []\n",
    "        for class_id,res in list_results_avg_nom[run].items():\n",
    "            temp_res.append(pd.DataFrame(list_results_avg_nom[run][class_id][i]))\n",
    "        temp = pd.concat(temp_res, axis=1)\n",
    "        temp.columns = [\"1\", \"2\", \"3\", \"4\", \"5\", \"6\", \"7\", \"8\", \"9\", \"10\", \"11\", \"12\", \"13\", \"14\", \"15\", \"16\", \"17\", \"18\", \"19\", \"20\", \"21\"]\n",
    "        by_run.append(temp)\n",
    "\n",
    "    by_intervention_nom[i] = by_run\n",
    "\n",
    "out_noint_nom = by_intervention_nom['nointervention']\n",
    "out_indegree_nom = by_intervention_nom['indegree']\n",
    "out_betweenness_nom = by_intervention_nom['closeness']\n",
    "out_closeness_nom = by_intervention_nom['betweenness']\n",
    "\n",
    "##########################\n",
    "## Online communication ##\n",
    "##########################\n",
    "\n",
    "# pre-intervention\n",
    "out_preint_com = []\n",
    "for run in range(len(list_pre_results_avg_com)):\n",
    "    temp_res = []\n",
    "    for class_id,res in list_pre_results_avg_com[run].items():\n",
    "        temp_res.append(pd.DataFrame(list_pre_results_avg_com[run][class_id]))\n",
    "    temp = pd.concat(temp_res, axis=1)\n",
    "    temp.columns = [\"1\", \"2\", \"3\", \"4\", \"5\", \"6\", \"7\", \"8\", \"9\", \"10\", \"11\", \"12\", \"13\", \"14\", \"15\", \"16\", \"17\", \"18\", \"19\", \"20\", \"21\"]\n",
    "    out_preint_com.append(temp)\n",
    "\n",
    "# intervention\n",
    "by_intervention_com = {}\n",
    "for i in input_args['intervention_strategy']:\n",
    "    by_run = []\n",
    "    for run in range(len(list_results_avg_com)):\n",
    "        temp_res = []\n",
    "        for class_id,res in list_results_avg_com[run].items():\n",
    "            temp_res.append(pd.DataFrame(list_results_avg_com[run][class_id][i]))\n",
    "        temp = pd.concat(temp_res, axis=1)\n",
    "        temp.columns = [\"1\", \"2\", \"3\", \"4\", \"5\", \"6\", \"7\", \"8\", \"9\", \"10\", \"11\", \"12\", \"13\", \"14\", \"15\", \"16\", \"17\", \"18\", \"19\", \"20\", \"21\"]\n",
    "        by_run.append(temp)\n",
    "\n",
    "    by_intervention_com[i] = by_run\n",
    "\n",
    "out_noint_com = by_intervention_com['nointervention']\n",
    "out_indegree_com = by_intervention_com['indegree']\n",
    "out_betweenness_com = by_intervention_com['closeness']\n",
    "out_closeness_com = by_intervention_com['betweenness']"
   ]
  },
  {
   "cell_type": "code",
   "execution_count": 435,
   "outputs": [],
   "source": [
    "# Step 2: calculate overall mean pal per run\n",
    "\n",
    "#####################\n",
    "## Peer nomination ##\n",
    "#####################\n",
    "by_run_noint = []\n",
    "by_run_indegree = []\n",
    "by_run_betweenness = []\n",
    "by_run_closeness = []\n",
    "for run in range(len(out_noint_nom)):\n",
    "    by_run_noint.append(out_noint_nom[run].mean(axis=1))\n",
    "    by_run_indegree.append(out_indegree_nom[run].mean(axis=1))\n",
    "    by_run_betweenness.append(out_betweenness_nom[run].mean(axis=1))\n",
    "    by_run_closeness.append(out_closeness_nom[run].mean(axis=1))\n",
    "\n",
    "out_tot_noint_nom = pd.concat(by_run_noint, axis =1)\n",
    "out_tot_indegree_nom = pd.concat(by_run_indegree, axis =1)\n",
    "out_tot_betweenness_nom = pd.concat(by_run_betweenness, axis =1)\n",
    "out_tot_closeness_nom = pd.concat(by_run_closeness, axis =1)\n",
    "\n",
    "##########################\n",
    "## Online communication ##\n",
    "##########################\n",
    "by_run_noint = []\n",
    "by_run_indegree = []\n",
    "by_run_betweenness = []\n",
    "by_run_closeness = []\n",
    "for run in range(len(out_noint_com)):\n",
    "    by_run_noint.append(out_noint_com[run].mean(axis=1))\n",
    "    by_run_indegree.append(out_indegree_com[run].mean(axis=1))\n",
    "    by_run_betweenness.append(out_betweenness_com[run].mean(axis=1))\n",
    "    by_run_closeness.append(out_closeness_com[run].mean(axis=1))\n",
    "\n",
    "out_tot_noint_com = pd.concat(by_run_noint, axis =1)\n",
    "out_tot_indegree_com = pd.concat(by_run_indegree, axis =1)\n",
    "out_tot_betweenness_com = pd.concat(by_run_betweenness, axis =1)\n",
    "out_tot_closeness_com = pd.concat(by_run_closeness, axis =1)"
   ],
   "metadata": {
    "collapsed": false,
    "pycharm": {
     "name": "#%%\n"
    }
   }
  },
  {
   "cell_type": "code",
   "execution_count": 436,
   "outputs": [],
   "source": [
    "# Step 3 calculate mean, median, 95%CI over 100 runs\n",
    "\n",
    "#####################\n",
    "## Peer nomination ##\n",
    "#####################\n",
    "# nointervention\n",
    "n_nom = out_tot_noint_nom.mean(axis=1)\n",
    "n_nom_med = out_tot_noint_nom.median(axis=1)\n",
    "n_nom_min = out_tot_noint_nom.quantile(q=0.025, axis=1)\n",
    "n_nom_max = out_tot_noint_nom.quantile(q=0.975, axis=1)\n",
    "\n",
    "# indegree\n",
    "i_nom = out_tot_indegree_nom.mean(axis=1)\n",
    "i_nom_med = out_tot_indegree_nom.median(axis=1)\n",
    "i_nom_min = out_tot_indegree_nom.quantile(q=0.025, axis=1)\n",
    "i_nom_max = out_tot_indegree_nom.quantile(q=0.975, axis=1)\n",
    "\n",
    "# betweenness\n",
    "b_nom = out_tot_betweenness_nom.mean(axis=1)\n",
    "b_nom_med = out_tot_betweenness_nom.median(axis=1)\n",
    "b_nom_min = out_tot_betweenness_nom.quantile(q=0.025, axis=1)\n",
    "b_nom_max = out_tot_betweenness_nom.quantile(q=0.975, axis=1)\n",
    "\n",
    "# closeness\n",
    "c_nom = out_tot_closeness_nom.mean(axis=1)\n",
    "c_nom_med = out_tot_closeness_nom.median(axis=1)\n",
    "c_nom_min = out_tot_closeness_nom.quantile(q=0.025, axis=1)\n",
    "c_nom_max = out_tot_closeness_nom.quantile(q=0.975, axis=1)\n",
    "\n",
    "##########################\n",
    "## Online communication ##\n",
    "##########################\n",
    "# nointervention\n",
    "n_com = out_tot_noint_com.mean(axis=1)\n",
    "n_com_med = out_tot_noint_com.median(axis=1)\n",
    "n_com_min = out_tot_noint_com.quantile(q=0.025, axis=1)\n",
    "n_com_max = out_tot_noint_com.quantile(q=0.975, axis=1)\n",
    "\n",
    "# indegree\n",
    "i_com = out_tot_indegree_com.mean(axis=1)\n",
    "i_com_med = out_tot_indegree_com.median(axis=1)\n",
    "i_com_min = out_tot_indegree_com.quantile(q=0.025, axis=1)\n",
    "i_com_max = out_tot_indegree_com.quantile(q=0.975, axis=1)\n",
    "\n",
    "# betweenness\n",
    "b_com = out_tot_betweenness_com.mean(axis=1)\n",
    "b_com_med = out_tot_betweenness_com.median(axis=1)\n",
    "b_com_min = out_tot_betweenness_com.quantile(q=0.025, axis=1)\n",
    "b_com_max = out_tot_betweenness_com.quantile(q=0.975, axis=1)\n",
    "\n",
    "# closeness\n",
    "c_com = out_tot_closeness_com.mean(axis=1)\n",
    "c_com_med = out_tot_closeness_com.median(axis=1)\n",
    "c_com_min = out_tot_closeness_com.quantile(q=0.025, axis=1)\n",
    "c_com_max = out_tot_closeness_com.quantile(q=0.975, axis=1)\n"
   ],
   "metadata": {
    "collapsed": false,
    "pycharm": {
     "name": "#%%\n"
    }
   }
  },
  {
   "cell_type": "code",
   "execution_count": 438,
   "outputs": [
    {
     "name": "stdout",
     "output_type": "stream",
     "text": [
      "nom nointervention: mean = 0.0 (95%CI = 0.0 , 0.0 )\n",
      "nom indegree: mean = 3.3445163028019698 (95%CI = 0.025118069450846825 , 8.063863321906073 )\n",
      "nom betweenness: mean = 2.7841910422750527 (95%CI = 0.018289166797003098 , 8.064048086890384 )\n",
      "nom closeness: mean = 1.7053452305721972 (95%CI = 0.0034231633157189023 , 6.524706791195478 )\n",
      "com nointervention: mean = 0.0 (95%CI = 0.0 , 0.0 )\n",
      "com indegree: mean = 1.1266832842874441 (95%CI = 0.8874243736995746 , 1.4369808310550791 )\n",
      "com betweenness: mean = 1.1209917160783789 (95%CI = 0.8850117091253384 , 1.4516858841515434 )\n",
      "com closeness: mean = 1.1443418773153358 (95%CI = 0.9048838070155885 , 1.464258332077173 )\n"
     ]
    }
   ],
   "source": [
    "# Impact on PAL: % change (mean, median, min, max)\n",
    "\n",
    "#####################\n",
    "## Peer nomination ##\n",
    "#####################\n",
    "n_nom_sr = (n_nom/n_nom[0] -1) *100\n",
    "n_nom_sr_med = (n_nom_med/n_nom_med[0] -1) *100\n",
    "n_nom_sr_min = (n_nom_min/n_nom_min[0] -1) *100\n",
    "n_nom_sr_max = (n_nom_max/n_nom_max[0] -1) *100\n",
    "i_nom_sr = (i_nom/i_nom[0] -1) *100\n",
    "i_nom_sr_med = (i_nom_med/i_nom_med[0] -1) *100\n",
    "i_nom_sr_min = (i_nom_min/i_nom_min[0] -1) *100\n",
    "i_nom_sr_max = (i_nom_max/i_nom_max[0] -1) *100\n",
    "b_nom_sr = (b_nom/b_nom[0] -1) *100\n",
    "b_nom_sr_med = (b_nom_med/b_nom_med[0] -1) *100\n",
    "b_nom_sr_min = (b_nom_min/b_nom_min[0] -1) *100\n",
    "b_nom_sr_max = (b_nom_max/b_nom_max[0] -1) *100\n",
    "c_nom_sr = (c_nom/c_nom[0] -1) *100\n",
    "c_nom_sr_med = (c_nom_med/c_nom_med[0] -1) *100\n",
    "c_nom_sr_min = (c_nom_min/c_nom_min[0] -1) *100\n",
    "c_nom_sr_max = (c_nom_max/c_nom_max[0] -1) *100\n",
    "\n",
    "# mean and confidence intervals at day 700\n",
    "print('nom nointervention: mean =', n_nom_sr[699], '(95%CI =', n_nom_sr_min[699], ',', n_nom_sr_max[699], ')')\n",
    "print('nom indegree: mean =', i_nom_sr[699], '(95%CI =', i_nom_sr_min[699], ',', i_nom_sr_max[699], ')')\n",
    "print('nom betweenness: mean =', b_nom_sr[699], '(95%CI =', b_nom_sr_min[699], ',', b_nom_sr_max[699], ')')\n",
    "print('nom closeness: mean =', c_nom_sr[699], '(95%CI =', c_nom_sr_min[699], ',', c_nom_sr_max[699], ')')\n",
    "\n",
    "##########################\n",
    "## Online communication ##\n",
    "##########################\n",
    "n_com_sr = (n_com/n_com[0] -1) *100\n",
    "n_com_sr_med = (n_com_med/n_com_med[0] -1) *100\n",
    "n_com_sr_min = (n_com_min/n_com_min[0] -1) *100\n",
    "n_com_sr_max = (n_com_max/n_com_max[0] -1) *100\n",
    "i_com_sr = (i_com/i_com[0] -1) *100\n",
    "i_com_sr_med = (i_com_med/i_com_med[0] -1) *100\n",
    "i_com_sr_min = (i_com_min/i_com_min[0] -1) *100\n",
    "i_com_sr_max = (i_com_max/i_com_max[0] -1) *100\n",
    "b_com_sr = (b_com/b_com[0] -1) *100\n",
    "b_com_sr_med = (b_com_med/b_com_med[0] -1) *100\n",
    "b_com_sr_min = (b_com_min/b_com_min[0] -1) *100\n",
    "b_com_sr_max = (b_com_max/b_com_max[0] -1) *100\n",
    "c_com_sr = (c_com/c_com[0] -1) *100\n",
    "c_com_sr_med = (c_com_med/c_com_med[0] -1) *100\n",
    "c_com_sr_min = (c_com_min/c_com_min[0] -1) *100\n",
    "c_com_sr_max = (c_com_max/c_com_max[0] -1) *100\n",
    "\n",
    "# mean and confidence intervals at day 700\n",
    "print('com nointervention: mean =', n_com_sr[699], '(95%CI =', n_com_sr_min[699], ',', n_com_sr_max[699], ')')\n",
    "print('com indegree: mean =', i_com_sr[699], '(95%CI =', i_com_sr_min[699], ',', i_com_sr_max[699], ')')\n",
    "print('com betweenness: mean =', b_com_sr[699], '(95%CI =', b_com_sr_min[699], ',', b_com_sr_max[699], ')')\n",
    "print('com closeness: mean =', c_com_sr[699], '(95%CI =', c_com_sr_min[699], ',', c_com_sr_max[699], ')')"
   ],
   "metadata": {
    "collapsed": false,
    "pycharm": {
     "name": "#%%\n"
    }
   }
  },
  {
   "cell_type": "markdown",
   "metadata": {},
   "source": [
    "# Ploting the outcomes\n",
    "\n",
    "## 1. PAL"
   ]
  },
  {
   "cell_type": "code",
   "execution_count": 439,
   "metadata": {
    "collapsed": false,
    "jupyter": {
     "outputs_hidden": false
    },
    "pycharm": {
     "name": "#%%\n"
    }
   },
   "outputs": [
    {
     "name": "stderr",
     "output_type": "stream",
     "text": [
      "The PostScript backend does not support transparency; partially transparent artists will be rendered opaque.\n",
      "The PostScript backend does not support transparency; partially transparent artists will be rendered opaque.\n"
     ]
    },
    {
     "data": {
      "text/plain": "<Figure size 720x504 with 2 Axes>",
      "image/png": "[encoded data removed]"
     },
     "metadata": {},
     "output_type": "display_data"
    }
   ],
   "source": [
    "# Plots (with confidence intervals)\n",
    "ticks = np.arange(1.40, 1.60, 0.01)\n",
    "x = np.arange(0,1400,1)\n",
    "\n",
    "fig, (ax1, ax2) = plt.subplots(1, 2, figsize=(10,7))\n",
    "\n",
    "ax1.set_title('Nomination network')\n",
    "ax1.set_ylim([1.4, 1.6])\n",
    "ax1.plot(x, n_nom, color='black')\n",
    "ax1.plot(x, i_nom, color='green')\n",
    "#plt.fill_between(x, i_nom_min, i_nom_max, alpha=0.2, color='C5')\n",
    "ax1.plot(x, b_nom, color='blue')\n",
    "#plt.fill_between(x, b_nom_min, b_nom_max, alpha=0.2, color='C0')\n",
    "ax1.plot(x, c_nom, color='orange')\n",
    "#plt.fill_between(x, c_nom_min, c_nom_max, alpha=0.2, color='C3')\n",
    "\n",
    "ax2.set_title('Communication network')\n",
    "ax2.set_ylim([1.4, 1.6])\n",
    "ax2.plot(x, n_com, color='black')\n",
    "ax2.plot(x, i_com, color='green')\n",
    "#plt.fill_between(x, i_com_min, i_com_max, alpha=0.2, color='C5')\n",
    "ax2.plot(x, b_com, color='blue')\n",
    "#plt.fill_between(x, b_com_min, b_com_max, alpha=0.2, color='C0')\n",
    "ax2.plot(x, c_com, color='orange')\n",
    "#plt.fill_between(x, c_com_min, c_com_max, alpha=0.2, color='C3')\n",
    "ax2.legend(['In-degree', 'Betweenness', 'Closeness'], loc='lower right', title=\"Network interventions\")\n",
    "\n",
    "fig.savefig('../output/sim_results1.eps', bbox_inches='tight', format='eps', dpi=1000)"
   ]
  },
  {
   "cell_type": "markdown",
   "metadata": {
    "pycharm": {
     "name": "#%% md\n"
    }
   },
   "source": [
    "## 2. Impact on PAL: success rate (used in paper)"
   ]
  },
  {
   "cell_type": "code",
   "execution_count": 440,
   "metadata": {
    "collapsed": false,
    "jupyter": {
     "outputs_hidden": false
    },
    "pycharm": {
     "name": "#%%\n"
    }
   },
   "outputs": [
    {
     "name": "stderr",
     "output_type": "stream",
     "text": [
      "The PostScript backend does not support transparency; partially transparent artists will be rendered opaque.\n",
      "The PostScript backend does not support transparency; partially transparent artists will be rendered opaque.\n"
     ]
    },
    {
     "data": {
      "text/plain": "<Figure size 720x504 with 2 Axes>",
      "image/png": "[encoded data removed]"
     },
     "metadata": {},
     "output_type": "display_data"
    }
   ],
   "source": [
    "# Plot (without confidence intervals): used in paper\n",
    "ticks = np.arange(1.40, 1.60, 0.01)\n",
    "x = np.arange(0,1400,1)\n",
    "\n",
    "fig, (ax1, ax2) = plt.subplots(1, 2, figsize=(10,7))\n",
    "\n",
    "ax1.set_title('Nomination network')\n",
    "ax1.set_xlabel('Days')\n",
    "ax1.set_ylabel('Impact on physical activity level (%)')\n",
    "ax1.set_ylim([0, 5])\n",
    "ax1.plot(x, i_nom_sr, color='green')\n",
    "ax1.plot(x, b_nom_sr, color='blue')\n",
    "ax1.plot(x, c_nom_sr, color='orange')\n",
    "\n",
    "ax2.set_title('Communication network')\n",
    "ax2.set_xlabel('Days')\n",
    "ax2.set_ylabel('Impact on physical activity level (%)')\n",
    "ax2.set_ylim([0, 5])\n",
    "ax2.plot(x, i_com_sr, color='green')\n",
    "ax2.plot(x, b_com_sr, color='blue')\n",
    "ax2.plot(x, c_com_sr, color='orange')\n",
    "ax2.legend(['In-degree', 'Betweenness', 'Closeness'], loc='lower right', title=\"Network interventions\")\n",
    "\n",
    "fig.savefig('../output/sim_results2.eps', bbox_inches='tight', format='eps', dpi=1000)\n"
   ]
  },
  {
   "cell_type": "markdown",
   "metadata": {
    "collapsed": false,
    "jupyter": {
     "outputs_hidden": false
    },
    "pycharm": {
     "name": "#%% md\n"
    }
   },
   "source": [
    "## 3. Variation between classes (used in paper)"
   ]
  },
  {
   "cell_type": "code",
   "metadata": {
    "pycharm": {
     "name": "#%%\n"
    }
   },
   "source": [
    "# Nomination network\n",
    "all_averaged_nomm = {}\n",
    "for class_id in input_args['classes']:\n",
    "    all_averaged_nomm[str(class_id)] = {}\n",
    "    for i in  ['betweenness','closeness','indegree']:\n",
    "        temp_res = pd.Series([], dtype = float)\n",
    "        count_res = 0\n",
    "        for res_avg in list_results_avg_nom:\n",
    "            temp_res = temp_res.add(res_avg[str(class_id)][i],fill_value=0)\n",
    "            count_res = count_res + 1\n",
    "        all_averaged_nomm[str(class_id)][i] = temp_res/count_res\n",
    "\n",
    "# Communication network\n",
    "all_averaged_comm = {}\n",
    "for class_id in input_args['classes']:\n",
    "    all_averaged_comm[str(class_id)] = {}\n",
    "    for i in  ['betweenness','closeness','indegree']:\n",
    "        temp_res = pd.Series([], dtype = float)\n",
    "        count_res = 0\n",
    "        for res_avg in list_results_avg_com:\n",
    "            temp_res = temp_res.add(res_avg[str(class_id)][i],fill_value=0)\n",
    "            count_res = count_res + 1\n",
    "        all_averaged_comm[str(class_id)][i] = temp_res/count_res"
   ],
   "execution_count": null,
   "outputs": []
  },
  {
   "cell_type": "code",
   "execution_count": 443,
   "metadata": {
    "collapsed": false,
    "jupyter": {
     "outputs_hidden": false
    },
    "pycharm": {
     "name": "#%%\n"
    }
   },
   "outputs": [],
   "source": [
    "\n",
    "# Nomination network\n",
    "class_indegree_nom = []\n",
    "class_betweenness_nom = []\n",
    "class_closeness_nom = []\n",
    "\n",
    "for c in input_args['classes']:\n",
    "    # per run\n",
    "    temp1 = all_averaged_nomm[str(c)]\n",
    "    class_indegree_nom.append(temp1['indegree'])\n",
    "    class_betweenness_nom.append(temp1['betweenness'])\n",
    "    class_closeness_nom.append(temp1['closeness'])\n",
    "\n",
    "# Communication network\n",
    "class_indegree_com = []\n",
    "class_betweenness_com = []\n",
    "class_closeness_com = []\n",
    "\n",
    "for c in input_args['classes']:\n",
    "    # per run\n",
    "    temp1 = all_averaged_comm[str(c)]\n",
    "    class_indegree_com.append(temp1['indegree'])\n",
    "    class_betweenness_com.append(temp1['betweenness'])\n",
    "    class_closeness_com.append(temp1['closeness'])"
   ]
  },
  {
   "cell_type": "code",
   "execution_count": 444,
   "metadata": {
    "collapsed": false,
    "jupyter": {
     "outputs_hidden": false
    },
    "pycharm": {
     "name": "#%%\n"
    }
   },
   "outputs": [],
   "source": [
    "# Nomination network\n",
    "pd_class_indegree_nom = pd.concat(class_indegree_nom, axis=1, keys=[s.name for s in class_indegree_nom])\n",
    "pd_class_betweenness_nom = pd.concat(class_betweenness_nom, axis=1, keys=[s.name for s in class_betweenness_nom])\n",
    "pd_class_closeness_nom = pd.concat(class_closeness_nom, axis=1, keys=[s.name for s in class_closeness_nom])\n",
    "\n",
    "# Comunication network\n",
    "pd_class_indegree_com = pd.concat(class_indegree_com, axis=1, keys=[s.name for s in class_indegree_com])\n",
    "pd_class_betweenness_com = pd.concat(class_betweenness_com, axis=1, keys=[s.name for s in class_betweenness_com])\n",
    "pd_class_closeness_com = pd.concat(class_closeness_com, axis=1, keys=[s.name for s in class_closeness_com])\n",
    "\n",
    "\n",
    "nom_clvar = {'In-degree': (pd_class_indegree_nom.iloc[699]/pd_class_indegree_nom.iloc[0] -1) *100,\n",
    "           'Betweenness': (pd_class_betweenness_nom.iloc[699]/pd_class_betweenness_nom.iloc[0] -1) *100,\n",
    "           'Closeness': (pd_class_closeness_nom.iloc[699]/pd_class_closeness_nom.iloc[0] -1) *100}\n",
    "\n",
    "com_clvar = {'In-degree': (pd_class_indegree_com.iloc[699]/pd_class_indegree_com.iloc[0] -1) *100,\n",
    "           'Betweenness': (pd_class_betweenness_com.iloc[699]/pd_class_betweenness_com.iloc[0] -1) *100,\n",
    "           'Closeness': (pd_class_closeness_com.iloc[699]/pd_class_closeness_com.iloc[0] -1) *100}\n",
    "\n"
   ]
  },
  {
   "cell_type": "code",
   "execution_count": 445,
   "metadata": {
    "collapsed": false,
    "jupyter": {
     "outputs_hidden": false
    },
    "pycharm": {
     "name": "#%%\n"
    }
   },
   "outputs": [],
   "source": [
    "fig, (ax1, ax2) = plt.subplots(1, 2, figsize=(10,5))\n",
    "\n",
    "ax1.set_title('Nomination network')\n",
    "ax1.set_ylabel('Impact on phyisical activity level (%)')\n",
    "ax1.set_ylim([0, 18])\n",
    "ax1.boxplot(nom_clvar.values())\n",
    "ax1.set_xticklabels(nom_clvar.keys())\n",
    "\n",
    "\n",
    "ax2.set_title('Communication network')\n",
    "ax2.set_ylabel('Impact on phyisical activity level (%)')\n",
    "ax2.set_ylim([0, 18])\n",
    "ax2.boxplot(com_clvar.values())\n",
    "ax2.set_xticklabels(com_clvar.keys())\n",
    "#ax2.legend(['In-degree', 'Betweenness', 'Closeness'], loc='lower right', title=\"Network interventions\")\n",
    "\n",
    "\n",
    "fig.savefig('../output/sim_results4.eps', bbox_inches='tight', format='eps', dpi=1000)\n",
    "\n"
   ]
  },
  {
   "cell_type": "code",
   "execution_count": 446,
   "metadata": {
    "collapsed": false,
    "jupyter": {
     "outputs_hidden": false
    },
    "pycharm": {
     "name": "#%%\n"
    }
   },
   "outputs": [
    {
     "data": {
      "text/plain": "<Figure size 720x360 with 2 Axes>",
      "image/png": "[encoded data removed]"
     },
     "metadata": {},
     "output_type": "display_data"
    }
   ],
   "source": [
    "i_nom_bp = (pd_class_indegree_nom.iloc[699]/pd_class_indegree_nom.iloc[0] -1) *100\n",
    "b_nom_bp = (pd_class_betweenness_nom.iloc[699]/pd_class_betweenness_nom.iloc[0] -1) *100\n",
    "c_nom_bp =  (pd_class_closeness_nom.iloc[699]/pd_class_closeness_nom.iloc[0] -1) *100\n",
    "\n",
    "i_com_bp = (pd_class_indegree_com.iloc[699]/pd_class_indegree_com.iloc[0] -1) *100\n",
    "b_com_bp = (pd_class_betweenness_com.iloc[699]/pd_class_betweenness_com.iloc[0] -1) *100\n",
    "c_com_bp = (pd_class_closeness_com.iloc[699]/pd_class_closeness_com.iloc[0] -1) *100"
   ]
  },
  {
   "cell_type": "code",
   "execution_count": 421,
   "metadata": {
    "collapsed": false,
    "jupyter": {
     "outputs_hidden": false
    },
    "pycharm": {
     "name": "#%%\n"
    }
   },
   "outputs": [],
   "source": [
    "com_clvar\n"
   ]
  },
  {
   "cell_type": "code",
   "execution_count": 422,
   "metadata": {
    "collapsed": false,
    "jupyter": {
     "outputs_hidden": false
    },
    "pycharm": {
     "name": "#%%\n"
    }
   },
   "outputs": [
    {
     "data": {
      "text/plain": "{'Betweenness': NaN    2.018263\n NaN    1.149714\n NaN    1.450441\n NaN    2.325866\n NaN    2.459694\n NaN    0.327137\n NaN    2.167329\n NaN    1.798392\n NaN    0.239212\n NaN    0.189291\n NaN    0.416111\n NaN    1.611034\n NaN    0.860941\n NaN    0.625929\n NaN    3.202862\n NaN    0.339296\n NaN    1.483267\n NaN    0.944469\n NaN    1.403990\n NaN    0.309719\n NaN    1.574082\n dtype: float64, 'Closeness': NaN    2.018263\n NaN    1.279323\n NaN    2.029135\n NaN    0.339873\n NaN    2.459694\n NaN    0.188994\n NaN    2.167329\n NaN    2.148562\n NaN    0.645744\n NaN    1.825450\n NaN    0.356728\n NaN    2.331192\n NaN    0.860941\n NaN    1.140219\n NaN    0.064845\n NaN    0.407421\n NaN    1.427285\n NaN    1.663160\n NaN    0.647741\n NaN    0.508605\n NaN    1.675290\n dtype: float64, 'In-degree': NaN    2.233560\n NaN    1.279323\n NaN    0.664483\n NaN    1.255904\n NaN    2.459694\n NaN    0.174425\n NaN    2.167329\n NaN    1.823299\n NaN    0.645744\n NaN    1.825450\n NaN    0.356728\n NaN    2.143782\n NaN    0.860941\n NaN    1.140219\n NaN    0.695281\n NaN    0.407421\n NaN    1.427285\n NaN    1.663160\n NaN    1.010048\n NaN    0.508605\n NaN    1.675290\n dtype: float64}"
     },
     "execution_count": 422,
     "metadata": {},
     "output_type": "execute_result"
    }
   ],
   "source": [
    "nom_clvar"
   ]
  },
  {
   "cell_type": "markdown",
   "metadata": {
    "collapsed": false,
    "jupyter": {
     "outputs_hidden": false
    },
    "pycharm": {
     "name": "#%% md\n"
    }
   },
   "source": [
    "## 4. Variation between runs (day 700)"
   ]
  },
  {
   "cell_type": "code",
   "execution_count": 447,
   "outputs": [
    {
     "data": {
      "text/plain": "<Figure size 720x720 with 2 Axes>",
      "image/png": "[encoded data removed]"
     },
     "metadata": {},
     "output_type": "display_data"
    }
   ],
   "source": [
    "nom_var = {'In-degree': (out_tot_indegree_nom.iloc[699]/out_tot_indegree_nom.iloc[0] -1) *100,\n",
    "           'Betweenness': (out_tot_betweenness_nom.iloc[699]/out_tot_betweenness_nom.iloc[0] -1) *100,\n",
    "           'Closeness': (out_tot_closeness_nom.iloc[699]/out_tot_closeness_nom.iloc[0] -1) *100}\n",
    "\n",
    "com_var = {'In-degree': (out_tot_indegree_com.iloc[699]/out_tot_indegree_com.iloc[0] -1) *100,\n",
    "           'Betweenness': (out_tot_betweenness_com.iloc[699]/out_tot_betweenness_com.iloc[0] -1) *100,\n",
    "           'Closeness': (out_tot_closeness_com.iloc[699]/out_tot_closeness_com.iloc[0] -1) *100}\n",
    "\n",
    "\n",
    "fig, (ax1, ax2) = plt.subplots(1, 2, figsize=(10,10))\n",
    "\n",
    "ax1.set_title('Nomination network')\n",
    "ax1.set_ylabel('PAL success rate (%)')\n",
    "ax1.set_ylim([0,10])\n",
    "ax1.boxplot(nom_var.values())\n",
    "ax1.set_xticklabels(nom_var.keys())\n",
    "\n",
    "\n",
    "ax2.set_title('Communication network')\n",
    "ax2.set_ylabel('PAL success rate (%)')\n",
    "ax2.set_ylim([0, 10])\n",
    "ax2.boxplot(com_var.values())\n",
    "ax2.set_xticklabels(com_var.keys())\n",
    "#ax2.legend(['In-degree', 'Betweenness', 'Closeness'], loc='lower right', title=\"Network interventions\")\n",
    "\n",
    "fig.savefig('../output/sim_results3.eps', bbox_inches='tight', format='eps', dpi=1000)"
   ],
   "metadata": {
    "collapsed": false,
    "pycharm": {
     "name": "#%%\n"
    }
   }
  },
  {
   "cell_type": "code",
   "execution_count": null,
   "outputs": [],
   "source": [],
   "metadata": {
    "collapsed": false,
    "pycharm": {
     "name": "#%%\n"
    }
   }
  }
 ],
 "metadata": {
  "kernelspec": {
   "name": "pycharm-23bb138",
   "language": "python",
   "display_name": "PyCharm (ABM-PA)"
  },
  "language_info": {
   "codemirror_mode": {
    "name": "ipython",
    "version": 3
   },
   "file_extension": ".py",
   "mimetype": "text/x-python",
   "name": "python",
   "nbconvert_exporter": "python",
   "pygments_lexer": "ipython3",
   "version": "3.9.5"
  }
 },
 "nbformat": 4,
 "nbformat_minor": 4
}