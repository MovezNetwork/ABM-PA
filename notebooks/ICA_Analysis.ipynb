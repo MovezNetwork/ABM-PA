{
 "cells": [
  {
   "cell_type": "code",
   "execution_count": 1,
   "id": "ad5d9ef7-682d-48dd-bf90-10958ab04aad",
   "metadata": {},
   "outputs": [],
   "source": [
    "import pandas as pd\n",
    "import numpy as np\n",
    "import json\n",
    "import networkx as nx\n",
    "pd.set_option('display.float_format', lambda x: '%.2f' % x)"
   ]
  },
  {
   "cell_type": "code",
   "execution_count": 2,
   "id": "570c4f67-0df3-4970-b953-5fbef28051fc",
   "metadata": {},
   "outputs": [],
   "source": [
    "try:\n",
    "    input_args = json.loads(open('../input/simulation.json').read())\n",
    "except Exception as ex:\n",
    "    print('simulation.json does not exist!')\n",
    "    print(ex)"
   ]
  },
  {
   "cell_type": "markdown",
   "id": "aaa44908-4e77-4010-ad04-c0b8ca22e393",
   "metadata": {},
   "source": [
    "### Exploratory Analysis Movez Data"
   ]
  },
  {
   "cell_type": "markdown",
   "id": "f12c393b-59b5-4e26-8116-687e2119d9b0",
   "metadata": {},
   "source": [
    "#### PAL Data"
   ]
  },
  {
   "cell_type": "markdown",
   "id": "84b4d017-afe9-4f0a-9d77-4a5a6489fc24",
   "metadata": {},
   "source": [
    "##### PAL per child"
   ]
  },
  {
   "cell_type": "code",
   "execution_count": 45,
   "id": "45bf1662-5d71-41cf-bcf5-82dc5fd66b90",
   "metadata": {},
   "outputs": [],
   "source": [
    "fitbit_new = pd.read_csv('../data/Fitbit_Imputation_FINAL.csv', sep=';', header=0)\n",
    "steps_mean_wave_new = fitbit_new.groupby(['Child', 'Wave']).mean()['Steps'].reset_index()\n",
    "steps_mean_wave_new.Steps = steps_mean_wave_new.Steps * 0.000153\n",
    "steps_mean_wave_new = steps_mean_wave_new.pivot(index='Child', columns='Wave')['Steps']"
   ]
  },
  {
   "cell_type": "code",
   "execution_count": 46,
   "id": "020a7bd4-9b4d-44c2-8569-1c8281d853ea",
   "metadata": {},
   "outputs": [
    {
     "data": {
      "text/html": [
       "<div>\n",
       "<style scoped>\n",
       "    .dataframe tbody tr th:only-of-type {\n",
       "        vertical-align: middle;\n",
       "    }\n",
       "\n",
       "    .dataframe tbody tr th {\n",
       "        vertical-align: top;\n",
       "    }\n",
       "\n",
       "    .dataframe thead th {\n",
       "        text-align: right;\n",
       "    }\n",
       "</style>\n",
       "<table border=\"1\" class=\"dataframe\">\n",
       "  <thead>\n",
       "    <tr style=\"text-align: right;\">\n",
       "      <th>Wave</th>\n",
       "      <th>1</th>\n",
       "      <th>2</th>\n",
       "      <th>3</th>\n",
       "      <th>4</th>\n",
       "      <th>5</th>\n",
       "      <th>6</th>\n",
       "      <th>7</th>\n",
       "    </tr>\n",
       "  </thead>\n",
       "  <tbody>\n",
       "    <tr>\n",
       "      <th>count</th>\n",
       "      <td>926.00</td>\n",
       "      <td>928.00</td>\n",
       "      <td>927.00</td>\n",
       "      <td>929.00</td>\n",
       "      <td>1028.00</td>\n",
       "      <td>782.00</td>\n",
       "      <td>782.00</td>\n",
       "    </tr>\n",
       "    <tr>\n",
       "      <th>mean</th>\n",
       "      <td>1.40</td>\n",
       "      <td>1.53</td>\n",
       "      <td>1.59</td>\n",
       "      <td>1.44</td>\n",
       "      <td>1.34</td>\n",
       "      <td>1.61</td>\n",
       "      <td>1.44</td>\n",
       "    </tr>\n",
       "    <tr>\n",
       "      <th>std</th>\n",
       "      <td>0.53</td>\n",
       "      <td>0.58</td>\n",
       "      <td>0.60</td>\n",
       "      <td>0.57</td>\n",
       "      <td>0.53</td>\n",
       "      <td>0.65</td>\n",
       "      <td>0.60</td>\n",
       "    </tr>\n",
       "    <tr>\n",
       "      <th>min</th>\n",
       "      <td>0.19</td>\n",
       "      <td>0.15</td>\n",
       "      <td>0.15</td>\n",
       "      <td>0.15</td>\n",
       "      <td>0.15</td>\n",
       "      <td>0.20</td>\n",
       "      <td>0.15</td>\n",
       "    </tr>\n",
       "    <tr>\n",
       "      <th>25%</th>\n",
       "      <td>1.03</td>\n",
       "      <td>1.12</td>\n",
       "      <td>1.19</td>\n",
       "      <td>1.03</td>\n",
       "      <td>0.97</td>\n",
       "      <td>1.17</td>\n",
       "      <td>1.04</td>\n",
       "    </tr>\n",
       "    <tr>\n",
       "      <th>50%</th>\n",
       "      <td>1.36</td>\n",
       "      <td>1.50</td>\n",
       "      <td>1.51</td>\n",
       "      <td>1.40</td>\n",
       "      <td>1.29</td>\n",
       "      <td>1.54</td>\n",
       "      <td>1.41</td>\n",
       "    </tr>\n",
       "    <tr>\n",
       "      <th>75%</th>\n",
       "      <td>1.69</td>\n",
       "      <td>1.92</td>\n",
       "      <td>1.93</td>\n",
       "      <td>1.78</td>\n",
       "      <td>1.69</td>\n",
       "      <td>2.00</td>\n",
       "      <td>1.81</td>\n",
       "    </tr>\n",
       "    <tr>\n",
       "      <th>max</th>\n",
       "      <td>3.44</td>\n",
       "      <td>4.01</td>\n",
       "      <td>4.07</td>\n",
       "      <td>3.43</td>\n",
       "      <td>3.61</td>\n",
       "      <td>3.95</td>\n",
       "      <td>4.03</td>\n",
       "    </tr>\n",
       "  </tbody>\n",
       "</table>\n",
       "</div>"
      ],
      "text/plain": [
       "Wave       1      2      3      4       5      6      7\n",
       "count 926.00 928.00 927.00 929.00 1028.00 782.00 782.00\n",
       "mean    1.40   1.53   1.59   1.44    1.34   1.61   1.44\n",
       "std     0.53   0.58   0.60   0.57    0.53   0.65   0.60\n",
       "min     0.19   0.15   0.15   0.15    0.15   0.20   0.15\n",
       "25%     1.03   1.12   1.19   1.03    0.97   1.17   1.04\n",
       "50%     1.36   1.50   1.51   1.40    1.29   1.54   1.41\n",
       "75%     1.69   1.92   1.93   1.78    1.69   2.00   1.81\n",
       "max     3.44   4.01   4.07   3.43    3.61   3.95   4.03"
      ]
     },
     "execution_count": 46,
     "metadata": {},
     "output_type": "execute_result"
    }
   ],
   "source": [
    "steps_mean_wave_new.describe()"
   ]
  },
  {
   "cell_type": "markdown",
   "id": "4c1ff2ae-8035-4a1b-a23b-1694e0e1329e",
   "metadata": {},
   "source": [
    "##### PAL per class"
   ]
  },
  {
   "cell_type": "code",
   "execution_count": 15,
   "id": "baa77481-0ec8-415f-bdc5-5c1184176b8f",
   "metadata": {},
   "outputs": [
    {
     "ename": "KeyError",
     "evalue": "'Class'",
     "output_type": "error",
     "traceback": [
      "\u001b[0;31m---------------------------------------------------------------------------\u001b[0m",
      "\u001b[0;31mKeyError\u001b[0m                                  Traceback (most recent call last)",
      "\u001b[0;32m<ipython-input-15-28320249d210>\u001b[0m in \u001b[0;36m<module>\u001b[0;34m\u001b[0m\n\u001b[0;32m----> 1\u001b[0;31m \u001b[0mclass_waves_pal\u001b[0m \u001b[0;34m=\u001b[0m \u001b[0msteps_mean_wave_new\u001b[0m\u001b[0;34m.\u001b[0m\u001b[0mgroupby\u001b[0m\u001b[0;34m(\u001b[0m\u001b[0;34m[\u001b[0m\u001b[0;34m'Class'\u001b[0m\u001b[0;34m,\u001b[0m\u001b[0;34m'Wave'\u001b[0m\u001b[0;34m]\u001b[0m\u001b[0;34m)\u001b[0m\u001b[0;34m.\u001b[0m\u001b[0mmean\u001b[0m\u001b[0;34m(\u001b[0m\u001b[0;34m)\u001b[0m\u001b[0;34m[\u001b[0m\u001b[0;34m'Steps'\u001b[0m\u001b[0;34m]\u001b[0m\u001b[0;34m.\u001b[0m\u001b[0mreset_index\u001b[0m\u001b[0;34m(\u001b[0m\u001b[0;34m)\u001b[0m\u001b[0;34m\u001b[0m\u001b[0;34m\u001b[0m\u001b[0m\n\u001b[0m\u001b[1;32m      2\u001b[0m \u001b[0mclass_waves_pal\u001b[0m \u001b[0;34m=\u001b[0m \u001b[0mclass_waves_pal\u001b[0m\u001b[0;34m.\u001b[0m\u001b[0mpivot\u001b[0m\u001b[0;34m(\u001b[0m\u001b[0mindex\u001b[0m\u001b[0;34m=\u001b[0m\u001b[0;34m'Class'\u001b[0m\u001b[0;34m,\u001b[0m \u001b[0mcolumns\u001b[0m\u001b[0;34m=\u001b[0m\u001b[0;34m'Wave'\u001b[0m\u001b[0;34m)\u001b[0m\u001b[0;34m[\u001b[0m\u001b[0;34m'Steps'\u001b[0m\u001b[0;34m]\u001b[0m\u001b[0;34m\u001b[0m\u001b[0;34m\u001b[0m\u001b[0m\n\u001b[1;32m      3\u001b[0m \u001b[0mclass_waves_pal\u001b[0m\u001b[0;34m\u001b[0m\u001b[0;34m\u001b[0m\u001b[0m\n",
      "\u001b[0;32m~/anaconda3/envs/ABM-PA/lib/python3.9/site-packages/pandas/core/frame.py\u001b[0m in \u001b[0;36mgroupby\u001b[0;34m(self, by, axis, level, as_index, sort, group_keys, squeeze, observed, dropna)\u001b[0m\n\u001b[1;32m   6715\u001b[0m         \u001b[0maxis\u001b[0m \u001b[0;34m=\u001b[0m \u001b[0mself\u001b[0m\u001b[0;34m.\u001b[0m\u001b[0m_get_axis_number\u001b[0m\u001b[0;34m(\u001b[0m\u001b[0maxis\u001b[0m\u001b[0;34m)\u001b[0m\u001b[0;34m\u001b[0m\u001b[0;34m\u001b[0m\u001b[0m\n\u001b[1;32m   6716\u001b[0m \u001b[0;34m\u001b[0m\u001b[0m\n\u001b[0;32m-> 6717\u001b[0;31m         return DataFrameGroupBy(\n\u001b[0m\u001b[1;32m   6718\u001b[0m             \u001b[0mobj\u001b[0m\u001b[0;34m=\u001b[0m\u001b[0mself\u001b[0m\u001b[0;34m,\u001b[0m\u001b[0;34m\u001b[0m\u001b[0;34m\u001b[0m\u001b[0m\n\u001b[1;32m   6719\u001b[0m             \u001b[0mkeys\u001b[0m\u001b[0;34m=\u001b[0m\u001b[0mby\u001b[0m\u001b[0;34m,\u001b[0m\u001b[0;34m\u001b[0m\u001b[0;34m\u001b[0m\u001b[0m\n",
      "\u001b[0;32m~/anaconda3/envs/ABM-PA/lib/python3.9/site-packages/pandas/core/groupby/groupby.py\u001b[0m in \u001b[0;36m__init__\u001b[0;34m(self, obj, keys, axis, level, grouper, exclusions, selection, as_index, sort, group_keys, squeeze, observed, mutated, dropna)\u001b[0m\n\u001b[1;32m    558\u001b[0m             \u001b[0;32mfrom\u001b[0m \u001b[0mpandas\u001b[0m\u001b[0;34m.\u001b[0m\u001b[0mcore\u001b[0m\u001b[0;34m.\u001b[0m\u001b[0mgroupby\u001b[0m\u001b[0;34m.\u001b[0m\u001b[0mgrouper\u001b[0m \u001b[0;32mimport\u001b[0m \u001b[0mget_grouper\u001b[0m\u001b[0;34m\u001b[0m\u001b[0;34m\u001b[0m\u001b[0m\n\u001b[1;32m    559\u001b[0m \u001b[0;34m\u001b[0m\u001b[0m\n\u001b[0;32m--> 560\u001b[0;31m             grouper, exclusions, obj = get_grouper(\n\u001b[0m\u001b[1;32m    561\u001b[0m                 \u001b[0mobj\u001b[0m\u001b[0;34m,\u001b[0m\u001b[0;34m\u001b[0m\u001b[0;34m\u001b[0m\u001b[0m\n\u001b[1;32m    562\u001b[0m                 \u001b[0mkeys\u001b[0m\u001b[0;34m,\u001b[0m\u001b[0;34m\u001b[0m\u001b[0;34m\u001b[0m\u001b[0m\n",
      "\u001b[0;32m~/anaconda3/envs/ABM-PA/lib/python3.9/site-packages/pandas/core/groupby/grouper.py\u001b[0m in \u001b[0;36mget_grouper\u001b[0;34m(obj, key, axis, level, sort, observed, mutated, validate, dropna)\u001b[0m\n\u001b[1;32m    809\u001b[0m                 \u001b[0min_axis\u001b[0m\u001b[0;34m,\u001b[0m \u001b[0mname\u001b[0m\u001b[0;34m,\u001b[0m \u001b[0mlevel\u001b[0m\u001b[0;34m,\u001b[0m \u001b[0mgpr\u001b[0m \u001b[0;34m=\u001b[0m \u001b[0;32mFalse\u001b[0m\u001b[0;34m,\u001b[0m \u001b[0;32mNone\u001b[0m\u001b[0;34m,\u001b[0m \u001b[0mgpr\u001b[0m\u001b[0;34m,\u001b[0m \u001b[0;32mNone\u001b[0m\u001b[0;34m\u001b[0m\u001b[0;34m\u001b[0m\u001b[0m\n\u001b[1;32m    810\u001b[0m             \u001b[0;32melse\u001b[0m\u001b[0;34m:\u001b[0m\u001b[0;34m\u001b[0m\u001b[0;34m\u001b[0m\u001b[0m\n\u001b[0;32m--> 811\u001b[0;31m                 \u001b[0;32mraise\u001b[0m \u001b[0mKeyError\u001b[0m\u001b[0;34m(\u001b[0m\u001b[0mgpr\u001b[0m\u001b[0;34m)\u001b[0m\u001b[0;34m\u001b[0m\u001b[0;34m\u001b[0m\u001b[0m\n\u001b[0m\u001b[1;32m    812\u001b[0m         \u001b[0;32melif\u001b[0m \u001b[0misinstance\u001b[0m\u001b[0;34m(\u001b[0m\u001b[0mgpr\u001b[0m\u001b[0;34m,\u001b[0m \u001b[0mGrouper\u001b[0m\u001b[0;34m)\u001b[0m \u001b[0;32mand\u001b[0m \u001b[0mgpr\u001b[0m\u001b[0;34m.\u001b[0m\u001b[0mkey\u001b[0m \u001b[0;32mis\u001b[0m \u001b[0;32mnot\u001b[0m \u001b[0;32mNone\u001b[0m\u001b[0;34m:\u001b[0m\u001b[0;34m\u001b[0m\u001b[0;34m\u001b[0m\u001b[0m\n\u001b[1;32m    813\u001b[0m             \u001b[0;31m# Add key to exclusions\u001b[0m\u001b[0;34m\u001b[0m\u001b[0;34m\u001b[0m\u001b[0;34m\u001b[0m\u001b[0m\n",
      "\u001b[0;31mKeyError\u001b[0m: 'Class'"
     ]
    }
   ],
   "source": [
    "class_waves_pal = steps_mean_wave_new.groupby(['Class','Wave']).mean()['Steps'].reset_index()\n",
    "class_waves_pal = class_waves_pal.pivot(index='Class', columns='Wave')['Steps']\n",
    "class_waves_pal"
   ]
  },
  {
   "cell_type": "code",
   "execution_count": 14,
   "id": "7f5b42c5-dc9b-41b6-9f40-0bdff8ca7749",
   "metadata": {},
   "outputs": [
    {
     "data": {
      "text/html": [
       "<div>\n",
       "<style scoped>\n",
       "    .dataframe tbody tr th:only-of-type {\n",
       "        vertical-align: middle;\n",
       "    }\n",
       "\n",
       "    .dataframe tbody tr th {\n",
       "        vertical-align: top;\n",
       "    }\n",
       "\n",
       "    .dataframe thead th {\n",
       "        text-align: right;\n",
       "    }\n",
       "</style>\n",
       "<table border=\"1\" class=\"dataframe\">\n",
       "  <thead>\n",
       "    <tr style=\"text-align: right;\">\n",
       "      <th>Wave</th>\n",
       "      <th>1</th>\n",
       "      <th>2</th>\n",
       "      <th>3</th>\n",
       "      <th>4</th>\n",
       "      <th>5</th>\n",
       "      <th>6</th>\n",
       "      <th>7</th>\n",
       "    </tr>\n",
       "  </thead>\n",
       "  <tbody>\n",
       "    <tr>\n",
       "      <th>count</th>\n",
       "      <td>94.00</td>\n",
       "      <td>94.00</td>\n",
       "      <td>94.00</td>\n",
       "      <td>83.00</td>\n",
       "      <td>60.00</td>\n",
       "      <td>44.00</td>\n",
       "      <td>44.00</td>\n",
       "    </tr>\n",
       "    <tr>\n",
       "      <th>mean</th>\n",
       "      <td>9213.84</td>\n",
       "      <td>10030.77</td>\n",
       "      <td>10467.45</td>\n",
       "      <td>9422.12</td>\n",
       "      <td>8747.77</td>\n",
       "      <td>10652.85</td>\n",
       "      <td>9602.20</td>\n",
       "    </tr>\n",
       "    <tr>\n",
       "      <th>std</th>\n",
       "      <td>1916.51</td>\n",
       "      <td>1977.97</td>\n",
       "      <td>2360.65</td>\n",
       "      <td>2552.19</td>\n",
       "      <td>1344.44</td>\n",
       "      <td>1659.23</td>\n",
       "      <td>1272.91</td>\n",
       "    </tr>\n",
       "    <tr>\n",
       "      <th>min</th>\n",
       "      <td>4860.79</td>\n",
       "      <td>5869.33</td>\n",
       "      <td>5336.67</td>\n",
       "      <td>3206.33</td>\n",
       "      <td>4855.03</td>\n",
       "      <td>7960.17</td>\n",
       "      <td>7435.86</td>\n",
       "    </tr>\n",
       "    <tr>\n",
       "      <th>25%</th>\n",
       "      <td>8255.10</td>\n",
       "      <td>8688.52</td>\n",
       "      <td>8965.18</td>\n",
       "      <td>7953.29</td>\n",
       "      <td>8038.10</td>\n",
       "      <td>9600.59</td>\n",
       "      <td>8642.54</td>\n",
       "    </tr>\n",
       "    <tr>\n",
       "      <th>50%</th>\n",
       "      <td>8989.25</td>\n",
       "      <td>9909.00</td>\n",
       "      <td>9996.33</td>\n",
       "      <td>9193.36</td>\n",
       "      <td>8896.06</td>\n",
       "      <td>10264.88</td>\n",
       "      <td>9377.43</td>\n",
       "    </tr>\n",
       "    <tr>\n",
       "      <th>75%</th>\n",
       "      <td>9957.43</td>\n",
       "      <td>11188.67</td>\n",
       "      <td>11610.83</td>\n",
       "      <td>10381.55</td>\n",
       "      <td>9686.45</td>\n",
       "      <td>11740.60</td>\n",
       "      <td>10300.03</td>\n",
       "    </tr>\n",
       "    <tr>\n",
       "      <th>max</th>\n",
       "      <td>17855.33</td>\n",
       "      <td>17227.17</td>\n",
       "      <td>17932.33</td>\n",
       "      <td>21701.33</td>\n",
       "      <td>11262.69</td>\n",
       "      <td>14068.88</td>\n",
       "      <td>13149.83</td>\n",
       "    </tr>\n",
       "  </tbody>\n",
       "</table>\n",
       "</div>"
      ],
      "text/plain": [
       "Wave         1        2        3        4        5        6        7\n",
       "count    94.00    94.00    94.00    83.00    60.00    44.00    44.00\n",
       "mean   9213.84 10030.77 10467.45  9422.12  8747.77 10652.85  9602.20\n",
       "std    1916.51  1977.97  2360.65  2552.19  1344.44  1659.23  1272.91\n",
       "min    4860.79  5869.33  5336.67  3206.33  4855.03  7960.17  7435.86\n",
       "25%    8255.10  8688.52  8965.18  7953.29  8038.10  9600.59  8642.54\n",
       "50%    8989.25  9909.00  9996.33  9193.36  8896.06 10264.88  9377.43\n",
       "75%    9957.43 11188.67 11610.83 10381.55  9686.45 11740.60 10300.03\n",
       "max   17855.33 17227.17 17932.33 21701.33 11262.69 14068.88 13149.83"
      ]
     },
     "execution_count": 14,
     "metadata": {},
     "output_type": "execute_result"
    }
   ],
   "source": [
    "class_waves_pal.describe()"
   ]
  },
  {
   "cell_type": "code",
   "execution_count": 128,
   "id": "4f9e393d-f333-431b-9ebd-a04cfde62cb2",
   "metadata": {},
   "outputs": [
    {
     "data": {
      "text/plain": [
       "(38, 38, 38, 49, 72, 88, 88)"
      ]
     },
     "execution_count": 128,
     "metadata": {},
     "output_type": "execute_result"
    }
   ],
   "source": [
    "# Number of null classes per wave\n",
    "class_waves_pal[1].isna().sum(),class_waves_pal[2].isna().sum() ,class_waves_pal[3].isna().sum() ,class_waves_pal[4].isna().sum() ,class_waves_pal[5].isna().sum() ,class_waves_pal[6].isna().sum() ,class_waves_pal[7].isna().sum() "
   ]
  },
  {
   "cell_type": "markdown",
   "id": "d175cbb3-2be8-4db9-baba-f40e5e72933d",
   "metadata": {},
   "source": [
    "##### Classes where all waves are collected (in terms of PAL) - only 15 classes out of 132"
   ]
  },
  {
   "cell_type": "code",
   "execution_count": 131,
   "id": "badace7b-beda-491c-84c2-36a89f3fcd0e",
   "metadata": {},
   "outputs": [
    {
     "data": {
      "text/html": [
       "<div>\n",
       "<style scoped>\n",
       "    .dataframe tbody tr th:only-of-type {\n",
       "        vertical-align: middle;\n",
       "    }\n",
       "\n",
       "    .dataframe tbody tr th {\n",
       "        vertical-align: top;\n",
       "    }\n",
       "\n",
       "    .dataframe thead th {\n",
       "        text-align: right;\n",
       "    }\n",
       "</style>\n",
       "<table border=\"1\" class=\"dataframe\">\n",
       "  <thead>\n",
       "    <tr style=\"text-align: right;\">\n",
       "      <th>Wave</th>\n",
       "      <th>1</th>\n",
       "      <th>2</th>\n",
       "      <th>3</th>\n",
       "      <th>4</th>\n",
       "      <th>5</th>\n",
       "      <th>6</th>\n",
       "      <th>7</th>\n",
       "    </tr>\n",
       "    <tr>\n",
       "      <th>Class</th>\n",
       "      <th></th>\n",
       "      <th></th>\n",
       "      <th></th>\n",
       "      <th></th>\n",
       "      <th></th>\n",
       "      <th></th>\n",
       "      <th></th>\n",
       "    </tr>\n",
       "  </thead>\n",
       "  <tbody>\n",
       "    <tr>\n",
       "      <th>73</th>\n",
       "      <td>1.25</td>\n",
       "      <td>1.70</td>\n",
       "      <td>1.39</td>\n",
       "      <td>1.49</td>\n",
       "      <td>1.33</td>\n",
       "      <td>1.40</td>\n",
       "      <td>1.73</td>\n",
       "    </tr>\n",
       "    <tr>\n",
       "      <th>74</th>\n",
       "      <td>1.39</td>\n",
       "      <td>1.68</td>\n",
       "      <td>1.62</td>\n",
       "      <td>1.21</td>\n",
       "      <td>0.90</td>\n",
       "      <td>1.19</td>\n",
       "      <td>1.46</td>\n",
       "    </tr>\n",
       "    <tr>\n",
       "      <th>78</th>\n",
       "      <td>1.31</td>\n",
       "      <td>1.49</td>\n",
       "      <td>1.62</td>\n",
       "      <td>1.41</td>\n",
       "      <td>1.27</td>\n",
       "      <td>1.50</td>\n",
       "      <td>1.40</td>\n",
       "    </tr>\n",
       "    <tr>\n",
       "      <th>81</th>\n",
       "      <td>1.23</td>\n",
       "      <td>1.45</td>\n",
       "      <td>1.41</td>\n",
       "      <td>1.35</td>\n",
       "      <td>1.27</td>\n",
       "      <td>1.47</td>\n",
       "      <td>1.32</td>\n",
       "    </tr>\n",
       "    <tr>\n",
       "      <th>82</th>\n",
       "      <td>1.39</td>\n",
       "      <td>1.79</td>\n",
       "      <td>1.76</td>\n",
       "      <td>1.53</td>\n",
       "      <td>1.41</td>\n",
       "      <td>1.48</td>\n",
       "      <td>1.70</td>\n",
       "    </tr>\n",
       "    <tr>\n",
       "      <th>86</th>\n",
       "      <td>1.57</td>\n",
       "      <td>1.17</td>\n",
       "      <td>1.77</td>\n",
       "      <td>1.77</td>\n",
       "      <td>1.35</td>\n",
       "      <td>1.68</td>\n",
       "      <td>1.26</td>\n",
       "    </tr>\n",
       "    <tr>\n",
       "      <th>100</th>\n",
       "      <td>1.74</td>\n",
       "      <td>1.87</td>\n",
       "      <td>1.81</td>\n",
       "      <td>1.70</td>\n",
       "      <td>1.37</td>\n",
       "      <td>1.54</td>\n",
       "      <td>1.30</td>\n",
       "    </tr>\n",
       "    <tr>\n",
       "      <th>103</th>\n",
       "      <td>1.51</td>\n",
       "      <td>1.74</td>\n",
       "      <td>1.62</td>\n",
       "      <td>1.68</td>\n",
       "      <td>1.13</td>\n",
       "      <td>1.26</td>\n",
       "      <td>1.34</td>\n",
       "    </tr>\n",
       "    <tr>\n",
       "      <th>124</th>\n",
       "      <td>1.45</td>\n",
       "      <td>1.46</td>\n",
       "      <td>1.93</td>\n",
       "      <td>1.60</td>\n",
       "      <td>1.52</td>\n",
       "      <td>1.65</td>\n",
       "      <td>1.45</td>\n",
       "    </tr>\n",
       "    <tr>\n",
       "      <th>125</th>\n",
       "      <td>1.42</td>\n",
       "      <td>1.61</td>\n",
       "      <td>1.43</td>\n",
       "      <td>1.82</td>\n",
       "      <td>1.49</td>\n",
       "      <td>1.66</td>\n",
       "      <td>1.24</td>\n",
       "    </tr>\n",
       "    <tr>\n",
       "      <th>131</th>\n",
       "      <td>1.80</td>\n",
       "      <td>1.58</td>\n",
       "      <td>2.05</td>\n",
       "      <td>1.89</td>\n",
       "      <td>1.67</td>\n",
       "      <td>1.83</td>\n",
       "      <td>1.36</td>\n",
       "    </tr>\n",
       "    <tr>\n",
       "      <th>133</th>\n",
       "      <td>1.53</td>\n",
       "      <td>1.55</td>\n",
       "      <td>2.05</td>\n",
       "      <td>1.65</td>\n",
       "      <td>1.26</td>\n",
       "      <td>1.66</td>\n",
       "      <td>1.69</td>\n",
       "    </tr>\n",
       "    <tr>\n",
       "      <th>134</th>\n",
       "      <td>1.53</td>\n",
       "      <td>1.81</td>\n",
       "      <td>2.06</td>\n",
       "      <td>1.86</td>\n",
       "      <td>1.66</td>\n",
       "      <td>2.11</td>\n",
       "      <td>2.01</td>\n",
       "    </tr>\n",
       "    <tr>\n",
       "      <th>135</th>\n",
       "      <td>1.78</td>\n",
       "      <td>2.00</td>\n",
       "      <td>2.45</td>\n",
       "      <td>1.90</td>\n",
       "      <td>1.53</td>\n",
       "      <td>2.12</td>\n",
       "      <td>1.94</td>\n",
       "    </tr>\n",
       "    <tr>\n",
       "      <th>141</th>\n",
       "      <td>1.37</td>\n",
       "      <td>1.72</td>\n",
       "      <td>2.26</td>\n",
       "      <td>1.55</td>\n",
       "      <td>1.34</td>\n",
       "      <td>1.75</td>\n",
       "      <td>1.76</td>\n",
       "    </tr>\n",
       "  </tbody>\n",
       "</table>\n",
       "</div>"
      ],
      "text/plain": [
       "Wave     1    2    3    4    5    6    7\n",
       "Class                                   \n",
       "73    1.25 1.70 1.39 1.49 1.33 1.40 1.73\n",
       "74    1.39 1.68 1.62 1.21 0.90 1.19 1.46\n",
       "78    1.31 1.49 1.62 1.41 1.27 1.50 1.40\n",
       "81    1.23 1.45 1.41 1.35 1.27 1.47 1.32\n",
       "82    1.39 1.79 1.76 1.53 1.41 1.48 1.70\n",
       "86    1.57 1.17 1.77 1.77 1.35 1.68 1.26\n",
       "100   1.74 1.87 1.81 1.70 1.37 1.54 1.30\n",
       "103   1.51 1.74 1.62 1.68 1.13 1.26 1.34\n",
       "124   1.45 1.46 1.93 1.60 1.52 1.65 1.45\n",
       "125   1.42 1.61 1.43 1.82 1.49 1.66 1.24\n",
       "131   1.80 1.58 2.05 1.89 1.67 1.83 1.36\n",
       "133   1.53 1.55 2.05 1.65 1.26 1.66 1.69\n",
       "134   1.53 1.81 2.06 1.86 1.66 2.11 2.01\n",
       "135   1.78 2.00 2.45 1.90 1.53 2.12 1.94\n",
       "141   1.37 1.72 2.26 1.55 1.34 1.75 1.76"
      ]
     },
     "execution_count": 131,
     "metadata": {},
     "output_type": "execute_result"
    }
   ],
   "source": [
    "class_waves_pal[~class_waves_pal.isnull().any(axis=1)]"
   ]
  },
  {
   "cell_type": "markdown",
   "id": "3655b740-ff29-4b5b-9c42-0956ef047e24",
   "metadata": {},
   "source": [
    "### Communication Networks Data"
   ]
  },
  {
   "cell_type": "code",
   "execution_count": 17,
   "id": "66915807-5752-4f1d-ace2-925b09af68dc",
   "metadata": {},
   "outputs": [
    {
     "name": "stderr",
     "output_type": "stream",
     "text": [
      "/Users/bojansimoski/anaconda3/envs/ABM-PA/lib/python3.9/site-packages/IPython/core/interactiveshell.py:3165: DtypeWarning: Columns (22) have mixed types.Specify dtype option on import or set low_memory=False.\n",
      "  has_raised = await self.run_ast_nodes(code_ast.body, cell_name,\n"
     ]
    },
    {
     "data": {
      "text/plain": [
       "(32677, 31)"
      ]
     },
     "execution_count": 17,
     "metadata": {},
     "output_type": "execute_result"
    }
   ],
   "source": [
    "df_comm = pd.read_csv('../data/Buzz_W5_primary-schools.csv', sep=';', header=0)\n",
    "df_comm = df_comm.append(pd.read_csv('../data/Buzz_W5_secondary-schools.csv', sep=';', header=0))\n",
    "df_comm['Wave'] = 5\n",
    "# only the inividually sent messages\n",
    "df_comm = df_comm[df_comm.Type==\"my\"]\n",
    "df_comm = df_comm.astype({'Child': 'int32'})\n",
    "df_comm = df_comm.astype({'Class': 'int32'})\n",
    "df_comm = df_comm.astype({'Participant': 'float64'})\n",
    "df_comm.shape"
   ]
  },
  {
   "cell_type": "code",
   "execution_count": 18,
   "id": "0c23e00e-e352-43b6-89ce-75e0c33284b8",
   "metadata": {},
   "outputs": [
    {
     "data": {
      "text/plain": [
       "Index(['Participant', 'School', 'Class', 'Child', 'Gender', 'Age', 'PI',\n",
       "       'Date', 'Time', 'UMID', 'Format_text', 'Format_Media', 'Type',\n",
       "       'RecipientChild', 'ClassReceive', 'Content', 'Media', 'ReactionInto',\n",
       "       'Flagged', 'PostedWhileBanned', 'ShareSource', 'SharedVia',\n",
       "       'Number_likes', 'Unnamed: 23', 'Unnamed: 24', 'Unnamed: 25',\n",
       "       'Unnamed: 26', 'Unnamed: 27', 'Unnamed: 28', 'Unnamed: 29', 'Wave'],\n",
       "      dtype='object')"
      ]
     },
     "execution_count": 18,
     "metadata": {},
     "output_type": "execute_result"
    }
   ],
   "source": [
    "df_comm.columns"
   ]
  },
  {
   "cell_type": "code",
   "execution_count": 19,
   "id": "3701f6a2-818b-4dab-89c0-3d799d64460c",
   "metadata": {},
   "outputs": [
    {
     "data": {
      "text/html": [
       "<div>\n",
       "<style scoped>\n",
       "    .dataframe tbody tr th:only-of-type {\n",
       "        vertical-align: middle;\n",
       "    }\n",
       "\n",
       "    .dataframe tbody tr th {\n",
       "        vertical-align: top;\n",
       "    }\n",
       "\n",
       "    .dataframe thead th {\n",
       "        text-align: right;\n",
       "    }\n",
       "</style>\n",
       "<table border=\"1\" class=\"dataframe\">\n",
       "  <thead>\n",
       "    <tr style=\"text-align: right;\">\n",
       "      <th></th>\n",
       "      <th>Participant</th>\n",
       "      <th>School</th>\n",
       "      <th>Class</th>\n",
       "      <th>Child</th>\n",
       "      <th>Gender</th>\n",
       "      <th>Age</th>\n",
       "      <th>PI</th>\n",
       "      <th>Date</th>\n",
       "      <th>Time</th>\n",
       "      <th>UMID</th>\n",
       "      <th>...</th>\n",
       "      <th>ClassReceive</th>\n",
       "      <th>Content</th>\n",
       "      <th>Media</th>\n",
       "      <th>ReactionInto</th>\n",
       "      <th>Flagged</th>\n",
       "      <th>PostedWhileBanned</th>\n",
       "      <th>ShareSource</th>\n",
       "      <th>SharedVia</th>\n",
       "      <th>Number_likes</th>\n",
       "      <th>Wave</th>\n",
       "    </tr>\n",
       "  </thead>\n",
       "  <tbody>\n",
       "    <tr>\n",
       "      <th>0</th>\n",
       "      <td>3410302337.00</td>\n",
       "      <td>34.00</td>\n",
       "      <td>103</td>\n",
       "      <td>2337</td>\n",
       "      <td>0.00</td>\n",
       "      <td>11.00</td>\n",
       "      <td>7.00</td>\n",
       "      <td>9-3-2018</td>\n",
       "      <td>12:23</td>\n",
       "      <td>102371</td>\n",
       "      <td>...</td>\n",
       "      <td>1</td>\n",
       "      <td>K</td>\n",
       "      <td>NaN</td>\n",
       "      <td>NaN</td>\n",
       "      <td>0.00</td>\n",
       "      <td>0.00</td>\n",
       "      <td>NaN</td>\n",
       "      <td>NaN</td>\n",
       "      <td>0</td>\n",
       "      <td>5</td>\n",
       "    </tr>\n",
       "    <tr>\n",
       "      <th>15</th>\n",
       "      <td>3410302337.00</td>\n",
       "      <td>34.00</td>\n",
       "      <td>103</td>\n",
       "      <td>2337</td>\n",
       "      <td>0.00</td>\n",
       "      <td>11.00</td>\n",
       "      <td>7.00</td>\n",
       "      <td>10-3-2018</td>\n",
       "      <td>14:50</td>\n",
       "      <td>107068</td>\n",
       "      <td>...</td>\n",
       "      <td>1</td>\n",
       "      <td>Hou</td>\n",
       "      <td>NaN</td>\n",
       "      <td>NaN</td>\n",
       "      <td>0.00</td>\n",
       "      <td>0.00</td>\n",
       "      <td>NaN</td>\n",
       "      <td>NaN</td>\n",
       "      <td>0</td>\n",
       "      <td>5</td>\n",
       "    </tr>\n",
       "    <tr>\n",
       "      <th>16</th>\n",
       "      <td>3410302337.00</td>\n",
       "      <td>34.00</td>\n",
       "      <td>103</td>\n",
       "      <td>2337</td>\n",
       "      <td>0.00</td>\n",
       "      <td>11.00</td>\n",
       "      <td>7.00</td>\n",
       "      <td>10-3-2018</td>\n",
       "      <td>14:50</td>\n",
       "      <td>107069</td>\n",
       "      <td>...</td>\n",
       "      <td>1</td>\n",
       "      <td>HOi</td>\n",
       "      <td>NaN</td>\n",
       "      <td>NaN</td>\n",
       "      <td>0.00</td>\n",
       "      <td>0.00</td>\n",
       "      <td>NaN</td>\n",
       "      <td>NaN</td>\n",
       "      <td>0</td>\n",
       "      <td>5</td>\n",
       "    </tr>\n",
       "  </tbody>\n",
       "</table>\n",
       "<p>3 rows × 24 columns</p>\n",
       "</div>"
      ],
      "text/plain": [
       "     Participant  School  Class  Child  Gender   Age   PI       Date   Time  \\\n",
       "0  3410302337.00   34.00    103   2337    0.00 11.00 7.00   9-3-2018  12:23   \n",
       "15 3410302337.00   34.00    103   2337    0.00 11.00 7.00  10-3-2018  14:50   \n",
       "16 3410302337.00   34.00    103   2337    0.00 11.00 7.00  10-3-2018  14:50   \n",
       "\n",
       "      UMID  ...  ClassReceive Content Media  ReactionInto  Flagged  \\\n",
       "0   102371  ...             1       K   NaN           NaN     0.00   \n",
       "15  107068  ...             1     Hou   NaN           NaN     0.00   \n",
       "16  107069  ...             1     HOi   NaN           NaN     0.00   \n",
       "\n",
       "   PostedWhileBanned ShareSource  SharedVia  Number_likes  Wave  \n",
       "0               0.00         NaN        NaN             0     5  \n",
       "15              0.00         NaN        NaN             0     5  \n",
       "16              0.00         NaN        NaN             0     5  \n",
       "\n",
       "[3 rows x 24 columns]"
      ]
     },
     "execution_count": 19,
     "metadata": {},
     "output_type": "execute_result"
    }
   ],
   "source": [
    "df_comm = df_comm.drop([ 'Unnamed: 23', 'Unnamed: 24', 'Unnamed: 25','Unnamed: 26', 'Unnamed: 27', 'Unnamed: 28', 'Unnamed: 29'], axis = 1)\n",
    "df_comm.head(3)"
   ]
  },
  {
   "cell_type": "markdown",
   "id": "87423f85-e177-4a2f-b1cf-ac8125a20c33",
   "metadata": {},
   "source": [
    "#### Per class data"
   ]
  },
  {
   "cell_type": "code",
   "execution_count": 22,
   "id": "18924d5c-2c7f-4cc5-926f-a476d7396e53",
   "metadata": {},
   "outputs": [
    {
     "data": {
      "text/html": [
       "<div>\n",
       "<style scoped>\n",
       "    .dataframe tbody tr th:only-of-type {\n",
       "        vertical-align: middle;\n",
       "    }\n",
       "\n",
       "    .dataframe tbody tr th {\n",
       "        vertical-align: top;\n",
       "    }\n",
       "\n",
       "    .dataframe thead th {\n",
       "        text-align: right;\n",
       "    }\n",
       "</style>\n",
       "<table border=\"1\" class=\"dataframe\">\n",
       "  <thead>\n",
       "    <tr style=\"text-align: right;\">\n",
       "      <th></th>\n",
       "      <th>Class</th>\n",
       "      <th>UMID</th>\n",
       "    </tr>\n",
       "  </thead>\n",
       "  <tbody>\n",
       "    <tr>\n",
       "      <th>0</th>\n",
       "      <td>73</td>\n",
       "      <td>4</td>\n",
       "    </tr>\n",
       "    <tr>\n",
       "      <th>1</th>\n",
       "      <td>74</td>\n",
       "      <td>2</td>\n",
       "    </tr>\n",
       "    <tr>\n",
       "      <th>2</th>\n",
       "      <td>78</td>\n",
       "      <td>241</td>\n",
       "    </tr>\n",
       "    <tr>\n",
       "      <th>3</th>\n",
       "      <td>81</td>\n",
       "      <td>159</td>\n",
       "    </tr>\n",
       "    <tr>\n",
       "      <th>4</th>\n",
       "      <td>82</td>\n",
       "      <td>33</td>\n",
       "    </tr>\n",
       "    <tr>\n",
       "      <th>5</th>\n",
       "      <td>86</td>\n",
       "      <td>62</td>\n",
       "    </tr>\n",
       "    <tr>\n",
       "      <th>6</th>\n",
       "      <td>100</td>\n",
       "      <td>581</td>\n",
       "    </tr>\n",
       "    <tr>\n",
       "      <th>7</th>\n",
       "      <td>103</td>\n",
       "      <td>189</td>\n",
       "    </tr>\n",
       "    <tr>\n",
       "      <th>8</th>\n",
       "      <td>124</td>\n",
       "      <td>363</td>\n",
       "    </tr>\n",
       "    <tr>\n",
       "      <th>9</th>\n",
       "      <td>125</td>\n",
       "      <td>565</td>\n",
       "    </tr>\n",
       "    <tr>\n",
       "      <th>10</th>\n",
       "      <td>131</td>\n",
       "      <td>188</td>\n",
       "    </tr>\n",
       "    <tr>\n",
       "      <th>11</th>\n",
       "      <td>133</td>\n",
       "      <td>35</td>\n",
       "    </tr>\n",
       "    <tr>\n",
       "      <th>12</th>\n",
       "      <td>134</td>\n",
       "      <td>50</td>\n",
       "    </tr>\n",
       "    <tr>\n",
       "      <th>13</th>\n",
       "      <td>135</td>\n",
       "      <td>54</td>\n",
       "    </tr>\n",
       "    <tr>\n",
       "      <th>14</th>\n",
       "      <td>141</td>\n",
       "      <td>40</td>\n",
       "    </tr>\n",
       "    <tr>\n",
       "      <th>15</th>\n",
       "      <td>250</td>\n",
       "      <td>489</td>\n",
       "    </tr>\n",
       "    <tr>\n",
       "      <th>16</th>\n",
       "      <td>251</td>\n",
       "      <td>373</td>\n",
       "    </tr>\n",
       "    <tr>\n",
       "      <th>17</th>\n",
       "      <td>256</td>\n",
       "      <td>322</td>\n",
       "    </tr>\n",
       "    <tr>\n",
       "      <th>18</th>\n",
       "      <td>258</td>\n",
       "      <td>188</td>\n",
       "    </tr>\n",
       "    <tr>\n",
       "      <th>19</th>\n",
       "      <td>259</td>\n",
       "      <td>98</td>\n",
       "    </tr>\n",
       "    <tr>\n",
       "      <th>20</th>\n",
       "      <td>261</td>\n",
       "      <td>448</td>\n",
       "    </tr>\n",
       "    <tr>\n",
       "      <th>21</th>\n",
       "      <td>262</td>\n",
       "      <td>263</td>\n",
       "    </tr>\n",
       "    <tr>\n",
       "      <th>22</th>\n",
       "      <td>263</td>\n",
       "      <td>1013</td>\n",
       "    </tr>\n",
       "    <tr>\n",
       "      <th>23</th>\n",
       "      <td>272</td>\n",
       "      <td>2451</td>\n",
       "    </tr>\n",
       "    <tr>\n",
       "      <th>24</th>\n",
       "      <td>273</td>\n",
       "      <td>1155</td>\n",
       "    </tr>\n",
       "    <tr>\n",
       "      <th>25</th>\n",
       "      <td>277</td>\n",
       "      <td>78</td>\n",
       "    </tr>\n",
       "    <tr>\n",
       "      <th>26</th>\n",
       "      <td>279</td>\n",
       "      <td>33</td>\n",
       "    </tr>\n",
       "    <tr>\n",
       "      <th>27</th>\n",
       "      <td>290</td>\n",
       "      <td>2297</td>\n",
       "    </tr>\n",
       "    <tr>\n",
       "      <th>28</th>\n",
       "      <td>291</td>\n",
       "      <td>568</td>\n",
       "    </tr>\n",
       "    <tr>\n",
       "      <th>29</th>\n",
       "      <td>292</td>\n",
       "      <td>2168</td>\n",
       "    </tr>\n",
       "    <tr>\n",
       "      <th>30</th>\n",
       "      <td>296</td>\n",
       "      <td>1117</td>\n",
       "    </tr>\n",
       "    <tr>\n",
       "      <th>31</th>\n",
       "      <td>297</td>\n",
       "      <td>392</td>\n",
       "    </tr>\n",
       "    <tr>\n",
       "      <th>32</th>\n",
       "      <td>298</td>\n",
       "      <td>5301</td>\n",
       "    </tr>\n",
       "    <tr>\n",
       "      <th>33</th>\n",
       "      <td>299</td>\n",
       "      <td>2363</td>\n",
       "    </tr>\n",
       "    <tr>\n",
       "      <th>34</th>\n",
       "      <td>300</td>\n",
       "      <td>612</td>\n",
       "    </tr>\n",
       "    <tr>\n",
       "      <th>35</th>\n",
       "      <td>301</td>\n",
       "      <td>2525</td>\n",
       "    </tr>\n",
       "    <tr>\n",
       "      <th>36</th>\n",
       "      <td>302</td>\n",
       "      <td>731</td>\n",
       "    </tr>\n",
       "    <tr>\n",
       "      <th>37</th>\n",
       "      <td>303</td>\n",
       "      <td>3137</td>\n",
       "    </tr>\n",
       "    <tr>\n",
       "      <th>38</th>\n",
       "      <td>304</td>\n",
       "      <td>35</td>\n",
       "    </tr>\n",
       "    <tr>\n",
       "      <th>39</th>\n",
       "      <td>305</td>\n",
       "      <td>44</td>\n",
       "    </tr>\n",
       "    <tr>\n",
       "      <th>40</th>\n",
       "      <td>306</td>\n",
       "      <td>140</td>\n",
       "    </tr>\n",
       "    <tr>\n",
       "      <th>41</th>\n",
       "      <td>307</td>\n",
       "      <td>109</td>\n",
       "    </tr>\n",
       "    <tr>\n",
       "      <th>42</th>\n",
       "      <td>308</td>\n",
       "      <td>1592</td>\n",
       "    </tr>\n",
       "    <tr>\n",
       "      <th>43</th>\n",
       "      <td>310</td>\n",
       "      <td>69</td>\n",
       "    </tr>\n",
       "  </tbody>\n",
       "</table>\n",
       "</div>"
      ],
      "text/plain": [
       "    Class  UMID\n",
       "0      73     4\n",
       "1      74     2\n",
       "2      78   241\n",
       "3      81   159\n",
       "4      82    33\n",
       "5      86    62\n",
       "6     100   581\n",
       "7     103   189\n",
       "8     124   363\n",
       "9     125   565\n",
       "10    131   188\n",
       "11    133    35\n",
       "12    134    50\n",
       "13    135    54\n",
       "14    141    40\n",
       "15    250   489\n",
       "16    251   373\n",
       "17    256   322\n",
       "18    258   188\n",
       "19    259    98\n",
       "20    261   448\n",
       "21    262   263\n",
       "22    263  1013\n",
       "23    272  2451\n",
       "24    273  1155\n",
       "25    277    78\n",
       "26    279    33\n",
       "27    290  2297\n",
       "28    291   568\n",
       "29    292  2168\n",
       "30    296  1117\n",
       "31    297   392\n",
       "32    298  5301\n",
       "33    299  2363\n",
       "34    300   612\n",
       "35    301  2525\n",
       "36    302   731\n",
       "37    303  3137\n",
       "38    304    35\n",
       "39    305    44\n",
       "40    306   140\n",
       "41    307   109\n",
       "42    308  1592\n",
       "43    310    69"
      ]
     },
     "execution_count": 22,
     "metadata": {},
     "output_type": "execute_result"
    }
   ],
   "source": [
    "class_waves_messages = df_comm.groupby(['Class'])['UMID'].count().reset_index()\n",
    "class_waves_messages"
   ]
  },
  {
   "cell_type": "code",
   "execution_count": 23,
   "id": "56e70669-4e84-4511-a64d-c9c761e337f9",
   "metadata": {},
   "outputs": [
    {
     "data": {
      "text/html": [
       "<div>\n",
       "<style scoped>\n",
       "    .dataframe tbody tr th:only-of-type {\n",
       "        vertical-align: middle;\n",
       "    }\n",
       "\n",
       "    .dataframe tbody tr th {\n",
       "        vertical-align: top;\n",
       "    }\n",
       "\n",
       "    .dataframe thead th {\n",
       "        text-align: right;\n",
       "    }\n",
       "</style>\n",
       "<table border=\"1\" class=\"dataframe\">\n",
       "  <thead>\n",
       "    <tr style=\"text-align: right;\">\n",
       "      <th></th>\n",
       "      <th>Class</th>\n",
       "      <th>UMID</th>\n",
       "    </tr>\n",
       "  </thead>\n",
       "  <tbody>\n",
       "    <tr>\n",
       "      <th>count</th>\n",
       "      <td>44.00</td>\n",
       "      <td>44.00</td>\n",
       "    </tr>\n",
       "    <tr>\n",
       "      <th>mean</th>\n",
       "      <td>224.32</td>\n",
       "      <td>742.66</td>\n",
       "    </tr>\n",
       "    <tr>\n",
       "      <th>std</th>\n",
       "      <td>88.36</td>\n",
       "      <td>1088.46</td>\n",
       "    </tr>\n",
       "    <tr>\n",
       "      <th>min</th>\n",
       "      <td>73.00</td>\n",
       "      <td>2.00</td>\n",
       "    </tr>\n",
       "    <tr>\n",
       "      <th>25%</th>\n",
       "      <td>132.50</td>\n",
       "      <td>67.25</td>\n",
       "    </tr>\n",
       "    <tr>\n",
       "      <th>50%</th>\n",
       "      <td>262.50</td>\n",
       "      <td>292.50</td>\n",
       "    </tr>\n",
       "    <tr>\n",
       "      <th>75%</th>\n",
       "      <td>298.25</td>\n",
       "      <td>801.50</td>\n",
       "    </tr>\n",
       "    <tr>\n",
       "      <th>max</th>\n",
       "      <td>310.00</td>\n",
       "      <td>5301.00</td>\n",
       "    </tr>\n",
       "  </tbody>\n",
       "</table>\n",
       "</div>"
      ],
      "text/plain": [
       "       Class    UMID\n",
       "count  44.00   44.00\n",
       "mean  224.32  742.66\n",
       "std    88.36 1088.46\n",
       "min    73.00    2.00\n",
       "25%   132.50   67.25\n",
       "50%   262.50  292.50\n",
       "75%   298.25  801.50\n",
       "max   310.00 5301.00"
      ]
     },
     "execution_count": 23,
     "metadata": {},
     "output_type": "execute_result"
    }
   ],
   "source": [
    "class_waves_messages.describe()"
   ]
  },
  {
   "cell_type": "markdown",
   "id": "ecbca1dd-5f6c-4c2e-9767-b1c905140bfd",
   "metadata": {},
   "source": [
    "#### Per Child Data"
   ]
  },
  {
   "cell_type": "code",
   "execution_count": 24,
   "id": "07e4acdd-a9bf-419e-b2f9-fb687c19ce83",
   "metadata": {},
   "outputs": [
    {
     "data": {
      "text/html": [
       "<div>\n",
       "<style scoped>\n",
       "    .dataframe tbody tr th:only-of-type {\n",
       "        vertical-align: middle;\n",
       "    }\n",
       "\n",
       "    .dataframe tbody tr th {\n",
       "        vertical-align: top;\n",
       "    }\n",
       "\n",
       "    .dataframe thead th {\n",
       "        text-align: right;\n",
       "    }\n",
       "</style>\n",
       "<table border=\"1\" class=\"dataframe\">\n",
       "  <thead>\n",
       "    <tr style=\"text-align: right;\">\n",
       "      <th></th>\n",
       "      <th>Child</th>\n",
       "      <th>UMID</th>\n",
       "    </tr>\n",
       "  </thead>\n",
       "  <tbody>\n",
       "    <tr>\n",
       "      <th>0</th>\n",
       "      <td>1409</td>\n",
       "      <td>4</td>\n",
       "    </tr>\n",
       "    <tr>\n",
       "      <th>1</th>\n",
       "      <td>1605</td>\n",
       "      <td>5</td>\n",
       "    </tr>\n",
       "    <tr>\n",
       "      <th>2</th>\n",
       "      <td>1606</td>\n",
       "      <td>2</td>\n",
       "    </tr>\n",
       "    <tr>\n",
       "      <th>3</th>\n",
       "      <td>1607</td>\n",
       "      <td>10</td>\n",
       "    </tr>\n",
       "    <tr>\n",
       "      <th>4</th>\n",
       "      <td>1608</td>\n",
       "      <td>16</td>\n",
       "    </tr>\n",
       "    <tr>\n",
       "      <th>...</th>\n",
       "      <td>...</td>\n",
       "      <td>...</td>\n",
       "    </tr>\n",
       "    <tr>\n",
       "      <th>612</th>\n",
       "      <td>6178</td>\n",
       "      <td>11</td>\n",
       "    </tr>\n",
       "    <tr>\n",
       "      <th>613</th>\n",
       "      <td>6179</td>\n",
       "      <td>2</td>\n",
       "    </tr>\n",
       "    <tr>\n",
       "      <th>614</th>\n",
       "      <td>6180</td>\n",
       "      <td>8</td>\n",
       "    </tr>\n",
       "    <tr>\n",
       "      <th>615</th>\n",
       "      <td>6181</td>\n",
       "      <td>5</td>\n",
       "    </tr>\n",
       "    <tr>\n",
       "      <th>616</th>\n",
       "      <td>6182</td>\n",
       "      <td>5</td>\n",
       "    </tr>\n",
       "  </tbody>\n",
       "</table>\n",
       "<p>617 rows × 2 columns</p>\n",
       "</div>"
      ],
      "text/plain": [
       "     Child  UMID\n",
       "0     1409     4\n",
       "1     1605     5\n",
       "2     1606     2\n",
       "3     1607    10\n",
       "4     1608    16\n",
       "..     ...   ...\n",
       "612   6178    11\n",
       "613   6179     2\n",
       "614   6180     8\n",
       "615   6181     5\n",
       "616   6182     5\n",
       "\n",
       "[617 rows x 2 columns]"
      ]
     },
     "execution_count": 24,
     "metadata": {},
     "output_type": "execute_result"
    }
   ],
   "source": [
    "child_waves_messages = df_comm.groupby(['Child'])['UMID'].count().reset_index()\n",
    "child_waves_messages"
   ]
  },
  {
   "cell_type": "code",
   "execution_count": 25,
   "id": "051401d3-f648-48bf-9ca3-382e1946f330",
   "metadata": {},
   "outputs": [
    {
     "data": {
      "text/html": [
       "<div>\n",
       "<style scoped>\n",
       "    .dataframe tbody tr th:only-of-type {\n",
       "        vertical-align: middle;\n",
       "    }\n",
       "\n",
       "    .dataframe tbody tr th {\n",
       "        vertical-align: top;\n",
       "    }\n",
       "\n",
       "    .dataframe thead th {\n",
       "        text-align: right;\n",
       "    }\n",
       "</style>\n",
       "<table border=\"1\" class=\"dataframe\">\n",
       "  <thead>\n",
       "    <tr style=\"text-align: right;\">\n",
       "      <th></th>\n",
       "      <th>Child</th>\n",
       "      <th>UMID</th>\n",
       "    </tr>\n",
       "  </thead>\n",
       "  <tbody>\n",
       "    <tr>\n",
       "      <th>count</th>\n",
       "      <td>617.00</td>\n",
       "      <td>617.00</td>\n",
       "    </tr>\n",
       "    <tr>\n",
       "      <th>mean</th>\n",
       "      <td>4896.68</td>\n",
       "      <td>52.96</td>\n",
       "    </tr>\n",
       "    <tr>\n",
       "      <th>std</th>\n",
       "      <td>1435.20</td>\n",
       "      <td>96.56</td>\n",
       "    </tr>\n",
       "    <tr>\n",
       "      <th>min</th>\n",
       "      <td>1409.00</td>\n",
       "      <td>1.00</td>\n",
       "    </tr>\n",
       "    <tr>\n",
       "      <th>25%</th>\n",
       "      <td>4881.00</td>\n",
       "      <td>5.00</td>\n",
       "    </tr>\n",
       "    <tr>\n",
       "      <th>50%</th>\n",
       "      <td>5457.00</td>\n",
       "      <td>17.00</td>\n",
       "    </tr>\n",
       "    <tr>\n",
       "      <th>75%</th>\n",
       "      <td>5961.00</td>\n",
       "      <td>50.00</td>\n",
       "    </tr>\n",
       "    <tr>\n",
       "      <th>max</th>\n",
       "      <td>6182.00</td>\n",
       "      <td>789.00</td>\n",
       "    </tr>\n",
       "  </tbody>\n",
       "</table>\n",
       "</div>"
      ],
      "text/plain": [
       "        Child   UMID\n",
       "count  617.00 617.00\n",
       "mean  4896.68  52.96\n",
       "std   1435.20  96.56\n",
       "min   1409.00   1.00\n",
       "25%   4881.00   5.00\n",
       "50%   5457.00  17.00\n",
       "75%   5961.00  50.00\n",
       "max   6182.00 789.00"
      ]
     },
     "execution_count": 25,
     "metadata": {},
     "output_type": "execute_result"
    }
   ],
   "source": [
    "child_waves_messages.describe()"
   ]
  },
  {
   "cell_type": "markdown",
   "id": "33d37b0d-8b26-44a6-9142-791b58d36a35",
   "metadata": {},
   "source": [
    "### Background Information Data"
   ]
  },
  {
   "cell_type": "code",
   "execution_count": 47,
   "id": "c50ef3b7-13f7-478c-8367-eb1bec9b4b8b",
   "metadata": {},
   "outputs": [],
   "source": [
    "pp = pd.read_csv(input_args['agent_personal_file'], sep=';', header=0, encoding='latin-1')\n",
    "pp = pp[pp.Child.isin(input_args['participants'])]\n",
    "gender_df = pp.groupby(['Child']).mean()['Sex']\n",
    "age_df = pp.groupby(['Child']).mean()['Age_W5']"
   ]
  },
  {
   "cell_type": "code",
   "execution_count": 49,
   "id": "8b982f8a-d2d9-4589-be96-cbf5c0b37c26",
   "metadata": {},
   "outputs": [
    {
     "data": {
      "text/plain": [
       "W1\n",
       "0    340\n",
       "1     68\n",
       "Name: Child, dtype: int64"
      ]
     },
     "execution_count": 49,
     "metadata": {},
     "output_type": "execute_result"
    }
   ],
   "source": [
    "pp.groupby('W1')['Child'].count()"
   ]
  },
  {
   "cell_type": "code",
   "execution_count": 38,
   "id": "65055a55-3dd5-40ea-9428-b83f319a569b",
   "metadata": {},
   "outputs": [
    {
     "data": {
      "text/plain": [
       "Sex\n",
       "0    187\n",
       "1    221\n",
       "Name: Child, dtype: int64"
      ]
     },
     "execution_count": 38,
     "metadata": {},
     "output_type": "execute_result"
    }
   ],
   "source": [
    " pp.groupby(['Sex'])['Child'].count()"
   ]
  },
  {
   "cell_type": "code",
   "execution_count": 40,
   "id": "6f63701f-b2a4-4c75-adba-76c4b7d2281f",
   "metadata": {},
   "outputs": [
    {
     "data": {
      "text/plain": [
       "21"
      ]
     },
     "execution_count": 40,
     "metadata": {},
     "output_type": "execute_result"
    }
   ],
   "source": [
    "pp['Class_Y3'].nunique()"
   ]
  },
  {
   "cell_type": "code",
   "execution_count": 26,
   "id": "c5553e9e-0b58-4401-9c02-aac27cfc7abb",
   "metadata": {},
   "outputs": [
    {
     "data": {
      "text/html": [
       "<div>\n",
       "<style scoped>\n",
       "    .dataframe tbody tr th:only-of-type {\n",
       "        vertical-align: middle;\n",
       "    }\n",
       "\n",
       "    .dataframe tbody tr th {\n",
       "        vertical-align: top;\n",
       "    }\n",
       "\n",
       "    .dataframe thead th {\n",
       "        text-align: right;\n",
       "    }\n",
       "</style>\n",
       "<table border=\"1\" class=\"dataframe\">\n",
       "  <thead>\n",
       "    <tr style=\"text-align: right;\">\n",
       "      <th></th>\n",
       "      <th>School</th>\n",
       "      <th>Level</th>\n",
       "      <th>Class_Y1</th>\n",
       "      <th>Class_Y2</th>\n",
       "      <th>Class_Y3</th>\n",
       "      <th>Child</th>\n",
       "      <th>Sex</th>\n",
       "      <th>Sex_f</th>\n",
       "      <th>Age_W1</th>\n",
       "      <th>Age_W5</th>\n",
       "      <th>W1</th>\n",
       "      <th>W2</th>\n",
       "      <th>W3</th>\n",
       "      <th>W4</th>\n",
       "      <th>W5</th>\n",
       "      <th>W6</th>\n",
       "      <th>W7</th>\n",
       "      <th>Y1_Sample</th>\n",
       "      <th>Y3_Sample</th>\n",
       "    </tr>\n",
       "  </thead>\n",
       "  <tbody>\n",
       "    <tr>\n",
       "      <th>0</th>\n",
       "      <td>22</td>\n",
       "      <td>Secondary</td>\n",
       "      <td>52.00</td>\n",
       "      <td>52.00</td>\n",
       "      <td>NaN</td>\n",
       "      <td>902</td>\n",
       "      <td>1</td>\n",
       "      <td>Female</td>\n",
       "      <td>13.00</td>\n",
       "      <td>NaN</td>\n",
       "      <td>1</td>\n",
       "      <td>1</td>\n",
       "      <td>0</td>\n",
       "      <td>0</td>\n",
       "      <td>0</td>\n",
       "      <td>0</td>\n",
       "      <td>0</td>\n",
       "      <td>1</td>\n",
       "      <td>0</td>\n",
       "    </tr>\n",
       "    <tr>\n",
       "      <th>1</th>\n",
       "      <td>22</td>\n",
       "      <td>Secondary</td>\n",
       "      <td>52.00</td>\n",
       "      <td>52.00</td>\n",
       "      <td>NaN</td>\n",
       "      <td>904</td>\n",
       "      <td>1</td>\n",
       "      <td>Female</td>\n",
       "      <td>12.00</td>\n",
       "      <td>NaN</td>\n",
       "      <td>1</td>\n",
       "      <td>1</td>\n",
       "      <td>0</td>\n",
       "      <td>0</td>\n",
       "      <td>0</td>\n",
       "      <td>0</td>\n",
       "      <td>0</td>\n",
       "      <td>1</td>\n",
       "      <td>0</td>\n",
       "    </tr>\n",
       "    <tr>\n",
       "      <th>2</th>\n",
       "      <td>22</td>\n",
       "      <td>Secondary</td>\n",
       "      <td>52.00</td>\n",
       "      <td>52.00</td>\n",
       "      <td>NaN</td>\n",
       "      <td>907</td>\n",
       "      <td>1</td>\n",
       "      <td>Female</td>\n",
       "      <td>12.00</td>\n",
       "      <td>NaN</td>\n",
       "      <td>1</td>\n",
       "      <td>1</td>\n",
       "      <td>0</td>\n",
       "      <td>0</td>\n",
       "      <td>0</td>\n",
       "      <td>0</td>\n",
       "      <td>0</td>\n",
       "      <td>1</td>\n",
       "      <td>0</td>\n",
       "    </tr>\n",
       "  </tbody>\n",
       "</table>\n",
       "</div>"
      ],
      "text/plain": [
       "   School      Level  Class_Y1  Class_Y2  Class_Y3  Child  Sex   Sex_f  \\\n",
       "0      22  Secondary     52.00     52.00       NaN    902    1  Female   \n",
       "1      22  Secondary     52.00     52.00       NaN    904    1  Female   \n",
       "2      22  Secondary     52.00     52.00       NaN    907    1  Female   \n",
       "\n",
       "   Age_W1  Age_W5  W1  W2  W3  W4  W5  W6  W7  Y1_Sample  Y3_Sample  \n",
       "0   13.00     NaN   1   1   0   0   0   0   0          1          0  \n",
       "1   12.00     NaN   1   1   0   0   0   0   0          1          0  \n",
       "2   12.00     NaN   1   1   0   0   0   0   0          1          0  "
      ]
     },
     "execution_count": 26,
     "metadata": {},
     "output_type": "execute_result"
    }
   ],
   "source": [
    "df_pp = pd.read_csv('../data/Participant_info_Final.csv', sep=';', header=0)\n",
    "df_pp.head(3)"
   ]
  },
  {
   "cell_type": "code",
   "execution_count": 27,
   "id": "c0bb642d-38bf-4d99-99d1-4e9d666451c0",
   "metadata": {},
   "outputs": [
    {
     "data": {
      "text/plain": [
       "(1484, 19)"
      ]
     },
     "execution_count": 27,
     "metadata": {},
     "output_type": "execute_result"
    }
   ],
   "source": [
    "df_pp.shape"
   ]
  },
  {
   "cell_type": "code",
   "execution_count": 28,
   "id": "1163b991-cf44-454e-b530-cc9eae5da48a",
   "metadata": {},
   "outputs": [
    {
     "data": {
      "text/plain": [
       "(951, 1032)"
      ]
     },
     "execution_count": 28,
     "metadata": {},
     "output_type": "execute_result"
    }
   ],
   "source": [
    "df_pp['Y1_Sample'].sum(),df_pp['Y3_Sample'].sum()"
   ]
  },
  {
   "cell_type": "code",
   "execution_count": 29,
   "id": "c1c7ca35-2d5d-4438-91eb-5b2855280b60",
   "metadata": {},
   "outputs": [
    {
     "data": {
      "text/plain": [
       "(843, 901, 868, 744, 1017, 755, 745)"
      ]
     },
     "execution_count": 29,
     "metadata": {},
     "output_type": "execute_result"
    }
   ],
   "source": [
    "df_pp['W1'].sum(),df_pp['W2'].sum(),df_pp['W3'].sum(),df_pp['W4'].sum(),df_pp['W5'].sum(),df_pp['W6'].sum(),df_pp['W7'].sum()"
   ]
  },
  {
   "cell_type": "code",
   "execution_count": 30,
   "id": "69a78835-21cf-4ec9-81bc-4d2ff07b1bcb",
   "metadata": {},
   "outputs": [],
   "source": [
    "df_all_waves = df_pp[(df_pp['W1']==1) & (df_pp['W2']==1)& (df_pp['W3']==1) & (df_pp['W4']==1) &(df_pp['W5']==1) & (df_pp['W6']==1) & (df_pp['W7']==1)]"
   ]
  },
  {
   "cell_type": "code",
   "execution_count": 31,
   "id": "29589012-764c-4aa6-a55a-499eac01632a",
   "metadata": {},
   "outputs": [
    {
     "data": {
      "text/plain": [
       "Class_Y1  Class_Y2  Class_Y3\n",
       "74.00     74.00     74.00        8\n",
       "78.00     78.00     78.00       19\n",
       "79.00     79.00     78.00        5\n",
       "81.00     81.00     81.00       27\n",
       "82.00     82.00     82.00        6\n",
       "86.00     86.00     86.00        8\n",
       "100.00    100.00    100.00      11\n",
       "                    300.00       1\n",
       "103.00    103.00    103.00      13\n",
       "124.00    124.00    124.00      15\n",
       "125.00    125.00    125.00      11\n",
       "131.00    131.00    131.00      10\n",
       "133.00    133.00    133.00      10\n",
       "135.00    135.00    135.00      17\n",
       "141.00    141.00    141.00      13\n",
       "Name: Child, dtype: int64"
      ]
     },
     "execution_count": 31,
     "metadata": {},
     "output_type": "execute_result"
    }
   ],
   "source": [
    "df_all_waves.groupby(['Class_Y1','Class_Y2','Class_Y3'])['Child'].count()"
   ]
  },
  {
   "cell_type": "code",
   "execution_count": 33,
   "id": "e60dbd51-e07f-4950-961c-c257a6faa148",
   "metadata": {},
   "outputs": [
    {
     "data": {
      "text/plain": [
       "Class_Y2\n",
       "74.00      8\n",
       "78.00     19\n",
       "79.00      5\n",
       "81.00     27\n",
       "82.00      6\n",
       "86.00      8\n",
       "100.00    12\n",
       "103.00    13\n",
       "124.00    15\n",
       "125.00    11\n",
       "131.00    10\n",
       "133.00    10\n",
       "135.00    17\n",
       "141.00    13\n",
       "Name: Child, dtype: int64"
      ]
     },
     "execution_count": 33,
     "metadata": {},
     "output_type": "execute_result"
    }
   ],
   "source": [
    "df_all_waves.groupby(['Class_Y2'])['Child'].count()"
   ]
  },
  {
   "cell_type": "code",
   "execution_count": null,
   "id": "a1119f36-503a-480f-a352-49b6f4ba4788",
   "metadata": {},
   "outputs": [],
   "source": []
  },
  {
   "cell_type": "code",
   "execution_count": 211,
   "id": "fe1d88bf-b43c-4186-a729-4889a2917a0e",
   "metadata": {},
   "outputs": [],
   "source": [
    "# pd.set_option('display.max_rows', 200)\n",
    "\n",
    "# df_pp.groupby(['Class_Y1','Class_Y2','Class_Y3'])['Child'].count().reset_index()"
   ]
  },
  {
   "cell_type": "markdown",
   "id": "32b07ebf-144b-477a-9905-e7185ba6c8d5",
   "metadata": {},
   "source": [
    "## Participants per class - Wave5 nominations vs communication data"
   ]
  },
  {
   "cell_type": "code",
   "execution_count": 493,
   "id": "e37f3008-0043-4ae0-91a2-f0d1dc48a531",
   "metadata": {},
   "outputs": [
    {
     "data": {
      "text/html": [
       "<div>\n",
       "<style scoped>\n",
       "    .dataframe tbody tr th:only-of-type {\n",
       "        vertical-align: middle;\n",
       "    }\n",
       "\n",
       "    .dataframe tbody tr th {\n",
       "        vertical-align: top;\n",
       "    }\n",
       "\n",
       "    .dataframe thead th {\n",
       "        text-align: right;\n",
       "    }\n",
       "</style>\n",
       "<table border=\"1\" class=\"dataframe\">\n",
       "  <thead>\n",
       "    <tr style=\"text-align: right;\">\n",
       "      <th></th>\n",
       "      <th>School</th>\n",
       "      <th>Level</th>\n",
       "      <th>Class_Y1</th>\n",
       "      <th>Class_Y2</th>\n",
       "      <th>Class_Y3</th>\n",
       "      <th>Child</th>\n",
       "      <th>Sex</th>\n",
       "      <th>Sex_f</th>\n",
       "      <th>Age_W1</th>\n",
       "      <th>Age_W5</th>\n",
       "      <th>W1</th>\n",
       "      <th>W2</th>\n",
       "      <th>W3</th>\n",
       "      <th>W4</th>\n",
       "      <th>W5</th>\n",
       "      <th>W6</th>\n",
       "      <th>W7</th>\n",
       "      <th>Y1_Sample</th>\n",
       "      <th>Y3_Sample</th>\n",
       "    </tr>\n",
       "  </thead>\n",
       "  <tbody>\n",
       "    <tr>\n",
       "      <th>32</th>\n",
       "      <td>23</td>\n",
       "      <td>Secondary</td>\n",
       "      <td>59.00</td>\n",
       "      <td>59.00</td>\n",
       "      <td>231.00</td>\n",
       "      <td>1037</td>\n",
       "      <td>1</td>\n",
       "      <td>Female</td>\n",
       "      <td>12.00</td>\n",
       "      <td>14.00</td>\n",
       "      <td>1</td>\n",
       "      <td>1</td>\n",
       "      <td>1</td>\n",
       "      <td>1</td>\n",
       "      <td>1</td>\n",
       "      <td>0</td>\n",
       "      <td>0</td>\n",
       "      <td>1</td>\n",
       "      <td>1</td>\n",
       "    </tr>\n",
       "    <tr>\n",
       "      <th>34</th>\n",
       "      <td>23</td>\n",
       "      <td>Secondary</td>\n",
       "      <td>59.00</td>\n",
       "      <td>59.00</td>\n",
       "      <td>311.00</td>\n",
       "      <td>1046</td>\n",
       "      <td>1</td>\n",
       "      <td>Female</td>\n",
       "      <td>13.00</td>\n",
       "      <td>15.00</td>\n",
       "      <td>1</td>\n",
       "      <td>1</td>\n",
       "      <td>1</td>\n",
       "      <td>1</td>\n",
       "      <td>1</td>\n",
       "      <td>0</td>\n",
       "      <td>0</td>\n",
       "      <td>1</td>\n",
       "      <td>1</td>\n",
       "    </tr>\n",
       "    <tr>\n",
       "      <th>35</th>\n",
       "      <td>23</td>\n",
       "      <td>Secondary</td>\n",
       "      <td>59.00</td>\n",
       "      <td>59.00</td>\n",
       "      <td>311.00</td>\n",
       "      <td>1047</td>\n",
       "      <td>0</td>\n",
       "      <td>Male</td>\n",
       "      <td>13.00</td>\n",
       "      <td>15.00</td>\n",
       "      <td>1</td>\n",
       "      <td>1</td>\n",
       "      <td>1</td>\n",
       "      <td>1</td>\n",
       "      <td>1</td>\n",
       "      <td>0</td>\n",
       "      <td>0</td>\n",
       "      <td>1</td>\n",
       "      <td>1</td>\n",
       "    </tr>\n",
       "  </tbody>\n",
       "</table>\n",
       "</div>"
      ],
      "text/plain": [
       "    School      Level  Class_Y1  Class_Y2  Class_Y3  Child  Sex   Sex_f  \\\n",
       "32      23  Secondary     59.00     59.00    231.00   1037    1  Female   \n",
       "34      23  Secondary     59.00     59.00    311.00   1046    1  Female   \n",
       "35      23  Secondary     59.00     59.00    311.00   1047    0    Male   \n",
       "\n",
       "    Age_W1  Age_W5  W1  W2  W3  W4  W5  W6  W7  Y1_Sample  Y3_Sample  \n",
       "32   12.00   14.00   1   1   1   1   1   0   0          1          1  \n",
       "34   13.00   15.00   1   1   1   1   1   0   0          1          1  \n",
       "35   13.00   15.00   1   1   1   1   1   0   0          1          1  "
      ]
     },
     "execution_count": 493,
     "metadata": {},
     "output_type": "execute_result"
    }
   ],
   "source": [
    "df_pp = pd.read_csv('../data/Participant_info_Final.csv', sep=';', header=0)\n",
    "df_pp = df_pp[df_pp.W5 == 1]\n",
    "df_pp.head(3)"
   ]
  },
  {
   "cell_type": "code",
   "execution_count": 494,
   "id": "01585521-8d26-4c86-b2a2-85ea775844b1",
   "metadata": {},
   "outputs": [
    {
     "data": {
      "text/html": [
       "<div>\n",
       "<style scoped>\n",
       "    .dataframe tbody tr th:only-of-type {\n",
       "        vertical-align: middle;\n",
       "    }\n",
       "\n",
       "    .dataframe tbody tr th {\n",
       "        vertical-align: top;\n",
       "    }\n",
       "\n",
       "    .dataframe thead th {\n",
       "        text-align: right;\n",
       "    }\n",
       "</style>\n",
       "<table border=\"1\" class=\"dataframe\">\n",
       "  <thead>\n",
       "    <tr style=\"text-align: right;\">\n",
       "      <th></th>\n",
       "      <th>Class_Y3</th>\n",
       "      <th>PP_NumChild</th>\n",
       "    </tr>\n",
       "  </thead>\n",
       "  <tbody>\n",
       "    <tr>\n",
       "      <th>0</th>\n",
       "      <td>65.00</td>\n",
       "      <td>9</td>\n",
       "    </tr>\n",
       "    <tr>\n",
       "      <th>1</th>\n",
       "      <td>66.00</td>\n",
       "      <td>12</td>\n",
       "    </tr>\n",
       "    <tr>\n",
       "      <th>2</th>\n",
       "      <td>67.00</td>\n",
       "      <td>17</td>\n",
       "    </tr>\n",
       "  </tbody>\n",
       "</table>\n",
       "</div>"
      ],
      "text/plain": [
       "   Class_Y3  PP_NumChild\n",
       "0     65.00            9\n",
       "1     66.00           12\n",
       "2     67.00           17"
      ]
     },
     "execution_count": 494,
     "metadata": {},
     "output_type": "execute_result"
    }
   ],
   "source": [
    "num_part = df_pp.groupby('Class_Y3')['Child'].nunique().reset_index(name=\"PP_NumChild\")\n",
    "num_part.head(3)"
   ]
  },
  {
   "cell_type": "markdown",
   "id": "100e1694-e252-46ce-94fe-7a6420df5661",
   "metadata": {},
   "source": [
    "##### Nomination Data"
   ]
  },
  {
   "cell_type": "code",
   "execution_count": 600,
   "id": "8f48a124-548c-4f31-baa9-5e4962be5b1a",
   "metadata": {},
   "outputs": [
    {
     "data": {
      "text/html": [
       "<div>\n",
       "<style scoped>\n",
       "    .dataframe tbody tr th:only-of-type {\n",
       "        vertical-align: middle;\n",
       "    }\n",
       "\n",
       "    .dataframe tbody tr th {\n",
       "        vertical-align: top;\n",
       "    }\n",
       "\n",
       "    .dataframe thead th {\n",
       "        text-align: right;\n",
       "    }\n",
       "</style>\n",
       "<table border=\"1\" class=\"dataframe\">\n",
       "  <thead>\n",
       "    <tr style=\"text-align: right;\">\n",
       "      <th></th>\n",
       "      <th>School</th>\n",
       "      <th>Class</th>\n",
       "      <th>Child</th>\n",
       "      <th>Gender</th>\n",
       "      <th>Age</th>\n",
       "      <th>PI</th>\n",
       "      <th>Wave</th>\n",
       "      <th>Variable</th>\n",
       "      <th>Alter</th>\n",
       "    </tr>\n",
       "  </thead>\n",
       "  <tbody>\n",
       "    <tr>\n",
       "      <th>0</th>\n",
       "      <td>26</td>\n",
       "      <td>73</td>\n",
       "      <td>1401</td>\n",
       "      <td>1</td>\n",
       "      <td>12</td>\n",
       "      <td>0</td>\n",
       "      <td>5</td>\n",
       "      <td>GEN_Advice</td>\n",
       "      <td>1397</td>\n",
       "    </tr>\n",
       "    <tr>\n",
       "      <th>1</th>\n",
       "      <td>26</td>\n",
       "      <td>73</td>\n",
       "      <td>1401</td>\n",
       "      <td>1</td>\n",
       "      <td>12</td>\n",
       "      <td>0</td>\n",
       "      <td>5</td>\n",
       "      <td>GEN_Advice</td>\n",
       "      <td>1398</td>\n",
       "    </tr>\n",
       "    <tr>\n",
       "      <th>2</th>\n",
       "      <td>26</td>\n",
       "      <td>73</td>\n",
       "      <td>1401</td>\n",
       "      <td>1</td>\n",
       "      <td>12</td>\n",
       "      <td>0</td>\n",
       "      <td>5</td>\n",
       "      <td>GEN_Advice</td>\n",
       "      <td>1399</td>\n",
       "    </tr>\n",
       "  </tbody>\n",
       "</table>\n",
       "</div>"
      ],
      "text/plain": [
       "   School  Class  Child  Gender  Age  PI  Wave    Variable  Alter\n",
       "0      26     73   1401       1   12   0     5  GEN_Advice   1397\n",
       "1      26     73   1401       1   12   0     5  GEN_Advice   1398\n",
       "2      26     73   1401       1   12   0     5  GEN_Advice   1399"
      ]
     },
     "execution_count": 600,
     "metadata": {},
     "output_type": "execute_result"
    }
   ],
   "source": [
    "nomm_data = '../data/W5_Sociometric_long.csv'\n",
    "df_nomm = pd.read_csv(nomm_data, sep=';', header=0)\n",
    "df_nomm.head(3)"
   ]
  },
  {
   "cell_type": "code",
   "execution_count": 496,
   "id": "ceb50b23-f0d1-4324-b89f-a3ca34ec33e8",
   "metadata": {},
   "outputs": [
    {
     "data": {
      "text/plain": [
       "(736, 1040)"
      ]
     },
     "execution_count": 496,
     "metadata": {},
     "output_type": "execute_result"
    }
   ],
   "source": [
    "df_nomm['Child'].nunique(),df_nomm['Alter'].nunique()"
   ]
  },
  {
   "cell_type": "code",
   "execution_count": 497,
   "id": "4906bace-9cdc-4641-addf-a6b3e744a32e",
   "metadata": {},
   "outputs": [],
   "source": [
    "# number of children nominating someone per class\n",
    "df_nom_part = df_nomm.groupby('Class')['Child'].nunique().reset_index(name=\"NumChildren\")"
   ]
  },
  {
   "cell_type": "code",
   "execution_count": 498,
   "id": "09e72d7d-b00b-4c28-86dd-d2b9e2fa3b93",
   "metadata": {},
   "outputs": [
    {
     "data": {
      "text/html": [
       "<div>\n",
       "<style scoped>\n",
       "    .dataframe tbody tr th:only-of-type {\n",
       "        vertical-align: middle;\n",
       "    }\n",
       "\n",
       "    .dataframe tbody tr th {\n",
       "        vertical-align: top;\n",
       "    }\n",
       "\n",
       "    .dataframe thead th {\n",
       "        text-align: right;\n",
       "    }\n",
       "</style>\n",
       "<table border=\"1\" class=\"dataframe\">\n",
       "  <thead>\n",
       "    <tr style=\"text-align: right;\">\n",
       "      <th></th>\n",
       "      <th>Class</th>\n",
       "      <th>Child</th>\n",
       "      <th>NumNominations</th>\n",
       "    </tr>\n",
       "  </thead>\n",
       "  <tbody>\n",
       "    <tr>\n",
       "      <th>0</th>\n",
       "      <td>73</td>\n",
       "      <td>1401</td>\n",
       "      <td>28</td>\n",
       "    </tr>\n",
       "    <tr>\n",
       "      <th>1</th>\n",
       "      <td>73</td>\n",
       "      <td>1402</td>\n",
       "      <td>11</td>\n",
       "    </tr>\n",
       "    <tr>\n",
       "      <th>2</th>\n",
       "      <td>73</td>\n",
       "      <td>1406</td>\n",
       "      <td>5</td>\n",
       "    </tr>\n",
       "  </tbody>\n",
       "</table>\n",
       "</div>"
      ],
      "text/plain": [
       "   Class  Child  NumNominations\n",
       "0     73   1401              28\n",
       "1     73   1402              11\n",
       "2     73   1406               5"
      ]
     },
     "execution_count": 498,
     "metadata": {},
     "output_type": "execute_result"
    }
   ],
   "source": [
    "df_number_nominations = df_nomm.groupby(['Class','Child'])['Variable'].count().reset_index(name=\"NumNominations\")\n",
    "df_number_nominations.head(3)"
   ]
  },
  {
   "cell_type": "code",
   "execution_count": 499,
   "id": "1a1055d9-20e0-4426-8687-4d0c89798c43",
   "metadata": {},
   "outputs": [
    {
     "data": {
      "text/html": [
       "<div>\n",
       "<style scoped>\n",
       "    .dataframe tbody tr th:only-of-type {\n",
       "        vertical-align: middle;\n",
       "    }\n",
       "\n",
       "    .dataframe tbody tr th {\n",
       "        vertical-align: top;\n",
       "    }\n",
       "\n",
       "    .dataframe thead th {\n",
       "        text-align: right;\n",
       "    }\n",
       "</style>\n",
       "<table border=\"1\" class=\"dataframe\">\n",
       "  <thead>\n",
       "    <tr style=\"text-align: right;\">\n",
       "      <th></th>\n",
       "      <th>Class</th>\n",
       "      <th>NominationsPerClass</th>\n",
       "    </tr>\n",
       "  </thead>\n",
       "  <tbody>\n",
       "    <tr>\n",
       "      <th>0</th>\n",
       "      <td>73</td>\n",
       "      <td>88</td>\n",
       "    </tr>\n",
       "    <tr>\n",
       "      <th>1</th>\n",
       "      <td>74</td>\n",
       "      <td>200</td>\n",
       "    </tr>\n",
       "    <tr>\n",
       "      <th>2</th>\n",
       "      <td>78</td>\n",
       "      <td>549</td>\n",
       "    </tr>\n",
       "  </tbody>\n",
       "</table>\n",
       "</div>"
      ],
      "text/plain": [
       "   Class  NominationsPerClass\n",
       "0     73                   88\n",
       "1     74                  200\n",
       "2     78                  549"
      ]
     },
     "execution_count": 499,
     "metadata": {},
     "output_type": "execute_result"
    }
   ],
   "source": [
    "df_number_nominations.groupby('Class')['NumNominations'].sum().reset_index(name=\"NominationsPerClass\").head(3)"
   ]
  },
  {
   "cell_type": "markdown",
   "id": "e25383dc-840f-4f2b-b0a1-cf0535ee67d7",
   "metadata": {},
   "source": [
    "##### Communication data"
   ]
  },
  {
   "cell_type": "code",
   "execution_count": 500,
   "id": "3e982366-5470-4e76-80a8-ff1e97bcf069",
   "metadata": {},
   "outputs": [
    {
     "name": "stderr",
     "output_type": "stream",
     "text": [
      "/Users/bojansimoski/anaconda3/envs/ABM-PA/lib/python3.9/site-packages/IPython/core/interactiveshell.py:3165: DtypeWarning: Columns (22) have mixed types.Specify dtype option on import or set low_memory=False.\n",
      "  has_raised = await self.run_ast_nodes(code_ast.body, cell_name,\n"
     ]
    },
    {
     "data": {
      "text/html": [
       "<div>\n",
       "<style scoped>\n",
       "    .dataframe tbody tr th:only-of-type {\n",
       "        vertical-align: middle;\n",
       "    }\n",
       "\n",
       "    .dataframe tbody tr th {\n",
       "        vertical-align: top;\n",
       "    }\n",
       "\n",
       "    .dataframe thead th {\n",
       "        text-align: right;\n",
       "    }\n",
       "</style>\n",
       "<table border=\"1\" class=\"dataframe\">\n",
       "  <thead>\n",
       "    <tr style=\"text-align: right;\">\n",
       "      <th></th>\n",
       "      <th>Participant</th>\n",
       "      <th>School</th>\n",
       "      <th>Class</th>\n",
       "      <th>Child</th>\n",
       "      <th>Gender</th>\n",
       "      <th>Age</th>\n",
       "      <th>PI</th>\n",
       "      <th>Date</th>\n",
       "      <th>Time</th>\n",
       "      <th>UMID</th>\n",
       "      <th>...</th>\n",
       "      <th>ShareSource</th>\n",
       "      <th>SharedVia</th>\n",
       "      <th>Number_likes</th>\n",
       "      <th>Unnamed: 23</th>\n",
       "      <th>Unnamed: 24</th>\n",
       "      <th>Unnamed: 25</th>\n",
       "      <th>Unnamed: 26</th>\n",
       "      <th>Unnamed: 27</th>\n",
       "      <th>Unnamed: 28</th>\n",
       "      <th>Unnamed: 29</th>\n",
       "    </tr>\n",
       "  </thead>\n",
       "  <tbody>\n",
       "    <tr>\n",
       "      <th>0</th>\n",
       "      <td>3410302337</td>\n",
       "      <td>34.00</td>\n",
       "      <td>103.00</td>\n",
       "      <td>2337.00</td>\n",
       "      <td>0.00</td>\n",
       "      <td>11.00</td>\n",
       "      <td>7.00</td>\n",
       "      <td>9-3-2018</td>\n",
       "      <td>12:23</td>\n",
       "      <td>102371</td>\n",
       "      <td>...</td>\n",
       "      <td>NaN</td>\n",
       "      <td>NaN</td>\n",
       "      <td>0</td>\n",
       "      <td>NaN</td>\n",
       "      <td>NaN</td>\n",
       "      <td>NaN</td>\n",
       "      <td>NaN</td>\n",
       "      <td>NaN</td>\n",
       "      <td>NaN</td>\n",
       "      <td>NaN</td>\n",
       "    </tr>\n",
       "    <tr>\n",
       "      <th>15</th>\n",
       "      <td>3410302337</td>\n",
       "      <td>34.00</td>\n",
       "      <td>103.00</td>\n",
       "      <td>2337.00</td>\n",
       "      <td>0.00</td>\n",
       "      <td>11.00</td>\n",
       "      <td>7.00</td>\n",
       "      <td>10-3-2018</td>\n",
       "      <td>14:50</td>\n",
       "      <td>107068</td>\n",
       "      <td>...</td>\n",
       "      <td>NaN</td>\n",
       "      <td>NaN</td>\n",
       "      <td>0</td>\n",
       "      <td>NaN</td>\n",
       "      <td>NaN</td>\n",
       "      <td>NaN</td>\n",
       "      <td>NaN</td>\n",
       "      <td>NaN</td>\n",
       "      <td>NaN</td>\n",
       "      <td>NaN</td>\n",
       "    </tr>\n",
       "    <tr>\n",
       "      <th>16</th>\n",
       "      <td>3410302337</td>\n",
       "      <td>34.00</td>\n",
       "      <td>103.00</td>\n",
       "      <td>2337.00</td>\n",
       "      <td>0.00</td>\n",
       "      <td>11.00</td>\n",
       "      <td>7.00</td>\n",
       "      <td>10-3-2018</td>\n",
       "      <td>14:50</td>\n",
       "      <td>107069</td>\n",
       "      <td>...</td>\n",
       "      <td>NaN</td>\n",
       "      <td>NaN</td>\n",
       "      <td>0</td>\n",
       "      <td>NaN</td>\n",
       "      <td>NaN</td>\n",
       "      <td>NaN</td>\n",
       "      <td>NaN</td>\n",
       "      <td>NaN</td>\n",
       "      <td>NaN</td>\n",
       "      <td>NaN</td>\n",
       "    </tr>\n",
       "  </tbody>\n",
       "</table>\n",
       "<p>3 rows × 30 columns</p>\n",
       "</div>"
      ],
      "text/plain": [
       "   Participant  School  Class   Child  Gender   Age   PI       Date   Time  \\\n",
       "0   3410302337   34.00 103.00 2337.00    0.00 11.00 7.00   9-3-2018  12:23   \n",
       "15  3410302337   34.00 103.00 2337.00    0.00 11.00 7.00  10-3-2018  14:50   \n",
       "16  3410302337   34.00 103.00 2337.00    0.00 11.00 7.00  10-3-2018  14:50   \n",
       "\n",
       "      UMID  ...  ShareSource SharedVia Number_likes  Unnamed: 23  Unnamed: 24  \\\n",
       "0   102371  ...          NaN       NaN            0          NaN          NaN   \n",
       "15  107068  ...          NaN       NaN            0          NaN          NaN   \n",
       "16  107069  ...          NaN       NaN            0          NaN          NaN   \n",
       "\n",
       "   Unnamed: 25 Unnamed: 26  Unnamed: 27  Unnamed: 28  Unnamed: 29  \n",
       "0          NaN         NaN          NaN          NaN          NaN  \n",
       "15         NaN         NaN          NaN          NaN          NaN  \n",
       "16         NaN         NaN          NaN          NaN          NaN  \n",
       "\n",
       "[3 rows x 30 columns]"
      ]
     },
     "execution_count": 500,
     "metadata": {},
     "output_type": "execute_result"
    }
   ],
   "source": [
    "# Load data\n",
    "primary_school = '../data/Buzz_W5_primary-schools.csv'\n",
    "secondary_school = '../data/Buzz_W5_secondary-schools.csv'\n",
    "# Preprocess social buzz dataframe\n",
    "df_comm = pd.read_csv(primary_school, sep=';', header=0)\n",
    "df_comm = df_comm.append(pd.read_csv(secondary_school, sep=';', header=0))\n",
    "df_comm = df_comm[df_comm.Type==\"my\"]\n",
    "f_comm = df_comm.astype({'Participant': 'float64'})\n",
    "df_comm.head(3)"
   ]
  },
  {
   "cell_type": "code",
   "execution_count": 501,
   "id": "5fc34057-0b2b-4e42-920d-9218ac6eda4e",
   "metadata": {},
   "outputs": [
    {
     "data": {
      "text/html": [
       "<div>\n",
       "<style scoped>\n",
       "    .dataframe tbody tr th:only-of-type {\n",
       "        vertical-align: middle;\n",
       "    }\n",
       "\n",
       "    .dataframe tbody tr th {\n",
       "        vertical-align: top;\n",
       "    }\n",
       "\n",
       "    .dataframe thead th {\n",
       "        text-align: right;\n",
       "    }\n",
       "</style>\n",
       "<table border=\"1\" class=\"dataframe\">\n",
       "  <thead>\n",
       "    <tr style=\"text-align: right;\">\n",
       "      <th></th>\n",
       "      <th>Class</th>\n",
       "      <th>NumChildren</th>\n",
       "    </tr>\n",
       "  </thead>\n",
       "  <tbody>\n",
       "    <tr>\n",
       "      <th>0</th>\n",
       "      <td>73.00</td>\n",
       "      <td>1</td>\n",
       "    </tr>\n",
       "    <tr>\n",
       "      <th>1</th>\n",
       "      <td>74.00</td>\n",
       "      <td>1</td>\n",
       "    </tr>\n",
       "    <tr>\n",
       "      <th>2</th>\n",
       "      <td>78.00</td>\n",
       "      <td>18</td>\n",
       "    </tr>\n",
       "  </tbody>\n",
       "</table>\n",
       "</div>"
      ],
      "text/plain": [
       "   Class  NumChildren\n",
       "0  73.00            1\n",
       "1  74.00            1\n",
       "2  78.00           18"
      ]
     },
     "execution_count": 501,
     "metadata": {},
     "output_type": "execute_result"
    }
   ],
   "source": [
    "df_comm_child_class = df_comm.groupby('Class')['Child'].nunique().reset_index(name=\"NumChildren\")\n",
    "df_comm_child_class.head(3)"
   ]
  },
  {
   "cell_type": "markdown",
   "id": "3870e080-d224-4120-b0ce-e21dbbd37edb",
   "metadata": {},
   "source": [
    "#### gather the information from the three different sources in one dataframe"
   ]
  },
  {
   "cell_type": "code",
   "execution_count": 502,
   "id": "d046577b-1419-451e-ba34-247015ec0c04",
   "metadata": {},
   "outputs": [
    {
     "data": {
      "text/html": [
       "<div>\n",
       "<style scoped>\n",
       "    .dataframe tbody tr th:only-of-type {\n",
       "        vertical-align: middle;\n",
       "    }\n",
       "\n",
       "    .dataframe tbody tr th {\n",
       "        vertical-align: top;\n",
       "    }\n",
       "\n",
       "    .dataframe thead th {\n",
       "        text-align: right;\n",
       "    }\n",
       "</style>\n",
       "<table border=\"1\" class=\"dataframe\">\n",
       "  <thead>\n",
       "    <tr style=\"text-align: right;\">\n",
       "      <th></th>\n",
       "      <th>Class_Y3</th>\n",
       "      <th>PP_NumChild</th>\n",
       "      <th>Nomination_NumChild</th>\n",
       "      <th>Communication_NumChild</th>\n",
       "    </tr>\n",
       "  </thead>\n",
       "  <tbody>\n",
       "    <tr>\n",
       "      <th>0</th>\n",
       "      <td>65.00</td>\n",
       "      <td>9</td>\n",
       "      <td>NaN</td>\n",
       "      <td>NaN</td>\n",
       "    </tr>\n",
       "    <tr>\n",
       "      <th>1</th>\n",
       "      <td>66.00</td>\n",
       "      <td>12</td>\n",
       "      <td>NaN</td>\n",
       "      <td>NaN</td>\n",
       "    </tr>\n",
       "    <tr>\n",
       "      <th>2</th>\n",
       "      <td>67.00</td>\n",
       "      <td>17</td>\n",
       "      <td>NaN</td>\n",
       "      <td>NaN</td>\n",
       "    </tr>\n",
       "  </tbody>\n",
       "</table>\n",
       "</div>"
      ],
      "text/plain": [
       "   Class_Y3  PP_NumChild  Nomination_NumChild  Communication_NumChild\n",
       "0     65.00            9                  NaN                     NaN\n",
       "1     66.00           12                  NaN                     NaN\n",
       "2     67.00           17                  NaN                     NaN"
      ]
     },
     "execution_count": 502,
     "metadata": {},
     "output_type": "execute_result"
    }
   ],
   "source": [
    "num_part['Nomination_NumChild'] = num_part['Class_Y3'].map(df_nom_part.set_index('Class')['NumChildren'])\n",
    "num_part['Communication_NumChild'] = num_part['Class_Y3'].map(df_comm_child_class.set_index('Class')['NumChildren'])\n",
    "num_part.head(3)"
   ]
  },
  {
   "cell_type": "code",
   "execution_count": 503,
   "id": "246a0ed4-497a-40d1-8ac1-9b6515295e5a",
   "metadata": {},
   "outputs": [
    {
     "data": {
      "text/html": [
       "<div>\n",
       "<style scoped>\n",
       "    .dataframe tbody tr th:only-of-type {\n",
       "        vertical-align: middle;\n",
       "    }\n",
       "\n",
       "    .dataframe tbody tr th {\n",
       "        vertical-align: top;\n",
       "    }\n",
       "\n",
       "    .dataframe thead th {\n",
       "        text-align: right;\n",
       "    }\n",
       "</style>\n",
       "<table border=\"1\" class=\"dataframe\">\n",
       "  <thead>\n",
       "    <tr style=\"text-align: right;\">\n",
       "      <th></th>\n",
       "      <th>Class_Y3</th>\n",
       "      <th>PP_NumChild</th>\n",
       "      <th>Nomination_NumChild</th>\n",
       "      <th>Communication_NumChild</th>\n",
       "    </tr>\n",
       "  </thead>\n",
       "  <tbody>\n",
       "    <tr>\n",
       "      <th>11</th>\n",
       "      <td>78.00</td>\n",
       "      <td>29</td>\n",
       "      <td>29.00</td>\n",
       "      <td>18.00</td>\n",
       "    </tr>\n",
       "    <tr>\n",
       "      <th>12</th>\n",
       "      <td>81.00</td>\n",
       "      <td>28</td>\n",
       "      <td>26.00</td>\n",
       "      <td>19.00</td>\n",
       "    </tr>\n",
       "    <tr>\n",
       "      <th>15</th>\n",
       "      <td>100.00</td>\n",
       "      <td>20</td>\n",
       "      <td>20.00</td>\n",
       "      <td>19.00</td>\n",
       "    </tr>\n",
       "    <tr>\n",
       "      <th>17</th>\n",
       "      <td>124.00</td>\n",
       "      <td>19</td>\n",
       "      <td>19.00</td>\n",
       "      <td>17.00</td>\n",
       "    </tr>\n",
       "    <tr>\n",
       "      <th>18</th>\n",
       "      <td>125.00</td>\n",
       "      <td>17</td>\n",
       "      <td>17.00</td>\n",
       "      <td>16.00</td>\n",
       "    </tr>\n",
       "    <tr>\n",
       "      <th>34</th>\n",
       "      <td>256.00</td>\n",
       "      <td>24</td>\n",
       "      <td>24.00</td>\n",
       "      <td>24.00</td>\n",
       "    </tr>\n",
       "    <tr>\n",
       "      <th>35</th>\n",
       "      <td>258.00</td>\n",
       "      <td>25</td>\n",
       "      <td>25.00</td>\n",
       "      <td>16.00</td>\n",
       "    </tr>\n",
       "    <tr>\n",
       "      <th>37</th>\n",
       "      <td>261.00</td>\n",
       "      <td>17</td>\n",
       "      <td>17.00</td>\n",
       "      <td>17.00</td>\n",
       "    </tr>\n",
       "    <tr>\n",
       "      <th>38</th>\n",
       "      <td>262.00</td>\n",
       "      <td>15</td>\n",
       "      <td>15.00</td>\n",
       "      <td>15.00</td>\n",
       "    </tr>\n",
       "    <tr>\n",
       "      <th>39</th>\n",
       "      <td>263.00</td>\n",
       "      <td>20</td>\n",
       "      <td>20.00</td>\n",
       "      <td>20.00</td>\n",
       "    </tr>\n",
       "    <tr>\n",
       "      <th>40</th>\n",
       "      <td>272.00</td>\n",
       "      <td>26</td>\n",
       "      <td>24.00</td>\n",
       "      <td>25.00</td>\n",
       "    </tr>\n",
       "    <tr>\n",
       "      <th>41</th>\n",
       "      <td>273.00</td>\n",
       "      <td>25</td>\n",
       "      <td>25.00</td>\n",
       "      <td>24.00</td>\n",
       "    </tr>\n",
       "    <tr>\n",
       "      <th>46</th>\n",
       "      <td>292.00</td>\n",
       "      <td>21</td>\n",
       "      <td>21.00</td>\n",
       "      <td>21.00</td>\n",
       "    </tr>\n",
       "    <tr>\n",
       "      <th>48</th>\n",
       "      <td>296.00</td>\n",
       "      <td>19</td>\n",
       "      <td>19.00</td>\n",
       "      <td>17.00</td>\n",
       "    </tr>\n",
       "    <tr>\n",
       "      <th>49</th>\n",
       "      <td>297.00</td>\n",
       "      <td>18</td>\n",
       "      <td>18.00</td>\n",
       "      <td>16.00</td>\n",
       "    </tr>\n",
       "    <tr>\n",
       "      <th>50</th>\n",
       "      <td>298.00</td>\n",
       "      <td>21</td>\n",
       "      <td>21.00</td>\n",
       "      <td>21.00</td>\n",
       "    </tr>\n",
       "    <tr>\n",
       "      <th>51</th>\n",
       "      <td>299.00</td>\n",
       "      <td>19</td>\n",
       "      <td>19.00</td>\n",
       "      <td>19.00</td>\n",
       "    </tr>\n",
       "    <tr>\n",
       "      <th>52</th>\n",
       "      <td>300.00</td>\n",
       "      <td>19</td>\n",
       "      <td>19.00</td>\n",
       "      <td>19.00</td>\n",
       "    </tr>\n",
       "    <tr>\n",
       "      <th>53</th>\n",
       "      <td>301.00</td>\n",
       "      <td>24</td>\n",
       "      <td>24.00</td>\n",
       "      <td>24.00</td>\n",
       "    </tr>\n",
       "    <tr>\n",
       "      <th>54</th>\n",
       "      <td>302.00</td>\n",
       "      <td>19</td>\n",
       "      <td>19.00</td>\n",
       "      <td>19.00</td>\n",
       "    </tr>\n",
       "    <tr>\n",
       "      <th>55</th>\n",
       "      <td>303.00</td>\n",
       "      <td>27</td>\n",
       "      <td>27.00</td>\n",
       "      <td>25.00</td>\n",
       "    </tr>\n",
       "  </tbody>\n",
       "</table>\n",
       "</div>"
      ],
      "text/plain": [
       "    Class_Y3  PP_NumChild  Nomination_NumChild  Communication_NumChild\n",
       "11     78.00           29                29.00                   18.00\n",
       "12     81.00           28                26.00                   19.00\n",
       "15    100.00           20                20.00                   19.00\n",
       "17    124.00           19                19.00                   17.00\n",
       "18    125.00           17                17.00                   16.00\n",
       "34    256.00           24                24.00                   24.00\n",
       "35    258.00           25                25.00                   16.00\n",
       "37    261.00           17                17.00                   17.00\n",
       "38    262.00           15                15.00                   15.00\n",
       "39    263.00           20                20.00                   20.00\n",
       "40    272.00           26                24.00                   25.00\n",
       "41    273.00           25                25.00                   24.00\n",
       "46    292.00           21                21.00                   21.00\n",
       "48    296.00           19                19.00                   17.00\n",
       "49    297.00           18                18.00                   16.00\n",
       "50    298.00           21                21.00                   21.00\n",
       "51    299.00           19                19.00                   19.00\n",
       "52    300.00           19                19.00                   19.00\n",
       "53    301.00           24                24.00                   24.00\n",
       "54    302.00           19                19.00                   19.00\n",
       "55    303.00           27                27.00                   25.00"
      ]
     },
     "execution_count": 503,
     "metadata": {},
     "output_type": "execute_result"
    }
   ],
   "source": [
    "df_class_selection = num_part[num_part.Communication_NumChild>14]\n",
    "df_class_selection"
   ]
  },
  {
   "cell_type": "code",
   "execution_count": 504,
   "id": "836751c9-5747-4510-ac1f-0ad6cbbeaa09",
   "metadata": {},
   "outputs": [
    {
     "data": {
      "text/plain": [
       "411.0"
      ]
     },
     "execution_count": 504,
     "metadata": {},
     "output_type": "execute_result"
    }
   ],
   "source": [
    "df_class_selection['Communication_NumChild'].sum()"
   ]
  },
  {
   "cell_type": "code",
   "execution_count": 522,
   "id": "2648234a-e989-4c24-9067-11326193d5b6",
   "metadata": {},
   "outputs": [
    {
     "data": {
      "text/plain": [
       "[78.0,\n",
       " 81.0,\n",
       " 100.0,\n",
       " 124.0,\n",
       " 125.0,\n",
       " 256.0,\n",
       " 258.0,\n",
       " 261.0,\n",
       " 262.0,\n",
       " 263.0,\n",
       " 272.0,\n",
       " 273.0,\n",
       " 292.0,\n",
       " 296.0,\n",
       " 297.0,\n",
       " 298.0,\n",
       " 299.0,\n",
       " 300.0,\n",
       " 301.0,\n",
       " 302.0,\n",
       " 303.0]"
      ]
     },
     "execution_count": 522,
     "metadata": {},
     "output_type": "execute_result"
    }
   ],
   "source": [
    "list(df_class_selection['Class_Y3'])"
   ]
  },
  {
   "cell_type": "markdown",
   "id": "9bf4d324-c70f-47f8-ae47-8c02c6988727",
   "metadata": {},
   "source": [
    "##### Removing non-repeated participants from the dataframes"
   ]
  },
  {
   "cell_type": "code",
   "execution_count": 505,
   "id": "f63553b8-be0f-4f72-9363-0aee43dbc0e9",
   "metadata": {},
   "outputs": [],
   "source": [
    "classes = list(df_class_selection[\"Class_Y3\"])"
   ]
  },
  {
   "cell_type": "code",
   "execution_count": 506,
   "id": "8f75706f-d970-4543-9341-245dd0d8c202",
   "metadata": {},
   "outputs": [],
   "source": [
    "# subset data based on these classses\n",
    "df_comm = df_comm[df_comm.Class.isin(classes)]\n",
    "df_nomm = df_nomm[df_nomm.Class.isin(classes)]"
   ]
  },
  {
   "cell_type": "code",
   "execution_count": 507,
   "id": "013b03d5-df6f-45ab-ac67-6bc6e6ca28fe",
   "metadata": {},
   "outputs": [],
   "source": [
    "for cl in classes:\n",
    "    com_set = set(df_comm[df_comm.Class == cl]['Child'].unique())\n",
    "    nom_set = set(df_nomm[df_nomm.Class == cl]['Child'].unique())\n",
    "\n",
    "    dif_cld_nom_com = list(nom_set.difference(com_set))\n",
    "    dif_cld_com_nom = list(com_set.difference(nom_set))\n",
    "    #remove the non-repeated participants\n",
    "    if(len(dif_cld_nom_com)>0):\n",
    "        df_nomm = df_nomm[~df_nomm.Child.isin(dif_cld_nom_com)]\n",
    "    \n",
    "    if(len(dif_cld_com_nom)>0):\n",
    "        df_comm = df_comm[~df_comm.Child.isin(dif_cld_com_nom)]"
   ]
  },
  {
   "cell_type": "code",
   "execution_count": 508,
   "id": "7a86bf83-0f42-4e4e-8f55-76fdc47a408f",
   "metadata": {},
   "outputs": [
    {
     "data": {
      "text/plain": [
       "(set(), set(), 408)"
      ]
     },
     "execution_count": 508,
     "metadata": {},
     "output_type": "execute_result"
    }
   ],
   "source": [
    "set(df_nomm.Child.unique()).difference(set(df_comm.Child.unique())), set(df_comm.Child.unique()).difference(set(df_nomm.Child.unique())),df_comm.Child.nunique()"
   ]
  },
  {
   "cell_type": "code",
   "execution_count": 509,
   "id": "eb716645-779f-428e-9fbd-45c21353b173",
   "metadata": {},
   "outputs": [],
   "source": [
    "lst_participants_id = df_nomm.Child.unique()"
   ]
  },
  {
   "cell_type": "markdown",
   "id": "3eddc53f-6578-448f-9834-af8800fca9c3",
   "metadata": {},
   "source": [
    "### Postal codes livability as new environment score? "
   ]
  },
  {
   "cell_type": "code",
   "execution_count": 329,
   "id": "228b9a69-98cc-46df-8b9a-0f3dc47c1a96",
   "metadata": {},
   "outputs": [
    {
     "data": {
      "text/html": [
       "<div>\n",
       "<style scoped>\n",
       "    .dataframe tbody tr th:only-of-type {\n",
       "        vertical-align: middle;\n",
       "    }\n",
       "\n",
       "    .dataframe tbody tr th {\n",
       "        vertical-align: top;\n",
       "    }\n",
       "\n",
       "    .dataframe thead th {\n",
       "        text-align: right;\n",
       "    }\n",
       "</style>\n",
       "<table border=\"1\" class=\"dataframe\">\n",
       "  <thead>\n",
       "    <tr style=\"text-align: right;\">\n",
       "      <th></th>\n",
       "      <th>PC6</th>\n",
       "      <th>Buurt2020</th>\n",
       "    </tr>\n",
       "  </thead>\n",
       "  <tbody>\n",
       "    <tr>\n",
       "      <th>0</th>\n",
       "      <td>1011AB</td>\n",
       "      <td>3630400</td>\n",
       "    </tr>\n",
       "    <tr>\n",
       "      <th>1</th>\n",
       "      <td>1011AB</td>\n",
       "      <td>3630400</td>\n",
       "    </tr>\n",
       "  </tbody>\n",
       "</table>\n",
       "</div>"
      ],
      "text/plain": [
       "      PC6  Buurt2020\n",
       "0  1011AB    3630400\n",
       "1  1011AB    3630400"
      ]
     },
     "execution_count": 329,
     "metadata": {},
     "output_type": "execute_result"
    }
   ],
   "source": [
    "# Address\n",
    "df_postcode = pd.read_csv('../data/postcode/pc6hnr20200801_gwb.csv',';')\n",
    "df_postcode = df_postcode[['PC6','Buurt2020']]\n",
    "df_postcode.head(2)"
   ]
  },
  {
   "cell_type": "code",
   "execution_count": 330,
   "id": "3b6e3267-1278-4551-9f21-b376bf89aea8",
   "metadata": {},
   "outputs": [],
   "source": [
    "df_liveability_score = pd.read_excel('../data/postcode/Score_Buurt.xlsx')\n",
    "df_liveability_score['CODE'] = df_liveability_score['CODE'].str[2:]\n",
    "df_liveability_score['CODE'] = df_liveability_score['CODE'].str.lstrip(\"0\")\n",
    "df_liveability_score.CODE = pd.to_numeric(df_liveability_score.CODE, errors='coerce').astype('Int64')"
   ]
  },
  {
   "cell_type": "code",
   "execution_count": 331,
   "id": "a6639602-7175-4c69-b5f6-bea5a9661068",
   "metadata": {},
   "outputs": [
    {
     "data": {
      "text/html": [
       "<div>\n",
       "<style scoped>\n",
       "    .dataframe tbody tr th:only-of-type {\n",
       "        vertical-align: middle;\n",
       "    }\n",
       "\n",
       "    .dataframe tbody tr th {\n",
       "        vertical-align: top;\n",
       "    }\n",
       "\n",
       "    .dataframe thead th {\n",
       "        text-align: right;\n",
       "    }\n",
       "</style>\n",
       "<table border=\"1\" class=\"dataframe\">\n",
       "  <thead>\n",
       "    <tr style=\"text-align: right;\">\n",
       "      <th></th>\n",
       "      <th>PC6</th>\n",
       "      <th>Buurt2020</th>\n",
       "      <th>livability</th>\n",
       "    </tr>\n",
       "  </thead>\n",
       "  <tbody>\n",
       "    <tr>\n",
       "      <th>0</th>\n",
       "      <td>1011AB</td>\n",
       "      <td>3630400</td>\n",
       "      <td>9.00</td>\n",
       "    </tr>\n",
       "    <tr>\n",
       "      <th>1</th>\n",
       "      <td>1011AB</td>\n",
       "      <td>3630400</td>\n",
       "      <td>9.00</td>\n",
       "    </tr>\n",
       "    <tr>\n",
       "      <th>2</th>\n",
       "      <td>1011AB</td>\n",
       "      <td>3630400</td>\n",
       "      <td>9.00</td>\n",
       "    </tr>\n",
       "    <tr>\n",
       "      <th>3</th>\n",
       "      <td>1011AB</td>\n",
       "      <td>3630400</td>\n",
       "      <td>9.00</td>\n",
       "    </tr>\n",
       "    <tr>\n",
       "      <th>4</th>\n",
       "      <td>1011AB</td>\n",
       "      <td>3630400</td>\n",
       "      <td>9.00</td>\n",
       "    </tr>\n",
       "  </tbody>\n",
       "</table>\n",
       "</div>"
      ],
      "text/plain": [
       "      PC6  Buurt2020  livability\n",
       "0  1011AB    3630400        9.00\n",
       "1  1011AB    3630400        9.00\n",
       "2  1011AB    3630400        9.00\n",
       "3  1011AB    3630400        9.00\n",
       "4  1011AB    3630400        9.00"
      ]
     },
     "execution_count": 331,
     "metadata": {},
     "output_type": "execute_result"
    }
   ],
   "source": [
    "df_postcode['livability'] = df_postcode['Buurt2020'].map(df_liveability_score.set_index('CODE')['KL18'])\n",
    "df_postcode.head()"
   ]
  },
  {
   "cell_type": "code",
   "execution_count": 332,
   "id": "fa238a99-b852-4233-84ec-815e1b96b2a8",
   "metadata": {},
   "outputs": [
    {
     "data": {
      "text/plain": [
       "(6993336, 775318)"
      ]
     },
     "execution_count": 332,
     "metadata": {},
     "output_type": "execute_result"
    }
   ],
   "source": [
    "df_postcode['livability'].count(),df_postcode['livability'].isna().sum()"
   ]
  },
  {
   "cell_type": "code",
   "execution_count": 333,
   "id": "c2f7790e-7a58-4889-a0a6-57865ad663bc",
   "metadata": {},
   "outputs": [],
   "source": [
    "df_postcode = df_postcode.groupby(['PC6','livability'])['Buurt2020'].count().reset_index(name=\"Count\")"
   ]
  },
  {
   "cell_type": "code",
   "execution_count": 334,
   "id": "1b413896-1e7b-41ee-b115-248265471dae",
   "metadata": {},
   "outputs": [
    {
     "data": {
      "text/html": [
       "<div>\n",
       "<style scoped>\n",
       "    .dataframe tbody tr th:only-of-type {\n",
       "        vertical-align: middle;\n",
       "    }\n",
       "\n",
       "    .dataframe tbody tr th {\n",
       "        vertical-align: top;\n",
       "    }\n",
       "\n",
       "    .dataframe thead th {\n",
       "        text-align: right;\n",
       "    }\n",
       "</style>\n",
       "<table border=\"1\" class=\"dataframe\">\n",
       "  <thead>\n",
       "    <tr style=\"text-align: right;\">\n",
       "      <th></th>\n",
       "      <th>PC6</th>\n",
       "      <th>livability</th>\n",
       "    </tr>\n",
       "  </thead>\n",
       "  <tbody>\n",
       "    <tr>\n",
       "      <th>0</th>\n",
       "      <td>1011AB</td>\n",
       "      <td>9.00</td>\n",
       "    </tr>\n",
       "    <tr>\n",
       "      <th>1</th>\n",
       "      <td>1011AC</td>\n",
       "      <td>9.00</td>\n",
       "    </tr>\n",
       "    <tr>\n",
       "      <th>2</th>\n",
       "      <td>1011AD</td>\n",
       "      <td>9.00</td>\n",
       "    </tr>\n",
       "  </tbody>\n",
       "</table>\n",
       "</div>"
      ],
      "text/plain": [
       "      PC6  livability\n",
       "0  1011AB        9.00\n",
       "1  1011AC        9.00\n",
       "2  1011AD        9.00"
      ]
     },
     "execution_count": 334,
     "metadata": {},
     "output_type": "execute_result"
    }
   ],
   "source": [
    "df_postcode = df_postcode[['PC6','livability']]\n",
    "df_postcode.head(3)"
   ]
  },
  {
   "cell_type": "code",
   "execution_count": 335,
   "id": "949c1478-b30c-4de8-a1ad-48117c041e75",
   "metadata": {},
   "outputs": [
    {
     "data": {
      "text/plain": [
       "((422531, 2), 422531, 0)"
      ]
     },
     "execution_count": 335,
     "metadata": {},
     "output_type": "execute_result"
    }
   ],
   "source": [
    "df_postcode.shape,df_postcode['livability'].count(),df_postcode['livability'].isna().sum()"
   ]
  },
  {
   "cell_type": "code",
   "execution_count": 336,
   "id": "61b910d8-d02a-4f41-b97a-f4720ee152cc",
   "metadata": {},
   "outputs": [],
   "source": [
    "df_postcode[\"PC6\"] = df_postcode[\"PC6\"].astype(\"string\")"
   ]
  },
  {
   "cell_type": "code",
   "execution_count": 337,
   "id": "232d5cfb-b85c-42be-9a52-99ce24473c9d",
   "metadata": {},
   "outputs": [
    {
     "data": {
      "text/html": [
       "<div>\n",
       "<style scoped>\n",
       "    .dataframe tbody tr th:only-of-type {\n",
       "        vertical-align: middle;\n",
       "    }\n",
       "\n",
       "    .dataframe tbody tr th {\n",
       "        vertical-align: top;\n",
       "    }\n",
       "\n",
       "    .dataframe thead th {\n",
       "        text-align: right;\n",
       "    }\n",
       "</style>\n",
       "<table border=\"1\" class=\"dataframe\">\n",
       "  <thead>\n",
       "    <tr style=\"text-align: right;\">\n",
       "      <th></th>\n",
       "      <th>Participant</th>\n",
       "      <th>Zipcode</th>\n",
       "    </tr>\n",
       "  </thead>\n",
       "  <tbody>\n",
       "    <tr>\n",
       "      <th>0</th>\n",
       "      <td>902</td>\n",
       "      <td>6843GT</td>\n",
       "    </tr>\n",
       "    <tr>\n",
       "      <th>1</th>\n",
       "      <td>904</td>\n",
       "      <td>6826BZ</td>\n",
       "    </tr>\n",
       "    <tr>\n",
       "      <th>2</th>\n",
       "      <td>907</td>\n",
       "      <td>6714HR</td>\n",
       "    </tr>\n",
       "  </tbody>\n",
       "</table>\n",
       "</div>"
      ],
      "text/plain": [
       "   Participant Zipcode\n",
       "0          902  6843GT\n",
       "1          904  6826BZ\n",
       "2          907  6714HR"
      ]
     },
     "execution_count": 337,
     "metadata": {},
     "output_type": "execute_result"
    }
   ],
   "source": [
    "df_participants_postcodes = pd.read_csv('../data/postcode/Postcodes_participants.csv',';')\n",
    "df_participants_postcodes = df_participants_postcodes[['Participant','Zipcode']]\n",
    "df_participants_postcodes[\"Zipcode\"] = df_participants_postcodes[\"Zipcode\"].astype(\"string\")\n",
    "df_participants_postcodes[\"Zipcode\"] = df_participants_postcodes[\"Zipcode\"].str.replace(\" \", \"\")\n",
    "df_participants_postcodes.head(3)"
   ]
  },
  {
   "cell_type": "code",
   "execution_count": 338,
   "id": "46dd4b8d-4c8e-43bf-9b22-9f0b14159e5a",
   "metadata": {},
   "outputs": [
    {
     "data": {
      "text/plain": [
       "(951, (1136, 2))"
      ]
     },
     "execution_count": 338,
     "metadata": {},
     "output_type": "execute_result"
    }
   ],
   "source": [
    "df_participants_postcodes['Zipcode'].nunique(),df_participants_postcodes.shape"
   ]
  },
  {
   "cell_type": "code",
   "execution_count": 339,
   "id": "fea32f40-639d-486c-8480-13433ac58317",
   "metadata": {},
   "outputs": [
    {
     "name": "stderr",
     "output_type": "stream",
     "text": [
      "/Users/bojansimoski/anaconda3/envs/ABM-PA/lib/python3.9/site-packages/pandas/core/indexing.py:1637: SettingWithCopyWarning: \n",
      "A value is trying to be set on a copy of a slice from a DataFrame\n",
      "\n",
      "See the caveats in the documentation: https://pandas.pydata.org/pandas-docs/stable/user_guide/indexing.html#returning-a-view-versus-a-copy\n",
      "  self._setitem_single_block(indexer, value, name)\n"
     ]
    }
   ],
   "source": [
    "df_participants_postcodes['env'] = -1\n",
    "for index, row in df_participants_postcodes.iterrows():\n",
    "    if(len(df_postcode[df_postcode.PC6==row['Zipcode']]['livability'])!=0):\n",
    "        df_participants_postcodes['env'].iloc[index] = df_postcode[df_postcode.PC6==row['Zipcode']]['livability'].values[0]"
   ]
  },
  {
   "cell_type": "code",
   "execution_count": 340,
   "id": "53e8d1f4-3ec1-4908-8c52-04af92f4e719",
   "metadata": {},
   "outputs": [
    {
     "data": {
      "text/plain": [
       "env\n",
       "-1.00     43\n",
       "3.00       4\n",
       "4.00      97\n",
       "5.00      69\n",
       "6.00     340\n",
       "7.00     209\n",
       "8.00     138\n",
       "9.00     236\n",
       "Name: Zipcode, dtype: int64"
      ]
     },
     "execution_count": 340,
     "metadata": {},
     "output_type": "execute_result"
    }
   ],
   "source": [
    "# 43 participants have no env value\n",
    "df_participants_postcodes.groupby('env')['Zipcode'].count()"
   ]
  },
  {
   "cell_type": "code",
   "execution_count": 342,
   "id": "ab56f297-eb1c-4b0e-9d21-b9a7ba72281a",
   "metadata": {},
   "outputs": [
    {
     "data": {
      "text/html": [
       "<div>\n",
       "<style scoped>\n",
       "    .dataframe tbody tr th:only-of-type {\n",
       "        vertical-align: middle;\n",
       "    }\n",
       "\n",
       "    .dataframe tbody tr th {\n",
       "        vertical-align: top;\n",
       "    }\n",
       "\n",
       "    .dataframe thead th {\n",
       "        text-align: right;\n",
       "    }\n",
       "</style>\n",
       "<table border=\"1\" class=\"dataframe\">\n",
       "  <thead>\n",
       "    <tr style=\"text-align: right;\">\n",
       "      <th></th>\n",
       "      <th>Participant</th>\n",
       "      <th>Zipcode</th>\n",
       "      <th>env</th>\n",
       "    </tr>\n",
       "  </thead>\n",
       "  <tbody>\n",
       "    <tr>\n",
       "      <th>0</th>\n",
       "      <td>902</td>\n",
       "      <td>6843GT</td>\n",
       "      <td>6.00</td>\n",
       "    </tr>\n",
       "    <tr>\n",
       "      <th>1</th>\n",
       "      <td>904</td>\n",
       "      <td>6826BZ</td>\n",
       "      <td>5.00</td>\n",
       "    </tr>\n",
       "    <tr>\n",
       "      <th>2</th>\n",
       "      <td>907</td>\n",
       "      <td>6714HR</td>\n",
       "      <td>6.00</td>\n",
       "    </tr>\n",
       "    <tr>\n",
       "      <th>3</th>\n",
       "      <td>908</td>\n",
       "      <td>6822CR</td>\n",
       "      <td>4.00</td>\n",
       "    </tr>\n",
       "    <tr>\n",
       "      <th>4</th>\n",
       "      <td>909</td>\n",
       "      <td>6822DM</td>\n",
       "      <td>4.00</td>\n",
       "    </tr>\n",
       "  </tbody>\n",
       "</table>\n",
       "</div>"
      ],
      "text/plain": [
       "   Participant Zipcode  env\n",
       "0          902  6843GT 6.00\n",
       "1          904  6826BZ 5.00\n",
       "2          907  6714HR 6.00\n",
       "3          908  6822CR 4.00\n",
       "4          909  6822DM 4.00"
      ]
     },
     "execution_count": 342,
     "metadata": {},
     "output_type": "execute_result"
    }
   ],
   "source": [
    "df_participants_postcodes.head()"
   ]
  },
  {
   "cell_type": "code",
   "execution_count": 453,
   "id": "61b9c4e9-8a44-44fb-93f0-c83021352368",
   "metadata": {},
   "outputs": [
    {
     "data": {
      "text/plain": [
       "((1136, 3),\n",
       " Participant      int64\n",
       " Zipcode         string\n",
       " env            float64\n",
       " dtype: object,\n",
       " numpy.int64)"
      ]
     },
     "execution_count": 453,
     "metadata": {},
     "output_type": "execute_result"
    }
   ],
   "source": [
    "df_participants_postcodes.shape,df_participants_postcodes.dtypes,type(lst_participants_id[0])"
   ]
  },
  {
   "cell_type": "code",
   "execution_count": null,
   "id": "4c519ed1-c540-47ac-8256-7f896cbd7d40",
   "metadata": {},
   "outputs": [],
   "source": [
    "# lots of the participants we need have no postcodes data- therefore cannot get the environmental variable"
   ]
  },
  {
   "cell_type": "code",
   "execution_count": 451,
   "id": "ca3e1216-7dbe-407a-9308-ec94ebfd7631",
   "metadata": {},
   "outputs": [
    {
     "data": {
      "text/plain": [
       "((237, 3), 408)"
      ]
     },
     "execution_count": 451,
     "metadata": {},
     "output_type": "execute_result"
    }
   ],
   "source": [
    "df_participants_postcodes[df_participants_postcodes.Participant.isin(lst_participants_id)].shape,len(lst_participants_id)"
   ]
  },
  {
   "cell_type": "markdown",
   "id": "4d903847-9c0d-4899-82b6-5be0d5174c48",
   "metadata": {},
   "source": [
    "### Let's try the environmental questions in Wave 6"
   ]
  },
  {
   "cell_type": "code",
   "execution_count": 51,
   "id": "40b7d8ef-d4db-408c-a486-77af3ddc7430",
   "metadata": {},
   "outputs": [
    {
     "name": "stderr",
     "output_type": "stream",
     "text": [
      "/Users/bojansimoski/anaconda3/envs/ABM-PA/lib/python3.9/site-packages/IPython/core/interactiveshell.py:3165: DtypeWarning: Columns (319,321,323,377,434,436,439,441,444,446,449,451,454,456,459,461,464,466,469,471,474,476,479,481,484,486,489,491) have mixed types.Specify dtype option on import or set low_memory=False.\n",
      "  has_raised = await self.run_ast_nodes(code_ast.body, cell_name,\n"
     ]
    }
   ],
   "source": [
    "df_env = pd.read_csv('../data/W6_Main_Questions.csv',';')"
   ]
  },
  {
   "cell_type": "code",
   "execution_count": 52,
   "id": "82890e17-1d7e-4cd9-a161-50c71e79c401",
   "metadata": {},
   "outputs": [
    {
     "data": {
      "text/plain": [
       "Index(['Child', 'DI_FFQ_drinks_D01_TriggerDate', 'DI_FFQ_drinks_D01_Weekend',\n",
       "       'DI_FFQ_drinks_D01_TriggerTime', 'DI_FFQ_drinks_D01_VAS_thirst_A01',\n",
       "       'DI_FFQ_drinks_D01_water_A01', 'DI_FFQ_drinks_D01_milk_A01',\n",
       "       'DI_FFQ_drinks_D01_lightmilk_A01', 'DI_FFQ_drinks_D01_sweetmilk_A01',\n",
       "       'DI_FFQ_drinks_D01_coffeetea_A01',\n",
       "       ...\n",
       "       'Vlog_boysvsgirls_heuvel_TriggerDate',\n",
       "       'Vlog_boysvsgirls_heuvel_Weekend',\n",
       "       'Vlog_boysvsgirls_heuvel_TriggerTime',\n",
       "       'Vlog_boysvsgirls_heuvel_exposed_A01',\n",
       "       'Vlog_boysvsgirls_heuvel_attitude_A01',\n",
       "       'Vlog_coutchpotato_heuvel_TriggerDate',\n",
       "       'Vlog_coutchpotato_heuvel_Weekend',\n",
       "       'Vlog_coutchpotato_heuvel_TriggerTime',\n",
       "       'Vlog_coutchpotato_heuvel_exposed_A01',\n",
       "       'Vlog_coutchpotato_heuvel_attitude_A01'],\n",
       "      dtype='object', length=524)"
      ]
     },
     "execution_count": 52,
     "metadata": {},
     "output_type": "execute_result"
    }
   ],
   "source": [
    "df_env.columns"
   ]
  },
  {
   "cell_type": "code",
   "execution_count": 53,
   "id": "c7704134-f1cf-4cb1-82cb-db5431f33671",
   "metadata": {},
   "outputs": [
    {
     "data": {
      "text/plain": [
       "(1484, 5)"
      ]
     },
     "execution_count": 53,
     "metadata": {},
     "output_type": "execute_result"
    }
   ],
   "source": [
    "df_env = df_env[['Child','GEN_FAS_computer_A01' ,'GEN_FAS_car_A01', 'GEN_FAS_vacation_A01', 'GEN_FAS_ownroom_A01']]\n",
    "df_env.shape"
   ]
  },
  {
   "cell_type": "code",
   "execution_count": 55,
   "id": "16690085-d216-4186-b142-d2898cbebeb2",
   "metadata": {},
   "outputs": [
    {
     "data": {
      "text/plain": [
       "Child                    0\n",
       "GEN_FAS_computer_A01    41\n",
       "GEN_FAS_car_A01         41\n",
       "GEN_FAS_vacation_A01    41\n",
       "GEN_FAS_ownroom_A01     41\n",
       "dtype: int64"
      ]
     },
     "execution_count": 55,
     "metadata": {},
     "output_type": "execute_result"
    }
   ],
   "source": [
    "# this seems like a more valiable solution\n",
    "df_env = df_env[df_env.Child.isin(input_args['participants'])]\n",
    "df_env.isnull().sum()"
   ]
  },
  {
   "cell_type": "code",
   "execution_count": 56,
   "id": "221e9abf-7468-410e-b374-d09e39b647b9",
   "metadata": {},
   "outputs": [
    {
     "data": {
      "text/html": [
       "<div>\n",
       "<style scoped>\n",
       "    .dataframe tbody tr th:only-of-type {\n",
       "        vertical-align: middle;\n",
       "    }\n",
       "\n",
       "    .dataframe tbody tr th {\n",
       "        vertical-align: top;\n",
       "    }\n",
       "\n",
       "    .dataframe thead th {\n",
       "        text-align: right;\n",
       "    }\n",
       "</style>\n",
       "<table border=\"1\" class=\"dataframe\">\n",
       "  <thead>\n",
       "    <tr style=\"text-align: right;\">\n",
       "      <th></th>\n",
       "      <th>Child</th>\n",
       "      <th>GEN_FAS_computer_A01</th>\n",
       "      <th>GEN_FAS_car_A01</th>\n",
       "      <th>GEN_FAS_vacation_A01</th>\n",
       "      <th>GEN_FAS_ownroom_A01</th>\n",
       "    </tr>\n",
       "  </thead>\n",
       "  <tbody>\n",
       "    <tr>\n",
       "      <th>284</th>\n",
       "      <td>1605</td>\n",
       "      <td>1.00</td>\n",
       "      <td>1.00</td>\n",
       "      <td>3.00</td>\n",
       "      <td>1.00</td>\n",
       "    </tr>\n",
       "    <tr>\n",
       "      <th>285</th>\n",
       "      <td>1606</td>\n",
       "      <td>NaN</td>\n",
       "      <td>NaN</td>\n",
       "      <td>NaN</td>\n",
       "      <td>NaN</td>\n",
       "    </tr>\n",
       "    <tr>\n",
       "      <th>286</th>\n",
       "      <td>1607</td>\n",
       "      <td>3.00</td>\n",
       "      <td>2.00</td>\n",
       "      <td>1.00</td>\n",
       "      <td>1.00</td>\n",
       "    </tr>\n",
       "    <tr>\n",
       "      <th>287</th>\n",
       "      <td>1608</td>\n",
       "      <td>1.00</td>\n",
       "      <td>1.00</td>\n",
       "      <td>1.00</td>\n",
       "      <td>1.00</td>\n",
       "    </tr>\n",
       "    <tr>\n",
       "      <th>288</th>\n",
       "      <td>1609</td>\n",
       "      <td>2.00</td>\n",
       "      <td>2.00</td>\n",
       "      <td>2.00</td>\n",
       "      <td>1.00</td>\n",
       "    </tr>\n",
       "    <tr>\n",
       "      <th>...</th>\n",
       "      <td>...</td>\n",
       "      <td>...</td>\n",
       "      <td>...</td>\n",
       "      <td>...</td>\n",
       "      <td>...</td>\n",
       "    </tr>\n",
       "    <tr>\n",
       "      <th>1409</th>\n",
       "      <td>6085</td>\n",
       "      <td>3.00</td>\n",
       "      <td>2.00</td>\n",
       "      <td>1.00</td>\n",
       "      <td>1.00</td>\n",
       "    </tr>\n",
       "    <tr>\n",
       "      <th>1410</th>\n",
       "      <td>6086</td>\n",
       "      <td>3.00</td>\n",
       "      <td>0.00</td>\n",
       "      <td>2.00</td>\n",
       "      <td>1.00</td>\n",
       "    </tr>\n",
       "    <tr>\n",
       "      <th>1411</th>\n",
       "      <td>6088</td>\n",
       "      <td>3.00</td>\n",
       "      <td>2.00</td>\n",
       "      <td>1.00</td>\n",
       "      <td>1.00</td>\n",
       "    </tr>\n",
       "    <tr>\n",
       "      <th>1412</th>\n",
       "      <td>6089</td>\n",
       "      <td>3.00</td>\n",
       "      <td>2.00</td>\n",
       "      <td>0.00</td>\n",
       "      <td>1.00</td>\n",
       "    </tr>\n",
       "    <tr>\n",
       "      <th>1413</th>\n",
       "      <td>6090</td>\n",
       "      <td>2.00</td>\n",
       "      <td>1.00</td>\n",
       "      <td>2.00</td>\n",
       "      <td>1.00</td>\n",
       "    </tr>\n",
       "  </tbody>\n",
       "</table>\n",
       "<p>408 rows × 5 columns</p>\n",
       "</div>"
      ],
      "text/plain": [
       "      Child  GEN_FAS_computer_A01  GEN_FAS_car_A01  GEN_FAS_vacation_A01  \\\n",
       "284    1605                  1.00             1.00                  3.00   \n",
       "285    1606                   NaN              NaN                   NaN   \n",
       "286    1607                  3.00             2.00                  1.00   \n",
       "287    1608                  1.00             1.00                  1.00   \n",
       "288    1609                  2.00             2.00                  2.00   \n",
       "...     ...                   ...              ...                   ...   \n",
       "1409   6085                  3.00             2.00                  1.00   \n",
       "1410   6086                  3.00             0.00                  2.00   \n",
       "1411   6088                  3.00             2.00                  1.00   \n",
       "1412   6089                  3.00             2.00                  0.00   \n",
       "1413   6090                  2.00             1.00                  2.00   \n",
       "\n",
       "      GEN_FAS_ownroom_A01  \n",
       "284                  1.00  \n",
       "285                   NaN  \n",
       "286                  1.00  \n",
       "287                  1.00  \n",
       "288                  1.00  \n",
       "...                   ...  \n",
       "1409                 1.00  \n",
       "1410                 1.00  \n",
       "1411                 1.00  \n",
       "1412                 1.00  \n",
       "1413                 1.00  \n",
       "\n",
       "[408 rows x 5 columns]"
      ]
     },
     "execution_count": 56,
     "metadata": {},
     "output_type": "execute_result"
    }
   ],
   "source": [
    "df_env"
   ]
  },
  {
   "cell_type": "code",
   "execution_count": 62,
   "id": "b57355e5-bb3d-497e-b696-eee3a574fd51",
   "metadata": {},
   "outputs": [],
   "source": [
    "        def assign_environment():\n",
    "\n",
    "\n",
    "            '''\n",
    "            Assign environment value for nodes. Combination of different questionnaire responses for owning computers, car, ownroom or allowing summer vacation.\n",
    "\n",
    "            Returns:\n",
    "                dictionary: Dictionary with environment score per child.\n",
    "            '''\n",
    "\n",
    "            env = pd.read_csv(input_args['agent_environment_file'], sep=';', header=0, encoding='latin-1')\n",
    "            env = env[[\"Child\",\"GEN_FAS_computer_A01\" ,\"GEN_FAS_car_A01\", \"GEN_FAS_vacation_A01\", \"GEN_FAS_ownroom_A01\"]]\n",
    "\n",
    "            env = env[env['Child'].isin(input_args['participants'])]\n",
    "\n",
    "\n",
    "            env['FAS_Score_R'] = env['GEN_FAS_computer_A01'] + env['GEN_FAS_vacation_A01'] + env['GEN_FAS_car_A01']*1.5 + env['GEN_FAS_ownroom_A01']*3\n",
    "\n",
    "            # To keep the values between 0 and 2.\n",
    "            env.FAS_Score_R = abs((env.FAS_Score_R/6) - 2)\n",
    "            env.index = env['Child']\n",
    "\n",
    "            env_dict = dict(env['FAS_Score_R'])\n",
    "            for key, value in env_dict.items():\n",
    "                # to all the NaN assign the average FAS_Score\n",
    "                if np.isnan(value):\n",
    "                    env_dict[key] = np.float64(env.FAS_Score_R.mean())\n",
    "        \n",
    "\n",
    "            return env_dict"
   ]
  },
  {
   "cell_type": "code",
   "execution_count": 63,
   "id": "8119f800-e2e3-44f2-a2c3-06078eeff94d",
   "metadata": {},
   "outputs": [],
   "source": [
    "ed = assign_environment()"
   ]
  },
  {
   "cell_type": "code",
   "execution_count": 65,
   "id": "5c5cc4f5-1d58-4138-8d8a-6d68fae61143",
   "metadata": {},
   "outputs": [
    {
     "data": {
      "text/plain": [
       "0.4881925522252496"
      ]
     },
     "execution_count": 65,
     "metadata": {},
     "output_type": "execute_result"
    }
   ],
   "source": [
    "sum(ed.values()) / float(len(ed))"
   ]
  },
  {
   "cell_type": "code",
   "execution_count": null,
   "id": "440f7e07-361a-4974-b4a5-f9b83b67da4b",
   "metadata": {},
   "outputs": [],
   "source": []
  },
  {
   "cell_type": "markdown",
   "id": "fc1644b3-a4cf-4639-b2a4-52d32f05547c",
   "metadata": {},
   "source": [
    "## Building Communication Networks"
   ]
  },
  {
   "cell_type": "code",
   "execution_count": 530,
   "id": "6c88b956-a8c8-41e6-81ca-cfaa68e398a1",
   "metadata": {},
   "outputs": [
    {
     "data": {
      "text/plain": [
       "(26051, 30)"
      ]
     },
     "execution_count": 530,
     "metadata": {},
     "output_type": "execute_result"
    }
   ],
   "source": [
    "# Load data\n",
    "primary_school = '../data/Buzz_W5_primary-schools.csv'\n",
    "secondary_school = '../data/Buzz_W5_secondary-schools.csv'\n",
    "# Selection of classes based on year 3 of the project (wave 5)\n",
    "\n",
    "# Preprocess social buzz dataframe\n",
    "df_comm = pd.read_csv(primary_school, sep=';', header=0)\n",
    "df_comm = df_comm.append(pd.read_csv(secondary_school, sep=';', header=0))\n",
    "df_comm = df_comm[df_comm.Type==\"my\"]\n",
    "df_comm = df_comm[df_comm.Child.isin(input_args[\"participants\"])]\n",
    "df_comm = df_comm.astype({'Participant': 'float64'})\n",
    "df_comm.shape"
   ]
  },
  {
   "cell_type": "code",
   "execution_count": 531,
   "id": "b044de8f-4e22-4339-9bef-5647727e0bfd",
   "metadata": {},
   "outputs": [
    {
     "data": {
      "text/html": [
       "<div>\n",
       "<style scoped>\n",
       "    .dataframe tbody tr th:only-of-type {\n",
       "        vertical-align: middle;\n",
       "    }\n",
       "\n",
       "    .dataframe tbody tr th {\n",
       "        vertical-align: top;\n",
       "    }\n",
       "\n",
       "    .dataframe thead th {\n",
       "        text-align: right;\n",
       "    }\n",
       "</style>\n",
       "<table border=\"1\" class=\"dataframe\">\n",
       "  <thead>\n",
       "    <tr style=\"text-align: right;\">\n",
       "      <th></th>\n",
       "      <th>Class</th>\n",
       "      <th>Participant</th>\n",
       "      <th>Child</th>\n",
       "    </tr>\n",
       "  </thead>\n",
       "  <tbody>\n",
       "    <tr>\n",
       "      <th>0</th>\n",
       "      <td>78.00</td>\n",
       "      <td>2807801633.00</td>\n",
       "      <td>1633.00</td>\n",
       "    </tr>\n",
       "    <tr>\n",
       "      <th>1</th>\n",
       "      <td>78.00</td>\n",
       "      <td>2807801636.00</td>\n",
       "      <td>1636.00</td>\n",
       "    </tr>\n",
       "    <tr>\n",
       "      <th>2</th>\n",
       "      <td>78.00</td>\n",
       "      <td>2807801637.00</td>\n",
       "      <td>1637.00</td>\n",
       "    </tr>\n",
       "    <tr>\n",
       "      <th>3</th>\n",
       "      <td>78.00</td>\n",
       "      <td>2807801639.00</td>\n",
       "      <td>1639.00</td>\n",
       "    </tr>\n",
       "    <tr>\n",
       "      <th>4</th>\n",
       "      <td>78.00</td>\n",
       "      <td>2807801640.00</td>\n",
       "      <td>1640.00</td>\n",
       "    </tr>\n",
       "  </tbody>\n",
       "</table>\n",
       "</div>"
      ],
      "text/plain": [
       "   Class   Participant   Child\n",
       "0  78.00 2807801633.00 1633.00\n",
       "1  78.00 2807801636.00 1636.00\n",
       "2  78.00 2807801637.00 1637.00\n",
       "3  78.00 2807801639.00 1639.00\n",
       "4  78.00 2807801640.00 1640.00"
      ]
     },
     "execution_count": 531,
     "metadata": {},
     "output_type": "execute_result"
    }
   ],
   "source": [
    "# needed for the mapping - at least for now \n",
    "df_participants = df_comm.groupby(['Class','Participant','Child'])['UMID'].count().reset_index()\n",
    "df_participants = df_participants[['Class','Participant','Child']]\n",
    "df_participants.head()"
   ]
  },
  {
   "cell_type": "code",
   "execution_count": 534,
   "id": "c4a0071e-d9c4-49e4-ae15-b008a31c8e02",
   "metadata": {},
   "outputs": [],
   "source": [
    "def generate_buzz_population(df_comm):\n",
    "    graph = nx.DiGraph()\n",
    "    \n",
    "    #create the connections - edges\n",
    "    for cl in classes:\n",
    "        # the weight is according to version 1 \n",
    "        df_temp = df_comm[df_comm.Class.isin([cl])]\n",
    "        df_temp = df_temp.groupby([\"Participant\",\"RecipientChild\"])[\"UMID\"].count().reset_index(name='NumberMessages')\n",
    "        df_temp['Weight'] = df_temp['NumberMessages']/max(df_temp['NumberMessages'])\n",
    "        children_in_class = df_temp.Participant.unique()\n",
    "        \n",
    "        for index, row in df_temp.iterrows():\n",
    "            #only if the recepient is member of the same class - excluded intraclass communication\n",
    "            # this is not 100% ok, I need a list of all participants per class!\n",
    "            if(row[1] in children_in_class):\n",
    "                graph.add_edge(df_participants.loc[df_participants['Participant'] == row[0], 'Child'].iloc[0],df_participants.loc[df_participants['Participant'] == row[1], 'Child'].iloc[0],weight=row[3])\n",
    "    \n",
    "        \n",
    "    return graph        "
   ]
  },
  {
   "cell_type": "code",
   "execution_count": 533,
   "id": "71b2b086-2dbf-4eb0-a535-5f6fa83d2f78",
   "metadata": {},
   "outputs": [],
   "source": [
    "graph = generate_buzz_population(df_comm)"
   ]
  },
  {
   "cell_type": "code",
   "execution_count": 536,
   "id": "c4fad235-3989-4537-b3c8-6c82162938a6",
   "metadata": {},
   "outputs": [
    {
     "data": {
      "text/plain": [
       "(406, 3122)"
      ]
     },
     "execution_count": 536,
     "metadata": {},
     "output_type": "execute_result"
    }
   ],
   "source": [
    "# seems like two nodes are not here, even though they were found in the communication data\n",
    "len(graph.nodes()),len(graph.edges())"
   ]
  },
  {
   "cell_type": "code",
   "execution_count": 542,
   "id": "f4a9cf3e-6540-4626-824e-e84ed501db05",
   "metadata": {},
   "outputs": [
    {
     "data": {
      "text/plain": [
       "(408, 3)"
      ]
     },
     "execution_count": 542,
     "metadata": {},
     "output_type": "execute_result"
    }
   ],
   "source": [
    "df_participants.shape"
   ]
  },
  {
   "cell_type": "code",
   "execution_count": 551,
   "id": "135eb76d-6afc-40e1-9f2e-6c31a2b21de0",
   "metadata": {},
   "outputs": [
    {
     "data": {
      "text/plain": [
       "{2807801634.0,\n",
       " 2807801644.0,\n",
       " 2807801648.0,\n",
       " 2807801649.0,\n",
       " 2807801655.0,\n",
       " 2807804363.0,\n",
       " 2908101613.0,\n",
       " 2908101616.0,\n",
       " 2908101619.0,\n",
       " 2908101621.0,\n",
       " 2908101622.0,\n",
       " 2908101628.0,\n",
       " 2908101629.0,\n",
       " 2908104362.0,\n",
       " 2927205441.0,\n",
       " 2927205442.0,\n",
       " 2927305477.0,\n",
       " 3310002272.0,\n",
       " 3330005987.0,\n",
       " 3330005998.0,\n",
       " 3330106014.0,\n",
       " 3812402876.0,\n",
       " 3912502892.0,\n",
       " 5425605026.0,\n",
       " 5425605030.0,\n",
       " 5425805077.0,\n",
       " 5425805082.0,\n",
       " 5425805090.0,\n",
       " 5425805097.0,\n",
       " 5629605877.0,\n",
       " 5629605888.0,\n",
       " 5629705891.0,\n",
       " 5830306061.0,\n",
       " 5830306075.0,\n",
       " 5830306083.0,\n",
       " 5830306084.0}"
      ]
     },
     "execution_count": 551,
     "metadata": {},
     "output_type": "execute_result"
    }
   ],
   "source": [
    "set(df_comm.RecipientChild.unique()).difference(df_comm.Participant.unique())"
   ]
  },
  {
   "cell_type": "code",
   "execution_count": 545,
   "id": "0679cf24-ac63-4a41-98ba-0592eb57493f",
   "metadata": {},
   "outputs": [
    {
     "data": {
      "text/plain": [
       "Index(['Participant', 'School', 'Class', 'Child', 'Gender', 'Age', 'PI',\n",
       "       'Date', 'Time', 'UMID', 'Format_text', 'Format_Media', 'Type',\n",
       "       'RecipientChild', 'ClassReceive', 'Content', 'Media', 'ReactionInto',\n",
       "       'Flagged', 'PostedWhileBanned', 'ShareSource', 'SharedVia',\n",
       "       'Number_likes', 'Unnamed: 23', 'Unnamed: 24', 'Unnamed: 25',\n",
       "       'Unnamed: 26', 'Unnamed: 27', 'Unnamed: 28', 'Unnamed: 29'],\n",
       "      dtype='object')"
      ]
     },
     "execution_count": 545,
     "metadata": {},
     "output_type": "execute_result"
    }
   ],
   "source": [
    "df_comm.columns"
   ]
  }
 ],
 "metadata": {
  "kernelspec": {
   "display_name": "Python 3",
   "language": "python",
   "name": "python3"
  },
  "language_info": {
   "codemirror_mode": {
    "name": "ipython",
    "version": 3
   },
   "file_extension": ".py",
   "mimetype": "text/x-python",
   "name": "python",
   "nbconvert_exporter": "python",
   "pygments_lexer": "ipython3",
   "version": "3.9.5"
  }
 },
 "nbformat": 4,
 "nbformat_minor": 5
}
