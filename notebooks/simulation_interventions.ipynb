{
 "cells": [
  {
   "cell_type": "code",
   "execution_count": 1,
   "metadata": {
    "collapsed": false,
    "jupyter": {
     "outputs_hidden": false
    },
    "pycharm": {
     "name": "#%%\n"
    }
   },
   "outputs": [],
   "source": [
    "# import libraries\n",
    "import json\n",
    "import numpy as np\n",
    "import os\n",
    "import pandas as pd\n",
    "import matplotlib.pyplot as plt\n",
    "import sys\n",
    "import inspect\n",
    "import time\n",
    "\n",
    "# access parent directory from notebooks directory\n",
    "currentdir = os.path.dirname(os.path.abspath(inspect.getfile(inspect.currentframe())))\n",
    "parentdir = os.path.dirname(currentdir)\n",
    "sys.path.insert(0, parentdir)\n",
    "\n",
    "import src.simulation as s\n",
    "\n",
    "%load_ext autoreload\n",
    "%autoreload 2\n",
    "%matplotlib inline\n",
    "%reload_ext autoreload"
   ]
  },
  {
   "cell_type": "code",
   "execution_count": 2,
   "metadata": {
    "collapsed": false,
    "jupyter": {
     "outputs_hidden": false
    },
    "pycharm": {
     "name": "#%%\n"
    }
   },
   "outputs": [],
   "source": [
    "try:\n",
    "    input_args = json.loads(open('../input/simulation.json').read())\n",
    "except Exception as ex:\n",
    "    print('simulation.json does not exist!')\n",
    "    print(ex)\n"
   ]
  },
  {
   "cell_type": "code",
   "execution_count": 12,
   "metadata": {
    "collapsed": false,
    "jupyter": {
     "outputs_hidden": false
    },
    "pycharm": {
     "name": "#%%\n"
    }
   },
   "outputs": [
    {
     "name": "stderr",
     "output_type": "stream",
     "text": [
      "/Users/davidblok/Work EUR/GitHub/ABM-PA/src/simulation.py:29: DtypeWarning: Columns (319,321,323,377,434,436,439,441,444,446,449,451,454,456,459,461,464,466,469,471,474,476,479,481,484,486,489,491) have mixed types.Specify dtype option on import or set low_memory=False.\n",
      "  self.PeerNominatedDataPopulation = p.PeerNominatedDataPopulation('Peer-Nominated data population', self.input_args)\n",
      "<ipython-input-12-6c4390bb5dac>:3: DtypeWarning: Columns (22) have mixed types.Specify dtype option on import or set low_memory=False.\n",
      "  simulation =  s.Simulation()\n",
      "/Users/davidblok/Work EUR/GitHub/ABM-PA/src/simulation.py:30: DtypeWarning: Columns (319,321,323,377,434,436,439,441,444,446,449,451,454,456,459,461,464,466,469,471,474,476,479,481,484,486,489,491) have mixed types.Specify dtype option on import or set low_memory=False.\n",
      "  self.CommunicationDataPopulation = p.CommunicationDataPopulation('Communication data population', self.input_args)\n"
     ]
    }
   ],
   "source": [
    "# instantiate simulation class\n",
    "\n",
    "simulation =  s.Simulation()"
   ]
  },
  {
   "cell_type": "markdown",
   "metadata": {
    "pycharm": {
     "name": "#%% md\n"
    }
   },
   "source": [
    "# Simulation Interventions\n",
    "\n",
    "## 1. Nomination network"
   ]
  },
  {
   "cell_type": "code",
   "execution_count": 5,
   "metadata": {
    "collapsed": false,
    "jupyter": {
     "outputs_hidden": false
    },
    "pycharm": {
     "name": "#%%\n"
    }
   },
   "outputs": [
    {
     "data": {
      "text/plain": "    threshold    ipa     error\n0       0.025  0.007  0.462071\n1       0.025  0.004  0.471020\n2       0.025  0.005  0.471045\n3       0.025  0.006  0.471688\n4       0.025  0.009  0.472211\n..        ...    ...       ...\n95      0.950  0.005  0.682455\n96      1.000  0.045  0.682522\n97      1.000  0.038  0.682627\n98      1.000  0.042  0.682804\n99      0.975  0.021  0.683438\n\n[100 rows x 3 columns]",
      "text/html": "<div>\n<style scoped>\n    .dataframe tbody tr th:only-of-type {\n        vertical-align: middle;\n    }\n\n    .dataframe tbody tr th {\n        vertical-align: top;\n    }\n\n    .dataframe thead th {\n        text-align: right;\n    }\n</style>\n<table border=\"1\" class=\"dataframe\">\n  <thead>\n    <tr style=\"text-align: right;\">\n      <th></th>\n      <th>threshold</th>\n      <th>ipa</th>\n      <th>error</th>\n    </tr>\n  </thead>\n  <tbody>\n    <tr>\n      <th>0</th>\n      <td>0.025</td>\n      <td>0.007</td>\n      <td>0.462071</td>\n    </tr>\n    <tr>\n      <th>1</th>\n      <td>0.025</td>\n      <td>0.004</td>\n      <td>0.471020</td>\n    </tr>\n    <tr>\n      <th>2</th>\n      <td>0.025</td>\n      <td>0.005</td>\n      <td>0.471045</td>\n    </tr>\n    <tr>\n      <th>3</th>\n      <td>0.025</td>\n      <td>0.006</td>\n      <td>0.471688</td>\n    </tr>\n    <tr>\n      <th>4</th>\n      <td>0.025</td>\n      <td>0.009</td>\n      <td>0.472211</td>\n    </tr>\n    <tr>\n      <th>...</th>\n      <td>...</td>\n      <td>...</td>\n      <td>...</td>\n    </tr>\n    <tr>\n      <th>95</th>\n      <td>0.950</td>\n      <td>0.005</td>\n      <td>0.682455</td>\n    </tr>\n    <tr>\n      <th>96</th>\n      <td>1.000</td>\n      <td>0.045</td>\n      <td>0.682522</td>\n    </tr>\n    <tr>\n      <th>97</th>\n      <td>1.000</td>\n      <td>0.038</td>\n      <td>0.682627</td>\n    </tr>\n    <tr>\n      <th>98</th>\n      <td>1.000</td>\n      <td>0.042</td>\n      <td>0.682804</td>\n    </tr>\n    <tr>\n      <th>99</th>\n      <td>0.975</td>\n      <td>0.021</td>\n      <td>0.683438</td>\n    </tr>\n  </tbody>\n</table>\n<p>100 rows × 3 columns</p>\n</div>"
     },
     "execution_count": 5,
     "metadata": {},
     "output_type": "execute_result"
    }
   ],
   "source": [
    "# Read tuned parameter combinations (See tuning_nom_network.ipynb)\n",
    "pars_nomination = pd.read_csv('../output/opt_pars_nomination.csv', sep=',', header=0)\n",
    "pars_nomination"
   ]
  },
  {
   "cell_type": "code",
   "execution_count": 13,
   "metadata": {
    "collapsed": false,
    "jupyter": {
     "outputs_hidden": false
    },
    "pycharm": {
     "name": "#%%\n"
    }
   },
   "outputs": [
    {
     "name": "stdout",
     "output_type": "stream",
     "text": [
      "0 0.025 0.006999999999999999 Time elapsed: 23.890190839767456  seconds\n",
      "1 0.025 0.004 Time elapsed: 47.6353280544281  seconds\n",
      "2 0.025 0.005 Time elapsed: 70.87401509284973  seconds\n",
      "3 0.025 0.006 Time elapsed: 93.93312811851501  seconds\n",
      "4 0.025 0.009000000000000001 Time elapsed: 115.90274000167847  seconds\n",
      "5 0.025 0.003 Time elapsed: 138.48475193977356  seconds\n",
      "6 0.025 0.008 Time elapsed: 160.37360000610352  seconds\n",
      "7 0.025 0.012 Time elapsed: 183.01990413665771  seconds\n",
      "8 0.025 0.010000000000000002 Time elapsed: 205.21095991134644  seconds\n",
      "9 0.025 0.011000000000000001 Time elapsed: 227.35793209075928  seconds\n",
      "10 0.025 0.002 Time elapsed: 249.39573907852173  seconds\n",
      "11 0.025 0.013 Time elapsed: 271.21685314178467  seconds\n",
      "12 0.025 0.014000000000000002 Time elapsed: 293.1421639919281  seconds\n",
      "13 0.025 0.015 Time elapsed: 315.41246700286865  seconds\n",
      "14 0.05 0.001 Time elapsed: 337.48151206970215  seconds\n",
      "15 0.025 0.001 Time elapsed: 359.1723909378052  seconds\n",
      "16 0.07500000000000001 0.001 Time elapsed: 381.6434271335602  seconds\n",
      "17 1.0 0.001 Time elapsed: 402.27795910835266  seconds\n",
      "18 0.975 0.001 Time elapsed: 423.06155014038086  seconds\n",
      "19 0.95 0.001 Time elapsed: 443.88448119163513  seconds\n",
      "20 0.1 0.001 Time elapsed: 465.5991199016571  seconds\n",
      "21 0.925 0.001 Time elapsed: 486.2907552719116  seconds\n",
      "22 1.0 0.002 Time elapsed: 506.9425039291382  seconds\n",
      "23 1.0 0.005 Time elapsed: 527.4740099906921  seconds\n",
      "24 1.0 0.003 Time elapsed: 547.9424619674683  seconds\n",
      "25 1.0 0.004 Time elapsed: 568.4953422546387  seconds\n",
      "26 1.0 0.006 Time elapsed: 589.0145230293274  seconds\n",
      "27 1.0 0.009000000000000001 Time elapsed: 610.0221090316772  seconds\n",
      "28 1.0 0.010000000000000002 Time elapsed: 631.0605189800262  seconds\n",
      "29 0.9 0.001 Time elapsed: 651.8879351615906  seconds\n",
      "30 1.0 0.008 Time elapsed: 672.4970800876617  seconds\n",
      "31 1.0 0.006999999999999999 Time elapsed: 693.120197057724  seconds\n",
      "32 1.0 0.014000000000000002 Time elapsed: 713.638678073883  seconds\n",
      "33 1.0 0.011000000000000001 Time elapsed: 734.4497411251068  seconds\n",
      "34 1.0 0.013 Time elapsed: 755.0894401073456  seconds\n",
      "35 1.0 0.015 Time elapsed: 775.565288066864  seconds\n",
      "36 1.0 0.012 Time elapsed: 796.1418571472168  seconds\n",
      "37 1.0 0.016 Time elapsed: 816.7428650856018  seconds\n",
      "38 1.0 0.017 Time elapsed: 837.3806810379028  seconds\n",
      "39 1.0 0.02 Time elapsed: 858.4323170185089  seconds\n",
      "40 1.0 0.03 Time elapsed: 879.1570582389832  seconds\n",
      "41 1.0 0.018000000000000002 Time elapsed: 899.8405041694641  seconds\n",
      "42 0.975 0.002 Time elapsed: 920.4159822463989  seconds\n",
      "43 1.0 0.021 Time elapsed: 941.2749588489532  seconds\n",
      "44 0.975 0.003 Time elapsed: 961.9860088825226  seconds\n",
      "45 0.975 0.004 Time elapsed: 982.7040331363678  seconds\n",
      "46 0.975 0.005 Time elapsed: 1003.2932779788971  seconds\n",
      "47 1.0 0.019000000000000003 Time elapsed: 1023.957680940628  seconds\n",
      "48 1.0 0.022 Time elapsed: 1044.5721790790558  seconds\n",
      "49 0.8750000000000001 0.001 Time elapsed: 1065.400643825531  seconds\n",
      "50 0.975 0.006999999999999999 Time elapsed: 1085.999624967575  seconds\n",
      "51 0.975 0.006 Time elapsed: 1107.0313830375671  seconds\n",
      "52 1.0 0.032 Time elapsed: 1127.6630201339722  seconds\n",
      "53 0.975 0.008 Time elapsed: 1148.2573199272156  seconds\n",
      "54 1.0 0.023 Time elapsed: 1168.8006432056427  seconds\n",
      "55 0.975 0.010000000000000002 Time elapsed: 1189.5719509124756  seconds\n",
      "56 1.0 0.027000000000000003 Time elapsed: 1210.1515231132507  seconds\n",
      "57 0.975 0.012 Time elapsed: 1230.7115449905396  seconds\n",
      "58 1.0 0.026 Time elapsed: 1251.4401869773865  seconds\n",
      "59 0.975 0.011000000000000001 Time elapsed: 1272.5274379253387  seconds\n",
      "60 1.0 0.024 Time elapsed: 1293.3794360160828  seconds\n",
      "61 0.05 0.004 Time elapsed: 1314.8477110862732  seconds\n",
      "62 0.975 0.018000000000000002 Time elapsed: 1335.592885017395  seconds\n",
      "63 1.0 0.025 Time elapsed: 1356.4779798984528  seconds\n",
      "64 0.975 0.009000000000000001 Time elapsed: 1377.2381188869476  seconds\n",
      "65 0.05 0.003 Time elapsed: 1398.7748911380768  seconds\n",
      "66 0.975 0.016 Time elapsed: 1419.439073085785  seconds\n",
      "67 1.0 0.028999999999999998 Time elapsed: 1440.1505200862885  seconds\n",
      "68 1.0 0.04 Time elapsed: 1460.7508490085602  seconds\n",
      "69 1.0 0.033 Time elapsed: 1481.3901579380035  seconds\n",
      "70 0.975 0.013 Time elapsed: 1502.0853810310364  seconds\n",
      "71 1.0 0.046 Time elapsed: 1522.6370251178741  seconds\n",
      "72 1.0 0.040999999999999995 Time elapsed: 1543.269228219986  seconds\n",
      "73 0.975 0.015 Time elapsed: 1564.0350019931793  seconds\n",
      "74 0.975 0.014000000000000002 Time elapsed: 1584.780296087265  seconds\n",
      "75 0.975 0.017 Time elapsed: 1605.899333000183  seconds\n",
      "76 0.125 0.001 Time elapsed: 1627.5433712005615  seconds\n",
      "77 0.975 0.02 Time elapsed: 1648.338567018509  seconds\n",
      "78 0.975 0.022 Time elapsed: 1669.1339089870453  seconds\n",
      "79 1.0 0.027999999999999997 Time elapsed: 1690.346979856491  seconds\n",
      "80 1.0 0.036000000000000004 Time elapsed: 1711.2255749702454  seconds\n",
      "81 1.0 0.043 Time elapsed: 1731.923180103302  seconds\n",
      "82 0.05 0.005 Time elapsed: 1753.2573609352112  seconds\n",
      "83 1.0 0.031 Time elapsed: 1774.0736770629883  seconds\n",
      "84 0.95 0.003 Time elapsed: 1794.7679619789124  seconds\n",
      "85 1.0 0.037000000000000005 Time elapsed: 1815.2936992645264  seconds\n",
      "86 0.95 0.002 Time elapsed: 1835.967365026474  seconds\n",
      "87 0.95 0.004 Time elapsed: 1857.114907026291  seconds\n",
      "88 0.975 0.023 Time elapsed: 1878.1966180801392  seconds\n",
      "89 0.975 0.024 Time elapsed: 1898.843132019043  seconds\n",
      "90 0.8500000000000001 0.001 Time elapsed: 1919.8266279697418  seconds\n",
      "91 0.05 0.006 Time elapsed: 1941.1745150089264  seconds\n",
      "92 1.0 0.035 Time elapsed: 1961.794597864151  seconds\n",
      "93 0.975 0.019000000000000003 Time elapsed: 1982.4606161117554  seconds\n",
      "94 0.95 0.006 Time elapsed: 2003.2763950824738  seconds\n",
      "95 0.95 0.005 Time elapsed: 2023.848932981491  seconds\n",
      "96 1.0 0.045 Time elapsed: 2044.4157361984253  seconds\n",
      "97 1.0 0.038 Time elapsed: 2065.0534081459045  seconds\n",
      "98 1.0 0.042 Time elapsed: 2086.0973360538483  seconds\n",
      "99 0.975 0.021 Time elapsed: 2106.894317150116  seconds\n"
     ]
    }
   ],
   "source": [
    "# Run simulations for each parameter combination\n",
    "list_results_nomm = []\n",
    "list_results_avg_nomm = []\n",
    "list_agents_per_intervention_nomm = []\n",
    "start_whole = time.time()\n",
    "count = 0\n",
    "for index, row in pars_nomination.iterrows():\n",
    "    results_nomm, results_avg_nomm, agents_per_intervention_nomm = simulation.simulate_interventions(700,\n",
    "                                                                                                     'nomination',\n",
    "                                                                                                     row['threshold'],\n",
    "                                                                                                     row['ipa'])\n",
    "    list_results_nomm.append(results_nomm)\n",
    "    list_results_avg_nomm.append(results_avg_nomm)\n",
    "    list_agents_per_intervention_nomm.append(agents_per_intervention_nomm)\n",
    "    end = time.time()\n",
    "    print(count, row['threshold'], row['ipa'], \"Time elapsed:\", end - start_whole, ' seconds')\n",
    "    count = count + 1\n"
   ]
  },
  {
   "cell_type": "markdown",
   "metadata": {
    "pycharm": {
     "name": "#%% md\n"
    }
   },
   "source": [
    "## 2. Communication network\n"
   ]
  },
  {
   "cell_type": "code",
   "execution_count": 14,
   "metadata": {
    "collapsed": false,
    "jupyter": {
     "outputs_hidden": false
    },
    "pycharm": {
     "name": "#%%\n"
    }
   },
   "outputs": [
    {
     "data": {
      "text/plain": "    threshold    ipa     error\n0       1.000  0.001  0.675750\n1       0.975  0.001  0.683444\n2       0.950  0.001  0.691740\n3       0.925  0.001  0.700577\n4       0.900  0.001  0.709325\n..        ...    ...       ...\n95      0.950  0.013  0.744159\n96      0.975  0.032  0.744769\n97      0.950  0.018  0.744785\n98      1.000  0.048  0.745074\n99      0.975  0.033  0.745391\n\n[100 rows x 3 columns]",
      "text/html": "<div>\n<style scoped>\n    .dataframe tbody tr th:only-of-type {\n        vertical-align: middle;\n    }\n\n    .dataframe tbody tr th {\n        vertical-align: top;\n    }\n\n    .dataframe thead th {\n        text-align: right;\n    }\n</style>\n<table border=\"1\" class=\"dataframe\">\n  <thead>\n    <tr style=\"text-align: right;\">\n      <th></th>\n      <th>threshold</th>\n      <th>ipa</th>\n      <th>error</th>\n    </tr>\n  </thead>\n  <tbody>\n    <tr>\n      <th>0</th>\n      <td>1.000</td>\n      <td>0.001</td>\n      <td>0.675750</td>\n    </tr>\n    <tr>\n      <th>1</th>\n      <td>0.975</td>\n      <td>0.001</td>\n      <td>0.683444</td>\n    </tr>\n    <tr>\n      <th>2</th>\n      <td>0.950</td>\n      <td>0.001</td>\n      <td>0.691740</td>\n    </tr>\n    <tr>\n      <th>3</th>\n      <td>0.925</td>\n      <td>0.001</td>\n      <td>0.700577</td>\n    </tr>\n    <tr>\n      <th>4</th>\n      <td>0.900</td>\n      <td>0.001</td>\n      <td>0.709325</td>\n    </tr>\n    <tr>\n      <th>...</th>\n      <td>...</td>\n      <td>...</td>\n      <td>...</td>\n    </tr>\n    <tr>\n      <th>95</th>\n      <td>0.950</td>\n      <td>0.013</td>\n      <td>0.744159</td>\n    </tr>\n    <tr>\n      <th>96</th>\n      <td>0.975</td>\n      <td>0.032</td>\n      <td>0.744769</td>\n    </tr>\n    <tr>\n      <th>97</th>\n      <td>0.950</td>\n      <td>0.018</td>\n      <td>0.744785</td>\n    </tr>\n    <tr>\n      <th>98</th>\n      <td>1.000</td>\n      <td>0.048</td>\n      <td>0.745074</td>\n    </tr>\n    <tr>\n      <th>99</th>\n      <td>0.975</td>\n      <td>0.033</td>\n      <td>0.745391</td>\n    </tr>\n  </tbody>\n</table>\n<p>100 rows × 3 columns</p>\n</div>"
     },
     "execution_count": 14,
     "metadata": {},
     "output_type": "execute_result"
    }
   ],
   "source": [
    "# Read tuned parameter combinations (See tuning_com_network.ipynb)\n",
    "pars_communication = pd.read_csv('../output/opt_pars_communication.csv', sep=',', header=0, encoding='latin-1')\n",
    "pars_communication"
   ]
  },
  {
   "cell_type": "code",
   "execution_count": 16,
   "metadata": {
    "collapsed": false,
    "jupyter": {
     "outputs_hidden": false
    },
    "pycharm": {
     "name": "#%%\n"
    }
   },
   "outputs": [
    {
     "ename": "FileCreateError",
     "evalue": "[Errno 2] No such file or directory: '../output/selectedAgents/selected_agents_communication_1.0_0.001.xlsx'",
     "output_type": "error",
     "traceback": [
      "\u001B[0;31m---------------------------------------------------------------------------\u001B[0m",
      "\u001B[0;31mFileNotFoundError\u001B[0m                         Traceback (most recent call last)",
      "\u001B[0;32m/opt/anaconda3/lib/python3.8/site-packages/xlsxwriter/workbook.py\u001B[0m in \u001B[0;36mclose\u001B[0;34m(self)\u001B[0m\n\u001B[1;32m    319\u001B[0m             \u001B[0;32mtry\u001B[0m\u001B[0;34m:\u001B[0m\u001B[0;34m\u001B[0m\u001B[0;34m\u001B[0m\u001B[0m\n\u001B[0;32m--> 320\u001B[0;31m                 \u001B[0mself\u001B[0m\u001B[0;34m.\u001B[0m\u001B[0m_store_workbook\u001B[0m\u001B[0;34m(\u001B[0m\u001B[0;34m)\u001B[0m\u001B[0;34m\u001B[0m\u001B[0;34m\u001B[0m\u001B[0m\n\u001B[0m\u001B[1;32m    321\u001B[0m             \u001B[0;32mexcept\u001B[0m \u001B[0mIOError\u001B[0m \u001B[0;32mas\u001B[0m \u001B[0me\u001B[0m\u001B[0;34m:\u001B[0m\u001B[0;34m\u001B[0m\u001B[0;34m\u001B[0m\u001B[0m\n",
      "\u001B[0;32m/opt/anaconda3/lib/python3.8/site-packages/xlsxwriter/workbook.py\u001B[0m in \u001B[0;36m_store_workbook\u001B[0;34m(self)\u001B[0m\n\u001B[1;32m    637\u001B[0m         \u001B[0;32mexcept\u001B[0m \u001B[0mIOError\u001B[0m \u001B[0;32mas\u001B[0m \u001B[0me\u001B[0m\u001B[0;34m:\u001B[0m\u001B[0;34m\u001B[0m\u001B[0;34m\u001B[0m\u001B[0m\n\u001B[0;32m--> 638\u001B[0;31m             \u001B[0;32mraise\u001B[0m \u001B[0me\u001B[0m\u001B[0;34m\u001B[0m\u001B[0;34m\u001B[0m\u001B[0m\n\u001B[0m\u001B[1;32m    639\u001B[0m \u001B[0;34m\u001B[0m\u001B[0m\n",
      "\u001B[0;32m/opt/anaconda3/lib/python3.8/site-packages/xlsxwriter/workbook.py\u001B[0m in \u001B[0;36m_store_workbook\u001B[0;34m(self)\u001B[0m\n\u001B[1;32m    634\u001B[0m         \u001B[0;32mtry\u001B[0m\u001B[0;34m:\u001B[0m\u001B[0;34m\u001B[0m\u001B[0;34m\u001B[0m\u001B[0m\n\u001B[0;32m--> 635\u001B[0;31m             xlsx_file = ZipFile(self.filename, \"w\", compression=ZIP_DEFLATED,\n\u001B[0m\u001B[1;32m    636\u001B[0m                                 allowZip64=self.allow_zip64)\n",
      "\u001B[0;32m/opt/anaconda3/lib/python3.8/zipfile.py\u001B[0m in \u001B[0;36m__init__\u001B[0;34m(self, file, mode, compression, allowZip64, compresslevel, strict_timestamps)\u001B[0m\n\u001B[1;32m   1250\u001B[0m                 \u001B[0;32mtry\u001B[0m\u001B[0;34m:\u001B[0m\u001B[0;34m\u001B[0m\u001B[0;34m\u001B[0m\u001B[0m\n\u001B[0;32m-> 1251\u001B[0;31m                     \u001B[0mself\u001B[0m\u001B[0;34m.\u001B[0m\u001B[0mfp\u001B[0m \u001B[0;34m=\u001B[0m \u001B[0mio\u001B[0m\u001B[0;34m.\u001B[0m\u001B[0mopen\u001B[0m\u001B[0;34m(\u001B[0m\u001B[0mfile\u001B[0m\u001B[0;34m,\u001B[0m \u001B[0mfilemode\u001B[0m\u001B[0;34m)\u001B[0m\u001B[0;34m\u001B[0m\u001B[0;34m\u001B[0m\u001B[0m\n\u001B[0m\u001B[1;32m   1252\u001B[0m                 \u001B[0;32mexcept\u001B[0m \u001B[0mOSError\u001B[0m\u001B[0;34m:\u001B[0m\u001B[0;34m\u001B[0m\u001B[0;34m\u001B[0m\u001B[0m\n",
      "\u001B[0;31mFileNotFoundError\u001B[0m: [Errno 2] No such file or directory: '../output/selectedAgents/selected_agents_communication_1.0_0.001.xlsx'",
      "\nDuring handling of the above exception, another exception occurred:\n",
      "\u001B[0;31mFileCreateError\u001B[0m                           Traceback (most recent call last)",
      "\u001B[0;32m<ipython-input-16-5c1b0a228ca0>\u001B[0m in \u001B[0;36m<module>\u001B[0;34m\u001B[0m\n\u001B[1;32m      6\u001B[0m \u001B[0mcount\u001B[0m \u001B[0;34m=\u001B[0m \u001B[0;36m0\u001B[0m\u001B[0;34m\u001B[0m\u001B[0;34m\u001B[0m\u001B[0m\n\u001B[1;32m      7\u001B[0m \u001B[0;32mfor\u001B[0m \u001B[0mindex\u001B[0m\u001B[0;34m,\u001B[0m \u001B[0mrow\u001B[0m \u001B[0;32min\u001B[0m \u001B[0mpars_communication\u001B[0m\u001B[0;34m.\u001B[0m\u001B[0miterrows\u001B[0m\u001B[0;34m(\u001B[0m\u001B[0;34m)\u001B[0m\u001B[0;34m:\u001B[0m\u001B[0;34m\u001B[0m\u001B[0;34m\u001B[0m\u001B[0m\n\u001B[0;32m----> 8\u001B[0;31m     \u001B[0mresults_comm\u001B[0m\u001B[0;34m,\u001B[0m \u001B[0mresults_avg_comm\u001B[0m\u001B[0;34m,\u001B[0m \u001B[0magents_per_intervention_comm\u001B[0m \u001B[0;34m=\u001B[0m \u001B[0msimulation\u001B[0m\u001B[0;34m.\u001B[0m\u001B[0msimulate_interventions\u001B[0m\u001B[0;34m(\u001B[0m\u001B[0;36m700\u001B[0m\u001B[0;34m,\u001B[0m\u001B[0;34m'communication'\u001B[0m\u001B[0;34m,\u001B[0m\u001B[0mrow\u001B[0m\u001B[0;34m[\u001B[0m\u001B[0;34m'threshold'\u001B[0m\u001B[0;34m]\u001B[0m\u001B[0;34m,\u001B[0m\u001B[0mrow\u001B[0m\u001B[0;34m[\u001B[0m\u001B[0;34m'ipa'\u001B[0m\u001B[0;34m]\u001B[0m\u001B[0;34m)\u001B[0m\u001B[0;34m\u001B[0m\u001B[0;34m\u001B[0m\u001B[0m\n\u001B[0m\u001B[1;32m      9\u001B[0m     \u001B[0mlist_results_comm\u001B[0m\u001B[0;34m.\u001B[0m\u001B[0mappend\u001B[0m\u001B[0;34m(\u001B[0m\u001B[0mresults_comm\u001B[0m\u001B[0;34m)\u001B[0m\u001B[0;34m\u001B[0m\u001B[0;34m\u001B[0m\u001B[0m\n\u001B[1;32m     10\u001B[0m     \u001B[0mlist_results_avg_comm\u001B[0m\u001B[0;34m.\u001B[0m\u001B[0mappend\u001B[0m\u001B[0;34m(\u001B[0m\u001B[0mresults_avg_comm\u001B[0m\u001B[0;34m)\u001B[0m\u001B[0;34m\u001B[0m\u001B[0;34m\u001B[0m\u001B[0m\n",
      "\u001B[0;32m~/Work EUR/GitHub/ABM-PA/src/simulation.py\u001B[0m in \u001B[0;36msimulate_interventions\u001B[0;34m(self, time, population_name, threshold, ipa)\u001B[0m\n\u001B[1;32m     87\u001B[0m \u001B[0;34m\u001B[0m\u001B[0m\n\u001B[1;32m     88\u001B[0m         \u001B[0mdf_agents\u001B[0m \u001B[0;34m=\u001B[0m \u001B[0mpd\u001B[0m\u001B[0;34m.\u001B[0m\u001B[0mDataFrame\u001B[0m\u001B[0;34m(\u001B[0m\u001B[0mdf_agents_list\u001B[0m\u001B[0;34m,\u001B[0m \u001B[0mcolumns\u001B[0m \u001B[0;34m=\u001B[0m \u001B[0;34m[\u001B[0m\u001B[0;34m\"SchoolClass\"\u001B[0m\u001B[0;34m,\u001B[0m \u001B[0;34m\"Intervention\"\u001B[0m\u001B[0;34m,\u001B[0m \u001B[0;34m\"InfluenceAgents\"\u001B[0m\u001B[0;34m]\u001B[0m\u001B[0;34m)\u001B[0m\u001B[0;34m\u001B[0m\u001B[0;34m\u001B[0m\u001B[0m\n\u001B[0;32m---> 89\u001B[0;31m         \u001B[0mdf_agents\u001B[0m\u001B[0;34m.\u001B[0m\u001B[0mto_excel\u001B[0m\u001B[0;34m(\u001B[0m\u001B[0;34m'../output/selectedAgents/selected_agents_'\u001B[0m\u001B[0;34m+\u001B[0m \u001B[0mpopulation_name\u001B[0m \u001B[0;34m+\u001B[0m \u001B[0;34m'_'\u001B[0m\u001B[0;34m+\u001B[0m\u001B[0mstr\u001B[0m\u001B[0;34m(\u001B[0m\u001B[0mthreshold\u001B[0m\u001B[0;34m)\u001B[0m \u001B[0;34m+\u001B[0m \u001B[0;34m'_'\u001B[0m\u001B[0;34m+\u001B[0m\u001B[0mstr\u001B[0m\u001B[0;34m(\u001B[0m\u001B[0mipa\u001B[0m\u001B[0;34m)\u001B[0m \u001B[0;34m+\u001B[0m\u001B[0;34m'.xlsx'\u001B[0m\u001B[0;34m)\u001B[0m\u001B[0;34m\u001B[0m\u001B[0;34m\u001B[0m\u001B[0m\n\u001B[0m\u001B[1;32m     90\u001B[0m \u001B[0;34m\u001B[0m\u001B[0m\n\u001B[1;32m     91\u001B[0m \u001B[0;34m\u001B[0m\u001B[0m\n",
      "\u001B[0;32m/opt/anaconda3/lib/python3.8/site-packages/pandas/core/generic.py\u001B[0m in \u001B[0;36mto_excel\u001B[0;34m(self, excel_writer, sheet_name, na_rep, float_format, columns, header, index, index_label, startrow, startcol, engine, merge_cells, encoding, inf_rep, verbose, freeze_panes)\u001B[0m\n\u001B[1;32m   2024\u001B[0m             \u001B[0minf_rep\u001B[0m\u001B[0;34m=\u001B[0m\u001B[0minf_rep\u001B[0m\u001B[0;34m,\u001B[0m\u001B[0;34m\u001B[0m\u001B[0;34m\u001B[0m\u001B[0m\n\u001B[1;32m   2025\u001B[0m         )\n\u001B[0;32m-> 2026\u001B[0;31m         formatter.write(\n\u001B[0m\u001B[1;32m   2027\u001B[0m             \u001B[0mexcel_writer\u001B[0m\u001B[0;34m,\u001B[0m\u001B[0;34m\u001B[0m\u001B[0;34m\u001B[0m\u001B[0m\n\u001B[1;32m   2028\u001B[0m             \u001B[0msheet_name\u001B[0m\u001B[0;34m=\u001B[0m\u001B[0msheet_name\u001B[0m\u001B[0;34m,\u001B[0m\u001B[0;34m\u001B[0m\u001B[0;34m\u001B[0m\u001B[0m\n",
      "\u001B[0;32m/opt/anaconda3/lib/python3.8/site-packages/pandas/io/formats/excel.py\u001B[0m in \u001B[0;36mwrite\u001B[0;34m(self, writer, sheet_name, startrow, startcol, freeze_panes, engine)\u001B[0m\n\u001B[1;32m    740\u001B[0m         )\n\u001B[1;32m    741\u001B[0m         \u001B[0;32mif\u001B[0m \u001B[0mneed_save\u001B[0m\u001B[0;34m:\u001B[0m\u001B[0;34m\u001B[0m\u001B[0;34m\u001B[0m\u001B[0m\n\u001B[0;32m--> 742\u001B[0;31m             \u001B[0mwriter\u001B[0m\u001B[0;34m.\u001B[0m\u001B[0msave\u001B[0m\u001B[0;34m(\u001B[0m\u001B[0;34m)\u001B[0m\u001B[0;34m\u001B[0m\u001B[0;34m\u001B[0m\u001B[0m\n\u001B[0m",
      "\u001B[0;32m/opt/anaconda3/lib/python3.8/site-packages/pandas/io/excel/_xlsxwriter.py\u001B[0m in \u001B[0;36msave\u001B[0;34m(self)\u001B[0m\n\u001B[1;32m    191\u001B[0m         \u001B[0mSave\u001B[0m \u001B[0mworkbook\u001B[0m \u001B[0mto\u001B[0m \u001B[0mdisk\u001B[0m\u001B[0;34m.\u001B[0m\u001B[0;34m\u001B[0m\u001B[0;34m\u001B[0m\u001B[0m\n\u001B[1;32m    192\u001B[0m         \"\"\"\n\u001B[0;32m--> 193\u001B[0;31m         \u001B[0;32mreturn\u001B[0m \u001B[0mself\u001B[0m\u001B[0;34m.\u001B[0m\u001B[0mbook\u001B[0m\u001B[0;34m.\u001B[0m\u001B[0mclose\u001B[0m\u001B[0;34m(\u001B[0m\u001B[0;34m)\u001B[0m\u001B[0;34m\u001B[0m\u001B[0;34m\u001B[0m\u001B[0m\n\u001B[0m\u001B[1;32m    194\u001B[0m \u001B[0;34m\u001B[0m\u001B[0m\n\u001B[1;32m    195\u001B[0m     def write_cells(\n",
      "\u001B[0;32m/opt/anaconda3/lib/python3.8/site-packages/xlsxwriter/workbook.py\u001B[0m in \u001B[0;36mclose\u001B[0;34m(self)\u001B[0m\n\u001B[1;32m    320\u001B[0m                 \u001B[0mself\u001B[0m\u001B[0;34m.\u001B[0m\u001B[0m_store_workbook\u001B[0m\u001B[0;34m(\u001B[0m\u001B[0;34m)\u001B[0m\u001B[0;34m\u001B[0m\u001B[0;34m\u001B[0m\u001B[0m\n\u001B[1;32m    321\u001B[0m             \u001B[0;32mexcept\u001B[0m \u001B[0mIOError\u001B[0m \u001B[0;32mas\u001B[0m \u001B[0me\u001B[0m\u001B[0;34m:\u001B[0m\u001B[0;34m\u001B[0m\u001B[0;34m\u001B[0m\u001B[0m\n\u001B[0;32m--> 322\u001B[0;31m                 \u001B[0;32mraise\u001B[0m \u001B[0mFileCreateError\u001B[0m\u001B[0;34m(\u001B[0m\u001B[0me\u001B[0m\u001B[0;34m)\u001B[0m\u001B[0;34m\u001B[0m\u001B[0;34m\u001B[0m\u001B[0m\n\u001B[0m\u001B[1;32m    323\u001B[0m             \u001B[0;32mexcept\u001B[0m \u001B[0mLargeZipFile\u001B[0m \u001B[0;32mas\u001B[0m \u001B[0me\u001B[0m\u001B[0;34m:\u001B[0m\u001B[0;34m\u001B[0m\u001B[0;34m\u001B[0m\u001B[0m\n\u001B[1;32m    324\u001B[0m                 raise FileSizeError(\"Filesize would require ZIP64 extensions. \"\n",
      "\u001B[0;31mFileCreateError\u001B[0m: [Errno 2] No such file or directory: '../output/selectedAgents/selected_agents_communication_1.0_0.001.xlsx'"
     ]
    }
   ],
   "source": [
    "# Run simulations for each parameter combination\n",
    "list_results_comm = []\n",
    "list_results_avg_comm = []\n",
    "list_agents_per_intervention_comm = []\n",
    "start_whole = time.time()\n",
    "count = 0\n",
    "for index, row in pars_communication.iterrows():\n",
    "    results_comm, results_avg_comm, agents_per_intervention_comm = simulation.simulate_interventions(700,'communication',row['threshold'],row['ipa'])\n",
    "    list_results_comm.append(results_comm)\n",
    "    list_results_avg_comm.append(results_avg_comm)\n",
    "    list_agents_per_intervention_comm.append(agents_per_intervention_comm)\n",
    "    end = time.time()\n",
    "    print(count, row['threshold'], row['ipa'], \"Time elapsed:\", end - start_whole, ' seconds')\n",
    "    count = count + 1"
   ]
  },
  {
   "cell_type": "markdown",
   "metadata": {},
   "source": [
    "# Ploting the outcomes"
   ]
  },
  {
   "cell_type": "markdown",
   "metadata": {
    "pycharm": {
     "name": "#%% md\n"
    }
   },
   "source": [
    "## Postprocessing output"
   ]
  },
  {
   "cell_type": "code",
   "execution_count": null,
   "metadata": {
    "collapsed": false,
    "jupyter": {
     "outputs_hidden": false
    },
    "pycharm": {
     "name": "#%%\n"
    }
   },
   "outputs": [],
   "source": [
    "# Step1: create a list per run of overall mean PAL\n",
    "\n",
    "# Nomination network\n",
    "list_results_mean_nom = []\n",
    "for run in range(len(list_results_avg_nomm)):\n",
    "    # per run mean of all classes\n",
    "    all_averaged = {}\n",
    "    for i in input_args['intervention_strategy']:\n",
    "        temp_res = pd.Series([], dtype = float)\n",
    "        counter = 0\n",
    "        for class_id,res in list_results_avg_nomm[run].items():\n",
    "            temp_res = temp_res.add(list_results_avg_nomm[run][class_id][i],fill_value=0)\n",
    "            counter = counter + 1\n",
    "        all_averaged[i] = temp_res/counter\n",
    "\n",
    "    list_results_mean_nom.append(all_averaged)\n",
    "\n",
    "\n",
    "\n",
    "# Communication network\n",
    "list_results_mean_com = []\n",
    "for run in range(len(list_results_avg_comm)):\n",
    "    # per run mean of all classes\n",
    "    all_averaged = {}\n",
    "    for i in input_args['intervention_strategy']:\n",
    "        temp_res = pd.Series([], dtype = float)\n",
    "        counter = 0\n",
    "        for class_id,res in list_results_avg_comm[run].items():\n",
    "            temp_res = temp_res.add(list_results_avg_comm[run][class_id][i],fill_value=0)\n",
    "            counter = counter + 1\n",
    "        all_averaged[i] = temp_res/counter\n",
    "\n",
    "    list_results_mean_com.append(all_averaged)\n"
   ]
  },
  {
   "cell_type": "code",
   "execution_count": null,
   "metadata": {
    "collapsed": false,
    "jupyter": {
     "outputs_hidden": false
    },
    "pycharm": {
     "name": "#%%\n"
    }
   },
   "outputs": [],
   "source": [
    "# Step2: Creat per intervention a list of 100\n",
    "\n",
    "# Nomination network\n",
    "out_indegree_nom = []\n",
    "out_betweenness_nom = []\n",
    "out_closeness_nom = []\n",
    "\n",
    "for run in range(len(list_results_mean_nom)):\n",
    "    # per run\n",
    "    temp1 = list_results_mean_nom[run]\n",
    "    out_indegree_nom.append(temp1['indegree'])\n",
    "    out_betweenness_nom.append(temp1['betweenness'])\n",
    "    out_closeness_nom.append(temp1['closeness'])\n",
    "\n",
    "\n",
    "# Comunication network\n",
    "out_indegree_com = []\n",
    "out_betweenness_com = []\n",
    "out_closeness_com = []\n",
    "\n",
    "for run in range(len(list_results_mean_com)):\n",
    "    # per run\n",
    "    temp1 = list_results_mean_com[run]\n",
    "    out_indegree_com.append(temp1['indegree'])\n",
    "    out_betweenness_com.append(temp1['betweenness'])\n",
    "    out_closeness_com.append(temp1['closeness'])\n"
   ]
  },
  {
   "cell_type": "code",
   "execution_count": null,
   "metadata": {
    "collapsed": false,
    "jupyter": {
     "outputs_hidden": false
    },
    "pycharm": {
     "name": "#%%\n"
    }
   },
   "outputs": [],
   "source": [
    "# Step3: calculate mean and percentiles\n",
    "\n",
    "# list into dataframe\n",
    "\n",
    "# Nomination network\n",
    "results_nom_indegree = pd.concat(out_indegree_nom, axis=1, keys=[s.name for s in out_indegree_nom])\n",
    "results_nom_betweenness = pd.concat(out_betweenness_nom, axis=1, keys=[s.name for s in out_betweenness_nom])\n",
    "results_nom_closeness = pd.concat(out_closeness_nom, axis=1, keys=[s.name for s in out_closeness_nom])\n",
    "\n",
    "# indegree\n",
    "i_nom = results_nom_indegree.mean(axis=1)\n",
    "i_nom_min = results_nom_indegree.quantile(q=0.025, axis=1)\n",
    "i_nom_max = results_nom_indegree.quantile(q=0.975, axis=1)\n",
    "\n",
    "# betweenness\n",
    "b_nom = results_nom_betweenness.mean(axis=1)\n",
    "b_nom_min = results_nom_betweenness.quantile(q=0.025, axis=1)\n",
    "b_nom_max = results_nom_betweenness.quantile(q=0.975, axis=1)\n",
    "\n",
    "# closeness\n",
    "c_nom = results_nom_closeness.mean(axis=1)\n",
    "c_nom_min = results_nom_closeness.quantile(q=0.025, axis=1)\n",
    "c_nom_max = results_nom_closeness.quantile(q=0.975, axis=1)\n",
    "\n",
    "\n",
    "# Comunication network\n",
    "results_com_indegree = pd.concat(out_indegree_com, axis=1, keys=[s.name for s in out_indegree_com])\n",
    "results_com_betweenness = pd.concat(out_betweenness_com, axis=1, keys=[s.name for s in out_betweenness_com])\n",
    "results_com_closeness = pd.concat(out_closeness_com, axis=1, keys=[s.name for s in out_closeness_com])\n",
    "\n",
    "# indegree\n",
    "i_com = results_com_indegree.mean(axis=1)\n",
    "i_com_min = results_com_indegree.quantile(q=0.025, axis=1)\n",
    "i_com_max = results_com_indegree.quantile(q=0.975, axis=1)\n",
    "\n",
    "# betweenness\n",
    "b_com = results_com_betweenness.mean(axis=1)\n",
    "b_com_min = results_com_betweenness.quantile(q=0.025, axis=1)\n",
    "b_com_max = results_com_betweenness.quantile(q=0.975, axis=1)\n",
    "\n",
    "# closeness\n",
    "c_com = results_com_closeness.mean(axis=1)\n",
    "c_com_min = results_com_closeness.quantile(q=0.025, axis=1)\n",
    "c_com_max = results_com_closeness.quantile(q=0.975, axis=1)"
   ]
  },
  {
   "cell_type": "code",
   "execution_count": null,
   "metadata": {
    "collapsed": false,
    "jupyter": {
     "outputs_hidden": false
    },
    "pycharm": {
     "name": "#%%\n"
    }
   },
   "outputs": [],
   "source": [
    "# Success rate (only mean)\n",
    "\n",
    "# Nomination network\n",
    "i_nom_sr = (i_nom/i_nom[0] -1) *100\n",
    "i_nom_sr_min = (i_nom_min/i_nom_min[0] -1) *100\n",
    "i_nom_sr_max = (i_nom_max/i_nom_max[0] -1) *100\n",
    "b_nom_sr = (b_nom/b_nom[0] -1) *100\n",
    "b_nom_sr_min = (b_nom_min/b_nom_min[0] -1) *100\n",
    "b_nom_sr_max = (b_nom_max/b_nom_max[0] -1) *100\n",
    "c_nom_sr = (c_nom/c_nom[0] -1) *100\n",
    "c_nom_sr_min = (c_nom_min/c_nom_min[0] -1) *100\n",
    "c_nom_sr_max = (c_nom_max/c_nom_max[0] -1) *100\n",
    "\n",
    "# Communication network\n",
    "i_com_sr = (i_com/i_com[0] -1) *100\n",
    "i_com_sr_min = (i_com_min/i_com_min[0] -1) *100\n",
    "i_com_sr_max = (i_com_max/i_com_max[0] -1) *100\n",
    "b_com_sr = (b_com/b_com[0] -1) *100\n",
    "b_com_sr_min = (b_com_min/b_com_min[0] -1) *100\n",
    "b_com_sr_max = (b_com_max/b_com_max[0] -1) *100\n",
    "c_com_sr = (c_com/c_com[0] -1) *100\n",
    "c_com_sr_min = (c_com_min/c_com_min[0] -1) *100\n",
    "c_com_sr_max = (c_com_max/c_com_max[0] -1) *100\n"
   ]
  },
  {
   "cell_type": "code",
   "execution_count": null,
   "metadata": {
    "collapsed": false,
    "jupyter": {
     "outputs_hidden": false
    },
    "pycharm": {
     "name": "#%%\n"
    }
   },
   "outputs": [],
   "source": [
    "# Plots (with confidence intervals)\n",
    "ticks = np.arange(1.40, 1.60, 0.01)\n",
    "x = np.arange(0,700,1)\n",
    "\n",
    "fig, (ax1, ax2) = plt.subplots(1, 2, figsize=(15,10))\n",
    "\n",
    "ax1.set_title('Nomination network')\n",
    "ax1.set_ylim([1.4, 1.55])\n",
    "ax1.plot(x, i_nom, color='green')\n",
    "#plt.fill_between(x, i_nom_min, i_nom_max, alpha=0.2, color='C5')\n",
    "ax1.plot(x, b_nom, color='blue')\n",
    "#plt.fill_between(x, b_nom_min, b_nom_max, alpha=0.2, color='C0')\n",
    "ax1.plot(x, c_nom, color='orange')\n",
    "#plt.fill_between(x, c_nom_min, c_nom_max, alpha=0.2, color='C3')\n",
    "\n",
    "ax2.set_title('Communication network')\n",
    "ax2.set_ylim([1.4, 1.55])\n",
    "ax2.plot(x, i_com, color='green')\n",
    "#plt.fill_between(x, i_com_min, i_com_max, alpha=0.2, color='C5')\n",
    "ax2.plot(x, b_com, color='blue')\n",
    "#plt.fill_between(x, b_com_min, b_com_max, alpha=0.2, color='C0')\n",
    "ax2.plot(x, c_com, color='orange')\n",
    "#plt.fill_between(x, c_com_min, c_com_max, alpha=0.2, color='C3')\n",
    "ax2.legend(['In-degree', 'Betweenness', 'Closeness'], loc='lower right', title=\"Network interventions\")\n",
    "\n",
    "#fig.figsize=((16,14))\n",
    "#plt.axis(xmin=0,xmax=700,ymin=1.4,ymax=1.6)\n",
    "#plt.yticks(ticks)\n",
    "#plt.ylabel('Mean physical activity level')\n",
    "#plt.xlabel('Days')\n",
    "#plt.legend(['In-Degree', 'Betweenness', 'Closeness'], loc='lower right', title=\"Network interventions\")\n",
    "\n",
    "fig.savefig('../output/sim_results1.eps', bbox_inches='tight', format='eps', dpi=1000)\n"
   ]
  },
  {
   "cell_type": "code",
   "execution_count": null,
   "metadata": {
    "collapsed": false,
    "jupyter": {
     "outputs_hidden": false
    },
    "pycharm": {
     "name": "#%%\n"
    }
   },
   "outputs": [],
   "source": [
    "# confidence intervals at day 700\n",
    "print('nom i:', i_nom_sr[699], 'b:', b_nom_sr[699], 'c: ', c_nom_sr[699])\n",
    "print('nom min i:', i_nom_sr_min[699], 'b:', b_nom_sr_min[699], 'c: ', c_nom_sr_min[699])\n",
    "print('nom max i:', i_nom_sr_max[699], 'b:', b_nom_sr_max[699], 'c: ', c_nom_sr_max[699])\n",
    "\n",
    "print('com i:', i_com_sr[699], 'b:', b_com_sr[699], 'c: ', c_com_sr[699])\n",
    "print('com min i:', i_com_sr_min[699], 'b:', b_com_sr_min[699], 'c: ', c_com_sr_min[699])\n",
    "print('com max i:', i_com_sr_max[699], 'b:', b_com_sr_max[699], 'c: ', c_com_sr_max[699])"
   ]
  },
  {
   "cell_type": "code",
   "execution_count": null,
   "metadata": {
    "collapsed": false,
    "jupyter": {
     "outputs_hidden": false
    },
    "pycharm": {
     "name": "#%%\n"
    }
   },
   "outputs": [],
   "source": [
    "c_com_sr"
   ]
  },
  {
   "cell_type": "code",
   "execution_count": null,
   "metadata": {
    "collapsed": false,
    "jupyter": {
     "outputs_hidden": false
    },
    "pycharm": {
     "name": "#%%\n"
    }
   },
   "outputs": [],
   "source": [
    "# Plots (without confidence intervals)\n",
    "ticks = np.arange(1.40, 1.60, 0.01)\n",
    "x = np.arange(0,700,1)\n",
    "\n",
    "fig, (ax1, ax2) = plt.subplots(1, 2, figsize=(10,7))\n",
    "\n",
    "ax1.set_title('Nomination network')\n",
    "ax1.set_xlabel('Days')\n",
    "ax1.set_ylabel('Impact on physical activity level (%)')\n",
    "ax1.set_ylim([0, 10])\n",
    "ax1.plot(x, i_nom_sr, color='green')\n",
    "ax1.plot(x, b_nom_sr, color='blue')\n",
    "ax1.plot(x, c_nom_sr, color='orange')\n",
    "\n",
    "ax2.set_title('Communication network')\n",
    "ax2.set_xlabel('Days')\n",
    "ax2.set_ylabel('Impact on physical activity level (%)')\n",
    "ax2.set_ylim([0, 10])\n",
    "ax2.plot(x, i_com_sr, color='green')\n",
    "ax2.plot(x, b_com_sr, color='blue')\n",
    "ax2.plot(x, c_com_sr, color='orange')\n",
    "ax2.legend(['In-degree', 'Betweenness', 'Closeness'], loc='lower right', title=\"Network interventions\")\n",
    "\n",
    "fig.savefig('../output/sim_results2.eps', bbox_inches='tight', format='eps', dpi=1000)\n"
   ]
  },
  {
   "cell_type": "markdown",
   "metadata": {
    "pycharm": {
     "name": "#%% md\n"
    }
   },
   "source": [
    "# Variation at day 700"
   ]
  },
  {
   "cell_type": "code",
   "execution_count": null,
   "metadata": {
    "collapsed": false,
    "jupyter": {
     "outputs_hidden": false
    },
    "pycharm": {
     "name": "#%%\n"
    }
   },
   "outputs": [],
   "source": [
    "nom_var = {'In-degree': (results_nom_indegree.iloc[699]/results_nom_indegree.iloc[0] -1) *100,\n",
    "           'Betweenness': (results_nom_betweenness.iloc[699]/results_nom_betweenness.iloc[0] -1) *100,\n",
    "           'Closeness': (results_nom_closeness.iloc[699]/results_nom_closeness.iloc[0] -1) *100}\n",
    "\n",
    "com_var = {'In-degree': (results_com_indegree.iloc[699]/results_com_indegree.iloc[0] -1) *100,\n",
    "           'Betweenness': (results_com_betweenness.iloc[699]/results_com_betweenness.iloc[0] -1) *100,\n",
    "           'Closeness': (results_com_closeness.iloc[699]/results_com_closeness.iloc[0] -1) *100}\n"
   ]
  },
  {
   "cell_type": "code",
   "execution_count": null,
   "metadata": {
    "collapsed": false,
    "jupyter": {
     "outputs_hidden": false
    },
    "pycharm": {
     "name": "#%%\n"
    }
   },
   "outputs": [],
   "source": [
    "fig, (ax1, ax2) = plt.subplots(1, 2, figsize=(10,10))\n",
    "\n",
    "ax1.set_title('Nomination network')\n",
    "ax1.set_ylabel('PAL success rate (%)')\n",
    "ax1.set_ylim([0, 10])\n",
    "ax1.boxplot(nom_var.values())\n",
    "ax1.set_xticklabels(nom_var.keys())\n",
    "\n",
    "\n",
    "ax2.set_title('Communication network')\n",
    "ax2.set_ylabel('PAL success rate (%)')\n",
    "ax2.set_ylim([0, 10])\n",
    "ax2.boxplot(com_var.values())\n",
    "ax2.set_xticklabels(com_var.keys())\n",
    "#ax2.legend(['In-degree', 'Betweenness', 'Closeness'], loc='lower right', title=\"Network interventions\")\n",
    "\n",
    "fig.savefig('../output/sim_results3.eps', bbox_inches='tight', format='eps', dpi=1000)\n"
   ]
  },
  {
   "cell_type": "markdown",
   "source": [
    "# Variation at between classes"
   ],
   "metadata": {
    "collapsed": false
   }
  },
  {
   "cell_type": "code",
   "execution_count": null,
   "metadata": {
    "collapsed": false,
    "jupyter": {
     "outputs_hidden": false
    },
    "pycharm": {
     "name": "#%%\n"
    }
   },
   "outputs": [],
   "source": [
    "\n",
    "# Nomination network\n",
    "all_averaged_nomm = {}\n",
    "for class_id in input_args['classes']:\n",
    "    all_averaged_nomm[str(class_id)] = {}\n",
    "    for i in  ['betweenness','closeness','indegree']:\n",
    "        temp_res = pd.Series([], dtype = float)\n",
    "        count_res = 0\n",
    "        for res_avg in list_results_avg_nomm:\n",
    "            temp_res = temp_res.add(res_avg[str(class_id)][i],fill_value=0)\n",
    "            count_res = count_res + 1\n",
    "        all_averaged_nomm[str(class_id)][i] = temp_res/count_res\n",
    "\n",
    "# Communication network\n",
    "all_averaged_comm = {}\n",
    "for class_id in input_args['classes']:\n",
    "    all_averaged_comm[str(class_id)] = {}\n",
    "    for i in  ['betweenness','closeness','indegree']:\n",
    "        temp_res = pd.Series([], dtype = float)\n",
    "        count_res = 0\n",
    "        for res_avg in list_results_avg_comm:\n",
    "            temp_res = temp_res.add(res_avg[str(class_id)][i],fill_value=0)\n",
    "            count_res = count_res + 1\n",
    "        all_averaged_comm[str(class_id)][i] = temp_res/count_res"
   ]
  },
  {
   "cell_type": "code",
   "execution_count": null,
   "metadata": {
    "collapsed": false,
    "jupyter": {
     "outputs_hidden": false
    },
    "pycharm": {
     "name": "#%%\n"
    }
   },
   "outputs": [],
   "source": [
    "\n",
    "# Nomination network\n",
    "class_indegree_nom = []\n",
    "class_betweenness_nom = []\n",
    "class_closeness_nom = []\n",
    "\n",
    "for c in input_args['classes']:\n",
    "    # per run\n",
    "    temp1 = all_averaged_nomm[str(c)]\n",
    "    class_indegree_nom.append(temp1['indegree'])\n",
    "    class_betweenness_nom.append(temp1['betweenness'])\n",
    "    class_closeness_nom.append(temp1['closeness'])\n",
    "\n",
    "# Communication network\n",
    "class_indegree_com = []\n",
    "class_betweenness_com = []\n",
    "class_closeness_com = []\n",
    "\n",
    "for c in input_args['classes']:\n",
    "    # per run\n",
    "    temp1 = all_averaged_comm[str(c)]\n",
    "    class_indegree_com.append(temp1['indegree'])\n",
    "    class_betweenness_com.append(temp1['betweenness'])\n",
    "    class_closeness_com.append(temp1['closeness'])"
   ]
  },
  {
   "cell_type": "code",
   "execution_count": null,
   "metadata": {
    "collapsed": false,
    "jupyter": {
     "outputs_hidden": false
    },
    "pycharm": {
     "name": "#%%\n"
    }
   },
   "outputs": [],
   "source": [
    "# Comunication network\n",
    "pd_class_indegree_nom = pd.concat(class_indegree_nom, axis=1, keys=[s.name for s in class_indegree_nom])\n",
    "pd_class_betweenness_nom = pd.concat(class_betweenness_nom, axis=1, keys=[s.name for s in class_betweenness_nom])\n",
    "pd_class_closeness_nom = pd.concat(class_closeness_nom, axis=1, keys=[s.name for s in class_closeness_nom])"
   ]
  },
  {
   "cell_type": "code",
   "execution_count": null,
   "metadata": {
    "collapsed": false,
    "jupyter": {
     "outputs_hidden": false
    },
    "pycharm": {
     "name": "#%%\n"
    }
   },
   "outputs": [],
   "source": [
    "# Comunication network\n",
    "pd_class_indegree_com = pd.concat(class_indegree_com, axis=1, keys=[s.name for s in class_indegree_com])\n",
    "pd_class_betweenness_com = pd.concat(class_betweenness_com, axis=1, keys=[s.name for s in class_betweenness_com])\n",
    "pd_class_closeness_com = pd.concat(class_closeness_com, axis=1, keys=[s.name for s in class_closeness_com])\n",
    "\n"
   ]
  },
  {
   "cell_type": "code",
   "execution_count": null,
   "metadata": {
    "collapsed": false,
    "jupyter": {
     "outputs_hidden": false
    },
    "pycharm": {
     "name": "#%%\n"
    }
   },
   "outputs": [],
   "source": [
    "nom_clvar = {'In-degree': (pd_class_indegree_nom.iloc[699]/pd_class_indegree_nom.iloc[0] -1) *100,\n",
    "           'Betweenness': (pd_class_betweenness_nom.iloc[699]/pd_class_betweenness_nom.iloc[0] -1) *100,\n",
    "           'Closeness': (pd_class_closeness_nom.iloc[699]/pd_class_closeness_nom.iloc[0] -1) *100}\n",
    "\n",
    "com_clvar = {'In-degree': (pd_class_indegree_com.iloc[699]/pd_class_indegree_com.iloc[0] -1) *100,\n",
    "           'Betweenness': (pd_class_betweenness_com.iloc[699]/pd_class_betweenness_com.iloc[0] -1) *100,\n",
    "           'Closeness': (pd_class_closeness_com.iloc[699]/pd_class_closeness_com.iloc[0] -1) *100}\n",
    "\n"
   ]
  },
  {
   "cell_type": "code",
   "execution_count": null,
   "metadata": {
    "collapsed": false,
    "jupyter": {
     "outputs_hidden": false
    },
    "pycharm": {
     "name": "#%%\n"
    }
   },
   "outputs": [],
   "source": [
    "fig, (ax1, ax2) = plt.subplots(1, 2, figsize=(10,5))\n",
    "\n",
    "ax1.set_title('Nomination network')\n",
    "ax1.set_ylabel('Impact on phyisical activity level (%)')\n",
    "ax1.set_ylim([0, 18])\n",
    "ax1.boxplot(nom_clvar.values())\n",
    "ax1.set_xticklabels(nom_clvar.keys())\n",
    "\n",
    "\n",
    "ax2.set_title('Communication network')\n",
    "ax2.set_ylabel('Impact on phyisical activity level (%)')\n",
    "ax2.set_ylim([0, 18])\n",
    "ax2.boxplot(com_clvar.values())\n",
    "ax2.set_xticklabels(com_clvar.keys())\n",
    "#ax2.legend(['In-degree', 'Betweenness', 'Closeness'], loc='lower right', title=\"Network interventions\")\n",
    "\n",
    "\n",
    "fig.savefig('../output/sim_results4.eps', bbox_inches='tight', format='eps', dpi=1000)\n",
    "\n"
   ]
  },
  {
   "cell_type": "code",
   "execution_count": null,
   "metadata": {
    "collapsed": false,
    "jupyter": {
     "outputs_hidden": false
    },
    "pycharm": {
     "name": "#%%\n"
    }
   },
   "outputs": [],
   "source": [
    "i_nom_bp = (pd_class_indegree_nom.iloc[699]/pd_class_indegree_nom.iloc[0] -1) *100\n",
    "b_nom_bp = (pd_class_betweenness_nom.iloc[699]/pd_class_betweenness_nom.iloc[0] -1) *100\n",
    "c_nom_bp =  (pd_class_closeness_nom.iloc[699]/pd_class_closeness_nom.iloc[0] -1) *100\n",
    "\n",
    "i_com_bp = (pd_class_indegree_com.iloc[699]/pd_class_indegree_com.iloc[0] -1) *100\n",
    "b_com_bp = (pd_class_betweenness_com.iloc[699]/pd_class_betweenness_com.iloc[0] -1) *100\n",
    "c_com_bp = (pd_class_closeness_com.iloc[699]/pd_class_closeness_com.iloc[0] -1) *100"
   ]
  },
  {
   "cell_type": "code",
   "execution_count": null,
   "metadata": {
    "collapsed": false,
    "jupyter": {
     "outputs_hidden": false
    },
    "pycharm": {
     "name": "#%%\n"
    }
   },
   "outputs": [],
   "source": [
    "com_clvar\n"
   ]
  },
  {
   "cell_type": "code",
   "execution_count": null,
   "metadata": {
    "collapsed": false,
    "jupyter": {
     "outputs_hidden": false
    },
    "pycharm": {
     "name": "#%%\n"
    }
   },
   "outputs": [],
   "source": [
    "nom_clvar"
   ]
  }
 ],
 "metadata": {
  "kernelspec": {
   "display_name": "Python 3",
   "language": "python",
   "name": "python3"
  },
  "language_info": {
   "codemirror_mode": {
    "name": "ipython",
    "version": 3
   },
   "file_extension": ".py",
   "mimetype": "text/x-python",
   "name": "python",
   "nbconvert_exporter": "python",
   "pygments_lexer": "ipython3",
   "version": "3.8.8"
  }
 },
 "nbformat": 4,
 "nbformat_minor": 4
}