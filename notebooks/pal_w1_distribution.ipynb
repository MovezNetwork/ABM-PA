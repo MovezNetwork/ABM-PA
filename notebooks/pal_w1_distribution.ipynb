{
 "cells": [
  {
   "cell_type": "code",
   "execution_count": 9,
   "metadata": {
    "collapsed": false,
    "jupyter": {
     "outputs_hidden": false
    },
    "pycharm": {
     "name": "#%%\n"
    }
   },
   "outputs": [],
   "source": [
    "import pandas as pd\n",
    "from matplotlib import pyplot\n",
    "from statsmodels.distributions.empirical_distribution import ECDF"
   ]
  },
  {
   "cell_type": "markdown",
   "metadata": {
    "pycharm": {
     "name": "#%% md\n"
    }
   },
   "source": [
    "# Distribution of PAL in Wave 1\n",
    "\n",
    "## PAL per child"
   ]
  },
  {
   "cell_type": "code",
   "execution_count": 10,
   "metadata": {
    "collapsed": false,
    "jupyter": {
     "outputs_hidden": false
    },
    "pycharm": {
     "name": "#%%\n"
    }
   },
   "outputs": [],
   "source": [
    "fitbit_new = pd.read_csv('../data/Fitbit_Imputation_FINAL.csv', sep=';', header=0)\n",
    "steps_mean_wave_new = fitbit_new.groupby(['Child', 'Wave']).mean()['Steps'].reset_index()\n",
    "steps_mean_wave_new.Steps = steps_mean_wave_new.Steps * 0.000153\n",
    "steps_mean_wave_new = steps_mean_wave_new.pivot(index='Child', columns='Wave')['Steps']"
   ]
  },
  {
   "cell_type": "code",
   "execution_count": 11,
   "metadata": {
    "collapsed": false,
    "jupyter": {
     "outputs_hidden": false
    },
    "pycharm": {
     "name": "#%%\n"
    }
   },
   "outputs": [
    {
     "data": {
      "text/html": [
       "<div>\n",
       "<style scoped>\n",
       "    .dataframe tbody tr th:only-of-type {\n",
       "        vertical-align: middle;\n",
       "    }\n",
       "\n",
       "    .dataframe tbody tr th {\n",
       "        vertical-align: top;\n",
       "    }\n",
       "\n",
       "    .dataframe thead th {\n",
       "        text-align: right;\n",
       "    }\n",
       "</style>\n",
       "<table border=\"1\" class=\"dataframe\">\n",
       "  <thead>\n",
       "    <tr style=\"text-align: right;\">\n",
       "      <th>Wave</th>\n",
       "      <th>1</th>\n",
       "      <th>2</th>\n",
       "      <th>3</th>\n",
       "      <th>4</th>\n",
       "      <th>5</th>\n",
       "      <th>6</th>\n",
       "      <th>7</th>\n",
       "    </tr>\n",
       "  </thead>\n",
       "  <tbody>\n",
       "    <tr>\n",
       "      <th>count</th>\n",
       "      <td>926.000000</td>\n",
       "      <td>928.000000</td>\n",
       "      <td>927.000000</td>\n",
       "      <td>929.000000</td>\n",
       "      <td>1028.000000</td>\n",
       "      <td>782.000000</td>\n",
       "      <td>782.000000</td>\n",
       "    </tr>\n",
       "    <tr>\n",
       "      <th>mean</th>\n",
       "      <td>1.402477</td>\n",
       "      <td>1.534053</td>\n",
       "      <td>1.590081</td>\n",
       "      <td>1.436387</td>\n",
       "      <td>1.337196</td>\n",
       "      <td>1.610850</td>\n",
       "      <td>1.444116</td>\n",
       "    </tr>\n",
       "    <tr>\n",
       "      <th>std</th>\n",
       "      <td>0.525666</td>\n",
       "      <td>0.584990</td>\n",
       "      <td>0.600745</td>\n",
       "      <td>0.566656</td>\n",
       "      <td>0.529620</td>\n",
       "      <td>0.652722</td>\n",
       "      <td>0.602641</td>\n",
       "    </tr>\n",
       "    <tr>\n",
       "      <th>min</th>\n",
       "      <td>0.188904</td>\n",
       "      <td>0.153000</td>\n",
       "      <td>0.153000</td>\n",
       "      <td>0.153000</td>\n",
       "      <td>0.153000</td>\n",
       "      <td>0.200481</td>\n",
       "      <td>0.153000</td>\n",
       "    </tr>\n",
       "    <tr>\n",
       "      <th>25%</th>\n",
       "      <td>1.029907</td>\n",
       "      <td>1.119218</td>\n",
       "      <td>1.194089</td>\n",
       "      <td>1.030429</td>\n",
       "      <td>0.973689</td>\n",
       "      <td>1.167224</td>\n",
       "      <td>1.036403</td>\n",
       "    </tr>\n",
       "    <tr>\n",
       "      <th>50%</th>\n",
       "      <td>1.358293</td>\n",
       "      <td>1.498252</td>\n",
       "      <td>1.512762</td>\n",
       "      <td>1.395054</td>\n",
       "      <td>1.286317</td>\n",
       "      <td>1.544003</td>\n",
       "      <td>1.405549</td>\n",
       "    </tr>\n",
       "    <tr>\n",
       "      <th>75%</th>\n",
       "      <td>1.691782</td>\n",
       "      <td>1.915246</td>\n",
       "      <td>1.928030</td>\n",
       "      <td>1.783266</td>\n",
       "      <td>1.685230</td>\n",
       "      <td>1.999175</td>\n",
       "      <td>1.808830</td>\n",
       "    </tr>\n",
       "    <tr>\n",
       "      <th>max</th>\n",
       "      <td>3.436686</td>\n",
       "      <td>4.013129</td>\n",
       "      <td>4.065149</td>\n",
       "      <td>3.432912</td>\n",
       "      <td>3.606312</td>\n",
       "      <td>3.947655</td>\n",
       "      <td>4.026578</td>\n",
       "    </tr>\n",
       "  </tbody>\n",
       "</table>\n",
       "</div>"
      ],
      "text/plain": [
       "Wave            1           2           3           4            5  \\\n",
       "count  926.000000  928.000000  927.000000  929.000000  1028.000000   \n",
       "mean     1.402477    1.534053    1.590081    1.436387     1.337196   \n",
       "std      0.525666    0.584990    0.600745    0.566656     0.529620   \n",
       "min      0.188904    0.153000    0.153000    0.153000     0.153000   \n",
       "25%      1.029907    1.119218    1.194089    1.030429     0.973689   \n",
       "50%      1.358293    1.498252    1.512762    1.395054     1.286317   \n",
       "75%      1.691782    1.915246    1.928030    1.783266     1.685230   \n",
       "max      3.436686    4.013129    4.065149    3.432912     3.606312   \n",
       "\n",
       "Wave            6           7  \n",
       "count  782.000000  782.000000  \n",
       "mean     1.610850    1.444116  \n",
       "std      0.652722    0.602641  \n",
       "min      0.200481    0.153000  \n",
       "25%      1.167224    1.036403  \n",
       "50%      1.544003    1.405549  \n",
       "75%      1.999175    1.808830  \n",
       "max      3.947655    4.026578  "
      ]
     },
     "execution_count": 11,
     "metadata": {},
     "output_type": "execute_result"
    }
   ],
   "source": [
    "steps_mean_wave_new.describe()"
   ]
  },
  {
   "cell_type": "code",
   "execution_count": 12,
   "metadata": {
    "collapsed": false,
    "jupyter": {
     "outputs_hidden": false
    },
    "pycharm": {
     "name": "#%%\n"
    }
   },
   "outputs": [
    {
     "data": {
      "text/plain": [
       "Child\n",
       "902     1.614558\n",
       "904     1.414852\n",
       "907     0.598307\n",
       "908     1.782195\n",
       "909     1.534988\n",
       "          ...   \n",
       "4886    1.681215\n",
       "4887    2.513535\n",
       "4888    1.642353\n",
       "4889    2.356557\n",
       "4890    1.612722\n",
       "Name: 1, Length: 926, dtype: float64"
      ]
     },
     "execution_count": 12,
     "metadata": {},
     "output_type": "execute_result"
    }
   ],
   "source": [
    "steps_wave1 = steps_mean_wave_new[1]\n",
    "PAL_wave1 = steps_wave1.dropna()\n",
    "PAL_wave1"
   ]
  },
  {
   "cell_type": "markdown",
   "metadata": {
    "pycharm": {
     "name": "#%% md\n"
    }
   },
   "source": [
    "## Frequency distribution"
   ]
  },
  {
   "cell_type": "code",
   "execution_count": 13,
   "metadata": {
    "collapsed": false,
    "jupyter": {
     "outputs_hidden": false
    },
    "pycharm": {
     "name": "#%%\n"
    }
   },
   "outputs": [
    {
     "data": {
      "text/plain": [
       "(array([ 4.,  2.,  2.,  5.,  9., 15., 14., 15., 17., 25., 34., 40., 54.,\n",
       "        53., 38., 47., 38., 51., 64., 38., 40., 40., 44., 21., 26., 28.,\n",
       "        27., 19., 20., 14., 20.,  5., 10.,  5.,  6.,  8.,  4.,  3.,  5.,\n",
       "         1.,  2.,  2.,  2.,  1.,  3.,  0.,  2.,  1.,  0.,  2.]),\n",
       " array([0.188904  , 0.25385964, 0.31881528, 0.38377092, 0.44872656,\n",
       "        0.5136822 , 0.57863784, 0.64359348, 0.70854912, 0.77350476,\n",
       "        0.8384604 , 0.90341604, 0.96837168, 1.03332732, 1.09828296,\n",
       "        1.1632386 , 1.22819424, 1.29314988, 1.35810552, 1.42306116,\n",
       "        1.4880168 , 1.55297244, 1.61792808, 1.68288372, 1.74783936,\n",
       "        1.812795  , 1.87775064, 1.94270628, 2.00766192, 2.07261756,\n",
       "        2.1375732 , 2.20252884, 2.26748448, 2.33244012, 2.39739576,\n",
       "        2.4623514 , 2.52730704, 2.59226268, 2.65721832, 2.72217396,\n",
       "        2.7871296 , 2.85208524, 2.91704088, 2.98199652, 3.04695216,\n",
       "        3.1119078 , 3.17686344, 3.24181908, 3.30677472, 3.37173036,\n",
       "        3.436686  ]),\n",
       " <BarContainer object of 50 artists>)"
      ]
     },
     "execution_count": 13,
     "metadata": {},
     "output_type": "execute_result"
    },
    {
     "data": {
      "image/png": "[encoded data removed]",
      "text/plain": [
       "<Figure size 432x288 with 1 Axes>"
      ]
     },
     "metadata": {
      "needs_background": "light"
     },
     "output_type": "display_data"
    }
   ],
   "source": [
    "pyplot.hist(PAL_wave1, bins=50)"
   ]
  },
  {
   "cell_type": "markdown",
   "metadata": {
    "pycharm": {
     "name": "#%% md\n"
    }
   },
   "source": [
    "## Cumulative distribution"
   ]
  },
  {
   "cell_type": "code",
   "execution_count": 14,
   "metadata": {
    "collapsed": false,
    "jupyter": {
     "outputs_hidden": false
    },
    "pycharm": {
     "name": "#%%\n"
    }
   },
   "outputs": [
    {
     "data": {
      "text/plain": [
       "[<matplotlib.lines.Line2D at 0x7f961f590700>]"
      ]
     },
     "execution_count": 14,
     "metadata": {},
     "output_type": "execute_result"
    },
    {
     "data": {
      "image/png": "[encoded data removed]",
      "text/plain": [
       "<Figure size 432x288 with 1 Axes>"
      ]
     },
     "metadata": {
      "needs_background": "light"
     },
     "output_type": "display_data"
    }
   ],
   "source": [
    "ecdf = ECDF(PAL_wave1)\n",
    "\n",
    "pyplot.plot(ecdf.x, ecdf.y)\n",
    "\n"
   ]
  }
 ],
 "metadata": {
  "kernelspec": {
   "display_name": "Python 3",
   "language": "python",
   "name": "python3"
  },
  "language_info": {
   "codemirror_mode": {
    "name": "ipython",
    "version": 3
   },
   "file_extension": ".py",
   "mimetype": "text/x-python",
   "name": "python",
   "nbconvert_exporter": "python",
   "pygments_lexer": "ipython3",
   "version": "3.8.8"
  }
 },
 "nbformat": 4,
 "nbformat_minor": 4
}
