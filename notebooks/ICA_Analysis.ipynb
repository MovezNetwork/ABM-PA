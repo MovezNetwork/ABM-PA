{
 "cells": [
  {
   "cell_type": "code",
   "execution_count": 2,
   "id": "ad5d9ef7-682d-48dd-bf90-10958ab04aad",
   "metadata": {},
   "outputs": [],
   "source": [
    "import pandas as pd\n",
    "import numpy as np\n",
    "import json\n",
    "import networkx as nx\n",
    "pd.set_option('display.float_format', lambda x: '%.2f' % x)"
   ]
  },
  {
   "cell_type": "code",
   "execution_count": 617,
   "id": "570c4f67-0df3-4970-b953-5fbef28051fc",
   "metadata": {},
   "outputs": [],
   "source": [
    "try:\n",
    "    input_args = json.loads(open('../input/simulation.json').read())\n",
    "except Exception as ex:\n",
    "    print('simulation.json does not exist!')\n",
    "    print(ex)"
   ]
  },
  {
   "cell_type": "markdown",
   "id": "aaa44908-4e77-4010-ad04-c0b8ca22e393",
   "metadata": {},
   "source": [
    "### Exploratory Analysis Movez Data"
   ]
  },
  {
   "cell_type": "markdown",
   "id": "f12c393b-59b5-4e26-8116-687e2119d9b0",
   "metadata": {},
   "source": [
    "#### PAL Data"
   ]
  },
  {
   "cell_type": "markdown",
   "id": "84b4d017-afe9-4f0a-9d77-4a5a6489fc24",
   "metadata": {},
   "source": [
    "##### PAL per child"
   ]
  },
  {
   "cell_type": "code",
   "execution_count": 591,
   "id": "45bf1662-5d71-41cf-bcf5-82dc5fd66b90",
   "metadata": {},
   "outputs": [],
   "source": [
    "fitbit_new = pd.read_csv('../data/Fitbit_Imputation_FINAL.csv', sep=';', header=0)\n",
    "steps_mean_wave_new = fitbit_new.groupby(['Child', 'Wave']).mean()['Steps'].reset_index()\n",
    "steps_mean_wave_new.Steps = steps_mean_wave_new.Steps * 0.000153\n",
    "steps_mean_wave_new = steps_mean_wave_new.pivot(index='Child', columns='Wave')['Steps']"
   ]
  },
  {
   "cell_type": "code",
   "execution_count": 553,
   "id": "020a7bd4-9b4d-44c2-8569-1c8281d853ea",
   "metadata": {},
   "outputs": [
    {
     "data": {
      "text/html": [
       "<div>\n",
       "<style scoped>\n",
       "    .dataframe tbody tr th:only-of-type {\n",
       "        vertical-align: middle;\n",
       "    }\n",
       "\n",
       "    .dataframe tbody tr th {\n",
       "        vertical-align: top;\n",
       "    }\n",
       "\n",
       "    .dataframe thead th {\n",
       "        text-align: right;\n",
       "    }\n",
       "</style>\n",
       "<table border=\"1\" class=\"dataframe\">\n",
       "  <thead>\n",
       "    <tr style=\"text-align: right;\">\n",
       "      <th>Wave</th>\n",
       "      <th>1</th>\n",
       "      <th>2</th>\n",
       "      <th>3</th>\n",
       "      <th>4</th>\n",
       "      <th>5</th>\n",
       "      <th>6</th>\n",
       "      <th>7</th>\n",
       "    </tr>\n",
       "  </thead>\n",
       "  <tbody>\n",
       "    <tr>\n",
       "      <th>count</th>\n",
       "      <td>926.00</td>\n",
       "      <td>928.00</td>\n",
       "      <td>927.00</td>\n",
       "      <td>929.00</td>\n",
       "      <td>1028.00</td>\n",
       "      <td>782.00</td>\n",
       "      <td>782.00</td>\n",
       "    </tr>\n",
       "    <tr>\n",
       "      <th>mean</th>\n",
       "      <td>1.40</td>\n",
       "      <td>1.53</td>\n",
       "      <td>1.59</td>\n",
       "      <td>1.44</td>\n",
       "      <td>1.34</td>\n",
       "      <td>1.61</td>\n",
       "      <td>1.44</td>\n",
       "    </tr>\n",
       "    <tr>\n",
       "      <th>std</th>\n",
       "      <td>0.53</td>\n",
       "      <td>0.58</td>\n",
       "      <td>0.60</td>\n",
       "      <td>0.57</td>\n",
       "      <td>0.53</td>\n",
       "      <td>0.65</td>\n",
       "      <td>0.60</td>\n",
       "    </tr>\n",
       "    <tr>\n",
       "      <th>min</th>\n",
       "      <td>0.19</td>\n",
       "      <td>0.15</td>\n",
       "      <td>0.15</td>\n",
       "      <td>0.15</td>\n",
       "      <td>0.15</td>\n",
       "      <td>0.20</td>\n",
       "      <td>0.15</td>\n",
       "    </tr>\n",
       "    <tr>\n",
       "      <th>25%</th>\n",
       "      <td>1.03</td>\n",
       "      <td>1.12</td>\n",
       "      <td>1.19</td>\n",
       "      <td>1.03</td>\n",
       "      <td>0.97</td>\n",
       "      <td>1.17</td>\n",
       "      <td>1.04</td>\n",
       "    </tr>\n",
       "    <tr>\n",
       "      <th>50%</th>\n",
       "      <td>1.36</td>\n",
       "      <td>1.50</td>\n",
       "      <td>1.51</td>\n",
       "      <td>1.40</td>\n",
       "      <td>1.29</td>\n",
       "      <td>1.54</td>\n",
       "      <td>1.41</td>\n",
       "    </tr>\n",
       "    <tr>\n",
       "      <th>75%</th>\n",
       "      <td>1.69</td>\n",
       "      <td>1.92</td>\n",
       "      <td>1.93</td>\n",
       "      <td>1.78</td>\n",
       "      <td>1.69</td>\n",
       "      <td>2.00</td>\n",
       "      <td>1.81</td>\n",
       "    </tr>\n",
       "    <tr>\n",
       "      <th>max</th>\n",
       "      <td>3.44</td>\n",
       "      <td>4.01</td>\n",
       "      <td>4.07</td>\n",
       "      <td>3.43</td>\n",
       "      <td>3.61</td>\n",
       "      <td>3.95</td>\n",
       "      <td>4.03</td>\n",
       "    </tr>\n",
       "  </tbody>\n",
       "</table>\n",
       "</div>"
      ],
      "text/plain": [
       "Wave       1      2      3      4       5      6      7\n",
       "count 926.00 928.00 927.00 929.00 1028.00 782.00 782.00\n",
       "mean    1.40   1.53   1.59   1.44    1.34   1.61   1.44\n",
       "std     0.53   0.58   0.60   0.57    0.53   0.65   0.60\n",
       "min     0.19   0.15   0.15   0.15    0.15   0.20   0.15\n",
       "25%     1.03   1.12   1.19   1.03    0.97   1.17   1.04\n",
       "50%     1.36   1.50   1.51   1.40    1.29   1.54   1.41\n",
       "75%     1.69   1.92   1.93   1.78    1.69   2.00   1.81\n",
       "max     3.44   4.01   4.07   3.43    3.61   3.95   4.03"
      ]
     },
     "execution_count": 553,
     "metadata": {},
     "output_type": "execute_result"
    }
   ],
   "source": [
    "steps_mean_wave_new.describe()"
   ]
  },
  {
   "cell_type": "markdown",
   "id": "4c1ff2ae-8035-4a1b-a23b-1694e0e1329e",
   "metadata": {},
   "source": [
    "##### PAL per class"
   ]
  },
  {
   "cell_type": "code",
   "execution_count": 127,
   "id": "baa77481-0ec8-415f-bdc5-5c1184176b8f",
   "metadata": {},
   "outputs": [
    {
     "data": {
      "text/html": [
       "<div>\n",
       "<style scoped>\n",
       "    .dataframe tbody tr th:only-of-type {\n",
       "        vertical-align: middle;\n",
       "    }\n",
       "\n",
       "    .dataframe tbody tr th {\n",
       "        vertical-align: top;\n",
       "    }\n",
       "\n",
       "    .dataframe thead th {\n",
       "        text-align: right;\n",
       "    }\n",
       "</style>\n",
       "<table border=\"1\" class=\"dataframe\">\n",
       "  <thead>\n",
       "    <tr style=\"text-align: right;\">\n",
       "      <th>Wave</th>\n",
       "      <th>1</th>\n",
       "      <th>2</th>\n",
       "      <th>3</th>\n",
       "      <th>4</th>\n",
       "      <th>5</th>\n",
       "      <th>6</th>\n",
       "      <th>7</th>\n",
       "    </tr>\n",
       "    <tr>\n",
       "      <th>Class</th>\n",
       "      <th></th>\n",
       "      <th></th>\n",
       "      <th></th>\n",
       "      <th></th>\n",
       "      <th></th>\n",
       "      <th></th>\n",
       "      <th></th>\n",
       "    </tr>\n",
       "  </thead>\n",
       "  <tbody>\n",
       "    <tr>\n",
       "      <th>52</th>\n",
       "      <td>1.39</td>\n",
       "      <td>1.46</td>\n",
       "      <td>1.68</td>\n",
       "      <td>1.15</td>\n",
       "      <td>NaN</td>\n",
       "      <td>NaN</td>\n",
       "      <td>NaN</td>\n",
       "    </tr>\n",
       "    <tr>\n",
       "      <th>53</th>\n",
       "      <td>1.48</td>\n",
       "      <td>2.34</td>\n",
       "      <td>2.27</td>\n",
       "      <td>3.32</td>\n",
       "      <td>NaN</td>\n",
       "      <td>NaN</td>\n",
       "      <td>NaN</td>\n",
       "    </tr>\n",
       "    <tr>\n",
       "      <th>54</th>\n",
       "      <td>1.28</td>\n",
       "      <td>1.20</td>\n",
       "      <td>1.34</td>\n",
       "      <td>1.28</td>\n",
       "      <td>NaN</td>\n",
       "      <td>NaN</td>\n",
       "      <td>NaN</td>\n",
       "    </tr>\n",
       "    <tr>\n",
       "      <th>55</th>\n",
       "      <td>1.77</td>\n",
       "      <td>2.10</td>\n",
       "      <td>1.47</td>\n",
       "      <td>1.41</td>\n",
       "      <td>NaN</td>\n",
       "      <td>NaN</td>\n",
       "      <td>NaN</td>\n",
       "    </tr>\n",
       "    <tr>\n",
       "      <th>56</th>\n",
       "      <td>1.45</td>\n",
       "      <td>1.55</td>\n",
       "      <td>2.53</td>\n",
       "      <td>1.52</td>\n",
       "      <td>NaN</td>\n",
       "      <td>NaN</td>\n",
       "      <td>NaN</td>\n",
       "    </tr>\n",
       "    <tr>\n",
       "      <th>...</th>\n",
       "      <td>...</td>\n",
       "      <td>...</td>\n",
       "      <td>...</td>\n",
       "      <td>...</td>\n",
       "      <td>...</td>\n",
       "      <td>...</td>\n",
       "      <td>...</td>\n",
       "    </tr>\n",
       "    <tr>\n",
       "      <th>305</th>\n",
       "      <td>NaN</td>\n",
       "      <td>NaN</td>\n",
       "      <td>NaN</td>\n",
       "      <td>NaN</td>\n",
       "      <td>1.30</td>\n",
       "      <td>2.00</td>\n",
       "      <td>1.45</td>\n",
       "    </tr>\n",
       "    <tr>\n",
       "      <th>306</th>\n",
       "      <td>NaN</td>\n",
       "      <td>NaN</td>\n",
       "      <td>NaN</td>\n",
       "      <td>NaN</td>\n",
       "      <td>1.32</td>\n",
       "      <td>1.73</td>\n",
       "      <td>1.56</td>\n",
       "    </tr>\n",
       "    <tr>\n",
       "      <th>307</th>\n",
       "      <td>NaN</td>\n",
       "      <td>NaN</td>\n",
       "      <td>NaN</td>\n",
       "      <td>NaN</td>\n",
       "      <td>1.15</td>\n",
       "      <td>1.28</td>\n",
       "      <td>1.39</td>\n",
       "    </tr>\n",
       "    <tr>\n",
       "      <th>308</th>\n",
       "      <td>NaN</td>\n",
       "      <td>NaN</td>\n",
       "      <td>NaN</td>\n",
       "      <td>NaN</td>\n",
       "      <td>1.73</td>\n",
       "      <td>1.54</td>\n",
       "      <td>1.32</td>\n",
       "    </tr>\n",
       "    <tr>\n",
       "      <th>310</th>\n",
       "      <td>NaN</td>\n",
       "      <td>NaN</td>\n",
       "      <td>NaN</td>\n",
       "      <td>NaN</td>\n",
       "      <td>1.39</td>\n",
       "      <td>1.28</td>\n",
       "      <td>1.25</td>\n",
       "    </tr>\n",
       "  </tbody>\n",
       "</table>\n",
       "<p>132 rows × 7 columns</p>\n",
       "</div>"
      ],
      "text/plain": [
       "Wave     1    2    3    4    5    6    7\n",
       "Class                                   \n",
       "52    1.39 1.46 1.68 1.15  NaN  NaN  NaN\n",
       "53    1.48 2.34 2.27 3.32  NaN  NaN  NaN\n",
       "54    1.28 1.20 1.34 1.28  NaN  NaN  NaN\n",
       "55    1.77 2.10 1.47 1.41  NaN  NaN  NaN\n",
       "56    1.45 1.55 2.53 1.52  NaN  NaN  NaN\n",
       "...    ...  ...  ...  ...  ...  ...  ...\n",
       "305    NaN  NaN  NaN  NaN 1.30 2.00 1.45\n",
       "306    NaN  NaN  NaN  NaN 1.32 1.73 1.56\n",
       "307    NaN  NaN  NaN  NaN 1.15 1.28 1.39\n",
       "308    NaN  NaN  NaN  NaN 1.73 1.54 1.32\n",
       "310    NaN  NaN  NaN  NaN 1.39 1.28 1.25\n",
       "\n",
       "[132 rows x 7 columns]"
      ]
     },
     "execution_count": 127,
     "metadata": {},
     "output_type": "execute_result"
    }
   ],
   "source": [
    "class_waves_pal = steps_mean_wave_new.groupby(['Class','Wave']).mean()['Steps'].reset_index()\n",
    "class_waves_pal = class_waves_pal.pivot(index='Class', columns='Wave')['Steps']\n",
    "class_waves_pal"
   ]
  },
  {
   "cell_type": "code",
   "execution_count": 139,
   "id": "7f5b42c5-dc9b-41b6-9f40-0bdff8ca7749",
   "metadata": {},
   "outputs": [
    {
     "data": {
      "text/html": [
       "<div>\n",
       "<style scoped>\n",
       "    .dataframe tbody tr th:only-of-type {\n",
       "        vertical-align: middle;\n",
       "    }\n",
       "\n",
       "    .dataframe tbody tr th {\n",
       "        vertical-align: top;\n",
       "    }\n",
       "\n",
       "    .dataframe thead th {\n",
       "        text-align: right;\n",
       "    }\n",
       "</style>\n",
       "<table border=\"1\" class=\"dataframe\">\n",
       "  <thead>\n",
       "    <tr style=\"text-align: right;\">\n",
       "      <th>Wave</th>\n",
       "      <th>1</th>\n",
       "      <th>2</th>\n",
       "      <th>3</th>\n",
       "      <th>4</th>\n",
       "      <th>5</th>\n",
       "      <th>6</th>\n",
       "      <th>7</th>\n",
       "    </tr>\n",
       "  </thead>\n",
       "  <tbody>\n",
       "    <tr>\n",
       "      <th>count</th>\n",
       "      <td>94.00</td>\n",
       "      <td>94.00</td>\n",
       "      <td>94.00</td>\n",
       "      <td>83.00</td>\n",
       "      <td>60.00</td>\n",
       "      <td>44.00</td>\n",
       "      <td>44.00</td>\n",
       "    </tr>\n",
       "    <tr>\n",
       "      <th>mean</th>\n",
       "      <td>1.41</td>\n",
       "      <td>1.53</td>\n",
       "      <td>1.60</td>\n",
       "      <td>1.44</td>\n",
       "      <td>1.33</td>\n",
       "      <td>1.61</td>\n",
       "      <td>1.46</td>\n",
       "    </tr>\n",
       "    <tr>\n",
       "      <th>std</th>\n",
       "      <td>0.29</td>\n",
       "      <td>0.30</td>\n",
       "      <td>0.36</td>\n",
       "      <td>0.39</td>\n",
       "      <td>0.20</td>\n",
       "      <td>0.25</td>\n",
       "      <td>0.19</td>\n",
       "    </tr>\n",
       "    <tr>\n",
       "      <th>min</th>\n",
       "      <td>0.74</td>\n",
       "      <td>0.90</td>\n",
       "      <td>0.82</td>\n",
       "      <td>0.49</td>\n",
       "      <td>0.74</td>\n",
       "      <td>1.19</td>\n",
       "      <td>1.10</td>\n",
       "    </tr>\n",
       "    <tr>\n",
       "      <th>25%</th>\n",
       "      <td>1.25</td>\n",
       "      <td>1.34</td>\n",
       "      <td>1.38</td>\n",
       "      <td>1.23</td>\n",
       "      <td>1.21</td>\n",
       "      <td>1.46</td>\n",
       "      <td>1.32</td>\n",
       "    </tr>\n",
       "    <tr>\n",
       "      <th>50%</th>\n",
       "      <td>1.38</td>\n",
       "      <td>1.53</td>\n",
       "      <td>1.53</td>\n",
       "      <td>1.42</td>\n",
       "      <td>1.33</td>\n",
       "      <td>1.55</td>\n",
       "      <td>1.43</td>\n",
       "    </tr>\n",
       "    <tr>\n",
       "      <th>75%</th>\n",
       "      <td>1.53</td>\n",
       "      <td>1.73</td>\n",
       "      <td>1.77</td>\n",
       "      <td>1.59</td>\n",
       "      <td>1.48</td>\n",
       "      <td>1.78</td>\n",
       "      <td>1.56</td>\n",
       "    </tr>\n",
       "    <tr>\n",
       "      <th>max</th>\n",
       "      <td>2.73</td>\n",
       "      <td>2.64</td>\n",
       "      <td>2.74</td>\n",
       "      <td>3.32</td>\n",
       "      <td>1.73</td>\n",
       "      <td>2.12</td>\n",
       "      <td>2.01</td>\n",
       "    </tr>\n",
       "  </tbody>\n",
       "</table>\n",
       "</div>"
      ],
      "text/plain": [
       "Wave      1     2     3     4     5     6     7\n",
       "count 94.00 94.00 94.00 83.00 60.00 44.00 44.00\n",
       "mean   1.41  1.53  1.60  1.44  1.33  1.61  1.46\n",
       "std    0.29  0.30  0.36  0.39  0.20  0.25  0.19\n",
       "min    0.74  0.90  0.82  0.49  0.74  1.19  1.10\n",
       "25%    1.25  1.34  1.38  1.23  1.21  1.46  1.32\n",
       "50%    1.38  1.53  1.53  1.42  1.33  1.55  1.43\n",
       "75%    1.53  1.73  1.77  1.59  1.48  1.78  1.56\n",
       "max    2.73  2.64  2.74  3.32  1.73  2.12  2.01"
      ]
     },
     "execution_count": 139,
     "metadata": {},
     "output_type": "execute_result"
    }
   ],
   "source": [
    "class_waves_pal.describe()"
   ]
  },
  {
   "cell_type": "code",
   "execution_count": 128,
   "id": "4f9e393d-f333-431b-9ebd-a04cfde62cb2",
   "metadata": {},
   "outputs": [
    {
     "data": {
      "text/plain": [
       "(38, 38, 38, 49, 72, 88, 88)"
      ]
     },
     "execution_count": 128,
     "metadata": {},
     "output_type": "execute_result"
    }
   ],
   "source": [
    "# Number of null classes per wave\n",
    "class_waves_pal[1].isna().sum(),class_waves_pal[2].isna().sum() ,class_waves_pal[3].isna().sum() ,class_waves_pal[4].isna().sum() ,class_waves_pal[5].isna().sum() ,class_waves_pal[6].isna().sum() ,class_waves_pal[7].isna().sum() "
   ]
  },
  {
   "cell_type": "markdown",
   "id": "d175cbb3-2be8-4db9-baba-f40e5e72933d",
   "metadata": {},
   "source": [
    "##### Classes where all waves are collected (in terms of PAL) - only 15 classes out of 132"
   ]
  },
  {
   "cell_type": "code",
   "execution_count": 131,
   "id": "badace7b-beda-491c-84c2-36a89f3fcd0e",
   "metadata": {},
   "outputs": [
    {
     "data": {
      "text/html": [
       "<div>\n",
       "<style scoped>\n",
       "    .dataframe tbody tr th:only-of-type {\n",
       "        vertical-align: middle;\n",
       "    }\n",
       "\n",
       "    .dataframe tbody tr th {\n",
       "        vertical-align: top;\n",
       "    }\n",
       "\n",
       "    .dataframe thead th {\n",
       "        text-align: right;\n",
       "    }\n",
       "</style>\n",
       "<table border=\"1\" class=\"dataframe\">\n",
       "  <thead>\n",
       "    <tr style=\"text-align: right;\">\n",
       "      <th>Wave</th>\n",
       "      <th>1</th>\n",
       "      <th>2</th>\n",
       "      <th>3</th>\n",
       "      <th>4</th>\n",
       "      <th>5</th>\n",
       "      <th>6</th>\n",
       "      <th>7</th>\n",
       "    </tr>\n",
       "    <tr>\n",
       "      <th>Class</th>\n",
       "      <th></th>\n",
       "      <th></th>\n",
       "      <th></th>\n",
       "      <th></th>\n",
       "      <th></th>\n",
       "      <th></th>\n",
       "      <th></th>\n",
       "    </tr>\n",
       "  </thead>\n",
       "  <tbody>\n",
       "    <tr>\n",
       "      <th>73</th>\n",
       "      <td>1.25</td>\n",
       "      <td>1.70</td>\n",
       "      <td>1.39</td>\n",
       "      <td>1.49</td>\n",
       "      <td>1.33</td>\n",
       "      <td>1.40</td>\n",
       "      <td>1.73</td>\n",
       "    </tr>\n",
       "    <tr>\n",
       "      <th>74</th>\n",
       "      <td>1.39</td>\n",
       "      <td>1.68</td>\n",
       "      <td>1.62</td>\n",
       "      <td>1.21</td>\n",
       "      <td>0.90</td>\n",
       "      <td>1.19</td>\n",
       "      <td>1.46</td>\n",
       "    </tr>\n",
       "    <tr>\n",
       "      <th>78</th>\n",
       "      <td>1.31</td>\n",
       "      <td>1.49</td>\n",
       "      <td>1.62</td>\n",
       "      <td>1.41</td>\n",
       "      <td>1.27</td>\n",
       "      <td>1.50</td>\n",
       "      <td>1.40</td>\n",
       "    </tr>\n",
       "    <tr>\n",
       "      <th>81</th>\n",
       "      <td>1.23</td>\n",
       "      <td>1.45</td>\n",
       "      <td>1.41</td>\n",
       "      <td>1.35</td>\n",
       "      <td>1.27</td>\n",
       "      <td>1.47</td>\n",
       "      <td>1.32</td>\n",
       "    </tr>\n",
       "    <tr>\n",
       "      <th>82</th>\n",
       "      <td>1.39</td>\n",
       "      <td>1.79</td>\n",
       "      <td>1.76</td>\n",
       "      <td>1.53</td>\n",
       "      <td>1.41</td>\n",
       "      <td>1.48</td>\n",
       "      <td>1.70</td>\n",
       "    </tr>\n",
       "    <tr>\n",
       "      <th>86</th>\n",
       "      <td>1.57</td>\n",
       "      <td>1.17</td>\n",
       "      <td>1.77</td>\n",
       "      <td>1.77</td>\n",
       "      <td>1.35</td>\n",
       "      <td>1.68</td>\n",
       "      <td>1.26</td>\n",
       "    </tr>\n",
       "    <tr>\n",
       "      <th>100</th>\n",
       "      <td>1.74</td>\n",
       "      <td>1.87</td>\n",
       "      <td>1.81</td>\n",
       "      <td>1.70</td>\n",
       "      <td>1.37</td>\n",
       "      <td>1.54</td>\n",
       "      <td>1.30</td>\n",
       "    </tr>\n",
       "    <tr>\n",
       "      <th>103</th>\n",
       "      <td>1.51</td>\n",
       "      <td>1.74</td>\n",
       "      <td>1.62</td>\n",
       "      <td>1.68</td>\n",
       "      <td>1.13</td>\n",
       "      <td>1.26</td>\n",
       "      <td>1.34</td>\n",
       "    </tr>\n",
       "    <tr>\n",
       "      <th>124</th>\n",
       "      <td>1.45</td>\n",
       "      <td>1.46</td>\n",
       "      <td>1.93</td>\n",
       "      <td>1.60</td>\n",
       "      <td>1.52</td>\n",
       "      <td>1.65</td>\n",
       "      <td>1.45</td>\n",
       "    </tr>\n",
       "    <tr>\n",
       "      <th>125</th>\n",
       "      <td>1.42</td>\n",
       "      <td>1.61</td>\n",
       "      <td>1.43</td>\n",
       "      <td>1.82</td>\n",
       "      <td>1.49</td>\n",
       "      <td>1.66</td>\n",
       "      <td>1.24</td>\n",
       "    </tr>\n",
       "    <tr>\n",
       "      <th>131</th>\n",
       "      <td>1.80</td>\n",
       "      <td>1.58</td>\n",
       "      <td>2.05</td>\n",
       "      <td>1.89</td>\n",
       "      <td>1.67</td>\n",
       "      <td>1.83</td>\n",
       "      <td>1.36</td>\n",
       "    </tr>\n",
       "    <tr>\n",
       "      <th>133</th>\n",
       "      <td>1.53</td>\n",
       "      <td>1.55</td>\n",
       "      <td>2.05</td>\n",
       "      <td>1.65</td>\n",
       "      <td>1.26</td>\n",
       "      <td>1.66</td>\n",
       "      <td>1.69</td>\n",
       "    </tr>\n",
       "    <tr>\n",
       "      <th>134</th>\n",
       "      <td>1.53</td>\n",
       "      <td>1.81</td>\n",
       "      <td>2.06</td>\n",
       "      <td>1.86</td>\n",
       "      <td>1.66</td>\n",
       "      <td>2.11</td>\n",
       "      <td>2.01</td>\n",
       "    </tr>\n",
       "    <tr>\n",
       "      <th>135</th>\n",
       "      <td>1.78</td>\n",
       "      <td>2.00</td>\n",
       "      <td>2.45</td>\n",
       "      <td>1.90</td>\n",
       "      <td>1.53</td>\n",
       "      <td>2.12</td>\n",
       "      <td>1.94</td>\n",
       "    </tr>\n",
       "    <tr>\n",
       "      <th>141</th>\n",
       "      <td>1.37</td>\n",
       "      <td>1.72</td>\n",
       "      <td>2.26</td>\n",
       "      <td>1.55</td>\n",
       "      <td>1.34</td>\n",
       "      <td>1.75</td>\n",
       "      <td>1.76</td>\n",
       "    </tr>\n",
       "  </tbody>\n",
       "</table>\n",
       "</div>"
      ],
      "text/plain": [
       "Wave     1    2    3    4    5    6    7\n",
       "Class                                   \n",
       "73    1.25 1.70 1.39 1.49 1.33 1.40 1.73\n",
       "74    1.39 1.68 1.62 1.21 0.90 1.19 1.46\n",
       "78    1.31 1.49 1.62 1.41 1.27 1.50 1.40\n",
       "81    1.23 1.45 1.41 1.35 1.27 1.47 1.32\n",
       "82    1.39 1.79 1.76 1.53 1.41 1.48 1.70\n",
       "86    1.57 1.17 1.77 1.77 1.35 1.68 1.26\n",
       "100   1.74 1.87 1.81 1.70 1.37 1.54 1.30\n",
       "103   1.51 1.74 1.62 1.68 1.13 1.26 1.34\n",
       "124   1.45 1.46 1.93 1.60 1.52 1.65 1.45\n",
       "125   1.42 1.61 1.43 1.82 1.49 1.66 1.24\n",
       "131   1.80 1.58 2.05 1.89 1.67 1.83 1.36\n",
       "133   1.53 1.55 2.05 1.65 1.26 1.66 1.69\n",
       "134   1.53 1.81 2.06 1.86 1.66 2.11 2.01\n",
       "135   1.78 2.00 2.45 1.90 1.53 2.12 1.94\n",
       "141   1.37 1.72 2.26 1.55 1.34 1.75 1.76"
      ]
     },
     "execution_count": 131,
     "metadata": {},
     "output_type": "execute_result"
    }
   ],
   "source": [
    "class_waves_pal[~class_waves_pal.isnull().any(axis=1)]"
   ]
  },
  {
   "cell_type": "markdown",
   "id": "3655b740-ff29-4b5b-9c42-0956ef047e24",
   "metadata": {},
   "source": [
    "### Communication Networks Data"
   ]
  },
  {
   "cell_type": "code",
   "execution_count": 160,
   "id": "66915807-5752-4f1d-ace2-925b09af68dc",
   "metadata": {},
   "outputs": [
    {
     "name": "stderr",
     "output_type": "stream",
     "text": [
      "/Users/bojansimoski/anaconda3/envs/ABM-PA/lib/python3.9/site-packages/IPython/core/interactiveshell.py:3165: DtypeWarning: Columns (22) have mixed types.Specify dtype option on import or set low_memory=False.\n",
      "  has_raised = await self.run_ast_nodes(code_ast.body, cell_name,\n"
     ]
    },
    {
     "data": {
      "text/plain": [
       "(41973, 31)"
      ]
     },
     "execution_count": 160,
     "metadata": {},
     "output_type": "execute_result"
    }
   ],
   "source": [
    "df_comm1 = pd.read_csv('../data/Buzz_W4_primary-schools.csv', sep=';', header=0)\n",
    "df_comm1 = df_comm1.append(pd.read_csv('../data/Buzz_W4_secondary-schools.csv', sep=';', header=0))\n",
    "df_comm1['Wave'] = 4\n",
    "df_comm2 = pd.read_csv('../data/Buzz_W5_primary-schools.csv', sep=';', header=0)\n",
    "df_comm2 = df_comm2.append(pd.read_csv('../data/Buzz_W5_secondary-schools.csv', sep=';', header=0))\n",
    "df_comm2['Wave'] = 5\n",
    "df_comm = df_comm1.append(df_comm2)\n",
    "# only the inividually sent messages\n",
    "df_comm = df_comm[df_comm.Type==\"my\"]\n",
    "df_comm = df_comm.astype({'Child': 'int32'})\n",
    "df_comm = df_comm.astype({'Class': 'int32'})\n",
    "df_comm = df_comm.astype({'Participant': 'float64'})\n",
    "df_comm.shape"
   ]
  },
  {
   "cell_type": "code",
   "execution_count": 161,
   "id": "0c23e00e-e352-43b6-89ce-75e0c33284b8",
   "metadata": {},
   "outputs": [
    {
     "data": {
      "text/plain": [
       "Index(['Participant', 'School', 'Class', 'Child', 'Gender', 'Age', 'PI',\n",
       "       'Date', 'Time', 'UMID', 'Format_text', 'Format_Media', 'Type',\n",
       "       'RecipientChild', 'ClassReceive', 'Content', 'Media', 'ReactionInto',\n",
       "       'Flagged', 'PostedWhileBanned', 'ShareSource', 'SharedVia',\n",
       "       'Number_likes', 'Unnamed: 23', 'Wave', 'Unnamed: 24', 'Unnamed: 25',\n",
       "       'Unnamed: 26', 'Unnamed: 27', 'Unnamed: 28', 'Unnamed: 29'],\n",
       "      dtype='object')"
      ]
     },
     "execution_count": 161,
     "metadata": {},
     "output_type": "execute_result"
    }
   ],
   "source": [
    "df_comm.columns"
   ]
  },
  {
   "cell_type": "code",
   "execution_count": 162,
   "id": "3701f6a2-818b-4dab-89c0-3d799d64460c",
   "metadata": {},
   "outputs": [
    {
     "data": {
      "text/html": [
       "<div>\n",
       "<style scoped>\n",
       "    .dataframe tbody tr th:only-of-type {\n",
       "        vertical-align: middle;\n",
       "    }\n",
       "\n",
       "    .dataframe tbody tr th {\n",
       "        vertical-align: top;\n",
       "    }\n",
       "\n",
       "    .dataframe thead th {\n",
       "        text-align: right;\n",
       "    }\n",
       "</style>\n",
       "<table border=\"1\" class=\"dataframe\">\n",
       "  <thead>\n",
       "    <tr style=\"text-align: right;\">\n",
       "      <th></th>\n",
       "      <th>Participant</th>\n",
       "      <th>School</th>\n",
       "      <th>Class</th>\n",
       "      <th>Child</th>\n",
       "      <th>Gender</th>\n",
       "      <th>Age</th>\n",
       "      <th>PI</th>\n",
       "      <th>Date</th>\n",
       "      <th>Time</th>\n",
       "      <th>UMID</th>\n",
       "      <th>...</th>\n",
       "      <th>ClassReceive</th>\n",
       "      <th>Content</th>\n",
       "      <th>Media</th>\n",
       "      <th>ReactionInto</th>\n",
       "      <th>Flagged</th>\n",
       "      <th>PostedWhileBanned</th>\n",
       "      <th>ShareSource</th>\n",
       "      <th>SharedVia</th>\n",
       "      <th>Number_likes</th>\n",
       "      <th>Wave</th>\n",
       "    </tr>\n",
       "  </thead>\n",
       "  <tbody>\n",
       "    <tr>\n",
       "      <th>0</th>\n",
       "      <td>3410302337.00</td>\n",
       "      <td>34.00</td>\n",
       "      <td>103</td>\n",
       "      <td>2337</td>\n",
       "      <td>0.00</td>\n",
       "      <td>10.00</td>\n",
       "      <td>7.00</td>\n",
       "      <td>15-3-2017</td>\n",
       "      <td>10:05</td>\n",
       "      <td>31296</td>\n",
       "      <td>...</td>\n",
       "      <td>1</td>\n",
       "      <td>Hoi</td>\n",
       "      <td>NaN</td>\n",
       "      <td>NaN</td>\n",
       "      <td>0.00</td>\n",
       "      <td>0.00</td>\n",
       "      <td>NaN</td>\n",
       "      <td>NaN</td>\n",
       "      <td>0.00</td>\n",
       "      <td>4</td>\n",
       "    </tr>\n",
       "    <tr>\n",
       "      <th>1</th>\n",
       "      <td>3410302337.00</td>\n",
       "      <td>34.00</td>\n",
       "      <td>103</td>\n",
       "      <td>2337</td>\n",
       "      <td>0.00</td>\n",
       "      <td>10.00</td>\n",
       "      <td>7.00</td>\n",
       "      <td>15-3-2017</td>\n",
       "      <td>10:06</td>\n",
       "      <td>31310</td>\n",
       "      <td>...</td>\n",
       "      <td>1</td>\n",
       "      <td>Hoi</td>\n",
       "      <td>NaN</td>\n",
       "      <td>NaN</td>\n",
       "      <td>0.00</td>\n",
       "      <td>0.00</td>\n",
       "      <td>NaN</td>\n",
       "      <td>NaN</td>\n",
       "      <td>0.00</td>\n",
       "      <td>4</td>\n",
       "    </tr>\n",
       "    <tr>\n",
       "      <th>10</th>\n",
       "      <td>3410302337.00</td>\n",
       "      <td>34.00</td>\n",
       "      <td>103</td>\n",
       "      <td>2337</td>\n",
       "      <td>0.00</td>\n",
       "      <td>10.00</td>\n",
       "      <td>7.00</td>\n",
       "      <td>15-3-2017</td>\n",
       "      <td>15:46</td>\n",
       "      <td>31673</td>\n",
       "      <td>...</td>\n",
       "      <td>1</td>\n",
       "      <td>Hoi</td>\n",
       "      <td>NaN</td>\n",
       "      <td>NaN</td>\n",
       "      <td>0.00</td>\n",
       "      <td>0.00</td>\n",
       "      <td>NaN</td>\n",
       "      <td>NaN</td>\n",
       "      <td>0.00</td>\n",
       "      <td>4</td>\n",
       "    </tr>\n",
       "  </tbody>\n",
       "</table>\n",
       "<p>3 rows × 24 columns</p>\n",
       "</div>"
      ],
      "text/plain": [
       "     Participant  School  Class  Child  Gender   Age   PI       Date   Time  \\\n",
       "0  3410302337.00   34.00    103   2337    0.00 10.00 7.00  15-3-2017  10:05   \n",
       "1  3410302337.00   34.00    103   2337    0.00 10.00 7.00  15-3-2017  10:06   \n",
       "10 3410302337.00   34.00    103   2337    0.00 10.00 7.00  15-3-2017  15:46   \n",
       "\n",
       "     UMID  ...  ClassReceive Content Media  ReactionInto  Flagged  \\\n",
       "0   31296  ...             1     Hoi   NaN           NaN     0.00   \n",
       "1   31310  ...             1     Hoi   NaN           NaN     0.00   \n",
       "10  31673  ...             1     Hoi   NaN           NaN     0.00   \n",
       "\n",
       "   PostedWhileBanned ShareSource  SharedVia  Number_likes  Wave  \n",
       "0               0.00         NaN        NaN          0.00     4  \n",
       "1               0.00         NaN        NaN          0.00     4  \n",
       "10              0.00         NaN        NaN          0.00     4  \n",
       "\n",
       "[3 rows x 24 columns]"
      ]
     },
     "execution_count": 162,
     "metadata": {},
     "output_type": "execute_result"
    }
   ],
   "source": [
    "df_comm = df_comm.drop([ 'Unnamed: 23', 'Unnamed: 24', 'Unnamed: 25','Unnamed: 26', 'Unnamed: 27', 'Unnamed: 28', 'Unnamed: 29'], axis = 1)\n",
    "df_comm.head(3)"
   ]
  },
  {
   "cell_type": "markdown",
   "id": "87423f85-e177-4a2f-b1cf-ac8125a20c33",
   "metadata": {},
   "source": [
    "#### Per class data"
   ]
  },
  {
   "cell_type": "code",
   "execution_count": 166,
   "id": "18924d5c-2c7f-4cc5-926f-a476d7396e53",
   "metadata": {},
   "outputs": [
    {
     "data": {
      "text/html": [
       "<div>\n",
       "<style scoped>\n",
       "    .dataframe tbody tr th:only-of-type {\n",
       "        vertical-align: middle;\n",
       "    }\n",
       "\n",
       "    .dataframe tbody tr th {\n",
       "        vertical-align: top;\n",
       "    }\n",
       "\n",
       "    .dataframe thead th {\n",
       "        text-align: right;\n",
       "    }\n",
       "</style>\n",
       "<table border=\"1\" class=\"dataframe\">\n",
       "  <thead>\n",
       "    <tr style=\"text-align: right;\">\n",
       "      <th>Wave</th>\n",
       "      <th>4</th>\n",
       "      <th>5</th>\n",
       "    </tr>\n",
       "    <tr>\n",
       "      <th>Class</th>\n",
       "      <th></th>\n",
       "      <th></th>\n",
       "    </tr>\n",
       "  </thead>\n",
       "  <tbody>\n",
       "    <tr>\n",
       "      <th>55</th>\n",
       "      <td>48.00</td>\n",
       "      <td>NaN</td>\n",
       "    </tr>\n",
       "    <tr>\n",
       "      <th>65</th>\n",
       "      <td>22.00</td>\n",
       "      <td>NaN</td>\n",
       "    </tr>\n",
       "    <tr>\n",
       "      <th>66</th>\n",
       "      <td>39.00</td>\n",
       "      <td>NaN</td>\n",
       "    </tr>\n",
       "    <tr>\n",
       "      <th>67</th>\n",
       "      <td>32.00</td>\n",
       "      <td>NaN</td>\n",
       "    </tr>\n",
       "    <tr>\n",
       "      <th>68</th>\n",
       "      <td>37.00</td>\n",
       "      <td>NaN</td>\n",
       "    </tr>\n",
       "    <tr>\n",
       "      <th>...</th>\n",
       "      <td>...</td>\n",
       "      <td>...</td>\n",
       "    </tr>\n",
       "    <tr>\n",
       "      <th>305</th>\n",
       "      <td>NaN</td>\n",
       "      <td>44.00</td>\n",
       "    </tr>\n",
       "    <tr>\n",
       "      <th>306</th>\n",
       "      <td>NaN</td>\n",
       "      <td>140.00</td>\n",
       "    </tr>\n",
       "    <tr>\n",
       "      <th>307</th>\n",
       "      <td>NaN</td>\n",
       "      <td>109.00</td>\n",
       "    </tr>\n",
       "    <tr>\n",
       "      <th>308</th>\n",
       "      <td>NaN</td>\n",
       "      <td>1592.00</td>\n",
       "    </tr>\n",
       "    <tr>\n",
       "      <th>310</th>\n",
       "      <td>NaN</td>\n",
       "      <td>69.00</td>\n",
       "    </tr>\n",
       "  </tbody>\n",
       "</table>\n",
       "<p>74 rows × 2 columns</p>\n",
       "</div>"
      ],
      "text/plain": [
       "Wave      4       5\n",
       "Class              \n",
       "55    48.00     NaN\n",
       "65    22.00     NaN\n",
       "66    39.00     NaN\n",
       "67    32.00     NaN\n",
       "68    37.00     NaN\n",
       "...     ...     ...\n",
       "305     NaN   44.00\n",
       "306     NaN  140.00\n",
       "307     NaN  109.00\n",
       "308     NaN 1592.00\n",
       "310     NaN   69.00\n",
       "\n",
       "[74 rows x 2 columns]"
      ]
     },
     "execution_count": 166,
     "metadata": {},
     "output_type": "execute_result"
    }
   ],
   "source": [
    "class_waves_messages = df_comm.groupby(['Class','Wave'])['UMID'].count().reset_index()\n",
    "class_waves_messages = class_waves_messages.pivot(index='Class', columns='Wave')['UMID']\n",
    "class_waves_messages"
   ]
  },
  {
   "cell_type": "code",
   "execution_count": 167,
   "id": "56e70669-4e84-4511-a64d-c9c761e337f9",
   "metadata": {},
   "outputs": [
    {
     "data": {
      "text/html": [
       "<div>\n",
       "<style scoped>\n",
       "    .dataframe tbody tr th:only-of-type {\n",
       "        vertical-align: middle;\n",
       "    }\n",
       "\n",
       "    .dataframe tbody tr th {\n",
       "        vertical-align: top;\n",
       "    }\n",
       "\n",
       "    .dataframe thead th {\n",
       "        text-align: right;\n",
       "    }\n",
       "</style>\n",
       "<table border=\"1\" class=\"dataframe\">\n",
       "  <thead>\n",
       "    <tr style=\"text-align: right;\">\n",
       "      <th>Wave</th>\n",
       "      <th>4</th>\n",
       "      <th>5</th>\n",
       "    </tr>\n",
       "  </thead>\n",
       "  <tbody>\n",
       "    <tr>\n",
       "      <th>count</th>\n",
       "      <td>45.00</td>\n",
       "      <td>44.00</td>\n",
       "    </tr>\n",
       "    <tr>\n",
       "      <th>mean</th>\n",
       "      <td>206.58</td>\n",
       "      <td>742.66</td>\n",
       "    </tr>\n",
       "    <tr>\n",
       "      <th>std</th>\n",
       "      <td>373.66</td>\n",
       "      <td>1088.46</td>\n",
       "    </tr>\n",
       "    <tr>\n",
       "      <th>min</th>\n",
       "      <td>3.00</td>\n",
       "      <td>2.00</td>\n",
       "    </tr>\n",
       "    <tr>\n",
       "      <th>25%</th>\n",
       "      <td>26.00</td>\n",
       "      <td>67.25</td>\n",
       "    </tr>\n",
       "    <tr>\n",
       "      <th>50%</th>\n",
       "      <td>50.00</td>\n",
       "      <td>292.50</td>\n",
       "    </tr>\n",
       "    <tr>\n",
       "      <th>75%</th>\n",
       "      <td>213.00</td>\n",
       "      <td>801.50</td>\n",
       "    </tr>\n",
       "    <tr>\n",
       "      <th>max</th>\n",
       "      <td>1799.00</td>\n",
       "      <td>5301.00</td>\n",
       "    </tr>\n",
       "  </tbody>\n",
       "</table>\n",
       "</div>"
      ],
      "text/plain": [
       "Wave        4       5\n",
       "count   45.00   44.00\n",
       "mean   206.58  742.66\n",
       "std    373.66 1088.46\n",
       "min      3.00    2.00\n",
       "25%     26.00   67.25\n",
       "50%     50.00  292.50\n",
       "75%    213.00  801.50\n",
       "max   1799.00 5301.00"
      ]
     },
     "execution_count": 167,
     "metadata": {},
     "output_type": "execute_result"
    }
   ],
   "source": [
    "class_waves_messages.describe()"
   ]
  },
  {
   "cell_type": "code",
   "execution_count": 170,
   "id": "f8d97c62-4d7e-484f-8436-a43f0952202e",
   "metadata": {},
   "outputs": [
    {
     "data": {
      "text/plain": [
       "(29, 30)"
      ]
     },
     "execution_count": 170,
     "metadata": {},
     "output_type": "execute_result"
    }
   ],
   "source": [
    "class_waves_messages[4].isna().sum(),class_waves_messages[5].isna().sum() "
   ]
  },
  {
   "cell_type": "code",
   "execution_count": 171,
   "id": "4bdbf0cb-f29f-489d-a3ab-869bda5f259e",
   "metadata": {},
   "outputs": [
    {
     "data": {
      "text/html": [
       "<div>\n",
       "<style scoped>\n",
       "    .dataframe tbody tr th:only-of-type {\n",
       "        vertical-align: middle;\n",
       "    }\n",
       "\n",
       "    .dataframe tbody tr th {\n",
       "        vertical-align: top;\n",
       "    }\n",
       "\n",
       "    .dataframe thead th {\n",
       "        text-align: right;\n",
       "    }\n",
       "</style>\n",
       "<table border=\"1\" class=\"dataframe\">\n",
       "  <thead>\n",
       "    <tr style=\"text-align: right;\">\n",
       "      <th>Wave</th>\n",
       "      <th>4</th>\n",
       "      <th>5</th>\n",
       "    </tr>\n",
       "    <tr>\n",
       "      <th>Class</th>\n",
       "      <th></th>\n",
       "      <th></th>\n",
       "    </tr>\n",
       "  </thead>\n",
       "  <tbody>\n",
       "    <tr>\n",
       "      <th>73</th>\n",
       "      <td>43.00</td>\n",
       "      <td>4.00</td>\n",
       "    </tr>\n",
       "    <tr>\n",
       "      <th>74</th>\n",
       "      <td>319.00</td>\n",
       "      <td>2.00</td>\n",
       "    </tr>\n",
       "    <tr>\n",
       "      <th>78</th>\n",
       "      <td>1799.00</td>\n",
       "      <td>241.00</td>\n",
       "    </tr>\n",
       "    <tr>\n",
       "      <th>81</th>\n",
       "      <td>800.00</td>\n",
       "      <td>159.00</td>\n",
       "    </tr>\n",
       "    <tr>\n",
       "      <th>82</th>\n",
       "      <td>165.00</td>\n",
       "      <td>33.00</td>\n",
       "    </tr>\n",
       "    <tr>\n",
       "      <th>86</th>\n",
       "      <td>50.00</td>\n",
       "      <td>62.00</td>\n",
       "    </tr>\n",
       "    <tr>\n",
       "      <th>100</th>\n",
       "      <td>770.00</td>\n",
       "      <td>581.00</td>\n",
       "    </tr>\n",
       "    <tr>\n",
       "      <th>103</th>\n",
       "      <td>280.00</td>\n",
       "      <td>189.00</td>\n",
       "    </tr>\n",
       "    <tr>\n",
       "      <th>124</th>\n",
       "      <td>391.00</td>\n",
       "      <td>363.00</td>\n",
       "    </tr>\n",
       "    <tr>\n",
       "      <th>125</th>\n",
       "      <td>1600.00</td>\n",
       "      <td>565.00</td>\n",
       "    </tr>\n",
       "    <tr>\n",
       "      <th>131</th>\n",
       "      <td>234.00</td>\n",
       "      <td>188.00</td>\n",
       "    </tr>\n",
       "    <tr>\n",
       "      <th>133</th>\n",
       "      <td>81.00</td>\n",
       "      <td>35.00</td>\n",
       "    </tr>\n",
       "    <tr>\n",
       "      <th>134</th>\n",
       "      <td>11.00</td>\n",
       "      <td>50.00</td>\n",
       "    </tr>\n",
       "    <tr>\n",
       "      <th>135</th>\n",
       "      <td>213.00</td>\n",
       "      <td>54.00</td>\n",
       "    </tr>\n",
       "    <tr>\n",
       "      <th>141</th>\n",
       "      <td>148.00</td>\n",
       "      <td>40.00</td>\n",
       "    </tr>\n",
       "  </tbody>\n",
       "</table>\n",
       "</div>"
      ],
      "text/plain": [
       "Wave        4      5\n",
       "Class               \n",
       "73      43.00   4.00\n",
       "74     319.00   2.00\n",
       "78    1799.00 241.00\n",
       "81     800.00 159.00\n",
       "82     165.00  33.00\n",
       "86      50.00  62.00\n",
       "100    770.00 581.00\n",
       "103    280.00 189.00\n",
       "124    391.00 363.00\n",
       "125   1600.00 565.00\n",
       "131    234.00 188.00\n",
       "133     81.00  35.00\n",
       "134     11.00  50.00\n",
       "135    213.00  54.00\n",
       "141    148.00  40.00"
      ]
     },
     "execution_count": 171,
     "metadata": {},
     "output_type": "execute_result"
    }
   ],
   "source": [
    "# collected messages at both waves 4 and 5\n",
    "class_waves_messages[~class_waves_messages.isnull().any(axis=1)]"
   ]
  },
  {
   "cell_type": "markdown",
   "id": "ecbca1dd-5f6c-4c2e-9767-b1c905140bfd",
   "metadata": {},
   "source": [
    "#### Per Child Data"
   ]
  },
  {
   "cell_type": "code",
   "execution_count": 173,
   "id": "07e4acdd-a9bf-419e-b2f9-fb687c19ce83",
   "metadata": {},
   "outputs": [
    {
     "data": {
      "text/html": [
       "<div>\n",
       "<style scoped>\n",
       "    .dataframe tbody tr th:only-of-type {\n",
       "        vertical-align: middle;\n",
       "    }\n",
       "\n",
       "    .dataframe tbody tr th {\n",
       "        vertical-align: top;\n",
       "    }\n",
       "\n",
       "    .dataframe thead th {\n",
       "        text-align: right;\n",
       "    }\n",
       "</style>\n",
       "<table border=\"1\" class=\"dataframe\">\n",
       "  <thead>\n",
       "    <tr style=\"text-align: right;\">\n",
       "      <th>Wave</th>\n",
       "      <th>4</th>\n",
       "      <th>5</th>\n",
       "    </tr>\n",
       "    <tr>\n",
       "      <th>Child</th>\n",
       "      <th></th>\n",
       "      <th></th>\n",
       "    </tr>\n",
       "  </thead>\n",
       "  <tbody>\n",
       "    <tr>\n",
       "      <th>908</th>\n",
       "      <td>2.00</td>\n",
       "      <td>NaN</td>\n",
       "    </tr>\n",
       "    <tr>\n",
       "      <th>949</th>\n",
       "      <td>23.00</td>\n",
       "      <td>NaN</td>\n",
       "    </tr>\n",
       "    <tr>\n",
       "      <th>992</th>\n",
       "      <td>4.00</td>\n",
       "      <td>NaN</td>\n",
       "    </tr>\n",
       "    <tr>\n",
       "      <th>997</th>\n",
       "      <td>15.00</td>\n",
       "      <td>NaN</td>\n",
       "    </tr>\n",
       "    <tr>\n",
       "      <th>998</th>\n",
       "      <td>2.00</td>\n",
       "      <td>NaN</td>\n",
       "    </tr>\n",
       "    <tr>\n",
       "      <th>...</th>\n",
       "      <td>...</td>\n",
       "      <td>...</td>\n",
       "    </tr>\n",
       "    <tr>\n",
       "      <th>6178</th>\n",
       "      <td>NaN</td>\n",
       "      <td>11.00</td>\n",
       "    </tr>\n",
       "    <tr>\n",
       "      <th>6179</th>\n",
       "      <td>NaN</td>\n",
       "      <td>2.00</td>\n",
       "    </tr>\n",
       "    <tr>\n",
       "      <th>6180</th>\n",
       "      <td>NaN</td>\n",
       "      <td>8.00</td>\n",
       "    </tr>\n",
       "    <tr>\n",
       "      <th>6181</th>\n",
       "      <td>NaN</td>\n",
       "      <td>5.00</td>\n",
       "    </tr>\n",
       "    <tr>\n",
       "      <th>6182</th>\n",
       "      <td>NaN</td>\n",
       "      <td>5.00</td>\n",
       "    </tr>\n",
       "  </tbody>\n",
       "</table>\n",
       "<p>920 rows × 2 columns</p>\n",
       "</div>"
      ],
      "text/plain": [
       "Wave      4     5\n",
       "Child            \n",
       "908    2.00   NaN\n",
       "949   23.00   NaN\n",
       "992    4.00   NaN\n",
       "997   15.00   NaN\n",
       "998    2.00   NaN\n",
       "...     ...   ...\n",
       "6178    NaN 11.00\n",
       "6179    NaN  2.00\n",
       "6180    NaN  8.00\n",
       "6181    NaN  5.00\n",
       "6182    NaN  5.00\n",
       "\n",
       "[920 rows x 2 columns]"
      ]
     },
     "execution_count": 173,
     "metadata": {},
     "output_type": "execute_result"
    }
   ],
   "source": [
    "child_waves_messages = df_comm.groupby(['Child','Wave'])['UMID'].count().reset_index()\n",
    "child_waves_messages = child_waves_messages.pivot(index='Child', columns='Wave')['UMID']\n",
    "child_waves_messages"
   ]
  },
  {
   "cell_type": "code",
   "execution_count": 177,
   "id": "051401d3-f648-48bf-9ca3-382e1946f330",
   "metadata": {},
   "outputs": [
    {
     "data": {
      "text/html": [
       "<div>\n",
       "<style scoped>\n",
       "    .dataframe tbody tr th:only-of-type {\n",
       "        vertical-align: middle;\n",
       "    }\n",
       "\n",
       "    .dataframe tbody tr th {\n",
       "        vertical-align: top;\n",
       "    }\n",
       "\n",
       "    .dataframe thead th {\n",
       "        text-align: right;\n",
       "    }\n",
       "</style>\n",
       "<table border=\"1\" class=\"dataframe\">\n",
       "  <thead>\n",
       "    <tr style=\"text-align: right;\">\n",
       "      <th>Wave</th>\n",
       "      <th>4</th>\n",
       "      <th>5</th>\n",
       "    </tr>\n",
       "  </thead>\n",
       "  <tbody>\n",
       "    <tr>\n",
       "      <th>count</th>\n",
       "      <td>446.00</td>\n",
       "      <td>617.00</td>\n",
       "    </tr>\n",
       "    <tr>\n",
       "      <th>mean</th>\n",
       "      <td>20.84</td>\n",
       "      <td>52.96</td>\n",
       "    </tr>\n",
       "    <tr>\n",
       "      <th>std</th>\n",
       "      <td>38.16</td>\n",
       "      <td>96.56</td>\n",
       "    </tr>\n",
       "    <tr>\n",
       "      <th>min</th>\n",
       "      <td>1.00</td>\n",
       "      <td>1.00</td>\n",
       "    </tr>\n",
       "    <tr>\n",
       "      <th>25%</th>\n",
       "      <td>3.00</td>\n",
       "      <td>5.00</td>\n",
       "    </tr>\n",
       "    <tr>\n",
       "      <th>50%</th>\n",
       "      <td>7.00</td>\n",
       "      <td>17.00</td>\n",
       "    </tr>\n",
       "    <tr>\n",
       "      <th>75%</th>\n",
       "      <td>20.00</td>\n",
       "      <td>50.00</td>\n",
       "    </tr>\n",
       "    <tr>\n",
       "      <th>max</th>\n",
       "      <td>331.00</td>\n",
       "      <td>789.00</td>\n",
       "    </tr>\n",
       "  </tbody>\n",
       "</table>\n",
       "</div>"
      ],
      "text/plain": [
       "Wave       4      5\n",
       "count 446.00 617.00\n",
       "mean   20.84  52.96\n",
       "std    38.16  96.56\n",
       "min     1.00   1.00\n",
       "25%     3.00   5.00\n",
       "50%     7.00  17.00\n",
       "75%    20.00  50.00\n",
       "max   331.00 789.00"
      ]
     },
     "execution_count": 177,
     "metadata": {},
     "output_type": "execute_result"
    }
   ],
   "source": [
    "child_waves_messages.describe()"
   ]
  },
  {
   "cell_type": "code",
   "execution_count": 183,
   "id": "06c97dfc-4ee1-41ef-8e68-cd4a4f6b1861",
   "metadata": {},
   "outputs": [
    {
     "data": {
      "text/plain": [
       "(474, 303)"
      ]
     },
     "execution_count": 183,
     "metadata": {},
     "output_type": "execute_result"
    }
   ],
   "source": [
    "child_waves_messages[4].isna().sum(),child_waves_messages[5].isna().sum() "
   ]
  },
  {
   "cell_type": "code",
   "execution_count": 179,
   "id": "ecdab715-85e9-47d7-8395-9ac89cb5202b",
   "metadata": {},
   "outputs": [
    {
     "data": {
      "text/html": [
       "<div>\n",
       "<style scoped>\n",
       "    .dataframe tbody tr th:only-of-type {\n",
       "        vertical-align: middle;\n",
       "    }\n",
       "\n",
       "    .dataframe tbody tr th {\n",
       "        vertical-align: top;\n",
       "    }\n",
       "\n",
       "    .dataframe thead th {\n",
       "        text-align: right;\n",
       "    }\n",
       "</style>\n",
       "<table border=\"1\" class=\"dataframe\">\n",
       "  <thead>\n",
       "    <tr style=\"text-align: right;\">\n",
       "      <th>Wave</th>\n",
       "      <th>4</th>\n",
       "      <th>5</th>\n",
       "    </tr>\n",
       "    <tr>\n",
       "      <th>Child</th>\n",
       "      <th></th>\n",
       "      <th></th>\n",
       "    </tr>\n",
       "  </thead>\n",
       "  <tbody>\n",
       "    <tr>\n",
       "      <th>1409</th>\n",
       "      <td>14.00</td>\n",
       "      <td>4.00</td>\n",
       "    </tr>\n",
       "    <tr>\n",
       "      <th>1605</th>\n",
       "      <td>131.00</td>\n",
       "      <td>5.00</td>\n",
       "    </tr>\n",
       "    <tr>\n",
       "      <th>1606</th>\n",
       "      <td>9.00</td>\n",
       "      <td>2.00</td>\n",
       "    </tr>\n",
       "    <tr>\n",
       "      <th>1607</th>\n",
       "      <td>7.00</td>\n",
       "      <td>10.00</td>\n",
       "    </tr>\n",
       "    <tr>\n",
       "      <th>1608</th>\n",
       "      <td>14.00</td>\n",
       "      <td>16.00</td>\n",
       "    </tr>\n",
       "    <tr>\n",
       "      <th>...</th>\n",
       "      <td>...</td>\n",
       "      <td>...</td>\n",
       "    </tr>\n",
       "    <tr>\n",
       "      <th>4877</th>\n",
       "      <td>20.00</td>\n",
       "      <td>3.00</td>\n",
       "    </tr>\n",
       "    <tr>\n",
       "      <th>4880</th>\n",
       "      <td>4.00</td>\n",
       "      <td>4.00</td>\n",
       "    </tr>\n",
       "    <tr>\n",
       "      <th>4881</th>\n",
       "      <td>21.00</td>\n",
       "      <td>4.00</td>\n",
       "    </tr>\n",
       "    <tr>\n",
       "      <th>4884</th>\n",
       "      <td>10.00</td>\n",
       "      <td>1.00</td>\n",
       "    </tr>\n",
       "    <tr>\n",
       "      <th>4890</th>\n",
       "      <td>9.00</td>\n",
       "      <td>9.00</td>\n",
       "    </tr>\n",
       "  </tbody>\n",
       "</table>\n",
       "<p>143 rows × 2 columns</p>\n",
       "</div>"
      ],
      "text/plain": [
       "Wave       4     5\n",
       "Child             \n",
       "1409   14.00  4.00\n",
       "1605  131.00  5.00\n",
       "1606    9.00  2.00\n",
       "1607    7.00 10.00\n",
       "1608   14.00 16.00\n",
       "...      ...   ...\n",
       "4877   20.00  3.00\n",
       "4880    4.00  4.00\n",
       "4881   21.00  4.00\n",
       "4884   10.00  1.00\n",
       "4890    9.00  9.00\n",
       "\n",
       "[143 rows x 2 columns]"
      ]
     },
     "execution_count": 179,
     "metadata": {},
     "output_type": "execute_result"
    }
   ],
   "source": [
    "child_waves_messages[~child_waves_messages.isnull().any(axis=1)]"
   ]
  },
  {
   "cell_type": "markdown",
   "id": "33d37b0d-8b26-44a6-9142-791b58d36a35",
   "metadata": {},
   "source": [
    "### Background Information Data"
   ]
  },
  {
   "cell_type": "code",
   "execution_count": 182,
   "id": "c5553e9e-0b58-4401-9c02-aac27cfc7abb",
   "metadata": {},
   "outputs": [
    {
     "data": {
      "text/html": [
       "<div>\n",
       "<style scoped>\n",
       "    .dataframe tbody tr th:only-of-type {\n",
       "        vertical-align: middle;\n",
       "    }\n",
       "\n",
       "    .dataframe tbody tr th {\n",
       "        vertical-align: top;\n",
       "    }\n",
       "\n",
       "    .dataframe thead th {\n",
       "        text-align: right;\n",
       "    }\n",
       "</style>\n",
       "<table border=\"1\" class=\"dataframe\">\n",
       "  <thead>\n",
       "    <tr style=\"text-align: right;\">\n",
       "      <th></th>\n",
       "      <th>School</th>\n",
       "      <th>Level</th>\n",
       "      <th>Class_Y1</th>\n",
       "      <th>Class_Y2</th>\n",
       "      <th>Class_Y3</th>\n",
       "      <th>Child</th>\n",
       "      <th>Sex</th>\n",
       "      <th>Sex_f</th>\n",
       "      <th>Age_W1</th>\n",
       "      <th>Age_W5</th>\n",
       "      <th>W1</th>\n",
       "      <th>W2</th>\n",
       "      <th>W3</th>\n",
       "      <th>W4</th>\n",
       "      <th>W5</th>\n",
       "      <th>W6</th>\n",
       "      <th>W7</th>\n",
       "      <th>Y1_Sample</th>\n",
       "      <th>Y3_Sample</th>\n",
       "    </tr>\n",
       "  </thead>\n",
       "  <tbody>\n",
       "    <tr>\n",
       "      <th>0</th>\n",
       "      <td>22</td>\n",
       "      <td>Secondary</td>\n",
       "      <td>52.00</td>\n",
       "      <td>52.00</td>\n",
       "      <td>NaN</td>\n",
       "      <td>902</td>\n",
       "      <td>1</td>\n",
       "      <td>Female</td>\n",
       "      <td>13.00</td>\n",
       "      <td>NaN</td>\n",
       "      <td>1</td>\n",
       "      <td>1</td>\n",
       "      <td>0</td>\n",
       "      <td>0</td>\n",
       "      <td>0</td>\n",
       "      <td>0</td>\n",
       "      <td>0</td>\n",
       "      <td>1</td>\n",
       "      <td>0</td>\n",
       "    </tr>\n",
       "    <tr>\n",
       "      <th>1</th>\n",
       "      <td>22</td>\n",
       "      <td>Secondary</td>\n",
       "      <td>52.00</td>\n",
       "      <td>52.00</td>\n",
       "      <td>NaN</td>\n",
       "      <td>904</td>\n",
       "      <td>1</td>\n",
       "      <td>Female</td>\n",
       "      <td>12.00</td>\n",
       "      <td>NaN</td>\n",
       "      <td>1</td>\n",
       "      <td>1</td>\n",
       "      <td>0</td>\n",
       "      <td>0</td>\n",
       "      <td>0</td>\n",
       "      <td>0</td>\n",
       "      <td>0</td>\n",
       "      <td>1</td>\n",
       "      <td>0</td>\n",
       "    </tr>\n",
       "    <tr>\n",
       "      <th>2</th>\n",
       "      <td>22</td>\n",
       "      <td>Secondary</td>\n",
       "      <td>52.00</td>\n",
       "      <td>52.00</td>\n",
       "      <td>NaN</td>\n",
       "      <td>907</td>\n",
       "      <td>1</td>\n",
       "      <td>Female</td>\n",
       "      <td>12.00</td>\n",
       "      <td>NaN</td>\n",
       "      <td>1</td>\n",
       "      <td>1</td>\n",
       "      <td>0</td>\n",
       "      <td>0</td>\n",
       "      <td>0</td>\n",
       "      <td>0</td>\n",
       "      <td>0</td>\n",
       "      <td>1</td>\n",
       "      <td>0</td>\n",
       "    </tr>\n",
       "  </tbody>\n",
       "</table>\n",
       "</div>"
      ],
      "text/plain": [
       "   School      Level  Class_Y1  Class_Y2  Class_Y3  Child  Sex   Sex_f  \\\n",
       "0      22  Secondary     52.00     52.00       NaN    902    1  Female   \n",
       "1      22  Secondary     52.00     52.00       NaN    904    1  Female   \n",
       "2      22  Secondary     52.00     52.00       NaN    907    1  Female   \n",
       "\n",
       "   Age_W1  Age_W5  W1  W2  W3  W4  W5  W6  W7  Y1_Sample  Y3_Sample  \n",
       "0   13.00     NaN   1   1   0   0   0   0   0          1          0  \n",
       "1   12.00     NaN   1   1   0   0   0   0   0          1          0  \n",
       "2   12.00     NaN   1   1   0   0   0   0   0          1          0  "
      ]
     },
     "execution_count": 182,
     "metadata": {},
     "output_type": "execute_result"
    }
   ],
   "source": [
    "df_pp = pd.read_csv('../data/Participant_info_Final.csv', sep=';', header=0)\n",
    "df_pp.head(3)"
   ]
  },
  {
   "cell_type": "code",
   "execution_count": 193,
   "id": "c0bb642d-38bf-4d99-99d1-4e9d666451c0",
   "metadata": {},
   "outputs": [
    {
     "data": {
      "text/plain": [
       "(1484, 19)"
      ]
     },
     "execution_count": 193,
     "metadata": {},
     "output_type": "execute_result"
    }
   ],
   "source": [
    "df_pp.shape"
   ]
  },
  {
   "cell_type": "code",
   "execution_count": 196,
   "id": "1163b991-cf44-454e-b530-cc9eae5da48a",
   "metadata": {},
   "outputs": [
    {
     "data": {
      "text/plain": [
       "(951, 1032)"
      ]
     },
     "execution_count": 196,
     "metadata": {},
     "output_type": "execute_result"
    }
   ],
   "source": [
    "df_pp['Y1_Sample'].sum(),df_pp['Y3_Sample'].sum()"
   ]
  },
  {
   "cell_type": "code",
   "execution_count": 192,
   "id": "c1c7ca35-2d5d-4438-91eb-5b2855280b60",
   "metadata": {},
   "outputs": [
    {
     "data": {
      "text/plain": [
       "(843, 901, 868, 744, 1017, 755, 745)"
      ]
     },
     "execution_count": 192,
     "metadata": {},
     "output_type": "execute_result"
    }
   ],
   "source": [
    "df_pp['W1'].sum(),df_pp['W2'].sum(),df_pp['W3'].sum(),df_pp['W4'].sum(),df_pp['W5'].sum(),df_pp['W6'].sum(),df_pp['W7'].sum()"
   ]
  },
  {
   "cell_type": "code",
   "execution_count": 214,
   "id": "69a78835-21cf-4ec9-81bc-4d2ff07b1bcb",
   "metadata": {},
   "outputs": [],
   "source": [
    "df_all_waves = df_pp[(df_pp['W1']==1) & (df_pp['W2']==1)& (df_pp['W3']==1) & (df_pp['W4']==1) &(df_pp['W5']==1) & (df_pp['W6']==1) & (df_pp['W7']==1)]"
   ]
  },
  {
   "cell_type": "code",
   "execution_count": 215,
   "id": "29589012-764c-4aa6-a55a-499eac01632a",
   "metadata": {},
   "outputs": [
    {
     "data": {
      "text/plain": [
       "Class_Y1  Class_Y2  Class_Y3\n",
       "74.00     74.00     74.00        8\n",
       "78.00     78.00     78.00       19\n",
       "79.00     79.00     78.00        5\n",
       "81.00     81.00     81.00       27\n",
       "82.00     82.00     82.00        6\n",
       "86.00     86.00     86.00        8\n",
       "100.00    100.00    100.00      11\n",
       "                    300.00       1\n",
       "103.00    103.00    103.00      13\n",
       "124.00    124.00    124.00      15\n",
       "125.00    125.00    125.00      11\n",
       "131.00    131.00    131.00      10\n",
       "133.00    133.00    133.00      10\n",
       "135.00    135.00    135.00      17\n",
       "141.00    141.00    141.00      13\n",
       "Name: Child, dtype: int64"
      ]
     },
     "execution_count": 215,
     "metadata": {},
     "output_type": "execute_result"
    }
   ],
   "source": [
    "df_all_waves.groupby(['Class_Y1','Class_Y2','Class_Y3'])['Child'].count()"
   ]
  },
  {
   "cell_type": "code",
   "execution_count": 206,
   "id": "e60dbd51-e07f-4950-961c-c257a6faa148",
   "metadata": {},
   "outputs": [
    {
     "data": {
      "text/plain": [
       "Class_Y2\n",
       "74.00      8\n",
       "78.00     19\n",
       "79.00      5\n",
       "81.00     27\n",
       "82.00      6\n",
       "86.00      8\n",
       "100.00    12\n",
       "103.00    13\n",
       "124.00    15\n",
       "125.00    11\n",
       "131.00    10\n",
       "133.00    10\n",
       "135.00    17\n",
       "141.00    13\n",
       "Name: Child, dtype: int64"
      ]
     },
     "execution_count": 206,
     "metadata": {},
     "output_type": "execute_result"
    }
   ],
   "source": [
    "df_all_waves.groupby(['Class_Y2'])['Child'].count()"
   ]
  },
  {
   "cell_type": "code",
   "execution_count": 211,
   "id": "fe1d88bf-b43c-4186-a729-4889a2917a0e",
   "metadata": {},
   "outputs": [],
   "source": [
    "# pd.set_option('display.max_rows', 200)\n",
    "\n",
    "# df_pp.groupby(['Class_Y1','Class_Y2','Class_Y3'])['Child'].count().reset_index()"
   ]
  },
  {
   "cell_type": "markdown",
   "id": "32b07ebf-144b-477a-9905-e7185ba6c8d5",
   "metadata": {},
   "source": [
    "## Participants per class - Wave5 nominations vs communication data"
   ]
  },
  {
   "cell_type": "code",
   "execution_count": 493,
   "id": "e37f3008-0043-4ae0-91a2-f0d1dc48a531",
   "metadata": {},
   "outputs": [
    {
     "data": {
      "text/html": [
       "<div>\n",
       "<style scoped>\n",
       "    .dataframe tbody tr th:only-of-type {\n",
       "        vertical-align: middle;\n",
       "    }\n",
       "\n",
       "    .dataframe tbody tr th {\n",
       "        vertical-align: top;\n",
       "    }\n",
       "\n",
       "    .dataframe thead th {\n",
       "        text-align: right;\n",
       "    }\n",
       "</style>\n",
       "<table border=\"1\" class=\"dataframe\">\n",
       "  <thead>\n",
       "    <tr style=\"text-align: right;\">\n",
       "      <th></th>\n",
       "      <th>School</th>\n",
       "      <th>Level</th>\n",
       "      <th>Class_Y1</th>\n",
       "      <th>Class_Y2</th>\n",
       "      <th>Class_Y3</th>\n",
       "      <th>Child</th>\n",
       "      <th>Sex</th>\n",
       "      <th>Sex_f</th>\n",
       "      <th>Age_W1</th>\n",
       "      <th>Age_W5</th>\n",
       "      <th>W1</th>\n",
       "      <th>W2</th>\n",
       "      <th>W3</th>\n",
       "      <th>W4</th>\n",
       "      <th>W5</th>\n",
       "      <th>W6</th>\n",
       "      <th>W7</th>\n",
       "      <th>Y1_Sample</th>\n",
       "      <th>Y3_Sample</th>\n",
       "    </tr>\n",
       "  </thead>\n",
       "  <tbody>\n",
       "    <tr>\n",
       "      <th>32</th>\n",
       "      <td>23</td>\n",
       "      <td>Secondary</td>\n",
       "      <td>59.00</td>\n",
       "      <td>59.00</td>\n",
       "      <td>231.00</td>\n",
       "      <td>1037</td>\n",
       "      <td>1</td>\n",
       "      <td>Female</td>\n",
       "      <td>12.00</td>\n",
       "      <td>14.00</td>\n",
       "      <td>1</td>\n",
       "      <td>1</td>\n",
       "      <td>1</td>\n",
       "      <td>1</td>\n",
       "      <td>1</td>\n",
       "      <td>0</td>\n",
       "      <td>0</td>\n",
       "      <td>1</td>\n",
       "      <td>1</td>\n",
       "    </tr>\n",
       "    <tr>\n",
       "      <th>34</th>\n",
       "      <td>23</td>\n",
       "      <td>Secondary</td>\n",
       "      <td>59.00</td>\n",
       "      <td>59.00</td>\n",
       "      <td>311.00</td>\n",
       "      <td>1046</td>\n",
       "      <td>1</td>\n",
       "      <td>Female</td>\n",
       "      <td>13.00</td>\n",
       "      <td>15.00</td>\n",
       "      <td>1</td>\n",
       "      <td>1</td>\n",
       "      <td>1</td>\n",
       "      <td>1</td>\n",
       "      <td>1</td>\n",
       "      <td>0</td>\n",
       "      <td>0</td>\n",
       "      <td>1</td>\n",
       "      <td>1</td>\n",
       "    </tr>\n",
       "    <tr>\n",
       "      <th>35</th>\n",
       "      <td>23</td>\n",
       "      <td>Secondary</td>\n",
       "      <td>59.00</td>\n",
       "      <td>59.00</td>\n",
       "      <td>311.00</td>\n",
       "      <td>1047</td>\n",
       "      <td>0</td>\n",
       "      <td>Male</td>\n",
       "      <td>13.00</td>\n",
       "      <td>15.00</td>\n",
       "      <td>1</td>\n",
       "      <td>1</td>\n",
       "      <td>1</td>\n",
       "      <td>1</td>\n",
       "      <td>1</td>\n",
       "      <td>0</td>\n",
       "      <td>0</td>\n",
       "      <td>1</td>\n",
       "      <td>1</td>\n",
       "    </tr>\n",
       "  </tbody>\n",
       "</table>\n",
       "</div>"
      ],
      "text/plain": [
       "    School      Level  Class_Y1  Class_Y2  Class_Y3  Child  Sex   Sex_f  \\\n",
       "32      23  Secondary     59.00     59.00    231.00   1037    1  Female   \n",
       "34      23  Secondary     59.00     59.00    311.00   1046    1  Female   \n",
       "35      23  Secondary     59.00     59.00    311.00   1047    0    Male   \n",
       "\n",
       "    Age_W1  Age_W5  W1  W2  W3  W4  W5  W6  W7  Y1_Sample  Y3_Sample  \n",
       "32   12.00   14.00   1   1   1   1   1   0   0          1          1  \n",
       "34   13.00   15.00   1   1   1   1   1   0   0          1          1  \n",
       "35   13.00   15.00   1   1   1   1   1   0   0          1          1  "
      ]
     },
     "execution_count": 493,
     "metadata": {},
     "output_type": "execute_result"
    }
   ],
   "source": [
    "df_pp = pd.read_csv('../data/Participant_info_Final.csv', sep=';', header=0)\n",
    "df_pp = df_pp[df_pp.W5 == 1]\n",
    "df_pp.head(3)"
   ]
  },
  {
   "cell_type": "code",
   "execution_count": 494,
   "id": "01585521-8d26-4c86-b2a2-85ea775844b1",
   "metadata": {},
   "outputs": [
    {
     "data": {
      "text/html": [
       "<div>\n",
       "<style scoped>\n",
       "    .dataframe tbody tr th:only-of-type {\n",
       "        vertical-align: middle;\n",
       "    }\n",
       "\n",
       "    .dataframe tbody tr th {\n",
       "        vertical-align: top;\n",
       "    }\n",
       "\n",
       "    .dataframe thead th {\n",
       "        text-align: right;\n",
       "    }\n",
       "</style>\n",
       "<table border=\"1\" class=\"dataframe\">\n",
       "  <thead>\n",
       "    <tr style=\"text-align: right;\">\n",
       "      <th></th>\n",
       "      <th>Class_Y3</th>\n",
       "      <th>PP_NumChild</th>\n",
       "    </tr>\n",
       "  </thead>\n",
       "  <tbody>\n",
       "    <tr>\n",
       "      <th>0</th>\n",
       "      <td>65.00</td>\n",
       "      <td>9</td>\n",
       "    </tr>\n",
       "    <tr>\n",
       "      <th>1</th>\n",
       "      <td>66.00</td>\n",
       "      <td>12</td>\n",
       "    </tr>\n",
       "    <tr>\n",
       "      <th>2</th>\n",
       "      <td>67.00</td>\n",
       "      <td>17</td>\n",
       "    </tr>\n",
       "  </tbody>\n",
       "</table>\n",
       "</div>"
      ],
      "text/plain": [
       "   Class_Y3  PP_NumChild\n",
       "0     65.00            9\n",
       "1     66.00           12\n",
       "2     67.00           17"
      ]
     },
     "execution_count": 494,
     "metadata": {},
     "output_type": "execute_result"
    }
   ],
   "source": [
    "num_part = df_pp.groupby('Class_Y3')['Child'].nunique().reset_index(name=\"PP_NumChild\")\n",
    "num_part.head(3)"
   ]
  },
  {
   "cell_type": "markdown",
   "id": "100e1694-e252-46ce-94fe-7a6420df5661",
   "metadata": {},
   "source": [
    "##### Nomination Data"
   ]
  },
  {
   "cell_type": "code",
   "execution_count": 600,
   "id": "8f48a124-548c-4f31-baa9-5e4962be5b1a",
   "metadata": {},
   "outputs": [
    {
     "data": {
      "text/html": [
       "<div>\n",
       "<style scoped>\n",
       "    .dataframe tbody tr th:only-of-type {\n",
       "        vertical-align: middle;\n",
       "    }\n",
       "\n",
       "    .dataframe tbody tr th {\n",
       "        vertical-align: top;\n",
       "    }\n",
       "\n",
       "    .dataframe thead th {\n",
       "        text-align: right;\n",
       "    }\n",
       "</style>\n",
       "<table border=\"1\" class=\"dataframe\">\n",
       "  <thead>\n",
       "    <tr style=\"text-align: right;\">\n",
       "      <th></th>\n",
       "      <th>School</th>\n",
       "      <th>Class</th>\n",
       "      <th>Child</th>\n",
       "      <th>Gender</th>\n",
       "      <th>Age</th>\n",
       "      <th>PI</th>\n",
       "      <th>Wave</th>\n",
       "      <th>Variable</th>\n",
       "      <th>Alter</th>\n",
       "    </tr>\n",
       "  </thead>\n",
       "  <tbody>\n",
       "    <tr>\n",
       "      <th>0</th>\n",
       "      <td>26</td>\n",
       "      <td>73</td>\n",
       "      <td>1401</td>\n",
       "      <td>1</td>\n",
       "      <td>12</td>\n",
       "      <td>0</td>\n",
       "      <td>5</td>\n",
       "      <td>GEN_Advice</td>\n",
       "      <td>1397</td>\n",
       "    </tr>\n",
       "    <tr>\n",
       "      <th>1</th>\n",
       "      <td>26</td>\n",
       "      <td>73</td>\n",
       "      <td>1401</td>\n",
       "      <td>1</td>\n",
       "      <td>12</td>\n",
       "      <td>0</td>\n",
       "      <td>5</td>\n",
       "      <td>GEN_Advice</td>\n",
       "      <td>1398</td>\n",
       "    </tr>\n",
       "    <tr>\n",
       "      <th>2</th>\n",
       "      <td>26</td>\n",
       "      <td>73</td>\n",
       "      <td>1401</td>\n",
       "      <td>1</td>\n",
       "      <td>12</td>\n",
       "      <td>0</td>\n",
       "      <td>5</td>\n",
       "      <td>GEN_Advice</td>\n",
       "      <td>1399</td>\n",
       "    </tr>\n",
       "  </tbody>\n",
       "</table>\n",
       "</div>"
      ],
      "text/plain": [
       "   School  Class  Child  Gender  Age  PI  Wave    Variable  Alter\n",
       "0      26     73   1401       1   12   0     5  GEN_Advice   1397\n",
       "1      26     73   1401       1   12   0     5  GEN_Advice   1398\n",
       "2      26     73   1401       1   12   0     5  GEN_Advice   1399"
      ]
     },
     "execution_count": 600,
     "metadata": {},
     "output_type": "execute_result"
    }
   ],
   "source": [
    "nomm_data = '../data/W5_Sociometric_long.csv'\n",
    "df_nomm = pd.read_csv(nomm_data, sep=';', header=0)\n",
    "df_nomm.head(3)"
   ]
  },
  {
   "cell_type": "code",
   "execution_count": 496,
   "id": "ceb50b23-f0d1-4324-b89f-a3ca34ec33e8",
   "metadata": {},
   "outputs": [
    {
     "data": {
      "text/plain": [
       "(736, 1040)"
      ]
     },
     "execution_count": 496,
     "metadata": {},
     "output_type": "execute_result"
    }
   ],
   "source": [
    "df_nomm['Child'].nunique(),df_nomm['Alter'].nunique()"
   ]
  },
  {
   "cell_type": "code",
   "execution_count": 497,
   "id": "4906bace-9cdc-4641-addf-a6b3e744a32e",
   "metadata": {},
   "outputs": [],
   "source": [
    "# number of children nominating someone per class\n",
    "df_nom_part = df_nomm.groupby('Class')['Child'].nunique().reset_index(name=\"NumChildren\")"
   ]
  },
  {
   "cell_type": "code",
   "execution_count": 498,
   "id": "09e72d7d-b00b-4c28-86dd-d2b9e2fa3b93",
   "metadata": {},
   "outputs": [
    {
     "data": {
      "text/html": [
       "<div>\n",
       "<style scoped>\n",
       "    .dataframe tbody tr th:only-of-type {\n",
       "        vertical-align: middle;\n",
       "    }\n",
       "\n",
       "    .dataframe tbody tr th {\n",
       "        vertical-align: top;\n",
       "    }\n",
       "\n",
       "    .dataframe thead th {\n",
       "        text-align: right;\n",
       "    }\n",
       "</style>\n",
       "<table border=\"1\" class=\"dataframe\">\n",
       "  <thead>\n",
       "    <tr style=\"text-align: right;\">\n",
       "      <th></th>\n",
       "      <th>Class</th>\n",
       "      <th>Child</th>\n",
       "      <th>NumNominations</th>\n",
       "    </tr>\n",
       "  </thead>\n",
       "  <tbody>\n",
       "    <tr>\n",
       "      <th>0</th>\n",
       "      <td>73</td>\n",
       "      <td>1401</td>\n",
       "      <td>28</td>\n",
       "    </tr>\n",
       "    <tr>\n",
       "      <th>1</th>\n",
       "      <td>73</td>\n",
       "      <td>1402</td>\n",
       "      <td>11</td>\n",
       "    </tr>\n",
       "    <tr>\n",
       "      <th>2</th>\n",
       "      <td>73</td>\n",
       "      <td>1406</td>\n",
       "      <td>5</td>\n",
       "    </tr>\n",
       "  </tbody>\n",
       "</table>\n",
       "</div>"
      ],
      "text/plain": [
       "   Class  Child  NumNominations\n",
       "0     73   1401              28\n",
       "1     73   1402              11\n",
       "2     73   1406               5"
      ]
     },
     "execution_count": 498,
     "metadata": {},
     "output_type": "execute_result"
    }
   ],
   "source": [
    "df_number_nominations = df_nomm.groupby(['Class','Child'])['Variable'].count().reset_index(name=\"NumNominations\")\n",
    "df_number_nominations.head(3)"
   ]
  },
  {
   "cell_type": "code",
   "execution_count": 499,
   "id": "1a1055d9-20e0-4426-8687-4d0c89798c43",
   "metadata": {},
   "outputs": [
    {
     "data": {
      "text/html": [
       "<div>\n",
       "<style scoped>\n",
       "    .dataframe tbody tr th:only-of-type {\n",
       "        vertical-align: middle;\n",
       "    }\n",
       "\n",
       "    .dataframe tbody tr th {\n",
       "        vertical-align: top;\n",
       "    }\n",
       "\n",
       "    .dataframe thead th {\n",
       "        text-align: right;\n",
       "    }\n",
       "</style>\n",
       "<table border=\"1\" class=\"dataframe\">\n",
       "  <thead>\n",
       "    <tr style=\"text-align: right;\">\n",
       "      <th></th>\n",
       "      <th>Class</th>\n",
       "      <th>NominationsPerClass</th>\n",
       "    </tr>\n",
       "  </thead>\n",
       "  <tbody>\n",
       "    <tr>\n",
       "      <th>0</th>\n",
       "      <td>73</td>\n",
       "      <td>88</td>\n",
       "    </tr>\n",
       "    <tr>\n",
       "      <th>1</th>\n",
       "      <td>74</td>\n",
       "      <td>200</td>\n",
       "    </tr>\n",
       "    <tr>\n",
       "      <th>2</th>\n",
       "      <td>78</td>\n",
       "      <td>549</td>\n",
       "    </tr>\n",
       "  </tbody>\n",
       "</table>\n",
       "</div>"
      ],
      "text/plain": [
       "   Class  NominationsPerClass\n",
       "0     73                   88\n",
       "1     74                  200\n",
       "2     78                  549"
      ]
     },
     "execution_count": 499,
     "metadata": {},
     "output_type": "execute_result"
    }
   ],
   "source": [
    "df_number_nominations.groupby('Class')['NumNominations'].sum().reset_index(name=\"NominationsPerClass\").head(3)"
   ]
  },
  {
   "cell_type": "markdown",
   "id": "e25383dc-840f-4f2b-b0a1-cf0535ee67d7",
   "metadata": {},
   "source": [
    "##### Communication data"
   ]
  },
  {
   "cell_type": "code",
   "execution_count": 500,
   "id": "3e982366-5470-4e76-80a8-ff1e97bcf069",
   "metadata": {},
   "outputs": [
    {
     "name": "stderr",
     "output_type": "stream",
     "text": [
      "/Users/bojansimoski/anaconda3/envs/ABM-PA/lib/python3.9/site-packages/IPython/core/interactiveshell.py:3165: DtypeWarning: Columns (22) have mixed types.Specify dtype option on import or set low_memory=False.\n",
      "  has_raised = await self.run_ast_nodes(code_ast.body, cell_name,\n"
     ]
    },
    {
     "data": {
      "text/html": [
       "<div>\n",
       "<style scoped>\n",
       "    .dataframe tbody tr th:only-of-type {\n",
       "        vertical-align: middle;\n",
       "    }\n",
       "\n",
       "    .dataframe tbody tr th {\n",
       "        vertical-align: top;\n",
       "    }\n",
       "\n",
       "    .dataframe thead th {\n",
       "        text-align: right;\n",
       "    }\n",
       "</style>\n",
       "<table border=\"1\" class=\"dataframe\">\n",
       "  <thead>\n",
       "    <tr style=\"text-align: right;\">\n",
       "      <th></th>\n",
       "      <th>Participant</th>\n",
       "      <th>School</th>\n",
       "      <th>Class</th>\n",
       "      <th>Child</th>\n",
       "      <th>Gender</th>\n",
       "      <th>Age</th>\n",
       "      <th>PI</th>\n",
       "      <th>Date</th>\n",
       "      <th>Time</th>\n",
       "      <th>UMID</th>\n",
       "      <th>...</th>\n",
       "      <th>ShareSource</th>\n",
       "      <th>SharedVia</th>\n",
       "      <th>Number_likes</th>\n",
       "      <th>Unnamed: 23</th>\n",
       "      <th>Unnamed: 24</th>\n",
       "      <th>Unnamed: 25</th>\n",
       "      <th>Unnamed: 26</th>\n",
       "      <th>Unnamed: 27</th>\n",
       "      <th>Unnamed: 28</th>\n",
       "      <th>Unnamed: 29</th>\n",
       "    </tr>\n",
       "  </thead>\n",
       "  <tbody>\n",
       "    <tr>\n",
       "      <th>0</th>\n",
       "      <td>3410302337</td>\n",
       "      <td>34.00</td>\n",
       "      <td>103.00</td>\n",
       "      <td>2337.00</td>\n",
       "      <td>0.00</td>\n",
       "      <td>11.00</td>\n",
       "      <td>7.00</td>\n",
       "      <td>9-3-2018</td>\n",
       "      <td>12:23</td>\n",
       "      <td>102371</td>\n",
       "      <td>...</td>\n",
       "      <td>NaN</td>\n",
       "      <td>NaN</td>\n",
       "      <td>0</td>\n",
       "      <td>NaN</td>\n",
       "      <td>NaN</td>\n",
       "      <td>NaN</td>\n",
       "      <td>NaN</td>\n",
       "      <td>NaN</td>\n",
       "      <td>NaN</td>\n",
       "      <td>NaN</td>\n",
       "    </tr>\n",
       "    <tr>\n",
       "      <th>15</th>\n",
       "      <td>3410302337</td>\n",
       "      <td>34.00</td>\n",
       "      <td>103.00</td>\n",
       "      <td>2337.00</td>\n",
       "      <td>0.00</td>\n",
       "      <td>11.00</td>\n",
       "      <td>7.00</td>\n",
       "      <td>10-3-2018</td>\n",
       "      <td>14:50</td>\n",
       "      <td>107068</td>\n",
       "      <td>...</td>\n",
       "      <td>NaN</td>\n",
       "      <td>NaN</td>\n",
       "      <td>0</td>\n",
       "      <td>NaN</td>\n",
       "      <td>NaN</td>\n",
       "      <td>NaN</td>\n",
       "      <td>NaN</td>\n",
       "      <td>NaN</td>\n",
       "      <td>NaN</td>\n",
       "      <td>NaN</td>\n",
       "    </tr>\n",
       "    <tr>\n",
       "      <th>16</th>\n",
       "      <td>3410302337</td>\n",
       "      <td>34.00</td>\n",
       "      <td>103.00</td>\n",
       "      <td>2337.00</td>\n",
       "      <td>0.00</td>\n",
       "      <td>11.00</td>\n",
       "      <td>7.00</td>\n",
       "      <td>10-3-2018</td>\n",
       "      <td>14:50</td>\n",
       "      <td>107069</td>\n",
       "      <td>...</td>\n",
       "      <td>NaN</td>\n",
       "      <td>NaN</td>\n",
       "      <td>0</td>\n",
       "      <td>NaN</td>\n",
       "      <td>NaN</td>\n",
       "      <td>NaN</td>\n",
       "      <td>NaN</td>\n",
       "      <td>NaN</td>\n",
       "      <td>NaN</td>\n",
       "      <td>NaN</td>\n",
       "    </tr>\n",
       "  </tbody>\n",
       "</table>\n",
       "<p>3 rows × 30 columns</p>\n",
       "</div>"
      ],
      "text/plain": [
       "   Participant  School  Class   Child  Gender   Age   PI       Date   Time  \\\n",
       "0   3410302337   34.00 103.00 2337.00    0.00 11.00 7.00   9-3-2018  12:23   \n",
       "15  3410302337   34.00 103.00 2337.00    0.00 11.00 7.00  10-3-2018  14:50   \n",
       "16  3410302337   34.00 103.00 2337.00    0.00 11.00 7.00  10-3-2018  14:50   \n",
       "\n",
       "      UMID  ...  ShareSource SharedVia Number_likes  Unnamed: 23  Unnamed: 24  \\\n",
       "0   102371  ...          NaN       NaN            0          NaN          NaN   \n",
       "15  107068  ...          NaN       NaN            0          NaN          NaN   \n",
       "16  107069  ...          NaN       NaN            0          NaN          NaN   \n",
       "\n",
       "   Unnamed: 25 Unnamed: 26  Unnamed: 27  Unnamed: 28  Unnamed: 29  \n",
       "0          NaN         NaN          NaN          NaN          NaN  \n",
       "15         NaN         NaN          NaN          NaN          NaN  \n",
       "16         NaN         NaN          NaN          NaN          NaN  \n",
       "\n",
       "[3 rows x 30 columns]"
      ]
     },
     "execution_count": 500,
     "metadata": {},
     "output_type": "execute_result"
    }
   ],
   "source": [
    "# Load data\n",
    "primary_school = '../data/Buzz_W5_primary-schools.csv'\n",
    "secondary_school = '../data/Buzz_W5_secondary-schools.csv'\n",
    "# Preprocess social buzz dataframe\n",
    "df_comm = pd.read_csv(primary_school, sep=';', header=0)\n",
    "df_comm = df_comm.append(pd.read_csv(secondary_school, sep=';', header=0))\n",
    "df_comm = df_comm[df_comm.Type==\"my\"]\n",
    "f_comm = df_comm.astype({'Participant': 'float64'})\n",
    "df_comm.head(3)"
   ]
  },
  {
   "cell_type": "code",
   "execution_count": 501,
   "id": "5fc34057-0b2b-4e42-920d-9218ac6eda4e",
   "metadata": {},
   "outputs": [
    {
     "data": {
      "text/html": [
       "<div>\n",
       "<style scoped>\n",
       "    .dataframe tbody tr th:only-of-type {\n",
       "        vertical-align: middle;\n",
       "    }\n",
       "\n",
       "    .dataframe tbody tr th {\n",
       "        vertical-align: top;\n",
       "    }\n",
       "\n",
       "    .dataframe thead th {\n",
       "        text-align: right;\n",
       "    }\n",
       "</style>\n",
       "<table border=\"1\" class=\"dataframe\">\n",
       "  <thead>\n",
       "    <tr style=\"text-align: right;\">\n",
       "      <th></th>\n",
       "      <th>Class</th>\n",
       "      <th>NumChildren</th>\n",
       "    </tr>\n",
       "  </thead>\n",
       "  <tbody>\n",
       "    <tr>\n",
       "      <th>0</th>\n",
       "      <td>73.00</td>\n",
       "      <td>1</td>\n",
       "    </tr>\n",
       "    <tr>\n",
       "      <th>1</th>\n",
       "      <td>74.00</td>\n",
       "      <td>1</td>\n",
       "    </tr>\n",
       "    <tr>\n",
       "      <th>2</th>\n",
       "      <td>78.00</td>\n",
       "      <td>18</td>\n",
       "    </tr>\n",
       "  </tbody>\n",
       "</table>\n",
       "</div>"
      ],
      "text/plain": [
       "   Class  NumChildren\n",
       "0  73.00            1\n",
       "1  74.00            1\n",
       "2  78.00           18"
      ]
     },
     "execution_count": 501,
     "metadata": {},
     "output_type": "execute_result"
    }
   ],
   "source": [
    "df_comm_child_class = df_comm.groupby('Class')['Child'].nunique().reset_index(name=\"NumChildren\")\n",
    "df_comm_child_class.head(3)"
   ]
  },
  {
   "cell_type": "markdown",
   "id": "3870e080-d224-4120-b0ce-e21dbbd37edb",
   "metadata": {},
   "source": [
    "#### gather the information from the three different sources in one dataframe"
   ]
  },
  {
   "cell_type": "code",
   "execution_count": 502,
   "id": "d046577b-1419-451e-ba34-247015ec0c04",
   "metadata": {},
   "outputs": [
    {
     "data": {
      "text/html": [
       "<div>\n",
       "<style scoped>\n",
       "    .dataframe tbody tr th:only-of-type {\n",
       "        vertical-align: middle;\n",
       "    }\n",
       "\n",
       "    .dataframe tbody tr th {\n",
       "        vertical-align: top;\n",
       "    }\n",
       "\n",
       "    .dataframe thead th {\n",
       "        text-align: right;\n",
       "    }\n",
       "</style>\n",
       "<table border=\"1\" class=\"dataframe\">\n",
       "  <thead>\n",
       "    <tr style=\"text-align: right;\">\n",
       "      <th></th>\n",
       "      <th>Class_Y3</th>\n",
       "      <th>PP_NumChild</th>\n",
       "      <th>Nomination_NumChild</th>\n",
       "      <th>Communication_NumChild</th>\n",
       "    </tr>\n",
       "  </thead>\n",
       "  <tbody>\n",
       "    <tr>\n",
       "      <th>0</th>\n",
       "      <td>65.00</td>\n",
       "      <td>9</td>\n",
       "      <td>NaN</td>\n",
       "      <td>NaN</td>\n",
       "    </tr>\n",
       "    <tr>\n",
       "      <th>1</th>\n",
       "      <td>66.00</td>\n",
       "      <td>12</td>\n",
       "      <td>NaN</td>\n",
       "      <td>NaN</td>\n",
       "    </tr>\n",
       "    <tr>\n",
       "      <th>2</th>\n",
       "      <td>67.00</td>\n",
       "      <td>17</td>\n",
       "      <td>NaN</td>\n",
       "      <td>NaN</td>\n",
       "    </tr>\n",
       "  </tbody>\n",
       "</table>\n",
       "</div>"
      ],
      "text/plain": [
       "   Class_Y3  PP_NumChild  Nomination_NumChild  Communication_NumChild\n",
       "0     65.00            9                  NaN                     NaN\n",
       "1     66.00           12                  NaN                     NaN\n",
       "2     67.00           17                  NaN                     NaN"
      ]
     },
     "execution_count": 502,
     "metadata": {},
     "output_type": "execute_result"
    }
   ],
   "source": [
    "num_part['Nomination_NumChild'] = num_part['Class_Y3'].map(df_nom_part.set_index('Class')['NumChildren'])\n",
    "num_part['Communication_NumChild'] = num_part['Class_Y3'].map(df_comm_child_class.set_index('Class')['NumChildren'])\n",
    "num_part.head(3)"
   ]
  },
  {
   "cell_type": "code",
   "execution_count": 503,
   "id": "246a0ed4-497a-40d1-8ac1-9b6515295e5a",
   "metadata": {},
   "outputs": [
    {
     "data": {
      "text/html": [
       "<div>\n",
       "<style scoped>\n",
       "    .dataframe tbody tr th:only-of-type {\n",
       "        vertical-align: middle;\n",
       "    }\n",
       "\n",
       "    .dataframe tbody tr th {\n",
       "        vertical-align: top;\n",
       "    }\n",
       "\n",
       "    .dataframe thead th {\n",
       "        text-align: right;\n",
       "    }\n",
       "</style>\n",
       "<table border=\"1\" class=\"dataframe\">\n",
       "  <thead>\n",
       "    <tr style=\"text-align: right;\">\n",
       "      <th></th>\n",
       "      <th>Class_Y3</th>\n",
       "      <th>PP_NumChild</th>\n",
       "      <th>Nomination_NumChild</th>\n",
       "      <th>Communication_NumChild</th>\n",
       "    </tr>\n",
       "  </thead>\n",
       "  <tbody>\n",
       "    <tr>\n",
       "      <th>11</th>\n",
       "      <td>78.00</td>\n",
       "      <td>29</td>\n",
       "      <td>29.00</td>\n",
       "      <td>18.00</td>\n",
       "    </tr>\n",
       "    <tr>\n",
       "      <th>12</th>\n",
       "      <td>81.00</td>\n",
       "      <td>28</td>\n",
       "      <td>26.00</td>\n",
       "      <td>19.00</td>\n",
       "    </tr>\n",
       "    <tr>\n",
       "      <th>15</th>\n",
       "      <td>100.00</td>\n",
       "      <td>20</td>\n",
       "      <td>20.00</td>\n",
       "      <td>19.00</td>\n",
       "    </tr>\n",
       "    <tr>\n",
       "      <th>17</th>\n",
       "      <td>124.00</td>\n",
       "      <td>19</td>\n",
       "      <td>19.00</td>\n",
       "      <td>17.00</td>\n",
       "    </tr>\n",
       "    <tr>\n",
       "      <th>18</th>\n",
       "      <td>125.00</td>\n",
       "      <td>17</td>\n",
       "      <td>17.00</td>\n",
       "      <td>16.00</td>\n",
       "    </tr>\n",
       "    <tr>\n",
       "      <th>34</th>\n",
       "      <td>256.00</td>\n",
       "      <td>24</td>\n",
       "      <td>24.00</td>\n",
       "      <td>24.00</td>\n",
       "    </tr>\n",
       "    <tr>\n",
       "      <th>35</th>\n",
       "      <td>258.00</td>\n",
       "      <td>25</td>\n",
       "      <td>25.00</td>\n",
       "      <td>16.00</td>\n",
       "    </tr>\n",
       "    <tr>\n",
       "      <th>37</th>\n",
       "      <td>261.00</td>\n",
       "      <td>17</td>\n",
       "      <td>17.00</td>\n",
       "      <td>17.00</td>\n",
       "    </tr>\n",
       "    <tr>\n",
       "      <th>38</th>\n",
       "      <td>262.00</td>\n",
       "      <td>15</td>\n",
       "      <td>15.00</td>\n",
       "      <td>15.00</td>\n",
       "    </tr>\n",
       "    <tr>\n",
       "      <th>39</th>\n",
       "      <td>263.00</td>\n",
       "      <td>20</td>\n",
       "      <td>20.00</td>\n",
       "      <td>20.00</td>\n",
       "    </tr>\n",
       "    <tr>\n",
       "      <th>40</th>\n",
       "      <td>272.00</td>\n",
       "      <td>26</td>\n",
       "      <td>24.00</td>\n",
       "      <td>25.00</td>\n",
       "    </tr>\n",
       "    <tr>\n",
       "      <th>41</th>\n",
       "      <td>273.00</td>\n",
       "      <td>25</td>\n",
       "      <td>25.00</td>\n",
       "      <td>24.00</td>\n",
       "    </tr>\n",
       "    <tr>\n",
       "      <th>46</th>\n",
       "      <td>292.00</td>\n",
       "      <td>21</td>\n",
       "      <td>21.00</td>\n",
       "      <td>21.00</td>\n",
       "    </tr>\n",
       "    <tr>\n",
       "      <th>48</th>\n",
       "      <td>296.00</td>\n",
       "      <td>19</td>\n",
       "      <td>19.00</td>\n",
       "      <td>17.00</td>\n",
       "    </tr>\n",
       "    <tr>\n",
       "      <th>49</th>\n",
       "      <td>297.00</td>\n",
       "      <td>18</td>\n",
       "      <td>18.00</td>\n",
       "      <td>16.00</td>\n",
       "    </tr>\n",
       "    <tr>\n",
       "      <th>50</th>\n",
       "      <td>298.00</td>\n",
       "      <td>21</td>\n",
       "      <td>21.00</td>\n",
       "      <td>21.00</td>\n",
       "    </tr>\n",
       "    <tr>\n",
       "      <th>51</th>\n",
       "      <td>299.00</td>\n",
       "      <td>19</td>\n",
       "      <td>19.00</td>\n",
       "      <td>19.00</td>\n",
       "    </tr>\n",
       "    <tr>\n",
       "      <th>52</th>\n",
       "      <td>300.00</td>\n",
       "      <td>19</td>\n",
       "      <td>19.00</td>\n",
       "      <td>19.00</td>\n",
       "    </tr>\n",
       "    <tr>\n",
       "      <th>53</th>\n",
       "      <td>301.00</td>\n",
       "      <td>24</td>\n",
       "      <td>24.00</td>\n",
       "      <td>24.00</td>\n",
       "    </tr>\n",
       "    <tr>\n",
       "      <th>54</th>\n",
       "      <td>302.00</td>\n",
       "      <td>19</td>\n",
       "      <td>19.00</td>\n",
       "      <td>19.00</td>\n",
       "    </tr>\n",
       "    <tr>\n",
       "      <th>55</th>\n",
       "      <td>303.00</td>\n",
       "      <td>27</td>\n",
       "      <td>27.00</td>\n",
       "      <td>25.00</td>\n",
       "    </tr>\n",
       "  </tbody>\n",
       "</table>\n",
       "</div>"
      ],
      "text/plain": [
       "    Class_Y3  PP_NumChild  Nomination_NumChild  Communication_NumChild\n",
       "11     78.00           29                29.00                   18.00\n",
       "12     81.00           28                26.00                   19.00\n",
       "15    100.00           20                20.00                   19.00\n",
       "17    124.00           19                19.00                   17.00\n",
       "18    125.00           17                17.00                   16.00\n",
       "34    256.00           24                24.00                   24.00\n",
       "35    258.00           25                25.00                   16.00\n",
       "37    261.00           17                17.00                   17.00\n",
       "38    262.00           15                15.00                   15.00\n",
       "39    263.00           20                20.00                   20.00\n",
       "40    272.00           26                24.00                   25.00\n",
       "41    273.00           25                25.00                   24.00\n",
       "46    292.00           21                21.00                   21.00\n",
       "48    296.00           19                19.00                   17.00\n",
       "49    297.00           18                18.00                   16.00\n",
       "50    298.00           21                21.00                   21.00\n",
       "51    299.00           19                19.00                   19.00\n",
       "52    300.00           19                19.00                   19.00\n",
       "53    301.00           24                24.00                   24.00\n",
       "54    302.00           19                19.00                   19.00\n",
       "55    303.00           27                27.00                   25.00"
      ]
     },
     "execution_count": 503,
     "metadata": {},
     "output_type": "execute_result"
    }
   ],
   "source": [
    "df_class_selection = num_part[num_part.Communication_NumChild>14]\n",
    "df_class_selection"
   ]
  },
  {
   "cell_type": "code",
   "execution_count": 504,
   "id": "836751c9-5747-4510-ac1f-0ad6cbbeaa09",
   "metadata": {},
   "outputs": [
    {
     "data": {
      "text/plain": [
       "411.0"
      ]
     },
     "execution_count": 504,
     "metadata": {},
     "output_type": "execute_result"
    }
   ],
   "source": [
    "df_class_selection['Communication_NumChild'].sum()"
   ]
  },
  {
   "cell_type": "code",
   "execution_count": 522,
   "id": "2648234a-e989-4c24-9067-11326193d5b6",
   "metadata": {},
   "outputs": [
    {
     "data": {
      "text/plain": [
       "[78.0,\n",
       " 81.0,\n",
       " 100.0,\n",
       " 124.0,\n",
       " 125.0,\n",
       " 256.0,\n",
       " 258.0,\n",
       " 261.0,\n",
       " 262.0,\n",
       " 263.0,\n",
       " 272.0,\n",
       " 273.0,\n",
       " 292.0,\n",
       " 296.0,\n",
       " 297.0,\n",
       " 298.0,\n",
       " 299.0,\n",
       " 300.0,\n",
       " 301.0,\n",
       " 302.0,\n",
       " 303.0]"
      ]
     },
     "execution_count": 522,
     "metadata": {},
     "output_type": "execute_result"
    }
   ],
   "source": [
    "list(df_class_selection['Class_Y3'])"
   ]
  },
  {
   "cell_type": "markdown",
   "id": "9bf4d324-c70f-47f8-ae47-8c02c6988727",
   "metadata": {},
   "source": [
    "##### Removing non-repeated participants from the dataframes"
   ]
  },
  {
   "cell_type": "code",
   "execution_count": 505,
   "id": "f63553b8-be0f-4f72-9363-0aee43dbc0e9",
   "metadata": {},
   "outputs": [],
   "source": [
    "classes = list(df_class_selection[\"Class_Y3\"])"
   ]
  },
  {
   "cell_type": "code",
   "execution_count": 506,
   "id": "8f75706f-d970-4543-9341-245dd0d8c202",
   "metadata": {},
   "outputs": [],
   "source": [
    "# subset data based on these classses\n",
    "df_comm = df_comm[df_comm.Class.isin(classes)]\n",
    "df_nomm = df_nomm[df_nomm.Class.isin(classes)]"
   ]
  },
  {
   "cell_type": "code",
   "execution_count": 507,
   "id": "013b03d5-df6f-45ab-ac67-6bc6e6ca28fe",
   "metadata": {},
   "outputs": [],
   "source": [
    "for cl in classes:\n",
    "    com_set = set(df_comm[df_comm.Class == cl]['Child'].unique())\n",
    "    nom_set = set(df_nomm[df_nomm.Class == cl]['Child'].unique())\n",
    "\n",
    "    dif_cld_nom_com = list(nom_set.difference(com_set))\n",
    "    dif_cld_com_nom = list(com_set.difference(nom_set))\n",
    "    #remove the non-repeated participants\n",
    "    if(len(dif_cld_nom_com)>0):\n",
    "        df_nomm = df_nomm[~df_nomm.Child.isin(dif_cld_nom_com)]\n",
    "    \n",
    "    if(len(dif_cld_com_nom)>0):\n",
    "        df_comm = df_comm[~df_comm.Child.isin(dif_cld_com_nom)]"
   ]
  },
  {
   "cell_type": "code",
   "execution_count": 508,
   "id": "7a86bf83-0f42-4e4e-8f55-76fdc47a408f",
   "metadata": {},
   "outputs": [
    {
     "data": {
      "text/plain": [
       "(set(), set(), 408)"
      ]
     },
     "execution_count": 508,
     "metadata": {},
     "output_type": "execute_result"
    }
   ],
   "source": [
    "set(df_nomm.Child.unique()).difference(set(df_comm.Child.unique())), set(df_comm.Child.unique()).difference(set(df_nomm.Child.unique())),df_comm.Child.nunique()"
   ]
  },
  {
   "cell_type": "code",
   "execution_count": 509,
   "id": "eb716645-779f-428e-9fbd-45c21353b173",
   "metadata": {},
   "outputs": [],
   "source": [
    "lst_participants_id = df_nomm.Child.unique()"
   ]
  },
  {
   "cell_type": "markdown",
   "id": "3eddc53f-6578-448f-9834-af8800fca9c3",
   "metadata": {},
   "source": [
    "### Postal codes livability as new environment score? "
   ]
  },
  {
   "cell_type": "code",
   "execution_count": 329,
   "id": "228b9a69-98cc-46df-8b9a-0f3dc47c1a96",
   "metadata": {},
   "outputs": [
    {
     "data": {
      "text/html": [
       "<div>\n",
       "<style scoped>\n",
       "    .dataframe tbody tr th:only-of-type {\n",
       "        vertical-align: middle;\n",
       "    }\n",
       "\n",
       "    .dataframe tbody tr th {\n",
       "        vertical-align: top;\n",
       "    }\n",
       "\n",
       "    .dataframe thead th {\n",
       "        text-align: right;\n",
       "    }\n",
       "</style>\n",
       "<table border=\"1\" class=\"dataframe\">\n",
       "  <thead>\n",
       "    <tr style=\"text-align: right;\">\n",
       "      <th></th>\n",
       "      <th>PC6</th>\n",
       "      <th>Buurt2020</th>\n",
       "    </tr>\n",
       "  </thead>\n",
       "  <tbody>\n",
       "    <tr>\n",
       "      <th>0</th>\n",
       "      <td>1011AB</td>\n",
       "      <td>3630400</td>\n",
       "    </tr>\n",
       "    <tr>\n",
       "      <th>1</th>\n",
       "      <td>1011AB</td>\n",
       "      <td>3630400</td>\n",
       "    </tr>\n",
       "  </tbody>\n",
       "</table>\n",
       "</div>"
      ],
      "text/plain": [
       "      PC6  Buurt2020\n",
       "0  1011AB    3630400\n",
       "1  1011AB    3630400"
      ]
     },
     "execution_count": 329,
     "metadata": {},
     "output_type": "execute_result"
    }
   ],
   "source": [
    "# Address\n",
    "df_postcode = pd.read_csv('../data/postcode/pc6hnr20200801_gwb.csv',';')\n",
    "df_postcode = df_postcode[['PC6','Buurt2020']]\n",
    "df_postcode.head(2)"
   ]
  },
  {
   "cell_type": "code",
   "execution_count": 330,
   "id": "3b6e3267-1278-4551-9f21-b376bf89aea8",
   "metadata": {},
   "outputs": [],
   "source": [
    "df_liveability_score = pd.read_excel('../data/postcode/Score_Buurt.xlsx')\n",
    "df_liveability_score['CODE'] = df_liveability_score['CODE'].str[2:]\n",
    "df_liveability_score['CODE'] = df_liveability_score['CODE'].str.lstrip(\"0\")\n",
    "df_liveability_score.CODE = pd.to_numeric(df_liveability_score.CODE, errors='coerce').astype('Int64')"
   ]
  },
  {
   "cell_type": "code",
   "execution_count": 331,
   "id": "a6639602-7175-4c69-b5f6-bea5a9661068",
   "metadata": {},
   "outputs": [
    {
     "data": {
      "text/html": [
       "<div>\n",
       "<style scoped>\n",
       "    .dataframe tbody tr th:only-of-type {\n",
       "        vertical-align: middle;\n",
       "    }\n",
       "\n",
       "    .dataframe tbody tr th {\n",
       "        vertical-align: top;\n",
       "    }\n",
       "\n",
       "    .dataframe thead th {\n",
       "        text-align: right;\n",
       "    }\n",
       "</style>\n",
       "<table border=\"1\" class=\"dataframe\">\n",
       "  <thead>\n",
       "    <tr style=\"text-align: right;\">\n",
       "      <th></th>\n",
       "      <th>PC6</th>\n",
       "      <th>Buurt2020</th>\n",
       "      <th>livability</th>\n",
       "    </tr>\n",
       "  </thead>\n",
       "  <tbody>\n",
       "    <tr>\n",
       "      <th>0</th>\n",
       "      <td>1011AB</td>\n",
       "      <td>3630400</td>\n",
       "      <td>9.00</td>\n",
       "    </tr>\n",
       "    <tr>\n",
       "      <th>1</th>\n",
       "      <td>1011AB</td>\n",
       "      <td>3630400</td>\n",
       "      <td>9.00</td>\n",
       "    </tr>\n",
       "    <tr>\n",
       "      <th>2</th>\n",
       "      <td>1011AB</td>\n",
       "      <td>3630400</td>\n",
       "      <td>9.00</td>\n",
       "    </tr>\n",
       "    <tr>\n",
       "      <th>3</th>\n",
       "      <td>1011AB</td>\n",
       "      <td>3630400</td>\n",
       "      <td>9.00</td>\n",
       "    </tr>\n",
       "    <tr>\n",
       "      <th>4</th>\n",
       "      <td>1011AB</td>\n",
       "      <td>3630400</td>\n",
       "      <td>9.00</td>\n",
       "    </tr>\n",
       "  </tbody>\n",
       "</table>\n",
       "</div>"
      ],
      "text/plain": [
       "      PC6  Buurt2020  livability\n",
       "0  1011AB    3630400        9.00\n",
       "1  1011AB    3630400        9.00\n",
       "2  1011AB    3630400        9.00\n",
       "3  1011AB    3630400        9.00\n",
       "4  1011AB    3630400        9.00"
      ]
     },
     "execution_count": 331,
     "metadata": {},
     "output_type": "execute_result"
    }
   ],
   "source": [
    "df_postcode['livability'] = df_postcode['Buurt2020'].map(df_liveability_score.set_index('CODE')['KL18'])\n",
    "df_postcode.head()"
   ]
  },
  {
   "cell_type": "code",
   "execution_count": 332,
   "id": "fa238a99-b852-4233-84ec-815e1b96b2a8",
   "metadata": {},
   "outputs": [
    {
     "data": {
      "text/plain": [
       "(6993336, 775318)"
      ]
     },
     "execution_count": 332,
     "metadata": {},
     "output_type": "execute_result"
    }
   ],
   "source": [
    "df_postcode['livability'].count(),df_postcode['livability'].isna().sum()"
   ]
  },
  {
   "cell_type": "code",
   "execution_count": 333,
   "id": "c2f7790e-7a58-4889-a0a6-57865ad663bc",
   "metadata": {},
   "outputs": [],
   "source": [
    "df_postcode = df_postcode.groupby(['PC6','livability'])['Buurt2020'].count().reset_index(name=\"Count\")"
   ]
  },
  {
   "cell_type": "code",
   "execution_count": 334,
   "id": "1b413896-1e7b-41ee-b115-248265471dae",
   "metadata": {},
   "outputs": [
    {
     "data": {
      "text/html": [
       "<div>\n",
       "<style scoped>\n",
       "    .dataframe tbody tr th:only-of-type {\n",
       "        vertical-align: middle;\n",
       "    }\n",
       "\n",
       "    .dataframe tbody tr th {\n",
       "        vertical-align: top;\n",
       "    }\n",
       "\n",
       "    .dataframe thead th {\n",
       "        text-align: right;\n",
       "    }\n",
       "</style>\n",
       "<table border=\"1\" class=\"dataframe\">\n",
       "  <thead>\n",
       "    <tr style=\"text-align: right;\">\n",
       "      <th></th>\n",
       "      <th>PC6</th>\n",
       "      <th>livability</th>\n",
       "    </tr>\n",
       "  </thead>\n",
       "  <tbody>\n",
       "    <tr>\n",
       "      <th>0</th>\n",
       "      <td>1011AB</td>\n",
       "      <td>9.00</td>\n",
       "    </tr>\n",
       "    <tr>\n",
       "      <th>1</th>\n",
       "      <td>1011AC</td>\n",
       "      <td>9.00</td>\n",
       "    </tr>\n",
       "    <tr>\n",
       "      <th>2</th>\n",
       "      <td>1011AD</td>\n",
       "      <td>9.00</td>\n",
       "    </tr>\n",
       "  </tbody>\n",
       "</table>\n",
       "</div>"
      ],
      "text/plain": [
       "      PC6  livability\n",
       "0  1011AB        9.00\n",
       "1  1011AC        9.00\n",
       "2  1011AD        9.00"
      ]
     },
     "execution_count": 334,
     "metadata": {},
     "output_type": "execute_result"
    }
   ],
   "source": [
    "df_postcode = df_postcode[['PC6','livability']]\n",
    "df_postcode.head(3)"
   ]
  },
  {
   "cell_type": "code",
   "execution_count": 335,
   "id": "949c1478-b30c-4de8-a1ad-48117c041e75",
   "metadata": {},
   "outputs": [
    {
     "data": {
      "text/plain": [
       "((422531, 2), 422531, 0)"
      ]
     },
     "execution_count": 335,
     "metadata": {},
     "output_type": "execute_result"
    }
   ],
   "source": [
    "df_postcode.shape,df_postcode['livability'].count(),df_postcode['livability'].isna().sum()"
   ]
  },
  {
   "cell_type": "code",
   "execution_count": 336,
   "id": "61b910d8-d02a-4f41-b97a-f4720ee152cc",
   "metadata": {},
   "outputs": [],
   "source": [
    "df_postcode[\"PC6\"] = df_postcode[\"PC6\"].astype(\"string\")"
   ]
  },
  {
   "cell_type": "code",
   "execution_count": 337,
   "id": "232d5cfb-b85c-42be-9a52-99ce24473c9d",
   "metadata": {},
   "outputs": [
    {
     "data": {
      "text/html": [
       "<div>\n",
       "<style scoped>\n",
       "    .dataframe tbody tr th:only-of-type {\n",
       "        vertical-align: middle;\n",
       "    }\n",
       "\n",
       "    .dataframe tbody tr th {\n",
       "        vertical-align: top;\n",
       "    }\n",
       "\n",
       "    .dataframe thead th {\n",
       "        text-align: right;\n",
       "    }\n",
       "</style>\n",
       "<table border=\"1\" class=\"dataframe\">\n",
       "  <thead>\n",
       "    <tr style=\"text-align: right;\">\n",
       "      <th></th>\n",
       "      <th>Participant</th>\n",
       "      <th>Zipcode</th>\n",
       "    </tr>\n",
       "  </thead>\n",
       "  <tbody>\n",
       "    <tr>\n",
       "      <th>0</th>\n",
       "      <td>902</td>\n",
       "      <td>6843GT</td>\n",
       "    </tr>\n",
       "    <tr>\n",
       "      <th>1</th>\n",
       "      <td>904</td>\n",
       "      <td>6826BZ</td>\n",
       "    </tr>\n",
       "    <tr>\n",
       "      <th>2</th>\n",
       "      <td>907</td>\n",
       "      <td>6714HR</td>\n",
       "    </tr>\n",
       "  </tbody>\n",
       "</table>\n",
       "</div>"
      ],
      "text/plain": [
       "   Participant Zipcode\n",
       "0          902  6843GT\n",
       "1          904  6826BZ\n",
       "2          907  6714HR"
      ]
     },
     "execution_count": 337,
     "metadata": {},
     "output_type": "execute_result"
    }
   ],
   "source": [
    "df_participants_postcodes = pd.read_csv('../data/postcode/Postcodes_participants.csv',';')\n",
    "df_participants_postcodes = df_participants_postcodes[['Participant','Zipcode']]\n",
    "df_participants_postcodes[\"Zipcode\"] = df_participants_postcodes[\"Zipcode\"].astype(\"string\")\n",
    "df_participants_postcodes[\"Zipcode\"] = df_participants_postcodes[\"Zipcode\"].str.replace(\" \", \"\")\n",
    "df_participants_postcodes.head(3)"
   ]
  },
  {
   "cell_type": "code",
   "execution_count": 338,
   "id": "46dd4b8d-4c8e-43bf-9b22-9f0b14159e5a",
   "metadata": {},
   "outputs": [
    {
     "data": {
      "text/plain": [
       "(951, (1136, 2))"
      ]
     },
     "execution_count": 338,
     "metadata": {},
     "output_type": "execute_result"
    }
   ],
   "source": [
    "df_participants_postcodes['Zipcode'].nunique(),df_participants_postcodes.shape"
   ]
  },
  {
   "cell_type": "code",
   "execution_count": 339,
   "id": "fea32f40-639d-486c-8480-13433ac58317",
   "metadata": {},
   "outputs": [
    {
     "name": "stderr",
     "output_type": "stream",
     "text": [
      "/Users/bojansimoski/anaconda3/envs/ABM-PA/lib/python3.9/site-packages/pandas/core/indexing.py:1637: SettingWithCopyWarning: \n",
      "A value is trying to be set on a copy of a slice from a DataFrame\n",
      "\n",
      "See the caveats in the documentation: https://pandas.pydata.org/pandas-docs/stable/user_guide/indexing.html#returning-a-view-versus-a-copy\n",
      "  self._setitem_single_block(indexer, value, name)\n"
     ]
    }
   ],
   "source": [
    "df_participants_postcodes['env'] = -1\n",
    "for index, row in df_participants_postcodes.iterrows():\n",
    "    if(len(df_postcode[df_postcode.PC6==row['Zipcode']]['livability'])!=0):\n",
    "        df_participants_postcodes['env'].iloc[index] = df_postcode[df_postcode.PC6==row['Zipcode']]['livability'].values[0]"
   ]
  },
  {
   "cell_type": "code",
   "execution_count": 340,
   "id": "53e8d1f4-3ec1-4908-8c52-04af92f4e719",
   "metadata": {},
   "outputs": [
    {
     "data": {
      "text/plain": [
       "env\n",
       "-1.00     43\n",
       "3.00       4\n",
       "4.00      97\n",
       "5.00      69\n",
       "6.00     340\n",
       "7.00     209\n",
       "8.00     138\n",
       "9.00     236\n",
       "Name: Zipcode, dtype: int64"
      ]
     },
     "execution_count": 340,
     "metadata": {},
     "output_type": "execute_result"
    }
   ],
   "source": [
    "# 43 participants have no env value\n",
    "df_participants_postcodes.groupby('env')['Zipcode'].count()"
   ]
  },
  {
   "cell_type": "code",
   "execution_count": 342,
   "id": "ab56f297-eb1c-4b0e-9d21-b9a7ba72281a",
   "metadata": {},
   "outputs": [
    {
     "data": {
      "text/html": [
       "<div>\n",
       "<style scoped>\n",
       "    .dataframe tbody tr th:only-of-type {\n",
       "        vertical-align: middle;\n",
       "    }\n",
       "\n",
       "    .dataframe tbody tr th {\n",
       "        vertical-align: top;\n",
       "    }\n",
       "\n",
       "    .dataframe thead th {\n",
       "        text-align: right;\n",
       "    }\n",
       "</style>\n",
       "<table border=\"1\" class=\"dataframe\">\n",
       "  <thead>\n",
       "    <tr style=\"text-align: right;\">\n",
       "      <th></th>\n",
       "      <th>Participant</th>\n",
       "      <th>Zipcode</th>\n",
       "      <th>env</th>\n",
       "    </tr>\n",
       "  </thead>\n",
       "  <tbody>\n",
       "    <tr>\n",
       "      <th>0</th>\n",
       "      <td>902</td>\n",
       "      <td>6843GT</td>\n",
       "      <td>6.00</td>\n",
       "    </tr>\n",
       "    <tr>\n",
       "      <th>1</th>\n",
       "      <td>904</td>\n",
       "      <td>6826BZ</td>\n",
       "      <td>5.00</td>\n",
       "    </tr>\n",
       "    <tr>\n",
       "      <th>2</th>\n",
       "      <td>907</td>\n",
       "      <td>6714HR</td>\n",
       "      <td>6.00</td>\n",
       "    </tr>\n",
       "    <tr>\n",
       "      <th>3</th>\n",
       "      <td>908</td>\n",
       "      <td>6822CR</td>\n",
       "      <td>4.00</td>\n",
       "    </tr>\n",
       "    <tr>\n",
       "      <th>4</th>\n",
       "      <td>909</td>\n",
       "      <td>6822DM</td>\n",
       "      <td>4.00</td>\n",
       "    </tr>\n",
       "  </tbody>\n",
       "</table>\n",
       "</div>"
      ],
      "text/plain": [
       "   Participant Zipcode  env\n",
       "0          902  6843GT 6.00\n",
       "1          904  6826BZ 5.00\n",
       "2          907  6714HR 6.00\n",
       "3          908  6822CR 4.00\n",
       "4          909  6822DM 4.00"
      ]
     },
     "execution_count": 342,
     "metadata": {},
     "output_type": "execute_result"
    }
   ],
   "source": [
    "df_participants_postcodes.head()"
   ]
  },
  {
   "cell_type": "code",
   "execution_count": 453,
   "id": "61b9c4e9-8a44-44fb-93f0-c83021352368",
   "metadata": {},
   "outputs": [
    {
     "data": {
      "text/plain": [
       "((1136, 3),\n",
       " Participant      int64\n",
       " Zipcode         string\n",
       " env            float64\n",
       " dtype: object,\n",
       " numpy.int64)"
      ]
     },
     "execution_count": 453,
     "metadata": {},
     "output_type": "execute_result"
    }
   ],
   "source": [
    "df_participants_postcodes.shape,df_participants_postcodes.dtypes,type(lst_participants_id[0])"
   ]
  },
  {
   "cell_type": "code",
   "execution_count": null,
   "id": "4c519ed1-c540-47ac-8256-7f896cbd7d40",
   "metadata": {},
   "outputs": [],
   "source": [
    "# lots of the participants we need have no postcodes data- therefore cannot get the environmental variable"
   ]
  },
  {
   "cell_type": "code",
   "execution_count": 451,
   "id": "ca3e1216-7dbe-407a-9308-ec94ebfd7631",
   "metadata": {},
   "outputs": [
    {
     "data": {
      "text/plain": [
       "((237, 3), 408)"
      ]
     },
     "execution_count": 451,
     "metadata": {},
     "output_type": "execute_result"
    }
   ],
   "source": [
    "df_participants_postcodes[df_participants_postcodes.Participant.isin(lst_participants_id)].shape,len(lst_participants_id)"
   ]
  },
  {
   "cell_type": "markdown",
   "id": "4d903847-9c0d-4899-82b6-5be0d5174c48",
   "metadata": {},
   "source": [
    "### Let's try the environmental questions in Wave 6"
   ]
  },
  {
   "cell_type": "code",
   "execution_count": 565,
   "id": "40b7d8ef-d4db-408c-a486-77af3ddc7430",
   "metadata": {},
   "outputs": [],
   "source": [
    "df_env = pd.read_csv('../data/W6_Main_Questions.csv',';')"
   ]
  },
  {
   "cell_type": "code",
   "execution_count": 566,
   "id": "82890e17-1d7e-4cd9-a161-50c71e79c401",
   "metadata": {},
   "outputs": [
    {
     "data": {
      "text/plain": [
       "Index(['Child', 'DI_FFQ_drinks_D01_TriggerDate', 'DI_FFQ_drinks_D01_Weekend',\n",
       "       'DI_FFQ_drinks_D01_TriggerTime', 'DI_FFQ_drinks_D01_VAS_thirst_A01',\n",
       "       'DI_FFQ_drinks_D01_water_A01', 'DI_FFQ_drinks_D01_milk_A01',\n",
       "       'DI_FFQ_drinks_D01_lightmilk_A01', 'DI_FFQ_drinks_D01_sweetmilk_A01',\n",
       "       'DI_FFQ_drinks_D01_coffeetea_A01',\n",
       "       ...\n",
       "       'Vlog_boysvsgirls_heuvel_TriggerDate',\n",
       "       'Vlog_boysvsgirls_heuvel_Weekend',\n",
       "       'Vlog_boysvsgirls_heuvel_TriggerTime',\n",
       "       'Vlog_boysvsgirls_heuvel_exposed_A01',\n",
       "       'Vlog_boysvsgirls_heuvel_attitude_A01',\n",
       "       'Vlog_coutchpotato_heuvel_TriggerDate',\n",
       "       'Vlog_coutchpotato_heuvel_Weekend',\n",
       "       'Vlog_coutchpotato_heuvel_TriggerTime',\n",
       "       'Vlog_coutchpotato_heuvel_exposed_A01',\n",
       "       'Vlog_coutchpotato_heuvel_attitude_A01'],\n",
       "      dtype='object', length=524)"
      ]
     },
     "execution_count": 566,
     "metadata": {},
     "output_type": "execute_result"
    }
   ],
   "source": [
    "df_env.columns"
   ]
  },
  {
   "cell_type": "code",
   "execution_count": 567,
   "id": "c7704134-f1cf-4cb1-82cb-db5431f33671",
   "metadata": {},
   "outputs": [
    {
     "data": {
      "text/plain": [
       "(1484, 5)"
      ]
     },
     "execution_count": 567,
     "metadata": {},
     "output_type": "execute_result"
    }
   ],
   "source": [
    "df_env = df_env[['Child','GEN_FAS_computer_A01' ,'GEN_FAS_car_A01', 'GEN_FAS_vacation_A01', 'GEN_FAS_ownroom_A01']]\n",
    "df_env.shape"
   ]
  },
  {
   "cell_type": "code",
   "execution_count": 568,
   "id": "16690085-d216-4186-b142-d2898cbebeb2",
   "metadata": {},
   "outputs": [
    {
     "data": {
      "text/plain": [
       "Child                    0\n",
       "GEN_FAS_computer_A01    41\n",
       "GEN_FAS_car_A01         41\n",
       "GEN_FAS_vacation_A01    41\n",
       "GEN_FAS_ownroom_A01     41\n",
       "dtype: int64"
      ]
     },
     "execution_count": 568,
     "metadata": {},
     "output_type": "execute_result"
    }
   ],
   "source": [
    "# this seems like a more valiable solution\n",
    "df_env = df_env[df_env.Child.isin(lst_participants_id)]\n",
    "df_env.isnull().sum()"
   ]
  },
  {
   "cell_type": "markdown",
   "id": "fc1644b3-a4cf-4639-b2a4-52d32f05547c",
   "metadata": {},
   "source": [
    "## Building Communication Networks"
   ]
  },
  {
   "cell_type": "code",
   "execution_count": 530,
   "id": "6c88b956-a8c8-41e6-81ca-cfaa68e398a1",
   "metadata": {},
   "outputs": [
    {
     "data": {
      "text/plain": [
       "(26051, 30)"
      ]
     },
     "execution_count": 530,
     "metadata": {},
     "output_type": "execute_result"
    }
   ],
   "source": [
    "# Load data\n",
    "primary_school = '../data/Buzz_W5_primary-schools.csv'\n",
    "secondary_school = '../data/Buzz_W5_secondary-schools.csv'\n",
    "# Selection of classes based on year 3 of the project (wave 5)\n",
    "\n",
    "# Preprocess social buzz dataframe\n",
    "df_comm = pd.read_csv(primary_school, sep=';', header=0)\n",
    "df_comm = df_comm.append(pd.read_csv(secondary_school, sep=';', header=0))\n",
    "df_comm = df_comm[df_comm.Type==\"my\"]\n",
    "df_comm = df_comm[df_comm.Child.isin(input_args[\"participants\"])]\n",
    "df_comm = df_comm.astype({'Participant': 'float64'})\n",
    "df_comm.shape"
   ]
  },
  {
   "cell_type": "code",
   "execution_count": 531,
   "id": "b044de8f-4e22-4339-9bef-5647727e0bfd",
   "metadata": {},
   "outputs": [
    {
     "data": {
      "text/html": [
       "<div>\n",
       "<style scoped>\n",
       "    .dataframe tbody tr th:only-of-type {\n",
       "        vertical-align: middle;\n",
       "    }\n",
       "\n",
       "    .dataframe tbody tr th {\n",
       "        vertical-align: top;\n",
       "    }\n",
       "\n",
       "    .dataframe thead th {\n",
       "        text-align: right;\n",
       "    }\n",
       "</style>\n",
       "<table border=\"1\" class=\"dataframe\">\n",
       "  <thead>\n",
       "    <tr style=\"text-align: right;\">\n",
       "      <th></th>\n",
       "      <th>Class</th>\n",
       "      <th>Participant</th>\n",
       "      <th>Child</th>\n",
       "    </tr>\n",
       "  </thead>\n",
       "  <tbody>\n",
       "    <tr>\n",
       "      <th>0</th>\n",
       "      <td>78.00</td>\n",
       "      <td>2807801633.00</td>\n",
       "      <td>1633.00</td>\n",
       "    </tr>\n",
       "    <tr>\n",
       "      <th>1</th>\n",
       "      <td>78.00</td>\n",
       "      <td>2807801636.00</td>\n",
       "      <td>1636.00</td>\n",
       "    </tr>\n",
       "    <tr>\n",
       "      <th>2</th>\n",
       "      <td>78.00</td>\n",
       "      <td>2807801637.00</td>\n",
       "      <td>1637.00</td>\n",
       "    </tr>\n",
       "    <tr>\n",
       "      <th>3</th>\n",
       "      <td>78.00</td>\n",
       "      <td>2807801639.00</td>\n",
       "      <td>1639.00</td>\n",
       "    </tr>\n",
       "    <tr>\n",
       "      <th>4</th>\n",
       "      <td>78.00</td>\n",
       "      <td>2807801640.00</td>\n",
       "      <td>1640.00</td>\n",
       "    </tr>\n",
       "  </tbody>\n",
       "</table>\n",
       "</div>"
      ],
      "text/plain": [
       "   Class   Participant   Child\n",
       "0  78.00 2807801633.00 1633.00\n",
       "1  78.00 2807801636.00 1636.00\n",
       "2  78.00 2807801637.00 1637.00\n",
       "3  78.00 2807801639.00 1639.00\n",
       "4  78.00 2807801640.00 1640.00"
      ]
     },
     "execution_count": 531,
     "metadata": {},
     "output_type": "execute_result"
    }
   ],
   "source": [
    "# needed for the mapping - at least for now \n",
    "df_participants = df_comm.groupby(['Class','Participant','Child'])['UMID'].count().reset_index()\n",
    "df_participants = df_participants[['Class','Participant','Child']]\n",
    "df_participants.head()"
   ]
  },
  {
   "cell_type": "code",
   "execution_count": 534,
   "id": "c4a0071e-d9c4-49e4-ae15-b008a31c8e02",
   "metadata": {},
   "outputs": [],
   "source": [
    "def generate_buzz_population(df_comm):\n",
    "    graph = nx.DiGraph()\n",
    "    \n",
    "    #create the connections - edges\n",
    "    for cl in classes:\n",
    "        # the weight is according to version 1 \n",
    "        df_temp = df_comm[df_comm.Class.isin([cl])]\n",
    "        df_temp = df_temp.groupby([\"Participant\",\"RecipientChild\"])[\"UMID\"].count().reset_index(name='NumberMessages')\n",
    "        df_temp['Weight'] = df_temp['NumberMessages']/max(df_temp['NumberMessages'])\n",
    "        children_in_class = df_temp.Participant.unique()\n",
    "        \n",
    "        for index, row in df_temp.iterrows():\n",
    "            #only if the recepient is member of the same class - excluded intraclass communication\n",
    "            # this is not 100% ok, I need a list of all participants per class!\n",
    "            if(row[1] in children_in_class):\n",
    "                graph.add_edge(df_participants.loc[df_participants['Participant'] == row[0], 'Child'].iloc[0],df_participants.loc[df_participants['Participant'] == row[1], 'Child'].iloc[0],weight=row[3])\n",
    "    \n",
    "        \n",
    "    return graph        "
   ]
  },
  {
   "cell_type": "code",
   "execution_count": 533,
   "id": "71b2b086-2dbf-4eb0-a535-5f6fa83d2f78",
   "metadata": {},
   "outputs": [],
   "source": [
    "graph = generate_buzz_population(df_comm)"
   ]
  },
  {
   "cell_type": "code",
   "execution_count": 536,
   "id": "c4fad235-3989-4537-b3c8-6c82162938a6",
   "metadata": {},
   "outputs": [
    {
     "data": {
      "text/plain": [
       "(406, 3122)"
      ]
     },
     "execution_count": 536,
     "metadata": {},
     "output_type": "execute_result"
    }
   ],
   "source": [
    "# seems like two nodes are not here, even though they were found in the communication data\n",
    "len(graph.nodes()),len(graph.edges())"
   ]
  },
  {
   "cell_type": "code",
   "execution_count": 542,
   "id": "f4a9cf3e-6540-4626-824e-e84ed501db05",
   "metadata": {},
   "outputs": [
    {
     "data": {
      "text/plain": [
       "(408, 3)"
      ]
     },
     "execution_count": 542,
     "metadata": {},
     "output_type": "execute_result"
    }
   ],
   "source": [
    "df_participants.shape"
   ]
  },
  {
   "cell_type": "code",
   "execution_count": 551,
   "id": "135eb76d-6afc-40e1-9f2e-6c31a2b21de0",
   "metadata": {},
   "outputs": [
    {
     "data": {
      "text/plain": [
       "{2807801634.0,\n",
       " 2807801644.0,\n",
       " 2807801648.0,\n",
       " 2807801649.0,\n",
       " 2807801655.0,\n",
       " 2807804363.0,\n",
       " 2908101613.0,\n",
       " 2908101616.0,\n",
       " 2908101619.0,\n",
       " 2908101621.0,\n",
       " 2908101622.0,\n",
       " 2908101628.0,\n",
       " 2908101629.0,\n",
       " 2908104362.0,\n",
       " 2927205441.0,\n",
       " 2927205442.0,\n",
       " 2927305477.0,\n",
       " 3310002272.0,\n",
       " 3330005987.0,\n",
       " 3330005998.0,\n",
       " 3330106014.0,\n",
       " 3812402876.0,\n",
       " 3912502892.0,\n",
       " 5425605026.0,\n",
       " 5425605030.0,\n",
       " 5425805077.0,\n",
       " 5425805082.0,\n",
       " 5425805090.0,\n",
       " 5425805097.0,\n",
       " 5629605877.0,\n",
       " 5629605888.0,\n",
       " 5629705891.0,\n",
       " 5830306061.0,\n",
       " 5830306075.0,\n",
       " 5830306083.0,\n",
       " 5830306084.0}"
      ]
     },
     "execution_count": 551,
     "metadata": {},
     "output_type": "execute_result"
    }
   ],
   "source": [
    "set(df_comm.RecipientChild.unique()).difference(df_comm.Participant.unique())"
   ]
  },
  {
   "cell_type": "code",
   "execution_count": 545,
   "id": "0679cf24-ac63-4a41-98ba-0592eb57493f",
   "metadata": {},
   "outputs": [
    {
     "data": {
      "text/plain": [
       "Index(['Participant', 'School', 'Class', 'Child', 'Gender', 'Age', 'PI',\n",
       "       'Date', 'Time', 'UMID', 'Format_text', 'Format_Media', 'Type',\n",
       "       'RecipientChild', 'ClassReceive', 'Content', 'Media', 'ReactionInto',\n",
       "       'Flagged', 'PostedWhileBanned', 'ShareSource', 'SharedVia',\n",
       "       'Number_likes', 'Unnamed: 23', 'Unnamed: 24', 'Unnamed: 25',\n",
       "       'Unnamed: 26', 'Unnamed: 27', 'Unnamed: 28', 'Unnamed: 29'],\n",
       "      dtype='object')"
      ]
     },
     "execution_count": 545,
     "metadata": {},
     "output_type": "execute_result"
    }
   ],
   "source": [
    "df_comm.columns"
   ]
  }
 ],
 "metadata": {
  "kernelspec": {
   "display_name": "Python 3",
   "language": "python",
   "name": "python3"
  },
  "language_info": {
   "codemirror_mode": {
    "name": "ipython",
    "version": 3
   },
   "file_extension": ".py",
   "mimetype": "text/x-python",
   "name": "python",
   "nbconvert_exporter": "python",
   "pygments_lexer": "ipython3",
   "version": "3.9.5"
  }
 },
 "nbformat": 4,
 "nbformat_minor": 5
}
