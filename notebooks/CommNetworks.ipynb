{
 "cells": [
  {
   "cell_type": "code",
   "execution_count": 1,
   "id": "871c3db8-0e65-410e-a594-1bf550133060",
   "metadata": {},
   "outputs": [],
   "source": [
    "import pandas as pd\n",
    "import numpy as np\n",
    "import json\n",
    "import networkx as nx"
   ]
  },
  {
   "cell_type": "code",
   "execution_count": 9,
   "id": "c6d18811-7c84-4576-a3d2-a1f3cc61a699",
   "metadata": {},
   "outputs": [],
   "source": [
    "try:\n",
    "    input_args = json.loads(open('../input/simulation.json').read())\n",
    "except Exception as ex:\n",
    "    print('simulation.json does not exist!')\n",
    "    print(ex)"
   ]
  },
  {
   "cell_type": "code",
   "execution_count": 10,
   "id": "c532660a-86d6-4ebe-929a-44761064e429",
   "metadata": {},
   "outputs": [],
   "source": [
    "# change the path for other waves of data - also adapt the bins of the histograms (the maximum values and ranges)\n",
    "primary_school = '../data/Buzz_W5_primary-schools.csv'\n",
    "secondary_school = '../data/Buzz_W5_secondary-schools.csv'"
   ]
  },
  {
   "cell_type": "code",
   "execution_count": 11,
   "id": "fe004aef-43dd-4926-af32-beee06286d9e",
   "metadata": {},
   "outputs": [
    {
     "data": {
      "text/plain": [
       "(174524, 30)"
      ]
     },
     "execution_count": 11,
     "metadata": {},
     "output_type": "execute_result"
    }
   ],
   "source": [
    "df_comm = pd.read_csv(primary_school, sep=';', header=0)\n",
    "df_comm = df_comm.append(pd.read_csv(secondary_school, sep=';', header=0))\n",
    "df_comm.shape"
   ]
  },
  {
   "cell_type": "code",
   "execution_count": 12,
   "id": "78be7d80-bcab-4a45-ba1b-4d7a4f2be9d6",
   "metadata": {},
   "outputs": [],
   "source": [
    "#surpress the scientific notation format that's shown by default\n",
    "pd.set_option('display.float_format', lambda x: '%.2f' % x)"
   ]
  },
  {
   "cell_type": "code",
   "execution_count": 13,
   "id": "eb4f01d4-6d15-4329-84bc-9071d9a67c6e",
   "metadata": {},
   "outputs": [
    {
     "data": {
      "text/plain": [
       "(array([103.,  nan, 250., 251., 296., 297.,  82., 308., 135., 131., 133.,\n",
       "        134., 100., 300., 301., 124., 298., 299., 303., 141., 125., 290.,\n",
       "        291.,  73.,  74.,  81., 272., 273.,  78., 292.,  86., 261., 262.,\n",
       "        263., 302., 279., 277., 256., 258., 259., 310., 304., 305., 306.,\n",
       "        307.,  66.]),\n",
       " 45)"
      ]
     },
     "execution_count": 13,
     "metadata": {},
     "output_type": "execute_result"
    }
   ],
   "source": [
    "df_comm.Class.unique(),df_comm.Class.nunique()"
   ]
  },
  {
   "cell_type": "markdown",
   "id": "f4e6eccf-94a3-4579-8215-d1af93e090eb",
   "metadata": {},
   "source": [
    "###### comment out if you want to see only data from selected classes"
   ]
  },
  {
   "cell_type": "code",
   "execution_count": 14,
   "id": "c7da5a33-021e-4b77-ac64-089797b9f626",
   "metadata": {},
   "outputs": [],
   "source": [
    "df_comm = df_comm[df_comm.Class.isin(input_args[\"classes\"])]\n",
    "df_comm = df_comm[df_comm.Child.isin(input_args[\"participants\"])]"
   ]
  },
  {
   "cell_type": "code",
   "execution_count": 15,
   "id": "e0c9e851-2547-4521-83a7-0de8458322cf",
   "metadata": {},
   "outputs": [
    {
     "data": {
      "text/plain": [
       "Index(['Participant', 'School', 'Class', 'Child', 'Gender', 'Age', 'PI',\n",
       "       'Date', 'Time', 'UMID', 'Format_text', 'Format_Media', 'Type',\n",
       "       'RecipientChild', 'ClassReceive', 'Content', 'Media', 'ReactionInto',\n",
       "       'Flagged', 'PostedWhileBanned', 'ShareSource', 'SharedVia',\n",
       "       'Number_likes', 'Unnamed: 23', 'Unnamed: 24', 'Unnamed: 25',\n",
       "       'Unnamed: 26', 'Unnamed: 27', 'Unnamed: 28', 'Unnamed: 29'],\n",
       "      dtype='object')"
      ]
     },
     "execution_count": 15,
     "metadata": {},
     "output_type": "execute_result"
    }
   ],
   "source": [
    "df_comm.columns"
   ]
  },
  {
   "cell_type": "code",
   "execution_count": 16,
   "id": "3999cf0a-f3cd-4bbb-8554-76a5783446c9",
   "metadata": {},
   "outputs": [
    {
     "data": {
      "text/plain": [
       "Type\n",
       "group      29731\n",
       "my         26051\n",
       "mymovez     1397\n",
       "Name: Type, dtype: int64"
      ]
     },
     "execution_count": 16,
     "metadata": {},
     "output_type": "execute_result"
    }
   ],
   "source": [
    "df_comm.groupby([\"Type\"])['Type'].count()"
   ]
  },
  {
   "cell_type": "code",
   "execution_count": 17,
   "id": "afb8ecb2-89d5-489f-88d6-8d2398119c8e",
   "metadata": {},
   "outputs": [
    {
     "data": {
      "text/plain": [
       "(29731, 30)"
      ]
     },
     "execution_count": 17,
     "metadata": {},
     "output_type": "execute_result"
    }
   ],
   "source": [
    "df_comm_group = df_comm[df_comm.Type==\"group\"]\n",
    "df_comm_group.shape"
   ]
  },
  {
   "cell_type": "code",
   "execution_count": 18,
   "id": "682e1af1-0391-45fc-b7e1-ed874f17fd4e",
   "metadata": {},
   "outputs": [
    {
     "data": {
      "text/plain": [
       "(26051, 30)"
      ]
     },
     "execution_count": 18,
     "metadata": {},
     "output_type": "execute_result"
    }
   ],
   "source": [
    "df_comm_ind = df_comm[df_comm.Type==\"my\"]\n",
    "df_comm_ind.shape"
   ]
  },
  {
   "cell_type": "code",
   "execution_count": 19,
   "id": "275c181f-c7b9-4ea4-8995-066a1395f72a",
   "metadata": {},
   "outputs": [
    {
     "data": {
      "text/plain": [
       "(408, 408, 460)"
      ]
     },
     "execution_count": 19,
     "metadata": {},
     "output_type": "execute_result"
    }
   ],
   "source": [
    "df_comm.Participant.nunique(),df_comm.Child.nunique(),df_comm.RecipientChild.nunique()"
   ]
  },
  {
   "cell_type": "code",
   "execution_count": 20,
   "id": "55b056eb-7b04-426a-865e-f09c04336c42",
   "metadata": {},
   "outputs": [
    {
     "data": {
      "text/plain": [
       "408"
      ]
     },
     "execution_count": 20,
     "metadata": {},
     "output_type": "execute_result"
    }
   ],
   "source": [
    "df_comm = df_comm.astype({'Child': 'int32'})\n",
    "df_comm = df_comm.astype({'Class': 'int32'})\n",
    "df_comm = df_comm.astype({'Participant': 'float64'})\n",
    "\n",
    "\n",
    "\n",
    "df_participants = df_comm.groupby(['Class','Participant','Child'])['UMID'].count().reset_index()\n",
    "df_participants = df_participants[['Class','Participant','Child']]\n",
    "df_participants['Participant'].nunique()"
   ]
  },
  {
   "cell_type": "code",
   "execution_count": 21,
   "id": "e87d9202-e78c-4e3b-97a0-c626e7ca37d6",
   "metadata": {},
   "outputs": [
    {
     "data": {
      "text/plain": [
       "(dtype('float64'), dtype('float64'))"
      ]
     },
     "execution_count": 21,
     "metadata": {},
     "output_type": "execute_result"
    }
   ],
   "source": [
    "df_comm.Participant.dtype,df_comm.RecipientChild.dtype,"
   ]
  },
  {
   "cell_type": "code",
   "execution_count": 22,
   "id": "4ea402f8-41e7-46d0-8d1a-4dd6ba614cc6",
   "metadata": {},
   "outputs": [
    {
     "data": {
      "text/plain": [
       "9502            <NA>\n",
       "9503            <NA>\n",
       "9504            <NA>\n",
       "9505    5629600000.0\n",
       "9506    5629600000.0\n",
       "            ...     \n",
       "7879    5425805075.0\n",
       "7880    5425805075.0\n",
       "7881    5425805075.0\n",
       "7882    5425805075.0\n",
       "7883    5425805075.0\n",
       "Name: RecipientChild, Length: 57179, dtype: string"
      ]
     },
     "execution_count": 22,
     "metadata": {},
     "output_type": "execute_result"
    }
   ],
   "source": [
    "df_comm = df_comm.astype({'RecipientChild': 'string'})\n",
    "\n",
    "\n",
    "df_comm['RecipientChild']"
   ]
  },
  {
   "cell_type": "code",
   "execution_count": 23,
   "id": "188806b5-0ef2-4099-8e25-05abd1f258d7",
   "metadata": {},
   "outputs": [
    {
     "data": {
      "text/html": [
       "<div>\n",
       "<style scoped>\n",
       "    .dataframe tbody tr th:only-of-type {\n",
       "        vertical-align: middle;\n",
       "    }\n",
       "\n",
       "    .dataframe tbody tr th {\n",
       "        vertical-align: top;\n",
       "    }\n",
       "\n",
       "    .dataframe thead th {\n",
       "        text-align: right;\n",
       "    }\n",
       "</style>\n",
       "<table border=\"1\" class=\"dataframe\">\n",
       "  <thead>\n",
       "    <tr style=\"text-align: right;\">\n",
       "      <th></th>\n",
       "      <th>Class</th>\n",
       "      <th>Participant</th>\n",
       "      <th>Child</th>\n",
       "    </tr>\n",
       "  </thead>\n",
       "  <tbody>\n",
       "    <tr>\n",
       "      <th>0</th>\n",
       "      <td>78</td>\n",
       "      <td>2807801633.00</td>\n",
       "      <td>1633</td>\n",
       "    </tr>\n",
       "    <tr>\n",
       "      <th>1</th>\n",
       "      <td>78</td>\n",
       "      <td>2807801636.00</td>\n",
       "      <td>1636</td>\n",
       "    </tr>\n",
       "    <tr>\n",
       "      <th>2</th>\n",
       "      <td>78</td>\n",
       "      <td>2807801637.00</td>\n",
       "      <td>1637</td>\n",
       "    </tr>\n",
       "    <tr>\n",
       "      <th>3</th>\n",
       "      <td>78</td>\n",
       "      <td>2807801639.00</td>\n",
       "      <td>1639</td>\n",
       "    </tr>\n",
       "    <tr>\n",
       "      <th>4</th>\n",
       "      <td>78</td>\n",
       "      <td>2807801640.00</td>\n",
       "      <td>1640</td>\n",
       "    </tr>\n",
       "    <tr>\n",
       "      <th>...</th>\n",
       "      <td>...</td>\n",
       "      <td>...</td>\n",
       "      <td>...</td>\n",
       "    </tr>\n",
       "    <tr>\n",
       "      <th>403</th>\n",
       "      <td>303</td>\n",
       "      <td>5830306085.00</td>\n",
       "      <td>6085</td>\n",
       "    </tr>\n",
       "    <tr>\n",
       "      <th>404</th>\n",
       "      <td>303</td>\n",
       "      <td>5830306086.00</td>\n",
       "      <td>6086</td>\n",
       "    </tr>\n",
       "    <tr>\n",
       "      <th>405</th>\n",
       "      <td>303</td>\n",
       "      <td>5830306088.00</td>\n",
       "      <td>6088</td>\n",
       "    </tr>\n",
       "    <tr>\n",
       "      <th>406</th>\n",
       "      <td>303</td>\n",
       "      <td>5830306089.00</td>\n",
       "      <td>6089</td>\n",
       "    </tr>\n",
       "    <tr>\n",
       "      <th>407</th>\n",
       "      <td>303</td>\n",
       "      <td>5830306090.00</td>\n",
       "      <td>6090</td>\n",
       "    </tr>\n",
       "  </tbody>\n",
       "</table>\n",
       "<p>408 rows × 3 columns</p>\n",
       "</div>"
      ],
      "text/plain": [
       "     Class   Participant  Child\n",
       "0       78 2807801633.00   1633\n",
       "1       78 2807801636.00   1636\n",
       "2       78 2807801637.00   1637\n",
       "3       78 2807801639.00   1639\n",
       "4       78 2807801640.00   1640\n",
       "..     ...           ...    ...\n",
       "403    303 5830306085.00   6085\n",
       "404    303 5830306086.00   6086\n",
       "405    303 5830306088.00   6088\n",
       "406    303 5830306089.00   6089\n",
       "407    303 5830306090.00   6090\n",
       "\n",
       "[408 rows x 3 columns]"
      ]
     },
     "execution_count": 23,
     "metadata": {},
     "output_type": "execute_result"
    }
   ],
   "source": [
    "df_participants"
   ]
  },
  {
   "cell_type": "code",
   "execution_count": 24,
   "id": "8a92ad46-0ed7-4fd0-a611-bfd324addad0",
   "metadata": {},
   "outputs": [
    {
     "data": {
      "text/plain": [
       "Class            int64\n",
       "Participant    float64\n",
       "Child            int64\n",
       "dtype: object"
      ]
     },
     "execution_count": 24,
     "metadata": {},
     "output_type": "execute_result"
    }
   ],
   "source": [
    "df_participants.dtypes"
   ]
  },
  {
   "cell_type": "code",
   "execution_count": 25,
   "id": "2c1c8f38-d095-4eee-bb59-5d9da018f8b1",
   "metadata": {},
   "outputs": [
    {
     "data": {
      "text/html": [
       "<div>\n",
       "<style scoped>\n",
       "    .dataframe tbody tr th:only-of-type {\n",
       "        vertical-align: middle;\n",
       "    }\n",
       "\n",
       "    .dataframe tbody tr th {\n",
       "        vertical-align: top;\n",
       "    }\n",
       "\n",
       "    .dataframe thead th {\n",
       "        text-align: right;\n",
       "    }\n",
       "</style>\n",
       "<table border=\"1\" class=\"dataframe\">\n",
       "  <thead>\n",
       "    <tr style=\"text-align: right;\">\n",
       "      <th></th>\n",
       "      <th>Class</th>\n",
       "      <th>Participant</th>\n",
       "      <th>Child</th>\n",
       "    </tr>\n",
       "  </thead>\n",
       "  <tbody>\n",
       "    <tr>\n",
       "      <th>0</th>\n",
       "      <td>78</td>\n",
       "      <td>2807801633.00</td>\n",
       "      <td>1633</td>\n",
       "    </tr>\n",
       "    <tr>\n",
       "      <th>1</th>\n",
       "      <td>78</td>\n",
       "      <td>2807801636.00</td>\n",
       "      <td>1636</td>\n",
       "    </tr>\n",
       "    <tr>\n",
       "      <th>2</th>\n",
       "      <td>78</td>\n",
       "      <td>2807801637.00</td>\n",
       "      <td>1637</td>\n",
       "    </tr>\n",
       "    <tr>\n",
       "      <th>3</th>\n",
       "      <td>78</td>\n",
       "      <td>2807801639.00</td>\n",
       "      <td>1639</td>\n",
       "    </tr>\n",
       "    <tr>\n",
       "      <th>4</th>\n",
       "      <td>78</td>\n",
       "      <td>2807801640.00</td>\n",
       "      <td>1640</td>\n",
       "    </tr>\n",
       "    <tr>\n",
       "      <th>...</th>\n",
       "      <td>...</td>\n",
       "      <td>...</td>\n",
       "      <td>...</td>\n",
       "    </tr>\n",
       "    <tr>\n",
       "      <th>403</th>\n",
       "      <td>303</td>\n",
       "      <td>5830306085.00</td>\n",
       "      <td>6085</td>\n",
       "    </tr>\n",
       "    <tr>\n",
       "      <th>404</th>\n",
       "      <td>303</td>\n",
       "      <td>5830306086.00</td>\n",
       "      <td>6086</td>\n",
       "    </tr>\n",
       "    <tr>\n",
       "      <th>405</th>\n",
       "      <td>303</td>\n",
       "      <td>5830306088.00</td>\n",
       "      <td>6088</td>\n",
       "    </tr>\n",
       "    <tr>\n",
       "      <th>406</th>\n",
       "      <td>303</td>\n",
       "      <td>5830306089.00</td>\n",
       "      <td>6089</td>\n",
       "    </tr>\n",
       "    <tr>\n",
       "      <th>407</th>\n",
       "      <td>303</td>\n",
       "      <td>5830306090.00</td>\n",
       "      <td>6090</td>\n",
       "    </tr>\n",
       "  </tbody>\n",
       "</table>\n",
       "<p>408 rows × 3 columns</p>\n",
       "</div>"
      ],
      "text/plain": [
       "     Class   Participant  Child\n",
       "0       78 2807801633.00   1633\n",
       "1       78 2807801636.00   1636\n",
       "2       78 2807801637.00   1637\n",
       "3       78 2807801639.00   1639\n",
       "4       78 2807801640.00   1640\n",
       "..     ...           ...    ...\n",
       "403    303 5830306085.00   6085\n",
       "404    303 5830306086.00   6086\n",
       "405    303 5830306088.00   6088\n",
       "406    303 5830306089.00   6089\n",
       "407    303 5830306090.00   6090\n",
       "\n",
       "[408 rows x 3 columns]"
      ]
     },
     "execution_count": 25,
     "metadata": {},
     "output_type": "execute_result"
    }
   ],
   "source": [
    "df_participants"
   ]
  },
  {
   "cell_type": "code",
   "execution_count": 27,
   "id": "c9b91e68-52ca-4f89-b945-b4ad1f20d55e",
   "metadata": {},
   "outputs": [
    {
     "data": {
      "text/plain": [
       "(dtype('float64'), StringDtype)"
      ]
     },
     "execution_count": 27,
     "metadata": {},
     "output_type": "execute_result"
    }
   ],
   "source": [
    "df_participants['Participant'].dtype,df_comm['RecipientChild'].dtype"
   ]
  },
  {
   "cell_type": "code",
   "execution_count": 28,
   "id": "c2c504e8-96d6-491f-bee5-fd2158346517",
   "metadata": {},
   "outputs": [
    {
     "data": {
      "text/plain": [
       "<NA>"
      ]
     },
     "execution_count": 28,
     "metadata": {},
     "output_type": "execute_result"
    }
   ],
   "source": [
    "df_participants['Participant'].iloc[0] == df_comm['RecipientChild'].iloc[0]"
   ]
  },
  {
   "cell_type": "code",
   "execution_count": 29,
   "id": "48154ff7-dca9-4634-9dd3-7ea7ae379617",
   "metadata": {},
   "outputs": [
    {
     "data": {
      "text/plain": [
       "2807801633.0"
      ]
     },
     "execution_count": 29,
     "metadata": {},
     "output_type": "execute_result"
    }
   ],
   "source": [
    "df_participants['Participant'].iloc[0]"
   ]
  },
  {
   "cell_type": "code",
   "execution_count": 30,
   "id": "18a07d5f-6646-4a27-9c1d-4b85521efb78",
   "metadata": {},
   "outputs": [
    {
     "data": {
      "text/html": [
       "<div>\n",
       "<style scoped>\n",
       "    .dataframe tbody tr th:only-of-type {\n",
       "        vertical-align: middle;\n",
       "    }\n",
       "\n",
       "    .dataframe tbody tr th {\n",
       "        vertical-align: top;\n",
       "    }\n",
       "\n",
       "    .dataframe thead th {\n",
       "        text-align: right;\n",
       "    }\n",
       "</style>\n",
       "<table border=\"1\" class=\"dataframe\">\n",
       "  <thead>\n",
       "    <tr style=\"text-align: right;\">\n",
       "      <th></th>\n",
       "      <th>Class</th>\n",
       "      <th>Participant</th>\n",
       "      <th>Child</th>\n",
       "    </tr>\n",
       "  </thead>\n",
       "  <tbody>\n",
       "    <tr>\n",
       "      <th>0</th>\n",
       "      <td>78</td>\n",
       "      <td>2807801633.00</td>\n",
       "      <td>1633</td>\n",
       "    </tr>\n",
       "    <tr>\n",
       "      <th>1</th>\n",
       "      <td>78</td>\n",
       "      <td>2807801636.00</td>\n",
       "      <td>1636</td>\n",
       "    </tr>\n",
       "    <tr>\n",
       "      <th>2</th>\n",
       "      <td>78</td>\n",
       "      <td>2807801637.00</td>\n",
       "      <td>1637</td>\n",
       "    </tr>\n",
       "    <tr>\n",
       "      <th>3</th>\n",
       "      <td>78</td>\n",
       "      <td>2807801639.00</td>\n",
       "      <td>1639</td>\n",
       "    </tr>\n",
       "    <tr>\n",
       "      <th>4</th>\n",
       "      <td>78</td>\n",
       "      <td>2807801640.00</td>\n",
       "      <td>1640</td>\n",
       "    </tr>\n",
       "    <tr>\n",
       "      <th>...</th>\n",
       "      <td>...</td>\n",
       "      <td>...</td>\n",
       "      <td>...</td>\n",
       "    </tr>\n",
       "    <tr>\n",
       "      <th>403</th>\n",
       "      <td>303</td>\n",
       "      <td>5830306085.00</td>\n",
       "      <td>6085</td>\n",
       "    </tr>\n",
       "    <tr>\n",
       "      <th>404</th>\n",
       "      <td>303</td>\n",
       "      <td>5830306086.00</td>\n",
       "      <td>6086</td>\n",
       "    </tr>\n",
       "    <tr>\n",
       "      <th>405</th>\n",
       "      <td>303</td>\n",
       "      <td>5830306088.00</td>\n",
       "      <td>6088</td>\n",
       "    </tr>\n",
       "    <tr>\n",
       "      <th>406</th>\n",
       "      <td>303</td>\n",
       "      <td>5830306089.00</td>\n",
       "      <td>6089</td>\n",
       "    </tr>\n",
       "    <tr>\n",
       "      <th>407</th>\n",
       "      <td>303</td>\n",
       "      <td>5830306090.00</td>\n",
       "      <td>6090</td>\n",
       "    </tr>\n",
       "  </tbody>\n",
       "</table>\n",
       "<p>408 rows × 3 columns</p>\n",
       "</div>"
      ],
      "text/plain": [
       "     Class   Participant  Child\n",
       "0       78 2807801633.00   1633\n",
       "1       78 2807801636.00   1636\n",
       "2       78 2807801637.00   1637\n",
       "3       78 2807801639.00   1639\n",
       "4       78 2807801640.00   1640\n",
       "..     ...           ...    ...\n",
       "403    303 5830306085.00   6085\n",
       "404    303 5830306086.00   6086\n",
       "405    303 5830306088.00   6088\n",
       "406    303 5830306089.00   6089\n",
       "407    303 5830306090.00   6090\n",
       "\n",
       "[408 rows x 3 columns]"
      ]
     },
     "execution_count": 30,
     "metadata": {},
     "output_type": "execute_result"
    }
   ],
   "source": [
    "df_participants"
   ]
  },
  {
   "cell_type": "code",
   "execution_count": 31,
   "id": "5aab44a3-32c6-41c2-8b8f-86b3daa17b8b",
   "metadata": {},
   "outputs": [],
   "source": [
    "df_comm['AlterChild'] = df_participants.loc[df_participants['Participant'] == df_comm['RecipientChild'].iloc[0], 'Child']"
   ]
  },
  {
   "cell_type": "markdown",
   "id": "a46a148c-f7d4-41ce-8586-db388528a7f0",
   "metadata": {},
   "source": [
    "### Messages exchanged between individuals"
   ]
  },
  {
   "cell_type": "markdown",
   "id": "0337984d-a4dc-4964-86c1-2eaaefe5b5ba",
   "metadata": {},
   "source": [
    "##### draft: making the connection weights"
   ]
  },
  {
   "cell_type": "code",
   "execution_count": 32,
   "id": "d575e530-2e2f-4618-b25a-c8da436743f0",
   "metadata": {},
   "outputs": [
    {
     "data": {
      "text/plain": [
       "Class\n",
       "78      492\n",
       "81      434\n",
       "100    1789\n",
       "124     755\n",
       "125    1201\n",
       "256     483\n",
       "258     250\n",
       "261    1652\n",
       "262    1821\n",
       "263    3484\n",
       "272    5121\n",
       "273    2474\n",
       "292    5348\n",
       "296    2712\n",
       "297    1163\n",
       "298    8572\n",
       "299    5973\n",
       "300    1201\n",
       "301    5476\n",
       "302    1828\n",
       "303    4950\n",
       "Name: UMID, dtype: int64"
      ]
     },
     "execution_count": 32,
     "metadata": {},
     "output_type": "execute_result"
    }
   ],
   "source": [
    "# messages per class \n",
    "df_comm.groupby('Class')['UMID'].count()"
   ]
  },
  {
   "cell_type": "code",
   "execution_count": 33,
   "id": "bd62d387-44a7-4201-8082-8ee8fab3a329",
   "metadata": {},
   "outputs": [
    {
     "data": {
      "text/html": [
       "<div>\n",
       "<style scoped>\n",
       "    .dataframe tbody tr th:only-of-type {\n",
       "        vertical-align: middle;\n",
       "    }\n",
       "\n",
       "    .dataframe tbody tr th {\n",
       "        vertical-align: top;\n",
       "    }\n",
       "\n",
       "    .dataframe thead th {\n",
       "        text-align: right;\n",
       "    }\n",
       "</style>\n",
       "<table border=\"1\" class=\"dataframe\">\n",
       "  <thead>\n",
       "    <tr style=\"text-align: right;\">\n",
       "      <th></th>\n",
       "      <th>Participant</th>\n",
       "      <th>School</th>\n",
       "      <th>Class</th>\n",
       "      <th>Child</th>\n",
       "      <th>Gender</th>\n",
       "      <th>Age</th>\n",
       "      <th>PI</th>\n",
       "      <th>Date</th>\n",
       "      <th>Time</th>\n",
       "      <th>UMID</th>\n",
       "      <th>...</th>\n",
       "      <th>SharedVia</th>\n",
       "      <th>Number_likes</th>\n",
       "      <th>Unnamed: 23</th>\n",
       "      <th>Unnamed: 24</th>\n",
       "      <th>Unnamed: 25</th>\n",
       "      <th>Unnamed: 26</th>\n",
       "      <th>Unnamed: 27</th>\n",
       "      <th>Unnamed: 28</th>\n",
       "      <th>Unnamed: 29</th>\n",
       "      <th>AlterChild</th>\n",
       "    </tr>\n",
       "  </thead>\n",
       "  <tbody>\n",
       "    <tr>\n",
       "      <th>101905</th>\n",
       "      <td>2908101605.00</td>\n",
       "      <td>29.00</td>\n",
       "      <td>81</td>\n",
       "      <td>1605</td>\n",
       "      <td>1.00</td>\n",
       "      <td>14.00</td>\n",
       "      <td>0.00</td>\n",
       "      <td>6-3-2018</td>\n",
       "      <td>14:56</td>\n",
       "      <td>85433</td>\n",
       "      <td>...</td>\n",
       "      <td>NaN</td>\n",
       "      <td>0.00</td>\n",
       "      <td>NaN</td>\n",
       "      <td>NaN</td>\n",
       "      <td>NaN</td>\n",
       "      <td>NaN</td>\n",
       "      <td>NaN</td>\n",
       "      <td>NaN</td>\n",
       "      <td>NaN</td>\n",
       "      <td>NaN</td>\n",
       "    </tr>\n",
       "    <tr>\n",
       "      <th>101906</th>\n",
       "      <td>2908101605.00</td>\n",
       "      <td>29.00</td>\n",
       "      <td>81</td>\n",
       "      <td>1605</td>\n",
       "      <td>1.00</td>\n",
       "      <td>14.00</td>\n",
       "      <td>0.00</td>\n",
       "      <td>6-3-2018</td>\n",
       "      <td>14:57</td>\n",
       "      <td>85447</td>\n",
       "      <td>...</td>\n",
       "      <td>NaN</td>\n",
       "      <td>0.00</td>\n",
       "      <td>NaN</td>\n",
       "      <td>NaN</td>\n",
       "      <td>NaN</td>\n",
       "      <td>NaN</td>\n",
       "      <td>NaN</td>\n",
       "      <td>NaN</td>\n",
       "      <td>NaN</td>\n",
       "      <td>NaN</td>\n",
       "    </tr>\n",
       "    <tr>\n",
       "      <th>101907</th>\n",
       "      <td>2908101605.00</td>\n",
       "      <td>29.00</td>\n",
       "      <td>81</td>\n",
       "      <td>1605</td>\n",
       "      <td>1.00</td>\n",
       "      <td>14.00</td>\n",
       "      <td>0.00</td>\n",
       "      <td>6-3-2018</td>\n",
       "      <td>15:12</td>\n",
       "      <td>85701</td>\n",
       "      <td>...</td>\n",
       "      <td>NaN</td>\n",
       "      <td>0.00</td>\n",
       "      <td>NaN</td>\n",
       "      <td>NaN</td>\n",
       "      <td>NaN</td>\n",
       "      <td>NaN</td>\n",
       "      <td>NaN</td>\n",
       "      <td>NaN</td>\n",
       "      <td>NaN</td>\n",
       "      <td>NaN</td>\n",
       "    </tr>\n",
       "    <tr>\n",
       "      <th>101908</th>\n",
       "      <td>2908101605.00</td>\n",
       "      <td>29.00</td>\n",
       "      <td>81</td>\n",
       "      <td>1605</td>\n",
       "      <td>1.00</td>\n",
       "      <td>14.00</td>\n",
       "      <td>0.00</td>\n",
       "      <td>6-3-2018</td>\n",
       "      <td>15:12</td>\n",
       "      <td>85709</td>\n",
       "      <td>...</td>\n",
       "      <td>NaN</td>\n",
       "      <td>0.00</td>\n",
       "      <td>NaN</td>\n",
       "      <td>NaN</td>\n",
       "      <td>NaN</td>\n",
       "      <td>NaN</td>\n",
       "      <td>NaN</td>\n",
       "      <td>NaN</td>\n",
       "      <td>NaN</td>\n",
       "      <td>NaN</td>\n",
       "    </tr>\n",
       "    <tr>\n",
       "      <th>101909</th>\n",
       "      <td>2908101605.00</td>\n",
       "      <td>29.00</td>\n",
       "      <td>81</td>\n",
       "      <td>1605</td>\n",
       "      <td>1.00</td>\n",
       "      <td>14.00</td>\n",
       "      <td>0.00</td>\n",
       "      <td>6-3-2018</td>\n",
       "      <td>15:12</td>\n",
       "      <td>85711</td>\n",
       "      <td>...</td>\n",
       "      <td>NaN</td>\n",
       "      <td>0.00</td>\n",
       "      <td>NaN</td>\n",
       "      <td>NaN</td>\n",
       "      <td>NaN</td>\n",
       "      <td>NaN</td>\n",
       "      <td>NaN</td>\n",
       "      <td>NaN</td>\n",
       "      <td>NaN</td>\n",
       "      <td>NaN</td>\n",
       "    </tr>\n",
       "    <tr>\n",
       "      <th>...</th>\n",
       "      <td>...</td>\n",
       "      <td>...</td>\n",
       "      <td>...</td>\n",
       "      <td>...</td>\n",
       "      <td>...</td>\n",
       "      <td>...</td>\n",
       "      <td>...</td>\n",
       "      <td>...</td>\n",
       "      <td>...</td>\n",
       "      <td>...</td>\n",
       "      <td>...</td>\n",
       "      <td>...</td>\n",
       "      <td>...</td>\n",
       "      <td>...</td>\n",
       "      <td>...</td>\n",
       "      <td>...</td>\n",
       "      <td>...</td>\n",
       "      <td>...</td>\n",
       "      <td>...</td>\n",
       "      <td>...</td>\n",
       "      <td>...</td>\n",
       "    </tr>\n",
       "    <tr>\n",
       "      <th>102351</th>\n",
       "      <td>2908101632.00</td>\n",
       "      <td>29.00</td>\n",
       "      <td>81</td>\n",
       "      <td>1632</td>\n",
       "      <td>0.00</td>\n",
       "      <td>11.00</td>\n",
       "      <td>0.00</td>\n",
       "      <td>6-3-2018</td>\n",
       "      <td>14:50</td>\n",
       "      <td>85355</td>\n",
       "      <td>...</td>\n",
       "      <td>NaN</td>\n",
       "      <td>0.00</td>\n",
       "      <td>NaN</td>\n",
       "      <td>NaN</td>\n",
       "      <td>NaN</td>\n",
       "      <td>NaN</td>\n",
       "      <td>NaN</td>\n",
       "      <td>NaN</td>\n",
       "      <td>NaN</td>\n",
       "      <td>NaN</td>\n",
       "    </tr>\n",
       "    <tr>\n",
       "      <th>102352</th>\n",
       "      <td>2908101632.00</td>\n",
       "      <td>29.00</td>\n",
       "      <td>81</td>\n",
       "      <td>1632</td>\n",
       "      <td>0.00</td>\n",
       "      <td>11.00</td>\n",
       "      <td>0.00</td>\n",
       "      <td>6-3-2018</td>\n",
       "      <td>14:50</td>\n",
       "      <td>85358</td>\n",
       "      <td>...</td>\n",
       "      <td>NaN</td>\n",
       "      <td>0.00</td>\n",
       "      <td>NaN</td>\n",
       "      <td>NaN</td>\n",
       "      <td>NaN</td>\n",
       "      <td>NaN</td>\n",
       "      <td>NaN</td>\n",
       "      <td>NaN</td>\n",
       "      <td>NaN</td>\n",
       "      <td>NaN</td>\n",
       "    </tr>\n",
       "    <tr>\n",
       "      <th>102353</th>\n",
       "      <td>2908101632.00</td>\n",
       "      <td>29.00</td>\n",
       "      <td>81</td>\n",
       "      <td>1632</td>\n",
       "      <td>0.00</td>\n",
       "      <td>11.00</td>\n",
       "      <td>0.00</td>\n",
       "      <td>8-3-2018</td>\n",
       "      <td>7:39</td>\n",
       "      <td>94699</td>\n",
       "      <td>...</td>\n",
       "      <td>NaN</td>\n",
       "      <td>0.00</td>\n",
       "      <td>NaN</td>\n",
       "      <td>NaN</td>\n",
       "      <td>NaN</td>\n",
       "      <td>NaN</td>\n",
       "      <td>NaN</td>\n",
       "      <td>NaN</td>\n",
       "      <td>NaN</td>\n",
       "      <td>NaN</td>\n",
       "    </tr>\n",
       "    <tr>\n",
       "      <th>102354</th>\n",
       "      <td>2908101632.00</td>\n",
       "      <td>29.00</td>\n",
       "      <td>81</td>\n",
       "      <td>1632</td>\n",
       "      <td>0.00</td>\n",
       "      <td>11.00</td>\n",
       "      <td>0.00</td>\n",
       "      <td>8-3-2018</td>\n",
       "      <td>7:39</td>\n",
       "      <td>94703</td>\n",
       "      <td>...</td>\n",
       "      <td>NaN</td>\n",
       "      <td>1.00</td>\n",
       "      <td>NaN</td>\n",
       "      <td>NaN</td>\n",
       "      <td>NaN</td>\n",
       "      <td>NaN</td>\n",
       "      <td>NaN</td>\n",
       "      <td>NaN</td>\n",
       "      <td>NaN</td>\n",
       "      <td>NaN</td>\n",
       "    </tr>\n",
       "    <tr>\n",
       "      <th>102355</th>\n",
       "      <td>2908101632.00</td>\n",
       "      <td>29.00</td>\n",
       "      <td>81</td>\n",
       "      <td>1632</td>\n",
       "      <td>0.00</td>\n",
       "      <td>11.00</td>\n",
       "      <td>0.00</td>\n",
       "      <td>8-3-2018</td>\n",
       "      <td>7:39</td>\n",
       "      <td>94706</td>\n",
       "      <td>...</td>\n",
       "      <td>NaN</td>\n",
       "      <td>0.00</td>\n",
       "      <td>NaN</td>\n",
       "      <td>NaN</td>\n",
       "      <td>NaN</td>\n",
       "      <td>NaN</td>\n",
       "      <td>NaN</td>\n",
       "      <td>NaN</td>\n",
       "      <td>NaN</td>\n",
       "      <td>NaN</td>\n",
       "    </tr>\n",
       "  </tbody>\n",
       "</table>\n",
       "<p>434 rows × 31 columns</p>\n",
       "</div>"
      ],
      "text/plain": [
       "         Participant  School  Class  Child  Gender   Age   PI      Date  \\\n",
       "101905 2908101605.00   29.00     81   1605    1.00 14.00 0.00  6-3-2018   \n",
       "101906 2908101605.00   29.00     81   1605    1.00 14.00 0.00  6-3-2018   \n",
       "101907 2908101605.00   29.00     81   1605    1.00 14.00 0.00  6-3-2018   \n",
       "101908 2908101605.00   29.00     81   1605    1.00 14.00 0.00  6-3-2018   \n",
       "101909 2908101605.00   29.00     81   1605    1.00 14.00 0.00  6-3-2018   \n",
       "...              ...     ...    ...    ...     ...   ...  ...       ...   \n",
       "102351 2908101632.00   29.00     81   1632    0.00 11.00 0.00  6-3-2018   \n",
       "102352 2908101632.00   29.00     81   1632    0.00 11.00 0.00  6-3-2018   \n",
       "102353 2908101632.00   29.00     81   1632    0.00 11.00 0.00  8-3-2018   \n",
       "102354 2908101632.00   29.00     81   1632    0.00 11.00 0.00  8-3-2018   \n",
       "102355 2908101632.00   29.00     81   1632    0.00 11.00 0.00  8-3-2018   \n",
       "\n",
       "         Time   UMID  ...  SharedVia Number_likes Unnamed: 23 Unnamed: 24  \\\n",
       "101905  14:56  85433  ...        NaN         0.00         NaN         NaN   \n",
       "101906  14:57  85447  ...        NaN         0.00         NaN         NaN   \n",
       "101907  15:12  85701  ...        NaN         0.00         NaN         NaN   \n",
       "101908  15:12  85709  ...        NaN         0.00         NaN         NaN   \n",
       "101909  15:12  85711  ...        NaN         0.00         NaN         NaN   \n",
       "...       ...    ...  ...        ...          ...         ...         ...   \n",
       "102351  14:50  85355  ...        NaN         0.00         NaN         NaN   \n",
       "102352  14:50  85358  ...        NaN         0.00         NaN         NaN   \n",
       "102353   7:39  94699  ...        NaN         0.00         NaN         NaN   \n",
       "102354   7:39  94703  ...        NaN         1.00         NaN         NaN   \n",
       "102355   7:39  94706  ...        NaN         0.00         NaN         NaN   \n",
       "\n",
       "        Unnamed: 25 Unnamed: 26 Unnamed: 27  Unnamed: 28  Unnamed: 29  \\\n",
       "101905          NaN         NaN         NaN          NaN          NaN   \n",
       "101906          NaN         NaN         NaN          NaN          NaN   \n",
       "101907          NaN         NaN         NaN          NaN          NaN   \n",
       "101908          NaN         NaN         NaN          NaN          NaN   \n",
       "101909          NaN         NaN         NaN          NaN          NaN   \n",
       "...             ...         ...         ...          ...          ...   \n",
       "102351          NaN         NaN         NaN          NaN          NaN   \n",
       "102352          NaN         NaN         NaN          NaN          NaN   \n",
       "102353          NaN         NaN         NaN          NaN          NaN   \n",
       "102354          NaN         NaN         NaN          NaN          NaN   \n",
       "102355          NaN         NaN         NaN          NaN          NaN   \n",
       "\n",
       "        AlterChild  \n",
       "101905         NaN  \n",
       "101906         NaN  \n",
       "101907         NaN  \n",
       "101908         NaN  \n",
       "101909         NaN  \n",
       "...            ...  \n",
       "102351         NaN  \n",
       "102352         NaN  \n",
       "102353         NaN  \n",
       "102354         NaN  \n",
       "102355         NaN  \n",
       "\n",
       "[434 rows x 31 columns]"
      ]
     },
     "execution_count": 33,
     "metadata": {},
     "output_type": "execute_result"
    }
   ],
   "source": [
    "df_test = df_comm[df_comm.Class.isin([81])]\n",
    "df_test"
   ]
  },
  {
   "cell_type": "code",
   "execution_count": 34,
   "id": "3cfdf16a-63f8-4f6c-b97b-954649c6ef70",
   "metadata": {},
   "outputs": [
    {
     "data": {
      "text/plain": [
       "array([2.90810160e+09, 2.90810161e+09, 2.90810161e+09, 2.90810161e+09,\n",
       "       2.90810161e+09, 2.90810161e+09, 2.90810161e+09, 2.90810161e+09,\n",
       "       2.90810161e+09, 2.90810162e+09, 2.90810162e+09, 2.90810162e+09,\n",
       "       2.90810162e+09, 2.90810162e+09, 2.90810163e+09, 2.90810163e+09,\n",
       "       2.90810163e+09, 2.90810163e+09, 2.90810163e+09])"
      ]
     },
     "execution_count": 34,
     "metadata": {},
     "output_type": "execute_result"
    }
   ],
   "source": [
    "df_test.Participant.unique()"
   ]
  },
  {
   "cell_type": "code",
   "execution_count": 35,
   "id": "5d1fda1b-cbbc-4da5-9034-40f958eb3794",
   "metadata": {},
   "outputs": [
    {
     "data": {
      "text/html": [
       "<div>\n",
       "<style scoped>\n",
       "    .dataframe tbody tr th:only-of-type {\n",
       "        vertical-align: middle;\n",
       "    }\n",
       "\n",
       "    .dataframe tbody tr th {\n",
       "        vertical-align: top;\n",
       "    }\n",
       "\n",
       "    .dataframe thead th {\n",
       "        text-align: right;\n",
       "    }\n",
       "</style>\n",
       "<table border=\"1\" class=\"dataframe\">\n",
       "  <thead>\n",
       "    <tr style=\"text-align: right;\">\n",
       "      <th></th>\n",
       "      <th>Participant</th>\n",
       "      <th>RecipientChild</th>\n",
       "      <th>NumberMessages</th>\n",
       "    </tr>\n",
       "  </thead>\n",
       "  <tbody>\n",
       "    <tr>\n",
       "      <th>0</th>\n",
       "      <td>2908101605.00</td>\n",
       "      <td>2908100000.0</td>\n",
       "      <td>4</td>\n",
       "    </tr>\n",
       "    <tr>\n",
       "      <th>1</th>\n",
       "      <td>2908101605.00</td>\n",
       "      <td>2908101620.0</td>\n",
       "      <td>1</td>\n",
       "    </tr>\n",
       "    <tr>\n",
       "      <th>2</th>\n",
       "      <td>2908101605.00</td>\n",
       "      <td>2908101631.0</td>\n",
       "      <td>4</td>\n",
       "    </tr>\n",
       "    <tr>\n",
       "      <th>3</th>\n",
       "      <td>2908101606.00</td>\n",
       "      <td>2908100000.0</td>\n",
       "      <td>4</td>\n",
       "    </tr>\n",
       "    <tr>\n",
       "      <th>4</th>\n",
       "      <td>2908101606.00</td>\n",
       "      <td>2908101617.0</td>\n",
       "      <td>2</td>\n",
       "    </tr>\n",
       "    <tr>\n",
       "      <th>...</th>\n",
       "      <td>...</td>\n",
       "      <td>...</td>\n",
       "      <td>...</td>\n",
       "    </tr>\n",
       "    <tr>\n",
       "      <th>90</th>\n",
       "      <td>2908101631.00</td>\n",
       "      <td>2908101609.0</td>\n",
       "      <td>1</td>\n",
       "    </tr>\n",
       "    <tr>\n",
       "      <th>91</th>\n",
       "      <td>2908101631.00</td>\n",
       "      <td>2908101617.0</td>\n",
       "      <td>8</td>\n",
       "    </tr>\n",
       "    <tr>\n",
       "      <th>92</th>\n",
       "      <td>2908101631.00</td>\n",
       "      <td>2908101623.0</td>\n",
       "      <td>2</td>\n",
       "    </tr>\n",
       "    <tr>\n",
       "      <th>93</th>\n",
       "      <td>2908101631.00</td>\n",
       "      <td>2908101625.0</td>\n",
       "      <td>2</td>\n",
       "    </tr>\n",
       "    <tr>\n",
       "      <th>94</th>\n",
       "      <td>2908101632.00</td>\n",
       "      <td>2908101608.0</td>\n",
       "      <td>1</td>\n",
       "    </tr>\n",
       "  </tbody>\n",
       "</table>\n",
       "<p>95 rows × 3 columns</p>\n",
       "</div>"
      ],
      "text/plain": [
       "     Participant RecipientChild  NumberMessages\n",
       "0  2908101605.00   2908100000.0               4\n",
       "1  2908101605.00   2908101620.0               1\n",
       "2  2908101605.00   2908101631.0               4\n",
       "3  2908101606.00   2908100000.0               4\n",
       "4  2908101606.00   2908101617.0               2\n",
       "..           ...            ...             ...\n",
       "90 2908101631.00   2908101609.0               1\n",
       "91 2908101631.00   2908101617.0               8\n",
       "92 2908101631.00   2908101623.0               2\n",
       "93 2908101631.00   2908101625.0               2\n",
       "94 2908101632.00   2908101608.0               1\n",
       "\n",
       "[95 rows x 3 columns]"
      ]
     },
     "execution_count": 35,
     "metadata": {},
     "output_type": "execute_result"
    }
   ],
   "source": [
    "#this is actually the number of edges\n",
    "df_pairs = df_test.groupby([\"Participant\",\"RecipientChild\"])[\"UMID\"].count().reset_index(name='NumberMessages')\n",
    "df_pairs"
   ]
  },
  {
   "cell_type": "code",
   "execution_count": 36,
   "id": "76a4e7d8-994c-4aff-9435-be0f22df3aac",
   "metadata": {},
   "outputs": [],
   "source": [
    "df_pairs = df_pairs.astype({'NumberMessages': 'float64'})\n",
    "df_pairs = df_pairs.astype({'Participant': 'float64'})"
   ]
  },
  {
   "cell_type": "code",
   "execution_count": 37,
   "id": "a3c875be-9323-4e6f-8216-678910db34af",
   "metadata": {},
   "outputs": [
    {
     "data": {
      "text/plain": [
       "Participant       float64\n",
       "RecipientChild     object\n",
       "NumberMessages    float64\n",
       "dtype: object"
      ]
     },
     "execution_count": 37,
     "metadata": {},
     "output_type": "execute_result"
    }
   ],
   "source": [
    "df_pairs.dtypes"
   ]
  },
  {
   "cell_type": "code",
   "execution_count": 38,
   "id": "bb2cab0f-68fa-4473-a0ac-82f66850ab9d",
   "metadata": {},
   "outputs": [
    {
     "data": {
      "text/html": [
       "<div>\n",
       "<style scoped>\n",
       "    .dataframe tbody tr th:only-of-type {\n",
       "        vertical-align: middle;\n",
       "    }\n",
       "\n",
       "    .dataframe tbody tr th {\n",
       "        vertical-align: top;\n",
       "    }\n",
       "\n",
       "    .dataframe thead th {\n",
       "        text-align: right;\n",
       "    }\n",
       "</style>\n",
       "<table border=\"1\" class=\"dataframe\">\n",
       "  <thead>\n",
       "    <tr style=\"text-align: right;\">\n",
       "      <th></th>\n",
       "      <th>Participant</th>\n",
       "      <th>RecipientChild</th>\n",
       "      <th>NumberMessages</th>\n",
       "      <th>Weight</th>\n",
       "    </tr>\n",
       "  </thead>\n",
       "  <tbody>\n",
       "    <tr>\n",
       "      <th>0</th>\n",
       "      <td>2908101605.00</td>\n",
       "      <td>2908100000.0</td>\n",
       "      <td>4.00</td>\n",
       "      <td>0.50</td>\n",
       "    </tr>\n",
       "    <tr>\n",
       "      <th>1</th>\n",
       "      <td>2908101605.00</td>\n",
       "      <td>2908101620.0</td>\n",
       "      <td>1.00</td>\n",
       "      <td>0.12</td>\n",
       "    </tr>\n",
       "    <tr>\n",
       "      <th>2</th>\n",
       "      <td>2908101605.00</td>\n",
       "      <td>2908101631.0</td>\n",
       "      <td>4.00</td>\n",
       "      <td>0.50</td>\n",
       "    </tr>\n",
       "    <tr>\n",
       "      <th>3</th>\n",
       "      <td>2908101606.00</td>\n",
       "      <td>2908100000.0</td>\n",
       "      <td>4.00</td>\n",
       "      <td>0.50</td>\n",
       "    </tr>\n",
       "    <tr>\n",
       "      <th>4</th>\n",
       "      <td>2908101606.00</td>\n",
       "      <td>2908101617.0</td>\n",
       "      <td>2.00</td>\n",
       "      <td>0.25</td>\n",
       "    </tr>\n",
       "    <tr>\n",
       "      <th>...</th>\n",
       "      <td>...</td>\n",
       "      <td>...</td>\n",
       "      <td>...</td>\n",
       "      <td>...</td>\n",
       "    </tr>\n",
       "    <tr>\n",
       "      <th>90</th>\n",
       "      <td>2908101631.00</td>\n",
       "      <td>2908101609.0</td>\n",
       "      <td>1.00</td>\n",
       "      <td>0.12</td>\n",
       "    </tr>\n",
       "    <tr>\n",
       "      <th>91</th>\n",
       "      <td>2908101631.00</td>\n",
       "      <td>2908101617.0</td>\n",
       "      <td>8.00</td>\n",
       "      <td>1.00</td>\n",
       "    </tr>\n",
       "    <tr>\n",
       "      <th>92</th>\n",
       "      <td>2908101631.00</td>\n",
       "      <td>2908101623.0</td>\n",
       "      <td>2.00</td>\n",
       "      <td>0.25</td>\n",
       "    </tr>\n",
       "    <tr>\n",
       "      <th>93</th>\n",
       "      <td>2908101631.00</td>\n",
       "      <td>2908101625.0</td>\n",
       "      <td>2.00</td>\n",
       "      <td>0.25</td>\n",
       "    </tr>\n",
       "    <tr>\n",
       "      <th>94</th>\n",
       "      <td>2908101632.00</td>\n",
       "      <td>2908101608.0</td>\n",
       "      <td>1.00</td>\n",
       "      <td>0.12</td>\n",
       "    </tr>\n",
       "  </tbody>\n",
       "</table>\n",
       "<p>95 rows × 4 columns</p>\n",
       "</div>"
      ],
      "text/plain": [
       "     Participant RecipientChild  NumberMessages  Weight\n",
       "0  2908101605.00   2908100000.0            4.00    0.50\n",
       "1  2908101605.00   2908101620.0            1.00    0.12\n",
       "2  2908101605.00   2908101631.0            4.00    0.50\n",
       "3  2908101606.00   2908100000.0            4.00    0.50\n",
       "4  2908101606.00   2908101617.0            2.00    0.25\n",
       "..           ...            ...             ...     ...\n",
       "90 2908101631.00   2908101609.0            1.00    0.12\n",
       "91 2908101631.00   2908101617.0            8.00    1.00\n",
       "92 2908101631.00   2908101623.0            2.00    0.25\n",
       "93 2908101631.00   2908101625.0            2.00    0.25\n",
       "94 2908101632.00   2908101608.0            1.00    0.12\n",
       "\n",
       "[95 rows x 4 columns]"
      ]
     },
     "execution_count": 38,
     "metadata": {},
     "output_type": "execute_result"
    }
   ],
   "source": [
    "df_pairs['Weight'] = df_pairs['NumberMessages']/max(df_pairs['NumberMessages'])\n",
    "df_pairs"
   ]
  },
  {
   "cell_type": "code",
   "execution_count": 39,
   "id": "eb419087-0f29-471b-a69f-26e3d7565a78",
   "metadata": {},
   "outputs": [
    {
     "data": {
      "text/plain": [
       "28"
      ]
     },
     "execution_count": 39,
     "metadata": {},
     "output_type": "execute_result"
    }
   ],
   "source": [
    "df_pairs.RecipientChild.nunique()"
   ]
  },
  {
   "cell_type": "code",
   "execution_count": 40,
   "id": "b2739109-1d1c-4311-b897-ae76eb52c5ae",
   "metadata": {},
   "outputs": [],
   "source": [
    "graph = nx.DiGraph()\n",
    "for index, row in df_pairs.iterrows():\n",
    "    graph.add_edge(row[0],row[1],weight=row[3])"
   ]
  },
  {
   "cell_type": "code",
   "execution_count": 41,
   "id": "ef9bf438-1250-49c4-89f1-faf778d80876",
   "metadata": {},
   "outputs": [
    {
     "data": {
      "text/plain": [
       "(NodeView((2908101605.0, '2908100000.0', '2908101620.0', '2908101631.0', 2908101606.0, '2908101617.0', 2908101607.0, '2908101615.0', '2908101630.0', 2908101608.0, '2908101610.0', '2908101611.0', '2908101614.0', '2908101616.0', '2908101621.0', '2908101623.0', '2908101625.0', '2908101626.0', '2908101627.0', '2908101628.0', '2908101632.0', 2908101609.0, 2908101610.0, '2908101612.0', 2908101611.0, 2908101612.0, 2908101614.0, 2908101615.0, '2908101607.0', 2908101617.0, '2908101606.0', '2908101608.0', 2908101620.0, '2908101605.0', '2908101609.0', '2908101613.0', '2908101619.0', '2908101622.0', '2908101629.0', '2908104362.0', 2908101623.0, 2908101625.0, 2908101626.0, 2908101627.0, 2908101630.0, 2908101631.0, 2908101632.0)),\n",
       " 47)"
      ]
     },
     "execution_count": 41,
     "metadata": {},
     "output_type": "execute_result"
    }
   ],
   "source": [
    "graph.nodes(),len(graph.nodes())"
   ]
  },
  {
   "cell_type": "code",
   "execution_count": 42,
   "id": "4644f2e6-7fa7-4638-a6a4-7286b5c66743",
   "metadata": {},
   "outputs": [
    {
     "data": {
      "text/plain": [
       "95"
      ]
     },
     "execution_count": 42,
     "metadata": {},
     "output_type": "execute_result"
    }
   ],
   "source": [
    "len(graph.edges)"
   ]
  },
  {
   "cell_type": "code",
   "execution_count": 43,
   "id": "28cdfa20-ff10-4660-afcf-6bb87f49b490",
   "metadata": {},
   "outputs": [
    {
     "data": {
      "text/plain": [
       "(21, 408, 439)"
      ]
     },
     "execution_count": 43,
     "metadata": {},
     "output_type": "execute_result"
    }
   ],
   "source": [
    "df_comm_ind['Class'].nunique(),df_comm_ind['Child'].nunique(),df_comm_ind['RecipientChild'].nunique()"
   ]
  },
  {
   "cell_type": "code",
   "execution_count": 44,
   "id": "ba4f713b-1924-4522-b44f-1898ba615d6e",
   "metadata": {},
   "outputs": [
    {
     "data": {
      "text/plain": [
       "Class\n",
       "78.00     18\n",
       "81.00     19\n",
       "100.00    19\n",
       "124.00    17\n",
       "125.00    16\n",
       "256.00    22\n",
       "258.00    16\n",
       "261.00    17\n",
       "262.00    15\n",
       "263.00    20\n",
       "272.00    24\n",
       "273.00    24\n",
       "292.00    21\n",
       "296.00    17\n",
       "297.00    16\n",
       "298.00    21\n",
       "299.00    19\n",
       "300.00    19\n",
       "301.00    24\n",
       "302.00    19\n",
       "303.00    25\n",
       "Name: Child, dtype: int64"
      ]
     },
     "execution_count": 44,
     "metadata": {},
     "output_type": "execute_result"
    }
   ],
   "source": [
    "df_comm_ind.groupby([\"Class\"])[\"Child\"].nunique()"
   ]
  },
  {
   "cell_type": "code",
   "execution_count": 45,
   "id": "5adebab4-b455-4b3f-8779-40ade632094a",
   "metadata": {},
   "outputs": [
    {
     "data": {
      "text/html": [
       "<div>\n",
       "<style scoped>\n",
       "    .dataframe tbody tr th:only-of-type {\n",
       "        vertical-align: middle;\n",
       "    }\n",
       "\n",
       "    .dataframe tbody tr th {\n",
       "        vertical-align: top;\n",
       "    }\n",
       "\n",
       "    .dataframe thead th {\n",
       "        text-align: right;\n",
       "    }\n",
       "</style>\n",
       "<table border=\"1\" class=\"dataframe\">\n",
       "  <thead>\n",
       "    <tr style=\"text-align: right;\">\n",
       "      <th></th>\n",
       "      <th>Child</th>\n",
       "      <th>UMID</th>\n",
       "    </tr>\n",
       "  </thead>\n",
       "  <tbody>\n",
       "    <tr>\n",
       "      <th>0</th>\n",
       "      <td>1605.00</td>\n",
       "      <td>5</td>\n",
       "    </tr>\n",
       "    <tr>\n",
       "      <th>1</th>\n",
       "      <td>1606.00</td>\n",
       "      <td>2</td>\n",
       "    </tr>\n",
       "    <tr>\n",
       "      <th>2</th>\n",
       "      <td>1607.00</td>\n",
       "      <td>10</td>\n",
       "    </tr>\n",
       "    <tr>\n",
       "      <th>3</th>\n",
       "      <td>1608.00</td>\n",
       "      <td>16</td>\n",
       "    </tr>\n",
       "    <tr>\n",
       "      <th>4</th>\n",
       "      <td>1609.00</td>\n",
       "      <td>1</td>\n",
       "    </tr>\n",
       "    <tr>\n",
       "      <th>...</th>\n",
       "      <td>...</td>\n",
       "      <td>...</td>\n",
       "    </tr>\n",
       "    <tr>\n",
       "      <th>403</th>\n",
       "      <td>6085.00</td>\n",
       "      <td>14</td>\n",
       "    </tr>\n",
       "    <tr>\n",
       "      <th>404</th>\n",
       "      <td>6086.00</td>\n",
       "      <td>13</td>\n",
       "    </tr>\n",
       "    <tr>\n",
       "      <th>405</th>\n",
       "      <td>6088.00</td>\n",
       "      <td>105</td>\n",
       "    </tr>\n",
       "    <tr>\n",
       "      <th>406</th>\n",
       "      <td>6089.00</td>\n",
       "      <td>24</td>\n",
       "    </tr>\n",
       "    <tr>\n",
       "      <th>407</th>\n",
       "      <td>6090.00</td>\n",
       "      <td>9</td>\n",
       "    </tr>\n",
       "  </tbody>\n",
       "</table>\n",
       "<p>408 rows × 2 columns</p>\n",
       "</div>"
      ],
      "text/plain": [
       "      Child  UMID\n",
       "0   1605.00     5\n",
       "1   1606.00     2\n",
       "2   1607.00    10\n",
       "3   1608.00    16\n",
       "4   1609.00     1\n",
       "..      ...   ...\n",
       "403 6085.00    14\n",
       "404 6086.00    13\n",
       "405 6088.00   105\n",
       "406 6089.00    24\n",
       "407 6090.00     9\n",
       "\n",
       "[408 rows x 2 columns]"
      ]
     },
     "execution_count": 45,
     "metadata": {},
     "output_type": "execute_result"
    }
   ],
   "source": [
    "df_messages_per_child = df_comm_ind.groupby(\"Child\")[\"UMID\"].count().reset_index()\n",
    "df_messages_per_child"
   ]
  },
  {
   "cell_type": "code",
   "execution_count": 46,
   "id": "ccd3393a-b394-4107-928e-5e10f9bf9278",
   "metadata": {},
   "outputs": [
    {
     "data": {
      "text/plain": [
       "count   408.00\n",
       "mean     63.85\n",
       "std     103.97\n",
       "min       1.00\n",
       "25%       9.00\n",
       "50%      23.50\n",
       "75%      69.50\n",
       "max     789.00\n",
       "Name: UMID, dtype: float64"
      ]
     },
     "execution_count": 46,
     "metadata": {},
     "output_type": "execute_result"
    }
   ],
   "source": [
    "df_messages_per_child['UMID'].describe()"
   ]
  },
  {
   "cell_type": "code",
   "execution_count": 47,
   "id": "0c06575a-992e-4fa9-b463-27869f7bc3cb",
   "metadata": {},
   "outputs": [
    {
     "data": {
      "image/png": "[encoded data removed]",
      "text/plain": [
       "<Figure size 1584x720 with 1 Axes>"
      ]
     },
     "metadata": {
      "needs_background": "light"
     },
     "output_type": "display_data"
    }
   ],
   "source": [
    "from matplotlib.pyplot import figure\n",
    "import matplotlib.pyplot as plt\n",
    "\n",
    "fig, ax = plt.subplots(1, 1)\n",
    "fig.set_size_inches(22, 10)\n",
    "bins = range(0,790,20)\n",
    "plt.xticks(bins)\n",
    "df_comm_ind.groupby(\"Participant\")[\"UMID\"].count().plot.hist(bins=bins)\n",
    "ax.set_xlabel('Number of Sent Messages')\n",
    "ax.set_ylabel('Number of Participants')\n",
    "plt.show()"
   ]
  },
  {
   "cell_type": "code",
   "execution_count": 48,
   "id": "f427557c-4689-4843-bea4-0cd24d1f085f",
   "metadata": {},
   "outputs": [
    {
     "data": {
      "text/html": [
       "<div>\n",
       "<style scoped>\n",
       "    .dataframe tbody tr th:only-of-type {\n",
       "        vertical-align: middle;\n",
       "    }\n",
       "\n",
       "    .dataframe tbody tr th {\n",
       "        vertical-align: top;\n",
       "    }\n",
       "\n",
       "    .dataframe thead th {\n",
       "        text-align: right;\n",
       "    }\n",
       "</style>\n",
       "<table border=\"1\" class=\"dataframe\">\n",
       "  <thead>\n",
       "    <tr style=\"text-align: right;\">\n",
       "      <th></th>\n",
       "      <th>Participant</th>\n",
       "      <th>RecipientChild</th>\n",
       "      <th>NumberMessages</th>\n",
       "    </tr>\n",
       "  </thead>\n",
       "  <tbody>\n",
       "    <tr>\n",
       "      <th>0</th>\n",
       "      <td>2807801633</td>\n",
       "      <td>2807801641.00</td>\n",
       "      <td>1</td>\n",
       "    </tr>\n",
       "    <tr>\n",
       "      <th>1</th>\n",
       "      <td>2807801633</td>\n",
       "      <td>2807801644.00</td>\n",
       "      <td>2</td>\n",
       "    </tr>\n",
       "    <tr>\n",
       "      <th>2</th>\n",
       "      <td>2807801633</td>\n",
       "      <td>2807801645.00</td>\n",
       "      <td>3</td>\n",
       "    </tr>\n",
       "    <tr>\n",
       "      <th>3</th>\n",
       "      <td>2807801633</td>\n",
       "      <td>2807801649.00</td>\n",
       "      <td>1</td>\n",
       "    </tr>\n",
       "    <tr>\n",
       "      <th>4</th>\n",
       "      <td>2807801633</td>\n",
       "      <td>2807801655.00</td>\n",
       "      <td>3</td>\n",
       "    </tr>\n",
       "    <tr>\n",
       "      <th>...</th>\n",
       "      <td>...</td>\n",
       "      <td>...</td>\n",
       "      <td>...</td>\n",
       "    </tr>\n",
       "    <tr>\n",
       "      <th>3230</th>\n",
       "      <td>5830306089</td>\n",
       "      <td>5830306088.00</td>\n",
       "      <td>11</td>\n",
       "    </tr>\n",
       "    <tr>\n",
       "      <th>3231</th>\n",
       "      <td>5830306090</td>\n",
       "      <td>5830306063.00</td>\n",
       "      <td>3</td>\n",
       "    </tr>\n",
       "    <tr>\n",
       "      <th>3232</th>\n",
       "      <td>5830306090</td>\n",
       "      <td>5830306068.00</td>\n",
       "      <td>2</td>\n",
       "    </tr>\n",
       "    <tr>\n",
       "      <th>3233</th>\n",
       "      <td>5830306090</td>\n",
       "      <td>5830306077.00</td>\n",
       "      <td>3</td>\n",
       "    </tr>\n",
       "    <tr>\n",
       "      <th>3234</th>\n",
       "      <td>5830306090</td>\n",
       "      <td>5830306081.00</td>\n",
       "      <td>1</td>\n",
       "    </tr>\n",
       "  </tbody>\n",
       "</table>\n",
       "<p>3235 rows × 3 columns</p>\n",
       "</div>"
      ],
      "text/plain": [
       "     Participant  RecipientChild  NumberMessages\n",
       "0     2807801633   2807801641.00               1\n",
       "1     2807801633   2807801644.00               2\n",
       "2     2807801633   2807801645.00               3\n",
       "3     2807801633   2807801649.00               1\n",
       "4     2807801633   2807801655.00               3\n",
       "...          ...             ...             ...\n",
       "3230  5830306089   5830306088.00              11\n",
       "3231  5830306090   5830306063.00               3\n",
       "3232  5830306090   5830306068.00               2\n",
       "3233  5830306090   5830306077.00               3\n",
       "3234  5830306090   5830306081.00               1\n",
       "\n",
       "[3235 rows x 3 columns]"
      ]
     },
     "execution_count": 48,
     "metadata": {},
     "output_type": "execute_result"
    }
   ],
   "source": [
    "pairs_freq = df_comm_ind.groupby([\"Participant\",\"RecipientChild\"])[\"UMID\"].count().reset_index(name='NumberMessages')\n",
    "pairs_freq"
   ]
  },
  {
   "cell_type": "code",
   "execution_count": 49,
   "id": "75e7f58a-3b36-4d8f-b481-4aa3db149d2f",
   "metadata": {},
   "outputs": [],
   "source": [
    "pairs_freq = pairs_freq.astype({'Participant': 'float64'})"
   ]
  },
  {
   "cell_type": "code",
   "execution_count": 50,
   "id": "065c8f45-708b-4cee-b461-cf50d1cfa5ad",
   "metadata": {
    "tags": []
   },
   "outputs": [
    {
     "data": {
      "text/html": [
       "<div>\n",
       "<style scoped>\n",
       "    .dataframe tbody tr th:only-of-type {\n",
       "        vertical-align: middle;\n",
       "    }\n",
       "\n",
       "    .dataframe tbody tr th {\n",
       "        vertical-align: top;\n",
       "    }\n",
       "\n",
       "    .dataframe thead th {\n",
       "        text-align: right;\n",
       "    }\n",
       "</style>\n",
       "<table border=\"1\" class=\"dataframe\">\n",
       "  <thead>\n",
       "    <tr style=\"text-align: right;\">\n",
       "      <th></th>\n",
       "      <th>P1</th>\n",
       "      <th>P2</th>\n",
       "      <th>NumMes</th>\n",
       "    </tr>\n",
       "  </thead>\n",
       "  <tbody>\n",
       "    <tr>\n",
       "      <th>0</th>\n",
       "      <td>2807801633.00</td>\n",
       "      <td>2807801641.00</td>\n",
       "      <td>1.00</td>\n",
       "    </tr>\n",
       "    <tr>\n",
       "      <th>1</th>\n",
       "      <td>2807801633.00</td>\n",
       "      <td>2807801644.00</td>\n",
       "      <td>2.00</td>\n",
       "    </tr>\n",
       "    <tr>\n",
       "      <th>2</th>\n",
       "      <td>2807801633.00</td>\n",
       "      <td>2807801645.00</td>\n",
       "      <td>7.00</td>\n",
       "    </tr>\n",
       "    <tr>\n",
       "      <th>3</th>\n",
       "      <td>2807801633.00</td>\n",
       "      <td>2807801649.00</td>\n",
       "      <td>1.00</td>\n",
       "    </tr>\n",
       "    <tr>\n",
       "      <th>4</th>\n",
       "      <td>2807801633.00</td>\n",
       "      <td>2807801655.00</td>\n",
       "      <td>3.00</td>\n",
       "    </tr>\n",
       "    <tr>\n",
       "      <th>...</th>\n",
       "      <td>...</td>\n",
       "      <td>...</td>\n",
       "      <td>...</td>\n",
       "    </tr>\n",
       "    <tr>\n",
       "      <th>1968</th>\n",
       "      <td>5830306086.00</td>\n",
       "      <td>5830306062.00</td>\n",
       "      <td>4.00</td>\n",
       "    </tr>\n",
       "    <tr>\n",
       "      <th>1969</th>\n",
       "      <td>5830306086.00</td>\n",
       "      <td>5830306079.00</td>\n",
       "      <td>1.00</td>\n",
       "    </tr>\n",
       "    <tr>\n",
       "      <th>1970</th>\n",
       "      <td>5830306088.00</td>\n",
       "      <td>5830306060.00</td>\n",
       "      <td>2.00</td>\n",
       "    </tr>\n",
       "    <tr>\n",
       "      <th>1971</th>\n",
       "      <td>5830306088.00</td>\n",
       "      <td>5830306089.00</td>\n",
       "      <td>23.00</td>\n",
       "    </tr>\n",
       "    <tr>\n",
       "      <th>1972</th>\n",
       "      <td>5830306089.00</td>\n",
       "      <td>5830306070.00</td>\n",
       "      <td>1.00</td>\n",
       "    </tr>\n",
       "  </tbody>\n",
       "</table>\n",
       "<p>1973 rows × 3 columns</p>\n",
       "</div>"
      ],
      "text/plain": [
       "                P1            P2  NumMes\n",
       "0    2807801633.00 2807801641.00    1.00\n",
       "1    2807801633.00 2807801644.00    2.00\n",
       "2    2807801633.00 2807801645.00    7.00\n",
       "3    2807801633.00 2807801649.00    1.00\n",
       "4    2807801633.00 2807801655.00    3.00\n",
       "...            ...           ...     ...\n",
       "1968 5830306086.00 5830306062.00    4.00\n",
       "1969 5830306086.00 5830306079.00    1.00\n",
       "1970 5830306088.00 5830306060.00    2.00\n",
       "1971 5830306088.00 5830306089.00   23.00\n",
       "1972 5830306089.00 5830306070.00    1.00\n",
       "\n",
       "[1973 rows x 3 columns]"
      ]
     },
     "execution_count": 50,
     "metadata": {},
     "output_type": "execute_result"
    }
   ],
   "source": [
    "pairs = []\n",
    "values = []\n",
    "exchanged_messages = []\n",
    "for line in pairs_freq[[\"Participant\",\"RecipientChild\", \"NumberMessages\"]].iterrows():\n",
    "    (p1, p2, var) = line[1]\n",
    "    if(p1, p2) not in pairs and (p2, p1) not in pairs:\n",
    "        pairs.append((p1,p2))\n",
    "        values.append((var))\n",
    "\n",
    "    elif (p2, p1) in pairs:\n",
    "        # get the index of this pair and update in the values of the same index\n",
    "        ind = pairs.index((p2,p1))\n",
    "        values[ind] = (values[ind] + var)\n",
    "\n",
    "# print('found pairs',pairs)\n",
    "# print('found values',values)\n",
    "\n",
    "\n",
    "count = 0\n",
    "for line in pairs:\n",
    "    (pp1, pp2) = line\n",
    "    exchanged_messages.append((pp1,pp2,values[count]))\n",
    "    count = count + 1\n",
    "\n",
    "exchanged_messages = pd.DataFrame(exchanged_messages, columns = [\"P1\", \"P2\", \"NumMes\"])\n",
    "exchanged_messages"
   ]
  },
  {
   "cell_type": "code",
   "execution_count": 51,
   "id": "ac5d209e-af09-42f3-b2c3-7c2a3eecfeed",
   "metadata": {},
   "outputs": [
    {
     "data": {
      "text/plain": [
       "count   1973.00\n",
       "mean      13.20\n",
       "std       38.21\n",
       "min        1.00\n",
       "25%        2.00\n",
       "50%        4.00\n",
       "75%       10.00\n",
       "max      637.00\n",
       "Name: NumMes, dtype: float64"
      ]
     },
     "execution_count": 51,
     "metadata": {},
     "output_type": "execute_result"
    }
   ],
   "source": [
    "exchanged_messages[\"NumMes\"].describe()"
   ]
  },
  {
   "cell_type": "code",
   "execution_count": 52,
   "id": "bab21ffe-2817-4379-b9fc-ffac18f399ed",
   "metadata": {},
   "outputs": [
    {
     "data": {
      "image/png": "[encoded data removed]",
      "text/plain": [
       "<Figure size 1584x720 with 1 Axes>"
      ]
     },
     "metadata": {
      "needs_background": "light"
     },
     "output_type": "display_data"
    }
   ],
   "source": [
    "fig, ax = plt.subplots(1, 1)\n",
    "fig.set_size_inches(22, 10)\n",
    "bins = range(0,640,20)\n",
    "plt.xticks(bins)\n",
    "exchanged_messages[\"NumMes\"].plot.hist(bins=bins)\n",
    "ax.set_xlabel('Number of Sent Messages')\n",
    "ax.set_ylabel('Number of Pairs (Sender-Receiver)')\n",
    "plt.show()"
   ]
  },
  {
   "cell_type": "code",
   "execution_count": 53,
   "id": "bd406818-ae04-4504-9dc5-9c10398e2314",
   "metadata": {},
   "outputs": [
    {
     "data": {
      "text/html": [
       "<div>\n",
       "<style scoped>\n",
       "    .dataframe tbody tr th:only-of-type {\n",
       "        vertical-align: middle;\n",
       "    }\n",
       "\n",
       "    .dataframe tbody tr th {\n",
       "        vertical-align: top;\n",
       "    }\n",
       "\n",
       "    .dataframe thead th {\n",
       "        text-align: right;\n",
       "    }\n",
       "</style>\n",
       "<table border=\"1\" class=\"dataframe\">\n",
       "  <thead>\n",
       "    <tr style=\"text-align: right;\">\n",
       "      <th></th>\n",
       "      <th>Participant</th>\n",
       "      <th>Format_Media</th>\n",
       "      <th>NumberImages</th>\n",
       "    </tr>\n",
       "  </thead>\n",
       "  <tbody>\n",
       "    <tr>\n",
       "      <th>0</th>\n",
       "      <td>2807801633</td>\n",
       "      <td>image</td>\n",
       "      <td>1</td>\n",
       "    </tr>\n",
       "    <tr>\n",
       "      <th>1</th>\n",
       "      <td>2807801633</td>\n",
       "      <td>video</td>\n",
       "      <td>5</td>\n",
       "    </tr>\n",
       "    <tr>\n",
       "      <th>2</th>\n",
       "      <td>2807801636</td>\n",
       "      <td>video</td>\n",
       "      <td>1</td>\n",
       "    </tr>\n",
       "    <tr>\n",
       "      <th>3</th>\n",
       "      <td>2807801637</td>\n",
       "      <td>image</td>\n",
       "      <td>2</td>\n",
       "    </tr>\n",
       "    <tr>\n",
       "      <th>4</th>\n",
       "      <td>2807801637</td>\n",
       "      <td>video</td>\n",
       "      <td>1</td>\n",
       "    </tr>\n",
       "  </tbody>\n",
       "</table>\n",
       "</div>"
      ],
      "text/plain": [
       "  Participant Format_Media  NumberImages\n",
       "0  2807801633        image             1\n",
       "1  2807801633        video             5\n",
       "2  2807801636        video             1\n",
       "3  2807801637        image             2\n",
       "4  2807801637        video             1"
      ]
     },
     "execution_count": 53,
     "metadata": {},
     "output_type": "execute_result"
    }
   ],
   "source": [
    "df_ind_images = df_comm_ind.groupby([\"Participant\",\"Format_Media\"])[\"UMID\"].count().reset_index(name = \"NumberImages\")\n",
    "df_ind_images.head()"
   ]
  },
  {
   "cell_type": "code",
   "execution_count": 54,
   "id": "633728cc-735f-4999-af5c-cff6a0a43358",
   "metadata": {},
   "outputs": [
    {
     "data": {
      "text/plain": [
       "count   426.00\n",
       "mean      5.84\n",
       "std      10.07\n",
       "min       1.00\n",
       "25%       1.00\n",
       "50%       2.00\n",
       "75%       6.00\n",
       "max     120.00\n",
       "Name: NumberImages, dtype: float64"
      ]
     },
     "execution_count": 54,
     "metadata": {},
     "output_type": "execute_result"
    }
   ],
   "source": [
    "df_ind_images['NumberImages'].describe()"
   ]
  },
  {
   "cell_type": "code",
   "execution_count": 55,
   "id": "1111c449-ea5b-4e7d-ade0-cc0879992dee",
   "metadata": {},
   "outputs": [
    {
     "data": {
      "image/png": "[encoded data removed]",
      "text/plain": [
       "<Figure size 1584x720 with 1 Axes>"
      ]
     },
     "metadata": {
      "needs_background": "light"
     },
     "output_type": "display_data"
    }
   ],
   "source": [
    "fig, ax = plt.subplots(1, 1)\n",
    "fig.set_size_inches(22, 10)\n",
    "bins = range(1,120,5)\n",
    "plt.xticks(bins)\n",
    "df_ind_images['NumberImages'].hist(bins=bins)\n",
    "ax.set_xlabel('Number of Shared Images')\n",
    "ax.set_ylabel('Number of Participants')\n",
    "plt.show()"
   ]
  },
  {
   "cell_type": "code",
   "execution_count": 56,
   "id": "b0711f30-e58d-4646-ba7c-93175fdce414",
   "metadata": {},
   "outputs": [
    {
     "data": {
      "text/plain": [
       "array(['27-2-2018', '28-2-2018', '1-3-2018', '2-3-2018', '4-3-2018',\n",
       "       '3-3-2018', '5-3-2018', '7-3-2018', '8-3-2018', '9-3-2018',\n",
       "       '11-3-2018', '13-3-2018', '10-3-2018', '12-3-2018', '6-3-2018',\n",
       "       '14-3-2018', '15-3-2018', '16-3-2018', '17-3-2018', '18-3-2018',\n",
       "       '20-3-2018', '19-3-2018', '15-2-2018', '16-2-2018', '17-2-2018',\n",
       "       '18-2-2018', '20-2-2018', '19-2-2018', '21-2-2018'], dtype=object)"
      ]
     },
     "execution_count": 56,
     "metadata": {},
     "output_type": "execute_result"
    }
   ],
   "source": [
    "df_comm_ind['Date'].unique()"
   ]
  },
  {
   "cell_type": "code",
   "execution_count": 57,
   "id": "b78a5bf8-bbc5-48bb-ba10-c6ecc366738c",
   "metadata": {},
   "outputs": [
    {
     "data": {
      "text/html": [
       "<div>\n",
       "<style scoped>\n",
       "    .dataframe tbody tr th:only-of-type {\n",
       "        vertical-align: middle;\n",
       "    }\n",
       "\n",
       "    .dataframe tbody tr th {\n",
       "        vertical-align: top;\n",
       "    }\n",
       "\n",
       "    .dataframe thead th {\n",
       "        text-align: right;\n",
       "    }\n",
       "</style>\n",
       "<table border=\"1\" class=\"dataframe\">\n",
       "  <thead>\n",
       "    <tr style=\"text-align: right;\">\n",
       "      <th></th>\n",
       "      <th>Date</th>\n",
       "      <th>UMID</th>\n",
       "    </tr>\n",
       "  </thead>\n",
       "  <tbody>\n",
       "    <tr>\n",
       "      <th>0</th>\n",
       "      <td>1-3-2018</td>\n",
       "      <td>1552</td>\n",
       "    </tr>\n",
       "    <tr>\n",
       "      <th>1</th>\n",
       "      <td>10-3-2018</td>\n",
       "      <td>565</td>\n",
       "    </tr>\n",
       "    <tr>\n",
       "      <th>2</th>\n",
       "      <td>11-3-2018</td>\n",
       "      <td>281</td>\n",
       "    </tr>\n",
       "    <tr>\n",
       "      <th>3</th>\n",
       "      <td>12-3-2018</td>\n",
       "      <td>251</td>\n",
       "    </tr>\n",
       "    <tr>\n",
       "      <th>4</th>\n",
       "      <td>13-3-2018</td>\n",
       "      <td>719</td>\n",
       "    </tr>\n",
       "    <tr>\n",
       "      <th>5</th>\n",
       "      <td>14-3-2018</td>\n",
       "      <td>559</td>\n",
       "    </tr>\n",
       "    <tr>\n",
       "      <th>6</th>\n",
       "      <td>15-2-2018</td>\n",
       "      <td>1241</td>\n",
       "    </tr>\n",
       "    <tr>\n",
       "      <th>7</th>\n",
       "      <td>15-3-2018</td>\n",
       "      <td>549</td>\n",
       "    </tr>\n",
       "    <tr>\n",
       "      <th>8</th>\n",
       "      <td>16-2-2018</td>\n",
       "      <td>1185</td>\n",
       "    </tr>\n",
       "    <tr>\n",
       "      <th>9</th>\n",
       "      <td>16-3-2018</td>\n",
       "      <td>618</td>\n",
       "    </tr>\n",
       "    <tr>\n",
       "      <th>10</th>\n",
       "      <td>17-2-2018</td>\n",
       "      <td>727</td>\n",
       "    </tr>\n",
       "    <tr>\n",
       "      <th>11</th>\n",
       "      <td>17-3-2018</td>\n",
       "      <td>363</td>\n",
       "    </tr>\n",
       "    <tr>\n",
       "      <th>12</th>\n",
       "      <td>18-2-2018</td>\n",
       "      <td>330</td>\n",
       "    </tr>\n",
       "    <tr>\n",
       "      <th>13</th>\n",
       "      <td>18-3-2018</td>\n",
       "      <td>155</td>\n",
       "    </tr>\n",
       "    <tr>\n",
       "      <th>14</th>\n",
       "      <td>19-2-2018</td>\n",
       "      <td>343</td>\n",
       "    </tr>\n",
       "    <tr>\n",
       "      <th>15</th>\n",
       "      <td>19-3-2018</td>\n",
       "      <td>198</td>\n",
       "    </tr>\n",
       "    <tr>\n",
       "      <th>16</th>\n",
       "      <td>2-3-2018</td>\n",
       "      <td>1793</td>\n",
       "    </tr>\n",
       "    <tr>\n",
       "      <th>17</th>\n",
       "      <td>20-2-2018</td>\n",
       "      <td>277</td>\n",
       "    </tr>\n",
       "    <tr>\n",
       "      <th>18</th>\n",
       "      <td>20-3-2018</td>\n",
       "      <td>14</td>\n",
       "    </tr>\n",
       "    <tr>\n",
       "      <th>19</th>\n",
       "      <td>21-2-2018</td>\n",
       "      <td>30</td>\n",
       "    </tr>\n",
       "    <tr>\n",
       "      <th>20</th>\n",
       "      <td>27-2-2018</td>\n",
       "      <td>522</td>\n",
       "    </tr>\n",
       "    <tr>\n",
       "      <th>21</th>\n",
       "      <td>28-2-2018</td>\n",
       "      <td>588</td>\n",
       "    </tr>\n",
       "    <tr>\n",
       "      <th>22</th>\n",
       "      <td>3-3-2018</td>\n",
       "      <td>2705</td>\n",
       "    </tr>\n",
       "    <tr>\n",
       "      <th>23</th>\n",
       "      <td>4-3-2018</td>\n",
       "      <td>1339</td>\n",
       "    </tr>\n",
       "    <tr>\n",
       "      <th>24</th>\n",
       "      <td>5-3-2018</td>\n",
       "      <td>596</td>\n",
       "    </tr>\n",
       "    <tr>\n",
       "      <th>25</th>\n",
       "      <td>6-3-2018</td>\n",
       "      <td>1987</td>\n",
       "    </tr>\n",
       "    <tr>\n",
       "      <th>26</th>\n",
       "      <td>7-3-2018</td>\n",
       "      <td>2229</td>\n",
       "    </tr>\n",
       "    <tr>\n",
       "      <th>27</th>\n",
       "      <td>8-3-2018</td>\n",
       "      <td>2714</td>\n",
       "    </tr>\n",
       "    <tr>\n",
       "      <th>28</th>\n",
       "      <td>9-3-2018</td>\n",
       "      <td>1621</td>\n",
       "    </tr>\n",
       "  </tbody>\n",
       "</table>\n",
       "</div>"
      ],
      "text/plain": [
       "         Date  UMID\n",
       "0    1-3-2018  1552\n",
       "1   10-3-2018   565\n",
       "2   11-3-2018   281\n",
       "3   12-3-2018   251\n",
       "4   13-3-2018   719\n",
       "5   14-3-2018   559\n",
       "6   15-2-2018  1241\n",
       "7   15-3-2018   549\n",
       "8   16-2-2018  1185\n",
       "9   16-3-2018   618\n",
       "10  17-2-2018   727\n",
       "11  17-3-2018   363\n",
       "12  18-2-2018   330\n",
       "13  18-3-2018   155\n",
       "14  19-2-2018   343\n",
       "15  19-3-2018   198\n",
       "16   2-3-2018  1793\n",
       "17  20-2-2018   277\n",
       "18  20-3-2018    14\n",
       "19  21-2-2018    30\n",
       "20  27-2-2018   522\n",
       "21  28-2-2018   588\n",
       "22   3-3-2018  2705\n",
       "23   4-3-2018  1339\n",
       "24   5-3-2018   596\n",
       "25   6-3-2018  1987\n",
       "26   7-3-2018  2229\n",
       "27   8-3-2018  2714\n",
       "28   9-3-2018  1621"
      ]
     },
     "execution_count": 57,
     "metadata": {},
     "output_type": "execute_result"
    }
   ],
   "source": [
    "df_comm_ind.groupby(['Date'])['UMID'].count().reset_index()"
   ]
  },
  {
   "cell_type": "markdown",
   "id": "b875ca0e-eb28-483b-8078-b0763c139552",
   "metadata": {},
   "source": [
    "### Group messages"
   ]
  },
  {
   "cell_type": "code",
   "execution_count": 58,
   "id": "c68da3c3-8cb8-4c2f-a6f0-bdd4792a5381",
   "metadata": {},
   "outputs": [
    {
     "data": {
      "text/plain": [
       "Class\n",
       "78.00     18\n",
       "81.00     19\n",
       "100.00    19\n",
       "124.00    17\n",
       "125.00    16\n",
       "256.00    22\n",
       "258.00    16\n",
       "261.00    17\n",
       "262.00    15\n",
       "263.00    20\n",
       "272.00    24\n",
       "273.00    24\n",
       "292.00    21\n",
       "296.00    17\n",
       "297.00    16\n",
       "298.00    21\n",
       "299.00    19\n",
       "300.00    19\n",
       "301.00    24\n",
       "302.00    19\n",
       "303.00    25\n",
       "Name: Participant, dtype: int64"
      ]
     },
     "execution_count": 58,
     "metadata": {},
     "output_type": "execute_result"
    }
   ],
   "source": [
    "df_comm_ind.groupby([\"Class\"])[\"Participant\"].nunique()"
   ]
  },
  {
   "cell_type": "code",
   "execution_count": 59,
   "id": "5a348a08-613e-4ba0-9505-e06c2dfc89a9",
   "metadata": {},
   "outputs": [
    {
     "data": {
      "text/html": [
       "<div>\n",
       "<style scoped>\n",
       "    .dataframe tbody tr th:only-of-type {\n",
       "        vertical-align: middle;\n",
       "    }\n",
       "\n",
       "    .dataframe tbody tr th {\n",
       "        vertical-align: top;\n",
       "    }\n",
       "\n",
       "    .dataframe thead th {\n",
       "        text-align: right;\n",
       "    }\n",
       "</style>\n",
       "<table border=\"1\" class=\"dataframe\">\n",
       "  <thead>\n",
       "    <tr style=\"text-align: right;\">\n",
       "      <th></th>\n",
       "      <th>Child</th>\n",
       "      <th>UMID</th>\n",
       "    </tr>\n",
       "  </thead>\n",
       "  <tbody>\n",
       "    <tr>\n",
       "      <th>0</th>\n",
       "      <td>1605.00</td>\n",
       "      <td>14</td>\n",
       "    </tr>\n",
       "    <tr>\n",
       "      <th>1</th>\n",
       "      <td>1606.00</td>\n",
       "      <td>3</td>\n",
       "    </tr>\n",
       "    <tr>\n",
       "      <th>2</th>\n",
       "      <td>1607.00</td>\n",
       "      <td>27</td>\n",
       "    </tr>\n",
       "    <tr>\n",
       "      <th>3</th>\n",
       "      <td>1608.00</td>\n",
       "      <td>2</td>\n",
       "    </tr>\n",
       "    <tr>\n",
       "      <th>4</th>\n",
       "      <td>1609.00</td>\n",
       "      <td>3</td>\n",
       "    </tr>\n",
       "  </tbody>\n",
       "</table>\n",
       "</div>"
      ],
      "text/plain": [
       "    Child  UMID\n",
       "0 1605.00    14\n",
       "1 1606.00     3\n",
       "2 1607.00    27\n",
       "3 1608.00     2\n",
       "4 1609.00     3"
      ]
     },
     "execution_count": 59,
     "metadata": {},
     "output_type": "execute_result"
    }
   ],
   "source": [
    "df_group_messages_per_child = df_comm_group.groupby(\"Child\")[\"UMID\"].count().reset_index()\n",
    "df_group_messages_per_child.head()"
   ]
  },
  {
   "cell_type": "code",
   "execution_count": 60,
   "id": "4e367bb9-a647-4e88-ad51-f3338a3882d2",
   "metadata": {},
   "outputs": [
    {
     "data": {
      "text/plain": [
       "count   401.00\n",
       "mean     74.14\n",
       "std      90.68\n",
       "min       1.00\n",
       "25%      12.00\n",
       "50%      36.00\n",
       "75%     110.00\n",
       "max     539.00\n",
       "Name: UMID, dtype: float64"
      ]
     },
     "execution_count": 60,
     "metadata": {},
     "output_type": "execute_result"
    }
   ],
   "source": [
    "df_group_messages_per_child['UMID'].describe()"
   ]
  },
  {
   "cell_type": "code",
   "execution_count": 61,
   "id": "0f48bc01-2544-495b-9018-714ef91d68bb",
   "metadata": {},
   "outputs": [
    {
     "data": {
      "image/png": "[encoded data removed]",
      "text/plain": [
       "<Figure size 1584x720 with 1 Axes>"
      ]
     },
     "metadata": {
      "needs_background": "light"
     },
     "output_type": "display_data"
    }
   ],
   "source": [
    "fig, ax = plt.subplots(1, 1)\n",
    "fig.set_size_inches(22, 10)\n",
    "bins = range(0,540,10)\n",
    "plt.xticks(bins)\n",
    "df_group_messages_per_child['UMID'].plot.hist(bins=bins)\n",
    "ax.set_xlabel('Number of Sent Messages')\n",
    "ax.set_ylabel('Number of Participants')\n",
    "plt.show()"
   ]
  },
  {
   "cell_type": "code",
   "execution_count": 62,
   "id": "1b9c7f1d-063b-4836-a090-4c8d9b25f965",
   "metadata": {},
   "outputs": [],
   "source": [
    "df_comm_group = df_comm_group.astype({'Number_likes': 'int32'})"
   ]
  },
  {
   "cell_type": "code",
   "execution_count": 63,
   "id": "9d3b74b6-5f59-4e0a-95d8-81eedea84514",
   "metadata": {},
   "outputs": [],
   "source": [
    "df_child_like = df_comm_group.groupby(['Child'])['Number_likes'].sum().reset_index()"
   ]
  },
  {
   "cell_type": "code",
   "execution_count": 64,
   "id": "cc99a28f-ceb5-4431-816f-bea25ca52943",
   "metadata": {},
   "outputs": [
    {
     "data": {
      "text/plain": [
       "count   401.00\n",
       "mean     12.44\n",
       "std      16.19\n",
       "min       0.00\n",
       "25%       2.00\n",
       "50%       8.00\n",
       "75%      17.00\n",
       "max     156.00\n",
       "Name: Number_likes, dtype: float64"
      ]
     },
     "execution_count": 64,
     "metadata": {},
     "output_type": "execute_result"
    }
   ],
   "source": [
    "df_child_like['Number_likes'].describe()"
   ]
  },
  {
   "cell_type": "code",
   "execution_count": 65,
   "id": "f4661c39-4b96-4e69-8847-63ed9510cfe0",
   "metadata": {},
   "outputs": [
    {
     "data": {
      "image/png": "[encoded data removed]",
      "text/plain": [
       "<Figure size 1584x720 with 1 Axes>"
      ]
     },
     "metadata": {
      "needs_background": "light"
     },
     "output_type": "display_data"
    }
   ],
   "source": [
    "fig, ax = plt.subplots(1, 1)\n",
    "fig.set_size_inches(22, 10)\n",
    "bins = range(0,200,5)\n",
    "plt.xticks(bins)\n",
    "df_child_like['Number_likes'].plot.hist(bins=bins)\n",
    "ax.set_xlabel('Number of Likes')\n",
    "ax.set_ylabel('Number of Participants')\n",
    "plt.show()"
   ]
  },
  {
   "cell_type": "code",
   "execution_count": 66,
   "id": "c49a64ff-e3a7-4781-a293-c6ced03b2a9c",
   "metadata": {},
   "outputs": [
    {
     "data": {
      "text/plain": [
       "(3501, 2487)"
      ]
     },
     "execution_count": 66,
     "metadata": {},
     "output_type": "execute_result"
    }
   ],
   "source": [
    "# images exhanged in group vs peer-to-peer communication\n",
    "df_comm_group['Format_Media'].count(),df_comm_ind['Format_Media'].count()"
   ]
  },
  {
   "cell_type": "code",
   "execution_count": 67,
   "id": "f1a398dd-2d67-4440-bbdd-454124d80e4a",
   "metadata": {},
   "outputs": [
    {
     "data": {
      "text/html": [
       "<div>\n",
       "<style scoped>\n",
       "    .dataframe tbody tr th:only-of-type {\n",
       "        vertical-align: middle;\n",
       "    }\n",
       "\n",
       "    .dataframe tbody tr th {\n",
       "        vertical-align: top;\n",
       "    }\n",
       "\n",
       "    .dataframe thead th {\n",
       "        text-align: right;\n",
       "    }\n",
       "</style>\n",
       "<table border=\"1\" class=\"dataframe\">\n",
       "  <thead>\n",
       "    <tr style=\"text-align: right;\">\n",
       "      <th></th>\n",
       "      <th>Participant</th>\n",
       "      <th>Format_Media</th>\n",
       "      <th>NumberImages</th>\n",
       "    </tr>\n",
       "  </thead>\n",
       "  <tbody>\n",
       "    <tr>\n",
       "      <th>0</th>\n",
       "      <td>2807801633</td>\n",
       "      <td>image</td>\n",
       "      <td>2</td>\n",
       "    </tr>\n",
       "    <tr>\n",
       "      <th>1</th>\n",
       "      <td>2807801636</td>\n",
       "      <td>image</td>\n",
       "      <td>1</td>\n",
       "    </tr>\n",
       "    <tr>\n",
       "      <th>2</th>\n",
       "      <td>2807801636</td>\n",
       "      <td>video</td>\n",
       "      <td>1</td>\n",
       "    </tr>\n",
       "    <tr>\n",
       "      <th>3</th>\n",
       "      <td>2807801637</td>\n",
       "      <td>image</td>\n",
       "      <td>1</td>\n",
       "    </tr>\n",
       "    <tr>\n",
       "      <th>4</th>\n",
       "      <td>2807801639</td>\n",
       "      <td>image</td>\n",
       "      <td>1</td>\n",
       "    </tr>\n",
       "  </tbody>\n",
       "</table>\n",
       "</div>"
      ],
      "text/plain": [
       "  Participant Format_Media  NumberImages\n",
       "0  2807801633        image             2\n",
       "1  2807801636        image             1\n",
       "2  2807801636        video             1\n",
       "3  2807801637        image             1\n",
       "4  2807801639        image             1"
      ]
     },
     "execution_count": 67,
     "metadata": {},
     "output_type": "execute_result"
    }
   ],
   "source": [
    "df_group_images = df_comm_group.groupby([\"Participant\",\"Format_Media\"])[\"UMID\"].count().reset_index(name = \"NumberImages\")\n",
    "df_group_images.head()"
   ]
  },
  {
   "cell_type": "code",
   "execution_count": 68,
   "id": "c9fe5450-0aa2-4898-b1a8-3d7fa9b661b8",
   "metadata": {},
   "outputs": [
    {
     "data": {
      "text/plain": [
       "count   556.00\n",
       "mean      6.30\n",
       "std       8.99\n",
       "min       1.00\n",
       "25%       2.00\n",
       "50%       4.00\n",
       "75%       7.00\n",
       "max     126.00\n",
       "Name: NumberImages, dtype: float64"
      ]
     },
     "execution_count": 68,
     "metadata": {},
     "output_type": "execute_result"
    }
   ],
   "source": [
    "df_group_images['NumberImages'].describe()"
   ]
  },
  {
   "cell_type": "code",
   "execution_count": 69,
   "id": "d175434e-877c-432a-ac29-0ce3444aeebf",
   "metadata": {},
   "outputs": [
    {
     "data": {
      "image/png": "[encoded data removed]",
      "text/plain": [
       "<Figure size 1584x720 with 1 Axes>"
      ]
     },
     "metadata": {
      "needs_background": "light"
     },
     "output_type": "display_data"
    }
   ],
   "source": [
    "\n",
    "fig, ax = plt.subplots(1, 1)\n",
    "fig.set_size_inches(22, 10)\n",
    "bins = range(1,130,5)\n",
    "plt.xticks(bins)\n",
    "df_group_images['NumberImages'].plot.hist(bins=bins)\n",
    "ax.set_xlabel('Number of Images')\n",
    "ax.set_ylabel('Number of Participants')\n",
    "plt.show()"
   ]
  }
 ],
 "metadata": {
  "kernelspec": {
   "display_name": "ABM-PA",
   "language": "python",
   "name": "abm-pa"
  },
  "language_info": {
   "codemirror_mode": {
    "name": "ipython",
    "version": 3
   },
   "file_extension": ".py",
   "mimetype": "text/x-python",
   "name": "python",
   "nbconvert_exporter": "python",
   "pygments_lexer": "ipython3",
   "version": "3.9.5"
  }
 },
 "nbformat": 4,
 "nbformat_minor": 5
}
