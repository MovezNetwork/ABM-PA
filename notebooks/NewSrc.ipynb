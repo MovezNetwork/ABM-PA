{
 "cells": [
  {
   "cell_type": "code",
   "execution_count": 9,
   "id": "81d1d256-1591-4a10-bff0-236e93948001",
   "metadata": {},
   "outputs": [
    {
     "name": "stdout",
     "output_type": "stream",
     "text": [
      "The autoreload extension is already loaded. To reload it, use:\n",
      "  %reload_ext autoreload\n"
     ]
    }
   ],
   "source": [
    "# import libraries \n",
    "import json\n",
    "import networkx as nx\n",
    "import numpy as np\n",
    "import os\n",
    "import pandas as pd\n",
    "import re\n",
    "import random\n",
    "import matplotlib.pyplot as plt\n",
    "from networkx.algorithms import approximation as app\n",
    "from scipy.stats import pearsonr\n",
    "import seaborn as sns\n",
    "import pylab\n",
    "from scipy.stats import mannwhitneyu\n",
    "import datetime\n",
    "from sklearn.metrics import mean_absolute_error\n",
    "from math import sqrt\n",
    "import statsmodels.api as sm\n",
    "from itertools import chain\n",
    "import sys\n",
    "import inspect\n",
    "\n",
    "# access parent directory from notebooks directory\n",
    "currentdir = os.path.dirname(os.path.abspath(inspect.getfile(inspect.currentframe())))\n",
    "parentdir = os.path.dirname(currentdir)\n",
    "sys.path.insert(0, parentdir) \n",
    "\n",
    "import newsrc.population as p\n",
    "import newsrc.model as m\n",
    "import newsrc.simulation as s\n",
    "\n",
    "\n",
    "%load_ext autoreload\n",
    "%autoreload 2\n",
    "%matplotlib inline\n",
    "%reload_ext autoreload"
   ]
  },
  {
   "cell_type": "code",
   "execution_count": 10,
   "id": "7681512a-1a8f-462d-9452-e7b8891b27d6",
   "metadata": {},
   "outputs": [],
   "source": [
    "try:\n",
    "    input_args = json.loads(open('../input/simulation.json').read())\n",
    "except Exception as ex:\n",
    "    print('simulation.json does not exist!')\n",
    "    print(ex)"
   ]
  },
  {
   "cell_type": "code",
   "execution_count": 34,
   "id": "dc4ea4a5-2975-49e9-9694-0665e47661e0",
   "metadata": {},
   "outputs": [],
   "source": [
    "population =  p.Population('MyMovez school classes',input_args)"
   ]
  },
  {
   "cell_type": "code",
   "execution_count": 35,
   "id": "d8f32c12-d9f4-4fe7-b1da-3e4bfae209c2",
   "metadata": {},
   "outputs": [
    {
     "data": {
      "text/plain": [
       "451"
      ]
     },
     "execution_count": 35,
     "metadata": {},
     "output_type": "execute_result"
    }
   ],
   "source": [
    "population.graph.number_of_nodes()"
   ]
  },
  {
   "cell_type": "code",
   "execution_count": 37,
   "id": "1b48280b-004f-40bb-b387-64ce59c0543c",
   "metadata": {},
   "outputs": [],
   "source": [
    "sub_g = population.get_class_graphs(population.graph)"
   ]
  },
  {
   "cell_type": "code",
   "execution_count": 45,
   "id": "f94f17f7-bf95-4e10-9aab-4f0b17affa52",
   "metadata": {},
   "outputs": [
    {
     "data": {
      "text/plain": [
       "26"
      ]
     },
     "execution_count": 45,
     "metadata": {},
     "output_type": "execute_result"
    }
   ],
   "source": [
    "len(sub_g)"
   ]
  },
  {
   "cell_type": "code",
   "execution_count": 38,
   "id": "d2d3e95c-0232-4133-9d82-909e5fd537da",
   "metadata": {},
   "outputs": [
    {
     "data": {
      "text/plain": [
       "18"
      ]
     },
     "execution_count": 38,
     "metadata": {},
     "output_type": "execute_result"
    }
   ],
   "source": [
    "sub_g[0].number_of_nodes()"
   ]
  },
  {
   "cell_type": "code",
   "execution_count": 46,
   "id": "bf3841d9-5584-4bea-b773-bc9ebd052287",
   "metadata": {},
   "outputs": [
    {
     "data": {
      "text/plain": [
       "<networkx.classes.digraph.DiGraph at 0x7fa87fcfdbe0>"
      ]
     },
     "execution_count": 46,
     "metadata": {},
     "output_type": "execute_result"
    }
   ],
   "source": [
    "population.select_influential_agents(sub_g[0], 0.1, 'random', False)"
   ]
  },
  {
   "cell_type": "code",
   "execution_count": 47,
   "id": "a5a1b439-46c8-471a-ba11-1fcbebafdf46",
   "metadata": {},
   "outputs": [
    {
     "data": {
      "text/plain": [
       "<networkx.classes.digraph.DiGraph at 0x7fa87fcfdbe0>"
      ]
     },
     "execution_count": 47,
     "metadata": {},
     "output_type": "execute_result"
    }
   ],
   "source": [
    "sub_g[0]"
   ]
  },
  {
   "cell_type": "code",
   "execution_count": 42,
   "id": "7f19ca70-473a-427e-9082-d3c546ecd7a3",
   "metadata": {},
   "outputs": [],
   "source": [
    "dif_model = m.DiffusionModel('Gabrianelli Diffusion Model',input_args)"
   ]
  },
  {
   "cell_type": "code",
   "execution_count": 43,
   "id": "9421c039-83c7-4e7f-a4fc-ef911977b6a6",
   "metadata": {},
   "outputs": [],
   "source": [
    "for t in range(round(365)):\n",
    "    dif_model.execute(sub_g[0],t)"
   ]
  },
  {
   "cell_type": "code",
   "execution_count": 22,
   "id": "746c8ea1-a609-41fe-97b4-6827cfa32fef",
   "metadata": {},
   "outputs": [
    {
     "name": "stdout",
     "output_type": "stream",
     "text": [
      "Nodes removed for not being in the selected classes: # 454\n"
     ]
    }
   ],
   "source": [
    "simulation =  s.Simulation()"
   ]
  },
  {
   "cell_type": "code",
   "execution_count": 23,
   "id": "dabc5038-5a8f-49b0-a8d2-47c797fd9f62",
   "metadata": {},
   "outputs": [
    {
     "data": {
      "text/plain": [
       "<networkx.classes.digraph.DiGraph at 0x7f9cb6cff670>"
      ]
     },
     "execution_count": 23,
     "metadata": {},
     "output_type": "execute_result"
    }
   ],
   "source": [
    "simulation.population.graph"
   ]
  },
  {
   "cell_type": "code",
   "execution_count": 24,
   "id": "fc69a05d-82a4-4873-9a29-e7a03d2ef798",
   "metadata": {},
   "outputs": [],
   "source": [
    "sub_graphs = simulation.population.get_class_graphs(simulation.population.graph)"
   ]
  },
  {
   "cell_type": "code",
   "execution_count": 25,
   "id": "81ace6dc-8187-427a-bff5-425db7612df2",
   "metadata": {},
   "outputs": [],
   "source": [
    "for t in range(round(365)):\n",
    "    simulation.model.execute(sub_graphs[0],t)"
   ]
  },
  {
   "cell_type": "code",
   "execution_count": 48,
   "id": "ae3f935b-e7b4-4f8e-aca3-4c6c4e2ef841",
   "metadata": {},
   "outputs": [],
   "source": [
    "def function_one(tree):\n",
    "    network = []\n",
    "    for line in tree.splitlines() : \n",
    "        if line.strip():\n",
    "            line = line.strip()\n",
    "            network.append(line)\n",
    "        else : break\n",
    "        if not line : break\n",
    "\n",
    "    res = []\n",
    "    res.append({'name':'Prediction Result', 'children':parser(network[1:])})\n",
    "    with open('static/json/structure_sklearn.json', 'w') as outfile:\n",
    "        json.dump(res, outfile)\n",
    "    return tree"
   ]
  },
  {
   "cell_type": "code",
   "execution_count": 50,
   "id": "c0a35511-6974-4155-9f2a-e243f113cac7",
   "metadata": {},
   "outputs": [
    {
     "ename": "IndentationError",
     "evalue": "unindent does not match any outer indentation level (<tokenize>, line 190)",
     "output_type": "error",
     "traceback": [
      "\u001b[0;36m  File \u001b[0;32m\"<tokenize>\"\u001b[0;36m, line \u001b[0;32m190\u001b[0m\n\u001b[0;31m    if gender==1:\u001b[0m\n\u001b[0m    ^\u001b[0m\n\u001b[0;31mIndentationError\u001b[0m\u001b[0;31m:\u001b[0m unindent does not match any outer indentation level\n"
     ]
    }
   ],
   "source": [
    "tree = 'if gender==0:\n",
    "                if age==2:\n",
    "                    if bmi<=13.36:\n",
    "                        category=1\n",
    "                    elif 13.37<=bmi<=15.13:\n",
    "                        category=2\n",
    "                    elif 15.14<=bmi<=18.40:\n",
    "                        category=3\n",
    "                    elif 18.41<=bmi<=20.09:\n",
    "                        category=4\n",
    "                    elif bmi>20.09:\n",
    "                        category=5\n",
    "                elif age==3:\n",
    "                    if bmi<=13.09:\n",
    "                        category=1\n",
    "                    elif 13.10<=bmi<=14.73:\n",
    "                        category=2\n",
    "                    elif 14.74<=bmi<=17.88:\n",
    "                        category=3\n",
    "                    elif 17.89<=bmi<=19.57:\n",
    "                        category=4\n",
    "                    elif bmi>19.57:\n",
    "                        category=5\n",
    "                elif age==4:\n",
    "                    if bmi<=12.86:\n",
    "                        category=1\n",
    "                    elif 12.87<=bmi<=14.42:\n",
    "                        category=2\n",
    "                    elif 14.43<=bmi<=17.54:\n",
    "                        category=3\n",
    "                    elif 17.55<=bmi<=19.29:\n",
    "                        category=4\n",
    "                    elif bmi>19.29:\n",
    "                        category=5\n",
    "                elif age==5:\n",
    "                    if bmi<=12.66:\n",
    "                        category=1\n",
    "                    elif 12.67<=bmi<=14.20:\n",
    "                        category=2\n",
    "                    elif 14.21<=bmi<=17.41:\n",
    "                        category=3\n",
    "                    elif 17.42<=bmi<=19.30:\n",
    "                        category=4\n",
    "                    elif bmi>19.30:\n",
    "                        category=5\n",
    "                elif age==6:\n",
    "                    if bmi<=12.50:\n",
    "                        category=1\n",
    "                    elif 12.51<=bmi<=14.06:\n",
    "                        category=2\n",
    "                    elif 14.07<=bmi<=17.54:\n",
    "                        category=3\n",
    "                    elif 17.55<=bmi<=19.78:\n",
    "                        category=4\n",
    "                    elif bmi>19.78:\n",
    "                        category=5\n",
    "                elif age==7:\n",
    "                    if bmi<=12.42:\n",
    "                        category=1\n",
    "                    elif 12.43<=bmi<=14.03:\n",
    "                        category=2\n",
    "                    elif 14.04<=bmi<=17.91:\n",
    "                        category=3\n",
    "                    elif 17.92<=bmi<=20.63:\n",
    "                        category=4\n",
    "                    elif bmi>20.63:\n",
    "                        category=5\n",
    "                elif age==8:\n",
    "                    if bmi<=12.42:\n",
    "                        category=1\n",
    "                    elif 12.43<=bmi<=14.14:\n",
    "                        category=2\n",
    "                    elif 14.15<=bmi<=18.43:\n",
    "                        category=3\n",
    "                    elif 18.44<=bmi<=21.60:\n",
    "                        category=4\n",
    "                    elif bmi>21.60:\n",
    "                        category=5\n",
    "                elif age==9:\n",
    "                    if bmi<=12.50:\n",
    "                        category=1\n",
    "                    elif 12.51<=bmi<=14.34:\n",
    "                        category=2\n",
    "                    elif 14.35<=bmi<=19.09:\n",
    "                        category=3\n",
    "                    elif 19.10<=bmi<=22.77:\n",
    "                        category=4\n",
    "                    elif bmi>22.77:\n",
    "                        category=5\n",
    "                elif age==10:\n",
    "                    if bmi<=12.66:\n",
    "                        category=1\n",
    "                    elif 12.67<=bmi<=14.63:\n",
    "                        category=2\n",
    "                    elif 14.64<=bmi<=19.83:\n",
    "                        category=3\n",
    "                    elif 19.84<=bmi<=24.00:\n",
    "                        category=4\n",
    "                    elif bmi>24.00:\n",
    "                        category=5\n",
    "                elif age==11:\n",
    "                    if bmi<=12.89:\n",
    "                        category=1\n",
    "                    elif 12.90<=bmi<=14.96:\n",
    "                        category=2\n",
    "                    elif 14.97<=bmi<=20.54:\n",
    "                        category=3\n",
    "                    elif 20.55<=bmi<=25.10:\n",
    "                        category=4\n",
    "                    elif bmi>25.10:\n",
    "                        category=5\n",
    "                elif age==12:\n",
    "                    if bmi<=13.18:\n",
    "                        category=1\n",
    "                    elif 13.19<=bmi<=15.34:\n",
    "                        category=2\n",
    "                    elif 15.35<=bmi<=21.21:\n",
    "                        category=3\n",
    "                    elif 21.22<=bmi<=26.02:\n",
    "                        category=4\n",
    "                    elif bmi>26.02:\n",
    "                        category=5\n",
    "                elif age==13:\n",
    "                    if bmi<=13.59:\n",
    "                        category=1\n",
    "                    elif 13.60<=bmi<=15.83:\n",
    "                        category=2\n",
    "                    elif 15.84<=bmi<=21.90:\n",
    "                        category=3\n",
    "                    elif 21.91<=bmi<=26.84:\n",
    "                        category=4\n",
    "                    elif bmi>26.84:\n",
    "                        category=5\n",
    "                elif age==14:\n",
    "                    if bmi<=14.09:\n",
    "                        category=1\n",
    "                    elif 14.10<=bmi<=16.40:\n",
    "                        category=2\n",
    "                    elif 16.41<=bmi<=22.61:\n",
    "                        category=3\n",
    "                    elif 22.62<=bmi<=27.63:\n",
    "                        category=4\n",
    "                    elif bmi>27.63:\n",
    "                        category=5\n",
    "                elif age==15:\n",
    "                    if bmi<=14.60:\n",
    "                        category=1\n",
    "                    elif 14.61<bmi<16.97:\n",
    "                        category=2\n",
    "                    elif 16.98<=bmi<=23.28:\n",
    "                        category=3\n",
    "                    elif 23.29<=bmi<=28.30:\n",
    "                        category=4\n",
    "                    elif bmi>28.30:\n",
    "                        category=5\n",
    "                elif age==16:\n",
    "                    if bmi<=15.12:\n",
    "                        category=1\n",
    "                    elif 15.13<=bmi<=17.53:\n",
    "                        category=2\n",
    "                    elif 17.54<=bmi<=23.89:\n",
    "                        category=3\n",
    "                    elif 23.90<=bmi<=28.88:\n",
    "                        category=4\n",
    "                    elif bmi>28.88:\n",
    "                        category=5\n",
    "                elif age==17:\n",
    "                    if bmi<=15.60:\n",
    "                        category=1\n",
    "                    elif 15.61<=bmi<=18.04:\n",
    "                        category=2\n",
    "                    elif 18.05<=bmi<=24.45:\n",
    "                        category=3\n",
    "                    elif 24.46<=bmi<=29.41:\n",
    "                        category=4\n",
    "                    elif bmi>29.41:\n",
    "                        category=5\n",
    "                elif age==18:\n",
    "                    if bmi<=16.00:\n",
    "                        category=1\n",
    "                    elif 16.01<=bmi<=18.49:\n",
    "                        category=2\n",
    "                    elif 18.50<=bmi<=24.99:\n",
    "                        category=3\n",
    "                    elif 25.00<=bmi<=30.00:\n",
    "                        category=4\n",
    "                    elif bmi>30.00:\n",
    "                        category=5\n",
    "                            #males\n",
    "            if gender==1:\n",
    "                if age==2:\n",
    "                    if bmi<=13.24:\n",
    "                        category=1\n",
    "                    elif 13.25<bmi<14.82:\n",
    "                        category=2\n",
    "                    elif 14.83<=bmi<=18.01:\n",
    "                        category=3\n",
    "                    elif 18.02<=bmi<=19.81:\n",
    "                        category=4\n",
    "                    elif bmi>19.81:\n",
    "                        category=5\n",
    "                elif age==3:\n",
    "                    if bmi<=12.98:\n",
    "                        category=1\n",
    "                    elif 12.99<=bmi<=14.46:\n",
    "                        category=2\n",
    "                    elif 14.47<=bmi<=17.55:\n",
    "                        category=3\n",
    "                    elif 17.56<=bmi<=19.36:\n",
    "                        category=4\n",
    "                    elif bmi>19.36:\n",
    "                        category=5\n",
    "                elif age==4:\n",
    "                    if bmi<=12.73:\n",
    "                        category=1\n",
    "                    elif 12.74<=bmi<=14.18:\n",
    "                        category=2\n",
    "                    elif 14.19<=bmi<=17.27:\n",
    "                        category=3\n",
    "                    elif 17.28<=bmi<=19.15:\n",
    "                        category=4\n",
    "                    elif bmi>19.15:\n",
    "                        category=5\n",
    "                elif age==5:\n",
    "                    if bmi<=12.50:\n",
    "                        category=1\n",
    "                    elif 12.51<=bmi<=13.93:\n",
    "                        category=2\n",
    "                    elif 13.94<=bmi<=17.14:\n",
    "                        category=3\n",
    "                    elif 17.15<=bmi<=19.17:\n",
    "                        category=4\n",
    "                    elif bmi>19.17:\n",
    "                        category=5\n",
    "                elif age==6:\n",
    "                    if bmi<=12.32:\n",
    "                        category=1\n",
    "                    elif 12.33<=bmi<=13.81:\n",
    "                        category=2\n",
    "                    elif 13.82<=bmi<=17.33:\n",
    "                        category=3\n",
    "                    elif 17.34<=bmi<=19.65:\n",
    "                        category=4\n",
    "                    elif bmi>19.65:\n",
    "                        category=5\n",
    "                elif age==7:\n",
    "                    if bmi<=12.26:\n",
    "                        category=1\n",
    "                    elif 12.27<=bmi<=13.85:\n",
    "                        category=2\n",
    "                    elif 13.86<=bmi<=17.74:\n",
    "                        category=3\n",
    "                    elif 17.75<=bmi<=20.51:\n",
    "                        category=4\n",
    "                    elif bmi>20.51:\n",
    "                        category=5\n",
    "                elif age==8:\n",
    "                    if bmi<=12.31:\n",
    "                        category=1\n",
    "                    elif 12.32<=bmi<=14.01:\n",
    "                        category=2\n",
    "                    elif 14.02<=bmi<=18.34:\n",
    "                        category=3\n",
    "                    elif 18.35<=bmi<=21.57:\n",
    "                        category=4\n",
    "                    elif bmi>21.57:\n",
    "                        category=5\n",
    "                elif age==9:\n",
    "                    if bmi<=12.44:\n",
    "                        category=1\n",
    "                    elif 12.45<=bmi<=14.27:\n",
    "                        category=2\n",
    "                    elif 14.28<=bmi<=19.06:\n",
    "                        category=3\n",
    "                    elif 19.07<=bmi<=22.81:\n",
    "                        category=4\n",
    "                    elif bmi>22.81:\n",
    "                        category=5\n",
    "                elif age==10:\n",
    "                    if bmi<=12.64:\n",
    "                        category=1\n",
    "                    elif 12.65<=bmi<=14.60:\n",
    "                        category=2\n",
    "                    elif 14.61<=bmi<=19.85:\n",
    "                        category=3\n",
    "                    elif 19.86<=bmi<=24.11:\n",
    "                        category=4\n",
    "                    elif bmi>24.11:\n",
    "                        category=5\n",
    "                elif age==11:\n",
    "                    if bmi<=12.95:\n",
    "                        category=1\n",
    "                    elif 12.96<=bmi<=15.04:\n",
    "                        category=2\n",
    "                    elif 15.05<=bmi<=20.73:\n",
    "                        category=3\n",
    "                    elif 20.74<=bmi<=25.42:\n",
    "                        category=4\n",
    "                    elif bmi>25.42:\n",
    "                        category=5\n",
    "                elif age==12:\n",
    "                    if bmi<=13.39:\n",
    "                        category=1\n",
    "                    elif 13.40<=bmi<=15.61:\n",
    "                        category=2\n",
    "                    elif 15.62<=bmi<=21.67:\n",
    "                        category=3\n",
    "                    elif 21.68<=bmi<=26.67:\n",
    "                        category=4\n",
    "                    elif bmi>26.67:\n",
    "                        category=5\n",
    "                elif age==13:\n",
    "                    if bmi<=13.92:\n",
    "                        category=1\n",
    "                    elif 13.93<bmi<16.25:\n",
    "                        category=2\n",
    "                    elif 16.26<=bmi<=22.57:\n",
    "                        category=3\n",
    "                    elif 22.58<=bmi<=27.76:\n",
    "                        category=4\n",
    "                    elif bmi>27.76:\n",
    "                        category=5\n",
    "                elif age==14:\n",
    "                    if bmi<=14.48:\n",
    "                        category=1\n",
    "                    elif 14.49<=bmi<=16.87:\n",
    "                        category=2\n",
    "                    elif 16.88<=bmi<=23.33:\n",
    "                        category=3\n",
    "                    elif 23.34<=bmi<=28.57:\n",
    "                        category=4\n",
    "                    elif bmi>28.57:\n",
    "                        category=5\n",
    "                elif age==15:\n",
    "                    if bmi<=15.01:\n",
    "                        category=1\n",
    "                    elif 15.02<=bmi<=17.44:\n",
    "                        category=2\n",
    "                    elif 17.45<=bmi<=23.93:\n",
    "                        category=3\n",
    "                    elif 23.94<=bmi<=29.11:\n",
    "                        category=4\n",
    "                    elif bmi>29.11:\n",
    "                        category=5\n",
    "                elif age==16:\n",
    "                    if bmi<=15.46:\n",
    "                        category=1\n",
    "                    elif 15.47<=bmi<=17.90:\n",
    "                        category=2\n",
    "                    elif 17.91<=bmi<=24.36:\n",
    "                        category=3\n",
    "                    elif 24.37<=bmi<=29.43:\n",
    "                        category=4\n",
    "                    elif bmi>29.43:\n",
    "                        category=5\n",
    "                elif age==17:\n",
    "                    if bmi<=15.78:\n",
    "                        category=1\n",
    "                    elif 15.79<=bmi<=18.24:\n",
    "                        category=2\n",
    "                    elif 18.25<=bmi<=24.69:\n",
    "                        category=3\n",
    "                    elif 24.70<=bmi<=29.69:\n",
    "                        category=4\n",
    "                    elif bmi>29.69:\n",
    "                        category=5\n",
    "                elif age==18:\n",
    "                    if bmi<=15.99:\n",
    "                        category=1\n",
    "                    elif 16.00<=bmi<=18.49:\n",
    "                        category=2\n",
    "                    elif 18.50<=bmi<=24.99:\n",
    "                        category=3\n",
    "                    elif 25.00<=bmi<=30.00:\n",
    "                        category=4\n",
    "                    elif bmi>30.00:\n",
    "                        category=5'"
   ]
  },
  {
   "cell_type": "code",
   "execution_count": null,
   "id": "7efa1041-151d-4598-b12e-26b09196f0a0",
   "metadata": {},
   "outputs": [],
   "source": []
  }
 ],
 "metadata": {
  "kernelspec": {
   "display_name": "Python 3",
   "language": "python",
   "name": "python3"
  },
  "language_info": {
   "codemirror_mode": {
    "name": "ipython",
    "version": 3
   },
   "file_extension": ".py",
   "mimetype": "text/x-python",
   "name": "python",
   "nbconvert_exporter": "python",
   "pygments_lexer": "ipython3",
   "version": "3.9.5"
  }
 },
 "nbformat": 4,
 "nbformat_minor": 5
}
