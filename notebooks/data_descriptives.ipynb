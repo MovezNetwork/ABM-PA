{
 "cells": [
  {
   "cell_type": "code",
   "execution_count": 3,
   "metadata": {
    "collapsed": true
   },
   "outputs": [],
   "source": [
    "import pandas as pd\n",
    "import numpy as np\n",
    "import json\n",
    "import networkx as nx\n",
    "import plotly.express as px"
   ]
  },
  {
   "cell_type": "markdown",
   "source": [
    "# Data"
   ],
   "metadata": {
    "collapsed": false,
    "pycharm": {
     "name": "#%% md\n"
    }
   }
  },
  {
   "cell_type": "code",
   "execution_count": 4,
   "outputs": [],
   "source": [
    "# Read file: selected participants\n",
    "input_arg = json.loads(open('../input/participants.json').read())\n",
    "input_args = json.loads(open('../input/simulation.json').read())\n",
    "selected_participants = input_arg['participants']"
   ],
   "metadata": {
    "collapsed": false,
    "pycharm": {
     "name": "#%%\n"
    }
   }
  },
  {
   "cell_type": "code",
   "execution_count": 5,
   "outputs": [
    {
     "data": {
      "text/plain": "      Child  Class  Wave     Steps\n0      1605     81     1  1.008943\n1      1605     81     2  0.820294\n2      1605     81     3  0.629167\n3      1605     81     4  0.987258\n4      1605     81     5  1.031893\n...     ...    ...   ...       ...\n1809   6090    303     6  0.426309\n1810   6090    303     7  1.190034\n1811   6186    272     5  0.913002\n1812   6186    272     6  1.549380\n1813   6186    272     7  1.139850\n\n[1814 rows x 4 columns]",
      "text/html": "<div>\n<style scoped>\n    .dataframe tbody tr th:only-of-type {\n        vertical-align: middle;\n    }\n\n    .dataframe tbody tr th {\n        vertical-align: top;\n    }\n\n    .dataframe thead th {\n        text-align: right;\n    }\n</style>\n<table border=\"1\" class=\"dataframe\">\n  <thead>\n    <tr style=\"text-align: right;\">\n      <th></th>\n      <th>Child</th>\n      <th>Class</th>\n      <th>Wave</th>\n      <th>Steps</th>\n    </tr>\n  </thead>\n  <tbody>\n    <tr>\n      <th>0</th>\n      <td>1605</td>\n      <td>81</td>\n      <td>1</td>\n      <td>1.008943</td>\n    </tr>\n    <tr>\n      <th>1</th>\n      <td>1605</td>\n      <td>81</td>\n      <td>2</td>\n      <td>0.820294</td>\n    </tr>\n    <tr>\n      <th>2</th>\n      <td>1605</td>\n      <td>81</td>\n      <td>3</td>\n      <td>0.629167</td>\n    </tr>\n    <tr>\n      <th>3</th>\n      <td>1605</td>\n      <td>81</td>\n      <td>4</td>\n      <td>0.987258</td>\n    </tr>\n    <tr>\n      <th>4</th>\n      <td>1605</td>\n      <td>81</td>\n      <td>5</td>\n      <td>1.031893</td>\n    </tr>\n    <tr>\n      <th>...</th>\n      <td>...</td>\n      <td>...</td>\n      <td>...</td>\n      <td>...</td>\n    </tr>\n    <tr>\n      <th>1809</th>\n      <td>6090</td>\n      <td>303</td>\n      <td>6</td>\n      <td>0.426309</td>\n    </tr>\n    <tr>\n      <th>1810</th>\n      <td>6090</td>\n      <td>303</td>\n      <td>7</td>\n      <td>1.190034</td>\n    </tr>\n    <tr>\n      <th>1811</th>\n      <td>6186</td>\n      <td>272</td>\n      <td>5</td>\n      <td>0.913002</td>\n    </tr>\n    <tr>\n      <th>1812</th>\n      <td>6186</td>\n      <td>272</td>\n      <td>6</td>\n      <td>1.549380</td>\n    </tr>\n    <tr>\n      <th>1813</th>\n      <td>6186</td>\n      <td>272</td>\n      <td>7</td>\n      <td>1.139850</td>\n    </tr>\n  </tbody>\n</table>\n<p>1814 rows × 4 columns</p>\n</div>"
     },
     "execution_count": 5,
     "metadata": {},
     "output_type": "execute_result"
    }
   ],
   "source": [
    "file = \"../data/Fitbit_Imputation_FINAL.csv\"\n",
    "df_pal = pd.read_csv(file, sep=';', header=0, encoding='latin-1')\n",
    "df_pal = df_pal[df_pal['Class'].isin(input_args['classes'])]\n",
    "\n",
    "df_pal = df_pal.groupby(['Child', 'Class', 'Wave']).mean()['Steps'].reset_index()\n",
    "# normalize the number of steps: divided by 10,000\n",
    "df_pal.Steps = df_pal.Steps * 0.0001\n",
    "df_pal\n"
   ],
   "metadata": {
    "collapsed": false,
    "pycharm": {
     "name": "#%%\n"
    }
   }
  },
  {
   "cell_type": "code",
   "execution_count": 6,
   "outputs": [
    {
     "data": {
      "text/plain": "Wave          1         2         3         4         5         6         7\nChild                                                                      \n1605   1.008943  0.820294  0.629167  0.987258  1.031893  1.284955  1.192431\n1606   1.049223  1.198327  1.097367  0.633777  1.322073  1.365678  1.638732\n1607   1.524094  1.818436  1.179706  0.966004  1.595759  0.264422  1.905692\n1608   1.750014  1.729726  1.244227  1.616216  1.197837  1.273623  1.532295\n1609   0.850282  0.636582  0.908361  0.890276  0.960113  1.191625  0.633318\n...         ...       ...       ...       ...       ...       ...       ...\n6086        NaN       NaN       NaN       NaN  1.281375  1.279386  1.204416\n6088        NaN       NaN       NaN       NaN  1.103620  1.252825  1.301622\n6089        NaN       NaN       NaN       NaN  1.171215  1.074733  1.277142\n6090        NaN       NaN       NaN       NaN  1.589180  0.426309  1.190034\n6186        NaN       NaN       NaN       NaN  0.913002  1.549380  1.139850\n\n[469 rows x 7 columns]",
      "text/html": "<div>\n<style scoped>\n    .dataframe tbody tr th:only-of-type {\n        vertical-align: middle;\n    }\n\n    .dataframe tbody tr th {\n        vertical-align: top;\n    }\n\n    .dataframe thead th {\n        text-align: right;\n    }\n</style>\n<table border=\"1\" class=\"dataframe\">\n  <thead>\n    <tr style=\"text-align: right;\">\n      <th>Wave</th>\n      <th>1</th>\n      <th>2</th>\n      <th>3</th>\n      <th>4</th>\n      <th>5</th>\n      <th>6</th>\n      <th>7</th>\n    </tr>\n    <tr>\n      <th>Child</th>\n      <th></th>\n      <th></th>\n      <th></th>\n      <th></th>\n      <th></th>\n      <th></th>\n      <th></th>\n    </tr>\n  </thead>\n  <tbody>\n    <tr>\n      <th>1605</th>\n      <td>1.008943</td>\n      <td>0.820294</td>\n      <td>0.629167</td>\n      <td>0.987258</td>\n      <td>1.031893</td>\n      <td>1.284955</td>\n      <td>1.192431</td>\n    </tr>\n    <tr>\n      <th>1606</th>\n      <td>1.049223</td>\n      <td>1.198327</td>\n      <td>1.097367</td>\n      <td>0.633777</td>\n      <td>1.322073</td>\n      <td>1.365678</td>\n      <td>1.638732</td>\n    </tr>\n    <tr>\n      <th>1607</th>\n      <td>1.524094</td>\n      <td>1.818436</td>\n      <td>1.179706</td>\n      <td>0.966004</td>\n      <td>1.595759</td>\n      <td>0.264422</td>\n      <td>1.905692</td>\n    </tr>\n    <tr>\n      <th>1608</th>\n      <td>1.750014</td>\n      <td>1.729726</td>\n      <td>1.244227</td>\n      <td>1.616216</td>\n      <td>1.197837</td>\n      <td>1.273623</td>\n      <td>1.532295</td>\n    </tr>\n    <tr>\n      <th>1609</th>\n      <td>0.850282</td>\n      <td>0.636582</td>\n      <td>0.908361</td>\n      <td>0.890276</td>\n      <td>0.960113</td>\n      <td>1.191625</td>\n      <td>0.633318</td>\n    </tr>\n    <tr>\n      <th>...</th>\n      <td>...</td>\n      <td>...</td>\n      <td>...</td>\n      <td>...</td>\n      <td>...</td>\n      <td>...</td>\n      <td>...</td>\n    </tr>\n    <tr>\n      <th>6086</th>\n      <td>NaN</td>\n      <td>NaN</td>\n      <td>NaN</td>\n      <td>NaN</td>\n      <td>1.281375</td>\n      <td>1.279386</td>\n      <td>1.204416</td>\n    </tr>\n    <tr>\n      <th>6088</th>\n      <td>NaN</td>\n      <td>NaN</td>\n      <td>NaN</td>\n      <td>NaN</td>\n      <td>1.103620</td>\n      <td>1.252825</td>\n      <td>1.301622</td>\n    </tr>\n    <tr>\n      <th>6089</th>\n      <td>NaN</td>\n      <td>NaN</td>\n      <td>NaN</td>\n      <td>NaN</td>\n      <td>1.171215</td>\n      <td>1.074733</td>\n      <td>1.277142</td>\n    </tr>\n    <tr>\n      <th>6090</th>\n      <td>NaN</td>\n      <td>NaN</td>\n      <td>NaN</td>\n      <td>NaN</td>\n      <td>1.589180</td>\n      <td>0.426309</td>\n      <td>1.190034</td>\n    </tr>\n    <tr>\n      <th>6186</th>\n      <td>NaN</td>\n      <td>NaN</td>\n      <td>NaN</td>\n      <td>NaN</td>\n      <td>0.913002</td>\n      <td>1.549380</td>\n      <td>1.139850</td>\n    </tr>\n  </tbody>\n</table>\n<p>469 rows × 7 columns</p>\n</div>"
     },
     "execution_count": 6,
     "metadata": {},
     "output_type": "execute_result"
    }
   ],
   "source": [
    "\n",
    "df_pal = df_pal.pivot(index='Child', columns='Wave')['Steps']\n",
    "df_pal\n"
   ],
   "metadata": {
    "collapsed": false,
    "pycharm": {
     "name": "#%%\n"
    }
   }
  },
  {
   "cell_type": "markdown",
   "source": [
    "#### Peer-nomination network"
   ],
   "metadata": {
    "collapsed": false,
    "pycharm": {
     "name": "#%% md\n"
    }
   }
  },
  {
   "cell_type": "code",
   "execution_count": 7,
   "outputs": [],
   "source": [
    "# Read file\n",
    "nom_data = '../data/W5_Sociometric_long.csv'\n",
    "df_nom = pd.read_csv(nom_data, sep=';', header=0)\n",
    "\n",
    "\n",
    "# Only include selected participants (see selection_participants.ipynb)\n",
    "df_nom = df_nom[df_nom.Child.isin(selected_participants)]\n",
    "\n",
    "# Only include relevant questions\n",
    "questions = ['GEN_Advice', 'GEN_Leader', 'GEN_Social_Facilitation','GEN_Want2B']\n",
    "df_nom = df_nom[df_nom.Variable.isin(questions)]\n"
   ],
   "metadata": {
    "collapsed": false,
    "pycharm": {
     "name": "#%%\n"
    }
   }
  },
  {
   "cell_type": "markdown",
   "source": [
    "#### Online communication network"
   ],
   "metadata": {
    "collapsed": false,
    "pycharm": {
     "name": "#%% md\n"
    }
   }
  },
  {
   "cell_type": "code",
   "execution_count": 8,
   "outputs": [
    {
     "name": "stderr",
     "output_type": "stream",
     "text": [
      "/Users/davidblok/.pyenv/versions/3.7.0/lib/python3.7/site-packages/IPython/core/interactiveshell.py:3257: DtypeWarning: Columns (22) have mixed types.Specify dtype option on import or set low_memory=False.\n",
      "  interactivity=interactivity, compiler=compiler, result=result)\n"
     ]
    },
    {
     "data": {
      "text/plain": "     Participant  School  Class   Child  Gender   Age   PI       Date   Time  \\\n9508  5629605863    56.0  296.0  5863.0     1.0  10.0  0.0  27-2-2018  15:14   \n9509  5629605863    56.0  296.0  5863.0     1.0  10.0  0.0  27-2-2018  15:15   \n9510  5629605863    56.0  296.0  5863.0     1.0  10.0  0.0  27-2-2018  15:15   \n9511  5629605863    56.0  296.0  5863.0     1.0  10.0  0.0  27-2-2018  15:15   \n9514  5629605863    56.0  296.0  5863.0     1.0  10.0  0.0  27-2-2018  15:32   \n...          ...     ...    ...     ...     ...   ...  ...        ...    ...   \n7879  5425805099    54.0  258.0  5099.0     1.0  12.0  0.0   8-3-2018  16:41   \n7880  5425805099    54.0  258.0  5099.0     1.0  12.0  0.0   8-3-2018  16:41   \n7881  5425805099    54.0  258.0  5099.0     1.0  12.0  0.0   9-3-2018   7:10   \n7882  5425805099    54.0  258.0  5099.0     1.0  12.0  0.0   9-3-2018   7:11   \n7883  5425805099    54.0  258.0  5099.0     1.0  12.0  0.0   9-3-2018  17:39   \n\n        UMID  ...  ShareSource SharedVia Number_likes  Unnamed: 23  \\\n9508   59677  ...          NaN       NaN            0          NaN   \n9509   59689  ...          NaN       NaN            0          NaN   \n9510   59693  ...          NaN       NaN            0          NaN   \n9511   59695  ...          NaN       NaN            0          NaN   \n9514   59909  ...          NaN       NaN            0          NaN   \n...      ...  ...          ...       ...          ...          ...   \n7879   98196  ...          NaN       NaN            0          NaN   \n7880   98200  ...          NaN       NaN            0          NaN   \n7881  100592  ...          NaN       NaN            0          NaN   \n7882  100596  ...          NaN       NaN            0          NaN   \n7883  104379  ...          NaN       NaN            0          NaN   \n\n      Unnamed: 24 Unnamed: 25 Unnamed: 26  Unnamed: 27  Unnamed: 28  \\\n9508          NaN         NaN         NaN          NaN          NaN   \n9509          NaN         NaN         NaN          NaN          NaN   \n9510          NaN         NaN         NaN          NaN          NaN   \n9511          NaN         NaN         NaN          NaN          NaN   \n9514          NaN         NaN         NaN          NaN          NaN   \n...           ...         ...         ...          ...          ...   \n7879          NaN         NaN         NaN          NaN          NaN   \n7880          NaN         NaN         NaN          NaN          NaN   \n7881          NaN         NaN         NaN          NaN          NaN   \n7882          NaN         NaN         NaN          NaN          NaN   \n7883          NaN         NaN         NaN          NaN          NaN   \n\n      Unnamed: 29  \n9508          NaN  \n9509          NaN  \n9510          NaN  \n9511          NaN  \n9514          NaN  \n...           ...  \n7879          NaN  \n7880          NaN  \n7881          NaN  \n7882          NaN  \n7883          NaN  \n\n[26051 rows x 30 columns]",
      "text/html": "<div>\n<style scoped>\n    .dataframe tbody tr th:only-of-type {\n        vertical-align: middle;\n    }\n\n    .dataframe tbody tr th {\n        vertical-align: top;\n    }\n\n    .dataframe thead th {\n        text-align: right;\n    }\n</style>\n<table border=\"1\" class=\"dataframe\">\n  <thead>\n    <tr style=\"text-align: right;\">\n      <th></th>\n      <th>Participant</th>\n      <th>School</th>\n      <th>Class</th>\n      <th>Child</th>\n      <th>Gender</th>\n      <th>Age</th>\n      <th>PI</th>\n      <th>Date</th>\n      <th>Time</th>\n      <th>UMID</th>\n      <th>...</th>\n      <th>ShareSource</th>\n      <th>SharedVia</th>\n      <th>Number_likes</th>\n      <th>Unnamed: 23</th>\n      <th>Unnamed: 24</th>\n      <th>Unnamed: 25</th>\n      <th>Unnamed: 26</th>\n      <th>Unnamed: 27</th>\n      <th>Unnamed: 28</th>\n      <th>Unnamed: 29</th>\n    </tr>\n  </thead>\n  <tbody>\n    <tr>\n      <th>9508</th>\n      <td>5629605863</td>\n      <td>56.0</td>\n      <td>296.0</td>\n      <td>5863.0</td>\n      <td>1.0</td>\n      <td>10.0</td>\n      <td>0.0</td>\n      <td>27-2-2018</td>\n      <td>15:14</td>\n      <td>59677</td>\n      <td>...</td>\n      <td>NaN</td>\n      <td>NaN</td>\n      <td>0</td>\n      <td>NaN</td>\n      <td>NaN</td>\n      <td>NaN</td>\n      <td>NaN</td>\n      <td>NaN</td>\n      <td>NaN</td>\n      <td>NaN</td>\n    </tr>\n    <tr>\n      <th>9509</th>\n      <td>5629605863</td>\n      <td>56.0</td>\n      <td>296.0</td>\n      <td>5863.0</td>\n      <td>1.0</td>\n      <td>10.0</td>\n      <td>0.0</td>\n      <td>27-2-2018</td>\n      <td>15:15</td>\n      <td>59689</td>\n      <td>...</td>\n      <td>NaN</td>\n      <td>NaN</td>\n      <td>0</td>\n      <td>NaN</td>\n      <td>NaN</td>\n      <td>NaN</td>\n      <td>NaN</td>\n      <td>NaN</td>\n      <td>NaN</td>\n      <td>NaN</td>\n    </tr>\n    <tr>\n      <th>9510</th>\n      <td>5629605863</td>\n      <td>56.0</td>\n      <td>296.0</td>\n      <td>5863.0</td>\n      <td>1.0</td>\n      <td>10.0</td>\n      <td>0.0</td>\n      <td>27-2-2018</td>\n      <td>15:15</td>\n      <td>59693</td>\n      <td>...</td>\n      <td>NaN</td>\n      <td>NaN</td>\n      <td>0</td>\n      <td>NaN</td>\n      <td>NaN</td>\n      <td>NaN</td>\n      <td>NaN</td>\n      <td>NaN</td>\n      <td>NaN</td>\n      <td>NaN</td>\n    </tr>\n    <tr>\n      <th>9511</th>\n      <td>5629605863</td>\n      <td>56.0</td>\n      <td>296.0</td>\n      <td>5863.0</td>\n      <td>1.0</td>\n      <td>10.0</td>\n      <td>0.0</td>\n      <td>27-2-2018</td>\n      <td>15:15</td>\n      <td>59695</td>\n      <td>...</td>\n      <td>NaN</td>\n      <td>NaN</td>\n      <td>0</td>\n      <td>NaN</td>\n      <td>NaN</td>\n      <td>NaN</td>\n      <td>NaN</td>\n      <td>NaN</td>\n      <td>NaN</td>\n      <td>NaN</td>\n    </tr>\n    <tr>\n      <th>9514</th>\n      <td>5629605863</td>\n      <td>56.0</td>\n      <td>296.0</td>\n      <td>5863.0</td>\n      <td>1.0</td>\n      <td>10.0</td>\n      <td>0.0</td>\n      <td>27-2-2018</td>\n      <td>15:32</td>\n      <td>59909</td>\n      <td>...</td>\n      <td>NaN</td>\n      <td>NaN</td>\n      <td>0</td>\n      <td>NaN</td>\n      <td>NaN</td>\n      <td>NaN</td>\n      <td>NaN</td>\n      <td>NaN</td>\n      <td>NaN</td>\n      <td>NaN</td>\n    </tr>\n    <tr>\n      <th>...</th>\n      <td>...</td>\n      <td>...</td>\n      <td>...</td>\n      <td>...</td>\n      <td>...</td>\n      <td>...</td>\n      <td>...</td>\n      <td>...</td>\n      <td>...</td>\n      <td>...</td>\n      <td>...</td>\n      <td>...</td>\n      <td>...</td>\n      <td>...</td>\n      <td>...</td>\n      <td>...</td>\n      <td>...</td>\n      <td>...</td>\n      <td>...</td>\n      <td>...</td>\n      <td>...</td>\n    </tr>\n    <tr>\n      <th>7879</th>\n      <td>5425805099</td>\n      <td>54.0</td>\n      <td>258.0</td>\n      <td>5099.0</td>\n      <td>1.0</td>\n      <td>12.0</td>\n      <td>0.0</td>\n      <td>8-3-2018</td>\n      <td>16:41</td>\n      <td>98196</td>\n      <td>...</td>\n      <td>NaN</td>\n      <td>NaN</td>\n      <td>0</td>\n      <td>NaN</td>\n      <td>NaN</td>\n      <td>NaN</td>\n      <td>NaN</td>\n      <td>NaN</td>\n      <td>NaN</td>\n      <td>NaN</td>\n    </tr>\n    <tr>\n      <th>7880</th>\n      <td>5425805099</td>\n      <td>54.0</td>\n      <td>258.0</td>\n      <td>5099.0</td>\n      <td>1.0</td>\n      <td>12.0</td>\n      <td>0.0</td>\n      <td>8-3-2018</td>\n      <td>16:41</td>\n      <td>98200</td>\n      <td>...</td>\n      <td>NaN</td>\n      <td>NaN</td>\n      <td>0</td>\n      <td>NaN</td>\n      <td>NaN</td>\n      <td>NaN</td>\n      <td>NaN</td>\n      <td>NaN</td>\n      <td>NaN</td>\n      <td>NaN</td>\n    </tr>\n    <tr>\n      <th>7881</th>\n      <td>5425805099</td>\n      <td>54.0</td>\n      <td>258.0</td>\n      <td>5099.0</td>\n      <td>1.0</td>\n      <td>12.0</td>\n      <td>0.0</td>\n      <td>9-3-2018</td>\n      <td>7:10</td>\n      <td>100592</td>\n      <td>...</td>\n      <td>NaN</td>\n      <td>NaN</td>\n      <td>0</td>\n      <td>NaN</td>\n      <td>NaN</td>\n      <td>NaN</td>\n      <td>NaN</td>\n      <td>NaN</td>\n      <td>NaN</td>\n      <td>NaN</td>\n    </tr>\n    <tr>\n      <th>7882</th>\n      <td>5425805099</td>\n      <td>54.0</td>\n      <td>258.0</td>\n      <td>5099.0</td>\n      <td>1.0</td>\n      <td>12.0</td>\n      <td>0.0</td>\n      <td>9-3-2018</td>\n      <td>7:11</td>\n      <td>100596</td>\n      <td>...</td>\n      <td>NaN</td>\n      <td>NaN</td>\n      <td>0</td>\n      <td>NaN</td>\n      <td>NaN</td>\n      <td>NaN</td>\n      <td>NaN</td>\n      <td>NaN</td>\n      <td>NaN</td>\n      <td>NaN</td>\n    </tr>\n    <tr>\n      <th>7883</th>\n      <td>5425805099</td>\n      <td>54.0</td>\n      <td>258.0</td>\n      <td>5099.0</td>\n      <td>1.0</td>\n      <td>12.0</td>\n      <td>0.0</td>\n      <td>9-3-2018</td>\n      <td>17:39</td>\n      <td>104379</td>\n      <td>...</td>\n      <td>NaN</td>\n      <td>NaN</td>\n      <td>0</td>\n      <td>NaN</td>\n      <td>NaN</td>\n      <td>NaN</td>\n      <td>NaN</td>\n      <td>NaN</td>\n      <td>NaN</td>\n      <td>NaN</td>\n    </tr>\n  </tbody>\n</table>\n<p>26051 rows × 30 columns</p>\n</div>"
     },
     "execution_count": 8,
     "metadata": {},
     "output_type": "execute_result"
    }
   ],
   "source": [
    "# Read file\n",
    "primary_school = '../data/Buzz_W5_primary-schools.csv'\n",
    "secondary_school = '../data/Buzz_W5_secondary-schools.csv'\n",
    "df_com = pd.read_csv(primary_school, sep=';', header=0, encoding='latin-1')\n",
    "df_com = df_com.append(pd.read_csv(secondary_school, sep=';', header=0, encoding='latin-1'))\n",
    "df_com = df_com[df_com.Type=='my']\n",
    "\n",
    "# Only include selected participants (see selection_participants.ipynb)\n",
    "df_com = df_com[df_com.Child.isin(selected_participants)]\n",
    "\n",
    "df_com"
   ],
   "metadata": {
    "collapsed": false,
    "pycharm": {
     "name": "#%%\n"
    }
   }
  },
  {
   "cell_type": "markdown",
   "source": [
    "#### Age"
   ],
   "metadata": {
    "collapsed": false,
    "pycharm": {
     "name": "#%% md\n"
    }
   }
  },
  {
   "cell_type": "code",
   "execution_count": 9,
   "outputs": [
    {
     "data": {
      "text/plain": "       count       mean       std   min   25%   50%   75%   max\nClass                                                          \n78.0    18.0  11.555556  0.511310  11.0  11.0  12.0  12.0  12.0\n81.0    19.0  11.473684  0.772328  11.0  11.0  11.0  12.0  14.0\n100.0   19.0  11.473684  0.512989  11.0  11.0  11.0  12.0  12.0\n124.0   17.0  11.294118  0.469668  11.0  11.0  11.0  12.0  12.0\n125.0   16.0  11.562500  0.629153  11.0  11.0  11.5  12.0  13.0\n256.0   22.0  12.181818  0.394771  12.0  12.0  12.0  12.0  13.0\n258.0   16.0  12.437500  0.629153  11.0  12.0  12.5  13.0  13.0\n261.0   17.0  10.294118  0.469668  10.0  10.0  10.0  11.0  11.0\n262.0   15.0  10.600000  0.632456  10.0  10.0  11.0  11.0  12.0\n263.0   21.0  10.476190  0.511766  10.0  10.0  10.0  11.0  11.0\n272.0   24.0   9.583333  0.583592   9.0   9.0  10.0  10.0  11.0\n273.0   24.0  10.500000  0.659380   9.0  10.0  10.5  11.0  12.0\n292.0   21.0   9.619048  0.669043   9.0   9.0  10.0  10.0  11.0\n296.0   17.0   9.705882  0.469668   9.0   9.0  10.0  10.0  10.0\n297.0   16.0  10.375000  0.500000  10.0  10.0  10.0  11.0  11.0\n298.0   21.0   9.380952  0.497613   9.0   9.0   9.0  10.0  10.0\n299.0   19.0  10.421053  0.507257  10.0  10.0  10.0  11.0  11.0\n300.0   19.0  10.473684  0.611775  10.0  10.0  10.0  11.0  12.0\n301.0   24.0   9.375000  0.494535   9.0   9.0   9.0  10.0  10.0\n302.0   19.0  10.842105  0.602140  10.0  10.5  11.0  11.0  12.0\n303.0   25.0  10.280000  0.541603  10.0  10.0  10.0  10.0  12.0",
      "text/html": "<div>\n<style scoped>\n    .dataframe tbody tr th:only-of-type {\n        vertical-align: middle;\n    }\n\n    .dataframe tbody tr th {\n        vertical-align: top;\n    }\n\n    .dataframe thead th {\n        text-align: right;\n    }\n</style>\n<table border=\"1\" class=\"dataframe\">\n  <thead>\n    <tr style=\"text-align: right;\">\n      <th></th>\n      <th>count</th>\n      <th>mean</th>\n      <th>std</th>\n      <th>min</th>\n      <th>25%</th>\n      <th>50%</th>\n      <th>75%</th>\n      <th>max</th>\n    </tr>\n    <tr>\n      <th>Class</th>\n      <th></th>\n      <th></th>\n      <th></th>\n      <th></th>\n      <th></th>\n      <th></th>\n      <th></th>\n      <th></th>\n    </tr>\n  </thead>\n  <tbody>\n    <tr>\n      <th>78.0</th>\n      <td>18.0</td>\n      <td>11.555556</td>\n      <td>0.511310</td>\n      <td>11.0</td>\n      <td>11.0</td>\n      <td>12.0</td>\n      <td>12.0</td>\n      <td>12.0</td>\n    </tr>\n    <tr>\n      <th>81.0</th>\n      <td>19.0</td>\n      <td>11.473684</td>\n      <td>0.772328</td>\n      <td>11.0</td>\n      <td>11.0</td>\n      <td>11.0</td>\n      <td>12.0</td>\n      <td>14.0</td>\n    </tr>\n    <tr>\n      <th>100.0</th>\n      <td>19.0</td>\n      <td>11.473684</td>\n      <td>0.512989</td>\n      <td>11.0</td>\n      <td>11.0</td>\n      <td>11.0</td>\n      <td>12.0</td>\n      <td>12.0</td>\n    </tr>\n    <tr>\n      <th>124.0</th>\n      <td>17.0</td>\n      <td>11.294118</td>\n      <td>0.469668</td>\n      <td>11.0</td>\n      <td>11.0</td>\n      <td>11.0</td>\n      <td>12.0</td>\n      <td>12.0</td>\n    </tr>\n    <tr>\n      <th>125.0</th>\n      <td>16.0</td>\n      <td>11.562500</td>\n      <td>0.629153</td>\n      <td>11.0</td>\n      <td>11.0</td>\n      <td>11.5</td>\n      <td>12.0</td>\n      <td>13.0</td>\n    </tr>\n    <tr>\n      <th>256.0</th>\n      <td>22.0</td>\n      <td>12.181818</td>\n      <td>0.394771</td>\n      <td>12.0</td>\n      <td>12.0</td>\n      <td>12.0</td>\n      <td>12.0</td>\n      <td>13.0</td>\n    </tr>\n    <tr>\n      <th>258.0</th>\n      <td>16.0</td>\n      <td>12.437500</td>\n      <td>0.629153</td>\n      <td>11.0</td>\n      <td>12.0</td>\n      <td>12.5</td>\n      <td>13.0</td>\n      <td>13.0</td>\n    </tr>\n    <tr>\n      <th>261.0</th>\n      <td>17.0</td>\n      <td>10.294118</td>\n      <td>0.469668</td>\n      <td>10.0</td>\n      <td>10.0</td>\n      <td>10.0</td>\n      <td>11.0</td>\n      <td>11.0</td>\n    </tr>\n    <tr>\n      <th>262.0</th>\n      <td>15.0</td>\n      <td>10.600000</td>\n      <td>0.632456</td>\n      <td>10.0</td>\n      <td>10.0</td>\n      <td>11.0</td>\n      <td>11.0</td>\n      <td>12.0</td>\n    </tr>\n    <tr>\n      <th>263.0</th>\n      <td>21.0</td>\n      <td>10.476190</td>\n      <td>0.511766</td>\n      <td>10.0</td>\n      <td>10.0</td>\n      <td>10.0</td>\n      <td>11.0</td>\n      <td>11.0</td>\n    </tr>\n    <tr>\n      <th>272.0</th>\n      <td>24.0</td>\n      <td>9.583333</td>\n      <td>0.583592</td>\n      <td>9.0</td>\n      <td>9.0</td>\n      <td>10.0</td>\n      <td>10.0</td>\n      <td>11.0</td>\n    </tr>\n    <tr>\n      <th>273.0</th>\n      <td>24.0</td>\n      <td>10.500000</td>\n      <td>0.659380</td>\n      <td>9.0</td>\n      <td>10.0</td>\n      <td>10.5</td>\n      <td>11.0</td>\n      <td>12.0</td>\n    </tr>\n    <tr>\n      <th>292.0</th>\n      <td>21.0</td>\n      <td>9.619048</td>\n      <td>0.669043</td>\n      <td>9.0</td>\n      <td>9.0</td>\n      <td>10.0</td>\n      <td>10.0</td>\n      <td>11.0</td>\n    </tr>\n    <tr>\n      <th>296.0</th>\n      <td>17.0</td>\n      <td>9.705882</td>\n      <td>0.469668</td>\n      <td>9.0</td>\n      <td>9.0</td>\n      <td>10.0</td>\n      <td>10.0</td>\n      <td>10.0</td>\n    </tr>\n    <tr>\n      <th>297.0</th>\n      <td>16.0</td>\n      <td>10.375000</td>\n      <td>0.500000</td>\n      <td>10.0</td>\n      <td>10.0</td>\n      <td>10.0</td>\n      <td>11.0</td>\n      <td>11.0</td>\n    </tr>\n    <tr>\n      <th>298.0</th>\n      <td>21.0</td>\n      <td>9.380952</td>\n      <td>0.497613</td>\n      <td>9.0</td>\n      <td>9.0</td>\n      <td>9.0</td>\n      <td>10.0</td>\n      <td>10.0</td>\n    </tr>\n    <tr>\n      <th>299.0</th>\n      <td>19.0</td>\n      <td>10.421053</td>\n      <td>0.507257</td>\n      <td>10.0</td>\n      <td>10.0</td>\n      <td>10.0</td>\n      <td>11.0</td>\n      <td>11.0</td>\n    </tr>\n    <tr>\n      <th>300.0</th>\n      <td>19.0</td>\n      <td>10.473684</td>\n      <td>0.611775</td>\n      <td>10.0</td>\n      <td>10.0</td>\n      <td>10.0</td>\n      <td>11.0</td>\n      <td>12.0</td>\n    </tr>\n    <tr>\n      <th>301.0</th>\n      <td>24.0</td>\n      <td>9.375000</td>\n      <td>0.494535</td>\n      <td>9.0</td>\n      <td>9.0</td>\n      <td>9.0</td>\n      <td>10.0</td>\n      <td>10.0</td>\n    </tr>\n    <tr>\n      <th>302.0</th>\n      <td>19.0</td>\n      <td>10.842105</td>\n      <td>0.602140</td>\n      <td>10.0</td>\n      <td>10.5</td>\n      <td>11.0</td>\n      <td>11.0</td>\n      <td>12.0</td>\n    </tr>\n    <tr>\n      <th>303.0</th>\n      <td>25.0</td>\n      <td>10.280000</td>\n      <td>0.541603</td>\n      <td>10.0</td>\n      <td>10.0</td>\n      <td>10.0</td>\n      <td>10.0</td>\n      <td>12.0</td>\n    </tr>\n  </tbody>\n</table>\n</div>"
     },
     "execution_count": 9,
     "metadata": {},
     "output_type": "execute_result"
    }
   ],
   "source": [
    "# Mean age\n",
    "class_df_com = df_com[['Child', 'Class', 'Age']].drop_duplicates()\n",
    "class_df_com.groupby(['Class'])['Age'].describe()\n",
    "\n",
    "#class_df_com['Age'].describe()"
   ],
   "metadata": {
    "collapsed": false,
    "pycharm": {
     "name": "#%%\n"
    }
   }
  },
  {
   "cell_type": "markdown",
   "source": [
    "#### Sex"
   ],
   "metadata": {
    "collapsed": false,
    "pycharm": {
     "name": "#%% md\n"
    }
   }
  },
  {
   "cell_type": "code",
   "execution_count": 10,
   "outputs": [
    {
     "data": {
      "text/plain": "    Class  Gender\n0    78.0    10.0\n1    81.0    10.0\n2   100.0     7.0\n3   124.0    11.0\n4   125.0     9.0\n5   256.0    12.0\n6   258.0    10.0\n7   261.0     6.0\n8   262.0     7.0\n9   263.0    13.0\n10  272.0     9.0\n11  273.0    12.0\n12  292.0    16.0\n13  296.0    12.0\n14  297.0    11.0\n15  298.0    12.0\n16  299.0     9.0\n17  300.0    10.0\n18  301.0     7.0\n19  302.0    13.0\n20  303.0    15.0",
      "text/html": "<div>\n<style scoped>\n    .dataframe tbody tr th:only-of-type {\n        vertical-align: middle;\n    }\n\n    .dataframe tbody tr th {\n        vertical-align: top;\n    }\n\n    .dataframe thead th {\n        text-align: right;\n    }\n</style>\n<table border=\"1\" class=\"dataframe\">\n  <thead>\n    <tr style=\"text-align: right;\">\n      <th></th>\n      <th>Class</th>\n      <th>Gender</th>\n    </tr>\n  </thead>\n  <tbody>\n    <tr>\n      <th>0</th>\n      <td>78.0</td>\n      <td>10.0</td>\n    </tr>\n    <tr>\n      <th>1</th>\n      <td>81.0</td>\n      <td>10.0</td>\n    </tr>\n    <tr>\n      <th>2</th>\n      <td>100.0</td>\n      <td>7.0</td>\n    </tr>\n    <tr>\n      <th>3</th>\n      <td>124.0</td>\n      <td>11.0</td>\n    </tr>\n    <tr>\n      <th>4</th>\n      <td>125.0</td>\n      <td>9.0</td>\n    </tr>\n    <tr>\n      <th>5</th>\n      <td>256.0</td>\n      <td>12.0</td>\n    </tr>\n    <tr>\n      <th>6</th>\n      <td>258.0</td>\n      <td>10.0</td>\n    </tr>\n    <tr>\n      <th>7</th>\n      <td>261.0</td>\n      <td>6.0</td>\n    </tr>\n    <tr>\n      <th>8</th>\n      <td>262.0</td>\n      <td>7.0</td>\n    </tr>\n    <tr>\n      <th>9</th>\n      <td>263.0</td>\n      <td>13.0</td>\n    </tr>\n    <tr>\n      <th>10</th>\n      <td>272.0</td>\n      <td>9.0</td>\n    </tr>\n    <tr>\n      <th>11</th>\n      <td>273.0</td>\n      <td>12.0</td>\n    </tr>\n    <tr>\n      <th>12</th>\n      <td>292.0</td>\n      <td>16.0</td>\n    </tr>\n    <tr>\n      <th>13</th>\n      <td>296.0</td>\n      <td>12.0</td>\n    </tr>\n    <tr>\n      <th>14</th>\n      <td>297.0</td>\n      <td>11.0</td>\n    </tr>\n    <tr>\n      <th>15</th>\n      <td>298.0</td>\n      <td>12.0</td>\n    </tr>\n    <tr>\n      <th>16</th>\n      <td>299.0</td>\n      <td>9.0</td>\n    </tr>\n    <tr>\n      <th>17</th>\n      <td>300.0</td>\n      <td>10.0</td>\n    </tr>\n    <tr>\n      <th>18</th>\n      <td>301.0</td>\n      <td>7.0</td>\n    </tr>\n    <tr>\n      <th>19</th>\n      <td>302.0</td>\n      <td>13.0</td>\n    </tr>\n    <tr>\n      <th>20</th>\n      <td>303.0</td>\n      <td>15.0</td>\n    </tr>\n  </tbody>\n</table>\n</div>"
     },
     "execution_count": 10,
     "metadata": {},
     "output_type": "execute_result"
    }
   ],
   "source": [
    "# Count Female\n",
    "class_df_com = df_com[['Child', 'Class', 'Gender']].drop_duplicates()\n",
    "class_df_com.groupby(['Class']).sum()['Gender'].reset_index()\n",
    "\n"
   ],
   "metadata": {
    "collapsed": false,
    "pycharm": {
     "name": "#%%\n"
    }
   }
  },
  {
   "cell_type": "markdown",
   "source": [
    "\n",
    "#### Physical activity level (PAL)\n",
    "\n"
   ],
   "metadata": {
    "collapsed": false,
    "pycharm": {
     "name": "#%% md\n"
    }
   }
  },
  {
   "cell_type": "code",
   "execution_count": 11,
   "outputs": [
    {
     "data": {
      "text/plain": "       count      mean       std       min       25%       50%       75%  \\\nClass                                                                      \n78.0    18.0  0.870160  0.286393  0.507625  0.630245  0.821665  1.036875   \n81.0    19.0  0.794184  0.212885  0.185367  0.686087  0.798140  0.888900   \n100.0   19.0  0.877027  0.340317  0.209400  0.699200  0.942920  1.067570   \n124.0   17.0  0.990502  0.299465  0.522760  0.768780  1.058133  1.212300   \n125.0   16.0  0.981720  0.246594  0.531433  0.805988  0.988270  1.178620   \n256.0   22.0  0.785191  0.322836  0.349050  0.570335  0.696653  0.963208   \n258.0   16.0  1.015160  0.294962  0.550750  0.800430  1.069160  1.201885   \n261.0   17.0  1.041116  0.257415  0.598440  0.841460  1.067650  1.214633   \n262.0   15.0  0.928219  0.306408  0.542150  0.669265  0.887325  1.119133   \n263.0   20.0  0.805070  0.175668  0.468967  0.705521  0.812998  0.917613   \n272.0   24.0  1.007152  0.375496  0.153840  0.821241  0.965300  1.236410   \n273.0   24.0  0.918776  0.399396  0.290980  0.675045  0.871563  1.114231   \n292.0   21.0  0.878583  0.327519  0.264040  0.708960  0.814340  0.971800   \n296.0   17.0  0.797244  0.360015  0.191567  0.674120  0.737400  0.875280   \n297.0   16.0  0.950404  0.308110  0.509580  0.660970  0.972140  1.131595   \n298.0   21.0  0.990187  0.319306  0.501820  0.744420  0.931360  1.211160   \n299.0   19.0  0.962877  0.265354  0.495560  0.783570  1.023080  1.132010   \n300.0   19.0  0.925091  0.376890  0.203475  0.692248  0.980600  1.148868   \n301.0   24.0  0.930460  0.381395  0.122750  0.709660  1.008923  1.246905   \n302.0   19.0  0.859149  0.214280  0.125975  0.784350  0.911400  0.981060   \n303.0   25.0  1.015204  0.279467  0.411333  0.837500  0.914867  1.255520   \n\n            max  \nClass            \n78.0   1.413375  \n81.0   1.143200  \n100.0  1.430360  \n124.0  1.540820  \n125.0  1.404700  \n256.0  1.867380  \n258.0  1.478840  \n261.0  1.421267  \n262.0  1.561760  \n263.0  1.115000  \n272.0  1.715320  \n273.0  1.784433  \n292.0  1.747380  \n296.0  1.669860  \n297.0  1.454900  \n298.0  1.725800  \n299.0  1.372280  \n300.0  1.610040  \n301.0  1.440460  \n302.0  1.069700  \n303.0  1.508940  ",
      "text/html": "<div>\n<style scoped>\n    .dataframe tbody tr th:only-of-type {\n        vertical-align: middle;\n    }\n\n    .dataframe tbody tr th {\n        vertical-align: top;\n    }\n\n    .dataframe thead th {\n        text-align: right;\n    }\n</style>\n<table border=\"1\" class=\"dataframe\">\n  <thead>\n    <tr style=\"text-align: right;\">\n      <th></th>\n      <th>count</th>\n      <th>mean</th>\n      <th>std</th>\n      <th>min</th>\n      <th>25%</th>\n      <th>50%</th>\n      <th>75%</th>\n      <th>max</th>\n    </tr>\n    <tr>\n      <th>Class</th>\n      <th></th>\n      <th></th>\n      <th></th>\n      <th></th>\n      <th></th>\n      <th></th>\n      <th></th>\n      <th></th>\n    </tr>\n  </thead>\n  <tbody>\n    <tr>\n      <th>78.0</th>\n      <td>18.0</td>\n      <td>0.870160</td>\n      <td>0.286393</td>\n      <td>0.507625</td>\n      <td>0.630245</td>\n      <td>0.821665</td>\n      <td>1.036875</td>\n      <td>1.413375</td>\n    </tr>\n    <tr>\n      <th>81.0</th>\n      <td>19.0</td>\n      <td>0.794184</td>\n      <td>0.212885</td>\n      <td>0.185367</td>\n      <td>0.686087</td>\n      <td>0.798140</td>\n      <td>0.888900</td>\n      <td>1.143200</td>\n    </tr>\n    <tr>\n      <th>100.0</th>\n      <td>19.0</td>\n      <td>0.877027</td>\n      <td>0.340317</td>\n      <td>0.209400</td>\n      <td>0.699200</td>\n      <td>0.942920</td>\n      <td>1.067570</td>\n      <td>1.430360</td>\n    </tr>\n    <tr>\n      <th>124.0</th>\n      <td>17.0</td>\n      <td>0.990502</td>\n      <td>0.299465</td>\n      <td>0.522760</td>\n      <td>0.768780</td>\n      <td>1.058133</td>\n      <td>1.212300</td>\n      <td>1.540820</td>\n    </tr>\n    <tr>\n      <th>125.0</th>\n      <td>16.0</td>\n      <td>0.981720</td>\n      <td>0.246594</td>\n      <td>0.531433</td>\n      <td>0.805988</td>\n      <td>0.988270</td>\n      <td>1.178620</td>\n      <td>1.404700</td>\n    </tr>\n    <tr>\n      <th>256.0</th>\n      <td>22.0</td>\n      <td>0.785191</td>\n      <td>0.322836</td>\n      <td>0.349050</td>\n      <td>0.570335</td>\n      <td>0.696653</td>\n      <td>0.963208</td>\n      <td>1.867380</td>\n    </tr>\n    <tr>\n      <th>258.0</th>\n      <td>16.0</td>\n      <td>1.015160</td>\n      <td>0.294962</td>\n      <td>0.550750</td>\n      <td>0.800430</td>\n      <td>1.069160</td>\n      <td>1.201885</td>\n      <td>1.478840</td>\n    </tr>\n    <tr>\n      <th>261.0</th>\n      <td>17.0</td>\n      <td>1.041116</td>\n      <td>0.257415</td>\n      <td>0.598440</td>\n      <td>0.841460</td>\n      <td>1.067650</td>\n      <td>1.214633</td>\n      <td>1.421267</td>\n    </tr>\n    <tr>\n      <th>262.0</th>\n      <td>15.0</td>\n      <td>0.928219</td>\n      <td>0.306408</td>\n      <td>0.542150</td>\n      <td>0.669265</td>\n      <td>0.887325</td>\n      <td>1.119133</td>\n      <td>1.561760</td>\n    </tr>\n    <tr>\n      <th>263.0</th>\n      <td>20.0</td>\n      <td>0.805070</td>\n      <td>0.175668</td>\n      <td>0.468967</td>\n      <td>0.705521</td>\n      <td>0.812998</td>\n      <td>0.917613</td>\n      <td>1.115000</td>\n    </tr>\n    <tr>\n      <th>272.0</th>\n      <td>24.0</td>\n      <td>1.007152</td>\n      <td>0.375496</td>\n      <td>0.153840</td>\n      <td>0.821241</td>\n      <td>0.965300</td>\n      <td>1.236410</td>\n      <td>1.715320</td>\n    </tr>\n    <tr>\n      <th>273.0</th>\n      <td>24.0</td>\n      <td>0.918776</td>\n      <td>0.399396</td>\n      <td>0.290980</td>\n      <td>0.675045</td>\n      <td>0.871563</td>\n      <td>1.114231</td>\n      <td>1.784433</td>\n    </tr>\n    <tr>\n      <th>292.0</th>\n      <td>21.0</td>\n      <td>0.878583</td>\n      <td>0.327519</td>\n      <td>0.264040</td>\n      <td>0.708960</td>\n      <td>0.814340</td>\n      <td>0.971800</td>\n      <td>1.747380</td>\n    </tr>\n    <tr>\n      <th>296.0</th>\n      <td>17.0</td>\n      <td>0.797244</td>\n      <td>0.360015</td>\n      <td>0.191567</td>\n      <td>0.674120</td>\n      <td>0.737400</td>\n      <td>0.875280</td>\n      <td>1.669860</td>\n    </tr>\n    <tr>\n      <th>297.0</th>\n      <td>16.0</td>\n      <td>0.950404</td>\n      <td>0.308110</td>\n      <td>0.509580</td>\n      <td>0.660970</td>\n      <td>0.972140</td>\n      <td>1.131595</td>\n      <td>1.454900</td>\n    </tr>\n    <tr>\n      <th>298.0</th>\n      <td>21.0</td>\n      <td>0.990187</td>\n      <td>0.319306</td>\n      <td>0.501820</td>\n      <td>0.744420</td>\n      <td>0.931360</td>\n      <td>1.211160</td>\n      <td>1.725800</td>\n    </tr>\n    <tr>\n      <th>299.0</th>\n      <td>19.0</td>\n      <td>0.962877</td>\n      <td>0.265354</td>\n      <td>0.495560</td>\n      <td>0.783570</td>\n      <td>1.023080</td>\n      <td>1.132010</td>\n      <td>1.372280</td>\n    </tr>\n    <tr>\n      <th>300.0</th>\n      <td>19.0</td>\n      <td>0.925091</td>\n      <td>0.376890</td>\n      <td>0.203475</td>\n      <td>0.692248</td>\n      <td>0.980600</td>\n      <td>1.148868</td>\n      <td>1.610040</td>\n    </tr>\n    <tr>\n      <th>301.0</th>\n      <td>24.0</td>\n      <td>0.930460</td>\n      <td>0.381395</td>\n      <td>0.122750</td>\n      <td>0.709660</td>\n      <td>1.008923</td>\n      <td>1.246905</td>\n      <td>1.440460</td>\n    </tr>\n    <tr>\n      <th>302.0</th>\n      <td>19.0</td>\n      <td>0.859149</td>\n      <td>0.214280</td>\n      <td>0.125975</td>\n      <td>0.784350</td>\n      <td>0.911400</td>\n      <td>0.981060</td>\n      <td>1.069700</td>\n    </tr>\n    <tr>\n      <th>303.0</th>\n      <td>25.0</td>\n      <td>1.015204</td>\n      <td>0.279467</td>\n      <td>0.411333</td>\n      <td>0.837500</td>\n      <td>0.914867</td>\n      <td>1.255520</td>\n      <td>1.508940</td>\n    </tr>\n  </tbody>\n</table>\n</div>"
     },
     "execution_count": 11,
     "metadata": {},
     "output_type": "execute_result"
    }
   ],
   "source": [
    "# Read file: PAL\n",
    "pal_file = \"../data/Fitbit_Imputation_FINAL.csv\"\n",
    "\n",
    "df_pal = pd.read_csv(pal_file, sep=';', header=0, encoding='latin-1')\n",
    "\n",
    "# select wave 5\n",
    "df_pal2 = df_pal[df_pal['Wave']==5]\n",
    "\n",
    "# calculate mean steps\n",
    "df_pal2 = df_pal2.groupby(['Child', 'Wave']).mean()['Steps'].reset_index()\n",
    "df_pal2['Steps_scaled'] = df_pal2.Steps * 0.0001 #0.000153\n",
    "\n",
    "# select participants\n",
    "df_pal3 = df_pal2[df_pal2.Child.isin(selected_participants)]\n",
    "\n",
    "# merge with peer-nomination network and online communication data\n",
    "df_nom2 = pd.merge(df_nom, df_pal2, on='Child')\n",
    "df_com2 = pd.merge(df_com, df_pal2, on='Child')\n",
    "\n",
    "df_pal3.pivot(index='Child', columns='Wave')['Steps_scaled']\n",
    "\n",
    "# Mean PAL by class: use df_com3, not df_nom3, because 2 participants in df_nom3 have no contacts.\n",
    "class_df_com = df_com2[['Child', 'Class','Steps_scaled']].drop_duplicates()\n",
    "class_df_com.groupby(['Class'])['Steps_scaled'].describe()"
   ],
   "metadata": {
    "collapsed": false,
    "pycharm": {
     "name": "#%%\n"
    }
   }
  },
  {
   "cell_type": "code",
   "execution_count": 12,
   "outputs": [
    {
     "data": {
      "text/plain": "count    408.000000\nmean       0.919938\nstd        0.313788\nmin        0.122750\n25%        0.704670\n50%        0.911460\n75%        1.114670\nmax        1.867380\nName: Steps_scaled, dtype: float64"
     },
     "execution_count": 12,
     "metadata": {},
     "output_type": "execute_result"
    }
   ],
   "source": [
    "# Overall Mean PAL score\n",
    "class_df_com['Steps_scaled'].describe()"
   ],
   "metadata": {
    "collapsed": false,
    "pycharm": {
     "name": "#%%\n"
    }
   }
  },
  {
   "cell_type": "markdown",
   "source": [
    "#### Family Affluence Score (FAS)"
   ],
   "metadata": {
    "collapsed": false,
    "pycharm": {
     "name": "#%% md\n"
    }
   }
  },
  {
   "cell_type": "code",
   "execution_count": 13,
   "outputs": [
    {
     "name": "stdout",
     "output_type": "stream",
     "text": [
      "Number of participants with missing FAS score: 41\n",
      "Mean FAS score: 0.48819255222524977\n"
     ]
    },
    {
     "name": "stderr",
     "output_type": "stream",
     "text": [
      "/Users/davidblok/.pyenv/versions/3.7.0/lib/python3.7/site-packages/IPython/core/interactiveshell.py:3257: DtypeWarning: Columns (319,321,323,377,434,436,439,441,444,446,449,451,454,456,459,461,464,466,469,471,474,476,479,481,484,486,489,491) have mixed types.Specify dtype option on import or set low_memory=False.\n",
      "  interactivity=interactivity, compiler=compiler, result=result)\n"
     ]
    },
    {
     "data": {
      "text/plain": "       count      mean       std  min       25%       50%       75%       max\nClass                                                                        \n78.0    18.0  0.588657  0.363662  0.0  0.434548  0.488193  0.854167  1.500000\n81.0    19.0  0.478727  0.269947  0.0  0.333333  0.488193  0.583333  1.166667\n100.0   19.0  0.564547  0.407132  0.0  0.333333  0.500000  0.625000  1.666667\n124.0   17.0  0.528023  0.344927  0.0  0.333333  0.488193  0.750000  1.083333\n125.0   16.0  0.495572  0.263589  0.0  0.395833  0.488193  0.583333  1.166667\n256.0   22.0  0.372853  0.174295  0.0  0.270833  0.416667  0.497048  0.583333\n258.0   16.0  0.321441  0.332346  0.0  0.000000  0.333333  0.434548  1.250000\n261.0   17.0  0.460784  0.255355  0.0  0.333333  0.500000  0.583333  0.833333\n262.0   15.0  0.470648  0.298125  0.0  0.333333  0.488193  0.541667  1.000000\n263.0   20.0  0.386910  0.259460  0.0  0.333333  0.333333  0.500000  1.083333\n272.0   24.0  0.555556  0.410216  0.0  0.312500  0.500000  0.687500  1.583333\n273.0   24.0  0.508941  0.365638  0.0  0.312500  0.488193  0.562500  1.583333\n292.0   21.0  0.380390  0.219498  0.0  0.250000  0.333333  0.583333  0.750000\n296.0   17.0  0.469199  0.253207  0.0  0.333333  0.500000  0.583333  0.916667\n297.0   16.0  0.477691  0.399591  0.0  0.166667  0.488193  0.625000  1.416667\n298.0   21.0  0.373016  0.242411  0.0  0.166667  0.333333  0.583333  0.750000\n299.0   19.0  0.368421  0.278216  0.0  0.166667  0.333333  0.541667  0.916667\n300.0   19.0  0.568933  0.309968  0.0  0.291667  0.666667  0.791667  1.000000\n301.0   24.0  0.788194  0.412647  0.0  0.479167  0.875000  1.083333  1.500000\n302.0   19.0  0.644737  0.353381  0.0  0.333333  0.583333  0.916667  1.333333\n303.0   25.0  0.396667  0.316667  0.0  0.166667  0.416667  0.583333  1.000000",
      "text/html": "<div>\n<style scoped>\n    .dataframe tbody tr th:only-of-type {\n        vertical-align: middle;\n    }\n\n    .dataframe tbody tr th {\n        vertical-align: top;\n    }\n\n    .dataframe thead th {\n        text-align: right;\n    }\n</style>\n<table border=\"1\" class=\"dataframe\">\n  <thead>\n    <tr style=\"text-align: right;\">\n      <th></th>\n      <th>count</th>\n      <th>mean</th>\n      <th>std</th>\n      <th>min</th>\n      <th>25%</th>\n      <th>50%</th>\n      <th>75%</th>\n      <th>max</th>\n    </tr>\n    <tr>\n      <th>Class</th>\n      <th></th>\n      <th></th>\n      <th></th>\n      <th></th>\n      <th></th>\n      <th></th>\n      <th></th>\n      <th></th>\n    </tr>\n  </thead>\n  <tbody>\n    <tr>\n      <th>78.0</th>\n      <td>18.0</td>\n      <td>0.588657</td>\n      <td>0.363662</td>\n      <td>0.0</td>\n      <td>0.434548</td>\n      <td>0.488193</td>\n      <td>0.854167</td>\n      <td>1.500000</td>\n    </tr>\n    <tr>\n      <th>81.0</th>\n      <td>19.0</td>\n      <td>0.478727</td>\n      <td>0.269947</td>\n      <td>0.0</td>\n      <td>0.333333</td>\n      <td>0.488193</td>\n      <td>0.583333</td>\n      <td>1.166667</td>\n    </tr>\n    <tr>\n      <th>100.0</th>\n      <td>19.0</td>\n      <td>0.564547</td>\n      <td>0.407132</td>\n      <td>0.0</td>\n      <td>0.333333</td>\n      <td>0.500000</td>\n      <td>0.625000</td>\n      <td>1.666667</td>\n    </tr>\n    <tr>\n      <th>124.0</th>\n      <td>17.0</td>\n      <td>0.528023</td>\n      <td>0.344927</td>\n      <td>0.0</td>\n      <td>0.333333</td>\n      <td>0.488193</td>\n      <td>0.750000</td>\n      <td>1.083333</td>\n    </tr>\n    <tr>\n      <th>125.0</th>\n      <td>16.0</td>\n      <td>0.495572</td>\n      <td>0.263589</td>\n      <td>0.0</td>\n      <td>0.395833</td>\n      <td>0.488193</td>\n      <td>0.583333</td>\n      <td>1.166667</td>\n    </tr>\n    <tr>\n      <th>256.0</th>\n      <td>22.0</td>\n      <td>0.372853</td>\n      <td>0.174295</td>\n      <td>0.0</td>\n      <td>0.270833</td>\n      <td>0.416667</td>\n      <td>0.497048</td>\n      <td>0.583333</td>\n    </tr>\n    <tr>\n      <th>258.0</th>\n      <td>16.0</td>\n      <td>0.321441</td>\n      <td>0.332346</td>\n      <td>0.0</td>\n      <td>0.000000</td>\n      <td>0.333333</td>\n      <td>0.434548</td>\n      <td>1.250000</td>\n    </tr>\n    <tr>\n      <th>261.0</th>\n      <td>17.0</td>\n      <td>0.460784</td>\n      <td>0.255355</td>\n      <td>0.0</td>\n      <td>0.333333</td>\n      <td>0.500000</td>\n      <td>0.583333</td>\n      <td>0.833333</td>\n    </tr>\n    <tr>\n      <th>262.0</th>\n      <td>15.0</td>\n      <td>0.470648</td>\n      <td>0.298125</td>\n      <td>0.0</td>\n      <td>0.333333</td>\n      <td>0.488193</td>\n      <td>0.541667</td>\n      <td>1.000000</td>\n    </tr>\n    <tr>\n      <th>263.0</th>\n      <td>20.0</td>\n      <td>0.386910</td>\n      <td>0.259460</td>\n      <td>0.0</td>\n      <td>0.333333</td>\n      <td>0.333333</td>\n      <td>0.500000</td>\n      <td>1.083333</td>\n    </tr>\n    <tr>\n      <th>272.0</th>\n      <td>24.0</td>\n      <td>0.555556</td>\n      <td>0.410216</td>\n      <td>0.0</td>\n      <td>0.312500</td>\n      <td>0.500000</td>\n      <td>0.687500</td>\n      <td>1.583333</td>\n    </tr>\n    <tr>\n      <th>273.0</th>\n      <td>24.0</td>\n      <td>0.508941</td>\n      <td>0.365638</td>\n      <td>0.0</td>\n      <td>0.312500</td>\n      <td>0.488193</td>\n      <td>0.562500</td>\n      <td>1.583333</td>\n    </tr>\n    <tr>\n      <th>292.0</th>\n      <td>21.0</td>\n      <td>0.380390</td>\n      <td>0.219498</td>\n      <td>0.0</td>\n      <td>0.250000</td>\n      <td>0.333333</td>\n      <td>0.583333</td>\n      <td>0.750000</td>\n    </tr>\n    <tr>\n      <th>296.0</th>\n      <td>17.0</td>\n      <td>0.469199</td>\n      <td>0.253207</td>\n      <td>0.0</td>\n      <td>0.333333</td>\n      <td>0.500000</td>\n      <td>0.583333</td>\n      <td>0.916667</td>\n    </tr>\n    <tr>\n      <th>297.0</th>\n      <td>16.0</td>\n      <td>0.477691</td>\n      <td>0.399591</td>\n      <td>0.0</td>\n      <td>0.166667</td>\n      <td>0.488193</td>\n      <td>0.625000</td>\n      <td>1.416667</td>\n    </tr>\n    <tr>\n      <th>298.0</th>\n      <td>21.0</td>\n      <td>0.373016</td>\n      <td>0.242411</td>\n      <td>0.0</td>\n      <td>0.166667</td>\n      <td>0.333333</td>\n      <td>0.583333</td>\n      <td>0.750000</td>\n    </tr>\n    <tr>\n      <th>299.0</th>\n      <td>19.0</td>\n      <td>0.368421</td>\n      <td>0.278216</td>\n      <td>0.0</td>\n      <td>0.166667</td>\n      <td>0.333333</td>\n      <td>0.541667</td>\n      <td>0.916667</td>\n    </tr>\n    <tr>\n      <th>300.0</th>\n      <td>19.0</td>\n      <td>0.568933</td>\n      <td>0.309968</td>\n      <td>0.0</td>\n      <td>0.291667</td>\n      <td>0.666667</td>\n      <td>0.791667</td>\n      <td>1.000000</td>\n    </tr>\n    <tr>\n      <th>301.0</th>\n      <td>24.0</td>\n      <td>0.788194</td>\n      <td>0.412647</td>\n      <td>0.0</td>\n      <td>0.479167</td>\n      <td>0.875000</td>\n      <td>1.083333</td>\n      <td>1.500000</td>\n    </tr>\n    <tr>\n      <th>302.0</th>\n      <td>19.0</td>\n      <td>0.644737</td>\n      <td>0.353381</td>\n      <td>0.0</td>\n      <td>0.333333</td>\n      <td>0.583333</td>\n      <td>0.916667</td>\n      <td>1.333333</td>\n    </tr>\n    <tr>\n      <th>303.0</th>\n      <td>25.0</td>\n      <td>0.396667</td>\n      <td>0.316667</td>\n      <td>0.0</td>\n      <td>0.166667</td>\n      <td>0.416667</td>\n      <td>0.583333</td>\n      <td>1.000000</td>\n    </tr>\n  </tbody>\n</table>\n</div>"
     },
     "execution_count": 13,
     "metadata": {},
     "output_type": "execute_result"
    }
   ],
   "source": [
    "# Read file: environmental score\n",
    "env_file = \"../data/W6_Main_Questions.csv\"\n",
    "df_env = pd.read_csv(env_file, sep=';', header=0, encoding='latin-1')\n",
    "\n",
    "# select FAS questions\n",
    "df_env = df_env[['Child','GEN_FAS_computer_A01' ,'GEN_FAS_car_A01', 'GEN_FAS_vacation_A01', 'GEN_FAS_ownroom_A01']]\n",
    "\n",
    "# calculate FAS score\n",
    "df_env['FAS_score'] = df_env['GEN_FAS_computer_A01'] + df_env['GEN_FAS_vacation_A01'] + df_env['GEN_FAS_car_A01']*1.5 + df_env['GEN_FAS_ownroom_A01']*3\n",
    "\n",
    "# to keep the values between 0 and 2.\n",
    "df_env['FAS_scaled'] = abs((df_env.FAS_score/6) - 2)\n",
    "\n",
    "# select participants\n",
    "df_env2 = df_env[df_env.Child.isin(selected_participants)]\n",
    "\n",
    "print(\"Number of participants with missing FAS score:\", np.isnan(df_env2['FAS_scaled']).sum())\n",
    "\n",
    "# missing will be replaced by overall average value\n",
    "mean_FAS = df_env2['FAS_scaled'].mean()\n",
    "print(\"Mean FAS score:\",mean_FAS) # different than original because 518 participants instead of 408\n",
    "for i in df_env2.index:\n",
    "    if np.isnan(df_env2.at[i,'FAS_scaled']):\n",
    "        df_env2.at[i,'FAS_scaled'] = mean_FAS\n",
    "\n",
    "df_env3 = df_env2[['Child', 'FAS_scaled']]\n",
    "\n",
    "# merge with peer-nomination network and online communication data\n",
    "df_nom3 = pd.merge(df_nom2, df_env3, on='Child')\n",
    "df_com3 = pd.merge(df_com2, df_env3, on='Child')\n",
    "\n",
    "# Mean FAS by class: use df_com3, not df_nom3, because 2 participants in df_nom3 have no contacts.\n",
    "class_df_com = df_com3[['Child', 'Class','FAS_scaled']].drop_duplicates()\n",
    "class_df_com.groupby(['Class'])['FAS_scaled'].describe()"
   ],
   "metadata": {
    "collapsed": false,
    "pycharm": {
     "name": "#%%\n"
    }
   }
  },
  {
   "cell_type": "code",
   "execution_count": 14,
   "outputs": [
    {
     "data": {
      "text/plain": "count    408.000000\nmean       0.488193\nstd        0.331450\nmin        0.000000\n25%        0.333333\n50%        0.488193\n75%        0.666667\nmax        1.666667\nName: FAS_scaled, dtype: float64"
     },
     "execution_count": 14,
     "metadata": {},
     "output_type": "execute_result"
    }
   ],
   "source": [
    "# Overall Mean FAS score\n",
    "class_df_com['FAS_scaled'].describe()"
   ],
   "metadata": {
    "collapsed": false,
    "pycharm": {
     "name": "#%%\n"
    }
   }
  },
  {
   "cell_type": "markdown",
   "source": [
    "# Create peer-nomination network"
   ],
   "metadata": {
    "collapsed": false,
    "pycharm": {
     "name": "#%% md\n"
    }
   }
  },
  {
   "cell_type": "code",
   "execution_count": 11,
   "outputs": [
    {
     "data": {
      "text/plain": "array([1605, 1606, 1607, 1608, 1609, 1610, 1611, 1612, 1614, 1615, 1617,\n       1620, 1623, 1625, 1626, 1627, 1630, 1631, 1632, 1633, 1636, 1637,\n       1639, 1640, 1641, 1642, 1645, 1651, 1653, 1654, 1656, 1717, 1719,\n       1723, 1733, 1736, 2262, 2263, 2265, 2266, 2267, 2268, 2270, 2271,\n       2275, 2276, 2277, 2278, 2280, 2281, 2282, 2283, 2858, 2859, 2860,\n       2862, 2863, 2865, 2866, 2868, 2869, 2872, 2873, 2875, 2877, 2880,\n       2882, 2883, 2885, 2886, 2887, 2890, 2891, 2894, 2897, 2898, 2899,\n       2900, 2901, 2902, 2903, 2904, 2905, 2906, 2908, 3317, 4364, 4425,\n       4427, 5011, 5013, 5014, 5015, 5016, 5017, 5018, 5020, 5021, 5022,\n       5023, 5024, 5027, 5028, 5029, 5031, 5032, 5033, 5034, 5038, 5039,\n       5040, 5070, 5071, 5075, 5076, 5078, 5080, 5081, 5083, 5084, 5085,\n       5087, 5092, 5094, 5095, 5096, 5099, 5157, 5159, 5161, 5162, 5163,\n       5164, 5165, 5166, 5167, 5168, 5169, 5170, 5174, 5176, 5177, 5179,\n       5181, 5182, 5184, 5187, 5189, 5190, 5191, 5192, 5193, 5195, 5197,\n       5199, 5200, 5201, 5203, 5204, 5205, 5206, 5207, 5208, 5209, 5210,\n       5213, 5215, 5216, 5217, 5218, 5219, 5220, 5221, 5222, 5224, 5225,\n       5226, 5227, 5228, 5430, 5431, 5432, 5433, 5434, 5435, 5436, 5437,\n       5438, 5439, 5440, 5443, 5444, 5445, 5446, 5447, 5448, 5449, 5450,\n       5451, 5452, 5453, 5454, 5456, 5457, 5458, 5459, 5460, 5462, 5463,\n       5464, 5467, 5468, 5469, 5470, 5471, 5472, 5473, 5474, 5475, 5476,\n       5478, 5479, 5480, 5481, 5482, 5483, 5834, 5835, 5836, 5837, 5838,\n       5839, 5840, 5841, 5842, 5843, 5845, 5846, 5848, 5849, 5850, 5851,\n       5853, 5854, 5855, 5856, 5858, 5863, 5864, 5865, 5867, 5868, 5869,\n       5871, 5872, 5874, 5875, 5878, 5879, 5880, 5882, 5885, 5886, 5887,\n       5893, 5894, 5897, 5898, 5901, 5905, 5906, 5907, 5911, 5914, 5915,\n       5916, 5918, 5919, 5920, 5922, 5923, 5924, 5925, 5926, 5927, 5928,\n       5929, 5930, 5931, 5932, 5933, 5936, 5937, 5938, 5939, 5940, 5941,\n       5942, 5943, 5945, 5946, 5949, 5950, 5951, 5952, 5954, 5955, 5956,\n       5957, 5958, 5959, 5960, 5961, 5962, 5964, 5966, 5967, 5968, 5969,\n       5970, 5972, 5973, 5975, 5976, 5979, 5980, 5981, 5982, 5983, 5984,\n       5985, 5988, 5991, 5992, 5993, 5994, 5995, 5996, 5997, 5999, 6001,\n       6002, 6003, 6005, 6006, 6007, 6010, 6011, 6012, 6013, 6015, 6016,\n       6017, 6019, 6020, 6021, 6023, 6024, 6025, 6026, 6028, 6029, 6030,\n       6031, 6033, 6035, 6037, 6038, 6039, 6040, 6041, 6042, 6044, 6045,\n       6046, 6047, 6048, 6049, 6051, 6052, 6053, 6054, 6055, 6060, 6062,\n       6063, 6064, 6065, 6066, 6067, 6068, 6069, 6070, 6071, 6073, 6074,\n       6076, 6077, 6078, 6079, 6080, 6081, 6082, 6085, 6086, 6088, 6089,\n       6090])"
     },
     "execution_count": 11,
     "metadata": {},
     "output_type": "execute_result"
    }
   ],
   "source": [
    "# Only select alters present in the class of the child (i.e. participant)\n",
    "df_nom4 = []\n",
    "for cl in df_nom3['Class'].unique():\n",
    "    df_temp = df_nom3[df_nom3.Class.isin([cl])]\n",
    "    children_in_class = df_temp.Child.unique()\n",
    "    df_temp = df_temp[df_temp.Alter.isin(children_in_class)]\n",
    "    df_nom4.append(df_temp)\n",
    "\n",
    "df_nom4 = pd.concat(df_nom4)\n",
    "df_nom3.Child.unique()"
   ],
   "metadata": {
    "collapsed": false,
    "pycharm": {
     "name": "#%%\n"
    }
   }
  },
  {
   "cell_type": "code",
   "execution_count": 12,
   "outputs": [
    {
     "data": {
      "text/plain": "     ChildID  Out-degree\n0       1605          18\n1       1606          13\n2       1607           8\n3       1608          18\n4       1609           7\n..       ...         ...\n403     6085           5\n404     6086           6\n405     6088          10\n406     6089          11\n407     6090          10\n\n[408 rows x 2 columns]",
      "text/html": "<div>\n<style scoped>\n    .dataframe tbody tr th:only-of-type {\n        vertical-align: middle;\n    }\n\n    .dataframe tbody tr th {\n        vertical-align: top;\n    }\n\n    .dataframe thead th {\n        text-align: right;\n    }\n</style>\n<table border=\"1\" class=\"dataframe\">\n  <thead>\n    <tr style=\"text-align: right;\">\n      <th></th>\n      <th>ChildID</th>\n      <th>Out-degree</th>\n    </tr>\n  </thead>\n  <tbody>\n    <tr>\n      <th>0</th>\n      <td>1605</td>\n      <td>18</td>\n    </tr>\n    <tr>\n      <th>1</th>\n      <td>1606</td>\n      <td>13</td>\n    </tr>\n    <tr>\n      <th>2</th>\n      <td>1607</td>\n      <td>8</td>\n    </tr>\n    <tr>\n      <th>3</th>\n      <td>1608</td>\n      <td>18</td>\n    </tr>\n    <tr>\n      <th>4</th>\n      <td>1609</td>\n      <td>7</td>\n    </tr>\n    <tr>\n      <th>...</th>\n      <td>...</td>\n      <td>...</td>\n    </tr>\n    <tr>\n      <th>403</th>\n      <td>6085</td>\n      <td>5</td>\n    </tr>\n    <tr>\n      <th>404</th>\n      <td>6086</td>\n      <td>6</td>\n    </tr>\n    <tr>\n      <th>405</th>\n      <td>6088</td>\n      <td>10</td>\n    </tr>\n    <tr>\n      <th>406</th>\n      <td>6089</td>\n      <td>11</td>\n    </tr>\n    <tr>\n      <th>407</th>\n      <td>6090</td>\n      <td>10</td>\n    </tr>\n  </tbody>\n</table>\n<p>408 rows × 2 columns</p>\n</div>"
     },
     "execution_count": 12,
     "metadata": {},
     "output_type": "execute_result"
    }
   ],
   "source": [
    "# Create the edges in the graph\n",
    "peer_nominations_network = nx.DiGraph()\n",
    "\n",
    "# Read questions to use\n",
    "formula = json.loads(open('../input/connections_gen.json').read())\n",
    "\n",
    "# Sum of all questions\n",
    "max_score = sum(formula.values())\n",
    "\n",
    "# Create a dictionary with the connections and weights\n",
    "connections_dict = {}\n",
    "for child in selected_participants:\n",
    "    connections_dict[child] = {}\n",
    "\n",
    "# create newtwork based on unique child ids\n",
    "for cl in df_nom3['Class'].unique():\n",
    "    children = df_nom3[df_nom3.Class.isin([cl])].Child.unique()\n",
    "    for key in children:\n",
    "        peer_nominations_network.add_node(key)\n",
    "\n",
    "# To avoid repetition of nominations in different waves\n",
    "nominations_list = []\n",
    "for line in df_nom4[['Child', 'Alter', 'Variable']].iterrows():\n",
    "    (child, alter, var) = line[1]\n",
    "    # Verify if nominated is in the list of participants (pp)\n",
    "    if alter in selected_participants and (child, alter, var) not in nominations_list:\n",
    "        # Add value in the key\n",
    "        connections_dict[child][alter] = connections_dict[child].get(alter, 0) + 1*formula[var]\n",
    "        nominations_list.append((child, alter, var))\n",
    "\n",
    "# Make a dataframe and normalize the values for the edges\n",
    "connections_df = pd.DataFrame(connections_dict).fillna(0)/max_score\n",
    "connections_dict = connections_df.to_dict()\n",
    "\n",
    "\n",
    "df_connections_nomination = []\n",
    "for node in connections_dict.items():\n",
    "    child = node[0]\n",
    "    alter = node[1]\n",
    "    for alt, weight in alter.items():\n",
    "        if weight > 0:\n",
    "            peer_nominations_network.add_edge(child, alt, weight=weight)\n",
    "            df_connections_nomination.append([child, alt, weight])\n",
    "\n",
    "\n",
    "df_connections_nomination = pd.DataFrame(df_connections_nomination, columns = [\"ChildID\", \"AlterID\", \"Weight\"])\n",
    "\n",
    "class_df = df_nom3[['Child', 'Class']].drop_duplicates()\n",
    "class_df.index = class_df['Child']\n",
    "class_dict = class_df['Class'].to_dict()\n",
    "\n",
    "\n",
    "\n",
    "nx.set_node_attributes(peer_nominations_network, class_dict, 'Class')\n",
    "\n",
    "pd.DataFrame(peer_nominations_network.out_degree(), columns = ['ChildID', \"Out-degree\"])\n",
    "\n",
    "#peer_nominations_network.number_of_nodes()\n",
    "\n",
    "#df_connections_nomination"
   ],
   "metadata": {
    "collapsed": false,
    "pycharm": {
     "name": "#%%\n"
    }
   }
  },
  {
   "cell_type": "markdown",
   "source": [
    "# Create Online Communication Network"
   ],
   "metadata": {
    "collapsed": false,
    "pycharm": {
     "name": "#%% md\n"
    }
   }
  },
  {
   "cell_type": "code",
   "execution_count": 15,
   "outputs": [
    {
     "data": {
      "text/plain": "array([5863., 5864., 5865., 5867., 5868., 5869., 5871., 5872., 5874.,\n       5875., 5878., 5879., 5880., 5882., 5885., 5886., 5887., 5893.,\n       5894., 5897., 5898., 5901., 5905., 5906., 5907., 5911., 5914.,\n       5915., 5916., 5918., 5919., 5920., 5922., 2262., 2263., 2266.,\n       2267., 2268., 2270., 2271., 2275., 2276., 2277., 2278., 2280.,\n       2281., 2282., 2283., 3317., 4425., 4427., 6030., 2265., 5972.,\n       5973., 5975., 5979., 5980., 5981., 5982., 5983., 5984., 5985.,\n       5988., 5991., 5992., 5993., 5994., 5995., 5996., 5997., 5976.,\n       5999., 6001., 6002., 6003., 6005., 6006., 6007., 6010., 6011.,\n       6012., 6013., 6015., 6016., 6017., 6019., 6020., 6021., 6023.,\n       6024., 6025., 6026., 6028., 6029., 2858., 2859., 2860., 2862.,\n       2863., 2865., 2866., 2868., 2869., 2872., 2873., 2875., 2877.,\n       2880., 2882., 2883., 2885., 5945., 5946., 5949., 5950., 5951.,\n       5952., 5954., 5955., 5956., 5957., 5958., 5959., 5960., 5961.,\n       5962., 5964., 5966., 5967., 5968., 5969., 5970., 5923., 5924.,\n       5925., 5926., 5927., 5928., 5929., 5930., 5931., 5932., 5933.,\n       5936., 5937., 5938., 5939., 5940., 5941., 5942., 5943., 6060.,\n       6062., 6063., 6064., 6065., 6066., 6067., 6068., 6069., 6070.,\n       6071., 6073., 6074., 6076., 6077., 6078., 6079., 6080., 6081.,\n       6082., 6085., 6086., 6088., 6089., 6090., 2886., 2887., 2890.,\n       2891., 2894., 2897., 2898., 2899., 2900., 2901., 2902., 2903.,\n       2904., 2905., 2906., 2908., 1605., 1606., 1607., 1608., 1609.,\n       1610., 1611., 1612., 1614., 1615., 1617., 1620., 1623., 1625.,\n       1626., 1627., 1630., 1631., 1632., 5430., 5431., 5432., 5433.,\n       5434., 5435., 5436., 5437., 5438., 5439., 5440., 5443., 5444.,\n       5445., 5446., 5447., 5448., 5449., 5450., 5451., 5452., 5453.,\n       5454., 6031., 5456., 5457., 5458., 5459., 5460., 5462., 5463.,\n       5464., 5467., 5468., 5469., 5470., 5471., 5472., 5473., 5474.,\n       5475., 5476., 5478., 5479., 5480., 5481., 5482., 5483., 1633.,\n       1636., 1637., 1639., 1640., 1641., 1642., 1645., 1651., 1653.,\n       1654., 1656., 1717., 1719., 1723., 1733., 1736., 4364., 5834.,\n       5835., 5836., 5837., 5838., 5839., 5840., 5841., 5842., 5843.,\n       5845., 5846., 5848., 5849., 5850., 5851., 5853., 5854., 5855.,\n       5856., 5858., 5157., 5159., 5161., 5162., 5163., 5164., 5165.,\n       5166., 5167., 5168., 5169., 5170., 5174., 5176., 5177., 5179.,\n       5181., 5182., 5184., 5187., 5189., 5190., 5191., 5192., 5193.,\n       5195., 5197., 5199., 5200., 5201., 5203., 5204., 5205., 5206.,\n       5207., 5208., 5209., 5210., 5213., 5215., 5216., 5217., 5218.,\n       5219., 5220., 5221., 5222., 5224., 5225., 5226., 5227., 5228.,\n       6033., 6035., 6037., 6038., 6039., 6040., 6041., 6042., 6044.,\n       6045., 6046., 6047., 6048., 6049., 6051., 6052., 6053., 6054.,\n       6055., 5011., 5013., 5014., 5015., 5016., 5017., 5018., 5020.,\n       5021., 5022., 5023., 5024., 5027., 5028., 5029., 5031., 5032.,\n       5033., 5034., 5038., 5039., 5040., 5070., 5071., 5075., 5076.,\n       5078., 5080., 5081., 5083., 5084., 5085., 5087., 5092., 5094.,\n       5095., 5096., 5099.])"
     },
     "execution_count": 15,
     "metadata": {},
     "output_type": "execute_result"
    }
   ],
   "source": [
    "# Rename RecipientChild ID\n",
    "alter = []\n",
    "for part in df_com3['RecipientChild']:\n",
    "    alter.append(float(str(part)[-6:]))\n",
    "\n",
    "df_com3['Alter'] = alter\n",
    "df_com3[['Class', 'Child', 'Participant', 'RecipientChild', 'Alter']]\n",
    "\n",
    "\n",
    "# Only select alters present in the class of the child (i.e. participant)\n",
    "df_com4 = []\n",
    "for cl in df_com3['Class'].unique():\n",
    "    df_temp = df_com3[df_com3.Class.isin([cl])]\n",
    "    children_in_class = df_temp.Child.unique()\n",
    "    df_temp = df_temp[df_temp.Alter.isin(children_in_class)]\n",
    "    df_com4.append(df_temp)\n",
    "\n",
    "df_com4 = pd.concat(df_com4)\n",
    "df_com3.Child.unique()\n"
   ],
   "metadata": {
    "collapsed": false,
    "pycharm": {
     "name": "#%%\n"
    }
   }
  },
  {
   "cell_type": "code",
   "execution_count": 16,
   "outputs": [
    {
     "data": {
      "text/plain": "408"
     },
     "execution_count": 16,
     "metadata": {},
     "output_type": "execute_result"
    }
   ],
   "source": [
    "# Create Network\n",
    "\n",
    "online_communication_network = nx.DiGraph()\n",
    "\n",
    "df_connections_communication = []\n",
    "#create the connections - edges\n",
    "for cl in df_com4['Class'].unique():\n",
    "    # participants in a class\n",
    "    df_temp = df_com4[df_com4.Class.isin([cl])]\n",
    "\n",
    "    children = df_com3[df_com3.Class.isin([cl])].Child.unique()\n",
    "    for key in children:\n",
    "        online_communication_network.add_node(key)\n",
    "\n",
    "    # Number of messages sent by Participant to Recipient Child\n",
    "    df_temp = df_temp.groupby([\"Child\",\"Alter\"])[\"UMID\"].count().reset_index(name='NumberMessages')\n",
    "\n",
    "    # Weight: Number of messages per participant divided by total number of messages sent in a class\n",
    "    df_temp['Weight'] = df_temp['NumberMessages']/max(df_temp['NumberMessages'])\n",
    "\n",
    "    for index, row in df_temp.iterrows():\n",
    "        online_communication_network.add_edge(row[0], row[1], weight=row[3])\n",
    "        df_connections_communication.append([row[0], row[1], row[3]])\n",
    "\n",
    "# class per participant\n",
    "class_df = df_com3[['Child', 'Class']].drop_duplicates()\n",
    "class_df.index = class_df['Child']\n",
    "class_dict = class_df['Class'].to_dict()\n",
    "\n",
    "nx.set_node_attributes(online_communication_network, class_dict, 'Class')\n",
    "\n",
    "df_connections_communication = pd.DataFrame(df_connections_communication, columns = [\"ChildID\", \"AlterID\", \"Weight\"])\n",
    "\n",
    "df_connections_communication\n",
    "\n",
    "online_communication_network.number_of_nodes()"
   ],
   "metadata": {
    "collapsed": false,
    "pycharm": {
     "name": "#%%\n"
    }
   }
  },
  {
   "cell_type": "markdown",
   "source": [
    "# Peer-nomination Descriptives"
   ],
   "metadata": {
    "collapsed": false,
    "pycharm": {
     "name": "#%% md\n"
    }
   }
  },
  {
   "cell_type": "code",
   "execution_count": 20,
   "outputs": [
    {
     "data": {
      "text/plain": "      School  Class  Child  Gender  Age  PI  Wave_x                 Variable  \\\n0         29     81   1605       1   14   0       5               GEN_Advice   \n2         29     81   1605       1   14   0       5               GEN_Advice   \n4         29     81   1605       1   14   0       5               GEN_Leader   \n5         29     81   1605       1   14   0       5               GEN_Leader   \n6         29     81   1605       1   14   0       5               GEN_Leader   \n...      ...    ...    ...     ...  ...  ..     ...                      ...   \n8259      58    303   6090       0   11   0       5  GEN_Social_Facilitation   \n8260      58    303   6090       0   11   0       5  GEN_Social_Facilitation   \n8262      58    303   6090       0   11   0       5  GEN_Social_Facilitation   \n8263      58    303   6090       0   11   0       5  GEN_Social_Facilitation   \n8264      58    303   6090       0   11   0       5               GEN_Want2B   \n\n      Alter  Wave_y    Steps  Steps_scaled  FAS_scaled  \n0      1606       5   6744.4       0.67444    0.583333  \n2      1617       5   6744.4       0.67444    0.583333  \n4      1606       5   6744.4       0.67444    0.583333  \n5      1607       5   6744.4       0.67444    0.583333  \n6      1608       5   6744.4       0.67444    0.583333  \n...     ...     ...      ...           ...         ...  \n8259   6077       5  10386.8       1.03868    0.583333  \n8260   6078       5  10386.8       1.03868    0.583333  \n8262   6085       5  10386.8       1.03868    0.583333  \n8263   6086       5  10386.8       1.03868    0.583333  \n8264   6068       5  10386.8       1.03868    0.583333  \n\n[6070 rows x 13 columns]",
      "text/html": "<div>\n<style scoped>\n    .dataframe tbody tr th:only-of-type {\n        vertical-align: middle;\n    }\n\n    .dataframe tbody tr th {\n        vertical-align: top;\n    }\n\n    .dataframe thead th {\n        text-align: right;\n    }\n</style>\n<table border=\"1\" class=\"dataframe\">\n  <thead>\n    <tr style=\"text-align: right;\">\n      <th></th>\n      <th>School</th>\n      <th>Class</th>\n      <th>Child</th>\n      <th>Gender</th>\n      <th>Age</th>\n      <th>PI</th>\n      <th>Wave_x</th>\n      <th>Variable</th>\n      <th>Alter</th>\n      <th>Wave_y</th>\n      <th>Steps</th>\n      <th>Steps_scaled</th>\n      <th>FAS_scaled</th>\n    </tr>\n  </thead>\n  <tbody>\n    <tr>\n      <th>0</th>\n      <td>29</td>\n      <td>81</td>\n      <td>1605</td>\n      <td>1</td>\n      <td>14</td>\n      <td>0</td>\n      <td>5</td>\n      <td>GEN_Advice</td>\n      <td>1606</td>\n      <td>5</td>\n      <td>6744.4</td>\n      <td>0.67444</td>\n      <td>0.583333</td>\n    </tr>\n    <tr>\n      <th>2</th>\n      <td>29</td>\n      <td>81</td>\n      <td>1605</td>\n      <td>1</td>\n      <td>14</td>\n      <td>0</td>\n      <td>5</td>\n      <td>GEN_Advice</td>\n      <td>1617</td>\n      <td>5</td>\n      <td>6744.4</td>\n      <td>0.67444</td>\n      <td>0.583333</td>\n    </tr>\n    <tr>\n      <th>4</th>\n      <td>29</td>\n      <td>81</td>\n      <td>1605</td>\n      <td>1</td>\n      <td>14</td>\n      <td>0</td>\n      <td>5</td>\n      <td>GEN_Leader</td>\n      <td>1606</td>\n      <td>5</td>\n      <td>6744.4</td>\n      <td>0.67444</td>\n      <td>0.583333</td>\n    </tr>\n    <tr>\n      <th>5</th>\n      <td>29</td>\n      <td>81</td>\n      <td>1605</td>\n      <td>1</td>\n      <td>14</td>\n      <td>0</td>\n      <td>5</td>\n      <td>GEN_Leader</td>\n      <td>1607</td>\n      <td>5</td>\n      <td>6744.4</td>\n      <td>0.67444</td>\n      <td>0.583333</td>\n    </tr>\n    <tr>\n      <th>6</th>\n      <td>29</td>\n      <td>81</td>\n      <td>1605</td>\n      <td>1</td>\n      <td>14</td>\n      <td>0</td>\n      <td>5</td>\n      <td>GEN_Leader</td>\n      <td>1608</td>\n      <td>5</td>\n      <td>6744.4</td>\n      <td>0.67444</td>\n      <td>0.583333</td>\n    </tr>\n    <tr>\n      <th>...</th>\n      <td>...</td>\n      <td>...</td>\n      <td>...</td>\n      <td>...</td>\n      <td>...</td>\n      <td>...</td>\n      <td>...</td>\n      <td>...</td>\n      <td>...</td>\n      <td>...</td>\n      <td>...</td>\n      <td>...</td>\n      <td>...</td>\n    </tr>\n    <tr>\n      <th>8259</th>\n      <td>58</td>\n      <td>303</td>\n      <td>6090</td>\n      <td>0</td>\n      <td>11</td>\n      <td>0</td>\n      <td>5</td>\n      <td>GEN_Social_Facilitation</td>\n      <td>6077</td>\n      <td>5</td>\n      <td>10386.8</td>\n      <td>1.03868</td>\n      <td>0.583333</td>\n    </tr>\n    <tr>\n      <th>8260</th>\n      <td>58</td>\n      <td>303</td>\n      <td>6090</td>\n      <td>0</td>\n      <td>11</td>\n      <td>0</td>\n      <td>5</td>\n      <td>GEN_Social_Facilitation</td>\n      <td>6078</td>\n      <td>5</td>\n      <td>10386.8</td>\n      <td>1.03868</td>\n      <td>0.583333</td>\n    </tr>\n    <tr>\n      <th>8262</th>\n      <td>58</td>\n      <td>303</td>\n      <td>6090</td>\n      <td>0</td>\n      <td>11</td>\n      <td>0</td>\n      <td>5</td>\n      <td>GEN_Social_Facilitation</td>\n      <td>6085</td>\n      <td>5</td>\n      <td>10386.8</td>\n      <td>1.03868</td>\n      <td>0.583333</td>\n    </tr>\n    <tr>\n      <th>8263</th>\n      <td>58</td>\n      <td>303</td>\n      <td>6090</td>\n      <td>0</td>\n      <td>11</td>\n      <td>0</td>\n      <td>5</td>\n      <td>GEN_Social_Facilitation</td>\n      <td>6086</td>\n      <td>5</td>\n      <td>10386.8</td>\n      <td>1.03868</td>\n      <td>0.583333</td>\n    </tr>\n    <tr>\n      <th>8264</th>\n      <td>58</td>\n      <td>303</td>\n      <td>6090</td>\n      <td>0</td>\n      <td>11</td>\n      <td>0</td>\n      <td>5</td>\n      <td>GEN_Want2B</td>\n      <td>6068</td>\n      <td>5</td>\n      <td>10386.8</td>\n      <td>1.03868</td>\n      <td>0.583333</td>\n    </tr>\n  </tbody>\n</table>\n<p>6070 rows × 13 columns</p>\n</div>"
     },
     "execution_count": 20,
     "metadata": {},
     "output_type": "execute_result"
    }
   ],
   "source": [
    "# Number of nominations\n",
    "df_number_nominations_given = df_nom4.groupby(['Class','Child'])['Variable'].count().reset_index(name=\"NumNominations\")\n",
    "df_number_nominations_given['NumNominations'].describe()\n",
    "\n",
    "df_nom4"
   ],
   "metadata": {
    "collapsed": false,
    "pycharm": {
     "name": "#%%\n"
    }
   }
  },
  {
   "cell_type": "code",
   "execution_count": 21,
   "outputs": [
    {
     "data": {
      "text/plain": "    Class  TotalNominations\n0      78               148\n1      81               288\n2     100               297\n3     124               331\n4     125               207\n5     256               270\n6     258               156\n7     261               242\n8     262               146\n9     263               276\n10    272               473\n11    273               588\n12    292               248\n13    296               241\n14    297               156\n15    298               339\n16    299               363\n17    300               271\n18    301               311\n19    302               294\n20    303               425",
      "text/html": "<div>\n<style scoped>\n    .dataframe tbody tr th:only-of-type {\n        vertical-align: middle;\n    }\n\n    .dataframe tbody tr th {\n        vertical-align: top;\n    }\n\n    .dataframe thead th {\n        text-align: right;\n    }\n</style>\n<table border=\"1\" class=\"dataframe\">\n  <thead>\n    <tr style=\"text-align: right;\">\n      <th></th>\n      <th>Class</th>\n      <th>TotalNominations</th>\n    </tr>\n  </thead>\n  <tbody>\n    <tr>\n      <th>0</th>\n      <td>78</td>\n      <td>148</td>\n    </tr>\n    <tr>\n      <th>1</th>\n      <td>81</td>\n      <td>288</td>\n    </tr>\n    <tr>\n      <th>2</th>\n      <td>100</td>\n      <td>297</td>\n    </tr>\n    <tr>\n      <th>3</th>\n      <td>124</td>\n      <td>331</td>\n    </tr>\n    <tr>\n      <th>4</th>\n      <td>125</td>\n      <td>207</td>\n    </tr>\n    <tr>\n      <th>5</th>\n      <td>256</td>\n      <td>270</td>\n    </tr>\n    <tr>\n      <th>6</th>\n      <td>258</td>\n      <td>156</td>\n    </tr>\n    <tr>\n      <th>7</th>\n      <td>261</td>\n      <td>242</td>\n    </tr>\n    <tr>\n      <th>8</th>\n      <td>262</td>\n      <td>146</td>\n    </tr>\n    <tr>\n      <th>9</th>\n      <td>263</td>\n      <td>276</td>\n    </tr>\n    <tr>\n      <th>10</th>\n      <td>272</td>\n      <td>473</td>\n    </tr>\n    <tr>\n      <th>11</th>\n      <td>273</td>\n      <td>588</td>\n    </tr>\n    <tr>\n      <th>12</th>\n      <td>292</td>\n      <td>248</td>\n    </tr>\n    <tr>\n      <th>13</th>\n      <td>296</td>\n      <td>241</td>\n    </tr>\n    <tr>\n      <th>14</th>\n      <td>297</td>\n      <td>156</td>\n    </tr>\n    <tr>\n      <th>15</th>\n      <td>298</td>\n      <td>339</td>\n    </tr>\n    <tr>\n      <th>16</th>\n      <td>299</td>\n      <td>363</td>\n    </tr>\n    <tr>\n      <th>17</th>\n      <td>300</td>\n      <td>271</td>\n    </tr>\n    <tr>\n      <th>18</th>\n      <td>301</td>\n      <td>311</td>\n    </tr>\n    <tr>\n      <th>19</th>\n      <td>302</td>\n      <td>294</td>\n    </tr>\n    <tr>\n      <th>20</th>\n      <td>303</td>\n      <td>425</td>\n    </tr>\n  </tbody>\n</table>\n</div>"
     },
     "execution_count": 21,
     "metadata": {},
     "output_type": "execute_result"
    }
   ],
   "source": [
    "# peer-nominations by class\n",
    "df_number_nominations_given.groupby('Class')['NumNominations'].sum().reset_index(name=\"TotalNominations\")\n",
    "\n"
   ],
   "metadata": {
    "collapsed": false,
    "pycharm": {
     "name": "#%%\n"
    }
   }
  },
  {
   "cell_type": "code",
   "execution_count": 17,
   "outputs": [
    {
     "data": {
      "text/plain": "6070"
     },
     "execution_count": 17,
     "metadata": {},
     "output_type": "execute_result"
    }
   ],
   "source": [
    "# Total peer-nominations\n",
    "df_number_nominations_given['NumNominations'].sum()"
   ],
   "metadata": {
    "collapsed": false,
    "pycharm": {
     "name": "#%%\n"
    }
   }
  },
  {
   "cell_type": "code",
   "execution_count": 22,
   "outputs": [
    {
     "data": {
      "text/plain": "       count       mean       std  min   25%   50%    75%   max\nClass                                                          \n78      17.0   6.705882  3.368321  3.0  5.00   5.0   7.00  16.0\n81      19.0   9.684211  5.044828  3.0  6.00   8.0  14.00  18.0\n100     19.0   9.000000  4.654747  1.0  5.50   9.0  11.00  18.0\n124     17.0  10.647059  3.920159  4.0  9.00  10.0  14.00  16.0\n125     16.0   8.250000  4.464676  2.0  4.00   7.5  11.25  15.0\n256     22.0   7.000000  4.070802  1.0  4.25   6.0   8.00  21.0\n258     15.0   6.800000  2.541091  2.0  5.00   8.0   8.50  10.0\n261     17.0   8.058824  4.892221  1.0  4.00   9.0  10.00  16.0\n262     15.0   5.533333  1.457330  3.0  5.00   5.0   6.00   9.0\n263     20.0   8.150000  4.055860  3.0  5.75   7.5  10.25  19.0\n272     24.0  12.666667  5.953929  4.0  7.00  12.0  16.00  23.0\n273     24.0  14.375000  7.125048  4.0  8.50  13.0  23.00  23.0\n292     21.0   7.523810  4.534524  2.0  4.00   6.0  12.00  17.0\n296     17.0   8.882353  4.166569  2.0  5.00   8.0  12.00  16.0\n297     16.0   7.187500  3.936475  2.0  3.00   8.5   9.00  15.0\n298     21.0   9.714286  3.579705  4.0  6.00  11.0  12.00  17.0\n299     18.0  11.277778  4.443178  4.0  9.00   9.5  13.75  18.0\n300     19.0   9.052632  5.038449  2.0  5.50   7.0  12.00  18.0\n301     24.0   9.000000  4.845437  2.0  4.75   8.5  13.00  19.0\n302     19.0   9.368421  4.437348  4.0  7.00   7.0  12.50  18.0\n303     25.0  11.720000  5.638558  5.0  8.00  10.0  13.00  24.0",
      "text/html": "<div>\n<style scoped>\n    .dataframe tbody tr th:only-of-type {\n        vertical-align: middle;\n    }\n\n    .dataframe tbody tr th {\n        vertical-align: top;\n    }\n\n    .dataframe thead th {\n        text-align: right;\n    }\n</style>\n<table border=\"1\" class=\"dataframe\">\n  <thead>\n    <tr style=\"text-align: right;\">\n      <th></th>\n      <th>count</th>\n      <th>mean</th>\n      <th>std</th>\n      <th>min</th>\n      <th>25%</th>\n      <th>50%</th>\n      <th>75%</th>\n      <th>max</th>\n    </tr>\n    <tr>\n      <th>Class</th>\n      <th></th>\n      <th></th>\n      <th></th>\n      <th></th>\n      <th></th>\n      <th></th>\n      <th></th>\n      <th></th>\n    </tr>\n  </thead>\n  <tbody>\n    <tr>\n      <th>78</th>\n      <td>17.0</td>\n      <td>6.705882</td>\n      <td>3.368321</td>\n      <td>3.0</td>\n      <td>5.00</td>\n      <td>5.0</td>\n      <td>7.00</td>\n      <td>16.0</td>\n    </tr>\n    <tr>\n      <th>81</th>\n      <td>19.0</td>\n      <td>9.684211</td>\n      <td>5.044828</td>\n      <td>3.0</td>\n      <td>6.00</td>\n      <td>8.0</td>\n      <td>14.00</td>\n      <td>18.0</td>\n    </tr>\n    <tr>\n      <th>100</th>\n      <td>19.0</td>\n      <td>9.000000</td>\n      <td>4.654747</td>\n      <td>1.0</td>\n      <td>5.50</td>\n      <td>9.0</td>\n      <td>11.00</td>\n      <td>18.0</td>\n    </tr>\n    <tr>\n      <th>124</th>\n      <td>17.0</td>\n      <td>10.647059</td>\n      <td>3.920159</td>\n      <td>4.0</td>\n      <td>9.00</td>\n      <td>10.0</td>\n      <td>14.00</td>\n      <td>16.0</td>\n    </tr>\n    <tr>\n      <th>125</th>\n      <td>16.0</td>\n      <td>8.250000</td>\n      <td>4.464676</td>\n      <td>2.0</td>\n      <td>4.00</td>\n      <td>7.5</td>\n      <td>11.25</td>\n      <td>15.0</td>\n    </tr>\n    <tr>\n      <th>256</th>\n      <td>22.0</td>\n      <td>7.000000</td>\n      <td>4.070802</td>\n      <td>1.0</td>\n      <td>4.25</td>\n      <td>6.0</td>\n      <td>8.00</td>\n      <td>21.0</td>\n    </tr>\n    <tr>\n      <th>258</th>\n      <td>15.0</td>\n      <td>6.800000</td>\n      <td>2.541091</td>\n      <td>2.0</td>\n      <td>5.00</td>\n      <td>8.0</td>\n      <td>8.50</td>\n      <td>10.0</td>\n    </tr>\n    <tr>\n      <th>261</th>\n      <td>17.0</td>\n      <td>8.058824</td>\n      <td>4.892221</td>\n      <td>1.0</td>\n      <td>4.00</td>\n      <td>9.0</td>\n      <td>10.00</td>\n      <td>16.0</td>\n    </tr>\n    <tr>\n      <th>262</th>\n      <td>15.0</td>\n      <td>5.533333</td>\n      <td>1.457330</td>\n      <td>3.0</td>\n      <td>5.00</td>\n      <td>5.0</td>\n      <td>6.00</td>\n      <td>9.0</td>\n    </tr>\n    <tr>\n      <th>263</th>\n      <td>20.0</td>\n      <td>8.150000</td>\n      <td>4.055860</td>\n      <td>3.0</td>\n      <td>5.75</td>\n      <td>7.5</td>\n      <td>10.25</td>\n      <td>19.0</td>\n    </tr>\n    <tr>\n      <th>272</th>\n      <td>24.0</td>\n      <td>12.666667</td>\n      <td>5.953929</td>\n      <td>4.0</td>\n      <td>7.00</td>\n      <td>12.0</td>\n      <td>16.00</td>\n      <td>23.0</td>\n    </tr>\n    <tr>\n      <th>273</th>\n      <td>24.0</td>\n      <td>14.375000</td>\n      <td>7.125048</td>\n      <td>4.0</td>\n      <td>8.50</td>\n      <td>13.0</td>\n      <td>23.00</td>\n      <td>23.0</td>\n    </tr>\n    <tr>\n      <th>292</th>\n      <td>21.0</td>\n      <td>7.523810</td>\n      <td>4.534524</td>\n      <td>2.0</td>\n      <td>4.00</td>\n      <td>6.0</td>\n      <td>12.00</td>\n      <td>17.0</td>\n    </tr>\n    <tr>\n      <th>296</th>\n      <td>17.0</td>\n      <td>8.882353</td>\n      <td>4.166569</td>\n      <td>2.0</td>\n      <td>5.00</td>\n      <td>8.0</td>\n      <td>12.00</td>\n      <td>16.0</td>\n    </tr>\n    <tr>\n      <th>297</th>\n      <td>16.0</td>\n      <td>7.187500</td>\n      <td>3.936475</td>\n      <td>2.0</td>\n      <td>3.00</td>\n      <td>8.5</td>\n      <td>9.00</td>\n      <td>15.0</td>\n    </tr>\n    <tr>\n      <th>298</th>\n      <td>21.0</td>\n      <td>9.714286</td>\n      <td>3.579705</td>\n      <td>4.0</td>\n      <td>6.00</td>\n      <td>11.0</td>\n      <td>12.00</td>\n      <td>17.0</td>\n    </tr>\n    <tr>\n      <th>299</th>\n      <td>18.0</td>\n      <td>11.277778</td>\n      <td>4.443178</td>\n      <td>4.0</td>\n      <td>9.00</td>\n      <td>9.5</td>\n      <td>13.75</td>\n      <td>18.0</td>\n    </tr>\n    <tr>\n      <th>300</th>\n      <td>19.0</td>\n      <td>9.052632</td>\n      <td>5.038449</td>\n      <td>2.0</td>\n      <td>5.50</td>\n      <td>7.0</td>\n      <td>12.00</td>\n      <td>18.0</td>\n    </tr>\n    <tr>\n      <th>301</th>\n      <td>24.0</td>\n      <td>9.000000</td>\n      <td>4.845437</td>\n      <td>2.0</td>\n      <td>4.75</td>\n      <td>8.5</td>\n      <td>13.00</td>\n      <td>19.0</td>\n    </tr>\n    <tr>\n      <th>302</th>\n      <td>19.0</td>\n      <td>9.368421</td>\n      <td>4.437348</td>\n      <td>4.0</td>\n      <td>7.00</td>\n      <td>7.0</td>\n      <td>12.50</td>\n      <td>18.0</td>\n    </tr>\n    <tr>\n      <th>303</th>\n      <td>25.0</td>\n      <td>11.720000</td>\n      <td>5.638558</td>\n      <td>5.0</td>\n      <td>8.00</td>\n      <td>10.0</td>\n      <td>13.00</td>\n      <td>24.0</td>\n    </tr>\n  </tbody>\n</table>\n</div>"
     },
     "execution_count": 22,
     "metadata": {},
     "output_type": "execute_result"
    }
   ],
   "source": [
    "# Mean number of connections per class\n",
    "#df_number_nominations_given.groupby('Class')['NumNominations'].describe()\n",
    "df_nom_connections = df_nom4.groupby(['Class', 'Child', 'Alter']).size().reset_index(name=\"Size\")\n",
    "df_nom_connections2 = df_nom_connections.groupby(['Class', 'Child']).size().reset_index(name=\"NumConnections\")\n",
    "df_nom_connections2.groupby('Class')['NumConnections'].describe()\n"
   ],
   "metadata": {
    "collapsed": false,
    "pycharm": {
     "name": "#%%\n"
    }
   }
  },
  {
   "cell_type": "code",
   "execution_count": 23,
   "outputs": [
    {
     "data": {
      "text/plain": "count    405.000000\nmean       9.283951\nstd        5.036094\nmin        1.000000\n25%        5.000000\n50%        8.000000\n75%       12.000000\nmax       24.000000\nName: NumConnections, dtype: float64"
     },
     "execution_count": 23,
     "metadata": {},
     "output_type": "execute_result"
    }
   ],
   "source": [
    "# Mean number of connections Total\n",
    "df_nom_connections2['NumConnections'].describe()\n"
   ],
   "metadata": {
    "collapsed": false,
    "pycharm": {
     "name": "#%%\n"
    }
   }
  },
  {
   "cell_type": "code",
   "execution_count": 24,
   "outputs": [],
   "source": [
    "# Weight of connections\n",
    "\n",
    "class_list = input_args['classes']\n",
    "\n",
    "class_dictionary = {}\n",
    "for c in class_list:\n",
    "    class_dictionary[c] = []\n",
    "\n",
    "for node, key in peer_nominations_network.nodes.data('Class'):\n",
    "    if key in class_dictionary:\n",
    "        class_dictionary[int(key)].append(node)\n",
    "\n",
    "list_subgraphs_nom = []\n",
    "for c in class_list:\n",
    "    subgraph = peer_nominations_network.subgraph(class_dictionary[c]).copy()\n",
    "    subgraph.graph['Class']=c\n",
    "    list_subgraphs_nom.append(subgraph)\n",
    "\n",
    "population_list = []\n",
    "node_data_list = []\n",
    "for subgraph in list_subgraphs_nom:\n",
    "    dict_in_degree = dict(nx.in_degree_centrality(subgraph))\n",
    "    dict_closeness = dict(nx.closeness_centrality(subgraph))\n",
    "    dict_betweenness = dict(nx.betweenness_centrality(subgraph))\n",
    "    total_agents = subgraph.number_of_nodes()\n",
    "\n",
    "    for nodedata in subgraph.nodes().data():\n",
    "        #calculating the average weight\n",
    "        num_edges = len(subgraph.edges(nodedata[0],data=True))\n",
    "        avg_weight = 0\n",
    "        if(num_edges > 0):\n",
    "            for (u, v, wt) in subgraph.edges(nodedata[0],data=True):\n",
    "                avg_weight = avg_weight +  wt['weight']\n",
    "\n",
    "            avg_weight = avg_weight/num_edges\n",
    "\n",
    "        #participant-level data\n",
    "        node_data_list.append([nodedata[0], nodedata[1]['Class'], num_edges, dict_in_degree[nodedata[0]], dict_closeness[nodedata[0]],dict_betweenness[nodedata[0]],avg_weight])\n",
    "\n",
    "    #population level data\n",
    "    population_list.append([nodedata[1]['Class'], subgraph.number_of_edges(), round(nx.density(subgraph),2)])\n",
    "\n",
    "#create the dataframes\n",
    "df_class_nom = pd.DataFrame(population_list, columns = [\"SchoolClassID\", \"NumberConnections\", \"Density\"])\n",
    "\n",
    "df_participant_nom = pd.DataFrame(node_data_list, columns = [\"ParticipantID\",\"SchoolClassID\", \"num_edges\", \"InDegree\", \"Closeness\", \"Betweenness\", \"Average_Weight\"])\n"
   ],
   "metadata": {
    "collapsed": false,
    "pycharm": {
     "name": "#%%\n"
    }
   }
  },
  {
   "cell_type": "code",
   "execution_count": 25,
   "outputs": [
    {
     "data": {
      "text/plain": "3760"
     },
     "execution_count": 25,
     "metadata": {},
     "output_type": "execute_result"
    }
   ],
   "source": [
    "\n",
    "df_participant_nom.groupby('SchoolClassID')['num_edges'].sum()\n",
    "\n",
    "df_participant_nom['num_edges'].sum()\n",
    "\n"
   ],
   "metadata": {
    "collapsed": false,
    "pycharm": {
     "name": "#%%\n"
    }
   }
  },
  {
   "cell_type": "code",
   "execution_count": 26,
   "outputs": [
    {
     "data": {
      "text/plain": "               count      mean       std       min       25%       50%  \\\nSchoolClassID                                                            \n78              18.0  0.310070  0.095897  0.000000  0.287202  0.300000   \n81              19.0  0.383636  0.061920  0.250000  0.346875  0.392857   \n100             19.0  0.415977  0.106049  0.250000  0.337121  0.375000   \n124             17.0  0.448661  0.090836  0.285714  0.384615  0.450000   \n125             16.0  0.377755  0.076806  0.250000  0.320617  0.375000   \n256             22.0  0.439558  0.110731  0.250000  0.358766  0.432292   \n258             16.0  0.357999  0.128956  0.000000  0.334201  0.366071   \n261             17.0  0.403617  0.130615  0.250000  0.312500  0.375000   \n262             15.0  0.434021  0.122020  0.250000  0.362500  0.400000   \n263             20.0  0.434598  0.131843  0.250000  0.331731  0.420833   \n272             24.0  0.389204  0.114987  0.285714  0.321429  0.352484   \n273             24.0  0.429831  0.089517  0.304348  0.365909  0.410714   \n292             21.0  0.430484  0.150040  0.250000  0.312500  0.392857   \n296             17.0  0.404726  0.136022  0.250000  0.318182  0.354167   \n297             16.0  0.348324  0.088091  0.250000  0.278846  0.333333   \n298             21.0  0.412987  0.088102  0.291667  0.333333  0.409091   \n299             19.0  0.432168  0.145688  0.000000  0.394444  0.428571   \n300             19.0  0.385700  0.072231  0.250000  0.343254  0.392857   \n301             24.0  0.356288  0.070412  0.250000  0.312500  0.333333   \n302             19.0  0.405924  0.082572  0.291667  0.357143  0.388889   \n303             25.0  0.363510  0.076847  0.250000  0.303571  0.363636   \n\n                    75%       max  \nSchoolClassID                      \n78             0.387500  0.416667  \n81             0.416667  0.513889  \n100            0.509615  0.625000  \n124            0.500000  0.625000  \n125            0.412202  0.566667  \n256            0.518750  0.666667  \n258            0.411111  0.583333  \n261            0.454545  0.765625  \n262            0.506944  0.708333  \n263            0.476562  0.729167  \n272            0.408854  0.729167  \n273            0.484375  0.611111  \n292            0.500000  0.750000  \n296            0.450000  0.696429  \n297            0.416667  0.500000  \n298            0.454545  0.616667  \n299            0.486111  0.750000  \n300            0.430195  0.527778  \n301            0.400000  0.541667  \n302            0.462500  0.625000  \n303            0.392857  0.583333  ",
      "text/html": "<div>\n<style scoped>\n    .dataframe tbody tr th:only-of-type {\n        vertical-align: middle;\n    }\n\n    .dataframe tbody tr th {\n        vertical-align: top;\n    }\n\n    .dataframe thead th {\n        text-align: right;\n    }\n</style>\n<table border=\"1\" class=\"dataframe\">\n  <thead>\n    <tr style=\"text-align: right;\">\n      <th></th>\n      <th>count</th>\n      <th>mean</th>\n      <th>std</th>\n      <th>min</th>\n      <th>25%</th>\n      <th>50%</th>\n      <th>75%</th>\n      <th>max</th>\n    </tr>\n    <tr>\n      <th>SchoolClassID</th>\n      <th></th>\n      <th></th>\n      <th></th>\n      <th></th>\n      <th></th>\n      <th></th>\n      <th></th>\n      <th></th>\n    </tr>\n  </thead>\n  <tbody>\n    <tr>\n      <th>78</th>\n      <td>18.0</td>\n      <td>0.310070</td>\n      <td>0.095897</td>\n      <td>0.000000</td>\n      <td>0.287202</td>\n      <td>0.300000</td>\n      <td>0.387500</td>\n      <td>0.416667</td>\n    </tr>\n    <tr>\n      <th>81</th>\n      <td>19.0</td>\n      <td>0.383636</td>\n      <td>0.061920</td>\n      <td>0.250000</td>\n      <td>0.346875</td>\n      <td>0.392857</td>\n      <td>0.416667</td>\n      <td>0.513889</td>\n    </tr>\n    <tr>\n      <th>100</th>\n      <td>19.0</td>\n      <td>0.415977</td>\n      <td>0.106049</td>\n      <td>0.250000</td>\n      <td>0.337121</td>\n      <td>0.375000</td>\n      <td>0.509615</td>\n      <td>0.625000</td>\n    </tr>\n    <tr>\n      <th>124</th>\n      <td>17.0</td>\n      <td>0.448661</td>\n      <td>0.090836</td>\n      <td>0.285714</td>\n      <td>0.384615</td>\n      <td>0.450000</td>\n      <td>0.500000</td>\n      <td>0.625000</td>\n    </tr>\n    <tr>\n      <th>125</th>\n      <td>16.0</td>\n      <td>0.377755</td>\n      <td>0.076806</td>\n      <td>0.250000</td>\n      <td>0.320617</td>\n      <td>0.375000</td>\n      <td>0.412202</td>\n      <td>0.566667</td>\n    </tr>\n    <tr>\n      <th>256</th>\n      <td>22.0</td>\n      <td>0.439558</td>\n      <td>0.110731</td>\n      <td>0.250000</td>\n      <td>0.358766</td>\n      <td>0.432292</td>\n      <td>0.518750</td>\n      <td>0.666667</td>\n    </tr>\n    <tr>\n      <th>258</th>\n      <td>16.0</td>\n      <td>0.357999</td>\n      <td>0.128956</td>\n      <td>0.000000</td>\n      <td>0.334201</td>\n      <td>0.366071</td>\n      <td>0.411111</td>\n      <td>0.583333</td>\n    </tr>\n    <tr>\n      <th>261</th>\n      <td>17.0</td>\n      <td>0.403617</td>\n      <td>0.130615</td>\n      <td>0.250000</td>\n      <td>0.312500</td>\n      <td>0.375000</td>\n      <td>0.454545</td>\n      <td>0.765625</td>\n    </tr>\n    <tr>\n      <th>262</th>\n      <td>15.0</td>\n      <td>0.434021</td>\n      <td>0.122020</td>\n      <td>0.250000</td>\n      <td>0.362500</td>\n      <td>0.400000</td>\n      <td>0.506944</td>\n      <td>0.708333</td>\n    </tr>\n    <tr>\n      <th>263</th>\n      <td>20.0</td>\n      <td>0.434598</td>\n      <td>0.131843</td>\n      <td>0.250000</td>\n      <td>0.331731</td>\n      <td>0.420833</td>\n      <td>0.476562</td>\n      <td>0.729167</td>\n    </tr>\n    <tr>\n      <th>272</th>\n      <td>24.0</td>\n      <td>0.389204</td>\n      <td>0.114987</td>\n      <td>0.285714</td>\n      <td>0.321429</td>\n      <td>0.352484</td>\n      <td>0.408854</td>\n      <td>0.729167</td>\n    </tr>\n    <tr>\n      <th>273</th>\n      <td>24.0</td>\n      <td>0.429831</td>\n      <td>0.089517</td>\n      <td>0.304348</td>\n      <td>0.365909</td>\n      <td>0.410714</td>\n      <td>0.484375</td>\n      <td>0.611111</td>\n    </tr>\n    <tr>\n      <th>292</th>\n      <td>21.0</td>\n      <td>0.430484</td>\n      <td>0.150040</td>\n      <td>0.250000</td>\n      <td>0.312500</td>\n      <td>0.392857</td>\n      <td>0.500000</td>\n      <td>0.750000</td>\n    </tr>\n    <tr>\n      <th>296</th>\n      <td>17.0</td>\n      <td>0.404726</td>\n      <td>0.136022</td>\n      <td>0.250000</td>\n      <td>0.318182</td>\n      <td>0.354167</td>\n      <td>0.450000</td>\n      <td>0.696429</td>\n    </tr>\n    <tr>\n      <th>297</th>\n      <td>16.0</td>\n      <td>0.348324</td>\n      <td>0.088091</td>\n      <td>0.250000</td>\n      <td>0.278846</td>\n      <td>0.333333</td>\n      <td>0.416667</td>\n      <td>0.500000</td>\n    </tr>\n    <tr>\n      <th>298</th>\n      <td>21.0</td>\n      <td>0.412987</td>\n      <td>0.088102</td>\n      <td>0.291667</td>\n      <td>0.333333</td>\n      <td>0.409091</td>\n      <td>0.454545</td>\n      <td>0.616667</td>\n    </tr>\n    <tr>\n      <th>299</th>\n      <td>19.0</td>\n      <td>0.432168</td>\n      <td>0.145688</td>\n      <td>0.000000</td>\n      <td>0.394444</td>\n      <td>0.428571</td>\n      <td>0.486111</td>\n      <td>0.750000</td>\n    </tr>\n    <tr>\n      <th>300</th>\n      <td>19.0</td>\n      <td>0.385700</td>\n      <td>0.072231</td>\n      <td>0.250000</td>\n      <td>0.343254</td>\n      <td>0.392857</td>\n      <td>0.430195</td>\n      <td>0.527778</td>\n    </tr>\n    <tr>\n      <th>301</th>\n      <td>24.0</td>\n      <td>0.356288</td>\n      <td>0.070412</td>\n      <td>0.250000</td>\n      <td>0.312500</td>\n      <td>0.333333</td>\n      <td>0.400000</td>\n      <td>0.541667</td>\n    </tr>\n    <tr>\n      <th>302</th>\n      <td>19.0</td>\n      <td>0.405924</td>\n      <td>0.082572</td>\n      <td>0.291667</td>\n      <td>0.357143</td>\n      <td>0.388889</td>\n      <td>0.462500</td>\n      <td>0.625000</td>\n    </tr>\n    <tr>\n      <th>303</th>\n      <td>25.0</td>\n      <td>0.363510</td>\n      <td>0.076847</td>\n      <td>0.250000</td>\n      <td>0.303571</td>\n      <td>0.363636</td>\n      <td>0.392857</td>\n      <td>0.583333</td>\n    </tr>\n  </tbody>\n</table>\n</div>"
     },
     "execution_count": 26,
     "metadata": {},
     "output_type": "execute_result"
    }
   ],
   "source": [
    "# Weight of connection by class\n",
    "df_participant_nom.groupby('SchoolClassID')['Average_Weight'].describe()"
   ],
   "metadata": {
    "collapsed": false,
    "pycharm": {
     "name": "#%%\n"
    }
   }
  },
  {
   "cell_type": "code",
   "execution_count": 27,
   "outputs": [
    {
     "data": {
      "text/plain": "count    408.000000\nmean       0.398581\nstd        0.108919\nmin        0.000000\n25%        0.326923\n50%        0.375000\n75%        0.450781\nmax        0.765625\nName: Average_Weight, dtype: float64"
     },
     "execution_count": 27,
     "metadata": {},
     "output_type": "execute_result"
    }
   ],
   "source": [
    "# Weight of connection (total)\n",
    "df_participant_nom['Average_Weight'].describe()\n"
   ],
   "metadata": {
    "collapsed": false,
    "pycharm": {
     "name": "#%%\n"
    }
   }
  },
  {
   "cell_type": "code",
   "execution_count": 28,
   "outputs": [
    {
     "data": {
      "text/plain": "               count  mean  std   min   25%   50%   75%   max\nSchoolClassID                                                \n78               1.0  0.37  NaN  0.37  0.37  0.37  0.37  0.37\n81               1.0  0.54  NaN  0.54  0.54  0.54  0.54  0.54\n100              1.0  0.50  NaN  0.50  0.50  0.50  0.50  0.50\n124              1.0  0.67  NaN  0.67  0.67  0.67  0.67  0.67\n125              1.0  0.55  NaN  0.55  0.55  0.55  0.55  0.55\n256              1.0  0.33  NaN  0.33  0.33  0.33  0.33  0.33\n258              1.0  0.42  NaN  0.42  0.42  0.42  0.42  0.42\n261              1.0  0.50  NaN  0.50  0.50  0.50  0.50  0.50\n262              1.0  0.40  NaN  0.40  0.40  0.40  0.40  0.40\n263              1.0  0.43  NaN  0.43  0.43  0.43  0.43  0.43\n272              1.0  0.55  NaN  0.55  0.55  0.55  0.55  0.55\n273              1.0  0.62  NaN  0.62  0.62  0.62  0.62  0.62\n292              1.0  0.38  NaN  0.38  0.38  0.38  0.38  0.38\n296              1.0  0.56  NaN  0.56  0.56  0.56  0.56  0.56\n297              1.0  0.48  NaN  0.48  0.48  0.48  0.48  0.48\n298              1.0  0.49  NaN  0.49  0.49  0.49  0.49  0.49\n299              1.0  0.59  NaN  0.59  0.59  0.59  0.59  0.59\n300              1.0  0.50  NaN  0.50  0.50  0.50  0.50  0.50\n301              1.0  0.39  NaN  0.39  0.39  0.39  0.39  0.39\n302              1.0  0.52  NaN  0.52  0.52  0.52  0.52  0.52\n303              1.0  0.49  NaN  0.49  0.49  0.49  0.49  0.49",
      "text/html": "<div>\n<style scoped>\n    .dataframe tbody tr th:only-of-type {\n        vertical-align: middle;\n    }\n\n    .dataframe tbody tr th {\n        vertical-align: top;\n    }\n\n    .dataframe thead th {\n        text-align: right;\n    }\n</style>\n<table border=\"1\" class=\"dataframe\">\n  <thead>\n    <tr style=\"text-align: right;\">\n      <th></th>\n      <th>count</th>\n      <th>mean</th>\n      <th>std</th>\n      <th>min</th>\n      <th>25%</th>\n      <th>50%</th>\n      <th>75%</th>\n      <th>max</th>\n    </tr>\n    <tr>\n      <th>SchoolClassID</th>\n      <th></th>\n      <th></th>\n      <th></th>\n      <th></th>\n      <th></th>\n      <th></th>\n      <th></th>\n      <th></th>\n    </tr>\n  </thead>\n  <tbody>\n    <tr>\n      <th>78</th>\n      <td>1.0</td>\n      <td>0.37</td>\n      <td>NaN</td>\n      <td>0.37</td>\n      <td>0.37</td>\n      <td>0.37</td>\n      <td>0.37</td>\n      <td>0.37</td>\n    </tr>\n    <tr>\n      <th>81</th>\n      <td>1.0</td>\n      <td>0.54</td>\n      <td>NaN</td>\n      <td>0.54</td>\n      <td>0.54</td>\n      <td>0.54</td>\n      <td>0.54</td>\n      <td>0.54</td>\n    </tr>\n    <tr>\n      <th>100</th>\n      <td>1.0</td>\n      <td>0.50</td>\n      <td>NaN</td>\n      <td>0.50</td>\n      <td>0.50</td>\n      <td>0.50</td>\n      <td>0.50</td>\n      <td>0.50</td>\n    </tr>\n    <tr>\n      <th>124</th>\n      <td>1.0</td>\n      <td>0.67</td>\n      <td>NaN</td>\n      <td>0.67</td>\n      <td>0.67</td>\n      <td>0.67</td>\n      <td>0.67</td>\n      <td>0.67</td>\n    </tr>\n    <tr>\n      <th>125</th>\n      <td>1.0</td>\n      <td>0.55</td>\n      <td>NaN</td>\n      <td>0.55</td>\n      <td>0.55</td>\n      <td>0.55</td>\n      <td>0.55</td>\n      <td>0.55</td>\n    </tr>\n    <tr>\n      <th>256</th>\n      <td>1.0</td>\n      <td>0.33</td>\n      <td>NaN</td>\n      <td>0.33</td>\n      <td>0.33</td>\n      <td>0.33</td>\n      <td>0.33</td>\n      <td>0.33</td>\n    </tr>\n    <tr>\n      <th>258</th>\n      <td>1.0</td>\n      <td>0.42</td>\n      <td>NaN</td>\n      <td>0.42</td>\n      <td>0.42</td>\n      <td>0.42</td>\n      <td>0.42</td>\n      <td>0.42</td>\n    </tr>\n    <tr>\n      <th>261</th>\n      <td>1.0</td>\n      <td>0.50</td>\n      <td>NaN</td>\n      <td>0.50</td>\n      <td>0.50</td>\n      <td>0.50</td>\n      <td>0.50</td>\n      <td>0.50</td>\n    </tr>\n    <tr>\n      <th>262</th>\n      <td>1.0</td>\n      <td>0.40</td>\n      <td>NaN</td>\n      <td>0.40</td>\n      <td>0.40</td>\n      <td>0.40</td>\n      <td>0.40</td>\n      <td>0.40</td>\n    </tr>\n    <tr>\n      <th>263</th>\n      <td>1.0</td>\n      <td>0.43</td>\n      <td>NaN</td>\n      <td>0.43</td>\n      <td>0.43</td>\n      <td>0.43</td>\n      <td>0.43</td>\n      <td>0.43</td>\n    </tr>\n    <tr>\n      <th>272</th>\n      <td>1.0</td>\n      <td>0.55</td>\n      <td>NaN</td>\n      <td>0.55</td>\n      <td>0.55</td>\n      <td>0.55</td>\n      <td>0.55</td>\n      <td>0.55</td>\n    </tr>\n    <tr>\n      <th>273</th>\n      <td>1.0</td>\n      <td>0.62</td>\n      <td>NaN</td>\n      <td>0.62</td>\n      <td>0.62</td>\n      <td>0.62</td>\n      <td>0.62</td>\n      <td>0.62</td>\n    </tr>\n    <tr>\n      <th>292</th>\n      <td>1.0</td>\n      <td>0.38</td>\n      <td>NaN</td>\n      <td>0.38</td>\n      <td>0.38</td>\n      <td>0.38</td>\n      <td>0.38</td>\n      <td>0.38</td>\n    </tr>\n    <tr>\n      <th>296</th>\n      <td>1.0</td>\n      <td>0.56</td>\n      <td>NaN</td>\n      <td>0.56</td>\n      <td>0.56</td>\n      <td>0.56</td>\n      <td>0.56</td>\n      <td>0.56</td>\n    </tr>\n    <tr>\n      <th>297</th>\n      <td>1.0</td>\n      <td>0.48</td>\n      <td>NaN</td>\n      <td>0.48</td>\n      <td>0.48</td>\n      <td>0.48</td>\n      <td>0.48</td>\n      <td>0.48</td>\n    </tr>\n    <tr>\n      <th>298</th>\n      <td>1.0</td>\n      <td>0.49</td>\n      <td>NaN</td>\n      <td>0.49</td>\n      <td>0.49</td>\n      <td>0.49</td>\n      <td>0.49</td>\n      <td>0.49</td>\n    </tr>\n    <tr>\n      <th>299</th>\n      <td>1.0</td>\n      <td>0.59</td>\n      <td>NaN</td>\n      <td>0.59</td>\n      <td>0.59</td>\n      <td>0.59</td>\n      <td>0.59</td>\n      <td>0.59</td>\n    </tr>\n    <tr>\n      <th>300</th>\n      <td>1.0</td>\n      <td>0.50</td>\n      <td>NaN</td>\n      <td>0.50</td>\n      <td>0.50</td>\n      <td>0.50</td>\n      <td>0.50</td>\n      <td>0.50</td>\n    </tr>\n    <tr>\n      <th>301</th>\n      <td>1.0</td>\n      <td>0.39</td>\n      <td>NaN</td>\n      <td>0.39</td>\n      <td>0.39</td>\n      <td>0.39</td>\n      <td>0.39</td>\n      <td>0.39</td>\n    </tr>\n    <tr>\n      <th>302</th>\n      <td>1.0</td>\n      <td>0.52</td>\n      <td>NaN</td>\n      <td>0.52</td>\n      <td>0.52</td>\n      <td>0.52</td>\n      <td>0.52</td>\n      <td>0.52</td>\n    </tr>\n    <tr>\n      <th>303</th>\n      <td>1.0</td>\n      <td>0.49</td>\n      <td>NaN</td>\n      <td>0.49</td>\n      <td>0.49</td>\n      <td>0.49</td>\n      <td>0.49</td>\n      <td>0.49</td>\n    </tr>\n  </tbody>\n</table>\n</div>"
     },
     "execution_count": 28,
     "metadata": {},
     "output_type": "execute_result"
    }
   ],
   "source": [
    "# density by class\n",
    "df_class_nom.groupby('SchoolClassID')['Density'].describe()"
   ],
   "metadata": {
    "collapsed": false,
    "pycharm": {
     "name": "#%%\n"
    }
   }
  },
  {
   "cell_type": "code",
   "execution_count": 29,
   "outputs": [
    {
     "data": {
      "text/plain": "count    21.000000\nmean      0.489524\nstd       0.087720\nmin       0.330000\n25%       0.420000\n50%       0.500000\n75%       0.550000\nmax       0.670000\nName: Density, dtype: float64"
     },
     "execution_count": 29,
     "metadata": {},
     "output_type": "execute_result"
    }
   ],
   "source": [
    "# density by class (overall)\n",
    "df_class_nom['Density'].describe()"
   ],
   "metadata": {
    "collapsed": false,
    "pycharm": {
     "name": "#%%\n"
    }
   }
  },
  {
   "cell_type": "code",
   "execution_count": 30,
   "outputs": [
    {
     "name": "stderr",
     "output_type": "stream",
     "text": [
      "/Users/davidblok/.pyenv/versions/3.7.0/lib/python3.7/site-packages/ipykernel_launcher.py:2: FutureWarning: Indexing with multiple keys (implicitly converted to a tuple of keys) will be deprecated, use a list instead.\n",
      "  \n"
     ]
    },
    {
     "data": {
      "text/plain": "              InDegree                                                    \\\n                 count      mean       std       min       25%       50%   \nSchoolClassID                                                              \n78                18.0  0.372549  0.112337  0.176471  0.308824  0.352941   \n81                19.0  0.538012  0.108064  0.388889  0.444444  0.555556   \n100               19.0  0.500000  0.159302  0.166667  0.416667  0.500000   \n124               17.0  0.665441  0.192563  0.125000  0.625000  0.687500   \n125               16.0  0.550000  0.140897  0.333333  0.466667  0.533333   \n256               22.0  0.333333  0.089390  0.142857  0.285714  0.333333   \n258               16.0  0.425000  0.230780  0.133333  0.133333  0.566667   \n261               17.0  0.503676  0.125916  0.250000  0.437500  0.500000   \n262               15.0  0.395238  0.217437  0.142857  0.250000  0.357143   \n263               20.0  0.428947  0.134754  0.210526  0.355263  0.421053   \n272               24.0  0.550725  0.105466  0.391304  0.434783  0.565217   \n273               24.0  0.625000  0.115967  0.478261  0.521739  0.608696   \n292               21.0  0.376190  0.124116  0.100000  0.350000  0.400000   \n296               17.0  0.555147  0.189935  0.125000  0.500000  0.562500   \n297               16.0  0.479167  0.136015  0.266667  0.400000  0.500000   \n298               21.0  0.485714  0.121597  0.300000  0.350000  0.550000   \n299               19.0  0.593567  0.128370  0.444444  0.500000  0.555556   \n300               19.0  0.502924  0.176144  0.222222  0.388889  0.444444   \n301               24.0  0.391304  0.130749  0.173913  0.293478  0.391304   \n302               19.0  0.520468  0.124516  0.222222  0.444444  0.500000   \n303               25.0  0.488333  0.101721  0.291667  0.416667  0.500000   \n\n                                  Closeness            ...            \\\n                    75%       max     count      mean  ...       75%   \nSchoolClassID                                          ...             \n78             0.411765  0.588235      18.0  0.572578  ...  0.596561   \n81             0.638889  0.722222      19.0  0.685283  ...  0.735000   \n100            0.611111  0.722222      19.0  0.647174  ...  0.679487   \n124            0.812500  0.875000      17.0  0.762336  ...  0.842105   \n125            0.600000  0.866667      16.0  0.693391  ...  0.714286   \n256            0.380952  0.476190      22.0  0.516636  ...  0.567568   \n258            0.600000  0.733333      16.0  0.427824  ...  0.522667   \n261            0.562500  0.750000      17.0  0.596991  ...  0.615385   \n262            0.500000  0.928571      15.0  0.548941  ...  0.666667   \n263            0.539474  0.684211      20.0  0.593646  ...  0.638793   \n272            0.652174  0.739130      24.0  0.692114  ...  0.741935   \n273            0.663043  0.913043      24.0  0.732668  ...  0.748118   \n292            0.450000  0.550000      21.0  0.554687  ...  0.606061   \n296            0.625000  0.875000      17.0  0.701885  ...  0.727273   \n297            0.600000  0.666667      16.0  0.578628  ...  0.610795   \n298            0.550000  0.700000      21.0  0.643953  ...  0.689655   \n299            0.666667  0.944444      19.0  0.697118  ...  0.739899   \n300            0.638889  0.833333      19.0  0.670229  ...  0.735000   \n301            0.489130  0.608696      24.0  0.595070  ...  0.625938   \n302            0.611111  0.722222      19.0  0.680341  ...  0.720000   \n303            0.541667  0.708333      25.0  0.664472  ...  0.685714   \n\n                        Betweenness                                          \\\n                    max       count      mean       std       min       25%   \nSchoolClassID                                                                 \n78             0.684492        18.0  0.039216  0.068398  0.000000  0.009624   \n81             0.782609        19.0  0.027520  0.024832  0.002682  0.008896   \n100            0.782609        19.0  0.033368  0.045729  0.000000  0.006401   \n124            0.888889        17.0  0.022304  0.024820  0.000000  0.004282   \n125            0.882353        16.0  0.032738  0.038255  0.002937  0.005813   \n256            0.656250        22.0  0.049134  0.063311  0.000000  0.004663   \n258            0.789474        16.0  0.039286  0.061616  0.000000  0.000000   \n261            0.761905        17.0  0.045833  0.073774  0.000521  0.007986   \n262            0.933333        15.0  0.076923  0.079108  0.000000  0.013965   \n263            0.730769        20.0  0.039766  0.045039  0.000000  0.007432   \n272            0.793103        24.0  0.020586  0.017665  0.000247  0.007716   \n273            0.920000        24.0  0.017045  0.015026  0.000467  0.005693   \n292            0.666667        21.0  0.044361  0.043056  0.000668  0.011674   \n296            0.888889        17.0  0.029902  0.040862  0.000521  0.004167   \n297            0.666667        16.0  0.021429  0.030614  0.001587  0.005760   \n298            0.769231        21.0  0.030451  0.021703  0.005300  0.016878   \n299            0.944444        19.0  0.020812  0.032832  0.000000  0.001924   \n300            0.857143        19.0  0.030444  0.046508  0.000000  0.002167   \n301            0.696970        24.0  0.031785  0.026063  0.003853  0.010991   \n302            0.782609        19.0  0.028208  0.030503  0.003136  0.007575   \n303            0.774194        25.0  0.022246  0.027966  0.000302  0.007687   \n\n                                             \n                    50%       75%       max  \nSchoolClassID                                \n78             0.019706  0.036022  0.302100  \n81             0.014810  0.043487  0.080444  \n100            0.020732  0.037771  0.175000  \n124            0.014606  0.031238  0.081713  \n125            0.018475  0.044473  0.138764  \n256            0.008869  0.096976  0.169708  \n258            0.007234  0.052449  0.204762  \n261            0.010243  0.062500  0.288681  \n262            0.059524  0.116712  0.272253  \n263            0.021273  0.054431  0.169087  \n272            0.013648  0.027784  0.064389  \n273            0.011591  0.027682  0.053943  \n292            0.031023  0.074797  0.173820  \n296            0.007619  0.038689  0.139794  \n297            0.009836  0.019106  0.112931  \n298            0.025944  0.045821  0.093562  \n299            0.006143  0.026183  0.131672  \n300            0.017533  0.032724  0.196623  \n301            0.027953  0.040840  0.112498  \n302            0.019351  0.028373  0.114667  \n303            0.012771  0.021505  0.105706  \n\n[21 rows x 24 columns]",
      "text/html": "<div>\n<style scoped>\n    .dataframe tbody tr th:only-of-type {\n        vertical-align: middle;\n    }\n\n    .dataframe tbody tr th {\n        vertical-align: top;\n    }\n\n    .dataframe thead tr th {\n        text-align: left;\n    }\n\n    .dataframe thead tr:last-of-type th {\n        text-align: right;\n    }\n</style>\n<table border=\"1\" class=\"dataframe\">\n  <thead>\n    <tr>\n      <th></th>\n      <th colspan=\"8\" halign=\"left\">InDegree</th>\n      <th colspan=\"5\" halign=\"left\">Closeness</th>\n      <th colspan=\"8\" halign=\"left\">Betweenness</th>\n    </tr>\n    <tr>\n      <th></th>\n      <th>count</th>\n      <th>mean</th>\n      <th>std</th>\n      <th>min</th>\n      <th>25%</th>\n      <th>50%</th>\n      <th>75%</th>\n      <th>max</th>\n      <th>count</th>\n      <th>mean</th>\n      <th>...</th>\n      <th>75%</th>\n      <th>max</th>\n      <th>count</th>\n      <th>mean</th>\n      <th>std</th>\n      <th>min</th>\n      <th>25%</th>\n      <th>50%</th>\n      <th>75%</th>\n      <th>max</th>\n    </tr>\n    <tr>\n      <th>SchoolClassID</th>\n      <th></th>\n      <th></th>\n      <th></th>\n      <th></th>\n      <th></th>\n      <th></th>\n      <th></th>\n      <th></th>\n      <th></th>\n      <th></th>\n      <th></th>\n      <th></th>\n      <th></th>\n      <th></th>\n      <th></th>\n      <th></th>\n      <th></th>\n      <th></th>\n      <th></th>\n      <th></th>\n      <th></th>\n    </tr>\n  </thead>\n  <tbody>\n    <tr>\n      <th>78</th>\n      <td>18.0</td>\n      <td>0.372549</td>\n      <td>0.112337</td>\n      <td>0.176471</td>\n      <td>0.308824</td>\n      <td>0.352941</td>\n      <td>0.411765</td>\n      <td>0.588235</td>\n      <td>18.0</td>\n      <td>0.572578</td>\n      <td>...</td>\n      <td>0.596561</td>\n      <td>0.684492</td>\n      <td>18.0</td>\n      <td>0.039216</td>\n      <td>0.068398</td>\n      <td>0.000000</td>\n      <td>0.009624</td>\n      <td>0.019706</td>\n      <td>0.036022</td>\n      <td>0.302100</td>\n    </tr>\n    <tr>\n      <th>81</th>\n      <td>19.0</td>\n      <td>0.538012</td>\n      <td>0.108064</td>\n      <td>0.388889</td>\n      <td>0.444444</td>\n      <td>0.555556</td>\n      <td>0.638889</td>\n      <td>0.722222</td>\n      <td>19.0</td>\n      <td>0.685283</td>\n      <td>...</td>\n      <td>0.735000</td>\n      <td>0.782609</td>\n      <td>19.0</td>\n      <td>0.027520</td>\n      <td>0.024832</td>\n      <td>0.002682</td>\n      <td>0.008896</td>\n      <td>0.014810</td>\n      <td>0.043487</td>\n      <td>0.080444</td>\n    </tr>\n    <tr>\n      <th>100</th>\n      <td>19.0</td>\n      <td>0.500000</td>\n      <td>0.159302</td>\n      <td>0.166667</td>\n      <td>0.416667</td>\n      <td>0.500000</td>\n      <td>0.611111</td>\n      <td>0.722222</td>\n      <td>19.0</td>\n      <td>0.647174</td>\n      <td>...</td>\n      <td>0.679487</td>\n      <td>0.782609</td>\n      <td>19.0</td>\n      <td>0.033368</td>\n      <td>0.045729</td>\n      <td>0.000000</td>\n      <td>0.006401</td>\n      <td>0.020732</td>\n      <td>0.037771</td>\n      <td>0.175000</td>\n    </tr>\n    <tr>\n      <th>124</th>\n      <td>17.0</td>\n      <td>0.665441</td>\n      <td>0.192563</td>\n      <td>0.125000</td>\n      <td>0.625000</td>\n      <td>0.687500</td>\n      <td>0.812500</td>\n      <td>0.875000</td>\n      <td>17.0</td>\n      <td>0.762336</td>\n      <td>...</td>\n      <td>0.842105</td>\n      <td>0.888889</td>\n      <td>17.0</td>\n      <td>0.022304</td>\n      <td>0.024820</td>\n      <td>0.000000</td>\n      <td>0.004282</td>\n      <td>0.014606</td>\n      <td>0.031238</td>\n      <td>0.081713</td>\n    </tr>\n    <tr>\n      <th>125</th>\n      <td>16.0</td>\n      <td>0.550000</td>\n      <td>0.140897</td>\n      <td>0.333333</td>\n      <td>0.466667</td>\n      <td>0.533333</td>\n      <td>0.600000</td>\n      <td>0.866667</td>\n      <td>16.0</td>\n      <td>0.693391</td>\n      <td>...</td>\n      <td>0.714286</td>\n      <td>0.882353</td>\n      <td>16.0</td>\n      <td>0.032738</td>\n      <td>0.038255</td>\n      <td>0.002937</td>\n      <td>0.005813</td>\n      <td>0.018475</td>\n      <td>0.044473</td>\n      <td>0.138764</td>\n    </tr>\n    <tr>\n      <th>256</th>\n      <td>22.0</td>\n      <td>0.333333</td>\n      <td>0.089390</td>\n      <td>0.142857</td>\n      <td>0.285714</td>\n      <td>0.333333</td>\n      <td>0.380952</td>\n      <td>0.476190</td>\n      <td>22.0</td>\n      <td>0.516636</td>\n      <td>...</td>\n      <td>0.567568</td>\n      <td>0.656250</td>\n      <td>22.0</td>\n      <td>0.049134</td>\n      <td>0.063311</td>\n      <td>0.000000</td>\n      <td>0.004663</td>\n      <td>0.008869</td>\n      <td>0.096976</td>\n      <td>0.169708</td>\n    </tr>\n    <tr>\n      <th>258</th>\n      <td>16.0</td>\n      <td>0.425000</td>\n      <td>0.230780</td>\n      <td>0.133333</td>\n      <td>0.133333</td>\n      <td>0.566667</td>\n      <td>0.600000</td>\n      <td>0.733333</td>\n      <td>16.0</td>\n      <td>0.427824</td>\n      <td>...</td>\n      <td>0.522667</td>\n      <td>0.789474</td>\n      <td>16.0</td>\n      <td>0.039286</td>\n      <td>0.061616</td>\n      <td>0.000000</td>\n      <td>0.000000</td>\n      <td>0.007234</td>\n      <td>0.052449</td>\n      <td>0.204762</td>\n    </tr>\n    <tr>\n      <th>261</th>\n      <td>17.0</td>\n      <td>0.503676</td>\n      <td>0.125916</td>\n      <td>0.250000</td>\n      <td>0.437500</td>\n      <td>0.500000</td>\n      <td>0.562500</td>\n      <td>0.750000</td>\n      <td>17.0</td>\n      <td>0.596991</td>\n      <td>...</td>\n      <td>0.615385</td>\n      <td>0.761905</td>\n      <td>17.0</td>\n      <td>0.045833</td>\n      <td>0.073774</td>\n      <td>0.000521</td>\n      <td>0.007986</td>\n      <td>0.010243</td>\n      <td>0.062500</td>\n      <td>0.288681</td>\n    </tr>\n    <tr>\n      <th>262</th>\n      <td>15.0</td>\n      <td>0.395238</td>\n      <td>0.217437</td>\n      <td>0.142857</td>\n      <td>0.250000</td>\n      <td>0.357143</td>\n      <td>0.500000</td>\n      <td>0.928571</td>\n      <td>15.0</td>\n      <td>0.548941</td>\n      <td>...</td>\n      <td>0.666667</td>\n      <td>0.933333</td>\n      <td>15.0</td>\n      <td>0.076923</td>\n      <td>0.079108</td>\n      <td>0.000000</td>\n      <td>0.013965</td>\n      <td>0.059524</td>\n      <td>0.116712</td>\n      <td>0.272253</td>\n    </tr>\n    <tr>\n      <th>263</th>\n      <td>20.0</td>\n      <td>0.428947</td>\n      <td>0.134754</td>\n      <td>0.210526</td>\n      <td>0.355263</td>\n      <td>0.421053</td>\n      <td>0.539474</td>\n      <td>0.684211</td>\n      <td>20.0</td>\n      <td>0.593646</td>\n      <td>...</td>\n      <td>0.638793</td>\n      <td>0.730769</td>\n      <td>20.0</td>\n      <td>0.039766</td>\n      <td>0.045039</td>\n      <td>0.000000</td>\n      <td>0.007432</td>\n      <td>0.021273</td>\n      <td>0.054431</td>\n      <td>0.169087</td>\n    </tr>\n    <tr>\n      <th>272</th>\n      <td>24.0</td>\n      <td>0.550725</td>\n      <td>0.105466</td>\n      <td>0.391304</td>\n      <td>0.434783</td>\n      <td>0.565217</td>\n      <td>0.652174</td>\n      <td>0.739130</td>\n      <td>24.0</td>\n      <td>0.692114</td>\n      <td>...</td>\n      <td>0.741935</td>\n      <td>0.793103</td>\n      <td>24.0</td>\n      <td>0.020586</td>\n      <td>0.017665</td>\n      <td>0.000247</td>\n      <td>0.007716</td>\n      <td>0.013648</td>\n      <td>0.027784</td>\n      <td>0.064389</td>\n    </tr>\n    <tr>\n      <th>273</th>\n      <td>24.0</td>\n      <td>0.625000</td>\n      <td>0.115967</td>\n      <td>0.478261</td>\n      <td>0.521739</td>\n      <td>0.608696</td>\n      <td>0.663043</td>\n      <td>0.913043</td>\n      <td>24.0</td>\n      <td>0.732668</td>\n      <td>...</td>\n      <td>0.748118</td>\n      <td>0.920000</td>\n      <td>24.0</td>\n      <td>0.017045</td>\n      <td>0.015026</td>\n      <td>0.000467</td>\n      <td>0.005693</td>\n      <td>0.011591</td>\n      <td>0.027682</td>\n      <td>0.053943</td>\n    </tr>\n    <tr>\n      <th>292</th>\n      <td>21.0</td>\n      <td>0.376190</td>\n      <td>0.124116</td>\n      <td>0.100000</td>\n      <td>0.350000</td>\n      <td>0.400000</td>\n      <td>0.450000</td>\n      <td>0.550000</td>\n      <td>21.0</td>\n      <td>0.554687</td>\n      <td>...</td>\n      <td>0.606061</td>\n      <td>0.666667</td>\n      <td>21.0</td>\n      <td>0.044361</td>\n      <td>0.043056</td>\n      <td>0.000668</td>\n      <td>0.011674</td>\n      <td>0.031023</td>\n      <td>0.074797</td>\n      <td>0.173820</td>\n    </tr>\n    <tr>\n      <th>296</th>\n      <td>17.0</td>\n      <td>0.555147</td>\n      <td>0.189935</td>\n      <td>0.125000</td>\n      <td>0.500000</td>\n      <td>0.562500</td>\n      <td>0.625000</td>\n      <td>0.875000</td>\n      <td>17.0</td>\n      <td>0.701885</td>\n      <td>...</td>\n      <td>0.727273</td>\n      <td>0.888889</td>\n      <td>17.0</td>\n      <td>0.029902</td>\n      <td>0.040862</td>\n      <td>0.000521</td>\n      <td>0.004167</td>\n      <td>0.007619</td>\n      <td>0.038689</td>\n      <td>0.139794</td>\n    </tr>\n    <tr>\n      <th>297</th>\n      <td>16.0</td>\n      <td>0.479167</td>\n      <td>0.136015</td>\n      <td>0.266667</td>\n      <td>0.400000</td>\n      <td>0.500000</td>\n      <td>0.600000</td>\n      <td>0.666667</td>\n      <td>16.0</td>\n      <td>0.578628</td>\n      <td>...</td>\n      <td>0.610795</td>\n      <td>0.666667</td>\n      <td>16.0</td>\n      <td>0.021429</td>\n      <td>0.030614</td>\n      <td>0.001587</td>\n      <td>0.005760</td>\n      <td>0.009836</td>\n      <td>0.019106</td>\n      <td>0.112931</td>\n    </tr>\n    <tr>\n      <th>298</th>\n      <td>21.0</td>\n      <td>0.485714</td>\n      <td>0.121597</td>\n      <td>0.300000</td>\n      <td>0.350000</td>\n      <td>0.550000</td>\n      <td>0.550000</td>\n      <td>0.700000</td>\n      <td>21.0</td>\n      <td>0.643953</td>\n      <td>...</td>\n      <td>0.689655</td>\n      <td>0.769231</td>\n      <td>21.0</td>\n      <td>0.030451</td>\n      <td>0.021703</td>\n      <td>0.005300</td>\n      <td>0.016878</td>\n      <td>0.025944</td>\n      <td>0.045821</td>\n      <td>0.093562</td>\n    </tr>\n    <tr>\n      <th>299</th>\n      <td>19.0</td>\n      <td>0.593567</td>\n      <td>0.128370</td>\n      <td>0.444444</td>\n      <td>0.500000</td>\n      <td>0.555556</td>\n      <td>0.666667</td>\n      <td>0.944444</td>\n      <td>19.0</td>\n      <td>0.697118</td>\n      <td>...</td>\n      <td>0.739899</td>\n      <td>0.944444</td>\n      <td>19.0</td>\n      <td>0.020812</td>\n      <td>0.032832</td>\n      <td>0.000000</td>\n      <td>0.001924</td>\n      <td>0.006143</td>\n      <td>0.026183</td>\n      <td>0.131672</td>\n    </tr>\n    <tr>\n      <th>300</th>\n      <td>19.0</td>\n      <td>0.502924</td>\n      <td>0.176144</td>\n      <td>0.222222</td>\n      <td>0.388889</td>\n      <td>0.444444</td>\n      <td>0.638889</td>\n      <td>0.833333</td>\n      <td>19.0</td>\n      <td>0.670229</td>\n      <td>...</td>\n      <td>0.735000</td>\n      <td>0.857143</td>\n      <td>19.0</td>\n      <td>0.030444</td>\n      <td>0.046508</td>\n      <td>0.000000</td>\n      <td>0.002167</td>\n      <td>0.017533</td>\n      <td>0.032724</td>\n      <td>0.196623</td>\n    </tr>\n    <tr>\n      <th>301</th>\n      <td>24.0</td>\n      <td>0.391304</td>\n      <td>0.130749</td>\n      <td>0.173913</td>\n      <td>0.293478</td>\n      <td>0.391304</td>\n      <td>0.489130</td>\n      <td>0.608696</td>\n      <td>24.0</td>\n      <td>0.595070</td>\n      <td>...</td>\n      <td>0.625938</td>\n      <td>0.696970</td>\n      <td>24.0</td>\n      <td>0.031785</td>\n      <td>0.026063</td>\n      <td>0.003853</td>\n      <td>0.010991</td>\n      <td>0.027953</td>\n      <td>0.040840</td>\n      <td>0.112498</td>\n    </tr>\n    <tr>\n      <th>302</th>\n      <td>19.0</td>\n      <td>0.520468</td>\n      <td>0.124516</td>\n      <td>0.222222</td>\n      <td>0.444444</td>\n      <td>0.500000</td>\n      <td>0.611111</td>\n      <td>0.722222</td>\n      <td>19.0</td>\n      <td>0.680341</td>\n      <td>...</td>\n      <td>0.720000</td>\n      <td>0.782609</td>\n      <td>19.0</td>\n      <td>0.028208</td>\n      <td>0.030503</td>\n      <td>0.003136</td>\n      <td>0.007575</td>\n      <td>0.019351</td>\n      <td>0.028373</td>\n      <td>0.114667</td>\n    </tr>\n    <tr>\n      <th>303</th>\n      <td>25.0</td>\n      <td>0.488333</td>\n      <td>0.101721</td>\n      <td>0.291667</td>\n      <td>0.416667</td>\n      <td>0.500000</td>\n      <td>0.541667</td>\n      <td>0.708333</td>\n      <td>25.0</td>\n      <td>0.664472</td>\n      <td>...</td>\n      <td>0.685714</td>\n      <td>0.774194</td>\n      <td>25.0</td>\n      <td>0.022246</td>\n      <td>0.027966</td>\n      <td>0.000302</td>\n      <td>0.007687</td>\n      <td>0.012771</td>\n      <td>0.021505</td>\n      <td>0.105706</td>\n    </tr>\n  </tbody>\n</table>\n<p>21 rows × 24 columns</p>\n</div>"
     },
     "execution_count": 30,
     "metadata": {},
     "output_type": "execute_result"
    }
   ],
   "source": [
    "# centrality measures\n",
    "df_participant_nom.groupby('SchoolClassID')['InDegree', 'Closeness', 'Betweenness'].describe()"
   ],
   "metadata": {
    "collapsed": false,
    "pycharm": {
     "name": "#%%\n"
    }
   }
  },
  {
   "cell_type": "code",
   "execution_count": 169,
   "outputs": [
    {
     "data": {
      "text/plain": "         InDegree   Closeness  Betweenness\ncount  405.000000  405.000000   405.000000\nmean     0.492288    0.637592     0.033302\nstd      0.163520    0.112681     0.044720\nmin      0.100000    0.163265     0.000000\n25%      0.388889    0.571429     0.006311\n50%      0.500000    0.642857     0.016353\n75%      0.608696    0.705882     0.040530\nmax      1.000000    1.000000     0.300366",
      "text/html": "<div>\n<style scoped>\n    .dataframe tbody tr th:only-of-type {\n        vertical-align: middle;\n    }\n\n    .dataframe tbody tr th {\n        vertical-align: top;\n    }\n\n    .dataframe thead th {\n        text-align: right;\n    }\n</style>\n<table border=\"1\" class=\"dataframe\">\n  <thead>\n    <tr style=\"text-align: right;\">\n      <th></th>\n      <th>InDegree</th>\n      <th>Closeness</th>\n      <th>Betweenness</th>\n    </tr>\n  </thead>\n  <tbody>\n    <tr>\n      <th>count</th>\n      <td>405.000000</td>\n      <td>405.000000</td>\n      <td>405.000000</td>\n    </tr>\n    <tr>\n      <th>mean</th>\n      <td>0.492288</td>\n      <td>0.637592</td>\n      <td>0.033302</td>\n    </tr>\n    <tr>\n      <th>std</th>\n      <td>0.163520</td>\n      <td>0.112681</td>\n      <td>0.044720</td>\n    </tr>\n    <tr>\n      <th>min</th>\n      <td>0.100000</td>\n      <td>0.163265</td>\n      <td>0.000000</td>\n    </tr>\n    <tr>\n      <th>25%</th>\n      <td>0.388889</td>\n      <td>0.571429</td>\n      <td>0.006311</td>\n    </tr>\n    <tr>\n      <th>50%</th>\n      <td>0.500000</td>\n      <td>0.642857</td>\n      <td>0.016353</td>\n    </tr>\n    <tr>\n      <th>75%</th>\n      <td>0.608696</td>\n      <td>0.705882</td>\n      <td>0.040530</td>\n    </tr>\n    <tr>\n      <th>max</th>\n      <td>1.000000</td>\n      <td>1.000000</td>\n      <td>0.300366</td>\n    </tr>\n  </tbody>\n</table>\n</div>"
     },
     "execution_count": 169,
     "metadata": {},
     "output_type": "execute_result"
    }
   ],
   "source": [
    "df_participant_nom[['InDegree', 'Closeness', 'Betweenness']].describe()"
   ],
   "metadata": {
    "collapsed": false,
    "pycharm": {
     "name": "#%%\n"
    }
   }
  },
  {
   "cell_type": "markdown",
   "source": [
    "# Online Communication Descriptives"
   ],
   "metadata": {
    "collapsed": false,
    "pycharm": {
     "name": "#%% md\n"
    }
   }
  },
  {
   "cell_type": "code",
   "execution_count": 17,
   "outputs": [
    {
     "data": {
      "text/plain": "count    403.000000\nmean      63.868486\nstd      104.088367\nmin        1.000000\n25%        9.000000\n50%       23.000000\n75%       69.500000\nmax      786.000000\nName: NumMessages, dtype: float64"
     },
     "execution_count": 17,
     "metadata": {},
     "output_type": "execute_result"
    }
   ],
   "source": [
    "# Number of messages by c;ass\n",
    "\n",
    "df_number_messages = df_com4.groupby(['Class', 'Child'])['UMID'].count().reset_index(name=\"NumMessages\")\n",
    "df_number_messages['NumMessages'].describe()\n"
   ],
   "metadata": {
    "collapsed": false,
    "pycharm": {
     "name": "#%%\n"
    }
   }
  },
  {
   "cell_type": "code",
   "execution_count": 18,
   "outputs": [
    {
     "data": {
      "text/plain": "    Class  TotalMessages\n0    78.0            221\n1    81.0            143\n2   100.0            569\n3   124.0            356\n4   125.0            561\n5   256.0            259\n6   258.0            168\n7   261.0            448\n8   262.0            263\n9   263.0           1013\n10  272.0           2411\n11  273.0           1145\n12  292.0           2168\n13  296.0           1107\n14  297.0            386\n15  298.0           5301\n16  299.0           2363\n17  300.0            512\n18  301.0           2508\n19  302.0            731\n20  303.0           3106",
      "text/html": "<div>\n<style scoped>\n    .dataframe tbody tr th:only-of-type {\n        vertical-align: middle;\n    }\n\n    .dataframe tbody tr th {\n        vertical-align: top;\n    }\n\n    .dataframe thead th {\n        text-align: right;\n    }\n</style>\n<table border=\"1\" class=\"dataframe\">\n  <thead>\n    <tr style=\"text-align: right;\">\n      <th></th>\n      <th>Class</th>\n      <th>TotalMessages</th>\n    </tr>\n  </thead>\n  <tbody>\n    <tr>\n      <th>0</th>\n      <td>78.0</td>\n      <td>221</td>\n    </tr>\n    <tr>\n      <th>1</th>\n      <td>81.0</td>\n      <td>143</td>\n    </tr>\n    <tr>\n      <th>2</th>\n      <td>100.0</td>\n      <td>569</td>\n    </tr>\n    <tr>\n      <th>3</th>\n      <td>124.0</td>\n      <td>356</td>\n    </tr>\n    <tr>\n      <th>4</th>\n      <td>125.0</td>\n      <td>561</td>\n    </tr>\n    <tr>\n      <th>5</th>\n      <td>256.0</td>\n      <td>259</td>\n    </tr>\n    <tr>\n      <th>6</th>\n      <td>258.0</td>\n      <td>168</td>\n    </tr>\n    <tr>\n      <th>7</th>\n      <td>261.0</td>\n      <td>448</td>\n    </tr>\n    <tr>\n      <th>8</th>\n      <td>262.0</td>\n      <td>263</td>\n    </tr>\n    <tr>\n      <th>9</th>\n      <td>263.0</td>\n      <td>1013</td>\n    </tr>\n    <tr>\n      <th>10</th>\n      <td>272.0</td>\n      <td>2411</td>\n    </tr>\n    <tr>\n      <th>11</th>\n      <td>273.0</td>\n      <td>1145</td>\n    </tr>\n    <tr>\n      <th>12</th>\n      <td>292.0</td>\n      <td>2168</td>\n    </tr>\n    <tr>\n      <th>13</th>\n      <td>296.0</td>\n      <td>1107</td>\n    </tr>\n    <tr>\n      <th>14</th>\n      <td>297.0</td>\n      <td>386</td>\n    </tr>\n    <tr>\n      <th>15</th>\n      <td>298.0</td>\n      <td>5301</td>\n    </tr>\n    <tr>\n      <th>16</th>\n      <td>299.0</td>\n      <td>2363</td>\n    </tr>\n    <tr>\n      <th>17</th>\n      <td>300.0</td>\n      <td>512</td>\n    </tr>\n    <tr>\n      <th>18</th>\n      <td>301.0</td>\n      <td>2508</td>\n    </tr>\n    <tr>\n      <th>19</th>\n      <td>302.0</td>\n      <td>731</td>\n    </tr>\n    <tr>\n      <th>20</th>\n      <td>303.0</td>\n      <td>3106</td>\n    </tr>\n  </tbody>\n</table>\n</div>"
     },
     "execution_count": 18,
     "metadata": {},
     "output_type": "execute_result"
    }
   ],
   "source": [
    "# Number of messages by class\n",
    "\n",
    "msg_per_class = df_number_messages.groupby(['Class'])['NumMessages'].sum().reset_index(name=\"TotalMessages\")\n",
    "msg_per_class\n",
    "#df_number_messages.groupby(['Class'])['NumMessages'].describe()\n"
   ],
   "metadata": {
    "collapsed": false,
    "pycharm": {
     "name": "#%%\n"
    }
   }
  },
  {
   "cell_type": "code",
   "execution_count": 19,
   "outputs": [
    {
     "data": {
      "text/plain": "25739"
     },
     "execution_count": 19,
     "metadata": {},
     "output_type": "execute_result"
    }
   ],
   "source": [
    "# Total number of messages\n",
    "df_number_messages['NumMessages'].sum()\n",
    "\n"
   ],
   "metadata": {
    "collapsed": false,
    "pycharm": {
     "name": "#%%\n"
    }
   }
  },
  {
   "cell_type": "code",
   "execution_count": 37,
   "outputs": [
    {
     "data": {
      "text/plain": "count    1860.000000\nmean       13.838172\nstd        39.246523\nmin         1.000000\n25%         2.000000\n50%         4.000000\n75%        10.000000\nmax       637.000000\nName: NumMes, dtype: float64"
     },
     "execution_count": 37,
     "metadata": {},
     "output_type": "execute_result"
    }
   ],
   "source": [
    "\n",
    "pairs_freq = df_com4.groupby([\"Participant\",\"RecipientChild\"])[\"UMID\"].count().reset_index(name='NumberMessages')\n",
    "pairs_freq\n",
    "\n",
    "pairs_freq = pairs_freq.astype({'Participant': 'float64'})\n",
    "\n",
    "pairs = []\n",
    "values = []\n",
    "exchanged_messages = []\n",
    "for line in pairs_freq[[\"Participant\",\"RecipientChild\", \"NumberMessages\"]].iterrows():\n",
    "    (p1, p2, var) = line[1]\n",
    "    if(p1, p2) not in pairs and (p2, p1) not in pairs:\n",
    "        pairs.append((p1,p2))\n",
    "        values.append((var))\n",
    "\n",
    "    elif (p2, p1) in pairs:\n",
    "        # get the index of this pair and update in the values of the same index\n",
    "        ind = pairs.index((p2,p1))\n",
    "        values[ind] = (values[ind] + var)\n",
    "\n",
    "# print('found pairs',pairs)\n",
    "# print('found values',values)\n",
    "\n",
    "\n",
    "count = 0\n",
    "for line in pairs:\n",
    "    (pp1, pp2) = line\n",
    "    exchanged_messages.append((pp1,pp2,values[count]))\n",
    "    count = count + 1\n",
    "\n",
    "exchanged_messages = pd.DataFrame(exchanged_messages, columns = [\"P1\", \"P2\", \"NumMes\"])\n",
    "exchanged_messages.sort_values(by='NumMes',ascending=False).head(10)\n",
    "exchanged_messages['NumMes'].describe()"
   ],
   "metadata": {
    "collapsed": false,
    "pycharm": {
     "name": "#%%\n"
    }
   }
  },
  {
   "cell_type": "code",
   "execution_count": 40,
   "outputs": [
    {
     "data": {
      "application/vnd.plotly.v1+json": {
       "data": [
        {
         "alignmentgroup": "True",
         "bingroup": "x",
         "hovertemplate": "NumMes=%{x}<br>count=%{y}<extra></extra>",
         "legendgroup": "",
         "marker": {
          "color": "#636efa",
          "pattern": {
           "shape": ""
          }
         },
         "name": "",
         "nbinsx": 100,
         "offsetgroup": "",
         "orientation": "v",
         "showlegend": false,
         "x": [
          1.0,
          7.0,
          2.0,
          2.0,
          3.0,
          2.0,
          7.0,
          3.0,
          11.0,
          12.0,
          1.0,
          4.0,
          12.0,
          1.0,
          12.0,
          45.0,
          1.0,
          48.0,
          3.0,
          6.0,
          9.0,
          12.0,
          12.0,
          5.0,
          3.0,
          4.0,
          4.0,
          14.0,
          140.0,
          2.0,
          13.0,
          18.0,
          53.0,
          1.0,
          11.0,
          68.0,
          3.0,
          6.0,
          3.0,
          3.0,
          1.0,
          11.0,
          1.0,
          6.0,
          1.0,
          3.0,
          1.0,
          1.0,
          4.0,
          158.0,
          1.0,
          1.0,
          10.0,
          2.0,
          2.0,
          2.0,
          13.0,
          18.0,
          20.0,
          5.0,
          2.0,
          5.0,
          11.0,
          1.0,
          1.0,
          12.0,
          1.0,
          2.0,
          11.0,
          5.0,
          4.0,
          2.0,
          26.0,
          55.0,
          1.0,
          1.0,
          3.0,
          1.0,
          31.0,
          2.0,
          60.0,
          1.0,
          1.0,
          3.0,
          295.0,
          5.0,
          22.0,
          4.0,
          1.0,
          2.0,
          2.0,
          2.0,
          1.0,
          102.0,
          28.0,
          19.0,
          1.0,
          42.0,
          1.0,
          3.0,
          7.0,
          4.0,
          47.0,
          1.0,
          1.0,
          7.0,
          47.0,
          80.0,
          27.0,
          54.0,
          53.0,
          7.0,
          4.0,
          1.0,
          7.0,
          30.0,
          10.0,
          3.0,
          7.0,
          7.0,
          5.0,
          10.0,
          3.0,
          1.0,
          3.0,
          2.0,
          3.0,
          10.0,
          7.0,
          2.0,
          1.0,
          3.0,
          174.0,
          2.0,
          2.0,
          1.0,
          2.0,
          1.0,
          1.0,
          118.0,
          1.0,
          1.0,
          3.0,
          1.0,
          25.0,
          1.0,
          1.0,
          1.0,
          2.0,
          4.0,
          5.0,
          14.0,
          5.0,
          1.0,
          1.0,
          1.0,
          2.0,
          2.0,
          2.0,
          1.0,
          1.0,
          1.0,
          2.0,
          3.0,
          3.0,
          2.0,
          1.0,
          2.0,
          7.0,
          2.0,
          9.0,
          2.0,
          10.0,
          13.0,
          1.0,
          1.0,
          1.0,
          1.0,
          1.0,
          1.0,
          1.0,
          1.0,
          2.0,
          1.0,
          1.0,
          1.0,
          2.0,
          1.0,
          1.0,
          10.0,
          4.0,
          3.0,
          2.0,
          6.0,
          2.0,
          1.0,
          2.0,
          2.0,
          2.0,
          16.0,
          1.0,
          4.0,
          9.0,
          2.0,
          14.0,
          3.0,
          2.0,
          92.0,
          11.0,
          33.0,
          8.0,
          3.0,
          6.0,
          5.0,
          13.0,
          2.0,
          8.0,
          29.0,
          29.0,
          1.0,
          105.0,
          5.0,
          24.0,
          3.0,
          8.0,
          1.0,
          7.0,
          3.0,
          12.0,
          2.0,
          27.0,
          10.0,
          11.0,
          26.0,
          3.0,
          4.0,
          4.0,
          6.0,
          22.0,
          5.0,
          40.0,
          4.0,
          9.0,
          12.0,
          2.0,
          8.0,
          11.0,
          1.0,
          6.0,
          10.0,
          2.0,
          8.0,
          7.0,
          65.0,
          166.0,
          9.0,
          4.0,
          12.0,
          7.0,
          115.0,
          11.0,
          8.0,
          3.0,
          137.0,
          2.0,
          5.0,
          5.0,
          3.0,
          23.0,
          27.0,
          3.0,
          6.0,
          7.0,
          12.0,
          1.0,
          4.0,
          7.0,
          9.0,
          4.0,
          8.0,
          14.0,
          2.0,
          11.0,
          4.0,
          5.0,
          3.0,
          5.0,
          39.0,
          18.0,
          17.0,
          22.0,
          4.0,
          13.0,
          11.0,
          26.0,
          14.0,
          50.0,
          19.0,
          1.0,
          6.0,
          3.0,
          9.0,
          1.0,
          3.0,
          2.0,
          2.0,
          19.0,
          8.0,
          3.0,
          17.0,
          209.0,
          12.0,
          15.0,
          4.0,
          13.0,
          4.0,
          3.0,
          2.0,
          2.0,
          75.0,
          3.0,
          15.0,
          2.0,
          35.0,
          3.0,
          10.0,
          3.0,
          3.0,
          2.0,
          2.0,
          2.0,
          2.0,
          3.0,
          3.0,
          3.0,
          3.0,
          6.0,
          4.0,
          4.0,
          3.0,
          6.0,
          3.0,
          15.0,
          9.0,
          51.0,
          3.0,
          9.0,
          124.0,
          4.0,
          2.0,
          1.0,
          1.0,
          11.0,
          1.0,
          1.0,
          1.0,
          5.0,
          4.0,
          30.0,
          37.0,
          3.0,
          3.0,
          12.0,
          3.0,
          3.0,
          2.0,
          5.0,
          11.0,
          9.0,
          7.0,
          5.0,
          4.0,
          5.0,
          2.0,
          2.0,
          6.0,
          13.0,
          6.0,
          5.0,
          2.0,
          2.0,
          1.0,
          2.0,
          7.0,
          30.0,
          92.0,
          1.0,
          11.0,
          1.0,
          1.0,
          1.0,
          1.0,
          1.0,
          5.0,
          7.0,
          2.0,
          2.0,
          2.0,
          3.0,
          13.0,
          2.0,
          2.0,
          2.0,
          1.0,
          1.0,
          1.0,
          4.0,
          63.0,
          63.0,
          14.0,
          2.0,
          2.0,
          3.0,
          10.0,
          29.0,
          3.0,
          2.0,
          2.0,
          2.0,
          2.0,
          2.0,
          2.0,
          2.0,
          87.0,
          78.0,
          2.0,
          4.0,
          7.0,
          5.0,
          3.0,
          2.0,
          2.0,
          2.0,
          4.0,
          3.0,
          1.0,
          1.0,
          17.0,
          1.0,
          6.0,
          17.0,
          24.0,
          17.0,
          4.0,
          2.0,
          5.0,
          1.0,
          49.0,
          7.0,
          4.0,
          4.0,
          5.0,
          5.0,
          3.0,
          7.0,
          2.0,
          13.0,
          2.0,
          8.0,
          1.0,
          4.0,
          5.0,
          2.0,
          3.0,
          6.0,
          1.0,
          1.0,
          1.0,
          1.0,
          1.0,
          1.0,
          1.0,
          2.0,
          10.0,
          1.0,
          1.0,
          2.0,
          2.0,
          1.0,
          2.0,
          1.0,
          1.0,
          1.0,
          1.0,
          1.0,
          1.0,
          1.0,
          1.0,
          24.0,
          1.0,
          3.0,
          1.0,
          2.0,
          2.0,
          1.0,
          1.0,
          1.0,
          1.0,
          1.0,
          1.0,
          22.0,
          2.0,
          3.0,
          2.0,
          5.0,
          2.0,
          4.0,
          2.0,
          1.0,
          7.0,
          2.0,
          3.0,
          1.0,
          1.0,
          1.0,
          1.0,
          1.0,
          4.0,
          37.0,
          140.0,
          6.0,
          22.0,
          8.0,
          47.0,
          5.0,
          2.0,
          5.0,
          1.0,
          31.0,
          1.0,
          2.0,
          13.0,
          11.0,
          10.0,
          12.0,
          3.0,
          35.0,
          4.0,
          2.0,
          3.0,
          5.0,
          15.0,
          7.0,
          1.0,
          3.0,
          5.0,
          30.0,
          1.0,
          9.0,
          2.0,
          2.0,
          8.0,
          1.0,
          1.0,
          5.0,
          2.0,
          2.0,
          2.0,
          2.0,
          10.0,
          1.0,
          3.0,
          2.0,
          2.0,
          8.0,
          3.0,
          25.0,
          1.0,
          1.0,
          1.0,
          1.0,
          1.0,
          1.0,
          2.0,
          5.0,
          2.0,
          1.0,
          1.0,
          1.0,
          2.0,
          1.0,
          1.0,
          6.0,
          3.0,
          3.0,
          3.0,
          1.0,
          7.0,
          14.0,
          2.0,
          4.0,
          3.0,
          7.0,
          5.0,
          11.0,
          3.0,
          2.0,
          29.0,
          37.0,
          23.0,
          1.0,
          8.0,
          2.0,
          16.0,
          1.0,
          2.0,
          14.0,
          12.0,
          2.0,
          3.0,
          15.0,
          21.0,
          5.0,
          3.0,
          15.0,
          5.0,
          1.0,
          15.0,
          5.0,
          11.0,
          4.0,
          6.0,
          3.0,
          3.0,
          5.0,
          15.0,
          3.0,
          2.0,
          1.0,
          3.0,
          2.0,
          2.0,
          3.0,
          2.0,
          2.0,
          1.0,
          1.0,
          1.0,
          2.0,
          1.0,
          1.0,
          1.0,
          2.0,
          3.0,
          92.0,
          1.0,
          1.0,
          10.0,
          1.0,
          4.0,
          3.0,
          2.0,
          1.0,
          10.0,
          2.0,
          2.0,
          7.0,
          10.0,
          4.0,
          3.0,
          2.0,
          8.0,
          6.0,
          8.0,
          8.0,
          9.0,
          4.0,
          2.0,
          6.0,
          5.0,
          9.0,
          9.0,
          3.0,
          1.0,
          3.0,
          4.0,
          12.0,
          2.0,
          85.0,
          6.0,
          55.0,
          2.0,
          17.0,
          3.0,
          1.0,
          1.0,
          6.0,
          122.0,
          1.0,
          9.0,
          13.0,
          7.0,
          46.0,
          25.0,
          35.0,
          11.0,
          1.0,
          7.0,
          10.0,
          29.0,
          3.0,
          1.0,
          2.0,
          3.0,
          6.0,
          3.0,
          3.0,
          8.0,
          14.0,
          9.0,
          1.0,
          1.0,
          1.0,
          6.0,
          2.0,
          14.0,
          14.0,
          20.0,
          10.0,
          2.0,
          12.0,
          5.0,
          119.0,
          20.0,
          211.0,
          13.0,
          18.0,
          33.0,
          86.0,
          6.0,
          12.0,
          1.0,
          8.0,
          14.0,
          12.0,
          3.0,
          37.0,
          13.0,
          2.0,
          4.0,
          9.0,
          1.0,
          2.0,
          3.0,
          12.0,
          7.0,
          19.0,
          29.0,
          5.0,
          1.0,
          7.0,
          1.0,
          1.0,
          2.0,
          25.0,
          9.0,
          4.0,
          5.0,
          6.0,
          8.0,
          6.0,
          8.0,
          6.0,
          8.0,
          9.0,
          12.0,
          16.0,
          15.0,
          14.0,
          6.0,
          9.0,
          12.0,
          1.0,
          1.0,
          3.0,
          5.0,
          14.0,
          3.0,
          1.0,
          18.0,
          8.0,
          6.0,
          3.0,
          116.0,
          7.0,
          1.0,
          1.0,
          1.0,
          3.0,
          102.0,
          2.0,
          9.0,
          8.0,
          3.0,
          3.0,
          3.0,
          7.0,
          8.0,
          2.0,
          6.0,
          16.0,
          16.0,
          8.0,
          31.0,
          12.0,
          14.0,
          6.0,
          6.0,
          6.0,
          7.0,
          15.0,
          16.0,
          7.0,
          10.0,
          22.0,
          1.0,
          1.0,
          2.0,
          1.0,
          1.0,
          1.0,
          1.0,
          2.0,
          1.0,
          171.0,
          5.0,
          1.0,
          1.0,
          2.0,
          3.0,
          1.0,
          5.0,
          39.0,
          1.0,
          2.0,
          1.0,
          1.0,
          1.0,
          1.0,
          3.0,
          1.0,
          1.0,
          12.0,
          1.0,
          5.0,
          10.0,
          1.0,
          2.0,
          2.0,
          3.0,
          6.0,
          10.0,
          2.0,
          35.0,
          30.0,
          2.0,
          137.0,
          2.0,
          4.0,
          2.0,
          7.0,
          7.0,
          3.0,
          1.0,
          5.0,
          16.0,
          2.0,
          3.0,
          2.0,
          4.0,
          12.0,
          2.0,
          2.0,
          2.0,
          7.0,
          5.0,
          1.0,
          1.0,
          2.0,
          2.0,
          12.0,
          1.0,
          1.0,
          1.0,
          1.0,
          1.0,
          2.0,
          1.0,
          7.0,
          2.0,
          2.0,
          13.0,
          1.0,
          1.0,
          2.0,
          6.0,
          2.0,
          1.0,
          1.0,
          3.0,
          27.0,
          4.0,
          8.0,
          20.0,
          9.0,
          3.0,
          40.0,
          14.0,
          16.0,
          3.0,
          252.0,
          440.0,
          47.0,
          24.0,
          160.0,
          14.0,
          11.0,
          13.0,
          1.0,
          2.0,
          2.0,
          3.0,
          4.0,
          2.0,
          5.0,
          1.0,
          4.0,
          2.0,
          2.0,
          3.0,
          22.0,
          13.0,
          4.0,
          5.0,
          2.0,
          1.0,
          3.0,
          12.0,
          2.0,
          8.0,
          79.0,
          2.0,
          3.0,
          9.0,
          6.0,
          8.0,
          1.0,
          223.0,
          20.0,
          11.0,
          13.0,
          3.0,
          346.0,
          29.0,
          8.0,
          17.0,
          4.0,
          52.0,
          7.0,
          454.0,
          1.0,
          7.0,
          15.0,
          14.0,
          84.0,
          2.0,
          2.0,
          3.0,
          4.0,
          11.0,
          3.0,
          5.0,
          5.0,
          85.0,
          1.0,
          1.0,
          5.0,
          5.0,
          9.0,
          16.0,
          4.0,
          4.0,
          4.0,
          7.0,
          24.0,
          7.0,
          49.0,
          55.0,
          6.0,
          1.0,
          1.0,
          6.0,
          25.0,
          13.0,
          69.0,
          5.0,
          14.0,
          7.0,
          7.0,
          30.0,
          44.0,
          3.0,
          10.0,
          15.0,
          24.0,
          5.0,
          1.0,
          9.0,
          3.0,
          8.0,
          2.0,
          5.0,
          10.0,
          55.0,
          6.0,
          29.0,
          4.0,
          6.0,
          29.0,
          14.0,
          61.0,
          69.0,
          4.0,
          19.0,
          42.0,
          7.0,
          17.0,
          4.0,
          27.0,
          24.0,
          5.0,
          55.0,
          25.0,
          3.0,
          26.0,
          6.0,
          9.0,
          167.0,
          15.0,
          17.0,
          1.0,
          2.0,
          4.0,
          10.0,
          9.0,
          2.0,
          68.0,
          3.0,
          4.0,
          7.0,
          4.0,
          14.0,
          5.0,
          53.0,
          72.0,
          32.0,
          9.0,
          85.0,
          6.0,
          27.0,
          1.0,
          42.0,
          2.0,
          637.0,
          8.0,
          2.0,
          5.0,
          31.0,
          15.0,
          2.0,
          3.0,
          2.0,
          3.0,
          42.0,
          1.0,
          1.0,
          40.0,
          3.0,
          36.0,
          2.0,
          12.0,
          4.0,
          1.0,
          2.0,
          4.0,
          9.0,
          8.0,
          2.0,
          4.0,
          1.0,
          8.0,
          2.0,
          9.0,
          85.0,
          12.0,
          24.0,
          28.0,
          9.0,
          1.0,
          3.0,
          1.0,
          3.0,
          1.0,
          8.0,
          22.0,
          37.0,
          15.0,
          1.0,
          20.0,
          3.0,
          5.0,
          3.0,
          2.0,
          6.0,
          8.0,
          137.0,
          6.0,
          1.0,
          4.0,
          2.0,
          82.0,
          58.0,
          190.0,
          20.0,
          5.0,
          1.0,
          213.0,
          4.0,
          6.0,
          1.0,
          20.0,
          11.0,
          3.0,
          17.0,
          1.0,
          69.0,
          1.0,
          3.0,
          5.0,
          2.0,
          11.0,
          6.0,
          8.0,
          7.0,
          17.0,
          20.0,
          18.0,
          11.0,
          4.0,
          4.0,
          11.0,
          9.0,
          3.0,
          5.0,
          5.0,
          24.0,
          2.0,
          3.0,
          14.0,
          25.0,
          2.0,
          43.0,
          3.0,
          1.0,
          1.0,
          2.0,
          3.0,
          9.0,
          2.0,
          2.0,
          1.0,
          25.0,
          1.0,
          1.0,
          1.0,
          5.0,
          10.0,
          5.0,
          11.0,
          5.0,
          3.0,
          5.0,
          41.0,
          5.0,
          2.0,
          2.0,
          3.0,
          9.0,
          4.0,
          1.0,
          1.0,
          1.0,
          1.0,
          2.0,
          1.0,
          2.0,
          54.0,
          16.0,
          44.0,
          1.0,
          1.0,
          5.0,
          1.0,
          1.0,
          5.0,
          68.0,
          1.0,
          1.0,
          9.0,
          4.0,
          3.0,
          10.0,
          1.0,
          17.0,
          2.0,
          2.0,
          2.0,
          3.0,
          2.0,
          2.0,
          8.0,
          345.0,
          13.0,
          91.0,
          3.0,
          8.0,
          4.0,
          26.0,
          3.0,
          1.0,
          2.0,
          77.0,
          3.0,
          187.0,
          20.0,
          4.0,
          4.0,
          6.0,
          7.0,
          56.0,
          1.0,
          3.0,
          3.0,
          2.0,
          1.0,
          4.0,
          13.0,
          2.0,
          2.0,
          35.0,
          2.0,
          2.0,
          2.0,
          2.0,
          2.0,
          2.0,
          2.0,
          11.0,
          4.0,
          1.0,
          1.0,
          7.0,
          7.0,
          2.0,
          4.0,
          28.0,
          2.0,
          1.0,
          1.0,
          1.0,
          1.0,
          1.0,
          1.0,
          2.0,
          8.0,
          19.0,
          16.0,
          1.0,
          21.0,
          1.0,
          9.0,
          2.0,
          2.0,
          2.0,
          2.0,
          5.0,
          27.0,
          17.0,
          9.0,
          10.0,
          2.0,
          2.0,
          9.0,
          4.0,
          5.0,
          8.0,
          1.0,
          11.0,
          1.0,
          10.0,
          2.0,
          2.0,
          2.0,
          20.0,
          2.0,
          7.0,
          4.0,
          8.0,
          5.0,
          1.0,
          3.0,
          48.0,
          4.0,
          14.0,
          19.0,
          2.0,
          8.0,
          2.0,
          4.0,
          22.0,
          4.0,
          3.0,
          5.0,
          2.0,
          22.0,
          4.0,
          2.0,
          8.0,
          6.0,
          5.0,
          8.0,
          3.0,
          2.0,
          2.0,
          2.0,
          4.0,
          1.0,
          16.0,
          5.0,
          1.0,
          2.0,
          8.0,
          9.0,
          3.0,
          4.0,
          1.0,
          2.0,
          3.0,
          2.0,
          7.0,
          2.0,
          24.0,
          4.0,
          6.0,
          8.0,
          11.0,
          4.0,
          3.0,
          58.0,
          7.0,
          5.0,
          5.0,
          3.0,
          8.0,
          5.0,
          68.0,
          22.0,
          2.0,
          9.0,
          12.0,
          3.0,
          61.0,
          2.0,
          1.0,
          1.0,
          2.0,
          1.0,
          1.0,
          2.0,
          1.0,
          2.0,
          1.0,
          3.0,
          10.0,
          4.0,
          7.0,
          17.0,
          6.0,
          2.0,
          15.0,
          1.0,
          1.0,
          3.0,
          22.0,
          10.0,
          3.0,
          6.0,
          1.0,
          6.0,
          1.0,
          9.0,
          1.0,
          1.0,
          1.0,
          1.0,
          22.0,
          3.0,
          2.0,
          1.0,
          6.0,
          1.0,
          1.0,
          12.0,
          11.0,
          2.0,
          1.0,
          5.0,
          1.0,
          38.0,
          22.0,
          1.0,
          3.0,
          68.0,
          1.0,
          4.0,
          6.0,
          19.0,
          4.0,
          1.0,
          142.0,
          2.0,
          1.0,
          6.0,
          17.0,
          3.0,
          2.0,
          2.0,
          5.0,
          11.0,
          4.0,
          3.0,
          64.0,
          2.0,
          1.0,
          3.0,
          1.0,
          1.0,
          2.0,
          7.0,
          1.0,
          3.0,
          8.0,
          51.0,
          2.0,
          38.0,
          1.0,
          3.0,
          17.0,
          1.0,
          9.0,
          8.0,
          2.0,
          1.0,
          6.0,
          2.0,
          8.0,
          7.0,
          1.0,
          3.0,
          20.0,
          12.0,
          7.0,
          44.0,
          5.0,
          91.0,
          3.0,
          4.0,
          2.0,
          30.0,
          14.0,
          20.0,
          2.0,
          1.0,
          1.0,
          1.0,
          2.0,
          1.0,
          1.0,
          16.0,
          2.0,
          1.0,
          2.0,
          2.0,
          1.0,
          8.0,
          2.0,
          2.0,
          2.0,
          8.0,
          1.0,
          1.0,
          5.0,
          2.0,
          4.0,
          13.0,
          5.0,
          9.0,
          3.0,
          2.0,
          21.0,
          4.0,
          7.0,
          3.0,
          1.0,
          1.0,
          1.0,
          1.0,
          1.0,
          1.0,
          6.0,
          3.0,
          29.0,
          28.0,
          6.0,
          4.0,
          6.0,
          6.0,
          3.0,
          4.0,
          55.0,
          8.0,
          2.0,
          5.0,
          4.0,
          1.0,
          3.0,
          25.0,
          3.0,
          3.0,
          8.0,
          15.0,
          2.0,
          279.0,
          25.0,
          3.0,
          33.0,
          11.0,
          14.0,
          3.0,
          35.0,
          4.0,
          2.0,
          9.0,
          2.0,
          1.0,
          299.0,
          3.0,
          7.0,
          1.0,
          1.0,
          13.0,
          2.0,
          2.0,
          2.0,
          2.0,
          18.0,
          5.0,
          1.0,
          20.0,
          5.0,
          2.0,
          6.0,
          7.0,
          15.0,
          12.0,
          1.0,
          8.0,
          26.0,
          2.0,
          1.0,
          1.0,
          8.0,
          9.0,
          3.0,
          4.0,
          2.0,
          1.0,
          14.0,
          3.0,
          3.0,
          5.0,
          6.0,
          2.0,
          1.0,
          1.0,
          1.0,
          4.0,
          32.0,
          3.0,
          4.0,
          22.0,
          2.0,
          2.0,
          7.0,
          4.0,
          70.0,
          26.0,
          1.0,
          3.0,
          2.0,
          3.0,
          26.0,
          6.0,
          5.0,
          2.0,
          1.0,
          3.0,
          2.0,
          8.0,
          37.0,
          14.0,
          1.0,
          1.0,
          6.0,
          8.0,
          6.0,
          25.0,
          1.0,
          2.0,
          10.0,
          10.0,
          1.0,
          1.0,
          14.0,
          1.0,
          8.0,
          38.0,
          11.0,
          10.0,
          9.0,
          10.0,
          7.0,
          11.0,
          9.0,
          26.0,
          6.0,
          7.0,
          24.0,
          6.0,
          7.0,
          6.0,
          6.0,
          6.0,
          20.0,
          2.0,
          7.0,
          2.0,
          2.0,
          1.0,
          4.0,
          18.0,
          26.0,
          2.0,
          2.0,
          2.0,
          1.0,
          1.0,
          4.0,
          1.0,
          1.0,
          3.0,
          1.0,
          2.0,
          16.0,
          24.0,
          8.0,
          2.0,
          22.0,
          2.0,
          2.0,
          8.0,
          7.0,
          6.0,
          8.0,
          5.0,
          8.0,
          3.0,
          2.0,
          3.0,
          3.0,
          3.0,
          47.0,
          19.0,
          2.0,
          6.0,
          4.0,
          2.0,
          1.0,
          37.0,
          8.0,
          6.0,
          17.0,
          5.0,
          4.0,
          11.0,
          5.0,
          6.0,
          3.0,
          13.0,
          4.0,
          6.0,
          1.0,
          1.0,
          3.0,
          1.0,
          1.0,
          1.0,
          4.0,
          1.0,
          1.0,
          4.0,
          5.0,
          35.0,
          9.0,
          1.0,
          1.0,
          1.0,
          2.0,
          3.0,
          9.0,
          1.0,
          2.0,
          3.0,
          2.0,
          11.0,
          11.0,
          2.0,
          1.0,
          1.0,
          4.0,
          92.0,
          424.0,
          24.0,
          167.0,
          47.0,
          6.0,
          6.0,
          2.0,
          45.0,
          2.0,
          2.0,
          3.0,
          32.0,
          5.0,
          7.0,
          4.0,
          1.0,
          3.0,
          5.0,
          5.0,
          11.0,
          3.0,
          2.0,
          5.0,
          7.0,
          9.0,
          2.0,
          9.0,
          6.0,
          23.0,
          7.0,
          111.0,
          8.0,
          11.0,
          1.0,
          4.0,
          26.0,
          2.0,
          7.0,
          6.0,
          9.0,
          22.0,
          265.0,
          40.0,
          1.0,
          15.0,
          22.0,
          7.0,
          7.0,
          4.0,
          1.0,
          23.0,
          5.0,
          4.0,
          8.0,
          2.0,
          7.0,
          8.0,
          12.0,
          3.0,
          2.0,
          2.0,
          6.0,
          26.0,
          12.0,
          17.0,
          7.0,
          8.0,
          19.0,
          2.0,
          11.0,
          1.0,
          1.0,
          1.0,
          1.0,
          466.0,
          1.0,
          4.0,
          1.0,
          4.0,
          425.0,
          7.0,
          1.0,
          1.0,
          67.0,
          3.0,
          1.0,
          1.0,
          161.0,
          1.0,
          19.0,
          6.0,
          2.0,
          6.0,
          4.0,
          1.0,
          1.0,
          6.0,
          6.0,
          5.0,
          6.0,
          3.0,
          3.0,
          2.0,
          43.0,
          2.0,
          2.0,
          7.0,
          10.0,
          4.0,
          2.0,
          2.0,
          2.0,
          32.0,
          2.0,
          4.0,
          1.0,
          2.0,
          23.0,
          1.0
         ],
         "xaxis": "x",
         "yaxis": "y",
         "type": "histogram"
        }
       ],
       "layout": {
        "template": {
         "data": {
          "histogram2dcontour": [
           {
            "type": "histogram2dcontour",
            "colorbar": {
             "outlinewidth": 0,
             "ticks": ""
            },
            "colorscale": [
             [
              0.0,
              "#0d0887"
             ],
             [
              0.1111111111111111,
              "#46039f"
             ],
             [
              0.2222222222222222,
              "#7201a8"
             ],
             [
              0.3333333333333333,
              "#9c179e"
             ],
             [
              0.4444444444444444,
              "#bd3786"
             ],
             [
              0.5555555555555556,
              "#d8576b"
             ],
             [
              0.6666666666666666,
              "#ed7953"
             ],
             [
              0.7777777777777778,
              "#fb9f3a"
             ],
             [
              0.8888888888888888,
              "#fdca26"
             ],
             [
              1.0,
              "#f0f921"
             ]
            ]
           }
          ],
          "choropleth": [
           {
            "type": "choropleth",
            "colorbar": {
             "outlinewidth": 0,
             "ticks": ""
            }
           }
          ],
          "histogram2d": [
           {
            "type": "histogram2d",
            "colorbar": {
             "outlinewidth": 0,
             "ticks": ""
            },
            "colorscale": [
             [
              0.0,
              "#0d0887"
             ],
             [
              0.1111111111111111,
              "#46039f"
             ],
             [
              0.2222222222222222,
              "#7201a8"
             ],
             [
              0.3333333333333333,
              "#9c179e"
             ],
             [
              0.4444444444444444,
              "#bd3786"
             ],
             [
              0.5555555555555556,
              "#d8576b"
             ],
             [
              0.6666666666666666,
              "#ed7953"
             ],
             [
              0.7777777777777778,
              "#fb9f3a"
             ],
             [
              0.8888888888888888,
              "#fdca26"
             ],
             [
              1.0,
              "#f0f921"
             ]
            ]
           }
          ],
          "heatmap": [
           {
            "type": "heatmap",
            "colorbar": {
             "outlinewidth": 0,
             "ticks": ""
            },
            "colorscale": [
             [
              0.0,
              "#0d0887"
             ],
             [
              0.1111111111111111,
              "#46039f"
             ],
             [
              0.2222222222222222,
              "#7201a8"
             ],
             [
              0.3333333333333333,
              "#9c179e"
             ],
             [
              0.4444444444444444,
              "#bd3786"
             ],
             [
              0.5555555555555556,
              "#d8576b"
             ],
             [
              0.6666666666666666,
              "#ed7953"
             ],
             [
              0.7777777777777778,
              "#fb9f3a"
             ],
             [
              0.8888888888888888,
              "#fdca26"
             ],
             [
              1.0,
              "#f0f921"
             ]
            ]
           }
          ],
          "heatmapgl": [
           {
            "type": "heatmapgl",
            "colorbar": {
             "outlinewidth": 0,
             "ticks": ""
            },
            "colorscale": [
             [
              0.0,
              "#0d0887"
             ],
             [
              0.1111111111111111,
              "#46039f"
             ],
             [
              0.2222222222222222,
              "#7201a8"
             ],
             [
              0.3333333333333333,
              "#9c179e"
             ],
             [
              0.4444444444444444,
              "#bd3786"
             ],
             [
              0.5555555555555556,
              "#d8576b"
             ],
             [
              0.6666666666666666,
              "#ed7953"
             ],
             [
              0.7777777777777778,
              "#fb9f3a"
             ],
             [
              0.8888888888888888,
              "#fdca26"
             ],
             [
              1.0,
              "#f0f921"
             ]
            ]
           }
          ],
          "contourcarpet": [
           {
            "type": "contourcarpet",
            "colorbar": {
             "outlinewidth": 0,
             "ticks": ""
            }
           }
          ],
          "contour": [
           {
            "type": "contour",
            "colorbar": {
             "outlinewidth": 0,
             "ticks": ""
            },
            "colorscale": [
             [
              0.0,
              "#0d0887"
             ],
             [
              0.1111111111111111,
              "#46039f"
             ],
             [
              0.2222222222222222,
              "#7201a8"
             ],
             [
              0.3333333333333333,
              "#9c179e"
             ],
             [
              0.4444444444444444,
              "#bd3786"
             ],
             [
              0.5555555555555556,
              "#d8576b"
             ],
             [
              0.6666666666666666,
              "#ed7953"
             ],
             [
              0.7777777777777778,
              "#fb9f3a"
             ],
             [
              0.8888888888888888,
              "#fdca26"
             ],
             [
              1.0,
              "#f0f921"
             ]
            ]
           }
          ],
          "surface": [
           {
            "type": "surface",
            "colorbar": {
             "outlinewidth": 0,
             "ticks": ""
            },
            "colorscale": [
             [
              0.0,
              "#0d0887"
             ],
             [
              0.1111111111111111,
              "#46039f"
             ],
             [
              0.2222222222222222,
              "#7201a8"
             ],
             [
              0.3333333333333333,
              "#9c179e"
             ],
             [
              0.4444444444444444,
              "#bd3786"
             ],
             [
              0.5555555555555556,
              "#d8576b"
             ],
             [
              0.6666666666666666,
              "#ed7953"
             ],
             [
              0.7777777777777778,
              "#fb9f3a"
             ],
             [
              0.8888888888888888,
              "#fdca26"
             ],
             [
              1.0,
              "#f0f921"
             ]
            ]
           }
          ],
          "mesh3d": [
           {
            "type": "mesh3d",
            "colorbar": {
             "outlinewidth": 0,
             "ticks": ""
            }
           }
          ],
          "scatter": [
           {
            "fillpattern": {
             "fillmode": "overlay",
             "size": 10,
             "solidity": 0.2
            },
            "type": "scatter"
           }
          ],
          "parcoords": [
           {
            "type": "parcoords",
            "line": {
             "colorbar": {
              "outlinewidth": 0,
              "ticks": ""
             }
            }
           }
          ],
          "scatterpolargl": [
           {
            "type": "scatterpolargl",
            "marker": {
             "colorbar": {
              "outlinewidth": 0,
              "ticks": ""
             }
            }
           }
          ],
          "bar": [
           {
            "error_x": {
             "color": "#2a3f5f"
            },
            "error_y": {
             "color": "#2a3f5f"
            },
            "marker": {
             "line": {
              "color": "#E5ECF6",
              "width": 0.5
             },
             "pattern": {
              "fillmode": "overlay",
              "size": 10,
              "solidity": 0.2
             }
            },
            "type": "bar"
           }
          ],
          "scattergeo": [
           {
            "type": "scattergeo",
            "marker": {
             "colorbar": {
              "outlinewidth": 0,
              "ticks": ""
             }
            }
           }
          ],
          "scatterpolar": [
           {
            "type": "scatterpolar",
            "marker": {
             "colorbar": {
              "outlinewidth": 0,
              "ticks": ""
             }
            }
           }
          ],
          "histogram": [
           {
            "marker": {
             "pattern": {
              "fillmode": "overlay",
              "size": 10,
              "solidity": 0.2
             }
            },
            "type": "histogram"
           }
          ],
          "scattergl": [
           {
            "type": "scattergl",
            "marker": {
             "colorbar": {
              "outlinewidth": 0,
              "ticks": ""
             }
            }
           }
          ],
          "scatter3d": [
           {
            "type": "scatter3d",
            "line": {
             "colorbar": {
              "outlinewidth": 0,
              "ticks": ""
             }
            },
            "marker": {
             "colorbar": {
              "outlinewidth": 0,
              "ticks": ""
             }
            }
           }
          ],
          "scattermapbox": [
           {
            "type": "scattermapbox",
            "marker": {
             "colorbar": {
              "outlinewidth": 0,
              "ticks": ""
             }
            }
           }
          ],
          "scatterternary": [
           {
            "type": "scatterternary",
            "marker": {
             "colorbar": {
              "outlinewidth": 0,
              "ticks": ""
             }
            }
           }
          ],
          "scattercarpet": [
           {
            "type": "scattercarpet",
            "marker": {
             "colorbar": {
              "outlinewidth": 0,
              "ticks": ""
             }
            }
           }
          ],
          "carpet": [
           {
            "aaxis": {
             "endlinecolor": "#2a3f5f",
             "gridcolor": "white",
             "linecolor": "white",
             "minorgridcolor": "white",
             "startlinecolor": "#2a3f5f"
            },
            "baxis": {
             "endlinecolor": "#2a3f5f",
             "gridcolor": "white",
             "linecolor": "white",
             "minorgridcolor": "white",
             "startlinecolor": "#2a3f5f"
            },
            "type": "carpet"
           }
          ],
          "table": [
           {
            "cells": {
             "fill": {
              "color": "#EBF0F8"
             },
             "line": {
              "color": "white"
             }
            },
            "header": {
             "fill": {
              "color": "#C8D4E3"
             },
             "line": {
              "color": "white"
             }
            },
            "type": "table"
           }
          ],
          "barpolar": [
           {
            "marker": {
             "line": {
              "color": "#E5ECF6",
              "width": 0.5
             },
             "pattern": {
              "fillmode": "overlay",
              "size": 10,
              "solidity": 0.2
             }
            },
            "type": "barpolar"
           }
          ],
          "pie": [
           {
            "automargin": true,
            "type": "pie"
           }
          ]
         },
         "layout": {
          "autotypenumbers": "strict",
          "colorway": [
           "#636efa",
           "#EF553B",
           "#00cc96",
           "#ab63fa",
           "#FFA15A",
           "#19d3f3",
           "#FF6692",
           "#B6E880",
           "#FF97FF",
           "#FECB52"
          ],
          "font": {
           "color": "#2a3f5f"
          },
          "hovermode": "closest",
          "hoverlabel": {
           "align": "left"
          },
          "paper_bgcolor": "white",
          "plot_bgcolor": "#E5ECF6",
          "polar": {
           "bgcolor": "#E5ECF6",
           "angularaxis": {
            "gridcolor": "white",
            "linecolor": "white",
            "ticks": ""
           },
           "radialaxis": {
            "gridcolor": "white",
            "linecolor": "white",
            "ticks": ""
           }
          },
          "ternary": {
           "bgcolor": "#E5ECF6",
           "aaxis": {
            "gridcolor": "white",
            "linecolor": "white",
            "ticks": ""
           },
           "baxis": {
            "gridcolor": "white",
            "linecolor": "white",
            "ticks": ""
           },
           "caxis": {
            "gridcolor": "white",
            "linecolor": "white",
            "ticks": ""
           }
          },
          "coloraxis": {
           "colorbar": {
            "outlinewidth": 0,
            "ticks": ""
           }
          },
          "colorscale": {
           "sequential": [
            [
             0.0,
             "#0d0887"
            ],
            [
             0.1111111111111111,
             "#46039f"
            ],
            [
             0.2222222222222222,
             "#7201a8"
            ],
            [
             0.3333333333333333,
             "#9c179e"
            ],
            [
             0.4444444444444444,
             "#bd3786"
            ],
            [
             0.5555555555555556,
             "#d8576b"
            ],
            [
             0.6666666666666666,
             "#ed7953"
            ],
            [
             0.7777777777777778,
             "#fb9f3a"
            ],
            [
             0.8888888888888888,
             "#fdca26"
            ],
            [
             1.0,
             "#f0f921"
            ]
           ],
           "sequentialminus": [
            [
             0.0,
             "#0d0887"
            ],
            [
             0.1111111111111111,
             "#46039f"
            ],
            [
             0.2222222222222222,
             "#7201a8"
            ],
            [
             0.3333333333333333,
             "#9c179e"
            ],
            [
             0.4444444444444444,
             "#bd3786"
            ],
            [
             0.5555555555555556,
             "#d8576b"
            ],
            [
             0.6666666666666666,
             "#ed7953"
            ],
            [
             0.7777777777777778,
             "#fb9f3a"
            ],
            [
             0.8888888888888888,
             "#fdca26"
            ],
            [
             1.0,
             "#f0f921"
            ]
           ],
           "diverging": [
            [
             0,
             "#8e0152"
            ],
            [
             0.1,
             "#c51b7d"
            ],
            [
             0.2,
             "#de77ae"
            ],
            [
             0.3,
             "#f1b6da"
            ],
            [
             0.4,
             "#fde0ef"
            ],
            [
             0.5,
             "#f7f7f7"
            ],
            [
             0.6,
             "#e6f5d0"
            ],
            [
             0.7,
             "#b8e186"
            ],
            [
             0.8,
             "#7fbc41"
            ],
            [
             0.9,
             "#4d9221"
            ],
            [
             1,
             "#276419"
            ]
           ]
          },
          "xaxis": {
           "gridcolor": "white",
           "linecolor": "white",
           "ticks": "",
           "title": {
            "standoff": 15
           },
           "zerolinecolor": "white",
           "automargin": true,
           "zerolinewidth": 2
          },
          "yaxis": {
           "gridcolor": "white",
           "linecolor": "white",
           "ticks": "",
           "title": {
            "standoff": 15
           },
           "zerolinecolor": "white",
           "automargin": true,
           "zerolinewidth": 2
          },
          "scene": {
           "xaxis": {
            "backgroundcolor": "#E5ECF6",
            "gridcolor": "white",
            "linecolor": "white",
            "showbackground": true,
            "ticks": "",
            "zerolinecolor": "white",
            "gridwidth": 2
           },
           "yaxis": {
            "backgroundcolor": "#E5ECF6",
            "gridcolor": "white",
            "linecolor": "white",
            "showbackground": true,
            "ticks": "",
            "zerolinecolor": "white",
            "gridwidth": 2
           },
           "zaxis": {
            "backgroundcolor": "#E5ECF6",
            "gridcolor": "white",
            "linecolor": "white",
            "showbackground": true,
            "ticks": "",
            "zerolinecolor": "white",
            "gridwidth": 2
           }
          },
          "shapedefaults": {
           "line": {
            "color": "#2a3f5f"
           }
          },
          "annotationdefaults": {
           "arrowcolor": "#2a3f5f",
           "arrowhead": 0,
           "arrowwidth": 1
          },
          "geo": {
           "bgcolor": "white",
           "landcolor": "#E5ECF6",
           "subunitcolor": "white",
           "showland": true,
           "showlakes": true,
           "lakecolor": "white"
          },
          "title": {
           "x": 0.05
          },
          "mapbox": {
           "style": "light"
          }
         }
        },
        "xaxis": {
         "anchor": "y",
         "domain": [
          0.0,
          1.0
         ],
         "title": {
          "text": "Number of Exchanged Messages"
         }
        },
        "yaxis": {
         "anchor": "x",
         "domain": [
          0.0,
          1.0
         ],
         "title": {
          "text": "Number of pairs"
         }
        },
        "legend": {
         "tracegroupgap": 0
        },
        "margin": {
         "t": 60
        },
        "barmode": "relative",
        "width": 1000,
        "height": 600
       },
       "config": {
        "plotlyServerURL": "https://plot.ly"
       }
      },
      "text/html": "<div>                            <div id=\"84554922-b4db-4576-9f79-a6d831ca4e03\" class=\"plotly-graph-div\" style=\"height:600px; width:1000px;\"></div>            <script type=\"text/javascript\">                require([\"plotly\"], function(Plotly) {                    window.PLOTLYENV=window.PLOTLYENV || {};                                    if (document.getElementById(\"84554922-b4db-4576-9f79-a6d831ca4e03\")) {                    Plotly.newPlot(                        \"84554922-b4db-4576-9f79-a6d831ca4e03\",                        [{\"alignmentgroup\":\"True\",\"bingroup\":\"x\",\"hovertemplate\":\"NumMes=%{x}<br>count=%{y}<extra></extra>\",\"legendgroup\":\"\",\"marker\":{\"color\":\"#636efa\",\"pattern\":{\"shape\":\"\"}},\"name\":\"\",\"nbinsx\":100,\"offsetgroup\":\"\",\"orientation\":\"v\",\"showlegend\":false,\"x\":[1.0,7.0,2.0,2.0,3.0,2.0,7.0,3.0,11.0,12.0,1.0,4.0,12.0,1.0,12.0,45.0,1.0,48.0,3.0,6.0,9.0,12.0,12.0,5.0,3.0,4.0,4.0,14.0,140.0,2.0,13.0,18.0,53.0,1.0,11.0,68.0,3.0,6.0,3.0,3.0,1.0,11.0,1.0,6.0,1.0,3.0,1.0,1.0,4.0,158.0,1.0,1.0,10.0,2.0,2.0,2.0,13.0,18.0,20.0,5.0,2.0,5.0,11.0,1.0,1.0,12.0,1.0,2.0,11.0,5.0,4.0,2.0,26.0,55.0,1.0,1.0,3.0,1.0,31.0,2.0,60.0,1.0,1.0,3.0,295.0,5.0,22.0,4.0,1.0,2.0,2.0,2.0,1.0,102.0,28.0,19.0,1.0,42.0,1.0,3.0,7.0,4.0,47.0,1.0,1.0,7.0,47.0,80.0,27.0,54.0,53.0,7.0,4.0,1.0,7.0,30.0,10.0,3.0,7.0,7.0,5.0,10.0,3.0,1.0,3.0,2.0,3.0,10.0,7.0,2.0,1.0,3.0,174.0,2.0,2.0,1.0,2.0,1.0,1.0,118.0,1.0,1.0,3.0,1.0,25.0,1.0,1.0,1.0,2.0,4.0,5.0,14.0,5.0,1.0,1.0,1.0,2.0,2.0,2.0,1.0,1.0,1.0,2.0,3.0,3.0,2.0,1.0,2.0,7.0,2.0,9.0,2.0,10.0,13.0,1.0,1.0,1.0,1.0,1.0,1.0,1.0,1.0,2.0,1.0,1.0,1.0,2.0,1.0,1.0,10.0,4.0,3.0,2.0,6.0,2.0,1.0,2.0,2.0,2.0,16.0,1.0,4.0,9.0,2.0,14.0,3.0,2.0,92.0,11.0,33.0,8.0,3.0,6.0,5.0,13.0,2.0,8.0,29.0,29.0,1.0,105.0,5.0,24.0,3.0,8.0,1.0,7.0,3.0,12.0,2.0,27.0,10.0,11.0,26.0,3.0,4.0,4.0,6.0,22.0,5.0,40.0,4.0,9.0,12.0,2.0,8.0,11.0,1.0,6.0,10.0,2.0,8.0,7.0,65.0,166.0,9.0,4.0,12.0,7.0,115.0,11.0,8.0,3.0,137.0,2.0,5.0,5.0,3.0,23.0,27.0,3.0,6.0,7.0,12.0,1.0,4.0,7.0,9.0,4.0,8.0,14.0,2.0,11.0,4.0,5.0,3.0,5.0,39.0,18.0,17.0,22.0,4.0,13.0,11.0,26.0,14.0,50.0,19.0,1.0,6.0,3.0,9.0,1.0,3.0,2.0,2.0,19.0,8.0,3.0,17.0,209.0,12.0,15.0,4.0,13.0,4.0,3.0,2.0,2.0,75.0,3.0,15.0,2.0,35.0,3.0,10.0,3.0,3.0,2.0,2.0,2.0,2.0,3.0,3.0,3.0,3.0,6.0,4.0,4.0,3.0,6.0,3.0,15.0,9.0,51.0,3.0,9.0,124.0,4.0,2.0,1.0,1.0,11.0,1.0,1.0,1.0,5.0,4.0,30.0,37.0,3.0,3.0,12.0,3.0,3.0,2.0,5.0,11.0,9.0,7.0,5.0,4.0,5.0,2.0,2.0,6.0,13.0,6.0,5.0,2.0,2.0,1.0,2.0,7.0,30.0,92.0,1.0,11.0,1.0,1.0,1.0,1.0,1.0,5.0,7.0,2.0,2.0,2.0,3.0,13.0,2.0,2.0,2.0,1.0,1.0,1.0,4.0,63.0,63.0,14.0,2.0,2.0,3.0,10.0,29.0,3.0,2.0,2.0,2.0,2.0,2.0,2.0,2.0,87.0,78.0,2.0,4.0,7.0,5.0,3.0,2.0,2.0,2.0,4.0,3.0,1.0,1.0,17.0,1.0,6.0,17.0,24.0,17.0,4.0,2.0,5.0,1.0,49.0,7.0,4.0,4.0,5.0,5.0,3.0,7.0,2.0,13.0,2.0,8.0,1.0,4.0,5.0,2.0,3.0,6.0,1.0,1.0,1.0,1.0,1.0,1.0,1.0,2.0,10.0,1.0,1.0,2.0,2.0,1.0,2.0,1.0,1.0,1.0,1.0,1.0,1.0,1.0,1.0,24.0,1.0,3.0,1.0,2.0,2.0,1.0,1.0,1.0,1.0,1.0,1.0,22.0,2.0,3.0,2.0,5.0,2.0,4.0,2.0,1.0,7.0,2.0,3.0,1.0,1.0,1.0,1.0,1.0,4.0,37.0,140.0,6.0,22.0,8.0,47.0,5.0,2.0,5.0,1.0,31.0,1.0,2.0,13.0,11.0,10.0,12.0,3.0,35.0,4.0,2.0,3.0,5.0,15.0,7.0,1.0,3.0,5.0,30.0,1.0,9.0,2.0,2.0,8.0,1.0,1.0,5.0,2.0,2.0,2.0,2.0,10.0,1.0,3.0,2.0,2.0,8.0,3.0,25.0,1.0,1.0,1.0,1.0,1.0,1.0,2.0,5.0,2.0,1.0,1.0,1.0,2.0,1.0,1.0,6.0,3.0,3.0,3.0,1.0,7.0,14.0,2.0,4.0,3.0,7.0,5.0,11.0,3.0,2.0,29.0,37.0,23.0,1.0,8.0,2.0,16.0,1.0,2.0,14.0,12.0,2.0,3.0,15.0,21.0,5.0,3.0,15.0,5.0,1.0,15.0,5.0,11.0,4.0,6.0,3.0,3.0,5.0,15.0,3.0,2.0,1.0,3.0,2.0,2.0,3.0,2.0,2.0,1.0,1.0,1.0,2.0,1.0,1.0,1.0,2.0,3.0,92.0,1.0,1.0,10.0,1.0,4.0,3.0,2.0,1.0,10.0,2.0,2.0,7.0,10.0,4.0,3.0,2.0,8.0,6.0,8.0,8.0,9.0,4.0,2.0,6.0,5.0,9.0,9.0,3.0,1.0,3.0,4.0,12.0,2.0,85.0,6.0,55.0,2.0,17.0,3.0,1.0,1.0,6.0,122.0,1.0,9.0,13.0,7.0,46.0,25.0,35.0,11.0,1.0,7.0,10.0,29.0,3.0,1.0,2.0,3.0,6.0,3.0,3.0,8.0,14.0,9.0,1.0,1.0,1.0,6.0,2.0,14.0,14.0,20.0,10.0,2.0,12.0,5.0,119.0,20.0,211.0,13.0,18.0,33.0,86.0,6.0,12.0,1.0,8.0,14.0,12.0,3.0,37.0,13.0,2.0,4.0,9.0,1.0,2.0,3.0,12.0,7.0,19.0,29.0,5.0,1.0,7.0,1.0,1.0,2.0,25.0,9.0,4.0,5.0,6.0,8.0,6.0,8.0,6.0,8.0,9.0,12.0,16.0,15.0,14.0,6.0,9.0,12.0,1.0,1.0,3.0,5.0,14.0,3.0,1.0,18.0,8.0,6.0,3.0,116.0,7.0,1.0,1.0,1.0,3.0,102.0,2.0,9.0,8.0,3.0,3.0,3.0,7.0,8.0,2.0,6.0,16.0,16.0,8.0,31.0,12.0,14.0,6.0,6.0,6.0,7.0,15.0,16.0,7.0,10.0,22.0,1.0,1.0,2.0,1.0,1.0,1.0,1.0,2.0,1.0,171.0,5.0,1.0,1.0,2.0,3.0,1.0,5.0,39.0,1.0,2.0,1.0,1.0,1.0,1.0,3.0,1.0,1.0,12.0,1.0,5.0,10.0,1.0,2.0,2.0,3.0,6.0,10.0,2.0,35.0,30.0,2.0,137.0,2.0,4.0,2.0,7.0,7.0,3.0,1.0,5.0,16.0,2.0,3.0,2.0,4.0,12.0,2.0,2.0,2.0,7.0,5.0,1.0,1.0,2.0,2.0,12.0,1.0,1.0,1.0,1.0,1.0,2.0,1.0,7.0,2.0,2.0,13.0,1.0,1.0,2.0,6.0,2.0,1.0,1.0,3.0,27.0,4.0,8.0,20.0,9.0,3.0,40.0,14.0,16.0,3.0,252.0,440.0,47.0,24.0,160.0,14.0,11.0,13.0,1.0,2.0,2.0,3.0,4.0,2.0,5.0,1.0,4.0,2.0,2.0,3.0,22.0,13.0,4.0,5.0,2.0,1.0,3.0,12.0,2.0,8.0,79.0,2.0,3.0,9.0,6.0,8.0,1.0,223.0,20.0,11.0,13.0,3.0,346.0,29.0,8.0,17.0,4.0,52.0,7.0,454.0,1.0,7.0,15.0,14.0,84.0,2.0,2.0,3.0,4.0,11.0,3.0,5.0,5.0,85.0,1.0,1.0,5.0,5.0,9.0,16.0,4.0,4.0,4.0,7.0,24.0,7.0,49.0,55.0,6.0,1.0,1.0,6.0,25.0,13.0,69.0,5.0,14.0,7.0,7.0,30.0,44.0,3.0,10.0,15.0,24.0,5.0,1.0,9.0,3.0,8.0,2.0,5.0,10.0,55.0,6.0,29.0,4.0,6.0,29.0,14.0,61.0,69.0,4.0,19.0,42.0,7.0,17.0,4.0,27.0,24.0,5.0,55.0,25.0,3.0,26.0,6.0,9.0,167.0,15.0,17.0,1.0,2.0,4.0,10.0,9.0,2.0,68.0,3.0,4.0,7.0,4.0,14.0,5.0,53.0,72.0,32.0,9.0,85.0,6.0,27.0,1.0,42.0,2.0,637.0,8.0,2.0,5.0,31.0,15.0,2.0,3.0,2.0,3.0,42.0,1.0,1.0,40.0,3.0,36.0,2.0,12.0,4.0,1.0,2.0,4.0,9.0,8.0,2.0,4.0,1.0,8.0,2.0,9.0,85.0,12.0,24.0,28.0,9.0,1.0,3.0,1.0,3.0,1.0,8.0,22.0,37.0,15.0,1.0,20.0,3.0,5.0,3.0,2.0,6.0,8.0,137.0,6.0,1.0,4.0,2.0,82.0,58.0,190.0,20.0,5.0,1.0,213.0,4.0,6.0,1.0,20.0,11.0,3.0,17.0,1.0,69.0,1.0,3.0,5.0,2.0,11.0,6.0,8.0,7.0,17.0,20.0,18.0,11.0,4.0,4.0,11.0,9.0,3.0,5.0,5.0,24.0,2.0,3.0,14.0,25.0,2.0,43.0,3.0,1.0,1.0,2.0,3.0,9.0,2.0,2.0,1.0,25.0,1.0,1.0,1.0,5.0,10.0,5.0,11.0,5.0,3.0,5.0,41.0,5.0,2.0,2.0,3.0,9.0,4.0,1.0,1.0,1.0,1.0,2.0,1.0,2.0,54.0,16.0,44.0,1.0,1.0,5.0,1.0,1.0,5.0,68.0,1.0,1.0,9.0,4.0,3.0,10.0,1.0,17.0,2.0,2.0,2.0,3.0,2.0,2.0,8.0,345.0,13.0,91.0,3.0,8.0,4.0,26.0,3.0,1.0,2.0,77.0,3.0,187.0,20.0,4.0,4.0,6.0,7.0,56.0,1.0,3.0,3.0,2.0,1.0,4.0,13.0,2.0,2.0,35.0,2.0,2.0,2.0,2.0,2.0,2.0,2.0,11.0,4.0,1.0,1.0,7.0,7.0,2.0,4.0,28.0,2.0,1.0,1.0,1.0,1.0,1.0,1.0,2.0,8.0,19.0,16.0,1.0,21.0,1.0,9.0,2.0,2.0,2.0,2.0,5.0,27.0,17.0,9.0,10.0,2.0,2.0,9.0,4.0,5.0,8.0,1.0,11.0,1.0,10.0,2.0,2.0,2.0,20.0,2.0,7.0,4.0,8.0,5.0,1.0,3.0,48.0,4.0,14.0,19.0,2.0,8.0,2.0,4.0,22.0,4.0,3.0,5.0,2.0,22.0,4.0,2.0,8.0,6.0,5.0,8.0,3.0,2.0,2.0,2.0,4.0,1.0,16.0,5.0,1.0,2.0,8.0,9.0,3.0,4.0,1.0,2.0,3.0,2.0,7.0,2.0,24.0,4.0,6.0,8.0,11.0,4.0,3.0,58.0,7.0,5.0,5.0,3.0,8.0,5.0,68.0,22.0,2.0,9.0,12.0,3.0,61.0,2.0,1.0,1.0,2.0,1.0,1.0,2.0,1.0,2.0,1.0,3.0,10.0,4.0,7.0,17.0,6.0,2.0,15.0,1.0,1.0,3.0,22.0,10.0,3.0,6.0,1.0,6.0,1.0,9.0,1.0,1.0,1.0,1.0,22.0,3.0,2.0,1.0,6.0,1.0,1.0,12.0,11.0,2.0,1.0,5.0,1.0,38.0,22.0,1.0,3.0,68.0,1.0,4.0,6.0,19.0,4.0,1.0,142.0,2.0,1.0,6.0,17.0,3.0,2.0,2.0,5.0,11.0,4.0,3.0,64.0,2.0,1.0,3.0,1.0,1.0,2.0,7.0,1.0,3.0,8.0,51.0,2.0,38.0,1.0,3.0,17.0,1.0,9.0,8.0,2.0,1.0,6.0,2.0,8.0,7.0,1.0,3.0,20.0,12.0,7.0,44.0,5.0,91.0,3.0,4.0,2.0,30.0,14.0,20.0,2.0,1.0,1.0,1.0,2.0,1.0,1.0,16.0,2.0,1.0,2.0,2.0,1.0,8.0,2.0,2.0,2.0,8.0,1.0,1.0,5.0,2.0,4.0,13.0,5.0,9.0,3.0,2.0,21.0,4.0,7.0,3.0,1.0,1.0,1.0,1.0,1.0,1.0,6.0,3.0,29.0,28.0,6.0,4.0,6.0,6.0,3.0,4.0,55.0,8.0,2.0,5.0,4.0,1.0,3.0,25.0,3.0,3.0,8.0,15.0,2.0,279.0,25.0,3.0,33.0,11.0,14.0,3.0,35.0,4.0,2.0,9.0,2.0,1.0,299.0,3.0,7.0,1.0,1.0,13.0,2.0,2.0,2.0,2.0,18.0,5.0,1.0,20.0,5.0,2.0,6.0,7.0,15.0,12.0,1.0,8.0,26.0,2.0,1.0,1.0,8.0,9.0,3.0,4.0,2.0,1.0,14.0,3.0,3.0,5.0,6.0,2.0,1.0,1.0,1.0,4.0,32.0,3.0,4.0,22.0,2.0,2.0,7.0,4.0,70.0,26.0,1.0,3.0,2.0,3.0,26.0,6.0,5.0,2.0,1.0,3.0,2.0,8.0,37.0,14.0,1.0,1.0,6.0,8.0,6.0,25.0,1.0,2.0,10.0,10.0,1.0,1.0,14.0,1.0,8.0,38.0,11.0,10.0,9.0,10.0,7.0,11.0,9.0,26.0,6.0,7.0,24.0,6.0,7.0,6.0,6.0,6.0,20.0,2.0,7.0,2.0,2.0,1.0,4.0,18.0,26.0,2.0,2.0,2.0,1.0,1.0,4.0,1.0,1.0,3.0,1.0,2.0,16.0,24.0,8.0,2.0,22.0,2.0,2.0,8.0,7.0,6.0,8.0,5.0,8.0,3.0,2.0,3.0,3.0,3.0,47.0,19.0,2.0,6.0,4.0,2.0,1.0,37.0,8.0,6.0,17.0,5.0,4.0,11.0,5.0,6.0,3.0,13.0,4.0,6.0,1.0,1.0,3.0,1.0,1.0,1.0,4.0,1.0,1.0,4.0,5.0,35.0,9.0,1.0,1.0,1.0,2.0,3.0,9.0,1.0,2.0,3.0,2.0,11.0,11.0,2.0,1.0,1.0,4.0,92.0,424.0,24.0,167.0,47.0,6.0,6.0,2.0,45.0,2.0,2.0,3.0,32.0,5.0,7.0,4.0,1.0,3.0,5.0,5.0,11.0,3.0,2.0,5.0,7.0,9.0,2.0,9.0,6.0,23.0,7.0,111.0,8.0,11.0,1.0,4.0,26.0,2.0,7.0,6.0,9.0,22.0,265.0,40.0,1.0,15.0,22.0,7.0,7.0,4.0,1.0,23.0,5.0,4.0,8.0,2.0,7.0,8.0,12.0,3.0,2.0,2.0,6.0,26.0,12.0,17.0,7.0,8.0,19.0,2.0,11.0,1.0,1.0,1.0,1.0,466.0,1.0,4.0,1.0,4.0,425.0,7.0,1.0,1.0,67.0,3.0,1.0,1.0,161.0,1.0,19.0,6.0,2.0,6.0,4.0,1.0,1.0,6.0,6.0,5.0,6.0,3.0,3.0,2.0,43.0,2.0,2.0,7.0,10.0,4.0,2.0,2.0,2.0,32.0,2.0,4.0,1.0,2.0,23.0,1.0],\"xaxis\":\"x\",\"yaxis\":\"y\",\"type\":\"histogram\"}],                        {\"template\":{\"data\":{\"histogram2dcontour\":[{\"type\":\"histogram2dcontour\",\"colorbar\":{\"outlinewidth\":0,\"ticks\":\"\"},\"colorscale\":[[0.0,\"#0d0887\"],[0.1111111111111111,\"#46039f\"],[0.2222222222222222,\"#7201a8\"],[0.3333333333333333,\"#9c179e\"],[0.4444444444444444,\"#bd3786\"],[0.5555555555555556,\"#d8576b\"],[0.6666666666666666,\"#ed7953\"],[0.7777777777777778,\"#fb9f3a\"],[0.8888888888888888,\"#fdca26\"],[1.0,\"#f0f921\"]]}],\"choropleth\":[{\"type\":\"choropleth\",\"colorbar\":{\"outlinewidth\":0,\"ticks\":\"\"}}],\"histogram2d\":[{\"type\":\"histogram2d\",\"colorbar\":{\"outlinewidth\":0,\"ticks\":\"\"},\"colorscale\":[[0.0,\"#0d0887\"],[0.1111111111111111,\"#46039f\"],[0.2222222222222222,\"#7201a8\"],[0.3333333333333333,\"#9c179e\"],[0.4444444444444444,\"#bd3786\"],[0.5555555555555556,\"#d8576b\"],[0.6666666666666666,\"#ed7953\"],[0.7777777777777778,\"#fb9f3a\"],[0.8888888888888888,\"#fdca26\"],[1.0,\"#f0f921\"]]}],\"heatmap\":[{\"type\":\"heatmap\",\"colorbar\":{\"outlinewidth\":0,\"ticks\":\"\"},\"colorscale\":[[0.0,\"#0d0887\"],[0.1111111111111111,\"#46039f\"],[0.2222222222222222,\"#7201a8\"],[0.3333333333333333,\"#9c179e\"],[0.4444444444444444,\"#bd3786\"],[0.5555555555555556,\"#d8576b\"],[0.6666666666666666,\"#ed7953\"],[0.7777777777777778,\"#fb9f3a\"],[0.8888888888888888,\"#fdca26\"],[1.0,\"#f0f921\"]]}],\"heatmapgl\":[{\"type\":\"heatmapgl\",\"colorbar\":{\"outlinewidth\":0,\"ticks\":\"\"},\"colorscale\":[[0.0,\"#0d0887\"],[0.1111111111111111,\"#46039f\"],[0.2222222222222222,\"#7201a8\"],[0.3333333333333333,\"#9c179e\"],[0.4444444444444444,\"#bd3786\"],[0.5555555555555556,\"#d8576b\"],[0.6666666666666666,\"#ed7953\"],[0.7777777777777778,\"#fb9f3a\"],[0.8888888888888888,\"#fdca26\"],[1.0,\"#f0f921\"]]}],\"contourcarpet\":[{\"type\":\"contourcarpet\",\"colorbar\":{\"outlinewidth\":0,\"ticks\":\"\"}}],\"contour\":[{\"type\":\"contour\",\"colorbar\":{\"outlinewidth\":0,\"ticks\":\"\"},\"colorscale\":[[0.0,\"#0d0887\"],[0.1111111111111111,\"#46039f\"],[0.2222222222222222,\"#7201a8\"],[0.3333333333333333,\"#9c179e\"],[0.4444444444444444,\"#bd3786\"],[0.5555555555555556,\"#d8576b\"],[0.6666666666666666,\"#ed7953\"],[0.7777777777777778,\"#fb9f3a\"],[0.8888888888888888,\"#fdca26\"],[1.0,\"#f0f921\"]]}],\"surface\":[{\"type\":\"surface\",\"colorbar\":{\"outlinewidth\":0,\"ticks\":\"\"},\"colorscale\":[[0.0,\"#0d0887\"],[0.1111111111111111,\"#46039f\"],[0.2222222222222222,\"#7201a8\"],[0.3333333333333333,\"#9c179e\"],[0.4444444444444444,\"#bd3786\"],[0.5555555555555556,\"#d8576b\"],[0.6666666666666666,\"#ed7953\"],[0.7777777777777778,\"#fb9f3a\"],[0.8888888888888888,\"#fdca26\"],[1.0,\"#f0f921\"]]}],\"mesh3d\":[{\"type\":\"mesh3d\",\"colorbar\":{\"outlinewidth\":0,\"ticks\":\"\"}}],\"scatter\":[{\"fillpattern\":{\"fillmode\":\"overlay\",\"size\":10,\"solidity\":0.2},\"type\":\"scatter\"}],\"parcoords\":[{\"type\":\"parcoords\",\"line\":{\"colorbar\":{\"outlinewidth\":0,\"ticks\":\"\"}}}],\"scatterpolargl\":[{\"type\":\"scatterpolargl\",\"marker\":{\"colorbar\":{\"outlinewidth\":0,\"ticks\":\"\"}}}],\"bar\":[{\"error_x\":{\"color\":\"#2a3f5f\"},\"error_y\":{\"color\":\"#2a3f5f\"},\"marker\":{\"line\":{\"color\":\"#E5ECF6\",\"width\":0.5},\"pattern\":{\"fillmode\":\"overlay\",\"size\":10,\"solidity\":0.2}},\"type\":\"bar\"}],\"scattergeo\":[{\"type\":\"scattergeo\",\"marker\":{\"colorbar\":{\"outlinewidth\":0,\"ticks\":\"\"}}}],\"scatterpolar\":[{\"type\":\"scatterpolar\",\"marker\":{\"colorbar\":{\"outlinewidth\":0,\"ticks\":\"\"}}}],\"histogram\":[{\"marker\":{\"pattern\":{\"fillmode\":\"overlay\",\"size\":10,\"solidity\":0.2}},\"type\":\"histogram\"}],\"scattergl\":[{\"type\":\"scattergl\",\"marker\":{\"colorbar\":{\"outlinewidth\":0,\"ticks\":\"\"}}}],\"scatter3d\":[{\"type\":\"scatter3d\",\"line\":{\"colorbar\":{\"outlinewidth\":0,\"ticks\":\"\"}},\"marker\":{\"colorbar\":{\"outlinewidth\":0,\"ticks\":\"\"}}}],\"scattermapbox\":[{\"type\":\"scattermapbox\",\"marker\":{\"colorbar\":{\"outlinewidth\":0,\"ticks\":\"\"}}}],\"scatterternary\":[{\"type\":\"scatterternary\",\"marker\":{\"colorbar\":{\"outlinewidth\":0,\"ticks\":\"\"}}}],\"scattercarpet\":[{\"type\":\"scattercarpet\",\"marker\":{\"colorbar\":{\"outlinewidth\":0,\"ticks\":\"\"}}}],\"carpet\":[{\"aaxis\":{\"endlinecolor\":\"#2a3f5f\",\"gridcolor\":\"white\",\"linecolor\":\"white\",\"minorgridcolor\":\"white\",\"startlinecolor\":\"#2a3f5f\"},\"baxis\":{\"endlinecolor\":\"#2a3f5f\",\"gridcolor\":\"white\",\"linecolor\":\"white\",\"minorgridcolor\":\"white\",\"startlinecolor\":\"#2a3f5f\"},\"type\":\"carpet\"}],\"table\":[{\"cells\":{\"fill\":{\"color\":\"#EBF0F8\"},\"line\":{\"color\":\"white\"}},\"header\":{\"fill\":{\"color\":\"#C8D4E3\"},\"line\":{\"color\":\"white\"}},\"type\":\"table\"}],\"barpolar\":[{\"marker\":{\"line\":{\"color\":\"#E5ECF6\",\"width\":0.5},\"pattern\":{\"fillmode\":\"overlay\",\"size\":10,\"solidity\":0.2}},\"type\":\"barpolar\"}],\"pie\":[{\"automargin\":true,\"type\":\"pie\"}]},\"layout\":{\"autotypenumbers\":\"strict\",\"colorway\":[\"#636efa\",\"#EF553B\",\"#00cc96\",\"#ab63fa\",\"#FFA15A\",\"#19d3f3\",\"#FF6692\",\"#B6E880\",\"#FF97FF\",\"#FECB52\"],\"font\":{\"color\":\"#2a3f5f\"},\"hovermode\":\"closest\",\"hoverlabel\":{\"align\":\"left\"},\"paper_bgcolor\":\"white\",\"plot_bgcolor\":\"#E5ECF6\",\"polar\":{\"bgcolor\":\"#E5ECF6\",\"angularaxis\":{\"gridcolor\":\"white\",\"linecolor\":\"white\",\"ticks\":\"\"},\"radialaxis\":{\"gridcolor\":\"white\",\"linecolor\":\"white\",\"ticks\":\"\"}},\"ternary\":{\"bgcolor\":\"#E5ECF6\",\"aaxis\":{\"gridcolor\":\"white\",\"linecolor\":\"white\",\"ticks\":\"\"},\"baxis\":{\"gridcolor\":\"white\",\"linecolor\":\"white\",\"ticks\":\"\"},\"caxis\":{\"gridcolor\":\"white\",\"linecolor\":\"white\",\"ticks\":\"\"}},\"coloraxis\":{\"colorbar\":{\"outlinewidth\":0,\"ticks\":\"\"}},\"colorscale\":{\"sequential\":[[0.0,\"#0d0887\"],[0.1111111111111111,\"#46039f\"],[0.2222222222222222,\"#7201a8\"],[0.3333333333333333,\"#9c179e\"],[0.4444444444444444,\"#bd3786\"],[0.5555555555555556,\"#d8576b\"],[0.6666666666666666,\"#ed7953\"],[0.7777777777777778,\"#fb9f3a\"],[0.8888888888888888,\"#fdca26\"],[1.0,\"#f0f921\"]],\"sequentialminus\":[[0.0,\"#0d0887\"],[0.1111111111111111,\"#46039f\"],[0.2222222222222222,\"#7201a8\"],[0.3333333333333333,\"#9c179e\"],[0.4444444444444444,\"#bd3786\"],[0.5555555555555556,\"#d8576b\"],[0.6666666666666666,\"#ed7953\"],[0.7777777777777778,\"#fb9f3a\"],[0.8888888888888888,\"#fdca26\"],[1.0,\"#f0f921\"]],\"diverging\":[[0,\"#8e0152\"],[0.1,\"#c51b7d\"],[0.2,\"#de77ae\"],[0.3,\"#f1b6da\"],[0.4,\"#fde0ef\"],[0.5,\"#f7f7f7\"],[0.6,\"#e6f5d0\"],[0.7,\"#b8e186\"],[0.8,\"#7fbc41\"],[0.9,\"#4d9221\"],[1,\"#276419\"]]},\"xaxis\":{\"gridcolor\":\"white\",\"linecolor\":\"white\",\"ticks\":\"\",\"title\":{\"standoff\":15},\"zerolinecolor\":\"white\",\"automargin\":true,\"zerolinewidth\":2},\"yaxis\":{\"gridcolor\":\"white\",\"linecolor\":\"white\",\"ticks\":\"\",\"title\":{\"standoff\":15},\"zerolinecolor\":\"white\",\"automargin\":true,\"zerolinewidth\":2},\"scene\":{\"xaxis\":{\"backgroundcolor\":\"#E5ECF6\",\"gridcolor\":\"white\",\"linecolor\":\"white\",\"showbackground\":true,\"ticks\":\"\",\"zerolinecolor\":\"white\",\"gridwidth\":2},\"yaxis\":{\"backgroundcolor\":\"#E5ECF6\",\"gridcolor\":\"white\",\"linecolor\":\"white\",\"showbackground\":true,\"ticks\":\"\",\"zerolinecolor\":\"white\",\"gridwidth\":2},\"zaxis\":{\"backgroundcolor\":\"#E5ECF6\",\"gridcolor\":\"white\",\"linecolor\":\"white\",\"showbackground\":true,\"ticks\":\"\",\"zerolinecolor\":\"white\",\"gridwidth\":2}},\"shapedefaults\":{\"line\":{\"color\":\"#2a3f5f\"}},\"annotationdefaults\":{\"arrowcolor\":\"#2a3f5f\",\"arrowhead\":0,\"arrowwidth\":1},\"geo\":{\"bgcolor\":\"white\",\"landcolor\":\"#E5ECF6\",\"subunitcolor\":\"white\",\"showland\":true,\"showlakes\":true,\"lakecolor\":\"white\"},\"title\":{\"x\":0.05},\"mapbox\":{\"style\":\"light\"}}},\"xaxis\":{\"anchor\":\"y\",\"domain\":[0.0,1.0],\"title\":{\"text\":\"Number of Exchanged Messages\"}},\"yaxis\":{\"anchor\":\"x\",\"domain\":[0.0,1.0],\"title\":{\"text\":\"Number of pairs\"}},\"legend\":{\"tracegroupgap\":0},\"margin\":{\"t\":60},\"barmode\":\"relative\",\"width\":1000,\"height\":600},                        {\"responsive\": true}                    ).then(function(){\n                            \nvar gd = document.getElementById('84554922-b4db-4576-9f79-a6d831ca4e03');\nvar x = new MutationObserver(function (mutations, observer) {{\n        var display = window.getComputedStyle(gd).display;\n        if (!display || display === 'none') {{\n            console.log([gd, 'removed!']);\n            Plotly.purge(gd);\n            observer.disconnect();\n        }}\n}});\n\n// Listen for the removal of the full notebook cells\nvar notebookContainer = gd.closest('#notebook-container');\nif (notebookContainer) {{\n    x.observe(notebookContainer, {childList: true});\n}}\n\n// Listen for the clearing of the current output cell\nvar outputEl = gd.closest('.output');\nif (outputEl) {{\n    x.observe(outputEl, {childList: true});\n}}\n\n                        })                };                });            </script>        </div>"
     },
     "metadata": {},
     "output_type": "display_data"
    }
   ],
   "source": [
    "# Plot\n",
    "fig = px.histogram(exchanged_messages,\n",
    "                   x=\"NumMes\",\n",
    "                   nbins=100)\n",
    "fig.update_layout(\n",
    "    width=1000,\n",
    "    height = 600,\n",
    "    xaxis_title=\"Number of Exchanged Messages\", yaxis_title=\"Number of pairs\"\n",
    ")\n",
    "fig.show()\n",
    "\n",
    "fig.write_image('../output/plots/exchangedMessages.jpg', width=1000, height=600)"
   ],
   "metadata": {
    "collapsed": false,
    "pycharm": {
     "name": "#%%\n"
    }
   }
  },
  {
   "cell_type": "code",
   "execution_count": 41,
   "outputs": [
    {
     "data": {
      "application/vnd.plotly.v1+json": {
       "data": [
        {
         "alignmentgroup": "True",
         "bingroup": "x",
         "hovertemplate": "NumMes=%{x}<br>count=%{y}<extra></extra>",
         "legendgroup": "",
         "marker": {
          "color": "#636efa",
          "pattern": {
           "shape": ""
          }
         },
         "name": "",
         "nbinsx": 100,
         "offsetgroup": "",
         "orientation": "v",
         "showlegend": false,
         "x": [
          1.0,
          7.0,
          2.0,
          2.0,
          3.0,
          2.0,
          7.0,
          3.0,
          11.0,
          12.0,
          1.0,
          4.0,
          12.0,
          1.0,
          12.0,
          45.0,
          1.0,
          48.0,
          3.0,
          6.0,
          9.0,
          12.0,
          12.0,
          5.0,
          3.0,
          4.0,
          4.0,
          14.0,
          140.0,
          2.0,
          13.0,
          18.0,
          53.0,
          1.0,
          11.0,
          68.0,
          3.0,
          6.0,
          3.0,
          3.0,
          1.0,
          11.0,
          1.0,
          6.0,
          1.0,
          3.0,
          1.0,
          1.0,
          4.0,
          158.0,
          1.0,
          1.0,
          10.0,
          2.0,
          2.0,
          2.0,
          13.0,
          18.0,
          20.0,
          5.0,
          2.0,
          5.0,
          11.0,
          1.0,
          1.0,
          12.0,
          1.0,
          2.0,
          11.0,
          5.0,
          4.0,
          2.0,
          26.0,
          55.0,
          1.0,
          1.0,
          3.0,
          1.0,
          31.0,
          2.0,
          60.0,
          1.0,
          1.0,
          3.0,
          295.0,
          5.0,
          22.0,
          4.0,
          1.0,
          2.0,
          2.0,
          2.0,
          1.0,
          102.0,
          28.0,
          19.0,
          1.0,
          42.0,
          1.0,
          3.0,
          7.0,
          4.0,
          47.0,
          1.0,
          1.0,
          7.0,
          47.0,
          80.0,
          27.0,
          54.0,
          53.0,
          7.0,
          4.0,
          1.0,
          7.0,
          30.0,
          10.0,
          3.0,
          7.0,
          7.0,
          5.0,
          10.0,
          3.0,
          1.0,
          3.0,
          2.0,
          3.0,
          10.0,
          7.0,
          2.0,
          1.0,
          3.0,
          174.0,
          2.0,
          2.0,
          1.0,
          2.0,
          1.0,
          1.0,
          118.0,
          1.0,
          1.0,
          3.0,
          1.0,
          25.0,
          1.0,
          1.0,
          1.0,
          2.0,
          4.0,
          5.0,
          14.0,
          5.0,
          1.0,
          1.0,
          1.0,
          2.0,
          2.0,
          2.0,
          1.0,
          1.0,
          1.0,
          2.0,
          3.0,
          3.0,
          2.0,
          1.0,
          2.0,
          7.0,
          2.0,
          9.0,
          2.0,
          10.0,
          13.0,
          1.0,
          1.0,
          1.0,
          1.0,
          1.0,
          1.0,
          1.0,
          1.0,
          2.0,
          1.0,
          1.0,
          1.0,
          2.0,
          1.0,
          1.0,
          10.0,
          4.0,
          3.0,
          2.0,
          6.0,
          2.0,
          1.0,
          2.0,
          2.0,
          2.0,
          16.0,
          1.0,
          4.0,
          9.0,
          2.0,
          14.0,
          3.0,
          2.0,
          92.0,
          11.0,
          33.0,
          8.0,
          3.0,
          6.0,
          5.0,
          13.0,
          2.0,
          8.0,
          29.0,
          29.0,
          1.0,
          105.0,
          5.0,
          24.0,
          3.0,
          8.0,
          1.0,
          7.0,
          3.0,
          12.0,
          2.0,
          27.0,
          10.0,
          11.0,
          26.0,
          3.0,
          4.0,
          4.0,
          6.0,
          22.0,
          5.0,
          40.0,
          4.0,
          9.0,
          12.0,
          2.0,
          8.0,
          11.0,
          1.0,
          6.0,
          10.0,
          2.0,
          8.0,
          7.0,
          65.0,
          166.0,
          9.0,
          4.0,
          12.0,
          7.0,
          115.0,
          11.0,
          8.0,
          3.0,
          137.0,
          2.0,
          5.0,
          5.0,
          3.0,
          23.0,
          27.0,
          3.0,
          6.0,
          7.0,
          12.0,
          1.0,
          4.0,
          7.0,
          9.0,
          4.0,
          8.0,
          14.0,
          2.0,
          11.0,
          4.0,
          5.0,
          3.0,
          5.0,
          39.0,
          18.0,
          17.0,
          22.0,
          4.0,
          13.0,
          11.0,
          26.0,
          14.0,
          50.0,
          19.0,
          1.0,
          6.0,
          3.0,
          9.0,
          1.0,
          3.0,
          2.0,
          2.0,
          19.0,
          8.0,
          3.0,
          17.0,
          209.0,
          12.0,
          15.0,
          4.0,
          13.0,
          4.0,
          3.0,
          2.0,
          2.0,
          75.0,
          3.0,
          15.0,
          2.0,
          35.0,
          3.0,
          10.0,
          3.0,
          3.0,
          2.0,
          2.0,
          2.0,
          2.0,
          3.0,
          3.0,
          3.0,
          3.0,
          6.0,
          4.0,
          4.0,
          3.0,
          6.0,
          3.0,
          15.0,
          9.0,
          51.0,
          3.0,
          9.0,
          124.0,
          4.0,
          2.0,
          1.0,
          1.0,
          11.0,
          1.0,
          1.0,
          1.0,
          5.0,
          4.0,
          30.0,
          37.0,
          3.0,
          3.0,
          12.0,
          3.0,
          3.0,
          2.0,
          5.0,
          11.0,
          9.0,
          7.0,
          5.0,
          4.0,
          5.0,
          2.0,
          2.0,
          6.0,
          13.0,
          6.0,
          5.0,
          2.0,
          2.0,
          1.0,
          2.0,
          7.0,
          30.0,
          92.0,
          1.0,
          11.0,
          1.0,
          1.0,
          1.0,
          1.0,
          1.0,
          5.0,
          7.0,
          2.0,
          2.0,
          2.0,
          3.0,
          13.0,
          2.0,
          2.0,
          2.0,
          1.0,
          1.0,
          1.0,
          4.0,
          63.0,
          63.0,
          14.0,
          2.0,
          2.0,
          3.0,
          10.0,
          29.0,
          3.0,
          2.0,
          2.0,
          2.0,
          2.0,
          2.0,
          2.0,
          2.0,
          87.0,
          78.0,
          2.0,
          4.0,
          7.0,
          5.0,
          3.0,
          2.0,
          2.0,
          2.0,
          4.0,
          3.0,
          1.0,
          1.0,
          17.0,
          1.0,
          6.0,
          17.0,
          24.0,
          17.0,
          4.0,
          2.0,
          5.0,
          1.0,
          49.0,
          7.0,
          4.0,
          4.0,
          5.0,
          5.0,
          3.0,
          7.0,
          2.0,
          13.0,
          2.0,
          8.0,
          1.0,
          4.0,
          5.0,
          2.0,
          3.0,
          6.0,
          1.0,
          1.0,
          1.0,
          1.0,
          1.0,
          1.0,
          1.0,
          2.0,
          10.0,
          1.0,
          1.0,
          2.0,
          2.0,
          1.0,
          2.0,
          1.0,
          1.0,
          1.0,
          1.0,
          1.0,
          1.0,
          1.0,
          1.0,
          24.0,
          1.0,
          3.0,
          1.0,
          2.0,
          2.0,
          1.0,
          1.0,
          1.0,
          1.0,
          1.0,
          1.0,
          22.0,
          2.0,
          3.0,
          2.0,
          5.0,
          2.0,
          4.0,
          2.0,
          1.0,
          7.0,
          2.0,
          3.0,
          1.0,
          1.0,
          1.0,
          1.0,
          1.0,
          4.0,
          37.0,
          140.0,
          6.0,
          22.0,
          8.0,
          47.0,
          5.0,
          2.0,
          5.0,
          1.0,
          31.0,
          1.0,
          2.0,
          13.0,
          11.0,
          10.0,
          12.0,
          3.0,
          35.0,
          4.0,
          2.0,
          3.0,
          5.0,
          15.0,
          7.0,
          1.0,
          3.0,
          5.0,
          30.0,
          1.0,
          9.0,
          2.0,
          2.0,
          8.0,
          1.0,
          1.0,
          5.0,
          2.0,
          2.0,
          2.0,
          2.0,
          10.0,
          1.0,
          3.0,
          2.0,
          2.0,
          8.0,
          3.0,
          25.0,
          1.0,
          1.0,
          1.0,
          1.0,
          1.0,
          1.0,
          2.0,
          5.0,
          2.0,
          1.0,
          1.0,
          1.0,
          2.0,
          1.0,
          1.0,
          6.0,
          3.0,
          3.0,
          3.0,
          1.0,
          7.0,
          14.0,
          2.0,
          4.0,
          3.0,
          7.0,
          5.0,
          11.0,
          3.0,
          2.0,
          29.0,
          37.0,
          23.0,
          1.0,
          8.0,
          2.0,
          16.0,
          1.0,
          2.0,
          14.0,
          12.0,
          2.0,
          3.0,
          15.0,
          21.0,
          5.0,
          3.0,
          15.0,
          5.0,
          1.0,
          15.0,
          5.0,
          11.0,
          4.0,
          6.0,
          3.0,
          3.0,
          5.0,
          15.0,
          3.0,
          2.0,
          1.0,
          3.0,
          2.0,
          2.0,
          3.0,
          2.0,
          2.0,
          1.0,
          1.0,
          1.0,
          2.0,
          1.0,
          1.0,
          1.0,
          2.0,
          3.0,
          92.0,
          1.0,
          1.0,
          10.0,
          1.0,
          4.0,
          3.0,
          2.0,
          1.0,
          10.0,
          2.0,
          2.0,
          7.0,
          10.0,
          4.0,
          3.0,
          2.0,
          8.0,
          6.0,
          8.0,
          8.0,
          9.0,
          4.0,
          2.0,
          6.0,
          5.0,
          9.0,
          9.0,
          3.0,
          1.0,
          3.0,
          4.0,
          12.0,
          2.0,
          85.0,
          6.0,
          55.0,
          2.0,
          17.0,
          3.0,
          1.0,
          1.0,
          6.0,
          122.0,
          1.0,
          9.0,
          13.0,
          7.0,
          46.0,
          25.0,
          35.0,
          11.0,
          1.0,
          7.0,
          10.0,
          29.0,
          3.0,
          1.0,
          2.0,
          3.0,
          6.0,
          3.0,
          3.0,
          8.0,
          14.0,
          9.0,
          1.0,
          1.0,
          1.0,
          6.0,
          2.0,
          14.0,
          14.0,
          20.0,
          10.0,
          2.0,
          12.0,
          5.0,
          119.0,
          20.0,
          211.0,
          13.0,
          18.0,
          33.0,
          86.0,
          6.0,
          12.0,
          1.0,
          8.0,
          14.0,
          12.0,
          3.0,
          37.0,
          13.0,
          2.0,
          4.0,
          9.0,
          1.0,
          2.0,
          3.0,
          12.0,
          7.0,
          19.0,
          29.0,
          5.0,
          1.0,
          7.0,
          1.0,
          1.0,
          2.0,
          25.0,
          9.0,
          4.0,
          5.0,
          6.0,
          8.0,
          6.0,
          8.0,
          6.0,
          8.0,
          9.0,
          12.0,
          16.0,
          15.0,
          14.0,
          6.0,
          9.0,
          12.0,
          1.0,
          1.0,
          3.0,
          5.0,
          14.0,
          3.0,
          1.0,
          18.0,
          8.0,
          6.0,
          3.0,
          116.0,
          7.0,
          1.0,
          1.0,
          1.0,
          3.0,
          102.0,
          2.0,
          9.0,
          8.0,
          3.0,
          3.0,
          3.0,
          7.0,
          8.0,
          2.0,
          6.0,
          16.0,
          16.0,
          8.0,
          31.0,
          12.0,
          14.0,
          6.0,
          6.0,
          6.0,
          7.0,
          15.0,
          16.0,
          7.0,
          10.0,
          22.0,
          1.0,
          1.0,
          2.0,
          1.0,
          1.0,
          1.0,
          1.0,
          2.0,
          1.0,
          171.0,
          5.0,
          1.0,
          1.0,
          2.0,
          3.0,
          1.0,
          5.0,
          39.0,
          1.0,
          2.0,
          1.0,
          1.0,
          1.0,
          1.0,
          3.0,
          1.0,
          1.0,
          12.0,
          1.0,
          5.0,
          10.0,
          1.0,
          2.0,
          2.0,
          3.0,
          6.0,
          10.0,
          2.0,
          35.0,
          30.0,
          2.0,
          137.0,
          2.0,
          4.0,
          2.0,
          7.0,
          7.0,
          3.0,
          1.0,
          5.0,
          16.0,
          2.0,
          3.0,
          2.0,
          4.0,
          12.0,
          2.0,
          2.0,
          2.0,
          7.0,
          5.0,
          1.0,
          1.0,
          2.0,
          2.0,
          12.0,
          1.0,
          1.0,
          1.0,
          1.0,
          1.0,
          2.0,
          1.0,
          7.0,
          2.0,
          2.0,
          13.0,
          1.0,
          1.0,
          2.0,
          6.0,
          2.0,
          1.0,
          1.0,
          3.0,
          27.0,
          4.0,
          8.0,
          20.0,
          9.0,
          3.0,
          40.0,
          14.0,
          16.0,
          3.0,
          252.0,
          440.0,
          47.0,
          24.0,
          160.0,
          14.0,
          11.0,
          13.0,
          1.0,
          2.0,
          2.0,
          3.0,
          4.0,
          2.0,
          5.0,
          1.0,
          4.0,
          2.0,
          2.0,
          3.0,
          22.0,
          13.0,
          4.0,
          5.0,
          2.0,
          1.0,
          3.0,
          12.0,
          2.0,
          8.0,
          79.0,
          2.0,
          3.0,
          9.0,
          6.0,
          8.0,
          1.0,
          223.0,
          20.0,
          11.0,
          13.0,
          3.0,
          346.0,
          29.0,
          8.0,
          17.0,
          4.0,
          52.0,
          7.0,
          454.0,
          1.0,
          7.0,
          15.0,
          14.0,
          84.0,
          2.0,
          2.0,
          3.0,
          4.0,
          11.0,
          3.0,
          5.0,
          5.0,
          85.0,
          1.0,
          1.0,
          5.0,
          5.0,
          9.0,
          16.0,
          4.0,
          4.0,
          4.0,
          7.0,
          24.0,
          7.0,
          49.0,
          55.0,
          6.0,
          1.0,
          1.0,
          6.0,
          25.0,
          13.0,
          69.0,
          5.0,
          14.0,
          7.0,
          7.0,
          30.0,
          44.0,
          3.0,
          10.0,
          15.0,
          24.0,
          5.0,
          1.0,
          9.0,
          3.0,
          8.0,
          2.0,
          5.0,
          10.0,
          55.0,
          6.0,
          29.0,
          4.0,
          6.0,
          29.0,
          14.0,
          61.0,
          69.0,
          4.0,
          19.0,
          42.0,
          7.0,
          17.0,
          4.0,
          27.0,
          24.0,
          5.0,
          55.0,
          25.0,
          3.0,
          26.0,
          6.0,
          9.0,
          167.0,
          15.0,
          17.0,
          1.0,
          2.0,
          4.0,
          10.0,
          9.0,
          2.0,
          68.0,
          3.0,
          4.0,
          7.0,
          4.0,
          14.0,
          5.0,
          53.0,
          72.0,
          32.0,
          9.0,
          85.0,
          6.0,
          27.0,
          1.0,
          42.0,
          2.0,
          637.0,
          8.0,
          2.0,
          5.0,
          31.0,
          15.0,
          2.0,
          3.0,
          2.0,
          3.0,
          42.0,
          1.0,
          1.0,
          40.0,
          3.0,
          36.0,
          2.0,
          12.0,
          4.0,
          1.0,
          2.0,
          4.0,
          9.0,
          8.0,
          2.0,
          4.0,
          1.0,
          8.0,
          2.0,
          9.0,
          85.0,
          12.0,
          24.0,
          28.0,
          9.0,
          1.0,
          3.0,
          1.0,
          3.0,
          1.0,
          8.0,
          22.0,
          37.0,
          15.0,
          1.0,
          20.0,
          3.0,
          5.0,
          3.0,
          2.0,
          6.0,
          8.0,
          137.0,
          6.0,
          1.0,
          4.0,
          2.0,
          82.0,
          58.0,
          190.0,
          20.0,
          5.0,
          1.0,
          213.0,
          4.0,
          6.0,
          1.0,
          20.0,
          11.0,
          3.0,
          17.0,
          1.0,
          69.0,
          1.0,
          3.0,
          5.0,
          2.0,
          11.0,
          6.0,
          8.0,
          7.0,
          17.0,
          20.0,
          18.0,
          11.0,
          4.0,
          4.0,
          11.0,
          9.0,
          3.0,
          5.0,
          5.0,
          24.0,
          2.0,
          3.0,
          14.0,
          25.0,
          2.0,
          43.0,
          3.0,
          1.0,
          1.0,
          2.0,
          3.0,
          9.0,
          2.0,
          2.0,
          1.0,
          25.0,
          1.0,
          1.0,
          1.0,
          5.0,
          10.0,
          5.0,
          11.0,
          5.0,
          3.0,
          5.0,
          41.0,
          5.0,
          2.0,
          2.0,
          3.0,
          9.0,
          4.0,
          1.0,
          1.0,
          1.0,
          1.0,
          2.0,
          1.0,
          2.0,
          54.0,
          16.0,
          44.0,
          1.0,
          1.0,
          5.0,
          1.0,
          1.0,
          5.0,
          68.0,
          1.0,
          1.0,
          9.0,
          4.0,
          3.0,
          10.0,
          1.0,
          17.0,
          2.0,
          2.0,
          2.0,
          3.0,
          2.0,
          2.0,
          8.0,
          345.0,
          13.0,
          91.0,
          3.0,
          8.0,
          4.0,
          26.0,
          3.0,
          1.0,
          2.0,
          77.0,
          3.0,
          187.0,
          20.0,
          4.0,
          4.0,
          6.0,
          7.0,
          56.0,
          1.0,
          3.0,
          3.0,
          2.0,
          1.0,
          4.0,
          13.0,
          2.0,
          2.0,
          35.0,
          2.0,
          2.0,
          2.0,
          2.0,
          2.0,
          2.0,
          2.0,
          11.0,
          4.0,
          1.0,
          1.0,
          7.0,
          7.0,
          2.0,
          4.0,
          28.0,
          2.0,
          1.0,
          1.0,
          1.0,
          1.0,
          1.0,
          1.0,
          2.0,
          8.0,
          19.0,
          16.0,
          1.0,
          21.0,
          1.0,
          9.0,
          2.0,
          2.0,
          2.0,
          2.0,
          5.0,
          27.0,
          17.0,
          9.0,
          10.0,
          2.0,
          2.0,
          9.0,
          4.0,
          5.0,
          8.0,
          1.0,
          11.0,
          1.0,
          10.0,
          2.0,
          2.0,
          2.0,
          20.0,
          2.0,
          7.0,
          4.0,
          8.0,
          5.0,
          1.0,
          3.0,
          48.0,
          4.0,
          14.0,
          19.0,
          2.0,
          8.0,
          2.0,
          4.0,
          22.0,
          4.0,
          3.0,
          5.0,
          2.0,
          22.0,
          4.0,
          2.0,
          8.0,
          6.0,
          5.0,
          8.0,
          3.0,
          2.0,
          2.0,
          2.0,
          4.0,
          1.0,
          16.0,
          5.0,
          1.0,
          2.0,
          8.0,
          9.0,
          3.0,
          4.0,
          1.0,
          2.0,
          3.0,
          2.0,
          7.0,
          2.0,
          24.0,
          4.0,
          6.0,
          8.0,
          11.0,
          4.0,
          3.0,
          58.0,
          7.0,
          5.0,
          5.0,
          3.0,
          8.0,
          5.0,
          68.0,
          22.0,
          2.0,
          9.0,
          12.0,
          3.0,
          61.0,
          2.0,
          1.0,
          1.0,
          2.0,
          1.0,
          1.0,
          2.0,
          1.0,
          2.0,
          1.0,
          3.0,
          10.0,
          4.0,
          7.0,
          17.0,
          6.0,
          2.0,
          15.0,
          1.0,
          1.0,
          3.0,
          22.0,
          10.0,
          3.0,
          6.0,
          1.0,
          6.0,
          1.0,
          9.0,
          1.0,
          1.0,
          1.0,
          1.0,
          22.0,
          3.0,
          2.0,
          1.0,
          6.0,
          1.0,
          1.0,
          12.0,
          11.0,
          2.0,
          1.0,
          5.0,
          1.0,
          38.0,
          22.0,
          1.0,
          3.0,
          68.0,
          1.0,
          4.0,
          6.0,
          19.0,
          4.0,
          1.0,
          142.0,
          2.0,
          1.0,
          6.0,
          17.0,
          3.0,
          2.0,
          2.0,
          5.0,
          11.0,
          4.0,
          3.0,
          64.0,
          2.0,
          1.0,
          3.0,
          1.0,
          1.0,
          2.0,
          7.0,
          1.0,
          3.0,
          8.0,
          51.0,
          2.0,
          38.0,
          1.0,
          3.0,
          17.0,
          1.0,
          9.0,
          8.0,
          2.0,
          1.0,
          6.0,
          2.0,
          8.0,
          7.0,
          1.0,
          3.0,
          20.0,
          12.0,
          7.0,
          44.0,
          5.0,
          91.0,
          3.0,
          4.0,
          2.0,
          30.0,
          14.0,
          20.0,
          2.0,
          1.0,
          1.0,
          1.0,
          2.0,
          1.0,
          1.0,
          16.0,
          2.0,
          1.0,
          2.0,
          2.0,
          1.0,
          8.0,
          2.0,
          2.0,
          2.0,
          8.0,
          1.0,
          1.0,
          5.0,
          2.0,
          4.0,
          13.0,
          5.0,
          9.0,
          3.0,
          2.0,
          21.0,
          4.0,
          7.0,
          3.0,
          1.0,
          1.0,
          1.0,
          1.0,
          1.0,
          1.0,
          6.0,
          3.0,
          29.0,
          28.0,
          6.0,
          4.0,
          6.0,
          6.0,
          3.0,
          4.0,
          55.0,
          8.0,
          2.0,
          5.0,
          4.0,
          1.0,
          3.0,
          25.0,
          3.0,
          3.0,
          8.0,
          15.0,
          2.0,
          279.0,
          25.0,
          3.0,
          33.0,
          11.0,
          14.0,
          3.0,
          35.0,
          4.0,
          2.0,
          9.0,
          2.0,
          1.0,
          299.0,
          3.0,
          7.0,
          1.0,
          1.0,
          13.0,
          2.0,
          2.0,
          2.0,
          2.0,
          18.0,
          5.0,
          1.0,
          20.0,
          5.0,
          2.0,
          6.0,
          7.0,
          15.0,
          12.0,
          1.0,
          8.0,
          26.0,
          2.0,
          1.0,
          1.0,
          8.0,
          9.0,
          3.0,
          4.0,
          2.0,
          1.0,
          14.0,
          3.0,
          3.0,
          5.0,
          6.0,
          2.0,
          1.0,
          1.0,
          1.0,
          4.0,
          32.0,
          3.0,
          4.0,
          22.0,
          2.0,
          2.0,
          7.0,
          4.0,
          70.0,
          26.0,
          1.0,
          3.0,
          2.0,
          3.0,
          26.0,
          6.0,
          5.0,
          2.0,
          1.0,
          3.0,
          2.0,
          8.0,
          37.0,
          14.0,
          1.0,
          1.0,
          6.0,
          8.0,
          6.0,
          25.0,
          1.0,
          2.0,
          10.0,
          10.0,
          1.0,
          1.0,
          14.0,
          1.0,
          8.0,
          38.0,
          11.0,
          10.0,
          9.0,
          10.0,
          7.0,
          11.0,
          9.0,
          26.0,
          6.0,
          7.0,
          24.0,
          6.0,
          7.0,
          6.0,
          6.0,
          6.0,
          20.0,
          2.0,
          7.0,
          2.0,
          2.0,
          1.0,
          4.0,
          18.0,
          26.0,
          2.0,
          2.0,
          2.0,
          1.0,
          1.0,
          4.0,
          1.0,
          1.0,
          3.0,
          1.0,
          2.0,
          16.0,
          24.0,
          8.0,
          2.0,
          22.0,
          2.0,
          2.0,
          8.0,
          7.0,
          6.0,
          8.0,
          5.0,
          8.0,
          3.0,
          2.0,
          3.0,
          3.0,
          3.0,
          47.0,
          19.0,
          2.0,
          6.0,
          4.0,
          2.0,
          1.0,
          37.0,
          8.0,
          6.0,
          17.0,
          5.0,
          4.0,
          11.0,
          5.0,
          6.0,
          3.0,
          13.0,
          4.0,
          6.0,
          1.0,
          1.0,
          3.0,
          1.0,
          1.0,
          1.0,
          4.0,
          1.0,
          1.0,
          4.0,
          5.0,
          35.0,
          9.0,
          1.0,
          1.0,
          1.0,
          2.0,
          3.0,
          9.0,
          1.0,
          2.0,
          3.0,
          2.0,
          11.0,
          11.0,
          2.0,
          1.0,
          1.0,
          4.0,
          92.0,
          424.0,
          24.0,
          167.0,
          47.0,
          6.0,
          6.0,
          2.0,
          45.0,
          2.0,
          2.0,
          3.0,
          32.0,
          5.0,
          7.0,
          4.0,
          1.0,
          3.0,
          5.0,
          5.0,
          11.0,
          3.0,
          2.0,
          5.0,
          7.0,
          9.0,
          2.0,
          9.0,
          6.0,
          23.0,
          7.0,
          111.0,
          8.0,
          11.0,
          1.0,
          4.0,
          26.0,
          2.0,
          7.0,
          6.0,
          9.0,
          22.0,
          265.0,
          40.0,
          1.0,
          15.0,
          22.0,
          7.0,
          7.0,
          4.0,
          1.0,
          23.0,
          5.0,
          4.0,
          8.0,
          2.0,
          7.0,
          8.0,
          12.0,
          3.0,
          2.0,
          2.0,
          6.0,
          26.0,
          12.0,
          17.0,
          7.0,
          8.0,
          19.0,
          2.0,
          11.0,
          1.0,
          1.0,
          1.0,
          1.0,
          466.0,
          1.0,
          4.0,
          1.0,
          4.0,
          425.0,
          7.0,
          1.0,
          1.0,
          67.0,
          3.0,
          1.0,
          1.0,
          161.0,
          1.0,
          19.0,
          6.0,
          2.0,
          6.0,
          4.0,
          1.0,
          1.0,
          6.0,
          6.0,
          5.0,
          6.0,
          3.0,
          3.0,
          2.0,
          43.0,
          2.0,
          2.0,
          7.0,
          10.0,
          4.0,
          2.0,
          2.0,
          2.0,
          32.0,
          2.0,
          4.0,
          1.0,
          2.0,
          23.0,
          1.0
         ],
         "xaxis": "x",
         "yaxis": "y",
         "type": "histogram"
        }
       ],
       "layout": {
        "template": {
         "data": {
          "histogram2dcontour": [
           {
            "type": "histogram2dcontour",
            "colorbar": {
             "outlinewidth": 0,
             "ticks": ""
            },
            "colorscale": [
             [
              0.0,
              "#0d0887"
             ],
             [
              0.1111111111111111,
              "#46039f"
             ],
             [
              0.2222222222222222,
              "#7201a8"
             ],
             [
              0.3333333333333333,
              "#9c179e"
             ],
             [
              0.4444444444444444,
              "#bd3786"
             ],
             [
              0.5555555555555556,
              "#d8576b"
             ],
             [
              0.6666666666666666,
              "#ed7953"
             ],
             [
              0.7777777777777778,
              "#fb9f3a"
             ],
             [
              0.8888888888888888,
              "#fdca26"
             ],
             [
              1.0,
              "#f0f921"
             ]
            ]
           }
          ],
          "choropleth": [
           {
            "type": "choropleth",
            "colorbar": {
             "outlinewidth": 0,
             "ticks": ""
            }
           }
          ],
          "histogram2d": [
           {
            "type": "histogram2d",
            "colorbar": {
             "outlinewidth": 0,
             "ticks": ""
            },
            "colorscale": [
             [
              0.0,
              "#0d0887"
             ],
             [
              0.1111111111111111,
              "#46039f"
             ],
             [
              0.2222222222222222,
              "#7201a8"
             ],
             [
              0.3333333333333333,
              "#9c179e"
             ],
             [
              0.4444444444444444,
              "#bd3786"
             ],
             [
              0.5555555555555556,
              "#d8576b"
             ],
             [
              0.6666666666666666,
              "#ed7953"
             ],
             [
              0.7777777777777778,
              "#fb9f3a"
             ],
             [
              0.8888888888888888,
              "#fdca26"
             ],
             [
              1.0,
              "#f0f921"
             ]
            ]
           }
          ],
          "heatmap": [
           {
            "type": "heatmap",
            "colorbar": {
             "outlinewidth": 0,
             "ticks": ""
            },
            "colorscale": [
             [
              0.0,
              "#0d0887"
             ],
             [
              0.1111111111111111,
              "#46039f"
             ],
             [
              0.2222222222222222,
              "#7201a8"
             ],
             [
              0.3333333333333333,
              "#9c179e"
             ],
             [
              0.4444444444444444,
              "#bd3786"
             ],
             [
              0.5555555555555556,
              "#d8576b"
             ],
             [
              0.6666666666666666,
              "#ed7953"
             ],
             [
              0.7777777777777778,
              "#fb9f3a"
             ],
             [
              0.8888888888888888,
              "#fdca26"
             ],
             [
              1.0,
              "#f0f921"
             ]
            ]
           }
          ],
          "heatmapgl": [
           {
            "type": "heatmapgl",
            "colorbar": {
             "outlinewidth": 0,
             "ticks": ""
            },
            "colorscale": [
             [
              0.0,
              "#0d0887"
             ],
             [
              0.1111111111111111,
              "#46039f"
             ],
             [
              0.2222222222222222,
              "#7201a8"
             ],
             [
              0.3333333333333333,
              "#9c179e"
             ],
             [
              0.4444444444444444,
              "#bd3786"
             ],
             [
              0.5555555555555556,
              "#d8576b"
             ],
             [
              0.6666666666666666,
              "#ed7953"
             ],
             [
              0.7777777777777778,
              "#fb9f3a"
             ],
             [
              0.8888888888888888,
              "#fdca26"
             ],
             [
              1.0,
              "#f0f921"
             ]
            ]
           }
          ],
          "contourcarpet": [
           {
            "type": "contourcarpet",
            "colorbar": {
             "outlinewidth": 0,
             "ticks": ""
            }
           }
          ],
          "contour": [
           {
            "type": "contour",
            "colorbar": {
             "outlinewidth": 0,
             "ticks": ""
            },
            "colorscale": [
             [
              0.0,
              "#0d0887"
             ],
             [
              0.1111111111111111,
              "#46039f"
             ],
             [
              0.2222222222222222,
              "#7201a8"
             ],
             [
              0.3333333333333333,
              "#9c179e"
             ],
             [
              0.4444444444444444,
              "#bd3786"
             ],
             [
              0.5555555555555556,
              "#d8576b"
             ],
             [
              0.6666666666666666,
              "#ed7953"
             ],
             [
              0.7777777777777778,
              "#fb9f3a"
             ],
             [
              0.8888888888888888,
              "#fdca26"
             ],
             [
              1.0,
              "#f0f921"
             ]
            ]
           }
          ],
          "surface": [
           {
            "type": "surface",
            "colorbar": {
             "outlinewidth": 0,
             "ticks": ""
            },
            "colorscale": [
             [
              0.0,
              "#0d0887"
             ],
             [
              0.1111111111111111,
              "#46039f"
             ],
             [
              0.2222222222222222,
              "#7201a8"
             ],
             [
              0.3333333333333333,
              "#9c179e"
             ],
             [
              0.4444444444444444,
              "#bd3786"
             ],
             [
              0.5555555555555556,
              "#d8576b"
             ],
             [
              0.6666666666666666,
              "#ed7953"
             ],
             [
              0.7777777777777778,
              "#fb9f3a"
             ],
             [
              0.8888888888888888,
              "#fdca26"
             ],
             [
              1.0,
              "#f0f921"
             ]
            ]
           }
          ],
          "mesh3d": [
           {
            "type": "mesh3d",
            "colorbar": {
             "outlinewidth": 0,
             "ticks": ""
            }
           }
          ],
          "scatter": [
           {
            "fillpattern": {
             "fillmode": "overlay",
             "size": 10,
             "solidity": 0.2
            },
            "type": "scatter"
           }
          ],
          "parcoords": [
           {
            "type": "parcoords",
            "line": {
             "colorbar": {
              "outlinewidth": 0,
              "ticks": ""
             }
            }
           }
          ],
          "scatterpolargl": [
           {
            "type": "scatterpolargl",
            "marker": {
             "colorbar": {
              "outlinewidth": 0,
              "ticks": ""
             }
            }
           }
          ],
          "bar": [
           {
            "error_x": {
             "color": "#2a3f5f"
            },
            "error_y": {
             "color": "#2a3f5f"
            },
            "marker": {
             "line": {
              "color": "#E5ECF6",
              "width": 0.5
             },
             "pattern": {
              "fillmode": "overlay",
              "size": 10,
              "solidity": 0.2
             }
            },
            "type": "bar"
           }
          ],
          "scattergeo": [
           {
            "type": "scattergeo",
            "marker": {
             "colorbar": {
              "outlinewidth": 0,
              "ticks": ""
             }
            }
           }
          ],
          "scatterpolar": [
           {
            "type": "scatterpolar",
            "marker": {
             "colorbar": {
              "outlinewidth": 0,
              "ticks": ""
             }
            }
           }
          ],
          "histogram": [
           {
            "marker": {
             "pattern": {
              "fillmode": "overlay",
              "size": 10,
              "solidity": 0.2
             }
            },
            "type": "histogram"
           }
          ],
          "scattergl": [
           {
            "type": "scattergl",
            "marker": {
             "colorbar": {
              "outlinewidth": 0,
              "ticks": ""
             }
            }
           }
          ],
          "scatter3d": [
           {
            "type": "scatter3d",
            "line": {
             "colorbar": {
              "outlinewidth": 0,
              "ticks": ""
             }
            },
            "marker": {
             "colorbar": {
              "outlinewidth": 0,
              "ticks": ""
             }
            }
           }
          ],
          "scattermapbox": [
           {
            "type": "scattermapbox",
            "marker": {
             "colorbar": {
              "outlinewidth": 0,
              "ticks": ""
             }
            }
           }
          ],
          "scatterternary": [
           {
            "type": "scatterternary",
            "marker": {
             "colorbar": {
              "outlinewidth": 0,
              "ticks": ""
             }
            }
           }
          ],
          "scattercarpet": [
           {
            "type": "scattercarpet",
            "marker": {
             "colorbar": {
              "outlinewidth": 0,
              "ticks": ""
             }
            }
           }
          ],
          "carpet": [
           {
            "aaxis": {
             "endlinecolor": "#2a3f5f",
             "gridcolor": "white",
             "linecolor": "white",
             "minorgridcolor": "white",
             "startlinecolor": "#2a3f5f"
            },
            "baxis": {
             "endlinecolor": "#2a3f5f",
             "gridcolor": "white",
             "linecolor": "white",
             "minorgridcolor": "white",
             "startlinecolor": "#2a3f5f"
            },
            "type": "carpet"
           }
          ],
          "table": [
           {
            "cells": {
             "fill": {
              "color": "#EBF0F8"
             },
             "line": {
              "color": "white"
             }
            },
            "header": {
             "fill": {
              "color": "#C8D4E3"
             },
             "line": {
              "color": "white"
             }
            },
            "type": "table"
           }
          ],
          "barpolar": [
           {
            "marker": {
             "line": {
              "color": "#E5ECF6",
              "width": 0.5
             },
             "pattern": {
              "fillmode": "overlay",
              "size": 10,
              "solidity": 0.2
             }
            },
            "type": "barpolar"
           }
          ],
          "pie": [
           {
            "automargin": true,
            "type": "pie"
           }
          ]
         },
         "layout": {
          "autotypenumbers": "strict",
          "colorway": [
           "#636efa",
           "#EF553B",
           "#00cc96",
           "#ab63fa",
           "#FFA15A",
           "#19d3f3",
           "#FF6692",
           "#B6E880",
           "#FF97FF",
           "#FECB52"
          ],
          "font": {
           "color": "#2a3f5f"
          },
          "hovermode": "closest",
          "hoverlabel": {
           "align": "left"
          },
          "paper_bgcolor": "white",
          "plot_bgcolor": "#E5ECF6",
          "polar": {
           "bgcolor": "#E5ECF6",
           "angularaxis": {
            "gridcolor": "white",
            "linecolor": "white",
            "ticks": ""
           },
           "radialaxis": {
            "gridcolor": "white",
            "linecolor": "white",
            "ticks": ""
           }
          },
          "ternary": {
           "bgcolor": "#E5ECF6",
           "aaxis": {
            "gridcolor": "white",
            "linecolor": "white",
            "ticks": ""
           },
           "baxis": {
            "gridcolor": "white",
            "linecolor": "white",
            "ticks": ""
           },
           "caxis": {
            "gridcolor": "white",
            "linecolor": "white",
            "ticks": ""
           }
          },
          "coloraxis": {
           "colorbar": {
            "outlinewidth": 0,
            "ticks": ""
           }
          },
          "colorscale": {
           "sequential": [
            [
             0.0,
             "#0d0887"
            ],
            [
             0.1111111111111111,
             "#46039f"
            ],
            [
             0.2222222222222222,
             "#7201a8"
            ],
            [
             0.3333333333333333,
             "#9c179e"
            ],
            [
             0.4444444444444444,
             "#bd3786"
            ],
            [
             0.5555555555555556,
             "#d8576b"
            ],
            [
             0.6666666666666666,
             "#ed7953"
            ],
            [
             0.7777777777777778,
             "#fb9f3a"
            ],
            [
             0.8888888888888888,
             "#fdca26"
            ],
            [
             1.0,
             "#f0f921"
            ]
           ],
           "sequentialminus": [
            [
             0.0,
             "#0d0887"
            ],
            [
             0.1111111111111111,
             "#46039f"
            ],
            [
             0.2222222222222222,
             "#7201a8"
            ],
            [
             0.3333333333333333,
             "#9c179e"
            ],
            [
             0.4444444444444444,
             "#bd3786"
            ],
            [
             0.5555555555555556,
             "#d8576b"
            ],
            [
             0.6666666666666666,
             "#ed7953"
            ],
            [
             0.7777777777777778,
             "#fb9f3a"
            ],
            [
             0.8888888888888888,
             "#fdca26"
            ],
            [
             1.0,
             "#f0f921"
            ]
           ],
           "diverging": [
            [
             0,
             "#8e0152"
            ],
            [
             0.1,
             "#c51b7d"
            ],
            [
             0.2,
             "#de77ae"
            ],
            [
             0.3,
             "#f1b6da"
            ],
            [
             0.4,
             "#fde0ef"
            ],
            [
             0.5,
             "#f7f7f7"
            ],
            [
             0.6,
             "#e6f5d0"
            ],
            [
             0.7,
             "#b8e186"
            ],
            [
             0.8,
             "#7fbc41"
            ],
            [
             0.9,
             "#4d9221"
            ],
            [
             1,
             "#276419"
            ]
           ]
          },
          "xaxis": {
           "gridcolor": "white",
           "linecolor": "white",
           "ticks": "",
           "title": {
            "standoff": 15
           },
           "zerolinecolor": "white",
           "automargin": true,
           "zerolinewidth": 2
          },
          "yaxis": {
           "gridcolor": "white",
           "linecolor": "white",
           "ticks": "",
           "title": {
            "standoff": 15
           },
           "zerolinecolor": "white",
           "automargin": true,
           "zerolinewidth": 2
          },
          "scene": {
           "xaxis": {
            "backgroundcolor": "#E5ECF6",
            "gridcolor": "white",
            "linecolor": "white",
            "showbackground": true,
            "ticks": "",
            "zerolinecolor": "white",
            "gridwidth": 2
           },
           "yaxis": {
            "backgroundcolor": "#E5ECF6",
            "gridcolor": "white",
            "linecolor": "white",
            "showbackground": true,
            "ticks": "",
            "zerolinecolor": "white",
            "gridwidth": 2
           },
           "zaxis": {
            "backgroundcolor": "#E5ECF6",
            "gridcolor": "white",
            "linecolor": "white",
            "showbackground": true,
            "ticks": "",
            "zerolinecolor": "white",
            "gridwidth": 2
           }
          },
          "shapedefaults": {
           "line": {
            "color": "#2a3f5f"
           }
          },
          "annotationdefaults": {
           "arrowcolor": "#2a3f5f",
           "arrowhead": 0,
           "arrowwidth": 1
          },
          "geo": {
           "bgcolor": "white",
           "landcolor": "#E5ECF6",
           "subunitcolor": "white",
           "showland": true,
           "showlakes": true,
           "lakecolor": "white"
          },
          "title": {
           "x": 0.05
          },
          "mapbox": {
           "style": "light"
          }
         }
        },
        "xaxis": {
         "anchor": "y",
         "domain": [
          0.0,
          1.0
         ],
         "title": {
          "text": "Number of Exchanged Messages"
         }
        },
        "yaxis": {
         "anchor": "x",
         "domain": [
          0.0,
          1.0
         ],
         "title": {
          "text": "Number of pairs (log scale)"
         },
         "type": "log"
        },
        "legend": {
         "tracegroupgap": 0
        },
        "margin": {
         "t": 60
        },
        "barmode": "relative",
        "width": 1000,
        "height": 600
       },
       "config": {
        "plotlyServerURL": "https://plot.ly"
       }
      },
      "text/html": "<div>                            <div id=\"d640da78-9b95-4cab-a748-a2232196491a\" class=\"plotly-graph-div\" style=\"height:600px; width:1000px;\"></div>            <script type=\"text/javascript\">                require([\"plotly\"], function(Plotly) {                    window.PLOTLYENV=window.PLOTLYENV || {};                                    if (document.getElementById(\"d640da78-9b95-4cab-a748-a2232196491a\")) {                    Plotly.newPlot(                        \"d640da78-9b95-4cab-a748-a2232196491a\",                        [{\"alignmentgroup\":\"True\",\"bingroup\":\"x\",\"hovertemplate\":\"NumMes=%{x}<br>count=%{y}<extra></extra>\",\"legendgroup\":\"\",\"marker\":{\"color\":\"#636efa\",\"pattern\":{\"shape\":\"\"}},\"name\":\"\",\"nbinsx\":100,\"offsetgroup\":\"\",\"orientation\":\"v\",\"showlegend\":false,\"x\":[1.0,7.0,2.0,2.0,3.0,2.0,7.0,3.0,11.0,12.0,1.0,4.0,12.0,1.0,12.0,45.0,1.0,48.0,3.0,6.0,9.0,12.0,12.0,5.0,3.0,4.0,4.0,14.0,140.0,2.0,13.0,18.0,53.0,1.0,11.0,68.0,3.0,6.0,3.0,3.0,1.0,11.0,1.0,6.0,1.0,3.0,1.0,1.0,4.0,158.0,1.0,1.0,10.0,2.0,2.0,2.0,13.0,18.0,20.0,5.0,2.0,5.0,11.0,1.0,1.0,12.0,1.0,2.0,11.0,5.0,4.0,2.0,26.0,55.0,1.0,1.0,3.0,1.0,31.0,2.0,60.0,1.0,1.0,3.0,295.0,5.0,22.0,4.0,1.0,2.0,2.0,2.0,1.0,102.0,28.0,19.0,1.0,42.0,1.0,3.0,7.0,4.0,47.0,1.0,1.0,7.0,47.0,80.0,27.0,54.0,53.0,7.0,4.0,1.0,7.0,30.0,10.0,3.0,7.0,7.0,5.0,10.0,3.0,1.0,3.0,2.0,3.0,10.0,7.0,2.0,1.0,3.0,174.0,2.0,2.0,1.0,2.0,1.0,1.0,118.0,1.0,1.0,3.0,1.0,25.0,1.0,1.0,1.0,2.0,4.0,5.0,14.0,5.0,1.0,1.0,1.0,2.0,2.0,2.0,1.0,1.0,1.0,2.0,3.0,3.0,2.0,1.0,2.0,7.0,2.0,9.0,2.0,10.0,13.0,1.0,1.0,1.0,1.0,1.0,1.0,1.0,1.0,2.0,1.0,1.0,1.0,2.0,1.0,1.0,10.0,4.0,3.0,2.0,6.0,2.0,1.0,2.0,2.0,2.0,16.0,1.0,4.0,9.0,2.0,14.0,3.0,2.0,92.0,11.0,33.0,8.0,3.0,6.0,5.0,13.0,2.0,8.0,29.0,29.0,1.0,105.0,5.0,24.0,3.0,8.0,1.0,7.0,3.0,12.0,2.0,27.0,10.0,11.0,26.0,3.0,4.0,4.0,6.0,22.0,5.0,40.0,4.0,9.0,12.0,2.0,8.0,11.0,1.0,6.0,10.0,2.0,8.0,7.0,65.0,166.0,9.0,4.0,12.0,7.0,115.0,11.0,8.0,3.0,137.0,2.0,5.0,5.0,3.0,23.0,27.0,3.0,6.0,7.0,12.0,1.0,4.0,7.0,9.0,4.0,8.0,14.0,2.0,11.0,4.0,5.0,3.0,5.0,39.0,18.0,17.0,22.0,4.0,13.0,11.0,26.0,14.0,50.0,19.0,1.0,6.0,3.0,9.0,1.0,3.0,2.0,2.0,19.0,8.0,3.0,17.0,209.0,12.0,15.0,4.0,13.0,4.0,3.0,2.0,2.0,75.0,3.0,15.0,2.0,35.0,3.0,10.0,3.0,3.0,2.0,2.0,2.0,2.0,3.0,3.0,3.0,3.0,6.0,4.0,4.0,3.0,6.0,3.0,15.0,9.0,51.0,3.0,9.0,124.0,4.0,2.0,1.0,1.0,11.0,1.0,1.0,1.0,5.0,4.0,30.0,37.0,3.0,3.0,12.0,3.0,3.0,2.0,5.0,11.0,9.0,7.0,5.0,4.0,5.0,2.0,2.0,6.0,13.0,6.0,5.0,2.0,2.0,1.0,2.0,7.0,30.0,92.0,1.0,11.0,1.0,1.0,1.0,1.0,1.0,5.0,7.0,2.0,2.0,2.0,3.0,13.0,2.0,2.0,2.0,1.0,1.0,1.0,4.0,63.0,63.0,14.0,2.0,2.0,3.0,10.0,29.0,3.0,2.0,2.0,2.0,2.0,2.0,2.0,2.0,87.0,78.0,2.0,4.0,7.0,5.0,3.0,2.0,2.0,2.0,4.0,3.0,1.0,1.0,17.0,1.0,6.0,17.0,24.0,17.0,4.0,2.0,5.0,1.0,49.0,7.0,4.0,4.0,5.0,5.0,3.0,7.0,2.0,13.0,2.0,8.0,1.0,4.0,5.0,2.0,3.0,6.0,1.0,1.0,1.0,1.0,1.0,1.0,1.0,2.0,10.0,1.0,1.0,2.0,2.0,1.0,2.0,1.0,1.0,1.0,1.0,1.0,1.0,1.0,1.0,24.0,1.0,3.0,1.0,2.0,2.0,1.0,1.0,1.0,1.0,1.0,1.0,22.0,2.0,3.0,2.0,5.0,2.0,4.0,2.0,1.0,7.0,2.0,3.0,1.0,1.0,1.0,1.0,1.0,4.0,37.0,140.0,6.0,22.0,8.0,47.0,5.0,2.0,5.0,1.0,31.0,1.0,2.0,13.0,11.0,10.0,12.0,3.0,35.0,4.0,2.0,3.0,5.0,15.0,7.0,1.0,3.0,5.0,30.0,1.0,9.0,2.0,2.0,8.0,1.0,1.0,5.0,2.0,2.0,2.0,2.0,10.0,1.0,3.0,2.0,2.0,8.0,3.0,25.0,1.0,1.0,1.0,1.0,1.0,1.0,2.0,5.0,2.0,1.0,1.0,1.0,2.0,1.0,1.0,6.0,3.0,3.0,3.0,1.0,7.0,14.0,2.0,4.0,3.0,7.0,5.0,11.0,3.0,2.0,29.0,37.0,23.0,1.0,8.0,2.0,16.0,1.0,2.0,14.0,12.0,2.0,3.0,15.0,21.0,5.0,3.0,15.0,5.0,1.0,15.0,5.0,11.0,4.0,6.0,3.0,3.0,5.0,15.0,3.0,2.0,1.0,3.0,2.0,2.0,3.0,2.0,2.0,1.0,1.0,1.0,2.0,1.0,1.0,1.0,2.0,3.0,92.0,1.0,1.0,10.0,1.0,4.0,3.0,2.0,1.0,10.0,2.0,2.0,7.0,10.0,4.0,3.0,2.0,8.0,6.0,8.0,8.0,9.0,4.0,2.0,6.0,5.0,9.0,9.0,3.0,1.0,3.0,4.0,12.0,2.0,85.0,6.0,55.0,2.0,17.0,3.0,1.0,1.0,6.0,122.0,1.0,9.0,13.0,7.0,46.0,25.0,35.0,11.0,1.0,7.0,10.0,29.0,3.0,1.0,2.0,3.0,6.0,3.0,3.0,8.0,14.0,9.0,1.0,1.0,1.0,6.0,2.0,14.0,14.0,20.0,10.0,2.0,12.0,5.0,119.0,20.0,211.0,13.0,18.0,33.0,86.0,6.0,12.0,1.0,8.0,14.0,12.0,3.0,37.0,13.0,2.0,4.0,9.0,1.0,2.0,3.0,12.0,7.0,19.0,29.0,5.0,1.0,7.0,1.0,1.0,2.0,25.0,9.0,4.0,5.0,6.0,8.0,6.0,8.0,6.0,8.0,9.0,12.0,16.0,15.0,14.0,6.0,9.0,12.0,1.0,1.0,3.0,5.0,14.0,3.0,1.0,18.0,8.0,6.0,3.0,116.0,7.0,1.0,1.0,1.0,3.0,102.0,2.0,9.0,8.0,3.0,3.0,3.0,7.0,8.0,2.0,6.0,16.0,16.0,8.0,31.0,12.0,14.0,6.0,6.0,6.0,7.0,15.0,16.0,7.0,10.0,22.0,1.0,1.0,2.0,1.0,1.0,1.0,1.0,2.0,1.0,171.0,5.0,1.0,1.0,2.0,3.0,1.0,5.0,39.0,1.0,2.0,1.0,1.0,1.0,1.0,3.0,1.0,1.0,12.0,1.0,5.0,10.0,1.0,2.0,2.0,3.0,6.0,10.0,2.0,35.0,30.0,2.0,137.0,2.0,4.0,2.0,7.0,7.0,3.0,1.0,5.0,16.0,2.0,3.0,2.0,4.0,12.0,2.0,2.0,2.0,7.0,5.0,1.0,1.0,2.0,2.0,12.0,1.0,1.0,1.0,1.0,1.0,2.0,1.0,7.0,2.0,2.0,13.0,1.0,1.0,2.0,6.0,2.0,1.0,1.0,3.0,27.0,4.0,8.0,20.0,9.0,3.0,40.0,14.0,16.0,3.0,252.0,440.0,47.0,24.0,160.0,14.0,11.0,13.0,1.0,2.0,2.0,3.0,4.0,2.0,5.0,1.0,4.0,2.0,2.0,3.0,22.0,13.0,4.0,5.0,2.0,1.0,3.0,12.0,2.0,8.0,79.0,2.0,3.0,9.0,6.0,8.0,1.0,223.0,20.0,11.0,13.0,3.0,346.0,29.0,8.0,17.0,4.0,52.0,7.0,454.0,1.0,7.0,15.0,14.0,84.0,2.0,2.0,3.0,4.0,11.0,3.0,5.0,5.0,85.0,1.0,1.0,5.0,5.0,9.0,16.0,4.0,4.0,4.0,7.0,24.0,7.0,49.0,55.0,6.0,1.0,1.0,6.0,25.0,13.0,69.0,5.0,14.0,7.0,7.0,30.0,44.0,3.0,10.0,15.0,24.0,5.0,1.0,9.0,3.0,8.0,2.0,5.0,10.0,55.0,6.0,29.0,4.0,6.0,29.0,14.0,61.0,69.0,4.0,19.0,42.0,7.0,17.0,4.0,27.0,24.0,5.0,55.0,25.0,3.0,26.0,6.0,9.0,167.0,15.0,17.0,1.0,2.0,4.0,10.0,9.0,2.0,68.0,3.0,4.0,7.0,4.0,14.0,5.0,53.0,72.0,32.0,9.0,85.0,6.0,27.0,1.0,42.0,2.0,637.0,8.0,2.0,5.0,31.0,15.0,2.0,3.0,2.0,3.0,42.0,1.0,1.0,40.0,3.0,36.0,2.0,12.0,4.0,1.0,2.0,4.0,9.0,8.0,2.0,4.0,1.0,8.0,2.0,9.0,85.0,12.0,24.0,28.0,9.0,1.0,3.0,1.0,3.0,1.0,8.0,22.0,37.0,15.0,1.0,20.0,3.0,5.0,3.0,2.0,6.0,8.0,137.0,6.0,1.0,4.0,2.0,82.0,58.0,190.0,20.0,5.0,1.0,213.0,4.0,6.0,1.0,20.0,11.0,3.0,17.0,1.0,69.0,1.0,3.0,5.0,2.0,11.0,6.0,8.0,7.0,17.0,20.0,18.0,11.0,4.0,4.0,11.0,9.0,3.0,5.0,5.0,24.0,2.0,3.0,14.0,25.0,2.0,43.0,3.0,1.0,1.0,2.0,3.0,9.0,2.0,2.0,1.0,25.0,1.0,1.0,1.0,5.0,10.0,5.0,11.0,5.0,3.0,5.0,41.0,5.0,2.0,2.0,3.0,9.0,4.0,1.0,1.0,1.0,1.0,2.0,1.0,2.0,54.0,16.0,44.0,1.0,1.0,5.0,1.0,1.0,5.0,68.0,1.0,1.0,9.0,4.0,3.0,10.0,1.0,17.0,2.0,2.0,2.0,3.0,2.0,2.0,8.0,345.0,13.0,91.0,3.0,8.0,4.0,26.0,3.0,1.0,2.0,77.0,3.0,187.0,20.0,4.0,4.0,6.0,7.0,56.0,1.0,3.0,3.0,2.0,1.0,4.0,13.0,2.0,2.0,35.0,2.0,2.0,2.0,2.0,2.0,2.0,2.0,11.0,4.0,1.0,1.0,7.0,7.0,2.0,4.0,28.0,2.0,1.0,1.0,1.0,1.0,1.0,1.0,2.0,8.0,19.0,16.0,1.0,21.0,1.0,9.0,2.0,2.0,2.0,2.0,5.0,27.0,17.0,9.0,10.0,2.0,2.0,9.0,4.0,5.0,8.0,1.0,11.0,1.0,10.0,2.0,2.0,2.0,20.0,2.0,7.0,4.0,8.0,5.0,1.0,3.0,48.0,4.0,14.0,19.0,2.0,8.0,2.0,4.0,22.0,4.0,3.0,5.0,2.0,22.0,4.0,2.0,8.0,6.0,5.0,8.0,3.0,2.0,2.0,2.0,4.0,1.0,16.0,5.0,1.0,2.0,8.0,9.0,3.0,4.0,1.0,2.0,3.0,2.0,7.0,2.0,24.0,4.0,6.0,8.0,11.0,4.0,3.0,58.0,7.0,5.0,5.0,3.0,8.0,5.0,68.0,22.0,2.0,9.0,12.0,3.0,61.0,2.0,1.0,1.0,2.0,1.0,1.0,2.0,1.0,2.0,1.0,3.0,10.0,4.0,7.0,17.0,6.0,2.0,15.0,1.0,1.0,3.0,22.0,10.0,3.0,6.0,1.0,6.0,1.0,9.0,1.0,1.0,1.0,1.0,22.0,3.0,2.0,1.0,6.0,1.0,1.0,12.0,11.0,2.0,1.0,5.0,1.0,38.0,22.0,1.0,3.0,68.0,1.0,4.0,6.0,19.0,4.0,1.0,142.0,2.0,1.0,6.0,17.0,3.0,2.0,2.0,5.0,11.0,4.0,3.0,64.0,2.0,1.0,3.0,1.0,1.0,2.0,7.0,1.0,3.0,8.0,51.0,2.0,38.0,1.0,3.0,17.0,1.0,9.0,8.0,2.0,1.0,6.0,2.0,8.0,7.0,1.0,3.0,20.0,12.0,7.0,44.0,5.0,91.0,3.0,4.0,2.0,30.0,14.0,20.0,2.0,1.0,1.0,1.0,2.0,1.0,1.0,16.0,2.0,1.0,2.0,2.0,1.0,8.0,2.0,2.0,2.0,8.0,1.0,1.0,5.0,2.0,4.0,13.0,5.0,9.0,3.0,2.0,21.0,4.0,7.0,3.0,1.0,1.0,1.0,1.0,1.0,1.0,6.0,3.0,29.0,28.0,6.0,4.0,6.0,6.0,3.0,4.0,55.0,8.0,2.0,5.0,4.0,1.0,3.0,25.0,3.0,3.0,8.0,15.0,2.0,279.0,25.0,3.0,33.0,11.0,14.0,3.0,35.0,4.0,2.0,9.0,2.0,1.0,299.0,3.0,7.0,1.0,1.0,13.0,2.0,2.0,2.0,2.0,18.0,5.0,1.0,20.0,5.0,2.0,6.0,7.0,15.0,12.0,1.0,8.0,26.0,2.0,1.0,1.0,8.0,9.0,3.0,4.0,2.0,1.0,14.0,3.0,3.0,5.0,6.0,2.0,1.0,1.0,1.0,4.0,32.0,3.0,4.0,22.0,2.0,2.0,7.0,4.0,70.0,26.0,1.0,3.0,2.0,3.0,26.0,6.0,5.0,2.0,1.0,3.0,2.0,8.0,37.0,14.0,1.0,1.0,6.0,8.0,6.0,25.0,1.0,2.0,10.0,10.0,1.0,1.0,14.0,1.0,8.0,38.0,11.0,10.0,9.0,10.0,7.0,11.0,9.0,26.0,6.0,7.0,24.0,6.0,7.0,6.0,6.0,6.0,20.0,2.0,7.0,2.0,2.0,1.0,4.0,18.0,26.0,2.0,2.0,2.0,1.0,1.0,4.0,1.0,1.0,3.0,1.0,2.0,16.0,24.0,8.0,2.0,22.0,2.0,2.0,8.0,7.0,6.0,8.0,5.0,8.0,3.0,2.0,3.0,3.0,3.0,47.0,19.0,2.0,6.0,4.0,2.0,1.0,37.0,8.0,6.0,17.0,5.0,4.0,11.0,5.0,6.0,3.0,13.0,4.0,6.0,1.0,1.0,3.0,1.0,1.0,1.0,4.0,1.0,1.0,4.0,5.0,35.0,9.0,1.0,1.0,1.0,2.0,3.0,9.0,1.0,2.0,3.0,2.0,11.0,11.0,2.0,1.0,1.0,4.0,92.0,424.0,24.0,167.0,47.0,6.0,6.0,2.0,45.0,2.0,2.0,3.0,32.0,5.0,7.0,4.0,1.0,3.0,5.0,5.0,11.0,3.0,2.0,5.0,7.0,9.0,2.0,9.0,6.0,23.0,7.0,111.0,8.0,11.0,1.0,4.0,26.0,2.0,7.0,6.0,9.0,22.0,265.0,40.0,1.0,15.0,22.0,7.0,7.0,4.0,1.0,23.0,5.0,4.0,8.0,2.0,7.0,8.0,12.0,3.0,2.0,2.0,6.0,26.0,12.0,17.0,7.0,8.0,19.0,2.0,11.0,1.0,1.0,1.0,1.0,466.0,1.0,4.0,1.0,4.0,425.0,7.0,1.0,1.0,67.0,3.0,1.0,1.0,161.0,1.0,19.0,6.0,2.0,6.0,4.0,1.0,1.0,6.0,6.0,5.0,6.0,3.0,3.0,2.0,43.0,2.0,2.0,7.0,10.0,4.0,2.0,2.0,2.0,32.0,2.0,4.0,1.0,2.0,23.0,1.0],\"xaxis\":\"x\",\"yaxis\":\"y\",\"type\":\"histogram\"}],                        {\"template\":{\"data\":{\"histogram2dcontour\":[{\"type\":\"histogram2dcontour\",\"colorbar\":{\"outlinewidth\":0,\"ticks\":\"\"},\"colorscale\":[[0.0,\"#0d0887\"],[0.1111111111111111,\"#46039f\"],[0.2222222222222222,\"#7201a8\"],[0.3333333333333333,\"#9c179e\"],[0.4444444444444444,\"#bd3786\"],[0.5555555555555556,\"#d8576b\"],[0.6666666666666666,\"#ed7953\"],[0.7777777777777778,\"#fb9f3a\"],[0.8888888888888888,\"#fdca26\"],[1.0,\"#f0f921\"]]}],\"choropleth\":[{\"type\":\"choropleth\",\"colorbar\":{\"outlinewidth\":0,\"ticks\":\"\"}}],\"histogram2d\":[{\"type\":\"histogram2d\",\"colorbar\":{\"outlinewidth\":0,\"ticks\":\"\"},\"colorscale\":[[0.0,\"#0d0887\"],[0.1111111111111111,\"#46039f\"],[0.2222222222222222,\"#7201a8\"],[0.3333333333333333,\"#9c179e\"],[0.4444444444444444,\"#bd3786\"],[0.5555555555555556,\"#d8576b\"],[0.6666666666666666,\"#ed7953\"],[0.7777777777777778,\"#fb9f3a\"],[0.8888888888888888,\"#fdca26\"],[1.0,\"#f0f921\"]]}],\"heatmap\":[{\"type\":\"heatmap\",\"colorbar\":{\"outlinewidth\":0,\"ticks\":\"\"},\"colorscale\":[[0.0,\"#0d0887\"],[0.1111111111111111,\"#46039f\"],[0.2222222222222222,\"#7201a8\"],[0.3333333333333333,\"#9c179e\"],[0.4444444444444444,\"#bd3786\"],[0.5555555555555556,\"#d8576b\"],[0.6666666666666666,\"#ed7953\"],[0.7777777777777778,\"#fb9f3a\"],[0.8888888888888888,\"#fdca26\"],[1.0,\"#f0f921\"]]}],\"heatmapgl\":[{\"type\":\"heatmapgl\",\"colorbar\":{\"outlinewidth\":0,\"ticks\":\"\"},\"colorscale\":[[0.0,\"#0d0887\"],[0.1111111111111111,\"#46039f\"],[0.2222222222222222,\"#7201a8\"],[0.3333333333333333,\"#9c179e\"],[0.4444444444444444,\"#bd3786\"],[0.5555555555555556,\"#d8576b\"],[0.6666666666666666,\"#ed7953\"],[0.7777777777777778,\"#fb9f3a\"],[0.8888888888888888,\"#fdca26\"],[1.0,\"#f0f921\"]]}],\"contourcarpet\":[{\"type\":\"contourcarpet\",\"colorbar\":{\"outlinewidth\":0,\"ticks\":\"\"}}],\"contour\":[{\"type\":\"contour\",\"colorbar\":{\"outlinewidth\":0,\"ticks\":\"\"},\"colorscale\":[[0.0,\"#0d0887\"],[0.1111111111111111,\"#46039f\"],[0.2222222222222222,\"#7201a8\"],[0.3333333333333333,\"#9c179e\"],[0.4444444444444444,\"#bd3786\"],[0.5555555555555556,\"#d8576b\"],[0.6666666666666666,\"#ed7953\"],[0.7777777777777778,\"#fb9f3a\"],[0.8888888888888888,\"#fdca26\"],[1.0,\"#f0f921\"]]}],\"surface\":[{\"type\":\"surface\",\"colorbar\":{\"outlinewidth\":0,\"ticks\":\"\"},\"colorscale\":[[0.0,\"#0d0887\"],[0.1111111111111111,\"#46039f\"],[0.2222222222222222,\"#7201a8\"],[0.3333333333333333,\"#9c179e\"],[0.4444444444444444,\"#bd3786\"],[0.5555555555555556,\"#d8576b\"],[0.6666666666666666,\"#ed7953\"],[0.7777777777777778,\"#fb9f3a\"],[0.8888888888888888,\"#fdca26\"],[1.0,\"#f0f921\"]]}],\"mesh3d\":[{\"type\":\"mesh3d\",\"colorbar\":{\"outlinewidth\":0,\"ticks\":\"\"}}],\"scatter\":[{\"fillpattern\":{\"fillmode\":\"overlay\",\"size\":10,\"solidity\":0.2},\"type\":\"scatter\"}],\"parcoords\":[{\"type\":\"parcoords\",\"line\":{\"colorbar\":{\"outlinewidth\":0,\"ticks\":\"\"}}}],\"scatterpolargl\":[{\"type\":\"scatterpolargl\",\"marker\":{\"colorbar\":{\"outlinewidth\":0,\"ticks\":\"\"}}}],\"bar\":[{\"error_x\":{\"color\":\"#2a3f5f\"},\"error_y\":{\"color\":\"#2a3f5f\"},\"marker\":{\"line\":{\"color\":\"#E5ECF6\",\"width\":0.5},\"pattern\":{\"fillmode\":\"overlay\",\"size\":10,\"solidity\":0.2}},\"type\":\"bar\"}],\"scattergeo\":[{\"type\":\"scattergeo\",\"marker\":{\"colorbar\":{\"outlinewidth\":0,\"ticks\":\"\"}}}],\"scatterpolar\":[{\"type\":\"scatterpolar\",\"marker\":{\"colorbar\":{\"outlinewidth\":0,\"ticks\":\"\"}}}],\"histogram\":[{\"marker\":{\"pattern\":{\"fillmode\":\"overlay\",\"size\":10,\"solidity\":0.2}},\"type\":\"histogram\"}],\"scattergl\":[{\"type\":\"scattergl\",\"marker\":{\"colorbar\":{\"outlinewidth\":0,\"ticks\":\"\"}}}],\"scatter3d\":[{\"type\":\"scatter3d\",\"line\":{\"colorbar\":{\"outlinewidth\":0,\"ticks\":\"\"}},\"marker\":{\"colorbar\":{\"outlinewidth\":0,\"ticks\":\"\"}}}],\"scattermapbox\":[{\"type\":\"scattermapbox\",\"marker\":{\"colorbar\":{\"outlinewidth\":0,\"ticks\":\"\"}}}],\"scatterternary\":[{\"type\":\"scatterternary\",\"marker\":{\"colorbar\":{\"outlinewidth\":0,\"ticks\":\"\"}}}],\"scattercarpet\":[{\"type\":\"scattercarpet\",\"marker\":{\"colorbar\":{\"outlinewidth\":0,\"ticks\":\"\"}}}],\"carpet\":[{\"aaxis\":{\"endlinecolor\":\"#2a3f5f\",\"gridcolor\":\"white\",\"linecolor\":\"white\",\"minorgridcolor\":\"white\",\"startlinecolor\":\"#2a3f5f\"},\"baxis\":{\"endlinecolor\":\"#2a3f5f\",\"gridcolor\":\"white\",\"linecolor\":\"white\",\"minorgridcolor\":\"white\",\"startlinecolor\":\"#2a3f5f\"},\"type\":\"carpet\"}],\"table\":[{\"cells\":{\"fill\":{\"color\":\"#EBF0F8\"},\"line\":{\"color\":\"white\"}},\"header\":{\"fill\":{\"color\":\"#C8D4E3\"},\"line\":{\"color\":\"white\"}},\"type\":\"table\"}],\"barpolar\":[{\"marker\":{\"line\":{\"color\":\"#E5ECF6\",\"width\":0.5},\"pattern\":{\"fillmode\":\"overlay\",\"size\":10,\"solidity\":0.2}},\"type\":\"barpolar\"}],\"pie\":[{\"automargin\":true,\"type\":\"pie\"}]},\"layout\":{\"autotypenumbers\":\"strict\",\"colorway\":[\"#636efa\",\"#EF553B\",\"#00cc96\",\"#ab63fa\",\"#FFA15A\",\"#19d3f3\",\"#FF6692\",\"#B6E880\",\"#FF97FF\",\"#FECB52\"],\"font\":{\"color\":\"#2a3f5f\"},\"hovermode\":\"closest\",\"hoverlabel\":{\"align\":\"left\"},\"paper_bgcolor\":\"white\",\"plot_bgcolor\":\"#E5ECF6\",\"polar\":{\"bgcolor\":\"#E5ECF6\",\"angularaxis\":{\"gridcolor\":\"white\",\"linecolor\":\"white\",\"ticks\":\"\"},\"radialaxis\":{\"gridcolor\":\"white\",\"linecolor\":\"white\",\"ticks\":\"\"}},\"ternary\":{\"bgcolor\":\"#E5ECF6\",\"aaxis\":{\"gridcolor\":\"white\",\"linecolor\":\"white\",\"ticks\":\"\"},\"baxis\":{\"gridcolor\":\"white\",\"linecolor\":\"white\",\"ticks\":\"\"},\"caxis\":{\"gridcolor\":\"white\",\"linecolor\":\"white\",\"ticks\":\"\"}},\"coloraxis\":{\"colorbar\":{\"outlinewidth\":0,\"ticks\":\"\"}},\"colorscale\":{\"sequential\":[[0.0,\"#0d0887\"],[0.1111111111111111,\"#46039f\"],[0.2222222222222222,\"#7201a8\"],[0.3333333333333333,\"#9c179e\"],[0.4444444444444444,\"#bd3786\"],[0.5555555555555556,\"#d8576b\"],[0.6666666666666666,\"#ed7953\"],[0.7777777777777778,\"#fb9f3a\"],[0.8888888888888888,\"#fdca26\"],[1.0,\"#f0f921\"]],\"sequentialminus\":[[0.0,\"#0d0887\"],[0.1111111111111111,\"#46039f\"],[0.2222222222222222,\"#7201a8\"],[0.3333333333333333,\"#9c179e\"],[0.4444444444444444,\"#bd3786\"],[0.5555555555555556,\"#d8576b\"],[0.6666666666666666,\"#ed7953\"],[0.7777777777777778,\"#fb9f3a\"],[0.8888888888888888,\"#fdca26\"],[1.0,\"#f0f921\"]],\"diverging\":[[0,\"#8e0152\"],[0.1,\"#c51b7d\"],[0.2,\"#de77ae\"],[0.3,\"#f1b6da\"],[0.4,\"#fde0ef\"],[0.5,\"#f7f7f7\"],[0.6,\"#e6f5d0\"],[0.7,\"#b8e186\"],[0.8,\"#7fbc41\"],[0.9,\"#4d9221\"],[1,\"#276419\"]]},\"xaxis\":{\"gridcolor\":\"white\",\"linecolor\":\"white\",\"ticks\":\"\",\"title\":{\"standoff\":15},\"zerolinecolor\":\"white\",\"automargin\":true,\"zerolinewidth\":2},\"yaxis\":{\"gridcolor\":\"white\",\"linecolor\":\"white\",\"ticks\":\"\",\"title\":{\"standoff\":15},\"zerolinecolor\":\"white\",\"automargin\":true,\"zerolinewidth\":2},\"scene\":{\"xaxis\":{\"backgroundcolor\":\"#E5ECF6\",\"gridcolor\":\"white\",\"linecolor\":\"white\",\"showbackground\":true,\"ticks\":\"\",\"zerolinecolor\":\"white\",\"gridwidth\":2},\"yaxis\":{\"backgroundcolor\":\"#E5ECF6\",\"gridcolor\":\"white\",\"linecolor\":\"white\",\"showbackground\":true,\"ticks\":\"\",\"zerolinecolor\":\"white\",\"gridwidth\":2},\"zaxis\":{\"backgroundcolor\":\"#E5ECF6\",\"gridcolor\":\"white\",\"linecolor\":\"white\",\"showbackground\":true,\"ticks\":\"\",\"zerolinecolor\":\"white\",\"gridwidth\":2}},\"shapedefaults\":{\"line\":{\"color\":\"#2a3f5f\"}},\"annotationdefaults\":{\"arrowcolor\":\"#2a3f5f\",\"arrowhead\":0,\"arrowwidth\":1},\"geo\":{\"bgcolor\":\"white\",\"landcolor\":\"#E5ECF6\",\"subunitcolor\":\"white\",\"showland\":true,\"showlakes\":true,\"lakecolor\":\"white\"},\"title\":{\"x\":0.05},\"mapbox\":{\"style\":\"light\"}}},\"xaxis\":{\"anchor\":\"y\",\"domain\":[0.0,1.0],\"title\":{\"text\":\"Number of Exchanged Messages\"}},\"yaxis\":{\"anchor\":\"x\",\"domain\":[0.0,1.0],\"title\":{\"text\":\"Number of pairs (log scale)\"},\"type\":\"log\"},\"legend\":{\"tracegroupgap\":0},\"margin\":{\"t\":60},\"barmode\":\"relative\",\"width\":1000,\"height\":600},                        {\"responsive\": true}                    ).then(function(){\n                            \nvar gd = document.getElementById('d640da78-9b95-4cab-a748-a2232196491a');\nvar x = new MutationObserver(function (mutations, observer) {{\n        var display = window.getComputedStyle(gd).display;\n        if (!display || display === 'none') {{\n            console.log([gd, 'removed!']);\n            Plotly.purge(gd);\n            observer.disconnect();\n        }}\n}});\n\n// Listen for the removal of the full notebook cells\nvar notebookContainer = gd.closest('#notebook-container');\nif (notebookContainer) {{\n    x.observe(notebookContainer, {childList: true});\n}}\n\n// Listen for the clearing of the current output cell\nvar outputEl = gd.closest('.output');\nif (outputEl) {{\n    x.observe(outputEl, {childList: true});\n}}\n\n                        })                };                });            </script>        </div>"
     },
     "metadata": {},
     "output_type": "display_data"
    }
   ],
   "source": [
    "# Plot (log-trans)\n",
    "fig = px.histogram(exchanged_messages,\n",
    "                   x=\"NumMes\",\n",
    "                   nbins=100)\n",
    "fig.update_layout(\n",
    "    width=1000,\n",
    "    height = 600,\n",
    "    xaxis_title=\"Number of Exchanged Messages\", yaxis_title=\"Number of pairs (log scale)\",\n",
    "    yaxis=dict(type='log')\n",
    ")\n",
    "fig.show()\n",
    "fig.write_image('../output/plots/exchangedMessages_log.jpg', width=1000, height=600)"
   ],
   "metadata": {
    "collapsed": false,
    "pycharm": {
     "name": "#%%\n"
    }
   }
  },
  {
   "cell_type": "code",
   "execution_count": 37,
   "outputs": [
    {
     "data": {
      "text/plain": "       count       mean       std   min    25%   50%    75%   max\nClass                                                            \n78.0    18.0   3.000000  2.000000   1.0   1.25   2.5   4.50   7.0\n81.0    19.0   4.526316  6.266032   1.0   1.00   2.0   5.50  26.0\n100.0   19.0   4.947368  2.634677   1.0   3.00   5.0   7.00  10.0\n124.0   17.0   4.647059  3.534494   1.0   2.00   4.0   6.00  16.0\n125.0   16.0   4.750000  4.946379   1.0   1.75   2.5   5.50  16.0\n256.0   22.0   3.272727  1.856310   1.0   2.00   3.0   5.00   7.0\n258.0   16.0   2.500000  1.549193   1.0   1.75   2.0   3.00   7.0\n261.0   17.0   5.294118  3.584074   2.0   3.00   5.0   6.00  16.0\n262.0   15.0   4.133333  3.020564   1.0   3.00   3.0   4.50  14.0\n263.0   20.0   8.150000  4.637093   2.0   6.00   7.0   9.25  19.0\n272.0   24.0  12.291667  6.682093   1.0   7.75  11.5  16.00  25.0\n273.0   24.0  10.833333  8.164966   1.0   4.75   7.5  15.50  24.0\n292.0   21.0   9.619048  5.258100   1.0   6.00   9.0  10.00  20.0\n296.0   17.0   7.823529  3.844400   3.0   5.00   7.0   9.00  18.0\n297.0   16.0   4.437500  3.097714   1.0   2.00   3.5   7.25  10.0\n298.0   21.0  16.238095  3.048028  11.0  14.00  16.0  19.00  20.0\n299.0   19.0  12.842105  4.740642   3.0  10.50  13.0  18.00  18.0\n300.0   19.0   7.000000  4.149967   2.0   4.00   6.0   9.00  20.0\n301.0   24.0  14.291667  7.303836   2.0  10.00  14.0  21.50  24.0\n302.0   19.0   8.368421  5.639253   1.0   4.00   7.0   9.50  18.0\n303.0   25.0   9.520000  6.589891   1.0   6.00   8.0  11.00  28.0",
      "text/html": "<div>\n<style scoped>\n    .dataframe tbody tr th:only-of-type {\n        vertical-align: middle;\n    }\n\n    .dataframe tbody tr th {\n        vertical-align: top;\n    }\n\n    .dataframe thead th {\n        text-align: right;\n    }\n</style>\n<table border=\"1\" class=\"dataframe\">\n  <thead>\n    <tr style=\"text-align: right;\">\n      <th></th>\n      <th>count</th>\n      <th>mean</th>\n      <th>std</th>\n      <th>min</th>\n      <th>25%</th>\n      <th>50%</th>\n      <th>75%</th>\n      <th>max</th>\n    </tr>\n    <tr>\n      <th>Class</th>\n      <th></th>\n      <th></th>\n      <th></th>\n      <th></th>\n      <th></th>\n      <th></th>\n      <th></th>\n      <th></th>\n    </tr>\n  </thead>\n  <tbody>\n    <tr>\n      <th>78.0</th>\n      <td>18.0</td>\n      <td>3.000000</td>\n      <td>2.000000</td>\n      <td>1.0</td>\n      <td>1.25</td>\n      <td>2.5</td>\n      <td>4.50</td>\n      <td>7.0</td>\n    </tr>\n    <tr>\n      <th>81.0</th>\n      <td>19.0</td>\n      <td>4.526316</td>\n      <td>6.266032</td>\n      <td>1.0</td>\n      <td>1.00</td>\n      <td>2.0</td>\n      <td>5.50</td>\n      <td>26.0</td>\n    </tr>\n    <tr>\n      <th>100.0</th>\n      <td>19.0</td>\n      <td>4.947368</td>\n      <td>2.634677</td>\n      <td>1.0</td>\n      <td>3.00</td>\n      <td>5.0</td>\n      <td>7.00</td>\n      <td>10.0</td>\n    </tr>\n    <tr>\n      <th>124.0</th>\n      <td>17.0</td>\n      <td>4.647059</td>\n      <td>3.534494</td>\n      <td>1.0</td>\n      <td>2.00</td>\n      <td>4.0</td>\n      <td>6.00</td>\n      <td>16.0</td>\n    </tr>\n    <tr>\n      <th>125.0</th>\n      <td>16.0</td>\n      <td>4.750000</td>\n      <td>4.946379</td>\n      <td>1.0</td>\n      <td>1.75</td>\n      <td>2.5</td>\n      <td>5.50</td>\n      <td>16.0</td>\n    </tr>\n    <tr>\n      <th>256.0</th>\n      <td>22.0</td>\n      <td>3.272727</td>\n      <td>1.856310</td>\n      <td>1.0</td>\n      <td>2.00</td>\n      <td>3.0</td>\n      <td>5.00</td>\n      <td>7.0</td>\n    </tr>\n    <tr>\n      <th>258.0</th>\n      <td>16.0</td>\n      <td>2.500000</td>\n      <td>1.549193</td>\n      <td>1.0</td>\n      <td>1.75</td>\n      <td>2.0</td>\n      <td>3.00</td>\n      <td>7.0</td>\n    </tr>\n    <tr>\n      <th>261.0</th>\n      <td>17.0</td>\n      <td>5.294118</td>\n      <td>3.584074</td>\n      <td>2.0</td>\n      <td>3.00</td>\n      <td>5.0</td>\n      <td>6.00</td>\n      <td>16.0</td>\n    </tr>\n    <tr>\n      <th>262.0</th>\n      <td>15.0</td>\n      <td>4.133333</td>\n      <td>3.020564</td>\n      <td>1.0</td>\n      <td>3.00</td>\n      <td>3.0</td>\n      <td>4.50</td>\n      <td>14.0</td>\n    </tr>\n    <tr>\n      <th>263.0</th>\n      <td>20.0</td>\n      <td>8.150000</td>\n      <td>4.637093</td>\n      <td>2.0</td>\n      <td>6.00</td>\n      <td>7.0</td>\n      <td>9.25</td>\n      <td>19.0</td>\n    </tr>\n    <tr>\n      <th>272.0</th>\n      <td>24.0</td>\n      <td>12.291667</td>\n      <td>6.682093</td>\n      <td>1.0</td>\n      <td>7.75</td>\n      <td>11.5</td>\n      <td>16.00</td>\n      <td>25.0</td>\n    </tr>\n    <tr>\n      <th>273.0</th>\n      <td>24.0</td>\n      <td>10.833333</td>\n      <td>8.164966</td>\n      <td>1.0</td>\n      <td>4.75</td>\n      <td>7.5</td>\n      <td>15.50</td>\n      <td>24.0</td>\n    </tr>\n    <tr>\n      <th>292.0</th>\n      <td>21.0</td>\n      <td>9.619048</td>\n      <td>5.258100</td>\n      <td>1.0</td>\n      <td>6.00</td>\n      <td>9.0</td>\n      <td>10.00</td>\n      <td>20.0</td>\n    </tr>\n    <tr>\n      <th>296.0</th>\n      <td>17.0</td>\n      <td>7.823529</td>\n      <td>3.844400</td>\n      <td>3.0</td>\n      <td>5.00</td>\n      <td>7.0</td>\n      <td>9.00</td>\n      <td>18.0</td>\n    </tr>\n    <tr>\n      <th>297.0</th>\n      <td>16.0</td>\n      <td>4.437500</td>\n      <td>3.097714</td>\n      <td>1.0</td>\n      <td>2.00</td>\n      <td>3.5</td>\n      <td>7.25</td>\n      <td>10.0</td>\n    </tr>\n    <tr>\n      <th>298.0</th>\n      <td>21.0</td>\n      <td>16.238095</td>\n      <td>3.048028</td>\n      <td>11.0</td>\n      <td>14.00</td>\n      <td>16.0</td>\n      <td>19.00</td>\n      <td>20.0</td>\n    </tr>\n    <tr>\n      <th>299.0</th>\n      <td>19.0</td>\n      <td>12.842105</td>\n      <td>4.740642</td>\n      <td>3.0</td>\n      <td>10.50</td>\n      <td>13.0</td>\n      <td>18.00</td>\n      <td>18.0</td>\n    </tr>\n    <tr>\n      <th>300.0</th>\n      <td>19.0</td>\n      <td>7.000000</td>\n      <td>4.149967</td>\n      <td>2.0</td>\n      <td>4.00</td>\n      <td>6.0</td>\n      <td>9.00</td>\n      <td>20.0</td>\n    </tr>\n    <tr>\n      <th>301.0</th>\n      <td>24.0</td>\n      <td>14.291667</td>\n      <td>7.303836</td>\n      <td>2.0</td>\n      <td>10.00</td>\n      <td>14.0</td>\n      <td>21.50</td>\n      <td>24.0</td>\n    </tr>\n    <tr>\n      <th>302.0</th>\n      <td>19.0</td>\n      <td>8.368421</td>\n      <td>5.639253</td>\n      <td>1.0</td>\n      <td>4.00</td>\n      <td>7.0</td>\n      <td>9.50</td>\n      <td>18.0</td>\n    </tr>\n    <tr>\n      <th>303.0</th>\n      <td>25.0</td>\n      <td>9.520000</td>\n      <td>6.589891</td>\n      <td>1.0</td>\n      <td>6.00</td>\n      <td>8.0</td>\n      <td>11.00</td>\n      <td>28.0</td>\n    </tr>\n  </tbody>\n</table>\n</div>"
     },
     "execution_count": 37,
     "metadata": {},
     "output_type": "execute_result"
    }
   ],
   "source": [
    "# Mean number of connections per class\n",
    "\n",
    "df_com_connections = df_com3.groupby(['Class', 'Child', 'Alter']).size().reset_index(name=\"Size\")\n",
    "df_com_connections2 = df_com_connections.groupby(['Class', 'Child']).size().reset_index(name=\"NumConnections\")\n",
    "df_com_connections2.groupby('Class')['NumConnections'].describe()\n"
   ],
   "metadata": {
    "collapsed": false,
    "pycharm": {
     "name": "#%%\n"
    }
   }
  },
  {
   "cell_type": "code",
   "execution_count": 38,
   "outputs": [
    {
     "data": {
      "text/plain": "count    408.000000\nmean       7.928922\nstd        6.247346\nmin        1.000000\n25%        3.000000\n50%        6.000000\n75%       11.000000\nmax       28.000000\nName: NumConnections, dtype: float64"
     },
     "execution_count": 38,
     "metadata": {},
     "output_type": "execute_result"
    }
   ],
   "source": [
    "# Mean number of connections Total\n",
    "df_com_connections2['NumConnections'].describe()"
   ],
   "metadata": {
    "collapsed": false,
    "pycharm": {
     "name": "#%%\n"
    }
   }
  },
  {
   "cell_type": "code",
   "execution_count": 39,
   "outputs": [],
   "source": [
    "# Subgraphs\n",
    "\n",
    "class_list = input_args['classes']\n",
    "\n",
    "class_dictionary = {}\n",
    "for c in class_list:\n",
    "    class_dictionary[c] = []\n",
    "\n",
    "for node, key in online_communication_network.nodes.data('Class'):\n",
    "    if key in class_dictionary:\n",
    "        class_dictionary[int(key)].append(node)\n",
    "\n",
    "list_subgraphs_com = []\n",
    "for c in class_list:\n",
    "    subgraph = online_communication_network.subgraph(class_dictionary[c]).copy()\n",
    "    subgraph.graph['Class']=c\n",
    "    list_subgraphs_com.append(subgraph)\n",
    "\n",
    "\n",
    "population_list = []\n",
    "node_data_list = []\n",
    "for subgraph in list_subgraphs_com:\n",
    "\n",
    "    dict_in_degree = dict(nx.in_degree_centrality(subgraph))\n",
    "    dict_closeness = dict(nx.closeness_centrality(subgraph))\n",
    "    dict_betweenness = dict(nx.betweenness_centrality(subgraph))\n",
    "\n",
    "    total_agents = subgraph.number_of_nodes()\n",
    "\n",
    "    for nodedata in subgraph.nodes().data():\n",
    "\n",
    "        #calculating the average weight\n",
    "        num_edges = len(subgraph.edges(nodedata[0],data=True))\n",
    "        avg_weight = 0\n",
    "        if(num_edges > 0):\n",
    "            for (u, v, wt) in subgraph.edges(nodedata[0],data=True):\n",
    "                avg_weight = avg_weight +  wt['weight']\n",
    "\n",
    "            avg_weight = avg_weight/num_edges\n",
    "\n",
    "        #participant-level data\n",
    "        node_data_list.append([nodedata[0], nodedata[1]['Class'], dict_in_degree[nodedata[0]], dict_closeness[nodedata[0]],dict_betweenness[nodedata[0]],avg_weight])\n",
    "\n",
    "    #population level data\n",
    "    population_list.append([nodedata[1]['Class'], subgraph.number_of_edges(), round(nx.density(subgraph),2)])\n",
    "\n",
    "#create the dataframes\n",
    "df_class_com = pd.DataFrame(population_list, columns = [\"SchoolClassID\", \"NumberConnections\", \"Density\"])\n",
    "\n",
    "df_participant_com = pd.DataFrame(node_data_list, columns = [\"ParticipantID\",\"SchoolClassID\", \"InDegree\", \"Closeness\", \"Betweenness\", \"Average_Weight\"])\n",
    "\n"
   ],
   "metadata": {
    "collapsed": false,
    "pycharm": {
     "name": "#%%\n"
    }
   }
  },
  {
   "cell_type": "code",
   "execution_count": 40,
   "outputs": [
    {
     "data": {
      "text/plain": "               count      mean       std       min       25%       50%  \\\nSchoolClassID                                                            \n78.0            18.0  0.143614  0.100094  0.000000  0.071839  0.126437   \n81.0            19.0  0.311294  0.204817  0.000000  0.155208  0.312500   \n100.0           19.0  0.061455  0.054753  0.012658  0.021926  0.046414   \n124.0           17.0  0.073921  0.080850  0.013699  0.018265  0.041096   \n125.0           16.0  0.063141  0.072895  0.009709  0.016990  0.031715   \n256.0           22.0  0.241856  0.200878  0.000000  0.083333  0.187500   \n258.0           16.0  0.175967  0.182832  0.000000  0.057292  0.083333   \n261.0           17.0  0.103337  0.095750  0.025926  0.033333  0.044444   \n262.0           15.0  0.211620  0.203273  0.041667  0.111111  0.152778   \n263.0           20.0  0.074188  0.079257  0.014446  0.024579  0.051030   \n272.0           24.0  0.058249  0.046034  0.008197  0.022968  0.044692   \n273.0           24.0  0.067230  0.056442  0.016667  0.029982  0.043750   \n292.0           21.0  0.053902  0.048146  0.011976  0.021291  0.043713   \n296.0           17.0  0.047622  0.043994  0.011364  0.023810  0.027056   \n297.0           16.0  0.113259  0.081422  0.021739  0.040761  0.102174   \n298.0           21.0  0.046968  0.034455  0.005532  0.024424  0.034234   \n299.0           19.0  0.047439  0.038261  0.010526  0.020175  0.033041   \n300.0           19.0  0.079329  0.059869  0.020408  0.040816  0.079365   \n301.0           24.0  0.062491  0.069541  0.014550  0.030423  0.046788   \n302.0           19.0  0.156449  0.083511  0.040000  0.091667  0.148571   \n303.0           25.0  0.039033  0.048454  0.004132  0.009298  0.015152   \n\n                    75%       max  \nSchoolClassID                      \n78.0           0.193966  0.317241  \n81.0           0.375000  0.875000  \n100.0          0.081224  0.222423  \n124.0          0.082192  0.301370  \n125.0          0.075243  0.241640  \n256.0          0.323438  0.875000  \n258.0          0.278274  0.666667  \n261.0          0.207407  0.311111  \n262.0          0.192708  0.791667  \n263.0          0.077180  0.303371  \n272.0          0.069023  0.181421  \n273.0          0.092679  0.227778  \n292.0          0.078475  0.210502  \n296.0          0.041558  0.141414  \n297.0          0.165761  0.278986  \n298.0          0.061862  0.140712  \n299.0          0.071903  0.153509  \n300.0          0.090136  0.236735  \n301.0          0.071170  0.363095  \n302.0          0.192222  0.324444  \n303.0          0.039444  0.174013  ",
      "text/html": "<div>\n<style scoped>\n    .dataframe tbody tr th:only-of-type {\n        vertical-align: middle;\n    }\n\n    .dataframe tbody tr th {\n        vertical-align: top;\n    }\n\n    .dataframe thead th {\n        text-align: right;\n    }\n</style>\n<table border=\"1\" class=\"dataframe\">\n  <thead>\n    <tr style=\"text-align: right;\">\n      <th></th>\n      <th>count</th>\n      <th>mean</th>\n      <th>std</th>\n      <th>min</th>\n      <th>25%</th>\n      <th>50%</th>\n      <th>75%</th>\n      <th>max</th>\n    </tr>\n    <tr>\n      <th>SchoolClassID</th>\n      <th></th>\n      <th></th>\n      <th></th>\n      <th></th>\n      <th></th>\n      <th></th>\n      <th></th>\n      <th></th>\n    </tr>\n  </thead>\n  <tbody>\n    <tr>\n      <th>78.0</th>\n      <td>18.0</td>\n      <td>0.143614</td>\n      <td>0.100094</td>\n      <td>0.000000</td>\n      <td>0.071839</td>\n      <td>0.126437</td>\n      <td>0.193966</td>\n      <td>0.317241</td>\n    </tr>\n    <tr>\n      <th>81.0</th>\n      <td>19.0</td>\n      <td>0.311294</td>\n      <td>0.204817</td>\n      <td>0.000000</td>\n      <td>0.155208</td>\n      <td>0.312500</td>\n      <td>0.375000</td>\n      <td>0.875000</td>\n    </tr>\n    <tr>\n      <th>100.0</th>\n      <td>19.0</td>\n      <td>0.061455</td>\n      <td>0.054753</td>\n      <td>0.012658</td>\n      <td>0.021926</td>\n      <td>0.046414</td>\n      <td>0.081224</td>\n      <td>0.222423</td>\n    </tr>\n    <tr>\n      <th>124.0</th>\n      <td>17.0</td>\n      <td>0.073921</td>\n      <td>0.080850</td>\n      <td>0.013699</td>\n      <td>0.018265</td>\n      <td>0.041096</td>\n      <td>0.082192</td>\n      <td>0.301370</td>\n    </tr>\n    <tr>\n      <th>125.0</th>\n      <td>16.0</td>\n      <td>0.063141</td>\n      <td>0.072895</td>\n      <td>0.009709</td>\n      <td>0.016990</td>\n      <td>0.031715</td>\n      <td>0.075243</td>\n      <td>0.241640</td>\n    </tr>\n    <tr>\n      <th>256.0</th>\n      <td>22.0</td>\n      <td>0.241856</td>\n      <td>0.200878</td>\n      <td>0.000000</td>\n      <td>0.083333</td>\n      <td>0.187500</td>\n      <td>0.323438</td>\n      <td>0.875000</td>\n    </tr>\n    <tr>\n      <th>258.0</th>\n      <td>16.0</td>\n      <td>0.175967</td>\n      <td>0.182832</td>\n      <td>0.000000</td>\n      <td>0.057292</td>\n      <td>0.083333</td>\n      <td>0.278274</td>\n      <td>0.666667</td>\n    </tr>\n    <tr>\n      <th>261.0</th>\n      <td>17.0</td>\n      <td>0.103337</td>\n      <td>0.095750</td>\n      <td>0.025926</td>\n      <td>0.033333</td>\n      <td>0.044444</td>\n      <td>0.207407</td>\n      <td>0.311111</td>\n    </tr>\n    <tr>\n      <th>262.0</th>\n      <td>15.0</td>\n      <td>0.211620</td>\n      <td>0.203273</td>\n      <td>0.041667</td>\n      <td>0.111111</td>\n      <td>0.152778</td>\n      <td>0.192708</td>\n      <td>0.791667</td>\n    </tr>\n    <tr>\n      <th>263.0</th>\n      <td>20.0</td>\n      <td>0.074188</td>\n      <td>0.079257</td>\n      <td>0.014446</td>\n      <td>0.024579</td>\n      <td>0.051030</td>\n      <td>0.077180</td>\n      <td>0.303371</td>\n    </tr>\n    <tr>\n      <th>272.0</th>\n      <td>24.0</td>\n      <td>0.058249</td>\n      <td>0.046034</td>\n      <td>0.008197</td>\n      <td>0.022968</td>\n      <td>0.044692</td>\n      <td>0.069023</td>\n      <td>0.181421</td>\n    </tr>\n    <tr>\n      <th>273.0</th>\n      <td>24.0</td>\n      <td>0.067230</td>\n      <td>0.056442</td>\n      <td>0.016667</td>\n      <td>0.029982</td>\n      <td>0.043750</td>\n      <td>0.092679</td>\n      <td>0.227778</td>\n    </tr>\n    <tr>\n      <th>292.0</th>\n      <td>21.0</td>\n      <td>0.053902</td>\n      <td>0.048146</td>\n      <td>0.011976</td>\n      <td>0.021291</td>\n      <td>0.043713</td>\n      <td>0.078475</td>\n      <td>0.210502</td>\n    </tr>\n    <tr>\n      <th>296.0</th>\n      <td>17.0</td>\n      <td>0.047622</td>\n      <td>0.043994</td>\n      <td>0.011364</td>\n      <td>0.023810</td>\n      <td>0.027056</td>\n      <td>0.041558</td>\n      <td>0.141414</td>\n    </tr>\n    <tr>\n      <th>297.0</th>\n      <td>16.0</td>\n      <td>0.113259</td>\n      <td>0.081422</td>\n      <td>0.021739</td>\n      <td>0.040761</td>\n      <td>0.102174</td>\n      <td>0.165761</td>\n      <td>0.278986</td>\n    </tr>\n    <tr>\n      <th>298.0</th>\n      <td>21.0</td>\n      <td>0.046968</td>\n      <td>0.034455</td>\n      <td>0.005532</td>\n      <td>0.024424</td>\n      <td>0.034234</td>\n      <td>0.061862</td>\n      <td>0.140712</td>\n    </tr>\n    <tr>\n      <th>299.0</th>\n      <td>19.0</td>\n      <td>0.047439</td>\n      <td>0.038261</td>\n      <td>0.010526</td>\n      <td>0.020175</td>\n      <td>0.033041</td>\n      <td>0.071903</td>\n      <td>0.153509</td>\n    </tr>\n    <tr>\n      <th>300.0</th>\n      <td>19.0</td>\n      <td>0.079329</td>\n      <td>0.059869</td>\n      <td>0.020408</td>\n      <td>0.040816</td>\n      <td>0.079365</td>\n      <td>0.090136</td>\n      <td>0.236735</td>\n    </tr>\n    <tr>\n      <th>301.0</th>\n      <td>24.0</td>\n      <td>0.062491</td>\n      <td>0.069541</td>\n      <td>0.014550</td>\n      <td>0.030423</td>\n      <td>0.046788</td>\n      <td>0.071170</td>\n      <td>0.363095</td>\n    </tr>\n    <tr>\n      <th>302.0</th>\n      <td>19.0</td>\n      <td>0.156449</td>\n      <td>0.083511</td>\n      <td>0.040000</td>\n      <td>0.091667</td>\n      <td>0.148571</td>\n      <td>0.192222</td>\n      <td>0.324444</td>\n    </tr>\n    <tr>\n      <th>303.0</th>\n      <td>25.0</td>\n      <td>0.039033</td>\n      <td>0.048454</td>\n      <td>0.004132</td>\n      <td>0.009298</td>\n      <td>0.015152</td>\n      <td>0.039444</td>\n      <td>0.174013</td>\n    </tr>\n  </tbody>\n</table>\n</div>"
     },
     "execution_count": 40,
     "metadata": {},
     "output_type": "execute_result"
    }
   ],
   "source": [
    "# Weight of connections by class\n",
    "df_participant_com.groupby('SchoolClassID')['Average_Weight'].describe()\n"
   ],
   "metadata": {
    "collapsed": false,
    "pycharm": {
     "name": "#%%\n"
    }
   }
  },
  {
   "cell_type": "code",
   "execution_count": 42,
   "outputs": [
    {
     "data": {
      "text/plain": "count    408.000000\nmean       0.103170\nstd        0.123498\nmin        0.000000\n25%        0.026212\n50%        0.057781\n75%        0.134920\nmax        0.875000\nName: Average_Weight, dtype: float64"
     },
     "execution_count": 42,
     "metadata": {},
     "output_type": "execute_result"
    }
   ],
   "source": [
    "# Weight of connections (overall)\n",
    "df_participant_com['Average_Weight'].describe()"
   ],
   "metadata": {
    "collapsed": false,
    "pycharm": {
     "name": "#%%\n"
    }
   }
  },
  {
   "cell_type": "code",
   "execution_count": 43,
   "outputs": [
    {
     "data": {
      "text/plain": "               count  mean  std   min   25%   50%   75%   max\nSchoolClassID                                                \n78.0             1.0  0.14  NaN  0.14  0.14  0.14  0.14  0.14\n81.0             1.0  0.21  NaN  0.21  0.21  0.21  0.21  0.21\n100.0            1.0  0.27  NaN  0.27  0.27  0.27  0.27  0.27\n124.0            1.0  0.28  NaN  0.28  0.28  0.28  0.28  0.28\n125.0            1.0  0.30  NaN  0.30  0.30  0.30  0.30  0.30\n256.0            1.0  0.14  NaN  0.14  0.14  0.14  0.14  0.14\n258.0            1.0  0.14  NaN  0.14  0.14  0.14  0.14  0.14\n261.0            1.0  0.33  NaN  0.33  0.33  0.33  0.33  0.33\n262.0            1.0  0.30  NaN  0.30  0.30  0.30  0.30  0.30\n263.0            1.0  0.43  NaN  0.43  0.43  0.43  0.43  0.43\n272.0            1.0  0.51  NaN  0.51  0.51  0.51  0.51  0.51\n273.0            1.0  0.46  NaN  0.46  0.46  0.46  0.46  0.46\n292.0            1.0  0.48  NaN  0.48  0.48  0.48  0.48  0.48\n296.0            1.0  0.47  NaN  0.47  0.47  0.47  0.47  0.47\n297.0            1.0  0.29  NaN  0.29  0.29  0.29  0.29  0.29\n298.0            1.0  0.81  NaN  0.81  0.81  0.81  0.81  0.81\n299.0            1.0  0.71  NaN  0.71  0.71  0.71  0.71  0.71\n300.0            1.0  0.35  NaN  0.35  0.35  0.35  0.35  0.35\n301.0            1.0  0.61  NaN  0.61  0.61  0.61  0.61  0.61\n302.0            1.0  0.46  NaN  0.46  0.46  0.46  0.46  0.46\n303.0            1.0  0.37  NaN  0.37  0.37  0.37  0.37  0.37",
      "text/html": "<div>\n<style scoped>\n    .dataframe tbody tr th:only-of-type {\n        vertical-align: middle;\n    }\n\n    .dataframe tbody tr th {\n        vertical-align: top;\n    }\n\n    .dataframe thead th {\n        text-align: right;\n    }\n</style>\n<table border=\"1\" class=\"dataframe\">\n  <thead>\n    <tr style=\"text-align: right;\">\n      <th></th>\n      <th>count</th>\n      <th>mean</th>\n      <th>std</th>\n      <th>min</th>\n      <th>25%</th>\n      <th>50%</th>\n      <th>75%</th>\n      <th>max</th>\n    </tr>\n    <tr>\n      <th>SchoolClassID</th>\n      <th></th>\n      <th></th>\n      <th></th>\n      <th></th>\n      <th></th>\n      <th></th>\n      <th></th>\n      <th></th>\n    </tr>\n  </thead>\n  <tbody>\n    <tr>\n      <th>78.0</th>\n      <td>1.0</td>\n      <td>0.14</td>\n      <td>NaN</td>\n      <td>0.14</td>\n      <td>0.14</td>\n      <td>0.14</td>\n      <td>0.14</td>\n      <td>0.14</td>\n    </tr>\n    <tr>\n      <th>81.0</th>\n      <td>1.0</td>\n      <td>0.21</td>\n      <td>NaN</td>\n      <td>0.21</td>\n      <td>0.21</td>\n      <td>0.21</td>\n      <td>0.21</td>\n      <td>0.21</td>\n    </tr>\n    <tr>\n      <th>100.0</th>\n      <td>1.0</td>\n      <td>0.27</td>\n      <td>NaN</td>\n      <td>0.27</td>\n      <td>0.27</td>\n      <td>0.27</td>\n      <td>0.27</td>\n      <td>0.27</td>\n    </tr>\n    <tr>\n      <th>124.0</th>\n      <td>1.0</td>\n      <td>0.28</td>\n      <td>NaN</td>\n      <td>0.28</td>\n      <td>0.28</td>\n      <td>0.28</td>\n      <td>0.28</td>\n      <td>0.28</td>\n    </tr>\n    <tr>\n      <th>125.0</th>\n      <td>1.0</td>\n      <td>0.30</td>\n      <td>NaN</td>\n      <td>0.30</td>\n      <td>0.30</td>\n      <td>0.30</td>\n      <td>0.30</td>\n      <td>0.30</td>\n    </tr>\n    <tr>\n      <th>256.0</th>\n      <td>1.0</td>\n      <td>0.14</td>\n      <td>NaN</td>\n      <td>0.14</td>\n      <td>0.14</td>\n      <td>0.14</td>\n      <td>0.14</td>\n      <td>0.14</td>\n    </tr>\n    <tr>\n      <th>258.0</th>\n      <td>1.0</td>\n      <td>0.14</td>\n      <td>NaN</td>\n      <td>0.14</td>\n      <td>0.14</td>\n      <td>0.14</td>\n      <td>0.14</td>\n      <td>0.14</td>\n    </tr>\n    <tr>\n      <th>261.0</th>\n      <td>1.0</td>\n      <td>0.33</td>\n      <td>NaN</td>\n      <td>0.33</td>\n      <td>0.33</td>\n      <td>0.33</td>\n      <td>0.33</td>\n      <td>0.33</td>\n    </tr>\n    <tr>\n      <th>262.0</th>\n      <td>1.0</td>\n      <td>0.30</td>\n      <td>NaN</td>\n      <td>0.30</td>\n      <td>0.30</td>\n      <td>0.30</td>\n      <td>0.30</td>\n      <td>0.30</td>\n    </tr>\n    <tr>\n      <th>263.0</th>\n      <td>1.0</td>\n      <td>0.43</td>\n      <td>NaN</td>\n      <td>0.43</td>\n      <td>0.43</td>\n      <td>0.43</td>\n      <td>0.43</td>\n      <td>0.43</td>\n    </tr>\n    <tr>\n      <th>272.0</th>\n      <td>1.0</td>\n      <td>0.51</td>\n      <td>NaN</td>\n      <td>0.51</td>\n      <td>0.51</td>\n      <td>0.51</td>\n      <td>0.51</td>\n      <td>0.51</td>\n    </tr>\n    <tr>\n      <th>273.0</th>\n      <td>1.0</td>\n      <td>0.46</td>\n      <td>NaN</td>\n      <td>0.46</td>\n      <td>0.46</td>\n      <td>0.46</td>\n      <td>0.46</td>\n      <td>0.46</td>\n    </tr>\n    <tr>\n      <th>292.0</th>\n      <td>1.0</td>\n      <td>0.48</td>\n      <td>NaN</td>\n      <td>0.48</td>\n      <td>0.48</td>\n      <td>0.48</td>\n      <td>0.48</td>\n      <td>0.48</td>\n    </tr>\n    <tr>\n      <th>296.0</th>\n      <td>1.0</td>\n      <td>0.47</td>\n      <td>NaN</td>\n      <td>0.47</td>\n      <td>0.47</td>\n      <td>0.47</td>\n      <td>0.47</td>\n      <td>0.47</td>\n    </tr>\n    <tr>\n      <th>297.0</th>\n      <td>1.0</td>\n      <td>0.29</td>\n      <td>NaN</td>\n      <td>0.29</td>\n      <td>0.29</td>\n      <td>0.29</td>\n      <td>0.29</td>\n      <td>0.29</td>\n    </tr>\n    <tr>\n      <th>298.0</th>\n      <td>1.0</td>\n      <td>0.81</td>\n      <td>NaN</td>\n      <td>0.81</td>\n      <td>0.81</td>\n      <td>0.81</td>\n      <td>0.81</td>\n      <td>0.81</td>\n    </tr>\n    <tr>\n      <th>299.0</th>\n      <td>1.0</td>\n      <td>0.71</td>\n      <td>NaN</td>\n      <td>0.71</td>\n      <td>0.71</td>\n      <td>0.71</td>\n      <td>0.71</td>\n      <td>0.71</td>\n    </tr>\n    <tr>\n      <th>300.0</th>\n      <td>1.0</td>\n      <td>0.35</td>\n      <td>NaN</td>\n      <td>0.35</td>\n      <td>0.35</td>\n      <td>0.35</td>\n      <td>0.35</td>\n      <td>0.35</td>\n    </tr>\n    <tr>\n      <th>301.0</th>\n      <td>1.0</td>\n      <td>0.61</td>\n      <td>NaN</td>\n      <td>0.61</td>\n      <td>0.61</td>\n      <td>0.61</td>\n      <td>0.61</td>\n      <td>0.61</td>\n    </tr>\n    <tr>\n      <th>302.0</th>\n      <td>1.0</td>\n      <td>0.46</td>\n      <td>NaN</td>\n      <td>0.46</td>\n      <td>0.46</td>\n      <td>0.46</td>\n      <td>0.46</td>\n      <td>0.46</td>\n    </tr>\n    <tr>\n      <th>303.0</th>\n      <td>1.0</td>\n      <td>0.37</td>\n      <td>NaN</td>\n      <td>0.37</td>\n      <td>0.37</td>\n      <td>0.37</td>\n      <td>0.37</td>\n      <td>0.37</td>\n    </tr>\n  </tbody>\n</table>\n</div>"
     },
     "execution_count": 43,
     "metadata": {},
     "output_type": "execute_result"
    }
   ],
   "source": [
    "# Density by class\n",
    "df_class_com.groupby('SchoolClassID')['Density'].describe()"
   ],
   "metadata": {
    "collapsed": false,
    "pycharm": {
     "name": "#%%\n"
    }
   }
  },
  {
   "cell_type": "code",
   "execution_count": 44,
   "outputs": [
    {
     "data": {
      "text/plain": "count    21.000000\nmean      0.383810\nstd       0.179568\nmin       0.140000\n25%       0.280000\n50%       0.350000\n75%       0.470000\nmax       0.810000\nName: Density, dtype: float64"
     },
     "execution_count": 44,
     "metadata": {},
     "output_type": "execute_result"
    }
   ],
   "source": [
    "# Density (overall)\n",
    "df_class_com['Density'].describe()"
   ],
   "metadata": {
    "collapsed": false,
    "pycharm": {
     "name": "#%%\n"
    }
   }
  },
  {
   "cell_type": "code",
   "execution_count": 45,
   "outputs": [
    {
     "name": "stderr",
     "output_type": "stream",
     "text": [
      "/Users/davidblok/.pyenv/versions/3.7.0/lib/python3.7/site-packages/ipykernel_launcher.py:2: FutureWarning: Indexing with multiple keys (implicitly converted to a tuple of keys) will be deprecated, use a list instead.\n",
      "  \n"
     ]
    },
    {
     "data": {
      "text/plain": "              InDegree                                                    \\\n                 count      mean       std       min       25%       50%   \nSchoolClassID                                                              \n78.0              18.0  0.137255  0.078142  0.000000  0.117647  0.117647   \n81.0              19.0  0.207602  0.099453  0.055556  0.138889  0.166667   \n100.0             19.0  0.269006  0.118956  0.055556  0.166667  0.277778   \n124.0             17.0  0.279412  0.132799  0.062500  0.187500  0.250000   \n125.0             16.0  0.304167  0.137639  0.133333  0.183333  0.300000   \n256.0             22.0  0.140693  0.072706  0.000000  0.095238  0.142857   \n258.0             16.0  0.137500  0.110135  0.000000  0.066667  0.133333   \n261.0             17.0  0.330882  0.124540  0.125000  0.250000  0.312500   \n262.0             15.0  0.295238  0.129099  0.142857  0.214286  0.214286   \n263.0             20.0  0.428947  0.085848  0.263158  0.368421  0.421053   \n272.0             24.0  0.512681  0.155964  0.217391  0.434783  0.521739   \n273.0             24.0  0.458333  0.114660  0.260870  0.347826  0.478261   \n292.0             21.0  0.480952  0.118824  0.300000  0.400000  0.500000   \n296.0             17.0  0.466912  0.130948  0.250000  0.375000  0.437500   \n297.0             16.0  0.287500  0.166389  0.000000  0.133333  0.333333   \n298.0             21.0  0.811905  0.115005  0.600000  0.750000  0.800000   \n299.0             19.0  0.713450  0.098450  0.500000  0.666667  0.722222   \n300.0             19.0  0.353801  0.168926  0.111111  0.194444  0.333333   \n301.0             24.0  0.608696  0.112504  0.347826  0.554348  0.608696   \n302.0             19.0  0.464912  0.114472  0.277778  0.388889  0.500000   \n303.0             25.0  0.366667  0.162714  0.166667  0.250000  0.333333   \n\n                                  Closeness            ...            \\\n                    75%       max     count      mean  ...       75%   \nSchoolClassID                                          ...             \n78.0           0.176471  0.294118      18.0  0.254450  ...  0.337245   \n81.0           0.277778  0.388889      19.0  0.415880  ...  0.458730   \n100.0          0.333333  0.500000      19.0  0.512841  ...  0.571573   \n124.0          0.375000  0.562500      17.0  0.501765  ...  0.516129   \n125.0          0.400000  0.533333      16.0  0.533646  ...  0.576923   \n256.0          0.190476  0.238095      22.0  0.318011  ...  0.373483   \n258.0          0.150000  0.466667      16.0  0.233938  ...  0.317647   \n261.0          0.437500  0.625000      17.0  0.553905  ...  0.592593   \n262.0          0.357143  0.571429      15.0  0.498218  ...  0.538462   \n263.0          0.473684  0.631579      20.0  0.599897  ...  0.633333   \n272.0          0.619565  0.826087      24.0  0.673771  ...  0.718750   \n273.0          0.532609  0.695652      24.0  0.636364  ...  0.676471   \n292.0          0.550000  0.700000      21.0  0.641848  ...  0.666667   \n296.0          0.562500  0.687500      17.0  0.655312  ...  0.695652   \n297.0          0.400000  0.533333      16.0  0.438055  ...  0.540675   \n298.0          0.900000  1.000000      21.0  0.849412  ...  0.909091   \n299.0          0.777778  0.888889      19.0  0.781626  ...  0.819876   \n300.0          0.500000  0.611111      19.0  0.588428  ...  0.666667   \n301.0          0.663043  0.826087      24.0  0.697729  ...  0.724546   \n302.0          0.527778  0.666667      19.0  0.647742  ...  0.666667   \n303.0          0.416667  0.833333      25.0  0.599691  ...  0.615385   \n\n                        Betweenness                                          \\\n                    max       count      mean       std       min       25%   \nSchoolClassID                                                                 \n78.0           0.413603        18.0  0.074959  0.070462  0.000000  0.001379   \n81.0           0.535185        19.0  0.073787  0.107082  0.000000  0.000000   \n100.0          0.600000        19.0  0.057792  0.059290  0.000000  0.019643   \n124.0          0.666667        17.0  0.067892  0.125116  0.000000  0.005556   \n125.0          0.652174        16.0  0.064583  0.098901  0.000000  0.000000   \n256.0          0.423280        22.0  0.087987  0.110388  0.000000  0.000298   \n258.0          0.490909        16.0  0.028571  0.064006  0.000000  0.000000   \n261.0          0.727273        17.0  0.054902  0.116188  0.000000  0.003413   \n262.0          0.608696        15.0  0.079487  0.147824  0.000000  0.013324   \n263.0          0.703704        20.0  0.037573  0.052842  0.002193  0.006684   \n272.0          0.851852        24.0  0.022810  0.028230  0.000000  0.003912   \n273.0          0.766667        24.0  0.026515  0.033096  0.000000  0.000823   \n292.0          0.769231        21.0  0.029950  0.037001  0.000877  0.007331   \n296.0          0.761905        17.0  0.035784  0.035157  0.001215  0.011116   \n297.0          0.681818        16.0  0.087798  0.097563  0.000000  0.000893   \n298.0          1.000000        21.0  0.009900  0.006237  0.001882  0.005604   \n299.0          0.900000        19.0  0.016856  0.013694  0.000327  0.007349   \n300.0          0.720000        19.0  0.043344  0.071026  0.000000  0.008703   \n301.0          0.821429        24.0  0.020092  0.018591  0.000427  0.006381   \n302.0          0.750000        19.0  0.032508  0.044526  0.000000  0.002712   \n303.0          0.857143        25.0  0.030000  0.051996  0.000000  0.003356   \n\n                                             \n                    50%       75%       max  \nSchoolClassID                                \n78.0           0.060968  0.128830  0.193015  \n81.0           0.001634  0.118464  0.349129  \n100.0          0.037099  0.076354  0.205766  \n124.0          0.035880  0.063079  0.520764  \n125.0          0.032738  0.067510  0.334218  \n256.0          0.025198  0.158135  0.328571  \n258.0          0.000000  0.019048  0.247619  \n261.0          0.015833  0.052431  0.492599  \n262.0          0.033516  0.077289  0.593407  \n263.0          0.022494  0.040581  0.195705  \n272.0          0.012825  0.029503  0.111238  \n273.0          0.009453  0.043310  0.119923  \n292.0          0.016042  0.026258  0.131794  \n296.0          0.020625  0.058026  0.113447  \n297.0          0.063730  0.147817  0.313968  \n298.0          0.007948  0.015535  0.020016  \n299.0          0.015741  0.021948  0.044515  \n300.0          0.017130  0.044950  0.299987  \n301.0          0.017081  0.027065  0.069836  \n302.0          0.015772  0.040832  0.159656  \n303.0          0.008380  0.019777  0.222626  \n\n[21 rows x 24 columns]",
      "text/html": "<div>\n<style scoped>\n    .dataframe tbody tr th:only-of-type {\n        vertical-align: middle;\n    }\n\n    .dataframe tbody tr th {\n        vertical-align: top;\n    }\n\n    .dataframe thead tr th {\n        text-align: left;\n    }\n\n    .dataframe thead tr:last-of-type th {\n        text-align: right;\n    }\n</style>\n<table border=\"1\" class=\"dataframe\">\n  <thead>\n    <tr>\n      <th></th>\n      <th colspan=\"8\" halign=\"left\">InDegree</th>\n      <th colspan=\"5\" halign=\"left\">Closeness</th>\n      <th colspan=\"8\" halign=\"left\">Betweenness</th>\n    </tr>\n    <tr>\n      <th></th>\n      <th>count</th>\n      <th>mean</th>\n      <th>std</th>\n      <th>min</th>\n      <th>25%</th>\n      <th>50%</th>\n      <th>75%</th>\n      <th>max</th>\n      <th>count</th>\n      <th>mean</th>\n      <th>...</th>\n      <th>75%</th>\n      <th>max</th>\n      <th>count</th>\n      <th>mean</th>\n      <th>std</th>\n      <th>min</th>\n      <th>25%</th>\n      <th>50%</th>\n      <th>75%</th>\n      <th>max</th>\n    </tr>\n    <tr>\n      <th>SchoolClassID</th>\n      <th></th>\n      <th></th>\n      <th></th>\n      <th></th>\n      <th></th>\n      <th></th>\n      <th></th>\n      <th></th>\n      <th></th>\n      <th></th>\n      <th></th>\n      <th></th>\n      <th></th>\n      <th></th>\n      <th></th>\n      <th></th>\n      <th></th>\n      <th></th>\n      <th></th>\n      <th></th>\n      <th></th>\n    </tr>\n  </thead>\n  <tbody>\n    <tr>\n      <th>78.0</th>\n      <td>18.0</td>\n      <td>0.137255</td>\n      <td>0.078142</td>\n      <td>0.000000</td>\n      <td>0.117647</td>\n      <td>0.117647</td>\n      <td>0.176471</td>\n      <td>0.294118</td>\n      <td>18.0</td>\n      <td>0.254450</td>\n      <td>...</td>\n      <td>0.337245</td>\n      <td>0.413603</td>\n      <td>18.0</td>\n      <td>0.074959</td>\n      <td>0.070462</td>\n      <td>0.000000</td>\n      <td>0.001379</td>\n      <td>0.060968</td>\n      <td>0.128830</td>\n      <td>0.193015</td>\n    </tr>\n    <tr>\n      <th>81.0</th>\n      <td>19.0</td>\n      <td>0.207602</td>\n      <td>0.099453</td>\n      <td>0.055556</td>\n      <td>0.138889</td>\n      <td>0.166667</td>\n      <td>0.277778</td>\n      <td>0.388889</td>\n      <td>19.0</td>\n      <td>0.415880</td>\n      <td>...</td>\n      <td>0.458730</td>\n      <td>0.535185</td>\n      <td>19.0</td>\n      <td>0.073787</td>\n      <td>0.107082</td>\n      <td>0.000000</td>\n      <td>0.000000</td>\n      <td>0.001634</td>\n      <td>0.118464</td>\n      <td>0.349129</td>\n    </tr>\n    <tr>\n      <th>100.0</th>\n      <td>19.0</td>\n      <td>0.269006</td>\n      <td>0.118956</td>\n      <td>0.055556</td>\n      <td>0.166667</td>\n      <td>0.277778</td>\n      <td>0.333333</td>\n      <td>0.500000</td>\n      <td>19.0</td>\n      <td>0.512841</td>\n      <td>...</td>\n      <td>0.571573</td>\n      <td>0.600000</td>\n      <td>19.0</td>\n      <td>0.057792</td>\n      <td>0.059290</td>\n      <td>0.000000</td>\n      <td>0.019643</td>\n      <td>0.037099</td>\n      <td>0.076354</td>\n      <td>0.205766</td>\n    </tr>\n    <tr>\n      <th>124.0</th>\n      <td>17.0</td>\n      <td>0.279412</td>\n      <td>0.132799</td>\n      <td>0.062500</td>\n      <td>0.187500</td>\n      <td>0.250000</td>\n      <td>0.375000</td>\n      <td>0.562500</td>\n      <td>17.0</td>\n      <td>0.501765</td>\n      <td>...</td>\n      <td>0.516129</td>\n      <td>0.666667</td>\n      <td>17.0</td>\n      <td>0.067892</td>\n      <td>0.125116</td>\n      <td>0.000000</td>\n      <td>0.005556</td>\n      <td>0.035880</td>\n      <td>0.063079</td>\n      <td>0.520764</td>\n    </tr>\n    <tr>\n      <th>125.0</th>\n      <td>16.0</td>\n      <td>0.304167</td>\n      <td>0.137639</td>\n      <td>0.133333</td>\n      <td>0.183333</td>\n      <td>0.300000</td>\n      <td>0.400000</td>\n      <td>0.533333</td>\n      <td>16.0</td>\n      <td>0.533646</td>\n      <td>...</td>\n      <td>0.576923</td>\n      <td>0.652174</td>\n      <td>16.0</td>\n      <td>0.064583</td>\n      <td>0.098901</td>\n      <td>0.000000</td>\n      <td>0.000000</td>\n      <td>0.032738</td>\n      <td>0.067510</td>\n      <td>0.334218</td>\n    </tr>\n    <tr>\n      <th>256.0</th>\n      <td>22.0</td>\n      <td>0.140693</td>\n      <td>0.072706</td>\n      <td>0.000000</td>\n      <td>0.095238</td>\n      <td>0.142857</td>\n      <td>0.190476</td>\n      <td>0.238095</td>\n      <td>22.0</td>\n      <td>0.318011</td>\n      <td>...</td>\n      <td>0.373483</td>\n      <td>0.423280</td>\n      <td>22.0</td>\n      <td>0.087987</td>\n      <td>0.110388</td>\n      <td>0.000000</td>\n      <td>0.000298</td>\n      <td>0.025198</td>\n      <td>0.158135</td>\n      <td>0.328571</td>\n    </tr>\n    <tr>\n      <th>258.0</th>\n      <td>16.0</td>\n      <td>0.137500</td>\n      <td>0.110135</td>\n      <td>0.000000</td>\n      <td>0.066667</td>\n      <td>0.133333</td>\n      <td>0.150000</td>\n      <td>0.466667</td>\n      <td>16.0</td>\n      <td>0.233938</td>\n      <td>...</td>\n      <td>0.317647</td>\n      <td>0.490909</td>\n      <td>16.0</td>\n      <td>0.028571</td>\n      <td>0.064006</td>\n      <td>0.000000</td>\n      <td>0.000000</td>\n      <td>0.000000</td>\n      <td>0.019048</td>\n      <td>0.247619</td>\n    </tr>\n    <tr>\n      <th>261.0</th>\n      <td>17.0</td>\n      <td>0.330882</td>\n      <td>0.124540</td>\n      <td>0.125000</td>\n      <td>0.250000</td>\n      <td>0.312500</td>\n      <td>0.437500</td>\n      <td>0.625000</td>\n      <td>17.0</td>\n      <td>0.553905</td>\n      <td>...</td>\n      <td>0.592593</td>\n      <td>0.727273</td>\n      <td>17.0</td>\n      <td>0.054902</td>\n      <td>0.116188</td>\n      <td>0.000000</td>\n      <td>0.003413</td>\n      <td>0.015833</td>\n      <td>0.052431</td>\n      <td>0.492599</td>\n    </tr>\n    <tr>\n      <th>262.0</th>\n      <td>15.0</td>\n      <td>0.295238</td>\n      <td>0.129099</td>\n      <td>0.142857</td>\n      <td>0.214286</td>\n      <td>0.214286</td>\n      <td>0.357143</td>\n      <td>0.571429</td>\n      <td>15.0</td>\n      <td>0.498218</td>\n      <td>...</td>\n      <td>0.538462</td>\n      <td>0.608696</td>\n      <td>15.0</td>\n      <td>0.079487</td>\n      <td>0.147824</td>\n      <td>0.000000</td>\n      <td>0.013324</td>\n      <td>0.033516</td>\n      <td>0.077289</td>\n      <td>0.593407</td>\n    </tr>\n    <tr>\n      <th>263.0</th>\n      <td>20.0</td>\n      <td>0.428947</td>\n      <td>0.085848</td>\n      <td>0.263158</td>\n      <td>0.368421</td>\n      <td>0.421053</td>\n      <td>0.473684</td>\n      <td>0.631579</td>\n      <td>20.0</td>\n      <td>0.599897</td>\n      <td>...</td>\n      <td>0.633333</td>\n      <td>0.703704</td>\n      <td>20.0</td>\n      <td>0.037573</td>\n      <td>0.052842</td>\n      <td>0.002193</td>\n      <td>0.006684</td>\n      <td>0.022494</td>\n      <td>0.040581</td>\n      <td>0.195705</td>\n    </tr>\n    <tr>\n      <th>272.0</th>\n      <td>24.0</td>\n      <td>0.512681</td>\n      <td>0.155964</td>\n      <td>0.217391</td>\n      <td>0.434783</td>\n      <td>0.521739</td>\n      <td>0.619565</td>\n      <td>0.826087</td>\n      <td>24.0</td>\n      <td>0.673771</td>\n      <td>...</td>\n      <td>0.718750</td>\n      <td>0.851852</td>\n      <td>24.0</td>\n      <td>0.022810</td>\n      <td>0.028230</td>\n      <td>0.000000</td>\n      <td>0.003912</td>\n      <td>0.012825</td>\n      <td>0.029503</td>\n      <td>0.111238</td>\n    </tr>\n    <tr>\n      <th>273.0</th>\n      <td>24.0</td>\n      <td>0.458333</td>\n      <td>0.114660</td>\n      <td>0.260870</td>\n      <td>0.347826</td>\n      <td>0.478261</td>\n      <td>0.532609</td>\n      <td>0.695652</td>\n      <td>24.0</td>\n      <td>0.636364</td>\n      <td>...</td>\n      <td>0.676471</td>\n      <td>0.766667</td>\n      <td>24.0</td>\n      <td>0.026515</td>\n      <td>0.033096</td>\n      <td>0.000000</td>\n      <td>0.000823</td>\n      <td>0.009453</td>\n      <td>0.043310</td>\n      <td>0.119923</td>\n    </tr>\n    <tr>\n      <th>292.0</th>\n      <td>21.0</td>\n      <td>0.480952</td>\n      <td>0.118824</td>\n      <td>0.300000</td>\n      <td>0.400000</td>\n      <td>0.500000</td>\n      <td>0.550000</td>\n      <td>0.700000</td>\n      <td>21.0</td>\n      <td>0.641848</td>\n      <td>...</td>\n      <td>0.666667</td>\n      <td>0.769231</td>\n      <td>21.0</td>\n      <td>0.029950</td>\n      <td>0.037001</td>\n      <td>0.000877</td>\n      <td>0.007331</td>\n      <td>0.016042</td>\n      <td>0.026258</td>\n      <td>0.131794</td>\n    </tr>\n    <tr>\n      <th>296.0</th>\n      <td>17.0</td>\n      <td>0.466912</td>\n      <td>0.130948</td>\n      <td>0.250000</td>\n      <td>0.375000</td>\n      <td>0.437500</td>\n      <td>0.562500</td>\n      <td>0.687500</td>\n      <td>17.0</td>\n      <td>0.655312</td>\n      <td>...</td>\n      <td>0.695652</td>\n      <td>0.761905</td>\n      <td>17.0</td>\n      <td>0.035784</td>\n      <td>0.035157</td>\n      <td>0.001215</td>\n      <td>0.011116</td>\n      <td>0.020625</td>\n      <td>0.058026</td>\n      <td>0.113447</td>\n    </tr>\n    <tr>\n      <th>297.0</th>\n      <td>16.0</td>\n      <td>0.287500</td>\n      <td>0.166389</td>\n      <td>0.000000</td>\n      <td>0.133333</td>\n      <td>0.333333</td>\n      <td>0.400000</td>\n      <td>0.533333</td>\n      <td>16.0</td>\n      <td>0.438055</td>\n      <td>...</td>\n      <td>0.540675</td>\n      <td>0.681818</td>\n      <td>16.0</td>\n      <td>0.087798</td>\n      <td>0.097563</td>\n      <td>0.000000</td>\n      <td>0.000893</td>\n      <td>0.063730</td>\n      <td>0.147817</td>\n      <td>0.313968</td>\n    </tr>\n    <tr>\n      <th>298.0</th>\n      <td>21.0</td>\n      <td>0.811905</td>\n      <td>0.115005</td>\n      <td>0.600000</td>\n      <td>0.750000</td>\n      <td>0.800000</td>\n      <td>0.900000</td>\n      <td>1.000000</td>\n      <td>21.0</td>\n      <td>0.849412</td>\n      <td>...</td>\n      <td>0.909091</td>\n      <td>1.000000</td>\n      <td>21.0</td>\n      <td>0.009900</td>\n      <td>0.006237</td>\n      <td>0.001882</td>\n      <td>0.005604</td>\n      <td>0.007948</td>\n      <td>0.015535</td>\n      <td>0.020016</td>\n    </tr>\n    <tr>\n      <th>299.0</th>\n      <td>19.0</td>\n      <td>0.713450</td>\n      <td>0.098450</td>\n      <td>0.500000</td>\n      <td>0.666667</td>\n      <td>0.722222</td>\n      <td>0.777778</td>\n      <td>0.888889</td>\n      <td>19.0</td>\n      <td>0.781626</td>\n      <td>...</td>\n      <td>0.819876</td>\n      <td>0.900000</td>\n      <td>19.0</td>\n      <td>0.016856</td>\n      <td>0.013694</td>\n      <td>0.000327</td>\n      <td>0.007349</td>\n      <td>0.015741</td>\n      <td>0.021948</td>\n      <td>0.044515</td>\n    </tr>\n    <tr>\n      <th>300.0</th>\n      <td>19.0</td>\n      <td>0.353801</td>\n      <td>0.168926</td>\n      <td>0.111111</td>\n      <td>0.194444</td>\n      <td>0.333333</td>\n      <td>0.500000</td>\n      <td>0.611111</td>\n      <td>19.0</td>\n      <td>0.588428</td>\n      <td>...</td>\n      <td>0.666667</td>\n      <td>0.720000</td>\n      <td>19.0</td>\n      <td>0.043344</td>\n      <td>0.071026</td>\n      <td>0.000000</td>\n      <td>0.008703</td>\n      <td>0.017130</td>\n      <td>0.044950</td>\n      <td>0.299987</td>\n    </tr>\n    <tr>\n      <th>301.0</th>\n      <td>24.0</td>\n      <td>0.608696</td>\n      <td>0.112504</td>\n      <td>0.347826</td>\n      <td>0.554348</td>\n      <td>0.608696</td>\n      <td>0.663043</td>\n      <td>0.826087</td>\n      <td>24.0</td>\n      <td>0.697729</td>\n      <td>...</td>\n      <td>0.724546</td>\n      <td>0.821429</td>\n      <td>24.0</td>\n      <td>0.020092</td>\n      <td>0.018591</td>\n      <td>0.000427</td>\n      <td>0.006381</td>\n      <td>0.017081</td>\n      <td>0.027065</td>\n      <td>0.069836</td>\n    </tr>\n    <tr>\n      <th>302.0</th>\n      <td>19.0</td>\n      <td>0.464912</td>\n      <td>0.114472</td>\n      <td>0.277778</td>\n      <td>0.388889</td>\n      <td>0.500000</td>\n      <td>0.527778</td>\n      <td>0.666667</td>\n      <td>19.0</td>\n      <td>0.647742</td>\n      <td>...</td>\n      <td>0.666667</td>\n      <td>0.750000</td>\n      <td>19.0</td>\n      <td>0.032508</td>\n      <td>0.044526</td>\n      <td>0.000000</td>\n      <td>0.002712</td>\n      <td>0.015772</td>\n      <td>0.040832</td>\n      <td>0.159656</td>\n    </tr>\n    <tr>\n      <th>303.0</th>\n      <td>25.0</td>\n      <td>0.366667</td>\n      <td>0.162714</td>\n      <td>0.166667</td>\n      <td>0.250000</td>\n      <td>0.333333</td>\n      <td>0.416667</td>\n      <td>0.833333</td>\n      <td>25.0</td>\n      <td>0.599691</td>\n      <td>...</td>\n      <td>0.615385</td>\n      <td>0.857143</td>\n      <td>25.0</td>\n      <td>0.030000</td>\n      <td>0.051996</td>\n      <td>0.000000</td>\n      <td>0.003356</td>\n      <td>0.008380</td>\n      <td>0.019777</td>\n      <td>0.222626</td>\n    </tr>\n  </tbody>\n</table>\n<p>21 rows × 24 columns</p>\n</div>"
     },
     "execution_count": 45,
     "metadata": {},
     "output_type": "execute_result"
    }
   ],
   "source": [
    "# centrality measures\n",
    "df_participant_com.groupby('SchoolClassID')['InDegree', 'Closeness', 'Betweenness'].describe()\n"
   ],
   "metadata": {
    "collapsed": false,
    "pycharm": {
     "name": "#%%\n"
    }
   }
  },
  {
   "cell_type": "code",
   "execution_count": 47,
   "outputs": [
    {
     "data": {
      "text/plain": "         InDegree   Closeness  Betweenness\ncount  408.000000  408.000000   408.000000\nmean     0.394483    0.563494     0.044937\nstd      0.215439    0.171876     0.075437\nmin      0.000000    0.000000     0.000000\n25%      0.222222    0.473684     0.003262\n50%      0.375000    0.580645     0.016580\n75%      0.550000    0.666667     0.050366\nmax      1.000000    1.000000     0.593407",
      "text/html": "<div>\n<style scoped>\n    .dataframe tbody tr th:only-of-type {\n        vertical-align: middle;\n    }\n\n    .dataframe tbody tr th {\n        vertical-align: top;\n    }\n\n    .dataframe thead th {\n        text-align: right;\n    }\n</style>\n<table border=\"1\" class=\"dataframe\">\n  <thead>\n    <tr style=\"text-align: right;\">\n      <th></th>\n      <th>InDegree</th>\n      <th>Closeness</th>\n      <th>Betweenness</th>\n    </tr>\n  </thead>\n  <tbody>\n    <tr>\n      <th>count</th>\n      <td>408.000000</td>\n      <td>408.000000</td>\n      <td>408.000000</td>\n    </tr>\n    <tr>\n      <th>mean</th>\n      <td>0.394483</td>\n      <td>0.563494</td>\n      <td>0.044937</td>\n    </tr>\n    <tr>\n      <th>std</th>\n      <td>0.215439</td>\n      <td>0.171876</td>\n      <td>0.075437</td>\n    </tr>\n    <tr>\n      <th>min</th>\n      <td>0.000000</td>\n      <td>0.000000</td>\n      <td>0.000000</td>\n    </tr>\n    <tr>\n      <th>25%</th>\n      <td>0.222222</td>\n      <td>0.473684</td>\n      <td>0.003262</td>\n    </tr>\n    <tr>\n      <th>50%</th>\n      <td>0.375000</td>\n      <td>0.580645</td>\n      <td>0.016580</td>\n    </tr>\n    <tr>\n      <th>75%</th>\n      <td>0.550000</td>\n      <td>0.666667</td>\n      <td>0.050366</td>\n    </tr>\n    <tr>\n      <th>max</th>\n      <td>1.000000</td>\n      <td>1.000000</td>\n      <td>0.593407</td>\n    </tr>\n  </tbody>\n</table>\n</div>"
     },
     "execution_count": 47,
     "metadata": {},
     "output_type": "execute_result"
    }
   ],
   "source": [
    "df_participant_com[['InDegree','Closeness','Betweenness']].describe()"
   ],
   "metadata": {
    "collapsed": false,
    "pycharm": {
     "name": "#%%\n"
    }
   }
  },
  {
   "cell_type": "markdown",
   "source": [
    "# Network Similarity (Peer-Nomination vs. Online Communication)"
   ],
   "metadata": {
    "collapsed": false,
    "pycharm": {
     "name": "#%% md\n"
    }
   }
  },
  {
   "cell_type": "code",
   "execution_count": 48,
   "outputs": [
    {
     "data": {
      "text/plain": "           0\n0   0.705882\n1   0.535088\n2   0.652047\n3   0.562500\n4   0.487500\n5   0.755411\n6   0.704167\n7   0.643382\n8   0.747619\n9   0.668421\n10  0.625000\n11  0.641304\n12  0.633333\n13  0.720588\n14  0.741667\n15  0.607143\n16  0.669591\n17  0.616959\n18  0.565217\n19  0.657895\n20  0.731667",
      "text/html": "<div>\n<style scoped>\n    .dataframe tbody tr th:only-of-type {\n        vertical-align: middle;\n    }\n\n    .dataframe tbody tr th {\n        vertical-align: top;\n    }\n\n    .dataframe thead th {\n        text-align: right;\n    }\n</style>\n<table border=\"1\" class=\"dataframe\">\n  <thead>\n    <tr style=\"text-align: right;\">\n      <th></th>\n      <th>0</th>\n    </tr>\n  </thead>\n  <tbody>\n    <tr>\n      <th>0</th>\n      <td>0.705882</td>\n    </tr>\n    <tr>\n      <th>1</th>\n      <td>0.535088</td>\n    </tr>\n    <tr>\n      <th>2</th>\n      <td>0.652047</td>\n    </tr>\n    <tr>\n      <th>3</th>\n      <td>0.562500</td>\n    </tr>\n    <tr>\n      <th>4</th>\n      <td>0.487500</td>\n    </tr>\n    <tr>\n      <th>5</th>\n      <td>0.755411</td>\n    </tr>\n    <tr>\n      <th>6</th>\n      <td>0.704167</td>\n    </tr>\n    <tr>\n      <th>7</th>\n      <td>0.643382</td>\n    </tr>\n    <tr>\n      <th>8</th>\n      <td>0.747619</td>\n    </tr>\n    <tr>\n      <th>9</th>\n      <td>0.668421</td>\n    </tr>\n    <tr>\n      <th>10</th>\n      <td>0.625000</td>\n    </tr>\n    <tr>\n      <th>11</th>\n      <td>0.641304</td>\n    </tr>\n    <tr>\n      <th>12</th>\n      <td>0.633333</td>\n    </tr>\n    <tr>\n      <th>13</th>\n      <td>0.720588</td>\n    </tr>\n    <tr>\n      <th>14</th>\n      <td>0.741667</td>\n    </tr>\n    <tr>\n      <th>15</th>\n      <td>0.607143</td>\n    </tr>\n    <tr>\n      <th>16</th>\n      <td>0.669591</td>\n    </tr>\n    <tr>\n      <th>17</th>\n      <td>0.616959</td>\n    </tr>\n    <tr>\n      <th>18</th>\n      <td>0.565217</td>\n    </tr>\n    <tr>\n      <th>19</th>\n      <td>0.657895</td>\n    </tr>\n    <tr>\n      <th>20</th>\n      <td>0.731667</td>\n    </tr>\n  </tbody>\n</table>\n</div>"
     },
     "execution_count": 48,
     "metadata": {},
     "output_type": "execute_result"
    }
   ],
   "source": [
    "class_network_similarity = []\n",
    "for i in range(0,21):\n",
    "    g1 = list_subgraphs_nom[i]\n",
    "    g2 = list_subgraphs_com[i]\n",
    "\n",
    "\n",
    "    max_edges = g1.number_of_nodes()**2-g1.number_of_nodes()\n",
    "    true_positive=set(g1.edges()).intersection(set(g2.edges()))\n",
    "    # g1.diff(g2) -> edges that are found in GT but not discovered in BT\n",
    "    false_negative=set(g1.edges()).difference(set(g2.edges()))\n",
    "    # g1.diff(g2) -> edges that are found in BT but not discovered in GT\n",
    "    false_positive=set(g2.edges()).difference(set(g1.edges()))\n",
    "    # not sure if true_negative should be actually 0, union or set(g1.edges()).\n",
    "    # I think the last makes most sense since it represents the difference between all possible edges and the ones that are actually in the ground truth data, i.e. the nomination-based graph\n",
    "    union=set(g1.edges()).union(set(g2.edges()))\n",
    "    true_negative=max_edges-len(union)\n",
    "    d1=(len(true_positive)+true_negative) if (len(true_positive)+true_negative)>0 else -1\n",
    "    d2=(len(true_positive)+true_negative+len(false_negative)+len(false_positive)) if (len(true_positive)+true_negative+len(false_negative)+len(false_positive))>0 else -1\n",
    "    network_similarity=d1/d2\n",
    "\n",
    "    class_network_similarity.append(network_similarity)\n",
    "\n",
    "pd.DataFrame(class_network_similarity)"
   ],
   "metadata": {
    "collapsed": false,
    "pycharm": {
     "name": "#%%\n"
    }
   }
  },
  {
   "cell_type": "code",
   "execution_count": 49,
   "outputs": [
    {
     "name": "stdout",
     "output_type": "stream",
     "text": [
      "Mean: 0.6510657701815905\n"
     ]
    }
   ],
   "source": [
    "print(\"Mean:\", sum(class_network_similarity)/len(class_network_similarity))"
   ],
   "metadata": {
    "collapsed": false,
    "pycharm": {
     "name": "#%%\n"
    }
   }
  },
  {
   "cell_type": "code",
   "execution_count": 183,
   "outputs": [],
   "source": [],
   "metadata": {
    "collapsed": false,
    "pycharm": {
     "name": "#%%\n"
    }
   }
  }
 ],
 "metadata": {
  "kernelspec": {
   "display_name": "Python 3",
   "language": "python",
   "name": "python3"
  },
  "language_info": {
   "codemirror_mode": {
    "name": "ipython",
    "version": 2
   },
   "file_extension": ".py",
   "mimetype": "text/x-python",
   "name": "python",
   "nbconvert_exporter": "python",
   "pygments_lexer": "ipython2",
   "version": "2.7.6"
  }
 },
 "nbformat": 4,
 "nbformat_minor": 0
}