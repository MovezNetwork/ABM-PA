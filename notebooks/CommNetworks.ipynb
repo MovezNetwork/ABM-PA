{
 "cells": [
  {
   "cell_type": "code",
   "execution_count": 521,
   "id": "871c3db8-0e65-410e-a594-1bf550133060",
   "metadata": {},
   "outputs": [],
   "source": [
    "import pandas as pd\n",
    "import numpy as np\n",
    "import json"
   ]
  },
  {
   "cell_type": "code",
   "execution_count": 526,
   "id": "c532660a-86d6-4ebe-929a-44761064e429",
   "metadata": {},
   "outputs": [],
   "source": [
    "# change the path for other waves of data - also adapt the bins of the histograms (the maximum values and ranges)\n",
    "primary_school = '../data/Buzz_W5_primary-schools.csv'\n",
    "secondary_school = '../data/Buzz_W5_secondary-schools.csv'"
   ]
  },
  {
   "cell_type": "code",
   "execution_count": 527,
   "id": "fe004aef-43dd-4926-af32-beee06286d9e",
   "metadata": {},
   "outputs": [
    {
     "data": {
      "text/plain": [
       "(174524, 30)"
      ]
     },
     "execution_count": 527,
     "metadata": {},
     "output_type": "execute_result"
    }
   ],
   "source": [
    "df_comm = pd.read_csv(primary_school, sep=';', header=0)\n",
    "df_comm = df_comm.append(pd.read_csv(secondary_school, sep=';', header=0))\n",
    "df_comm.shape"
   ]
  },
  {
   "cell_type": "code",
   "execution_count": 528,
   "id": "78be7d80-bcab-4a45-ba1b-4d7a4f2be9d6",
   "metadata": {},
   "outputs": [],
   "source": [
    "#surpress the scientific notation format that's shown by default\n",
    "pd.set_option('display.float_format', lambda x: '%.0f' % x)"
   ]
  },
  {
   "cell_type": "markdown",
   "id": "f4e6eccf-94a3-4579-8215-d1af93e090eb",
   "metadata": {},
   "source": [
    "###### comment out if you want to see only data from selected classes"
   ]
  },
  {
   "cell_type": "code",
   "execution_count": 529,
   "id": "c7da5a33-021e-4b77-ac64-089797b9f626",
   "metadata": {},
   "outputs": [],
   "source": [
    "# try:\n",
    "#     input_args = json.loads(open('../input/simulation.json').read())\n",
    "# except Exception as ex:\n",
    "#     print('simulation.json does not exist!')\n",
    "#     print(ex)\n",
    "\n",
    "# classes = input_args[\"classes\"]\n",
    "# df_comm = df_comm[df_comm.Class.isin(classes)]"
   ]
  },
  {
   "cell_type": "code",
   "execution_count": 530,
   "id": "e0c9e851-2547-4521-83a7-0de8458322cf",
   "metadata": {},
   "outputs": [
    {
     "data": {
      "text/plain": [
       "Index(['Participant', 'School', 'Class', 'Child', 'Gender', 'Age', 'PI',\n",
       "       'Date', 'Time', 'UMID', 'Format_text', 'Format_Media', 'Type',\n",
       "       'RecipientChild', 'ClassReceive', 'Content', 'Media', 'ReactionInto',\n",
       "       'Flagged', 'PostedWhileBanned', 'ShareSource', 'SharedVia',\n",
       "       'Number_likes', 'Unnamed: 23', 'Unnamed: 24', 'Unnamed: 25',\n",
       "       'Unnamed: 26', 'Unnamed: 27', 'Unnamed: 28', 'Unnamed: 29'],\n",
       "      dtype='object')"
      ]
     },
     "execution_count": 530,
     "metadata": {},
     "output_type": "execute_result"
    }
   ],
   "source": [
    "df_comm.columns"
   ]
  },
  {
   "cell_type": "code",
   "execution_count": 531,
   "id": "3999cf0a-f3cd-4bbb-8554-76a5783446c9",
   "metadata": {},
   "outputs": [
    {
     "data": {
      "text/plain": [
       "Type\n",
       "group       38529\n",
       "my          32677\n",
       "mymovez    103318\n",
       "Name: Type, dtype: int64"
      ]
     },
     "execution_count": 531,
     "metadata": {},
     "output_type": "execute_result"
    }
   ],
   "source": [
    "df_comm.groupby([\"Type\"])['Type'].count()"
   ]
  },
  {
   "cell_type": "code",
   "execution_count": 532,
   "id": "afb8ecb2-89d5-489f-88d6-8d2398119c8e",
   "metadata": {},
   "outputs": [
    {
     "data": {
      "text/plain": [
       "(38529, 30)"
      ]
     },
     "execution_count": 532,
     "metadata": {},
     "output_type": "execute_result"
    }
   ],
   "source": [
    "df_comm_group = df_comm[df_comm.Type==\"group\"]\n",
    "df_comm_group.shape"
   ]
  },
  {
   "cell_type": "code",
   "execution_count": 533,
   "id": "682e1af1-0391-45fc-b7e1-ed874f17fd4e",
   "metadata": {},
   "outputs": [
    {
     "data": {
      "text/plain": [
       "(32677, 30)"
      ]
     },
     "execution_count": 533,
     "metadata": {},
     "output_type": "execute_result"
    }
   ],
   "source": [
    "df_comm_ind = df_comm[df_comm.Type==\"my\"]\n",
    "df_comm_ind.shape"
   ]
  },
  {
   "cell_type": "markdown",
   "id": "a46a148c-f7d4-41ce-8586-db388528a7f0",
   "metadata": {},
   "source": [
    "### Messages exchanged between individuals"
   ]
  },
  {
   "cell_type": "code",
   "execution_count": 534,
   "id": "28cdfa20-ff10-4660-afcf-6bb87f49b490",
   "metadata": {},
   "outputs": [
    {
     "data": {
      "text/plain": [
       "(44, 617, 685)"
      ]
     },
     "execution_count": 534,
     "metadata": {},
     "output_type": "execute_result"
    }
   ],
   "source": [
    "df_comm_ind['Class'].nunique(),df_comm_ind['Child'].nunique(),df_comm_ind['RecipientChild'].nunique()"
   ]
  },
  {
   "cell_type": "code",
   "execution_count": 535,
   "id": "ba4f713b-1924-4522-b44f-1898ba615d6e",
   "metadata": {},
   "outputs": [
    {
     "data": {
      "text/plain": [
       "Class\n",
       "73      1\n",
       "74      1\n",
       "78     18\n",
       "81     19\n",
       "82      8\n",
       "86      5\n",
       "100    19\n",
       "103    11\n",
       "124    17\n",
       "125    16\n",
       "131     9\n",
       "133    10\n",
       "134     7\n",
       "135    12\n",
       "141     8\n",
       "250     7\n",
       "251    12\n",
       "256    24\n",
       "258    16\n",
       "259    14\n",
       "261    17\n",
       "262    15\n",
       "263    20\n",
       "272    25\n",
       "273    24\n",
       "277    10\n",
       "279     9\n",
       "290    13\n",
       "291    13\n",
       "292    21\n",
       "296    17\n",
       "297    16\n",
       "298    21\n",
       "299    19\n",
       "300    19\n",
       "301    24\n",
       "302    19\n",
       "303    25\n",
       "304     5\n",
       "305     5\n",
       "306     8\n",
       "307    12\n",
       "308    14\n",
       "310    12\n",
       "Name: Child, dtype: int64"
      ]
     },
     "execution_count": 535,
     "metadata": {},
     "output_type": "execute_result"
    }
   ],
   "source": [
    "df_comm_ind.groupby([\"Class\"])[\"Child\"].nunique()"
   ]
  },
  {
   "cell_type": "code",
   "execution_count": 537,
   "id": "5adebab4-b455-4b3f-8779-40ade632094a",
   "metadata": {},
   "outputs": [
    {
     "data": {
      "text/html": [
       "<div>\n",
       "<style scoped>\n",
       "    .dataframe tbody tr th:only-of-type {\n",
       "        vertical-align: middle;\n",
       "    }\n",
       "\n",
       "    .dataframe tbody tr th {\n",
       "        vertical-align: top;\n",
       "    }\n",
       "\n",
       "    .dataframe thead th {\n",
       "        text-align: right;\n",
       "    }\n",
       "</style>\n",
       "<table border=\"1\" class=\"dataframe\">\n",
       "  <thead>\n",
       "    <tr style=\"text-align: right;\">\n",
       "      <th></th>\n",
       "      <th>Child</th>\n",
       "      <th>UMID</th>\n",
       "    </tr>\n",
       "  </thead>\n",
       "  <tbody>\n",
       "    <tr>\n",
       "      <th>0</th>\n",
       "      <td>1409</td>\n",
       "      <td>4</td>\n",
       "    </tr>\n",
       "    <tr>\n",
       "      <th>1</th>\n",
       "      <td>1605</td>\n",
       "      <td>5</td>\n",
       "    </tr>\n",
       "    <tr>\n",
       "      <th>2</th>\n",
       "      <td>1606</td>\n",
       "      <td>2</td>\n",
       "    </tr>\n",
       "    <tr>\n",
       "      <th>3</th>\n",
       "      <td>1607</td>\n",
       "      <td>10</td>\n",
       "    </tr>\n",
       "    <tr>\n",
       "      <th>4</th>\n",
       "      <td>1608</td>\n",
       "      <td>16</td>\n",
       "    </tr>\n",
       "    <tr>\n",
       "      <th>...</th>\n",
       "      <td>...</td>\n",
       "      <td>...</td>\n",
       "    </tr>\n",
       "    <tr>\n",
       "      <th>612</th>\n",
       "      <td>6178</td>\n",
       "      <td>11</td>\n",
       "    </tr>\n",
       "    <tr>\n",
       "      <th>613</th>\n",
       "      <td>6179</td>\n",
       "      <td>2</td>\n",
       "    </tr>\n",
       "    <tr>\n",
       "      <th>614</th>\n",
       "      <td>6180</td>\n",
       "      <td>8</td>\n",
       "    </tr>\n",
       "    <tr>\n",
       "      <th>615</th>\n",
       "      <td>6181</td>\n",
       "      <td>5</td>\n",
       "    </tr>\n",
       "    <tr>\n",
       "      <th>616</th>\n",
       "      <td>6182</td>\n",
       "      <td>5</td>\n",
       "    </tr>\n",
       "  </tbody>\n",
       "</table>\n",
       "<p>617 rows × 2 columns</p>\n",
       "</div>"
      ],
      "text/plain": [
       "     Child  UMID\n",
       "0     1409     4\n",
       "1     1605     5\n",
       "2     1606     2\n",
       "3     1607    10\n",
       "4     1608    16\n",
       "..     ...   ...\n",
       "612   6178    11\n",
       "613   6179     2\n",
       "614   6180     8\n",
       "615   6181     5\n",
       "616   6182     5\n",
       "\n",
       "[617 rows x 2 columns]"
      ]
     },
     "execution_count": 537,
     "metadata": {},
     "output_type": "execute_result"
    }
   ],
   "source": [
    "df_messages_per_child = df_comm_ind.groupby(\"Child\")[\"UMID\"].count().reset_index()\n",
    "df_messages_per_child"
   ]
  },
  {
   "cell_type": "code",
   "execution_count": 538,
   "id": "ccd3393a-b394-4107-928e-5e10f9bf9278",
   "metadata": {},
   "outputs": [
    {
     "data": {
      "text/plain": [
       "count   617\n",
       "mean     53\n",
       "std      97\n",
       "min       1\n",
       "25%       5\n",
       "50%      17\n",
       "75%      50\n",
       "max     789\n",
       "Name: UMID, dtype: float64"
      ]
     },
     "execution_count": 538,
     "metadata": {},
     "output_type": "execute_result"
    }
   ],
   "source": [
    "df_messages_per_child['UMID'].describe()"
   ]
  },
  {
   "cell_type": "code",
   "execution_count": 541,
   "id": "0c06575a-992e-4fa9-b463-27869f7bc3cb",
   "metadata": {},
   "outputs": [
    {
     "data": {
      "image/png": "[encoded data removed]",
      "text/plain": [
       "<Figure size 1584x720 with 1 Axes>"
      ]
     },
     "metadata": {
      "needs_background": "light"
     },
     "output_type": "display_data"
    }
   ],
   "source": [
    "from matplotlib.pyplot import figure\n",
    "import matplotlib.pyplot as plt\n",
    "\n",
    "fig, ax = plt.subplots(1, 1)\n",
    "fig.set_size_inches(22, 10)\n",
    "bins = range(0,790,20)\n",
    "plt.xticks(bins)\n",
    "df_comm_ind.groupby(\"Participant\")[\"UMID\"].count().plot.hist(bins=bins)\n",
    "ax.set_xlabel('Number of Sent Messages')\n",
    "ax.set_ylabel('Number of Participants')\n",
    "plt.show()"
   ]
  },
  {
   "cell_type": "code",
   "execution_count": 542,
   "id": "f427557c-4689-4843-bea4-0cd24d1f085f",
   "metadata": {},
   "outputs": [
    {
     "data": {
      "text/html": [
       "<div>\n",
       "<style scoped>\n",
       "    .dataframe tbody tr th:only-of-type {\n",
       "        vertical-align: middle;\n",
       "    }\n",
       "\n",
       "    .dataframe tbody tr th {\n",
       "        vertical-align: top;\n",
       "    }\n",
       "\n",
       "    .dataframe thead th {\n",
       "        text-align: right;\n",
       "    }\n",
       "</style>\n",
       "<table border=\"1\" class=\"dataframe\">\n",
       "  <thead>\n",
       "    <tr style=\"text-align: right;\">\n",
       "      <th></th>\n",
       "      <th>Participant</th>\n",
       "      <th>RecipientChild</th>\n",
       "      <th>NumberMessages</th>\n",
       "    </tr>\n",
       "  </thead>\n",
       "  <tbody>\n",
       "    <tr>\n",
       "      <th>0</th>\n",
       "      <td>2607301409</td>\n",
       "      <td>2607301406</td>\n",
       "      <td>4</td>\n",
       "    </tr>\n",
       "    <tr>\n",
       "      <th>1</th>\n",
       "      <td>2607404365</td>\n",
       "      <td>2607401422</td>\n",
       "      <td>2</td>\n",
       "    </tr>\n",
       "    <tr>\n",
       "      <th>2</th>\n",
       "      <td>2807801633</td>\n",
       "      <td>2807801641</td>\n",
       "      <td>1</td>\n",
       "    </tr>\n",
       "    <tr>\n",
       "      <th>3</th>\n",
       "      <td>2807801633</td>\n",
       "      <td>2807801644</td>\n",
       "      <td>2</td>\n",
       "    </tr>\n",
       "    <tr>\n",
       "      <th>4</th>\n",
       "      <td>2807801633</td>\n",
       "      <td>2807801645</td>\n",
       "      <td>3</td>\n",
       "    </tr>\n",
       "    <tr>\n",
       "      <th>...</th>\n",
       "      <td>...</td>\n",
       "      <td>...</td>\n",
       "      <td>...</td>\n",
       "    </tr>\n",
       "    <tr>\n",
       "      <th>4052</th>\n",
       "      <td>6031006181</td>\n",
       "      <td>6031006171</td>\n",
       "      <td>3</td>\n",
       "    </tr>\n",
       "    <tr>\n",
       "      <th>4053</th>\n",
       "      <td>6031006181</td>\n",
       "      <td>6031006172</td>\n",
       "      <td>1</td>\n",
       "    </tr>\n",
       "    <tr>\n",
       "      <th>4054</th>\n",
       "      <td>6031006181</td>\n",
       "      <td>6031006173</td>\n",
       "      <td>1</td>\n",
       "    </tr>\n",
       "    <tr>\n",
       "      <th>4055</th>\n",
       "      <td>6031006182</td>\n",
       "      <td>6031006162</td>\n",
       "      <td>1</td>\n",
       "    </tr>\n",
       "    <tr>\n",
       "      <th>4056</th>\n",
       "      <td>6031006182</td>\n",
       "      <td>6031006171</td>\n",
       "      <td>4</td>\n",
       "    </tr>\n",
       "  </tbody>\n",
       "</table>\n",
       "<p>4057 rows × 3 columns</p>\n",
       "</div>"
      ],
      "text/plain": [
       "     Participant  RecipientChild  NumberMessages\n",
       "0     2607301409      2607301406               4\n",
       "1     2607404365      2607401422               2\n",
       "2     2807801633      2807801641               1\n",
       "3     2807801633      2807801644               2\n",
       "4     2807801633      2807801645               3\n",
       "...          ...             ...             ...\n",
       "4052  6031006181      6031006171               3\n",
       "4053  6031006181      6031006172               1\n",
       "4054  6031006181      6031006173               1\n",
       "4055  6031006182      6031006162               1\n",
       "4056  6031006182      6031006171               4\n",
       "\n",
       "[4057 rows x 3 columns]"
      ]
     },
     "execution_count": 542,
     "metadata": {},
     "output_type": "execute_result"
    }
   ],
   "source": [
    "pairs_freq = df_comm_ind.groupby([\"Participant\",\"RecipientChild\"])[\"UMID\"].count().reset_index(name='NumberMessages')\n",
    "pairs_freq"
   ]
  },
  {
   "cell_type": "code",
   "execution_count": 543,
   "id": "75e7f58a-3b36-4d8f-b481-4aa3db149d2f",
   "metadata": {},
   "outputs": [],
   "source": [
    "pairs_freq = pairs_freq.astype({'Participant': 'float64'})"
   ]
  },
  {
   "cell_type": "code",
   "execution_count": 548,
   "id": "065c8f45-708b-4cee-b461-cf50d1cfa5ad",
   "metadata": {
    "tags": []
   },
   "outputs": [
    {
     "data": {
      "text/html": [
       "<div>\n",
       "<style scoped>\n",
       "    .dataframe tbody tr th:only-of-type {\n",
       "        vertical-align: middle;\n",
       "    }\n",
       "\n",
       "    .dataframe tbody tr th {\n",
       "        vertical-align: top;\n",
       "    }\n",
       "\n",
       "    .dataframe thead th {\n",
       "        text-align: right;\n",
       "    }\n",
       "</style>\n",
       "<table border=\"1\" class=\"dataframe\">\n",
       "  <thead>\n",
       "    <tr style=\"text-align: right;\">\n",
       "      <th></th>\n",
       "      <th>P1</th>\n",
       "      <th>P2</th>\n",
       "      <th>NumMes</th>\n",
       "    </tr>\n",
       "  </thead>\n",
       "  <tbody>\n",
       "    <tr>\n",
       "      <th>0</th>\n",
       "      <td>2607301409</td>\n",
       "      <td>2607301406</td>\n",
       "      <td>4</td>\n",
       "    </tr>\n",
       "    <tr>\n",
       "      <th>1</th>\n",
       "      <td>2607404365</td>\n",
       "      <td>2607401422</td>\n",
       "      <td>2</td>\n",
       "    </tr>\n",
       "    <tr>\n",
       "      <th>2</th>\n",
       "      <td>2807801633</td>\n",
       "      <td>2807801641</td>\n",
       "      <td>1</td>\n",
       "    </tr>\n",
       "    <tr>\n",
       "      <th>3</th>\n",
       "      <td>2807801633</td>\n",
       "      <td>2807801644</td>\n",
       "      <td>2</td>\n",
       "    </tr>\n",
       "    <tr>\n",
       "      <th>4</th>\n",
       "      <td>2807801633</td>\n",
       "      <td>2807801645</td>\n",
       "      <td>7</td>\n",
       "    </tr>\n",
       "    <tr>\n",
       "      <th>...</th>\n",
       "      <td>...</td>\n",
       "      <td>...</td>\n",
       "      <td>...</td>\n",
       "    </tr>\n",
       "    <tr>\n",
       "      <th>2464</th>\n",
       "      <td>6031006177</td>\n",
       "      <td>6031006179</td>\n",
       "      <td>2</td>\n",
       "    </tr>\n",
       "    <tr>\n",
       "      <th>2465</th>\n",
       "      <td>6031006178</td>\n",
       "      <td>6031006180</td>\n",
       "      <td>11</td>\n",
       "    </tr>\n",
       "    <tr>\n",
       "      <th>2466</th>\n",
       "      <td>6031006179</td>\n",
       "      <td>6031006185</td>\n",
       "      <td>1</td>\n",
       "    </tr>\n",
       "    <tr>\n",
       "      <th>2467</th>\n",
       "      <td>6031006181</td>\n",
       "      <td>6031006171</td>\n",
       "      <td>3</td>\n",
       "    </tr>\n",
       "    <tr>\n",
       "      <th>2468</th>\n",
       "      <td>6031006182</td>\n",
       "      <td>6031006162</td>\n",
       "      <td>1</td>\n",
       "    </tr>\n",
       "  </tbody>\n",
       "</table>\n",
       "<p>2469 rows × 3 columns</p>\n",
       "</div>"
      ],
      "text/plain": [
       "             P1         P2  NumMes\n",
       "0    2607301409 2607301406       4\n",
       "1    2607404365 2607401422       2\n",
       "2    2807801633 2807801641       1\n",
       "3    2807801633 2807801644       2\n",
       "4    2807801633 2807801645       7\n",
       "...         ...        ...     ...\n",
       "2464 6031006177 6031006179       2\n",
       "2465 6031006178 6031006180      11\n",
       "2466 6031006179 6031006185       1\n",
       "2467 6031006181 6031006171       3\n",
       "2468 6031006182 6031006162       1\n",
       "\n",
       "[2469 rows x 3 columns]"
      ]
     },
     "execution_count": 548,
     "metadata": {},
     "output_type": "execute_result"
    }
   ],
   "source": [
    "pairs = []\n",
    "values = []\n",
    "exchanged_messages = []\n",
    "for line in pairs_freq[[\"Participant\",\"RecipientChild\", \"NumberMessages\"]].iterrows():\n",
    "    (p1, p2, var) = line[1]\n",
    "    if(p1, p2) not in pairs and (p2, p1) not in pairs:\n",
    "        pairs.append((p1,p2))\n",
    "        values.append((var))\n",
    "\n",
    "    elif (p2, p1) in pairs:\n",
    "        # get the index of this pair and update in the values of the same index\n",
    "        ind = pairs.index((p2,p1))\n",
    "        values[ind] = (values[ind] + var)\n",
    "\n",
    "# print('found pairs',pairs)\n",
    "# print('found values',values)\n",
    "\n",
    "\n",
    "count = 0\n",
    "for line in pairs:\n",
    "    (pp1, pp2) = line\n",
    "    exchanged_messages.append((pp1,pp2,values[count]))\n",
    "    count = count + 1\n",
    "\n",
    "exchanged_messages = pd.DataFrame(exchanged_messages, columns = [\"P1\", \"P2\", \"NumMes\"])\n",
    "exchanged_messages"
   ]
  },
  {
   "cell_type": "code",
   "execution_count": 549,
   "id": "ac5d209e-af09-42f3-b2c3-7c2a3eecfeed",
   "metadata": {},
   "outputs": [
    {
     "data": {
      "text/plain": [
       "count   2469\n",
       "mean      13\n",
       "std       37\n",
       "min        1\n",
       "25%        2\n",
       "50%        4\n",
       "75%       10\n",
       "max      637\n",
       "Name: NumMes, dtype: float64"
      ]
     },
     "execution_count": 549,
     "metadata": {},
     "output_type": "execute_result"
    }
   ],
   "source": [
    "exchanged_messages[\"NumMes\"].describe()"
   ]
  },
  {
   "cell_type": "code",
   "execution_count": 551,
   "id": "bab21ffe-2817-4379-b9fc-ffac18f399ed",
   "metadata": {},
   "outputs": [
    {
     "data": {
      "image/png": "[encoded data removed]",
      "text/plain": [
       "<Figure size 1584x720 with 1 Axes>"
      ]
     },
     "metadata": {
      "needs_background": "light"
     },
     "output_type": "display_data"
    }
   ],
   "source": [
    "fig, ax = plt.subplots(1, 1)\n",
    "fig.set_size_inches(22, 10)\n",
    "bins = range(0,640,20)\n",
    "plt.xticks(bins)\n",
    "exchanged_messages[\"NumMes\"].plot.hist(bins=bins)\n",
    "ax.set_xlabel('Number of Sent Messages')\n",
    "ax.set_ylabel('Number of Pairs (Sender-Receiver)')\n",
    "plt.show()"
   ]
  },
  {
   "cell_type": "code",
   "execution_count": 552,
   "id": "bd406818-ae04-4504-9dc5-9c10398e2314",
   "metadata": {},
   "outputs": [
    {
     "data": {
      "text/html": [
       "<div>\n",
       "<style scoped>\n",
       "    .dataframe tbody tr th:only-of-type {\n",
       "        vertical-align: middle;\n",
       "    }\n",
       "\n",
       "    .dataframe tbody tr th {\n",
       "        vertical-align: top;\n",
       "    }\n",
       "\n",
       "    .dataframe thead th {\n",
       "        text-align: right;\n",
       "    }\n",
       "</style>\n",
       "<table border=\"1\" class=\"dataframe\">\n",
       "  <thead>\n",
       "    <tr style=\"text-align: right;\">\n",
       "      <th></th>\n",
       "      <th>Participant</th>\n",
       "      <th>Format_Media</th>\n",
       "      <th>NumberImages</th>\n",
       "    </tr>\n",
       "  </thead>\n",
       "  <tbody>\n",
       "    <tr>\n",
       "      <th>0</th>\n",
       "      <td>2807801633</td>\n",
       "      <td>image</td>\n",
       "      <td>1</td>\n",
       "    </tr>\n",
       "    <tr>\n",
       "      <th>1</th>\n",
       "      <td>2807801633</td>\n",
       "      <td>video</td>\n",
       "      <td>5</td>\n",
       "    </tr>\n",
       "    <tr>\n",
       "      <th>2</th>\n",
       "      <td>2807801636</td>\n",
       "      <td>video</td>\n",
       "      <td>1</td>\n",
       "    </tr>\n",
       "    <tr>\n",
       "      <th>3</th>\n",
       "      <td>2807801637</td>\n",
       "      <td>image</td>\n",
       "      <td>2</td>\n",
       "    </tr>\n",
       "    <tr>\n",
       "      <th>4</th>\n",
       "      <td>2807801637</td>\n",
       "      <td>video</td>\n",
       "      <td>1</td>\n",
       "    </tr>\n",
       "  </tbody>\n",
       "</table>\n",
       "</div>"
      ],
      "text/plain": [
       "  Participant Format_Media  NumberImages\n",
       "0  2807801633        image             1\n",
       "1  2807801633        video             5\n",
       "2  2807801636        video             1\n",
       "3  2807801637        image             2\n",
       "4  2807801637        video             1"
      ]
     },
     "execution_count": 552,
     "metadata": {},
     "output_type": "execute_result"
    }
   ],
   "source": [
    "df_ind_images = df_comm_ind.groupby([\"Participant\",\"Format_Media\"])[\"UMID\"].count().reset_index(name = \"NumberImages\")\n",
    "df_ind_images.head()"
   ]
  },
  {
   "cell_type": "code",
   "execution_count": 553,
   "id": "633728cc-735f-4999-af5c-cff6a0a43358",
   "metadata": {},
   "outputs": [
    {
     "data": {
      "text/plain": [
       "count   571\n",
       "mean      5\n",
       "std      10\n",
       "min       1\n",
       "25%       1\n",
       "50%       2\n",
       "75%       5\n",
       "max     120\n",
       "Name: NumberImages, dtype: float64"
      ]
     },
     "execution_count": 553,
     "metadata": {},
     "output_type": "execute_result"
    }
   ],
   "source": [
    "df_ind_images['NumberImages'].describe()"
   ]
  },
  {
   "cell_type": "code",
   "execution_count": 557,
   "id": "1111c449-ea5b-4e7d-ade0-cc0879992dee",
   "metadata": {},
   "outputs": [
    {
     "data": {
      "image/png": "[encoded data removed]",
      "text/plain": [
       "<Figure size 1584x720 with 1 Axes>"
      ]
     },
     "metadata": {
      "needs_background": "light"
     },
     "output_type": "display_data"
    }
   ],
   "source": [
    "fig, ax = plt.subplots(1, 1)\n",
    "fig.set_size_inches(22, 10)\n",
    "bins = range(1,120,5)\n",
    "plt.xticks(bins)\n",
    "df_ind_images['NumberImages'].hist(bins=bins)\n",
    "ax.set_xlabel('Number of Shared Images')\n",
    "ax.set_ylabel('Number of Participants')\n",
    "plt.show()"
   ]
  },
  {
   "cell_type": "code",
   "execution_count": 558,
   "id": "b0711f30-e58d-4646-ba7c-93175fdce414",
   "metadata": {},
   "outputs": [
    {
     "data": {
      "text/plain": [
       "array(['9-3-2018', '10-3-2018', '11-3-2018', '13-3-2018', '15-3-2018',\n",
       "       '14-3-2018', '12-3-2018', '27-2-2018', '28-2-2018', '1-3-2018',\n",
       "       '2-3-2018', '4-3-2018', '3-3-2018', '5-3-2018', '22-3-2018',\n",
       "       '23-3-2018', '21-3-2018', '24-3-2018', '25-3-2018', '26-3-2018',\n",
       "       '27-3-2018', '20-3-2018', '18-3-2018', '17-3-2018', '16-3-2018',\n",
       "       '19-3-2018', '7-3-2018', '8-3-2018', '6-3-2018', '15-2-2018',\n",
       "       '16-2-2018', '17-2-2018', '18-2-2018', '20-2-2018', '19-2-2018',\n",
       "       '21-2-2018', '28-3-2018', '29-3-2018', '22-2-2018', '26-2-2018',\n",
       "       '23-2-2018', '25-2-2018'], dtype=object)"
      ]
     },
     "execution_count": 558,
     "metadata": {},
     "output_type": "execute_result"
    }
   ],
   "source": [
    "df_comm_ind['Date'].unique()"
   ]
  },
  {
   "cell_type": "code",
   "execution_count": 559,
   "id": "b78a5bf8-bbc5-48bb-ba10-c6ecc366738c",
   "metadata": {},
   "outputs": [
    {
     "data": {
      "text/html": [
       "<div>\n",
       "<style scoped>\n",
       "    .dataframe tbody tr th:only-of-type {\n",
       "        vertical-align: middle;\n",
       "    }\n",
       "\n",
       "    .dataframe tbody tr th {\n",
       "        vertical-align: top;\n",
       "    }\n",
       "\n",
       "    .dataframe thead th {\n",
       "        text-align: right;\n",
       "    }\n",
       "</style>\n",
       "<table border=\"1\" class=\"dataframe\">\n",
       "  <thead>\n",
       "    <tr style=\"text-align: right;\">\n",
       "      <th></th>\n",
       "      <th>Date</th>\n",
       "      <th>UMID</th>\n",
       "    </tr>\n",
       "  </thead>\n",
       "  <tbody>\n",
       "    <tr>\n",
       "      <th>0</th>\n",
       "      <td>1-3-2018</td>\n",
       "      <td>2002</td>\n",
       "    </tr>\n",
       "    <tr>\n",
       "      <th>1</th>\n",
       "      <td>10-3-2018</td>\n",
       "      <td>805</td>\n",
       "    </tr>\n",
       "    <tr>\n",
       "      <th>2</th>\n",
       "      <td>11-3-2018</td>\n",
       "      <td>352</td>\n",
       "    </tr>\n",
       "    <tr>\n",
       "      <th>3</th>\n",
       "      <td>12-3-2018</td>\n",
       "      <td>310</td>\n",
       "    </tr>\n",
       "    <tr>\n",
       "      <th>4</th>\n",
       "      <td>13-3-2018</td>\n",
       "      <td>755</td>\n",
       "    </tr>\n",
       "    <tr>\n",
       "      <th>5</th>\n",
       "      <td>14-3-2018</td>\n",
       "      <td>719</td>\n",
       "    </tr>\n",
       "    <tr>\n",
       "      <th>6</th>\n",
       "      <td>15-2-2018</td>\n",
       "      <td>1241</td>\n",
       "    </tr>\n",
       "    <tr>\n",
       "      <th>7</th>\n",
       "      <td>15-3-2018</td>\n",
       "      <td>833</td>\n",
       "    </tr>\n",
       "    <tr>\n",
       "      <th>8</th>\n",
       "      <td>16-2-2018</td>\n",
       "      <td>1185</td>\n",
       "    </tr>\n",
       "    <tr>\n",
       "      <th>9</th>\n",
       "      <td>16-3-2018</td>\n",
       "      <td>669</td>\n",
       "    </tr>\n",
       "    <tr>\n",
       "      <th>10</th>\n",
       "      <td>17-2-2018</td>\n",
       "      <td>727</td>\n",
       "    </tr>\n",
       "    <tr>\n",
       "      <th>11</th>\n",
       "      <td>17-3-2018</td>\n",
       "      <td>401</td>\n",
       "    </tr>\n",
       "    <tr>\n",
       "      <th>12</th>\n",
       "      <td>18-2-2018</td>\n",
       "      <td>330</td>\n",
       "    </tr>\n",
       "    <tr>\n",
       "      <th>13</th>\n",
       "      <td>18-3-2018</td>\n",
       "      <td>176</td>\n",
       "    </tr>\n",
       "    <tr>\n",
       "      <th>14</th>\n",
       "      <td>19-2-2018</td>\n",
       "      <td>343</td>\n",
       "    </tr>\n",
       "    <tr>\n",
       "      <th>15</th>\n",
       "      <td>19-3-2018</td>\n",
       "      <td>318</td>\n",
       "    </tr>\n",
       "    <tr>\n",
       "      <th>16</th>\n",
       "      <td>2-3-2018</td>\n",
       "      <td>1875</td>\n",
       "    </tr>\n",
       "    <tr>\n",
       "      <th>17</th>\n",
       "      <td>20-2-2018</td>\n",
       "      <td>277</td>\n",
       "    </tr>\n",
       "    <tr>\n",
       "      <th>18</th>\n",
       "      <td>20-3-2018</td>\n",
       "      <td>52</td>\n",
       "    </tr>\n",
       "    <tr>\n",
       "      <th>19</th>\n",
       "      <td>21-2-2018</td>\n",
       "      <td>101</td>\n",
       "    </tr>\n",
       "    <tr>\n",
       "      <th>20</th>\n",
       "      <td>21-3-2018</td>\n",
       "      <td>863</td>\n",
       "    </tr>\n",
       "    <tr>\n",
       "      <th>21</th>\n",
       "      <td>22-2-2018</td>\n",
       "      <td>32</td>\n",
       "    </tr>\n",
       "    <tr>\n",
       "      <th>22</th>\n",
       "      <td>22-3-2018</td>\n",
       "      <td>523</td>\n",
       "    </tr>\n",
       "    <tr>\n",
       "      <th>23</th>\n",
       "      <td>23-2-2018</td>\n",
       "      <td>3</td>\n",
       "    </tr>\n",
       "    <tr>\n",
       "      <th>24</th>\n",
       "      <td>23-3-2018</td>\n",
       "      <td>124</td>\n",
       "    </tr>\n",
       "    <tr>\n",
       "      <th>25</th>\n",
       "      <td>24-3-2018</td>\n",
       "      <td>64</td>\n",
       "    </tr>\n",
       "    <tr>\n",
       "      <th>26</th>\n",
       "      <td>25-2-2018</td>\n",
       "      <td>1</td>\n",
       "    </tr>\n",
       "    <tr>\n",
       "      <th>27</th>\n",
       "      <td>25-3-2018</td>\n",
       "      <td>47</td>\n",
       "    </tr>\n",
       "    <tr>\n",
       "      <th>28</th>\n",
       "      <td>26-2-2018</td>\n",
       "      <td>4</td>\n",
       "    </tr>\n",
       "    <tr>\n",
       "      <th>29</th>\n",
       "      <td>26-3-2018</td>\n",
       "      <td>38</td>\n",
       "    </tr>\n",
       "    <tr>\n",
       "      <th>30</th>\n",
       "      <td>27-2-2018</td>\n",
       "      <td>1423</td>\n",
       "    </tr>\n",
       "    <tr>\n",
       "      <th>31</th>\n",
       "      <td>27-3-2018</td>\n",
       "      <td>14</td>\n",
       "    </tr>\n",
       "    <tr>\n",
       "      <th>32</th>\n",
       "      <td>28-2-2018</td>\n",
       "      <td>1181</td>\n",
       "    </tr>\n",
       "    <tr>\n",
       "      <th>33</th>\n",
       "      <td>28-3-2018</td>\n",
       "      <td>46</td>\n",
       "    </tr>\n",
       "    <tr>\n",
       "      <th>34</th>\n",
       "      <td>29-3-2018</td>\n",
       "      <td>3</td>\n",
       "    </tr>\n",
       "    <tr>\n",
       "      <th>35</th>\n",
       "      <td>3-3-2018</td>\n",
       "      <td>3148</td>\n",
       "    </tr>\n",
       "    <tr>\n",
       "      <th>36</th>\n",
       "      <td>4-3-2018</td>\n",
       "      <td>1712</td>\n",
       "    </tr>\n",
       "    <tr>\n",
       "      <th>37</th>\n",
       "      <td>5-3-2018</td>\n",
       "      <td>619</td>\n",
       "    </tr>\n",
       "    <tr>\n",
       "      <th>38</th>\n",
       "      <td>6-3-2018</td>\n",
       "      <td>2011</td>\n",
       "    </tr>\n",
       "    <tr>\n",
       "      <th>39</th>\n",
       "      <td>7-3-2018</td>\n",
       "      <td>2238</td>\n",
       "    </tr>\n",
       "    <tr>\n",
       "      <th>40</th>\n",
       "      <td>8-3-2018</td>\n",
       "      <td>2800</td>\n",
       "    </tr>\n",
       "    <tr>\n",
       "      <th>41</th>\n",
       "      <td>9-3-2018</td>\n",
       "      <td>2312</td>\n",
       "    </tr>\n",
       "  </tbody>\n",
       "</table>\n",
       "</div>"
      ],
      "text/plain": [
       "         Date  UMID\n",
       "0    1-3-2018  2002\n",
       "1   10-3-2018   805\n",
       "2   11-3-2018   352\n",
       "3   12-3-2018   310\n",
       "4   13-3-2018   755\n",
       "5   14-3-2018   719\n",
       "6   15-2-2018  1241\n",
       "7   15-3-2018   833\n",
       "8   16-2-2018  1185\n",
       "9   16-3-2018   669\n",
       "10  17-2-2018   727\n",
       "11  17-3-2018   401\n",
       "12  18-2-2018   330\n",
       "13  18-3-2018   176\n",
       "14  19-2-2018   343\n",
       "15  19-3-2018   318\n",
       "16   2-3-2018  1875\n",
       "17  20-2-2018   277\n",
       "18  20-3-2018    52\n",
       "19  21-2-2018   101\n",
       "20  21-3-2018   863\n",
       "21  22-2-2018    32\n",
       "22  22-3-2018   523\n",
       "23  23-2-2018     3\n",
       "24  23-3-2018   124\n",
       "25  24-3-2018    64\n",
       "26  25-2-2018     1\n",
       "27  25-3-2018    47\n",
       "28  26-2-2018     4\n",
       "29  26-3-2018    38\n",
       "30  27-2-2018  1423\n",
       "31  27-3-2018    14\n",
       "32  28-2-2018  1181\n",
       "33  28-3-2018    46\n",
       "34  29-3-2018     3\n",
       "35   3-3-2018  3148\n",
       "36   4-3-2018  1712\n",
       "37   5-3-2018   619\n",
       "38   6-3-2018  2011\n",
       "39   7-3-2018  2238\n",
       "40   8-3-2018  2800\n",
       "41   9-3-2018  2312"
      ]
     },
     "execution_count": 559,
     "metadata": {},
     "output_type": "execute_result"
    }
   ],
   "source": [
    "df_comm_ind.groupby(['Date'])['UMID'].count().reset_index()"
   ]
  },
  {
   "cell_type": "markdown",
   "id": "b875ca0e-eb28-483b-8078-b0763c139552",
   "metadata": {},
   "source": [
    "### Group messages"
   ]
  },
  {
   "cell_type": "code",
   "execution_count": 560,
   "id": "c68da3c3-8cb8-4c2f-a6f0-bdd4792a5381",
   "metadata": {},
   "outputs": [
    {
     "data": {
      "text/plain": [
       "Class\n",
       "73      1\n",
       "74      1\n",
       "78     18\n",
       "81     19\n",
       "82      8\n",
       "86      5\n",
       "100    19\n",
       "103    11\n",
       "124    17\n",
       "125    16\n",
       "131     9\n",
       "133    10\n",
       "134     7\n",
       "135    12\n",
       "141     8\n",
       "250     7\n",
       "251    12\n",
       "256    24\n",
       "258    16\n",
       "259    14\n",
       "261    17\n",
       "262    15\n",
       "263    20\n",
       "272    25\n",
       "273    24\n",
       "277    10\n",
       "279     9\n",
       "290    13\n",
       "291    13\n",
       "292    21\n",
       "296    17\n",
       "297    16\n",
       "298    21\n",
       "299    19\n",
       "300    19\n",
       "301    24\n",
       "302    19\n",
       "303    25\n",
       "304     5\n",
       "305     5\n",
       "306     8\n",
       "307    12\n",
       "308    14\n",
       "310    12\n",
       "Name: Participant, dtype: int64"
      ]
     },
     "execution_count": 560,
     "metadata": {},
     "output_type": "execute_result"
    }
   ],
   "source": [
    "df_comm_ind.groupby([\"Class\"])[\"Participant\"].nunique()"
   ]
  },
  {
   "cell_type": "code",
   "execution_count": 561,
   "id": "5a348a08-613e-4ba0-9505-e06c2dfc89a9",
   "metadata": {},
   "outputs": [
    {
     "data": {
      "text/html": [
       "<div>\n",
       "<style scoped>\n",
       "    .dataframe tbody tr th:only-of-type {\n",
       "        vertical-align: middle;\n",
       "    }\n",
       "\n",
       "    .dataframe tbody tr th {\n",
       "        vertical-align: top;\n",
       "    }\n",
       "\n",
       "    .dataframe thead th {\n",
       "        text-align: right;\n",
       "    }\n",
       "</style>\n",
       "<table border=\"1\" class=\"dataframe\">\n",
       "  <thead>\n",
       "    <tr style=\"text-align: right;\">\n",
       "      <th></th>\n",
       "      <th>Child</th>\n",
       "      <th>UMID</th>\n",
       "    </tr>\n",
       "  </thead>\n",
       "  <tbody>\n",
       "    <tr>\n",
       "      <th>0</th>\n",
       "      <td>1209</td>\n",
       "      <td>3</td>\n",
       "    </tr>\n",
       "    <tr>\n",
       "      <th>1</th>\n",
       "      <td>1401</td>\n",
       "      <td>2</td>\n",
       "    </tr>\n",
       "    <tr>\n",
       "      <th>2</th>\n",
       "      <td>1406</td>\n",
       "      <td>2</td>\n",
       "    </tr>\n",
       "    <tr>\n",
       "      <th>3</th>\n",
       "      <td>1408</td>\n",
       "      <td>1</td>\n",
       "    </tr>\n",
       "    <tr>\n",
       "      <th>4</th>\n",
       "      <td>1409</td>\n",
       "      <td>3</td>\n",
       "    </tr>\n",
       "  </tbody>\n",
       "</table>\n",
       "</div>"
      ],
      "text/plain": [
       "   Child  UMID\n",
       "0   1209     3\n",
       "1   1401     2\n",
       "2   1406     2\n",
       "3   1408     1\n",
       "4   1409     3"
      ]
     },
     "execution_count": 561,
     "metadata": {},
     "output_type": "execute_result"
    }
   ],
   "source": [
    "df_group_messages_per_child = df_comm_group.groupby(\"Child\")[\"UMID\"].count().reset_index()\n",
    "df_group_messages_per_child.head()"
   ]
  },
  {
   "cell_type": "code",
   "execution_count": 562,
   "id": "4e367bb9-a647-4e88-ad51-f3338a3882d2",
   "metadata": {},
   "outputs": [
    {
     "data": {
      "text/plain": [
       "count   675\n",
       "mean     57\n",
       "std      84\n",
       "min       1\n",
       "25%       6\n",
       "50%      19\n",
       "75%      76\n",
       "max     539\n",
       "Name: UMID, dtype: float64"
      ]
     },
     "execution_count": 562,
     "metadata": {},
     "output_type": "execute_result"
    }
   ],
   "source": [
    "df_group_messages_per_child['UMID'].describe()"
   ]
  },
  {
   "cell_type": "code",
   "execution_count": 564,
   "id": "0f48bc01-2544-495b-9018-714ef91d68bb",
   "metadata": {},
   "outputs": [
    {
     "data": {
      "image/png": "[encoded data removed]",
      "text/plain": [
       "<Figure size 1584x720 with 1 Axes>"
      ]
     },
     "metadata": {
      "needs_background": "light"
     },
     "output_type": "display_data"
    }
   ],
   "source": [
    "fig, ax = plt.subplots(1, 1)\n",
    "fig.set_size_inches(22, 10)\n",
    "bins = range(0,540,10)\n",
    "plt.xticks(bins)\n",
    "df_group_messages_per_child['UMID'].plot.hist(bins=bins)\n",
    "ax.set_xlabel('Number of Sent Messages')\n",
    "ax.set_ylabel('Number of Participants')\n",
    "plt.show()"
   ]
  },
  {
   "cell_type": "code",
   "execution_count": 566,
   "id": "1b9c7f1d-063b-4836-a090-4c8d9b25f965",
   "metadata": {},
   "outputs": [],
   "source": [
    "df_comm_group = df_comm_group.astype({'Number_likes': 'int32'})"
   ]
  },
  {
   "cell_type": "code",
   "execution_count": 567,
   "id": "9d3b74b6-5f59-4e0a-95d8-81eedea84514",
   "metadata": {},
   "outputs": [],
   "source": [
    "df_child_like = df_comm_group.groupby(['Child'])['Number_likes'].sum().reset_index()"
   ]
  },
  {
   "cell_type": "code",
   "execution_count": 568,
   "id": "cc99a28f-ceb5-4431-816f-bea25ca52943",
   "metadata": {},
   "outputs": [
    {
     "data": {
      "text/plain": [
       "count   675\n",
       "mean     11\n",
       "std      17\n",
       "min       0\n",
       "25%       1\n",
       "50%       5\n",
       "75%      13\n",
       "max     191\n",
       "Name: Number_likes, dtype: float64"
      ]
     },
     "execution_count": 568,
     "metadata": {},
     "output_type": "execute_result"
    }
   ],
   "source": [
    "df_child_like['Number_likes'].describe()"
   ]
  },
  {
   "cell_type": "code",
   "execution_count": 569,
   "id": "f4661c39-4b96-4e69-8847-63ed9510cfe0",
   "metadata": {},
   "outputs": [
    {
     "data": {
      "image/png": "[encoded data removed]",
      "text/plain": [
       "<Figure size 1584x720 with 1 Axes>"
      ]
     },
     "metadata": {
      "needs_background": "light"
     },
     "output_type": "display_data"
    }
   ],
   "source": [
    "fig, ax = plt.subplots(1, 1)\n",
    "fig.set_size_inches(22, 10)\n",
    "bins = range(0,200,5)\n",
    "plt.xticks(bins)\n",
    "df_child_like['Number_likes'].plot.hist(bins=bins)\n",
    "ax.set_xlabel('Number of Likes')\n",
    "ax.set_ylabel('Number of Participants')\n",
    "plt.show()"
   ]
  },
  {
   "cell_type": "code",
   "execution_count": 570,
   "id": "c49a64ff-e3a7-4781-a293-c6ced03b2a9c",
   "metadata": {},
   "outputs": [
    {
     "data": {
      "text/plain": [
       "(4576, 3110)"
      ]
     },
     "execution_count": 570,
     "metadata": {},
     "output_type": "execute_result"
    }
   ],
   "source": [
    "# images exhanged in group vs peer-to-peer communication\n",
    "df_comm_group['Format_Media'].count(),df_comm_ind['Format_Media'].count()"
   ]
  },
  {
   "cell_type": "code",
   "execution_count": 571,
   "id": "f1a398dd-2d67-4440-bbdd-454124d80e4a",
   "metadata": {},
   "outputs": [
    {
     "data": {
      "text/html": [
       "<div>\n",
       "<style scoped>\n",
       "    .dataframe tbody tr th:only-of-type {\n",
       "        vertical-align: middle;\n",
       "    }\n",
       "\n",
       "    .dataframe tbody tr th {\n",
       "        vertical-align: top;\n",
       "    }\n",
       "\n",
       "    .dataframe thead th {\n",
       "        text-align: right;\n",
       "    }\n",
       "</style>\n",
       "<table border=\"1\" class=\"dataframe\">\n",
       "  <thead>\n",
       "    <tr style=\"text-align: right;\">\n",
       "      <th></th>\n",
       "      <th>Participant</th>\n",
       "      <th>Format_Media</th>\n",
       "      <th>NumberImages</th>\n",
       "    </tr>\n",
       "  </thead>\n",
       "  <tbody>\n",
       "    <tr>\n",
       "      <th>0</th>\n",
       "      <td>2506601209</td>\n",
       "      <td>image</td>\n",
       "      <td>1</td>\n",
       "    </tr>\n",
       "    <tr>\n",
       "      <th>1</th>\n",
       "      <td>2607301406</td>\n",
       "      <td>image</td>\n",
       "      <td>1</td>\n",
       "    </tr>\n",
       "    <tr>\n",
       "      <th>2</th>\n",
       "      <td>2607401414</td>\n",
       "      <td>image</td>\n",
       "      <td>2</td>\n",
       "    </tr>\n",
       "    <tr>\n",
       "      <th>3</th>\n",
       "      <td>2607401424</td>\n",
       "      <td>image</td>\n",
       "      <td>1</td>\n",
       "    </tr>\n",
       "    <tr>\n",
       "      <th>4</th>\n",
       "      <td>2607401424</td>\n",
       "      <td>video</td>\n",
       "      <td>1</td>\n",
       "    </tr>\n",
       "  </tbody>\n",
       "</table>\n",
       "</div>"
      ],
      "text/plain": [
       "  Participant Format_Media  NumberImages\n",
       "0  2506601209        image             1\n",
       "1  2607301406        image             1\n",
       "2  2607401414        image             2\n",
       "3  2607401424        image             1\n",
       "4  2607401424        video             1"
      ]
     },
     "execution_count": 571,
     "metadata": {},
     "output_type": "execute_result"
    }
   ],
   "source": [
    "df_group_images = df_comm_group.groupby([\"Participant\",\"Format_Media\"])[\"UMID\"].count().reset_index(name = \"NumberImages\")\n",
    "df_group_images.head()"
   ]
  },
  {
   "cell_type": "code",
   "execution_count": 572,
   "id": "c9fe5450-0aa2-4898-b1a8-3d7fa9b661b8",
   "metadata": {},
   "outputs": [
    {
     "data": {
      "text/plain": [
       "count   814\n",
       "mean      6\n",
       "std       8\n",
       "min       1\n",
       "25%       1\n",
       "50%       3\n",
       "75%       6\n",
       "max     126\n",
       "Name: NumberImages, dtype: float64"
      ]
     },
     "execution_count": 572,
     "metadata": {},
     "output_type": "execute_result"
    }
   ],
   "source": [
    "df_group_images['NumberImages'].describe()"
   ]
  },
  {
   "cell_type": "code",
   "execution_count": 573,
   "id": "d175434e-877c-432a-ac29-0ce3444aeebf",
   "metadata": {},
   "outputs": [
    {
     "data": {
      "image/png": "[encoded data removed]",
      "text/plain": [
       "<Figure size 1584x720 with 1 Axes>"
      ]
     },
     "metadata": {
      "needs_background": "light"
     },
     "output_type": "display_data"
    }
   ],
   "source": [
    "fig, ax = plt.subplots(1, 1)\n",
    "fig.set_size_inches(22, 10)\n",
    "bins = range(1,130,5)\n",
    "plt.xticks(bins)\n",
    "df_group_images['NumberImages'].plot.hist(bins=bins)\n",
    "ax.set_xlabel('Number of Images')\n",
    "ax.set_ylabel('Number of Participants')\n",
    "plt.show()"
   ]
  }
 ],
 "metadata": {
  "kernelspec": {
   "display_name": "ABM-PA",
   "language": "python",
   "name": "abm-pa"
  },
  "language_info": {
   "codemirror_mode": {
    "name": "ipython",
    "version": 3
   },
   "file_extension": ".py",
   "mimetype": "text/x-python",
   "name": "python",
   "nbconvert_exporter": "python",
   "pygments_lexer": "ipython3",
   "version": "3.9.5"
  }
 },
 "nbformat": 4,
 "nbformat_minor": 5
}
