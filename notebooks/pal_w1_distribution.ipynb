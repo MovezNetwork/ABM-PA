{
 "cells": [
  {
   "cell_type": "code",
   "execution_count": 15,
   "outputs": [],
   "source": [
    "import pandas as pd\n",
    "import matplotlib.pyplot as plt\n",
    "from statsmodels.distributions.empirical_distribution import ECDF"
   ],
   "metadata": {
    "collapsed": false,
    "pycharm": {
     "name": "#%%\n"
    }
   }
  },
  {
   "cell_type": "markdown",
   "source": [
    "# Distribution of PAL in Wave 1\n",
    "\n",
    "## PAL per child"
   ],
   "metadata": {
    "collapsed": false,
    "pycharm": {
     "name": "#%% md\n"
    }
   }
  },
  {
   "cell_type": "code",
   "execution_count": 16,
   "outputs": [],
   "source": [
    "fitbit_new = pd.read_csv('../data/Fitbit_Imputation_FINAL.csv', sep=';', header=0)\n",
    "steps_mean_wave_new = fitbit_new.groupby(['Child', 'Wave']).mean()['Steps'].reset_index()\n",
    "steps_mean_wave_new.Steps = steps_mean_wave_new.Steps * 0.000153\n",
    "steps_mean_wave_new = steps_mean_wave_new.pivot(index='Child', columns='Wave')['Steps']"
   ],
   "metadata": {
    "collapsed": false,
    "pycharm": {
     "name": "#%%\n"
    }
   }
  },
  {
   "cell_type": "code",
   "execution_count": 17,
   "outputs": [
    {
     "data": {
      "text/plain": "Wave            1           2           3           4            5  \\\ncount  926.000000  928.000000  927.000000  929.000000  1028.000000   \nmean     1.402477    1.534053    1.590081    1.436387     1.337196   \nstd      0.525666    0.584990    0.600745    0.566656     0.529620   \nmin      0.188904    0.153000    0.153000    0.153000     0.153000   \n25%      1.029907    1.119218    1.194089    1.030429     0.973689   \n50%      1.358293    1.498252    1.512762    1.395054     1.286317   \n75%      1.691782    1.915246    1.928030    1.783266     1.685230   \nmax      3.436686    4.013129    4.065149    3.432912     3.606312   \n\nWave            6           7  \ncount  782.000000  782.000000  \nmean     1.610850    1.444116  \nstd      0.652722    0.602641  \nmin      0.200481    0.153000  \n25%      1.167224    1.036403  \n50%      1.544003    1.405549  \n75%      1.999175    1.808830  \nmax      3.947655    4.026578  ",
      "text/html": "<div>\n<style scoped>\n    .dataframe tbody tr th:only-of-type {\n        vertical-align: middle;\n    }\n\n    .dataframe tbody tr th {\n        vertical-align: top;\n    }\n\n    .dataframe thead th {\n        text-align: right;\n    }\n</style>\n<table border=\"1\" class=\"dataframe\">\n  <thead>\n    <tr style=\"text-align: right;\">\n      <th>Wave</th>\n      <th>1</th>\n      <th>2</th>\n      <th>3</th>\n      <th>4</th>\n      <th>5</th>\n      <th>6</th>\n      <th>7</th>\n    </tr>\n  </thead>\n  <tbody>\n    <tr>\n      <th>count</th>\n      <td>926.000000</td>\n      <td>928.000000</td>\n      <td>927.000000</td>\n      <td>929.000000</td>\n      <td>1028.000000</td>\n      <td>782.000000</td>\n      <td>782.000000</td>\n    </tr>\n    <tr>\n      <th>mean</th>\n      <td>1.402477</td>\n      <td>1.534053</td>\n      <td>1.590081</td>\n      <td>1.436387</td>\n      <td>1.337196</td>\n      <td>1.610850</td>\n      <td>1.444116</td>\n    </tr>\n    <tr>\n      <th>std</th>\n      <td>0.525666</td>\n      <td>0.584990</td>\n      <td>0.600745</td>\n      <td>0.566656</td>\n      <td>0.529620</td>\n      <td>0.652722</td>\n      <td>0.602641</td>\n    </tr>\n    <tr>\n      <th>min</th>\n      <td>0.188904</td>\n      <td>0.153000</td>\n      <td>0.153000</td>\n      <td>0.153000</td>\n      <td>0.153000</td>\n      <td>0.200481</td>\n      <td>0.153000</td>\n    </tr>\n    <tr>\n      <th>25%</th>\n      <td>1.029907</td>\n      <td>1.119218</td>\n      <td>1.194089</td>\n      <td>1.030429</td>\n      <td>0.973689</td>\n      <td>1.167224</td>\n      <td>1.036403</td>\n    </tr>\n    <tr>\n      <th>50%</th>\n      <td>1.358293</td>\n      <td>1.498252</td>\n      <td>1.512762</td>\n      <td>1.395054</td>\n      <td>1.286317</td>\n      <td>1.544003</td>\n      <td>1.405549</td>\n    </tr>\n    <tr>\n      <th>75%</th>\n      <td>1.691782</td>\n      <td>1.915246</td>\n      <td>1.928030</td>\n      <td>1.783266</td>\n      <td>1.685230</td>\n      <td>1.999175</td>\n      <td>1.808830</td>\n    </tr>\n    <tr>\n      <th>max</th>\n      <td>3.436686</td>\n      <td>4.013129</td>\n      <td>4.065149</td>\n      <td>3.432912</td>\n      <td>3.606312</td>\n      <td>3.947655</td>\n      <td>4.026578</td>\n    </tr>\n  </tbody>\n</table>\n</div>"
     },
     "execution_count": 17,
     "metadata": {},
     "output_type": "execute_result"
    }
   ],
   "source": [
    "steps_mean_wave_new.describe()"
   ],
   "metadata": {
    "collapsed": false,
    "pycharm": {
     "name": "#%%\n"
    }
   }
  },
  {
   "cell_type": "code",
   "execution_count": 12,
   "outputs": [
    {
     "data": {
      "text/plain": "Child\n902     1.614558\n904     1.414852\n907     0.598307\n908     1.782195\n909     1.534988\n          ...   \n4886    1.681215\n4887    2.513535\n4888    1.642353\n4889    2.356557\n4890    1.612722\nName: 1, Length: 926, dtype: float64"
     },
     "execution_count": 12,
     "metadata": {},
     "output_type": "execute_result"
    }
   ],
   "source": [
    "steps_wave1 = steps_mean_wave_new[1]\n",
    "PAL_wave1 = steps_wave1.dropna()\n",
    "PAL_wave1"
   ],
   "metadata": {
    "collapsed": false,
    "pycharm": {
     "name": "#%%\n"
    }
   }
  },
  {
   "cell_type": "markdown",
   "source": [
    "## Frequency distribution"
   ],
   "metadata": {
    "collapsed": false,
    "pycharm": {
     "name": "#%% md\n"
    }
   }
  },
  {
   "cell_type": "code",
   "execution_count": 13,
   "outputs": [
    {
     "data": {
      "text/plain": "(array([ 4.,  2.,  2.,  5.,  9., 15., 14., 15., 17., 25., 34., 40., 54.,\n        53., 38., 47., 38., 51., 64., 38., 40., 40., 44., 21., 26., 28.,\n        27., 19., 20., 14., 20.,  5., 10.,  5.,  6.,  8.,  4.,  3.,  5.,\n         1.,  2.,  2.,  2.,  1.,  3.,  0.,  2.,  1.,  0.,  2.]),\n array([0.188904  , 0.25385964, 0.31881528, 0.38377092, 0.44872656,\n        0.5136822 , 0.57863784, 0.64359348, 0.70854912, 0.77350476,\n        0.8384604 , 0.90341604, 0.96837168, 1.03332732, 1.09828296,\n        1.1632386 , 1.22819424, 1.29314988, 1.35810552, 1.42306116,\n        1.4880168 , 1.55297244, 1.61792808, 1.68288372, 1.74783936,\n        1.812795  , 1.87775064, 1.94270628, 2.00766192, 2.07261756,\n        2.1375732 , 2.20252884, 2.26748448, 2.33244012, 2.39739576,\n        2.4623514 , 2.52730704, 2.59226268, 2.65721832, 2.72217396,\n        2.7871296 , 2.85208524, 2.91704088, 2.98199652, 3.04695216,\n        3.1119078 , 3.17686344, 3.24181908, 3.30677472, 3.37173036,\n        3.436686  ]),\n <BarContainer object of 50 artists>)"
     },
     "execution_count": 13,
     "metadata": {},
     "output_type": "execute_result"
    },
    {
     "data": {
      "text/plain": "<Figure size 432x288 with 1 Axes>",
      "image/png": "[encoded data removed]"
     },
     "metadata": {
      "needs_background": "light"
     },
     "output_type": "display_data"
    }
   ],
   "source": [
    "plt.hist(PAL_wave1, bins=50)"
   ],
   "metadata": {
    "collapsed": false,
    "pycharm": {
     "name": "#%%\n"
    }
   }
  },
  {
   "cell_type": "markdown",
   "source": [
    "## Cumulative distribution"
   ],
   "metadata": {
    "collapsed": false,
    "pycharm": {
     "name": "#%% md\n"
    }
   }
  },
  {
   "cell_type": "code",
   "execution_count": 14,
   "outputs": [
    {
     "data": {
      "text/plain": "[<matplotlib.lines.Line2D at 0x7f961f590700>]"
     },
     "execution_count": 14,
     "metadata": {},
     "output_type": "execute_result"
    },
    {
     "data": {
      "text/plain": "<Figure size 432x288 with 1 Axes>",
      "image/png": "[encoded data removed]"
     },
     "metadata": {
      "needs_background": "light"
     },
     "output_type": "display_data"
    }
   ],
   "source": [
    "ecdf = ECDF(PAL_wave1)\n",
    "\n",
    "plt.plot(ecdf.x, ecdf.y)"
   ],
   "metadata": {
    "collapsed": false,
    "pycharm": {
     "name": "#%%\n"
    }
   }
  },
  {
   "cell_type": "markdown",
   "source": [
    "## Save plots"
   ],
   "metadata": {
    "collapsed": false,
    "pycharm": {
     "name": "#%% md\n"
    }
   }
  },
  {
   "cell_type": "code",
   "execution_count": 25,
   "outputs": [
    {
     "data": {
      "text/plain": "<Figure size 720x432 with 2 Axes>",
      "image/png": "[encoded data removed]"
     },
     "metadata": {
      "needs_background": "light"
     },
     "output_type": "display_data"
    }
   ],
   "source": [
    "\n",
    "fig, (ax1, ax2) = plt.subplots(1, 2, figsize=(10,6))\n",
    "\n",
    "ax1.set_title('Frequency distribution')\n",
    "ax1.set_ylabel('Frequency')\n",
    "ax1.set_xlabel('PAL')\n",
    "ax1.set_ylim([0, 70])\n",
    "ax1.hist(PAL_wave1, bins=50)\n",
    "\n",
    "ax2.set_title('Cumulative distribution function')\n",
    "ax2.set_ylabel('Probability')\n",
    "ax2.set_xlabel('PAL')\n",
    "ax2.set_ylim([0, 1])\n",
    "ax2.plot(ecdf.x, ecdf.y)\n",
    "\n",
    "\n",
    "fig.savefig('../output/pal_w1_dist.eps', bbox_inches='tight', format='eps', dpi=1000)\n",
    "\n"
   ],
   "metadata": {
    "collapsed": false,
    "pycharm": {
     "name": "#%%\n"
    }
   }
  }
 ],
 "metadata": {
  "kernelspec": {
   "display_name": "Python 3",
   "language": "python",
   "name": "python3"
  },
  "language_info": {
   "codemirror_mode": {
    "name": "ipython",
    "version": 2
   },
   "file_extension": ".py",
   "mimetype": "text/x-python",
   "name": "python",
   "nbconvert_exporter": "python",
   "pygments_lexer": "ipython2",
   "version": "2.7.6"
  }
 },
 "nbformat": 4,
 "nbformat_minor": 0
}