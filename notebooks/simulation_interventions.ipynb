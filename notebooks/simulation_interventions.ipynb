{
 "cells": [
  {
   "cell_type": "code",
   "execution_count": 1,
   "outputs": [],
   "source": [
    "# import libraries\n",
    "import json\n",
    "import numpy as np\n",
    "import os\n",
    "import pandas as pd\n",
    "import matplotlib.pyplot as plt\n",
    "import sys\n",
    "import inspect\n",
    "import time\n",
    "\n",
    "# access parent directory from notebooks directory\n",
    "currentdir = os.path.dirname(os.path.abspath(inspect.getfile(inspect.currentframe())))\n",
    "parentdir = os.path.dirname(currentdir)\n",
    "sys.path.insert(0, parentdir)\n",
    "\n",
    "import newsrc.simulation as s\n",
    "\n",
    "%load_ext autoreload\n",
    "%autoreload 2\n",
    "%matplotlib inline\n",
    "%reload_ext autoreload"
   ],
   "metadata": {
    "collapsed": false,
    "pycharm": {
     "name": "#%%\n"
    }
   }
  },
  {
   "cell_type": "code",
   "execution_count": 2,
   "outputs": [],
   "source": [
    "try:\n",
    "    input_args = json.loads(open('../input/simulation.json').read())\n",
    "except Exception as ex:\n",
    "    print('simulation.json does not exist!')\n",
    "    print(ex)\n"
   ],
   "metadata": {
    "collapsed": false,
    "pycharm": {
     "name": "#%%\n"
    }
   }
  },
  {
   "cell_type": "code",
   "execution_count": 3,
   "outputs": [
    {
     "name": "stderr",
     "output_type": "stream",
     "text": [
      "/Users/davidblok/Work EUR/GitHub/ABM-PA/newsrc/simulation.py:28: DtypeWarning: Columns (319,321,323,377,434,436,439,441,444,446,449,451,454,456,459,461,464,466,469,471,474,476,479,481,484,486,489,491) have mixed types.Specify dtype option on import or set low_memory=False.\n",
      "  self.PeerNominatedDataPopulation = p.PeerNominatedDataPopulation('Peer-Nominated data population', self.input_args)\n",
      "<ipython-input-3-cc89a67aeca7>:1: DtypeWarning: Columns (22) have mixed types.Specify dtype option on import or set low_memory=False.\n",
      "  simulation =  s.Simulation()\n",
      "/Users/davidblok/Work EUR/GitHub/ABM-PA/newsrc/simulation.py:29: DtypeWarning: Columns (319,321,323,377,434,436,439,441,444,446,449,451,454,456,459,461,464,466,469,471,474,476,479,481,484,486,489,491) have mixed types.Specify dtype option on import or set low_memory=False.\n",
      "  self.CommunicationDataPopulation = p.CommunicationDataPopulation('Communication data population', self.input_args)\n"
     ]
    }
   ],
   "source": [
    "# instantiate simulation class\n",
    "\n",
    "simulation =  s.Simulation()"
   ],
   "metadata": {
    "collapsed": false,
    "pycharm": {
     "name": "#%%\n"
    }
   }
  },
  {
   "cell_type": "markdown",
   "source": [
    "# Simulation Interventions\n",
    "\n",
    "## 1. Nomination network"
   ],
   "metadata": {
    "collapsed": false,
    "pycharm": {
     "name": "#%% md\n"
    }
   }
  },
  {
   "cell_type": "code",
   "execution_count": null,
   "outputs": [],
   "source": [
    "# Read tuned parameter combinations (See tuning_nom_network.ipynb)\n",
    "pars_nomination = pd.read_csv('../output/opt_pars_nominated.csv', sep=',', header=0)\n",
    "pars_nomination"
   ],
   "metadata": {
    "collapsed": false,
    "pycharm": {
     "name": "#%%\n"
    }
   }
  },
  {
   "cell_type": "code",
   "execution_count": null,
   "outputs": [],
   "source": [
    "# Run simulations for each parameter combination\n",
    "list_results_nomm = []\n",
    "list_results_avg_nomm = []\n",
    "list_agents_per_intervention_nomm = []\n",
    "start_whole = time.time()\n",
    "count = 0\n",
    "for index, row in pars_nomination.iterrows():\n",
    "    results_nomm, results_avg_nomm, agents_per_intervention_nomm = simulation.simulate_interventions(700,'peer',row['threshold'],row['ipa'])\n",
    "    list_results_nomm.append(results_nomm)\n",
    "    list_results_avg_nomm.append(results_avg_nomm)\n",
    "    list_agents_per_intervention_nomm.append(agents_per_intervention_nomm)\n",
    "    end = time.time()\n",
    "    print(count, row['threshold'], row['ipa'], \"Time elapsed:\", end - start_whole, ' seconds')\n",
    "    count = count + 1\n"
   ],
   "metadata": {
    "collapsed": false,
    "pycharm": {
     "name": "#%%\n"
    }
   }
  },
  {
   "cell_type": "markdown",
   "source": [
    "# 2. Communication network\n"
   ],
   "metadata": {
    "collapsed": false,
    "pycharm": {
     "name": "#%% md\n"
    }
   }
  },
  {
   "cell_type": "code",
   "execution_count": null,
   "outputs": [],
   "source": [
    "# Read tuned parameter combinations (See tuning_com_network.ipynb)\n",
    "pars_communication = pd.read_csv('../output/opt_pars_communication.csv', sep=',', header=0, encoding='latin-1')\n",
    "pars_communication"
   ],
   "metadata": {
    "collapsed": false,
    "pycharm": {
     "name": "#%%\n"
    }
   }
  },
  {
   "cell_type": "code",
   "execution_count": null,
   "outputs": [],
   "source": [
    "# Run simulations for each parameter combination\n",
    "list_results_comm = []\n",
    "list_results_avg_comm = []\n",
    "list_agents_per_intervention_comm = []\n",
    "start_whole = time.time()\n",
    "count = 0\n",
    "for index, row in pars_communication.iterrows():\n",
    "    results_comm, results_avg_comm, agents_per_intervention_comm = simulation.simulate_interventions(700,'communication',row['threshold'],row['ipa'])\n",
    "    list_results_comm.append(results_comm)\n",
    "    list_results_avg_comm.append(results_avg_comm)\n",
    "    list_agents_per_intervention_comm.append(agents_per_intervention_comm)\n",
    "    end = time.time()\n",
    "    print(count, row['threshold'], row['ipa'], \"Time elapsed:\", end - start_whole, ' seconds')\n",
    "    count = count + 1"
   ],
   "metadata": {
    "collapsed": false,
    "pycharm": {
     "name": "#%%\n"
    }
   }
  },
  {
   "cell_type": "markdown",
   "source": [
    "# Ploting the outcomes"
   ],
   "metadata": {
    "collapsed": false
   }
  },
  {
   "cell_type": "markdown",
   "source": [
    "## New method (also for percentile)"
   ],
   "metadata": {
    "collapsed": false,
    "pycharm": {
     "name": "#%% md\n"
    }
   }
  },
  {
   "cell_type": "code",
   "execution_count": 65,
   "outputs": [],
   "source": [
    "# Step1: create a list per run of overall mean PAL\n",
    "\n",
    "# Nomination network\n",
    "list_results_mean_nom = []\n",
    "for run in range(len(list_results_avg_nomm)):\n",
    "    # per run mean of all classes\n",
    "    all_averaged = {}\n",
    "    for i in input_args['intervention_strategy']:\n",
    "        temp_res = pd.Series([], dtype = float)\n",
    "        counter = 0\n",
    "        for class_id,res in list_results_avg_nomm[run].items():\n",
    "            temp_res = temp_res.add(list_results_avg_nomm[run][class_id][i],fill_value=0)\n",
    "            counter = counter + 1\n",
    "        all_averaged[i] = temp_res/counter\n",
    "\n",
    "    list_results_mean_nom.append(all_averaged)\n",
    "\n",
    "\n",
    "\n",
    "# Communication network\n",
    "list_results_mean_com = []\n",
    "for run in range(len(list_results_avg_comm)):\n",
    "    # per run mean of all classes\n",
    "    all_averaged = {}\n",
    "    for i in input_args['intervention_strategy']:\n",
    "        temp_res = pd.Series([], dtype = float)\n",
    "        counter = 0\n",
    "        for class_id,res in list_results_avg_comm[run].items():\n",
    "            temp_res = temp_res.add(list_results_avg_comm[run][class_id][i],fill_value=0)\n",
    "            counter = counter + 1\n",
    "        all_averaged[i] = temp_res/counter\n",
    "\n",
    "    list_results_mean_com.append(all_averaged)\n"
   ],
   "metadata": {
    "collapsed": false,
    "pycharm": {
     "name": "#%%\n"
    }
   }
  },
  {
   "cell_type": "code",
   "execution_count": 75,
   "outputs": [],
   "source": [
    "# Step2: Creat per intervention a list of 100\n",
    "\n",
    "# Nomination network\n",
    "out_indegree_nom = []\n",
    "out_betweenness_nom = []\n",
    "out_closeness_nom = []\n",
    "\n",
    "for run in range(len(list_results_mean_nom)):\n",
    "    # per run\n",
    "    temp1 = list_results_mean_nom[run]\n",
    "    out_indegree_nom.append(temp1['indegree'])\n",
    "    out_betweenness_nom.append(temp1['betweenness'])\n",
    "    out_closeness_nom.append(temp1['closeness'])\n",
    "\n",
    "\n",
    "# Comunication network\n",
    "out_indegree_com = []\n",
    "out_betweenness_com = []\n",
    "out_closeness_com = []\n",
    "\n",
    "for run in range(len(list_results_mean_com)):\n",
    "    # per run\n",
    "    temp1 = list_results_mean_com[run]\n",
    "    out_indegree_com.append(temp1['indegree'])\n",
    "    out_betweenness_com.append(temp1['betweenness'])\n",
    "    out_closeness_com.append(temp1['closeness'])\n"
   ],
   "metadata": {
    "collapsed": false,
    "pycharm": {
     "name": "#%%\n"
    }
   }
  },
  {
   "cell_type": "code",
   "execution_count": 78,
   "outputs": [],
   "source": [
    "# Step3: calculate mean and percentiles\n",
    "\n",
    "# list into dataframe\n",
    "\n",
    "# Nomination network\n",
    "results_nom_indegree = pd.concat(out_indegree_nom, axis=1, keys=[s.name for s in out_indegree_nom])\n",
    "results_nom_betweenness = pd.concat(out_betweenness_nom, axis=1, keys=[s.name for s in out_betweenness_nom])\n",
    "results_nom_closeness = pd.concat(out_closeness_nom, axis=1, keys=[s.name for s in out_closeness_nom])\n",
    "\n",
    "# indegree\n",
    "i_nom = results_nom_indegree.mean(axis=1)\n",
    "i_nom_min = results_nom_indegree.quantile(q=0.025, axis=1)\n",
    "i_nom_max = results_nom_indegree.quantile(q=0.975, axis=1)\n",
    "\n",
    "# betweenness\n",
    "b_nom = results_nom_betweenness.mean(axis=1)\n",
    "b_nom_min = results_nom_betweenness.quantile(q=0.025, axis=1)\n",
    "b_nom_max = results_nom_betweenness.quantile(q=0.975, axis=1)\n",
    "\n",
    "# closeness\n",
    "c_nom = results_nom_closeness.mean(axis=1)\n",
    "c_nom_min = results_nom_closeness.quantile(q=0.025, axis=1)\n",
    "c_nom_max = results_nom_closeness.quantile(q=0.975, axis=1)\n",
    "\n",
    "\n",
    "# Comunication network\n",
    "results_com_indegree = pd.concat(out_indegree_com, axis=1, keys=[s.name for s in out_indegree_com])\n",
    "results_com_betweenness = pd.concat(out_betweenness_com, axis=1, keys=[s.name for s in out_betweenness_com])\n",
    "results_com_closeness = pd.concat(out_closeness_com, axis=1, keys=[s.name for s in out_closeness_com])\n",
    "\n",
    "# indegree\n",
    "i_com = results_com_indegree.mean(axis=1)\n",
    "i_com_min = results_com_indegree.quantile(q=0.025, axis=1)\n",
    "i_com_max = results_com_indegree.quantile(q=0.975, axis=1)\n",
    "\n",
    "# betweenness\n",
    "b_com = results_com_betweenness.mean(axis=1)\n",
    "b_com_min = results_com_betweenness.quantile(q=0.025, axis=1)\n",
    "b_com_max = results_com_betweenness.quantile(q=0.975, axis=1)\n",
    "\n",
    "# closeness\n",
    "c_com = results_com_closeness.mean(axis=1)\n",
    "c_com_min = results_com_closeness.quantile(q=0.025, axis=1)\n",
    "c_com_max = results_com_closeness.quantile(q=0.975, axis=1)"
   ],
   "metadata": {
    "collapsed": false,
    "pycharm": {
     "name": "#%%\n"
    }
   }
  },
  {
   "cell_type": "code",
   "execution_count": 147,
   "outputs": [],
   "source": [
    "# Success rate (only mean)\n",
    "\n",
    "# Nomination network\n",
    "i_nom_sr = (i_nom/i_nom[0] -1) *100\n",
    "i_nom_sr_min = (i_nom_min/i_nom_min[0] -1) *100\n",
    "i_nom_sr_max = (i_nom_max/i_nom_max[0] -1) *100\n",
    "b_nom_sr = (b_nom/b_nom[0] -1) *100\n",
    "b_nom_sr_min = (b_nom_min/b_nom_min[0] -1) *100\n",
    "b_nom_sr_max = (b_nom_max/b_nom_max[0] -1) *100\n",
    "c_nom_sr = (c_nom/c_nom[0] -1) *100\n",
    "c_nom_sr_min = (c_nom_min/c_nom_min[0] -1) *100\n",
    "c_nom_sr_max = (c_nom_max/c_nom_max[0] -1) *100\n",
    "\n",
    "# Communication network\n",
    "i_com_sr = (i_com/i_com[0] -1) *100\n",
    "i_com_sr_min = (i_com_min/i_com_min[0] -1) *100\n",
    "i_com_sr_max = (i_com_max/i_com_max[0] -1) *100\n",
    "b_com_sr = (b_com/b_com[0] -1) *100\n",
    "b_com_sr_min = (b_com_min/b_com_min[0] -1) *100\n",
    "b_com_sr_max = (b_com_max/b_com_max[0] -1) *100\n",
    "c_com_sr = (c_com/c_com[0] -1) *100\n",
    "c_com_sr_min = (c_com_min/c_com_min[0] -1) *100\n",
    "c_com_sr_max = (c_com_max/c_com_max[0] -1) *100\n"
   ],
   "metadata": {
    "collapsed": false,
    "pycharm": {
     "name": "#%%\n"
    }
   }
  },
  {
   "cell_type": "code",
   "execution_count": 87,
   "outputs": [
    {
     "data": {
      "text/plain": "<Figure size 1080x720 with 2 Axes>",
      "image/png": "[encoded data removed]"
     },
     "metadata": {
      "needs_background": "light"
     },
     "output_type": "display_data"
    }
   ],
   "source": [
    "# Plots (with confidence intervals)\n",
    "ticks = np.arange(1.40, 1.60, 0.01)\n",
    "x = np.arange(0,700,1)\n",
    "\n",
    "fig, (ax1, ax2) = plt.subplots(1, 2, figsize=(15,10))\n",
    "\n",
    "ax1.set_title('Nomination network')\n",
    "ax1.set_ylim([1.4, 1.55])\n",
    "ax1.plot(x, i_nom, color='green')\n",
    "#plt.fill_between(x, i_nom_min, i_nom_max, alpha=0.2, color='C5')\n",
    "ax1.plot(x, b_nom, color='blue')\n",
    "#plt.fill_between(x, b_nom_min, b_nom_max, alpha=0.2, color='C0')\n",
    "ax1.plot(x, c_nom, color='orange')\n",
    "#plt.fill_between(x, c_nom_min, c_nom_max, alpha=0.2, color='C3')\n",
    "\n",
    "ax2.set_title('Communication network')\n",
    "ax2.set_ylim([1.4, 1.55])\n",
    "ax2.plot(x, i_com, color='green')\n",
    "#plt.fill_between(x, i_com_min, i_com_max, alpha=0.2, color='C5')\n",
    "ax2.plot(x, b_com, color='blue')\n",
    "#plt.fill_between(x, b_com_min, b_com_max, alpha=0.2, color='C0')\n",
    "ax2.plot(x, c_com, color='orange')\n",
    "#plt.fill_between(x, c_com_min, c_com_max, alpha=0.2, color='C3')\n",
    "ax2.legend(['In-degree', 'Betweenness', 'Closeness'], loc='lower right', title=\"Network interventions\")\n",
    "\n",
    "#fig.figsize=((16,14))\n",
    "#plt.axis(xmin=0,xmax=700,ymin=1.4,ymax=1.6)\n",
    "#plt.yticks(ticks)\n",
    "#plt.ylabel('Mean physical activity level')\n",
    "#plt.xlabel('Days')\n",
    "#plt.legend(['In-Degree', 'Betweenness', 'Closeness'], loc='lower right', title=\"Network interventions\")\n",
    "\n",
    "fig.savefig('../output/sim_results1.png')\n"
   ],
   "metadata": {
    "collapsed": false,
    "pycharm": {
     "name": "#%%\n"
    }
   }
  },
  {
   "cell_type": "code",
   "execution_count": 149,
   "outputs": [
    {
     "name": "stdout",
     "output_type": "stream",
     "text": [
      "nom i: 6.887428739890922 b: 6.381933024204067 c:  7.005427221041582\n",
      "nom min i: 3.243980271800506 b: 2.5021604817849985 c:  3.7307486546552804\n",
      "nom max i: 8.436829934755274 b: 7.395782419539376 c:  8.667219778387025\n",
      "com i: 8.032688653671617 b: 8.016044851911786 c:  8.012089610026152\n",
      "com min i: 7.236467398007296 b: 7.245036613936429 c:  7.239217051780411\n",
      "com max i: 8.427902504532847 b: 8.35344883186786 c:  8.385109250529887\n"
     ]
    }
   ],
   "source": [
    "# confidence intervals at day 700\n",
    "print('nom i:', i_nom_sr[699], 'b:', b_nom_sr[699], 'c: ', c_nom_sr[699])\n",
    "print('nom min i:', i_nom_sr_min[699], 'b:', b_nom_sr_min[699], 'c: ', c_nom_sr_min[699])\n",
    "print('nom max i:', i_nom_sr_max[699], 'b:', b_nom_sr_max[699], 'c: ', c_nom_sr_max[699])\n",
    "\n",
    "print('com i:', i_com_sr[699], 'b:', b_com_sr[699], 'c: ', c_com_sr[699])\n",
    "print('com min i:', i_com_sr_min[699], 'b:', b_com_sr_min[699], 'c: ', c_com_sr_min[699])\n",
    "print('com max i:', i_com_sr_max[699], 'b:', b_com_sr_max[699], 'c: ', c_com_sr_max[699])"
   ],
   "metadata": {
    "collapsed": false,
    "pycharm": {
     "name": "#%%\n"
    }
   }
  },
  {
   "cell_type": "code",
   "execution_count": 144,
   "outputs": [
    {
     "data": {
      "text/plain": "0      0.000000\n1      0.270995\n2      0.537930\n3      0.810417\n4      1.074172\n         ...   \n695    8.010883\n696    8.011190\n697    8.011490\n698    8.011800\n699    8.012090\nLength: 700, dtype: float64"
     },
     "execution_count": 144,
     "metadata": {},
     "output_type": "execute_result"
    }
   ],
   "source": [
    "c_com_sr"
   ],
   "metadata": {
    "collapsed": false,
    "pycharm": {
     "name": "#%%\n"
    }
   }
  },
  {
   "cell_type": "code",
   "execution_count": 150,
   "outputs": [
    {
     "name": "stderr",
     "output_type": "stream",
     "text": [
      "The PostScript backend does not support transparency; partially transparent artists will be rendered opaque.\n",
      "The PostScript backend does not support transparency; partially transparent artists will be rendered opaque.\n"
     ]
    },
    {
     "data": {
      "text/plain": "<Figure size 720x504 with 2 Axes>",
      "image/png": "[encoded data removed]"
     },
     "metadata": {
      "needs_background": "light"
     },
     "output_type": "display_data"
    }
   ],
   "source": [
    "# Plots (with confidence intervals)\n",
    "ticks = np.arange(1.40, 1.60, 0.01)\n",
    "x = np.arange(0,700,1)\n",
    "\n",
    "fig, (ax1, ax2) = plt.subplots(1, 2, figsize=(10,7))\n",
    "\n",
    "ax1.set_title('Nomination network')\n",
    "ax1.set_xlabel('Days')\n",
    "ax1.set_ylabel('Impact on physical activity level (%)')\n",
    "ax1.set_ylim([0, 10])\n",
    "ax1.plot(x, i_nom_sr, color='green')\n",
    "ax1.plot(x, b_nom_sr, color='blue')\n",
    "ax1.plot(x, c_nom_sr, color='orange')\n",
    "\n",
    "ax2.set_title('Communication network')\n",
    "ax2.set_xlabel('Days')\n",
    "ax2.set_ylabel('Impact on physical activity level (%)')\n",
    "ax2.set_ylim([0, 10])\n",
    "ax2.plot(x, i_com_sr, color='green')\n",
    "ax2.plot(x, b_com_sr, color='blue')\n",
    "ax2.plot(x, c_com_sr, color='orange')\n",
    "ax2.legend(['In-degree', 'Betweenness', 'Closeness'], loc='lower right', title=\"Network interventions\")\n",
    "\n",
    "fig.savefig('../output/sim_results2.eps', bbox_inches='tight', format='eps', dpi=1000)\n"
   ],
   "metadata": {
    "collapsed": false,
    "pycharm": {
     "name": "#%%\n"
    }
   }
  },
  {
   "cell_type": "markdown",
   "source": [
    "# Variation at day 700"
   ],
   "metadata": {
    "collapsed": false,
    "pycharm": {
     "name": "#%% md\n"
    }
   }
  },
  {
   "cell_type": "code",
   "execution_count": 104,
   "outputs": [],
   "source": [
    "nom_var = {'In-degree': (results_nom_indegree.iloc[699]/results_nom_indegree.iloc[0] -1) *100,\n",
    "           'Betweenness': (results_nom_betweenness.iloc[699]/results_nom_betweenness.iloc[0] -1) *100,\n",
    "           'Closeness': (results_nom_closeness.iloc[699]/results_nom_closeness.iloc[0] -1) *100}\n",
    "\n",
    "com_var = {'In-degree': (results_com_indegree.iloc[699]/results_com_indegree.iloc[0] -1) *100,\n",
    "           'Betweenness': (results_com_betweenness.iloc[699]/results_com_betweenness.iloc[0] -1) *100,\n",
    "           'Closeness': (results_com_closeness.iloc[699]/results_com_closeness.iloc[0] -1) *100}\n"
   ],
   "metadata": {
    "collapsed": false,
    "pycharm": {
     "name": "#%%\n"
    }
   }
  },
  {
   "cell_type": "code",
   "execution_count": 108,
   "outputs": [
    {
     "name": "stderr",
     "output_type": "stream",
     "text": [
      "Could not connect to 127.0.0.1: 51384\n",
      "Traceback (most recent call last):\n",
      "  File \"/Applications/PyCharm.app/Contents/plugins/python/helpers/pydev/_pydevd_bundle/pydevd_comm.py\", line 458, in start_client\n",
      "    s.connect((host, port))\n",
      "ConnectionRefusedError: [Errno 61] Connection refused\n",
      "Traceback (most recent call last):\n",
      "  File \"/Applications/PyCharm.app/Contents/plugins/python/helpers-pro/jupyter_debug/pydev_jupyter_utils.py\", line 63, in attach_to_debugger\n",
      "    debugger.connect(pydev_localhost.get_localhost(), debugger_port)\n",
      "  File \"/Applications/PyCharm.app/Contents/plugins/python/helpers/pydev/pydevd.py\", line 655, in connect\n",
      "    s = start_client(host, port)\n",
      "  File \"/Applications/PyCharm.app/Contents/plugins/python/helpers/pydev/_pydevd_bundle/pydevd_comm.py\", line 458, in start_client\n",
      "    s.connect((host, port))\n",
      "ConnectionRefusedError: [Errno 61] Connection refused\n",
      "Failed to connect to target debugger.\n"
     ]
    },
    {
     "data": {
      "text/plain": "<Figure size 1080x720 with 2 Axes>",
      "image/png": "[encoded data removed]"
     },
     "metadata": {
      "needs_background": "light"
     },
     "output_type": "display_data"
    }
   ],
   "source": [
    "fig, (ax1, ax2) = plt.subplots(1, 2, figsize=(10,10))\n",
    "\n",
    "ax1.set_title('Nomination network')\n",
    "ax1.set_ylabel('PAL success rate (%)')\n",
    "ax1.set_ylim([0, 10])\n",
    "ax1.boxplot(nom_var.values())\n",
    "ax1.set_xticklabels(nom_var.keys())\n",
    "\n",
    "\n",
    "ax2.set_title('Communication network')\n",
    "ax2.set_ylabel('PAL success rate (%)')\n",
    "ax2.set_ylim([0, 10])\n",
    "ax2.boxplot(com_var.values())\n",
    "ax2.set_xticklabels(com_var.keys())\n",
    "#ax2.legend(['In-degree', 'Betweenness', 'Closeness'], loc='lower right', title=\"Network interventions\")\n",
    "\n",
    "\n",
    "fig.savefig('../output/sim_results3.png', bbox_inches='tight')\n",
    "\n"
   ],
   "metadata": {
    "collapsed": false,
    "pycharm": {
     "name": "#%%\n"
    }
   }
  },
  {
   "cell_type": "code",
   "execution_count": 109,
   "outputs": [],
   "source": [
    "# Nomination network\n",
    "all_averaged_nomm = {}\n",
    "for class_id in input_args['classes']:\n",
    "    all_averaged_nomm[str(class_id)] = {}\n",
    "    for i in  ['betweenness','closeness','indegree']:\n",
    "        temp_res = pd.Series([], dtype = float)\n",
    "        count_res = 0\n",
    "        for res_avg in list_results_avg_nomm:\n",
    "            temp_res = temp_res.add(res_avg[str(class_id)][i],fill_value=0)\n",
    "            count_res = count_res + 1\n",
    "        all_averaged_nomm[str(class_id)][i] = temp_res/count_res\n",
    "\n",
    "# Communication network\n",
    "all_averaged_comm = {}\n",
    "for class_id in input_args['classes']:\n",
    "    all_averaged_comm[str(class_id)] = {}\n",
    "    for i in  ['betweenness','closeness','indegree']:\n",
    "        temp_res = pd.Series([], dtype = float)\n",
    "        count_res = 0\n",
    "        for res_avg in list_results_avg_comm:\n",
    "            temp_res = temp_res.add(res_avg[str(class_id)][i],fill_value=0)\n",
    "            count_res = count_res + 1\n",
    "        all_averaged_comm[str(class_id)][i] = temp_res/count_res"
   ],
   "metadata": {
    "collapsed": false,
    "pycharm": {
     "name": "#%%\n"
    }
   }
  },
  {
   "cell_type": "code",
   "execution_count": 118,
   "outputs": [],
   "source": [
    "\n",
    "# Nomination network\n",
    "class_indegree_nom = []\n",
    "class_betweenness_nom = []\n",
    "class_closeness_nom = []\n",
    "\n",
    "for c in input_args['classes']:\n",
    "    # per run\n",
    "    temp1 = all_averaged_nomm[str(c)]\n",
    "    class_indegree_nom.append(temp1['indegree'])\n",
    "    class_betweenness_nom.append(temp1['betweenness'])\n",
    "    class_closeness_nom.append(temp1['closeness'])\n",
    "\n",
    "# Communication network\n",
    "class_indegree_com = []\n",
    "class_betweenness_com = []\n",
    "class_closeness_com = []\n",
    "\n",
    "for c in input_args['classes']:\n",
    "    # per run\n",
    "    temp1 = all_averaged_comm[str(c)]\n",
    "    class_indegree_com.append(temp1['indegree'])\n",
    "    class_betweenness_com.append(temp1['betweenness'])\n",
    "    class_closeness_com.append(temp1['closeness'])"
   ],
   "metadata": {
    "collapsed": false,
    "pycharm": {
     "name": "#%%\n"
    }
   }
  },
  {
   "cell_type": "code",
   "execution_count": 124,
   "outputs": [],
   "source": [
    "# Comunication network\n",
    "pd_class_indegree_nom = pd.concat(class_indegree_nom, axis=1, keys=[s.name for s in class_indegree_nom])\n",
    "pd_class_betweenness_nom = pd.concat(class_betweenness_nom, axis=1, keys=[s.name for s in class_betweenness_nom])\n",
    "pd_class_closeness_nom = pd.concat(class_closeness_nom, axis=1, keys=[s.name for s in class_closeness_nom])"
   ],
   "metadata": {
    "collapsed": false,
    "pycharm": {
     "name": "#%%\n"
    }
   }
  },
  {
   "cell_type": "code",
   "execution_count": null,
   "outputs": [],
   "source": [
    "# Comunication network\n",
    "pd_class_indegree_com = pd.concat(class_indegree_com, axis=1, keys=[s.name for s in class_indegree_com])\n",
    "pd_class_betweenness_com = pd.concat(class_betweenness_com, axis=1, keys=[s.name for s in class_betweenness_com])\n",
    "pd_class_closeness_com = pd.concat(class_closeness_com, axis=1, keys=[s.name for s in class_closeness_com])\n",
    "\n"
   ],
   "metadata": {
    "collapsed": false,
    "pycharm": {
     "name": "#%%\n"
    }
   }
  },
  {
   "cell_type": "code",
   "execution_count": 125,
   "outputs": [],
   "source": [
    "nom_clvar = {'In-degree': (pd_class_indegree_nom.iloc[699]/pd_class_indegree_nom.iloc[0] -1) *100,\n",
    "           'Betweenness': (pd_class_betweenness_nom.iloc[699]/pd_class_betweenness_nom.iloc[0] -1) *100,\n",
    "           'Closeness': (pd_class_closeness_nom.iloc[699]/pd_class_closeness_nom.iloc[0] -1) *100}\n",
    "\n",
    "com_clvar = {'In-degree': (pd_class_indegree_com.iloc[699]/pd_class_indegree_com.iloc[0] -1) *100,\n",
    "           'Betweenness': (pd_class_betweenness_com.iloc[699]/pd_class_betweenness_com.iloc[0] -1) *100,\n",
    "           'Closeness': (pd_class_closeness_com.iloc[699]/pd_class_closeness_com.iloc[0] -1) *100}\n",
    "\n"
   ],
   "metadata": {
    "collapsed": false,
    "pycharm": {
     "name": "#%%\n"
    }
   }
  },
  {
   "cell_type": "code",
   "execution_count": 151,
   "outputs": [
    {
     "data": {
      "text/plain": "<Figure size 720x360 with 2 Axes>",
      "image/png": "[encoded data removed]"
     },
     "metadata": {
      "needs_background": "light"
     },
     "output_type": "display_data"
    }
   ],
   "source": [
    "fig, (ax1, ax2) = plt.subplots(1, 2, figsize=(10,5))\n",
    "\n",
    "ax1.set_title('Nomination network')\n",
    "ax1.set_ylabel('Impact on phyisical activity level (%)')\n",
    "ax1.set_ylim([0, 18])\n",
    "ax1.boxplot(nom_clvar.values())\n",
    "ax1.set_xticklabels(nom_clvar.keys())\n",
    "\n",
    "\n",
    "ax2.set_title('Communication network')\n",
    "ax2.set_ylabel('Impact on phyisical activity level (%)')\n",
    "ax2.set_ylim([0, 18])\n",
    "ax2.boxplot(com_clvar.values())\n",
    "ax2.set_xticklabels(com_clvar.keys())\n",
    "#ax2.legend(['In-degree', 'Betweenness', 'Closeness'], loc='lower right', title=\"Network interventions\")\n",
    "\n",
    "\n",
    "fig.savefig('../output/sim_results4.eps', bbox_inches='tight', format='eps', dpi=1000)\n",
    "\n"
   ],
   "metadata": {
    "collapsed": false,
    "pycharm": {
     "name": "#%%\n"
    }
   }
  },
  {
   "cell_type": "code",
   "execution_count": 159,
   "outputs": [],
   "source": [
    "i_nom_bp = (pd_class_indegree_nom.iloc[699]/pd_class_indegree_nom.iloc[0] -1) *100\n",
    "b_nom_bp = (pd_class_betweenness_nom.iloc[699]/pd_class_betweenness_nom.iloc[0] -1) *100\n",
    "c_nom_bp =  (pd_class_closeness_nom.iloc[699]/pd_class_closeness_nom.iloc[0] -1) *100\n",
    "\n",
    "i_com_bp = (pd_class_indegree_com.iloc[699]/pd_class_indegree_com.iloc[0] -1) *100\n",
    "b_com_bp = (pd_class_betweenness_com.iloc[699]/pd_class_betweenness_com.iloc[0] -1) *100\n",
    "c_com_bp = (pd_class_closeness_com.iloc[699]/pd_class_closeness_com.iloc[0] -1) *100"
   ],
   "metadata": {
    "collapsed": false,
    "pycharm": {
     "name": "#%%\n"
    }
   }
  },
  {
   "cell_type": "code",
   "execution_count": 164,
   "outputs": [
    {
     "data": {
      "text/plain": "{'In-degree': NaN     7.849834\n NaN     6.736012\n NaN     9.561016\n NaN     8.819963\n NaN     5.354492\n NaN     7.140796\n NaN     6.970233\n NaN     3.835821\n NaN     6.906339\n NaN    10.481696\n NaN     4.023694\n NaN    10.588082\n NaN     5.500869\n NaN     8.505945\n NaN    13.897532\n NaN     8.640485\n NaN     9.885924\n NaN    10.859243\n NaN     6.498755\n NaN     8.210558\n NaN     7.971481\n dtype: float64,\n 'Betweenness': NaN     7.621993\n NaN     7.369291\n NaN    10.628382\n NaN     9.943455\n NaN     5.354492\n NaN     7.514880\n NaN     6.970233\n NaN     3.331968\n NaN     6.612207\n NaN     8.665145\n NaN     4.155965\n NaN     9.533120\n NaN     5.500869\n NaN     8.045051\n NaN    16.714025\n NaN     8.031089\n NaN     9.533485\n NaN    10.043277\n NaN     7.262451\n NaN     7.988974\n NaN     7.279733\n dtype: float64,\n 'Closeness': NaN     7.621993\n NaN     6.736012\n NaN    11.302869\n NaN     7.999849\n NaN     5.354492\n NaN     7.415050\n NaN     6.970233\n NaN     4.170937\n NaN     6.906339\n NaN    10.481696\n NaN     4.023694\n NaN     9.643477\n NaN     5.500869\n NaN     8.505945\n NaN    13.027510\n NaN     8.640485\n NaN     9.885924\n NaN    10.859243\n NaN     6.349617\n NaN     8.210558\n NaN     7.971481\n dtype: float64}"
     },
     "execution_count": 164,
     "metadata": {},
     "output_type": "execute_result"
    }
   ],
   "source": [
    "com_clvar\n"
   ],
   "metadata": {
    "collapsed": false,
    "pycharm": {
     "name": "#%%\n"
    }
   }
  },
  {
   "cell_type": "code",
   "execution_count": 165,
   "outputs": [
    {
     "data": {
      "text/plain": "{'In-degree': NaN     0.348243\n NaN    10.737845\n NaN     3.140071\n NaN     5.134581\n NaN     2.614880\n NaN     7.142449\n NaN    13.357336\n NaN     2.642418\n NaN     8.625006\n NaN     6.461696\n NaN     4.882662\n NaN     3.265018\n NaN     5.914686\n NaN     5.625947\n NaN    12.180251\n NaN    11.626785\n NaN     7.056034\n NaN    13.115164\n NaN     6.073162\n NaN     4.878565\n NaN    11.246346\n dtype: float64,\n 'Betweenness': NaN     0.315972\n NaN    10.126807\n NaN     3.140071\n NaN     4.783857\n NaN     2.614880\n NaN     7.621485\n NaN    11.895609\n NaN     2.800926\n NaN     8.779130\n NaN     5.332593\n NaN     4.355027\n NaN     2.368075\n NaN     5.625901\n NaN     4.694253\n NaN    11.904140\n NaN     9.343764\n NaN     6.257756\n NaN    11.523275\n NaN     5.622173\n NaN     4.726273\n NaN    11.780303\n dtype: float64,\n 'Closeness': NaN     0.348243\n NaN    10.737845\n NaN     3.140071\n NaN     5.134581\n NaN     2.614880\n NaN     7.090763\n NaN    13.789948\n NaN     3.791601\n NaN     8.625006\n NaN     6.440857\n NaN     4.882662\n NaN     3.265018\n NaN     6.839401\n NaN     5.625947\n NaN    12.180251\n NaN    11.626785\n NaN     7.056034\n NaN    13.115164\n NaN     6.093934\n NaN     4.878565\n NaN    11.246346\n dtype: float64}"
     },
     "execution_count": 165,
     "metadata": {},
     "output_type": "execute_result"
    }
   ],
   "source": [
    "nom_clvar\n"
   ],
   "metadata": {
    "collapsed": false,
    "pycharm": {
     "name": "#%%\n"
    }
   }
  },
  {
   "cell_type": "code",
   "execution_count": null,
   "outputs": [],
   "source": [
    "# all_averaged = {}\n",
    "# for i in ['betweenness','closeness','indegree']:\n",
    "#     result_counter = 0\n",
    "#     for res_avg in list_results_avg_comm:\n",
    "#         temp_res = pd.Series([], dtype = float)\n",
    "#         counter = 0\n",
    "#         for class_id,res in res_avg.items():\n",
    "#             temp_res = temp_res.add(res_avg[class_id][i],fill_value=0)\n",
    "#             counter = counter + 1\n",
    "\n",
    "#         result_counter = result_counter + 1\n",
    "#         all_averaged[i] = temp_res/counter\n",
    "\n",
    "# plt.figure(figsize=((15,10)))\n",
    "# plt.xlim(0,364)\n",
    "# plt.xlabel('Days')\n",
    "# plt.ylabel('Mean PA')\n",
    "# j = 0\n",
    "# colors = [\"green\", \"yellow\", \"blue\"]\n",
    "# for i in ['indegree','closeness','betweenness']:\n",
    "#     all_averaged[i].plot(color=colors[j],label= i)\n",
    "#     j = j + 1\n",
    "# plt.legend(title='All Interventions Communication Network ', loc=\"upper right\")"
   ],
   "metadata": {
    "collapsed": false,
    "pycharm": {
     "name": "#%%\n"
    }
   }
  },
  {
   "cell_type": "code",
   "execution_count": null,
   "outputs": [],
   "source": [
    "# def get_change(current, previous):\n",
    "#     if current == previous:\n",
    "#         return 0\n",
    "#     try:\n",
    "#         return round(((current - previous)/previous)*100.0,2)\n",
    "#     except ZeroDivisionError:\n",
    "#         return 0\n",
    "\n",
    "# success_rates_nomm = []\n",
    "# for class_id in input_args['classes']:\n",
    "#     for i in ['betweenness','closeness','indegree']:\n",
    "#         result_counter = 0\n",
    "#         temp_outcome = pd.Series([], dtype = float)\n",
    "#         for res_avg in list_results_avg_nomm:\n",
    "#             temp_outcome = temp_outcome.add(res_avg[str(class_id)][i],fill_value=0)\n",
    "#             result_counter = result_counter + 1\n",
    "#         #finished 100 runs\n",
    "#         temp_outcome = temp_outcome/result_counter\n",
    "#         success_rates_nomm.append([class_id, i, get_change(temp_outcome[364],temp_outcome[0]), temp_outcome[0] , temp_outcome[364]])\n",
    "# success_rates_nomm = pd.DataFrame(success_rates_nomm, columns = [\"SchoolClass\", \"Intervention\", \"SuccessRate\", \"StartIntervention\", \"EndIntervention\"])\n",
    "# success_rates_nomm"
   ],
   "metadata": {
    "collapsed": false,
    "pycharm": {
     "name": "#%%\n"
    }
   }
  },
  {
   "cell_type": "markdown",
   "source": [
    "## Create an average (of 100) of the averaged outcomes - in new dictionary"
   ],
   "metadata": {
    "collapsed": false
   }
  },
  {
   "cell_type": "code",
   "execution_count": null,
   "outputs": [],
   "source": [
    "# Only average\n",
    "\n",
    "all_averaged_nomm = {}\n",
    "for class_id in input_args['classes']:\n",
    "    all_averaged_nomm[str(class_id)] = {}\n",
    "    for i in  ['betweenness','closeness','indegree']:\n",
    "        temp_res = pd.Series([], dtype = float)\n",
    "        count_res = 0\n",
    "        for res_avg in list_results_avg_nomm:\n",
    "            temp_res = temp_res.add(res_avg[str(class_id)][i],fill_value=0)\n",
    "            count_res = count_res + 1\n",
    "        all_averaged_nomm[str(class_id)][i] = temp_res/count_res\n",
    "\n"
   ],
   "metadata": {
    "collapsed": false,
    "pycharm": {
     "name": "#%%\n"
    }
   }
  },
  {
   "cell_type": "code",
   "execution_count": 11,
   "outputs": [],
   "source": [
    "all_averaged_comm = {}\n",
    "for class_id in input_args['classes']:\n",
    "    all_averaged_comm[str(class_id)] = {}\n",
    "    for i in  ['betweenness','closeness','indegree']:\n",
    "        temp_res = pd.Series([], dtype = float)\n",
    "        count_res = 0\n",
    "        for res_avg in list_results_avg_comm:\n",
    "            temp_res = temp_res.add(res_avg[str(class_id)][i],fill_value=0)\n",
    "            count_res = count_res + 1\n",
    "        all_averaged_comm[str(class_id)][i] = temp_res/count_res"
   ],
   "metadata": {
    "collapsed": false,
    "pycharm": {
     "name": "#%%\n"
    }
   }
  },
  {
   "cell_type": "code",
   "execution_count": 12,
   "outputs": [
    {
     "data": {
      "text/plain": "{'78.0': {'betweenness': 0      1.497096\n  1      1.500628\n  2      1.504256\n  3      1.507983\n  4      1.511812\n           ...   \n  695    1.611172\n  696    1.611181\n  697    1.611189\n  698    1.611198\n  699    1.611205\n  Length: 700, dtype: float64,\n  'closeness': 0      1.497096\n  1      1.500628\n  2      1.504256\n  3      1.507983\n  4      1.511812\n           ...   \n  695    1.611172\n  696    1.611181\n  697    1.611189\n  698    1.611198\n  699    1.611205\n  Length: 700, dtype: float64,\n  'indegree': 0      1.506856\n  1      1.510388\n  2      1.514016\n  3      1.517743\n  4      1.521571\n           ...   \n  695    1.625103\n  696    1.625112\n  697    1.625122\n  698    1.625133\n  699    1.625141\n  Length: 700, dtype: float64},\n '81.0': {'betweenness': 0      1.522723\n  1      1.527003\n  2      1.532001\n  3      1.536779\n  4      1.540518\n           ...   \n  695    1.634936\n  696    1.634936\n  697    1.634936\n  698    1.634936\n  699    1.634936\n  Length: 700, dtype: float64,\n  'closeness': 0      1.518079\n  1      1.523437\n  2      1.529542\n  3      1.535242\n  4      1.539392\n           ...   \n  695    1.620337\n  696    1.620337\n  697    1.620337\n  698    1.620337\n  699    1.620337\n  Length: 700, dtype: float64,\n  'indegree': 0      1.518079\n  1      1.523437\n  2      1.529542\n  3      1.535242\n  4      1.539392\n           ...   \n  695    1.620337\n  696    1.620337\n  697    1.620337\n  698    1.620337\n  699    1.620337\n  Length: 700, dtype: float64},\n '100.0': {'betweenness': 0      1.516910\n  1      1.522238\n  2      1.527710\n  3      1.533332\n  4      1.538539\n           ...   \n  695    1.678103\n  696    1.678110\n  697    1.678119\n  698    1.678126\n  699    1.678133\n  Length: 700, dtype: float64,\n  'closeness': 0      1.518615\n  1      1.523778\n  2      1.529081\n  3      1.534528\n  4      1.539929\n           ...   \n  695    1.690232\n  696    1.690239\n  697    1.690248\n  698    1.690255\n  699    1.690262\n  Length: 700, dtype: float64,\n  'indegree': 0      1.515077\n  1      1.519604\n  2      1.523401\n  3      1.526450\n  4      1.529123\n           ...   \n  695    1.659904\n  696    1.659911\n  697    1.659918\n  698    1.659926\n  699    1.659934\n  Length: 700, dtype: float64},\n '124.0': {'betweenness': 0      1.232029\n  1      1.235152\n  2      1.238358\n  3      1.241652\n  4      1.244711\n           ...   \n  695    1.354509\n  696    1.354516\n  697    1.354523\n  698    1.354529\n  699    1.354536\n  Length: 700, dtype: float64,\n  'closeness': 0      1.233890\n  1      1.235865\n  2      1.237894\n  3      1.239978\n  4      1.242120\n           ...   \n  695    1.332573\n  696    1.332579\n  697    1.332585\n  698    1.332592\n  699    1.332599\n  Length: 700, dtype: float64,\n  'indegree': 0      1.230096\n  1      1.233540\n  2      1.235956\n  3      1.238274\n  4      1.240701\n           ...   \n  695    1.338562\n  696    1.338569\n  697    1.338576\n  698    1.338583\n  699    1.338590\n  Length: 700, dtype: float64},\n '125.0': {'betweenness': 0      1.431174\n  1      1.435742\n  2      1.440435\n  3      1.445255\n  4      1.450208\n           ...   \n  695    1.507806\n  696    1.507806\n  697    1.507806\n  698    1.507806\n  699    1.507806\n  Length: 700, dtype: float64,\n  'closeness': 0      1.431174\n  1      1.435742\n  2      1.440435\n  3      1.445255\n  4      1.450208\n           ...   \n  695    1.507806\n  696    1.507806\n  697    1.507806\n  698    1.507806\n  699    1.507806\n  Length: 700, dtype: float64,\n  'indegree': 0      1.431174\n  1      1.435742\n  2      1.440435\n  3      1.445255\n  4      1.450208\n           ...   \n  695    1.507806\n  696    1.507806\n  697    1.507806\n  698    1.507806\n  699    1.507806\n  Length: 700, dtype: float64},\n '256.0': {'betweenness': 0      1.407565\n  1      1.412081\n  2      1.414158\n  3      1.416010\n  4      1.417831\n           ...   \n  695    1.513307\n  696    1.513316\n  697    1.513324\n  698    1.513334\n  699    1.513342\n  Length: 700, dtype: float64,\n  'closeness': 0      1.403152\n  1      1.405947\n  2      1.407778\n  3      1.409556\n  4      1.411343\n           ...   \n  695    1.507161\n  696    1.507170\n  697    1.507178\n  698    1.507188\n  699    1.507196\n  Length: 700, dtype: float64,\n  'indegree': 0      1.405906\n  1      1.409247\n  2      1.411156\n  3      1.412940\n  4      1.414730\n           ...   \n  695    1.506263\n  696    1.506272\n  697    1.506281\n  698    1.506290\n  699    1.506299\n  Length: 700, dtype: float64},\n '258.0': {'betweenness': 0      1.212735\n  1      1.214759\n  2      1.217323\n  3      1.220968\n  4      1.224730\n           ...   \n  695    1.297266\n  696    1.297266\n  697    1.297266\n  698    1.297266\n  699    1.297266\n  Length: 700, dtype: float64,\n  'closeness': 0      1.212735\n  1      1.214759\n  2      1.217323\n  3      1.220968\n  4      1.224730\n           ...   \n  695    1.297266\n  696    1.297266\n  697    1.297266\n  698    1.297266\n  699    1.297266\n  Length: 700, dtype: float64,\n  'indegree': 0      1.212735\n  1      1.214759\n  2      1.217323\n  3      1.220968\n  4      1.224730\n           ...   \n  695    1.297266\n  696    1.297266\n  697    1.297266\n  698    1.297266\n  699    1.297266\n  Length: 700, dtype: float64},\n '261.0': {'betweenness': 0      1.624637\n  1      1.630633\n  2      1.636790\n  3      1.642075\n  4      1.646720\n           ...   \n  695    1.678770\n  696    1.678770\n  697    1.678770\n  698    1.678770\n  699    1.678770\n  Length: 700, dtype: float64,\n  'closeness': 0      1.634118\n  1      1.639990\n  2      1.646020\n  3      1.651175\n  4      1.655686\n           ...   \n  695    1.702276\n  696    1.702276\n  697    1.702276\n  698    1.702276\n  699    1.702276\n  Length: 700, dtype: float64,\n  'indegree': 0      1.640505\n  1      1.646376\n  2      1.652405\n  3      1.657559\n  4      1.662068\n           ...   \n  695    1.703432\n  696    1.703432\n  697    1.703432\n  698    1.703432\n  699    1.703432\n  Length: 700, dtype: float64},\n '262.0': {'betweenness': 0      1.336845\n  1      1.338863\n  2      1.339345\n  3      1.341184\n  4      1.343513\n           ...   \n  695    1.425240\n  696    1.425240\n  697    1.425240\n  698    1.425240\n  699    1.425240\n  Length: 700, dtype: float64,\n  'closeness': 0      1.331038\n  1      1.331109\n  2      1.331490\n  3      1.333400\n  4      1.336093\n           ...   \n  695    1.422964\n  696    1.422964\n  697    1.422964\n  698    1.422964\n  699    1.422964\n  Length: 700, dtype: float64,\n  'indegree': 0      1.331038\n  1      1.331109\n  2      1.331490\n  3      1.333400\n  4      1.336093\n           ...   \n  695    1.422964\n  696    1.422964\n  697    1.422964\n  698    1.422964\n  699    1.422964\n  Length: 700, dtype: float64},\n '263.0': {'betweenness': 0      1.457484\n  1      1.462037\n  2      1.466304\n  3      1.470145\n  4      1.473472\n           ...   \n  695    1.583751\n  696    1.583757\n  697    1.583762\n  698    1.583770\n  699    1.583777\n  Length: 700, dtype: float64,\n  'closeness': 0      1.468105\n  1      1.472658\n  2      1.477334\n  3      1.482039\n  4      1.486151\n           ...   \n  695    1.621961\n  696    1.621969\n  697    1.621975\n  698    1.621980\n  699    1.621988\n  Length: 700, dtype: float64,\n  'indegree': 0      1.468105\n  1      1.472658\n  2      1.477334\n  3      1.482039\n  4      1.486151\n           ...   \n  695    1.621961\n  696    1.621969\n  697    1.621975\n  698    1.621980\n  699    1.621988\n  Length: 700, dtype: float64},\n '272.0': {'betweenness': 0      1.272031\n  1      1.275027\n  2      1.277274\n  3      1.279566\n  4      1.281919\n           ...   \n  695    1.324896\n  696    1.324896\n  697    1.324896\n  698    1.324896\n  699    1.324896\n  Length: 700, dtype: float64,\n  'closeness': 0      1.272285\n  1      1.274453\n  2      1.276680\n  3      1.278968\n  4      1.281318\n           ...   \n  695    1.323478\n  696    1.323478\n  697    1.323478\n  698    1.323478\n  699    1.323478\n  Length: 700, dtype: float64,\n  'indegree': 0      1.272285\n  1      1.274453\n  2      1.276680\n  3      1.278968\n  4      1.281318\n           ...   \n  695    1.323478\n  696    1.323478\n  697    1.323478\n  698    1.323478\n  699    1.323478\n  Length: 700, dtype: float64},\n '273.0': {'betweenness': 0      1.506819\n  1      1.512263\n  2      1.516679\n  3      1.521098\n  4      1.525611\n           ...   \n  695    1.650466\n  696    1.650466\n  697    1.650466\n  698    1.650466\n  699    1.650466\n  Length: 700, dtype: float64,\n  'closeness': 0      1.511787\n  1      1.515867\n  2      1.520177\n  3      1.524726\n  4      1.529316\n           ...   \n  695    1.657576\n  696    1.657576\n  697    1.657576\n  698    1.657576\n  699    1.657576\n  Length: 700, dtype: float64,\n  'indegree': 0      1.511991\n  1      1.517237\n  2      1.521871\n  3      1.526332\n  4      1.531057\n           ...   \n  695    1.672082\n  696    1.672082\n  697    1.672082\n  698    1.672082\n  699    1.672082\n  Length: 700, dtype: float64},\n '292.0': {'betweenness': 0      1.410610\n  1      1.412953\n  2      1.416382\n  3      1.421195\n  4      1.425744\n           ...   \n  695    1.488206\n  696    1.488206\n  697    1.488206\n  698    1.488206\n  699    1.488206\n  Length: 700, dtype: float64,\n  'closeness': 0      1.410610\n  1      1.412953\n  2      1.416382\n  3      1.421195\n  4      1.425744\n           ...   \n  695    1.488206\n  696    1.488206\n  697    1.488206\n  698    1.488206\n  699    1.488206\n  Length: 700, dtype: float64,\n  'indegree': 0      1.410610\n  1      1.412953\n  2      1.416382\n  3      1.421195\n  4      1.425744\n           ...   \n  695    1.488206\n  696    1.488206\n  697    1.488206\n  698    1.488206\n  699    1.488206\n  Length: 700, dtype: float64},\n '296.0': {'betweenness': 0      1.437106\n  1      1.441670\n  2      1.446357\n  3      1.451173\n  4      1.455690\n           ...   \n  695    1.552702\n  696    1.552707\n  697    1.552712\n  698    1.552717\n  699    1.552722\n  Length: 700, dtype: float64,\n  'closeness': 0      1.432285\n  1      1.436851\n  2      1.441540\n  3      1.446213\n  4      1.450527\n           ...   \n  695    1.554095\n  696    1.554100\n  697    1.554104\n  698    1.554109\n  699    1.554114\n  Length: 700, dtype: float64,\n  'indegree': 0      1.432285\n  1      1.436851\n  2      1.441540\n  3      1.446213\n  4      1.450527\n           ...   \n  695    1.554095\n  696    1.554100\n  697    1.554104\n  698    1.554109\n  699    1.554114\n  Length: 700, dtype: float64},\n '297.0': {'betweenness': 0      1.423114\n  1      1.429785\n  2      1.435682\n  3      1.441630\n  4      1.447820\n           ...   \n  695    1.660921\n  696    1.660934\n  697    1.660947\n  698    1.660960\n  699    1.660973\n  Length: 700, dtype: float64,\n  'closeness': 0      1.410693\n  1      1.417365\n  2      1.423138\n  3      1.428974\n  4      1.434983\n           ...   \n  695    1.594419\n  696    1.594432\n  697    1.594445\n  698    1.594458\n  699    1.594472\n  Length: 700, dtype: float64,\n  'indegree': 0      1.412900\n  1      1.419572\n  2      1.425988\n  3      1.432138\n  4      1.438437\n           ...   \n  695    1.609206\n  696    1.609219\n  697    1.609232\n  698    1.609245\n  699    1.609259\n  Length: 700, dtype: float64},\n '298.0': {'betweenness': 0      1.431622\n  1      1.435505\n  2      1.438647\n  3      1.441827\n  4      1.445137\n           ...   \n  695    1.546560\n  696    1.546568\n  697    1.546577\n  698    1.546587\n  699    1.546597\n  Length: 700, dtype: float64,\n  'closeness': 0      1.441877\n  1      1.444816\n  2      1.448073\n  3      1.451482\n  4      1.454744\n           ...   \n  695    1.566435\n  696    1.566440\n  697    1.566448\n  698    1.566456\n  699    1.566463\n  Length: 700, dtype: float64,\n  'indegree': 0      1.441877\n  1      1.444816\n  2      1.448073\n  3      1.451482\n  4      1.454744\n           ...   \n  695    1.566435\n  696    1.566440\n  697    1.566448\n  698    1.566456\n  699    1.566463\n  Length: 700, dtype: float64},\n '299.0': {'betweenness': 0      1.473499\n  1      1.478892\n  2      1.483367\n  3      1.487317\n  4      1.491126\n           ...   \n  695    1.613945\n  696    1.613952\n  697    1.613959\n  698    1.613966\n  699    1.613974\n  Length: 700, dtype: float64,\n  'closeness': 0      1.479007\n  1      1.486110\n  2      1.491371\n  3      1.495502\n  4      1.499297\n           ...   \n  695    1.625186\n  696    1.625194\n  697    1.625203\n  698    1.625212\n  699    1.625221\n  Length: 700, dtype: float64,\n  'indegree': 0      1.479007\n  1      1.486110\n  2      1.491371\n  3      1.495502\n  4      1.499297\n           ...   \n  695    1.625186\n  696    1.625194\n  697    1.625203\n  698    1.625212\n  699    1.625221\n  Length: 700, dtype: float64},\n '300.0': {'betweenness': 0      1.549684\n  1      1.554559\n  2      1.559565\n  3      1.564708\n  4      1.569848\n           ...   \n  695    1.705301\n  696    1.705307\n  697    1.705313\n  698    1.705318\n  699    1.705323\n  Length: 700, dtype: float64,\n  'closeness': 0      1.558275\n  1      1.563152\n  2      1.568161\n  3      1.573306\n  4      1.578530\n           ...   \n  695    1.727471\n  696    1.727476\n  697    1.727481\n  698    1.727487\n  699    1.727492\n  Length: 700, dtype: float64,\n  'indegree': 0      1.558275\n  1      1.563152\n  2      1.568161\n  3      1.573306\n  4      1.578530\n           ...   \n  695    1.727471\n  696    1.727476\n  697    1.727481\n  698    1.727487\n  699    1.727492\n  Length: 700, dtype: float64},\n '301.0': {'betweenness': 0      1.459017\n  1      1.461298\n  2      1.463851\n  3      1.465707\n  4      1.467579\n           ...   \n  695    1.564959\n  696    1.564964\n  697    1.564968\n  698    1.564973\n  699    1.564977\n  Length: 700, dtype: float64,\n  'closeness': 0      1.451893\n  1      1.454175\n  2      1.455188\n  3      1.456272\n  4      1.457624\n           ...   \n  695    1.544083\n  696    1.544083\n  697    1.544083\n  698    1.544083\n  699    1.544083\n  Length: 700, dtype: float64,\n  'indegree': 0      1.454740\n  1      1.456475\n  2      1.457430\n  3      1.458500\n  4      1.459690\n           ...   \n  695    1.549280\n  696    1.549280\n  697    1.549280\n  698    1.549280\n  699    1.549280\n  Length: 700, dtype: float64},\n '302.0': {'betweenness': 0      1.439055\n  1      1.443013\n  2      1.447077\n  3      1.450806\n  4      1.454119\n           ...   \n  695    1.553998\n  696    1.554004\n  697    1.554009\n  698    1.554016\n  699    1.554021\n  Length: 700, dtype: float64,\n  'closeness': 0      1.443538\n  1      1.447496\n  2      1.451560\n  3      1.455192\n  4      1.458507\n           ...   \n  695    1.562039\n  696    1.562046\n  697    1.562050\n  698    1.562057\n  699    1.562061\n  Length: 700, dtype: float64,\n  'indegree': 0      1.443538\n  1      1.447496\n  2      1.451560\n  3      1.455192\n  4      1.458507\n           ...   \n  695    1.562039\n  696    1.562046\n  697    1.562050\n  698    1.562057\n  699    1.562061\n  Length: 700, dtype: float64},\n '303.0': {'betweenness': 0      1.286785\n  1      1.291859\n  2      1.294933\n  3      1.297756\n  4      1.300516\n           ...   \n  695    1.380431\n  696    1.380438\n  697    1.380445\n  698    1.380453\n  699    1.380459\n  Length: 700, dtype: float64,\n  'closeness': 0      1.290296\n  1      1.294563\n  2      1.298238\n  3      1.301320\n  4      1.304218\n           ...   \n  695    1.393121\n  696    1.393130\n  697    1.393137\n  698    1.393145\n  699    1.393152\n  Length: 700, dtype: float64,\n  'indegree': 0      1.290296\n  1      1.294563\n  2      1.298238\n  3      1.301320\n  4      1.304218\n           ...   \n  695    1.393121\n  696    1.393130\n  697    1.393137\n  698    1.393145\n  699    1.393152\n  Length: 700, dtype: float64}}"
     },
     "execution_count": 12,
     "metadata": {},
     "output_type": "execute_result"
    }
   ],
   "source": [
    "all_averaged_comm"
   ],
   "metadata": {
    "collapsed": false,
    "pycharm": {
     "name": "#%%\n"
    }
   }
  },
  {
   "cell_type": "code",
   "execution_count": null,
   "outputs": [],
   "source": [
    "simulation.plot_interventions_averaged(all_averaged_nomm)"
   ],
   "metadata": {
    "collapsed": false,
    "pycharm": {
     "name": "#%%\n"
    }
   }
  },
  {
   "cell_type": "code",
   "execution_count": null,
   "outputs": [],
   "source": [
    "simulation.plot_interventions_averaged(all_averaged_comm)"
   ],
   "metadata": {
    "collapsed": false,
    "pycharm": {
     "name": "#%%\n"
    }
   }
  },
  {
   "cell_type": "code",
   "execution_count": null,
   "outputs": [],
   "source": [
    "all_avg_success_rates_comm = simulation.getSuccessRates(all_averaged_comm)\n",
    "all_avg_success_rates_nomm = simulation.getSuccessRates(all_averaged_nomm)"
   ],
   "metadata": {
    "collapsed": false,
    "pycharm": {
     "name": "#%%\n"
    }
   }
  },
  {
   "cell_type": "code",
   "execution_count": null,
   "outputs": [],
   "source": [
    "display(all_avg_success_rates_nomm.groupby(['Intervention'])['SuccessRate'].mean(),all_avg_success_rates_comm.groupby(['Intervention'])['SuccessRate'].mean())"
   ],
   "metadata": {
    "collapsed": false,
    "pycharm": {
     "name": "#%%\n"
    }
   }
  },
  {
   "cell_type": "code",
   "execution_count": null,
   "outputs": [],
   "source": [
    "all_avg_mean_success_rate_comm = all_avg_success_rates_comm.groupby(['SchoolClass'])['SuccessRate'].mean().reset_index()\n",
    "\n",
    "all_avg_mean_success_rate_nomm = all_avg_success_rates_nomm.groupby(['SchoolClass'])['SuccessRate'].mean().reset_index()\n",
    "\n",
    "display(all_avg_mean_success_rate_nomm,all_avg_mean_success_rate_comm)"
   ],
   "metadata": {
    "collapsed": false,
    "pycharm": {
     "name": "#%%\n"
    }
   }
  },
  {
   "cell_type": "code",
   "execution_count": null,
   "outputs": [],
   "source": [],
   "metadata": {
    "collapsed": false,
    "pycharm": {
     "name": "#%%\n"
    }
   }
  }
 ],
 "metadata": {
  "kernelspec": {
   "display_name": "Python 3",
   "language": "python",
   "name": "python3"
  },
  "language_info": {
   "codemirror_mode": {
    "name": "ipython",
    "version": 2
   },
   "file_extension": ".py",
   "mimetype": "text/x-python",
   "name": "python",
   "nbconvert_exporter": "python",
   "pygments_lexer": "ipython2",
   "version": "2.7.6"
  }
 },
 "nbformat": 4,
 "nbformat_minor": 0
}