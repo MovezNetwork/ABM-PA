{
 "cells": [
  {
   "cell_type": "code",
   "execution_count": 64,
   "metadata": {
    "collapsed": true
   },
   "outputs": [],
   "source": [
    "import pandas as pd\n",
    "import numpy as np\n",
    "import json"
   ]
  },
  {
   "cell_type": "code",
   "execution_count": 50,
   "outputs": [
    {
     "name": "stderr",
     "output_type": "stream",
     "text": [
      "/Users/davidblok/.pyenv/versions/3.7.0/lib/python3.7/site-packages/IPython/core/interactiveshell.py:2728: DtypeWarning: Columns (22) have mixed types.Specify dtype option on import or set low_memory=False.\n",
      "  interactivity=interactivity, compiler=compiler, result=result)\n"
     ]
    },
    {
     "data": {
      "text/plain": "   Participant  School  Class   Child  Gender   Age   PI       Date   Time  \\\n0   3410302337    34.0  103.0  2337.0     0.0  11.0  7.0   9-3-2018  12:23   \n15  3410302337    34.0  103.0  2337.0     0.0  11.0  7.0  10-3-2018  14:50   \n16  3410302337    34.0  103.0  2337.0     0.0  11.0  7.0  10-3-2018  14:50   \n38  3410302341    34.0  103.0  2341.0     1.0  12.0  0.0   9-3-2018  10:00   \n45  3410302341    34.0  103.0  2341.0     1.0  12.0  0.0   9-3-2018  12:26   \n\n      UMID  ...  ShareSource SharedVia Number_likes  Unnamed: 23  Unnamed: 24  \\\n0   102371  ...          NaN       NaN            0          NaN          NaN   \n15  107068  ...          NaN       NaN            0          NaN          NaN   \n16  107069  ...          NaN       NaN            0          NaN          NaN   \n38  101555  ...          NaN       NaN            0          NaN          NaN   \n45  102431  ...          NaN       NaN            0          NaN          NaN   \n\n   Unnamed: 25 Unnamed: 26  Unnamed: 27  Unnamed: 28  Unnamed: 29  \n0          NaN         NaN          NaN          NaN          NaN  \n15         NaN         NaN          NaN          NaN          NaN  \n16         NaN         NaN          NaN          NaN          NaN  \n38         NaN         NaN          NaN          NaN          NaN  \n45         NaN         NaN          NaN          NaN          NaN  \n\n[5 rows x 30 columns]",
      "text/html": "<div>\n<style scoped>\n    .dataframe tbody tr th:only-of-type {\n        vertical-align: middle;\n    }\n\n    .dataframe tbody tr th {\n        vertical-align: top;\n    }\n\n    .dataframe thead th {\n        text-align: right;\n    }\n</style>\n<table border=\"1\" class=\"dataframe\">\n  <thead>\n    <tr style=\"text-align: right;\">\n      <th></th>\n      <th>Participant</th>\n      <th>School</th>\n      <th>Class</th>\n      <th>Child</th>\n      <th>Gender</th>\n      <th>Age</th>\n      <th>PI</th>\n      <th>Date</th>\n      <th>Time</th>\n      <th>UMID</th>\n      <th>...</th>\n      <th>ShareSource</th>\n      <th>SharedVia</th>\n      <th>Number_likes</th>\n      <th>Unnamed: 23</th>\n      <th>Unnamed: 24</th>\n      <th>Unnamed: 25</th>\n      <th>Unnamed: 26</th>\n      <th>Unnamed: 27</th>\n      <th>Unnamed: 28</th>\n      <th>Unnamed: 29</th>\n    </tr>\n  </thead>\n  <tbody>\n    <tr>\n      <th>0</th>\n      <td>3410302337</td>\n      <td>34.0</td>\n      <td>103.0</td>\n      <td>2337.0</td>\n      <td>0.0</td>\n      <td>11.0</td>\n      <td>7.0</td>\n      <td>9-3-2018</td>\n      <td>12:23</td>\n      <td>102371</td>\n      <td>...</td>\n      <td>NaN</td>\n      <td>NaN</td>\n      <td>0</td>\n      <td>NaN</td>\n      <td>NaN</td>\n      <td>NaN</td>\n      <td>NaN</td>\n      <td>NaN</td>\n      <td>NaN</td>\n      <td>NaN</td>\n    </tr>\n    <tr>\n      <th>15</th>\n      <td>3410302337</td>\n      <td>34.0</td>\n      <td>103.0</td>\n      <td>2337.0</td>\n      <td>0.0</td>\n      <td>11.0</td>\n      <td>7.0</td>\n      <td>10-3-2018</td>\n      <td>14:50</td>\n      <td>107068</td>\n      <td>...</td>\n      <td>NaN</td>\n      <td>NaN</td>\n      <td>0</td>\n      <td>NaN</td>\n      <td>NaN</td>\n      <td>NaN</td>\n      <td>NaN</td>\n      <td>NaN</td>\n      <td>NaN</td>\n      <td>NaN</td>\n    </tr>\n    <tr>\n      <th>16</th>\n      <td>3410302337</td>\n      <td>34.0</td>\n      <td>103.0</td>\n      <td>2337.0</td>\n      <td>0.0</td>\n      <td>11.0</td>\n      <td>7.0</td>\n      <td>10-3-2018</td>\n      <td>14:50</td>\n      <td>107069</td>\n      <td>...</td>\n      <td>NaN</td>\n      <td>NaN</td>\n      <td>0</td>\n      <td>NaN</td>\n      <td>NaN</td>\n      <td>NaN</td>\n      <td>NaN</td>\n      <td>NaN</td>\n      <td>NaN</td>\n      <td>NaN</td>\n    </tr>\n    <tr>\n      <th>38</th>\n      <td>3410302341</td>\n      <td>34.0</td>\n      <td>103.0</td>\n      <td>2341.0</td>\n      <td>1.0</td>\n      <td>12.0</td>\n      <td>0.0</td>\n      <td>9-3-2018</td>\n      <td>10:00</td>\n      <td>101555</td>\n      <td>...</td>\n      <td>NaN</td>\n      <td>NaN</td>\n      <td>0</td>\n      <td>NaN</td>\n      <td>NaN</td>\n      <td>NaN</td>\n      <td>NaN</td>\n      <td>NaN</td>\n      <td>NaN</td>\n      <td>NaN</td>\n    </tr>\n    <tr>\n      <th>45</th>\n      <td>3410302341</td>\n      <td>34.0</td>\n      <td>103.0</td>\n      <td>2341.0</td>\n      <td>1.0</td>\n      <td>12.0</td>\n      <td>0.0</td>\n      <td>9-3-2018</td>\n      <td>12:26</td>\n      <td>102431</td>\n      <td>...</td>\n      <td>NaN</td>\n      <td>NaN</td>\n      <td>0</td>\n      <td>NaN</td>\n      <td>NaN</td>\n      <td>NaN</td>\n      <td>NaN</td>\n      <td>NaN</td>\n      <td>NaN</td>\n      <td>NaN</td>\n    </tr>\n  </tbody>\n</table>\n<p>5 rows × 30 columns</p>\n</div>"
     },
     "execution_count": 50,
     "metadata": {},
     "output_type": "execute_result"
    }
   ],
   "source": [
    "# peer-nomination data\n",
    "nom_data = '../data/W5_Sociometric_long.csv'\n",
    "df_nom = pd.read_csv(nom_data, sep=';', header=0)\n",
    "\n",
    "# online communication data\n",
    "primary_school = '../data/Buzz_W5_primary-schools.csv'\n",
    "secondary_school = '../data/Buzz_W5_secondary-schools.csv'\n",
    "\n",
    "df_com = pd.read_csv(primary_school, sep=';', header=0, encoding='latin-1')\n",
    "df_com = df_com.append(pd.read_csv(secondary_school, sep=';', header=0, encoding='latin-1'))\n",
    "df_com = df_com[df_com.Type=='my'] # only select text messages\n",
    "\n",
    "df_com.head()\n"
   ],
   "metadata": {
    "collapsed": false,
    "pycharm": {
     "name": "#%%\n"
    }
   }
  },
  {
   "cell_type": "code",
   "execution_count": 65,
   "outputs": [],
   "source": [
    "# select participants found in both datasets\n",
    "\n",
    "participants_nom = df_nom['Child'].unique()\n",
    "participants_com = df_com['Child'].unique()\n",
    "\n",
    "lst_nom = []\n",
    "lst_com = []\n",
    "for int in participants_nom:\n",
    "    if (participants_com.__contains__(int)):\n",
    "        lst_nom.append(df_nom[df_nom['Child'] == int])\n",
    "        lst_com.append(df_com[df_com['Child'] == int])\n",
    "\n",
    "df_nom2 = pd.concat(lst_nom)\n",
    "df_com2 = pd.concat(lst_com)\n",
    "\n",
    "# Numbers of participants per class\n",
    "df_com_child_class = df_com2.groupby('Class')['Child'].nunique().reset_index(name=\"NumChildren\")\n",
    "df_nom_child_class = df_nom2.groupby('Class')['Child'].nunique().reset_index(name=\"NumChildren\")\n",
    "\n",
    "# Select classes >15 participants\n",
    "selected_classes = df_com_child_class[df_com_child_class['NumChildren'] > 14]['Class']\n",
    "#df_nom_child_class[df_nom_child_class['NumChildren'] > 14]\n",
    "\n",
    "df_nom3 = df_nom2[df_nom2.Class.isin(selected_classes)]\n",
    "df_com3 = df_com2[df_com2.Class.isin(selected_classes)]\n",
    "\n",
    "selection_participants = df_nom3['Child'].unique()\n",
    "\n",
    "# to dictionary\n",
    "data = { 'participants' : np.ndarray.tolist(selection_participants)}\n",
    "\n",
    "# save as json in input folder\n",
    "with open('../input/participants.json', 'w') as outfile:\n",
    "    json.dump(data, outfile)\n"
   ],
   "metadata": {
    "collapsed": false,
    "pycharm": {
     "name": "#%%\n"
    }
   }
  },
  {
   "cell_type": "code",
   "execution_count": null,
   "outputs": [],
   "source": [],
   "metadata": {
    "collapsed": false,
    "pycharm": {
     "name": "#%%\n"
    }
   }
  }
 ],
 "metadata": {
  "kernelspec": {
   "display_name": "Python 3",
   "language": "python",
   "name": "python3"
  },
  "language_info": {
   "codemirror_mode": {
    "name": "ipython",
    "version": 2
   },
   "file_extension": ".py",
   "mimetype": "text/x-python",
   "name": "python",
   "nbconvert_exporter": "python",
   "pygments_lexer": "ipython2",
   "version": "2.7.6"
  }
 },
 "nbformat": 4,
 "nbformat_minor": 0
}