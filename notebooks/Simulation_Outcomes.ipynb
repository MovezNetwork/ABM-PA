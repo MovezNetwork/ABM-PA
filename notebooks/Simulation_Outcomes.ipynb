{
 "cells": [
  {
   "cell_type": "code",
   "execution_count": 26,
   "id": "81d1d256-1591-4a10-bff0-236e93948001",
   "metadata": {},
   "outputs": [
    {
     "name": "stdout",
     "output_type": "stream",
     "text": [
      "The autoreload extension is already loaded. To reload it, use:\n",
      "  %reload_ext autoreload\n"
     ]
    }
   ],
   "source": [
    "# import libraries \n",
    "import json\n",
    "import networkx as nx\n",
    "import numpy as np\n",
    "import os\n",
    "import pandas as pd\n",
    "import re\n",
    "import random\n",
    "import matplotlib.pyplot as plt\n",
    "from networkx.algorithms import approximation as app\n",
    "from scipy.stats import pearsonr\n",
    "import seaborn as sns\n",
    "import pylab\n",
    "from scipy.stats import mannwhitneyu\n",
    "import datetime\n",
    "from sklearn.metrics import mean_absolute_error\n",
    "from math import sqrt\n",
    "import statsmodels.api as sm\n",
    "from itertools import chain\n",
    "import sys\n",
    "import inspect\n",
    "import time\n",
    "# access parent directory from notebooks directory\n",
    "currentdir = os.path.dirname(os.path.abspath(inspect.getfile(inspect.currentframe())))\n",
    "parentdir = os.path.dirname(currentdir)\n",
    "sys.path.insert(0, parentdir) \n",
    "\n",
    "import newsrc.population as p\n",
    "import newsrc.model as m\n",
    "import newsrc.simulation as s\n",
    "\n",
    "\n",
    "%load_ext autoreload\n",
    "%autoreload 2\n",
    "%matplotlib inline\n",
    "%reload_ext autoreload"
   ]
  },
  {
   "cell_type": "code",
   "execution_count": 40,
   "id": "7681512a-1a8f-462d-9452-e7b8891b27d6",
   "metadata": {},
   "outputs": [],
   "source": [
    "try:\n",
    "    input_args = json.loads(open('../input/simulation.json').read())\n",
    "except Exception as ex:\n",
    "    print('simulation.json does not exist!')\n",
    "    print(ex)"
   ]
  },
  {
   "cell_type": "code",
   "execution_count": 89,
   "id": "746c8ea1-a609-41fe-97b4-6827cfa32fef",
   "metadata": {},
   "outputs": [
    {
     "name": "stderr",
     "output_type": "stream",
     "text": [
      "/Users/bojansimoski/dev/eur/ABM-PA/newsrc/simulation.py:28: DtypeWarning: Columns (319,321,323,377,434,436,439,441,444,446,449,451,454,456,459,461,464,466,469,471,474,476,479,481,484,486,489,491) have mixed types.Specify dtype option on import or set low_memory=False.\n",
      "  self.PeerNominatedDataPopulation = p.PeerNominatedDataPopulation('Peer-Nominated data population', self.input_args)\n",
      "<ipython-input-89-a3380912ab34>:1: DtypeWarning: Columns (22) have mixed types.Specify dtype option on import or set low_memory=False.\n",
      "  simulation =  s.Simulation()\n",
      "/Users/bojansimoski/dev/eur/ABM-PA/newsrc/simulation.py:29: DtypeWarning: Columns (319,321,323,377,434,436,439,441,444,446,449,451,454,456,459,461,464,466,469,471,474,476,479,481,484,486,489,491) have mixed types.Specify dtype option on import or set low_memory=False.\n",
      "  self.CommunicationDataPopulation = p.CommunicationDataPopulation('Communication data population', self.input_args)\n"
     ]
    }
   ],
   "source": [
    "simulation =  s.Simulation()"
   ]
  },
  {
   "cell_type": "code",
   "execution_count": 239,
   "id": "608ea65d-e602-4781-afe8-896727d0fb78",
   "metadata": {},
   "outputs": [],
   "source": [
    "results_comm, results_avg_comm, agents_per_intervention_comm = simulation.simulate_interventions(365,'communication')"
   ]
  },
  {
   "cell_type": "code",
   "execution_count": 240,
   "id": "64ef381f-41c0-4d5e-a80d-e91fa06456cd",
   "metadata": {},
   "outputs": [],
   "source": [
    "results_nomm, results_avg_nomm, agents_per_intervention_nomm = simulation.simulate_interventions(365,'peer')"
   ]
  },
  {
   "cell_type": "code",
   "execution_count": 241,
   "id": "6a522c86-51e9-4f2e-9829-2d3e891b65f8",
   "metadata": {},
   "outputs": [
    {
     "name": "stderr",
     "output_type": "stream",
     "text": [
      "/Users/bojansimoski/anaconda3/envs/ABM-PA/lib/python3.9/site-packages/IPython/core/interactiveshell.py:3437: FutureWarning:\n",
      "\n",
      "As the xlwt package is no longer maintained, the xlwt engine will be removed in a future version of pandas. This is the only engine in pandas that supports writing in the xls format. Install openpyxl and write to an xlsx file instead. You can set the option io.excel.xls.writer to 'xlwt' to silence this warning. While this option is deprecated and will also raise a warning, it can be globally set and the warning suppressed.\n",
      "\n"
     ]
    },
    {
     "data": {
      "text/html": [
       "<div>\n",
       "<style scoped>\n",
       "    .dataframe tbody tr th:only-of-type {\n",
       "        vertical-align: middle;\n",
       "    }\n",
       "\n",
       "    .dataframe tbody tr th {\n",
       "        vertical-align: top;\n",
       "    }\n",
       "\n",
       "    .dataframe thead th {\n",
       "        text-align: right;\n",
       "    }\n",
       "</style>\n",
       "<table border=\"1\" class=\"dataframe\">\n",
       "  <thead>\n",
       "    <tr style=\"text-align: right;\">\n",
       "      <th></th>\n",
       "      <th>SchoolClass</th>\n",
       "      <th>Intervention</th>\n",
       "      <th>SuccessRate</th>\n",
       "      <th>StartIntervention</th>\n",
       "      <th>EndIntervention</th>\n",
       "    </tr>\n",
       "  </thead>\n",
       "  <tbody>\n",
       "    <tr>\n",
       "      <th>0</th>\n",
       "      <td>78.0</td>\n",
       "      <td>nointervention</td>\n",
       "      <td>4.91</td>\n",
       "      <td>1.331345</td>\n",
       "      <td>1.396758</td>\n",
       "    </tr>\n",
       "    <tr>\n",
       "      <th>1</th>\n",
       "      <td>78.0</td>\n",
       "      <td>outdegree</td>\n",
       "      <td>4.26</td>\n",
       "      <td>1.362908</td>\n",
       "      <td>1.420981</td>\n",
       "    </tr>\n",
       "    <tr>\n",
       "      <th>2</th>\n",
       "      <td>78.0</td>\n",
       "      <td>indegree</td>\n",
       "      <td>4.76</td>\n",
       "      <td>1.370481</td>\n",
       "      <td>1.435679</td>\n",
       "    </tr>\n",
       "    <tr>\n",
       "      <th>3</th>\n",
       "      <td>78.0</td>\n",
       "      <td>closeness</td>\n",
       "      <td>4.76</td>\n",
       "      <td>1.370481</td>\n",
       "      <td>1.435679</td>\n",
       "    </tr>\n",
       "    <tr>\n",
       "      <th>4</th>\n",
       "      <td>78.0</td>\n",
       "      <td>betweenness</td>\n",
       "      <td>4.59</td>\n",
       "      <td>1.368358</td>\n",
       "      <td>1.431194</td>\n",
       "    </tr>\n",
       "    <tr>\n",
       "      <th>...</th>\n",
       "      <td>...</td>\n",
       "      <td>...</td>\n",
       "      <td>...</td>\n",
       "      <td>...</td>\n",
       "      <td>...</td>\n",
       "    </tr>\n",
       "    <tr>\n",
       "      <th>100</th>\n",
       "      <td>303.0</td>\n",
       "      <td>nointervention</td>\n",
       "      <td>17.54</td>\n",
       "      <td>1.553262</td>\n",
       "      <td>1.825781</td>\n",
       "    </tr>\n",
       "    <tr>\n",
       "      <th>101</th>\n",
       "      <td>303.0</td>\n",
       "      <td>outdegree</td>\n",
       "      <td>16.38</td>\n",
       "      <td>1.590690</td>\n",
       "      <td>1.851287</td>\n",
       "    </tr>\n",
       "    <tr>\n",
       "      <th>102</th>\n",
       "      <td>303.0</td>\n",
       "      <td>indegree</td>\n",
       "      <td>16.26</td>\n",
       "      <td>1.595105</td>\n",
       "      <td>1.854461</td>\n",
       "    </tr>\n",
       "    <tr>\n",
       "      <th>103</th>\n",
       "      <td>303.0</td>\n",
       "      <td>closeness</td>\n",
       "      <td>16.26</td>\n",
       "      <td>1.595105</td>\n",
       "      <td>1.854461</td>\n",
       "    </tr>\n",
       "    <tr>\n",
       "      <th>104</th>\n",
       "      <td>303.0</td>\n",
       "      <td>betweenness</td>\n",
       "      <td>16.37</td>\n",
       "      <td>1.591526</td>\n",
       "      <td>1.852097</td>\n",
       "    </tr>\n",
       "  </tbody>\n",
       "</table>\n",
       "<p>105 rows × 5 columns</p>\n",
       "</div>"
      ],
      "text/plain": [
       "    SchoolClass    Intervention  SuccessRate  StartIntervention  \\\n",
       "0          78.0  nointervention         4.91           1.331345   \n",
       "1          78.0       outdegree         4.26           1.362908   \n",
       "2          78.0        indegree         4.76           1.370481   \n",
       "3          78.0       closeness         4.76           1.370481   \n",
       "4          78.0     betweenness         4.59           1.368358   \n",
       "..          ...             ...          ...                ...   \n",
       "100       303.0  nointervention        17.54           1.553262   \n",
       "101       303.0       outdegree        16.38           1.590690   \n",
       "102       303.0        indegree        16.26           1.595105   \n",
       "103       303.0       closeness        16.26           1.595105   \n",
       "104       303.0     betweenness        16.37           1.591526   \n",
       "\n",
       "     EndIntervention  \n",
       "0           1.396758  \n",
       "1           1.420981  \n",
       "2           1.435679  \n",
       "3           1.435679  \n",
       "4           1.431194  \n",
       "..               ...  \n",
       "100         1.825781  \n",
       "101         1.851287  \n",
       "102         1.854461  \n",
       "103         1.854461  \n",
       "104         1.852097  \n",
       "\n",
       "[105 rows x 5 columns]"
      ]
     },
     "metadata": {},
     "output_type": "display_data"
    },
    {
     "data": {
      "text/html": [
       "<div>\n",
       "<style scoped>\n",
       "    .dataframe tbody tr th:only-of-type {\n",
       "        vertical-align: middle;\n",
       "    }\n",
       "\n",
       "    .dataframe tbody tr th {\n",
       "        vertical-align: top;\n",
       "    }\n",
       "\n",
       "    .dataframe thead th {\n",
       "        text-align: right;\n",
       "    }\n",
       "</style>\n",
       "<table border=\"1\" class=\"dataframe\">\n",
       "  <thead>\n",
       "    <tr style=\"text-align: right;\">\n",
       "      <th></th>\n",
       "      <th>SchoolClass</th>\n",
       "      <th>Intervention</th>\n",
       "      <th>SuccessRate</th>\n",
       "      <th>StartIntervention</th>\n",
       "      <th>EndIntervention</th>\n",
       "    </tr>\n",
       "  </thead>\n",
       "  <tbody>\n",
       "    <tr>\n",
       "      <th>0</th>\n",
       "      <td>78.0</td>\n",
       "      <td>nointervention</td>\n",
       "      <td>-1.27</td>\n",
       "      <td>1.298317</td>\n",
       "      <td>1.281816</td>\n",
       "    </tr>\n",
       "    <tr>\n",
       "      <th>1</th>\n",
       "      <td>78.0</td>\n",
       "      <td>outdegree</td>\n",
       "      <td>1.07</td>\n",
       "      <td>1.336777</td>\n",
       "      <td>1.351037</td>\n",
       "    </tr>\n",
       "    <tr>\n",
       "      <th>2</th>\n",
       "      <td>78.0</td>\n",
       "      <td>indegree</td>\n",
       "      <td>1.74</td>\n",
       "      <td>1.340426</td>\n",
       "      <td>1.363792</td>\n",
       "    </tr>\n",
       "    <tr>\n",
       "      <th>3</th>\n",
       "      <td>78.0</td>\n",
       "      <td>closeness</td>\n",
       "      <td>0.00</td>\n",
       "      <td>1.337507</td>\n",
       "      <td>1.337513</td>\n",
       "    </tr>\n",
       "    <tr>\n",
       "      <th>4</th>\n",
       "      <td>78.0</td>\n",
       "      <td>betweenness</td>\n",
       "      <td>0.00</td>\n",
       "      <td>1.337507</td>\n",
       "      <td>1.337513</td>\n",
       "    </tr>\n",
       "    <tr>\n",
       "      <th>...</th>\n",
       "      <td>...</td>\n",
       "      <td>...</td>\n",
       "      <td>...</td>\n",
       "      <td>...</td>\n",
       "      <td>...</td>\n",
       "    </tr>\n",
       "    <tr>\n",
       "      <th>100</th>\n",
       "      <td>303.0</td>\n",
       "      <td>nointervention</td>\n",
       "      <td>1.67</td>\n",
       "      <td>1.553262</td>\n",
       "      <td>1.579220</td>\n",
       "    </tr>\n",
       "    <tr>\n",
       "      <th>101</th>\n",
       "      <td>303.0</td>\n",
       "      <td>outdegree</td>\n",
       "      <td>4.57</td>\n",
       "      <td>1.593926</td>\n",
       "      <td>1.666812</td>\n",
       "    </tr>\n",
       "    <tr>\n",
       "      <th>102</th>\n",
       "      <td>303.0</td>\n",
       "      <td>indegree</td>\n",
       "      <td>8.41</td>\n",
       "      <td>1.590690</td>\n",
       "      <td>1.724397</td>\n",
       "    </tr>\n",
       "    <tr>\n",
       "      <th>103</th>\n",
       "      <td>303.0</td>\n",
       "      <td>closeness</td>\n",
       "      <td>8.41</td>\n",
       "      <td>1.590690</td>\n",
       "      <td>1.724397</td>\n",
       "    </tr>\n",
       "    <tr>\n",
       "      <th>104</th>\n",
       "      <td>303.0</td>\n",
       "      <td>betweenness</td>\n",
       "      <td>4.57</td>\n",
       "      <td>1.593926</td>\n",
       "      <td>1.666812</td>\n",
       "    </tr>\n",
       "  </tbody>\n",
       "</table>\n",
       "<p>105 rows × 5 columns</p>\n",
       "</div>"
      ],
      "text/plain": [
       "    SchoolClass    Intervention  SuccessRate  StartIntervention  \\\n",
       "0          78.0  nointervention        -1.27           1.298317   \n",
       "1          78.0       outdegree         1.07           1.336777   \n",
       "2          78.0        indegree         1.74           1.340426   \n",
       "3          78.0       closeness         0.00           1.337507   \n",
       "4          78.0     betweenness         0.00           1.337507   \n",
       "..          ...             ...          ...                ...   \n",
       "100       303.0  nointervention         1.67           1.553262   \n",
       "101       303.0       outdegree         4.57           1.593926   \n",
       "102       303.0        indegree         8.41           1.590690   \n",
       "103       303.0       closeness         8.41           1.590690   \n",
       "104       303.0     betweenness         4.57           1.593926   \n",
       "\n",
       "     EndIntervention  \n",
       "0           1.281816  \n",
       "1           1.351037  \n",
       "2           1.363792  \n",
       "3           1.337513  \n",
       "4           1.337513  \n",
       "..               ...  \n",
       "100         1.579220  \n",
       "101         1.666812  \n",
       "102         1.724397  \n",
       "103         1.724397  \n",
       "104         1.666812  \n",
       "\n",
       "[105 rows x 5 columns]"
      ]
     },
     "metadata": {},
     "output_type": "display_data"
    }
   ],
   "source": [
    "success_rates_comm = simulation.getSuccessRates(results_avg_comm)\n",
    "success_rates_nomm = simulation.getSuccessRates(results_avg_nomm)\n",
    "display(success_rates_nomm,success_rates_comm)"
   ]
  },
  {
   "cell_type": "code",
   "execution_count": 242,
   "id": "5f86b99c-3619-4ce9-b65f-1833f0c77d06",
   "metadata": {},
   "outputs": [
    {
     "data": {
      "text/plain": [
       "Intervention\n",
       "betweenness       16.271905\n",
       "closeness         17.702857\n",
       "indegree          17.499524\n",
       "nointervention    15.549524\n",
       "outdegree         15.137143\n",
       "Name: SuccessRate, dtype: float64"
      ]
     },
     "metadata": {},
     "output_type": "display_data"
    },
    {
     "data": {
      "text/plain": [
       "Intervention\n",
       "betweenness       15.847619\n",
       "closeness         16.802381\n",
       "indegree          15.906190\n",
       "nointervention    14.872381\n",
       "outdegree         16.139524\n",
       "Name: SuccessRate, dtype: float64"
      ]
     },
     "metadata": {},
     "output_type": "display_data"
    }
   ],
   "source": [
    "display(success_rates_nomm.groupby(['Intervention'])['SuccessRate'].mean(),success_rates_comm.groupby(['Intervention'])['SuccessRate'].mean())"
   ]
  },
  {
   "cell_type": "code",
   "execution_count": 243,
   "id": "f52d5375-0880-4333-9e13-5fe88925623f",
   "metadata": {},
   "outputs": [
    {
     "data": {
      "text/html": [
       "<div>\n",
       "<style scoped>\n",
       "    .dataframe tbody tr th:only-of-type {\n",
       "        vertical-align: middle;\n",
       "    }\n",
       "\n",
       "    .dataframe tbody tr th {\n",
       "        vertical-align: top;\n",
       "    }\n",
       "\n",
       "    .dataframe thead th {\n",
       "        text-align: right;\n",
       "    }\n",
       "</style>\n",
       "<table border=\"1\" class=\"dataframe\">\n",
       "  <thead>\n",
       "    <tr style=\"text-align: right;\">\n",
       "      <th></th>\n",
       "      <th>SchoolClass</th>\n",
       "      <th>SuccessRate</th>\n",
       "    </tr>\n",
       "  </thead>\n",
       "  <tbody>\n",
       "    <tr>\n",
       "      <th>0</th>\n",
       "      <td>100.0</td>\n",
       "      <td>11.6550</td>\n",
       "    </tr>\n",
       "    <tr>\n",
       "      <th>1</th>\n",
       "      <td>124.0</td>\n",
       "      <td>15.5750</td>\n",
       "    </tr>\n",
       "    <tr>\n",
       "      <th>2</th>\n",
       "      <td>125.0</td>\n",
       "      <td>9.3375</td>\n",
       "    </tr>\n",
       "    <tr>\n",
       "      <th>3</th>\n",
       "      <td>256.0</td>\n",
       "      <td>59.3000</td>\n",
       "    </tr>\n",
       "    <tr>\n",
       "      <th>4</th>\n",
       "      <td>258.0</td>\n",
       "      <td>16.6775</td>\n",
       "    </tr>\n",
       "    <tr>\n",
       "      <th>5</th>\n",
       "      <td>261.0</td>\n",
       "      <td>9.8350</td>\n",
       "    </tr>\n",
       "    <tr>\n",
       "      <th>6</th>\n",
       "      <td>262.0</td>\n",
       "      <td>28.3100</td>\n",
       "    </tr>\n",
       "    <tr>\n",
       "      <th>7</th>\n",
       "      <td>263.0</td>\n",
       "      <td>12.5975</td>\n",
       "    </tr>\n",
       "    <tr>\n",
       "      <th>8</th>\n",
       "      <td>272.0</td>\n",
       "      <td>16.1375</td>\n",
       "    </tr>\n",
       "    <tr>\n",
       "      <th>9</th>\n",
       "      <td>273.0</td>\n",
       "      <td>19.3750</td>\n",
       "    </tr>\n",
       "    <tr>\n",
       "      <th>10</th>\n",
       "      <td>292.0</td>\n",
       "      <td>6.9775</td>\n",
       "    </tr>\n",
       "    <tr>\n",
       "      <th>11</th>\n",
       "      <td>296.0</td>\n",
       "      <td>17.1850</td>\n",
       "    </tr>\n",
       "    <tr>\n",
       "      <th>12</th>\n",
       "      <td>297.0</td>\n",
       "      <td>19.3900</td>\n",
       "    </tr>\n",
       "    <tr>\n",
       "      <th>13</th>\n",
       "      <td>298.0</td>\n",
       "      <td>17.7500</td>\n",
       "    </tr>\n",
       "    <tr>\n",
       "      <th>14</th>\n",
       "      <td>299.0</td>\n",
       "      <td>21.7500</td>\n",
       "    </tr>\n",
       "    <tr>\n",
       "      <th>15</th>\n",
       "      <td>300.0</td>\n",
       "      <td>13.1925</td>\n",
       "    </tr>\n",
       "    <tr>\n",
       "      <th>16</th>\n",
       "      <td>301.0</td>\n",
       "      <td>6.1225</td>\n",
       "    </tr>\n",
       "    <tr>\n",
       "      <th>17</th>\n",
       "      <td>302.0</td>\n",
       "      <td>7.0425</td>\n",
       "    </tr>\n",
       "    <tr>\n",
       "      <th>18</th>\n",
       "      <td>303.0</td>\n",
       "      <td>16.3175</td>\n",
       "    </tr>\n",
       "    <tr>\n",
       "      <th>19</th>\n",
       "      <td>78.0</td>\n",
       "      <td>4.5925</td>\n",
       "    </tr>\n",
       "    <tr>\n",
       "      <th>20</th>\n",
       "      <td>81.0</td>\n",
       "      <td>20.5900</td>\n",
       "    </tr>\n",
       "  </tbody>\n",
       "</table>\n",
       "</div>"
      ],
      "text/plain": [
       "   SchoolClass  SuccessRate\n",
       "0        100.0      11.6550\n",
       "1        124.0      15.5750\n",
       "2        125.0       9.3375\n",
       "3        256.0      59.3000\n",
       "4        258.0      16.6775\n",
       "5        261.0       9.8350\n",
       "6        262.0      28.3100\n",
       "7        263.0      12.5975\n",
       "8        272.0      16.1375\n",
       "9        273.0      19.3750\n",
       "10       292.0       6.9775\n",
       "11       296.0      17.1850\n",
       "12       297.0      19.3900\n",
       "13       298.0      17.7500\n",
       "14       299.0      21.7500\n",
       "15       300.0      13.1925\n",
       "16       301.0       6.1225\n",
       "17       302.0       7.0425\n",
       "18       303.0      16.3175\n",
       "19        78.0       4.5925\n",
       "20        81.0      20.5900"
      ]
     },
     "metadata": {},
     "output_type": "display_data"
    },
    {
     "data": {
      "text/html": [
       "<div>\n",
       "<style scoped>\n",
       "    .dataframe tbody tr th:only-of-type {\n",
       "        vertical-align: middle;\n",
       "    }\n",
       "\n",
       "    .dataframe tbody tr th {\n",
       "        vertical-align: top;\n",
       "    }\n",
       "\n",
       "    .dataframe thead th {\n",
       "        text-align: right;\n",
       "    }\n",
       "</style>\n",
       "<table border=\"1\" class=\"dataframe\">\n",
       "  <thead>\n",
       "    <tr style=\"text-align: right;\">\n",
       "      <th></th>\n",
       "      <th>SchoolClass</th>\n",
       "      <th>SuccessRate</th>\n",
       "    </tr>\n",
       "  </thead>\n",
       "  <tbody>\n",
       "    <tr>\n",
       "      <th>0</th>\n",
       "      <td>100.0</td>\n",
       "      <td>20.0075</td>\n",
       "    </tr>\n",
       "    <tr>\n",
       "      <th>1</th>\n",
       "      <td>124.0</td>\n",
       "      <td>29.8925</td>\n",
       "    </tr>\n",
       "    <tr>\n",
       "      <th>2</th>\n",
       "      <td>125.0</td>\n",
       "      <td>9.3600</td>\n",
       "    </tr>\n",
       "    <tr>\n",
       "      <th>3</th>\n",
       "      <td>256.0</td>\n",
       "      <td>42.7050</td>\n",
       "    </tr>\n",
       "    <tr>\n",
       "      <th>4</th>\n",
       "      <td>258.0</td>\n",
       "      <td>33.5900</td>\n",
       "    </tr>\n",
       "    <tr>\n",
       "      <th>5</th>\n",
       "      <td>261.0</td>\n",
       "      <td>10.3225</td>\n",
       "    </tr>\n",
       "    <tr>\n",
       "      <th>6</th>\n",
       "      <td>262.0</td>\n",
       "      <td>18.0050</td>\n",
       "    </tr>\n",
       "    <tr>\n",
       "      <th>7</th>\n",
       "      <td>263.0</td>\n",
       "      <td>11.2400</td>\n",
       "    </tr>\n",
       "    <tr>\n",
       "      <th>8</th>\n",
       "      <td>272.0</td>\n",
       "      <td>22.3250</td>\n",
       "    </tr>\n",
       "    <tr>\n",
       "      <th>9</th>\n",
       "      <td>273.0</td>\n",
       "      <td>16.2050</td>\n",
       "    </tr>\n",
       "    <tr>\n",
       "      <th>10</th>\n",
       "      <td>292.0</td>\n",
       "      <td>-0.5200</td>\n",
       "    </tr>\n",
       "    <tr>\n",
       "      <th>11</th>\n",
       "      <td>296.0</td>\n",
       "      <td>41.6350</td>\n",
       "    </tr>\n",
       "    <tr>\n",
       "      <th>12</th>\n",
       "      <td>297.0</td>\n",
       "      <td>14.2950</td>\n",
       "    </tr>\n",
       "    <tr>\n",
       "      <th>13</th>\n",
       "      <td>298.0</td>\n",
       "      <td>17.1850</td>\n",
       "    </tr>\n",
       "    <tr>\n",
       "      <th>14</th>\n",
       "      <td>299.0</td>\n",
       "      <td>21.3825</td>\n",
       "    </tr>\n",
       "    <tr>\n",
       "      <th>15</th>\n",
       "      <td>300.0</td>\n",
       "      <td>12.9550</td>\n",
       "    </tr>\n",
       "    <tr>\n",
       "      <th>16</th>\n",
       "      <td>301.0</td>\n",
       "      <td>-8.8725</td>\n",
       "    </tr>\n",
       "    <tr>\n",
       "      <th>17</th>\n",
       "      <td>302.0</td>\n",
       "      <td>2.5400</td>\n",
       "    </tr>\n",
       "    <tr>\n",
       "      <th>18</th>\n",
       "      <td>303.0</td>\n",
       "      <td>6.4900</td>\n",
       "    </tr>\n",
       "    <tr>\n",
       "      <th>19</th>\n",
       "      <td>78.0</td>\n",
       "      <td>0.7025</td>\n",
       "    </tr>\n",
       "    <tr>\n",
       "      <th>20</th>\n",
       "      <td>81.0</td>\n",
       "      <td>18.2075</td>\n",
       "    </tr>\n",
       "  </tbody>\n",
       "</table>\n",
       "</div>"
      ],
      "text/plain": [
       "   SchoolClass  SuccessRate\n",
       "0        100.0      20.0075\n",
       "1        124.0      29.8925\n",
       "2        125.0       9.3600\n",
       "3        256.0      42.7050\n",
       "4        258.0      33.5900\n",
       "5        261.0      10.3225\n",
       "6        262.0      18.0050\n",
       "7        263.0      11.2400\n",
       "8        272.0      22.3250\n",
       "9        273.0      16.2050\n",
       "10       292.0      -0.5200\n",
       "11       296.0      41.6350\n",
       "12       297.0      14.2950\n",
       "13       298.0      17.1850\n",
       "14       299.0      21.3825\n",
       "15       300.0      12.9550\n",
       "16       301.0      -8.8725\n",
       "17       302.0       2.5400\n",
       "18       303.0       6.4900\n",
       "19        78.0       0.7025\n",
       "20        81.0      18.2075"
      ]
     },
     "metadata": {},
     "output_type": "display_data"
    }
   ],
   "source": [
    "success_rates_comm = success_rates_comm[success_rates_comm.Intervention.isin(['indegree','betweenness','closeness','outdegree'])]\n",
    "sr_mean_comm = success_rates_comm.groupby(['SchoolClass'])['SuccessRate'].mean().reset_index()\n",
    "\n",
    "success_rates_nomm = success_rates_nomm[success_rates_nomm.Intervention.isin(['indegree','betweenness','closeness','outdegree'])]\n",
    "sr_mean_nomm = success_rates_nomm.groupby(['SchoolClass'])['SuccessRate'].mean().reset_index()\n",
    "\n",
    "display(sr_mean_nomm,sr_mean_comm)"
   ]
  },
  {
   "cell_type": "code",
   "execution_count": 244,
   "id": "20fd69c3-8412-400e-83d7-ff53a2c25e2c",
   "metadata": {},
   "outputs": [
    {
     "data": {
      "image/png": "[encoded data removed]",
      "text/plain": [
       "<Figure size 1080x720 with 1 Axes>"
      ]
     },
     "metadata": {
      "needs_background": "light"
     },
     "output_type": "display_data"
    }
   ],
   "source": [
    "simulation.plot_interventions_averaged(results_avg_nomm)"
   ]
  },
  {
   "cell_type": "code",
   "execution_count": 245,
   "id": "0d22df7f-39c3-4ef3-ac89-6975e68422c8",
   "metadata": {},
   "outputs": [
    {
     "data": {
      "image/png": "[encoded data removed]",
      "text/plain": [
       "<Figure size 1080x720 with 1 Axes>"
      ]
     },
     "metadata": {
      "needs_background": "light"
     },
     "output_type": "display_data"
    }
   ],
   "source": [
    "simulation.plot_interventions_averaged(results_avg_comm)"
   ]
  },
  {
   "cell_type": "code",
   "execution_count": 42,
   "id": "7dd52770-cd0a-46ea-b2e9-38f889932995",
   "metadata": {},
   "outputs": [
    {
     "name": "stderr",
     "output_type": "stream",
     "text": [
      "/Users/bojansimoski/anaconda3/envs/ABM-PA/lib/python3.9/site-packages/networkx/algorithms/assortativity/correlation.py:282: RuntimeWarning: invalid value encountered in double_scalars\n",
      "  return (xy * (M - ab)).sum() / np.sqrt(vara * varb)\n"
     ]
    }
   ],
   "source": [
    "pop_details_nomm, agents_details_nomm = simulation.PeerNominatedDataPopulation.population_network_summary(simulation.PeerNominatedDataPopulation.graph)"
   ]
  },
  {
   "cell_type": "code",
   "execution_count": 45,
   "id": "ae32e5d9-f039-48c9-9b35-6e58978167dd",
   "metadata": {},
   "outputs": [
    {
     "name": "stderr",
     "output_type": "stream",
     "text": [
      "/Users/bojansimoski/anaconda3/envs/ABM-PA/lib/python3.9/site-packages/networkx/algorithms/assortativity/correlation.py:282: RuntimeWarning: invalid value encountered in double_scalars\n",
      "  return (xy * (M - ab)).sum() / np.sqrt(vara * varb)\n",
      "/Users/bojansimoski/anaconda3/envs/ABM-PA/lib/python3.9/site-packages/networkx/algorithms/assortativity/mixing.py:208: RuntimeWarning: invalid value encountered in true_divide\n",
      "  a = a / a.sum()\n"
     ]
    }
   ],
   "source": [
    "pop_details_comm, agents_details_comm = simulation.CommunicationDataPopulation.population_network_summary(simulation.CommunicationDataPopulation.graph)"
   ]
  },
  {
   "cell_type": "markdown",
   "id": "c24d31f5-3026-49b8-8404-c0c163394909",
   "metadata": {},
   "source": [
    "### Outcomes analysis"
   ]
  },
  {
   "cell_type": "code",
   "execution_count": 47,
   "id": "b0b5ddcd-227d-4103-b55a-57f73c2aab7d",
   "metadata": {},
   "outputs": [
    {
     "data": {
      "text/html": [
       "<div>\n",
       "<style scoped>\n",
       "    .dataframe tbody tr th:only-of-type {\n",
       "        vertical-align: middle;\n",
       "    }\n",
       "\n",
       "    .dataframe tbody tr th {\n",
       "        vertical-align: top;\n",
       "    }\n",
       "\n",
       "    .dataframe thead th {\n",
       "        text-align: right;\n",
       "    }\n",
       "</style>\n",
       "<table border=\"1\" class=\"dataframe\">\n",
       "  <thead>\n",
       "    <tr style=\"text-align: right;\">\n",
       "      <th></th>\n",
       "      <th>SchoolClassID</th>\n",
       "      <th>NumberOfAgents</th>\n",
       "      <th>PercentageFemale</th>\n",
       "      <th>NumberConnections</th>\n",
       "      <th>Density</th>\n",
       "      <th>IsolatedNodes</th>\n",
       "      <th>CentralizationInDegree</th>\n",
       "      <th>CentralizationOutDegree</th>\n",
       "      <th>CentralizationCloseness</th>\n",
       "      <th>CentralizationBetweenness</th>\n",
       "      <th>DegreeAssortativity</th>\n",
       "      <th>AverageEnvironmentScore</th>\n",
       "      <th>AverageBMIScore</th>\n",
       "    </tr>\n",
       "  </thead>\n",
       "  <tbody>\n",
       "    <tr>\n",
       "      <th>0</th>\n",
       "      <td>78.0</td>\n",
       "      <td>17</td>\n",
       "      <td>58</td>\n",
       "      <td>42</td>\n",
       "      <td>0.15</td>\n",
       "      <td>1</td>\n",
       "      <td>0.67</td>\n",
       "      <td>0.67</td>\n",
       "      <td>-0.29</td>\n",
       "      <td>-0.42</td>\n",
       "      <td>0.16</td>\n",
       "      <td>0.56</td>\n",
       "      <td>-1.0</td>\n",
       "    </tr>\n",
       "    <tr>\n",
       "      <th>1</th>\n",
       "      <td>81.0</td>\n",
       "      <td>19</td>\n",
       "      <td>52</td>\n",
       "      <td>71</td>\n",
       "      <td>0.21</td>\n",
       "      <td>0</td>\n",
       "      <td>0.57</td>\n",
       "      <td>0.89</td>\n",
       "      <td>-0.27</td>\n",
       "      <td>-0.69</td>\n",
       "      <td>-0.33</td>\n",
       "      <td>0.48</td>\n",
       "      <td>-1.0</td>\n",
       "    </tr>\n",
       "    <tr>\n",
       "      <th>2</th>\n",
       "      <td>100.0</td>\n",
       "      <td>19</td>\n",
       "      <td>36</td>\n",
       "      <td>92</td>\n",
       "      <td>0.27</td>\n",
       "      <td>0</td>\n",
       "      <td>0.55</td>\n",
       "      <td>0.60</td>\n",
       "      <td>-0.23</td>\n",
       "      <td>-0.35</td>\n",
       "      <td>-0.09</td>\n",
       "      <td>0.56</td>\n",
       "      <td>-1.0</td>\n",
       "    </tr>\n",
       "    <tr>\n",
       "      <th>3</th>\n",
       "      <td>124.0</td>\n",
       "      <td>17</td>\n",
       "      <td>64</td>\n",
       "      <td>76</td>\n",
       "      <td>0.28</td>\n",
       "      <td>0</td>\n",
       "      <td>0.60</td>\n",
       "      <td>0.80</td>\n",
       "      <td>-0.53</td>\n",
       "      <td>-1.31</td>\n",
       "      <td>-0.02</td>\n",
       "      <td>0.53</td>\n",
       "      <td>-1.0</td>\n",
       "    </tr>\n",
       "    <tr>\n",
       "      <th>4</th>\n",
       "      <td>125.0</td>\n",
       "      <td>16</td>\n",
       "      <td>56</td>\n",
       "      <td>73</td>\n",
       "      <td>0.30</td>\n",
       "      <td>0</td>\n",
       "      <td>0.52</td>\n",
       "      <td>0.80</td>\n",
       "      <td>-0.36</td>\n",
       "      <td>-0.64</td>\n",
       "      <td>-0.06</td>\n",
       "      <td>0.50</td>\n",
       "      <td>-1.0</td>\n",
       "    </tr>\n",
       "    <tr>\n",
       "      <th>5</th>\n",
       "      <td>256.0</td>\n",
       "      <td>21</td>\n",
       "      <td>57</td>\n",
       "      <td>65</td>\n",
       "      <td>0.15</td>\n",
       "      <td>0</td>\n",
       "      <td>0.50</td>\n",
       "      <td>0.61</td>\n",
       "      <td>-0.18</td>\n",
       "      <td>-0.77</td>\n",
       "      <td>-0.01</td>\n",
       "      <td>0.37</td>\n",
       "      <td>-1.0</td>\n",
       "    </tr>\n",
       "    <tr>\n",
       "      <th>6</th>\n",
       "      <td>258.0</td>\n",
       "      <td>16</td>\n",
       "      <td>62</td>\n",
       "      <td>33</td>\n",
       "      <td>0.14</td>\n",
       "      <td>1</td>\n",
       "      <td>0.88</td>\n",
       "      <td>0.88</td>\n",
       "      <td>-0.54</td>\n",
       "      <td>-0.39</td>\n",
       "      <td>-0.24</td>\n",
       "      <td>0.32</td>\n",
       "      <td>-1.0</td>\n",
       "    </tr>\n",
       "    <tr>\n",
       "      <th>7</th>\n",
       "      <td>261.0</td>\n",
       "      <td>17</td>\n",
       "      <td>35</td>\n",
       "      <td>90</td>\n",
       "      <td>0.33</td>\n",
       "      <td>0</td>\n",
       "      <td>0.56</td>\n",
       "      <td>0.76</td>\n",
       "      <td>-0.68</td>\n",
       "      <td>-1.15</td>\n",
       "      <td>-0.15</td>\n",
       "      <td>0.46</td>\n",
       "      <td>-1.0</td>\n",
       "    </tr>\n",
       "    <tr>\n",
       "      <th>8</th>\n",
       "      <td>262.0</td>\n",
       "      <td>15</td>\n",
       "      <td>46</td>\n",
       "      <td>62</td>\n",
       "      <td>0.30</td>\n",
       "      <td>0</td>\n",
       "      <td>0.59</td>\n",
       "      <td>0.81</td>\n",
       "      <td>-0.30</td>\n",
       "      <td>-1.77</td>\n",
       "      <td>-0.14</td>\n",
       "      <td>0.47</td>\n",
       "      <td>-1.0</td>\n",
       "    </tr>\n",
       "    <tr>\n",
       "      <th>9</th>\n",
       "      <td>263.0</td>\n",
       "      <td>20</td>\n",
       "      <td>65</td>\n",
       "      <td>163</td>\n",
       "      <td>0.43</td>\n",
       "      <td>0</td>\n",
       "      <td>0.37</td>\n",
       "      <td>0.63</td>\n",
       "      <td>-0.37</td>\n",
       "      <td>-0.31</td>\n",
       "      <td>NaN</td>\n",
       "      <td>0.39</td>\n",
       "      <td>-1.0</td>\n",
       "    </tr>\n",
       "    <tr>\n",
       "      <th>10</th>\n",
       "      <td>272.0</td>\n",
       "      <td>24</td>\n",
       "      <td>37</td>\n",
       "      <td>283</td>\n",
       "      <td>0.51</td>\n",
       "      <td>0</td>\n",
       "      <td>0.42</td>\n",
       "      <td>0.53</td>\n",
       "      <td>-1.25</td>\n",
       "      <td>-0.16</td>\n",
       "      <td>-0.28</td>\n",
       "      <td>0.56</td>\n",
       "      <td>-1.0</td>\n",
       "    </tr>\n",
       "    <tr>\n",
       "      <th>11</th>\n",
       "      <td>273.0</td>\n",
       "      <td>24</td>\n",
       "      <td>50</td>\n",
       "      <td>253</td>\n",
       "      <td>0.46</td>\n",
       "      <td>0</td>\n",
       "      <td>0.38</td>\n",
       "      <td>0.59</td>\n",
       "      <td>-0.58</td>\n",
       "      <td>-0.17</td>\n",
       "      <td>0.13</td>\n",
       "      <td>0.51</td>\n",
       "      <td>-1.0</td>\n",
       "    </tr>\n",
       "    <tr>\n",
       "      <th>12</th>\n",
       "      <td>292.0</td>\n",
       "      <td>21</td>\n",
       "      <td>76</td>\n",
       "      <td>202</td>\n",
       "      <td>0.48</td>\n",
       "      <td>0</td>\n",
       "      <td>0.35</td>\n",
       "      <td>0.57</td>\n",
       "      <td>-0.58</td>\n",
       "      <td>-0.20</td>\n",
       "      <td>-0.11</td>\n",
       "      <td>0.38</td>\n",
       "      <td>-1.0</td>\n",
       "    </tr>\n",
       "    <tr>\n",
       "      <th>13</th>\n",
       "      <td>296.0</td>\n",
       "      <td>17</td>\n",
       "      <td>70</td>\n",
       "      <td>127</td>\n",
       "      <td>0.47</td>\n",
       "      <td>0</td>\n",
       "      <td>0.38</td>\n",
       "      <td>0.60</td>\n",
       "      <td>-0.48</td>\n",
       "      <td>-0.18</td>\n",
       "      <td>0.08</td>\n",
       "      <td>0.47</td>\n",
       "      <td>-1.0</td>\n",
       "    </tr>\n",
       "    <tr>\n",
       "      <th>14</th>\n",
       "      <td>297.0</td>\n",
       "      <td>16</td>\n",
       "      <td>68</td>\n",
       "      <td>69</td>\n",
       "      <td>0.29</td>\n",
       "      <td>1</td>\n",
       "      <td>0.56</td>\n",
       "      <td>0.67</td>\n",
       "      <td>-0.82</td>\n",
       "      <td>-0.62</td>\n",
       "      <td>0.20</td>\n",
       "      <td>0.48</td>\n",
       "      <td>-1.0</td>\n",
       "    </tr>\n",
       "    <tr>\n",
       "      <th>15</th>\n",
       "      <td>298.0</td>\n",
       "      <td>21</td>\n",
       "      <td>57</td>\n",
       "      <td>341</td>\n",
       "      <td>0.81</td>\n",
       "      <td>0</td>\n",
       "      <td>0.21</td>\n",
       "      <td>0.21</td>\n",
       "      <td>3.16</td>\n",
       "      <td>-0.03</td>\n",
       "      <td>NaN</td>\n",
       "      <td>0.37</td>\n",
       "      <td>-1.0</td>\n",
       "    </tr>\n",
       "    <tr>\n",
       "      <th>16</th>\n",
       "      <td>299.0</td>\n",
       "      <td>19</td>\n",
       "      <td>47</td>\n",
       "      <td>244</td>\n",
       "      <td>0.71</td>\n",
       "      <td>0</td>\n",
       "      <td>0.22</td>\n",
       "      <td>0.32</td>\n",
       "      <td>-1.25</td>\n",
       "      <td>-0.07</td>\n",
       "      <td>-0.07</td>\n",
       "      <td>0.37</td>\n",
       "      <td>-1.0</td>\n",
       "    </tr>\n",
       "    <tr>\n",
       "      <th>17</th>\n",
       "      <td>300.0</td>\n",
       "      <td>19</td>\n",
       "      <td>52</td>\n",
       "      <td>121</td>\n",
       "      <td>0.35</td>\n",
       "      <td>0</td>\n",
       "      <td>0.49</td>\n",
       "      <td>0.72</td>\n",
       "      <td>-0.50</td>\n",
       "      <td>-0.52</td>\n",
       "      <td>0.05</td>\n",
       "      <td>0.57</td>\n",
       "      <td>-1.0</td>\n",
       "    </tr>\n",
       "    <tr>\n",
       "      <th>18</th>\n",
       "      <td>301.0</td>\n",
       "      <td>24</td>\n",
       "      <td>29</td>\n",
       "      <td>336</td>\n",
       "      <td>0.61</td>\n",
       "      <td>0</td>\n",
       "      <td>0.29</td>\n",
       "      <td>0.43</td>\n",
       "      <td>-0.72</td>\n",
       "      <td>-0.10</td>\n",
       "      <td>-0.06</td>\n",
       "      <td>0.79</td>\n",
       "      <td>-1.0</td>\n",
       "    </tr>\n",
       "    <tr>\n",
       "      <th>19</th>\n",
       "      <td>302.0</td>\n",
       "      <td>19</td>\n",
       "      <td>68</td>\n",
       "      <td>159</td>\n",
       "      <td>0.46</td>\n",
       "      <td>0</td>\n",
       "      <td>0.35</td>\n",
       "      <td>0.60</td>\n",
       "      <td>-0.43</td>\n",
       "      <td>-0.24</td>\n",
       "      <td>-0.17</td>\n",
       "      <td>0.64</td>\n",
       "      <td>-1.0</td>\n",
       "    </tr>\n",
       "    <tr>\n",
       "      <th>20</th>\n",
       "      <td>303.0</td>\n",
       "      <td>25</td>\n",
       "      <td>60</td>\n",
       "      <td>220</td>\n",
       "      <td>0.37</td>\n",
       "      <td>0</td>\n",
       "      <td>0.61</td>\n",
       "      <td>0.69</td>\n",
       "      <td>-1.88</td>\n",
       "      <td>-0.34</td>\n",
       "      <td>-0.14</td>\n",
       "      <td>0.40</td>\n",
       "      <td>-1.0</td>\n",
       "    </tr>\n",
       "  </tbody>\n",
       "</table>\n",
       "</div>"
      ],
      "text/plain": [
       "    SchoolClassID  NumberOfAgents  PercentageFemale  NumberConnections  \\\n",
       "0            78.0              17                58                 42   \n",
       "1            81.0              19                52                 71   \n",
       "2           100.0              19                36                 92   \n",
       "3           124.0              17                64                 76   \n",
       "4           125.0              16                56                 73   \n",
       "5           256.0              21                57                 65   \n",
       "6           258.0              16                62                 33   \n",
       "7           261.0              17                35                 90   \n",
       "8           262.0              15                46                 62   \n",
       "9           263.0              20                65                163   \n",
       "10          272.0              24                37                283   \n",
       "11          273.0              24                50                253   \n",
       "12          292.0              21                76                202   \n",
       "13          296.0              17                70                127   \n",
       "14          297.0              16                68                 69   \n",
       "15          298.0              21                57                341   \n",
       "16          299.0              19                47                244   \n",
       "17          300.0              19                52                121   \n",
       "18          301.0              24                29                336   \n",
       "19          302.0              19                68                159   \n",
       "20          303.0              25                60                220   \n",
       "\n",
       "    Density  IsolatedNodes  CentralizationInDegree  CentralizationOutDegree  \\\n",
       "0      0.15              1                    0.67                     0.67   \n",
       "1      0.21              0                    0.57                     0.89   \n",
       "2      0.27              0                    0.55                     0.60   \n",
       "3      0.28              0                    0.60                     0.80   \n",
       "4      0.30              0                    0.52                     0.80   \n",
       "5      0.15              0                    0.50                     0.61   \n",
       "6      0.14              1                    0.88                     0.88   \n",
       "7      0.33              0                    0.56                     0.76   \n",
       "8      0.30              0                    0.59                     0.81   \n",
       "9      0.43              0                    0.37                     0.63   \n",
       "10     0.51              0                    0.42                     0.53   \n",
       "11     0.46              0                    0.38                     0.59   \n",
       "12     0.48              0                    0.35                     0.57   \n",
       "13     0.47              0                    0.38                     0.60   \n",
       "14     0.29              1                    0.56                     0.67   \n",
       "15     0.81              0                    0.21                     0.21   \n",
       "16     0.71              0                    0.22                     0.32   \n",
       "17     0.35              0                    0.49                     0.72   \n",
       "18     0.61              0                    0.29                     0.43   \n",
       "19     0.46              0                    0.35                     0.60   \n",
       "20     0.37              0                    0.61                     0.69   \n",
       "\n",
       "    CentralizationCloseness  CentralizationBetweenness  DegreeAssortativity  \\\n",
       "0                     -0.29                      -0.42                 0.16   \n",
       "1                     -0.27                      -0.69                -0.33   \n",
       "2                     -0.23                      -0.35                -0.09   \n",
       "3                     -0.53                      -1.31                -0.02   \n",
       "4                     -0.36                      -0.64                -0.06   \n",
       "5                     -0.18                      -0.77                -0.01   \n",
       "6                     -0.54                      -0.39                -0.24   \n",
       "7                     -0.68                      -1.15                -0.15   \n",
       "8                     -0.30                      -1.77                -0.14   \n",
       "9                     -0.37                      -0.31                  NaN   \n",
       "10                    -1.25                      -0.16                -0.28   \n",
       "11                    -0.58                      -0.17                 0.13   \n",
       "12                    -0.58                      -0.20                -0.11   \n",
       "13                    -0.48                      -0.18                 0.08   \n",
       "14                    -0.82                      -0.62                 0.20   \n",
       "15                     3.16                      -0.03                  NaN   \n",
       "16                    -1.25                      -0.07                -0.07   \n",
       "17                    -0.50                      -0.52                 0.05   \n",
       "18                    -0.72                      -0.10                -0.06   \n",
       "19                    -0.43                      -0.24                -0.17   \n",
       "20                    -1.88                      -0.34                -0.14   \n",
       "\n",
       "    AverageEnvironmentScore  AverageBMIScore  \n",
       "0                      0.56             -1.0  \n",
       "1                      0.48             -1.0  \n",
       "2                      0.56             -1.0  \n",
       "3                      0.53             -1.0  \n",
       "4                      0.50             -1.0  \n",
       "5                      0.37             -1.0  \n",
       "6                      0.32             -1.0  \n",
       "7                      0.46             -1.0  \n",
       "8                      0.47             -1.0  \n",
       "9                      0.39             -1.0  \n",
       "10                     0.56             -1.0  \n",
       "11                     0.51             -1.0  \n",
       "12                     0.38             -1.0  \n",
       "13                     0.47             -1.0  \n",
       "14                     0.48             -1.0  \n",
       "15                     0.37             -1.0  \n",
       "16                     0.37             -1.0  \n",
       "17                     0.57             -1.0  \n",
       "18                     0.79             -1.0  \n",
       "19                     0.64             -1.0  \n",
       "20                     0.40             -1.0  "
      ]
     },
     "execution_count": 47,
     "metadata": {},
     "output_type": "execute_result"
    }
   ],
   "source": [
    "pop_details_comm"
   ]
  },
  {
   "cell_type": "code",
   "execution_count": 44,
   "id": "91ac452f-b408-4e13-9279-f03c5d4d5ffd",
   "metadata": {},
   "outputs": [
    {
     "data": {
      "text/html": [
       "<div>\n",
       "<style scoped>\n",
       "    .dataframe tbody tr th:only-of-type {\n",
       "        vertical-align: middle;\n",
       "    }\n",
       "\n",
       "    .dataframe tbody tr th {\n",
       "        vertical-align: top;\n",
       "    }\n",
       "\n",
       "    .dataframe thead th {\n",
       "        text-align: right;\n",
       "    }\n",
       "</style>\n",
       "<table border=\"1\" class=\"dataframe\">\n",
       "  <thead>\n",
       "    <tr style=\"text-align: right;\">\n",
       "      <th></th>\n",
       "      <th>SchoolClassID</th>\n",
       "      <th>NumberOfAgents</th>\n",
       "      <th>PercentageFemale</th>\n",
       "      <th>NumberConnections</th>\n",
       "      <th>Density</th>\n",
       "      <th>IsolatedNodes</th>\n",
       "      <th>CentralizationInDegree</th>\n",
       "      <th>CentralizationOutDegree</th>\n",
       "      <th>CentralizationCloseness</th>\n",
       "      <th>CentralizationBetweenness</th>\n",
       "      <th>DegreeAssortativity</th>\n",
       "      <th>AverageEnvironmentScore</th>\n",
       "      <th>AverageBMIScore</th>\n",
       "    </tr>\n",
       "  </thead>\n",
       "  <tbody>\n",
       "    <tr>\n",
       "      <th>0</th>\n",
       "      <td>78.0</td>\n",
       "      <td>18</td>\n",
       "      <td>55</td>\n",
       "      <td>114</td>\n",
       "      <td>0.37</td>\n",
       "      <td>0</td>\n",
       "      <td>0.43</td>\n",
       "      <td>0.68</td>\n",
       "      <td>-0.38</td>\n",
       "      <td>-0.52</td>\n",
       "      <td>-0.55</td>\n",
       "      <td>0.59</td>\n",
       "      <td>-1.0</td>\n",
       "    </tr>\n",
       "    <tr>\n",
       "      <th>1</th>\n",
       "      <td>81.0</td>\n",
       "      <td>19</td>\n",
       "      <td>52</td>\n",
       "      <td>184</td>\n",
       "      <td>0.54</td>\n",
       "      <td>0</td>\n",
       "      <td>0.29</td>\n",
       "      <td>0.52</td>\n",
       "      <td>-0.47</td>\n",
       "      <td>-0.12</td>\n",
       "      <td>0.04</td>\n",
       "      <td>0.48</td>\n",
       "      <td>-1.0</td>\n",
       "    </tr>\n",
       "    <tr>\n",
       "      <th>2</th>\n",
       "      <td>100.0</td>\n",
       "      <td>19</td>\n",
       "      <td>36</td>\n",
       "      <td>171</td>\n",
       "      <td>0.50</td>\n",
       "      <td>0</td>\n",
       "      <td>0.35</td>\n",
       "      <td>0.56</td>\n",
       "      <td>-0.66</td>\n",
       "      <td>-0.27</td>\n",
       "      <td>-0.33</td>\n",
       "      <td>0.56</td>\n",
       "      <td>-1.0</td>\n",
       "    </tr>\n",
       "    <tr>\n",
       "      <th>3</th>\n",
       "      <td>124.0</td>\n",
       "      <td>17</td>\n",
       "      <td>64</td>\n",
       "      <td>181</td>\n",
       "      <td>0.67</td>\n",
       "      <td>0</td>\n",
       "      <td>0.27</td>\n",
       "      <td>0.38</td>\n",
       "      <td>-1.21</td>\n",
       "      <td>-0.12</td>\n",
       "      <td>-0.23</td>\n",
       "      <td>0.53</td>\n",
       "      <td>-1.0</td>\n",
       "    </tr>\n",
       "    <tr>\n",
       "      <th>4</th>\n",
       "      <td>125.0</td>\n",
       "      <td>16</td>\n",
       "      <td>56</td>\n",
       "      <td>132</td>\n",
       "      <td>0.55</td>\n",
       "      <td>0</td>\n",
       "      <td>0.42</td>\n",
       "      <td>0.51</td>\n",
       "      <td>-1.71</td>\n",
       "      <td>-0.21</td>\n",
       "      <td>-0.04</td>\n",
       "      <td>0.50</td>\n",
       "      <td>-1.0</td>\n",
       "    </tr>\n",
       "    <tr>\n",
       "      <th>5</th>\n",
       "      <td>256.0</td>\n",
       "      <td>22</td>\n",
       "      <td>54</td>\n",
       "      <td>154</td>\n",
       "      <td>0.33</td>\n",
       "      <td>0</td>\n",
       "      <td>0.35</td>\n",
       "      <td>0.73</td>\n",
       "      <td>-0.43</td>\n",
       "      <td>-0.28</td>\n",
       "      <td>NaN</td>\n",
       "      <td>0.37</td>\n",
       "      <td>-1.0</td>\n",
       "    </tr>\n",
       "    <tr>\n",
       "      <th>6</th>\n",
       "      <td>258.0</td>\n",
       "      <td>16</td>\n",
       "      <td>62</td>\n",
       "      <td>102</td>\n",
       "      <td>0.42</td>\n",
       "      <td>0</td>\n",
       "      <td>0.49</td>\n",
       "      <td>0.43</td>\n",
       "      <td>-1.83</td>\n",
       "      <td>-0.33</td>\n",
       "      <td>-0.12</td>\n",
       "      <td>0.32</td>\n",
       "      <td>-1.0</td>\n",
       "    </tr>\n",
       "    <tr>\n",
       "      <th>7</th>\n",
       "      <td>261.0</td>\n",
       "      <td>17</td>\n",
       "      <td>35</td>\n",
       "      <td>137</td>\n",
       "      <td>0.50</td>\n",
       "      <td>0</td>\n",
       "      <td>0.38</td>\n",
       "      <td>0.56</td>\n",
       "      <td>-0.74</td>\n",
       "      <td>-0.50</td>\n",
       "      <td>-0.12</td>\n",
       "      <td>0.46</td>\n",
       "      <td>-1.0</td>\n",
       "    </tr>\n",
       "    <tr>\n",
       "      <th>8</th>\n",
       "      <td>262.0</td>\n",
       "      <td>15</td>\n",
       "      <td>46</td>\n",
       "      <td>83</td>\n",
       "      <td>0.40</td>\n",
       "      <td>0</td>\n",
       "      <td>0.67</td>\n",
       "      <td>0.46</td>\n",
       "      <td>-6.18</td>\n",
       "      <td>-0.51</td>\n",
       "      <td>-0.02</td>\n",
       "      <td>0.47</td>\n",
       "      <td>-1.0</td>\n",
       "    </tr>\n",
       "    <tr>\n",
       "      <th>9</th>\n",
       "      <td>263.0</td>\n",
       "      <td>20</td>\n",
       "      <td>65</td>\n",
       "      <td>163</td>\n",
       "      <td>0.43</td>\n",
       "      <td>0</td>\n",
       "      <td>0.43</td>\n",
       "      <td>0.63</td>\n",
       "      <td>-0.54</td>\n",
       "      <td>-0.26</td>\n",
       "      <td>-0.18</td>\n",
       "      <td>0.39</td>\n",
       "      <td>-1.0</td>\n",
       "    </tr>\n",
       "    <tr>\n",
       "      <th>10</th>\n",
       "      <td>272.0</td>\n",
       "      <td>24</td>\n",
       "      <td>37</td>\n",
       "      <td>304</td>\n",
       "      <td>0.55</td>\n",
       "      <td>0</td>\n",
       "      <td>0.28</td>\n",
       "      <td>0.49</td>\n",
       "      <td>-0.51</td>\n",
       "      <td>-0.09</td>\n",
       "      <td>-0.09</td>\n",
       "      <td>0.56</td>\n",
       "      <td>-1.0</td>\n",
       "    </tr>\n",
       "    <tr>\n",
       "      <th>11</th>\n",
       "      <td>273.0</td>\n",
       "      <td>24</td>\n",
       "      <td>50</td>\n",
       "      <td>345</td>\n",
       "      <td>0.62</td>\n",
       "      <td>0</td>\n",
       "      <td>0.35</td>\n",
       "      <td>0.41</td>\n",
       "      <td>-2.44</td>\n",
       "      <td>-0.08</td>\n",
       "      <td>-0.02</td>\n",
       "      <td>0.51</td>\n",
       "      <td>-1.0</td>\n",
       "    </tr>\n",
       "    <tr>\n",
       "      <th>12</th>\n",
       "      <td>292.0</td>\n",
       "      <td>21</td>\n",
       "      <td>76</td>\n",
       "      <td>158</td>\n",
       "      <td>0.38</td>\n",
       "      <td>0</td>\n",
       "      <td>0.36</td>\n",
       "      <td>0.62</td>\n",
       "      <td>-0.35</td>\n",
       "      <td>-0.28</td>\n",
       "      <td>-0.19</td>\n",
       "      <td>0.38</td>\n",
       "      <td>-1.0</td>\n",
       "    </tr>\n",
       "    <tr>\n",
       "      <th>13</th>\n",
       "      <td>296.0</td>\n",
       "      <td>17</td>\n",
       "      <td>70</td>\n",
       "      <td>151</td>\n",
       "      <td>0.56</td>\n",
       "      <td>0</td>\n",
       "      <td>0.42</td>\n",
       "      <td>0.50</td>\n",
       "      <td>-1.79</td>\n",
       "      <td>-0.21</td>\n",
       "      <td>0.00</td>\n",
       "      <td>0.47</td>\n",
       "      <td>-1.0</td>\n",
       "    </tr>\n",
       "    <tr>\n",
       "      <th>14</th>\n",
       "      <td>297.0</td>\n",
       "      <td>16</td>\n",
       "      <td>68</td>\n",
       "      <td>115</td>\n",
       "      <td>0.48</td>\n",
       "      <td>0</td>\n",
       "      <td>0.33</td>\n",
       "      <td>0.60</td>\n",
       "      <td>-0.28</td>\n",
       "      <td>-0.16</td>\n",
       "      <td>-0.23</td>\n",
       "      <td>0.48</td>\n",
       "      <td>-1.0</td>\n",
       "    </tr>\n",
       "    <tr>\n",
       "      <th>15</th>\n",
       "      <td>298.0</td>\n",
       "      <td>21</td>\n",
       "      <td>57</td>\n",
       "      <td>204</td>\n",
       "      <td>0.49</td>\n",
       "      <td>0</td>\n",
       "      <td>0.35</td>\n",
       "      <td>0.48</td>\n",
       "      <td>-0.57</td>\n",
       "      <td>-0.14</td>\n",
       "      <td>0.07</td>\n",
       "      <td>0.37</td>\n",
       "      <td>-1.0</td>\n",
       "    </tr>\n",
       "    <tr>\n",
       "      <th>16</th>\n",
       "      <td>299.0</td>\n",
       "      <td>19</td>\n",
       "      <td>47</td>\n",
       "      <td>203</td>\n",
       "      <td>0.59</td>\n",
       "      <td>0</td>\n",
       "      <td>0.42</td>\n",
       "      <td>0.45</td>\n",
       "      <td>-4.70</td>\n",
       "      <td>-0.19</td>\n",
       "      <td>-0.12</td>\n",
       "      <td>0.37</td>\n",
       "      <td>-1.0</td>\n",
       "    </tr>\n",
       "    <tr>\n",
       "      <th>17</th>\n",
       "      <td>300.0</td>\n",
       "      <td>19</td>\n",
       "      <td>52</td>\n",
       "      <td>172</td>\n",
       "      <td>0.50</td>\n",
       "      <td>0</td>\n",
       "      <td>0.45</td>\n",
       "      <td>0.56</td>\n",
       "      <td>-1.38</td>\n",
       "      <td>-0.30</td>\n",
       "      <td>-0.18</td>\n",
       "      <td>0.57</td>\n",
       "      <td>-1.0</td>\n",
       "    </tr>\n",
       "    <tr>\n",
       "      <th>18</th>\n",
       "      <td>301.0</td>\n",
       "      <td>24</td>\n",
       "      <td>29</td>\n",
       "      <td>216</td>\n",
       "      <td>0.39</td>\n",
       "      <td>0</td>\n",
       "      <td>0.40</td>\n",
       "      <td>0.58</td>\n",
       "      <td>-0.35</td>\n",
       "      <td>-0.17</td>\n",
       "      <td>-0.14</td>\n",
       "      <td>0.79</td>\n",
       "      <td>-1.0</td>\n",
       "    </tr>\n",
       "    <tr>\n",
       "      <th>19</th>\n",
       "      <td>302.0</td>\n",
       "      <td>19</td>\n",
       "      <td>68</td>\n",
       "      <td>178</td>\n",
       "      <td>0.52</td>\n",
       "      <td>0</td>\n",
       "      <td>0.32</td>\n",
       "      <td>0.54</td>\n",
       "      <td>-0.50</td>\n",
       "      <td>-0.17</td>\n",
       "      <td>0.04</td>\n",
       "      <td>0.64</td>\n",
       "      <td>-1.0</td>\n",
       "    </tr>\n",
       "    <tr>\n",
       "      <th>20</th>\n",
       "      <td>303.0</td>\n",
       "      <td>25</td>\n",
       "      <td>60</td>\n",
       "      <td>293</td>\n",
       "      <td>0.49</td>\n",
       "      <td>0</td>\n",
       "      <td>0.34</td>\n",
       "      <td>0.56</td>\n",
       "      <td>-0.51</td>\n",
       "      <td>-0.15</td>\n",
       "      <td>-0.00</td>\n",
       "      <td>0.40</td>\n",
       "      <td>-1.0</td>\n",
       "    </tr>\n",
       "  </tbody>\n",
       "</table>\n",
       "</div>"
      ],
      "text/plain": [
       "    SchoolClassID  NumberOfAgents  PercentageFemale  NumberConnections  \\\n",
       "0            78.0              18                55                114   \n",
       "1            81.0              19                52                184   \n",
       "2           100.0              19                36                171   \n",
       "3           124.0              17                64                181   \n",
       "4           125.0              16                56                132   \n",
       "5           256.0              22                54                154   \n",
       "6           258.0              16                62                102   \n",
       "7           261.0              17                35                137   \n",
       "8           262.0              15                46                 83   \n",
       "9           263.0              20                65                163   \n",
       "10          272.0              24                37                304   \n",
       "11          273.0              24                50                345   \n",
       "12          292.0              21                76                158   \n",
       "13          296.0              17                70                151   \n",
       "14          297.0              16                68                115   \n",
       "15          298.0              21                57                204   \n",
       "16          299.0              19                47                203   \n",
       "17          300.0              19                52                172   \n",
       "18          301.0              24                29                216   \n",
       "19          302.0              19                68                178   \n",
       "20          303.0              25                60                293   \n",
       "\n",
       "    Density  IsolatedNodes  CentralizationInDegree  CentralizationOutDegree  \\\n",
       "0      0.37              0                    0.43                     0.68   \n",
       "1      0.54              0                    0.29                     0.52   \n",
       "2      0.50              0                    0.35                     0.56   \n",
       "3      0.67              0                    0.27                     0.38   \n",
       "4      0.55              0                    0.42                     0.51   \n",
       "5      0.33              0                    0.35                     0.73   \n",
       "6      0.42              0                    0.49                     0.43   \n",
       "7      0.50              0                    0.38                     0.56   \n",
       "8      0.40              0                    0.67                     0.46   \n",
       "9      0.43              0                    0.43                     0.63   \n",
       "10     0.55              0                    0.28                     0.49   \n",
       "11     0.62              0                    0.35                     0.41   \n",
       "12     0.38              0                    0.36                     0.62   \n",
       "13     0.56              0                    0.42                     0.50   \n",
       "14     0.48              0                    0.33                     0.60   \n",
       "15     0.49              0                    0.35                     0.48   \n",
       "16     0.59              0                    0.42                     0.45   \n",
       "17     0.50              0                    0.45                     0.56   \n",
       "18     0.39              0                    0.40                     0.58   \n",
       "19     0.52              0                    0.32                     0.54   \n",
       "20     0.49              0                    0.34                     0.56   \n",
       "\n",
       "    CentralizationCloseness  CentralizationBetweenness  DegreeAssortativity  \\\n",
       "0                     -0.38                      -0.52                -0.55   \n",
       "1                     -0.47                      -0.12                 0.04   \n",
       "2                     -0.66                      -0.27                -0.33   \n",
       "3                     -1.21                      -0.12                -0.23   \n",
       "4                     -1.71                      -0.21                -0.04   \n",
       "5                     -0.43                      -0.28                  NaN   \n",
       "6                     -1.83                      -0.33                -0.12   \n",
       "7                     -0.74                      -0.50                -0.12   \n",
       "8                     -6.18                      -0.51                -0.02   \n",
       "9                     -0.54                      -0.26                -0.18   \n",
       "10                    -0.51                      -0.09                -0.09   \n",
       "11                    -2.44                      -0.08                -0.02   \n",
       "12                    -0.35                      -0.28                -0.19   \n",
       "13                    -1.79                      -0.21                 0.00   \n",
       "14                    -0.28                      -0.16                -0.23   \n",
       "15                    -0.57                      -0.14                 0.07   \n",
       "16                    -4.70                      -0.19                -0.12   \n",
       "17                    -1.38                      -0.30                -0.18   \n",
       "18                    -0.35                      -0.17                -0.14   \n",
       "19                    -0.50                      -0.17                 0.04   \n",
       "20                    -0.51                      -0.15                -0.00   \n",
       "\n",
       "    AverageEnvironmentScore  AverageBMIScore  \n",
       "0                      0.59             -1.0  \n",
       "1                      0.48             -1.0  \n",
       "2                      0.56             -1.0  \n",
       "3                      0.53             -1.0  \n",
       "4                      0.50             -1.0  \n",
       "5                      0.37             -1.0  \n",
       "6                      0.32             -1.0  \n",
       "7                      0.46             -1.0  \n",
       "8                      0.47             -1.0  \n",
       "9                      0.39             -1.0  \n",
       "10                     0.56             -1.0  \n",
       "11                     0.51             -1.0  \n",
       "12                     0.38             -1.0  \n",
       "13                     0.47             -1.0  \n",
       "14                     0.48             -1.0  \n",
       "15                     0.37             -1.0  \n",
       "16                     0.37             -1.0  \n",
       "17                     0.57             -1.0  \n",
       "18                     0.79             -1.0  \n",
       "19                     0.64             -1.0  \n",
       "20                     0.40             -1.0  "
      ]
     },
     "execution_count": 44,
     "metadata": {},
     "output_type": "execute_result"
    }
   ],
   "source": [
    "pop_details_nomm"
   ]
  },
  {
   "cell_type": "code",
   "execution_count": 249,
   "id": "6b1cc9fc-9ee8-41fb-9acf-5d120227aac1",
   "metadata": {},
   "outputs": [
    {
     "data": {
      "text/plain": [
       "(count    21.000000\n",
       " mean      0.385714\n",
       " std       0.087325\n",
       " min       0.270000\n",
       " 25%       0.340000\n",
       " 50%       0.360000\n",
       " 75%       0.420000\n",
       " max       0.670000\n",
       " Name: CentralizationInDegree, dtype: float64,\n",
       " count    21.000000\n",
       " mean      0.479524\n",
       " std       0.160233\n",
       " min       0.210000\n",
       " 25%       0.370000\n",
       " 50%       0.500000\n",
       " 75%       0.570000\n",
       " max       0.880000\n",
       " Name: CentralizationInDegree, dtype: float64)"
      ]
     },
     "execution_count": 249,
     "metadata": {},
     "output_type": "execute_result"
    }
   ],
   "source": [
    "pop_details_nomm['CentralizationInDegree'].describe(),pop_details_comm['CentralizationInDegree'].describe()"
   ]
  },
  {
   "cell_type": "markdown",
   "id": "4b02105b-05ed-4f14-9222-fe173fb4c51d",
   "metadata": {},
   "source": [
    "#### Network similarity"
   ]
  },
  {
   "cell_type": "code",
   "execution_count": 250,
   "id": "9cdabdba-abe7-4548-abe3-ea04c91a5624",
   "metadata": {},
   "outputs": [],
   "source": [
    "nomm_subgraphs = simulation.PeerNominatedDataPopulation.get_class_graphs(simulation.PeerNominatedDataPopulation.graph)"
   ]
  },
  {
   "cell_type": "code",
   "execution_count": 251,
   "id": "0ad09580-eced-49ef-abb6-ac75d6c085db",
   "metadata": {},
   "outputs": [],
   "source": [
    "comm_subgraphs = simulation.CommunicationDataPopulation.get_class_graphs(simulation.CommunicationDataPopulation.graph)"
   ]
  },
  {
   "cell_type": "code",
   "execution_count": 252,
   "id": "cea745d9-8785-420a-b3c9-75352e462eb9",
   "metadata": {},
   "outputs": [],
   "source": [
    "network_similarity = []\n",
    "for i in range(0,21):\n",
    "    network_similarity.append(simulation.CommunicationDataPopulation.get_accuracy(comm_subgraphs[i],nomm_subgraphs[i]))"
   ]
  },
  {
   "cell_type": "code",
   "execution_count": 253,
   "id": "c6773421-d215-4e4e-a26e-a5a0df422c25",
   "metadata": {},
   "outputs": [
    {
     "data": {
      "text/plain": [
       "(0.0702000878259504, 0.6481503615939129)"
      ]
     },
     "execution_count": 253,
     "metadata": {},
     "output_type": "execute_result"
    }
   ],
   "source": [
    "import statistics\n",
    "statistics.stdev(network_similarity), statistics.mean(network_similarity)\n",
    "\n"
   ]
  },
  {
   "cell_type": "code",
   "execution_count": 254,
   "id": "6a798f5a-224d-4685-8ee2-496e98d518d1",
   "metadata": {},
   "outputs": [
    {
     "name": "stdout",
     "output_type": "stream",
     "text": [
      "0.7058823529411765\n",
      "0.5350877192982456\n",
      "0.652046783625731\n",
      "0.5625\n",
      "0.4875\n",
      "0.7554112554112554\n",
      "0.7041666666666667\n",
      "0.6433823529411765\n",
      "0.7476190476190476\n",
      "0.6684210526315789\n",
      "0.625\n",
      "0.6413043478260869\n",
      "0.6333333333333333\n",
      "0.7205882352941176\n",
      "0.7416666666666667\n",
      "0.6071428571428571\n",
      "0.6695906432748538\n",
      "0.6169590643274854\n",
      "0.5652173913043478\n",
      "0.6578947368421053\n",
      "0.7316666666666667\n"
     ]
    }
   ],
   "source": [
    "for i in range(0,21):\n",
    "    print(simulation.CommunicationDataPopulation.get_accuracy(nomm_subgraphs[i],comm_subgraphs[i]))"
   ]
  },
  {
   "cell_type": "markdown",
   "id": "2cfb19c5-0e6e-405a-bcb5-0f1b8a71d88a",
   "metadata": {},
   "source": [
    "#### Graphical results"
   ]
  },
  {
   "cell_type": "code",
   "execution_count": 255,
   "id": "670b7a68-1fe0-4296-9a48-498dd99d36dd",
   "metadata": {},
   "outputs": [
    {
     "data": {
      "application/vnd.plotly.v1+json": {
       "config": {
        "plotlyServerURL": "https://plot.ly"
       },
       "data": [
        {
         "marker": {
          "color": "#EB89B5"
         },
         "name": "Nominated-Networks",
         "opacity": 0.8,
         "type": "histogram",
         "x": [
          0.37,
          0.54,
          0.5,
          0.67,
          0.55,
          0.33,
          0.42,
          0.5,
          0.4,
          0.43,
          0.55,
          0.62,
          0.38,
          0.56,
          0.48,
          0.49,
          0.59,
          0.5,
          0.39,
          0.52,
          0.49
         ],
         "xbins": {
          "size": 0.1
         }
        },
        {
         "marker": {
          "color": "#330C73"
         },
         "name": "Communication-Networks",
         "opacity": 0.8,
         "type": "histogram",
         "x": [
          0.15,
          0.21,
          0.27,
          0.28,
          0.3,
          0.15,
          0.14,
          0.33,
          0.3,
          0.43,
          0.51,
          0.46,
          0.48,
          0.47,
          0.29,
          0.81,
          0.71,
          0.35,
          0.61,
          0.46,
          0.37
         ],
         "xbins": {
          "size": 0.1
         }
        }
       ],
       "layout": {
        "barmode": "stack",
        "height": 600,
        "template": {
         "data": {
          "bar": [
           {
            "error_x": {
             "color": "#2a3f5f"
            },
            "error_y": {
             "color": "#2a3f5f"
            },
            "marker": {
             "line": {
              "color": "#E5ECF6",
              "width": 0.5
             },
             "pattern": {
              "fillmode": "overlay",
              "size": 10,
              "solidity": 0.2
             }
            },
            "type": "bar"
           }
          ],
          "barpolar": [
           {
            "marker": {
             "line": {
              "color": "#E5ECF6",
              "width": 0.5
             },
             "pattern": {
              "fillmode": "overlay",
              "size": 10,
              "solidity": 0.2
             }
            },
            "type": "barpolar"
           }
          ],
          "carpet": [
           {
            "aaxis": {
             "endlinecolor": "#2a3f5f",
             "gridcolor": "white",
             "linecolor": "white",
             "minorgridcolor": "white",
             "startlinecolor": "#2a3f5f"
            },
            "baxis": {
             "endlinecolor": "#2a3f5f",
             "gridcolor": "white",
             "linecolor": "white",
             "minorgridcolor": "white",
             "startlinecolor": "#2a3f5f"
            },
            "type": "carpet"
           }
          ],
          "choropleth": [
           {
            "colorbar": {
             "outlinewidth": 0,
             "ticks": ""
            },
            "type": "choropleth"
           }
          ],
          "contour": [
           {
            "colorbar": {
             "outlinewidth": 0,
             "ticks": ""
            },
            "colorscale": [
             [
              0,
              "#0d0887"
             ],
             [
              0.1111111111111111,
              "#46039f"
             ],
             [
              0.2222222222222222,
              "#7201a8"
             ],
             [
              0.3333333333333333,
              "#9c179e"
             ],
             [
              0.4444444444444444,
              "#bd3786"
             ],
             [
              0.5555555555555556,
              "#d8576b"
             ],
             [
              0.6666666666666666,
              "#ed7953"
             ],
             [
              0.7777777777777778,
              "#fb9f3a"
             ],
             [
              0.8888888888888888,
              "#fdca26"
             ],
             [
              1,
              "#f0f921"
             ]
            ],
            "type": "contour"
           }
          ],
          "contourcarpet": [
           {
            "colorbar": {
             "outlinewidth": 0,
             "ticks": ""
            },
            "type": "contourcarpet"
           }
          ],
          "heatmap": [
           {
            "colorbar": {
             "outlinewidth": 0,
             "ticks": ""
            },
            "colorscale": [
             [
              0,
              "#0d0887"
             ],
             [
              0.1111111111111111,
              "#46039f"
             ],
             [
              0.2222222222222222,
              "#7201a8"
             ],
             [
              0.3333333333333333,
              "#9c179e"
             ],
             [
              0.4444444444444444,
              "#bd3786"
             ],
             [
              0.5555555555555556,
              "#d8576b"
             ],
             [
              0.6666666666666666,
              "#ed7953"
             ],
             [
              0.7777777777777778,
              "#fb9f3a"
             ],
             [
              0.8888888888888888,
              "#fdca26"
             ],
             [
              1,
              "#f0f921"
             ]
            ],
            "type": "heatmap"
           }
          ],
          "heatmapgl": [
           {
            "colorbar": {
             "outlinewidth": 0,
             "ticks": ""
            },
            "colorscale": [
             [
              0,
              "#0d0887"
             ],
             [
              0.1111111111111111,
              "#46039f"
             ],
             [
              0.2222222222222222,
              "#7201a8"
             ],
             [
              0.3333333333333333,
              "#9c179e"
             ],
             [
              0.4444444444444444,
              "#bd3786"
             ],
             [
              0.5555555555555556,
              "#d8576b"
             ],
             [
              0.6666666666666666,
              "#ed7953"
             ],
             [
              0.7777777777777778,
              "#fb9f3a"
             ],
             [
              0.8888888888888888,
              "#fdca26"
             ],
             [
              1,
              "#f0f921"
             ]
            ],
            "type": "heatmapgl"
           }
          ],
          "histogram": [
           {
            "marker": {
             "pattern": {
              "fillmode": "overlay",
              "size": 10,
              "solidity": 0.2
             }
            },
            "type": "histogram"
           }
          ],
          "histogram2d": [
           {
            "colorbar": {
             "outlinewidth": 0,
             "ticks": ""
            },
            "colorscale": [
             [
              0,
              "#0d0887"
             ],
             [
              0.1111111111111111,
              "#46039f"
             ],
             [
              0.2222222222222222,
              "#7201a8"
             ],
             [
              0.3333333333333333,
              "#9c179e"
             ],
             [
              0.4444444444444444,
              "#bd3786"
             ],
             [
              0.5555555555555556,
              "#d8576b"
             ],
             [
              0.6666666666666666,
              "#ed7953"
             ],
             [
              0.7777777777777778,
              "#fb9f3a"
             ],
             [
              0.8888888888888888,
              "#fdca26"
             ],
             [
              1,
              "#f0f921"
             ]
            ],
            "type": "histogram2d"
           }
          ],
          "histogram2dcontour": [
           {
            "colorbar": {
             "outlinewidth": 0,
             "ticks": ""
            },
            "colorscale": [
             [
              0,
              "#0d0887"
             ],
             [
              0.1111111111111111,
              "#46039f"
             ],
             [
              0.2222222222222222,
              "#7201a8"
             ],
             [
              0.3333333333333333,
              "#9c179e"
             ],
             [
              0.4444444444444444,
              "#bd3786"
             ],
             [
              0.5555555555555556,
              "#d8576b"
             ],
             [
              0.6666666666666666,
              "#ed7953"
             ],
             [
              0.7777777777777778,
              "#fb9f3a"
             ],
             [
              0.8888888888888888,
              "#fdca26"
             ],
             [
              1,
              "#f0f921"
             ]
            ],
            "type": "histogram2dcontour"
           }
          ],
          "mesh3d": [
           {
            "colorbar": {
             "outlinewidth": 0,
             "ticks": ""
            },
            "type": "mesh3d"
           }
          ],
          "parcoords": [
           {
            "line": {
             "colorbar": {
              "outlinewidth": 0,
              "ticks": ""
             }
            },
            "type": "parcoords"
           }
          ],
          "pie": [
           {
            "automargin": true,
            "type": "pie"
           }
          ],
          "scatter": [
           {
            "marker": {
             "colorbar": {
              "outlinewidth": 0,
              "ticks": ""
             }
            },
            "type": "scatter"
           }
          ],
          "scatter3d": [
           {
            "line": {
             "colorbar": {
              "outlinewidth": 0,
              "ticks": ""
             }
            },
            "marker": {
             "colorbar": {
              "outlinewidth": 0,
              "ticks": ""
             }
            },
            "type": "scatter3d"
           }
          ],
          "scattercarpet": [
           {
            "marker": {
             "colorbar": {
              "outlinewidth": 0,
              "ticks": ""
             }
            },
            "type": "scattercarpet"
           }
          ],
          "scattergeo": [
           {
            "marker": {
             "colorbar": {
              "outlinewidth": 0,
              "ticks": ""
             }
            },
            "type": "scattergeo"
           }
          ],
          "scattergl": [
           {
            "marker": {
             "colorbar": {
              "outlinewidth": 0,
              "ticks": ""
             }
            },
            "type": "scattergl"
           }
          ],
          "scattermapbox": [
           {
            "marker": {
             "colorbar": {
              "outlinewidth": 0,
              "ticks": ""
             }
            },
            "type": "scattermapbox"
           }
          ],
          "scatterpolar": [
           {
            "marker": {
             "colorbar": {
              "outlinewidth": 0,
              "ticks": ""
             }
            },
            "type": "scatterpolar"
           }
          ],
          "scatterpolargl": [
           {
            "marker": {
             "colorbar": {
              "outlinewidth": 0,
              "ticks": ""
             }
            },
            "type": "scatterpolargl"
           }
          ],
          "scatterternary": [
           {
            "marker": {
             "colorbar": {
              "outlinewidth": 0,
              "ticks": ""
             }
            },
            "type": "scatterternary"
           }
          ],
          "surface": [
           {
            "colorbar": {
             "outlinewidth": 0,
             "ticks": ""
            },
            "colorscale": [
             [
              0,
              "#0d0887"
             ],
             [
              0.1111111111111111,
              "#46039f"
             ],
             [
              0.2222222222222222,
              "#7201a8"
             ],
             [
              0.3333333333333333,
              "#9c179e"
             ],
             [
              0.4444444444444444,
              "#bd3786"
             ],
             [
              0.5555555555555556,
              "#d8576b"
             ],
             [
              0.6666666666666666,
              "#ed7953"
             ],
             [
              0.7777777777777778,
              "#fb9f3a"
             ],
             [
              0.8888888888888888,
              "#fdca26"
             ],
             [
              1,
              "#f0f921"
             ]
            ],
            "type": "surface"
           }
          ],
          "table": [
           {
            "cells": {
             "fill": {
              "color": "#EBF0F8"
             },
             "line": {
              "color": "white"
             }
            },
            "header": {
             "fill": {
              "color": "#C8D4E3"
             },
             "line": {
              "color": "white"
             }
            },
            "type": "table"
           }
          ]
         },
         "layout": {
          "annotationdefaults": {
           "arrowcolor": "#2a3f5f",
           "arrowhead": 0,
           "arrowwidth": 1
          },
          "autotypenumbers": "strict",
          "coloraxis": {
           "colorbar": {
            "outlinewidth": 0,
            "ticks": ""
           }
          },
          "colorscale": {
           "diverging": [
            [
             0,
             "#8e0152"
            ],
            [
             0.1,
             "#c51b7d"
            ],
            [
             0.2,
             "#de77ae"
            ],
            [
             0.3,
             "#f1b6da"
            ],
            [
             0.4,
             "#fde0ef"
            ],
            [
             0.5,
             "#f7f7f7"
            ],
            [
             0.6,
             "#e6f5d0"
            ],
            [
             0.7,
             "#b8e186"
            ],
            [
             0.8,
             "#7fbc41"
            ],
            [
             0.9,
             "#4d9221"
            ],
            [
             1,
             "#276419"
            ]
           ],
           "sequential": [
            [
             0,
             "#0d0887"
            ],
            [
             0.1111111111111111,
             "#46039f"
            ],
            [
             0.2222222222222222,
             "#7201a8"
            ],
            [
             0.3333333333333333,
             "#9c179e"
            ],
            [
             0.4444444444444444,
             "#bd3786"
            ],
            [
             0.5555555555555556,
             "#d8576b"
            ],
            [
             0.6666666666666666,
             "#ed7953"
            ],
            [
             0.7777777777777778,
             "#fb9f3a"
            ],
            [
             0.8888888888888888,
             "#fdca26"
            ],
            [
             1,
             "#f0f921"
            ]
           ],
           "sequentialminus": [
            [
             0,
             "#0d0887"
            ],
            [
             0.1111111111111111,
             "#46039f"
            ],
            [
             0.2222222222222222,
             "#7201a8"
            ],
            [
             0.3333333333333333,
             "#9c179e"
            ],
            [
             0.4444444444444444,
             "#bd3786"
            ],
            [
             0.5555555555555556,
             "#d8576b"
            ],
            [
             0.6666666666666666,
             "#ed7953"
            ],
            [
             0.7777777777777778,
             "#fb9f3a"
            ],
            [
             0.8888888888888888,
             "#fdca26"
            ],
            [
             1,
             "#f0f921"
            ]
           ]
          },
          "colorway": [
           "#636efa",
           "#EF553B",
           "#00cc96",
           "#ab63fa",
           "#FFA15A",
           "#19d3f3",
           "#FF6692",
           "#B6E880",
           "#FF97FF",
           "#FECB52"
          ],
          "font": {
           "color": "#2a3f5f"
          },
          "geo": {
           "bgcolor": "white",
           "lakecolor": "white",
           "landcolor": "#E5ECF6",
           "showlakes": true,
           "showland": true,
           "subunitcolor": "white"
          },
          "hoverlabel": {
           "align": "left"
          },
          "hovermode": "closest",
          "mapbox": {
           "style": "light"
          },
          "paper_bgcolor": "white",
          "plot_bgcolor": "#E5ECF6",
          "polar": {
           "angularaxis": {
            "gridcolor": "white",
            "linecolor": "white",
            "ticks": ""
           },
           "bgcolor": "#E5ECF6",
           "radialaxis": {
            "gridcolor": "white",
            "linecolor": "white",
            "ticks": ""
           }
          },
          "scene": {
           "xaxis": {
            "backgroundcolor": "#E5ECF6",
            "gridcolor": "white",
            "gridwidth": 2,
            "linecolor": "white",
            "showbackground": true,
            "ticks": "",
            "zerolinecolor": "white"
           },
           "yaxis": {
            "backgroundcolor": "#E5ECF6",
            "gridcolor": "white",
            "gridwidth": 2,
            "linecolor": "white",
            "showbackground": true,
            "ticks": "",
            "zerolinecolor": "white"
           },
           "zaxis": {
            "backgroundcolor": "#E5ECF6",
            "gridcolor": "white",
            "gridwidth": 2,
            "linecolor": "white",
            "showbackground": true,
            "ticks": "",
            "zerolinecolor": "white"
           }
          },
          "shapedefaults": {
           "line": {
            "color": "#2a3f5f"
           }
          },
          "ternary": {
           "aaxis": {
            "gridcolor": "white",
            "linecolor": "white",
            "ticks": ""
           },
           "baxis": {
            "gridcolor": "white",
            "linecolor": "white",
            "ticks": ""
           },
           "bgcolor": "#E5ECF6",
           "caxis": {
            "gridcolor": "white",
            "linecolor": "white",
            "ticks": ""
           }
          },
          "title": {
           "x": 0.05
          },
          "xaxis": {
           "automargin": true,
           "gridcolor": "white",
           "linecolor": "white",
           "ticks": "",
           "title": {
            "standoff": 15
           },
           "zerolinecolor": "white",
           "zerolinewidth": 2
          },
          "yaxis": {
           "automargin": true,
           "gridcolor": "white",
           "linecolor": "white",
           "ticks": "",
           "title": {
            "standoff": 15
           },
           "zerolinecolor": "white",
           "zerolinewidth": 2
          }
         }
        },
        "width": 800,
        "xaxis": {
         "autorange": true,
         "range": [
          0.10000000000000009,
          0.9
         ],
         "title": {
          "text": "Density"
         },
         "type": "linear"
        },
        "yaxis": {
         "autorange": true,
         "range": [
          0,
          11.578947368421053
         ],
         "title": {
          "text": "Number of Classes"
         }
        }
       }
      },
      "image/png": "[encoded data removed]",
      "text/html": [
       "<div>                            <div id=\"bac1c243-a776-4e30-bfd8-13d41374f671\" class=\"plotly-graph-div\" style=\"height:600px; width:800px;\"></div>            <script type=\"text/javascript\">                require([\"plotly\"], function(Plotly) {                    window.PLOTLYENV=window.PLOTLYENV || {};                                    if (document.getElementById(\"bac1c243-a776-4e30-bfd8-13d41374f671\")) {                    Plotly.newPlot(                        \"bac1c243-a776-4e30-bfd8-13d41374f671\",                        [{\"marker\":{\"color\":\"#EB89B5\"},\"name\":\"Nominated-Networks\",\"opacity\":0.8,\"type\":\"histogram\",\"x\":[0.37,0.54,0.5,0.67,0.55,0.33,0.42,0.5,0.4,0.43,0.55,0.62,0.38,0.56,0.48,0.49,0.59,0.5,0.39,0.52,0.49],\"xbins\":{\"size\":0.1}},{\"marker\":{\"color\":\"#330C73\"},\"name\":\"Communication-Networks\",\"opacity\":0.8,\"type\":\"histogram\",\"x\":[0.15,0.21,0.27,0.28,0.3,0.15,0.14,0.33,0.3,0.43,0.51,0.46,0.48,0.47,0.29,0.81,0.71,0.35,0.61,0.46,0.37],\"xbins\":{\"size\":0.1}}],                        {\"barmode\":\"stack\",\"height\":600,\"template\":{\"data\":{\"bar\":[{\"error_x\":{\"color\":\"#2a3f5f\"},\"error_y\":{\"color\":\"#2a3f5f\"},\"marker\":{\"line\":{\"color\":\"#E5ECF6\",\"width\":0.5},\"pattern\":{\"fillmode\":\"overlay\",\"size\":10,\"solidity\":0.2}},\"type\":\"bar\"}],\"barpolar\":[{\"marker\":{\"line\":{\"color\":\"#E5ECF6\",\"width\":0.5},\"pattern\":{\"fillmode\":\"overlay\",\"size\":10,\"solidity\":0.2}},\"type\":\"barpolar\"}],\"carpet\":[{\"aaxis\":{\"endlinecolor\":\"#2a3f5f\",\"gridcolor\":\"white\",\"linecolor\":\"white\",\"minorgridcolor\":\"white\",\"startlinecolor\":\"#2a3f5f\"},\"baxis\":{\"endlinecolor\":\"#2a3f5f\",\"gridcolor\":\"white\",\"linecolor\":\"white\",\"minorgridcolor\":\"white\",\"startlinecolor\":\"#2a3f5f\"},\"type\":\"carpet\"}],\"choropleth\":[{\"colorbar\":{\"outlinewidth\":0,\"ticks\":\"\"},\"type\":\"choropleth\"}],\"contour\":[{\"colorbar\":{\"outlinewidth\":0,\"ticks\":\"\"},\"colorscale\":[[0.0,\"#0d0887\"],[0.1111111111111111,\"#46039f\"],[0.2222222222222222,\"#7201a8\"],[0.3333333333333333,\"#9c179e\"],[0.4444444444444444,\"#bd3786\"],[0.5555555555555556,\"#d8576b\"],[0.6666666666666666,\"#ed7953\"],[0.7777777777777778,\"#fb9f3a\"],[0.8888888888888888,\"#fdca26\"],[1.0,\"#f0f921\"]],\"type\":\"contour\"}],\"contourcarpet\":[{\"colorbar\":{\"outlinewidth\":0,\"ticks\":\"\"},\"type\":\"contourcarpet\"}],\"heatmap\":[{\"colorbar\":{\"outlinewidth\":0,\"ticks\":\"\"},\"colorscale\":[[0.0,\"#0d0887\"],[0.1111111111111111,\"#46039f\"],[0.2222222222222222,\"#7201a8\"],[0.3333333333333333,\"#9c179e\"],[0.4444444444444444,\"#bd3786\"],[0.5555555555555556,\"#d8576b\"],[0.6666666666666666,\"#ed7953\"],[0.7777777777777778,\"#fb9f3a\"],[0.8888888888888888,\"#fdca26\"],[1.0,\"#f0f921\"]],\"type\":\"heatmap\"}],\"heatmapgl\":[{\"colorbar\":{\"outlinewidth\":0,\"ticks\":\"\"},\"colorscale\":[[0.0,\"#0d0887\"],[0.1111111111111111,\"#46039f\"],[0.2222222222222222,\"#7201a8\"],[0.3333333333333333,\"#9c179e\"],[0.4444444444444444,\"#bd3786\"],[0.5555555555555556,\"#d8576b\"],[0.6666666666666666,\"#ed7953\"],[0.7777777777777778,\"#fb9f3a\"],[0.8888888888888888,\"#fdca26\"],[1.0,\"#f0f921\"]],\"type\":\"heatmapgl\"}],\"histogram\":[{\"marker\":{\"pattern\":{\"fillmode\":\"overlay\",\"size\":10,\"solidity\":0.2}},\"type\":\"histogram\"}],\"histogram2d\":[{\"colorbar\":{\"outlinewidth\":0,\"ticks\":\"\"},\"colorscale\":[[0.0,\"#0d0887\"],[0.1111111111111111,\"#46039f\"],[0.2222222222222222,\"#7201a8\"],[0.3333333333333333,\"#9c179e\"],[0.4444444444444444,\"#bd3786\"],[0.5555555555555556,\"#d8576b\"],[0.6666666666666666,\"#ed7953\"],[0.7777777777777778,\"#fb9f3a\"],[0.8888888888888888,\"#fdca26\"],[1.0,\"#f0f921\"]],\"type\":\"histogram2d\"}],\"histogram2dcontour\":[{\"colorbar\":{\"outlinewidth\":0,\"ticks\":\"\"},\"colorscale\":[[0.0,\"#0d0887\"],[0.1111111111111111,\"#46039f\"],[0.2222222222222222,\"#7201a8\"],[0.3333333333333333,\"#9c179e\"],[0.4444444444444444,\"#bd3786\"],[0.5555555555555556,\"#d8576b\"],[0.6666666666666666,\"#ed7953\"],[0.7777777777777778,\"#fb9f3a\"],[0.8888888888888888,\"#fdca26\"],[1.0,\"#f0f921\"]],\"type\":\"histogram2dcontour\"}],\"mesh3d\":[{\"colorbar\":{\"outlinewidth\":0,\"ticks\":\"\"},\"type\":\"mesh3d\"}],\"parcoords\":[{\"line\":{\"colorbar\":{\"outlinewidth\":0,\"ticks\":\"\"}},\"type\":\"parcoords\"}],\"pie\":[{\"automargin\":true,\"type\":\"pie\"}],\"scatter\":[{\"marker\":{\"colorbar\":{\"outlinewidth\":0,\"ticks\":\"\"}},\"type\":\"scatter\"}],\"scatter3d\":[{\"line\":{\"colorbar\":{\"outlinewidth\":0,\"ticks\":\"\"}},\"marker\":{\"colorbar\":{\"outlinewidth\":0,\"ticks\":\"\"}},\"type\":\"scatter3d\"}],\"scattercarpet\":[{\"marker\":{\"colorbar\":{\"outlinewidth\":0,\"ticks\":\"\"}},\"type\":\"scattercarpet\"}],\"scattergeo\":[{\"marker\":{\"colorbar\":{\"outlinewidth\":0,\"ticks\":\"\"}},\"type\":\"scattergeo\"}],\"scattergl\":[{\"marker\":{\"colorbar\":{\"outlinewidth\":0,\"ticks\":\"\"}},\"type\":\"scattergl\"}],\"scattermapbox\":[{\"marker\":{\"colorbar\":{\"outlinewidth\":0,\"ticks\":\"\"}},\"type\":\"scattermapbox\"}],\"scatterpolar\":[{\"marker\":{\"colorbar\":{\"outlinewidth\":0,\"ticks\":\"\"}},\"type\":\"scatterpolar\"}],\"scatterpolargl\":[{\"marker\":{\"colorbar\":{\"outlinewidth\":0,\"ticks\":\"\"}},\"type\":\"scatterpolargl\"}],\"scatterternary\":[{\"marker\":{\"colorbar\":{\"outlinewidth\":0,\"ticks\":\"\"}},\"type\":\"scatterternary\"}],\"surface\":[{\"colorbar\":{\"outlinewidth\":0,\"ticks\":\"\"},\"colorscale\":[[0.0,\"#0d0887\"],[0.1111111111111111,\"#46039f\"],[0.2222222222222222,\"#7201a8\"],[0.3333333333333333,\"#9c179e\"],[0.4444444444444444,\"#bd3786\"],[0.5555555555555556,\"#d8576b\"],[0.6666666666666666,\"#ed7953\"],[0.7777777777777778,\"#fb9f3a\"],[0.8888888888888888,\"#fdca26\"],[1.0,\"#f0f921\"]],\"type\":\"surface\"}],\"table\":[{\"cells\":{\"fill\":{\"color\":\"#EBF0F8\"},\"line\":{\"color\":\"white\"}},\"header\":{\"fill\":{\"color\":\"#C8D4E3\"},\"line\":{\"color\":\"white\"}},\"type\":\"table\"}]},\"layout\":{\"annotationdefaults\":{\"arrowcolor\":\"#2a3f5f\",\"arrowhead\":0,\"arrowwidth\":1},\"autotypenumbers\":\"strict\",\"coloraxis\":{\"colorbar\":{\"outlinewidth\":0,\"ticks\":\"\"}},\"colorscale\":{\"diverging\":[[0,\"#8e0152\"],[0.1,\"#c51b7d\"],[0.2,\"#de77ae\"],[0.3,\"#f1b6da\"],[0.4,\"#fde0ef\"],[0.5,\"#f7f7f7\"],[0.6,\"#e6f5d0\"],[0.7,\"#b8e186\"],[0.8,\"#7fbc41\"],[0.9,\"#4d9221\"],[1,\"#276419\"]],\"sequential\":[[0.0,\"#0d0887\"],[0.1111111111111111,\"#46039f\"],[0.2222222222222222,\"#7201a8\"],[0.3333333333333333,\"#9c179e\"],[0.4444444444444444,\"#bd3786\"],[0.5555555555555556,\"#d8576b\"],[0.6666666666666666,\"#ed7953\"],[0.7777777777777778,\"#fb9f3a\"],[0.8888888888888888,\"#fdca26\"],[1.0,\"#f0f921\"]],\"sequentialminus\":[[0.0,\"#0d0887\"],[0.1111111111111111,\"#46039f\"],[0.2222222222222222,\"#7201a8\"],[0.3333333333333333,\"#9c179e\"],[0.4444444444444444,\"#bd3786\"],[0.5555555555555556,\"#d8576b\"],[0.6666666666666666,\"#ed7953\"],[0.7777777777777778,\"#fb9f3a\"],[0.8888888888888888,\"#fdca26\"],[1.0,\"#f0f921\"]]},\"colorway\":[\"#636efa\",\"#EF553B\",\"#00cc96\",\"#ab63fa\",\"#FFA15A\",\"#19d3f3\",\"#FF6692\",\"#B6E880\",\"#FF97FF\",\"#FECB52\"],\"font\":{\"color\":\"#2a3f5f\"},\"geo\":{\"bgcolor\":\"white\",\"lakecolor\":\"white\",\"landcolor\":\"#E5ECF6\",\"showlakes\":true,\"showland\":true,\"subunitcolor\":\"white\"},\"hoverlabel\":{\"align\":\"left\"},\"hovermode\":\"closest\",\"mapbox\":{\"style\":\"light\"},\"paper_bgcolor\":\"white\",\"plot_bgcolor\":\"#E5ECF6\",\"polar\":{\"angularaxis\":{\"gridcolor\":\"white\",\"linecolor\":\"white\",\"ticks\":\"\"},\"bgcolor\":\"#E5ECF6\",\"radialaxis\":{\"gridcolor\":\"white\",\"linecolor\":\"white\",\"ticks\":\"\"}},\"scene\":{\"xaxis\":{\"backgroundcolor\":\"#E5ECF6\",\"gridcolor\":\"white\",\"gridwidth\":2,\"linecolor\":\"white\",\"showbackground\":true,\"ticks\":\"\",\"zerolinecolor\":\"white\"},\"yaxis\":{\"backgroundcolor\":\"#E5ECF6\",\"gridcolor\":\"white\",\"gridwidth\":2,\"linecolor\":\"white\",\"showbackground\":true,\"ticks\":\"\",\"zerolinecolor\":\"white\"},\"zaxis\":{\"backgroundcolor\":\"#E5ECF6\",\"gridcolor\":\"white\",\"gridwidth\":2,\"linecolor\":\"white\",\"showbackground\":true,\"ticks\":\"\",\"zerolinecolor\":\"white\"}},\"shapedefaults\":{\"line\":{\"color\":\"#2a3f5f\"}},\"ternary\":{\"aaxis\":{\"gridcolor\":\"white\",\"linecolor\":\"white\",\"ticks\":\"\"},\"baxis\":{\"gridcolor\":\"white\",\"linecolor\":\"white\",\"ticks\":\"\"},\"bgcolor\":\"#E5ECF6\",\"caxis\":{\"gridcolor\":\"white\",\"linecolor\":\"white\",\"ticks\":\"\"}},\"title\":{\"x\":0.05},\"xaxis\":{\"automargin\":true,\"gridcolor\":\"white\",\"linecolor\":\"white\",\"ticks\":\"\",\"title\":{\"standoff\":15},\"zerolinecolor\":\"white\",\"zerolinewidth\":2},\"yaxis\":{\"automargin\":true,\"gridcolor\":\"white\",\"linecolor\":\"white\",\"ticks\":\"\",\"title\":{\"standoff\":15},\"zerolinecolor\":\"white\",\"zerolinewidth\":2}}},\"width\":800,\"xaxis\":{\"title\":{\"text\":\"Density\"}},\"yaxis\":{\"title\":{\"text\":\"Number of Classes\"}}},                        {\"responsive\": true}                    ).then(function(){\n",
       "                            \n",
       "var gd = document.getElementById('bac1c243-a776-4e30-bfd8-13d41374f671');\n",
       "var x = new MutationObserver(function (mutations, observer) {{\n",
       "        var display = window.getComputedStyle(gd).display;\n",
       "        if (!display || display === 'none') {{\n",
       "            console.log([gd, 'removed!']);\n",
       "            Plotly.purge(gd);\n",
       "            observer.disconnect();\n",
       "        }}\n",
       "}});\n",
       "\n",
       "// Listen for the removal of the full notebook cells\n",
       "var notebookContainer = gd.closest('#notebook-container');\n",
       "if (notebookContainer) {{\n",
       "    x.observe(notebookContainer, {childList: true});\n",
       "}}\n",
       "\n",
       "// Listen for the clearing of the current output cell\n",
       "var outputEl = gd.closest('.output');\n",
       "if (outputEl) {{\n",
       "    x.observe(outputEl, {childList: true});\n",
       "}}\n",
       "\n",
       "                        })                };                });            </script>        </div>"
      ]
     },
     "metadata": {},
     "output_type": "display_data"
    }
   ],
   "source": [
    "import plotly.graph_objects as go\n",
    "\n",
    "import numpy as np\n",
    "\n",
    "x0 = pop_details_nomm['Density']\n",
    "# Add 1 to shift the mean of the Gaussian distribution\n",
    "x1 = pop_details_comm['Density']\n",
    "\n",
    "fig = go.Figure()\n",
    "fig.add_trace(go.Histogram(x=x0,\n",
    "    name='Nominated-Networks', # name used in legend and hover labels\n",
    "    xbins=dict( # bins used for histogram\n",
    "        size=0.1\n",
    "    ),\n",
    "    marker_color='#EB89B5',\n",
    "    opacity=0.75))\n",
    "fig.add_trace(go.Histogram(x=x1,\n",
    "    name='Communication-Networks',\n",
    "    xbins=dict(\n",
    "        size=0.1\n",
    "    ),\n",
    "    marker_color='#330C73',\n",
    "    opacity=0.75))\n",
    "\n",
    "# Overlay both histograms\n",
    "fig.update_layout(xaxis_title=\"Density\", yaxis_title=\"Number of Classes\",width=800, height=600,barmode='stack')\n",
    "# Reduce opacity to see both histograms\n",
    "fig.update_traces(opacity=0.8)\n",
    "fig.show()"
   ]
  },
  {
   "cell_type": "code",
   "execution_count": 256,
   "id": "2441cdea-d354-4ed0-b048-15195c7c87f3",
   "metadata": {},
   "outputs": [
    {
     "data": {
      "application/vnd.plotly.v1+json": {
       "config": {
        "plotlyServerURL": "https://plot.ly"
       },
       "data": [
        {
         "marker": {
          "color": "#EB89B5"
         },
         "name": "Nominated-Networks",
         "opacity": 0.8,
         "type": "histogram",
         "x": [
          114,
          184,
          171,
          181,
          132,
          154,
          102,
          137,
          83,
          163,
          304,
          345,
          158,
          151,
          115,
          204,
          203,
          172,
          216,
          178,
          293
         ],
         "xbins": {
          "size": 50
         }
        },
        {
         "marker": {
          "color": "#330C73"
         },
         "name": "Communication-Networks",
         "opacity": 0.8,
         "type": "histogram",
         "x": [
          42,
          71,
          92,
          76,
          73,
          65,
          33,
          90,
          62,
          163,
          283,
          253,
          202,
          127,
          69,
          341,
          244,
          121,
          336,
          159,
          220
         ],
         "xbins": {
          "size": 50
         }
        }
       ],
       "layout": {
        "barmode": "stack",
        "height": 600,
        "template": {
         "data": {
          "bar": [
           {
            "error_x": {
             "color": "#2a3f5f"
            },
            "error_y": {
             "color": "#2a3f5f"
            },
            "marker": {
             "line": {
              "color": "#E5ECF6",
              "width": 0.5
             },
             "pattern": {
              "fillmode": "overlay",
              "size": 10,
              "solidity": 0.2
             }
            },
            "type": "bar"
           }
          ],
          "barpolar": [
           {
            "marker": {
             "line": {
              "color": "#E5ECF6",
              "width": 0.5
             },
             "pattern": {
              "fillmode": "overlay",
              "size": 10,
              "solidity": 0.2
             }
            },
            "type": "barpolar"
           }
          ],
          "carpet": [
           {
            "aaxis": {
             "endlinecolor": "#2a3f5f",
             "gridcolor": "white",
             "linecolor": "white",
             "minorgridcolor": "white",
             "startlinecolor": "#2a3f5f"
            },
            "baxis": {
             "endlinecolor": "#2a3f5f",
             "gridcolor": "white",
             "linecolor": "white",
             "minorgridcolor": "white",
             "startlinecolor": "#2a3f5f"
            },
            "type": "carpet"
           }
          ],
          "choropleth": [
           {
            "colorbar": {
             "outlinewidth": 0,
             "ticks": ""
            },
            "type": "choropleth"
           }
          ],
          "contour": [
           {
            "colorbar": {
             "outlinewidth": 0,
             "ticks": ""
            },
            "colorscale": [
             [
              0,
              "#0d0887"
             ],
             [
              0.1111111111111111,
              "#46039f"
             ],
             [
              0.2222222222222222,
              "#7201a8"
             ],
             [
              0.3333333333333333,
              "#9c179e"
             ],
             [
              0.4444444444444444,
              "#bd3786"
             ],
             [
              0.5555555555555556,
              "#d8576b"
             ],
             [
              0.6666666666666666,
              "#ed7953"
             ],
             [
              0.7777777777777778,
              "#fb9f3a"
             ],
             [
              0.8888888888888888,
              "#fdca26"
             ],
             [
              1,
              "#f0f921"
             ]
            ],
            "type": "contour"
           }
          ],
          "contourcarpet": [
           {
            "colorbar": {
             "outlinewidth": 0,
             "ticks": ""
            },
            "type": "contourcarpet"
           }
          ],
          "heatmap": [
           {
            "colorbar": {
             "outlinewidth": 0,
             "ticks": ""
            },
            "colorscale": [
             [
              0,
              "#0d0887"
             ],
             [
              0.1111111111111111,
              "#46039f"
             ],
             [
              0.2222222222222222,
              "#7201a8"
             ],
             [
              0.3333333333333333,
              "#9c179e"
             ],
             [
              0.4444444444444444,
              "#bd3786"
             ],
             [
              0.5555555555555556,
              "#d8576b"
             ],
             [
              0.6666666666666666,
              "#ed7953"
             ],
             [
              0.7777777777777778,
              "#fb9f3a"
             ],
             [
              0.8888888888888888,
              "#fdca26"
             ],
             [
              1,
              "#f0f921"
             ]
            ],
            "type": "heatmap"
           }
          ],
          "heatmapgl": [
           {
            "colorbar": {
             "outlinewidth": 0,
             "ticks": ""
            },
            "colorscale": [
             [
              0,
              "#0d0887"
             ],
             [
              0.1111111111111111,
              "#46039f"
             ],
             [
              0.2222222222222222,
              "#7201a8"
             ],
             [
              0.3333333333333333,
              "#9c179e"
             ],
             [
              0.4444444444444444,
              "#bd3786"
             ],
             [
              0.5555555555555556,
              "#d8576b"
             ],
             [
              0.6666666666666666,
              "#ed7953"
             ],
             [
              0.7777777777777778,
              "#fb9f3a"
             ],
             [
              0.8888888888888888,
              "#fdca26"
             ],
             [
              1,
              "#f0f921"
             ]
            ],
            "type": "heatmapgl"
           }
          ],
          "histogram": [
           {
            "marker": {
             "pattern": {
              "fillmode": "overlay",
              "size": 10,
              "solidity": 0.2
             }
            },
            "type": "histogram"
           }
          ],
          "histogram2d": [
           {
            "colorbar": {
             "outlinewidth": 0,
             "ticks": ""
            },
            "colorscale": [
             [
              0,
              "#0d0887"
             ],
             [
              0.1111111111111111,
              "#46039f"
             ],
             [
              0.2222222222222222,
              "#7201a8"
             ],
             [
              0.3333333333333333,
              "#9c179e"
             ],
             [
              0.4444444444444444,
              "#bd3786"
             ],
             [
              0.5555555555555556,
              "#d8576b"
             ],
             [
              0.6666666666666666,
              "#ed7953"
             ],
             [
              0.7777777777777778,
              "#fb9f3a"
             ],
             [
              0.8888888888888888,
              "#fdca26"
             ],
             [
              1,
              "#f0f921"
             ]
            ],
            "type": "histogram2d"
           }
          ],
          "histogram2dcontour": [
           {
            "colorbar": {
             "outlinewidth": 0,
             "ticks": ""
            },
            "colorscale": [
             [
              0,
              "#0d0887"
             ],
             [
              0.1111111111111111,
              "#46039f"
             ],
             [
              0.2222222222222222,
              "#7201a8"
             ],
             [
              0.3333333333333333,
              "#9c179e"
             ],
             [
              0.4444444444444444,
              "#bd3786"
             ],
             [
              0.5555555555555556,
              "#d8576b"
             ],
             [
              0.6666666666666666,
              "#ed7953"
             ],
             [
              0.7777777777777778,
              "#fb9f3a"
             ],
             [
              0.8888888888888888,
              "#fdca26"
             ],
             [
              1,
              "#f0f921"
             ]
            ],
            "type": "histogram2dcontour"
           }
          ],
          "mesh3d": [
           {
            "colorbar": {
             "outlinewidth": 0,
             "ticks": ""
            },
            "type": "mesh3d"
           }
          ],
          "parcoords": [
           {
            "line": {
             "colorbar": {
              "outlinewidth": 0,
              "ticks": ""
             }
            },
            "type": "parcoords"
           }
          ],
          "pie": [
           {
            "automargin": true,
            "type": "pie"
           }
          ],
          "scatter": [
           {
            "marker": {
             "colorbar": {
              "outlinewidth": 0,
              "ticks": ""
             }
            },
            "type": "scatter"
           }
          ],
          "scatter3d": [
           {
            "line": {
             "colorbar": {
              "outlinewidth": 0,
              "ticks": ""
             }
            },
            "marker": {
             "colorbar": {
              "outlinewidth": 0,
              "ticks": ""
             }
            },
            "type": "scatter3d"
           }
          ],
          "scattercarpet": [
           {
            "marker": {
             "colorbar": {
              "outlinewidth": 0,
              "ticks": ""
             }
            },
            "type": "scattercarpet"
           }
          ],
          "scattergeo": [
           {
            "marker": {
             "colorbar": {
              "outlinewidth": 0,
              "ticks": ""
             }
            },
            "type": "scattergeo"
           }
          ],
          "scattergl": [
           {
            "marker": {
             "colorbar": {
              "outlinewidth": 0,
              "ticks": ""
             }
            },
            "type": "scattergl"
           }
          ],
          "scattermapbox": [
           {
            "marker": {
             "colorbar": {
              "outlinewidth": 0,
              "ticks": ""
             }
            },
            "type": "scattermapbox"
           }
          ],
          "scatterpolar": [
           {
            "marker": {
             "colorbar": {
              "outlinewidth": 0,
              "ticks": ""
             }
            },
            "type": "scatterpolar"
           }
          ],
          "scatterpolargl": [
           {
            "marker": {
             "colorbar": {
              "outlinewidth": 0,
              "ticks": ""
             }
            },
            "type": "scatterpolargl"
           }
          ],
          "scatterternary": [
           {
            "marker": {
             "colorbar": {
              "outlinewidth": 0,
              "ticks": ""
             }
            },
            "type": "scatterternary"
           }
          ],
          "surface": [
           {
            "colorbar": {
             "outlinewidth": 0,
             "ticks": ""
            },
            "colorscale": [
             [
              0,
              "#0d0887"
             ],
             [
              0.1111111111111111,
              "#46039f"
             ],
             [
              0.2222222222222222,
              "#7201a8"
             ],
             [
              0.3333333333333333,
              "#9c179e"
             ],
             [
              0.4444444444444444,
              "#bd3786"
             ],
             [
              0.5555555555555556,
              "#d8576b"
             ],
             [
              0.6666666666666666,
              "#ed7953"
             ],
             [
              0.7777777777777778,
              "#fb9f3a"
             ],
             [
              0.8888888888888888,
              "#fdca26"
             ],
             [
              1,
              "#f0f921"
             ]
            ],
            "type": "surface"
           }
          ],
          "table": [
           {
            "cells": {
             "fill": {
              "color": "#EBF0F8"
             },
             "line": {
              "color": "white"
             }
            },
            "header": {
             "fill": {
              "color": "#C8D4E3"
             },
             "line": {
              "color": "white"
             }
            },
            "type": "table"
           }
          ]
         },
         "layout": {
          "annotationdefaults": {
           "arrowcolor": "#2a3f5f",
           "arrowhead": 0,
           "arrowwidth": 1
          },
          "autotypenumbers": "strict",
          "coloraxis": {
           "colorbar": {
            "outlinewidth": 0,
            "ticks": ""
           }
          },
          "colorscale": {
           "diverging": [
            [
             0,
             "#8e0152"
            ],
            [
             0.1,
             "#c51b7d"
            ],
            [
             0.2,
             "#de77ae"
            ],
            [
             0.3,
             "#f1b6da"
            ],
            [
             0.4,
             "#fde0ef"
            ],
            [
             0.5,
             "#f7f7f7"
            ],
            [
             0.6,
             "#e6f5d0"
            ],
            [
             0.7,
             "#b8e186"
            ],
            [
             0.8,
             "#7fbc41"
            ],
            [
             0.9,
             "#4d9221"
            ],
            [
             1,
             "#276419"
            ]
           ],
           "sequential": [
            [
             0,
             "#0d0887"
            ],
            [
             0.1111111111111111,
             "#46039f"
            ],
            [
             0.2222222222222222,
             "#7201a8"
            ],
            [
             0.3333333333333333,
             "#9c179e"
            ],
            [
             0.4444444444444444,
             "#bd3786"
            ],
            [
             0.5555555555555556,
             "#d8576b"
            ],
            [
             0.6666666666666666,
             "#ed7953"
            ],
            [
             0.7777777777777778,
             "#fb9f3a"
            ],
            [
             0.8888888888888888,
             "#fdca26"
            ],
            [
             1,
             "#f0f921"
            ]
           ],
           "sequentialminus": [
            [
             0,
             "#0d0887"
            ],
            [
             0.1111111111111111,
             "#46039f"
            ],
            [
             0.2222222222222222,
             "#7201a8"
            ],
            [
             0.3333333333333333,
             "#9c179e"
            ],
            [
             0.4444444444444444,
             "#bd3786"
            ],
            [
             0.5555555555555556,
             "#d8576b"
            ],
            [
             0.6666666666666666,
             "#ed7953"
            ],
            [
             0.7777777777777778,
             "#fb9f3a"
            ],
            [
             0.8888888888888888,
             "#fdca26"
            ],
            [
             1,
             "#f0f921"
            ]
           ]
          },
          "colorway": [
           "#636efa",
           "#EF553B",
           "#00cc96",
           "#ab63fa",
           "#FFA15A",
           "#19d3f3",
           "#FF6692",
           "#B6E880",
           "#FF97FF",
           "#FECB52"
          ],
          "font": {
           "color": "#2a3f5f"
          },
          "geo": {
           "bgcolor": "white",
           "lakecolor": "white",
           "landcolor": "#E5ECF6",
           "showlakes": true,
           "showland": true,
           "subunitcolor": "white"
          },
          "hoverlabel": {
           "align": "left"
          },
          "hovermode": "closest",
          "mapbox": {
           "style": "light"
          },
          "paper_bgcolor": "white",
          "plot_bgcolor": "#E5ECF6",
          "polar": {
           "angularaxis": {
            "gridcolor": "white",
            "linecolor": "white",
            "ticks": ""
           },
           "bgcolor": "#E5ECF6",
           "radialaxis": {
            "gridcolor": "white",
            "linecolor": "white",
            "ticks": ""
           }
          },
          "scene": {
           "xaxis": {
            "backgroundcolor": "#E5ECF6",
            "gridcolor": "white",
            "gridwidth": 2,
            "linecolor": "white",
            "showbackground": true,
            "ticks": "",
            "zerolinecolor": "white"
           },
           "yaxis": {
            "backgroundcolor": "#E5ECF6",
            "gridcolor": "white",
            "gridwidth": 2,
            "linecolor": "white",
            "showbackground": true,
            "ticks": "",
            "zerolinecolor": "white"
           },
           "zaxis": {
            "backgroundcolor": "#E5ECF6",
            "gridcolor": "white",
            "gridwidth": 2,
            "linecolor": "white",
            "showbackground": true,
            "ticks": "",
            "zerolinecolor": "white"
           }
          },
          "shapedefaults": {
           "line": {
            "color": "#2a3f5f"
           }
          },
          "ternary": {
           "aaxis": {
            "gridcolor": "white",
            "linecolor": "white",
            "ticks": ""
           },
           "baxis": {
            "gridcolor": "white",
            "linecolor": "white",
            "ticks": ""
           },
           "bgcolor": "#E5ECF6",
           "caxis": {
            "gridcolor": "white",
            "linecolor": "white",
            "ticks": ""
           }
          },
          "title": {
           "x": 0.05
          },
          "xaxis": {
           "automargin": true,
           "gridcolor": "white",
           "linecolor": "white",
           "ticks": "",
           "title": {
            "standoff": 15
           },
           "zerolinecolor": "white",
           "zerolinewidth": 2
          },
          "yaxis": {
           "automargin": true,
           "gridcolor": "white",
           "linecolor": "white",
           "ticks": "",
           "title": {
            "standoff": 15
           },
           "zerolinecolor": "white",
           "zerolinewidth": 2
          }
         }
        },
        "width": 800,
        "xaxis": {
         "autorange": true,
         "range": [
          -0.5,
          349.5
         ],
         "title": {
          "text": "Number of Connections"
         },
         "type": "linear"
        },
        "yaxis": {
         "autorange": true,
         "range": [
          0,
          11.578947368421053
         ],
         "title": {
          "text": "Number of Classes"
         }
        }
       }
      },
      "image/png": "[encoded data removed]",
      "text/html": [
       "<div>                            <div id=\"3acabdaf-caca-4dfa-a35a-ef4be6cdd6fa\" class=\"plotly-graph-div\" style=\"height:600px; width:800px;\"></div>            <script type=\"text/javascript\">                require([\"plotly\"], function(Plotly) {                    window.PLOTLYENV=window.PLOTLYENV || {};                                    if (document.getElementById(\"3acabdaf-caca-4dfa-a35a-ef4be6cdd6fa\")) {                    Plotly.newPlot(                        \"3acabdaf-caca-4dfa-a35a-ef4be6cdd6fa\",                        [{\"marker\":{\"color\":\"#EB89B5\"},\"name\":\"Nominated-Networks\",\"opacity\":0.8,\"type\":\"histogram\",\"x\":[114,184,171,181,132,154,102,137,83,163,304,345,158,151,115,204,203,172,216,178,293],\"xbins\":{\"size\":50}},{\"marker\":{\"color\":\"#330C73\"},\"name\":\"Communication-Networks\",\"opacity\":0.8,\"type\":\"histogram\",\"x\":[42,71,92,76,73,65,33,90,62,163,283,253,202,127,69,341,244,121,336,159,220],\"xbins\":{\"size\":50}}],                        {\"barmode\":\"stack\",\"height\":600,\"template\":{\"data\":{\"bar\":[{\"error_x\":{\"color\":\"#2a3f5f\"},\"error_y\":{\"color\":\"#2a3f5f\"},\"marker\":{\"line\":{\"color\":\"#E5ECF6\",\"width\":0.5},\"pattern\":{\"fillmode\":\"overlay\",\"size\":10,\"solidity\":0.2}},\"type\":\"bar\"}],\"barpolar\":[{\"marker\":{\"line\":{\"color\":\"#E5ECF6\",\"width\":0.5},\"pattern\":{\"fillmode\":\"overlay\",\"size\":10,\"solidity\":0.2}},\"type\":\"barpolar\"}],\"carpet\":[{\"aaxis\":{\"endlinecolor\":\"#2a3f5f\",\"gridcolor\":\"white\",\"linecolor\":\"white\",\"minorgridcolor\":\"white\",\"startlinecolor\":\"#2a3f5f\"},\"baxis\":{\"endlinecolor\":\"#2a3f5f\",\"gridcolor\":\"white\",\"linecolor\":\"white\",\"minorgridcolor\":\"white\",\"startlinecolor\":\"#2a3f5f\"},\"type\":\"carpet\"}],\"choropleth\":[{\"colorbar\":{\"outlinewidth\":0,\"ticks\":\"\"},\"type\":\"choropleth\"}],\"contour\":[{\"colorbar\":{\"outlinewidth\":0,\"ticks\":\"\"},\"colorscale\":[[0.0,\"#0d0887\"],[0.1111111111111111,\"#46039f\"],[0.2222222222222222,\"#7201a8\"],[0.3333333333333333,\"#9c179e\"],[0.4444444444444444,\"#bd3786\"],[0.5555555555555556,\"#d8576b\"],[0.6666666666666666,\"#ed7953\"],[0.7777777777777778,\"#fb9f3a\"],[0.8888888888888888,\"#fdca26\"],[1.0,\"#f0f921\"]],\"type\":\"contour\"}],\"contourcarpet\":[{\"colorbar\":{\"outlinewidth\":0,\"ticks\":\"\"},\"type\":\"contourcarpet\"}],\"heatmap\":[{\"colorbar\":{\"outlinewidth\":0,\"ticks\":\"\"},\"colorscale\":[[0.0,\"#0d0887\"],[0.1111111111111111,\"#46039f\"],[0.2222222222222222,\"#7201a8\"],[0.3333333333333333,\"#9c179e\"],[0.4444444444444444,\"#bd3786\"],[0.5555555555555556,\"#d8576b\"],[0.6666666666666666,\"#ed7953\"],[0.7777777777777778,\"#fb9f3a\"],[0.8888888888888888,\"#fdca26\"],[1.0,\"#f0f921\"]],\"type\":\"heatmap\"}],\"heatmapgl\":[{\"colorbar\":{\"outlinewidth\":0,\"ticks\":\"\"},\"colorscale\":[[0.0,\"#0d0887\"],[0.1111111111111111,\"#46039f\"],[0.2222222222222222,\"#7201a8\"],[0.3333333333333333,\"#9c179e\"],[0.4444444444444444,\"#bd3786\"],[0.5555555555555556,\"#d8576b\"],[0.6666666666666666,\"#ed7953\"],[0.7777777777777778,\"#fb9f3a\"],[0.8888888888888888,\"#fdca26\"],[1.0,\"#f0f921\"]],\"type\":\"heatmapgl\"}],\"histogram\":[{\"marker\":{\"pattern\":{\"fillmode\":\"overlay\",\"size\":10,\"solidity\":0.2}},\"type\":\"histogram\"}],\"histogram2d\":[{\"colorbar\":{\"outlinewidth\":0,\"ticks\":\"\"},\"colorscale\":[[0.0,\"#0d0887\"],[0.1111111111111111,\"#46039f\"],[0.2222222222222222,\"#7201a8\"],[0.3333333333333333,\"#9c179e\"],[0.4444444444444444,\"#bd3786\"],[0.5555555555555556,\"#d8576b\"],[0.6666666666666666,\"#ed7953\"],[0.7777777777777778,\"#fb9f3a\"],[0.8888888888888888,\"#fdca26\"],[1.0,\"#f0f921\"]],\"type\":\"histogram2d\"}],\"histogram2dcontour\":[{\"colorbar\":{\"outlinewidth\":0,\"ticks\":\"\"},\"colorscale\":[[0.0,\"#0d0887\"],[0.1111111111111111,\"#46039f\"],[0.2222222222222222,\"#7201a8\"],[0.3333333333333333,\"#9c179e\"],[0.4444444444444444,\"#bd3786\"],[0.5555555555555556,\"#d8576b\"],[0.6666666666666666,\"#ed7953\"],[0.7777777777777778,\"#fb9f3a\"],[0.8888888888888888,\"#fdca26\"],[1.0,\"#f0f921\"]],\"type\":\"histogram2dcontour\"}],\"mesh3d\":[{\"colorbar\":{\"outlinewidth\":0,\"ticks\":\"\"},\"type\":\"mesh3d\"}],\"parcoords\":[{\"line\":{\"colorbar\":{\"outlinewidth\":0,\"ticks\":\"\"}},\"type\":\"parcoords\"}],\"pie\":[{\"automargin\":true,\"type\":\"pie\"}],\"scatter\":[{\"marker\":{\"colorbar\":{\"outlinewidth\":0,\"ticks\":\"\"}},\"type\":\"scatter\"}],\"scatter3d\":[{\"line\":{\"colorbar\":{\"outlinewidth\":0,\"ticks\":\"\"}},\"marker\":{\"colorbar\":{\"outlinewidth\":0,\"ticks\":\"\"}},\"type\":\"scatter3d\"}],\"scattercarpet\":[{\"marker\":{\"colorbar\":{\"outlinewidth\":0,\"ticks\":\"\"}},\"type\":\"scattercarpet\"}],\"scattergeo\":[{\"marker\":{\"colorbar\":{\"outlinewidth\":0,\"ticks\":\"\"}},\"type\":\"scattergeo\"}],\"scattergl\":[{\"marker\":{\"colorbar\":{\"outlinewidth\":0,\"ticks\":\"\"}},\"type\":\"scattergl\"}],\"scattermapbox\":[{\"marker\":{\"colorbar\":{\"outlinewidth\":0,\"ticks\":\"\"}},\"type\":\"scattermapbox\"}],\"scatterpolar\":[{\"marker\":{\"colorbar\":{\"outlinewidth\":0,\"ticks\":\"\"}},\"type\":\"scatterpolar\"}],\"scatterpolargl\":[{\"marker\":{\"colorbar\":{\"outlinewidth\":0,\"ticks\":\"\"}},\"type\":\"scatterpolargl\"}],\"scatterternary\":[{\"marker\":{\"colorbar\":{\"outlinewidth\":0,\"ticks\":\"\"}},\"type\":\"scatterternary\"}],\"surface\":[{\"colorbar\":{\"outlinewidth\":0,\"ticks\":\"\"},\"colorscale\":[[0.0,\"#0d0887\"],[0.1111111111111111,\"#46039f\"],[0.2222222222222222,\"#7201a8\"],[0.3333333333333333,\"#9c179e\"],[0.4444444444444444,\"#bd3786\"],[0.5555555555555556,\"#d8576b\"],[0.6666666666666666,\"#ed7953\"],[0.7777777777777778,\"#fb9f3a\"],[0.8888888888888888,\"#fdca26\"],[1.0,\"#f0f921\"]],\"type\":\"surface\"}],\"table\":[{\"cells\":{\"fill\":{\"color\":\"#EBF0F8\"},\"line\":{\"color\":\"white\"}},\"header\":{\"fill\":{\"color\":\"#C8D4E3\"},\"line\":{\"color\":\"white\"}},\"type\":\"table\"}]},\"layout\":{\"annotationdefaults\":{\"arrowcolor\":\"#2a3f5f\",\"arrowhead\":0,\"arrowwidth\":1},\"autotypenumbers\":\"strict\",\"coloraxis\":{\"colorbar\":{\"outlinewidth\":0,\"ticks\":\"\"}},\"colorscale\":{\"diverging\":[[0,\"#8e0152\"],[0.1,\"#c51b7d\"],[0.2,\"#de77ae\"],[0.3,\"#f1b6da\"],[0.4,\"#fde0ef\"],[0.5,\"#f7f7f7\"],[0.6,\"#e6f5d0\"],[0.7,\"#b8e186\"],[0.8,\"#7fbc41\"],[0.9,\"#4d9221\"],[1,\"#276419\"]],\"sequential\":[[0.0,\"#0d0887\"],[0.1111111111111111,\"#46039f\"],[0.2222222222222222,\"#7201a8\"],[0.3333333333333333,\"#9c179e\"],[0.4444444444444444,\"#bd3786\"],[0.5555555555555556,\"#d8576b\"],[0.6666666666666666,\"#ed7953\"],[0.7777777777777778,\"#fb9f3a\"],[0.8888888888888888,\"#fdca26\"],[1.0,\"#f0f921\"]],\"sequentialminus\":[[0.0,\"#0d0887\"],[0.1111111111111111,\"#46039f\"],[0.2222222222222222,\"#7201a8\"],[0.3333333333333333,\"#9c179e\"],[0.4444444444444444,\"#bd3786\"],[0.5555555555555556,\"#d8576b\"],[0.6666666666666666,\"#ed7953\"],[0.7777777777777778,\"#fb9f3a\"],[0.8888888888888888,\"#fdca26\"],[1.0,\"#f0f921\"]]},\"colorway\":[\"#636efa\",\"#EF553B\",\"#00cc96\",\"#ab63fa\",\"#FFA15A\",\"#19d3f3\",\"#FF6692\",\"#B6E880\",\"#FF97FF\",\"#FECB52\"],\"font\":{\"color\":\"#2a3f5f\"},\"geo\":{\"bgcolor\":\"white\",\"lakecolor\":\"white\",\"landcolor\":\"#E5ECF6\",\"showlakes\":true,\"showland\":true,\"subunitcolor\":\"white\"},\"hoverlabel\":{\"align\":\"left\"},\"hovermode\":\"closest\",\"mapbox\":{\"style\":\"light\"},\"paper_bgcolor\":\"white\",\"plot_bgcolor\":\"#E5ECF6\",\"polar\":{\"angularaxis\":{\"gridcolor\":\"white\",\"linecolor\":\"white\",\"ticks\":\"\"},\"bgcolor\":\"#E5ECF6\",\"radialaxis\":{\"gridcolor\":\"white\",\"linecolor\":\"white\",\"ticks\":\"\"}},\"scene\":{\"xaxis\":{\"backgroundcolor\":\"#E5ECF6\",\"gridcolor\":\"white\",\"gridwidth\":2,\"linecolor\":\"white\",\"showbackground\":true,\"ticks\":\"\",\"zerolinecolor\":\"white\"},\"yaxis\":{\"backgroundcolor\":\"#E5ECF6\",\"gridcolor\":\"white\",\"gridwidth\":2,\"linecolor\":\"white\",\"showbackground\":true,\"ticks\":\"\",\"zerolinecolor\":\"white\"},\"zaxis\":{\"backgroundcolor\":\"#E5ECF6\",\"gridcolor\":\"white\",\"gridwidth\":2,\"linecolor\":\"white\",\"showbackground\":true,\"ticks\":\"\",\"zerolinecolor\":\"white\"}},\"shapedefaults\":{\"line\":{\"color\":\"#2a3f5f\"}},\"ternary\":{\"aaxis\":{\"gridcolor\":\"white\",\"linecolor\":\"white\",\"ticks\":\"\"},\"baxis\":{\"gridcolor\":\"white\",\"linecolor\":\"white\",\"ticks\":\"\"},\"bgcolor\":\"#E5ECF6\",\"caxis\":{\"gridcolor\":\"white\",\"linecolor\":\"white\",\"ticks\":\"\"}},\"title\":{\"x\":0.05},\"xaxis\":{\"automargin\":true,\"gridcolor\":\"white\",\"linecolor\":\"white\",\"ticks\":\"\",\"title\":{\"standoff\":15},\"zerolinecolor\":\"white\",\"zerolinewidth\":2},\"yaxis\":{\"automargin\":true,\"gridcolor\":\"white\",\"linecolor\":\"white\",\"ticks\":\"\",\"title\":{\"standoff\":15},\"zerolinecolor\":\"white\",\"zerolinewidth\":2}}},\"width\":800,\"xaxis\":{\"title\":{\"text\":\"Number of Connections\"}},\"yaxis\":{\"title\":{\"text\":\"Number of Classes\"}}},                        {\"responsive\": true}                    ).then(function(){\n",
       "                            \n",
       "var gd = document.getElementById('3acabdaf-caca-4dfa-a35a-ef4be6cdd6fa');\n",
       "var x = new MutationObserver(function (mutations, observer) {{\n",
       "        var display = window.getComputedStyle(gd).display;\n",
       "        if (!display || display === 'none') {{\n",
       "            console.log([gd, 'removed!']);\n",
       "            Plotly.purge(gd);\n",
       "            observer.disconnect();\n",
       "        }}\n",
       "}});\n",
       "\n",
       "// Listen for the removal of the full notebook cells\n",
       "var notebookContainer = gd.closest('#notebook-container');\n",
       "if (notebookContainer) {{\n",
       "    x.observe(notebookContainer, {childList: true});\n",
       "}}\n",
       "\n",
       "// Listen for the clearing of the current output cell\n",
       "var outputEl = gd.closest('.output');\n",
       "if (outputEl) {{\n",
       "    x.observe(outputEl, {childList: true});\n",
       "}}\n",
       "\n",
       "                        })                };                });            </script>        </div>"
      ]
     },
     "metadata": {},
     "output_type": "display_data"
    }
   ],
   "source": [
    "import plotly.graph_objects as go\n",
    "\n",
    "import numpy as np\n",
    "\n",
    "x0 = pop_details_nomm['NumberConnections']\n",
    "# Add 1 to shift the mean of the Gaussian distribution\n",
    "x1 = pop_details_comm['NumberConnections']\n",
    "\n",
    "fig = go.Figure()\n",
    "fig.add_trace(go.Histogram(x=x0,\n",
    "    name='Nominated-Networks', # name used in legend and hover labels\n",
    "    xbins=dict( # bins used for histogram\n",
    "     \n",
    "        size=50\n",
    "    ),\n",
    "    marker_color='#EB89B5',\n",
    "    opacity=0.75))\n",
    "fig.add_trace(go.Histogram(x=x1,\n",
    "    name='Communication-Networks',\n",
    "    xbins=dict(\n",
    "     \n",
    "        size=50\n",
    "    ),\n",
    "    marker_color='#330C73',\n",
    "    opacity=0.75))\n",
    "\n",
    "# Overlay both histograms\n",
    "fig.update_layout(xaxis_title=\"Number of Connections\", yaxis_title=\"Number of Classes\", width=800, height=600, barmode='stack')\n",
    "# Reduce opacity to see both histograms\n",
    "fig.update_traces(opacity=0.8)\n",
    "fig.show()"
   ]
  },
  {
   "cell_type": "code",
   "execution_count": 257,
   "id": "5d6ba8ad-55e1-49bf-8d5e-25d95d8c5bd9",
   "metadata": {},
   "outputs": [
    {
     "data": {
      "application/vnd.plotly.v1+json": {
       "config": {
        "plotlyServerURL": "https://plot.ly"
       },
       "data": [
        {
         "marker": {
          "color": "#EB89B5"
         },
         "name": "Nominated-Networks",
         "opacity": 0.8,
         "type": "histogram",
         "x": [
          0.43,
          0.29,
          0.35,
          0.27,
          0.42,
          0.35,
          0.49,
          0.38,
          0.67,
          0.43,
          0.28,
          0.35,
          0.36,
          0.42,
          0.33,
          0.35,
          0.42,
          0.45,
          0.4,
          0.32,
          0.34
         ],
         "xbins": {
          "size": 0.1
         }
        },
        {
         "marker": {
          "color": "#330C73"
         },
         "name": "Communication-Networks",
         "opacity": 0.8,
         "type": "histogram",
         "x": [
          0.67,
          0.57,
          0.55,
          0.6,
          0.52,
          0.5,
          0.88,
          0.56,
          0.59,
          0.37,
          0.42,
          0.38,
          0.35,
          0.38,
          0.56,
          0.21,
          0.22,
          0.49,
          0.29,
          0.35,
          0.61
         ],
         "xbins": {
          "size": 0.1
         }
        }
       ],
       "layout": {
        "barmode": "stack",
        "height": 600,
        "template": {
         "data": {
          "bar": [
           {
            "error_x": {
             "color": "#2a3f5f"
            },
            "error_y": {
             "color": "#2a3f5f"
            },
            "marker": {
             "line": {
              "color": "#E5ECF6",
              "width": 0.5
             },
             "pattern": {
              "fillmode": "overlay",
              "size": 10,
              "solidity": 0.2
             }
            },
            "type": "bar"
           }
          ],
          "barpolar": [
           {
            "marker": {
             "line": {
              "color": "#E5ECF6",
              "width": 0.5
             },
             "pattern": {
              "fillmode": "overlay",
              "size": 10,
              "solidity": 0.2
             }
            },
            "type": "barpolar"
           }
          ],
          "carpet": [
           {
            "aaxis": {
             "endlinecolor": "#2a3f5f",
             "gridcolor": "white",
             "linecolor": "white",
             "minorgridcolor": "white",
             "startlinecolor": "#2a3f5f"
            },
            "baxis": {
             "endlinecolor": "#2a3f5f",
             "gridcolor": "white",
             "linecolor": "white",
             "minorgridcolor": "white",
             "startlinecolor": "#2a3f5f"
            },
            "type": "carpet"
           }
          ],
          "choropleth": [
           {
            "colorbar": {
             "outlinewidth": 0,
             "ticks": ""
            },
            "type": "choropleth"
           }
          ],
          "contour": [
           {
            "colorbar": {
             "outlinewidth": 0,
             "ticks": ""
            },
            "colorscale": [
             [
              0,
              "#0d0887"
             ],
             [
              0.1111111111111111,
              "#46039f"
             ],
             [
              0.2222222222222222,
              "#7201a8"
             ],
             [
              0.3333333333333333,
              "#9c179e"
             ],
             [
              0.4444444444444444,
              "#bd3786"
             ],
             [
              0.5555555555555556,
              "#d8576b"
             ],
             [
              0.6666666666666666,
              "#ed7953"
             ],
             [
              0.7777777777777778,
              "#fb9f3a"
             ],
             [
              0.8888888888888888,
              "#fdca26"
             ],
             [
              1,
              "#f0f921"
             ]
            ],
            "type": "contour"
           }
          ],
          "contourcarpet": [
           {
            "colorbar": {
             "outlinewidth": 0,
             "ticks": ""
            },
            "type": "contourcarpet"
           }
          ],
          "heatmap": [
           {
            "colorbar": {
             "outlinewidth": 0,
             "ticks": ""
            },
            "colorscale": [
             [
              0,
              "#0d0887"
             ],
             [
              0.1111111111111111,
              "#46039f"
             ],
             [
              0.2222222222222222,
              "#7201a8"
             ],
             [
              0.3333333333333333,
              "#9c179e"
             ],
             [
              0.4444444444444444,
              "#bd3786"
             ],
             [
              0.5555555555555556,
              "#d8576b"
             ],
             [
              0.6666666666666666,
              "#ed7953"
             ],
             [
              0.7777777777777778,
              "#fb9f3a"
             ],
             [
              0.8888888888888888,
              "#fdca26"
             ],
             [
              1,
              "#f0f921"
             ]
            ],
            "type": "heatmap"
           }
          ],
          "heatmapgl": [
           {
            "colorbar": {
             "outlinewidth": 0,
             "ticks": ""
            },
            "colorscale": [
             [
              0,
              "#0d0887"
             ],
             [
              0.1111111111111111,
              "#46039f"
             ],
             [
              0.2222222222222222,
              "#7201a8"
             ],
             [
              0.3333333333333333,
              "#9c179e"
             ],
             [
              0.4444444444444444,
              "#bd3786"
             ],
             [
              0.5555555555555556,
              "#d8576b"
             ],
             [
              0.6666666666666666,
              "#ed7953"
             ],
             [
              0.7777777777777778,
              "#fb9f3a"
             ],
             [
              0.8888888888888888,
              "#fdca26"
             ],
             [
              1,
              "#f0f921"
             ]
            ],
            "type": "heatmapgl"
           }
          ],
          "histogram": [
           {
            "marker": {
             "pattern": {
              "fillmode": "overlay",
              "size": 10,
              "solidity": 0.2
             }
            },
            "type": "histogram"
           }
          ],
          "histogram2d": [
           {
            "colorbar": {
             "outlinewidth": 0,
             "ticks": ""
            },
            "colorscale": [
             [
              0,
              "#0d0887"
             ],
             [
              0.1111111111111111,
              "#46039f"
             ],
             [
              0.2222222222222222,
              "#7201a8"
             ],
             [
              0.3333333333333333,
              "#9c179e"
             ],
             [
              0.4444444444444444,
              "#bd3786"
             ],
             [
              0.5555555555555556,
              "#d8576b"
             ],
             [
              0.6666666666666666,
              "#ed7953"
             ],
             [
              0.7777777777777778,
              "#fb9f3a"
             ],
             [
              0.8888888888888888,
              "#fdca26"
             ],
             [
              1,
              "#f0f921"
             ]
            ],
            "type": "histogram2d"
           }
          ],
          "histogram2dcontour": [
           {
            "colorbar": {
             "outlinewidth": 0,
             "ticks": ""
            },
            "colorscale": [
             [
              0,
              "#0d0887"
             ],
             [
              0.1111111111111111,
              "#46039f"
             ],
             [
              0.2222222222222222,
              "#7201a8"
             ],
             [
              0.3333333333333333,
              "#9c179e"
             ],
             [
              0.4444444444444444,
              "#bd3786"
             ],
             [
              0.5555555555555556,
              "#d8576b"
             ],
             [
              0.6666666666666666,
              "#ed7953"
             ],
             [
              0.7777777777777778,
              "#fb9f3a"
             ],
             [
              0.8888888888888888,
              "#fdca26"
             ],
             [
              1,
              "#f0f921"
             ]
            ],
            "type": "histogram2dcontour"
           }
          ],
          "mesh3d": [
           {
            "colorbar": {
             "outlinewidth": 0,
             "ticks": ""
            },
            "type": "mesh3d"
           }
          ],
          "parcoords": [
           {
            "line": {
             "colorbar": {
              "outlinewidth": 0,
              "ticks": ""
             }
            },
            "type": "parcoords"
           }
          ],
          "pie": [
           {
            "automargin": true,
            "type": "pie"
           }
          ],
          "scatter": [
           {
            "marker": {
             "colorbar": {
              "outlinewidth": 0,
              "ticks": ""
             }
            },
            "type": "scatter"
           }
          ],
          "scatter3d": [
           {
            "line": {
             "colorbar": {
              "outlinewidth": 0,
              "ticks": ""
             }
            },
            "marker": {
             "colorbar": {
              "outlinewidth": 0,
              "ticks": ""
             }
            },
            "type": "scatter3d"
           }
          ],
          "scattercarpet": [
           {
            "marker": {
             "colorbar": {
              "outlinewidth": 0,
              "ticks": ""
             }
            },
            "type": "scattercarpet"
           }
          ],
          "scattergeo": [
           {
            "marker": {
             "colorbar": {
              "outlinewidth": 0,
              "ticks": ""
             }
            },
            "type": "scattergeo"
           }
          ],
          "scattergl": [
           {
            "marker": {
             "colorbar": {
              "outlinewidth": 0,
              "ticks": ""
             }
            },
            "type": "scattergl"
           }
          ],
          "scattermapbox": [
           {
            "marker": {
             "colorbar": {
              "outlinewidth": 0,
              "ticks": ""
             }
            },
            "type": "scattermapbox"
           }
          ],
          "scatterpolar": [
           {
            "marker": {
             "colorbar": {
              "outlinewidth": 0,
              "ticks": ""
             }
            },
            "type": "scatterpolar"
           }
          ],
          "scatterpolargl": [
           {
            "marker": {
             "colorbar": {
              "outlinewidth": 0,
              "ticks": ""
             }
            },
            "type": "scatterpolargl"
           }
          ],
          "scatterternary": [
           {
            "marker": {
             "colorbar": {
              "outlinewidth": 0,
              "ticks": ""
             }
            },
            "type": "scatterternary"
           }
          ],
          "surface": [
           {
            "colorbar": {
             "outlinewidth": 0,
             "ticks": ""
            },
            "colorscale": [
             [
              0,
              "#0d0887"
             ],
             [
              0.1111111111111111,
              "#46039f"
             ],
             [
              0.2222222222222222,
              "#7201a8"
             ],
             [
              0.3333333333333333,
              "#9c179e"
             ],
             [
              0.4444444444444444,
              "#bd3786"
             ],
             [
              0.5555555555555556,
              "#d8576b"
             ],
             [
              0.6666666666666666,
              "#ed7953"
             ],
             [
              0.7777777777777778,
              "#fb9f3a"
             ],
             [
              0.8888888888888888,
              "#fdca26"
             ],
             [
              1,
              "#f0f921"
             ]
            ],
            "type": "surface"
           }
          ],
          "table": [
           {
            "cells": {
             "fill": {
              "color": "#EBF0F8"
             },
             "line": {
              "color": "white"
             }
            },
            "header": {
             "fill": {
              "color": "#C8D4E3"
             },
             "line": {
              "color": "white"
             }
            },
            "type": "table"
           }
          ]
         },
         "layout": {
          "annotationdefaults": {
           "arrowcolor": "#2a3f5f",
           "arrowhead": 0,
           "arrowwidth": 1
          },
          "autotypenumbers": "strict",
          "coloraxis": {
           "colorbar": {
            "outlinewidth": 0,
            "ticks": ""
           }
          },
          "colorscale": {
           "diverging": [
            [
             0,
             "#8e0152"
            ],
            [
             0.1,
             "#c51b7d"
            ],
            [
             0.2,
             "#de77ae"
            ],
            [
             0.3,
             "#f1b6da"
            ],
            [
             0.4,
             "#fde0ef"
            ],
            [
             0.5,
             "#f7f7f7"
            ],
            [
             0.6,
             "#e6f5d0"
            ],
            [
             0.7,
             "#b8e186"
            ],
            [
             0.8,
             "#7fbc41"
            ],
            [
             0.9,
             "#4d9221"
            ],
            [
             1,
             "#276419"
            ]
           ],
           "sequential": [
            [
             0,
             "#0d0887"
            ],
            [
             0.1111111111111111,
             "#46039f"
            ],
            [
             0.2222222222222222,
             "#7201a8"
            ],
            [
             0.3333333333333333,
             "#9c179e"
            ],
            [
             0.4444444444444444,
             "#bd3786"
            ],
            [
             0.5555555555555556,
             "#d8576b"
            ],
            [
             0.6666666666666666,
             "#ed7953"
            ],
            [
             0.7777777777777778,
             "#fb9f3a"
            ],
            [
             0.8888888888888888,
             "#fdca26"
            ],
            [
             1,
             "#f0f921"
            ]
           ],
           "sequentialminus": [
            [
             0,
             "#0d0887"
            ],
            [
             0.1111111111111111,
             "#46039f"
            ],
            [
             0.2222222222222222,
             "#7201a8"
            ],
            [
             0.3333333333333333,
             "#9c179e"
            ],
            [
             0.4444444444444444,
             "#bd3786"
            ],
            [
             0.5555555555555556,
             "#d8576b"
            ],
            [
             0.6666666666666666,
             "#ed7953"
            ],
            [
             0.7777777777777778,
             "#fb9f3a"
            ],
            [
             0.8888888888888888,
             "#fdca26"
            ],
            [
             1,
             "#f0f921"
            ]
           ]
          },
          "colorway": [
           "#636efa",
           "#EF553B",
           "#00cc96",
           "#ab63fa",
           "#FFA15A",
           "#19d3f3",
           "#FF6692",
           "#B6E880",
           "#FF97FF",
           "#FECB52"
          ],
          "font": {
           "color": "#2a3f5f"
          },
          "geo": {
           "bgcolor": "white",
           "lakecolor": "white",
           "landcolor": "#E5ECF6",
           "showlakes": true,
           "showland": true,
           "subunitcolor": "white"
          },
          "hoverlabel": {
           "align": "left"
          },
          "hovermode": "closest",
          "mapbox": {
           "style": "light"
          },
          "paper_bgcolor": "white",
          "plot_bgcolor": "#E5ECF6",
          "polar": {
           "angularaxis": {
            "gridcolor": "white",
            "linecolor": "white",
            "ticks": ""
           },
           "bgcolor": "#E5ECF6",
           "radialaxis": {
            "gridcolor": "white",
            "linecolor": "white",
            "ticks": ""
           }
          },
          "scene": {
           "xaxis": {
            "backgroundcolor": "#E5ECF6",
            "gridcolor": "white",
            "gridwidth": 2,
            "linecolor": "white",
            "showbackground": true,
            "ticks": "",
            "zerolinecolor": "white"
           },
           "yaxis": {
            "backgroundcolor": "#E5ECF6",
            "gridcolor": "white",
            "gridwidth": 2,
            "linecolor": "white",
            "showbackground": true,
            "ticks": "",
            "zerolinecolor": "white"
           },
           "zaxis": {
            "backgroundcolor": "#E5ECF6",
            "gridcolor": "white",
            "gridwidth": 2,
            "linecolor": "white",
            "showbackground": true,
            "ticks": "",
            "zerolinecolor": "white"
           }
          },
          "shapedefaults": {
           "line": {
            "color": "#2a3f5f"
           }
          },
          "ternary": {
           "aaxis": {
            "gridcolor": "white",
            "linecolor": "white",
            "ticks": ""
           },
           "baxis": {
            "gridcolor": "white",
            "linecolor": "white",
            "ticks": ""
           },
           "bgcolor": "#E5ECF6",
           "caxis": {
            "gridcolor": "white",
            "linecolor": "white",
            "ticks": ""
           }
          },
          "title": {
           "x": 0.05
          },
          "xaxis": {
           "automargin": true,
           "gridcolor": "white",
           "linecolor": "white",
           "ticks": "",
           "title": {
            "standoff": 15
           },
           "zerolinecolor": "white",
           "zerolinewidth": 2
          },
          "yaxis": {
           "automargin": true,
           "gridcolor": "white",
           "linecolor": "white",
           "ticks": "",
           "title": {
            "standoff": 15
           },
           "zerolinecolor": "white",
           "zerolinewidth": 2
          }
         }
        },
        "width": 800,
        "xaxis": {
         "autorange": true,
         "range": [
          0.20000000000000012,
          0.9
         ],
         "title": {
          "text": "In-Degree Centralization"
         },
         "type": "linear"
        },
        "yaxis": {
         "autorange": true,
         "range": [
          0,
          14.736842105263158
         ],
         "title": {
          "text": "Number of Classes"
         }
        }
       }
      },
      "image/png": "[encoded data removed]",
      "text/html": [
       "<div>                            <div id=\"c450649a-e5bc-41c6-9c46-5fe57a45fe24\" class=\"plotly-graph-div\" style=\"height:600px; width:800px;\"></div>            <script type=\"text/javascript\">                require([\"plotly\"], function(Plotly) {                    window.PLOTLYENV=window.PLOTLYENV || {};                                    if (document.getElementById(\"c450649a-e5bc-41c6-9c46-5fe57a45fe24\")) {                    Plotly.newPlot(                        \"c450649a-e5bc-41c6-9c46-5fe57a45fe24\",                        [{\"marker\":{\"color\":\"#EB89B5\"},\"name\":\"Nominated-Networks\",\"opacity\":0.8,\"type\":\"histogram\",\"x\":[0.43,0.29,0.35,0.27,0.42,0.35,0.49,0.38,0.67,0.43,0.28,0.35,0.36,0.42,0.33,0.35,0.42,0.45,0.4,0.32,0.34],\"xbins\":{\"size\":0.1}},{\"marker\":{\"color\":\"#330C73\"},\"name\":\"Communication-Networks\",\"opacity\":0.8,\"type\":\"histogram\",\"x\":[0.67,0.57,0.55,0.6,0.52,0.5,0.88,0.56,0.59,0.37,0.42,0.38,0.35,0.38,0.56,0.21,0.22,0.49,0.29,0.35,0.61],\"xbins\":{\"size\":0.1}}],                        {\"barmode\":\"stack\",\"height\":600,\"template\":{\"data\":{\"bar\":[{\"error_x\":{\"color\":\"#2a3f5f\"},\"error_y\":{\"color\":\"#2a3f5f\"},\"marker\":{\"line\":{\"color\":\"#E5ECF6\",\"width\":0.5},\"pattern\":{\"fillmode\":\"overlay\",\"size\":10,\"solidity\":0.2}},\"type\":\"bar\"}],\"barpolar\":[{\"marker\":{\"line\":{\"color\":\"#E5ECF6\",\"width\":0.5},\"pattern\":{\"fillmode\":\"overlay\",\"size\":10,\"solidity\":0.2}},\"type\":\"barpolar\"}],\"carpet\":[{\"aaxis\":{\"endlinecolor\":\"#2a3f5f\",\"gridcolor\":\"white\",\"linecolor\":\"white\",\"minorgridcolor\":\"white\",\"startlinecolor\":\"#2a3f5f\"},\"baxis\":{\"endlinecolor\":\"#2a3f5f\",\"gridcolor\":\"white\",\"linecolor\":\"white\",\"minorgridcolor\":\"white\",\"startlinecolor\":\"#2a3f5f\"},\"type\":\"carpet\"}],\"choropleth\":[{\"colorbar\":{\"outlinewidth\":0,\"ticks\":\"\"},\"type\":\"choropleth\"}],\"contour\":[{\"colorbar\":{\"outlinewidth\":0,\"ticks\":\"\"},\"colorscale\":[[0.0,\"#0d0887\"],[0.1111111111111111,\"#46039f\"],[0.2222222222222222,\"#7201a8\"],[0.3333333333333333,\"#9c179e\"],[0.4444444444444444,\"#bd3786\"],[0.5555555555555556,\"#d8576b\"],[0.6666666666666666,\"#ed7953\"],[0.7777777777777778,\"#fb9f3a\"],[0.8888888888888888,\"#fdca26\"],[1.0,\"#f0f921\"]],\"type\":\"contour\"}],\"contourcarpet\":[{\"colorbar\":{\"outlinewidth\":0,\"ticks\":\"\"},\"type\":\"contourcarpet\"}],\"heatmap\":[{\"colorbar\":{\"outlinewidth\":0,\"ticks\":\"\"},\"colorscale\":[[0.0,\"#0d0887\"],[0.1111111111111111,\"#46039f\"],[0.2222222222222222,\"#7201a8\"],[0.3333333333333333,\"#9c179e\"],[0.4444444444444444,\"#bd3786\"],[0.5555555555555556,\"#d8576b\"],[0.6666666666666666,\"#ed7953\"],[0.7777777777777778,\"#fb9f3a\"],[0.8888888888888888,\"#fdca26\"],[1.0,\"#f0f921\"]],\"type\":\"heatmap\"}],\"heatmapgl\":[{\"colorbar\":{\"outlinewidth\":0,\"ticks\":\"\"},\"colorscale\":[[0.0,\"#0d0887\"],[0.1111111111111111,\"#46039f\"],[0.2222222222222222,\"#7201a8\"],[0.3333333333333333,\"#9c179e\"],[0.4444444444444444,\"#bd3786\"],[0.5555555555555556,\"#d8576b\"],[0.6666666666666666,\"#ed7953\"],[0.7777777777777778,\"#fb9f3a\"],[0.8888888888888888,\"#fdca26\"],[1.0,\"#f0f921\"]],\"type\":\"heatmapgl\"}],\"histogram\":[{\"marker\":{\"pattern\":{\"fillmode\":\"overlay\",\"size\":10,\"solidity\":0.2}},\"type\":\"histogram\"}],\"histogram2d\":[{\"colorbar\":{\"outlinewidth\":0,\"ticks\":\"\"},\"colorscale\":[[0.0,\"#0d0887\"],[0.1111111111111111,\"#46039f\"],[0.2222222222222222,\"#7201a8\"],[0.3333333333333333,\"#9c179e\"],[0.4444444444444444,\"#bd3786\"],[0.5555555555555556,\"#d8576b\"],[0.6666666666666666,\"#ed7953\"],[0.7777777777777778,\"#fb9f3a\"],[0.8888888888888888,\"#fdca26\"],[1.0,\"#f0f921\"]],\"type\":\"histogram2d\"}],\"histogram2dcontour\":[{\"colorbar\":{\"outlinewidth\":0,\"ticks\":\"\"},\"colorscale\":[[0.0,\"#0d0887\"],[0.1111111111111111,\"#46039f\"],[0.2222222222222222,\"#7201a8\"],[0.3333333333333333,\"#9c179e\"],[0.4444444444444444,\"#bd3786\"],[0.5555555555555556,\"#d8576b\"],[0.6666666666666666,\"#ed7953\"],[0.7777777777777778,\"#fb9f3a\"],[0.8888888888888888,\"#fdca26\"],[1.0,\"#f0f921\"]],\"type\":\"histogram2dcontour\"}],\"mesh3d\":[{\"colorbar\":{\"outlinewidth\":0,\"ticks\":\"\"},\"type\":\"mesh3d\"}],\"parcoords\":[{\"line\":{\"colorbar\":{\"outlinewidth\":0,\"ticks\":\"\"}},\"type\":\"parcoords\"}],\"pie\":[{\"automargin\":true,\"type\":\"pie\"}],\"scatter\":[{\"marker\":{\"colorbar\":{\"outlinewidth\":0,\"ticks\":\"\"}},\"type\":\"scatter\"}],\"scatter3d\":[{\"line\":{\"colorbar\":{\"outlinewidth\":0,\"ticks\":\"\"}},\"marker\":{\"colorbar\":{\"outlinewidth\":0,\"ticks\":\"\"}},\"type\":\"scatter3d\"}],\"scattercarpet\":[{\"marker\":{\"colorbar\":{\"outlinewidth\":0,\"ticks\":\"\"}},\"type\":\"scattercarpet\"}],\"scattergeo\":[{\"marker\":{\"colorbar\":{\"outlinewidth\":0,\"ticks\":\"\"}},\"type\":\"scattergeo\"}],\"scattergl\":[{\"marker\":{\"colorbar\":{\"outlinewidth\":0,\"ticks\":\"\"}},\"type\":\"scattergl\"}],\"scattermapbox\":[{\"marker\":{\"colorbar\":{\"outlinewidth\":0,\"ticks\":\"\"}},\"type\":\"scattermapbox\"}],\"scatterpolar\":[{\"marker\":{\"colorbar\":{\"outlinewidth\":0,\"ticks\":\"\"}},\"type\":\"scatterpolar\"}],\"scatterpolargl\":[{\"marker\":{\"colorbar\":{\"outlinewidth\":0,\"ticks\":\"\"}},\"type\":\"scatterpolargl\"}],\"scatterternary\":[{\"marker\":{\"colorbar\":{\"outlinewidth\":0,\"ticks\":\"\"}},\"type\":\"scatterternary\"}],\"surface\":[{\"colorbar\":{\"outlinewidth\":0,\"ticks\":\"\"},\"colorscale\":[[0.0,\"#0d0887\"],[0.1111111111111111,\"#46039f\"],[0.2222222222222222,\"#7201a8\"],[0.3333333333333333,\"#9c179e\"],[0.4444444444444444,\"#bd3786\"],[0.5555555555555556,\"#d8576b\"],[0.6666666666666666,\"#ed7953\"],[0.7777777777777778,\"#fb9f3a\"],[0.8888888888888888,\"#fdca26\"],[1.0,\"#f0f921\"]],\"type\":\"surface\"}],\"table\":[{\"cells\":{\"fill\":{\"color\":\"#EBF0F8\"},\"line\":{\"color\":\"white\"}},\"header\":{\"fill\":{\"color\":\"#C8D4E3\"},\"line\":{\"color\":\"white\"}},\"type\":\"table\"}]},\"layout\":{\"annotationdefaults\":{\"arrowcolor\":\"#2a3f5f\",\"arrowhead\":0,\"arrowwidth\":1},\"autotypenumbers\":\"strict\",\"coloraxis\":{\"colorbar\":{\"outlinewidth\":0,\"ticks\":\"\"}},\"colorscale\":{\"diverging\":[[0,\"#8e0152\"],[0.1,\"#c51b7d\"],[0.2,\"#de77ae\"],[0.3,\"#f1b6da\"],[0.4,\"#fde0ef\"],[0.5,\"#f7f7f7\"],[0.6,\"#e6f5d0\"],[0.7,\"#b8e186\"],[0.8,\"#7fbc41\"],[0.9,\"#4d9221\"],[1,\"#276419\"]],\"sequential\":[[0.0,\"#0d0887\"],[0.1111111111111111,\"#46039f\"],[0.2222222222222222,\"#7201a8\"],[0.3333333333333333,\"#9c179e\"],[0.4444444444444444,\"#bd3786\"],[0.5555555555555556,\"#d8576b\"],[0.6666666666666666,\"#ed7953\"],[0.7777777777777778,\"#fb9f3a\"],[0.8888888888888888,\"#fdca26\"],[1.0,\"#f0f921\"]],\"sequentialminus\":[[0.0,\"#0d0887\"],[0.1111111111111111,\"#46039f\"],[0.2222222222222222,\"#7201a8\"],[0.3333333333333333,\"#9c179e\"],[0.4444444444444444,\"#bd3786\"],[0.5555555555555556,\"#d8576b\"],[0.6666666666666666,\"#ed7953\"],[0.7777777777777778,\"#fb9f3a\"],[0.8888888888888888,\"#fdca26\"],[1.0,\"#f0f921\"]]},\"colorway\":[\"#636efa\",\"#EF553B\",\"#00cc96\",\"#ab63fa\",\"#FFA15A\",\"#19d3f3\",\"#FF6692\",\"#B6E880\",\"#FF97FF\",\"#FECB52\"],\"font\":{\"color\":\"#2a3f5f\"},\"geo\":{\"bgcolor\":\"white\",\"lakecolor\":\"white\",\"landcolor\":\"#E5ECF6\",\"showlakes\":true,\"showland\":true,\"subunitcolor\":\"white\"},\"hoverlabel\":{\"align\":\"left\"},\"hovermode\":\"closest\",\"mapbox\":{\"style\":\"light\"},\"paper_bgcolor\":\"white\",\"plot_bgcolor\":\"#E5ECF6\",\"polar\":{\"angularaxis\":{\"gridcolor\":\"white\",\"linecolor\":\"white\",\"ticks\":\"\"},\"bgcolor\":\"#E5ECF6\",\"radialaxis\":{\"gridcolor\":\"white\",\"linecolor\":\"white\",\"ticks\":\"\"}},\"scene\":{\"xaxis\":{\"backgroundcolor\":\"#E5ECF6\",\"gridcolor\":\"white\",\"gridwidth\":2,\"linecolor\":\"white\",\"showbackground\":true,\"ticks\":\"\",\"zerolinecolor\":\"white\"},\"yaxis\":{\"backgroundcolor\":\"#E5ECF6\",\"gridcolor\":\"white\",\"gridwidth\":2,\"linecolor\":\"white\",\"showbackground\":true,\"ticks\":\"\",\"zerolinecolor\":\"white\"},\"zaxis\":{\"backgroundcolor\":\"#E5ECF6\",\"gridcolor\":\"white\",\"gridwidth\":2,\"linecolor\":\"white\",\"showbackground\":true,\"ticks\":\"\",\"zerolinecolor\":\"white\"}},\"shapedefaults\":{\"line\":{\"color\":\"#2a3f5f\"}},\"ternary\":{\"aaxis\":{\"gridcolor\":\"white\",\"linecolor\":\"white\",\"ticks\":\"\"},\"baxis\":{\"gridcolor\":\"white\",\"linecolor\":\"white\",\"ticks\":\"\"},\"bgcolor\":\"#E5ECF6\",\"caxis\":{\"gridcolor\":\"white\",\"linecolor\":\"white\",\"ticks\":\"\"}},\"title\":{\"x\":0.05},\"xaxis\":{\"automargin\":true,\"gridcolor\":\"white\",\"linecolor\":\"white\",\"ticks\":\"\",\"title\":{\"standoff\":15},\"zerolinecolor\":\"white\",\"zerolinewidth\":2},\"yaxis\":{\"automargin\":true,\"gridcolor\":\"white\",\"linecolor\":\"white\",\"ticks\":\"\",\"title\":{\"standoff\":15},\"zerolinecolor\":\"white\",\"zerolinewidth\":2}}},\"width\":800,\"xaxis\":{\"title\":{\"text\":\"In-Degree Centralization\"}},\"yaxis\":{\"title\":{\"text\":\"Number of Classes\"}}},                        {\"responsive\": true}                    ).then(function(){\n",
       "                            \n",
       "var gd = document.getElementById('c450649a-e5bc-41c6-9c46-5fe57a45fe24');\n",
       "var x = new MutationObserver(function (mutations, observer) {{\n",
       "        var display = window.getComputedStyle(gd).display;\n",
       "        if (!display || display === 'none') {{\n",
       "            console.log([gd, 'removed!']);\n",
       "            Plotly.purge(gd);\n",
       "            observer.disconnect();\n",
       "        }}\n",
       "}});\n",
       "\n",
       "// Listen for the removal of the full notebook cells\n",
       "var notebookContainer = gd.closest('#notebook-container');\n",
       "if (notebookContainer) {{\n",
       "    x.observe(notebookContainer, {childList: true});\n",
       "}}\n",
       "\n",
       "// Listen for the clearing of the current output cell\n",
       "var outputEl = gd.closest('.output');\n",
       "if (outputEl) {{\n",
       "    x.observe(outputEl, {childList: true});\n",
       "}}\n",
       "\n",
       "                        })                };                });            </script>        </div>"
      ]
     },
     "metadata": {},
     "output_type": "display_data"
    }
   ],
   "source": [
    "import plotly.graph_objects as go\n",
    "\n",
    "import numpy as np\n",
    "\n",
    "x0 = pop_details_nomm['CentralizationInDegree']\n",
    "# Add 1 to shift the mean of the Gaussian distribution\n",
    "x1 = pop_details_comm['CentralizationInDegree']\n",
    "\n",
    "fig = go.Figure()\n",
    "fig.add_trace(go.Histogram(x=x0,\n",
    "    name='Nominated-Networks', # name used in legend and hover labels\n",
    "    xbins=dict( # bins used for histogram\n",
    "     \n",
    "        size=0.1\n",
    "    ),\n",
    "    marker_color='#EB89B5',\n",
    "    opacity=0.75))\n",
    "fig.add_trace(go.Histogram(x=x1,\n",
    "    name='Communication-Networks',\n",
    "    xbins=dict(\n",
    "     \n",
    "        size=0.1\n",
    "    ),\n",
    "    marker_color='#330C73',\n",
    "    opacity=0.75))\n",
    "\n",
    "# Overlay both histograms\n",
    "fig.update_layout(xaxis_title=\"In-Degree Centralization\", yaxis_title=\"Number of Classes\", width=800, height=600,barmode='stack')\n",
    "# Reduce opacity to see both histograms\n",
    "fig.update_traces(opacity=0.8)\n",
    "fig.show()"
   ]
  },
  {
   "cell_type": "code",
   "execution_count": 258,
   "id": "4856dc4b-f077-4930-95b2-8e95564e9c18",
   "metadata": {},
   "outputs": [
    {
     "name": "stderr",
     "output_type": "stream",
     "text": [
      "/Users/bojansimoski/anaconda3/envs/ABM-PA/lib/python3.9/site-packages/networkx/algorithms/assortativity/correlation.py:282: RuntimeWarning:\n",
      "\n",
      "invalid value encountered in double_scalars\n",
      "\n",
      "/Users/bojansimoski/anaconda3/envs/ABM-PA/lib/python3.9/site-packages/networkx/algorithms/assortativity/mixing.py:208: RuntimeWarning:\n",
      "\n",
      "invalid value encountered in true_divide\n",
      "\n"
     ]
    }
   ],
   "source": [
    "pop_details_comm, agents_details_comm = simulation.CommunicationDataPopulation.population_network_summary(simulation.CommunicationDataPopulation.graph)"
   ]
  },
  {
   "cell_type": "code",
   "execution_count": 259,
   "id": "da8953fc-9304-4cbf-8376-5a1973b3fcc4",
   "metadata": {},
   "outputs": [
    {
     "data": {
      "text/html": [
       "<div>\n",
       "<style scoped>\n",
       "    .dataframe tbody tr th:only-of-type {\n",
       "        vertical-align: middle;\n",
       "    }\n",
       "\n",
       "    .dataframe tbody tr th {\n",
       "        vertical-align: top;\n",
       "    }\n",
       "\n",
       "    .dataframe thead th {\n",
       "        text-align: right;\n",
       "    }\n",
       "</style>\n",
       "<table border=\"1\" class=\"dataframe\">\n",
       "  <thead>\n",
       "    <tr style=\"text-align: right;\">\n",
       "      <th></th>\n",
       "      <th>SchoolClassID</th>\n",
       "      <th>NumberOfAgents</th>\n",
       "      <th>PercentageFemale</th>\n",
       "      <th>NumberConnections</th>\n",
       "      <th>Density</th>\n",
       "      <th>IsolatedNodes</th>\n",
       "      <th>CentralizationInDegree</th>\n",
       "      <th>CentralizationOutDegree</th>\n",
       "      <th>CentralizationCloseness</th>\n",
       "      <th>CentralizationBetweenness</th>\n",
       "      <th>DegreeAssortativity</th>\n",
       "      <th>AverageEnvironmentScore</th>\n",
       "      <th>AverageBMIScore</th>\n",
       "    </tr>\n",
       "  </thead>\n",
       "  <tbody>\n",
       "    <tr>\n",
       "      <th>0</th>\n",
       "      <td>78.0</td>\n",
       "      <td>17</td>\n",
       "      <td>58</td>\n",
       "      <td>42</td>\n",
       "      <td>0.15</td>\n",
       "      <td>1</td>\n",
       "      <td>0.67</td>\n",
       "      <td>0.67</td>\n",
       "      <td>-0.29</td>\n",
       "      <td>-0.42</td>\n",
       "      <td>0.16</td>\n",
       "      <td>0.56</td>\n",
       "      <td>-1.0</td>\n",
       "    </tr>\n",
       "    <tr>\n",
       "      <th>1</th>\n",
       "      <td>81.0</td>\n",
       "      <td>19</td>\n",
       "      <td>52</td>\n",
       "      <td>71</td>\n",
       "      <td>0.21</td>\n",
       "      <td>0</td>\n",
       "      <td>0.57</td>\n",
       "      <td>0.89</td>\n",
       "      <td>-0.27</td>\n",
       "      <td>-0.69</td>\n",
       "      <td>-0.33</td>\n",
       "      <td>0.48</td>\n",
       "      <td>-1.0</td>\n",
       "    </tr>\n",
       "    <tr>\n",
       "      <th>2</th>\n",
       "      <td>100.0</td>\n",
       "      <td>19</td>\n",
       "      <td>36</td>\n",
       "      <td>92</td>\n",
       "      <td>0.27</td>\n",
       "      <td>0</td>\n",
       "      <td>0.55</td>\n",
       "      <td>0.60</td>\n",
       "      <td>-0.23</td>\n",
       "      <td>-0.35</td>\n",
       "      <td>-0.09</td>\n",
       "      <td>0.56</td>\n",
       "      <td>-1.0</td>\n",
       "    </tr>\n",
       "    <tr>\n",
       "      <th>3</th>\n",
       "      <td>124.0</td>\n",
       "      <td>17</td>\n",
       "      <td>64</td>\n",
       "      <td>76</td>\n",
       "      <td>0.28</td>\n",
       "      <td>0</td>\n",
       "      <td>0.60</td>\n",
       "      <td>0.80</td>\n",
       "      <td>-0.53</td>\n",
       "      <td>-1.31</td>\n",
       "      <td>-0.02</td>\n",
       "      <td>0.53</td>\n",
       "      <td>-1.0</td>\n",
       "    </tr>\n",
       "    <tr>\n",
       "      <th>4</th>\n",
       "      <td>125.0</td>\n",
       "      <td>16</td>\n",
       "      <td>56</td>\n",
       "      <td>73</td>\n",
       "      <td>0.30</td>\n",
       "      <td>0</td>\n",
       "      <td>0.52</td>\n",
       "      <td>0.80</td>\n",
       "      <td>-0.36</td>\n",
       "      <td>-0.64</td>\n",
       "      <td>-0.06</td>\n",
       "      <td>0.50</td>\n",
       "      <td>-1.0</td>\n",
       "    </tr>\n",
       "    <tr>\n",
       "      <th>5</th>\n",
       "      <td>256.0</td>\n",
       "      <td>21</td>\n",
       "      <td>57</td>\n",
       "      <td>65</td>\n",
       "      <td>0.15</td>\n",
       "      <td>0</td>\n",
       "      <td>0.50</td>\n",
       "      <td>0.61</td>\n",
       "      <td>-0.18</td>\n",
       "      <td>-0.77</td>\n",
       "      <td>-0.01</td>\n",
       "      <td>0.37</td>\n",
       "      <td>-1.0</td>\n",
       "    </tr>\n",
       "    <tr>\n",
       "      <th>6</th>\n",
       "      <td>258.0</td>\n",
       "      <td>16</td>\n",
       "      <td>62</td>\n",
       "      <td>33</td>\n",
       "      <td>0.14</td>\n",
       "      <td>1</td>\n",
       "      <td>0.88</td>\n",
       "      <td>0.88</td>\n",
       "      <td>-0.54</td>\n",
       "      <td>-0.39</td>\n",
       "      <td>-0.24</td>\n",
       "      <td>0.32</td>\n",
       "      <td>-1.0</td>\n",
       "    </tr>\n",
       "    <tr>\n",
       "      <th>7</th>\n",
       "      <td>261.0</td>\n",
       "      <td>17</td>\n",
       "      <td>35</td>\n",
       "      <td>90</td>\n",
       "      <td>0.33</td>\n",
       "      <td>0</td>\n",
       "      <td>0.56</td>\n",
       "      <td>0.76</td>\n",
       "      <td>-0.68</td>\n",
       "      <td>-1.15</td>\n",
       "      <td>-0.15</td>\n",
       "      <td>0.46</td>\n",
       "      <td>-1.0</td>\n",
       "    </tr>\n",
       "    <tr>\n",
       "      <th>8</th>\n",
       "      <td>262.0</td>\n",
       "      <td>15</td>\n",
       "      <td>46</td>\n",
       "      <td>62</td>\n",
       "      <td>0.30</td>\n",
       "      <td>0</td>\n",
       "      <td>0.59</td>\n",
       "      <td>0.81</td>\n",
       "      <td>-0.30</td>\n",
       "      <td>-1.77</td>\n",
       "      <td>-0.14</td>\n",
       "      <td>0.47</td>\n",
       "      <td>-1.0</td>\n",
       "    </tr>\n",
       "    <tr>\n",
       "      <th>9</th>\n",
       "      <td>263.0</td>\n",
       "      <td>20</td>\n",
       "      <td>65</td>\n",
       "      <td>163</td>\n",
       "      <td>0.43</td>\n",
       "      <td>0</td>\n",
       "      <td>0.37</td>\n",
       "      <td>0.63</td>\n",
       "      <td>-0.37</td>\n",
       "      <td>-0.31</td>\n",
       "      <td>NaN</td>\n",
       "      <td>0.39</td>\n",
       "      <td>-1.0</td>\n",
       "    </tr>\n",
       "    <tr>\n",
       "      <th>10</th>\n",
       "      <td>272.0</td>\n",
       "      <td>24</td>\n",
       "      <td>37</td>\n",
       "      <td>283</td>\n",
       "      <td>0.51</td>\n",
       "      <td>0</td>\n",
       "      <td>0.42</td>\n",
       "      <td>0.53</td>\n",
       "      <td>-1.25</td>\n",
       "      <td>-0.16</td>\n",
       "      <td>-0.28</td>\n",
       "      <td>0.56</td>\n",
       "      <td>-1.0</td>\n",
       "    </tr>\n",
       "    <tr>\n",
       "      <th>11</th>\n",
       "      <td>273.0</td>\n",
       "      <td>24</td>\n",
       "      <td>50</td>\n",
       "      <td>253</td>\n",
       "      <td>0.46</td>\n",
       "      <td>0</td>\n",
       "      <td>0.38</td>\n",
       "      <td>0.59</td>\n",
       "      <td>-0.58</td>\n",
       "      <td>-0.17</td>\n",
       "      <td>0.13</td>\n",
       "      <td>0.51</td>\n",
       "      <td>-1.0</td>\n",
       "    </tr>\n",
       "    <tr>\n",
       "      <th>12</th>\n",
       "      <td>292.0</td>\n",
       "      <td>21</td>\n",
       "      <td>76</td>\n",
       "      <td>202</td>\n",
       "      <td>0.48</td>\n",
       "      <td>0</td>\n",
       "      <td>0.35</td>\n",
       "      <td>0.57</td>\n",
       "      <td>-0.58</td>\n",
       "      <td>-0.20</td>\n",
       "      <td>-0.11</td>\n",
       "      <td>0.38</td>\n",
       "      <td>-1.0</td>\n",
       "    </tr>\n",
       "    <tr>\n",
       "      <th>13</th>\n",
       "      <td>296.0</td>\n",
       "      <td>17</td>\n",
       "      <td>70</td>\n",
       "      <td>127</td>\n",
       "      <td>0.47</td>\n",
       "      <td>0</td>\n",
       "      <td>0.38</td>\n",
       "      <td>0.60</td>\n",
       "      <td>-0.48</td>\n",
       "      <td>-0.18</td>\n",
       "      <td>0.08</td>\n",
       "      <td>0.47</td>\n",
       "      <td>-1.0</td>\n",
       "    </tr>\n",
       "    <tr>\n",
       "      <th>14</th>\n",
       "      <td>297.0</td>\n",
       "      <td>16</td>\n",
       "      <td>68</td>\n",
       "      <td>69</td>\n",
       "      <td>0.29</td>\n",
       "      <td>1</td>\n",
       "      <td>0.56</td>\n",
       "      <td>0.67</td>\n",
       "      <td>-0.82</td>\n",
       "      <td>-0.62</td>\n",
       "      <td>0.20</td>\n",
       "      <td>0.48</td>\n",
       "      <td>-1.0</td>\n",
       "    </tr>\n",
       "    <tr>\n",
       "      <th>15</th>\n",
       "      <td>298.0</td>\n",
       "      <td>21</td>\n",
       "      <td>57</td>\n",
       "      <td>341</td>\n",
       "      <td>0.81</td>\n",
       "      <td>0</td>\n",
       "      <td>0.21</td>\n",
       "      <td>0.21</td>\n",
       "      <td>3.16</td>\n",
       "      <td>-0.03</td>\n",
       "      <td>NaN</td>\n",
       "      <td>0.37</td>\n",
       "      <td>-1.0</td>\n",
       "    </tr>\n",
       "    <tr>\n",
       "      <th>16</th>\n",
       "      <td>299.0</td>\n",
       "      <td>19</td>\n",
       "      <td>47</td>\n",
       "      <td>244</td>\n",
       "      <td>0.71</td>\n",
       "      <td>0</td>\n",
       "      <td>0.22</td>\n",
       "      <td>0.32</td>\n",
       "      <td>-1.25</td>\n",
       "      <td>-0.07</td>\n",
       "      <td>-0.07</td>\n",
       "      <td>0.37</td>\n",
       "      <td>-1.0</td>\n",
       "    </tr>\n",
       "    <tr>\n",
       "      <th>17</th>\n",
       "      <td>300.0</td>\n",
       "      <td>19</td>\n",
       "      <td>52</td>\n",
       "      <td>121</td>\n",
       "      <td>0.35</td>\n",
       "      <td>0</td>\n",
       "      <td>0.49</td>\n",
       "      <td>0.72</td>\n",
       "      <td>-0.50</td>\n",
       "      <td>-0.52</td>\n",
       "      <td>0.05</td>\n",
       "      <td>0.57</td>\n",
       "      <td>-1.0</td>\n",
       "    </tr>\n",
       "    <tr>\n",
       "      <th>18</th>\n",
       "      <td>301.0</td>\n",
       "      <td>24</td>\n",
       "      <td>29</td>\n",
       "      <td>336</td>\n",
       "      <td>0.61</td>\n",
       "      <td>0</td>\n",
       "      <td>0.29</td>\n",
       "      <td>0.43</td>\n",
       "      <td>-0.72</td>\n",
       "      <td>-0.10</td>\n",
       "      <td>-0.06</td>\n",
       "      <td>0.79</td>\n",
       "      <td>-1.0</td>\n",
       "    </tr>\n",
       "    <tr>\n",
       "      <th>19</th>\n",
       "      <td>302.0</td>\n",
       "      <td>19</td>\n",
       "      <td>68</td>\n",
       "      <td>159</td>\n",
       "      <td>0.46</td>\n",
       "      <td>0</td>\n",
       "      <td>0.35</td>\n",
       "      <td>0.60</td>\n",
       "      <td>-0.43</td>\n",
       "      <td>-0.24</td>\n",
       "      <td>-0.17</td>\n",
       "      <td>0.64</td>\n",
       "      <td>-1.0</td>\n",
       "    </tr>\n",
       "    <tr>\n",
       "      <th>20</th>\n",
       "      <td>303.0</td>\n",
       "      <td>25</td>\n",
       "      <td>60</td>\n",
       "      <td>220</td>\n",
       "      <td>0.37</td>\n",
       "      <td>0</td>\n",
       "      <td>0.61</td>\n",
       "      <td>0.69</td>\n",
       "      <td>-1.88</td>\n",
       "      <td>-0.34</td>\n",
       "      <td>-0.14</td>\n",
       "      <td>0.40</td>\n",
       "      <td>-1.0</td>\n",
       "    </tr>\n",
       "  </tbody>\n",
       "</table>\n",
       "</div>"
      ],
      "text/plain": [
       "    SchoolClassID  NumberOfAgents  PercentageFemale  NumberConnections  \\\n",
       "0            78.0              17                58                 42   \n",
       "1            81.0              19                52                 71   \n",
       "2           100.0              19                36                 92   \n",
       "3           124.0              17                64                 76   \n",
       "4           125.0              16                56                 73   \n",
       "5           256.0              21                57                 65   \n",
       "6           258.0              16                62                 33   \n",
       "7           261.0              17                35                 90   \n",
       "8           262.0              15                46                 62   \n",
       "9           263.0              20                65                163   \n",
       "10          272.0              24                37                283   \n",
       "11          273.0              24                50                253   \n",
       "12          292.0              21                76                202   \n",
       "13          296.0              17                70                127   \n",
       "14          297.0              16                68                 69   \n",
       "15          298.0              21                57                341   \n",
       "16          299.0              19                47                244   \n",
       "17          300.0              19                52                121   \n",
       "18          301.0              24                29                336   \n",
       "19          302.0              19                68                159   \n",
       "20          303.0              25                60                220   \n",
       "\n",
       "    Density  IsolatedNodes  CentralizationInDegree  CentralizationOutDegree  \\\n",
       "0      0.15              1                    0.67                     0.67   \n",
       "1      0.21              0                    0.57                     0.89   \n",
       "2      0.27              0                    0.55                     0.60   \n",
       "3      0.28              0                    0.60                     0.80   \n",
       "4      0.30              0                    0.52                     0.80   \n",
       "5      0.15              0                    0.50                     0.61   \n",
       "6      0.14              1                    0.88                     0.88   \n",
       "7      0.33              0                    0.56                     0.76   \n",
       "8      0.30              0                    0.59                     0.81   \n",
       "9      0.43              0                    0.37                     0.63   \n",
       "10     0.51              0                    0.42                     0.53   \n",
       "11     0.46              0                    0.38                     0.59   \n",
       "12     0.48              0                    0.35                     0.57   \n",
       "13     0.47              0                    0.38                     0.60   \n",
       "14     0.29              1                    0.56                     0.67   \n",
       "15     0.81              0                    0.21                     0.21   \n",
       "16     0.71              0                    0.22                     0.32   \n",
       "17     0.35              0                    0.49                     0.72   \n",
       "18     0.61              0                    0.29                     0.43   \n",
       "19     0.46              0                    0.35                     0.60   \n",
       "20     0.37              0                    0.61                     0.69   \n",
       "\n",
       "    CentralizationCloseness  CentralizationBetweenness  DegreeAssortativity  \\\n",
       "0                     -0.29                      -0.42                 0.16   \n",
       "1                     -0.27                      -0.69                -0.33   \n",
       "2                     -0.23                      -0.35                -0.09   \n",
       "3                     -0.53                      -1.31                -0.02   \n",
       "4                     -0.36                      -0.64                -0.06   \n",
       "5                     -0.18                      -0.77                -0.01   \n",
       "6                     -0.54                      -0.39                -0.24   \n",
       "7                     -0.68                      -1.15                -0.15   \n",
       "8                     -0.30                      -1.77                -0.14   \n",
       "9                     -0.37                      -0.31                  NaN   \n",
       "10                    -1.25                      -0.16                -0.28   \n",
       "11                    -0.58                      -0.17                 0.13   \n",
       "12                    -0.58                      -0.20                -0.11   \n",
       "13                    -0.48                      -0.18                 0.08   \n",
       "14                    -0.82                      -0.62                 0.20   \n",
       "15                     3.16                      -0.03                  NaN   \n",
       "16                    -1.25                      -0.07                -0.07   \n",
       "17                    -0.50                      -0.52                 0.05   \n",
       "18                    -0.72                      -0.10                -0.06   \n",
       "19                    -0.43                      -0.24                -0.17   \n",
       "20                    -1.88                      -0.34                -0.14   \n",
       "\n",
       "    AverageEnvironmentScore  AverageBMIScore  \n",
       "0                      0.56             -1.0  \n",
       "1                      0.48             -1.0  \n",
       "2                      0.56             -1.0  \n",
       "3                      0.53             -1.0  \n",
       "4                      0.50             -1.0  \n",
       "5                      0.37             -1.0  \n",
       "6                      0.32             -1.0  \n",
       "7                      0.46             -1.0  \n",
       "8                      0.47             -1.0  \n",
       "9                      0.39             -1.0  \n",
       "10                     0.56             -1.0  \n",
       "11                     0.51             -1.0  \n",
       "12                     0.38             -1.0  \n",
       "13                     0.47             -1.0  \n",
       "14                     0.48             -1.0  \n",
       "15                     0.37             -1.0  \n",
       "16                     0.37             -1.0  \n",
       "17                     0.57             -1.0  \n",
       "18                     0.79             -1.0  \n",
       "19                     0.64             -1.0  \n",
       "20                     0.40             -1.0  "
      ]
     },
     "execution_count": 259,
     "metadata": {},
     "output_type": "execute_result"
    }
   ],
   "source": [
    "pop_details_comm"
   ]
  },
  {
   "cell_type": "code",
   "execution_count": 260,
   "id": "5d6b1351-f156-4ba4-b24e-5e83f8d560af",
   "metadata": {},
   "outputs": [
    {
     "data": {
      "text/html": [
       "<div>\n",
       "<style scoped>\n",
       "    .dataframe tbody tr th:only-of-type {\n",
       "        vertical-align: middle;\n",
       "    }\n",
       "\n",
       "    .dataframe tbody tr th {\n",
       "        vertical-align: top;\n",
       "    }\n",
       "\n",
       "    .dataframe thead th {\n",
       "        text-align: right;\n",
       "    }\n",
       "</style>\n",
       "<table border=\"1\" class=\"dataframe\">\n",
       "  <thead>\n",
       "    <tr style=\"text-align: right;\">\n",
       "      <th></th>\n",
       "      <th>ParticipantID</th>\n",
       "      <th>SchoolClassID</th>\n",
       "      <th>Gender</th>\n",
       "      <th>PA</th>\n",
       "      <th>BMI</th>\n",
       "      <th>Environment</th>\n",
       "      <th>InDegree</th>\n",
       "      <th>OutDegree</th>\n",
       "      <th>EigenVector</th>\n",
       "      <th>Closeness</th>\n",
       "      <th>Betweenness</th>\n",
       "      <th>Average_Weight</th>\n",
       "    </tr>\n",
       "  </thead>\n",
       "  <tbody>\n",
       "    <tr>\n",
       "      <th>17</th>\n",
       "      <td>1605.0</td>\n",
       "      <td>81.0</td>\n",
       "      <td>1</td>\n",
       "      <td>1.031893</td>\n",
       "      <td>-1.0</td>\n",
       "      <td>0.583333</td>\n",
       "      <td>1</td>\n",
       "      <td>2</td>\n",
       "      <td>0.060594</td>\n",
       "      <td>0.314815</td>\n",
       "      <td>0.000000</td>\n",
       "      <td>0.312500</td>\n",
       "    </tr>\n",
       "    <tr>\n",
       "      <th>18</th>\n",
       "      <td>1606.0</td>\n",
       "      <td>81.0</td>\n",
       "      <td>1</td>\n",
       "      <td>1.322073</td>\n",
       "      <td>-1.0</td>\n",
       "      <td>0.488193</td>\n",
       "      <td>2</td>\n",
       "      <td>1</td>\n",
       "      <td>0.123388</td>\n",
       "      <td>0.364899</td>\n",
       "      <td>0.000000</td>\n",
       "      <td>0.250000</td>\n",
       "    </tr>\n",
       "    <tr>\n",
       "      <th>19</th>\n",
       "      <td>1607.0</td>\n",
       "      <td>81.0</td>\n",
       "      <td>0</td>\n",
       "      <td>1.595759</td>\n",
       "      <td>-1.0</td>\n",
       "      <td>0.333333</td>\n",
       "      <td>3</td>\n",
       "      <td>2</td>\n",
       "      <td>0.115034</td>\n",
       "      <td>0.349034</td>\n",
       "      <td>0.055556</td>\n",
       "      <td>0.625000</td>\n",
       "    </tr>\n",
       "    <tr>\n",
       "      <th>20</th>\n",
       "      <td>1608.0</td>\n",
       "      <td>81.0</td>\n",
       "      <td>1</td>\n",
       "      <td>1.197837</td>\n",
       "      <td>-1.0</td>\n",
       "      <td>0.916667</td>\n",
       "      <td>6</td>\n",
       "      <td>12</td>\n",
       "      <td>0.348432</td>\n",
       "      <td>0.517921</td>\n",
       "      <td>0.258715</td>\n",
       "      <td>0.135417</td>\n",
       "    </tr>\n",
       "    <tr>\n",
       "      <th>21</th>\n",
       "      <td>1609.0</td>\n",
       "      <td>81.0</td>\n",
       "      <td>1</td>\n",
       "      <td>0.960113</td>\n",
       "      <td>-1.0</td>\n",
       "      <td>0.333333</td>\n",
       "      <td>2</td>\n",
       "      <td>1</td>\n",
       "      <td>0.134901</td>\n",
       "      <td>0.391599</td>\n",
       "      <td>0.000000</td>\n",
       "      <td>0.125000</td>\n",
       "    </tr>\n",
       "    <tr>\n",
       "      <th>...</th>\n",
       "      <td>...</td>\n",
       "      <td>...</td>\n",
       "      <td>...</td>\n",
       "      <td>...</td>\n",
       "      <td>...</td>\n",
       "      <td>...</td>\n",
       "      <td>...</td>\n",
       "      <td>...</td>\n",
       "      <td>...</td>\n",
       "      <td>...</td>\n",
       "      <td>...</td>\n",
       "      <td>...</td>\n",
       "    </tr>\n",
       "    <tr>\n",
       "      <th>401</th>\n",
       "      <td>6085.0</td>\n",
       "      <td>303.0</td>\n",
       "      <td>0</td>\n",
       "      <td>1.964469</td>\n",
       "      <td>-1.0</td>\n",
       "      <td>0.333333</td>\n",
       "      <td>8</td>\n",
       "      <td>5</td>\n",
       "      <td>0.192114</td>\n",
       "      <td>0.571429</td>\n",
       "      <td>0.003356</td>\n",
       "      <td>0.011570</td>\n",
       "    </tr>\n",
       "    <tr>\n",
       "      <th>402</th>\n",
       "      <td>6086.0</td>\n",
       "      <td>303.0</td>\n",
       "      <td>0</td>\n",
       "      <td>1.281375</td>\n",
       "      <td>-1.0</td>\n",
       "      <td>0.666667</td>\n",
       "      <td>6</td>\n",
       "      <td>6</td>\n",
       "      <td>0.141635</td>\n",
       "      <td>0.558140</td>\n",
       "      <td>0.008166</td>\n",
       "      <td>0.008953</td>\n",
       "    </tr>\n",
       "    <tr>\n",
       "      <th>403</th>\n",
       "      <td>6088.0</td>\n",
       "      <td>303.0</td>\n",
       "      <td>1</td>\n",
       "      <td>1.103620</td>\n",
       "      <td>-1.0</td>\n",
       "      <td>0.333333</td>\n",
       "      <td>10</td>\n",
       "      <td>11</td>\n",
       "      <td>0.213453</td>\n",
       "      <td>0.615385</td>\n",
       "      <td>0.019777</td>\n",
       "      <td>0.039444</td>\n",
       "    </tr>\n",
       "    <tr>\n",
       "      <th>404</th>\n",
       "      <td>6089.0</td>\n",
       "      <td>303.0</td>\n",
       "      <td>1</td>\n",
       "      <td>1.171215</td>\n",
       "      <td>-1.0</td>\n",
       "      <td>0.500000</td>\n",
       "      <td>6</td>\n",
       "      <td>7</td>\n",
       "      <td>0.150257</td>\n",
       "      <td>0.558140</td>\n",
       "      <td>0.001958</td>\n",
       "      <td>0.014168</td>\n",
       "    </tr>\n",
       "    <tr>\n",
       "      <th>405</th>\n",
       "      <td>6090.0</td>\n",
       "      <td>303.0</td>\n",
       "      <td>0</td>\n",
       "      <td>1.589180</td>\n",
       "      <td>-1.0</td>\n",
       "      <td>0.583333</td>\n",
       "      <td>6</td>\n",
       "      <td>4</td>\n",
       "      <td>0.154310</td>\n",
       "      <td>0.545455</td>\n",
       "      <td>0.000561</td>\n",
       "      <td>0.009298</td>\n",
       "    </tr>\n",
       "  </tbody>\n",
       "</table>\n",
       "<p>406 rows × 12 columns</p>\n",
       "</div>"
      ],
      "text/plain": [
       "     ParticipantID  SchoolClassID  Gender        PA  BMI  Environment  \\\n",
       "17          1605.0           81.0       1  1.031893 -1.0     0.583333   \n",
       "18          1606.0           81.0       1  1.322073 -1.0     0.488193   \n",
       "19          1607.0           81.0       0  1.595759 -1.0     0.333333   \n",
       "20          1608.0           81.0       1  1.197837 -1.0     0.916667   \n",
       "21          1609.0           81.0       1  0.960113 -1.0     0.333333   \n",
       "..             ...            ...     ...       ...  ...          ...   \n",
       "401         6085.0          303.0       0  1.964469 -1.0     0.333333   \n",
       "402         6086.0          303.0       0  1.281375 -1.0     0.666667   \n",
       "403         6088.0          303.0       1  1.103620 -1.0     0.333333   \n",
       "404         6089.0          303.0       1  1.171215 -1.0     0.500000   \n",
       "405         6090.0          303.0       0  1.589180 -1.0     0.583333   \n",
       "\n",
       "     InDegree  OutDegree  EigenVector  Closeness  Betweenness  Average_Weight  \n",
       "17          1          2     0.060594   0.314815     0.000000        0.312500  \n",
       "18          2          1     0.123388   0.364899     0.000000        0.250000  \n",
       "19          3          2     0.115034   0.349034     0.055556        0.625000  \n",
       "20          6         12     0.348432   0.517921     0.258715        0.135417  \n",
       "21          2          1     0.134901   0.391599     0.000000        0.125000  \n",
       "..        ...        ...          ...        ...          ...             ...  \n",
       "401         8          5     0.192114   0.571429     0.003356        0.011570  \n",
       "402         6          6     0.141635   0.558140     0.008166        0.008953  \n",
       "403        10         11     0.213453   0.615385     0.019777        0.039444  \n",
       "404         6          7     0.150257   0.558140     0.001958        0.014168  \n",
       "405         6          4     0.154310   0.545455     0.000561        0.009298  \n",
       "\n",
       "[406 rows x 12 columns]"
      ]
     },
     "execution_count": 260,
     "metadata": {},
     "output_type": "execute_result"
    }
   ],
   "source": [
    "agents_details_comm"
   ]
  },
  {
   "cell_type": "markdown",
   "id": "7ec09194-1a38-4110-ae4f-37ee8580b0bb",
   "metadata": {},
   "source": [
    "## Weight Analysis"
   ]
  },
  {
   "cell_type": "code",
   "execution_count": 261,
   "id": "b7e57d16-a919-48d4-806e-a96060b00186",
   "metadata": {},
   "outputs": [
    {
     "data": {
      "text/plain": [
       "SchoolClassID\n",
       "78.0     0.152062\n",
       "81.0     0.311294\n",
       "100.0    0.061455\n",
       "124.0    0.073921\n",
       "125.0    0.063141\n",
       "256.0    0.253373\n",
       "258.0    0.175967\n",
       "261.0    0.103337\n",
       "262.0    0.211620\n",
       "263.0    0.074188\n",
       "272.0    0.058249\n",
       "273.0    0.067230\n",
       "292.0    0.053902\n",
       "296.0    0.047622\n",
       "297.0    0.113259\n",
       "298.0    0.046968\n",
       "299.0    0.047439\n",
       "300.0    0.074753\n",
       "301.0    0.062491\n",
       "302.0    0.156449\n",
       "303.0    0.039033\n",
       "Name: Average_Weight, dtype: float64"
      ]
     },
     "metadata": {},
     "output_type": "display_data"
    },
    {
     "data": {
      "text/plain": [
       "SchoolClassID\n",
       "78.0     0.310070\n",
       "81.0     0.383636\n",
       "100.0    0.415977\n",
       "124.0    0.448661\n",
       "125.0    0.377755\n",
       "256.0    0.439558\n",
       "258.0    0.357999\n",
       "261.0    0.403617\n",
       "262.0    0.434021\n",
       "263.0    0.434598\n",
       "272.0    0.389204\n",
       "273.0    0.429831\n",
       "292.0    0.430484\n",
       "296.0    0.404726\n",
       "297.0    0.348324\n",
       "298.0    0.412987\n",
       "299.0    0.432168\n",
       "300.0    0.385700\n",
       "301.0    0.356288\n",
       "302.0    0.405924\n",
       "303.0    0.363510\n",
       "Name: Average_Weight, dtype: float64"
      ]
     },
     "metadata": {},
     "output_type": "display_data"
    }
   ],
   "source": [
    "display(agents_details_comm.groupby('SchoolClassID')['Average_Weight'].mean(),agents_details_nomm.groupby('SchoolClassID')['Average_Weight'].mean())"
   ]
  },
  {
   "cell_type": "code",
   "execution_count": 262,
   "id": "ee6f1e8b-3f3c-4c74-bd17-faca765321ed",
   "metadata": {},
   "outputs": [
    {
     "data": {
      "application/vnd.plotly.v1+json": {
       "config": {
        "plotlyServerURL": "https://plot.ly"
       },
       "data": [
        {
         "marker": {
          "color": "#EB89B5"
         },
         "name": "Nominated-Networks",
         "opacity": 0.8,
         "type": "histogram",
         "x": [
          0.31007019600769603,
          0.383636374590322,
          0.4159771987558365,
          0.4486613876319759,
          0.37775466720779216,
          0.43955791683064405,
          0.35799851190476195,
          0.40361705288175875,
          0.4340211640211641,
          0.4345983603384919,
          0.3892039271115358,
          0.42983147509749337,
          0.43048441598861764,
          0.4047255644682115,
          0.34832398504273504,
          0.41298653494031656,
          0.43216775914144334,
          0.3856996074101337,
          0.3562875597269948,
          0.40592390066074274,
          0.3635099296128708
         ],
         "xbins": {
          "size": 0.1
         }
        },
        {
         "marker": {
          "color": "#330C73"
         },
         "name": "Communication-Networks",
         "opacity": 0.8,
         "type": "histogram",
         "x": [
          0.15206220419202165,
          0.3112938596491228,
          0.06145506170489515,
          0.0739208011971912,
          0.06314050701186623,
          0.2533730158730159,
          0.17596726190476192,
          0.10333729451376511,
          0.21162037037037035,
          0.07418792768437948,
          0.05824941837052177,
          0.06723045946438155,
          0.05390199821056153,
          0.0476216244073387,
          0.11325860507246377,
          0.046967614557545265,
          0.04743890420136957,
          0.07475258659469186,
          0.06249139462670345,
          0.15644945697577278,
          0.03903286405972356
         ],
         "xbins": {
          "size": 0.1
         }
        }
       ],
       "layout": {
        "barmode": "stack",
        "height": 600,
        "template": {
         "data": {
          "bar": [
           {
            "error_x": {
             "color": "#2a3f5f"
            },
            "error_y": {
             "color": "#2a3f5f"
            },
            "marker": {
             "line": {
              "color": "#E5ECF6",
              "width": 0.5
             },
             "pattern": {
              "fillmode": "overlay",
              "size": 10,
              "solidity": 0.2
             }
            },
            "type": "bar"
           }
          ],
          "barpolar": [
           {
            "marker": {
             "line": {
              "color": "#E5ECF6",
              "width": 0.5
             },
             "pattern": {
              "fillmode": "overlay",
              "size": 10,
              "solidity": 0.2
             }
            },
            "type": "barpolar"
           }
          ],
          "carpet": [
           {
            "aaxis": {
             "endlinecolor": "#2a3f5f",
             "gridcolor": "white",
             "linecolor": "white",
             "minorgridcolor": "white",
             "startlinecolor": "#2a3f5f"
            },
            "baxis": {
             "endlinecolor": "#2a3f5f",
             "gridcolor": "white",
             "linecolor": "white",
             "minorgridcolor": "white",
             "startlinecolor": "#2a3f5f"
            },
            "type": "carpet"
           }
          ],
          "choropleth": [
           {
            "colorbar": {
             "outlinewidth": 0,
             "ticks": ""
            },
            "type": "choropleth"
           }
          ],
          "contour": [
           {
            "colorbar": {
             "outlinewidth": 0,
             "ticks": ""
            },
            "colorscale": [
             [
              0,
              "#0d0887"
             ],
             [
              0.1111111111111111,
              "#46039f"
             ],
             [
              0.2222222222222222,
              "#7201a8"
             ],
             [
              0.3333333333333333,
              "#9c179e"
             ],
             [
              0.4444444444444444,
              "#bd3786"
             ],
             [
              0.5555555555555556,
              "#d8576b"
             ],
             [
              0.6666666666666666,
              "#ed7953"
             ],
             [
              0.7777777777777778,
              "#fb9f3a"
             ],
             [
              0.8888888888888888,
              "#fdca26"
             ],
             [
              1,
              "#f0f921"
             ]
            ],
            "type": "contour"
           }
          ],
          "contourcarpet": [
           {
            "colorbar": {
             "outlinewidth": 0,
             "ticks": ""
            },
            "type": "contourcarpet"
           }
          ],
          "heatmap": [
           {
            "colorbar": {
             "outlinewidth": 0,
             "ticks": ""
            },
            "colorscale": [
             [
              0,
              "#0d0887"
             ],
             [
              0.1111111111111111,
              "#46039f"
             ],
             [
              0.2222222222222222,
              "#7201a8"
             ],
             [
              0.3333333333333333,
              "#9c179e"
             ],
             [
              0.4444444444444444,
              "#bd3786"
             ],
             [
              0.5555555555555556,
              "#d8576b"
             ],
             [
              0.6666666666666666,
              "#ed7953"
             ],
             [
              0.7777777777777778,
              "#fb9f3a"
             ],
             [
              0.8888888888888888,
              "#fdca26"
             ],
             [
              1,
              "#f0f921"
             ]
            ],
            "type": "heatmap"
           }
          ],
          "heatmapgl": [
           {
            "colorbar": {
             "outlinewidth": 0,
             "ticks": ""
            },
            "colorscale": [
             [
              0,
              "#0d0887"
             ],
             [
              0.1111111111111111,
              "#46039f"
             ],
             [
              0.2222222222222222,
              "#7201a8"
             ],
             [
              0.3333333333333333,
              "#9c179e"
             ],
             [
              0.4444444444444444,
              "#bd3786"
             ],
             [
              0.5555555555555556,
              "#d8576b"
             ],
             [
              0.6666666666666666,
              "#ed7953"
             ],
             [
              0.7777777777777778,
              "#fb9f3a"
             ],
             [
              0.8888888888888888,
              "#fdca26"
             ],
             [
              1,
              "#f0f921"
             ]
            ],
            "type": "heatmapgl"
           }
          ],
          "histogram": [
           {
            "marker": {
             "pattern": {
              "fillmode": "overlay",
              "size": 10,
              "solidity": 0.2
             }
            },
            "type": "histogram"
           }
          ],
          "histogram2d": [
           {
            "colorbar": {
             "outlinewidth": 0,
             "ticks": ""
            },
            "colorscale": [
             [
              0,
              "#0d0887"
             ],
             [
              0.1111111111111111,
              "#46039f"
             ],
             [
              0.2222222222222222,
              "#7201a8"
             ],
             [
              0.3333333333333333,
              "#9c179e"
             ],
             [
              0.4444444444444444,
              "#bd3786"
             ],
             [
              0.5555555555555556,
              "#d8576b"
             ],
             [
              0.6666666666666666,
              "#ed7953"
             ],
             [
              0.7777777777777778,
              "#fb9f3a"
             ],
             [
              0.8888888888888888,
              "#fdca26"
             ],
             [
              1,
              "#f0f921"
             ]
            ],
            "type": "histogram2d"
           }
          ],
          "histogram2dcontour": [
           {
            "colorbar": {
             "outlinewidth": 0,
             "ticks": ""
            },
            "colorscale": [
             [
              0,
              "#0d0887"
             ],
             [
              0.1111111111111111,
              "#46039f"
             ],
             [
              0.2222222222222222,
              "#7201a8"
             ],
             [
              0.3333333333333333,
              "#9c179e"
             ],
             [
              0.4444444444444444,
              "#bd3786"
             ],
             [
              0.5555555555555556,
              "#d8576b"
             ],
             [
              0.6666666666666666,
              "#ed7953"
             ],
             [
              0.7777777777777778,
              "#fb9f3a"
             ],
             [
              0.8888888888888888,
              "#fdca26"
             ],
             [
              1,
              "#f0f921"
             ]
            ],
            "type": "histogram2dcontour"
           }
          ],
          "mesh3d": [
           {
            "colorbar": {
             "outlinewidth": 0,
             "ticks": ""
            },
            "type": "mesh3d"
           }
          ],
          "parcoords": [
           {
            "line": {
             "colorbar": {
              "outlinewidth": 0,
              "ticks": ""
             }
            },
            "type": "parcoords"
           }
          ],
          "pie": [
           {
            "automargin": true,
            "type": "pie"
           }
          ],
          "scatter": [
           {
            "marker": {
             "colorbar": {
              "outlinewidth": 0,
              "ticks": ""
             }
            },
            "type": "scatter"
           }
          ],
          "scatter3d": [
           {
            "line": {
             "colorbar": {
              "outlinewidth": 0,
              "ticks": ""
             }
            },
            "marker": {
             "colorbar": {
              "outlinewidth": 0,
              "ticks": ""
             }
            },
            "type": "scatter3d"
           }
          ],
          "scattercarpet": [
           {
            "marker": {
             "colorbar": {
              "outlinewidth": 0,
              "ticks": ""
             }
            },
            "type": "scattercarpet"
           }
          ],
          "scattergeo": [
           {
            "marker": {
             "colorbar": {
              "outlinewidth": 0,
              "ticks": ""
             }
            },
            "type": "scattergeo"
           }
          ],
          "scattergl": [
           {
            "marker": {
             "colorbar": {
              "outlinewidth": 0,
              "ticks": ""
             }
            },
            "type": "scattergl"
           }
          ],
          "scattermapbox": [
           {
            "marker": {
             "colorbar": {
              "outlinewidth": 0,
              "ticks": ""
             }
            },
            "type": "scattermapbox"
           }
          ],
          "scatterpolar": [
           {
            "marker": {
             "colorbar": {
              "outlinewidth": 0,
              "ticks": ""
             }
            },
            "type": "scatterpolar"
           }
          ],
          "scatterpolargl": [
           {
            "marker": {
             "colorbar": {
              "outlinewidth": 0,
              "ticks": ""
             }
            },
            "type": "scatterpolargl"
           }
          ],
          "scatterternary": [
           {
            "marker": {
             "colorbar": {
              "outlinewidth": 0,
              "ticks": ""
             }
            },
            "type": "scatterternary"
           }
          ],
          "surface": [
           {
            "colorbar": {
             "outlinewidth": 0,
             "ticks": ""
            },
            "colorscale": [
             [
              0,
              "#0d0887"
             ],
             [
              0.1111111111111111,
              "#46039f"
             ],
             [
              0.2222222222222222,
              "#7201a8"
             ],
             [
              0.3333333333333333,
              "#9c179e"
             ],
             [
              0.4444444444444444,
              "#bd3786"
             ],
             [
              0.5555555555555556,
              "#d8576b"
             ],
             [
              0.6666666666666666,
              "#ed7953"
             ],
             [
              0.7777777777777778,
              "#fb9f3a"
             ],
             [
              0.8888888888888888,
              "#fdca26"
             ],
             [
              1,
              "#f0f921"
             ]
            ],
            "type": "surface"
           }
          ],
          "table": [
           {
            "cells": {
             "fill": {
              "color": "#EBF0F8"
             },
             "line": {
              "color": "white"
             }
            },
            "header": {
             "fill": {
              "color": "#C8D4E3"
             },
             "line": {
              "color": "white"
             }
            },
            "type": "table"
           }
          ]
         },
         "layout": {
          "annotationdefaults": {
           "arrowcolor": "#2a3f5f",
           "arrowhead": 0,
           "arrowwidth": 1
          },
          "autotypenumbers": "strict",
          "coloraxis": {
           "colorbar": {
            "outlinewidth": 0,
            "ticks": ""
           }
          },
          "colorscale": {
           "diverging": [
            [
             0,
             "#8e0152"
            ],
            [
             0.1,
             "#c51b7d"
            ],
            [
             0.2,
             "#de77ae"
            ],
            [
             0.3,
             "#f1b6da"
            ],
            [
             0.4,
             "#fde0ef"
            ],
            [
             0.5,
             "#f7f7f7"
            ],
            [
             0.6,
             "#e6f5d0"
            ],
            [
             0.7,
             "#b8e186"
            ],
            [
             0.8,
             "#7fbc41"
            ],
            [
             0.9,
             "#4d9221"
            ],
            [
             1,
             "#276419"
            ]
           ],
           "sequential": [
            [
             0,
             "#0d0887"
            ],
            [
             0.1111111111111111,
             "#46039f"
            ],
            [
             0.2222222222222222,
             "#7201a8"
            ],
            [
             0.3333333333333333,
             "#9c179e"
            ],
            [
             0.4444444444444444,
             "#bd3786"
            ],
            [
             0.5555555555555556,
             "#d8576b"
            ],
            [
             0.6666666666666666,
             "#ed7953"
            ],
            [
             0.7777777777777778,
             "#fb9f3a"
            ],
            [
             0.8888888888888888,
             "#fdca26"
            ],
            [
             1,
             "#f0f921"
            ]
           ],
           "sequentialminus": [
            [
             0,
             "#0d0887"
            ],
            [
             0.1111111111111111,
             "#46039f"
            ],
            [
             0.2222222222222222,
             "#7201a8"
            ],
            [
             0.3333333333333333,
             "#9c179e"
            ],
            [
             0.4444444444444444,
             "#bd3786"
            ],
            [
             0.5555555555555556,
             "#d8576b"
            ],
            [
             0.6666666666666666,
             "#ed7953"
            ],
            [
             0.7777777777777778,
             "#fb9f3a"
            ],
            [
             0.8888888888888888,
             "#fdca26"
            ],
            [
             1,
             "#f0f921"
            ]
           ]
          },
          "colorway": [
           "#636efa",
           "#EF553B",
           "#00cc96",
           "#ab63fa",
           "#FFA15A",
           "#19d3f3",
           "#FF6692",
           "#B6E880",
           "#FF97FF",
           "#FECB52"
          ],
          "font": {
           "color": "#2a3f5f"
          },
          "geo": {
           "bgcolor": "white",
           "lakecolor": "white",
           "landcolor": "#E5ECF6",
           "showlakes": true,
           "showland": true,
           "subunitcolor": "white"
          },
          "hoverlabel": {
           "align": "left"
          },
          "hovermode": "closest",
          "mapbox": {
           "style": "light"
          },
          "paper_bgcolor": "white",
          "plot_bgcolor": "#E5ECF6",
          "polar": {
           "angularaxis": {
            "gridcolor": "white",
            "linecolor": "white",
            "ticks": ""
           },
           "bgcolor": "#E5ECF6",
           "radialaxis": {
            "gridcolor": "white",
            "linecolor": "white",
            "ticks": ""
           }
          },
          "scene": {
           "xaxis": {
            "backgroundcolor": "#E5ECF6",
            "gridcolor": "white",
            "gridwidth": 2,
            "linecolor": "white",
            "showbackground": true,
            "ticks": "",
            "zerolinecolor": "white"
           },
           "yaxis": {
            "backgroundcolor": "#E5ECF6",
            "gridcolor": "white",
            "gridwidth": 2,
            "linecolor": "white",
            "showbackground": true,
            "ticks": "",
            "zerolinecolor": "white"
           },
           "zaxis": {
            "backgroundcolor": "#E5ECF6",
            "gridcolor": "white",
            "gridwidth": 2,
            "linecolor": "white",
            "showbackground": true,
            "ticks": "",
            "zerolinecolor": "white"
           }
          },
          "shapedefaults": {
           "line": {
            "color": "#2a3f5f"
           }
          },
          "ternary": {
           "aaxis": {
            "gridcolor": "white",
            "linecolor": "white",
            "ticks": ""
           },
           "baxis": {
            "gridcolor": "white",
            "linecolor": "white",
            "ticks": ""
           },
           "bgcolor": "#E5ECF6",
           "caxis": {
            "gridcolor": "white",
            "linecolor": "white",
            "ticks": ""
           }
          },
          "title": {
           "x": 0.05
          },
          "xaxis": {
           "automargin": true,
           "gridcolor": "white",
           "linecolor": "white",
           "ticks": "",
           "title": {
            "standoff": 15
           },
           "zerolinecolor": "white",
           "zerolinewidth": 2
          },
          "yaxis": {
           "automargin": true,
           "gridcolor": "white",
           "linecolor": "white",
           "ticks": "",
           "title": {
            "standoff": 15
           },
           "zerolinecolor": "white",
           "zerolinewidth": 2
          }
         }
        },
        "width": 800,
        "xaxis": {
         "autorange": true,
         "range": [
          1.3877787807814457e-17,
          0.5
         ],
         "title": {
          "text": "Average Connection Weight"
         },
         "type": "linear"
        },
        "yaxis": {
         "autorange": true,
         "range": [
          0,
          13.68421052631579
         ],
         "title": {
          "text": "Number of Classes"
         }
        }
       }
      },
      "image/png": "[encoded data removed]",
      "text/html": [
       "<div>                            <div id=\"b1d22891-1b74-4a1d-9a0c-78b5ba4a36d5\" class=\"plotly-graph-div\" style=\"height:600px; width:800px;\"></div>            <script type=\"text/javascript\">                require([\"plotly\"], function(Plotly) {                    window.PLOTLYENV=window.PLOTLYENV || {};                                    if (document.getElementById(\"b1d22891-1b74-4a1d-9a0c-78b5ba4a36d5\")) {                    Plotly.newPlot(                        \"b1d22891-1b74-4a1d-9a0c-78b5ba4a36d5\",                        [{\"marker\":{\"color\":\"#EB89B5\"},\"name\":\"Nominated-Networks\",\"opacity\":0.8,\"type\":\"histogram\",\"x\":[0.31007019600769603,0.383636374590322,0.4159771987558365,0.4486613876319759,0.37775466720779216,0.43955791683064405,0.35799851190476195,0.40361705288175875,0.4340211640211641,0.4345983603384919,0.3892039271115358,0.42983147509749337,0.43048441598861764,0.4047255644682115,0.34832398504273504,0.41298653494031656,0.43216775914144334,0.3856996074101337,0.3562875597269948,0.40592390066074274,0.3635099296128708],\"xbins\":{\"size\":0.1}},{\"marker\":{\"color\":\"#330C73\"},\"name\":\"Communication-Networks\",\"opacity\":0.8,\"type\":\"histogram\",\"x\":[0.15206220419202165,0.3112938596491228,0.06145506170489515,0.0739208011971912,0.06314050701186623,0.2533730158730159,0.17596726190476192,0.10333729451376511,0.21162037037037035,0.07418792768437948,0.05824941837052177,0.06723045946438155,0.05390199821056153,0.0476216244073387,0.11325860507246377,0.046967614557545265,0.04743890420136957,0.07475258659469186,0.06249139462670345,0.15644945697577278,0.03903286405972356],\"xbins\":{\"size\":0.1}}],                        {\"barmode\":\"stack\",\"height\":600,\"template\":{\"data\":{\"bar\":[{\"error_x\":{\"color\":\"#2a3f5f\"},\"error_y\":{\"color\":\"#2a3f5f\"},\"marker\":{\"line\":{\"color\":\"#E5ECF6\",\"width\":0.5},\"pattern\":{\"fillmode\":\"overlay\",\"size\":10,\"solidity\":0.2}},\"type\":\"bar\"}],\"barpolar\":[{\"marker\":{\"line\":{\"color\":\"#E5ECF6\",\"width\":0.5},\"pattern\":{\"fillmode\":\"overlay\",\"size\":10,\"solidity\":0.2}},\"type\":\"barpolar\"}],\"carpet\":[{\"aaxis\":{\"endlinecolor\":\"#2a3f5f\",\"gridcolor\":\"white\",\"linecolor\":\"white\",\"minorgridcolor\":\"white\",\"startlinecolor\":\"#2a3f5f\"},\"baxis\":{\"endlinecolor\":\"#2a3f5f\",\"gridcolor\":\"white\",\"linecolor\":\"white\",\"minorgridcolor\":\"white\",\"startlinecolor\":\"#2a3f5f\"},\"type\":\"carpet\"}],\"choropleth\":[{\"colorbar\":{\"outlinewidth\":0,\"ticks\":\"\"},\"type\":\"choropleth\"}],\"contour\":[{\"colorbar\":{\"outlinewidth\":0,\"ticks\":\"\"},\"colorscale\":[[0.0,\"#0d0887\"],[0.1111111111111111,\"#46039f\"],[0.2222222222222222,\"#7201a8\"],[0.3333333333333333,\"#9c179e\"],[0.4444444444444444,\"#bd3786\"],[0.5555555555555556,\"#d8576b\"],[0.6666666666666666,\"#ed7953\"],[0.7777777777777778,\"#fb9f3a\"],[0.8888888888888888,\"#fdca26\"],[1.0,\"#f0f921\"]],\"type\":\"contour\"}],\"contourcarpet\":[{\"colorbar\":{\"outlinewidth\":0,\"ticks\":\"\"},\"type\":\"contourcarpet\"}],\"heatmap\":[{\"colorbar\":{\"outlinewidth\":0,\"ticks\":\"\"},\"colorscale\":[[0.0,\"#0d0887\"],[0.1111111111111111,\"#46039f\"],[0.2222222222222222,\"#7201a8\"],[0.3333333333333333,\"#9c179e\"],[0.4444444444444444,\"#bd3786\"],[0.5555555555555556,\"#d8576b\"],[0.6666666666666666,\"#ed7953\"],[0.7777777777777778,\"#fb9f3a\"],[0.8888888888888888,\"#fdca26\"],[1.0,\"#f0f921\"]],\"type\":\"heatmap\"}],\"heatmapgl\":[{\"colorbar\":{\"outlinewidth\":0,\"ticks\":\"\"},\"colorscale\":[[0.0,\"#0d0887\"],[0.1111111111111111,\"#46039f\"],[0.2222222222222222,\"#7201a8\"],[0.3333333333333333,\"#9c179e\"],[0.4444444444444444,\"#bd3786\"],[0.5555555555555556,\"#d8576b\"],[0.6666666666666666,\"#ed7953\"],[0.7777777777777778,\"#fb9f3a\"],[0.8888888888888888,\"#fdca26\"],[1.0,\"#f0f921\"]],\"type\":\"heatmapgl\"}],\"histogram\":[{\"marker\":{\"pattern\":{\"fillmode\":\"overlay\",\"size\":10,\"solidity\":0.2}},\"type\":\"histogram\"}],\"histogram2d\":[{\"colorbar\":{\"outlinewidth\":0,\"ticks\":\"\"},\"colorscale\":[[0.0,\"#0d0887\"],[0.1111111111111111,\"#46039f\"],[0.2222222222222222,\"#7201a8\"],[0.3333333333333333,\"#9c179e\"],[0.4444444444444444,\"#bd3786\"],[0.5555555555555556,\"#d8576b\"],[0.6666666666666666,\"#ed7953\"],[0.7777777777777778,\"#fb9f3a\"],[0.8888888888888888,\"#fdca26\"],[1.0,\"#f0f921\"]],\"type\":\"histogram2d\"}],\"histogram2dcontour\":[{\"colorbar\":{\"outlinewidth\":0,\"ticks\":\"\"},\"colorscale\":[[0.0,\"#0d0887\"],[0.1111111111111111,\"#46039f\"],[0.2222222222222222,\"#7201a8\"],[0.3333333333333333,\"#9c179e\"],[0.4444444444444444,\"#bd3786\"],[0.5555555555555556,\"#d8576b\"],[0.6666666666666666,\"#ed7953\"],[0.7777777777777778,\"#fb9f3a\"],[0.8888888888888888,\"#fdca26\"],[1.0,\"#f0f921\"]],\"type\":\"histogram2dcontour\"}],\"mesh3d\":[{\"colorbar\":{\"outlinewidth\":0,\"ticks\":\"\"},\"type\":\"mesh3d\"}],\"parcoords\":[{\"line\":{\"colorbar\":{\"outlinewidth\":0,\"ticks\":\"\"}},\"type\":\"parcoords\"}],\"pie\":[{\"automargin\":true,\"type\":\"pie\"}],\"scatter\":[{\"marker\":{\"colorbar\":{\"outlinewidth\":0,\"ticks\":\"\"}},\"type\":\"scatter\"}],\"scatter3d\":[{\"line\":{\"colorbar\":{\"outlinewidth\":0,\"ticks\":\"\"}},\"marker\":{\"colorbar\":{\"outlinewidth\":0,\"ticks\":\"\"}},\"type\":\"scatter3d\"}],\"scattercarpet\":[{\"marker\":{\"colorbar\":{\"outlinewidth\":0,\"ticks\":\"\"}},\"type\":\"scattercarpet\"}],\"scattergeo\":[{\"marker\":{\"colorbar\":{\"outlinewidth\":0,\"ticks\":\"\"}},\"type\":\"scattergeo\"}],\"scattergl\":[{\"marker\":{\"colorbar\":{\"outlinewidth\":0,\"ticks\":\"\"}},\"type\":\"scattergl\"}],\"scattermapbox\":[{\"marker\":{\"colorbar\":{\"outlinewidth\":0,\"ticks\":\"\"}},\"type\":\"scattermapbox\"}],\"scatterpolar\":[{\"marker\":{\"colorbar\":{\"outlinewidth\":0,\"ticks\":\"\"}},\"type\":\"scatterpolar\"}],\"scatterpolargl\":[{\"marker\":{\"colorbar\":{\"outlinewidth\":0,\"ticks\":\"\"}},\"type\":\"scatterpolargl\"}],\"scatterternary\":[{\"marker\":{\"colorbar\":{\"outlinewidth\":0,\"ticks\":\"\"}},\"type\":\"scatterternary\"}],\"surface\":[{\"colorbar\":{\"outlinewidth\":0,\"ticks\":\"\"},\"colorscale\":[[0.0,\"#0d0887\"],[0.1111111111111111,\"#46039f\"],[0.2222222222222222,\"#7201a8\"],[0.3333333333333333,\"#9c179e\"],[0.4444444444444444,\"#bd3786\"],[0.5555555555555556,\"#d8576b\"],[0.6666666666666666,\"#ed7953\"],[0.7777777777777778,\"#fb9f3a\"],[0.8888888888888888,\"#fdca26\"],[1.0,\"#f0f921\"]],\"type\":\"surface\"}],\"table\":[{\"cells\":{\"fill\":{\"color\":\"#EBF0F8\"},\"line\":{\"color\":\"white\"}},\"header\":{\"fill\":{\"color\":\"#C8D4E3\"},\"line\":{\"color\":\"white\"}},\"type\":\"table\"}]},\"layout\":{\"annotationdefaults\":{\"arrowcolor\":\"#2a3f5f\",\"arrowhead\":0,\"arrowwidth\":1},\"autotypenumbers\":\"strict\",\"coloraxis\":{\"colorbar\":{\"outlinewidth\":0,\"ticks\":\"\"}},\"colorscale\":{\"diverging\":[[0,\"#8e0152\"],[0.1,\"#c51b7d\"],[0.2,\"#de77ae\"],[0.3,\"#f1b6da\"],[0.4,\"#fde0ef\"],[0.5,\"#f7f7f7\"],[0.6,\"#e6f5d0\"],[0.7,\"#b8e186\"],[0.8,\"#7fbc41\"],[0.9,\"#4d9221\"],[1,\"#276419\"]],\"sequential\":[[0.0,\"#0d0887\"],[0.1111111111111111,\"#46039f\"],[0.2222222222222222,\"#7201a8\"],[0.3333333333333333,\"#9c179e\"],[0.4444444444444444,\"#bd3786\"],[0.5555555555555556,\"#d8576b\"],[0.6666666666666666,\"#ed7953\"],[0.7777777777777778,\"#fb9f3a\"],[0.8888888888888888,\"#fdca26\"],[1.0,\"#f0f921\"]],\"sequentialminus\":[[0.0,\"#0d0887\"],[0.1111111111111111,\"#46039f\"],[0.2222222222222222,\"#7201a8\"],[0.3333333333333333,\"#9c179e\"],[0.4444444444444444,\"#bd3786\"],[0.5555555555555556,\"#d8576b\"],[0.6666666666666666,\"#ed7953\"],[0.7777777777777778,\"#fb9f3a\"],[0.8888888888888888,\"#fdca26\"],[1.0,\"#f0f921\"]]},\"colorway\":[\"#636efa\",\"#EF553B\",\"#00cc96\",\"#ab63fa\",\"#FFA15A\",\"#19d3f3\",\"#FF6692\",\"#B6E880\",\"#FF97FF\",\"#FECB52\"],\"font\":{\"color\":\"#2a3f5f\"},\"geo\":{\"bgcolor\":\"white\",\"lakecolor\":\"white\",\"landcolor\":\"#E5ECF6\",\"showlakes\":true,\"showland\":true,\"subunitcolor\":\"white\"},\"hoverlabel\":{\"align\":\"left\"},\"hovermode\":\"closest\",\"mapbox\":{\"style\":\"light\"},\"paper_bgcolor\":\"white\",\"plot_bgcolor\":\"#E5ECF6\",\"polar\":{\"angularaxis\":{\"gridcolor\":\"white\",\"linecolor\":\"white\",\"ticks\":\"\"},\"bgcolor\":\"#E5ECF6\",\"radialaxis\":{\"gridcolor\":\"white\",\"linecolor\":\"white\",\"ticks\":\"\"}},\"scene\":{\"xaxis\":{\"backgroundcolor\":\"#E5ECF6\",\"gridcolor\":\"white\",\"gridwidth\":2,\"linecolor\":\"white\",\"showbackground\":true,\"ticks\":\"\",\"zerolinecolor\":\"white\"},\"yaxis\":{\"backgroundcolor\":\"#E5ECF6\",\"gridcolor\":\"white\",\"gridwidth\":2,\"linecolor\":\"white\",\"showbackground\":true,\"ticks\":\"\",\"zerolinecolor\":\"white\"},\"zaxis\":{\"backgroundcolor\":\"#E5ECF6\",\"gridcolor\":\"white\",\"gridwidth\":2,\"linecolor\":\"white\",\"showbackground\":true,\"ticks\":\"\",\"zerolinecolor\":\"white\"}},\"shapedefaults\":{\"line\":{\"color\":\"#2a3f5f\"}},\"ternary\":{\"aaxis\":{\"gridcolor\":\"white\",\"linecolor\":\"white\",\"ticks\":\"\"},\"baxis\":{\"gridcolor\":\"white\",\"linecolor\":\"white\",\"ticks\":\"\"},\"bgcolor\":\"#E5ECF6\",\"caxis\":{\"gridcolor\":\"white\",\"linecolor\":\"white\",\"ticks\":\"\"}},\"title\":{\"x\":0.05},\"xaxis\":{\"automargin\":true,\"gridcolor\":\"white\",\"linecolor\":\"white\",\"ticks\":\"\",\"title\":{\"standoff\":15},\"zerolinecolor\":\"white\",\"zerolinewidth\":2},\"yaxis\":{\"automargin\":true,\"gridcolor\":\"white\",\"linecolor\":\"white\",\"ticks\":\"\",\"title\":{\"standoff\":15},\"zerolinecolor\":\"white\",\"zerolinewidth\":2}}},\"width\":800,\"xaxis\":{\"title\":{\"text\":\"Average Connection Weight\"}},\"yaxis\":{\"title\":{\"text\":\"Number of Classes\"}}},                        {\"responsive\": true}                    ).then(function(){\n",
       "                            \n",
       "var gd = document.getElementById('b1d22891-1b74-4a1d-9a0c-78b5ba4a36d5');\n",
       "var x = new MutationObserver(function (mutations, observer) {{\n",
       "        var display = window.getComputedStyle(gd).display;\n",
       "        if (!display || display === 'none') {{\n",
       "            console.log([gd, 'removed!']);\n",
       "            Plotly.purge(gd);\n",
       "            observer.disconnect();\n",
       "        }}\n",
       "}});\n",
       "\n",
       "// Listen for the removal of the full notebook cells\n",
       "var notebookContainer = gd.closest('#notebook-container');\n",
       "if (notebookContainer) {{\n",
       "    x.observe(notebookContainer, {childList: true});\n",
       "}}\n",
       "\n",
       "// Listen for the clearing of the current output cell\n",
       "var outputEl = gd.closest('.output');\n",
       "if (outputEl) {{\n",
       "    x.observe(outputEl, {childList: true});\n",
       "}}\n",
       "\n",
       "                        })                };                });            </script>        </div>"
      ]
     },
     "metadata": {},
     "output_type": "display_data"
    }
   ],
   "source": [
    "import plotly.graph_objects as go\n",
    "\n",
    "import numpy as np\n",
    "\n",
    "x0 = list(agents_details_nomm.groupby('SchoolClassID')['Average_Weight'].mean())\n",
    "\n",
    "# Add 1 to shift the mean of the Gaussian distribution\n",
    "x1 = list(agents_details_comm.groupby('SchoolClassID')['Average_Weight'].mean())\n",
    "\n",
    "fig = go.Figure()\n",
    "fig.add_trace(go.Histogram(x=x0,\n",
    "    name='Nominated-Networks', # name used in legend and hover labels\n",
    "    xbins=dict( # bins used for histogram\n",
    "     \n",
    "        size=0.1\n",
    "    ),\n",
    "    marker_color='#EB89B5',\n",
    "    opacity=0.75))\n",
    "fig.add_trace(go.Histogram(x=x1,\n",
    "    name='Communication-Networks',\n",
    "    xbins=dict(\n",
    "     \n",
    "        size=0.1\n",
    "    ),\n",
    "    marker_color='#330C73',\n",
    "    opacity=0.75))\n",
    "\n",
    "# Overlay both histograms\n",
    "fig.update_layout(xaxis_title=\"Average Connection Weight\", yaxis_title=\"Number of Classes\", width=800, height=600, barmode='stack')\n",
    "# Reduce opacity to see both histograms\n",
    "fig.update_traces(opacity=0.8)\n",
    "fig.show()"
   ]
  },
  {
   "cell_type": "code",
   "execution_count": 263,
   "id": "2cbbf6bc-d4db-4ac7-b81e-8bbb9cb37a8f",
   "metadata": {},
   "outputs": [
    {
     "data": {
      "text/plain": [
       "(0.036349231982335736, 0.39833511854150183)"
      ]
     },
     "execution_count": 263,
     "metadata": {},
     "output_type": "execute_result"
    }
   ],
   "source": [
    "import statistics\n",
    "statistics.stdev(x0), statistics.mean(x0)"
   ]
  },
  {
   "cell_type": "code",
   "execution_count": 264,
   "id": "e33f7ec2-2ae0-4e7e-b103-36dcaba7fa82",
   "metadata": {},
   "outputs": [
    {
     "data": {
      "text/plain": [
       "(0.07571508998719971, 0.1070358681258316)"
      ]
     },
     "execution_count": 264,
     "metadata": {},
     "output_type": "execute_result"
    }
   ],
   "source": [
    "import statistics\n",
    "statistics.stdev(x1), statistics.mean(x1)"
   ]
  },
  {
   "cell_type": "code",
   "execution_count": 265,
   "id": "2992d685-01a3-463b-9b15-d6fd533b1773",
   "metadata": {},
   "outputs": [
    {
     "data": {
      "text/plain": [
       "array([[<AxesSubplot:title={'center':'78.0'}>,\n",
       "        <AxesSubplot:title={'center':'81.0'}>,\n",
       "        <AxesSubplot:title={'center':'100.0'}>,\n",
       "        <AxesSubplot:title={'center':'124.0'}>,\n",
       "        <AxesSubplot:title={'center':'125.0'}>],\n",
       "       [<AxesSubplot:title={'center':'256.0'}>,\n",
       "        <AxesSubplot:title={'center':'258.0'}>,\n",
       "        <AxesSubplot:title={'center':'261.0'}>,\n",
       "        <AxesSubplot:title={'center':'262.0'}>,\n",
       "        <AxesSubplot:title={'center':'263.0'}>],\n",
       "       [<AxesSubplot:title={'center':'272.0'}>,\n",
       "        <AxesSubplot:title={'center':'273.0'}>,\n",
       "        <AxesSubplot:title={'center':'292.0'}>,\n",
       "        <AxesSubplot:title={'center':'296.0'}>,\n",
       "        <AxesSubplot:title={'center':'297.0'}>],\n",
       "       [<AxesSubplot:title={'center':'298.0'}>,\n",
       "        <AxesSubplot:title={'center':'299.0'}>,\n",
       "        <AxesSubplot:title={'center':'300.0'}>,\n",
       "        <AxesSubplot:title={'center':'301.0'}>,\n",
       "        <AxesSubplot:title={'center':'302.0'}>],\n",
       "       [<AxesSubplot:title={'center':'303.0'}>, <AxesSubplot:>,\n",
       "        <AxesSubplot:>, <AxesSubplot:>, <AxesSubplot:>]], dtype=object)"
      ]
     },
     "execution_count": 265,
     "metadata": {},
     "output_type": "execute_result"
    },
    {
     "data": {
      "image/png": "[encoded data removed]",
      "text/plain": [
       "<Figure size 1728x1728 with 25 Axes>"
      ]
     },
     "metadata": {
      "needs_background": "light"
     },
     "output_type": "display_data"
    }
   ],
   "source": [
    "agents_details_nomm['Average_Weight'].hist(by=agents_details_nomm['SchoolClassID'],figsize=(24, 24))"
   ]
  },
  {
   "cell_type": "code",
   "execution_count": 266,
   "id": "cd7cd6aa-6d68-4734-86e6-0fed837688b4",
   "metadata": {},
   "outputs": [
    {
     "data": {
      "text/plain": [
       "array([[<AxesSubplot:title={'center':'78.0'}>,\n",
       "        <AxesSubplot:title={'center':'81.0'}>,\n",
       "        <AxesSubplot:title={'center':'100.0'}>,\n",
       "        <AxesSubplot:title={'center':'124.0'}>,\n",
       "        <AxesSubplot:title={'center':'125.0'}>],\n",
       "       [<AxesSubplot:title={'center':'256.0'}>,\n",
       "        <AxesSubplot:title={'center':'258.0'}>,\n",
       "        <AxesSubplot:title={'center':'261.0'}>,\n",
       "        <AxesSubplot:title={'center':'262.0'}>,\n",
       "        <AxesSubplot:title={'center':'263.0'}>],\n",
       "       [<AxesSubplot:title={'center':'272.0'}>,\n",
       "        <AxesSubplot:title={'center':'273.0'}>,\n",
       "        <AxesSubplot:title={'center':'292.0'}>,\n",
       "        <AxesSubplot:title={'center':'296.0'}>,\n",
       "        <AxesSubplot:title={'center':'297.0'}>],\n",
       "       [<AxesSubplot:title={'center':'298.0'}>,\n",
       "        <AxesSubplot:title={'center':'299.0'}>,\n",
       "        <AxesSubplot:title={'center':'300.0'}>,\n",
       "        <AxesSubplot:title={'center':'301.0'}>,\n",
       "        <AxesSubplot:title={'center':'302.0'}>],\n",
       "       [<AxesSubplot:title={'center':'303.0'}>, <AxesSubplot:>,\n",
       "        <AxesSubplot:>, <AxesSubplot:>, <AxesSubplot:>]], dtype=object)"
      ]
     },
     "execution_count": 266,
     "metadata": {},
     "output_type": "execute_result"
    },
    {
     "data": {
      "image/png": "[encoded data removed]",
      "text/plain": [
       "<Figure size 1728x1728 with 25 Axes>"
      ]
     },
     "metadata": {
      "needs_background": "light"
     },
     "output_type": "display_data"
    }
   ],
   "source": [
    "agents_details_comm['Average_Weight'].hist(by=agents_details_comm['SchoolClassID'],figsize=(24, 24))"
   ]
  },
  {
   "cell_type": "markdown",
   "id": "c8a0fd70-1006-48f6-b7eb-48b61a416892",
   "metadata": {},
   "source": [
    "### Selected Influencial Agents - How similar they are between networks"
   ]
  },
  {
   "cell_type": "code",
   "execution_count": 368,
   "id": "6f8d048e-ea6c-42ff-910a-09d712fec435",
   "metadata": {},
   "outputs": [],
   "source": [
    "df_inf_agents = pd.read_excel('../output/selected_agents/selected_agents_nomination.xlsx', index_col=0)"
   ]
  },
  {
   "cell_type": "code",
   "execution_count": 369,
   "id": "6c7bd9d6-e05c-4ab6-a75b-5e5d655b9c85",
   "metadata": {},
   "outputs": [],
   "source": [
    "df_inf_agents2 = pd.read_excel('../output/selected_agents/selected_agents_communication.xlsx', index_col=0)"
   ]
  },
  {
   "cell_type": "code",
   "execution_count": 370,
   "id": "2f46222f-57cd-4aad-b051-84f6f35861a3",
   "metadata": {},
   "outputs": [],
   "source": [
    "df_inf_agents['InfluenceAgentsCommunication'] = df_inf_agents2['InfluenceAgents']"
   ]
  },
  {
   "cell_type": "code",
   "execution_count": 371,
   "id": "51cd982e-3472-4ebf-827f-2bcee570d596",
   "metadata": {},
   "outputs": [
    {
     "data": {
      "text/html": [
       "<div>\n",
       "<style scoped>\n",
       "    .dataframe tbody tr th:only-of-type {\n",
       "        vertical-align: middle;\n",
       "    }\n",
       "\n",
       "    .dataframe tbody tr th {\n",
       "        vertical-align: top;\n",
       "    }\n",
       "\n",
       "    .dataframe thead th {\n",
       "        text-align: right;\n",
       "    }\n",
       "</style>\n",
       "<table border=\"1\" class=\"dataframe\">\n",
       "  <thead>\n",
       "    <tr style=\"text-align: right;\">\n",
       "      <th></th>\n",
       "      <th>SchoolClass</th>\n",
       "      <th>Intervention</th>\n",
       "      <th>InfluenceAgents</th>\n",
       "      <th>InfluenceAgentsCommunication</th>\n",
       "    </tr>\n",
       "  </thead>\n",
       "  <tbody>\n",
       "    <tr>\n",
       "      <th>0</th>\n",
       "      <td>78.0</td>\n",
       "      <td>outdegree</td>\n",
       "      <td>[1636, 1654, 1736]</td>\n",
       "      <td>[1656.0, 1736.0, 1633.0]</td>\n",
       "    </tr>\n",
       "    <tr>\n",
       "      <th>1</th>\n",
       "      <td>78.0</td>\n",
       "      <td>indegree</td>\n",
       "      <td>[1636, 1733, 1651]</td>\n",
       "      <td>[1736.0, 1656.0, 1733.0]</td>\n",
       "    </tr>\n",
       "    <tr>\n",
       "      <th>2</th>\n",
       "      <td>78.0</td>\n",
       "      <td>closeness</td>\n",
       "      <td>[1636, 1733, 1651]</td>\n",
       "      <td>[1733.0, 1636.0, 1736.0]</td>\n",
       "    </tr>\n",
       "    <tr>\n",
       "      <th>3</th>\n",
       "      <td>78.0</td>\n",
       "      <td>betweenness</td>\n",
       "      <td>[1636, 1736, 1733]</td>\n",
       "      <td>[1636.0, 1733.0, 1736.0]</td>\n",
       "    </tr>\n",
       "    <tr>\n",
       "      <th>4</th>\n",
       "      <td>81.0</td>\n",
       "      <td>outdegree</td>\n",
       "      <td>[1608, 1605, 1630]</td>\n",
       "      <td>[1620.0, 1608.0, 1623.0]</td>\n",
       "    </tr>\n",
       "    <tr>\n",
       "      <th>...</th>\n",
       "      <td>...</td>\n",
       "      <td>...</td>\n",
       "      <td>...</td>\n",
       "      <td>...</td>\n",
       "    </tr>\n",
       "    <tr>\n",
       "      <th>79</th>\n",
       "      <td>302.0</td>\n",
       "      <td>betweenness</td>\n",
       "      <td>[6038, 6045, 6046]</td>\n",
       "      <td>[6045.0, 6035.0, 6033.0]</td>\n",
       "    </tr>\n",
       "    <tr>\n",
       "      <th>80</th>\n",
       "      <td>303.0</td>\n",
       "      <td>outdegree</td>\n",
       "      <td>[6068, 6081, 6063, 6074]</td>\n",
       "      <td>[6081.0, 6074.0, 6063.0, 6082.0]</td>\n",
       "    </tr>\n",
       "    <tr>\n",
       "      <th>81</th>\n",
       "      <td>303.0</td>\n",
       "      <td>indegree</td>\n",
       "      <td>[6063, 6080, 6070, 6068]</td>\n",
       "      <td>[6081.0, 6063.0, 6074.0, 6068.0]</td>\n",
       "    </tr>\n",
       "    <tr>\n",
       "      <th>82</th>\n",
       "      <td>303.0</td>\n",
       "      <td>closeness</td>\n",
       "      <td>[6063, 6080, 6070, 6068]</td>\n",
       "      <td>[6081.0, 6063.0, 6074.0, 6068.0]</td>\n",
       "    </tr>\n",
       "    <tr>\n",
       "      <th>83</th>\n",
       "      <td>303.0</td>\n",
       "      <td>betweenness</td>\n",
       "      <td>[6068, 6063, 6081, 6080]</td>\n",
       "      <td>[6081.0, 6074.0, 6063.0, 6082.0]</td>\n",
       "    </tr>\n",
       "  </tbody>\n",
       "</table>\n",
       "<p>84 rows × 4 columns</p>\n",
       "</div>"
      ],
      "text/plain": [
       "    SchoolClass Intervention           InfluenceAgents  \\\n",
       "0          78.0    outdegree        [1636, 1654, 1736]   \n",
       "1          78.0     indegree        [1636, 1733, 1651]   \n",
       "2          78.0    closeness        [1636, 1733, 1651]   \n",
       "3          78.0  betweenness        [1636, 1736, 1733]   \n",
       "4          81.0    outdegree        [1608, 1605, 1630]   \n",
       "..          ...          ...                       ...   \n",
       "79        302.0  betweenness        [6038, 6045, 6046]   \n",
       "80        303.0    outdegree  [6068, 6081, 6063, 6074]   \n",
       "81        303.0     indegree  [6063, 6080, 6070, 6068]   \n",
       "82        303.0    closeness  [6063, 6080, 6070, 6068]   \n",
       "83        303.0  betweenness  [6068, 6063, 6081, 6080]   \n",
       "\n",
       "        InfluenceAgentsCommunication  \n",
       "0           [1656.0, 1736.0, 1633.0]  \n",
       "1           [1736.0, 1656.0, 1733.0]  \n",
       "2           [1733.0, 1636.0, 1736.0]  \n",
       "3           [1636.0, 1733.0, 1736.0]  \n",
       "4           [1620.0, 1608.0, 1623.0]  \n",
       "..                               ...  \n",
       "79          [6045.0, 6035.0, 6033.0]  \n",
       "80  [6081.0, 6074.0, 6063.0, 6082.0]  \n",
       "81  [6081.0, 6063.0, 6074.0, 6068.0]  \n",
       "82  [6081.0, 6063.0, 6074.0, 6068.0]  \n",
       "83  [6081.0, 6074.0, 6063.0, 6082.0]  \n",
       "\n",
       "[84 rows x 4 columns]"
      ]
     },
     "execution_count": 371,
     "metadata": {},
     "output_type": "execute_result"
    }
   ],
   "source": [
    "df_inf_agents"
   ]
  },
  {
   "cell_type": "code",
   "execution_count": 372,
   "id": "312356db-187e-45e7-90d4-ebf1719cdd9a",
   "metadata": {},
   "outputs": [],
   "source": [
    "def get_perc_agents(l1,l2):\n",
    "    l1 = json.loads(l1)\n",
    "    l2 = json.loads(l2)\n",
    "    return (round(len(set(l1).intersection(l2))/len(l1)*100))"
   ]
  },
  {
   "cell_type": "code",
   "execution_count": 373,
   "id": "92a3d516-fbf0-4674-a51e-fc0aa47253a1",
   "metadata": {},
   "outputs": [],
   "source": [
    "def get_num_agents(l1):\n",
    "    l1 = json.loads(l1)\n",
    "    return len(l1)"
   ]
  },
  {
   "cell_type": "code",
   "execution_count": 374,
   "id": "99a0e28e-e601-4255-8fbc-cf7565c6c82a",
   "metadata": {},
   "outputs": [],
   "source": [
    "df_inf_agents['PercentageSameInfluencers'] = df_inf_agents.apply(lambda row : get_perc_agents(row['InfluenceAgents'],row['InfluenceAgentsCommunication']), axis = 1)"
   ]
  },
  {
   "cell_type": "code",
   "execution_count": 375,
   "id": "89e3ba96-8d6a-4311-a6d8-41346d58809e",
   "metadata": {},
   "outputs": [],
   "source": [
    "df_inf_agents['NumInfluencers'] = df_inf_agents.apply(lambda row : get_num_agents(row['InfluenceAgents']), axis = 1)"
   ]
  },
  {
   "cell_type": "code",
   "execution_count": 384,
   "id": "5927611d-bd44-47b3-99ec-9be9f4609311",
   "metadata": {},
   "outputs": [],
   "source": [
    "df_inf_agents = df_inf_agents[df_inf_agents.Intervention.isin(['indegree','closeness','betweenness'])]"
   ]
  },
  {
   "cell_type": "code",
   "execution_count": 385,
   "id": "9c1e62ca-bf78-4f9f-9b37-971769f73223",
   "metadata": {},
   "outputs": [
    {
     "data": {
      "text/plain": [
       "NumInfluencers\n",
       "2    12\n",
       "3    39\n",
       "4    12\n",
       "Name: SchoolClass, dtype: int64"
      ]
     },
     "execution_count": 385,
     "metadata": {},
     "output_type": "execute_result"
    }
   ],
   "source": [
    "df_inf_agents.groupby('NumInfluencers')['SchoolClass'].count()"
   ]
  },
  {
   "cell_type": "code",
   "execution_count": 386,
   "id": "3a3fac4b-a4e8-407b-96e7-7ded844603dc",
   "metadata": {},
   "outputs": [
    {
     "data": {
      "text/plain": [
       "count     63.000000\n",
       "mean      31.936508\n",
       "std       28.408241\n",
       "min        0.000000\n",
       "25%        0.000000\n",
       "50%       33.000000\n",
       "75%       50.000000\n",
       "max      100.000000\n",
       "Name: PercentageSameInfluencers, dtype: float64"
      ]
     },
     "execution_count": 386,
     "metadata": {},
     "output_type": "execute_result"
    }
   ],
   "source": [
    "df_inf_agents['PercentageSameInfluencers'].describe()"
   ]
  },
  {
   "cell_type": "code",
   "execution_count": 389,
   "id": "17368b8c-6fe5-4fbe-ad0c-ea966f976907",
   "metadata": {},
   "outputs": [
    {
     "data": {
      "text/plain": [
       "Intervention\n",
       "betweenness    26.047619\n",
       "closeness      37.666667\n",
       "indegree       32.095238\n",
       "Name: PercentageSameInfluencers, dtype: float64"
      ]
     },
     "execution_count": 389,
     "metadata": {},
     "output_type": "execute_result"
    }
   ],
   "source": [
    "df_inf_agents.groupby('Intervention')['PercentageSameInfluencers'].mean()"
   ]
  },
  {
   "cell_type": "code",
   "execution_count": 390,
   "id": "183e4736-06d8-4a91-b908-844fe8caaf7b",
   "metadata": {},
   "outputs": [
    {
     "data": {
      "text/plain": [
       "Intervention\n",
       "betweenness    24.292954\n",
       "closeness      31.875278\n",
       "indegree       28.717425\n",
       "Name: PercentageSameInfluencers, dtype: float64"
      ]
     },
     "execution_count": 390,
     "metadata": {},
     "output_type": "execute_result"
    }
   ],
   "source": [
    "df_inf_agents.groupby('Intervention')['PercentageSameInfluencers'].std()"
   ]
  },
  {
   "cell_type": "code",
   "execution_count": 391,
   "id": "fa34172a-601b-49d0-a4dd-37d0bbf7eaae",
   "metadata": {},
   "outputs": [
    {
     "data": {
      "text/plain": [
       "SchoolClass\n",
       "78.0     66.666667\n",
       "81.0     22.000000\n",
       "100.0    55.666667\n",
       "124.0    33.000000\n",
       "125.0     0.000000\n",
       "256.0    22.000000\n",
       "258.0     0.000000\n",
       "261.0    11.000000\n",
       "262.0    33.333333\n",
       "263.0    22.000000\n",
       "272.0     0.000000\n",
       "273.0     8.333333\n",
       "292.0     0.000000\n",
       "296.0    77.666667\n",
       "297.0    66.666667\n",
       "298.0    55.666667\n",
       "299.0    55.666667\n",
       "300.0    33.000000\n",
       "301.0    25.000000\n",
       "302.0    33.000000\n",
       "303.0    50.000000\n",
       "Name: PercentageSameInfluencers, dtype: float64"
      ]
     },
     "execution_count": 391,
     "metadata": {},
     "output_type": "execute_result"
    }
   ],
   "source": [
    "df_inf_agents.groupby('SchoolClass')['PercentageSameInfluencers'].mean()"
   ]
  },
  {
   "cell_type": "code",
   "execution_count": 398,
   "id": "3f7a3f31-82aa-4182-85a6-ed49fdf04aa4",
   "metadata": {},
   "outputs": [
    {
     "data": {
      "application/vnd.plotly.v1+json": {
       "config": {
        "plotlyServerURL": "https://plot.ly"
       },
       "data": [
        {
         "marker": {
          "color": "#EB89B5"
         },
         "name": "Nominated-Networks",
         "opacity": 0.8,
         "type": "histogram",
         "x": [
          66.66666666666667,
          22,
          55.666666666666664,
          33,
          0,
          22,
          0,
          11,
          33.333333333333336,
          22,
          0,
          8.333333333333334,
          0,
          77.66666666666667,
          66.66666666666667,
          55.666666666666664,
          55.666666666666664,
          33,
          25,
          33,
          50
         ],
         "xbins": {
          "size": 7
         }
        }
       ],
       "layout": {
        "height": 600,
        "template": {
         "data": {
          "bar": [
           {
            "error_x": {
             "color": "#2a3f5f"
            },
            "error_y": {
             "color": "#2a3f5f"
            },
            "marker": {
             "line": {
              "color": "#E5ECF6",
              "width": 0.5
             },
             "pattern": {
              "fillmode": "overlay",
              "size": 10,
              "solidity": 0.2
             }
            },
            "type": "bar"
           }
          ],
          "barpolar": [
           {
            "marker": {
             "line": {
              "color": "#E5ECF6",
              "width": 0.5
             },
             "pattern": {
              "fillmode": "overlay",
              "size": 10,
              "solidity": 0.2
             }
            },
            "type": "barpolar"
           }
          ],
          "carpet": [
           {
            "aaxis": {
             "endlinecolor": "#2a3f5f",
             "gridcolor": "white",
             "linecolor": "white",
             "minorgridcolor": "white",
             "startlinecolor": "#2a3f5f"
            },
            "baxis": {
             "endlinecolor": "#2a3f5f",
             "gridcolor": "white",
             "linecolor": "white",
             "minorgridcolor": "white",
             "startlinecolor": "#2a3f5f"
            },
            "type": "carpet"
           }
          ],
          "choropleth": [
           {
            "colorbar": {
             "outlinewidth": 0,
             "ticks": ""
            },
            "type": "choropleth"
           }
          ],
          "contour": [
           {
            "colorbar": {
             "outlinewidth": 0,
             "ticks": ""
            },
            "colorscale": [
             [
              0,
              "#0d0887"
             ],
             [
              0.1111111111111111,
              "#46039f"
             ],
             [
              0.2222222222222222,
              "#7201a8"
             ],
             [
              0.3333333333333333,
              "#9c179e"
             ],
             [
              0.4444444444444444,
              "#bd3786"
             ],
             [
              0.5555555555555556,
              "#d8576b"
             ],
             [
              0.6666666666666666,
              "#ed7953"
             ],
             [
              0.7777777777777778,
              "#fb9f3a"
             ],
             [
              0.8888888888888888,
              "#fdca26"
             ],
             [
              1,
              "#f0f921"
             ]
            ],
            "type": "contour"
           }
          ],
          "contourcarpet": [
           {
            "colorbar": {
             "outlinewidth": 0,
             "ticks": ""
            },
            "type": "contourcarpet"
           }
          ],
          "heatmap": [
           {
            "colorbar": {
             "outlinewidth": 0,
             "ticks": ""
            },
            "colorscale": [
             [
              0,
              "#0d0887"
             ],
             [
              0.1111111111111111,
              "#46039f"
             ],
             [
              0.2222222222222222,
              "#7201a8"
             ],
             [
              0.3333333333333333,
              "#9c179e"
             ],
             [
              0.4444444444444444,
              "#bd3786"
             ],
             [
              0.5555555555555556,
              "#d8576b"
             ],
             [
              0.6666666666666666,
              "#ed7953"
             ],
             [
              0.7777777777777778,
              "#fb9f3a"
             ],
             [
              0.8888888888888888,
              "#fdca26"
             ],
             [
              1,
              "#f0f921"
             ]
            ],
            "type": "heatmap"
           }
          ],
          "heatmapgl": [
           {
            "colorbar": {
             "outlinewidth": 0,
             "ticks": ""
            },
            "colorscale": [
             [
              0,
              "#0d0887"
             ],
             [
              0.1111111111111111,
              "#46039f"
             ],
             [
              0.2222222222222222,
              "#7201a8"
             ],
             [
              0.3333333333333333,
              "#9c179e"
             ],
             [
              0.4444444444444444,
              "#bd3786"
             ],
             [
              0.5555555555555556,
              "#d8576b"
             ],
             [
              0.6666666666666666,
              "#ed7953"
             ],
             [
              0.7777777777777778,
              "#fb9f3a"
             ],
             [
              0.8888888888888888,
              "#fdca26"
             ],
             [
              1,
              "#f0f921"
             ]
            ],
            "type": "heatmapgl"
           }
          ],
          "histogram": [
           {
            "marker": {
             "pattern": {
              "fillmode": "overlay",
              "size": 10,
              "solidity": 0.2
             }
            },
            "type": "histogram"
           }
          ],
          "histogram2d": [
           {
            "colorbar": {
             "outlinewidth": 0,
             "ticks": ""
            },
            "colorscale": [
             [
              0,
              "#0d0887"
             ],
             [
              0.1111111111111111,
              "#46039f"
             ],
             [
              0.2222222222222222,
              "#7201a8"
             ],
             [
              0.3333333333333333,
              "#9c179e"
             ],
             [
              0.4444444444444444,
              "#bd3786"
             ],
             [
              0.5555555555555556,
              "#d8576b"
             ],
             [
              0.6666666666666666,
              "#ed7953"
             ],
             [
              0.7777777777777778,
              "#fb9f3a"
             ],
             [
              0.8888888888888888,
              "#fdca26"
             ],
             [
              1,
              "#f0f921"
             ]
            ],
            "type": "histogram2d"
           }
          ],
          "histogram2dcontour": [
           {
            "colorbar": {
             "outlinewidth": 0,
             "ticks": ""
            },
            "colorscale": [
             [
              0,
              "#0d0887"
             ],
             [
              0.1111111111111111,
              "#46039f"
             ],
             [
              0.2222222222222222,
              "#7201a8"
             ],
             [
              0.3333333333333333,
              "#9c179e"
             ],
             [
              0.4444444444444444,
              "#bd3786"
             ],
             [
              0.5555555555555556,
              "#d8576b"
             ],
             [
              0.6666666666666666,
              "#ed7953"
             ],
             [
              0.7777777777777778,
              "#fb9f3a"
             ],
             [
              0.8888888888888888,
              "#fdca26"
             ],
             [
              1,
              "#f0f921"
             ]
            ],
            "type": "histogram2dcontour"
           }
          ],
          "mesh3d": [
           {
            "colorbar": {
             "outlinewidth": 0,
             "ticks": ""
            },
            "type": "mesh3d"
           }
          ],
          "parcoords": [
           {
            "line": {
             "colorbar": {
              "outlinewidth": 0,
              "ticks": ""
             }
            },
            "type": "parcoords"
           }
          ],
          "pie": [
           {
            "automargin": true,
            "type": "pie"
           }
          ],
          "scatter": [
           {
            "marker": {
             "colorbar": {
              "outlinewidth": 0,
              "ticks": ""
             }
            },
            "type": "scatter"
           }
          ],
          "scatter3d": [
           {
            "line": {
             "colorbar": {
              "outlinewidth": 0,
              "ticks": ""
             }
            },
            "marker": {
             "colorbar": {
              "outlinewidth": 0,
              "ticks": ""
             }
            },
            "type": "scatter3d"
           }
          ],
          "scattercarpet": [
           {
            "marker": {
             "colorbar": {
              "outlinewidth": 0,
              "ticks": ""
             }
            },
            "type": "scattercarpet"
           }
          ],
          "scattergeo": [
           {
            "marker": {
             "colorbar": {
              "outlinewidth": 0,
              "ticks": ""
             }
            },
            "type": "scattergeo"
           }
          ],
          "scattergl": [
           {
            "marker": {
             "colorbar": {
              "outlinewidth": 0,
              "ticks": ""
             }
            },
            "type": "scattergl"
           }
          ],
          "scattermapbox": [
           {
            "marker": {
             "colorbar": {
              "outlinewidth": 0,
              "ticks": ""
             }
            },
            "type": "scattermapbox"
           }
          ],
          "scatterpolar": [
           {
            "marker": {
             "colorbar": {
              "outlinewidth": 0,
              "ticks": ""
             }
            },
            "type": "scatterpolar"
           }
          ],
          "scatterpolargl": [
           {
            "marker": {
             "colorbar": {
              "outlinewidth": 0,
              "ticks": ""
             }
            },
            "type": "scatterpolargl"
           }
          ],
          "scatterternary": [
           {
            "marker": {
             "colorbar": {
              "outlinewidth": 0,
              "ticks": ""
             }
            },
            "type": "scatterternary"
           }
          ],
          "surface": [
           {
            "colorbar": {
             "outlinewidth": 0,
             "ticks": ""
            },
            "colorscale": [
             [
              0,
              "#0d0887"
             ],
             [
              0.1111111111111111,
              "#46039f"
             ],
             [
              0.2222222222222222,
              "#7201a8"
             ],
             [
              0.3333333333333333,
              "#9c179e"
             ],
             [
              0.4444444444444444,
              "#bd3786"
             ],
             [
              0.5555555555555556,
              "#d8576b"
             ],
             [
              0.6666666666666666,
              "#ed7953"
             ],
             [
              0.7777777777777778,
              "#fb9f3a"
             ],
             [
              0.8888888888888888,
              "#fdca26"
             ],
             [
              1,
              "#f0f921"
             ]
            ],
            "type": "surface"
           }
          ],
          "table": [
           {
            "cells": {
             "fill": {
              "color": "#EBF0F8"
             },
             "line": {
              "color": "white"
             }
            },
            "header": {
             "fill": {
              "color": "#C8D4E3"
             },
             "line": {
              "color": "white"
             }
            },
            "type": "table"
           }
          ]
         },
         "layout": {
          "annotationdefaults": {
           "arrowcolor": "#2a3f5f",
           "arrowhead": 0,
           "arrowwidth": 1
          },
          "autotypenumbers": "strict",
          "coloraxis": {
           "colorbar": {
            "outlinewidth": 0,
            "ticks": ""
           }
          },
          "colorscale": {
           "diverging": [
            [
             0,
             "#8e0152"
            ],
            [
             0.1,
             "#c51b7d"
            ],
            [
             0.2,
             "#de77ae"
            ],
            [
             0.3,
             "#f1b6da"
            ],
            [
             0.4,
             "#fde0ef"
            ],
            [
             0.5,
             "#f7f7f7"
            ],
            [
             0.6,
             "#e6f5d0"
            ],
            [
             0.7,
             "#b8e186"
            ],
            [
             0.8,
             "#7fbc41"
            ],
            [
             0.9,
             "#4d9221"
            ],
            [
             1,
             "#276419"
            ]
           ],
           "sequential": [
            [
             0,
             "#0d0887"
            ],
            [
             0.1111111111111111,
             "#46039f"
            ],
            [
             0.2222222222222222,
             "#7201a8"
            ],
            [
             0.3333333333333333,
             "#9c179e"
            ],
            [
             0.4444444444444444,
             "#bd3786"
            ],
            [
             0.5555555555555556,
             "#d8576b"
            ],
            [
             0.6666666666666666,
             "#ed7953"
            ],
            [
             0.7777777777777778,
             "#fb9f3a"
            ],
            [
             0.8888888888888888,
             "#fdca26"
            ],
            [
             1,
             "#f0f921"
            ]
           ],
           "sequentialminus": [
            [
             0,
             "#0d0887"
            ],
            [
             0.1111111111111111,
             "#46039f"
            ],
            [
             0.2222222222222222,
             "#7201a8"
            ],
            [
             0.3333333333333333,
             "#9c179e"
            ],
            [
             0.4444444444444444,
             "#bd3786"
            ],
            [
             0.5555555555555556,
             "#d8576b"
            ],
            [
             0.6666666666666666,
             "#ed7953"
            ],
            [
             0.7777777777777778,
             "#fb9f3a"
            ],
            [
             0.8888888888888888,
             "#fdca26"
            ],
            [
             1,
             "#f0f921"
            ]
           ]
          },
          "colorway": [
           "#636efa",
           "#EF553B",
           "#00cc96",
           "#ab63fa",
           "#FFA15A",
           "#19d3f3",
           "#FF6692",
           "#B6E880",
           "#FF97FF",
           "#FECB52"
          ],
          "font": {
           "color": "#2a3f5f"
          },
          "geo": {
           "bgcolor": "white",
           "lakecolor": "white",
           "landcolor": "#E5ECF6",
           "showlakes": true,
           "showland": true,
           "subunitcolor": "white"
          },
          "hoverlabel": {
           "align": "left"
          },
          "hovermode": "closest",
          "mapbox": {
           "style": "light"
          },
          "paper_bgcolor": "white",
          "plot_bgcolor": "#E5ECF6",
          "polar": {
           "angularaxis": {
            "gridcolor": "white",
            "linecolor": "white",
            "ticks": ""
           },
           "bgcolor": "#E5ECF6",
           "radialaxis": {
            "gridcolor": "white",
            "linecolor": "white",
            "ticks": ""
           }
          },
          "scene": {
           "xaxis": {
            "backgroundcolor": "#E5ECF6",
            "gridcolor": "white",
            "gridwidth": 2,
            "linecolor": "white",
            "showbackground": true,
            "ticks": "",
            "zerolinecolor": "white"
           },
           "yaxis": {
            "backgroundcolor": "#E5ECF6",
            "gridcolor": "white",
            "gridwidth": 2,
            "linecolor": "white",
            "showbackground": true,
            "ticks": "",
            "zerolinecolor": "white"
           },
           "zaxis": {
            "backgroundcolor": "#E5ECF6",
            "gridcolor": "white",
            "gridwidth": 2,
            "linecolor": "white",
            "showbackground": true,
            "ticks": "",
            "zerolinecolor": "white"
           }
          },
          "shapedefaults": {
           "line": {
            "color": "#2a3f5f"
           }
          },
          "ternary": {
           "aaxis": {
            "gridcolor": "white",
            "linecolor": "white",
            "ticks": ""
           },
           "baxis": {
            "gridcolor": "white",
            "linecolor": "white",
            "ticks": ""
           },
           "bgcolor": "#E5ECF6",
           "caxis": {
            "gridcolor": "white",
            "linecolor": "white",
            "ticks": ""
           }
          },
          "title": {
           "x": 0.05
          },
          "xaxis": {
           "automargin": true,
           "gridcolor": "white",
           "linecolor": "white",
           "ticks": "",
           "title": {
            "standoff": 15
           },
           "zerolinecolor": "white",
           "zerolinewidth": 2
          },
          "yaxis": {
           "automargin": true,
           "gridcolor": "white",
           "linecolor": "white",
           "ticks": "",
           "title": {
            "standoff": 15
           },
           "zerolinecolor": "white",
           "zerolinewidth": 2
          }
         }
        },
        "width": 800,
        "xaxis": {
         "autorange": true,
         "range": [
          -3.5,
          80.5
         ],
         "title": {
          "text": "Same Influencers (%)"
         },
         "type": "linear"
        },
        "yaxis": {
         "autorange": true,
         "range": [
          0,
          4.2105263157894735
         ],
         "title": {
          "text": "Number of Classes"
         }
        }
       }
      },
      "image/png": "[encoded data removed]",
      "text/html": [
       "<div>                            <div id=\"382f5d10-956d-4b68-a176-6f729cf96d55\" class=\"plotly-graph-div\" style=\"height:600px; width:800px;\"></div>            <script type=\"text/javascript\">                require([\"plotly\"], function(Plotly) {                    window.PLOTLYENV=window.PLOTLYENV || {};                                    if (document.getElementById(\"382f5d10-956d-4b68-a176-6f729cf96d55\")) {                    Plotly.newPlot(                        \"382f5d10-956d-4b68-a176-6f729cf96d55\",                        [{\"marker\":{\"color\":\"#EB89B5\"},\"name\":\"Nominated-Networks\",\"opacity\":0.8,\"type\":\"histogram\",\"x\":[66.66666666666667,22.0,55.666666666666664,33.0,0.0,22.0,0.0,11.0,33.333333333333336,22.0,0.0,8.333333333333334,0.0,77.66666666666667,66.66666666666667,55.666666666666664,55.666666666666664,33.0,25.0,33.0,50.0],\"xbins\":{\"size\":7}}],                        {\"height\":600,\"template\":{\"data\":{\"bar\":[{\"error_x\":{\"color\":\"#2a3f5f\"},\"error_y\":{\"color\":\"#2a3f5f\"},\"marker\":{\"line\":{\"color\":\"#E5ECF6\",\"width\":0.5},\"pattern\":{\"fillmode\":\"overlay\",\"size\":10,\"solidity\":0.2}},\"type\":\"bar\"}],\"barpolar\":[{\"marker\":{\"line\":{\"color\":\"#E5ECF6\",\"width\":0.5},\"pattern\":{\"fillmode\":\"overlay\",\"size\":10,\"solidity\":0.2}},\"type\":\"barpolar\"}],\"carpet\":[{\"aaxis\":{\"endlinecolor\":\"#2a3f5f\",\"gridcolor\":\"white\",\"linecolor\":\"white\",\"minorgridcolor\":\"white\",\"startlinecolor\":\"#2a3f5f\"},\"baxis\":{\"endlinecolor\":\"#2a3f5f\",\"gridcolor\":\"white\",\"linecolor\":\"white\",\"minorgridcolor\":\"white\",\"startlinecolor\":\"#2a3f5f\"},\"type\":\"carpet\"}],\"choropleth\":[{\"colorbar\":{\"outlinewidth\":0,\"ticks\":\"\"},\"type\":\"choropleth\"}],\"contour\":[{\"colorbar\":{\"outlinewidth\":0,\"ticks\":\"\"},\"colorscale\":[[0.0,\"#0d0887\"],[0.1111111111111111,\"#46039f\"],[0.2222222222222222,\"#7201a8\"],[0.3333333333333333,\"#9c179e\"],[0.4444444444444444,\"#bd3786\"],[0.5555555555555556,\"#d8576b\"],[0.6666666666666666,\"#ed7953\"],[0.7777777777777778,\"#fb9f3a\"],[0.8888888888888888,\"#fdca26\"],[1.0,\"#f0f921\"]],\"type\":\"contour\"}],\"contourcarpet\":[{\"colorbar\":{\"outlinewidth\":0,\"ticks\":\"\"},\"type\":\"contourcarpet\"}],\"heatmap\":[{\"colorbar\":{\"outlinewidth\":0,\"ticks\":\"\"},\"colorscale\":[[0.0,\"#0d0887\"],[0.1111111111111111,\"#46039f\"],[0.2222222222222222,\"#7201a8\"],[0.3333333333333333,\"#9c179e\"],[0.4444444444444444,\"#bd3786\"],[0.5555555555555556,\"#d8576b\"],[0.6666666666666666,\"#ed7953\"],[0.7777777777777778,\"#fb9f3a\"],[0.8888888888888888,\"#fdca26\"],[1.0,\"#f0f921\"]],\"type\":\"heatmap\"}],\"heatmapgl\":[{\"colorbar\":{\"outlinewidth\":0,\"ticks\":\"\"},\"colorscale\":[[0.0,\"#0d0887\"],[0.1111111111111111,\"#46039f\"],[0.2222222222222222,\"#7201a8\"],[0.3333333333333333,\"#9c179e\"],[0.4444444444444444,\"#bd3786\"],[0.5555555555555556,\"#d8576b\"],[0.6666666666666666,\"#ed7953\"],[0.7777777777777778,\"#fb9f3a\"],[0.8888888888888888,\"#fdca26\"],[1.0,\"#f0f921\"]],\"type\":\"heatmapgl\"}],\"histogram\":[{\"marker\":{\"pattern\":{\"fillmode\":\"overlay\",\"size\":10,\"solidity\":0.2}},\"type\":\"histogram\"}],\"histogram2d\":[{\"colorbar\":{\"outlinewidth\":0,\"ticks\":\"\"},\"colorscale\":[[0.0,\"#0d0887\"],[0.1111111111111111,\"#46039f\"],[0.2222222222222222,\"#7201a8\"],[0.3333333333333333,\"#9c179e\"],[0.4444444444444444,\"#bd3786\"],[0.5555555555555556,\"#d8576b\"],[0.6666666666666666,\"#ed7953\"],[0.7777777777777778,\"#fb9f3a\"],[0.8888888888888888,\"#fdca26\"],[1.0,\"#f0f921\"]],\"type\":\"histogram2d\"}],\"histogram2dcontour\":[{\"colorbar\":{\"outlinewidth\":0,\"ticks\":\"\"},\"colorscale\":[[0.0,\"#0d0887\"],[0.1111111111111111,\"#46039f\"],[0.2222222222222222,\"#7201a8\"],[0.3333333333333333,\"#9c179e\"],[0.4444444444444444,\"#bd3786\"],[0.5555555555555556,\"#d8576b\"],[0.6666666666666666,\"#ed7953\"],[0.7777777777777778,\"#fb9f3a\"],[0.8888888888888888,\"#fdca26\"],[1.0,\"#f0f921\"]],\"type\":\"histogram2dcontour\"}],\"mesh3d\":[{\"colorbar\":{\"outlinewidth\":0,\"ticks\":\"\"},\"type\":\"mesh3d\"}],\"parcoords\":[{\"line\":{\"colorbar\":{\"outlinewidth\":0,\"ticks\":\"\"}},\"type\":\"parcoords\"}],\"pie\":[{\"automargin\":true,\"type\":\"pie\"}],\"scatter\":[{\"marker\":{\"colorbar\":{\"outlinewidth\":0,\"ticks\":\"\"}},\"type\":\"scatter\"}],\"scatter3d\":[{\"line\":{\"colorbar\":{\"outlinewidth\":0,\"ticks\":\"\"}},\"marker\":{\"colorbar\":{\"outlinewidth\":0,\"ticks\":\"\"}},\"type\":\"scatter3d\"}],\"scattercarpet\":[{\"marker\":{\"colorbar\":{\"outlinewidth\":0,\"ticks\":\"\"}},\"type\":\"scattercarpet\"}],\"scattergeo\":[{\"marker\":{\"colorbar\":{\"outlinewidth\":0,\"ticks\":\"\"}},\"type\":\"scattergeo\"}],\"scattergl\":[{\"marker\":{\"colorbar\":{\"outlinewidth\":0,\"ticks\":\"\"}},\"type\":\"scattergl\"}],\"scattermapbox\":[{\"marker\":{\"colorbar\":{\"outlinewidth\":0,\"ticks\":\"\"}},\"type\":\"scattermapbox\"}],\"scatterpolar\":[{\"marker\":{\"colorbar\":{\"outlinewidth\":0,\"ticks\":\"\"}},\"type\":\"scatterpolar\"}],\"scatterpolargl\":[{\"marker\":{\"colorbar\":{\"outlinewidth\":0,\"ticks\":\"\"}},\"type\":\"scatterpolargl\"}],\"scatterternary\":[{\"marker\":{\"colorbar\":{\"outlinewidth\":0,\"ticks\":\"\"}},\"type\":\"scatterternary\"}],\"surface\":[{\"colorbar\":{\"outlinewidth\":0,\"ticks\":\"\"},\"colorscale\":[[0.0,\"#0d0887\"],[0.1111111111111111,\"#46039f\"],[0.2222222222222222,\"#7201a8\"],[0.3333333333333333,\"#9c179e\"],[0.4444444444444444,\"#bd3786\"],[0.5555555555555556,\"#d8576b\"],[0.6666666666666666,\"#ed7953\"],[0.7777777777777778,\"#fb9f3a\"],[0.8888888888888888,\"#fdca26\"],[1.0,\"#f0f921\"]],\"type\":\"surface\"}],\"table\":[{\"cells\":{\"fill\":{\"color\":\"#EBF0F8\"},\"line\":{\"color\":\"white\"}},\"header\":{\"fill\":{\"color\":\"#C8D4E3\"},\"line\":{\"color\":\"white\"}},\"type\":\"table\"}]},\"layout\":{\"annotationdefaults\":{\"arrowcolor\":\"#2a3f5f\",\"arrowhead\":0,\"arrowwidth\":1},\"autotypenumbers\":\"strict\",\"coloraxis\":{\"colorbar\":{\"outlinewidth\":0,\"ticks\":\"\"}},\"colorscale\":{\"diverging\":[[0,\"#8e0152\"],[0.1,\"#c51b7d\"],[0.2,\"#de77ae\"],[0.3,\"#f1b6da\"],[0.4,\"#fde0ef\"],[0.5,\"#f7f7f7\"],[0.6,\"#e6f5d0\"],[0.7,\"#b8e186\"],[0.8,\"#7fbc41\"],[0.9,\"#4d9221\"],[1,\"#276419\"]],\"sequential\":[[0.0,\"#0d0887\"],[0.1111111111111111,\"#46039f\"],[0.2222222222222222,\"#7201a8\"],[0.3333333333333333,\"#9c179e\"],[0.4444444444444444,\"#bd3786\"],[0.5555555555555556,\"#d8576b\"],[0.6666666666666666,\"#ed7953\"],[0.7777777777777778,\"#fb9f3a\"],[0.8888888888888888,\"#fdca26\"],[1.0,\"#f0f921\"]],\"sequentialminus\":[[0.0,\"#0d0887\"],[0.1111111111111111,\"#46039f\"],[0.2222222222222222,\"#7201a8\"],[0.3333333333333333,\"#9c179e\"],[0.4444444444444444,\"#bd3786\"],[0.5555555555555556,\"#d8576b\"],[0.6666666666666666,\"#ed7953\"],[0.7777777777777778,\"#fb9f3a\"],[0.8888888888888888,\"#fdca26\"],[1.0,\"#f0f921\"]]},\"colorway\":[\"#636efa\",\"#EF553B\",\"#00cc96\",\"#ab63fa\",\"#FFA15A\",\"#19d3f3\",\"#FF6692\",\"#B6E880\",\"#FF97FF\",\"#FECB52\"],\"font\":{\"color\":\"#2a3f5f\"},\"geo\":{\"bgcolor\":\"white\",\"lakecolor\":\"white\",\"landcolor\":\"#E5ECF6\",\"showlakes\":true,\"showland\":true,\"subunitcolor\":\"white\"},\"hoverlabel\":{\"align\":\"left\"},\"hovermode\":\"closest\",\"mapbox\":{\"style\":\"light\"},\"paper_bgcolor\":\"white\",\"plot_bgcolor\":\"#E5ECF6\",\"polar\":{\"angularaxis\":{\"gridcolor\":\"white\",\"linecolor\":\"white\",\"ticks\":\"\"},\"bgcolor\":\"#E5ECF6\",\"radialaxis\":{\"gridcolor\":\"white\",\"linecolor\":\"white\",\"ticks\":\"\"}},\"scene\":{\"xaxis\":{\"backgroundcolor\":\"#E5ECF6\",\"gridcolor\":\"white\",\"gridwidth\":2,\"linecolor\":\"white\",\"showbackground\":true,\"ticks\":\"\",\"zerolinecolor\":\"white\"},\"yaxis\":{\"backgroundcolor\":\"#E5ECF6\",\"gridcolor\":\"white\",\"gridwidth\":2,\"linecolor\":\"white\",\"showbackground\":true,\"ticks\":\"\",\"zerolinecolor\":\"white\"},\"zaxis\":{\"backgroundcolor\":\"#E5ECF6\",\"gridcolor\":\"white\",\"gridwidth\":2,\"linecolor\":\"white\",\"showbackground\":true,\"ticks\":\"\",\"zerolinecolor\":\"white\"}},\"shapedefaults\":{\"line\":{\"color\":\"#2a3f5f\"}},\"ternary\":{\"aaxis\":{\"gridcolor\":\"white\",\"linecolor\":\"white\",\"ticks\":\"\"},\"baxis\":{\"gridcolor\":\"white\",\"linecolor\":\"white\",\"ticks\":\"\"},\"bgcolor\":\"#E5ECF6\",\"caxis\":{\"gridcolor\":\"white\",\"linecolor\":\"white\",\"ticks\":\"\"}},\"title\":{\"x\":0.05},\"xaxis\":{\"automargin\":true,\"gridcolor\":\"white\",\"linecolor\":\"white\",\"ticks\":\"\",\"title\":{\"standoff\":15},\"zerolinecolor\":\"white\",\"zerolinewidth\":2},\"yaxis\":{\"automargin\":true,\"gridcolor\":\"white\",\"linecolor\":\"white\",\"ticks\":\"\",\"title\":{\"standoff\":15},\"zerolinecolor\":\"white\",\"zerolinewidth\":2}}},\"width\":800,\"xaxis\":{\"title\":{\"text\":\"Same Influencers (%)\"}},\"yaxis\":{\"title\":{\"text\":\"Number of Classes\"}}},                        {\"responsive\": true}                    ).then(function(){\n",
       "                            \n",
       "var gd = document.getElementById('382f5d10-956d-4b68-a176-6f729cf96d55');\n",
       "var x = new MutationObserver(function (mutations, observer) {{\n",
       "        var display = window.getComputedStyle(gd).display;\n",
       "        if (!display || display === 'none') {{\n",
       "            console.log([gd, 'removed!']);\n",
       "            Plotly.purge(gd);\n",
       "            observer.disconnect();\n",
       "        }}\n",
       "}});\n",
       "\n",
       "// Listen for the removal of the full notebook cells\n",
       "var notebookContainer = gd.closest('#notebook-container');\n",
       "if (notebookContainer) {{\n",
       "    x.observe(notebookContainer, {childList: true});\n",
       "}}\n",
       "\n",
       "// Listen for the clearing of the current output cell\n",
       "var outputEl = gd.closest('.output');\n",
       "if (outputEl) {{\n",
       "    x.observe(outputEl, {childList: true});\n",
       "}}\n",
       "\n",
       "                        })                };                });            </script>        </div>"
      ]
     },
     "metadata": {},
     "output_type": "display_data"
    }
   ],
   "source": [
    "import plotly.graph_objects as go\n",
    "\n",
    "import numpy as np\n",
    "\n",
    "x0 = df_inf_agents.groupby('SchoolClass')['PercentageSameInfluencers'].mean()\n",
    "# Add 1 to shift the mean of the Gaussian distribution\n",
    "\n",
    "fig = go.Figure()\n",
    "fig.add_trace(go.Histogram(x=x0,\n",
    "    name='Nominated-Networks', # name used in legend and hover labels\n",
    "    xbins=dict( # bins used for histogram\n",
    "        size=7\n",
    "    ),\n",
    "    marker_color='#EB89B5',\n",
    "    opacity=0.75))\n",
    "\n",
    "# Overlay both histograms\n",
    "fig.update_layout(xaxis_title=\"Same Influencers (%)\", yaxis_title=\"Number of Classes\",width=800, height=600)\n",
    "# Reduce opacity to see both histograms\n",
    "fig.update_traces(opacity=0.8)\n",
    "fig.show()"
   ]
  },
  {
   "cell_type": "markdown",
   "id": "ab7d2716-540a-47b8-a812-99a729764a9d",
   "metadata": {},
   "source": [
    "# Running Simulations - Tuned Parameters"
   ]
  },
  {
   "cell_type": "code",
   "execution_count": 35,
   "id": "42571b52-a992-4c4c-98b9-7033aa3c5a4e",
   "metadata": {},
   "outputs": [
    {
     "name": "stderr",
     "output_type": "stream",
     "text": [
      "/Users/bojansimoski/dev/eur/ABM-PA/newsrc/simulation.py:28: DtypeWarning: Columns (319,321,323,377,434,436,439,441,444,446,449,451,454,456,459,461,464,466,469,471,474,476,479,481,484,486,489,491) have mixed types.Specify dtype option on import or set low_memory=False.\n",
      "  self.PeerNominatedDataPopulation = p.PeerNominatedDataPopulation('Peer-Nominated data population', self.input_args)\n",
      "<ipython-input-35-a3380912ab34>:1: DtypeWarning: Columns (22) have mixed types.Specify dtype option on import or set low_memory=False.\n",
      "  simulation =  s.Simulation()\n",
      "/Users/bojansimoski/dev/eur/ABM-PA/newsrc/simulation.py:29: DtypeWarning: Columns (319,321,323,377,434,436,439,441,444,446,449,451,454,456,459,461,464,466,469,471,474,476,479,481,484,486,489,491) have mixed types.Specify dtype option on import or set low_memory=False.\n",
      "  self.CommunicationDataPopulation = p.CommunicationDataPopulation('Communication data population', self.input_args)\n"
     ]
    }
   ],
   "source": [
    "simulation =  s.Simulation()"
   ]
  },
  {
   "cell_type": "code",
   "execution_count": 48,
   "id": "7f42b1f7-e60b-4175-82c0-1424a31f1ec3",
   "metadata": {},
   "outputs": [
    {
     "name": "stdout",
     "output_type": "stream",
     "text": [
      "0 1.0 0.001\n",
      "Time elapsed: 16.527905702590942  seconds\n",
      "1 0.975 0.001\n",
      "Time elapsed: 31.56413698196411  seconds\n",
      "2 0.95 0.001\n",
      "Time elapsed: 46.13438081741333  seconds\n",
      "3 0.925 0.001\n",
      "Time elapsed: 61.76883578300476  seconds\n",
      "4 0.9 0.001\n",
      "Time elapsed: 76.37187886238098  seconds\n",
      "5 1.0 0.002\n",
      "Time elapsed: 91.43547296524048  seconds\n",
      "6 1.0 0.003\n",
      "Time elapsed: 105.67430686950684  seconds\n",
      "7 1.0 0.004\n",
      "Time elapsed: 120.29515194892883  seconds\n",
      "8 1.0 0.006\n",
      "Time elapsed: 135.56363987922668  seconds\n",
      "9 0.8750000000000001 0.001\n",
      "Time elapsed: 150.26104402542114  seconds\n",
      "10 1.0 0.005\n",
      "Time elapsed: 165.3614799976349  seconds\n",
      "11 1.0 0.011\n",
      "Time elapsed: 179.8647758960724  seconds\n",
      "12 1.0 0.01\n",
      "Time elapsed: 195.6105580329895  seconds\n",
      "13 1.0 0.008\n",
      "Time elapsed: 210.1912157535553  seconds\n",
      "14 1.0 0.009\n",
      "Time elapsed: 225.60773992538452  seconds\n",
      "15 1.0 0.007\n",
      "Time elapsed: 239.16934895515442  seconds\n",
      "16 1.0 0.013\n",
      "Time elapsed: 253.4620099067688  seconds\n",
      "17 1.0 0.015\n",
      "Time elapsed: 268.4416399002075  seconds\n",
      "18 1.0 0.012\n",
      "Time elapsed: 283.4037959575653  seconds\n",
      "19 1.0 0.017\n",
      "Time elapsed: 298.55563497543335  seconds\n",
      "20 1.0 0.014\n",
      "Time elapsed: 313.62274384498596  seconds\n",
      "21 1.0 0.019\n",
      "Time elapsed: 328.3576078414917  seconds\n",
      "22 1.0 0.018\n",
      "Time elapsed: 343.06234979629517  seconds\n",
      "23 1.0 0.016\n",
      "Time elapsed: 356.8983199596405  seconds\n",
      "24 0.975 0.004\n",
      "Time elapsed: 372.0874388217926  seconds\n",
      "25 0.975 0.002\n",
      "Time elapsed: 386.74738478660583  seconds\n",
      "26 1.0 0.021\n",
      "Time elapsed: 401.1263029575348  seconds\n",
      "27 0.975 0.003\n",
      "Time elapsed: 416.2745449542999  seconds\n",
      "28 1.0 0.02\n",
      "Time elapsed: 431.6340527534485  seconds\n",
      "29 1.0 0.023\n",
      "Time elapsed: 446.40486669540405  seconds\n",
      "30 1.0 0.027\n",
      "Time elapsed: 462.0923318862915  seconds\n",
      "31 0.975 0.005\n",
      "Time elapsed: 476.76016497612  seconds\n",
      "32 0.975 0.008\n",
      "Time elapsed: 490.90315866470337  seconds\n",
      "33 0.975 0.007\n",
      "Time elapsed: 505.5070369243622  seconds\n",
      "34 0.975 0.006\n",
      "Time elapsed: 520.5676307678223  seconds\n",
      "35 1.0 0.026\n",
      "Time elapsed: 535.2485189437866  seconds\n",
      "36 0.8500000000000001 0.001\n",
      "Time elapsed: 550.0985317230225  seconds\n",
      "37 1.0 0.022\n",
      "Time elapsed: 564.2093026638031  seconds\n",
      "38 0.975 0.009\n",
      "Time elapsed: 578.4969890117645  seconds\n",
      "39 1.0 0.03\n",
      "Time elapsed: 593.323148727417  seconds\n",
      "40 1.0 0.024\n",
      "Time elapsed: 606.9277648925781  seconds\n",
      "41 0.975 0.01\n",
      "Time elapsed: 620.6603028774261  seconds\n",
      "42 0.975 0.011\n",
      "Time elapsed: 635.3013367652893  seconds\n",
      "43 1.0 0.028\n",
      "Time elapsed: 650.2912158966064  seconds\n",
      "44 1.0 0.035\n",
      "Time elapsed: 665.7681539058685  seconds\n",
      "45 1.0 0.032\n",
      "Time elapsed: 680.5050368309021  seconds\n",
      "46 1.0 0.029\n",
      "Time elapsed: 695.725350856781  seconds\n",
      "47 0.975 0.013\n",
      "Time elapsed: 710.6854248046875  seconds\n",
      "48 0.975 0.012\n",
      "Time elapsed: 725.6881549358368  seconds\n",
      "49 1.0 0.025\n",
      "Time elapsed: 741.733060836792  seconds\n",
      "50 1.0 0.031\n",
      "Time elapsed: 756.9581708908081  seconds\n",
      "51 0.975 0.015\n",
      "Time elapsed: 771.9037699699402  seconds\n",
      "52 0.975 0.016\n",
      "Time elapsed: 788.4090178012848  seconds\n",
      "53 0.975 0.018\n",
      "Time elapsed: 803.8023798465729  seconds\n",
      "54 0.975 0.014\n",
      "Time elapsed: 818.2456209659576  seconds\n",
      "55 0.975 0.023\n",
      "Time elapsed: 833.7320828437805  seconds\n",
      "56 0.95 0.002\n",
      "Time elapsed: 848.2335109710693  seconds\n",
      "57 0.975 0.025\n",
      "Time elapsed: 861.806168794632  seconds\n",
      "58 0.975 0.017\n",
      "Time elapsed: 876.7798988819122  seconds\n",
      "59 0.95 0.003\n",
      "Time elapsed: 891.8216099739075  seconds\n",
      "60 0.975 0.02\n",
      "Time elapsed: 906.8610167503357  seconds\n",
      "61 1.0 0.033\n",
      "Time elapsed: 921.6713318824768  seconds\n",
      "62 1.0 0.036\n",
      "Time elapsed: 936.6064648628235  seconds\n",
      "63 1.0 0.034\n",
      "Time elapsed: 951.5457878112793  seconds\n",
      "64 0.975 0.024\n",
      "Time elapsed: 965.9873838424683  seconds\n",
      "65 0.95 0.004\n",
      "Time elapsed: 980.5149047374725  seconds\n",
      "66 0.95 0.005\n",
      "Time elapsed: 995.9280200004578  seconds\n",
      "67 1.0 0.037\n",
      "Time elapsed: 1011.0387909412384  seconds\n",
      "68 0.95 0.007\n",
      "Time elapsed: 1025.5916979312897  seconds\n",
      "69 0.95 0.006\n",
      "Time elapsed: 1039.847102880478  seconds\n",
      "70 0.975 0.021\n",
      "Time elapsed: 1054.4507987499237  seconds\n",
      "71 0.975 0.019\n",
      "Time elapsed: 1069.1477069854736  seconds\n",
      "72 0.975 0.029\n",
      "Time elapsed: 1084.3222827911377  seconds\n",
      "73 0.95 0.008\n",
      "Time elapsed: 1098.9431040287018  seconds\n",
      "74 0.95 0.012\n",
      "Time elapsed: 1113.7958159446716  seconds\n",
      "75 0.975 0.022\n",
      "Time elapsed: 1128.565081834793  seconds\n",
      "76 0.975 0.031\n",
      "Time elapsed: 1143.662556886673  seconds\n",
      "77 0.8250000000000001 0.001\n",
      "Time elapsed: 1158.6352348327637  seconds\n",
      "78 0.975 0.03\n",
      "Time elapsed: 1173.7552409172058  seconds\n",
      "79 0.975 0.026\n",
      "Time elapsed: 1188.6160907745361  seconds\n",
      "80 1.0 0.041\n",
      "Time elapsed: 1203.1731078624725  seconds\n",
      "81 0.95 0.009\n",
      "Time elapsed: 1217.4818980693817  seconds\n",
      "82 0.95 0.011\n",
      "Time elapsed: 1233.3542759418488  seconds\n",
      "83 1.0 0.042\n",
      "Time elapsed: 1248.4573338031769  seconds\n",
      "84 0.95 0.01\n",
      "Time elapsed: 1263.7998826503754  seconds\n",
      "85 0.95 0.014\n",
      "Time elapsed: 1279.0199718475342  seconds\n",
      "86 1.0 0.047\n",
      "Time elapsed: 1293.6026649475098  seconds\n",
      "87 0.975 0.027\n",
      "Time elapsed: 1307.4724979400635  seconds\n",
      "88 1.0 0.043\n",
      "Time elapsed: 1321.4578347206116  seconds\n",
      "89 1.0 0.04\n",
      "Time elapsed: 1336.3463039398193  seconds\n",
      "90 1.0 0.039\n",
      "Time elapsed: 1351.5456619262695  seconds\n",
      "91 0.975 0.028\n",
      "Time elapsed: 1367.5138008594513  seconds\n",
      "92 1.0 0.038\n",
      "Time elapsed: 1383.3428139686584  seconds\n",
      "93 1.0 0.044\n",
      "Time elapsed: 1399.4258649349213  seconds\n",
      "94 0.975 0.036\n",
      "Time elapsed: 1414.4263498783112  seconds\n",
      "95 0.95 0.013\n",
      "Time elapsed: 1428.3758058547974  seconds\n",
      "96 0.975 0.032\n",
      "Time elapsed: 1442.432856798172  seconds\n",
      "97 0.95 0.018\n",
      "Time elapsed: 1457.5617816448212  seconds\n",
      "98 1.0 0.048\n",
      "Time elapsed: 1472.1470708847046  seconds\n",
      "99 0.975 0.033\n",
      "Time elapsed: 1486.8927748203278  seconds\n"
     ]
    }
   ],
   "source": [
    "pars_comm = pd.read_csv('../output/opt_pars_communication.csv', sep=',', header=0)\n",
    "list_results_comm = []\n",
    "list_results_avg_comm = []\n",
    "list_agents_per_intervention_comm = []\n",
    "start_whole = time.time()\n",
    "count = 0 \n",
    "for index, row in pars_comm.iterrows():\n",
    "    print(count,row['threshold'],row['ipa'])\n",
    "    results_comm, results_avg_comm, agents_per_intervention_comm = simulation.simulate_interventions(365,'communication',row['threshold'],row['ipa'])\n",
    "    list_results_comm.append(results_comm)\n",
    "    list_results_avg_comm.append(results_avg_comm)\n",
    "    list_agents_per_intervention_comm.append(agents_per_intervention_comm)\n",
    "    count = count + 1\n",
    "    end = time.time()\n",
    "    print(\"Time elapsed:\", end - start_whole, ' seconds')"
   ]
  },
  {
   "cell_type": "code",
   "execution_count": 38,
   "id": "08f32743-43d0-4da1-b2c1-1eb77649166b",
   "metadata": {},
   "outputs": [
    {
     "name": "stdout",
     "output_type": "stream",
     "text": [
      "0 0.025 0.007\n",
      "Time elapsed: 15.992172956466675  seconds\n",
      "1 0.025 0.004\n",
      "Time elapsed: 34.191850900650024  seconds\n",
      "2 0.025 0.005\n",
      "Time elapsed: 50.32845687866211  seconds\n",
      "3 0.025 0.006\n",
      "Time elapsed: 66.84561681747437  seconds\n",
      "4 0.025 0.009\n",
      "Time elapsed: 83.35153675079346  seconds\n",
      "5 0.025 0.003\n",
      "Time elapsed: 99.21907472610474  seconds\n",
      "6 0.025 0.008\n",
      "Time elapsed: 116.17950582504272  seconds\n",
      "7 0.025 0.012\n",
      "Time elapsed: 133.09018802642822  seconds\n",
      "8 0.025 0.01\n",
      "Time elapsed: 149.8381769657135  seconds\n",
      "9 0.025 0.011\n",
      "Time elapsed: 165.79157876968384  seconds\n",
      "10 0.025 0.002\n",
      "Time elapsed: 182.88090181350708  seconds\n",
      "11 0.025 0.013\n",
      "Time elapsed: 200.01046681404114  seconds\n",
      "12 0.025 0.014\n",
      "Time elapsed: 217.15949273109436  seconds\n",
      "13 0.025 0.015\n",
      "Time elapsed: 233.73637199401855  seconds\n",
      "14 0.05 0.001\n",
      "Time elapsed: 251.01804184913635  seconds\n",
      "15 0.025 0.001\n",
      "Time elapsed: 267.6802659034729  seconds\n",
      "16 0.075 0.001\n",
      "Time elapsed: 284.4823217391968  seconds\n",
      "17 1.0 0.001\n",
      "Time elapsed: 300.6576318740845  seconds\n",
      "18 0.975 0.001\n",
      "Time elapsed: 317.1002118587494  seconds\n",
      "19 0.95 0.001\n",
      "Time elapsed: 333.3235960006714  seconds\n",
      "20 0.1 0.001\n",
      "Time elapsed: 349.5847589969635  seconds\n",
      "21 0.925 0.001\n",
      "Time elapsed: 365.98676085472107  seconds\n",
      "22 1.0 0.002\n",
      "Time elapsed: 382.4747688770294  seconds\n",
      "23 1.0 0.005\n",
      "Time elapsed: 399.07353377342224  seconds\n",
      "24 1.0 0.003\n",
      "Time elapsed: 415.2340438365936  seconds\n",
      "25 1.0 0.004\n",
      "Time elapsed: 434.6783916950226  seconds\n",
      "26 1.0 0.006\n",
      "Time elapsed: 451.33422899246216  seconds\n",
      "27 1.0 0.009\n",
      "Time elapsed: 467.54222798347473  seconds\n",
      "28 1.0 0.01\n",
      "Time elapsed: 484.1108088493347  seconds\n",
      "29 0.9 0.001\n",
      "Time elapsed: 500.3401737213135  seconds\n",
      "30 1.0 0.008\n",
      "Time elapsed: 516.936539888382  seconds\n",
      "31 1.0 0.007\n",
      "Time elapsed: 533.4456038475037  seconds\n",
      "32 1.0 0.014\n",
      "Time elapsed: 549.8219599723816  seconds\n",
      "33 1.0 0.011\n",
      "Time elapsed: 568.7408838272095  seconds\n",
      "34 1.0 0.013\n",
      "Time elapsed: 585.7425367832184  seconds\n",
      "35 1.0 0.015\n",
      "Time elapsed: 601.9312777519226  seconds\n",
      "36 1.0 0.012\n",
      "Time elapsed: 618.2456169128418  seconds\n",
      "37 1.0 0.016\n",
      "Time elapsed: 635.4847218990326  seconds\n",
      "38 1.0 0.017\n",
      "Time elapsed: 651.8034789562225  seconds\n",
      "39 1.0 0.02\n",
      "Time elapsed: 670.485250711441  seconds\n",
      "40 1.0 0.03\n",
      "Time elapsed: 686.5461897850037  seconds\n",
      "41 1.0 0.018\n",
      "Time elapsed: 704.1340427398682  seconds\n",
      "42 0.975 0.002\n",
      "Time elapsed: 720.568853855133  seconds\n",
      "43 1.0 0.021\n",
      "Time elapsed: 738.4901037216187  seconds\n",
      "44 0.975 0.003\n",
      "Time elapsed: 754.8647668361664  seconds\n",
      "45 0.975 0.004\n",
      "Time elapsed: 772.456072807312  seconds\n",
      "46 0.975 0.005\n",
      "Time elapsed: 788.6740379333496  seconds\n",
      "47 1.0 0.019\n",
      "Time elapsed: 804.8939146995544  seconds\n",
      "48 1.0 0.022\n",
      "Time elapsed: 821.644419670105  seconds\n",
      "49 0.8750000000000001 0.001\n",
      "Time elapsed: 838.9281289577484  seconds\n",
      "50 0.975 0.007\n",
      "Time elapsed: 855.2717566490173  seconds\n",
      "51 0.975 0.006\n",
      "Time elapsed: 872.6916389465332  seconds\n",
      "52 1.0 0.032\n",
      "Time elapsed: 894.3087379932404  seconds\n",
      "53 0.975 0.008\n",
      "Time elapsed: 910.4641590118408  seconds\n",
      "54 1.0 0.023\n",
      "Time elapsed: 927.0111176967621  seconds\n",
      "55 0.975 0.01\n",
      "Time elapsed: 943.3058879375458  seconds\n",
      "56 1.0 0.027\n",
      "Time elapsed: 958.936616897583  seconds\n",
      "57 0.975 0.012\n",
      "Time elapsed: 976.9809637069702  seconds\n",
      "58 1.0 0.026\n",
      "Time elapsed: 992.5628459453583  seconds\n",
      "59 0.975 0.011\n",
      "Time elapsed: 1009.7196989059448  seconds\n",
      "60 1.0 0.024\n",
      "Time elapsed: 1025.8565020561218  seconds\n",
      "61 0.05 0.004\n",
      "Time elapsed: 1044.0356438159943  seconds\n",
      "62 0.975 0.018\n",
      "Time elapsed: 1061.7311789989471  seconds\n",
      "63 1.0 0.025\n",
      "Time elapsed: 1078.9886357784271  seconds\n",
      "64 0.975 0.009\n",
      "Time elapsed: 1093.9582867622375  seconds\n",
      "65 0.05 0.003\n",
      "Time elapsed: 1109.21186876297  seconds\n",
      "66 0.975 0.016\n",
      "Time elapsed: 1124.2267858982086  seconds\n",
      "67 1.0 0.029\n",
      "Time elapsed: 1140.5131278038025  seconds\n",
      "68 1.0 0.04\n",
      "Time elapsed: 1155.8875629901886  seconds\n",
      "69 1.0 0.033\n",
      "Time elapsed: 1171.0834167003632  seconds\n",
      "70 0.975 0.013\n",
      "Time elapsed: 1186.0884828567505  seconds\n",
      "71 1.0 0.046\n",
      "Time elapsed: 1201.2887380123138  seconds\n",
      "72 1.0 0.041\n",
      "Time elapsed: 1216.6516268253326  seconds\n",
      "73 0.975 0.015\n",
      "Time elapsed: 1232.0180599689484  seconds\n",
      "74 0.975 0.014\n",
      "Time elapsed: 1247.050560951233  seconds\n",
      "75 0.975 0.017\n",
      "Time elapsed: 1262.179302930832  seconds\n",
      "76 0.125 0.001\n",
      "Time elapsed: 1277.6395308971405  seconds\n",
      "77 0.975 0.02\n",
      "Time elapsed: 1292.867052078247  seconds\n",
      "78 0.975 0.022\n",
      "Time elapsed: 1307.8607339859009  seconds\n",
      "79 1.0 0.028\n",
      "Time elapsed: 1323.161465883255  seconds\n",
      "80 1.0 0.036\n",
      "Time elapsed: 1338.2556548118591  seconds\n",
      "81 1.0 0.043\n",
      "Time elapsed: 1353.6739058494568  seconds\n",
      "82 0.05 0.005\n",
      "Time elapsed: 1369.0863449573517  seconds\n",
      "83 1.0 0.031\n",
      "Time elapsed: 1384.3723850250244  seconds\n",
      "84 0.95 0.003\n",
      "Time elapsed: 1401.5614309310913  seconds\n",
      "85 1.0 0.037\n",
      "Time elapsed: 1418.7771389484406  seconds\n",
      "86 0.95 0.002\n",
      "Time elapsed: 1435.9618790149689  seconds\n",
      "87 0.95 0.004\n",
      "Time elapsed: 1452.5347247123718  seconds\n",
      "88 0.975 0.023\n",
      "Time elapsed: 1468.5993866920471  seconds\n",
      "89 0.975 0.024\n",
      "Time elapsed: 1484.1820769309998  seconds\n",
      "90 0.8500000000000001 0.001\n",
      "Time elapsed: 1498.9850549697876  seconds\n",
      "91 0.05 0.006\n",
      "Time elapsed: 1514.004103899002  seconds\n",
      "92 1.0 0.035\n",
      "Time elapsed: 1529.4554839134216  seconds\n",
      "93 0.975 0.019\n",
      "Time elapsed: 1545.6678857803345  seconds\n",
      "94 0.95 0.006\n",
      "Time elapsed: 1561.8515520095825  seconds\n",
      "95 0.95 0.005\n",
      "Time elapsed: 1577.516922712326  seconds\n",
      "96 1.0 0.045\n",
      "Time elapsed: 1593.4311978816986  seconds\n",
      "97 1.0 0.038\n",
      "Time elapsed: 1609.9205257892609  seconds\n",
      "98 1.0 0.042\n",
      "Time elapsed: 1626.006850719452  seconds\n",
      "99 0.975 0.021\n",
      "Time elapsed: 1642.1730999946594  seconds\n"
     ]
    }
   ],
   "source": [
    "pars_nomm = pd.read_csv('../output/opt_pars_nomination.csv', sep=',', header=0)\n",
    "list_results_nomm = []\n",
    "list_results_avg_nomm = []\n",
    "list_agents_per_intervention_nomm = []\n",
    "start_whole = time.time()\n",
    "count = 0 \n",
    "for index, row in pars_nomm.iterrows():\n",
    "    print(count,row['threshold'],row['ipa'])\n",
    "    results_nomm, results_avg_nomm, agents_per_intervention_nomm = simulation.simulate_interventions(365,'nomination',row['threshold'],row['ipa'])\n",
    "    list_results_nomm.append(results_nomm)\n",
    "    list_results_avg_nomm.append(results_avg_nomm)\n",
    "    list_agents_per_intervention_nomm.append(agents_per_intervention_nomm)\n",
    "    count = count + 1\n",
    "    end = time.time()\n",
    "    print(\"Time elapsed:\", end - start_whole, ' seconds')"
   ]
  },
  {
   "cell_type": "markdown",
   "id": "793448f5-8b63-4ad8-8ea7-c7aecf3d087c",
   "metadata": {},
   "source": [
    "# Ploting the outcomes"
   ]
  },
  {
   "cell_type": "code",
   "execution_count": 158,
   "id": "0d00b930-df9f-4367-af8d-4bdfb9e68e03",
   "metadata": {},
   "outputs": [],
   "source": [
    "# all_averaged = {}\n",
    "# for i in ['betweenness','closeness','indegree']:\n",
    "#     result_counter = 0\n",
    "#     for res_avg in list_results_avg_comm:\n",
    "#         temp_res = pd.Series([], dtype = float)\n",
    "#         counter = 0\n",
    "#         for class_id,res in res_avg.items():\n",
    "#             temp_res = temp_res.add(res_avg[class_id][i],fill_value=0)\n",
    "#             counter = counter + 1\n",
    "\n",
    "#         result_counter = result_counter + 1\n",
    "#         all_averaged[i] = temp_res/counter\n",
    "        \n",
    "# plt.figure(figsize=((15,10)))\n",
    "# plt.xlim(0,364)\n",
    "# plt.xlabel('Days')\n",
    "# plt.ylabel('Mean PA')\n",
    "# j = 0\n",
    "# colors = [\"green\", \"yellow\", \"blue\"]\n",
    "# for i in ['indegree','closeness','betweenness']:\n",
    "#     all_averaged[i].plot(color=colors[j],label= i)\n",
    "#     j = j + 1\n",
    "# plt.legend(title='All Interventions Communication Network ', loc=\"upper right\")"
   ]
  },
  {
   "cell_type": "code",
   "execution_count": 159,
   "id": "ddc39de2-e30d-460f-9a58-2e9f04e7de93",
   "metadata": {},
   "outputs": [],
   "source": [
    "# def get_change(current, previous):\n",
    "#     if current == previous:\n",
    "#         return 0\n",
    "#     try:\n",
    "#         return round(((current - previous)/previous)*100.0,2)\n",
    "#     except ZeroDivisionError:\n",
    "#         return 0 \n",
    "    \n",
    "# success_rates_nomm = []\n",
    "# for class_id in input_args['classes']:\n",
    "#     for i in ['betweenness','closeness','indegree']:\n",
    "#         result_counter = 0\n",
    "#         temp_outcome = pd.Series([], dtype = float)\n",
    "#         for res_avg in list_results_avg_nomm:\n",
    "#             temp_outcome = temp_outcome.add(res_avg[str(class_id)][i],fill_value=0)\n",
    "#             result_counter = result_counter + 1\n",
    "#         #finished 100 runs\n",
    "#         temp_outcome = temp_outcome/result_counter\n",
    "#         success_rates_nomm.append([class_id, i, get_change(temp_outcome[364],temp_outcome[0]), temp_outcome[0] , temp_outcome[364]])\n",
    "# success_rates_nomm = pd.DataFrame(success_rates_nomm, columns = [\"SchoolClass\", \"Intervention\", \"SuccessRate\", \"StartIntervention\", \"EndIntervention\"])\n",
    "# success_rates_nomm"
   ]
  },
  {
   "cell_type": "markdown",
   "id": "d2f3257b-2f19-4be8-855b-0c626fdf9b98",
   "metadata": {},
   "source": [
    "## Create an average (of 100) of the averaged outcomes - in new dictionary"
   ]
  },
  {
   "cell_type": "code",
   "execution_count": 151,
   "id": "5d19e15d-4212-42f5-9b59-1275482849da",
   "metadata": {},
   "outputs": [],
   "source": [
    "all_averaged_nomm = {}\n",
    "for class_id in input_args['classes']:\n",
    "    all_averaged_nomm[str(class_id)] = {}\n",
    "    for i in  ['betweenness','closeness','indegree']:\n",
    "        temp_res = pd.Series([], dtype = float)\n",
    "        count_res = 0\n",
    "        for res_avg in list_results_avg_nomm:\n",
    "            temp_res = temp_res.add(res_avg[str(class_id)][i],fill_value=0)\n",
    "            count_res = count_res + 1   \n",
    "        all_averaged_nomm[str(class_id)][i] = temp_res/count_res"
   ]
  },
  {
   "cell_type": "code",
   "execution_count": 152,
   "id": "74589051-d7c1-4d50-af55-d819d9a87bdb",
   "metadata": {},
   "outputs": [],
   "source": [
    "all_averaged_comm = {}\n",
    "for class_id in input_args['classes']:\n",
    "    all_averaged_comm[str(class_id)] = {}\n",
    "    for i in  ['betweenness','closeness','indegree']:\n",
    "        temp_res = pd.Series([], dtype = float)\n",
    "        count_res = 0\n",
    "        for res_avg in list_results_avg_comm:\n",
    "            temp_res = temp_res.add(res_avg[str(class_id)][i],fill_value=0)\n",
    "            count_res = count_res + 1   \n",
    "        all_averaged_comm[str(class_id)][i] = temp_res/count_res"
   ]
  },
  {
   "cell_type": "code",
   "execution_count": 153,
   "id": "ff898d44-4374-4ae2-84f6-654404c81497",
   "metadata": {},
   "outputs": [
    {
     "data": {
      "image/png": "[encoded data removed]",
      "text/plain": [
       "<Figure size 1080x720 with 1 Axes>"
      ]
     },
     "metadata": {
      "needs_background": "light"
     },
     "output_type": "display_data"
    }
   ],
   "source": [
    "simulation.plot_interventions_averaged(all_averaged_nomm)"
   ]
  },
  {
   "cell_type": "code",
   "execution_count": 154,
   "id": "c0284b29-fff2-49a2-bf7f-74ef78533698",
   "metadata": {},
   "outputs": [
    {
     "data": {
      "image/png": "[encoded data removed]",
      "text/plain": [
       "<Figure size 1080x720 with 1 Axes>"
      ]
     },
     "metadata": {
      "needs_background": "light"
     },
     "output_type": "display_data"
    }
   ],
   "source": [
    "simulation.plot_interventions_averaged(all_averaged_comm)"
   ]
  },
  {
   "cell_type": "code",
   "execution_count": 155,
   "id": "55337f08-0e27-4676-a95e-4fb55268a754",
   "metadata": {},
   "outputs": [
    {
     "name": "stderr",
     "output_type": "stream",
     "text": [
      "/Users/bojansimoski/anaconda3/envs/ABM-PA/lib/python3.9/site-packages/IPython/core/interactiveshell.py:3437: FutureWarning: As the xlwt package is no longer maintained, the xlwt engine will be removed in a future version of pandas. This is the only engine in pandas that supports writing in the xls format. Install openpyxl and write to an xlsx file instead. You can set the option io.excel.xls.writer to 'xlwt' to silence this warning. While this option is deprecated and will also raise a warning, it can be globally set and the warning suppressed.\n",
      "  exec(code_obj, self.user_global_ns, self.user_ns)\n"
     ]
    }
   ],
   "source": [
    "all_avg_success_rates_comm = simulation.getSuccessRates(all_averaged_comm)\n",
    "all_avg_success_rates_nomm = simulation.getSuccessRates(all_averaged_nomm)"
   ]
  },
  {
   "cell_type": "code",
   "execution_count": 156,
   "id": "dfeaa13c-e68d-459a-9c93-b72be8280c62",
   "metadata": {},
   "outputs": [
    {
     "data": {
      "text/plain": [
       "Intervention\n",
       "betweenness    6.016190\n",
       "closeness      6.600476\n",
       "indegree       6.487619\n",
       "Name: SuccessRate, dtype: float64"
      ]
     },
     "metadata": {},
     "output_type": "display_data"
    },
    {
     "data": {
      "text/plain": [
       "Intervention\n",
       "betweenness    7.794762\n",
       "closeness      7.766190\n",
       "indegree       7.791905\n",
       "Name: SuccessRate, dtype: float64"
      ]
     },
     "metadata": {},
     "output_type": "display_data"
    }
   ],
   "source": [
    "display(all_avg_success_rates_nomm.groupby(['Intervention'])['SuccessRate'].mean(),all_avg_success_rates_comm.groupby(['Intervention'])['SuccessRate'].mean())"
   ]
  },
  {
   "cell_type": "code",
   "execution_count": 157,
   "id": "d2284ff5-c31f-4148-bfd7-e382ee268957",
   "metadata": {},
   "outputs": [
    {
     "data": {
      "text/html": [
       "<div>\n",
       "<style scoped>\n",
       "    .dataframe tbody tr th:only-of-type {\n",
       "        vertical-align: middle;\n",
       "    }\n",
       "\n",
       "    .dataframe tbody tr th {\n",
       "        vertical-align: top;\n",
       "    }\n",
       "\n",
       "    .dataframe thead th {\n",
       "        text-align: right;\n",
       "    }\n",
       "</style>\n",
       "<table border=\"1\" class=\"dataframe\">\n",
       "  <thead>\n",
       "    <tr style=\"text-align: right;\">\n",
       "      <th></th>\n",
       "      <th>SchoolClass</th>\n",
       "      <th>SuccessRate</th>\n",
       "    </tr>\n",
       "  </thead>\n",
       "  <tbody>\n",
       "    <tr>\n",
       "      <th>0</th>\n",
       "      <td>100.0</td>\n",
       "      <td>2.900000</td>\n",
       "    </tr>\n",
       "    <tr>\n",
       "      <th>1</th>\n",
       "      <td>124.0</td>\n",
       "      <td>4.536667</td>\n",
       "    </tr>\n",
       "    <tr>\n",
       "      <th>2</th>\n",
       "      <td>125.0</td>\n",
       "      <td>2.590000</td>\n",
       "    </tr>\n",
       "    <tr>\n",
       "      <th>3</th>\n",
       "      <td>256.0</td>\n",
       "      <td>6.546667</td>\n",
       "    </tr>\n",
       "    <tr>\n",
       "      <th>4</th>\n",
       "      <td>258.0</td>\n",
       "      <td>12.260000</td>\n",
       "    </tr>\n",
       "    <tr>\n",
       "      <th>5</th>\n",
       "      <td>261.0</td>\n",
       "      <td>2.876667</td>\n",
       "    </tr>\n",
       "    <tr>\n",
       "      <th>6</th>\n",
       "      <td>262.0</td>\n",
       "      <td>8.223333</td>\n",
       "    </tr>\n",
       "    <tr>\n",
       "      <th>7</th>\n",
       "      <td>263.0</td>\n",
       "      <td>5.603333</td>\n",
       "    </tr>\n",
       "    <tr>\n",
       "      <th>8</th>\n",
       "      <td>272.0</td>\n",
       "      <td>4.383333</td>\n",
       "    </tr>\n",
       "    <tr>\n",
       "      <th>9</th>\n",
       "      <td>273.0</td>\n",
       "      <td>2.743333</td>\n",
       "    </tr>\n",
       "    <tr>\n",
       "      <th>10</th>\n",
       "      <td>292.0</td>\n",
       "      <td>5.910000</td>\n",
       "    </tr>\n",
       "    <tr>\n",
       "      <th>11</th>\n",
       "      <td>296.0</td>\n",
       "      <td>4.863333</td>\n",
       "    </tr>\n",
       "    <tr>\n",
       "      <th>12</th>\n",
       "      <td>297.0</td>\n",
       "      <td>11.386667</td>\n",
       "    </tr>\n",
       "    <tr>\n",
       "      <th>13</th>\n",
       "      <td>298.0</td>\n",
       "      <td>10.306667</td>\n",
       "    </tr>\n",
       "    <tr>\n",
       "      <th>14</th>\n",
       "      <td>299.0</td>\n",
       "      <td>6.270000</td>\n",
       "    </tr>\n",
       "    <tr>\n",
       "      <th>15</th>\n",
       "      <td>300.0</td>\n",
       "      <td>11.946667</td>\n",
       "    </tr>\n",
       "    <tr>\n",
       "      <th>16</th>\n",
       "      <td>301.0</td>\n",
       "      <td>5.456667</td>\n",
       "    </tr>\n",
       "    <tr>\n",
       "      <th>17</th>\n",
       "      <td>302.0</td>\n",
       "      <td>4.513333</td>\n",
       "    </tr>\n",
       "    <tr>\n",
       "      <th>18</th>\n",
       "      <td>303.0</td>\n",
       "      <td>10.390000</td>\n",
       "    </tr>\n",
       "    <tr>\n",
       "      <th>19</th>\n",
       "      <td>78.0</td>\n",
       "      <td>0.150000</td>\n",
       "    </tr>\n",
       "    <tr>\n",
       "      <th>20</th>\n",
       "      <td>81.0</td>\n",
       "      <td>9.873333</td>\n",
       "    </tr>\n",
       "  </tbody>\n",
       "</table>\n",
       "</div>"
      ],
      "text/plain": [
       "   SchoolClass  SuccessRate\n",
       "0        100.0     2.900000\n",
       "1        124.0     4.536667\n",
       "2        125.0     2.590000\n",
       "3        256.0     6.546667\n",
       "4        258.0    12.260000\n",
       "5        261.0     2.876667\n",
       "6        262.0     8.223333\n",
       "7        263.0     5.603333\n",
       "8        272.0     4.383333\n",
       "9        273.0     2.743333\n",
       "10       292.0     5.910000\n",
       "11       296.0     4.863333\n",
       "12       297.0    11.386667\n",
       "13       298.0    10.306667\n",
       "14       299.0     6.270000\n",
       "15       300.0    11.946667\n",
       "16       301.0     5.456667\n",
       "17       302.0     4.513333\n",
       "18       303.0    10.390000\n",
       "19        78.0     0.150000\n",
       "20        81.0     9.873333"
      ]
     },
     "metadata": {},
     "output_type": "display_data"
    },
    {
     "data": {
      "text/html": [
       "<div>\n",
       "<style scoped>\n",
       "    .dataframe tbody tr th:only-of-type {\n",
       "        vertical-align: middle;\n",
       "    }\n",
       "\n",
       "    .dataframe tbody tr th {\n",
       "        vertical-align: top;\n",
       "    }\n",
       "\n",
       "    .dataframe thead th {\n",
       "        text-align: right;\n",
       "    }\n",
       "</style>\n",
       "<table border=\"1\" class=\"dataframe\">\n",
       "  <thead>\n",
       "    <tr style=\"text-align: right;\">\n",
       "      <th></th>\n",
       "      <th>SchoolClass</th>\n",
       "      <th>SuccessRate</th>\n",
       "    </tr>\n",
       "  </thead>\n",
       "  <tbody>\n",
       "    <tr>\n",
       "      <th>0</th>\n",
       "      <td>100.0</td>\n",
       "      <td>10.126667</td>\n",
       "    </tr>\n",
       "    <tr>\n",
       "      <th>1</th>\n",
       "      <td>124.0</td>\n",
       "      <td>8.633333</td>\n",
       "    </tr>\n",
       "    <tr>\n",
       "      <th>2</th>\n",
       "      <td>125.0</td>\n",
       "      <td>5.350000</td>\n",
       "    </tr>\n",
       "    <tr>\n",
       "      <th>3</th>\n",
       "      <td>256.0</td>\n",
       "      <td>7.073333</td>\n",
       "    </tr>\n",
       "    <tr>\n",
       "      <th>4</th>\n",
       "      <td>258.0</td>\n",
       "      <td>6.870000</td>\n",
       "    </tr>\n",
       "    <tr>\n",
       "      <th>5</th>\n",
       "      <td>261.0</td>\n",
       "      <td>3.750000</td>\n",
       "    </tr>\n",
       "    <tr>\n",
       "      <th>6</th>\n",
       "      <td>262.0</td>\n",
       "      <td>6.636667</td>\n",
       "    </tr>\n",
       "    <tr>\n",
       "      <th>7</th>\n",
       "      <td>263.0</td>\n",
       "      <td>9.566667</td>\n",
       "    </tr>\n",
       "    <tr>\n",
       "      <th>8</th>\n",
       "      <td>272.0</td>\n",
       "      <td>4.013333</td>\n",
       "    </tr>\n",
       "    <tr>\n",
       "      <th>9</th>\n",
       "      <td>273.0</td>\n",
       "      <td>9.650000</td>\n",
       "    </tr>\n",
       "    <tr>\n",
       "      <th>10</th>\n",
       "      <td>292.0</td>\n",
       "      <td>5.420000</td>\n",
       "    </tr>\n",
       "    <tr>\n",
       "      <th>11</th>\n",
       "      <td>296.0</td>\n",
       "      <td>8.123333</td>\n",
       "    </tr>\n",
       "    <tr>\n",
       "      <th>12</th>\n",
       "      <td>297.0</td>\n",
       "      <td>14.193333</td>\n",
       "    </tr>\n",
       "    <tr>\n",
       "      <th>13</th>\n",
       "      <td>298.0</td>\n",
       "      <td>8.206667</td>\n",
       "    </tr>\n",
       "    <tr>\n",
       "      <th>14</th>\n",
       "      <td>299.0</td>\n",
       "      <td>9.470000</td>\n",
       "    </tr>\n",
       "    <tr>\n",
       "      <th>15</th>\n",
       "      <td>300.0</td>\n",
       "      <td>10.356667</td>\n",
       "    </tr>\n",
       "    <tr>\n",
       "      <th>16</th>\n",
       "      <td>301.0</td>\n",
       "      <td>6.443333</td>\n",
       "    </tr>\n",
       "    <tr>\n",
       "      <th>17</th>\n",
       "      <td>302.0</td>\n",
       "      <td>7.883333</td>\n",
       "    </tr>\n",
       "    <tr>\n",
       "      <th>18</th>\n",
       "      <td>303.0</td>\n",
       "      <td>7.496667</td>\n",
       "    </tr>\n",
       "    <tr>\n",
       "      <th>19</th>\n",
       "      <td>78.0</td>\n",
       "      <td>7.466667</td>\n",
       "    </tr>\n",
       "    <tr>\n",
       "      <th>20</th>\n",
       "      <td>81.0</td>\n",
       "      <td>6.740000</td>\n",
       "    </tr>\n",
       "  </tbody>\n",
       "</table>\n",
       "</div>"
      ],
      "text/plain": [
       "   SchoolClass  SuccessRate\n",
       "0        100.0    10.126667\n",
       "1        124.0     8.633333\n",
       "2        125.0     5.350000\n",
       "3        256.0     7.073333\n",
       "4        258.0     6.870000\n",
       "5        261.0     3.750000\n",
       "6        262.0     6.636667\n",
       "7        263.0     9.566667\n",
       "8        272.0     4.013333\n",
       "9        273.0     9.650000\n",
       "10       292.0     5.420000\n",
       "11       296.0     8.123333\n",
       "12       297.0    14.193333\n",
       "13       298.0     8.206667\n",
       "14       299.0     9.470000\n",
       "15       300.0    10.356667\n",
       "16       301.0     6.443333\n",
       "17       302.0     7.883333\n",
       "18       303.0     7.496667\n",
       "19        78.0     7.466667\n",
       "20        81.0     6.740000"
      ]
     },
     "metadata": {},
     "output_type": "display_data"
    }
   ],
   "source": [
    "all_avg_mean_success_rate_comm = all_avg_success_rates_comm.groupby(['SchoolClass'])['SuccessRate'].mean().reset_index()\n",
    "\n",
    "all_avg_mean_success_rate_nomm = all_avg_success_rates_nomm.groupby(['SchoolClass'])['SuccessRate'].mean().reset_index()\n",
    "\n",
    "display(all_avg_mean_success_rate_nomm,all_avg_mean_success_rate_comm)"
   ]
  },
  {
   "cell_type": "code",
   "execution_count": null,
   "id": "6b05964e-8a98-4c45-93b8-6157b670cb81",
   "metadata": {},
   "outputs": [],
   "source": []
  }
 ],
 "metadata": {
  "kernelspec": {
   "display_name": "ABM-PA",
   "language": "python",
   "name": "abm-pa"
  },
  "language_info": {
   "codemirror_mode": {
    "name": "ipython",
    "version": 3
   },
   "file_extension": ".py",
   "mimetype": "text/x-python",
   "name": "python",
   "nbconvert_exporter": "python",
   "pygments_lexer": "ipython3",
   "version": "3.9.5"
  }
 },
 "nbformat": 4,
 "nbformat_minor": 5
}
