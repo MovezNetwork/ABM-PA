{
 "cells": [
  {
   "cell_type": "code",
   "execution_count": 1,
   "metadata": {
    "collapsed": true
   },
   "outputs": [],
   "source": [
    "import pandas as pd\n"
   ]
  },
  {
   "cell_type": "code",
   "execution_count": 6,
   "outputs": [
    {
     "name": "stderr",
     "output_type": "stream",
     "text": [
      "/Users/davidblok/.pyenv/versions/3.7.0/lib/python3.7/site-packages/IPython/core/interactiveshell.py:2728: DtypeWarning: Columns (22) have mixed types.Specify dtype option on import or set low_memory=False.\n",
      "  interactivity=interactivity, compiler=compiler, result=result)\n"
     ]
    },
    {
     "data": {
      "text/plain": "   Participant  School  Class   Child  Gender   Age   PI       Date   Time  \\\n0   3410302337    34.0  103.0  2337.0     0.0  11.0  7.0   9-3-2018  12:23   \n15  3410302337    34.0  103.0  2337.0     0.0  11.0  7.0  10-3-2018  14:50   \n16  3410302337    34.0  103.0  2337.0     0.0  11.0  7.0  10-3-2018  14:50   \n38  3410302341    34.0  103.0  2341.0     1.0  12.0  0.0   9-3-2018  10:00   \n45  3410302341    34.0  103.0  2341.0     1.0  12.0  0.0   9-3-2018  12:26   \n\n      UMID  ...  ShareSource SharedVia Number_likes  Unnamed: 23  Unnamed: 24  \\\n0   102371  ...          NaN       NaN            0          NaN          NaN   \n15  107068  ...          NaN       NaN            0          NaN          NaN   \n16  107069  ...          NaN       NaN            0          NaN          NaN   \n38  101555  ...          NaN       NaN            0          NaN          NaN   \n45  102431  ...          NaN       NaN            0          NaN          NaN   \n\n   Unnamed: 25 Unnamed: 26  Unnamed: 27  Unnamed: 28  Unnamed: 29  \n0          NaN         NaN          NaN          NaN          NaN  \n15         NaN         NaN          NaN          NaN          NaN  \n16         NaN         NaN          NaN          NaN          NaN  \n38         NaN         NaN          NaN          NaN          NaN  \n45         NaN         NaN          NaN          NaN          NaN  \n\n[5 rows x 30 columns]",
      "text/html": "<div>\n<style scoped>\n    .dataframe tbody tr th:only-of-type {\n        vertical-align: middle;\n    }\n\n    .dataframe tbody tr th {\n        vertical-align: top;\n    }\n\n    .dataframe thead th {\n        text-align: right;\n    }\n</style>\n<table border=\"1\" class=\"dataframe\">\n  <thead>\n    <tr style=\"text-align: right;\">\n      <th></th>\n      <th>Participant</th>\n      <th>School</th>\n      <th>Class</th>\n      <th>Child</th>\n      <th>Gender</th>\n      <th>Age</th>\n      <th>PI</th>\n      <th>Date</th>\n      <th>Time</th>\n      <th>UMID</th>\n      <th>...</th>\n      <th>ShareSource</th>\n      <th>SharedVia</th>\n      <th>Number_likes</th>\n      <th>Unnamed: 23</th>\n      <th>Unnamed: 24</th>\n      <th>Unnamed: 25</th>\n      <th>Unnamed: 26</th>\n      <th>Unnamed: 27</th>\n      <th>Unnamed: 28</th>\n      <th>Unnamed: 29</th>\n    </tr>\n  </thead>\n  <tbody>\n    <tr>\n      <th>0</th>\n      <td>3410302337</td>\n      <td>34.0</td>\n      <td>103.0</td>\n      <td>2337.0</td>\n      <td>0.0</td>\n      <td>11.0</td>\n      <td>7.0</td>\n      <td>9-3-2018</td>\n      <td>12:23</td>\n      <td>102371</td>\n      <td>...</td>\n      <td>NaN</td>\n      <td>NaN</td>\n      <td>0</td>\n      <td>NaN</td>\n      <td>NaN</td>\n      <td>NaN</td>\n      <td>NaN</td>\n      <td>NaN</td>\n      <td>NaN</td>\n      <td>NaN</td>\n    </tr>\n    <tr>\n      <th>15</th>\n      <td>3410302337</td>\n      <td>34.0</td>\n      <td>103.0</td>\n      <td>2337.0</td>\n      <td>0.0</td>\n      <td>11.0</td>\n      <td>7.0</td>\n      <td>10-3-2018</td>\n      <td>14:50</td>\n      <td>107068</td>\n      <td>...</td>\n      <td>NaN</td>\n      <td>NaN</td>\n      <td>0</td>\n      <td>NaN</td>\n      <td>NaN</td>\n      <td>NaN</td>\n      <td>NaN</td>\n      <td>NaN</td>\n      <td>NaN</td>\n      <td>NaN</td>\n    </tr>\n    <tr>\n      <th>16</th>\n      <td>3410302337</td>\n      <td>34.0</td>\n      <td>103.0</td>\n      <td>2337.0</td>\n      <td>0.0</td>\n      <td>11.0</td>\n      <td>7.0</td>\n      <td>10-3-2018</td>\n      <td>14:50</td>\n      <td>107069</td>\n      <td>...</td>\n      <td>NaN</td>\n      <td>NaN</td>\n      <td>0</td>\n      <td>NaN</td>\n      <td>NaN</td>\n      <td>NaN</td>\n      <td>NaN</td>\n      <td>NaN</td>\n      <td>NaN</td>\n      <td>NaN</td>\n    </tr>\n    <tr>\n      <th>38</th>\n      <td>3410302341</td>\n      <td>34.0</td>\n      <td>103.0</td>\n      <td>2341.0</td>\n      <td>1.0</td>\n      <td>12.0</td>\n      <td>0.0</td>\n      <td>9-3-2018</td>\n      <td>10:00</td>\n      <td>101555</td>\n      <td>...</td>\n      <td>NaN</td>\n      <td>NaN</td>\n      <td>0</td>\n      <td>NaN</td>\n      <td>NaN</td>\n      <td>NaN</td>\n      <td>NaN</td>\n      <td>NaN</td>\n      <td>NaN</td>\n      <td>NaN</td>\n    </tr>\n    <tr>\n      <th>45</th>\n      <td>3410302341</td>\n      <td>34.0</td>\n      <td>103.0</td>\n      <td>2341.0</td>\n      <td>1.0</td>\n      <td>12.0</td>\n      <td>0.0</td>\n      <td>9-3-2018</td>\n      <td>12:26</td>\n      <td>102431</td>\n      <td>...</td>\n      <td>NaN</td>\n      <td>NaN</td>\n      <td>0</td>\n      <td>NaN</td>\n      <td>NaN</td>\n      <td>NaN</td>\n      <td>NaN</td>\n      <td>NaN</td>\n      <td>NaN</td>\n      <td>NaN</td>\n    </tr>\n  </tbody>\n</table>\n<p>5 rows × 30 columns</p>\n</div>"
     },
     "execution_count": 6,
     "metadata": {},
     "output_type": "execute_result"
    }
   ],
   "source": [
    "# peer-nomination data\n",
    "nom_data = '../data/W5_Sociometric_long.csv'\n",
    "df_nom = pd.read_csv(nom_data, sep=';', header=0)\n",
    "\n",
    "# online communication data\n",
    "primary_school = '../data/Buzz_W5_primary-schools.csv'\n",
    "secondary_school = '../data/Buzz_W5_secondary-schools.csv'\n",
    "\n",
    "df_com = pd.read_csv(primary_school, sep=';', header=0, encoding='latin-1')\n",
    "df_com = df_com.append(pd.read_csv(secondary_school, sep=';', header=0, encoding='latin-1'))\n",
    "df_com = df_com[df_com.Type=='my']\n",
    "\n",
    "df_com.head()\n"
   ],
   "metadata": {
    "collapsed": false,
    "pycharm": {
     "name": "#%%\n"
    }
   }
  },
  {
   "cell_type": "code",
   "execution_count": 8,
   "outputs": [
    {
     "data": {
      "text/plain": "array([1605, 1606, 1607, 1608, 1609, 1610, 1611, 1612, 1614, 1615, 1617,\n       1620, 1623, 1625, 1626, 1627, 1630, 1631, 1632, 1633, 1636, 1637,\n       1639, 1640, 1641, 1642, 1645, 1651, 1653, 1654, 1656, 1717, 1719,\n       1723, 1733, 1736, 2262, 2263, 2265, 2266, 2267, 2268, 2270, 2271,\n       2275, 2276, 2277, 2278, 2280, 2281, 2282, 2283, 2858, 2859, 2860,\n       2862, 2863, 2865, 2866, 2868, 2869, 2872, 2873, 2875, 2877, 2880,\n       2882, 2883, 2885, 2886, 2887, 2890, 2891, 2894, 2897, 2898, 2899,\n       2900, 2901, 2902, 2903, 2904, 2905, 2906, 2908, 3317, 4364, 4425,\n       4427, 5011, 5013, 5014, 5015, 5016, 5017, 5018, 5020, 5021, 5022,\n       5023, 5024, 5027, 5028, 5029, 5031, 5032, 5033, 5034, 5038, 5039,\n       5040, 5070, 5071, 5075, 5076, 5078, 5080, 5081, 5083, 5084, 5085,\n       5087, 5092, 5094, 5095, 5096, 5099, 5157, 5159, 5161, 5162, 5163,\n       5164, 5165, 5166, 5167, 5168, 5169, 5170, 5174, 5176, 5177, 5179,\n       5181, 5182, 5184, 5187, 5189, 5190, 5191, 5192, 5193, 5195, 5197,\n       5199, 5200, 5201, 5203, 5204, 5205, 5206, 5207, 5208, 5209, 5210,\n       5213, 5215, 5216, 5217, 5218, 5219, 5220, 5221, 5222, 5224, 5225,\n       5226, 5227, 5228, 5430, 5431, 5432, 5433, 5434, 5435, 5436, 5437,\n       5438, 5439, 5440, 5443, 5444, 5445, 5446, 5447, 5448, 5449, 5450,\n       5451, 5452, 5453, 5454, 5456, 5457, 5458, 5459, 5460, 5462, 5463,\n       5464, 5467, 5468, 5469, 5470, 5471, 5472, 5473, 5474, 5475, 5476,\n       5478, 5479, 5480, 5481, 5482, 5483, 5834, 5835, 5836, 5837, 5838,\n       5839, 5840, 5841, 5842, 5843, 5845, 5846, 5848, 5849, 5850, 5851,\n       5853, 5854, 5855, 5856, 5858, 5863, 5864, 5865, 5867, 5868, 5869,\n       5871, 5872, 5874, 5875, 5878, 5879, 5880, 5882, 5885, 5886, 5887,\n       5893, 5894, 5897, 5898, 5901, 5905, 5906, 5907, 5911, 5914, 5915,\n       5916, 5918, 5919, 5920, 5922, 5923, 5924, 5925, 5926, 5927, 5928,\n       5929, 5930, 5931, 5932, 5933, 5936, 5937, 5938, 5939, 5940, 5941,\n       5942, 5943, 5945, 5946, 5949, 5950, 5951, 5952, 5954, 5955, 5956,\n       5957, 5958, 5959, 5960, 5961, 5962, 5964, 5966, 5967, 5968, 5969,\n       5970, 5972, 5973, 5975, 5976, 5979, 5980, 5981, 5982, 5983, 5984,\n       5985, 5988, 5991, 5992, 5993, 5994, 5995, 5996, 5997, 5999, 6001,\n       6002, 6003, 6005, 6006, 6007, 6010, 6011, 6012, 6013, 6015, 6016,\n       6017, 6019, 6020, 6021, 6023, 6024, 6025, 6026, 6028, 6029, 6030,\n       6031, 6033, 6035, 6037, 6038, 6039, 6040, 6041, 6042, 6044, 6045,\n       6046, 6047, 6048, 6049, 6051, 6052, 6053, 6054, 6055, 6060, 6062,\n       6063, 6064, 6065, 6066, 6067, 6068, 6069, 6070, 6071, 6073, 6074,\n       6076, 6077, 6078, 6079, 6080, 6081, 6082, 6085, 6086, 6088, 6089,\n       6090])"
     },
     "execution_count": 8,
     "metadata": {},
     "output_type": "execute_result"
    }
   ],
   "source": [
    "# select participants found in both datasets\n",
    "\n",
    "participants_nom = df_nom['Child'].unique()\n",
    "participants_com = df_com['Child'].unique()\n",
    "\n",
    "lst_nom = []\n",
    "lst_com = []\n",
    "for int in participants_nom:\n",
    "    if (participants_com.__contains__(int)):\n",
    "        lst_nom.append(df_nom[df_nom['Child'] == int])\n",
    "        lst_com.append(df_com[df_com['Child'] == int])\n",
    "\n",
    "df_nom2 = pd.concat(lst_nom)\n",
    "df_com2 = pd.concat(lst_com)\n",
    "\n",
    "# Numbers of participants per class\n",
    "df_com_child_class = df_com2.groupby('Class')['Child'].nunique().reset_index(name=\"NumChildren\")\n",
    "df_nom_child_class = df_nom2.groupby('Class')['Child'].nunique().reset_index(name=\"NumChildren\")\n",
    "\n",
    "# Select classes >15 participants\n",
    "selected_classes = df_com_child_class[df_com_child_class['NumChildren'] > 14]['Class']\n",
    "#df_nom_child_class[df_nom_child_class['NumChildren'] > 14]\n",
    "\n",
    "df_nom3 = df_nom2[df_nom2.Class.isin(selected_classes)]\n",
    "df_com3 = df_com2[df_com2.Class.isin(selected_classes)]\n",
    "\n",
    "df_nom3['Child'].unique()"
   ],
   "metadata": {
    "collapsed": false,
    "pycharm": {
     "name": "#%%\n"
    }
   }
  },
  {
   "cell_type": "code",
   "execution_count": null,
   "outputs": [],
   "source": [],
   "metadata": {
    "collapsed": false,
    "pycharm": {
     "name": "#%%\n"
    }
   }
  }
 ],
 "metadata": {
  "kernelspec": {
   "display_name": "Python 3",
   "language": "python",
   "name": "python3"
  },
  "language_info": {
   "codemirror_mode": {
    "name": "ipython",
    "version": 2
   },
   "file_extension": ".py",
   "mimetype": "text/x-python",
   "name": "python",
   "nbconvert_exporter": "python",
   "pygments_lexer": "ipython2",
   "version": "2.7.6"
  }
 },
 "nbformat": 4,
 "nbformat_minor": 0
}