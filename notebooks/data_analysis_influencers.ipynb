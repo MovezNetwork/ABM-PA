{
 "cells": [
  {
   "cell_type": "code",
   "execution_count": 1,
   "metadata": {
    "collapsed": true
   },
   "outputs": [],
   "source": [
    "import plotly.graph_objects as go\n",
    "from plotly.subplots import make_subplots\n",
    "import pandas as pd\n",
    "import json"
   ]
  },
  {
   "cell_type": "code",
   "execution_count": 2,
   "outputs": [
    {
     "data": {
      "text/plain": "      Intervention  SchoolClass           InfluenceAgents  \\\n0   nointervention         78.0                        []   \n1   nointervention         81.0                        []   \n2   nointervention        100.0                        []   \n3   nointervention        124.0                        []   \n4   nointervention        125.0                        []   \n..             ...          ...                       ...   \n79     betweenness        299.0        [5937, 5924, 5928]   \n80     betweenness        300.0        [5996, 5980, 5995]   \n81     betweenness        301.0  [6017, 6012, 6013, 6016]   \n82     betweenness        302.0        [6038, 6045, 6046]   \n83     betweenness        303.0  [6068, 6063, 6081, 6080]   \n\n        InfluenceAgentsCommunication  \n0                                 []  \n1                                 []  \n2                                 []  \n3                                 []  \n4                                 []  \n..                               ...  \n79          [5929.0, 5928.0, 5925.0]  \n80          [5993.0, 5985.0, 5996.0]  \n81  [6025.0, 6007.0, 6012.0, 6023.0]  \n82          [6045.0, 6035.0, 6033.0]  \n83  [6081.0, 6074.0, 6063.0, 6082.0]  \n\n[84 rows x 4 columns]",
      "text/html": "<div>\n<style scoped>\n    .dataframe tbody tr th:only-of-type {\n        vertical-align: middle;\n    }\n\n    .dataframe tbody tr th {\n        vertical-align: top;\n    }\n\n    .dataframe thead th {\n        text-align: right;\n    }\n</style>\n<table border=\"1\" class=\"dataframe\">\n  <thead>\n    <tr style=\"text-align: right;\">\n      <th></th>\n      <th>Intervention</th>\n      <th>SchoolClass</th>\n      <th>InfluenceAgents</th>\n      <th>InfluenceAgentsCommunication</th>\n    </tr>\n  </thead>\n  <tbody>\n    <tr>\n      <th>0</th>\n      <td>nointervention</td>\n      <td>78.0</td>\n      <td>[]</td>\n      <td>[]</td>\n    </tr>\n    <tr>\n      <th>1</th>\n      <td>nointervention</td>\n      <td>81.0</td>\n      <td>[]</td>\n      <td>[]</td>\n    </tr>\n    <tr>\n      <th>2</th>\n      <td>nointervention</td>\n      <td>100.0</td>\n      <td>[]</td>\n      <td>[]</td>\n    </tr>\n    <tr>\n      <th>3</th>\n      <td>nointervention</td>\n      <td>124.0</td>\n      <td>[]</td>\n      <td>[]</td>\n    </tr>\n    <tr>\n      <th>4</th>\n      <td>nointervention</td>\n      <td>125.0</td>\n      <td>[]</td>\n      <td>[]</td>\n    </tr>\n    <tr>\n      <th>...</th>\n      <td>...</td>\n      <td>...</td>\n      <td>...</td>\n      <td>...</td>\n    </tr>\n    <tr>\n      <th>79</th>\n      <td>betweenness</td>\n      <td>299.0</td>\n      <td>[5937, 5924, 5928]</td>\n      <td>[5929.0, 5928.0, 5925.0]</td>\n    </tr>\n    <tr>\n      <th>80</th>\n      <td>betweenness</td>\n      <td>300.0</td>\n      <td>[5996, 5980, 5995]</td>\n      <td>[5993.0, 5985.0, 5996.0]</td>\n    </tr>\n    <tr>\n      <th>81</th>\n      <td>betweenness</td>\n      <td>301.0</td>\n      <td>[6017, 6012, 6013, 6016]</td>\n      <td>[6025.0, 6007.0, 6012.0, 6023.0]</td>\n    </tr>\n    <tr>\n      <th>82</th>\n      <td>betweenness</td>\n      <td>302.0</td>\n      <td>[6038, 6045, 6046]</td>\n      <td>[6045.0, 6035.0, 6033.0]</td>\n    </tr>\n    <tr>\n      <th>83</th>\n      <td>betweenness</td>\n      <td>303.0</td>\n      <td>[6068, 6063, 6081, 6080]</td>\n      <td>[6081.0, 6074.0, 6063.0, 6082.0]</td>\n    </tr>\n  </tbody>\n</table>\n<p>84 rows × 4 columns</p>\n</div>"
     },
     "execution_count": 2,
     "metadata": {},
     "output_type": "execute_result"
    }
   ],
   "source": [
    "# read data\n",
    "df_inf_agents = pd.read_excel('../output/simulation/nomination/influentialAgents/run0.xlsx', engine='openpyxl', index_col=0)\n",
    "df_inf_agents_com = pd.read_excel('../output/simulation/communication/influentialAgents/run0.xlsx', engine='openpyxl', index_col=0)\n",
    "df_inf_agents['InfluenceAgentsCommunication'] = df_inf_agents_com['InfluenceAgents']\n",
    "df_inf_agents\n",
    "\n"
   ],
   "metadata": {
    "collapsed": false,
    "pycharm": {
     "name": "#%%\n"
    }
   }
  },
  {
   "cell_type": "code",
   "execution_count": 3,
   "outputs": [],
   "source": [
    "def get_perc_agents(l1,l2):\n",
    "    l1 = json.loads(l1)\n",
    "    l2 = json.loads(l2)\n",
    "\n",
    "    if (len(l1)>0):\n",
    "        return (round(len(set(l1).intersection(l2))/len(l1)*100))\n",
    "    else:\n",
    "        return 'NA' # because of no influential agents selected in 'no intervention'"
   ],
   "metadata": {
    "collapsed": false,
    "pycharm": {
     "name": "#%%\n"
    }
   }
  },
  {
   "cell_type": "code",
   "execution_count": 4,
   "outputs": [
    {
     "data": {
      "text/plain": "      Intervention  SchoolClass           InfluenceAgents  \\\n0   nointervention         78.0                        []   \n1   nointervention         81.0                        []   \n2   nointervention        100.0                        []   \n3   nointervention        124.0                        []   \n4   nointervention        125.0                        []   \n..             ...          ...                       ...   \n79     betweenness        299.0        [5937, 5924, 5928]   \n80     betweenness        300.0        [5996, 5980, 5995]   \n81     betweenness        301.0  [6017, 6012, 6013, 6016]   \n82     betweenness        302.0        [6038, 6045, 6046]   \n83     betweenness        303.0  [6068, 6063, 6081, 6080]   \n\n        InfluenceAgentsCommunication PercentageSameInfluencers  \n0                                 []                        NA  \n1                                 []                        NA  \n2                                 []                        NA  \n3                                 []                        NA  \n4                                 []                        NA  \n..                               ...                       ...  \n79          [5929.0, 5928.0, 5925.0]                        33  \n80          [5993.0, 5985.0, 5996.0]                        33  \n81  [6025.0, 6007.0, 6012.0, 6023.0]                        25  \n82          [6045.0, 6035.0, 6033.0]                        33  \n83  [6081.0, 6074.0, 6063.0, 6082.0]                        50  \n\n[84 rows x 5 columns]",
      "text/html": "<div>\n<style scoped>\n    .dataframe tbody tr th:only-of-type {\n        vertical-align: middle;\n    }\n\n    .dataframe tbody tr th {\n        vertical-align: top;\n    }\n\n    .dataframe thead th {\n        text-align: right;\n    }\n</style>\n<table border=\"1\" class=\"dataframe\">\n  <thead>\n    <tr style=\"text-align: right;\">\n      <th></th>\n      <th>Intervention</th>\n      <th>SchoolClass</th>\n      <th>InfluenceAgents</th>\n      <th>InfluenceAgentsCommunication</th>\n      <th>PercentageSameInfluencers</th>\n    </tr>\n  </thead>\n  <tbody>\n    <tr>\n      <th>0</th>\n      <td>nointervention</td>\n      <td>78.0</td>\n      <td>[]</td>\n      <td>[]</td>\n      <td>NA</td>\n    </tr>\n    <tr>\n      <th>1</th>\n      <td>nointervention</td>\n      <td>81.0</td>\n      <td>[]</td>\n      <td>[]</td>\n      <td>NA</td>\n    </tr>\n    <tr>\n      <th>2</th>\n      <td>nointervention</td>\n      <td>100.0</td>\n      <td>[]</td>\n      <td>[]</td>\n      <td>NA</td>\n    </tr>\n    <tr>\n      <th>3</th>\n      <td>nointervention</td>\n      <td>124.0</td>\n      <td>[]</td>\n      <td>[]</td>\n      <td>NA</td>\n    </tr>\n    <tr>\n      <th>4</th>\n      <td>nointervention</td>\n      <td>125.0</td>\n      <td>[]</td>\n      <td>[]</td>\n      <td>NA</td>\n    </tr>\n    <tr>\n      <th>...</th>\n      <td>...</td>\n      <td>...</td>\n      <td>...</td>\n      <td>...</td>\n      <td>...</td>\n    </tr>\n    <tr>\n      <th>79</th>\n      <td>betweenness</td>\n      <td>299.0</td>\n      <td>[5937, 5924, 5928]</td>\n      <td>[5929.0, 5928.0, 5925.0]</td>\n      <td>33</td>\n    </tr>\n    <tr>\n      <th>80</th>\n      <td>betweenness</td>\n      <td>300.0</td>\n      <td>[5996, 5980, 5995]</td>\n      <td>[5993.0, 5985.0, 5996.0]</td>\n      <td>33</td>\n    </tr>\n    <tr>\n      <th>81</th>\n      <td>betweenness</td>\n      <td>301.0</td>\n      <td>[6017, 6012, 6013, 6016]</td>\n      <td>[6025.0, 6007.0, 6012.0, 6023.0]</td>\n      <td>25</td>\n    </tr>\n    <tr>\n      <th>82</th>\n      <td>betweenness</td>\n      <td>302.0</td>\n      <td>[6038, 6045, 6046]</td>\n      <td>[6045.0, 6035.0, 6033.0]</td>\n      <td>33</td>\n    </tr>\n    <tr>\n      <th>83</th>\n      <td>betweenness</td>\n      <td>303.0</td>\n      <td>[6068, 6063, 6081, 6080]</td>\n      <td>[6081.0, 6074.0, 6063.0, 6082.0]</td>\n      <td>50</td>\n    </tr>\n  </tbody>\n</table>\n<p>84 rows × 5 columns</p>\n</div>"
     },
     "execution_count": 4,
     "metadata": {},
     "output_type": "execute_result"
    }
   ],
   "source": [
    "\n",
    "df_inf_agents['PercentageSameInfluencers'] = df_inf_agents.apply(lambda row : get_perc_agents(row['InfluenceAgents'],row['InfluenceAgentsCommunication']), axis = 1)\n",
    "\n",
    "df_inf_agents"
   ],
   "metadata": {
    "collapsed": false,
    "pycharm": {
     "name": "#%%\n"
    }
   }
  },
  {
   "cell_type": "code",
   "execution_count": 5,
   "outputs": [
    {
     "name": "stdout",
     "output_type": "stream",
     "text": [
      "26.142857142857142 26.047619047619047 31.714285714285715\n"
     ]
    }
   ],
   "source": [
    "x0 = df_inf_agents[df_inf_agents.Intervention == 'indegree']['PercentageSameInfluencers']\n",
    "x1 = df_inf_agents[df_inf_agents.Intervention == 'betweenness']['PercentageSameInfluencers']\n",
    "x2 = df_inf_agents[df_inf_agents.Intervention == 'closeness']['PercentageSameInfluencers']\n",
    "print(x0.mean(), x1.mean(), x2.mean())\n"
   ],
   "metadata": {
    "collapsed": false,
    "pycharm": {
     "name": "#%%\n"
    }
   }
  },
  {
   "cell_type": "code",
   "execution_count": 14,
   "outputs": [
    {
     "data": {
      "application/vnd.plotly.v1+json": {
       "data": [
        {
         "marker": {
          "color": "#EB89B5"
         },
         "name": "Peer-Nomination Network Data vs. Online Communication Network Data",
         "x": [
          33,
          33,
          67,
          33,
          0,
          0,
          0,
          0,
          50,
          33,
          0,
          0,
          0,
          67,
          50,
          33,
          67,
          33,
          25,
          0,
          25
         ],
         "xbins": {
          "size": 1
         },
         "type": "histogram",
         "xaxis": "x",
         "yaxis": "y"
        },
        {
         "marker": {
          "color": "#EB89B5"
         },
         "name": "Peer-Nomination Network Data vs. Online Communication Network Data",
         "showlegend": false,
         "x": [
          100,
          0,
          33,
          33,
          0,
          33,
          0,
          33,
          0,
          0,
          0,
          25,
          0,
          33,
          50,
          33,
          33,
          33,
          25,
          33,
          50
         ],
         "xbins": {
          "size": 1
         },
         "type": "histogram",
         "xaxis": "x2",
         "yaxis": "y2"
        },
        {
         "marker": {
          "color": "#EB89B5"
         },
         "name": "Peer-Nomination Network Data vs. Online Communication Network Data",
         "showlegend": false,
         "x": [
          67,
          33,
          67,
          33,
          0,
          33,
          0,
          0,
          50,
          33,
          0,
          0,
          0,
          67,
          100,
          33,
          67,
          33,
          25,
          0,
          25
         ],
         "xbins": {
          "size": 1
         },
         "type": "histogram",
         "xaxis": "x3",
         "yaxis": "y3"
        }
       ],
       "layout": {
        "template": {
         "data": {
          "histogram2dcontour": [
           {
            "type": "histogram2dcontour",
            "colorbar": {
             "outlinewidth": 0,
             "ticks": ""
            },
            "colorscale": [
             [
              0.0,
              "#0d0887"
             ],
             [
              0.1111111111111111,
              "#46039f"
             ],
             [
              0.2222222222222222,
              "#7201a8"
             ],
             [
              0.3333333333333333,
              "#9c179e"
             ],
             [
              0.4444444444444444,
              "#bd3786"
             ],
             [
              0.5555555555555556,
              "#d8576b"
             ],
             [
              0.6666666666666666,
              "#ed7953"
             ],
             [
              0.7777777777777778,
              "#fb9f3a"
             ],
             [
              0.8888888888888888,
              "#fdca26"
             ],
             [
              1.0,
              "#f0f921"
             ]
            ]
           }
          ],
          "choropleth": [
           {
            "type": "choropleth",
            "colorbar": {
             "outlinewidth": 0,
             "ticks": ""
            }
           }
          ],
          "histogram2d": [
           {
            "type": "histogram2d",
            "colorbar": {
             "outlinewidth": 0,
             "ticks": ""
            },
            "colorscale": [
             [
              0.0,
              "#0d0887"
             ],
             [
              0.1111111111111111,
              "#46039f"
             ],
             [
              0.2222222222222222,
              "#7201a8"
             ],
             [
              0.3333333333333333,
              "#9c179e"
             ],
             [
              0.4444444444444444,
              "#bd3786"
             ],
             [
              0.5555555555555556,
              "#d8576b"
             ],
             [
              0.6666666666666666,
              "#ed7953"
             ],
             [
              0.7777777777777778,
              "#fb9f3a"
             ],
             [
              0.8888888888888888,
              "#fdca26"
             ],
             [
              1.0,
              "#f0f921"
             ]
            ]
           }
          ],
          "heatmap": [
           {
            "type": "heatmap",
            "colorbar": {
             "outlinewidth": 0,
             "ticks": ""
            },
            "colorscale": [
             [
              0.0,
              "#0d0887"
             ],
             [
              0.1111111111111111,
              "#46039f"
             ],
             [
              0.2222222222222222,
              "#7201a8"
             ],
             [
              0.3333333333333333,
              "#9c179e"
             ],
             [
              0.4444444444444444,
              "#bd3786"
             ],
             [
              0.5555555555555556,
              "#d8576b"
             ],
             [
              0.6666666666666666,
              "#ed7953"
             ],
             [
              0.7777777777777778,
              "#fb9f3a"
             ],
             [
              0.8888888888888888,
              "#fdca26"
             ],
             [
              1.0,
              "#f0f921"
             ]
            ]
           }
          ],
          "heatmapgl": [
           {
            "type": "heatmapgl",
            "colorbar": {
             "outlinewidth": 0,
             "ticks": ""
            },
            "colorscale": [
             [
              0.0,
              "#0d0887"
             ],
             [
              0.1111111111111111,
              "#46039f"
             ],
             [
              0.2222222222222222,
              "#7201a8"
             ],
             [
              0.3333333333333333,
              "#9c179e"
             ],
             [
              0.4444444444444444,
              "#bd3786"
             ],
             [
              0.5555555555555556,
              "#d8576b"
             ],
             [
              0.6666666666666666,
              "#ed7953"
             ],
             [
              0.7777777777777778,
              "#fb9f3a"
             ],
             [
              0.8888888888888888,
              "#fdca26"
             ],
             [
              1.0,
              "#f0f921"
             ]
            ]
           }
          ],
          "contourcarpet": [
           {
            "type": "contourcarpet",
            "colorbar": {
             "outlinewidth": 0,
             "ticks": ""
            }
           }
          ],
          "contour": [
           {
            "type": "contour",
            "colorbar": {
             "outlinewidth": 0,
             "ticks": ""
            },
            "colorscale": [
             [
              0.0,
              "#0d0887"
             ],
             [
              0.1111111111111111,
              "#46039f"
             ],
             [
              0.2222222222222222,
              "#7201a8"
             ],
             [
              0.3333333333333333,
              "#9c179e"
             ],
             [
              0.4444444444444444,
              "#bd3786"
             ],
             [
              0.5555555555555556,
              "#d8576b"
             ],
             [
              0.6666666666666666,
              "#ed7953"
             ],
             [
              0.7777777777777778,
              "#fb9f3a"
             ],
             [
              0.8888888888888888,
              "#fdca26"
             ],
             [
              1.0,
              "#f0f921"
             ]
            ]
           }
          ],
          "surface": [
           {
            "type": "surface",
            "colorbar": {
             "outlinewidth": 0,
             "ticks": ""
            },
            "colorscale": [
             [
              0.0,
              "#0d0887"
             ],
             [
              0.1111111111111111,
              "#46039f"
             ],
             [
              0.2222222222222222,
              "#7201a8"
             ],
             [
              0.3333333333333333,
              "#9c179e"
             ],
             [
              0.4444444444444444,
              "#bd3786"
             ],
             [
              0.5555555555555556,
              "#d8576b"
             ],
             [
              0.6666666666666666,
              "#ed7953"
             ],
             [
              0.7777777777777778,
              "#fb9f3a"
             ],
             [
              0.8888888888888888,
              "#fdca26"
             ],
             [
              1.0,
              "#f0f921"
             ]
            ]
           }
          ],
          "mesh3d": [
           {
            "type": "mesh3d",
            "colorbar": {
             "outlinewidth": 0,
             "ticks": ""
            }
           }
          ],
          "scatter": [
           {
            "fillpattern": {
             "fillmode": "overlay",
             "size": 10,
             "solidity": 0.2
            },
            "type": "scatter"
           }
          ],
          "parcoords": [
           {
            "type": "parcoords",
            "line": {
             "colorbar": {
              "outlinewidth": 0,
              "ticks": ""
             }
            }
           }
          ],
          "scatterpolargl": [
           {
            "type": "scatterpolargl",
            "marker": {
             "colorbar": {
              "outlinewidth": 0,
              "ticks": ""
             }
            }
           }
          ],
          "bar": [
           {
            "error_x": {
             "color": "#2a3f5f"
            },
            "error_y": {
             "color": "#2a3f5f"
            },
            "marker": {
             "line": {
              "color": "#E5ECF6",
              "width": 0.5
             },
             "pattern": {
              "fillmode": "overlay",
              "size": 10,
              "solidity": 0.2
             }
            },
            "type": "bar"
           }
          ],
          "scattergeo": [
           {
            "type": "scattergeo",
            "marker": {
             "colorbar": {
              "outlinewidth": 0,
              "ticks": ""
             }
            }
           }
          ],
          "scatterpolar": [
           {
            "type": "scatterpolar",
            "marker": {
             "colorbar": {
              "outlinewidth": 0,
              "ticks": ""
             }
            }
           }
          ],
          "histogram": [
           {
            "marker": {
             "pattern": {
              "fillmode": "overlay",
              "size": 10,
              "solidity": 0.2
             }
            },
            "type": "histogram"
           }
          ],
          "scattergl": [
           {
            "type": "scattergl",
            "marker": {
             "colorbar": {
              "outlinewidth": 0,
              "ticks": ""
             }
            }
           }
          ],
          "scatter3d": [
           {
            "type": "scatter3d",
            "line": {
             "colorbar": {
              "outlinewidth": 0,
              "ticks": ""
             }
            },
            "marker": {
             "colorbar": {
              "outlinewidth": 0,
              "ticks": ""
             }
            }
           }
          ],
          "scattermapbox": [
           {
            "type": "scattermapbox",
            "marker": {
             "colorbar": {
              "outlinewidth": 0,
              "ticks": ""
             }
            }
           }
          ],
          "scatterternary": [
           {
            "type": "scatterternary",
            "marker": {
             "colorbar": {
              "outlinewidth": 0,
              "ticks": ""
             }
            }
           }
          ],
          "scattercarpet": [
           {
            "type": "scattercarpet",
            "marker": {
             "colorbar": {
              "outlinewidth": 0,
              "ticks": ""
             }
            }
           }
          ],
          "carpet": [
           {
            "aaxis": {
             "endlinecolor": "#2a3f5f",
             "gridcolor": "white",
             "linecolor": "white",
             "minorgridcolor": "white",
             "startlinecolor": "#2a3f5f"
            },
            "baxis": {
             "endlinecolor": "#2a3f5f",
             "gridcolor": "white",
             "linecolor": "white",
             "minorgridcolor": "white",
             "startlinecolor": "#2a3f5f"
            },
            "type": "carpet"
           }
          ],
          "table": [
           {
            "cells": {
             "fill": {
              "color": "#EBF0F8"
             },
             "line": {
              "color": "white"
             }
            },
            "header": {
             "fill": {
              "color": "#C8D4E3"
             },
             "line": {
              "color": "white"
             }
            },
            "type": "table"
           }
          ],
          "barpolar": [
           {
            "marker": {
             "line": {
              "color": "#E5ECF6",
              "width": 0.5
             },
             "pattern": {
              "fillmode": "overlay",
              "size": 10,
              "solidity": 0.2
             }
            },
            "type": "barpolar"
           }
          ],
          "pie": [
           {
            "automargin": true,
            "type": "pie"
           }
          ]
         },
         "layout": {
          "autotypenumbers": "strict",
          "colorway": [
           "#636efa",
           "#EF553B",
           "#00cc96",
           "#ab63fa",
           "#FFA15A",
           "#19d3f3",
           "#FF6692",
           "#B6E880",
           "#FF97FF",
           "#FECB52"
          ],
          "font": {
           "color": "#2a3f5f"
          },
          "hovermode": "closest",
          "hoverlabel": {
           "align": "left"
          },
          "paper_bgcolor": "white",
          "plot_bgcolor": "#E5ECF6",
          "polar": {
           "bgcolor": "#E5ECF6",
           "angularaxis": {
            "gridcolor": "white",
            "linecolor": "white",
            "ticks": ""
           },
           "radialaxis": {
            "gridcolor": "white",
            "linecolor": "white",
            "ticks": ""
           }
          },
          "ternary": {
           "bgcolor": "#E5ECF6",
           "aaxis": {
            "gridcolor": "white",
            "linecolor": "white",
            "ticks": ""
           },
           "baxis": {
            "gridcolor": "white",
            "linecolor": "white",
            "ticks": ""
           },
           "caxis": {
            "gridcolor": "white",
            "linecolor": "white",
            "ticks": ""
           }
          },
          "coloraxis": {
           "colorbar": {
            "outlinewidth": 0,
            "ticks": ""
           }
          },
          "colorscale": {
           "sequential": [
            [
             0.0,
             "#0d0887"
            ],
            [
             0.1111111111111111,
             "#46039f"
            ],
            [
             0.2222222222222222,
             "#7201a8"
            ],
            [
             0.3333333333333333,
             "#9c179e"
            ],
            [
             0.4444444444444444,
             "#bd3786"
            ],
            [
             0.5555555555555556,
             "#d8576b"
            ],
            [
             0.6666666666666666,
             "#ed7953"
            ],
            [
             0.7777777777777778,
             "#fb9f3a"
            ],
            [
             0.8888888888888888,
             "#fdca26"
            ],
            [
             1.0,
             "#f0f921"
            ]
           ],
           "sequentialminus": [
            [
             0.0,
             "#0d0887"
            ],
            [
             0.1111111111111111,
             "#46039f"
            ],
            [
             0.2222222222222222,
             "#7201a8"
            ],
            [
             0.3333333333333333,
             "#9c179e"
            ],
            [
             0.4444444444444444,
             "#bd3786"
            ],
            [
             0.5555555555555556,
             "#d8576b"
            ],
            [
             0.6666666666666666,
             "#ed7953"
            ],
            [
             0.7777777777777778,
             "#fb9f3a"
            ],
            [
             0.8888888888888888,
             "#fdca26"
            ],
            [
             1.0,
             "#f0f921"
            ]
           ],
           "diverging": [
            [
             0,
             "#8e0152"
            ],
            [
             0.1,
             "#c51b7d"
            ],
            [
             0.2,
             "#de77ae"
            ],
            [
             0.3,
             "#f1b6da"
            ],
            [
             0.4,
             "#fde0ef"
            ],
            [
             0.5,
             "#f7f7f7"
            ],
            [
             0.6,
             "#e6f5d0"
            ],
            [
             0.7,
             "#b8e186"
            ],
            [
             0.8,
             "#7fbc41"
            ],
            [
             0.9,
             "#4d9221"
            ],
            [
             1,
             "#276419"
            ]
           ]
          },
          "xaxis": {
           "gridcolor": "white",
           "linecolor": "white",
           "ticks": "",
           "title": {
            "standoff": 15
           },
           "zerolinecolor": "white",
           "automargin": true,
           "zerolinewidth": 2
          },
          "yaxis": {
           "gridcolor": "white",
           "linecolor": "white",
           "ticks": "",
           "title": {
            "standoff": 15
           },
           "zerolinecolor": "white",
           "automargin": true,
           "zerolinewidth": 2
          },
          "scene": {
           "xaxis": {
            "backgroundcolor": "#E5ECF6",
            "gridcolor": "white",
            "linecolor": "white",
            "showbackground": true,
            "ticks": "",
            "zerolinecolor": "white",
            "gridwidth": 2
           },
           "yaxis": {
            "backgroundcolor": "#E5ECF6",
            "gridcolor": "white",
            "linecolor": "white",
            "showbackground": true,
            "ticks": "",
            "zerolinecolor": "white",
            "gridwidth": 2
           },
           "zaxis": {
            "backgroundcolor": "#E5ECF6",
            "gridcolor": "white",
            "linecolor": "white",
            "showbackground": true,
            "ticks": "",
            "zerolinecolor": "white",
            "gridwidth": 2
           }
          },
          "shapedefaults": {
           "line": {
            "color": "#2a3f5f"
           }
          },
          "annotationdefaults": {
           "arrowcolor": "#2a3f5f",
           "arrowhead": 0,
           "arrowwidth": 1
          },
          "geo": {
           "bgcolor": "white",
           "landcolor": "#E5ECF6",
           "subunitcolor": "white",
           "showland": true,
           "showlakes": true,
           "lakecolor": "white"
          },
          "title": {
           "x": 0.05
          },
          "mapbox": {
           "style": "light"
          }
         }
        },
        "xaxis": {
         "anchor": "y",
         "domain": [
          0.0,
          0.2888888888888889
         ],
         "range": [
          -1,
          101
         ],
         "tickmode": "linear",
         "tick0": 0,
         "dtick": 10
        },
        "yaxis": {
         "anchor": "x",
         "domain": [
          0.0,
          1.0
         ],
         "range": [
          0,
          10
         ],
         "tickmode": "linear",
         "tick0": 0,
         "dtick": 1
        },
        "xaxis2": {
         "anchor": "y2",
         "domain": [
          0.35555555555555557,
          0.6444444444444445
         ],
         "range": [
          -1,
          101
         ],
         "tickmode": "linear",
         "tick0": 0,
         "dtick": 10
        },
        "yaxis2": {
         "anchor": "x2",
         "domain": [
          0.0,
          1.0
         ],
         "range": [
          0,
          10
         ],
         "tickmode": "linear",
         "tick0": 0,
         "dtick": 1
        },
        "xaxis3": {
         "anchor": "y3",
         "domain": [
          0.7111111111111111,
          1.0
         ],
         "range": [
          -1,
          101
         ],
         "tickmode": "linear",
         "tick0": 0,
         "dtick": 10
        },
        "yaxis3": {
         "anchor": "x3",
         "domain": [
          0.0,
          1.0
         ],
         "range": [
          0,
          10
         ],
         "tickmode": "linear",
         "tick0": 0,
         "dtick": 1
        },
        "annotations": [
         {
          "font": {
           "size": 16
          },
          "showarrow": false,
          "text": "A. In-degree",
          "x": 0.14444444444444446,
          "xanchor": "center",
          "xref": "paper",
          "y": 1.0,
          "yanchor": "bottom",
          "yref": "paper"
         },
         {
          "font": {
           "size": 16
          },
          "showarrow": false,
          "text": "B. Betweenness",
          "x": 0.5,
          "xanchor": "center",
          "xref": "paper",
          "y": 1.0,
          "yanchor": "bottom",
          "yref": "paper"
         },
         {
          "font": {
           "size": 16
          },
          "showarrow": false,
          "text": "C. Closeness",
          "x": 0.8555555555555556,
          "xanchor": "center",
          "xref": "paper",
          "y": 1.0,
          "yanchor": "bottom",
          "yref": "paper"
         },
         {
          "font": {
           "size": 16
          },
          "showarrow": false,
          "text": "Percentage of Similar Influential Agents Selected (%)",
          "x": 0.5,
          "xanchor": "center",
          "xref": "paper",
          "y": 0,
          "yanchor": "top",
          "yref": "paper",
          "yshift": -30
         },
         {
          "font": {
           "size": 16
          },
          "showarrow": false,
          "text": "Number of Classes",
          "textangle": -90,
          "x": 0,
          "xanchor": "right",
          "xref": "paper",
          "xshift": -40,
          "y": 0.5,
          "yanchor": "middle",
          "yref": "paper"
         }
        ],
        "margin": {
         "l": 60,
         "r": 20,
         "t": 80,
         "b": 60
        },
        "legend": {
         "orientation": "h"
        },
        "width": 1200,
        "height": 700
       },
       "config": {
        "plotlyServerURL": "https://plot.ly"
       }
      },
      "text/html": "<div>                            <div id=\"af7d6c2e-e84b-4195-af33-b45e864042ba\" class=\"plotly-graph-div\" style=\"height:700px; width:1200px;\"></div>            <script type=\"text/javascript\">                require([\"plotly\"], function(Plotly) {                    window.PLOTLYENV=window.PLOTLYENV || {};                                    if (document.getElementById(\"af7d6c2e-e84b-4195-af33-b45e864042ba\")) {                    Plotly.newPlot(                        \"af7d6c2e-e84b-4195-af33-b45e864042ba\",                        [{\"marker\":{\"color\":\"#EB89B5\"},\"name\":\"Peer-Nomination Network Data vs. Online Communication Network Data\",\"x\":[33,33,67,33,0,0,0,0,50,33,0,0,0,67,50,33,67,33,25,0,25],\"xbins\":{\"size\":1},\"type\":\"histogram\",\"xaxis\":\"x\",\"yaxis\":\"y\"},{\"marker\":{\"color\":\"#EB89B5\"},\"name\":\"Peer-Nomination Network Data vs. Online Communication Network Data\",\"showlegend\":false,\"x\":[100,0,33,33,0,33,0,33,0,0,0,25,0,33,50,33,33,33,25,33,50],\"xbins\":{\"size\":1},\"type\":\"histogram\",\"xaxis\":\"x2\",\"yaxis\":\"y2\"},{\"marker\":{\"color\":\"#EB89B5\"},\"name\":\"Peer-Nomination Network Data vs. Online Communication Network Data\",\"showlegend\":false,\"x\":[67,33,67,33,0,33,0,0,50,33,0,0,0,67,100,33,67,33,25,0,25],\"xbins\":{\"size\":1},\"type\":\"histogram\",\"xaxis\":\"x3\",\"yaxis\":\"y3\"}],                        {\"template\":{\"data\":{\"histogram2dcontour\":[{\"type\":\"histogram2dcontour\",\"colorbar\":{\"outlinewidth\":0,\"ticks\":\"\"},\"colorscale\":[[0.0,\"#0d0887\"],[0.1111111111111111,\"#46039f\"],[0.2222222222222222,\"#7201a8\"],[0.3333333333333333,\"#9c179e\"],[0.4444444444444444,\"#bd3786\"],[0.5555555555555556,\"#d8576b\"],[0.6666666666666666,\"#ed7953\"],[0.7777777777777778,\"#fb9f3a\"],[0.8888888888888888,\"#fdca26\"],[1.0,\"#f0f921\"]]}],\"choropleth\":[{\"type\":\"choropleth\",\"colorbar\":{\"outlinewidth\":0,\"ticks\":\"\"}}],\"histogram2d\":[{\"type\":\"histogram2d\",\"colorbar\":{\"outlinewidth\":0,\"ticks\":\"\"},\"colorscale\":[[0.0,\"#0d0887\"],[0.1111111111111111,\"#46039f\"],[0.2222222222222222,\"#7201a8\"],[0.3333333333333333,\"#9c179e\"],[0.4444444444444444,\"#bd3786\"],[0.5555555555555556,\"#d8576b\"],[0.6666666666666666,\"#ed7953\"],[0.7777777777777778,\"#fb9f3a\"],[0.8888888888888888,\"#fdca26\"],[1.0,\"#f0f921\"]]}],\"heatmap\":[{\"type\":\"heatmap\",\"colorbar\":{\"outlinewidth\":0,\"ticks\":\"\"},\"colorscale\":[[0.0,\"#0d0887\"],[0.1111111111111111,\"#46039f\"],[0.2222222222222222,\"#7201a8\"],[0.3333333333333333,\"#9c179e\"],[0.4444444444444444,\"#bd3786\"],[0.5555555555555556,\"#d8576b\"],[0.6666666666666666,\"#ed7953\"],[0.7777777777777778,\"#fb9f3a\"],[0.8888888888888888,\"#fdca26\"],[1.0,\"#f0f921\"]]}],\"heatmapgl\":[{\"type\":\"heatmapgl\",\"colorbar\":{\"outlinewidth\":0,\"ticks\":\"\"},\"colorscale\":[[0.0,\"#0d0887\"],[0.1111111111111111,\"#46039f\"],[0.2222222222222222,\"#7201a8\"],[0.3333333333333333,\"#9c179e\"],[0.4444444444444444,\"#bd3786\"],[0.5555555555555556,\"#d8576b\"],[0.6666666666666666,\"#ed7953\"],[0.7777777777777778,\"#fb9f3a\"],[0.8888888888888888,\"#fdca26\"],[1.0,\"#f0f921\"]]}],\"contourcarpet\":[{\"type\":\"contourcarpet\",\"colorbar\":{\"outlinewidth\":0,\"ticks\":\"\"}}],\"contour\":[{\"type\":\"contour\",\"colorbar\":{\"outlinewidth\":0,\"ticks\":\"\"},\"colorscale\":[[0.0,\"#0d0887\"],[0.1111111111111111,\"#46039f\"],[0.2222222222222222,\"#7201a8\"],[0.3333333333333333,\"#9c179e\"],[0.4444444444444444,\"#bd3786\"],[0.5555555555555556,\"#d8576b\"],[0.6666666666666666,\"#ed7953\"],[0.7777777777777778,\"#fb9f3a\"],[0.8888888888888888,\"#fdca26\"],[1.0,\"#f0f921\"]]}],\"surface\":[{\"type\":\"surface\",\"colorbar\":{\"outlinewidth\":0,\"ticks\":\"\"},\"colorscale\":[[0.0,\"#0d0887\"],[0.1111111111111111,\"#46039f\"],[0.2222222222222222,\"#7201a8\"],[0.3333333333333333,\"#9c179e\"],[0.4444444444444444,\"#bd3786\"],[0.5555555555555556,\"#d8576b\"],[0.6666666666666666,\"#ed7953\"],[0.7777777777777778,\"#fb9f3a\"],[0.8888888888888888,\"#fdca26\"],[1.0,\"#f0f921\"]]}],\"mesh3d\":[{\"type\":\"mesh3d\",\"colorbar\":{\"outlinewidth\":0,\"ticks\":\"\"}}],\"scatter\":[{\"fillpattern\":{\"fillmode\":\"overlay\",\"size\":10,\"solidity\":0.2},\"type\":\"scatter\"}],\"parcoords\":[{\"type\":\"parcoords\",\"line\":{\"colorbar\":{\"outlinewidth\":0,\"ticks\":\"\"}}}],\"scatterpolargl\":[{\"type\":\"scatterpolargl\",\"marker\":{\"colorbar\":{\"outlinewidth\":0,\"ticks\":\"\"}}}],\"bar\":[{\"error_x\":{\"color\":\"#2a3f5f\"},\"error_y\":{\"color\":\"#2a3f5f\"},\"marker\":{\"line\":{\"color\":\"#E5ECF6\",\"width\":0.5},\"pattern\":{\"fillmode\":\"overlay\",\"size\":10,\"solidity\":0.2}},\"type\":\"bar\"}],\"scattergeo\":[{\"type\":\"scattergeo\",\"marker\":{\"colorbar\":{\"outlinewidth\":0,\"ticks\":\"\"}}}],\"scatterpolar\":[{\"type\":\"scatterpolar\",\"marker\":{\"colorbar\":{\"outlinewidth\":0,\"ticks\":\"\"}}}],\"histogram\":[{\"marker\":{\"pattern\":{\"fillmode\":\"overlay\",\"size\":10,\"solidity\":0.2}},\"type\":\"histogram\"}],\"scattergl\":[{\"type\":\"scattergl\",\"marker\":{\"colorbar\":{\"outlinewidth\":0,\"ticks\":\"\"}}}],\"scatter3d\":[{\"type\":\"scatter3d\",\"line\":{\"colorbar\":{\"outlinewidth\":0,\"ticks\":\"\"}},\"marker\":{\"colorbar\":{\"outlinewidth\":0,\"ticks\":\"\"}}}],\"scattermapbox\":[{\"type\":\"scattermapbox\",\"marker\":{\"colorbar\":{\"outlinewidth\":0,\"ticks\":\"\"}}}],\"scatterternary\":[{\"type\":\"scatterternary\",\"marker\":{\"colorbar\":{\"outlinewidth\":0,\"ticks\":\"\"}}}],\"scattercarpet\":[{\"type\":\"scattercarpet\",\"marker\":{\"colorbar\":{\"outlinewidth\":0,\"ticks\":\"\"}}}],\"carpet\":[{\"aaxis\":{\"endlinecolor\":\"#2a3f5f\",\"gridcolor\":\"white\",\"linecolor\":\"white\",\"minorgridcolor\":\"white\",\"startlinecolor\":\"#2a3f5f\"},\"baxis\":{\"endlinecolor\":\"#2a3f5f\",\"gridcolor\":\"white\",\"linecolor\":\"white\",\"minorgridcolor\":\"white\",\"startlinecolor\":\"#2a3f5f\"},\"type\":\"carpet\"}],\"table\":[{\"cells\":{\"fill\":{\"color\":\"#EBF0F8\"},\"line\":{\"color\":\"white\"}},\"header\":{\"fill\":{\"color\":\"#C8D4E3\"},\"line\":{\"color\":\"white\"}},\"type\":\"table\"}],\"barpolar\":[{\"marker\":{\"line\":{\"color\":\"#E5ECF6\",\"width\":0.5},\"pattern\":{\"fillmode\":\"overlay\",\"size\":10,\"solidity\":0.2}},\"type\":\"barpolar\"}],\"pie\":[{\"automargin\":true,\"type\":\"pie\"}]},\"layout\":{\"autotypenumbers\":\"strict\",\"colorway\":[\"#636efa\",\"#EF553B\",\"#00cc96\",\"#ab63fa\",\"#FFA15A\",\"#19d3f3\",\"#FF6692\",\"#B6E880\",\"#FF97FF\",\"#FECB52\"],\"font\":{\"color\":\"#2a3f5f\"},\"hovermode\":\"closest\",\"hoverlabel\":{\"align\":\"left\"},\"paper_bgcolor\":\"white\",\"plot_bgcolor\":\"#E5ECF6\",\"polar\":{\"bgcolor\":\"#E5ECF6\",\"angularaxis\":{\"gridcolor\":\"white\",\"linecolor\":\"white\",\"ticks\":\"\"},\"radialaxis\":{\"gridcolor\":\"white\",\"linecolor\":\"white\",\"ticks\":\"\"}},\"ternary\":{\"bgcolor\":\"#E5ECF6\",\"aaxis\":{\"gridcolor\":\"white\",\"linecolor\":\"white\",\"ticks\":\"\"},\"baxis\":{\"gridcolor\":\"white\",\"linecolor\":\"white\",\"ticks\":\"\"},\"caxis\":{\"gridcolor\":\"white\",\"linecolor\":\"white\",\"ticks\":\"\"}},\"coloraxis\":{\"colorbar\":{\"outlinewidth\":0,\"ticks\":\"\"}},\"colorscale\":{\"sequential\":[[0.0,\"#0d0887\"],[0.1111111111111111,\"#46039f\"],[0.2222222222222222,\"#7201a8\"],[0.3333333333333333,\"#9c179e\"],[0.4444444444444444,\"#bd3786\"],[0.5555555555555556,\"#d8576b\"],[0.6666666666666666,\"#ed7953\"],[0.7777777777777778,\"#fb9f3a\"],[0.8888888888888888,\"#fdca26\"],[1.0,\"#f0f921\"]],\"sequentialminus\":[[0.0,\"#0d0887\"],[0.1111111111111111,\"#46039f\"],[0.2222222222222222,\"#7201a8\"],[0.3333333333333333,\"#9c179e\"],[0.4444444444444444,\"#bd3786\"],[0.5555555555555556,\"#d8576b\"],[0.6666666666666666,\"#ed7953\"],[0.7777777777777778,\"#fb9f3a\"],[0.8888888888888888,\"#fdca26\"],[1.0,\"#f0f921\"]],\"diverging\":[[0,\"#8e0152\"],[0.1,\"#c51b7d\"],[0.2,\"#de77ae\"],[0.3,\"#f1b6da\"],[0.4,\"#fde0ef\"],[0.5,\"#f7f7f7\"],[0.6,\"#e6f5d0\"],[0.7,\"#b8e186\"],[0.8,\"#7fbc41\"],[0.9,\"#4d9221\"],[1,\"#276419\"]]},\"xaxis\":{\"gridcolor\":\"white\",\"linecolor\":\"white\",\"ticks\":\"\",\"title\":{\"standoff\":15},\"zerolinecolor\":\"white\",\"automargin\":true,\"zerolinewidth\":2},\"yaxis\":{\"gridcolor\":\"white\",\"linecolor\":\"white\",\"ticks\":\"\",\"title\":{\"standoff\":15},\"zerolinecolor\":\"white\",\"automargin\":true,\"zerolinewidth\":2},\"scene\":{\"xaxis\":{\"backgroundcolor\":\"#E5ECF6\",\"gridcolor\":\"white\",\"linecolor\":\"white\",\"showbackground\":true,\"ticks\":\"\",\"zerolinecolor\":\"white\",\"gridwidth\":2},\"yaxis\":{\"backgroundcolor\":\"#E5ECF6\",\"gridcolor\":\"white\",\"linecolor\":\"white\",\"showbackground\":true,\"ticks\":\"\",\"zerolinecolor\":\"white\",\"gridwidth\":2},\"zaxis\":{\"backgroundcolor\":\"#E5ECF6\",\"gridcolor\":\"white\",\"linecolor\":\"white\",\"showbackground\":true,\"ticks\":\"\",\"zerolinecolor\":\"white\",\"gridwidth\":2}},\"shapedefaults\":{\"line\":{\"color\":\"#2a3f5f\"}},\"annotationdefaults\":{\"arrowcolor\":\"#2a3f5f\",\"arrowhead\":0,\"arrowwidth\":1},\"geo\":{\"bgcolor\":\"white\",\"landcolor\":\"#E5ECF6\",\"subunitcolor\":\"white\",\"showland\":true,\"showlakes\":true,\"lakecolor\":\"white\"},\"title\":{\"x\":0.05},\"mapbox\":{\"style\":\"light\"}}},\"xaxis\":{\"anchor\":\"y\",\"domain\":[0.0,0.2888888888888889],\"range\":[-1,101],\"tickmode\":\"linear\",\"tick0\":0,\"dtick\":10},\"yaxis\":{\"anchor\":\"x\",\"domain\":[0.0,1.0],\"range\":[0,10],\"tickmode\":\"linear\",\"tick0\":0,\"dtick\":1},\"xaxis2\":{\"anchor\":\"y2\",\"domain\":[0.35555555555555557,0.6444444444444445],\"range\":[-1,101],\"tickmode\":\"linear\",\"tick0\":0,\"dtick\":10},\"yaxis2\":{\"anchor\":\"x2\",\"domain\":[0.0,1.0],\"range\":[0,10],\"tickmode\":\"linear\",\"tick0\":0,\"dtick\":1},\"xaxis3\":{\"anchor\":\"y3\",\"domain\":[0.7111111111111111,1.0],\"range\":[-1,101],\"tickmode\":\"linear\",\"tick0\":0,\"dtick\":10},\"yaxis3\":{\"anchor\":\"x3\",\"domain\":[0.0,1.0],\"range\":[0,10],\"tickmode\":\"linear\",\"tick0\":0,\"dtick\":1},\"annotations\":[{\"font\":{\"size\":16},\"showarrow\":false,\"text\":\"A. In-degree\",\"x\":0.14444444444444446,\"xanchor\":\"center\",\"xref\":\"paper\",\"y\":1.0,\"yanchor\":\"bottom\",\"yref\":\"paper\"},{\"font\":{\"size\":16},\"showarrow\":false,\"text\":\"B. Betweenness\",\"x\":0.5,\"xanchor\":\"center\",\"xref\":\"paper\",\"y\":1.0,\"yanchor\":\"bottom\",\"yref\":\"paper\"},{\"font\":{\"size\":16},\"showarrow\":false,\"text\":\"C. Closeness\",\"x\":0.8555555555555556,\"xanchor\":\"center\",\"xref\":\"paper\",\"y\":1.0,\"yanchor\":\"bottom\",\"yref\":\"paper\"},{\"font\":{\"size\":16},\"showarrow\":false,\"text\":\"Percentage of Similar Influential Agents Selected (%)\",\"x\":0.5,\"xanchor\":\"center\",\"xref\":\"paper\",\"y\":0,\"yanchor\":\"top\",\"yref\":\"paper\",\"yshift\":-30},{\"font\":{\"size\":16},\"showarrow\":false,\"text\":\"Number of Classes\",\"textangle\":-90,\"x\":0,\"xanchor\":\"right\",\"xref\":\"paper\",\"xshift\":-40,\"y\":0.5,\"yanchor\":\"middle\",\"yref\":\"paper\"}],\"margin\":{\"l\":60,\"r\":20,\"t\":80,\"b\":60},\"legend\":{\"orientation\":\"h\"},\"width\":1200,\"height\":700},                        {\"responsive\": true}                    ).then(function(){\n                            \nvar gd = document.getElementById('af7d6c2e-e84b-4195-af33-b45e864042ba');\nvar x = new MutationObserver(function (mutations, observer) {{\n        var display = window.getComputedStyle(gd).display;\n        if (!display || display === 'none') {{\n            console.log([gd, 'removed!']);\n            Plotly.purge(gd);\n            observer.disconnect();\n        }}\n}});\n\n// Listen for the removal of the full notebook cells\nvar notebookContainer = gd.closest('#notebook-container');\nif (notebookContainer) {{\n    x.observe(notebookContainer, {childList: true});\n}}\n\n// Listen for the clearing of the current output cell\nvar outputEl = gd.closest('.output');\nif (outputEl) {{\n    x.observe(outputEl, {childList: true});\n}}\n\n                        })                };                });            </script>        </div>"
     },
     "metadata": {},
     "output_type": "display_data"
    }
   ],
   "source": [
    "# Figure\n",
    "fig = go.Figure()\n",
    "fig = make_subplots(rows=1, cols=3,\n",
    "                    x_title='Percentage of Similar Influential Agents Selected (%)',\n",
    "                    y_title='Number of Classes',\n",
    "                    subplot_titles=('A. In-degree',\n",
    "                                    'B. Betweenness',\n",
    "                                    'C. Closeness'),\n",
    "                    vertical_spacing = 0.1)\n",
    "fig.add_trace(go.Histogram(x=x0,\n",
    "                           name='Peer-Nomination Network Data vs. Online Communication Network Data',\n",
    "                           xbins=dict(size=1),\n",
    "                           marker_color='#EB89B5'),\n",
    "              row=1, col=1)\n",
    "fig.add_trace(go.Histogram(x=x1,\n",
    "                           name='Peer-Nomination Network Data vs. Online Communication Network Data',\n",
    "                           showlegend=False,\n",
    "                           xbins=dict(size=1),\n",
    "                           marker_color='#EB89B5'),\n",
    "              row=1, col=2)\n",
    "fig.add_trace(go.Histogram(x=x2,\n",
    "                           name='Peer-Nomination Network Data vs. Online Communication Network Data',\n",
    "                           showlegend=False,\n",
    "                           xbins=dict(size=1),\n",
    "                           marker_color='#EB89B5'),\n",
    "              row=1, col=3)\n",
    "\n",
    "# Combine histograms\n",
    "fig.update_layout(width=1200, height=700,\n",
    "                  xaxis1 = dict({'range': [-1, 101]}, tickmode = 'linear', tick0=0, dtick=10),\n",
    "                  xaxis2 = dict({'range': [-1, 101]}, tickmode = 'linear', tick0=0, dtick=10),\n",
    "                  xaxis3 = dict({'range': [-1, 101]}, tickmode = 'linear', tick0=0, dtick=10),\n",
    "                  yaxis1 = dict({'range': [0, 10]}, tickmode = 'linear', tick0=0, dtick=1),\n",
    "                  yaxis2 = dict({'range': [0, 10]}, tickmode = 'linear', tick0=0, dtick=1),\n",
    "                  yaxis3 = dict({'range': [0, 10]}, tickmode = 'linear', tick0=0, dtick=1),\n",
    "                  margin = dict(l=60, r=20, t=80, b=60),\n",
    "                  legend = dict(orientation='h'),\n",
    "                 )\n",
    "fig.show()"
   ],
   "metadata": {
    "collapsed": false,
    "pycharm": {
     "name": "#%%\n"
    }
   }
  },
  {
   "cell_type": "code",
   "execution_count": 15,
   "outputs": [],
   "source": [
    "fig.write_image('../output/plots/SimilarInfluencers.jpg', width=1200, height=700, scale=2)"
   ],
   "metadata": {
    "collapsed": false,
    "pycharm": {
     "name": "#%%\n"
    }
   }
  },
  {
   "cell_type": "markdown",
   "source": [
    "### Similarity of selection between in-degree, betweenness and closeness"
   ],
   "metadata": {
    "collapsed": false,
    "pycharm": {
     "name": "#%% md\n"
    }
   }
  },
  {
   "cell_type": "code",
   "execution_count": 8,
   "outputs": [
    {
     "data": {
      "text/plain": "                   In-Degree               Betweenness  \\\n0         [1636, 1733, 1651]        [1636, 1736, 1733]   \n1         [1606, 1610, 1623]        [1626, 1630, 1617]   \n2         [2271, 2278, 2268]        [2271, 2278, 2268]   \n3         [2865, 2863, 2877]        [2872, 2883, 2858]   \n4               [2887, 2904]              [2887, 2904]   \n5         [5040, 5011, 5016]        [5018, 5032, 5011]   \n6               [5083, 5096]              [5085, 5076]   \n7         [5161, 5162, 5167]        [5161, 5181, 5162]   \n8               [5184, 5182]              [5203, 5199]   \n9         [5213, 5209, 5225]        [5218, 5220, 5222]   \n10  [5444, 5453, 5451, 6031]  [5431, 5444, 5438, 5435]   \n11  [5473, 5478, 5464, 5480]  [5478, 5480, 5467, 5458]   \n12        [5837, 5849, 5851]        [5837, 5848, 5851]   \n13        [5880, 5871, 5875]        [5878, 5880, 5867]   \n14              [5893, 5898]              [5914, 5893]   \n15        [5954, 5959, 5951]        [5966, 5967, 5959]   \n16        [5928, 5929, 5930]        [5937, 5924, 5928]   \n17        [5996, 5980, 5972]        [5996, 5980, 5995]   \n18  [6023, 6017, 6003, 6015]  [6017, 6012, 6013, 6016]   \n19        [6055, 6042, 6049]        [6038, 6045, 6046]   \n20  [6063, 6080, 6070, 6069]  [6068, 6063, 6081, 6080]   \n\n                   Closeness  IndegreeBetweenness  IndegreeCloseness  \\\n0         [1636, 1733, 1651]                   67                100   \n1         [1606, 1610, 1623]                    0                100   \n2         [2271, 2278, 2268]                  100                100   \n3         [2865, 2863, 2877]                    0                100   \n4               [2887, 2904]                  100                100   \n5         [5040, 5011, 5023]                   33                 67   \n6               [5083, 5096]                    0                100   \n7         [5161, 5181, 5162]                   67                 67   \n8               [5184, 5182]                    0                100   \n9         [5209, 5219, 5217]                    0                 33   \n10  [5444, 5453, 5451, 6031]                   25                100   \n11  [5473, 5478, 5464, 5480]                   50                100   \n12        [5851, 5837, 5839]                   67                 67   \n13        [5880, 5871, 5875]                   33                100   \n14              [5893, 5898]                   50                100   \n15        [5954, 5959, 5951]                   33                100   \n16        [5928, 5929, 5930]                   33                100   \n17        [5996, 5980, 5972]                   67                100   \n18  [6003, 6015, 6023, 6017]                   25                100   \n19        [6055, 6042, 6049]                    0                100   \n20  [6063, 6080, 6070, 6069]                   50                100   \n\n    BetweennessCloseness  \n0                     67  \n1                      0  \n2                    100  \n3                      0  \n4                    100  \n5                     33  \n6                      0  \n7                    100  \n8                      0  \n9                      0  \n10                    25  \n11                    50  \n12                    67  \n13                    33  \n14                    50  \n15                    33  \n16                    33  \n17                    67  \n18                    25  \n19                     0  \n20                    50  ",
      "text/html": "<div>\n<style scoped>\n    .dataframe tbody tr th:only-of-type {\n        vertical-align: middle;\n    }\n\n    .dataframe tbody tr th {\n        vertical-align: top;\n    }\n\n    .dataframe thead th {\n        text-align: right;\n    }\n</style>\n<table border=\"1\" class=\"dataframe\">\n  <thead>\n    <tr style=\"text-align: right;\">\n      <th></th>\n      <th>In-Degree</th>\n      <th>Betweenness</th>\n      <th>Closeness</th>\n      <th>IndegreeBetweenness</th>\n      <th>IndegreeCloseness</th>\n      <th>BetweennessCloseness</th>\n    </tr>\n  </thead>\n  <tbody>\n    <tr>\n      <th>0</th>\n      <td>[1636, 1733, 1651]</td>\n      <td>[1636, 1736, 1733]</td>\n      <td>[1636, 1733, 1651]</td>\n      <td>67</td>\n      <td>100</td>\n      <td>67</td>\n    </tr>\n    <tr>\n      <th>1</th>\n      <td>[1606, 1610, 1623]</td>\n      <td>[1626, 1630, 1617]</td>\n      <td>[1606, 1610, 1623]</td>\n      <td>0</td>\n      <td>100</td>\n      <td>0</td>\n    </tr>\n    <tr>\n      <th>2</th>\n      <td>[2271, 2278, 2268]</td>\n      <td>[2271, 2278, 2268]</td>\n      <td>[2271, 2278, 2268]</td>\n      <td>100</td>\n      <td>100</td>\n      <td>100</td>\n    </tr>\n    <tr>\n      <th>3</th>\n      <td>[2865, 2863, 2877]</td>\n      <td>[2872, 2883, 2858]</td>\n      <td>[2865, 2863, 2877]</td>\n      <td>0</td>\n      <td>100</td>\n      <td>0</td>\n    </tr>\n    <tr>\n      <th>4</th>\n      <td>[2887, 2904]</td>\n      <td>[2887, 2904]</td>\n      <td>[2887, 2904]</td>\n      <td>100</td>\n      <td>100</td>\n      <td>100</td>\n    </tr>\n    <tr>\n      <th>5</th>\n      <td>[5040, 5011, 5016]</td>\n      <td>[5018, 5032, 5011]</td>\n      <td>[5040, 5011, 5023]</td>\n      <td>33</td>\n      <td>67</td>\n      <td>33</td>\n    </tr>\n    <tr>\n      <th>6</th>\n      <td>[5083, 5096]</td>\n      <td>[5085, 5076]</td>\n      <td>[5083, 5096]</td>\n      <td>0</td>\n      <td>100</td>\n      <td>0</td>\n    </tr>\n    <tr>\n      <th>7</th>\n      <td>[5161, 5162, 5167]</td>\n      <td>[5161, 5181, 5162]</td>\n      <td>[5161, 5181, 5162]</td>\n      <td>67</td>\n      <td>67</td>\n      <td>100</td>\n    </tr>\n    <tr>\n      <th>8</th>\n      <td>[5184, 5182]</td>\n      <td>[5203, 5199]</td>\n      <td>[5184, 5182]</td>\n      <td>0</td>\n      <td>100</td>\n      <td>0</td>\n    </tr>\n    <tr>\n      <th>9</th>\n      <td>[5213, 5209, 5225]</td>\n      <td>[5218, 5220, 5222]</td>\n      <td>[5209, 5219, 5217]</td>\n      <td>0</td>\n      <td>33</td>\n      <td>0</td>\n    </tr>\n    <tr>\n      <th>10</th>\n      <td>[5444, 5453, 5451, 6031]</td>\n      <td>[5431, 5444, 5438, 5435]</td>\n      <td>[5444, 5453, 5451, 6031]</td>\n      <td>25</td>\n      <td>100</td>\n      <td>25</td>\n    </tr>\n    <tr>\n      <th>11</th>\n      <td>[5473, 5478, 5464, 5480]</td>\n      <td>[5478, 5480, 5467, 5458]</td>\n      <td>[5473, 5478, 5464, 5480]</td>\n      <td>50</td>\n      <td>100</td>\n      <td>50</td>\n    </tr>\n    <tr>\n      <th>12</th>\n      <td>[5837, 5849, 5851]</td>\n      <td>[5837, 5848, 5851]</td>\n      <td>[5851, 5837, 5839]</td>\n      <td>67</td>\n      <td>67</td>\n      <td>67</td>\n    </tr>\n    <tr>\n      <th>13</th>\n      <td>[5880, 5871, 5875]</td>\n      <td>[5878, 5880, 5867]</td>\n      <td>[5880, 5871, 5875]</td>\n      <td>33</td>\n      <td>100</td>\n      <td>33</td>\n    </tr>\n    <tr>\n      <th>14</th>\n      <td>[5893, 5898]</td>\n      <td>[5914, 5893]</td>\n      <td>[5893, 5898]</td>\n      <td>50</td>\n      <td>100</td>\n      <td>50</td>\n    </tr>\n    <tr>\n      <th>15</th>\n      <td>[5954, 5959, 5951]</td>\n      <td>[5966, 5967, 5959]</td>\n      <td>[5954, 5959, 5951]</td>\n      <td>33</td>\n      <td>100</td>\n      <td>33</td>\n    </tr>\n    <tr>\n      <th>16</th>\n      <td>[5928, 5929, 5930]</td>\n      <td>[5937, 5924, 5928]</td>\n      <td>[5928, 5929, 5930]</td>\n      <td>33</td>\n      <td>100</td>\n      <td>33</td>\n    </tr>\n    <tr>\n      <th>17</th>\n      <td>[5996, 5980, 5972]</td>\n      <td>[5996, 5980, 5995]</td>\n      <td>[5996, 5980, 5972]</td>\n      <td>67</td>\n      <td>100</td>\n      <td>67</td>\n    </tr>\n    <tr>\n      <th>18</th>\n      <td>[6023, 6017, 6003, 6015]</td>\n      <td>[6017, 6012, 6013, 6016]</td>\n      <td>[6003, 6015, 6023, 6017]</td>\n      <td>25</td>\n      <td>100</td>\n      <td>25</td>\n    </tr>\n    <tr>\n      <th>19</th>\n      <td>[6055, 6042, 6049]</td>\n      <td>[6038, 6045, 6046]</td>\n      <td>[6055, 6042, 6049]</td>\n      <td>0</td>\n      <td>100</td>\n      <td>0</td>\n    </tr>\n    <tr>\n      <th>20</th>\n      <td>[6063, 6080, 6070, 6069]</td>\n      <td>[6068, 6063, 6081, 6080]</td>\n      <td>[6063, 6080, 6070, 6069]</td>\n      <td>50</td>\n      <td>100</td>\n      <td>50</td>\n    </tr>\n  </tbody>\n</table>\n</div>"
     },
     "execution_count": 8,
     "metadata": {},
     "output_type": "execute_result"
    }
   ],
   "source": [
    "# Peer-Nomination Network Data\n",
    "indegree = df_inf_agents[df_inf_agents['Intervention']== 'indegree'].InfluenceAgents.reset_index(drop=True)\n",
    "betweenness = df_inf_agents[df_inf_agents['Intervention']== 'betweenness'].InfluenceAgents.reset_index(drop=True)\n",
    "closeness = df_inf_agents[df_inf_agents['Intervention']== 'closeness'].InfluenceAgents.reset_index(drop=True)\n",
    "\n",
    "pnn = pd.concat([indegree, betweenness, closeness], axis=1)\n",
    "pnn.columns =['In-Degree', 'Betweenness', 'Closeness']\n",
    "\n",
    "pnn['IndegreeBetweenness'] = pnn.apply( lambda row: get_perc_agents(row['In-Degree'], row['Betweenness']), axis=1)\n",
    "pnn['IndegreeCloseness'] = pnn.apply( lambda row: get_perc_agents(row['In-Degree'], row['Closeness']), axis=1)\n",
    "pnn['BetweennessCloseness'] = pnn.apply( lambda row: get_perc_agents(row['Betweenness'], row['Closeness']), axis=1)\n",
    "\n",
    "pnn"
   ],
   "metadata": {
    "collapsed": false,
    "pycharm": {
     "name": "#%%\n"
    }
   }
  },
  {
   "cell_type": "code",
   "execution_count": 9,
   "outputs": [
    {
     "name": "stdout",
     "output_type": "stream",
     "text": [
      "38.095238095238095 92.0952380952381 39.666666666666664\n"
     ]
    }
   ],
   "source": [
    "print(pnn['IndegreeBetweenness'].mean(), pnn['IndegreeCloseness'].mean(), pnn['BetweennessCloseness'].mean())"
   ],
   "metadata": {
    "collapsed": false,
    "pycharm": {
     "name": "#%%\n"
    }
   }
  },
  {
   "cell_type": "code",
   "execution_count": 10,
   "outputs": [
    {
     "data": {
      "text/plain": "                           In-Degree                       Betweenness  \\\n0           [1736.0, 1733.0, 1656.0]          [1636.0, 1733.0, 1736.0]   \n1           [1631.0, 1623.0, 1620.0]          [1620.0, 1608.0, 1631.0]   \n2           [2271.0, 2262.0, 2268.0]          [2281.0, 2271.0, 2263.0]   \n3           [2872.0, 2863.0, 2883.0]          [2872.0, 2866.0, 2868.0]   \n4                   [2902.0, 2908.0]                  [2902.0, 2908.0]   \n5           [5032.0, 5021.0, 5039.0]          [5027.0, 5040.0, 5032.0]   \n6                   [5075.0, 5094.0]                  [5075.0, 5094.0]   \n7           [5169.0, 5157.0, 5164.0]          [5169.0, 5162.0, 5157.0]   \n8                   [5182.0, 5190.0]                  [5190.0, 5204.0]   \n9           [5225.0, 5217.0, 5220.0]          [5217.0, 5225.0, 5207.0]   \n10  [5443.0, 5447.0, 5452.0, 5436.0]  [5447.0, 5443.0, 5448.0, 5453.0]   \n11  [5476.0, 5467.0, 5483.0, 5474.0]  [5476.0, 5467.0, 5474.0, 5483.0]   \n12          [5840.0, 5855.0, 5854.0]          [5840.0, 5854.0, 5855.0]   \n13          [5878.0, 5871.0, 5880.0]          [5871.0, 5878.0, 5868.0]   \n14                  [5898.0, 5914.0]                  [5914.0, 5916.0]   \n15          [5966.0, 5954.0, 5957.0]          [5966.0, 5954.0, 5957.0]   \n16          [5933.0, 5929.0, 5928.0]          [5929.0, 5928.0, 5925.0]   \n17          [5982.0, 5996.0, 5993.0]          [5993.0, 5985.0, 5996.0]   \n18  [6012.0, 6023.0, 6021.0, 6006.0]  [6025.0, 6007.0, 6012.0, 6023.0]   \n19          [6045.0, 6033.0, 6038.0]          [6045.0, 6035.0, 6033.0]   \n20  [6081.0, 6063.0, 6074.0, 6068.0]  [6081.0, 6074.0, 6063.0, 6082.0]   \n\n                           Closeness  IndegreeBetweenness  IndegreeCloseness  \\\n0           [1733.0, 1636.0, 1736.0]                   67                 67   \n1           [1631.0, 1608.0, 1623.0]                   67                 67   \n2           [2271.0, 2268.0, 2263.0]                   33                 67   \n3           [2872.0, 2863.0, 2859.0]                   33                 67   \n4                   [2902.0, 2908.0]                  100                100   \n5           [5040.0, 5027.0, 5039.0]                   33                 33   \n6                   [5075.0, 5094.0]                  100                100   \n7           [5169.0, 5165.0, 5157.0]                   67                 67   \n8                   [5182.0, 5190.0]                   50                100   \n9           [5225.0, 5217.0, 5220.0]                   67                100   \n10  [5443.0, 5447.0, 5452.0, 5436.0]                   50                100   \n11  [5476.0, 5467.0, 5472.0, 5482.0]                  100                 50   \n12          [5840.0, 5854.0, 5855.0]                  100                100   \n13          [5878.0, 5871.0, 5880.0]                   67                100   \n14                  [5898.0, 5893.0]                   50                 50   \n15          [5966.0, 5954.0, 5957.0]                  100                100   \n16          [5933.0, 5929.0, 5928.0]                   67                100   \n17          [5982.0, 5996.0, 5993.0]                   67                100   \n18  [6012.0, 6023.0, 6021.0, 6025.0]                   50                 75   \n19          [6045.0, 6033.0, 6038.0]                   67                100   \n20  [6081.0, 6074.0, 6063.0, 6068.0]                   75                100   \n\n    BetweennessCloseness  \n0                    100  \n1                     67  \n2                     67  \n3                     33  \n4                    100  \n5                     67  \n6                    100  \n7                     67  \n8                     50  \n9                     67  \n10                    50  \n11                    50  \n12                   100  \n13                    67  \n14                     0  \n15                   100  \n16                    67  \n17                    67  \n18                    75  \n19                    67  \n20                    75  ",
      "text/html": "<div>\n<style scoped>\n    .dataframe tbody tr th:only-of-type {\n        vertical-align: middle;\n    }\n\n    .dataframe tbody tr th {\n        vertical-align: top;\n    }\n\n    .dataframe thead th {\n        text-align: right;\n    }\n</style>\n<table border=\"1\" class=\"dataframe\">\n  <thead>\n    <tr style=\"text-align: right;\">\n      <th></th>\n      <th>In-Degree</th>\n      <th>Betweenness</th>\n      <th>Closeness</th>\n      <th>IndegreeBetweenness</th>\n      <th>IndegreeCloseness</th>\n      <th>BetweennessCloseness</th>\n    </tr>\n  </thead>\n  <tbody>\n    <tr>\n      <th>0</th>\n      <td>[1736.0, 1733.0, 1656.0]</td>\n      <td>[1636.0, 1733.0, 1736.0]</td>\n      <td>[1733.0, 1636.0, 1736.0]</td>\n      <td>67</td>\n      <td>67</td>\n      <td>100</td>\n    </tr>\n    <tr>\n      <th>1</th>\n      <td>[1631.0, 1623.0, 1620.0]</td>\n      <td>[1620.0, 1608.0, 1631.0]</td>\n      <td>[1631.0, 1608.0, 1623.0]</td>\n      <td>67</td>\n      <td>67</td>\n      <td>67</td>\n    </tr>\n    <tr>\n      <th>2</th>\n      <td>[2271.0, 2262.0, 2268.0]</td>\n      <td>[2281.0, 2271.0, 2263.0]</td>\n      <td>[2271.0, 2268.0, 2263.0]</td>\n      <td>33</td>\n      <td>67</td>\n      <td>67</td>\n    </tr>\n    <tr>\n      <th>3</th>\n      <td>[2872.0, 2863.0, 2883.0]</td>\n      <td>[2872.0, 2866.0, 2868.0]</td>\n      <td>[2872.0, 2863.0, 2859.0]</td>\n      <td>33</td>\n      <td>67</td>\n      <td>33</td>\n    </tr>\n    <tr>\n      <th>4</th>\n      <td>[2902.0, 2908.0]</td>\n      <td>[2902.0, 2908.0]</td>\n      <td>[2902.0, 2908.0]</td>\n      <td>100</td>\n      <td>100</td>\n      <td>100</td>\n    </tr>\n    <tr>\n      <th>5</th>\n      <td>[5032.0, 5021.0, 5039.0]</td>\n      <td>[5027.0, 5040.0, 5032.0]</td>\n      <td>[5040.0, 5027.0, 5039.0]</td>\n      <td>33</td>\n      <td>33</td>\n      <td>67</td>\n    </tr>\n    <tr>\n      <th>6</th>\n      <td>[5075.0, 5094.0]</td>\n      <td>[5075.0, 5094.0]</td>\n      <td>[5075.0, 5094.0]</td>\n      <td>100</td>\n      <td>100</td>\n      <td>100</td>\n    </tr>\n    <tr>\n      <th>7</th>\n      <td>[5169.0, 5157.0, 5164.0]</td>\n      <td>[5169.0, 5162.0, 5157.0]</td>\n      <td>[5169.0, 5165.0, 5157.0]</td>\n      <td>67</td>\n      <td>67</td>\n      <td>67</td>\n    </tr>\n    <tr>\n      <th>8</th>\n      <td>[5182.0, 5190.0]</td>\n      <td>[5190.0, 5204.0]</td>\n      <td>[5182.0, 5190.0]</td>\n      <td>50</td>\n      <td>100</td>\n      <td>50</td>\n    </tr>\n    <tr>\n      <th>9</th>\n      <td>[5225.0, 5217.0, 5220.0]</td>\n      <td>[5217.0, 5225.0, 5207.0]</td>\n      <td>[5225.0, 5217.0, 5220.0]</td>\n      <td>67</td>\n      <td>100</td>\n      <td>67</td>\n    </tr>\n    <tr>\n      <th>10</th>\n      <td>[5443.0, 5447.0, 5452.0, 5436.0]</td>\n      <td>[5447.0, 5443.0, 5448.0, 5453.0]</td>\n      <td>[5443.0, 5447.0, 5452.0, 5436.0]</td>\n      <td>50</td>\n      <td>100</td>\n      <td>50</td>\n    </tr>\n    <tr>\n      <th>11</th>\n      <td>[5476.0, 5467.0, 5483.0, 5474.0]</td>\n      <td>[5476.0, 5467.0, 5474.0, 5483.0]</td>\n      <td>[5476.0, 5467.0, 5472.0, 5482.0]</td>\n      <td>100</td>\n      <td>50</td>\n      <td>50</td>\n    </tr>\n    <tr>\n      <th>12</th>\n      <td>[5840.0, 5855.0, 5854.0]</td>\n      <td>[5840.0, 5854.0, 5855.0]</td>\n      <td>[5840.0, 5854.0, 5855.0]</td>\n      <td>100</td>\n      <td>100</td>\n      <td>100</td>\n    </tr>\n    <tr>\n      <th>13</th>\n      <td>[5878.0, 5871.0, 5880.0]</td>\n      <td>[5871.0, 5878.0, 5868.0]</td>\n      <td>[5878.0, 5871.0, 5880.0]</td>\n      <td>67</td>\n      <td>100</td>\n      <td>67</td>\n    </tr>\n    <tr>\n      <th>14</th>\n      <td>[5898.0, 5914.0]</td>\n      <td>[5914.0, 5916.0]</td>\n      <td>[5898.0, 5893.0]</td>\n      <td>50</td>\n      <td>50</td>\n      <td>0</td>\n    </tr>\n    <tr>\n      <th>15</th>\n      <td>[5966.0, 5954.0, 5957.0]</td>\n      <td>[5966.0, 5954.0, 5957.0]</td>\n      <td>[5966.0, 5954.0, 5957.0]</td>\n      <td>100</td>\n      <td>100</td>\n      <td>100</td>\n    </tr>\n    <tr>\n      <th>16</th>\n      <td>[5933.0, 5929.0, 5928.0]</td>\n      <td>[5929.0, 5928.0, 5925.0]</td>\n      <td>[5933.0, 5929.0, 5928.0]</td>\n      <td>67</td>\n      <td>100</td>\n      <td>67</td>\n    </tr>\n    <tr>\n      <th>17</th>\n      <td>[5982.0, 5996.0, 5993.0]</td>\n      <td>[5993.0, 5985.0, 5996.0]</td>\n      <td>[5982.0, 5996.0, 5993.0]</td>\n      <td>67</td>\n      <td>100</td>\n      <td>67</td>\n    </tr>\n    <tr>\n      <th>18</th>\n      <td>[6012.0, 6023.0, 6021.0, 6006.0]</td>\n      <td>[6025.0, 6007.0, 6012.0, 6023.0]</td>\n      <td>[6012.0, 6023.0, 6021.0, 6025.0]</td>\n      <td>50</td>\n      <td>75</td>\n      <td>75</td>\n    </tr>\n    <tr>\n      <th>19</th>\n      <td>[6045.0, 6033.0, 6038.0]</td>\n      <td>[6045.0, 6035.0, 6033.0]</td>\n      <td>[6045.0, 6033.0, 6038.0]</td>\n      <td>67</td>\n      <td>100</td>\n      <td>67</td>\n    </tr>\n    <tr>\n      <th>20</th>\n      <td>[6081.0, 6063.0, 6074.0, 6068.0]</td>\n      <td>[6081.0, 6074.0, 6063.0, 6082.0]</td>\n      <td>[6081.0, 6074.0, 6063.0, 6068.0]</td>\n      <td>75</td>\n      <td>100</td>\n      <td>75</td>\n    </tr>\n  </tbody>\n</table>\n</div>"
     },
     "execution_count": 10,
     "metadata": {},
     "output_type": "execute_result"
    }
   ],
   "source": [
    "# Online Communication Network Data\n",
    "indegree = df_inf_agents[df_inf_agents['Intervention']== 'indegree'].InfluenceAgentsCommunication.reset_index(drop=True)\n",
    "betweenness = df_inf_agents[df_inf_agents['Intervention']== 'betweenness'].InfluenceAgentsCommunication.reset_index(drop=True)\n",
    "closeness = df_inf_agents[df_inf_agents['Intervention']== 'closeness'].InfluenceAgentsCommunication.reset_index(drop=True)\n",
    "\n",
    "ocn = pd.concat([indegree, betweenness, closeness], axis=1)\n",
    "ocn.columns =['In-Degree', 'Betweenness', 'Closeness']\n",
    "\n",
    "ocn['IndegreeBetweenness'] = ocn.apply( lambda row: get_perc_agents(row['In-Degree'], row['Betweenness']), axis=1)\n",
    "ocn['IndegreeCloseness'] = ocn.apply( lambda row: get_perc_agents(row['In-Degree'], row['Closeness']), axis=1)\n",
    "ocn['BetweennessCloseness'] = ocn.apply( lambda row: get_perc_agents(row['Betweenness'], row['Closeness']), axis=1)\n",
    "\n",
    "ocn"
   ],
   "metadata": {
    "collapsed": false,
    "pycharm": {
     "name": "#%%\n"
    }
   }
  },
  {
   "cell_type": "code",
   "execution_count": 11,
   "outputs": [
    {
     "name": "stdout",
     "output_type": "stream",
     "text": [
      "67.14285714285714 83.0 68.38095238095238\n"
     ]
    }
   ],
   "source": [
    "print(ocn['IndegreeBetweenness'].mean(), ocn['IndegreeCloseness'].mean(), ocn['BetweennessCloseness'].mean())\n"
   ],
   "metadata": {
    "collapsed": false,
    "pycharm": {
     "name": "#%%\n"
    }
   }
  },
  {
   "cell_type": "code",
   "execution_count": 12,
   "outputs": [
    {
     "data": {
      "application/vnd.plotly.v1+json": {
       "data": [
        {
         "marker": {
          "color": "blue"
         },
         "name": "Peer-Nomination Network Data",
         "x": [
          67,
          0,
          100,
          0,
          100,
          33,
          0,
          67,
          0,
          0,
          25,
          50,
          67,
          33,
          50,
          33,
          33,
          67,
          25,
          0,
          50
         ],
         "xbins": {
          "size": 1
         },
         "type": "histogram",
         "xaxis": "x",
         "yaxis": "y"
        },
        {
         "marker": {
          "color": "blue"
         },
         "name": "Peer-Nomination Network Data",
         "showlegend": false,
         "x": [
          100,
          100,
          100,
          100,
          100,
          67,
          100,
          67,
          100,
          33,
          100,
          100,
          67,
          100,
          100,
          100,
          100,
          100,
          100,
          100,
          100
         ],
         "xbins": {
          "size": 1
         },
         "type": "histogram",
         "xaxis": "x2",
         "yaxis": "y2"
        },
        {
         "marker": {
          "color": "blue"
         },
         "name": "Peer-Nomination Network Data",
         "showlegend": false,
         "x": [
          67,
          0,
          100,
          0,
          100,
          33,
          0,
          100,
          0,
          0,
          25,
          50,
          67,
          33,
          50,
          33,
          33,
          67,
          25,
          0,
          50
         ],
         "xbins": {
          "size": 1
         },
         "type": "histogram",
         "xaxis": "x3",
         "yaxis": "y3"
        },
        {
         "marker": {
          "color": "red"
         },
         "name": "Online Communication Network Data",
         "x": [
          67,
          67,
          33,
          33,
          100,
          33,
          100,
          67,
          50,
          67,
          50,
          100,
          100,
          67,
          50,
          100,
          67,
          67,
          50,
          67,
          75
         ],
         "xbins": {
          "size": 1
         },
         "type": "histogram",
         "xaxis": "x4",
         "yaxis": "y4"
        },
        {
         "marker": {
          "color": "red"
         },
         "name": "Online Communication Network Data",
         "showlegend": false,
         "x": [
          67,
          67,
          67,
          67,
          100,
          33,
          100,
          67,
          100,
          100,
          100,
          50,
          100,
          100,
          50,
          100,
          100,
          100,
          75,
          100,
          100
         ],
         "xbins": {
          "size": 1
         },
         "type": "histogram",
         "xaxis": "x5",
         "yaxis": "y5"
        },
        {
         "marker": {
          "color": "red"
         },
         "name": "Online Communication Network Data",
         "showlegend": false,
         "x": [
          100,
          67,
          67,
          33,
          100,
          67,
          100,
          67,
          50,
          67,
          50,
          50,
          100,
          67,
          0,
          100,
          67,
          67,
          75,
          67,
          75
         ],
         "xbins": {
          "size": 1
         },
         "type": "histogram",
         "xaxis": "x6",
         "yaxis": "y6"
        }
       ],
       "layout": {
        "template": {
         "data": {
          "histogram2dcontour": [
           {
            "type": "histogram2dcontour",
            "colorbar": {
             "outlinewidth": 0,
             "ticks": ""
            },
            "colorscale": [
             [
              0.0,
              "#0d0887"
             ],
             [
              0.1111111111111111,
              "#46039f"
             ],
             [
              0.2222222222222222,
              "#7201a8"
             ],
             [
              0.3333333333333333,
              "#9c179e"
             ],
             [
              0.4444444444444444,
              "#bd3786"
             ],
             [
              0.5555555555555556,
              "#d8576b"
             ],
             [
              0.6666666666666666,
              "#ed7953"
             ],
             [
              0.7777777777777778,
              "#fb9f3a"
             ],
             [
              0.8888888888888888,
              "#fdca26"
             ],
             [
              1.0,
              "#f0f921"
             ]
            ]
           }
          ],
          "choropleth": [
           {
            "type": "choropleth",
            "colorbar": {
             "outlinewidth": 0,
             "ticks": ""
            }
           }
          ],
          "histogram2d": [
           {
            "type": "histogram2d",
            "colorbar": {
             "outlinewidth": 0,
             "ticks": ""
            },
            "colorscale": [
             [
              0.0,
              "#0d0887"
             ],
             [
              0.1111111111111111,
              "#46039f"
             ],
             [
              0.2222222222222222,
              "#7201a8"
             ],
             [
              0.3333333333333333,
              "#9c179e"
             ],
             [
              0.4444444444444444,
              "#bd3786"
             ],
             [
              0.5555555555555556,
              "#d8576b"
             ],
             [
              0.6666666666666666,
              "#ed7953"
             ],
             [
              0.7777777777777778,
              "#fb9f3a"
             ],
             [
              0.8888888888888888,
              "#fdca26"
             ],
             [
              1.0,
              "#f0f921"
             ]
            ]
           }
          ],
          "heatmap": [
           {
            "type": "heatmap",
            "colorbar": {
             "outlinewidth": 0,
             "ticks": ""
            },
            "colorscale": [
             [
              0.0,
              "#0d0887"
             ],
             [
              0.1111111111111111,
              "#46039f"
             ],
             [
              0.2222222222222222,
              "#7201a8"
             ],
             [
              0.3333333333333333,
              "#9c179e"
             ],
             [
              0.4444444444444444,
              "#bd3786"
             ],
             [
              0.5555555555555556,
              "#d8576b"
             ],
             [
              0.6666666666666666,
              "#ed7953"
             ],
             [
              0.7777777777777778,
              "#fb9f3a"
             ],
             [
              0.8888888888888888,
              "#fdca26"
             ],
             [
              1.0,
              "#f0f921"
             ]
            ]
           }
          ],
          "heatmapgl": [
           {
            "type": "heatmapgl",
            "colorbar": {
             "outlinewidth": 0,
             "ticks": ""
            },
            "colorscale": [
             [
              0.0,
              "#0d0887"
             ],
             [
              0.1111111111111111,
              "#46039f"
             ],
             [
              0.2222222222222222,
              "#7201a8"
             ],
             [
              0.3333333333333333,
              "#9c179e"
             ],
             [
              0.4444444444444444,
              "#bd3786"
             ],
             [
              0.5555555555555556,
              "#d8576b"
             ],
             [
              0.6666666666666666,
              "#ed7953"
             ],
             [
              0.7777777777777778,
              "#fb9f3a"
             ],
             [
              0.8888888888888888,
              "#fdca26"
             ],
             [
              1.0,
              "#f0f921"
             ]
            ]
           }
          ],
          "contourcarpet": [
           {
            "type": "contourcarpet",
            "colorbar": {
             "outlinewidth": 0,
             "ticks": ""
            }
           }
          ],
          "contour": [
           {
            "type": "contour",
            "colorbar": {
             "outlinewidth": 0,
             "ticks": ""
            },
            "colorscale": [
             [
              0.0,
              "#0d0887"
             ],
             [
              0.1111111111111111,
              "#46039f"
             ],
             [
              0.2222222222222222,
              "#7201a8"
             ],
             [
              0.3333333333333333,
              "#9c179e"
             ],
             [
              0.4444444444444444,
              "#bd3786"
             ],
             [
              0.5555555555555556,
              "#d8576b"
             ],
             [
              0.6666666666666666,
              "#ed7953"
             ],
             [
              0.7777777777777778,
              "#fb9f3a"
             ],
             [
              0.8888888888888888,
              "#fdca26"
             ],
             [
              1.0,
              "#f0f921"
             ]
            ]
           }
          ],
          "surface": [
           {
            "type": "surface",
            "colorbar": {
             "outlinewidth": 0,
             "ticks": ""
            },
            "colorscale": [
             [
              0.0,
              "#0d0887"
             ],
             [
              0.1111111111111111,
              "#46039f"
             ],
             [
              0.2222222222222222,
              "#7201a8"
             ],
             [
              0.3333333333333333,
              "#9c179e"
             ],
             [
              0.4444444444444444,
              "#bd3786"
             ],
             [
              0.5555555555555556,
              "#d8576b"
             ],
             [
              0.6666666666666666,
              "#ed7953"
             ],
             [
              0.7777777777777778,
              "#fb9f3a"
             ],
             [
              0.8888888888888888,
              "#fdca26"
             ],
             [
              1.0,
              "#f0f921"
             ]
            ]
           }
          ],
          "mesh3d": [
           {
            "type": "mesh3d",
            "colorbar": {
             "outlinewidth": 0,
             "ticks": ""
            }
           }
          ],
          "scatter": [
           {
            "fillpattern": {
             "fillmode": "overlay",
             "size": 10,
             "solidity": 0.2
            },
            "type": "scatter"
           }
          ],
          "parcoords": [
           {
            "type": "parcoords",
            "line": {
             "colorbar": {
              "outlinewidth": 0,
              "ticks": ""
             }
            }
           }
          ],
          "scatterpolargl": [
           {
            "type": "scatterpolargl",
            "marker": {
             "colorbar": {
              "outlinewidth": 0,
              "ticks": ""
             }
            }
           }
          ],
          "bar": [
           {
            "error_x": {
             "color": "#2a3f5f"
            },
            "error_y": {
             "color": "#2a3f5f"
            },
            "marker": {
             "line": {
              "color": "#E5ECF6",
              "width": 0.5
             },
             "pattern": {
              "fillmode": "overlay",
              "size": 10,
              "solidity": 0.2
             }
            },
            "type": "bar"
           }
          ],
          "scattergeo": [
           {
            "type": "scattergeo",
            "marker": {
             "colorbar": {
              "outlinewidth": 0,
              "ticks": ""
             }
            }
           }
          ],
          "scatterpolar": [
           {
            "type": "scatterpolar",
            "marker": {
             "colorbar": {
              "outlinewidth": 0,
              "ticks": ""
             }
            }
           }
          ],
          "histogram": [
           {
            "marker": {
             "pattern": {
              "fillmode": "overlay",
              "size": 10,
              "solidity": 0.2
             }
            },
            "type": "histogram"
           }
          ],
          "scattergl": [
           {
            "type": "scattergl",
            "marker": {
             "colorbar": {
              "outlinewidth": 0,
              "ticks": ""
             }
            }
           }
          ],
          "scatter3d": [
           {
            "type": "scatter3d",
            "line": {
             "colorbar": {
              "outlinewidth": 0,
              "ticks": ""
             }
            },
            "marker": {
             "colorbar": {
              "outlinewidth": 0,
              "ticks": ""
             }
            }
           }
          ],
          "scattermapbox": [
           {
            "type": "scattermapbox",
            "marker": {
             "colorbar": {
              "outlinewidth": 0,
              "ticks": ""
             }
            }
           }
          ],
          "scatterternary": [
           {
            "type": "scatterternary",
            "marker": {
             "colorbar": {
              "outlinewidth": 0,
              "ticks": ""
             }
            }
           }
          ],
          "scattercarpet": [
           {
            "type": "scattercarpet",
            "marker": {
             "colorbar": {
              "outlinewidth": 0,
              "ticks": ""
             }
            }
           }
          ],
          "carpet": [
           {
            "aaxis": {
             "endlinecolor": "#2a3f5f",
             "gridcolor": "white",
             "linecolor": "white",
             "minorgridcolor": "white",
             "startlinecolor": "#2a3f5f"
            },
            "baxis": {
             "endlinecolor": "#2a3f5f",
             "gridcolor": "white",
             "linecolor": "white",
             "minorgridcolor": "white",
             "startlinecolor": "#2a3f5f"
            },
            "type": "carpet"
           }
          ],
          "table": [
           {
            "cells": {
             "fill": {
              "color": "#EBF0F8"
             },
             "line": {
              "color": "white"
             }
            },
            "header": {
             "fill": {
              "color": "#C8D4E3"
             },
             "line": {
              "color": "white"
             }
            },
            "type": "table"
           }
          ],
          "barpolar": [
           {
            "marker": {
             "line": {
              "color": "#E5ECF6",
              "width": 0.5
             },
             "pattern": {
              "fillmode": "overlay",
              "size": 10,
              "solidity": 0.2
             }
            },
            "type": "barpolar"
           }
          ],
          "pie": [
           {
            "automargin": true,
            "type": "pie"
           }
          ]
         },
         "layout": {
          "autotypenumbers": "strict",
          "colorway": [
           "#636efa",
           "#EF553B",
           "#00cc96",
           "#ab63fa",
           "#FFA15A",
           "#19d3f3",
           "#FF6692",
           "#B6E880",
           "#FF97FF",
           "#FECB52"
          ],
          "font": {
           "color": "#2a3f5f"
          },
          "hovermode": "closest",
          "hoverlabel": {
           "align": "left"
          },
          "paper_bgcolor": "white",
          "plot_bgcolor": "#E5ECF6",
          "polar": {
           "bgcolor": "#E5ECF6",
           "angularaxis": {
            "gridcolor": "white",
            "linecolor": "white",
            "ticks": ""
           },
           "radialaxis": {
            "gridcolor": "white",
            "linecolor": "white",
            "ticks": ""
           }
          },
          "ternary": {
           "bgcolor": "#E5ECF6",
           "aaxis": {
            "gridcolor": "white",
            "linecolor": "white",
            "ticks": ""
           },
           "baxis": {
            "gridcolor": "white",
            "linecolor": "white",
            "ticks": ""
           },
           "caxis": {
            "gridcolor": "white",
            "linecolor": "white",
            "ticks": ""
           }
          },
          "coloraxis": {
           "colorbar": {
            "outlinewidth": 0,
            "ticks": ""
           }
          },
          "colorscale": {
           "sequential": [
            [
             0.0,
             "#0d0887"
            ],
            [
             0.1111111111111111,
             "#46039f"
            ],
            [
             0.2222222222222222,
             "#7201a8"
            ],
            [
             0.3333333333333333,
             "#9c179e"
            ],
            [
             0.4444444444444444,
             "#bd3786"
            ],
            [
             0.5555555555555556,
             "#d8576b"
            ],
            [
             0.6666666666666666,
             "#ed7953"
            ],
            [
             0.7777777777777778,
             "#fb9f3a"
            ],
            [
             0.8888888888888888,
             "#fdca26"
            ],
            [
             1.0,
             "#f0f921"
            ]
           ],
           "sequentialminus": [
            [
             0.0,
             "#0d0887"
            ],
            [
             0.1111111111111111,
             "#46039f"
            ],
            [
             0.2222222222222222,
             "#7201a8"
            ],
            [
             0.3333333333333333,
             "#9c179e"
            ],
            [
             0.4444444444444444,
             "#bd3786"
            ],
            [
             0.5555555555555556,
             "#d8576b"
            ],
            [
             0.6666666666666666,
             "#ed7953"
            ],
            [
             0.7777777777777778,
             "#fb9f3a"
            ],
            [
             0.8888888888888888,
             "#fdca26"
            ],
            [
             1.0,
             "#f0f921"
            ]
           ],
           "diverging": [
            [
             0,
             "#8e0152"
            ],
            [
             0.1,
             "#c51b7d"
            ],
            [
             0.2,
             "#de77ae"
            ],
            [
             0.3,
             "#f1b6da"
            ],
            [
             0.4,
             "#fde0ef"
            ],
            [
             0.5,
             "#f7f7f7"
            ],
            [
             0.6,
             "#e6f5d0"
            ],
            [
             0.7,
             "#b8e186"
            ],
            [
             0.8,
             "#7fbc41"
            ],
            [
             0.9,
             "#4d9221"
            ],
            [
             1,
             "#276419"
            ]
           ]
          },
          "xaxis": {
           "gridcolor": "white",
           "linecolor": "white",
           "ticks": "",
           "title": {
            "standoff": 15
           },
           "zerolinecolor": "white",
           "automargin": true,
           "zerolinewidth": 2
          },
          "yaxis": {
           "gridcolor": "white",
           "linecolor": "white",
           "ticks": "",
           "title": {
            "standoff": 15
           },
           "zerolinecolor": "white",
           "automargin": true,
           "zerolinewidth": 2
          },
          "scene": {
           "xaxis": {
            "backgroundcolor": "#E5ECF6",
            "gridcolor": "white",
            "linecolor": "white",
            "showbackground": true,
            "ticks": "",
            "zerolinecolor": "white",
            "gridwidth": 2
           },
           "yaxis": {
            "backgroundcolor": "#E5ECF6",
            "gridcolor": "white",
            "linecolor": "white",
            "showbackground": true,
            "ticks": "",
            "zerolinecolor": "white",
            "gridwidth": 2
           },
           "zaxis": {
            "backgroundcolor": "#E5ECF6",
            "gridcolor": "white",
            "linecolor": "white",
            "showbackground": true,
            "ticks": "",
            "zerolinecolor": "white",
            "gridwidth": 2
           }
          },
          "shapedefaults": {
           "line": {
            "color": "#2a3f5f"
           }
          },
          "annotationdefaults": {
           "arrowcolor": "#2a3f5f",
           "arrowhead": 0,
           "arrowwidth": 1
          },
          "geo": {
           "bgcolor": "white",
           "landcolor": "#E5ECF6",
           "subunitcolor": "white",
           "showland": true,
           "showlakes": true,
           "lakecolor": "white"
          },
          "title": {
           "x": 0.05
          },
          "mapbox": {
           "style": "light"
          }
         }
        },
        "xaxis": {
         "anchor": "y",
         "domain": [
          0.0,
          0.2888888888888889
         ],
         "range": [
          -1,
          101
         ],
         "tickmode": "linear",
         "tick0": 0,
         "dtick": 10
        },
        "yaxis": {
         "anchor": "x",
         "domain": [
          0.55,
          1.0
         ],
         "range": [
          0,
          20
         ],
         "tickmode": "linear",
         "tick0": 0,
         "dtick": 1
        },
        "xaxis2": {
         "anchor": "y2",
         "domain": [
          0.35555555555555557,
          0.6444444444444445
         ],
         "range": [
          -1,
          101
         ],
         "tickmode": "linear",
         "tick0": 0,
         "dtick": 10
        },
        "yaxis2": {
         "anchor": "x2",
         "domain": [
          0.55,
          1.0
         ],
         "range": [
          0,
          20
         ],
         "tickmode": "linear",
         "tick0": 0,
         "dtick": 1
        },
        "xaxis3": {
         "anchor": "y3",
         "domain": [
          0.7111111111111111,
          1.0
         ],
         "range": [
          -1,
          101
         ],
         "tickmode": "linear",
         "tick0": 0,
         "dtick": 10
        },
        "yaxis3": {
         "anchor": "x3",
         "domain": [
          0.55,
          1.0
         ],
         "range": [
          0,
          20
         ],
         "tickmode": "linear",
         "tick0": 0,
         "dtick": 1
        },
        "xaxis4": {
         "anchor": "y4",
         "domain": [
          0.0,
          0.2888888888888889
         ],
         "range": [
          -1,
          101
         ],
         "tickmode": "linear",
         "tick0": 0,
         "dtick": 10
        },
        "yaxis4": {
         "anchor": "x4",
         "domain": [
          0.0,
          0.45
         ],
         "range": [
          0,
          20
         ],
         "tickmode": "linear",
         "tick0": 0,
         "dtick": 1
        },
        "xaxis5": {
         "anchor": "y5",
         "domain": [
          0.35555555555555557,
          0.6444444444444445
         ],
         "range": [
          -1,
          101
         ],
         "tickmode": "linear",
         "tick0": 0,
         "dtick": 10
        },
        "yaxis5": {
         "anchor": "x5",
         "domain": [
          0.0,
          0.45
         ],
         "range": [
          0,
          20
         ],
         "tickmode": "linear",
         "tick0": 0,
         "dtick": 1
        },
        "xaxis6": {
         "anchor": "y6",
         "domain": [
          0.7111111111111111,
          1.0
         ],
         "range": [
          -1,
          101
         ],
         "tickmode": "linear",
         "tick0": 0,
         "dtick": 10
        },
        "yaxis6": {
         "anchor": "x6",
         "domain": [
          0.0,
          0.45
         ],
         "range": [
          0,
          20
         ],
         "tickmode": "linear",
         "tick0": 0,
         "dtick": 1
        },
        "annotations": [
         {
          "font": {
           "size": 16
          },
          "showarrow": false,
          "text": "A. In-degree vs. Betweenness",
          "x": 0.14444444444444446,
          "xanchor": "center",
          "xref": "paper",
          "y": 1.0,
          "yanchor": "bottom",
          "yref": "paper"
         },
         {
          "font": {
           "size": 16
          },
          "showarrow": false,
          "text": "B. In-degree vs. Closenessness",
          "x": 0.5,
          "xanchor": "center",
          "xref": "paper",
          "y": 1.0,
          "yanchor": "bottom",
          "yref": "paper"
         },
         {
          "font": {
           "size": 16
          },
          "showarrow": false,
          "text": "C. Betweenness vs. Closeness",
          "x": 0.8555555555555556,
          "xanchor": "center",
          "xref": "paper",
          "y": 1.0,
          "yanchor": "bottom",
          "yref": "paper"
         },
         {
          "font": {
           "size": 16
          },
          "showarrow": false,
          "text": "D. In-degree vs. Betweenness",
          "x": 0.14444444444444446,
          "xanchor": "center",
          "xref": "paper",
          "y": 0.45,
          "yanchor": "bottom",
          "yref": "paper"
         },
         {
          "font": {
           "size": 16
          },
          "showarrow": false,
          "text": "E. In-degree vs. Closenessness",
          "x": 0.5,
          "xanchor": "center",
          "xref": "paper",
          "y": 0.45,
          "yanchor": "bottom",
          "yref": "paper"
         },
         {
          "font": {
           "size": 16
          },
          "showarrow": false,
          "text": "F. Betweenness vs. Closeness",
          "x": 0.8555555555555556,
          "xanchor": "center",
          "xref": "paper",
          "y": 0.45,
          "yanchor": "bottom",
          "yref": "paper"
         },
         {
          "font": {
           "size": 16
          },
          "showarrow": false,
          "text": "Percentage of Similar Influential Agents Selected (%)",
          "x": 0.5,
          "xanchor": "center",
          "xref": "paper",
          "y": 0,
          "yanchor": "top",
          "yref": "paper",
          "yshift": -30
         },
         {
          "font": {
           "size": 16
          },
          "showarrow": false,
          "text": "Number of Classes",
          "textangle": -90,
          "x": 0,
          "xanchor": "right",
          "xref": "paper",
          "xshift": -40,
          "y": 0.5,
          "yanchor": "middle",
          "yref": "paper"
         }
        ],
        "margin": {
         "l": 60,
         "r": 20,
         "t": 80,
         "b": 60
        },
        "legend": {
         "orientation": "h"
        },
        "width": 1000,
        "height": 1000
       },
       "config": {
        "plotlyServerURL": "https://plot.ly"
       }
      },
      "text/html": "<div>                            <div id=\"6dde3682-33fe-41bd-a1c8-1d18d7a9e45d\" class=\"plotly-graph-div\" style=\"height:1000px; width:1000px;\"></div>            <script type=\"text/javascript\">                require([\"plotly\"], function(Plotly) {                    window.PLOTLYENV=window.PLOTLYENV || {};                                    if (document.getElementById(\"6dde3682-33fe-41bd-a1c8-1d18d7a9e45d\")) {                    Plotly.newPlot(                        \"6dde3682-33fe-41bd-a1c8-1d18d7a9e45d\",                        [{\"marker\":{\"color\":\"blue\"},\"name\":\"Peer-Nomination Network Data\",\"x\":[67,0,100,0,100,33,0,67,0,0,25,50,67,33,50,33,33,67,25,0,50],\"xbins\":{\"size\":1},\"type\":\"histogram\",\"xaxis\":\"x\",\"yaxis\":\"y\"},{\"marker\":{\"color\":\"blue\"},\"name\":\"Peer-Nomination Network Data\",\"showlegend\":false,\"x\":[100,100,100,100,100,67,100,67,100,33,100,100,67,100,100,100,100,100,100,100,100],\"xbins\":{\"size\":1},\"type\":\"histogram\",\"xaxis\":\"x2\",\"yaxis\":\"y2\"},{\"marker\":{\"color\":\"blue\"},\"name\":\"Peer-Nomination Network Data\",\"showlegend\":false,\"x\":[67,0,100,0,100,33,0,100,0,0,25,50,67,33,50,33,33,67,25,0,50],\"xbins\":{\"size\":1},\"type\":\"histogram\",\"xaxis\":\"x3\",\"yaxis\":\"y3\"},{\"marker\":{\"color\":\"red\"},\"name\":\"Online Communication Network Data\",\"x\":[67,67,33,33,100,33,100,67,50,67,50,100,100,67,50,100,67,67,50,67,75],\"xbins\":{\"size\":1},\"type\":\"histogram\",\"xaxis\":\"x4\",\"yaxis\":\"y4\"},{\"marker\":{\"color\":\"red\"},\"name\":\"Online Communication Network Data\",\"showlegend\":false,\"x\":[67,67,67,67,100,33,100,67,100,100,100,50,100,100,50,100,100,100,75,100,100],\"xbins\":{\"size\":1},\"type\":\"histogram\",\"xaxis\":\"x5\",\"yaxis\":\"y5\"},{\"marker\":{\"color\":\"red\"},\"name\":\"Online Communication Network Data\",\"showlegend\":false,\"x\":[100,67,67,33,100,67,100,67,50,67,50,50,100,67,0,100,67,67,75,67,75],\"xbins\":{\"size\":1},\"type\":\"histogram\",\"xaxis\":\"x6\",\"yaxis\":\"y6\"}],                        {\"template\":{\"data\":{\"histogram2dcontour\":[{\"type\":\"histogram2dcontour\",\"colorbar\":{\"outlinewidth\":0,\"ticks\":\"\"},\"colorscale\":[[0.0,\"#0d0887\"],[0.1111111111111111,\"#46039f\"],[0.2222222222222222,\"#7201a8\"],[0.3333333333333333,\"#9c179e\"],[0.4444444444444444,\"#bd3786\"],[0.5555555555555556,\"#d8576b\"],[0.6666666666666666,\"#ed7953\"],[0.7777777777777778,\"#fb9f3a\"],[0.8888888888888888,\"#fdca26\"],[1.0,\"#f0f921\"]]}],\"choropleth\":[{\"type\":\"choropleth\",\"colorbar\":{\"outlinewidth\":0,\"ticks\":\"\"}}],\"histogram2d\":[{\"type\":\"histogram2d\",\"colorbar\":{\"outlinewidth\":0,\"ticks\":\"\"},\"colorscale\":[[0.0,\"#0d0887\"],[0.1111111111111111,\"#46039f\"],[0.2222222222222222,\"#7201a8\"],[0.3333333333333333,\"#9c179e\"],[0.4444444444444444,\"#bd3786\"],[0.5555555555555556,\"#d8576b\"],[0.6666666666666666,\"#ed7953\"],[0.7777777777777778,\"#fb9f3a\"],[0.8888888888888888,\"#fdca26\"],[1.0,\"#f0f921\"]]}],\"heatmap\":[{\"type\":\"heatmap\",\"colorbar\":{\"outlinewidth\":0,\"ticks\":\"\"},\"colorscale\":[[0.0,\"#0d0887\"],[0.1111111111111111,\"#46039f\"],[0.2222222222222222,\"#7201a8\"],[0.3333333333333333,\"#9c179e\"],[0.4444444444444444,\"#bd3786\"],[0.5555555555555556,\"#d8576b\"],[0.6666666666666666,\"#ed7953\"],[0.7777777777777778,\"#fb9f3a\"],[0.8888888888888888,\"#fdca26\"],[1.0,\"#f0f921\"]]}],\"heatmapgl\":[{\"type\":\"heatmapgl\",\"colorbar\":{\"outlinewidth\":0,\"ticks\":\"\"},\"colorscale\":[[0.0,\"#0d0887\"],[0.1111111111111111,\"#46039f\"],[0.2222222222222222,\"#7201a8\"],[0.3333333333333333,\"#9c179e\"],[0.4444444444444444,\"#bd3786\"],[0.5555555555555556,\"#d8576b\"],[0.6666666666666666,\"#ed7953\"],[0.7777777777777778,\"#fb9f3a\"],[0.8888888888888888,\"#fdca26\"],[1.0,\"#f0f921\"]]}],\"contourcarpet\":[{\"type\":\"contourcarpet\",\"colorbar\":{\"outlinewidth\":0,\"ticks\":\"\"}}],\"contour\":[{\"type\":\"contour\",\"colorbar\":{\"outlinewidth\":0,\"ticks\":\"\"},\"colorscale\":[[0.0,\"#0d0887\"],[0.1111111111111111,\"#46039f\"],[0.2222222222222222,\"#7201a8\"],[0.3333333333333333,\"#9c179e\"],[0.4444444444444444,\"#bd3786\"],[0.5555555555555556,\"#d8576b\"],[0.6666666666666666,\"#ed7953\"],[0.7777777777777778,\"#fb9f3a\"],[0.8888888888888888,\"#fdca26\"],[1.0,\"#f0f921\"]]}],\"surface\":[{\"type\":\"surface\",\"colorbar\":{\"outlinewidth\":0,\"ticks\":\"\"},\"colorscale\":[[0.0,\"#0d0887\"],[0.1111111111111111,\"#46039f\"],[0.2222222222222222,\"#7201a8\"],[0.3333333333333333,\"#9c179e\"],[0.4444444444444444,\"#bd3786\"],[0.5555555555555556,\"#d8576b\"],[0.6666666666666666,\"#ed7953\"],[0.7777777777777778,\"#fb9f3a\"],[0.8888888888888888,\"#fdca26\"],[1.0,\"#f0f921\"]]}],\"mesh3d\":[{\"type\":\"mesh3d\",\"colorbar\":{\"outlinewidth\":0,\"ticks\":\"\"}}],\"scatter\":[{\"fillpattern\":{\"fillmode\":\"overlay\",\"size\":10,\"solidity\":0.2},\"type\":\"scatter\"}],\"parcoords\":[{\"type\":\"parcoords\",\"line\":{\"colorbar\":{\"outlinewidth\":0,\"ticks\":\"\"}}}],\"scatterpolargl\":[{\"type\":\"scatterpolargl\",\"marker\":{\"colorbar\":{\"outlinewidth\":0,\"ticks\":\"\"}}}],\"bar\":[{\"error_x\":{\"color\":\"#2a3f5f\"},\"error_y\":{\"color\":\"#2a3f5f\"},\"marker\":{\"line\":{\"color\":\"#E5ECF6\",\"width\":0.5},\"pattern\":{\"fillmode\":\"overlay\",\"size\":10,\"solidity\":0.2}},\"type\":\"bar\"}],\"scattergeo\":[{\"type\":\"scattergeo\",\"marker\":{\"colorbar\":{\"outlinewidth\":0,\"ticks\":\"\"}}}],\"scatterpolar\":[{\"type\":\"scatterpolar\",\"marker\":{\"colorbar\":{\"outlinewidth\":0,\"ticks\":\"\"}}}],\"histogram\":[{\"marker\":{\"pattern\":{\"fillmode\":\"overlay\",\"size\":10,\"solidity\":0.2}},\"type\":\"histogram\"}],\"scattergl\":[{\"type\":\"scattergl\",\"marker\":{\"colorbar\":{\"outlinewidth\":0,\"ticks\":\"\"}}}],\"scatter3d\":[{\"type\":\"scatter3d\",\"line\":{\"colorbar\":{\"outlinewidth\":0,\"ticks\":\"\"}},\"marker\":{\"colorbar\":{\"outlinewidth\":0,\"ticks\":\"\"}}}],\"scattermapbox\":[{\"type\":\"scattermapbox\",\"marker\":{\"colorbar\":{\"outlinewidth\":0,\"ticks\":\"\"}}}],\"scatterternary\":[{\"type\":\"scatterternary\",\"marker\":{\"colorbar\":{\"outlinewidth\":0,\"ticks\":\"\"}}}],\"scattercarpet\":[{\"type\":\"scattercarpet\",\"marker\":{\"colorbar\":{\"outlinewidth\":0,\"ticks\":\"\"}}}],\"carpet\":[{\"aaxis\":{\"endlinecolor\":\"#2a3f5f\",\"gridcolor\":\"white\",\"linecolor\":\"white\",\"minorgridcolor\":\"white\",\"startlinecolor\":\"#2a3f5f\"},\"baxis\":{\"endlinecolor\":\"#2a3f5f\",\"gridcolor\":\"white\",\"linecolor\":\"white\",\"minorgridcolor\":\"white\",\"startlinecolor\":\"#2a3f5f\"},\"type\":\"carpet\"}],\"table\":[{\"cells\":{\"fill\":{\"color\":\"#EBF0F8\"},\"line\":{\"color\":\"white\"}},\"header\":{\"fill\":{\"color\":\"#C8D4E3\"},\"line\":{\"color\":\"white\"}},\"type\":\"table\"}],\"barpolar\":[{\"marker\":{\"line\":{\"color\":\"#E5ECF6\",\"width\":0.5},\"pattern\":{\"fillmode\":\"overlay\",\"size\":10,\"solidity\":0.2}},\"type\":\"barpolar\"}],\"pie\":[{\"automargin\":true,\"type\":\"pie\"}]},\"layout\":{\"autotypenumbers\":\"strict\",\"colorway\":[\"#636efa\",\"#EF553B\",\"#00cc96\",\"#ab63fa\",\"#FFA15A\",\"#19d3f3\",\"#FF6692\",\"#B6E880\",\"#FF97FF\",\"#FECB52\"],\"font\":{\"color\":\"#2a3f5f\"},\"hovermode\":\"closest\",\"hoverlabel\":{\"align\":\"left\"},\"paper_bgcolor\":\"white\",\"plot_bgcolor\":\"#E5ECF6\",\"polar\":{\"bgcolor\":\"#E5ECF6\",\"angularaxis\":{\"gridcolor\":\"white\",\"linecolor\":\"white\",\"ticks\":\"\"},\"radialaxis\":{\"gridcolor\":\"white\",\"linecolor\":\"white\",\"ticks\":\"\"}},\"ternary\":{\"bgcolor\":\"#E5ECF6\",\"aaxis\":{\"gridcolor\":\"white\",\"linecolor\":\"white\",\"ticks\":\"\"},\"baxis\":{\"gridcolor\":\"white\",\"linecolor\":\"white\",\"ticks\":\"\"},\"caxis\":{\"gridcolor\":\"white\",\"linecolor\":\"white\",\"ticks\":\"\"}},\"coloraxis\":{\"colorbar\":{\"outlinewidth\":0,\"ticks\":\"\"}},\"colorscale\":{\"sequential\":[[0.0,\"#0d0887\"],[0.1111111111111111,\"#46039f\"],[0.2222222222222222,\"#7201a8\"],[0.3333333333333333,\"#9c179e\"],[0.4444444444444444,\"#bd3786\"],[0.5555555555555556,\"#d8576b\"],[0.6666666666666666,\"#ed7953\"],[0.7777777777777778,\"#fb9f3a\"],[0.8888888888888888,\"#fdca26\"],[1.0,\"#f0f921\"]],\"sequentialminus\":[[0.0,\"#0d0887\"],[0.1111111111111111,\"#46039f\"],[0.2222222222222222,\"#7201a8\"],[0.3333333333333333,\"#9c179e\"],[0.4444444444444444,\"#bd3786\"],[0.5555555555555556,\"#d8576b\"],[0.6666666666666666,\"#ed7953\"],[0.7777777777777778,\"#fb9f3a\"],[0.8888888888888888,\"#fdca26\"],[1.0,\"#f0f921\"]],\"diverging\":[[0,\"#8e0152\"],[0.1,\"#c51b7d\"],[0.2,\"#de77ae\"],[0.3,\"#f1b6da\"],[0.4,\"#fde0ef\"],[0.5,\"#f7f7f7\"],[0.6,\"#e6f5d0\"],[0.7,\"#b8e186\"],[0.8,\"#7fbc41\"],[0.9,\"#4d9221\"],[1,\"#276419\"]]},\"xaxis\":{\"gridcolor\":\"white\",\"linecolor\":\"white\",\"ticks\":\"\",\"title\":{\"standoff\":15},\"zerolinecolor\":\"white\",\"automargin\":true,\"zerolinewidth\":2},\"yaxis\":{\"gridcolor\":\"white\",\"linecolor\":\"white\",\"ticks\":\"\",\"title\":{\"standoff\":15},\"zerolinecolor\":\"white\",\"automargin\":true,\"zerolinewidth\":2},\"scene\":{\"xaxis\":{\"backgroundcolor\":\"#E5ECF6\",\"gridcolor\":\"white\",\"linecolor\":\"white\",\"showbackground\":true,\"ticks\":\"\",\"zerolinecolor\":\"white\",\"gridwidth\":2},\"yaxis\":{\"backgroundcolor\":\"#E5ECF6\",\"gridcolor\":\"white\",\"linecolor\":\"white\",\"showbackground\":true,\"ticks\":\"\",\"zerolinecolor\":\"white\",\"gridwidth\":2},\"zaxis\":{\"backgroundcolor\":\"#E5ECF6\",\"gridcolor\":\"white\",\"linecolor\":\"white\",\"showbackground\":true,\"ticks\":\"\",\"zerolinecolor\":\"white\",\"gridwidth\":2}},\"shapedefaults\":{\"line\":{\"color\":\"#2a3f5f\"}},\"annotationdefaults\":{\"arrowcolor\":\"#2a3f5f\",\"arrowhead\":0,\"arrowwidth\":1},\"geo\":{\"bgcolor\":\"white\",\"landcolor\":\"#E5ECF6\",\"subunitcolor\":\"white\",\"showland\":true,\"showlakes\":true,\"lakecolor\":\"white\"},\"title\":{\"x\":0.05},\"mapbox\":{\"style\":\"light\"}}},\"xaxis\":{\"anchor\":\"y\",\"domain\":[0.0,0.2888888888888889],\"range\":[-1,101],\"tickmode\":\"linear\",\"tick0\":0,\"dtick\":10},\"yaxis\":{\"anchor\":\"x\",\"domain\":[0.55,1.0],\"range\":[0,20],\"tickmode\":\"linear\",\"tick0\":0,\"dtick\":1},\"xaxis2\":{\"anchor\":\"y2\",\"domain\":[0.35555555555555557,0.6444444444444445],\"range\":[-1,101],\"tickmode\":\"linear\",\"tick0\":0,\"dtick\":10},\"yaxis2\":{\"anchor\":\"x2\",\"domain\":[0.55,1.0],\"range\":[0,20],\"tickmode\":\"linear\",\"tick0\":0,\"dtick\":1},\"xaxis3\":{\"anchor\":\"y3\",\"domain\":[0.7111111111111111,1.0],\"range\":[-1,101],\"tickmode\":\"linear\",\"tick0\":0,\"dtick\":10},\"yaxis3\":{\"anchor\":\"x3\",\"domain\":[0.55,1.0],\"range\":[0,20],\"tickmode\":\"linear\",\"tick0\":0,\"dtick\":1},\"xaxis4\":{\"anchor\":\"y4\",\"domain\":[0.0,0.2888888888888889],\"range\":[-1,101],\"tickmode\":\"linear\",\"tick0\":0,\"dtick\":10},\"yaxis4\":{\"anchor\":\"x4\",\"domain\":[0.0,0.45],\"range\":[0,20],\"tickmode\":\"linear\",\"tick0\":0,\"dtick\":1},\"xaxis5\":{\"anchor\":\"y5\",\"domain\":[0.35555555555555557,0.6444444444444445],\"range\":[-1,101],\"tickmode\":\"linear\",\"tick0\":0,\"dtick\":10},\"yaxis5\":{\"anchor\":\"x5\",\"domain\":[0.0,0.45],\"range\":[0,20],\"tickmode\":\"linear\",\"tick0\":0,\"dtick\":1},\"xaxis6\":{\"anchor\":\"y6\",\"domain\":[0.7111111111111111,1.0],\"range\":[-1,101],\"tickmode\":\"linear\",\"tick0\":0,\"dtick\":10},\"yaxis6\":{\"anchor\":\"x6\",\"domain\":[0.0,0.45],\"range\":[0,20],\"tickmode\":\"linear\",\"tick0\":0,\"dtick\":1},\"annotations\":[{\"font\":{\"size\":16},\"showarrow\":false,\"text\":\"A. In-degree vs. Betweenness\",\"x\":0.14444444444444446,\"xanchor\":\"center\",\"xref\":\"paper\",\"y\":1.0,\"yanchor\":\"bottom\",\"yref\":\"paper\"},{\"font\":{\"size\":16},\"showarrow\":false,\"text\":\"B. In-degree vs. Closenessness\",\"x\":0.5,\"xanchor\":\"center\",\"xref\":\"paper\",\"y\":1.0,\"yanchor\":\"bottom\",\"yref\":\"paper\"},{\"font\":{\"size\":16},\"showarrow\":false,\"text\":\"C. Betweenness vs. Closeness\",\"x\":0.8555555555555556,\"xanchor\":\"center\",\"xref\":\"paper\",\"y\":1.0,\"yanchor\":\"bottom\",\"yref\":\"paper\"},{\"font\":{\"size\":16},\"showarrow\":false,\"text\":\"D. In-degree vs. Betweenness\",\"x\":0.14444444444444446,\"xanchor\":\"center\",\"xref\":\"paper\",\"y\":0.45,\"yanchor\":\"bottom\",\"yref\":\"paper\"},{\"font\":{\"size\":16},\"showarrow\":false,\"text\":\"E. In-degree vs. Closenessness\",\"x\":0.5,\"xanchor\":\"center\",\"xref\":\"paper\",\"y\":0.45,\"yanchor\":\"bottom\",\"yref\":\"paper\"},{\"font\":{\"size\":16},\"showarrow\":false,\"text\":\"F. Betweenness vs. Closeness\",\"x\":0.8555555555555556,\"xanchor\":\"center\",\"xref\":\"paper\",\"y\":0.45,\"yanchor\":\"bottom\",\"yref\":\"paper\"},{\"font\":{\"size\":16},\"showarrow\":false,\"text\":\"Percentage of Similar Influential Agents Selected (%)\",\"x\":0.5,\"xanchor\":\"center\",\"xref\":\"paper\",\"y\":0,\"yanchor\":\"top\",\"yref\":\"paper\",\"yshift\":-30},{\"font\":{\"size\":16},\"showarrow\":false,\"text\":\"Number of Classes\",\"textangle\":-90,\"x\":0,\"xanchor\":\"right\",\"xref\":\"paper\",\"xshift\":-40,\"y\":0.5,\"yanchor\":\"middle\",\"yref\":\"paper\"}],\"margin\":{\"l\":60,\"r\":20,\"t\":80,\"b\":60},\"legend\":{\"orientation\":\"h\"},\"width\":1000,\"height\":1000},                        {\"responsive\": true}                    ).then(function(){\n                            \nvar gd = document.getElementById('6dde3682-33fe-41bd-a1c8-1d18d7a9e45d');\nvar x = new MutationObserver(function (mutations, observer) {{\n        var display = window.getComputedStyle(gd).display;\n        if (!display || display === 'none') {{\n            console.log([gd, 'removed!']);\n            Plotly.purge(gd);\n            observer.disconnect();\n        }}\n}});\n\n// Listen for the removal of the full notebook cells\nvar notebookContainer = gd.closest('#notebook-container');\nif (notebookContainer) {{\n    x.observe(notebookContainer, {childList: true});\n}}\n\n// Listen for the clearing of the current output cell\nvar outputEl = gd.closest('.output');\nif (outputEl) {{\n    x.observe(outputEl, {childList: true});\n}}\n\n                        })                };                });            </script>        </div>"
     },
     "metadata": {},
     "output_type": "display_data"
    }
   ],
   "source": [
    "# Figure\n",
    "fig = go.Figure()\n",
    "fig = make_subplots(rows=2, cols=3,\n",
    "                    x_title='Percentage of Similar Influential Agents Selected (%)',\n",
    "                    y_title='Number of Classes',\n",
    "                    subplot_titles=('A. In-degree vs. Betweenness',\n",
    "                                    'B. In-degree vs. Closenessness',\n",
    "                                    'C. Betweenness vs. Closeness',\n",
    "                                    'D. In-degree vs. Betweenness',\n",
    "                                    'E. In-degree vs. Closenessness',\n",
    "                                    'F. Betweenness vs. Closeness'),\n",
    "                                    vertical_spacing = 0.1)\n",
    "fig.add_trace(go.Histogram(x=pnn['IndegreeBetweenness'],\n",
    "                           name='Peer-Nomination Network Data',\n",
    "                           xbins=dict(size=1),\n",
    "                           marker_color='blue'),\n",
    "              row=1, col=1)\n",
    "fig.add_trace(go.Histogram(x=pnn['IndegreeCloseness'],\n",
    "                           name='Peer-Nomination Network Data',\n",
    "                           showlegend=False,\n",
    "                           xbins=dict(size=1),\n",
    "                           marker_color='blue'),\n",
    "              row=1, col=2)\n",
    "fig.add_trace(go.Histogram(x=pnn['BetweennessCloseness'],\n",
    "                           name='Peer-Nomination Network Data',\n",
    "                           showlegend=False,\n",
    "                           xbins=dict(size=1),\n",
    "                           marker_color='blue'),\n",
    "              row=1, col=3)\n",
    "fig.add_trace(go.Histogram(x=ocn['IndegreeBetweenness'],\n",
    "                           name='Online Communication Network Data',\n",
    "                           xbins=dict(size=1),\n",
    "                           marker_color='red'),\n",
    "              row=2, col=1)\n",
    "fig.add_trace(go.Histogram(x=ocn['IndegreeCloseness'],\n",
    "                           name='Online Communication Network Data',\n",
    "                           showlegend=False,\n",
    "                           xbins=dict(size=1),\n",
    "                           marker_color='red'),\n",
    "              row=2, col=2)\n",
    "fig.add_trace(go.Histogram(x=ocn['BetweennessCloseness'],\n",
    "                           name='Online Communication Network Data',\n",
    "                           showlegend=False,\n",
    "                           xbins=dict(size=1),\n",
    "                           marker_color='red'),\n",
    "              row=2, col=3)\n",
    "\n",
    "# Combine histograms\n",
    "fig.update_layout(width=1000, height=1000,\n",
    "                  xaxis1 = dict({'range': [-1, 101]}, tickmode = 'linear', tick0=0, dtick=10),\n",
    "                  xaxis2 = dict({'range': [-1, 101]}, tickmode = 'linear', tick0=0, dtick=10),\n",
    "                  xaxis3 = dict({'range': [-1, 101]}, tickmode = 'linear', tick0=0, dtick=10),\n",
    "                  xaxis4 = dict({'range': [-1, 101]}, tickmode = 'linear', tick0=0, dtick=10),\n",
    "                  xaxis5 = dict({'range': [-1, 101]}, tickmode = 'linear', tick0=0, dtick=10),\n",
    "                  xaxis6 = dict({'range': [-1, 101]}, tickmode = 'linear', tick0=0, dtick=10),\n",
    "                  yaxis1 = dict({'range': [0, 20]}, tickmode = 'linear', tick0=0, dtick=1),\n",
    "                  yaxis2 = dict({'range': [0, 20]}, tickmode = 'linear', tick0=0, dtick=1),\n",
    "                  yaxis3 = dict({'range': [0, 20]}, tickmode = 'linear', tick0=0, dtick=1),\n",
    "                  yaxis4 = dict({'range': [0, 20]}, tickmode = 'linear', tick0=0, dtick=1),\n",
    "                  yaxis5 = dict({'range': [0, 20]}, tickmode = 'linear', tick0=0, dtick=1),\n",
    "                  yaxis6 = dict({'range': [0, 20]}, tickmode = 'linear', tick0=0, dtick=1),\n",
    "                  margin=dict(l=60, r=20, t=80, b=60),\n",
    "                  legend=dict(orientation='h')\n",
    "                  )\n",
    "fig.show()\n"
   ],
   "metadata": {
    "collapsed": false,
    "pycharm": {
     "name": "#%%\n"
    }
   }
  },
  {
   "cell_type": "code",
   "execution_count": 13,
   "outputs": [],
   "source": [
    "fig.write_image('../output/plots/SimilarInfluencers2.jpg', width=1000, height=1000)"
   ],
   "metadata": {
    "collapsed": false,
    "pycharm": {
     "name": "#%%\n"
    }
   }
  },
  {
   "cell_type": "code",
   "execution_count": null,
   "outputs": [],
   "source": [],
   "metadata": {
    "collapsed": false,
    "pycharm": {
     "name": "#%%\n"
    }
   }
  }
 ],
 "metadata": {
  "kernelspec": {
   "display_name": "Python 3",
   "language": "python",
   "name": "python3"
  },
  "language_info": {
   "codemirror_mode": {
    "name": "ipython",
    "version": 2
   },
   "file_extension": ".py",
   "mimetype": "text/x-python",
   "name": "python",
   "nbconvert_exporter": "python",
   "pygments_lexer": "ipython2",
   "version": "2.7.6"
  }
 },
 "nbformat": 4,
 "nbformat_minor": 0
}