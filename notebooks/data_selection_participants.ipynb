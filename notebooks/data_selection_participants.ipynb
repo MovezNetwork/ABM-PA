{
 "cells": [
  {
   "cell_type": "code",
   "execution_count": 11,
   "metadata": {
    "collapsed": true
   },
   "outputs": [],
   "source": [
    "import pandas as pd\n",
    "import numpy as np\n",
    "import matplotlib.pyplot as plt\n",
    "import json"
   ]
  },
  {
   "cell_type": "code",
   "execution_count": 2,
   "outputs": [
    {
     "name": "stderr",
     "output_type": "stream",
     "text": [
      "/Users/davidblok/.pyenv/versions/3.7.0/lib/python3.7/site-packages/IPython/core/interactiveshell.py:3257: DtypeWarning: Columns (22) have mixed types.Specify dtype option on import or set low_memory=False.\n",
      "  interactivity=interactivity, compiler=compiler, result=result)\n"
     ]
    },
    {
     "data": {
      "text/plain": "   Participant  School  Class   Child  Gender   Age   PI       Date   Time  \\\n0   3410302337    34.0  103.0  2337.0     0.0  11.0  7.0   9-3-2018  12:23   \n15  3410302337    34.0  103.0  2337.0     0.0  11.0  7.0  10-3-2018  14:50   \n16  3410302337    34.0  103.0  2337.0     0.0  11.0  7.0  10-3-2018  14:50   \n38  3410302341    34.0  103.0  2341.0     1.0  12.0  0.0   9-3-2018  10:00   \n45  3410302341    34.0  103.0  2341.0     1.0  12.0  0.0   9-3-2018  12:26   \n\n      UMID  ...  ShareSource SharedVia Number_likes  Unnamed: 23  Unnamed: 24  \\\n0   102371  ...          NaN       NaN            0          NaN          NaN   \n15  107068  ...          NaN       NaN            0          NaN          NaN   \n16  107069  ...          NaN       NaN            0          NaN          NaN   \n38  101555  ...          NaN       NaN            0          NaN          NaN   \n45  102431  ...          NaN       NaN            0          NaN          NaN   \n\n   Unnamed: 25 Unnamed: 26  Unnamed: 27  Unnamed: 28  Unnamed: 29  \n0          NaN         NaN          NaN          NaN          NaN  \n15         NaN         NaN          NaN          NaN          NaN  \n16         NaN         NaN          NaN          NaN          NaN  \n38         NaN         NaN          NaN          NaN          NaN  \n45         NaN         NaN          NaN          NaN          NaN  \n\n[5 rows x 30 columns]",
      "text/html": "<div>\n<style scoped>\n    .dataframe tbody tr th:only-of-type {\n        vertical-align: middle;\n    }\n\n    .dataframe tbody tr th {\n        vertical-align: top;\n    }\n\n    .dataframe thead th {\n        text-align: right;\n    }\n</style>\n<table border=\"1\" class=\"dataframe\">\n  <thead>\n    <tr style=\"text-align: right;\">\n      <th></th>\n      <th>Participant</th>\n      <th>School</th>\n      <th>Class</th>\n      <th>Child</th>\n      <th>Gender</th>\n      <th>Age</th>\n      <th>PI</th>\n      <th>Date</th>\n      <th>Time</th>\n      <th>UMID</th>\n      <th>...</th>\n      <th>ShareSource</th>\n      <th>SharedVia</th>\n      <th>Number_likes</th>\n      <th>Unnamed: 23</th>\n      <th>Unnamed: 24</th>\n      <th>Unnamed: 25</th>\n      <th>Unnamed: 26</th>\n      <th>Unnamed: 27</th>\n      <th>Unnamed: 28</th>\n      <th>Unnamed: 29</th>\n    </tr>\n  </thead>\n  <tbody>\n    <tr>\n      <th>0</th>\n      <td>3410302337</td>\n      <td>34.0</td>\n      <td>103.0</td>\n      <td>2337.0</td>\n      <td>0.0</td>\n      <td>11.0</td>\n      <td>7.0</td>\n      <td>9-3-2018</td>\n      <td>12:23</td>\n      <td>102371</td>\n      <td>...</td>\n      <td>NaN</td>\n      <td>NaN</td>\n      <td>0</td>\n      <td>NaN</td>\n      <td>NaN</td>\n      <td>NaN</td>\n      <td>NaN</td>\n      <td>NaN</td>\n      <td>NaN</td>\n      <td>NaN</td>\n    </tr>\n    <tr>\n      <th>15</th>\n      <td>3410302337</td>\n      <td>34.0</td>\n      <td>103.0</td>\n      <td>2337.0</td>\n      <td>0.0</td>\n      <td>11.0</td>\n      <td>7.0</td>\n      <td>10-3-2018</td>\n      <td>14:50</td>\n      <td>107068</td>\n      <td>...</td>\n      <td>NaN</td>\n      <td>NaN</td>\n      <td>0</td>\n      <td>NaN</td>\n      <td>NaN</td>\n      <td>NaN</td>\n      <td>NaN</td>\n      <td>NaN</td>\n      <td>NaN</td>\n      <td>NaN</td>\n    </tr>\n    <tr>\n      <th>16</th>\n      <td>3410302337</td>\n      <td>34.0</td>\n      <td>103.0</td>\n      <td>2337.0</td>\n      <td>0.0</td>\n      <td>11.0</td>\n      <td>7.0</td>\n      <td>10-3-2018</td>\n      <td>14:50</td>\n      <td>107069</td>\n      <td>...</td>\n      <td>NaN</td>\n      <td>NaN</td>\n      <td>0</td>\n      <td>NaN</td>\n      <td>NaN</td>\n      <td>NaN</td>\n      <td>NaN</td>\n      <td>NaN</td>\n      <td>NaN</td>\n      <td>NaN</td>\n    </tr>\n    <tr>\n      <th>38</th>\n      <td>3410302341</td>\n      <td>34.0</td>\n      <td>103.0</td>\n      <td>2341.0</td>\n      <td>1.0</td>\n      <td>12.0</td>\n      <td>0.0</td>\n      <td>9-3-2018</td>\n      <td>10:00</td>\n      <td>101555</td>\n      <td>...</td>\n      <td>NaN</td>\n      <td>NaN</td>\n      <td>0</td>\n      <td>NaN</td>\n      <td>NaN</td>\n      <td>NaN</td>\n      <td>NaN</td>\n      <td>NaN</td>\n      <td>NaN</td>\n      <td>NaN</td>\n    </tr>\n    <tr>\n      <th>45</th>\n      <td>3410302341</td>\n      <td>34.0</td>\n      <td>103.0</td>\n      <td>2341.0</td>\n      <td>1.0</td>\n      <td>12.0</td>\n      <td>0.0</td>\n      <td>9-3-2018</td>\n      <td>12:26</td>\n      <td>102431</td>\n      <td>...</td>\n      <td>NaN</td>\n      <td>NaN</td>\n      <td>0</td>\n      <td>NaN</td>\n      <td>NaN</td>\n      <td>NaN</td>\n      <td>NaN</td>\n      <td>NaN</td>\n      <td>NaN</td>\n      <td>NaN</td>\n    </tr>\n  </tbody>\n</table>\n<p>5 rows × 30 columns</p>\n</div>"
     },
     "execution_count": 2,
     "metadata": {},
     "output_type": "execute_result"
    }
   ],
   "source": [
    "# peer-nomination data\n",
    "nom_data = '../data/W5_Sociometric_long.csv'\n",
    "df_nom = pd.read_csv(nom_data, sep=';', header=0)\n",
    "\n",
    "# online communication data\n",
    "primary_school = '../data/Buzz_W5_primary-schools.csv'\n",
    "secondary_school = '../data/Buzz_W5_secondary-schools.csv'\n",
    "\n",
    "df_com = pd.read_csv(primary_school, sep=';', header=0, encoding='latin-1')\n",
    "df_com = df_com.append(pd.read_csv(secondary_school, sep=';', header=0, encoding='latin-1'))\n",
    "df_com = df_com[df_com.Type=='my'] # only select text messages\n",
    "\n",
    "df_com.head()\n"
   ],
   "metadata": {
    "collapsed": false,
    "pycharm": {
     "name": "#%%\n"
    }
   }
  },
  {
   "cell_type": "code",
   "execution_count": 4,
   "outputs": [
    {
     "data": {
      "text/plain": "    Class  NumChildren\n0      73            1\n1      74            1\n2      78           18\n3      81           19\n4      82            8\n5      86            5\n6     100           19\n7     103           11\n8     124           17\n9     125           16\n10    131            9\n11    133           10\n12    134            7\n13    135           12\n14    141            8\n15    250            7\n16    251           12\n17    256           22\n18    258           16\n19    259           14\n20    261           17\n21    262           15\n22    263           20\n23    272           24\n24    273           24\n25    277           10\n26    279            9\n27    290           13\n28    291           13\n29    292           21\n30    296           17\n31    297           16\n32    298           21\n33    299           19\n34    300           19\n35    301           24\n36    302           19\n37    303           25\n38    304            5\n39    305            5\n40    306            8\n41    307           12\n42    308           14\n43    310           12",
      "text/html": "<div>\n<style scoped>\n    .dataframe tbody tr th:only-of-type {\n        vertical-align: middle;\n    }\n\n    .dataframe tbody tr th {\n        vertical-align: top;\n    }\n\n    .dataframe thead th {\n        text-align: right;\n    }\n</style>\n<table border=\"1\" class=\"dataframe\">\n  <thead>\n    <tr style=\"text-align: right;\">\n      <th></th>\n      <th>Class</th>\n      <th>NumChildren</th>\n    </tr>\n  </thead>\n  <tbody>\n    <tr>\n      <th>0</th>\n      <td>73</td>\n      <td>1</td>\n    </tr>\n    <tr>\n      <th>1</th>\n      <td>74</td>\n      <td>1</td>\n    </tr>\n    <tr>\n      <th>2</th>\n      <td>78</td>\n      <td>18</td>\n    </tr>\n    <tr>\n      <th>3</th>\n      <td>81</td>\n      <td>19</td>\n    </tr>\n    <tr>\n      <th>4</th>\n      <td>82</td>\n      <td>8</td>\n    </tr>\n    <tr>\n      <th>5</th>\n      <td>86</td>\n      <td>5</td>\n    </tr>\n    <tr>\n      <th>6</th>\n      <td>100</td>\n      <td>19</td>\n    </tr>\n    <tr>\n      <th>7</th>\n      <td>103</td>\n      <td>11</td>\n    </tr>\n    <tr>\n      <th>8</th>\n      <td>124</td>\n      <td>17</td>\n    </tr>\n    <tr>\n      <th>9</th>\n      <td>125</td>\n      <td>16</td>\n    </tr>\n    <tr>\n      <th>10</th>\n      <td>131</td>\n      <td>9</td>\n    </tr>\n    <tr>\n      <th>11</th>\n      <td>133</td>\n      <td>10</td>\n    </tr>\n    <tr>\n      <th>12</th>\n      <td>134</td>\n      <td>7</td>\n    </tr>\n    <tr>\n      <th>13</th>\n      <td>135</td>\n      <td>12</td>\n    </tr>\n    <tr>\n      <th>14</th>\n      <td>141</td>\n      <td>8</td>\n    </tr>\n    <tr>\n      <th>15</th>\n      <td>250</td>\n      <td>7</td>\n    </tr>\n    <tr>\n      <th>16</th>\n      <td>251</td>\n      <td>12</td>\n    </tr>\n    <tr>\n      <th>17</th>\n      <td>256</td>\n      <td>22</td>\n    </tr>\n    <tr>\n      <th>18</th>\n      <td>258</td>\n      <td>16</td>\n    </tr>\n    <tr>\n      <th>19</th>\n      <td>259</td>\n      <td>14</td>\n    </tr>\n    <tr>\n      <th>20</th>\n      <td>261</td>\n      <td>17</td>\n    </tr>\n    <tr>\n      <th>21</th>\n      <td>262</td>\n      <td>15</td>\n    </tr>\n    <tr>\n      <th>22</th>\n      <td>263</td>\n      <td>20</td>\n    </tr>\n    <tr>\n      <th>23</th>\n      <td>272</td>\n      <td>24</td>\n    </tr>\n    <tr>\n      <th>24</th>\n      <td>273</td>\n      <td>24</td>\n    </tr>\n    <tr>\n      <th>25</th>\n      <td>277</td>\n      <td>10</td>\n    </tr>\n    <tr>\n      <th>26</th>\n      <td>279</td>\n      <td>9</td>\n    </tr>\n    <tr>\n      <th>27</th>\n      <td>290</td>\n      <td>13</td>\n    </tr>\n    <tr>\n      <th>28</th>\n      <td>291</td>\n      <td>13</td>\n    </tr>\n    <tr>\n      <th>29</th>\n      <td>292</td>\n      <td>21</td>\n    </tr>\n    <tr>\n      <th>30</th>\n      <td>296</td>\n      <td>17</td>\n    </tr>\n    <tr>\n      <th>31</th>\n      <td>297</td>\n      <td>16</td>\n    </tr>\n    <tr>\n      <th>32</th>\n      <td>298</td>\n      <td>21</td>\n    </tr>\n    <tr>\n      <th>33</th>\n      <td>299</td>\n      <td>19</td>\n    </tr>\n    <tr>\n      <th>34</th>\n      <td>300</td>\n      <td>19</td>\n    </tr>\n    <tr>\n      <th>35</th>\n      <td>301</td>\n      <td>24</td>\n    </tr>\n    <tr>\n      <th>36</th>\n      <td>302</td>\n      <td>19</td>\n    </tr>\n    <tr>\n      <th>37</th>\n      <td>303</td>\n      <td>25</td>\n    </tr>\n    <tr>\n      <th>38</th>\n      <td>304</td>\n      <td>5</td>\n    </tr>\n    <tr>\n      <th>39</th>\n      <td>305</td>\n      <td>5</td>\n    </tr>\n    <tr>\n      <th>40</th>\n      <td>306</td>\n      <td>8</td>\n    </tr>\n    <tr>\n      <th>41</th>\n      <td>307</td>\n      <td>12</td>\n    </tr>\n    <tr>\n      <th>42</th>\n      <td>308</td>\n      <td>14</td>\n    </tr>\n    <tr>\n      <th>43</th>\n      <td>310</td>\n      <td>12</td>\n    </tr>\n  </tbody>\n</table>\n</div>"
     },
     "execution_count": 4,
     "metadata": {},
     "output_type": "execute_result"
    }
   ],
   "source": [
    "# select participants found in both datasets\n",
    "\n",
    "participants_nom = df_nom['Child'].unique()\n",
    "participants_com = df_com['Child'].unique()\n",
    "\n",
    "lst_nom = []\n",
    "lst_com = []\n",
    "for int in participants_nom:\n",
    "    if (participants_com.__contains__(int)):\n",
    "        lst_nom.append(df_nom[df_nom['Child'] == int])\n",
    "        lst_com.append(df_com[df_com['Child'] == int])\n",
    "\n",
    "df_nom2 = pd.concat(lst_nom)\n",
    "df_com2 = pd.concat(lst_com)\n",
    "\n",
    "# Numbers of participants per class\n",
    "df_com_child_class = df_com2.groupby('Class')['Child'].nunique().reset_index(name=\"NumChildren\")\n",
    "df_nom_child_class = df_nom2.groupby('Class')['Child'].nunique().reset_index(name=\"NumChildren\")"
   ],
   "metadata": {
    "collapsed": false,
    "pycharm": {
     "name": "#%%\n"
    }
   }
  },
  {
   "cell_type": "code",
   "execution_count": 5,
   "outputs": [
    {
     "data": {
      "text/plain": "       School  Class  Child  Gender  Age  PI  Wave        Variable  Alter\n233        29     81   1605       1   14   0     5      GEN_Advice   1606\n234        29     81   1605       1   14   0     5      GEN_Advice   1616\n235        29     81   1605       1   14   0     5      GEN_Advice   1617\n236        29     81   1605       1   14   0     5      GEN_Advice   1628\n237        29     81   1605       1   14   0     5      GEN_Leader   1606\n...       ...    ...    ...     ...  ...  ..   ...             ...    ...\n16157      58    303   6090       0   11   0     5  PA_Com_Network   6068\n16158      58    303   6090       0   11   0     5  PA_Com_Network   6075\n16159      58    303   6090       0   11   0     5  PA_Com_Network   6077\n16160      58    303   6090       0   11   0     5  PA_Com_Network   6084\n16161      58    303   6090       0   11   0     5  PA_Com_Network   6085\n\n[10109 rows x 9 columns]",
      "text/html": "<div>\n<style scoped>\n    .dataframe tbody tr th:only-of-type {\n        vertical-align: middle;\n    }\n\n    .dataframe tbody tr th {\n        vertical-align: top;\n    }\n\n    .dataframe thead th {\n        text-align: right;\n    }\n</style>\n<table border=\"1\" class=\"dataframe\">\n  <thead>\n    <tr style=\"text-align: right;\">\n      <th></th>\n      <th>School</th>\n      <th>Class</th>\n      <th>Child</th>\n      <th>Gender</th>\n      <th>Age</th>\n      <th>PI</th>\n      <th>Wave</th>\n      <th>Variable</th>\n      <th>Alter</th>\n    </tr>\n  </thead>\n  <tbody>\n    <tr>\n      <th>233</th>\n      <td>29</td>\n      <td>81</td>\n      <td>1605</td>\n      <td>1</td>\n      <td>14</td>\n      <td>0</td>\n      <td>5</td>\n      <td>GEN_Advice</td>\n      <td>1606</td>\n    </tr>\n    <tr>\n      <th>234</th>\n      <td>29</td>\n      <td>81</td>\n      <td>1605</td>\n      <td>1</td>\n      <td>14</td>\n      <td>0</td>\n      <td>5</td>\n      <td>GEN_Advice</td>\n      <td>1616</td>\n    </tr>\n    <tr>\n      <th>235</th>\n      <td>29</td>\n      <td>81</td>\n      <td>1605</td>\n      <td>1</td>\n      <td>14</td>\n      <td>0</td>\n      <td>5</td>\n      <td>GEN_Advice</td>\n      <td>1617</td>\n    </tr>\n    <tr>\n      <th>236</th>\n      <td>29</td>\n      <td>81</td>\n      <td>1605</td>\n      <td>1</td>\n      <td>14</td>\n      <td>0</td>\n      <td>5</td>\n      <td>GEN_Advice</td>\n      <td>1628</td>\n    </tr>\n    <tr>\n      <th>237</th>\n      <td>29</td>\n      <td>81</td>\n      <td>1605</td>\n      <td>1</td>\n      <td>14</td>\n      <td>0</td>\n      <td>5</td>\n      <td>GEN_Leader</td>\n      <td>1606</td>\n    </tr>\n    <tr>\n      <th>...</th>\n      <td>...</td>\n      <td>...</td>\n      <td>...</td>\n      <td>...</td>\n      <td>...</td>\n      <td>...</td>\n      <td>...</td>\n      <td>...</td>\n      <td>...</td>\n    </tr>\n    <tr>\n      <th>16157</th>\n      <td>58</td>\n      <td>303</td>\n      <td>6090</td>\n      <td>0</td>\n      <td>11</td>\n      <td>0</td>\n      <td>5</td>\n      <td>PA_Com_Network</td>\n      <td>6068</td>\n    </tr>\n    <tr>\n      <th>16158</th>\n      <td>58</td>\n      <td>303</td>\n      <td>6090</td>\n      <td>0</td>\n      <td>11</td>\n      <td>0</td>\n      <td>5</td>\n      <td>PA_Com_Network</td>\n      <td>6075</td>\n    </tr>\n    <tr>\n      <th>16159</th>\n      <td>58</td>\n      <td>303</td>\n      <td>6090</td>\n      <td>0</td>\n      <td>11</td>\n      <td>0</td>\n      <td>5</td>\n      <td>PA_Com_Network</td>\n      <td>6077</td>\n    </tr>\n    <tr>\n      <th>16160</th>\n      <td>58</td>\n      <td>303</td>\n      <td>6090</td>\n      <td>0</td>\n      <td>11</td>\n      <td>0</td>\n      <td>5</td>\n      <td>PA_Com_Network</td>\n      <td>6084</td>\n    </tr>\n    <tr>\n      <th>16161</th>\n      <td>58</td>\n      <td>303</td>\n      <td>6090</td>\n      <td>0</td>\n      <td>11</td>\n      <td>0</td>\n      <td>5</td>\n      <td>PA_Com_Network</td>\n      <td>6085</td>\n    </tr>\n  </tbody>\n</table>\n<p>10109 rows × 9 columns</p>\n</div>"
     },
     "execution_count": 5,
     "metadata": {},
     "output_type": "execute_result"
    }
   ],
   "source": [
    "# Select classes >15 participants\n",
    "selected_classes = df_com_child_class[df_com_child_class['NumChildren'] > 14]['Class']\n",
    "#df_nom_child_class[df_nom_child_class['NumChildren'] > 14]\n",
    "\n",
    "df_nom3 = df_nom2[df_nom2.Class.isin(selected_classes)]\n",
    "df_com3 = df_com2[df_com2.Class.isin(selected_classes)]\n",
    "\n",
    "selection_participants = df_nom3['Child'].unique()\n",
    "\n",
    "# to dictionary\n",
    "data = { 'participants' : np.ndarray.tolist(selection_participants)}\n",
    "\n",
    "# save as json in input folder\n",
    "with open('../input/participants.json', 'w') as outfile:\n",
    "    json.dump(data, outfile)\n"
   ],
   "metadata": {
    "collapsed": false,
    "pycharm": {
     "name": "#%%\n"
    }
   }
  },
  {
   "cell_type": "code",
   "execution_count": 9,
   "outputs": [
    {
     "data": {
      "text/plain": "Class          5041\nNumChildren     408\ndtype: int64"
     },
     "execution_count": 9,
     "metadata": {},
     "output_type": "execute_result"
    }
   ],
   "source": [
    "df_com3.groupby('Class')['Child'].nunique().reset_index(name=\"NumChildren\").sum()\n",
    "df_nom3.groupby('Class')['Child'].nunique().reset_index(name=\"NumChildren\").sum()\n"
   ],
   "metadata": {
    "collapsed": false,
    "pycharm": {
     "name": "#%%\n"
    }
   }
  },
  {
   "cell_type": "code",
   "execution_count": 21,
   "outputs": [
    {
     "data": {
      "text/plain": "    Class  NumChildren\n0    73.0            1\n1    74.0            1\n2    78.0           18\n3    81.0           19\n4    82.0            8\n5    86.0            5\n6   100.0           19\n7   103.0           11\n8   124.0           17\n9   125.0           16\n10  131.0            9\n11  133.0           10\n12  134.0            7\n13  135.0           12\n14  141.0            8\n15  250.0            7\n16  251.0           12\n17  256.0           22\n18  258.0           16\n19  259.0           14\n20  261.0           17\n21  262.0           15\n22  263.0           20\n23  272.0           24\n24  273.0           24\n25  277.0           10\n26  279.0            9\n27  290.0           13\n28  291.0           13\n29  292.0           21\n30  296.0           17\n31  297.0           16\n32  298.0           21\n33  299.0           19\n34  300.0           19\n35  301.0           24\n36  302.0           19\n37  303.0           25\n38  304.0            5\n39  305.0            5\n40  306.0            8\n41  307.0           12\n42  308.0           14\n43  310.0           12",
      "text/html": "<div>\n<style scoped>\n    .dataframe tbody tr th:only-of-type {\n        vertical-align: middle;\n    }\n\n    .dataframe tbody tr th {\n        vertical-align: top;\n    }\n\n    .dataframe thead th {\n        text-align: right;\n    }\n</style>\n<table border=\"1\" class=\"dataframe\">\n  <thead>\n    <tr style=\"text-align: right;\">\n      <th></th>\n      <th>Class</th>\n      <th>NumChildren</th>\n    </tr>\n  </thead>\n  <tbody>\n    <tr>\n      <th>0</th>\n      <td>73.0</td>\n      <td>1</td>\n    </tr>\n    <tr>\n      <th>1</th>\n      <td>74.0</td>\n      <td>1</td>\n    </tr>\n    <tr>\n      <th>2</th>\n      <td>78.0</td>\n      <td>18</td>\n    </tr>\n    <tr>\n      <th>3</th>\n      <td>81.0</td>\n      <td>19</td>\n    </tr>\n    <tr>\n      <th>4</th>\n      <td>82.0</td>\n      <td>8</td>\n    </tr>\n    <tr>\n      <th>5</th>\n      <td>86.0</td>\n      <td>5</td>\n    </tr>\n    <tr>\n      <th>6</th>\n      <td>100.0</td>\n      <td>19</td>\n    </tr>\n    <tr>\n      <th>7</th>\n      <td>103.0</td>\n      <td>11</td>\n    </tr>\n    <tr>\n      <th>8</th>\n      <td>124.0</td>\n      <td>17</td>\n    </tr>\n    <tr>\n      <th>9</th>\n      <td>125.0</td>\n      <td>16</td>\n    </tr>\n    <tr>\n      <th>10</th>\n      <td>131.0</td>\n      <td>9</td>\n    </tr>\n    <tr>\n      <th>11</th>\n      <td>133.0</td>\n      <td>10</td>\n    </tr>\n    <tr>\n      <th>12</th>\n      <td>134.0</td>\n      <td>7</td>\n    </tr>\n    <tr>\n      <th>13</th>\n      <td>135.0</td>\n      <td>12</td>\n    </tr>\n    <tr>\n      <th>14</th>\n      <td>141.0</td>\n      <td>8</td>\n    </tr>\n    <tr>\n      <th>15</th>\n      <td>250.0</td>\n      <td>7</td>\n    </tr>\n    <tr>\n      <th>16</th>\n      <td>251.0</td>\n      <td>12</td>\n    </tr>\n    <tr>\n      <th>17</th>\n      <td>256.0</td>\n      <td>22</td>\n    </tr>\n    <tr>\n      <th>18</th>\n      <td>258.0</td>\n      <td>16</td>\n    </tr>\n    <tr>\n      <th>19</th>\n      <td>259.0</td>\n      <td>14</td>\n    </tr>\n    <tr>\n      <th>20</th>\n      <td>261.0</td>\n      <td>17</td>\n    </tr>\n    <tr>\n      <th>21</th>\n      <td>262.0</td>\n      <td>15</td>\n    </tr>\n    <tr>\n      <th>22</th>\n      <td>263.0</td>\n      <td>20</td>\n    </tr>\n    <tr>\n      <th>23</th>\n      <td>272.0</td>\n      <td>24</td>\n    </tr>\n    <tr>\n      <th>24</th>\n      <td>273.0</td>\n      <td>24</td>\n    </tr>\n    <tr>\n      <th>25</th>\n      <td>277.0</td>\n      <td>10</td>\n    </tr>\n    <tr>\n      <th>26</th>\n      <td>279.0</td>\n      <td>9</td>\n    </tr>\n    <tr>\n      <th>27</th>\n      <td>290.0</td>\n      <td>13</td>\n    </tr>\n    <tr>\n      <th>28</th>\n      <td>291.0</td>\n      <td>13</td>\n    </tr>\n    <tr>\n      <th>29</th>\n      <td>292.0</td>\n      <td>21</td>\n    </tr>\n    <tr>\n      <th>30</th>\n      <td>296.0</td>\n      <td>17</td>\n    </tr>\n    <tr>\n      <th>31</th>\n      <td>297.0</td>\n      <td>16</td>\n    </tr>\n    <tr>\n      <th>32</th>\n      <td>298.0</td>\n      <td>21</td>\n    </tr>\n    <tr>\n      <th>33</th>\n      <td>299.0</td>\n      <td>19</td>\n    </tr>\n    <tr>\n      <th>34</th>\n      <td>300.0</td>\n      <td>19</td>\n    </tr>\n    <tr>\n      <th>35</th>\n      <td>301.0</td>\n      <td>24</td>\n    </tr>\n    <tr>\n      <th>36</th>\n      <td>302.0</td>\n      <td>19</td>\n    </tr>\n    <tr>\n      <th>37</th>\n      <td>303.0</td>\n      <td>25</td>\n    </tr>\n    <tr>\n      <th>38</th>\n      <td>304.0</td>\n      <td>5</td>\n    </tr>\n    <tr>\n      <th>39</th>\n      <td>305.0</td>\n      <td>5</td>\n    </tr>\n    <tr>\n      <th>40</th>\n      <td>306.0</td>\n      <td>8</td>\n    </tr>\n    <tr>\n      <th>41</th>\n      <td>307.0</td>\n      <td>12</td>\n    </tr>\n    <tr>\n      <th>42</th>\n      <td>308.0</td>\n      <td>14</td>\n    </tr>\n    <tr>\n      <th>43</th>\n      <td>310.0</td>\n      <td>12</td>\n    </tr>\n  </tbody>\n</table>\n</div>"
     },
     "execution_count": 21,
     "metadata": {},
     "output_type": "execute_result"
    }
   ],
   "source": [
    "df_com_child_class"
   ],
   "metadata": {
    "collapsed": false,
    "pycharm": {
     "name": "#%%\n"
    }
   }
  },
  {
   "cell_type": "code",
   "execution_count": 19,
   "outputs": [
    {
     "data": {
      "text/plain": "Text(0.5, 1.0, 'Histogram')"
     },
     "execution_count": 19,
     "metadata": {},
     "output_type": "execute_result"
    },
    {
     "data": {
      "text/plain": "<Figure size 432x288 with 1 Axes>",
      "image/png": "[encoded data removed]"
     },
     "metadata": {
      "needs_background": "light"
     },
     "output_type": "display_data"
    }
   ],
   "source": [
    "plt.hist(df_com_child_class['NumChildren'], bins=25, edgecolor='black')\n",
    "\n",
    "# Set labels and title\n",
    "plt.xlabel('Value')\n",
    "plt.ylabel('Frequency')\n",
    "plt.title('Histogram')"
   ],
   "metadata": {
    "collapsed": false,
    "pycharm": {
     "name": "#%%\n"
    }
   }
  },
  {
   "cell_type": "code",
   "execution_count": null,
   "outputs": [],
   "source": [],
   "metadata": {
    "collapsed": false,
    "pycharm": {
     "name": "#%%\n"
    }
   }
  }
 ],
 "metadata": {
  "kernelspec": {
   "display_name": "Python 3",
   "language": "python",
   "name": "python3"
  },
  "language_info": {
   "codemirror_mode": {
    "name": "ipython",
    "version": 2
   },
   "file_extension": ".py",
   "mimetype": "text/x-python",
   "name": "python",
   "nbconvert_exporter": "python",
   "pygments_lexer": "ipython2",
   "version": "2.7.6"
  }
 },
 "nbformat": 4,
 "nbformat_minor": 0
}